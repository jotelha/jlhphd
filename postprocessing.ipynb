{
 "cells": [
  {
   "cell_type": "markdown",
   "metadata": {},
   "source": [
    "# 1 SDS on AU 100 2x4x4 LAMMPS"
   ]
  },
  {
   "cell_type": "code",
   "execution_count": 1,
   "metadata": {},
   "outputs": [],
   "source": [
    "## preferred installation method for netcdf on NEMO locally:\n",
    "# module load mpi/openmpi/2.1-gnu-5.2\n",
    "# module load {...}\n",
    "# export CPPFLAGS=\"${CPPFLAGS} -I${MPI_INC_DIR}\"\n",
    "# export LDFLAGS=\"${LDFLAGS} -L${MPI_LIB_DIR}\"\n",
    "# pip install --user netCDF4\n",
    "\n",
    "## alternatively:\n",
    "# pip install --user --global-option=build_ext --global-option=\"-L${MPI_INC_DIR}\" netCDF4"
   ]
  },
  {
   "cell_type": "code",
   "execution_count": 2,
   "metadata": {},
   "outputs": [
    {
     "data": {
      "text/plain": [
       "{'load_extensions': {'chemview': True,\n",
       "  'jupyter-js-widgets/extension': True,\n",
       "  'jupyter-widget-chemview': True,\n",
       "  'jupyter-widget-chemview/extension': True,\n",
       "  'nglview-js-widgets/extension': True,\n",
       "  'ruler': True,\n",
       "  'ruler/main': True},\n",
       " 'ruler_column': [80]}"
      ]
     },
     "execution_count": 2,
     "metadata": {},
     "output_type": "execute_result"
    }
   ],
   "source": [
    "# recommended for display of 80 char ruler at RHS\n",
    "# does not work\n",
    "from notebook.services.config import ConfigManager\n",
    "ip = get_ipython()\n",
    "cm = ConfigManager(parent=ip)\n",
    "cm.update('notebook', {\"ruler_column\": [80]})"
   ]
  },
  {
   "cell_type": "code",
   "execution_count": 3,
   "metadata": {},
   "outputs": [
    {
     "data": {
      "application/json": {
       "cell": {
        "!": "OSMagics",
        "HTML": "Other",
        "SVG": "Other",
        "bash": "Other",
        "capture": "ExecutionMagics",
        "debug": "ExecutionMagics",
        "file": "Other",
        "html": "DisplayMagics",
        "javascript": "DisplayMagics",
        "js": "DisplayMagics",
        "latex": "DisplayMagics",
        "markdown": "DisplayMagics",
        "perl": "Other",
        "prun": "ExecutionMagics",
        "pypy": "Other",
        "python": "Other",
        "python2": "Other",
        "python3": "Other",
        "ruby": "Other",
        "script": "ScriptMagics",
        "sh": "Other",
        "svg": "DisplayMagics",
        "sx": "OSMagics",
        "system": "OSMagics",
        "time": "ExecutionMagics",
        "timeit": "ExecutionMagics",
        "writefile": "OSMagics"
       },
       "line": {
        "alias": "OSMagics",
        "alias_magic": "BasicMagics",
        "autocall": "AutoMagics",
        "automagic": "AutoMagics",
        "autosave": "KernelMagics",
        "bookmark": "OSMagics",
        "cat": "Other",
        "cd": "OSMagics",
        "clear": "KernelMagics",
        "colors": "BasicMagics",
        "config": "ConfigMagics",
        "connect_info": "KernelMagics",
        "cp": "Other",
        "debug": "ExecutionMagics",
        "dhist": "OSMagics",
        "dirs": "OSMagics",
        "doctest_mode": "BasicMagics",
        "ed": "Other",
        "edit": "KernelMagics",
        "env": "OSMagics",
        "gui": "BasicMagics",
        "hist": "Other",
        "history": "HistoryMagics",
        "killbgscripts": "ScriptMagics",
        "ldir": "Other",
        "less": "KernelMagics",
        "lf": "Other",
        "lk": "Other",
        "ll": "Other",
        "load": "CodeMagics",
        "load_ext": "ExtensionMagics",
        "loadpy": "CodeMagics",
        "logoff": "LoggingMagics",
        "logon": "LoggingMagics",
        "logstart": "LoggingMagics",
        "logstate": "LoggingMagics",
        "logstop": "LoggingMagics",
        "ls": "Other",
        "lsmagic": "BasicMagics",
        "lx": "Other",
        "macro": "ExecutionMagics",
        "magic": "BasicMagics",
        "man": "KernelMagics",
        "matplotlib": "PylabMagics",
        "mkdir": "Other",
        "more": "KernelMagics",
        "mv": "Other",
        "notebook": "BasicMagics",
        "page": "BasicMagics",
        "pastebin": "CodeMagics",
        "pdb": "ExecutionMagics",
        "pdef": "NamespaceMagics",
        "pdoc": "NamespaceMagics",
        "pfile": "NamespaceMagics",
        "pinfo": "NamespaceMagics",
        "pinfo2": "NamespaceMagics",
        "pip": "BasicMagics",
        "popd": "OSMagics",
        "pprint": "BasicMagics",
        "precision": "BasicMagics",
        "profile": "BasicMagics",
        "prun": "ExecutionMagics",
        "psearch": "NamespaceMagics",
        "psource": "NamespaceMagics",
        "pushd": "OSMagics",
        "pwd": "OSMagics",
        "pycat": "OSMagics",
        "pylab": "PylabMagics",
        "qtconsole": "KernelMagics",
        "quickref": "BasicMagics",
        "recall": "HistoryMagics",
        "rehashx": "OSMagics",
        "reload_ext": "ExtensionMagics",
        "rep": "Other",
        "rerun": "HistoryMagics",
        "reset": "NamespaceMagics",
        "reset_selective": "NamespaceMagics",
        "rm": "Other",
        "rmdir": "Other",
        "run": "ExecutionMagics",
        "save": "CodeMagics",
        "sc": "OSMagics",
        "set_env": "OSMagics",
        "store": "StoreMagics",
        "sx": "OSMagics",
        "system": "OSMagics",
        "tb": "ExecutionMagics",
        "time": "ExecutionMagics",
        "timeit": "ExecutionMagics",
        "unalias": "OSMagics",
        "unload_ext": "ExtensionMagics",
        "who": "NamespaceMagics",
        "who_ls": "NamespaceMagics",
        "whos": "NamespaceMagics",
        "xdel": "NamespaceMagics",
        "xmode": "BasicMagics"
       }
      },
      "text/plain": [
       "Available line magics:\n",
       "%alias  %alias_magic  %autocall  %automagic  %autosave  %bookmark  %cat  %cd  %clear  %colors  %config  %connect_info  %cp  %debug  %dhist  %dirs  %doctest_mode  %ed  %edit  %env  %gui  %hist  %history  %killbgscripts  %ldir  %less  %lf  %lk  %ll  %load  %load_ext  %loadpy  %logoff  %logon  %logstart  %logstate  %logstop  %ls  %lsmagic  %lx  %macro  %magic  %man  %matplotlib  %mkdir  %more  %mv  %notebook  %page  %pastebin  %pdb  %pdef  %pdoc  %pfile  %pinfo  %pinfo2  %popd  %pprint  %precision  %profile  %prun  %psearch  %psource  %pushd  %pwd  %pycat  %pylab  %qtconsole  %quickref  %recall  %rehashx  %reload_ext  %rep  %rerun  %reset  %reset_selective  %rm  %rmdir  %run  %save  %sc  %set_env  %store  %sx  %system  %tb  %time  %timeit  %unalias  %unload_ext  %who  %who_ls  %whos  %xdel  %xmode\n",
       "\n",
       "Available cell magics:\n",
       "%%!  %%HTML  %%SVG  %%bash  %%capture  %%debug  %%file  %%html  %%javascript  %%js  %%latex  %%markdown  %%perl  %%prun  %%pypy  %%python  %%python2  %%python3  %%ruby  %%script  %%sh  %%svg  %%sx  %%system  %%time  %%timeit  %%writefile\n",
       "\n",
       "Automagic is ON, % prefix IS NOT needed for line magics."
      ]
     },
     "execution_count": 3,
     "metadata": {},
     "output_type": "execute_result"
    }
   ],
   "source": [
    "%lsmagic # notebook commands"
   ]
  },
  {
   "cell_type": "code",
   "execution_count": 4,
   "metadata": {},
   "outputs": [
    {
     "data": {
      "text/plain": [
       "{'BASH_FUNC_module()': '() {  eval $(/opt/bwhpc/common/admin/modules/module-wrapper/modulecmd bash $*)\\n}',\n",
       " 'CC': 'gcc',\n",
       " 'CFLAGS': '-O3 -fPIC',\n",
       " 'CLICOLOR': '1',\n",
       " 'CMAKE_BIN_DIR': '/opt/bwhpc/common/devel/cmake/3.9.0/bin',\n",
       " 'CMAKE_DOC_DIR': '/opt/bwhpc/common/devel/cmake/3.9.0/doc',\n",
       " 'CMAKE_HOME': '/opt/bwhpc/common/devel/cmake/3.9.0',\n",
       " 'CMAKE_MAN_DIR': '/opt/bwhpc/common/devel/cmake/3.9.0/man',\n",
       " 'CMAKE_VERSION': '3.9.0',\n",
       " 'CPATH': '/work/ws/nemo/fr_lp1029-IMTEK_SIMULATION-0/local_modules/lammps/16Mar18-gnu-5.2-openmpi-2.1/include:/opt/bwhpc/common/compiler/intel/2017.7.259/compilers_and_libraries/linux/mkl/include',\n",
       " 'CPPFLAGS': '-I/work/ws/nemo/fr_lp1029-IMTEK_SIMULATION-0/local_modules/lammps/16Mar18-gnu-5.2-openmpi-2.1/include',\n",
       " 'CXX': 'g++',\n",
       " 'CXXFLAGS': '-O3 -fPIC',\n",
       " 'C_INCLUDE_PATH': '/work/ws/nemo/fr_lp1029-IMTEK_SIMULATION-0/local_modules/libxc/2.2.0/include',\n",
       " 'DISPLAY': 'localhost:21.0',\n",
       " 'ENV': '/work/ws/nemo/fr_lp1029-IMTEK_SIMULATION-0/local_Nov17',\n",
       " 'F77': 'gfortran',\n",
       " 'F90': 'gfortran',\n",
       " 'FC': 'gfortran',\n",
       " 'FCFLAGS': '-O3 -fPIC',\n",
       " 'FPATH': '/opt/bwhpc/common/compiler/intel/2017.7.259/compilers_and_libraries/linux/mkl/include',\n",
       " 'GIT_PAGER': 'cat',\n",
       " 'GMXBIN': '/work/ws/nemo/fr_lp1029-IMTEK_SIMULATION-0/local_modules/gromacs/2018.1-gnu-5.2/bin',\n",
       " 'GMXDATA': '/work/ws/nemo/fr_lp1029-IMTEK_SIMULATION-0/local_modules/gromacs/2018.1-gnu-5.2/share/gromacs',\n",
       " 'GMXLDLIB': '/work/ws/nemo/fr_lp1029-IMTEK_SIMULATION-0/local_modules/gromacs/2018.1-gnu-5.2/lib64',\n",
       " 'GMXLIB': '/home/fr/fr_fr/fr_jh1130/gromacs/2018.1/share/gromacs/top',\n",
       " 'GMXMAN': '/work/ws/nemo/fr_lp1029-IMTEK_SIMULATION-0/local_modules/gromacs/2018.1-gnu-5.2/share/man',\n",
       " 'GMX_WS': '/work/ws/nemo/fr_jh1130-201708-0/jobs/gmxlab',\n",
       " 'GNU_BIN_DIR': '/opt/bwhpc/common/compiler/gnu/5.2.0/bin',\n",
       " 'GNU_HOME': '/opt/bwhpc/common/compiler/gnu/5.2.0',\n",
       " 'GNU_LIB_DIR': '/opt/bwhpc/common/compiler/gnu/5.2.0/lib64',\n",
       " 'GNU_MAN_DIR': '/opt/bwhpc/common/compiler/gnu/5.2.0/man',\n",
       " 'GNU_VERSION': '5.2.0',\n",
       " 'GPAW_PYTHON': '/work/ws/nemo/fr_lp1029-IMTEK_SIMULATION-0/local_modules/gpaw/1.3.0/bin/gpaw-python',\n",
       " 'GPAW_SETUP_PATH': '/work/ws/nemo/fr_lp1029-IMTEK_SIMULATION-0/local_modules/gpaw-setups/gpaw-setups-0.9.11271',\n",
       " 'GROMACS_BIN_DIR': '/work/ws/nemo/fr_lp1029-IMTEK_SIMULATION-0/local_modules/gromacs/2018.1-gnu-5.2/bin',\n",
       " 'GROMACS_HOME': '/work/ws/nemo/fr_lp1029-IMTEK_SIMULATION-0/local_modules/gromacs/2018.1-gnu-5.2',\n",
       " 'GROMACS_LIB_DIR': '/work/ws/nemo/fr_lp1029-IMTEK_SIMULATION-0/local_modules/gromacs/2018.1-gnu-5.2/lib64',\n",
       " 'GROMACS_MAN_DIR': '/work/ws/nemo/fr_lp1029-IMTEK_SIMULATION-0/local_modules/gromacs/2018.1-gnu-5.2/share/man',\n",
       " 'GROMACS_VERSION': '2018.1',\n",
       " 'GROUP_WS': '/work/ws/nemo/fr_lp1029-IMTEK_SIMULATION-0',\n",
       " 'HISTCONTROL': 'ignoredups',\n",
       " 'HISTSIZE': '1000',\n",
       " 'HOME': '/home/fr/fr_fr/fr_jh1130',\n",
       " 'HOSTNAME': 'login1.nemo.privat',\n",
       " 'HWLOC_HIDE_ERRORS': '1',\n",
       " 'INCLUDE': '/opt/bwhpc/common/compiler/intel/2017.7.259/compilers_and_libraries/linux/mkl/include:/opt/bwhpc/common/compiler/intel/2017.7.259/compilers_and_libraries/linux/mkl/include/intel64/lp64',\n",
       " 'INTEL_LICENSE_FILE': '/opt/bwhpc/common/compiler/intel/2017.7.259/licenses',\n",
       " 'JPY_PARENT_PID': '5611',\n",
       " 'LANG': 'en_US.UTF-8',\n",
       " 'LANGUAGE_TERRITORY': 'en_US',\n",
       " 'LC_ADDRESS': 'de_DE.UTF-8',\n",
       " 'LC_IDENTIFICATION': 'de_DE.UTF-8',\n",
       " 'LC_MEASUREMENT': 'de_DE.UTF-8',\n",
       " 'LC_MONETARY': 'de_DE.UTF-8',\n",
       " 'LC_NAME': 'de_DE.UTF-8',\n",
       " 'LC_NUMERIC': 'de_DE.UTF-8',\n",
       " 'LC_PAPER': 'de_DE.UTF-8',\n",
       " 'LC_TELEPHONE': 'de_DE.UTF-8',\n",
       " 'LC_TIME': 'de_DE.UTF-8',\n",
       " 'LDFLAGS': '-L/work/ws/nemo/fr_lp1029-IMTEK_SIMULATION-0/local_modules/lammps/16Mar18-gnu-5.2-openmpi-2.1/lib',\n",
       " 'LD_INCLUDE_PATH': '/work/ws/nemo/fr_lp1029-IMTEK_SIMULATION-0/local_modules/lammps/16Mar18-gnu-5.2-openmpi-2.1/include',\n",
       " 'LD_LIBRARY_PATH': '/work/ws/nemo/fr_lp1029-IMTEK_SIMULATION-0/local_modules/lammps/16Mar18-gnu-5.2-openmpi-2.1/lib:/opt/bwhpc/common/mpi/openmpi/2.1.3-gnu-5.2/lib:/work/ws/nemo/fr_lp1029-IMTEK_SIMULATION-0/local_modules/gromacs/2018.1-gnu-5.2/lib64:/opt/bwhpc/common/compiler/intel/2017.7.259/lib/intel64:/opt/bwhpc/common/compiler/intel/2017.7.259/compilers_and_libraries/linux/mkl/lib/intel64:/opt/bwhpc/common/compiler/gnu/5.2.0/lib64:/work/ws/nemo/fr_lp1029-IMTEK_SIMULATION-0/local_modules/libxc/2.2.0/lib:/opt/bwhpc/common/devel/python/3.6.3.20171114/lib',\n",
       " 'LESSOPEN': '||/usr/bin/lesspipe.sh %s',\n",
       " 'LIBRARY_PATH': '/work/ws/nemo/fr_lp1029-IMTEK_SIMULATION-0/local_modules/lammps/16Mar18-gnu-5.2-openmpi-2.1/lib:/opt/bwhpc/common/compiler/intel/2017.7.259/lib/intel64:/opt/bwhpc/common/compiler/intel/2017.7.259/compilers_and_libraries/linux/mkl/lib/intel64:/work/ws/nemo/fr_lp1029-IMTEK_SIMULATION-0/local_modules/libxc/2.2.0/lib',\n",
       " 'LMPBIN': '/work/ws/nemo/fr_lp1029-IMTEK_SIMULATION-0/local_modules/lammps/16Mar18-gnu-5.2-openmpi-2.1/bin',\n",
       " 'LOADEDMODULES': 'devel/python/3.6.3:ase/3.15.0:libxc/2.2.0:gpaw-setups/0.9.11271:compiler/gnu/5.2:numlib/mkl/2017:gpaw/1.3.0:mpi/openmpi/2.1-gnu-5.2:gromacs/2018.1-gnu-5.2:devel/cmake/3.9:lammps/16Mar18-gnu-5.2-openmpi-2.1',\n",
       " 'LOGNAME': 'fr_jh1130',\n",
       " 'LS_COLORS': 'rs=0:di=01;34:ln=01;36:mh=00:pi=40;33:so=01;35:do=01;35:bd=40;33;01:cd=40;33;01:or=40;31;01:mi=01;05;37;41:su=37;41:sg=30;43:ca=30;41:tw=30;42:ow=34;42:st=37;44:ex=01;32:*.tar=01;31:*.tgz=01;31:*.arc=01;31:*.arj=01;31:*.taz=01;31:*.lha=01;31:*.lz4=01;31:*.lzh=01;31:*.lzma=01;31:*.tlz=01;31:*.txz=01;31:*.tzo=01;31:*.t7z=01;31:*.zip=01;31:*.z=01;31:*.Z=01;31:*.dz=01;31:*.gz=01;31:*.lrz=01;31:*.lz=01;31:*.lzo=01;31:*.xz=01;31:*.bz2=01;31:*.bz=01;31:*.tbz=01;31:*.tbz2=01;31:*.tz=01;31:*.deb=01;31:*.rpm=01;31:*.jar=01;31:*.war=01;31:*.ear=01;31:*.sar=01;31:*.rar=01;31:*.alz=01;31:*.ace=01;31:*.zoo=01;31:*.cpio=01;31:*.7z=01;31:*.rz=01;31:*.cab=01;31:*.jpg=01;35:*.jpeg=01;35:*.gif=01;35:*.bmp=01;35:*.pbm=01;35:*.pgm=01;35:*.ppm=01;35:*.tga=01;35:*.xbm=01;35:*.xpm=01;35:*.tif=01;35:*.tiff=01;35:*.png=01;35:*.svg=01;35:*.svgz=01;35:*.mng=01;35:*.pcx=01;35:*.mov=01;35:*.mpg=01;35:*.mpeg=01;35:*.m2v=01;35:*.mkv=01;35:*.webm=01;35:*.ogm=01;35:*.mp4=01;35:*.m4v=01;35:*.mp4v=01;35:*.vob=01;35:*.qt=01;35:*.nuv=01;35:*.wmv=01;35:*.asf=01;35:*.rm=01;35:*.rmvb=01;35:*.flc=01;35:*.avi=01;35:*.fli=01;35:*.flv=01;35:*.gl=01;35:*.dl=01;35:*.xcf=01;35:*.xwd=01;35:*.yuv=01;35:*.cgm=01;35:*.emf=01;35:*.axv=01;35:*.anx=01;35:*.ogv=01;35:*.ogx=01;35:*.aac=01;36:*.au=01;36:*.flac=01;36:*.mid=01;36:*.midi=01;36:*.mka=01;36:*.mp3=01;36:*.mpc=01;36:*.ogg=01;36:*.ra=01;36:*.wav=01;36:*.axa=01;36:*.oga=01;36:*.spx=01;36:*.xspf=01;36:',\n",
       " 'MAIL': '/var/spool/mail/fr_jh1130',\n",
       " 'MANPATH': '/opt/bwhpc/common/devel/cmake/3.9.0/man:/opt/bwhpc/common/mpi/openmpi/2.1.3-gnu-5.2/share/man:/work/ws/nemo/fr_lp1029-IMTEK_SIMULATION-0/local_modules/gromacs/2018.1-gnu-5.2/share/man:/opt/bwhpc/common/compiler/gnu/5.2.0/man:/opt/bwhpc/common/devel/python/3.6.3.20171114/share/man:/usr/share/man:/usr/local/share/man',\n",
       " 'MATHEMATICA_HOME': '/opt/bwhpc/fr/math/mathematica/10.0.1',\n",
       " 'MIC_LD_LIBRARY_PATH': '/opt/bwhpc/common/compiler/intel/2017.7.259/lib/intel64:/opt/bwhpc/common/compiler/intel/2017.7.259/compilers_and_libraries/linux/mkl/lib/intel64',\n",
       " 'MIC_LIBRARY_PATH': '/opt/bwhpc/common/compiler/intel/2017.7.259/lib/intel64:/opt/bwhpc/common/compiler/intel/2017.7.259/compilers_and_libraries/linux/mkl/lib/intel64',\n",
       " 'MKLROOT': '/opt/bwhpc/common/compiler/intel/2017.7.259/compilers_and_libraries/linux/mkl',\n",
       " 'MKL_BIN_DIR': '/opt/bwhpc/common/compiler/intel/2017.7.259/compilers_and_libraries/linux/mkl/bin',\n",
       " 'MKL_DOC_DIR': '/opt/bwhpc/common/compiler/intel/2017.7.259/documentation_2017/en/mkl',\n",
       " 'MKL_EXA_DIR': '/opt/bwhpc/common/compiler/intel/2017.7.259/samples_2017/en',\n",
       " 'MKL_HOME': '/opt/bwhpc/common/compiler/intel/2017.7.259/compilers_and_libraries/linux/mkl',\n",
       " 'MKL_INC_DIR': '/opt/bwhpc/common/compiler/intel/2017.7.259/compilers_and_libraries/linux/mkl/include',\n",
       " 'MKL_LIB_COM': '/opt/bwhpc/common/compiler/intel/2017.7.259/lib/intel64',\n",
       " 'MKL_LIB_DIR': '/opt/bwhpc/common/compiler/intel/2017.7.259/compilers_and_libraries/linux/mkl/lib/intel64',\n",
       " 'MKL_VERSION': '2017.4.239',\n",
       " 'MOABHOMEDIR': '/opt/moab',\n",
       " 'MODULEPATH': '/home/fr/fr_fr/fr_jh1130/modulefiles:/work/ws/nemo/fr_lp1029-IMTEK_SIMULATION-0/modulefiles:/opt/bwhpc/modulefiles/applications/info:/opt/bwhpc/modulefiles/applications/fr:/opt/bwhpc/modulefiles/applications/common:/opt/bwhpc/modulefiles/libraries/info:/opt/bwhpc/modulefiles/libraries/fr:/opt/bwhpc/modulefiles/libraries/common:/opt/bwhpc/modulefiles/development/info:/opt/bwhpc/modulefiles/development/fr:/opt/bwhpc/modulefiles/development/common:/opt/bwhpc/modulefiles/obsolete/info:/opt/bwhpc/modulefiles/obsolete/fr:/opt/bwhpc/modulefiles/obsolete/common',\n",
       " 'MODULERCFILE': '/opt/bwhpc/common/etc/modulerc',\n",
       " 'MODULESHOME': '/usr/share/Modules',\n",
       " 'MPIDIR': '/opt/bwhpc/common/mpi/openmpi/2.1.3-gnu-5.2',\n",
       " 'MPI_BIN_DIR': '/opt/bwhpc/common/mpi/openmpi/2.1.3-gnu-5.2/bin',\n",
       " 'MPI_EXA_DIR': '/opt/bwhpc/common/mpi/openmpi/2.1.3-gnu-5.2/examples',\n",
       " 'MPI_HOME': '/opt/bwhpc/common/mpi/openmpi/2.1.3-gnu-5.2',\n",
       " 'MPI_INC_DIR': '/opt/bwhpc/common/mpi/openmpi/2.1.3-gnu-5.2/include',\n",
       " 'MPI_LIB_DIR': '/opt/bwhpc/common/mpi/openmpi/2.1.3-gnu-5.2/lib',\n",
       " 'MPI_MAN_DIR': '/opt/bwhpc/common/mpi/openmpi/2.1.3-gnu-5.2/share/man',\n",
       " 'MPI_VERSION': '2.1.3-gnu-5.2',\n",
       " 'MPLBACKEND': 'module://ipykernel.pylab.backend_inline',\n",
       " 'NLSPATH': '/opt/bwhpc/common/compiler/intel/2017.7.259/compilers_and_libraries/linux/mkl/lib/intel64/locale/%l_%t/%N',\n",
       " 'PAGER': 'cat',\n",
       " 'PATH': '/opt/bwhpc/common/devel/python/3.6.3.20171114/bin:/work/ws/nemo/fr_lp1029-IMTEK_SIMULATION-0/local_modules/lammps/16Mar18-gnu-5.2-openmpi-2.1/bin:/opt/bwhpc/common/devel/cmake/3.9.0/bin:/opt/bwhpc/common/mpi/openmpi/2.1.3-gnu-5.2/bin:/work/ws/nemo/fr_lp1029-IMTEK_SIMULATION-0/local_modules/gromacs/2018.1-gnu-5.2/bin:/work/ws/nemo/fr_lp1029-IMTEK_SIMULATION-0/local_modules/gpaw/1.3.0/bin:/opt/bwhpc/common/compiler/intel/2017.7.259/compilers_and_libraries/linux/mkl/bin:/opt/bwhpc/common/compiler/gnu/5.2.0/bin:/work/ws/nemo/fr_lp1029-IMTEK_SIMULATION-0/local_modules/ase/3.15.0/:/work/ws/nemo/fr_lp1029-IMTEK_SIMULATION-0/local_modules/ase/3.15.0/bin:/opt/bwhpc/common/devel/python/3.6.3.20171114/bin:/home/fr/fr_fr/fr_jh1130/bin:/opt/VirtualGL/bin:/usr/lib64/qt-3.3/bin:/opt/moab/bin:/usr/local/bin:/usr/bin:/usr/local/sbin:/usr/sbin:/usr/local/bin',\n",
       " 'PERL5LIB': '/opt/moab/lib/perl5',\n",
       " 'PKG_CONFIG_PATH': '/work/ws/nemo/fr_lp1029-IMTEK_SIMULATION-0/local_modules/gromacs/2018.1-gnu-5.2/lib64/pkgconfig',\n",
       " 'PREFIX': '/work/ws/nemo/fr_lp1029-IMTEK_SIMULATION-0/local_modules/lammps/16Mar18-gnu-5.2-openmpi-2.1',\n",
       " 'PWD': '/work/ws/nemo/fr_jh1130-201708-0',\n",
       " 'PYTHONPATH': '/work/ws/nemo/fr_lp1029-IMTEK_SIMULATION-0/local_modules/lammps/16Mar18-gnu-5.2-openmpi-2.1/lib/python3.6/site-packages:/work/ws/nemo/fr_lp1029-IMTEK_SIMULATION-0/local_modules/gpaw/1.3.0/lib/python3.6/site-packages/:/work/ws/nemo/fr_lp1029-IMTEK_SIMULATION-0/local_modules/ase/3.15.0/lib/python3.6/site-packages:/opt/bwhpc/common/devel/python/3.6.3.20171114/lib/python3.6',\n",
       " 'QTDIR': '/usr/lib64/qt-3.3',\n",
       " 'QTINC': '/usr/lib64/qt-3.3/include',\n",
       " 'QTLIB': '/usr/lib64/qt-3.3/lib',\n",
       " 'QT_GRAPHICSSYSTEM_CHECKED': '1',\n",
       " 'SHELL': '/bin/bash',\n",
       " 'SHLVL': '2',\n",
       " 'SSH_CLIENT': '10.5.168.47 47568 22',\n",
       " 'SSH_CONNECTION': '10.5.168.47 47568 132.230.222.12 22',\n",
       " 'SSH_TTY': '/dev/pts/28',\n",
       " 'TERM': 'xterm-color',\n",
       " 'USER': 'fr_jh1130',\n",
       " 'WS': '/work/ws/nemo/fr_jh1130-201708-0',\n",
       " 'XDG_RUNTIME_DIR': '/run/user/901576',\n",
       " 'XDG_SESSION_ID': '22962',\n",
       " '_': '/opt/bwhpc/common/devel/python/3.6.3.20171114/bin/jupyter',\n",
       " '_LMFILES_': '/opt/bwhpc/modulefiles/development/common/devel/python/3.6.3:/work/ws/nemo/fr_lp1029-IMTEK_SIMULATION-0/modulefiles/ase/3.15.0:/work/ws/nemo/fr_lp1029-IMTEK_SIMULATION-0/modulefiles/libxc/2.2.0:/work/ws/nemo/fr_lp1029-IMTEK_SIMULATION-0/modulefiles/gpaw-setups/0.9.11271:/opt/bwhpc/modulefiles/development/common/compiler/gnu/5.2:/opt/bwhpc/modulefiles/libraries/common/numlib/mkl/2017:/work/ws/nemo/fr_lp1029-IMTEK_SIMULATION-0/modulefiles/gpaw/1.3.0:/opt/bwhpc/modulefiles/libraries/common/mpi/openmpi/2.1-gnu-5.2:/work/ws/nemo/fr_lp1029-IMTEK_SIMULATION-0/modulefiles/gromacs/2018.1-gnu-5.2:/opt/bwhpc/modulefiles/development/common/devel/cmake/3.9:/work/ws/nemo/fr_lp1029-IMTEK_SIMULATION-0/modulefiles/lammps/16Mar18-gnu-5.2-openmpi-2.1',\n",
       " 'python_BIN_DIR': '/opt/bwhpc/common/devel/python/3.6.3.20171114/bin',\n",
       " 'python_HOME': '/opt/bwhpc/common/devel/python/3.6.3.20171114',\n",
       " 'python_LDLIB_DIR': '/opt/bwhpc/common/devel/python/3.6.3.20171114/lib',\n",
       " 'python_LIB_DIR': '/opt/bwhpc/common/devel/python/3.6.3.20171114/lib',\n",
       " 'python_MAN_DIR': '/opt/bwhpc/common/devel/python/3.6.3.20171114/share/man',\n",
       " 'python_VERSION': '3.6.3'}"
      ]
     },
     "execution_count": 4,
     "metadata": {},
     "output_type": "execute_result"
    }
   ],
   "source": [
    "# list environment variables, like bash's 'printenv'\n",
    "%env"
   ]
  },
  {
   "cell_type": "code",
   "execution_count": 5,
   "metadata": {},
   "outputs": [],
   "source": [
    "%load_ext memory_profiler"
   ]
  },
  {
   "cell_type": "code",
   "execution_count": 6,
   "metadata": {},
   "outputs": [
    {
     "name": "stdout",
     "output_type": "stream",
     "text": [
      "/work/ws/nemo/fr_jh1130-201708-0/jobs/lmplab/sds/201806/1_SDS_on_AU_100_2x4x4_compact\n"
     ]
    }
   ],
   "source": [
    "# for some reason, nglview sometimes changes into some temporary directory\n",
    "# therefore ALWAY use absolute filenames and paths\n",
    "%cd /work/ws/nemo/fr_jh1130-201708-0/jobs/lmplab/sds/201806/1_SDS_on_AU_100_2x4x4_compact/"
   ]
  },
  {
   "cell_type": "code",
   "execution_count": 7,
   "metadata": {},
   "outputs": [],
   "source": [
    "import os"
   ]
  },
  {
   "cell_type": "code",
   "execution_count": 8,
   "metadata": {},
   "outputs": [],
   "source": [
    "absolute_prefix = os.getcwd()"
   ]
  },
  {
   "cell_type": "code",
   "execution_count": 9,
   "metadata": {},
   "outputs": [
    {
     "data": {
      "text/plain": [
       "'/'"
      ]
     },
     "execution_count": 9,
     "metadata": {},
     "output_type": "execute_result"
    }
   ],
   "source": [
    "os.sep"
   ]
  },
  {
   "cell_type": "code",
   "execution_count": 10,
   "metadata": {},
   "outputs": [],
   "source": [
    "import numpy as np\n",
    "import pandas as pd # \n",
    "import ase\n",
    "import ase.io\n",
    "from ase.io import NetCDFTrajectory\n",
    "from ase.io import read\n",
    "from ase.io import proteindatabank\n",
    "from ase.io.trajectory import Trajectory\n",
    "from ase.visualize import view\n",
    "import parmed as pmd\n",
    "import netCDF4\n",
    "import nglview as nv\n",
    "import matplotlib.pyplot as plt"
   ]
  },
  {
   "cell_type": "code",
   "execution_count": 11,
   "metadata": {},
   "outputs": [],
   "source": [
    "%matplotlib inline"
   ]
  },
  {
   "cell_type": "code",
   "execution_count": 12,
   "metadata": {},
   "outputs": [],
   "source": [
    "SMALL_SIZE = 12\n",
    "MEDIUM_SIZE = 14\n",
    "BIGGER_SIZE = 16\n",
    "\n",
    "plt.rc('font', size=SMALL_SIZE)          # controls default text sizes\n",
    "plt.rc('axes', titlesize=SMALL_SIZE)     # fontsize of the axes title\n",
    "plt.rc('axes', labelsize=MEDIUM_SIZE)    # fontsize of the x and y labels\n",
    "plt.rc('xtick', labelsize=SMALL_SIZE)    # fontsize of the tick labels\n",
    "plt.rc('ytick', labelsize=SMALL_SIZE)    # fontsize of the tick labels\n",
    "plt.rc('legend', fontsize=SMALL_SIZE)    # legend fontsize\n",
    "plt.rc('figure', titlesize=BIGGER_SIZE)  # fontsize of the figure titlex"
   ]
  },
  {
   "cell_type": "markdown",
   "metadata": {},
   "source": [
    "## Evaluation of text files with pandas"
   ]
  },
  {
   "cell_type": "code",
   "execution_count": 13,
   "metadata": {},
   "outputs": [],
   "source": [
    "dt = 2e-15 # 2 fs timestep"
   ]
  },
  {
   "cell_type": "markdown",
   "metadata": {},
   "source": [
    "### Minimization"
   ]
  },
  {
   "cell_type": "code",
   "execution_count": 17,
   "metadata": {},
   "outputs": [
    {
     "name": "stdout",
     "output_type": "stream",
     "text": [
      "02_minimization_thermo.out\r\n",
      "1_SDS_on_AU_100_2x4x4_charmmfsw_long_10_12_02_minimization.log\r\n"
     ]
    }
   ],
   "source": [
    "%ls *minimization*"
   ]
  },
  {
   "cell_type": "code",
   "execution_count": 19,
   "metadata": {},
   "outputs": [],
   "source": [
    "!./extract_thermo.sh 1_SDS_on_AU_100_2x4x4_charmmfsw_long_10_12_02_minimization.log 02_minimization_thermo.out"
   ]
  },
  {
   "cell_type": "code",
   "execution_count": 20,
   "metadata": {},
   "outputs": [],
   "source": [
    "minimization_thermo_file = absolute_prefix + os.sep + '02_minimization_thermo.out'"
   ]
  },
  {
   "cell_type": "code",
   "execution_count": 21,
   "metadata": {},
   "outputs": [],
   "source": [
    "minimization_thermo_pd = pd.read_csv(minimization_thermo_file,delim_whitespace=True)"
   ]
  },
  {
   "cell_type": "code",
   "execution_count": 22,
   "metadata": {},
   "outputs": [
    {
     "data": {
      "text/html": [
       "<div>\n",
       "<style scoped>\n",
       "    .dataframe tbody tr th:only-of-type {\n",
       "        vertical-align: middle;\n",
       "    }\n",
       "\n",
       "    .dataframe tbody tr th {\n",
       "        vertical-align: top;\n",
       "    }\n",
       "\n",
       "    .dataframe thead th {\n",
       "        text-align: right;\n",
       "    }\n",
       "</style>\n",
       "<table border=\"1\" class=\"dataframe\">\n",
       "  <thead>\n",
       "    <tr style=\"text-align: right;\">\n",
       "      <th></th>\n",
       "      <th>Step</th>\n",
       "      <th>TotEng</th>\n",
       "      <th>KinEng</th>\n",
       "      <th>PotEng</th>\n",
       "      <th>Temp</th>\n",
       "      <th>Press</th>\n",
       "      <th>Enthalpy</th>\n",
       "      <th>E_bond</th>\n",
       "      <th>E_angle</th>\n",
       "      <th>E_dihed</th>\n",
       "      <th>E_impro</th>\n",
       "      <th>E_pair</th>\n",
       "      <th>E_vdwl</th>\n",
       "      <th>E_coul</th>\n",
       "      <th>E_long</th>\n",
       "      <th>E_tail</th>\n",
       "      <th>Volume</th>\n",
       "    </tr>\n",
       "  </thead>\n",
       "  <tbody>\n",
       "    <tr>\n",
       "      <th>0</th>\n",
       "      <td>0</td>\n",
       "      <td>3.770287e+08</td>\n",
       "      <td>0</td>\n",
       "      <td>3.770287e+08</td>\n",
       "      <td>0</td>\n",
       "      <td>2.395925e+10</td>\n",
       "      <td>1.885539e+09</td>\n",
       "      <td>96.703191</td>\n",
       "      <td>56.902968</td>\n",
       "      <td>8.857120</td>\n",
       "      <td>0</td>\n",
       "      <td>3.770286e+08</td>\n",
       "      <td>3.770287e+08</td>\n",
       "      <td>2250.3375</td>\n",
       "      <td>-2413.1920</td>\n",
       "      <td>0</td>\n",
       "      <td>4317.1693</td>\n",
       "    </tr>\n",
       "    <tr>\n",
       "      <th>1</th>\n",
       "      <td>100</td>\n",
       "      <td>-5.045783e+03</td>\n",
       "      <td>0</td>\n",
       "      <td>-5.045783e+03</td>\n",
       "      <td>0</td>\n",
       "      <td>-1.134651e+04</td>\n",
       "      <td>-5.760176e+03</td>\n",
       "      <td>13.397292</td>\n",
       "      <td>31.297680</td>\n",
       "      <td>8.876319</td>\n",
       "      <td>0</td>\n",
       "      <td>-5.099354e+03</td>\n",
       "      <td>-4.527572e+03</td>\n",
       "      <td>1893.1743</td>\n",
       "      <td>-2464.9569</td>\n",
       "      <td>0</td>\n",
       "      <td>4317.1693</td>\n",
       "    </tr>\n",
       "    <tr>\n",
       "      <th>2</th>\n",
       "      <td>200</td>\n",
       "      <td>-5.189429e+03</td>\n",
       "      <td>0</td>\n",
       "      <td>-5.189429e+03</td>\n",
       "      <td>0</td>\n",
       "      <td>-1.274228e+04</td>\n",
       "      <td>-5.991702e+03</td>\n",
       "      <td>15.877384</td>\n",
       "      <td>31.217157</td>\n",
       "      <td>6.945026</td>\n",
       "      <td>0</td>\n",
       "      <td>-5.243468e+03</td>\n",
       "      <td>-4.578718e+03</td>\n",
       "      <td>1804.3447</td>\n",
       "      <td>-2469.0954</td>\n",
       "      <td>0</td>\n",
       "      <td>4317.1693</td>\n",
       "    </tr>\n",
       "    <tr>\n",
       "      <th>3</th>\n",
       "      <td>300</td>\n",
       "      <td>-5.244871e+03</td>\n",
       "      <td>0</td>\n",
       "      <td>-5.244871e+03</td>\n",
       "      <td>0</td>\n",
       "      <td>-1.415217e+04</td>\n",
       "      <td>-6.135912e+03</td>\n",
       "      <td>16.953074</td>\n",
       "      <td>31.466566</td>\n",
       "      <td>7.408251</td>\n",
       "      <td>0</td>\n",
       "      <td>-5.300699e+03</td>\n",
       "      <td>-4.610057e+03</td>\n",
       "      <td>1778.6583</td>\n",
       "      <td>-2469.2997</td>\n",
       "      <td>0</td>\n",
       "      <td>4317.1693</td>\n",
       "    </tr>\n",
       "    <tr>\n",
       "      <th>4</th>\n",
       "      <td>400</td>\n",
       "      <td>-5.262548e+03</td>\n",
       "      <td>0</td>\n",
       "      <td>-5.262548e+03</td>\n",
       "      <td>0</td>\n",
       "      <td>-1.072633e+04</td>\n",
       "      <td>-5.937894e+03</td>\n",
       "      <td>16.526531</td>\n",
       "      <td>32.658539</td>\n",
       "      <td>7.603287</td>\n",
       "      <td>0</td>\n",
       "      <td>-5.319336e+03</td>\n",
       "      <td>-4.629636e+03</td>\n",
       "      <td>1781.6145</td>\n",
       "      <td>-2471.3152</td>\n",
       "      <td>0</td>\n",
       "      <td>4317.1693</td>\n",
       "    </tr>\n",
       "    <tr>\n",
       "      <th>5</th>\n",
       "      <td>452</td>\n",
       "      <td>-5.267831e+03</td>\n",
       "      <td>0</td>\n",
       "      <td>-5.267831e+03</td>\n",
       "      <td>0</td>\n",
       "      <td>-1.162126e+04</td>\n",
       "      <td>-5.999523e+03</td>\n",
       "      <td>16.252848</td>\n",
       "      <td>31.906866</td>\n",
       "      <td>7.608327</td>\n",
       "      <td>0</td>\n",
       "      <td>-5.323599e+03</td>\n",
       "      <td>-4.631489e+03</td>\n",
       "      <td>1779.3034</td>\n",
       "      <td>-2471.4132</td>\n",
       "      <td>0</td>\n",
       "      <td>4317.1693</td>\n",
       "    </tr>\n",
       "  </tbody>\n",
       "</table>\n",
       "</div>"
      ],
      "text/plain": [
       "   Step        TotEng  KinEng        PotEng  Temp         Press      Enthalpy  \\\n",
       "0     0  3.770287e+08       0  3.770287e+08     0  2.395925e+10  1.885539e+09   \n",
       "1   100 -5.045783e+03       0 -5.045783e+03     0 -1.134651e+04 -5.760176e+03   \n",
       "2   200 -5.189429e+03       0 -5.189429e+03     0 -1.274228e+04 -5.991702e+03   \n",
       "3   300 -5.244871e+03       0 -5.244871e+03     0 -1.415217e+04 -6.135912e+03   \n",
       "4   400 -5.262548e+03       0 -5.262548e+03     0 -1.072633e+04 -5.937894e+03   \n",
       "5   452 -5.267831e+03       0 -5.267831e+03     0 -1.162126e+04 -5.999523e+03   \n",
       "\n",
       "      E_bond    E_angle   E_dihed  E_impro        E_pair        E_vdwl  \\\n",
       "0  96.703191  56.902968  8.857120        0  3.770286e+08  3.770287e+08   \n",
       "1  13.397292  31.297680  8.876319        0 -5.099354e+03 -4.527572e+03   \n",
       "2  15.877384  31.217157  6.945026        0 -5.243468e+03 -4.578718e+03   \n",
       "3  16.953074  31.466566  7.408251        0 -5.300699e+03 -4.610057e+03   \n",
       "4  16.526531  32.658539  7.603287        0 -5.319336e+03 -4.629636e+03   \n",
       "5  16.252848  31.906866  7.608327        0 -5.323599e+03 -4.631489e+03   \n",
       "\n",
       "      E_coul     E_long  E_tail     Volume  \n",
       "0  2250.3375 -2413.1920       0  4317.1693  \n",
       "1  1893.1743 -2464.9569       0  4317.1693  \n",
       "2  1804.3447 -2469.0954       0  4317.1693  \n",
       "3  1778.6583 -2469.2997       0  4317.1693  \n",
       "4  1781.6145 -2471.3152       0  4317.1693  \n",
       "5  1779.3034 -2471.4132       0  4317.1693  "
      ]
     },
     "execution_count": 22,
     "metadata": {},
     "output_type": "execute_result"
    }
   ],
   "source": [
    "minimization_thermo_pd"
   ]
  },
  {
   "cell_type": "code",
   "execution_count": 23,
   "metadata": {},
   "outputs": [
    {
     "data": {
      "text/plain": [
       "<matplotlib.axes._subplots.AxesSubplot at 0x7fe5d9e50390>"
      ]
     },
     "execution_count": 23,
     "metadata": {},
     "output_type": "execute_result"
    },
    {
     "data": {
      "image/png": "[encoded data removed]",
      "text/plain": [
       "<matplotlib.figure.Figure at 0x7fe5d9ea5d68>"
      ]
     },
     "metadata": {},
     "output_type": "display_data"
    }
   ],
   "source": [
    "minimization_thermo_pd[[\"TotEng\"]][1:].plot() # units?"
   ]
  },
  {
   "cell_type": "code",
   "execution_count": 24,
   "metadata": {},
   "outputs": [
    {
     "data": {
      "text/plain": [
       "<matplotlib.axes._subplots.AxesSubplot at 0x7fe606adb080>"
      ]
     },
     "execution_count": 24,
     "metadata": {},
     "output_type": "execute_result"
    },
    {
     "data": {
      "image/png": "[encoded data removed]",
      "text/plain": [
       "<matplotlib.figure.Figure at 0x7fe5d9e9fba8>"
      ]
     },
     "metadata": {},
     "output_type": "display_data"
    }
   ],
   "source": [
    "# intramolecular energy contributions\n",
    "minimization_thermo_pd[[\"E_bond\",\"E_angle\",\"E_dihed\"]].plot() # units?"
   ]
  },
  {
   "cell_type": "code",
   "execution_count": 25,
   "metadata": {},
   "outputs": [],
   "source": [
    "# total intramolecular (\"bonded\") interactions:\n",
    "minimization_thermo_pd[\"E_intramolecular\"] = minimization_thermo_pd[[\"E_bond\",\"E_angle\",\"E_dihed\"]].sum(axis=1)"
   ]
  },
  {
   "cell_type": "code",
   "execution_count": 26,
   "metadata": {},
   "outputs": [
    {
     "data": {
      "text/plain": [
       "<matplotlib.axes._subplots.AxesSubplot at 0x7fe5d9ea16d8>"
      ]
     },
     "execution_count": 26,
     "metadata": {},
     "output_type": "execute_result"
    },
    {
     "data": {
      "image/png": "[encoded data removed]",
      "text/plain": [
       "<matplotlib.figure.Figure at 0x7fe5d9ecf9b0>"
      ]
     },
     "metadata": {},
     "output_type": "display_data"
    }
   ],
   "source": [
    "minimization_thermo_pd[[\"E_intramolecular\"]][1:].plot()"
   ]
  },
  {
   "cell_type": "code",
   "execution_count": 27,
   "metadata": {},
   "outputs": [
    {
     "data": {
      "text/plain": [
       "<matplotlib.axes._subplots.AxesSubplot at 0x7fe5d84fdc18>"
      ]
     },
     "execution_count": 27,
     "metadata": {},
     "output_type": "execute_result"
    },
    {
     "data": {
      "image/png": "[encoded data removed]",
      "text/plain": [
       "<matplotlib.figure.Figure at 0x7fe5d8528710>"
      ]
     },
     "metadata": {},
     "output_type": "display_data"
    }
   ],
   "source": [
    "# intermolecular (\"non-bonded\") energy contribtutions\n",
    "minimization_thermo_pd[[\"E_pair\",\"E_vdwl\",\"E_coul\",\"E_long\"]][1:].plot() # units?"
   ]
  },
  {
   "cell_type": "code",
   "execution_count": 28,
   "metadata": {},
   "outputs": [
    {
     "data": {
      "text/plain": [
       "<matplotlib.axes._subplots.AxesSubplot at 0x7fe5d84ef7b8>"
      ]
     },
     "execution_count": 28,
     "metadata": {},
     "output_type": "execute_result"
    },
    {
     "data": {
      "image/png": "[encoded data removed]",
      "text/plain": [
       "<matplotlib.figure.Figure at 0x7fe5d85490f0>"
      ]
     },
     "metadata": {},
     "output_type": "display_data"
    }
   ],
   "source": [
    "# The total energy decreases, but intramolecular energy increases during minimization:\n",
    "minimization_thermo_pd[[\"PotEng\",\"E_pair\"]][1:].plot()"
   ]
  },
  {
   "cell_type": "code",
   "execution_count": 29,
   "metadata": {},
   "outputs": [],
   "source": [
    "# double-check: total potential energy of system minus non-bonded energy (LJ & Coulomb) \n",
    "# should correspond to intramolecular energy:\n",
    "intramolecularEnergyValidation = minimization_thermo_pd[\"PotEng\"] - minimization_thermo_pd[\"E_pair\"]"
   ]
  },
  {
   "cell_type": "code",
   "execution_count": 30,
   "metadata": {},
   "outputs": [],
   "source": [
    "intramolecularEnergyValidationDiff = (intramolecularEnergyValidation - minimization_thermo_pd[\"E_intramolecular\"])\n"
   ]
  },
  {
   "cell_type": "code",
   "execution_count": 31,
   "metadata": {},
   "outputs": [
    {
     "data": {
      "text/plain": [
       "0   -2.463279\n",
       "1   -0.000091\n",
       "2   -0.000067\n",
       "3    0.000009\n",
       "4    0.000043\n",
       "5    0.000059\n",
       "dtype: float64"
      ]
     },
     "execution_count": 31,
     "metadata": {},
     "output_type": "execute_result"
    }
   ],
   "source": [
    "intramolecularEnergyValidationDiff"
   ]
  },
  {
   "cell_type": "code",
   "execution_count": 32,
   "metadata": {},
   "outputs": [
    {
     "data": {
      "text/plain": [
       "0.045981396720626178"
      ]
     },
     "execution_count": 32,
     "metadata": {},
     "output_type": "execute_result"
    }
   ],
   "source": [
    "intramolecularEnergyValidationDiff.abs().max() / intramolecularEnergyValidation.min()"
   ]
  },
  {
   "cell_type": "code",
   "execution_count": 33,
   "metadata": {},
   "outputs": [
    {
     "data": {
      "text/plain": [
       "<matplotlib.axes._subplots.AxesSubplot at 0x7fe5d9aeed30>"
      ]
     },
     "execution_count": 33,
     "metadata": {},
     "output_type": "execute_result"
    },
    {
     "data": {
      "image/png": "[encoded data removed]",
      "text/plain": [
       "<matplotlib.figure.Figure at 0x7fe5d9db29b0>"
      ]
     },
     "metadata": {},
     "output_type": "display_data"
    }
   ],
   "source": [
    "(intramolecularEnergyValidation - minimization_thermo_pd[\"E_intramolecular\"])[1:].plot()\n",
    "# obviously \"equal\" (up to a tiny fraction)"
   ]
  },
  {
   "cell_type": "markdown",
   "metadata": {},
   "source": [
    "### NVT equilibration"
   ]
  },
  {
   "cell_type": "code",
   "execution_count": 34,
   "metadata": {},
   "outputs": [],
   "source": [
    "!./extract_thermo.sh 1_SDS_on_AU_100_2x4x4_charmmfsw_long_10_12_03_nvtEquilibration.log 03_nvtEquilibration_thermo.out"
   ]
  },
  {
   "cell_type": "code",
   "execution_count": 35,
   "metadata": {},
   "outputs": [],
   "source": [
    "nvtEquilibration_thermo_file = absolute_prefix + os.sep + '03_nvtEquilibration_thermo.out'"
   ]
  },
  {
   "cell_type": "code",
   "execution_count": 36,
   "metadata": {},
   "outputs": [],
   "source": [
    "nvtEquilibration_thermo_pd = pd.read_csv(nvtEquilibration_thermo_file,delim_whitespace=True)"
   ]
  },
  {
   "cell_type": "code",
   "execution_count": 37,
   "metadata": {},
   "outputs": [
    {
     "data": {
      "text/html": [
       "<div>\n",
       "<style scoped>\n",
       "    .dataframe tbody tr th:only-of-type {\n",
       "        vertical-align: middle;\n",
       "    }\n",
       "\n",
       "    .dataframe tbody tr th {\n",
       "        vertical-align: top;\n",
       "    }\n",
       "\n",
       "    .dataframe thead th {\n",
       "        text-align: right;\n",
       "    }\n",
       "</style>\n",
       "<table border=\"1\" class=\"dataframe\">\n",
       "  <thead>\n",
       "    <tr style=\"text-align: right;\">\n",
       "      <th></th>\n",
       "      <th>Step</th>\n",
       "      <th>TotEng</th>\n",
       "      <th>KinEng</th>\n",
       "      <th>PotEng</th>\n",
       "      <th>Temp</th>\n",
       "      <th>Press</th>\n",
       "      <th>Enthalpy</th>\n",
       "      <th>E_bond</th>\n",
       "      <th>E_angle</th>\n",
       "      <th>E_dihed</th>\n",
       "      <th>E_impro</th>\n",
       "      <th>E_pair</th>\n",
       "      <th>E_vdwl</th>\n",
       "      <th>E_coul</th>\n",
       "      <th>E_long</th>\n",
       "      <th>E_tail</th>\n",
       "      <th>Volume</th>\n",
       "    </tr>\n",
       "  </thead>\n",
       "  <tbody>\n",
       "    <tr>\n",
       "      <th>0</th>\n",
       "      <td>0</td>\n",
       "      <td>-5113.1688</td>\n",
       "      <td>183.50978</td>\n",
       "      <td>-5296.6786</td>\n",
       "      <td>250.59862</td>\n",
       "      <td>-9780.340200</td>\n",
       "      <td>-5728.9536</td>\n",
       "      <td>0.327296</td>\n",
       "      <td>18.984962</td>\n",
       "      <td>7.608327</td>\n",
       "      <td>0</td>\n",
       "      <td>-5323.5992</td>\n",
       "      <td>-4631.4894</td>\n",
       "      <td>1779.3034</td>\n",
       "      <td>-2471.4132</td>\n",
       "      <td>0</td>\n",
       "      <td>4317.1693</td>\n",
       "    </tr>\n",
       "    <tr>\n",
       "      <th>1</th>\n",
       "      <td>100</td>\n",
       "      <td>-4774.9218</td>\n",
       "      <td>260.99099</td>\n",
       "      <td>-5035.9128</td>\n",
       "      <td>356.40597</td>\n",
       "      <td>-27.227269</td>\n",
       "      <td>-4776.6361</td>\n",
       "      <td>6.232945</td>\n",
       "      <td>43.793765</td>\n",
       "      <td>7.674883</td>\n",
       "      <td>0</td>\n",
       "      <td>-5093.6144</td>\n",
       "      <td>-4537.7848</td>\n",
       "      <td>1914.6882</td>\n",
       "      <td>-2470.5178</td>\n",
       "      <td>0</td>\n",
       "      <td>4317.1693</td>\n",
       "    </tr>\n",
       "    <tr>\n",
       "      <th>2</th>\n",
       "      <td>200</td>\n",
       "      <td>-4569.3958</td>\n",
       "      <td>282.52472</td>\n",
       "      <td>-4851.9205</td>\n",
       "      <td>385.81217</td>\n",
       "      <td>-11869.731000</td>\n",
       "      <td>-5316.7317</td>\n",
       "      <td>10.737685</td>\n",
       "      <td>46.559862</td>\n",
       "      <td>10.900713</td>\n",
       "      <td>0</td>\n",
       "      <td>-4920.1188</td>\n",
       "      <td>-4442.5263</td>\n",
       "      <td>1989.5600</td>\n",
       "      <td>-2467.1525</td>\n",
       "      <td>0</td>\n",
       "      <td>4317.1693</td>\n",
       "    </tr>\n",
       "    <tr>\n",
       "      <th>3</th>\n",
       "      <td>300</td>\n",
       "      <td>-4883.6395</td>\n",
       "      <td>153.88547</td>\n",
       "      <td>-5037.5250</td>\n",
       "      <td>210.14405</td>\n",
       "      <td>-19689.404000</td>\n",
       "      <td>-6123.3137</td>\n",
       "      <td>2.580032</td>\n",
       "      <td>32.275793</td>\n",
       "      <td>10.495470</td>\n",
       "      <td>0</td>\n",
       "      <td>-5082.8763</td>\n",
       "      <td>-4558.2670</td>\n",
       "      <td>1944.2727</td>\n",
       "      <td>-2468.8820</td>\n",
       "      <td>0</td>\n",
       "      <td>4317.1693</td>\n",
       "    </tr>\n",
       "    <tr>\n",
       "      <th>4</th>\n",
       "      <td>400</td>\n",
       "      <td>-4835.6183</td>\n",
       "      <td>212.10870</td>\n",
       "      <td>-5047.7270</td>\n",
       "      <td>289.65294</td>\n",
       "      <td>-2516.982600</td>\n",
       "      <td>-4994.0913</td>\n",
       "      <td>3.312460</td>\n",
       "      <td>30.245560</td>\n",
       "      <td>9.598058</td>\n",
       "      <td>0</td>\n",
       "      <td>-5090.8831</td>\n",
       "      <td>-4575.5063</td>\n",
       "      <td>1955.6511</td>\n",
       "      <td>-2471.0279</td>\n",
       "      <td>0</td>\n",
       "      <td>4317.1693</td>\n",
       "    </tr>\n",
       "    <tr>\n",
       "      <th>5</th>\n",
       "      <td>500</td>\n",
       "      <td>-4708.3283</td>\n",
       "      <td>267.31912</td>\n",
       "      <td>-4975.6474</td>\n",
       "      <td>365.04759</td>\n",
       "      <td>-1781.328400</td>\n",
       "      <td>-4820.4834</td>\n",
       "      <td>7.024146</td>\n",
       "      <td>34.971909</td>\n",
       "      <td>11.661606</td>\n",
       "      <td>0</td>\n",
       "      <td>-5029.3051</td>\n",
       "      <td>-4511.7126</td>\n",
       "      <td>1952.3609</td>\n",
       "      <td>-2469.9533</td>\n",
       "      <td>0</td>\n",
       "      <td>4317.1693</td>\n",
       "    </tr>\n",
       "    <tr>\n",
       "      <th>6</th>\n",
       "      <td>600</td>\n",
       "      <td>-4835.5627</td>\n",
       "      <td>204.63311</td>\n",
       "      <td>-5040.1958</td>\n",
       "      <td>279.44438</td>\n",
       "      <td>-12690.871000</td>\n",
       "      <td>-5634.5988</td>\n",
       "      <td>2.512801</td>\n",
       "      <td>28.912388</td>\n",
       "      <td>9.816405</td>\n",
       "      <td>0</td>\n",
       "      <td>-5081.4374</td>\n",
       "      <td>-4545.9461</td>\n",
       "      <td>1935.7249</td>\n",
       "      <td>-2471.2162</td>\n",
       "      <td>0</td>\n",
       "      <td>4317.1693</td>\n",
       "    </tr>\n",
       "    <tr>\n",
       "      <th>7</th>\n",
       "      <td>700</td>\n",
       "      <td>-4832.3477</td>\n",
       "      <td>211.50903</td>\n",
       "      <td>-5043.8567</td>\n",
       "      <td>288.83404</td>\n",
       "      <td>-3094.740700</td>\n",
       "      <td>-5027.1972</td>\n",
       "      <td>2.880545</td>\n",
       "      <td>29.842180</td>\n",
       "      <td>9.206564</td>\n",
       "      <td>0</td>\n",
       "      <td>-5085.7860</td>\n",
       "      <td>-4567.7572</td>\n",
       "      <td>1953.7354</td>\n",
       "      <td>-2471.7642</td>\n",
       "      <td>0</td>\n",
       "      <td>4317.1693</td>\n",
       "    </tr>\n",
       "    <tr>\n",
       "      <th>8</th>\n",
       "      <td>800</td>\n",
       "      <td>-4769.4237</td>\n",
       "      <td>230.38848</td>\n",
       "      <td>-4999.8121</td>\n",
       "      <td>314.61558</td>\n",
       "      <td>-2744.794900</td>\n",
       "      <td>-4942.2400</td>\n",
       "      <td>5.028563</td>\n",
       "      <td>28.610897</td>\n",
       "      <td>10.891183</td>\n",
       "      <td>0</td>\n",
       "      <td>-5044.3428</td>\n",
       "      <td>-4533.3516</td>\n",
       "      <td>1959.6758</td>\n",
       "      <td>-2470.6670</td>\n",
       "      <td>0</td>\n",
       "      <td>4317.1693</td>\n",
       "    </tr>\n",
       "    <tr>\n",
       "      <th>9</th>\n",
       "      <td>900</td>\n",
       "      <td>-4776.1190</td>\n",
       "      <td>212.64786</td>\n",
       "      <td>-4988.7669</td>\n",
       "      <td>290.38921</td>\n",
       "      <td>-12252.021000</td>\n",
       "      <td>-5547.5245</td>\n",
       "      <td>2.498572</td>\n",
       "      <td>32.964550</td>\n",
       "      <td>10.095101</td>\n",
       "      <td>0</td>\n",
       "      <td>-5034.3251</td>\n",
       "      <td>-4527.0031</td>\n",
       "      <td>1963.5139</td>\n",
       "      <td>-2470.8359</td>\n",
       "      <td>0</td>\n",
       "      <td>4317.1693</td>\n",
       "    </tr>\n",
       "    <tr>\n",
       "      <th>10</th>\n",
       "      <td>1000</td>\n",
       "      <td>-4802.7370</td>\n",
       "      <td>218.95038</td>\n",
       "      <td>-5021.6873</td>\n",
       "      <td>298.99586</td>\n",
       "      <td>-8414.635200</td>\n",
       "      <td>-5332.5349</td>\n",
       "      <td>3.108742</td>\n",
       "      <td>37.284242</td>\n",
       "      <td>9.621210</td>\n",
       "      <td>0</td>\n",
       "      <td>-5071.7015</td>\n",
       "      <td>-4556.6552</td>\n",
       "      <td>1956.1971</td>\n",
       "      <td>-2471.2434</td>\n",
       "      <td>0</td>\n",
       "      <td>4317.1693</td>\n",
       "    </tr>\n",
       "    <tr>\n",
       "      <th>11</th>\n",
       "      <td>1100</td>\n",
       "      <td>-4807.7938</td>\n",
       "      <td>225.79053</td>\n",
       "      <td>-5033.5843</td>\n",
       "      <td>308.33668</td>\n",
       "      <td>-6356.246500</td>\n",
       "      <td>-5207.9925</td>\n",
       "      <td>5.431786</td>\n",
       "      <td>32.481793</td>\n",
       "      <td>11.614987</td>\n",
       "      <td>0</td>\n",
       "      <td>-5083.1129</td>\n",
       "      <td>-4569.1558</td>\n",
       "      <td>1954.9642</td>\n",
       "      <td>-2468.9213</td>\n",
       "      <td>0</td>\n",
       "      <td>4317.1693</td>\n",
       "    </tr>\n",
       "    <tr>\n",
       "      <th>12</th>\n",
       "      <td>1200</td>\n",
       "      <td>-4811.0104</td>\n",
       "      <td>211.78538</td>\n",
       "      <td>-5022.7958</td>\n",
       "      <td>289.21143</td>\n",
       "      <td>-13854.887000</td>\n",
       "      <td>-5683.3347</td>\n",
       "      <td>4.142285</td>\n",
       "      <td>33.850765</td>\n",
       "      <td>9.763465</td>\n",
       "      <td>0</td>\n",
       "      <td>-5070.5523</td>\n",
       "      <td>-4549.0643</td>\n",
       "      <td>1949.3662</td>\n",
       "      <td>-2470.8542</td>\n",
       "      <td>0</td>\n",
       "      <td>4317.1693</td>\n",
       "    </tr>\n",
       "    <tr>\n",
       "      <th>13</th>\n",
       "      <td>1300</td>\n",
       "      <td>-4788.8430</td>\n",
       "      <td>231.51970</td>\n",
       "      <td>-5020.3627</td>\n",
       "      <td>316.16036</td>\n",
       "      <td>-9951.168700</td>\n",
       "      <td>-5415.3834</td>\n",
       "      <td>2.914136</td>\n",
       "      <td>33.774245</td>\n",
       "      <td>9.889718</td>\n",
       "      <td>0</td>\n",
       "      <td>-5066.9408</td>\n",
       "      <td>-4547.8353</td>\n",
       "      <td>1950.2768</td>\n",
       "      <td>-2469.3823</td>\n",
       "      <td>0</td>\n",
       "      <td>4317.1693</td>\n",
       "    </tr>\n",
       "    <tr>\n",
       "      <th>14</th>\n",
       "      <td>1400</td>\n",
       "      <td>-4798.8251</td>\n",
       "      <td>208.30545</td>\n",
       "      <td>-5007.1305</td>\n",
       "      <td>284.45927</td>\n",
       "      <td>-7126.301000</td>\n",
       "      <td>-5247.5076</td>\n",
       "      <td>2.765736</td>\n",
       "      <td>36.570489</td>\n",
       "      <td>10.378709</td>\n",
       "      <td>0</td>\n",
       "      <td>-5056.8455</td>\n",
       "      <td>-4540.7695</td>\n",
       "      <td>1954.0478</td>\n",
       "      <td>-2470.1238</td>\n",
       "      <td>0</td>\n",
       "      <td>4317.1693</td>\n",
       "    </tr>\n",
       "    <tr>\n",
       "      <th>15</th>\n",
       "      <td>1500</td>\n",
       "      <td>-4809.1409</td>\n",
       "      <td>204.89208</td>\n",
       "      <td>-5014.0330</td>\n",
       "      <td>279.79802</td>\n",
       "      <td>-13218.227000</td>\n",
       "      <td>-5641.3801</td>\n",
       "      <td>4.509439</td>\n",
       "      <td>32.815048</td>\n",
       "      <td>8.990259</td>\n",
       "      <td>0</td>\n",
       "      <td>-5060.3477</td>\n",
       "      <td>-4547.4043</td>\n",
       "      <td>1956.9385</td>\n",
       "      <td>-2469.8820</td>\n",
       "      <td>0</td>\n",
       "      <td>4317.1693</td>\n",
       "    </tr>\n",
       "    <tr>\n",
       "      <th>16</th>\n",
       "      <td>1600</td>\n",
       "      <td>-4804.6486</td>\n",
       "      <td>224.55936</td>\n",
       "      <td>-5029.2079</td>\n",
       "      <td>306.65540</td>\n",
       "      <td>-8990.262100</td>\n",
       "      <td>-5370.6889</td>\n",
       "      <td>5.174950</td>\n",
       "      <td>33.267149</td>\n",
       "      <td>10.609932</td>\n",
       "      <td>0</td>\n",
       "      <td>-5078.2600</td>\n",
       "      <td>-4553.3792</td>\n",
       "      <td>1947.1258</td>\n",
       "      <td>-2472.0066</td>\n",
       "      <td>0</td>\n",
       "      <td>4317.1693</td>\n",
       "    </tr>\n",
       "    <tr>\n",
       "      <th>17</th>\n",
       "      <td>1700</td>\n",
       "      <td>-4828.5345</td>\n",
       "      <td>220.45395</td>\n",
       "      <td>-5048.9884</td>\n",
       "      <td>301.04911</td>\n",
       "      <td>-8396.854700</td>\n",
       "      <td>-5357.2129</td>\n",
       "      <td>4.101667</td>\n",
       "      <td>31.126902</td>\n",
       "      <td>9.200946</td>\n",
       "      <td>0</td>\n",
       "      <td>-5093.4179</td>\n",
       "      <td>-4551.6860</td>\n",
       "      <td>1927.6931</td>\n",
       "      <td>-2469.4250</td>\n",
       "      <td>0</td>\n",
       "      <td>4317.1693</td>\n",
       "    </tr>\n",
       "    <tr>\n",
       "      <th>18</th>\n",
       "      <td>1800</td>\n",
       "      <td>-4836.6513</td>\n",
       "      <td>208.33477</td>\n",
       "      <td>-5044.9861</td>\n",
       "      <td>284.49932</td>\n",
       "      <td>-8070.533700</td>\n",
       "      <td>-5344.7841</td>\n",
       "      <td>4.367451</td>\n",
       "      <td>33.484129</td>\n",
       "      <td>8.992117</td>\n",
       "      <td>0</td>\n",
       "      <td>-5091.8298</td>\n",
       "      <td>-4564.7786</td>\n",
       "      <td>1944.5666</td>\n",
       "      <td>-2471.6178</td>\n",
       "      <td>0</td>\n",
       "      <td>4317.1693</td>\n",
       "    </tr>\n",
       "    <tr>\n",
       "      <th>19</th>\n",
       "      <td>1900</td>\n",
       "      <td>-4868.1320</td>\n",
       "      <td>203.44891</td>\n",
       "      <td>-5071.5809</td>\n",
       "      <td>277.82725</td>\n",
       "      <td>-9066.096100</td>\n",
       "      <td>-5438.9469</td>\n",
       "      <td>3.302778</td>\n",
       "      <td>33.036610</td>\n",
       "      <td>8.988556</td>\n",
       "      <td>0</td>\n",
       "      <td>-5116.9088</td>\n",
       "      <td>-4592.7878</td>\n",
       "      <td>1947.0284</td>\n",
       "      <td>-2471.1494</td>\n",
       "      <td>0</td>\n",
       "      <td>4317.1693</td>\n",
       "    </tr>\n",
       "    <tr>\n",
       "      <th>20</th>\n",
       "      <td>2000</td>\n",
       "      <td>-4827.9068</td>\n",
       "      <td>226.79164</td>\n",
       "      <td>-5054.6985</td>\n",
       "      <td>309.70378</td>\n",
       "      <td>-10528.141000</td>\n",
       "      <td>-5490.7742</td>\n",
       "      <td>2.280258</td>\n",
       "      <td>34.451575</td>\n",
       "      <td>9.836566</td>\n",
       "      <td>0</td>\n",
       "      <td>-5101.2669</td>\n",
       "      <td>-4561.7418</td>\n",
       "      <td>1930.6401</td>\n",
       "      <td>-2470.1652</td>\n",
       "      <td>0</td>\n",
       "      <td>4317.1693</td>\n",
       "    </tr>\n",
       "    <tr>\n",
       "      <th>21</th>\n",
       "      <td>2100</td>\n",
       "      <td>-4799.5551</td>\n",
       "      <td>235.07330</td>\n",
       "      <td>-5034.6284</td>\n",
       "      <td>321.01311</td>\n",
       "      <td>-13060.902000</td>\n",
       "      <td>-5621.8889</td>\n",
       "      <td>5.619018</td>\n",
       "      <td>36.928017</td>\n",
       "      <td>9.297999</td>\n",
       "      <td>0</td>\n",
       "      <td>-5086.4734</td>\n",
       "      <td>-4560.4890</td>\n",
       "      <td>1943.9198</td>\n",
       "      <td>-2469.9042</td>\n",
       "      <td>0</td>\n",
       "      <td>4317.1693</td>\n",
       "    </tr>\n",
       "    <tr>\n",
       "      <th>22</th>\n",
       "      <td>2200</td>\n",
       "      <td>-4865.8255</td>\n",
       "      <td>202.94955</td>\n",
       "      <td>-5068.7751</td>\n",
       "      <td>277.14532</td>\n",
       "      <td>-11416.038000</td>\n",
       "      <td>-5584.5962</td>\n",
       "      <td>4.223506</td>\n",
       "      <td>31.969695</td>\n",
       "      <td>10.616570</td>\n",
       "      <td>0</td>\n",
       "      <td>-5115.5848</td>\n",
       "      <td>-4596.8157</td>\n",
       "      <td>1953.9304</td>\n",
       "      <td>-2472.6995</td>\n",
       "      <td>0</td>\n",
       "      <td>4317.1693</td>\n",
       "    </tr>\n",
       "    <tr>\n",
       "      <th>23</th>\n",
       "      <td>2300</td>\n",
       "      <td>-4840.4360</td>\n",
       "      <td>226.54204</td>\n",
       "      <td>-5066.9780</td>\n",
       "      <td>309.36293</td>\n",
       "      <td>-13176.331000</td>\n",
       "      <td>-5670.0374</td>\n",
       "      <td>4.312223</td>\n",
       "      <td>38.995103</td>\n",
       "      <td>13.069582</td>\n",
       "      <td>0</td>\n",
       "      <td>-5123.3550</td>\n",
       "      <td>-4593.3870</td>\n",
       "      <td>1941.8278</td>\n",
       "      <td>-2471.7957</td>\n",
       "      <td>0</td>\n",
       "      <td>4317.1693</td>\n",
       "    </tr>\n",
       "    <tr>\n",
       "      <th>24</th>\n",
       "      <td>2400</td>\n",
       "      <td>-4803.9265</td>\n",
       "      <td>223.33928</td>\n",
       "      <td>-5027.2658</td>\n",
       "      <td>304.98929</td>\n",
       "      <td>-9503.068100</td>\n",
       "      <td>-5402.2538</td>\n",
       "      <td>3.406642</td>\n",
       "      <td>32.162501</td>\n",
       "      <td>11.846970</td>\n",
       "      <td>0</td>\n",
       "      <td>-5074.6819</td>\n",
       "      <td>-4539.4094</td>\n",
       "      <td>1934.6335</td>\n",
       "      <td>-2469.9061</td>\n",
       "      <td>0</td>\n",
       "      <td>4317.1693</td>\n",
       "    </tr>\n",
       "    <tr>\n",
       "      <th>25</th>\n",
       "      <td>2500</td>\n",
       "      <td>-4868.6619</td>\n",
       "      <td>193.21465</td>\n",
       "      <td>-5061.8766</td>\n",
       "      <td>263.85148</td>\n",
       "      <td>-6726.938900</td>\n",
       "      <td>-5292.2000</td>\n",
       "      <td>1.478791</td>\n",
       "      <td>32.860804</td>\n",
       "      <td>12.164234</td>\n",
       "      <td>0</td>\n",
       "      <td>-5108.3804</td>\n",
       "      <td>-4577.8631</td>\n",
       "      <td>1940.0030</td>\n",
       "      <td>-2470.5203</td>\n",
       "      <td>0</td>\n",
       "      <td>4317.1693</td>\n",
       "    </tr>\n",
       "  </tbody>\n",
       "</table>\n",
       "</div>"
      ],
      "text/plain": [
       "    Step     TotEng     KinEng     PotEng       Temp         Press   Enthalpy  \\\n",
       "0      0 -5113.1688  183.50978 -5296.6786  250.59862  -9780.340200 -5728.9536   \n",
       "1    100 -4774.9218  260.99099 -5035.9128  356.40597    -27.227269 -4776.6361   \n",
       "2    200 -4569.3958  282.52472 -4851.9205  385.81217 -11869.731000 -5316.7317   \n",
       "3    300 -4883.6395  153.88547 -5037.5250  210.14405 -19689.404000 -6123.3137   \n",
       "4    400 -4835.6183  212.10870 -5047.7270  289.65294  -2516.982600 -4994.0913   \n",
       "5    500 -4708.3283  267.31912 -4975.6474  365.04759  -1781.328400 -4820.4834   \n",
       "6    600 -4835.5627  204.63311 -5040.1958  279.44438 -12690.871000 -5634.5988   \n",
       "7    700 -4832.3477  211.50903 -5043.8567  288.83404  -3094.740700 -5027.1972   \n",
       "8    800 -4769.4237  230.38848 -4999.8121  314.61558  -2744.794900 -4942.2400   \n",
       "9    900 -4776.1190  212.64786 -4988.7669  290.38921 -12252.021000 -5547.5245   \n",
       "10  1000 -4802.7370  218.95038 -5021.6873  298.99586  -8414.635200 -5332.5349   \n",
       "11  1100 -4807.7938  225.79053 -5033.5843  308.33668  -6356.246500 -5207.9925   \n",
       "12  1200 -4811.0104  211.78538 -5022.7958  289.21143 -13854.887000 -5683.3347   \n",
       "13  1300 -4788.8430  231.51970 -5020.3627  316.16036  -9951.168700 -5415.3834   \n",
       "14  1400 -4798.8251  208.30545 -5007.1305  284.45927  -7126.301000 -5247.5076   \n",
       "15  1500 -4809.1409  204.89208 -5014.0330  279.79802 -13218.227000 -5641.3801   \n",
       "16  1600 -4804.6486  224.55936 -5029.2079  306.65540  -8990.262100 -5370.6889   \n",
       "17  1700 -4828.5345  220.45395 -5048.9884  301.04911  -8396.854700 -5357.2129   \n",
       "18  1800 -4836.6513  208.33477 -5044.9861  284.49932  -8070.533700 -5344.7841   \n",
       "19  1900 -4868.1320  203.44891 -5071.5809  277.82725  -9066.096100 -5438.9469   \n",
       "20  2000 -4827.9068  226.79164 -5054.6985  309.70378 -10528.141000 -5490.7742   \n",
       "21  2100 -4799.5551  235.07330 -5034.6284  321.01311 -13060.902000 -5621.8889   \n",
       "22  2200 -4865.8255  202.94955 -5068.7751  277.14532 -11416.038000 -5584.5962   \n",
       "23  2300 -4840.4360  226.54204 -5066.9780  309.36293 -13176.331000 -5670.0374   \n",
       "24  2400 -4803.9265  223.33928 -5027.2658  304.98929  -9503.068100 -5402.2538   \n",
       "25  2500 -4868.6619  193.21465 -5061.8766  263.85148  -6726.938900 -5292.2000   \n",
       "\n",
       "       E_bond    E_angle    E_dihed  E_impro     E_pair     E_vdwl     E_coul  \\\n",
       "0    0.327296  18.984962   7.608327        0 -5323.5992 -4631.4894  1779.3034   \n",
       "1    6.232945  43.793765   7.674883        0 -5093.6144 -4537.7848  1914.6882   \n",
       "2   10.737685  46.559862  10.900713        0 -4920.1188 -4442.5263  1989.5600   \n",
       "3    2.580032  32.275793  10.495470        0 -5082.8763 -4558.2670  1944.2727   \n",
       "4    3.312460  30.245560   9.598058        0 -5090.8831 -4575.5063  1955.6511   \n",
       "5    7.024146  34.971909  11.661606        0 -5029.3051 -4511.7126  1952.3609   \n",
       "6    2.512801  28.912388   9.816405        0 -5081.4374 -4545.9461  1935.7249   \n",
       "7    2.880545  29.842180   9.206564        0 -5085.7860 -4567.7572  1953.7354   \n",
       "8    5.028563  28.610897  10.891183        0 -5044.3428 -4533.3516  1959.6758   \n",
       "9    2.498572  32.964550  10.095101        0 -5034.3251 -4527.0031  1963.5139   \n",
       "10   3.108742  37.284242   9.621210        0 -5071.7015 -4556.6552  1956.1971   \n",
       "11   5.431786  32.481793  11.614987        0 -5083.1129 -4569.1558  1954.9642   \n",
       "12   4.142285  33.850765   9.763465        0 -5070.5523 -4549.0643  1949.3662   \n",
       "13   2.914136  33.774245   9.889718        0 -5066.9408 -4547.8353  1950.2768   \n",
       "14   2.765736  36.570489  10.378709        0 -5056.8455 -4540.7695  1954.0478   \n",
       "15   4.509439  32.815048   8.990259        0 -5060.3477 -4547.4043  1956.9385   \n",
       "16   5.174950  33.267149  10.609932        0 -5078.2600 -4553.3792  1947.1258   \n",
       "17   4.101667  31.126902   9.200946        0 -5093.4179 -4551.6860  1927.6931   \n",
       "18   4.367451  33.484129   8.992117        0 -5091.8298 -4564.7786  1944.5666   \n",
       "19   3.302778  33.036610   8.988556        0 -5116.9088 -4592.7878  1947.0284   \n",
       "20   2.280258  34.451575   9.836566        0 -5101.2669 -4561.7418  1930.6401   \n",
       "21   5.619018  36.928017   9.297999        0 -5086.4734 -4560.4890  1943.9198   \n",
       "22   4.223506  31.969695  10.616570        0 -5115.5848 -4596.8157  1953.9304   \n",
       "23   4.312223  38.995103  13.069582        0 -5123.3550 -4593.3870  1941.8278   \n",
       "24   3.406642  32.162501  11.846970        0 -5074.6819 -4539.4094  1934.6335   \n",
       "25   1.478791  32.860804  12.164234        0 -5108.3804 -4577.8631  1940.0030   \n",
       "\n",
       "       E_long  E_tail     Volume  \n",
       "0  -2471.4132       0  4317.1693  \n",
       "1  -2470.5178       0  4317.1693  \n",
       "2  -2467.1525       0  4317.1693  \n",
       "3  -2468.8820       0  4317.1693  \n",
       "4  -2471.0279       0  4317.1693  \n",
       "5  -2469.9533       0  4317.1693  \n",
       "6  -2471.2162       0  4317.1693  \n",
       "7  -2471.7642       0  4317.1693  \n",
       "8  -2470.6670       0  4317.1693  \n",
       "9  -2470.8359       0  4317.1693  \n",
       "10 -2471.2434       0  4317.1693  \n",
       "11 -2468.9213       0  4317.1693  \n",
       "12 -2470.8542       0  4317.1693  \n",
       "13 -2469.3823       0  4317.1693  \n",
       "14 -2470.1238       0  4317.1693  \n",
       "15 -2469.8820       0  4317.1693  \n",
       "16 -2472.0066       0  4317.1693  \n",
       "17 -2469.4250       0  4317.1693  \n",
       "18 -2471.6178       0  4317.1693  \n",
       "19 -2471.1494       0  4317.1693  \n",
       "20 -2470.1652       0  4317.1693  \n",
       "21 -2469.9042       0  4317.1693  \n",
       "22 -2472.6995       0  4317.1693  \n",
       "23 -2471.7957       0  4317.1693  \n",
       "24 -2469.9061       0  4317.1693  \n",
       "25 -2470.5203       0  4317.1693  "
      ]
     },
     "execution_count": 37,
     "metadata": {},
     "output_type": "execute_result"
    }
   ],
   "source": [
    "nvtEquilibration_thermo_pd"
   ]
  },
  {
   "cell_type": "code",
   "execution_count": 38,
   "metadata": {},
   "outputs": [
    {
     "data": {
      "text/plain": [
       "<matplotlib.axes._subplots.AxesSubplot at 0x7fe5d9f5e908>"
      ]
     },
     "execution_count": 38,
     "metadata": {},
     "output_type": "execute_result"
    },
    {
     "data": {
      "image/png": "[encoded data removed]",
      "text/plain": [
       "<matplotlib.figure.Figure at 0x7fe5d9f6f4e0>"
      ]
     },
     "metadata": {},
     "output_type": "display_data"
    }
   ],
   "source": [
    "nvtEquilibration_thermo_pd[[\"Temp\"]].plot() # taimed temperature"
   ]
  },
  {
   "cell_type": "code",
   "execution_count": 40,
   "metadata": {},
   "outputs": [
    {
     "data": {
      "text/plain": [
       "<matplotlib.axes._subplots.AxesSubplot at 0x7fe5d8a795f8>"
      ]
     },
     "execution_count": 40,
     "metadata": {},
     "output_type": "execute_result"
    },
    {
     "data": {
      "image/png": "[encoded data removed]",
      "text/plain": [
       "<matplotlib.figure.Figure at 0x7fe5d9f0bbe0>"
      ]
     },
     "metadata": {},
     "output_type": "display_data"
    }
   ],
   "source": [
    "nvtEquilibration_thermo_pd[[\"Press\"]].plot() # wild pressure"
   ]
  },
  {
   "cell_type": "code",
   "execution_count": 41,
   "metadata": {},
   "outputs": [
    {
     "data": {
      "text/plain": [
       "<matplotlib.axes._subplots.AxesSubplot at 0x7fe5d89ff630>"
      ]
     },
     "execution_count": 41,
     "metadata": {},
     "output_type": "execute_result"
    },
    {
     "data": {
      "image/png": "[encoded data removed]",
      "text/plain": [
       "<matplotlib.figure.Figure at 0x7fe5d9f03128>"
      ]
     },
     "metadata": {},
     "output_type": "display_data"
    }
   ],
   "source": [
    "nvtEquilibration_thermo_pd[[\"TotEng\",\"KinEng\",\"PotEng\"]].plot()"
   ]
  },
  {
   "cell_type": "code",
   "execution_count": 42,
   "metadata": {},
   "outputs": [
    {
     "data": {
      "text/plain": [
       "<matplotlib.axes._subplots.AxesSubplot at 0x7fe5d88ea898>"
      ]
     },
     "execution_count": 42,
     "metadata": {},
     "output_type": "execute_result"
    },
    {
     "data": {
      "image/png": "[encoded data removed]",
      "text/plain": [
       "<matplotlib.figure.Figure at 0x7fe5d89172b0>"
      ]
     },
     "metadata": {},
     "output_type": "display_data"
    }
   ],
   "source": [
    "# intramolecular energy contributions\n",
    "nvtEquilibration_thermo_pd[[\"E_bond\",\"E_angle\",\"E_dihed\"]].plot() "
   ]
  },
  {
   "cell_type": "code",
   "execution_count": 43,
   "metadata": {},
   "outputs": [],
   "source": [
    "# total intramolecular (\"bonded\") interactions:\n",
    "nvtEquilibration_thermo_pd[\"E_intramolecular\"] = nvtEquilibration_thermo_pd[[\"E_bond\",\"E_angle\",\"E_dihed\"]].sum(axis=1)"
   ]
  },
  {
   "cell_type": "code",
   "execution_count": 44,
   "metadata": {},
   "outputs": [
    {
     "data": {
      "text/plain": [
       "<matplotlib.axes._subplots.AxesSubplot at 0x7fe5d885c208>"
      ]
     },
     "execution_count": 44,
     "metadata": {},
     "output_type": "execute_result"
    },
    {
     "data": {
      "image/png": "[encoded data removed]",
      "text/plain": [
       "<matplotlib.figure.Figure at 0x7fe5d8a05eb8>"
      ]
     },
     "metadata": {},
     "output_type": "display_data"
    }
   ],
   "source": [
    "nvtEquilibration_thermo_pd[[\"E_intramolecular\"]][1:].plot()"
   ]
  },
  {
   "cell_type": "code",
   "execution_count": 45,
   "metadata": {},
   "outputs": [
    {
     "data": {
      "text/plain": [
       "<matplotlib.axes._subplots.AxesSubplot at 0x7fe5d88cbb70>"
      ]
     },
     "execution_count": 45,
     "metadata": {},
     "output_type": "execute_result"
    },
    {
     "data": {
      "image/png": "[encoded data removed]",
      "text/plain": [
       "<matplotlib.figure.Figure at 0x7fe5d886ef28>"
      ]
     },
     "metadata": {},
     "output_type": "display_data"
    }
   ],
   "source": [
    "# intermolecular (\"non-bonded\") energy contribtutions\n",
    "nvtEquilibration_thermo_pd[[\"E_pair\",\"E_vdwl\",\"E_coul\",\"E_long\"]].plot() # units?"
   ]
  },
  {
   "cell_type": "code",
   "execution_count": 46,
   "metadata": {},
   "outputs": [
    {
     "data": {
      "text/plain": [
       "<matplotlib.axes._subplots.AxesSubplot at 0x7fe5d8876940>"
      ]
     },
     "execution_count": 46,
     "metadata": {},
     "output_type": "execute_result"
    },
    {
     "data": {
      "image/png": "[encoded data removed]",
      "text/plain": [
       "<matplotlib.figure.Figure at 0x7fe5d87d9a58>"
      ]
     },
     "metadata": {},
     "output_type": "display_data"
    }
   ],
   "source": [
    "# The total energy decreases, but intramolecular energy increases during minimization:\n",
    "nvtEquilibration_thermo_pd[[\"PotEng\",\"E_pair\"]].plot()"
   ]
  },
  {
   "cell_type": "markdown",
   "metadata": {},
   "source": [
    "## NPT equilibration"
   ]
  },
  {
   "cell_type": "code",
   "execution_count": 50,
   "metadata": {},
   "outputs": [],
   "source": [
    "!./extract_thermo.sh 1_SDS_on_AU_100_2x4x4_charmmfsw_long_10_12_04_nptEquilibration.log 04_nptEquilibration_thermo.out"
   ]
  },
  {
   "cell_type": "code",
   "execution_count": 51,
   "metadata": {},
   "outputs": [],
   "source": [
    "nptEquilibration_thermo_file = absolute_prefix + os.sep + '04_nptEquilibration_thermo.out'"
   ]
  },
  {
   "cell_type": "code",
   "execution_count": 52,
   "metadata": {},
   "outputs": [],
   "source": [
    "nptEquilibration_thermo_pd = pd.read_csv(nptEquilibration_thermo_file,delim_whitespace=True)"
   ]
  },
  {
   "cell_type": "code",
   "execution_count": 53,
   "metadata": {},
   "outputs": [
    {
     "data": {
      "text/html": [
       "<div>\n",
       "<style scoped>\n",
       "    .dataframe tbody tr th:only-of-type {\n",
       "        vertical-align: middle;\n",
       "    }\n",
       "\n",
       "    .dataframe tbody tr th {\n",
       "        vertical-align: top;\n",
       "    }\n",
       "\n",
       "    .dataframe thead th {\n",
       "        text-align: right;\n",
       "    }\n",
       "</style>\n",
       "<table border=\"1\" class=\"dataframe\">\n",
       "  <thead>\n",
       "    <tr style=\"text-align: right;\">\n",
       "      <th></th>\n",
       "      <th>Step</th>\n",
       "      <th>TotEng</th>\n",
       "      <th>KinEng</th>\n",
       "      <th>PotEng</th>\n",
       "      <th>Temp</th>\n",
       "      <th>Press</th>\n",
       "      <th>Enthalpy</th>\n",
       "      <th>E_bond</th>\n",
       "      <th>E_angle</th>\n",
       "      <th>E_dihed</th>\n",
       "      <th>E_impro</th>\n",
       "      <th>E_pair</th>\n",
       "      <th>E_vdwl</th>\n",
       "      <th>E_coul</th>\n",
       "      <th>E_long</th>\n",
       "      <th>E_tail</th>\n",
       "      <th>Volume</th>\n",
       "    </tr>\n",
       "  </thead>\n",
       "  <tbody>\n",
       "    <tr>\n",
       "      <th>0</th>\n",
       "      <td>2500</td>\n",
       "      <td>-4868.6619</td>\n",
       "      <td>193.21465</td>\n",
       "      <td>-5061.8766</td>\n",
       "      <td>263.85148</td>\n",
       "      <td>-6727.784300</td>\n",
       "      <td>-5292.2532</td>\n",
       "      <td>1.478791</td>\n",
       "      <td>32.860804</td>\n",
       "      <td>12.164234</td>\n",
       "      <td>0</td>\n",
       "      <td>-5108.3804</td>\n",
       "      <td>-4577.8631</td>\n",
       "      <td>1940.0030</td>\n",
       "      <td>-2470.5203</td>\n",
       "      <td>0</td>\n",
       "      <td>4317.1693</td>\n",
       "    </tr>\n",
       "    <tr>\n",
       "      <th>1</th>\n",
       "      <td>2600</td>\n",
       "      <td>-4850.7416</td>\n",
       "      <td>226.95726</td>\n",
       "      <td>-5077.6989</td>\n",
       "      <td>309.92995</td>\n",
       "      <td>-2370.108100</td>\n",
       "      <td>-4996.7715</td>\n",
       "      <td>3.181612</td>\n",
       "      <td>33.585982</td>\n",
       "      <td>12.524021</td>\n",
       "      <td>0</td>\n",
       "      <td>-5126.9905</td>\n",
       "      <td>-4600.3991</td>\n",
       "      <td>1944.0658</td>\n",
       "      <td>-2470.6572</td>\n",
       "      <td>0</td>\n",
       "      <td>4224.7178</td>\n",
       "    </tr>\n",
       "    <tr>\n",
       "      <th>2</th>\n",
       "      <td>2700</td>\n",
       "      <td>-4885.9756</td>\n",
       "      <td>239.54427</td>\n",
       "      <td>-5125.5199</td>\n",
       "      <td>327.11861</td>\n",
       "      <td>-10.278584</td>\n",
       "      <td>-4886.5850</td>\n",
       "      <td>2.882992</td>\n",
       "      <td>31.594986</td>\n",
       "      <td>10.898500</td>\n",
       "      <td>0</td>\n",
       "      <td>-5170.8964</td>\n",
       "      <td>-4636.1061</td>\n",
       "      <td>1933.2051</td>\n",
       "      <td>-2467.9953</td>\n",
       "      <td>0</td>\n",
       "      <td>4065.1464</td>\n",
       "    </tr>\n",
       "    <tr>\n",
       "      <th>3</th>\n",
       "      <td>2800</td>\n",
       "      <td>-4932.8416</td>\n",
       "      <td>205.54310</td>\n",
       "      <td>-5138.3847</td>\n",
       "      <td>280.68705</td>\n",
       "      <td>-5436.450100</td>\n",
       "      <td>-5253.2339</td>\n",
       "      <td>1.939171</td>\n",
       "      <td>34.604338</td>\n",
       "      <td>9.782817</td>\n",
       "      <td>0</td>\n",
       "      <td>-5184.7110</td>\n",
       "      <td>-4633.0784</td>\n",
       "      <td>1918.6461</td>\n",
       "      <td>-2470.2787</td>\n",
       "      <td>0</td>\n",
       "      <td>4041.0181</td>\n",
       "    </tr>\n",
       "    <tr>\n",
       "      <th>4</th>\n",
       "      <td>2900</td>\n",
       "      <td>-4885.2916</td>\n",
       "      <td>243.55590</td>\n",
       "      <td>-5128.8475</td>\n",
       "      <td>332.59684</td>\n",
       "      <td>-3323.337700</td>\n",
       "      <td>-5082.0840</td>\n",
       "      <td>2.539352</td>\n",
       "      <td>33.477868</td>\n",
       "      <td>14.636347</td>\n",
       "      <td>0</td>\n",
       "      <td>-5179.5010</td>\n",
       "      <td>-4596.6267</td>\n",
       "      <td>1888.4420</td>\n",
       "      <td>-2471.3163</td>\n",
       "      <td>0</td>\n",
       "      <td>4060.2984</td>\n",
       "    </tr>\n",
       "    <tr>\n",
       "      <th>5</th>\n",
       "      <td>3000</td>\n",
       "      <td>-4870.5919</td>\n",
       "      <td>224.67916</td>\n",
       "      <td>-5095.2711</td>\n",
       "      <td>306.81901</td>\n",
       "      <td>-622.924950</td>\n",
       "      <td>-4907.5975</td>\n",
       "      <td>1.726120</td>\n",
       "      <td>34.280881</td>\n",
       "      <td>12.599759</td>\n",
       "      <td>0</td>\n",
       "      <td>-5143.8778</td>\n",
       "      <td>-4594.3540</td>\n",
       "      <td>1919.6603</td>\n",
       "      <td>-2469.1840</td>\n",
       "      <td>0</td>\n",
       "      <td>4073.3894</td>\n",
       "    </tr>\n",
       "    <tr>\n",
       "      <th>6</th>\n",
       "      <td>3100</td>\n",
       "      <td>-4915.0010</td>\n",
       "      <td>213.52339</td>\n",
       "      <td>-5128.5244</td>\n",
       "      <td>291.58482</td>\n",
       "      <td>-3057.739100</td>\n",
       "      <td>-5096.7990</td>\n",
       "      <td>2.009368</td>\n",
       "      <td>28.471840</td>\n",
       "      <td>11.991318</td>\n",
       "      <td>0</td>\n",
       "      <td>-5170.9969</td>\n",
       "      <td>-4616.5814</td>\n",
       "      <td>1916.7419</td>\n",
       "      <td>-2471.1575</td>\n",
       "      <td>0</td>\n",
       "      <td>4076.7370</td>\n",
       "    </tr>\n",
       "    <tr>\n",
       "      <th>7</th>\n",
       "      <td>3200</td>\n",
       "      <td>-4898.3139</td>\n",
       "      <td>208.16531</td>\n",
       "      <td>-5106.4793</td>\n",
       "      <td>284.26790</td>\n",
       "      <td>-4927.158400</td>\n",
       "      <td>-5195.8925</td>\n",
       "      <td>1.997922</td>\n",
       "      <td>31.780802</td>\n",
       "      <td>11.413148</td>\n",
       "      <td>0</td>\n",
       "      <td>-5151.6711</td>\n",
       "      <td>-4594.5105</td>\n",
       "      <td>1912.6640</td>\n",
       "      <td>-2469.8246</td>\n",
       "      <td>0</td>\n",
       "      <td>4141.2288</td>\n",
       "    </tr>\n",
       "    <tr>\n",
       "      <th>8</th>\n",
       "      <td>3300</td>\n",
       "      <td>-4869.1224</td>\n",
       "      <td>225.77794</td>\n",
       "      <td>-5094.9003</td>\n",
       "      <td>308.31949</td>\n",
       "      <td>152.709970</td>\n",
       "      <td>-4859.9428</td>\n",
       "      <td>3.129562</td>\n",
       "      <td>33.707811</td>\n",
       "      <td>12.531508</td>\n",
       "      <td>0</td>\n",
       "      <td>-5144.2692</td>\n",
       "      <td>-4596.4822</td>\n",
       "      <td>1922.3414</td>\n",
       "      <td>-2470.1284</td>\n",
       "      <td>0</td>\n",
       "      <td>4121.7311</td>\n",
       "    </tr>\n",
       "    <tr>\n",
       "      <th>9</th>\n",
       "      <td>3400</td>\n",
       "      <td>-4906.8202</td>\n",
       "      <td>196.77442</td>\n",
       "      <td>-5103.5946</td>\n",
       "      <td>268.71264</td>\n",
       "      <td>3063.297300</td>\n",
       "      <td>-4723.7770</td>\n",
       "      <td>2.457126</td>\n",
       "      <td>36.477242</td>\n",
       "      <td>11.756964</td>\n",
       "      <td>0</td>\n",
       "      <td>-5154.2860</td>\n",
       "      <td>-4590.5115</td>\n",
       "      <td>1907.5630</td>\n",
       "      <td>-2471.3375</td>\n",
       "      <td>0</td>\n",
       "      <td>4097.2128</td>\n",
       "    </tr>\n",
       "    <tr>\n",
       "      <th>10</th>\n",
       "      <td>3500</td>\n",
       "      <td>-4916.3594</td>\n",
       "      <td>211.48760</td>\n",
       "      <td>-5127.8470</td>\n",
       "      <td>288.80478</td>\n",
       "      <td>3880.822800</td>\n",
       "      <td>-4686.2676</td>\n",
       "      <td>2.269858</td>\n",
       "      <td>34.112048</td>\n",
       "      <td>13.556176</td>\n",
       "      <td>0</td>\n",
       "      <td>-5177.7850</td>\n",
       "      <td>-4620.7599</td>\n",
       "      <td>1913.2346</td>\n",
       "      <td>-2470.2598</td>\n",
       "      <td>0</td>\n",
       "      <td>4065.3827</td>\n",
       "    </tr>\n",
       "    <tr>\n",
       "      <th>11</th>\n",
       "      <td>3600</td>\n",
       "      <td>-4882.5459</td>\n",
       "      <td>229.09722</td>\n",
       "      <td>-5111.6431</td>\n",
       "      <td>312.85224</td>\n",
       "      <td>5938.469300</td>\n",
       "      <td>-4530.6512</td>\n",
       "      <td>2.706597</td>\n",
       "      <td>38.169766</td>\n",
       "      <td>11.868042</td>\n",
       "      <td>0</td>\n",
       "      <td>-5164.3875</td>\n",
       "      <td>-4605.8509</td>\n",
       "      <td>1909.4381</td>\n",
       "      <td>-2467.9746</td>\n",
       "      <td>0</td>\n",
       "      <td>4063.1441</td>\n",
       "    </tr>\n",
       "    <tr>\n",
       "      <th>12</th>\n",
       "      <td>3700</td>\n",
       "      <td>-4880.1556</td>\n",
       "      <td>232.19482</td>\n",
       "      <td>-5112.3504</td>\n",
       "      <td>317.08229</td>\n",
       "      <td>2127.900000</td>\n",
       "      <td>-4753.1037</td>\n",
       "      <td>3.640992</td>\n",
       "      <td>38.033508</td>\n",
       "      <td>10.270576</td>\n",
       "      <td>0</td>\n",
       "      <td>-5164.2955</td>\n",
       "      <td>-4607.1403</td>\n",
       "      <td>1913.5089</td>\n",
       "      <td>-2470.6640</td>\n",
       "      <td>0</td>\n",
       "      <td>4094.0568</td>\n",
       "    </tr>\n",
       "    <tr>\n",
       "      <th>13</th>\n",
       "      <td>3800</td>\n",
       "      <td>-4912.3705</td>\n",
       "      <td>219.80294</td>\n",
       "      <td>-5132.1735</td>\n",
       "      <td>300.16009</td>\n",
       "      <td>-281.528170</td>\n",
       "      <td>-4929.1414</td>\n",
       "      <td>4.296687</td>\n",
       "      <td>34.989775</td>\n",
       "      <td>12.324781</td>\n",
       "      <td>0</td>\n",
       "      <td>-5183.7847</td>\n",
       "      <td>-4618.5659</td>\n",
       "      <td>1904.5603</td>\n",
       "      <td>-2469.7791</td>\n",
       "      <td>0</td>\n",
       "      <td>4084.6690</td>\n",
       "    </tr>\n",
       "    <tr>\n",
       "      <th>14</th>\n",
       "      <td>3900</td>\n",
       "      <td>-4900.9184</td>\n",
       "      <td>218.82246</td>\n",
       "      <td>-5119.7408</td>\n",
       "      <td>298.82116</td>\n",
       "      <td>-2492.297700</td>\n",
       "      <td>-5049.7624</td>\n",
       "      <td>3.604874</td>\n",
       "      <td>37.214615</td>\n",
       "      <td>11.143589</td>\n",
       "      <td>0</td>\n",
       "      <td>-5171.7039</td>\n",
       "      <td>-4613.4478</td>\n",
       "      <td>1912.9003</td>\n",
       "      <td>-2471.1564</td>\n",
       "      <td>0</td>\n",
       "      <td>4095.0160</td>\n",
       "    </tr>\n",
       "    <tr>\n",
       "      <th>15</th>\n",
       "      <td>4000</td>\n",
       "      <td>-4883.2151</td>\n",
       "      <td>229.19138</td>\n",
       "      <td>-5112.4064</td>\n",
       "      <td>312.98084</td>\n",
       "      <td>-1665.335900</td>\n",
       "      <td>-4982.4202</td>\n",
       "      <td>3.089551</td>\n",
       "      <td>34.109400</td>\n",
       "      <td>9.912623</td>\n",
       "      <td>0</td>\n",
       "      <td>-5159.5180</td>\n",
       "      <td>-4615.9022</td>\n",
       "      <td>1924.8731</td>\n",
       "      <td>-2468.4889</td>\n",
       "      <td>0</td>\n",
       "      <td>4084.6648</td>\n",
       "    </tr>\n",
       "    <tr>\n",
       "      <th>16</th>\n",
       "      <td>4100</td>\n",
       "      <td>-4921.5958</td>\n",
       "      <td>228.82274</td>\n",
       "      <td>-5150.4185</td>\n",
       "      <td>312.47743</td>\n",
       "      <td>-1707.403400</td>\n",
       "      <td>-5023.5976</td>\n",
       "      <td>2.883800</td>\n",
       "      <td>37.881202</td>\n",
       "      <td>10.887045</td>\n",
       "      <td>0</td>\n",
       "      <td>-5202.0706</td>\n",
       "      <td>-4642.5673</td>\n",
       "      <td>1911.6484</td>\n",
       "      <td>-2471.1517</td>\n",
       "      <td>0</td>\n",
       "      <td>4096.3407</td>\n",
       "    </tr>\n",
       "    <tr>\n",
       "      <th>17</th>\n",
       "      <td>4200</td>\n",
       "      <td>-4933.8949</td>\n",
       "      <td>205.65187</td>\n",
       "      <td>-5139.5468</td>\n",
       "      <td>280.83558</td>\n",
       "      <td>2245.577900</td>\n",
       "      <td>-4799.4504</td>\n",
       "      <td>2.685899</td>\n",
       "      <td>32.294699</td>\n",
       "      <td>12.110050</td>\n",
       "      <td>0</td>\n",
       "      <td>-5186.6374</td>\n",
       "      <td>-4617.2179</td>\n",
       "      <td>1901.4104</td>\n",
       "      <td>-2470.8299</td>\n",
       "      <td>0</td>\n",
       "      <td>4105.2447</td>\n",
       "    </tr>\n",
       "    <tr>\n",
       "      <th>18</th>\n",
       "      <td>4300</td>\n",
       "      <td>-4893.4190</td>\n",
       "      <td>221.70257</td>\n",
       "      <td>-5115.1216</td>\n",
       "      <td>302.75421</td>\n",
       "      <td>3112.634100</td>\n",
       "      <td>-4707.2862</td>\n",
       "      <td>1.591953</td>\n",
       "      <td>34.914335</td>\n",
       "      <td>11.884228</td>\n",
       "      <td>0</td>\n",
       "      <td>-5163.5121</td>\n",
       "      <td>-4611.5147</td>\n",
       "      <td>1918.5303</td>\n",
       "      <td>-2470.5276</td>\n",
       "      <td>0</td>\n",
       "      <td>4100.3305</td>\n",
       "    </tr>\n",
       "    <tr>\n",
       "      <th>19</th>\n",
       "      <td>4400</td>\n",
       "      <td>-4908.2730</td>\n",
       "      <td>223.39589</td>\n",
       "      <td>-5131.6689</td>\n",
       "      <td>305.06659</td>\n",
       "      <td>3384.249500</td>\n",
       "      <td>-4708.9329</td>\n",
       "      <td>3.815138</td>\n",
       "      <td>32.234163</td>\n",
       "      <td>11.737000</td>\n",
       "      <td>0</td>\n",
       "      <td>-5179.4552</td>\n",
       "      <td>-4622.9351</td>\n",
       "      <td>1914.6870</td>\n",
       "      <td>-2471.2070</td>\n",
       "      <td>0</td>\n",
       "      <td>4038.8367</td>\n",
       "    </tr>\n",
       "    <tr>\n",
       "      <th>20</th>\n",
       "      <td>4500</td>\n",
       "      <td>-4922.3109</td>\n",
       "      <td>222.12305</td>\n",
       "      <td>-5144.4340</td>\n",
       "      <td>303.32841</td>\n",
       "      <td>376.928910</td>\n",
       "      <td>-4900.0929</td>\n",
       "      <td>3.869078</td>\n",
       "      <td>30.646233</td>\n",
       "      <td>11.450030</td>\n",
       "      <td>0</td>\n",
       "      <td>-5190.3993</td>\n",
       "      <td>-4637.4325</td>\n",
       "      <td>1916.7402</td>\n",
       "      <td>-2469.7070</td>\n",
       "      <td>0</td>\n",
       "      <td>4041.7509</td>\n",
       "    </tr>\n",
       "    <tr>\n",
       "      <th>21</th>\n",
       "      <td>4600</td>\n",
       "      <td>-4884.4623</td>\n",
       "      <td>237.78024</td>\n",
       "      <td>-5122.2425</td>\n",
       "      <td>324.70967</td>\n",
       "      <td>1179.931300</td>\n",
       "      <td>-4814.5769</td>\n",
       "      <td>4.263140</td>\n",
       "      <td>34.314367</td>\n",
       "      <td>10.012555</td>\n",
       "      <td>0</td>\n",
       "      <td>-5170.8326</td>\n",
       "      <td>-4625.7110</td>\n",
       "      <td>1926.1749</td>\n",
       "      <td>-2471.2964</td>\n",
       "      <td>0</td>\n",
       "      <td>4061.1908</td>\n",
       "    </tr>\n",
       "    <tr>\n",
       "      <th>22</th>\n",
       "      <td>4700</td>\n",
       "      <td>-4914.0318</td>\n",
       "      <td>219.17533</td>\n",
       "      <td>-5133.2072</td>\n",
       "      <td>299.30305</td>\n",
       "      <td>1136.641500</td>\n",
       "      <td>-4846.5658</td>\n",
       "      <td>3.415075</td>\n",
       "      <td>35.193919</td>\n",
       "      <td>10.538386</td>\n",
       "      <td>0</td>\n",
       "      <td>-5182.3545</td>\n",
       "      <td>-4605.0969</td>\n",
       "      <td>1891.8857</td>\n",
       "      <td>-2469.1434</td>\n",
       "      <td>0</td>\n",
       "      <td>4069.9209</td>\n",
       "    </tr>\n",
       "    <tr>\n",
       "      <th>23</th>\n",
       "      <td>4800</td>\n",
       "      <td>-4922.9117</td>\n",
       "      <td>210.62912</td>\n",
       "      <td>-5133.5408</td>\n",
       "      <td>287.63244</td>\n",
       "      <td>-1508.853600</td>\n",
       "      <td>-5012.3804</td>\n",
       "      <td>3.707596</td>\n",
       "      <td>30.140218</td>\n",
       "      <td>12.293157</td>\n",
       "      <td>0</td>\n",
       "      <td>-5179.6818</td>\n",
       "      <td>-4634.5220</td>\n",
       "      <td>1925.3829</td>\n",
       "      <td>-2470.5427</td>\n",
       "      <td>0</td>\n",
       "      <td>4065.8186</td>\n",
       "    </tr>\n",
       "    <tr>\n",
       "      <th>24</th>\n",
       "      <td>4900</td>\n",
       "      <td>-4892.8838</td>\n",
       "      <td>220.56071</td>\n",
       "      <td>-5113.4445</td>\n",
       "      <td>301.19490</td>\n",
       "      <td>-457.173120</td>\n",
       "      <td>-4920.1674</td>\n",
       "      <td>1.184846</td>\n",
       "      <td>32.391832</td>\n",
       "      <td>7.515284</td>\n",
       "      <td>0</td>\n",
       "      <td>-5154.5365</td>\n",
       "      <td>-4618.9411</td>\n",
       "      <td>1935.3922</td>\n",
       "      <td>-2470.9876</td>\n",
       "      <td>0</td>\n",
       "      <td>4092.0810</td>\n",
       "    </tr>\n",
       "    <tr>\n",
       "      <th>25</th>\n",
       "      <td>5000</td>\n",
       "      <td>-4905.3026</td>\n",
       "      <td>229.63152</td>\n",
       "      <td>-5134.9341</td>\n",
       "      <td>313.58189</td>\n",
       "      <td>139.074780</td>\n",
       "      <td>-4897.0152</td>\n",
       "      <td>1.609300</td>\n",
       "      <td>32.121823</td>\n",
       "      <td>10.972376</td>\n",
       "      <td>0</td>\n",
       "      <td>-5179.6376</td>\n",
       "      <td>-4626.3832</td>\n",
       "      <td>1916.8365</td>\n",
       "      <td>-2470.0909</td>\n",
       "      <td>0</td>\n",
       "      <td>4085.9617</td>\n",
       "    </tr>\n",
       "  </tbody>\n",
       "</table>\n",
       "</div>"
      ],
      "text/plain": [
       "    Step     TotEng     KinEng     PotEng       Temp        Press   Enthalpy  \\\n",
       "0   2500 -4868.6619  193.21465 -5061.8766  263.85148 -6727.784300 -5292.2532   \n",
       "1   2600 -4850.7416  226.95726 -5077.6989  309.92995 -2370.108100 -4996.7715   \n",
       "2   2700 -4885.9756  239.54427 -5125.5199  327.11861   -10.278584 -4886.5850   \n",
       "3   2800 -4932.8416  205.54310 -5138.3847  280.68705 -5436.450100 -5253.2339   \n",
       "4   2900 -4885.2916  243.55590 -5128.8475  332.59684 -3323.337700 -5082.0840   \n",
       "5   3000 -4870.5919  224.67916 -5095.2711  306.81901  -622.924950 -4907.5975   \n",
       "6   3100 -4915.0010  213.52339 -5128.5244  291.58482 -3057.739100 -5096.7990   \n",
       "7   3200 -4898.3139  208.16531 -5106.4793  284.26790 -4927.158400 -5195.8925   \n",
       "8   3300 -4869.1224  225.77794 -5094.9003  308.31949   152.709970 -4859.9428   \n",
       "9   3400 -4906.8202  196.77442 -5103.5946  268.71264  3063.297300 -4723.7770   \n",
       "10  3500 -4916.3594  211.48760 -5127.8470  288.80478  3880.822800 -4686.2676   \n",
       "11  3600 -4882.5459  229.09722 -5111.6431  312.85224  5938.469300 -4530.6512   \n",
       "12  3700 -4880.1556  232.19482 -5112.3504  317.08229  2127.900000 -4753.1037   \n",
       "13  3800 -4912.3705  219.80294 -5132.1735  300.16009  -281.528170 -4929.1414   \n",
       "14  3900 -4900.9184  218.82246 -5119.7408  298.82116 -2492.297700 -5049.7624   \n",
       "15  4000 -4883.2151  229.19138 -5112.4064  312.98084 -1665.335900 -4982.4202   \n",
       "16  4100 -4921.5958  228.82274 -5150.4185  312.47743 -1707.403400 -5023.5976   \n",
       "17  4200 -4933.8949  205.65187 -5139.5468  280.83558  2245.577900 -4799.4504   \n",
       "18  4300 -4893.4190  221.70257 -5115.1216  302.75421  3112.634100 -4707.2862   \n",
       "19  4400 -4908.2730  223.39589 -5131.6689  305.06659  3384.249500 -4708.9329   \n",
       "20  4500 -4922.3109  222.12305 -5144.4340  303.32841   376.928910 -4900.0929   \n",
       "21  4600 -4884.4623  237.78024 -5122.2425  324.70967  1179.931300 -4814.5769   \n",
       "22  4700 -4914.0318  219.17533 -5133.2072  299.30305  1136.641500 -4846.5658   \n",
       "23  4800 -4922.9117  210.62912 -5133.5408  287.63244 -1508.853600 -5012.3804   \n",
       "24  4900 -4892.8838  220.56071 -5113.4445  301.19490  -457.173120 -4920.1674   \n",
       "25  5000 -4905.3026  229.63152 -5134.9341  313.58189   139.074780 -4897.0152   \n",
       "\n",
       "      E_bond    E_angle    E_dihed  E_impro     E_pair     E_vdwl     E_coul  \\\n",
       "0   1.478791  32.860804  12.164234        0 -5108.3804 -4577.8631  1940.0030   \n",
       "1   3.181612  33.585982  12.524021        0 -5126.9905 -4600.3991  1944.0658   \n",
       "2   2.882992  31.594986  10.898500        0 -5170.8964 -4636.1061  1933.2051   \n",
       "3   1.939171  34.604338   9.782817        0 -5184.7110 -4633.0784  1918.6461   \n",
       "4   2.539352  33.477868  14.636347        0 -5179.5010 -4596.6267  1888.4420   \n",
       "5   1.726120  34.280881  12.599759        0 -5143.8778 -4594.3540  1919.6603   \n",
       "6   2.009368  28.471840  11.991318        0 -5170.9969 -4616.5814  1916.7419   \n",
       "7   1.997922  31.780802  11.413148        0 -5151.6711 -4594.5105  1912.6640   \n",
       "8   3.129562  33.707811  12.531508        0 -5144.2692 -4596.4822  1922.3414   \n",
       "9   2.457126  36.477242  11.756964        0 -5154.2860 -4590.5115  1907.5630   \n",
       "10  2.269858  34.112048  13.556176        0 -5177.7850 -4620.7599  1913.2346   \n",
       "11  2.706597  38.169766  11.868042        0 -5164.3875 -4605.8509  1909.4381   \n",
       "12  3.640992  38.033508  10.270576        0 -5164.2955 -4607.1403  1913.5089   \n",
       "13  4.296687  34.989775  12.324781        0 -5183.7847 -4618.5659  1904.5603   \n",
       "14  3.604874  37.214615  11.143589        0 -5171.7039 -4613.4478  1912.9003   \n",
       "15  3.089551  34.109400   9.912623        0 -5159.5180 -4615.9022  1924.8731   \n",
       "16  2.883800  37.881202  10.887045        0 -5202.0706 -4642.5673  1911.6484   \n",
       "17  2.685899  32.294699  12.110050        0 -5186.6374 -4617.2179  1901.4104   \n",
       "18  1.591953  34.914335  11.884228        0 -5163.5121 -4611.5147  1918.5303   \n",
       "19  3.815138  32.234163  11.737000        0 -5179.4552 -4622.9351  1914.6870   \n",
       "20  3.869078  30.646233  11.450030        0 -5190.3993 -4637.4325  1916.7402   \n",
       "21  4.263140  34.314367  10.012555        0 -5170.8326 -4625.7110  1926.1749   \n",
       "22  3.415075  35.193919  10.538386        0 -5182.3545 -4605.0969  1891.8857   \n",
       "23  3.707596  30.140218  12.293157        0 -5179.6818 -4634.5220  1925.3829   \n",
       "24  1.184846  32.391832   7.515284        0 -5154.5365 -4618.9411  1935.3922   \n",
       "25  1.609300  32.121823  10.972376        0 -5179.6376 -4626.3832  1916.8365   \n",
       "\n",
       "       E_long  E_tail     Volume  \n",
       "0  -2470.5203       0  4317.1693  \n",
       "1  -2470.6572       0  4224.7178  \n",
       "2  -2467.9953       0  4065.1464  \n",
       "3  -2470.2787       0  4041.0181  \n",
       "4  -2471.3163       0  4060.2984  \n",
       "5  -2469.1840       0  4073.3894  \n",
       "6  -2471.1575       0  4076.7370  \n",
       "7  -2469.8246       0  4141.2288  \n",
       "8  -2470.1284       0  4121.7311  \n",
       "9  -2471.3375       0  4097.2128  \n",
       "10 -2470.2598       0  4065.3827  \n",
       "11 -2467.9746       0  4063.1441  \n",
       "12 -2470.6640       0  4094.0568  \n",
       "13 -2469.7791       0  4084.6690  \n",
       "14 -2471.1564       0  4095.0160  \n",
       "15 -2468.4889       0  4084.6648  \n",
       "16 -2471.1517       0  4096.3407  \n",
       "17 -2470.8299       0  4105.2447  \n",
       "18 -2470.5276       0  4100.3305  \n",
       "19 -2471.2070       0  4038.8367  \n",
       "20 -2469.7070       0  4041.7509  \n",
       "21 -2471.2964       0  4061.1908  \n",
       "22 -2469.1434       0  4069.9209  \n",
       "23 -2470.5427       0  4065.8186  \n",
       "24 -2470.9876       0  4092.0810  \n",
       "25 -2470.0909       0  4085.9617  "
      ]
     },
     "execution_count": 53,
     "metadata": {},
     "output_type": "execute_result"
    }
   ],
   "source": [
    "nptEquilibration_thermo_pd"
   ]
  },
  {
   "cell_type": "code",
   "execution_count": 54,
   "metadata": {},
   "outputs": [],
   "source": [
    "equilibration_pd = pd.concat([nvtEquilibration_thermo_pd,nptEquilibration_thermo_pd])"
   ]
  },
  {
   "cell_type": "code",
   "execution_count": 55,
   "metadata": {},
   "outputs": [],
   "source": [
    "equilibration_pd.set_index(\"Step\",inplace=True)"
   ]
  },
  {
   "cell_type": "code",
   "execution_count": 56,
   "metadata": {},
   "outputs": [
    {
     "data": {
      "text/plain": [
       "<matplotlib.axes._subplots.AxesSubplot at 0x7fe5d8753f98>"
      ]
     },
     "execution_count": 56,
     "metadata": {},
     "output_type": "execute_result"
    },
    {
     "data": {
      "image/png": "[encoded data removed]",
      "text/plain": [
       "<matplotlib.figure.Figure at 0x7fe5d874fb70>"
      ]
     },
     "metadata": {},
     "output_type": "display_data"
    }
   ],
   "source": [
    "nptEquilibration_thermo_pd[[\"Temp\"]].plot() # taimed temperature"
   ]
  },
  {
   "cell_type": "code",
   "execution_count": 57,
   "metadata": {},
   "outputs": [
    {
     "data": {
      "text/plain": [
       "<matplotlib.axes._subplots.AxesSubplot at 0x7fe5d86d50b8>"
      ]
     },
     "execution_count": 57,
     "metadata": {},
     "output_type": "execute_result"
    },
    {
     "data": {
      "image/png": "[encoded data removed]",
      "text/plain": [
       "<matplotlib.figure.Figure at 0x7fe5d86fecc0>"
      ]
     },
     "metadata": {},
     "output_type": "display_data"
    }
   ],
   "source": [
    "equilibration_pd[[\"Temp\"]].plot()"
   ]
  },
  {
   "cell_type": "code",
   "execution_count": 58,
   "metadata": {},
   "outputs": [
    {
     "data": {
      "text/plain": [
       "<matplotlib.axes._subplots.AxesSubplot at 0x7fe5d8993710>"
      ]
     },
     "execution_count": 58,
     "metadata": {},
     "output_type": "execute_result"
    },
    {
     "data": {
      "image/png": "[encoded data removed]",
      "text/plain": [
       "<matplotlib.figure.Figure at 0x7fe5d87417f0>"
      ]
     },
     "metadata": {},
     "output_type": "display_data"
    }
   ],
   "source": [
    "nptEquilibration_thermo_pd[[\"Press\"]].plot() # wild pressure"
   ]
  },
  {
   "cell_type": "code",
   "execution_count": 59,
   "metadata": {},
   "outputs": [
    {
     "data": {
      "text/plain": [
       "<matplotlib.axes._subplots.AxesSubplot at 0x7fe5d85d6940>"
      ]
     },
     "execution_count": 59,
     "metadata": {},
     "output_type": "execute_result"
    },
    {
     "data": {
      "image/png": "[encoded data removed]",
      "text/plain": [
       "<matplotlib.figure.Figure at 0x7fe5d86b7128>"
      ]
     },
     "metadata": {},
     "output_type": "display_data"
    }
   ],
   "source": [
    "equilibration_pd[[\"Press\"]].plot()"
   ]
  },
  {
   "cell_type": "code",
   "execution_count": 60,
   "metadata": {},
   "outputs": [
    {
     "data": {
      "text/plain": [
       "<matplotlib.axes._subplots.AxesSubplot at 0x7fe5d868bc88>"
      ]
     },
     "execution_count": 60,
     "metadata": {},
     "output_type": "execute_result"
    },
    {
     "data": {
      "image/png": "[encoded data removed]",
      "text/plain": [
       "<matplotlib.figure.Figure at 0x7fe5d860dbe0>"
      ]
     },
     "metadata": {},
     "output_type": "display_data"
    }
   ],
   "source": [
    "equilibration_pd[[\"TotEng\",\"KinEng\",\"PotEng\"]].plot()"
   ]
  },
  {
   "cell_type": "code",
   "execution_count": 61,
   "metadata": {},
   "outputs": [
    {
     "data": {
      "text/plain": [
       "<matplotlib.axes._subplots.AxesSubplot at 0x7fe5d860dba8>"
      ]
     },
     "execution_count": 61,
     "metadata": {},
     "output_type": "execute_result"
    },
    {
     "data": {
      "image/png": "[encoded data removed]",
      "text/plain": [
       "<matplotlib.figure.Figure at 0x7fe5d832d400>"
      ]
     },
     "metadata": {},
     "output_type": "display_data"
    }
   ],
   "source": [
    "# intramolecular energy contributions\n",
    "equilibration_pd[[\"E_bond\",\"E_angle\",\"E_dihed\"]].plot() "
   ]
  },
  {
   "cell_type": "code",
   "execution_count": 62,
   "metadata": {},
   "outputs": [],
   "source": [
    "# total intramolecular (\"bonded\") interactions:\n",
    "equilibration_pd[\"E_intramolecular\"] = equilibration_pd[[\"E_bond\",\"E_angle\",\"E_dihed\"]].sum(axis=1)"
   ]
  },
  {
   "cell_type": "code",
   "execution_count": 63,
   "metadata": {},
   "outputs": [
    {
     "data": {
      "text/plain": [
       "<matplotlib.axes._subplots.AxesSubplot at 0x7fe5d8ac9240>"
      ]
     },
     "execution_count": 63,
     "metadata": {},
     "output_type": "execute_result"
    },
    {
     "data": {
      "image/png": "[encoded data removed]",
      "text/plain": [
       "<matplotlib.figure.Figure at 0x7fe5d8321978>"
      ]
     },
     "metadata": {},
     "output_type": "display_data"
    }
   ],
   "source": [
    "equilibration_pd[[\"E_intramolecular\"]][1:].plot()"
   ]
  },
  {
   "cell_type": "code",
   "execution_count": 64,
   "metadata": {},
   "outputs": [
    {
     "data": {
      "text/plain": [
       "<matplotlib.axes._subplots.AxesSubplot at 0x7fe5d8260dd8>"
      ]
     },
     "execution_count": 64,
     "metadata": {},
     "output_type": "execute_result"
    },
    {
     "data": {
      "image/png": "[encoded data removed]",
      "text/plain": [
       "<matplotlib.figure.Figure at 0x7fe5d8294160>"
      ]
     },
     "metadata": {},
     "output_type": "display_data"
    }
   ],
   "source": [
    "# intermolecular (\"non-bonded\") energy contribtutions\n",
    "equilibration_pd[[\"E_pair\",\"E_vdwl\",\"E_coul\",\"E_long\"]].plot() # units?"
   ]
  },
  {
   "cell_type": "code",
   "execution_count": 136,
   "metadata": {},
   "outputs": [
    {
     "data": {
      "text/plain": [
       "<matplotlib.axes._subplots.AxesSubplot at 0x7f0b016b0a90>"
      ]
     },
     "execution_count": 136,
     "metadata": {},
     "output_type": "execute_result"
    },
    {
     "data": {
      "image/png": "[encoded data removed]",
      "text/plain": [
       "<matplotlib.figure.Figure at 0x7f0b016fd4a8>"
      ]
     },
     "metadata": {},
     "output_type": "display_data"
    }
   ],
   "source": [
    "# The total energy decreases, but intramolecular energy increases during minimization:\n",
    "equilibration_pd[[\"PotEng\",\"E_pair\"]].plot()"
   ]
  },
  {
   "cell_type": "markdown",
   "metadata": {},
   "source": [
    "## trajectory visualization with ASE and ParmEd"
   ]
  },
  {
   "cell_type": "code",
   "execution_count": 70,
   "metadata": {},
   "outputs": [],
   "source": [
    "pdb_file_initial_config = absolute_prefix + os.sep + '1_SDS_on_AU_100_2x4x4_psfgen_ctrl.pdb'\n",
    "lmp_file_initial_config = absolute_prefix + os.sep + '1_SDS_on_AU_100_2x4x4_psfgen.data'\n",
    "#traj_file_10ps = absolute_prefix + os.sep + '1_SDS_on_AU_100_2x4x4_charmmfsw_long_10_12_10ps_nveProduction.nc'\n",
    "#traj_file_1ns = absolute_prefix + os.sep + '1_SDS_on_AU_100_2x4x4_charmmfsw_long_10_12_1ns_nveProduction.nc'"
   ]
  },
  {
   "cell_type": "code",
   "execution_count": 67,
   "metadata": {},
   "outputs": [],
   "source": [
    "traj_file_npt_10ps = absolute_prefix + os.sep + \\\n",
    "    '1_SDS_on_AU_100_2x4x4_charmmfsw_long_10_12_10ps_npt_nptProduction.dump'"
   ]
  },
  {
   "cell_type": "code",
   "execution_count": 71,
   "metadata": {},
   "outputs": [],
   "source": [
    "# ASE by default infers elements from LAMMPS atom types, in our case they are unrelated\n",
    "# During preprocessing, our system went through several formats, one of them the \n",
    "# archaic .pdb format. Although ASE offers a pdb reader, it fails on our system.\n",
    "\n",
    "# On the other hand, ParmEd is able to read .pdb and infer elements more or less accurately,\n",
    "# but cannot process netCDF. Thus we combine both:\n",
    "struct_pdb_pmd = pmd.read_PDB(pdb_file_initial_config)"
   ]
  },
  {
   "cell_type": "code",
   "execution_count": 72,
   "metadata": {},
   "outputs": [],
   "source": [
    "resnames = np.unique([r.name for r in struct_pdb_pmd.residues])"
   ]
  },
  {
   "cell_type": "code",
   "execution_count": 73,
   "metadata": {},
   "outputs": [
    {
     "data": {
      "text/plain": [
       "array(['AUM', 'HOH', 'ION', 'SDS'],\n",
       "      dtype='<U3')"
      ]
     },
     "execution_count": 73,
     "metadata": {},
     "output_type": "execute_result"
    }
   ],
   "source": [
    "resnames # residues in system"
   ]
  },
  {
   "cell_type": "code",
   "execution_count": 74,
   "metadata": {},
   "outputs": [],
   "source": [
    "water = [ a for a in struct_pdb_pmd.atoms if a.residue.name == 'HOH' ] # water"
   ]
  },
  {
   "cell_type": "code",
   "execution_count": 75,
   "metadata": {},
   "outputs": [],
   "source": [
    "water_indices = [ a.number - 1 for a in water ] # to remove water atoms later"
   ]
  },
  {
   "cell_type": "code",
   "execution_count": 76,
   "metadata": {},
   "outputs": [],
   "source": [
    "surface = [ a for a in struct_pdb_pmd.atoms if a.residue.name == 'AUM' ] # gold surface"
   ]
  },
  {
   "cell_type": "code",
   "execution_count": 77,
   "metadata": {},
   "outputs": [],
   "source": [
    "surface_indices = [ a.number - 1 for a in surface ] "
   ]
  },
  {
   "cell_type": "code",
   "execution_count": 78,
   "metadata": {},
   "outputs": [
    {
     "data": {
      "text/plain": [
       "0"
      ]
     },
     "execution_count": 78,
     "metadata": {},
     "output_type": "execute_result"
    }
   ],
   "source": [
    "surface_indices[0] # double check index begins at 0"
   ]
  },
  {
   "cell_type": "code",
   "execution_count": 79,
   "metadata": {},
   "outputs": [],
   "source": [
    "surfactant = [ a for a in struct_pdb_pmd.atoms if a.residue.name == 'SDS' ]"
   ]
  },
  {
   "cell_type": "code",
   "execution_count": 80,
   "metadata": {},
   "outputs": [],
   "source": [
    "surfactant_indices = [ a.number - 1 for a in surfactant ] "
   ]
  },
  {
   "cell_type": "code",
   "execution_count": 81,
   "metadata": {},
   "outputs": [
    {
     "data": {
      "text/plain": [
       "42"
      ]
     },
     "execution_count": 81,
     "metadata": {},
     "output_type": "execute_result"
    }
   ],
   "source": [
    "len(surfactant_indices)"
   ]
  },
  {
   "cell_type": "code",
   "execution_count": 82,
   "metadata": {},
   "outputs": [],
   "source": [
    "ions = [ a for a in struct_pdb_pmd.atoms if a.residue.name == 'ION' ] # sodium counterions"
   ]
  },
  {
   "cell_type": "code",
   "execution_count": 83,
   "metadata": {},
   "outputs": [
    {
     "data": {
      "text/plain": [
       "[<Atom SOD [263]; In ION 160>]"
      ]
     },
     "execution_count": 83,
     "metadata": {},
     "output_type": "execute_result"
    }
   ],
   "source": [
    "ions"
   ]
  },
  {
   "cell_type": "code",
   "execution_count": 84,
   "metadata": {},
   "outputs": [
    {
     "data": {
      "text/plain": [
       "16"
      ]
     },
     "execution_count": 84,
     "metadata": {},
     "output_type": "execute_result"
    }
   ],
   "source": [
    "ions[0].atomic_number # wrong: inferred S (sulfur)"
   ]
  },
  {
   "cell_type": "code",
   "execution_count": 85,
   "metadata": {},
   "outputs": [],
   "source": [
    "ions[0].atomic_number = 11 # small sodium correction: apparently, SOD and S are both interpreted as sulfur"
   ]
  },
  {
   "cell_type": "code",
   "execution_count": 86,
   "metadata": {},
   "outputs": [
    {
     "data": {
      "application/vnd.jupyter.widget-view+json": {
       "model_id": "eedcf05b02b244de9635846814eaa51e",
       "version_major": 2,
       "version_minor": 0
      },
      "text/html": [
       "<p>Failed to display Jupyter Widget of type <code>NGLWidget</code>.</p>\n",
       "<p>\n",
       "  If you're reading this message in Jupyter Notebook or JupyterLab, it may mean\n",
       "  that the widgets JavaScript is still loading. If this message persists, it\n",
       "  likely means that the widgets JavaScript library is either not installed or\n",
       "  not enabled. See the <a href=\"https://ipywidgets.readthedocs.io/en/stable/user_install.html\">Jupyter\n",
       "  Widgets Documentation</a> for setup instructions.\n",
       "</p>\n",
       "<p>\n",
       "  If you're reading this message in another notebook frontend (for example, a static\n",
       "  rendering on GitHub or <a href=\"https://nbviewer.jupyter.org/\">NBViewer</a>),\n",
       "  it may mean that your frontend doesn't currently support widgets.\n",
       "</p>\n"
      ],
      "text/plain": [
       "NGLWidget()"
      ]
     },
     "metadata": {},
     "output_type": "display_data"
    }
   ],
   "source": [
    "nv.show_parmed(struct_pdb_pmd)"
   ]
  },
  {
   "cell_type": "code",
   "execution_count": 87,
   "metadata": {},
   "outputs": [],
   "source": [
    "atomic_numbers = np.array([ a.atomic_number for a in struct_pdb_pmd.atoms ]) # elements numbered as in periodic table"
   ]
  },
  {
   "cell_type": "code",
   "execution_count": 88,
   "metadata": {},
   "outputs": [],
   "source": [
    "struct = read(lmp_file_initial_config,format='lammps-data')"
   ]
  },
  {
   "cell_type": "code",
   "execution_count": 89,
   "metadata": {},
   "outputs": [],
   "source": [
    "atomic_types = struct.get_atomic_numbers() # types as numbered in LAMMPS"
   ]
  },
  {
   "cell_type": "code",
   "execution_count": 90,
   "metadata": {},
   "outputs": [],
   "source": [
    "types2numbers = dict(zip(atomic_types,atomic_numbers)) # automatically picks unique tuples"
   ]
  },
  {
   "cell_type": "code",
   "execution_count": 91,
   "metadata": {},
   "outputs": [
    {
     "data": {
      "text/plain": [
       "{1: 1, 2: 1, 3: 6, 4: 6, 5: 8, 6: 8, 7: 16, 8: 79, 9: 1, 10: 8, 12: 11}"
      ]
     },
     "execution_count": 91,
     "metadata": {},
     "output_type": "execute_result"
    }
   ],
   "source": [
    "types2numbers"
   ]
  },
  {
   "cell_type": "code",
   "execution_count": 92,
   "metadata": {},
   "outputs": [],
   "source": [
    "struct.set_atomic_numbers(atomic_numbers) # set ASE element numbers correctly"
   ]
  },
  {
   "cell_type": "code",
   "execution_count": 93,
   "metadata": {},
   "outputs": [],
   "source": [
    "struct.center() # put system in box"
   ]
  },
  {
   "cell_type": "code",
   "execution_count": 94,
   "metadata": {},
   "outputs": [
    {
     "data": {
      "application/vnd.jupyter.widget-view+json": {
       "model_id": "782dcb32f53841d391b15841926c4507",
       "version_major": 2,
       "version_minor": 0
      },
      "text/html": [
       "<p>Failed to display Jupyter Widget of type <code>HBox</code>.</p>\n",
       "<p>\n",
       "  If you're reading this message in Jupyter Notebook or JupyterLab, it may mean\n",
       "  that the widgets JavaScript is still loading. If this message persists, it\n",
       "  likely means that the widgets JavaScript library is either not installed or\n",
       "  not enabled. See the <a href=\"https://ipywidgets.readthedocs.io/en/stable/user_install.html\">Jupyter\n",
       "  Widgets Documentation</a> for setup instructions.\n",
       "</p>\n",
       "<p>\n",
       "  If you're reading this message in another notebook frontend (for example, a static\n",
       "  rendering on GitHub or <a href=\"https://nbviewer.jupyter.org/\">NBViewer</a>),\n",
       "  it may mean that your frontend doesn't currently support widgets.\n",
       "</p>\n"
      ],
      "text/plain": [
       "HBox(children=(NGLWidget(), VBox(children=(Dropdown(description='Show', options=('All', 'O', 'C', 'S', 'Au', 'H', 'Na'), value='All'), FloatSlider(value=0.8, description='Ball size', max=1.5, step=0.01)))))"
      ]
     },
     "metadata": {},
     "output_type": "display_data"
    }
   ],
   "source": [
    "view(struct,viewer='ngl')"
   ]
  },
  {
   "cell_type": "code",
   "execution_count": 95,
   "metadata": {},
   "outputs": [
    {
     "data": {
      "text/plain": [
       "11"
      ]
     },
     "execution_count": 95,
     "metadata": {},
     "output_type": "execute_result"
    }
   ],
   "source": [
    "len(types2numbers)"
   ]
  },
  {
   "cell_type": "code",
   "execution_count": 96,
   "metadata": {},
   "outputs": [
    {
     "data": {
      "text/plain": [
       "dict_items([(8, 79), (7, 16), (5, 8), (6, 8), (3, 6), (1, 1), (4, 6), (2, 1), (10, 8), (9, 1), (12, 11)])"
      ]
     },
     "execution_count": 96,
     "metadata": {},
     "output_type": "execute_result"
    }
   ],
   "source": [
    "types2numbers.items()"
   ]
  },
  {
   "cell_type": "code",
   "execution_count": 121,
   "metadata": {},
   "outputs": [
    {
     "data": {
      "text/plain": [
       "array([ 1,  2,  3,  4,  5,  6,  7,  8,  9, 10, 12])"
      ]
     },
     "execution_count": 121,
     "metadata": {},
     "output_type": "execute_result"
    }
   ],
   "source": [
    "np.unique(atomic_types)"
   ]
  },
  {
   "cell_type": "code",
   "execution_count": 122,
   "metadata": {},
   "outputs": [
    {
     "data": {
      "text/plain": [
       "12"
      ]
     },
     "execution_count": 122,
     "metadata": {},
     "output_type": "execute_result"
    }
   ],
   "source": [
    "atomic_types.max()"
   ]
  },
  {
   "cell_type": "code",
   "execution_count": 123,
   "metadata": {},
   "outputs": [
    {
     "data": {
      "text/plain": [
       "11"
      ]
     },
     "execution_count": 123,
     "metadata": {},
     "output_type": "execute_result"
    }
   ],
   "source": [
    "len(types2numbers)"
   ]
  },
  {
   "cell_type": "code",
   "execution_count": 100,
   "metadata": {},
   "outputs": [],
   "source": [
    "# construct array, where indices represent LAMMPS type numbers and point to atomic numbers"
   ]
  },
  {
   "cell_type": "code",
   "execution_count": 101,
   "metadata": {},
   "outputs": [],
   "source": [
    "types2numbers_array = np.zeros(atomic_types.max()+1,dtype=np.uint)"
   ]
  },
  {
   "cell_type": "code",
   "execution_count": 102,
   "metadata": {},
   "outputs": [],
   "source": [
    "for k,v in types2numbers.items():\n",
    "    types2numbers_array[k] = v"
   ]
  },
  {
   "cell_type": "code",
   "execution_count": 103,
   "metadata": {},
   "outputs": [
    {
     "data": {
      "text/plain": [
       "array([ 0,  1,  1,  6,  6,  8,  8, 16, 79,  1,  8,  0, 11], dtype=uint64)"
      ]
     },
     "execution_count": 103,
     "metadata": {},
     "output_type": "execute_result"
    }
   ],
   "source": [
    "types2numbers_array "
   ]
  },
  {
   "cell_type": "code",
   "execution_count": 104,
   "metadata": {},
   "outputs": [
    {
     "data": {
      "text/plain": [
       "13"
      ]
     },
     "execution_count": 104,
     "metadata": {},
     "output_type": "execute_result"
    }
   ],
   "source": [
    "len(types2numbers_array)"
   ]
  },
  {
   "cell_type": "code",
   "execution_count": 105,
   "metadata": {},
   "outputs": [
    {
     "data": {
      "text/plain": [
       "array([79, 79, 79, 79, 79, 79, 79, 79, 79, 79, 79, 79, 79, 79, 79, 79, 79,\n",
       "       79, 79, 79, 79, 79, 79, 79, 79, 79, 79, 79, 79, 79, 79, 79, 79, 79,\n",
       "       79, 79, 79, 79, 79, 79, 79, 79, 79, 79, 79, 79, 79, 79, 79, 79, 79,\n",
       "       79, 79, 79, 79, 79, 79, 79, 79, 79, 79, 79, 79, 79, 79, 79, 79, 79,\n",
       "       79, 79, 79, 79, 79, 79, 79, 79, 79, 79, 79, 79, 79, 79, 79, 79, 79,\n",
       "       79, 79, 79, 79, 79, 79, 79, 79, 79, 79, 79, 79, 79, 79, 79, 79, 79,\n",
       "       79, 79, 79, 79, 79, 79, 79, 79, 79, 79, 79, 79, 79, 79, 79, 79, 79,\n",
       "       79, 79, 79, 79, 79, 79, 79, 79, 79, 16,  8,  8,  8,  8,  6,  1,  1,\n",
       "        6,  1,  1,  6,  1,  1,  6,  1,  1,  6,  1,  1,  6,  1,  1,  6,  1,\n",
       "        1,  6,  1,  1,  6,  1,  1,  6,  1,  1,  6,  1,  1,  6,  1,  1,  1,\n",
       "        8,  1,  1,  8,  1,  1,  8,  1,  1,  8,  1,  1,  8,  1,  1,  8,  1,\n",
       "        1,  8,  1,  1,  8,  1,  1,  8,  1,  1,  8,  1,  1,  8,  1,  1,  8,\n",
       "        1,  1,  8,  1,  1,  8,  1,  1,  8,  1,  1,  8,  1,  1,  8,  1,  1,\n",
       "        8,  1,  1,  8,  1,  1,  8,  1,  1,  8,  1,  1,  8,  1,  1,  8,  1,\n",
       "        1,  8,  1,  1,  8,  1,  1,  8,  1,  1,  8,  1,  1,  8,  1,  1,  8,\n",
       "        1,  1,  8,  1,  1,  8,  1,  1, 11,  8,  1,  1,  8,  1,  1,  8,  1,\n",
       "        1,  8,  1,  1,  8,  1,  1,  8,  1,  1,  8,  1,  1,  8,  1,  1,  8,\n",
       "        1,  1,  8,  1,  1,  8,  1,  1], dtype=uint64)"
      ]
     },
     "execution_count": 105,
     "metadata": {},
     "output_type": "execute_result"
    }
   ],
   "source": [
    "types2numbers_array[atomic_types]"
   ]
  },
  {
   "cell_type": "code",
   "execution_count": 106,
   "metadata": {},
   "outputs": [
    {
     "data": {
      "text/plain": [
       "[0, 1, 1, 6, 6, 8, 8, 16, 79, 1, 8, 0, 11]"
      ]
     },
     "execution_count": 106,
     "metadata": {},
     "output_type": "execute_result"
    }
   ],
   "source": [
    "list(types2numbers_array)"
   ]
  },
  {
   "cell_type": "code",
   "execution_count": 127,
   "metadata": {},
   "outputs": [],
   "source": [
    "npt_10ps_traj = read(traj_file_npt_10ps, index=':',format='lammps-dump')"
   ]
  },
  {
   "cell_type": "code",
   "execution_count": 130,
   "metadata": {},
   "outputs": [],
   "source": [
    "# frame points to the original object and modifications on frame are applied\n",
    "# to npt_10ps_traj as well\n",
    "for frame in npt_10ps_traj: \n",
    "    frame.set_atomic_numbers(types2numbers_array[atomic_types])"
   ]
  },
  {
   "cell_type": "code",
   "execution_count": 131,
   "metadata": {},
   "outputs": [
    {
     "data": {
      "text/plain": [
       "Atoms(symbols='C12H109Au128NaO46S', pbc=False, cell=[19.373507552279136, 14.53013066420969, 14.53013066420969])"
      ]
     },
     "execution_count": 131,
     "metadata": {},
     "output_type": "execute_result"
    }
   ],
   "source": [
    "frame"
   ]
  },
  {
   "cell_type": "code",
   "execution_count": 132,
   "metadata": {},
   "outputs": [
    {
     "data": {
      "text/plain": [
       "[Atoms(symbols='C12H109Au128NaO46S', pbc=False, cell=[19.36677260130469, 14.52507945097862, 14.52507945097862]),\n",
       " Atoms(symbols='C12H109Au128NaO46S', pbc=False, cell=[19.34487544853033, 14.50865658639784, 14.50865658639784]),\n",
       " Atoms(symbols='C12H109Au128NaO46S', pbc=False, cell=[19.354384544265738, 14.515788408199423, 14.515788408199423]),\n",
       " Atoms(symbols='C12H109Au128NaO46S', pbc=False, cell=[19.337363840518183, 14.503022880388764, 14.503022880388764]),\n",
       " Atoms(symbols='C12H109Au128NaO46S', pbc=False, cell=[19.37689375995215, 14.532670319964254, 14.532670319964254]),\n",
       " Atoms(symbols='C12H109Au128NaO46S', pbc=False, cell=[19.382685042358023, 14.537013781768659, 14.537013781768659]),\n",
       " Atoms(symbols='C12H109Au128NaO46S', pbc=False, cell=[19.373457700509935, 14.530093275382583, 14.530093275382583]),\n",
       " Atoms(symbols='C12H109Au128NaO46S', pbc=False, cell=[19.374647291756595, 14.530985468817573, 14.530985468817573]),\n",
       " Atoms(symbols='C12H109Au128NaO46S', pbc=False, cell=[19.295695033898756, 14.471771275424217, 14.471771275424217]),\n",
       " Atoms(symbols='C12H109Au128NaO46S', pbc=False, cell=[19.3067577826793, 14.480068337009637, 14.480068337009637]),\n",
       " Atoms(symbols='C12H109Au128NaO46S', pbc=False, cell=[19.303825164506105, 14.477868873379748, 14.477868873379748]),\n",
       " Atoms(symbols='C12H109Au128NaO46S', pbc=False, cell=[19.314710444691567, 14.486032833518871, 14.486032833518871]),\n",
       " Atoms(symbols='C12H109Au128NaO46S', pbc=False, cell=[19.309051886478407, 14.48178891485901, 14.48178891485901]),\n",
       " Atoms(symbols='C12H109Au128NaO46S', pbc=False, cell=[19.338935364254873, 14.504201523191364, 14.504201523191364]),\n",
       " Atoms(symbols='C12H109Au128NaO46S', pbc=False, cell=[19.391821768166505, 14.543866326125048, 14.543866326125048]),\n",
       " Atoms(symbols='C12H109Au128NaO46S', pbc=False, cell=[19.366156738484502, 14.524617553863564, 14.524617553863564]),\n",
       " Atoms(symbols='C12H109Au128NaO46S', pbc=False, cell=[19.335187185194393, 14.50139038889596, 14.50139038889596]),\n",
       " Atoms(symbols='C12H109Au128NaO46S', pbc=False, cell=[19.279276198603924, 14.459457148953115, 14.459457148953115]),\n",
       " Atoms(symbols='C12H109Au128NaO46S', pbc=False, cell=[19.33216720990594, 14.499125407429638, 14.499125407429638]),\n",
       " Atoms(symbols='C12H109Au128NaO46S', pbc=False, cell=[19.31917255870599, 14.489379419029683, 14.489379419029683]),\n",
       " Atoms(symbols='C12H109Au128NaO46S', pbc=False, cell=[19.367412518145812, 14.525559388609553, 14.525559388609553]),\n",
       " Atoms(symbols='C12H109Au128NaO46S', pbc=False, cell=[19.33532997283567, 14.501497479626957, 14.501497479626957]),\n",
       " Atoms(symbols='C12H109Au128NaO46S', pbc=False, cell=[19.333666952986757, 14.5002502147403, 14.5002502147403]),\n",
       " Atoms(symbols='C12H109Au128NaO46S', pbc=False, cell=[19.336482165692562, 14.502361624269644, 14.502361624269644]),\n",
       " Atoms(symbols='C12H109Au128NaO46S', pbc=False, cell=[19.380707058316354, 14.535530293737477, 14.535530293737477]),\n",
       " Atoms(symbols='C12H109Au128NaO46S', pbc=False, cell=[19.363429534293452, 14.522572150720302, 14.522572150720302]),\n",
       " Atoms(symbols='C12H109Au128NaO46S', pbc=False, cell=[19.32156739017157, 14.491175542628904, 14.491175542628904]),\n",
       " Atoms(symbols='C12H109Au128NaO46S', pbc=False, cell=[19.32644818835769, 14.4948361412685, 14.4948361412685]),\n",
       " Atoms(symbols='C12H109Au128NaO46S', pbc=False, cell=[19.425449433848293, 14.569087075386461, 14.569087075386461]),\n",
       " Atoms(symbols='C12H109Au128NaO46S', pbc=False, cell=[19.455752988933902, 14.591814741700658, 14.591814741700658]),\n",
       " Atoms(symbols='C12H109Au128NaO46S', pbc=False, cell=[19.44007562190153, 14.580056716426364, 14.580056716426364]),\n",
       " Atoms(symbols='C12H109Au128NaO46S', pbc=False, cell=[19.379299401267964, 14.534474550951181, 14.534474550951181]),\n",
       " Atoms(symbols='C12H109Au128NaO46S', pbc=False, cell=[19.370658095673427, 14.527993571755285, 14.527993571755285]),\n",
       " Atoms(symbols='C12H109Au128NaO46S', pbc=False, cell=[19.38403419676595, 14.538025647574692, 14.538025647574692]),\n",
       " Atoms(symbols='C12H109Au128NaO46S', pbc=False, cell=[19.345315505573275, 14.508986629180194, 14.508986629180194]),\n",
       " Atoms(symbols='C12H109Au128NaO46S', pbc=False, cell=[19.320529034406135, 14.490396775804845, 14.490396775804845]),\n",
       " Atoms(symbols='C12H109Au128NaO46S', pbc=False, cell=[19.35589151136471, 14.516918633523792, 14.516918633523792]),\n",
       " Atoms(symbols='C12H109Au128NaO46S', pbc=False, cell=[19.37321421151934, 14.529910658639764, 14.529910658639764]),\n",
       " Atoms(symbols='C12H109Au128NaO46S', pbc=False, cell=[19.347058183614486, 14.510293637711134, 14.510293637711134]),\n",
       " Atoms(symbols='C12H109Au128NaO46S', pbc=False, cell=[19.370185244753653, 14.527638933565518, 14.527638933565518]),\n",
       " Atoms(symbols='C12H109Au128NaO46S', pbc=False, cell=[19.38709114546051, 14.540318359095664, 14.540318359095664]),\n",
       " Atoms(symbols='C12H109Au128NaO46S', pbc=False, cell=[19.392496598640626, 14.544372448980754, 14.544372448980754]),\n",
       " Atoms(symbols='C12H109Au128NaO46S', pbc=False, cell=[19.3430633597336, 14.507297519800467, 14.507297519800467]),\n",
       " Atoms(symbols='C12H109Au128NaO46S', pbc=False, cell=[19.279712619892152, 14.459784464919407, 14.459784464919407]),\n",
       " Atoms(symbols='C12H109Au128NaO46S', pbc=False, cell=[19.27228473247342, 14.454213549355323, 14.454213549355323]),\n",
       " Atoms(symbols='C12H109Au128NaO46S', pbc=False, cell=[19.316084620279483, 14.487063465209864, 14.487063465209864]),\n",
       " Atoms(symbols='C12H109Au128NaO46S', pbc=False, cell=[19.34682355321864, 14.510117664914235, 14.510117664914235]),\n",
       " Atoms(symbols='C12H109Au128NaO46S', pbc=False, cell=[19.323049289740688, 14.49228696730578, 14.49228696730578]),\n",
       " Atoms(symbols='C12H109Au128NaO46S', pbc=False, cell=[19.308373296067582, 14.481279972050967, 14.481279972050967]),\n",
       " Atoms(symbols='C12H109Au128NaO46S', pbc=False, cell=[19.298007720403916, 14.473505790303243, 14.473505790303243]),\n",
       " Atoms(symbols='C12H109Au128NaO46S', pbc=False, cell=[19.373507552279136, 14.53013066420969, 14.53013066420969])]"
      ]
     },
     "execution_count": 132,
     "metadata": {},
     "output_type": "execute_result"
    }
   ],
   "source": [
    "npt_10ps_traj"
   ]
  },
  {
   "cell_type": "code",
   "execution_count": 133,
   "metadata": {},
   "outputs": [],
   "source": [
    "view(npt_10ps_traj)"
   ]
  },
  {
   "cell_type": "code",
   "execution_count": 423,
   "metadata": {},
   "outputs": [],
   "source": [
    "traj = NetCDFTrajectory(traj_file_10ps, 'r',\n",
    "                        types_to_numbers=list(types2numbers_array),\n",
    "                        keep_open=True)\n",
    "# workaround to center trajecory in box\n",
    "# (ASE places the box origin at 0,0,0 by default)\n",
    "frames = []\n",
    "for i,frame in enumerate(traj):\n",
    "    frame.center() \n",
    "    frames.append( frame )\n",
    "traj.close()"
   ]
  },
  {
   "cell_type": "code",
   "execution_count": 117,
   "metadata": {},
   "outputs": [
    {
     "ename": "NameError",
     "evalue": "name 'frame' is not defined",
     "output_type": "error",
     "traceback": [
      "\u001b[0;31m---------------------------------------------------------------------------\u001b[0m",
      "\u001b[0;31mNameError\u001b[0m                                 Traceback (most recent call last)",
      "\u001b[0;32m<ipython-input-117-15624b5d9663>\u001b[0m in \u001b[0;36m<module>\u001b[0;34m()\u001b[0m\n\u001b[0;32m----> 1\u001b[0;31m \u001b[0mview\u001b[0m\u001b[0;34m(\u001b[0m\u001b[0mframe\u001b[0m\u001b[0;34m)\u001b[0m \u001b[0;31m# view last frame in ASE gui\u001b[0m\u001b[0;34m\u001b[0m\u001b[0m\n\u001b[0m",
      "\u001b[0;31mNameError\u001b[0m: name 'frame' is not defined"
     ]
    }
   ],
   "source": [
    "view(frame) # view last frame in ASE gui"
   ]
  },
  {
   "cell_type": "code",
   "execution_count": 406,
   "metadata": {},
   "outputs": [],
   "source": [
    "view(frames) # view whole trajectory in ASE gui"
   ]
  },
  {
   "cell_type": "code",
   "execution_count": 342,
   "metadata": {},
   "outputs": [
    {
     "data": {
      "text/plain": [
       "'/work/ws/nemo/fr_jh1130-201708-0/jobs/lmplab/sds/201806/1_SDS_on_AU_100_2x4x4'"
      ]
     },
     "execution_count": 342,
     "metadata": {},
     "output_type": "execute_result"
    }
   ],
   "source": [
    "%pwd"
   ]
  },
  {
   "cell_type": "code",
   "execution_count": 343,
   "metadata": {},
   "outputs": [
    {
     "data": {
      "text/plain": [
       "Atoms(symbols='C12H387Au128NaO185S', pbc=True, cell=[38.27284789205136, 14.352318250561908, 14.352318250561908], masses=..., mol=..., momenta=...)"
      ]
     },
     "execution_count": 343,
     "metadata": {},
     "output_type": "execute_result"
    }
   ],
   "source": [
    "traj[0]"
   ]
  },
  {
   "cell_type": "code",
   "execution_count": 266,
   "metadata": {},
   "outputs": [
    {
     "data": {
      "text/plain": [
       "'/work/ws/nemo/fr_jh1130-201708-0/jobs/lmplab/sds/201806/1_SDS_on_AU_100_2x4x4'"
      ]
     },
     "execution_count": 266,
     "metadata": {},
     "output_type": "execute_result"
    }
   ],
   "source": [
    "%pwd"
   ]
  },
  {
   "cell_type": "code",
   "execution_count": 118,
   "metadata": {},
   "outputs": [
    {
     "ename": "AttributeError",
     "evalue": "'Atom' object has no attribute 'write'",
     "output_type": "error",
     "traceback": [
      "\u001b[0;31m---------------------------------------------------------------------------\u001b[0m",
      "\u001b[0;31mAttributeError\u001b[0m                            Traceback (most recent call last)",
      "\u001b[0;32m<ipython-input-118-ad079843ee2d>\u001b[0m in \u001b[0;36m<module>\u001b[0;34m()\u001b[0m\n\u001b[0;32m----> 1\u001b[0;31m \u001b[0mnv\u001b[0m\u001b[0;34m.\u001b[0m\u001b[0mshow_asetraj\u001b[0m\u001b[0;34m(\u001b[0m\u001b[0mnpt_10ps_traj\u001b[0m\u001b[0;34m)\u001b[0m\u001b[0;34m\u001b[0m\u001b[0m\n\u001b[0m",
      "\u001b[0;32m~/.local/lib/python3.6/site-packages/nglview/show.py\u001b[0m in \u001b[0;36mshow_asetraj\u001b[0;34m(ase_traj, **kwargs)\u001b[0m\n\u001b[1;32m    125\u001b[0m     '''\n\u001b[1;32m    126\u001b[0m     \u001b[0mtrajectory\u001b[0m \u001b[0;34m=\u001b[0m \u001b[0mASETrajectory\u001b[0m\u001b[0;34m(\u001b[0m\u001b[0mase_traj\u001b[0m\u001b[0;34m)\u001b[0m\u001b[0;34m\u001b[0m\u001b[0m\n\u001b[0;32m--> 127\u001b[0;31m     \u001b[0;32mreturn\u001b[0m \u001b[0mNGLWidget\u001b[0m\u001b[0;34m(\u001b[0m\u001b[0mtrajectory\u001b[0m\u001b[0;34m,\u001b[0m \u001b[0;34m**\u001b[0m\u001b[0mkwargs\u001b[0m\u001b[0;34m)\u001b[0m\u001b[0;34m\u001b[0m\u001b[0m\n\u001b[0m\u001b[1;32m    128\u001b[0m \u001b[0;34m\u001b[0m\u001b[0m\n\u001b[1;32m    129\u001b[0m \u001b[0;34m\u001b[0m\u001b[0m\n",
      "\u001b[0;32m~/.local/lib/python3.6/site-packages/nglview/widget.py\u001b[0m in \u001b[0;36m__init__\u001b[0;34m(self, structure, representations, parameters, **kwargs)\u001b[0m\n\u001b[1;32m    176\u001b[0m         \u001b[0;32mif\u001b[0m \u001b[0misinstance\u001b[0m\u001b[0;34m(\u001b[0m\u001b[0mstructure\u001b[0m\u001b[0;34m,\u001b[0m \u001b[0mTrajectory\u001b[0m\u001b[0;34m)\u001b[0m\u001b[0;34m:\u001b[0m\u001b[0;34m\u001b[0m\u001b[0m\n\u001b[1;32m    177\u001b[0m             \u001b[0mname\u001b[0m \u001b[0;34m=\u001b[0m \u001b[0mpy_utils\u001b[0m\u001b[0;34m.\u001b[0m\u001b[0mget_name\u001b[0m\u001b[0;34m(\u001b[0m\u001b[0mstructure\u001b[0m\u001b[0;34m,\u001b[0m \u001b[0mkwargs\u001b[0m\u001b[0;34m)\u001b[0m\u001b[0;34m\u001b[0m\u001b[0m\n\u001b[0;32m--> 178\u001b[0;31m             \u001b[0mself\u001b[0m\u001b[0;34m.\u001b[0m\u001b[0madd_trajectory\u001b[0m\u001b[0;34m(\u001b[0m\u001b[0mstructure\u001b[0m\u001b[0;34m,\u001b[0m \u001b[0mname\u001b[0m\u001b[0;34m=\u001b[0m\u001b[0mname\u001b[0m\u001b[0;34m)\u001b[0m\u001b[0;34m\u001b[0m\u001b[0m\n\u001b[0m\u001b[1;32m    179\u001b[0m         \u001b[0;32melif\u001b[0m \u001b[0misinstance\u001b[0m\u001b[0;34m(\u001b[0m\u001b[0mstructure\u001b[0m\u001b[0;34m,\u001b[0m \u001b[0;34m(\u001b[0m\u001b[0mlist\u001b[0m\u001b[0;34m,\u001b[0m \u001b[0mtuple\u001b[0m\u001b[0;34m)\u001b[0m\u001b[0;34m)\u001b[0m\u001b[0;34m:\u001b[0m\u001b[0;34m\u001b[0m\u001b[0m\n\u001b[1;32m    180\u001b[0m             \u001b[0mtrajectories\u001b[0m \u001b[0;34m=\u001b[0m \u001b[0mstructure\u001b[0m\u001b[0;34m\u001b[0m\u001b[0m\n",
      "\u001b[0;32m~/.local/lib/python3.6/site-packages/nglview/widget.py\u001b[0m in \u001b[0;36madd_trajectory\u001b[0;34m(self, trajectory, **kwargs)\u001b[0m\n\u001b[1;32m   1104\u001b[0m             \u001b[0mtrajectory\u001b[0m \u001b[0;34m=\u001b[0m \u001b[0mtrajectory\u001b[0m\u001b[0;34m\u001b[0m\u001b[0m\n\u001b[1;32m   1105\u001b[0m \u001b[0;34m\u001b[0m\u001b[0m\n\u001b[0;32m-> 1106\u001b[0;31m         \u001b[0mself\u001b[0m\u001b[0;34m.\u001b[0m\u001b[0m_load_data\u001b[0m\u001b[0;34m(\u001b[0m\u001b[0mtrajectory\u001b[0m\u001b[0;34m,\u001b[0m \u001b[0;34m**\u001b[0m\u001b[0mkwargs\u001b[0m\u001b[0;34m)\u001b[0m\u001b[0;34m\u001b[0m\u001b[0m\n\u001b[0m\u001b[1;32m   1107\u001b[0m         \u001b[0msetattr\u001b[0m\u001b[0;34m(\u001b[0m\u001b[0mtrajectory\u001b[0m\u001b[0;34m,\u001b[0m \u001b[0;34m'shown'\u001b[0m\u001b[0;34m,\u001b[0m \u001b[0;32mTrue\u001b[0m\u001b[0;34m)\u001b[0m\u001b[0;34m\u001b[0m\u001b[0m\n\u001b[1;32m   1108\u001b[0m         \u001b[0mself\u001b[0m\u001b[0;34m.\u001b[0m\u001b[0m_trajlist\u001b[0m\u001b[0;34m.\u001b[0m\u001b[0mappend\u001b[0m\u001b[0;34m(\u001b[0m\u001b[0mtrajectory\u001b[0m\u001b[0;34m)\u001b[0m\u001b[0;34m\u001b[0m\u001b[0m\n",
      "\u001b[0;32m~/.local/lib/python3.6/site-packages/nglview/widget.py\u001b[0m in \u001b[0;36m_load_data\u001b[0;34m(self, obj, **kwargs)\u001b[0m\n\u001b[1;32m   1172\u001b[0m         \u001b[0;32mif\u001b[0m \u001b[0;32mnot\u001b[0m \u001b[0mis_url\u001b[0m\u001b[0;34m:\u001b[0m\u001b[0;34m\u001b[0m\u001b[0m\n\u001b[1;32m   1173\u001b[0m             \u001b[0;32mif\u001b[0m \u001b[0mhasattr\u001b[0m\u001b[0;34m(\u001b[0m\u001b[0mobj\u001b[0m\u001b[0;34m,\u001b[0m \u001b[0;34m'get_structure_string'\u001b[0m\u001b[0;34m)\u001b[0m\u001b[0;34m:\u001b[0m\u001b[0;34m\u001b[0m\u001b[0m\n\u001b[0;32m-> 1174\u001b[0;31m                 \u001b[0mblob\u001b[0m \u001b[0;34m=\u001b[0m \u001b[0mobj\u001b[0m\u001b[0;34m.\u001b[0m\u001b[0mget_structure_string\u001b[0m\u001b[0;34m(\u001b[0m\u001b[0;34m)\u001b[0m\u001b[0;34m\u001b[0m\u001b[0m\n\u001b[0m\u001b[1;32m   1175\u001b[0m                 \u001b[0mkwargs2\u001b[0m\u001b[0;34m[\u001b[0m\u001b[0;34m'ext'\u001b[0m\u001b[0;34m]\u001b[0m \u001b[0;34m=\u001b[0m \u001b[0mobj\u001b[0m\u001b[0;34m.\u001b[0m\u001b[0mext\u001b[0m\u001b[0;34m\u001b[0m\u001b[0m\n\u001b[1;32m   1176\u001b[0m                 \u001b[0mpassing_buffer\u001b[0m \u001b[0;34m=\u001b[0m \u001b[0;32mTrue\u001b[0m\u001b[0;34m\u001b[0m\u001b[0m\n",
      "\u001b[0;32m~/.local/lib/python3.6/site-packages/nglview/adaptor.py\u001b[0m in \u001b[0;36mget_structure_string\u001b[0;34m(self)\u001b[0m\n\u001b[1;32m    442\u001b[0m     \u001b[0;32mdef\u001b[0m \u001b[0mget_structure_string\u001b[0m\u001b[0;34m(\u001b[0m\u001b[0mself\u001b[0m\u001b[0;34m)\u001b[0m\u001b[0;34m:\u001b[0m\u001b[0;34m\u001b[0m\u001b[0m\n\u001b[1;32m    443\u001b[0m         \u001b[0;32mwith\u001b[0m \u001b[0mtempfolder\u001b[0m\u001b[0;34m(\u001b[0m\u001b[0;34m)\u001b[0m\u001b[0;34m:\u001b[0m\u001b[0;34m\u001b[0m\u001b[0m\n\u001b[0;32m--> 444\u001b[0;31m             \u001b[0mself\u001b[0m\u001b[0;34m.\u001b[0m\u001b[0mtrajectory\u001b[0m\u001b[0;34m[\u001b[0m\u001b[0;36m0\u001b[0m\u001b[0;34m]\u001b[0m\u001b[0;34m.\u001b[0m\u001b[0mwrite\u001b[0m\u001b[0;34m(\u001b[0m\u001b[0;34m'tmp.pdb'\u001b[0m\u001b[0;34m)\u001b[0m\u001b[0;34m\u001b[0m\u001b[0m\n\u001b[0m\u001b[1;32m    445\u001b[0m             \u001b[0;32mreturn\u001b[0m \u001b[0mopen\u001b[0m\u001b[0;34m(\u001b[0m\u001b[0;34m'tmp.pdb'\u001b[0m\u001b[0;34m)\u001b[0m\u001b[0;34m.\u001b[0m\u001b[0mread\u001b[0m\u001b[0;34m(\u001b[0m\u001b[0;34m)\u001b[0m\u001b[0;34m\u001b[0m\u001b[0m\n\u001b[1;32m    446\u001b[0m \u001b[0;34m\u001b[0m\u001b[0m\n",
      "\u001b[0;31mAttributeError\u001b[0m: 'Atom' object has no attribute 'write'"
     ]
    }
   ],
   "source": [
    "nv.show_asetraj(npt_10ps_traj)"
   ]
  },
  {
   "cell_type": "code",
   "execution_count": 413,
   "metadata": {},
   "outputs": [
    {
     "data": {
      "application/vnd.jupyter.widget-view+json": {
       "model_id": "7f9a8ff1693b4c279e84cc0d695dc3f7",
       "version_major": 2,
       "version_minor": 0
      },
      "text/html": [
       "<p>Failed to display Jupyter Widget of type <code>HBox</code>.</p>\n",
       "<p>\n",
       "  If you're reading this message in Jupyter Notebook or JupyterLab, it may mean\n",
       "  that the widgets JavaScript is still loading. If this message persists, it\n",
       "  likely means that the widgets JavaScript library is either not installed or\n",
       "  not enabled. See the <a href=\"https://ipywidgets.readthedocs.io/en/stable/user_install.html\">Jupyter\n",
       "  Widgets Documentation</a> for setup instructions.\n",
       "</p>\n",
       "<p>\n",
       "  If you're reading this message in another notebook frontend (for example, a static\n",
       "  rendering on GitHub or <a href=\"https://nbviewer.jupyter.org/\">NBViewer</a>),\n",
       "  it may mean that your frontend doesn't currently support widgets.\n",
       "</p>\n"
      ],
      "text/plain": [
       "HBox(children=(NGLWidget(), VBox(children=(Dropdown(description='Show', options=('All', 'C', 'O', 'S', 'Au', 'H', 'Na'), value='All'), FloatSlider(value=0.8, description='Ball size', max=1.5, step=0.01)))))"
      ]
     },
     "metadata": {},
     "output_type": "display_data"
    }
   ],
   "source": [
    "view(frames[0],viewer='ngl')"
   ]
  },
  {
   "cell_type": "code",
   "execution_count": 434,
   "metadata": {},
   "outputs": [
    {
     "data": {
      "application/vnd.jupyter.widget-view+json": {
       "model_id": "c16f50dea19f4610a479df429623562f",
       "version_major": 2,
       "version_minor": 0
      },
      "text/html": [
       "<p>Failed to display Jupyter Widget of type <code>HBox</code>.</p>\n",
       "<p>\n",
       "  If you're reading this message in Jupyter Notebook or JupyterLab, it may mean\n",
       "  that the widgets JavaScript is still loading. If this message persists, it\n",
       "  likely means that the widgets JavaScript library is either not installed or\n",
       "  not enabled. See the <a href=\"https://ipywidgets.readthedocs.io/en/stable/user_install.html\">Jupyter\n",
       "  Widgets Documentation</a> for setup instructions.\n",
       "</p>\n",
       "<p>\n",
       "  If you're reading this message in another notebook frontend (for example, a static\n",
       "  rendering on GitHub or <a href=\"https://nbviewer.jupyter.org/\">NBViewer</a>),\n",
       "  it may mean that your frontend doesn't currently support widgets.\n",
       "</p>\n"
      ],
      "text/plain": [
       "HBox(children=(NGLWidget(count=51), VBox(children=(Dropdown(description='Show', options=('All', 'C', 'O', 'S', 'Au', 'H', 'Na'), value='All'), FloatSlider(value=0.8, description='Ball size', max=1.5, step=0.01), IntSlider(value=0, max=50)))))"
      ]
     },
     "metadata": {},
     "output_type": "display_data"
    }
   ],
   "source": [
    "view(frames,viewer='ngl')"
   ]
  },
  {
   "cell_type": "code",
   "execution_count": 476,
   "metadata": {},
   "outputs": [],
   "source": [
    "traj_1ns = NetCDFTrajectory(traj_file_1ns, 'r',\n",
    "                        types_to_numbers=list(types2numbers_array),\n",
    "                        keep_open=True)\n",
    "# workaround to center trajecory in box\n",
    "# (ASE places the box origin at 0,0,0 by default)\n",
    "frames_1ns = []\n",
    "for i,frame in enumerate(traj_1ns):\n",
    "    frame.center() \n",
    "    frames_1ns.append( frame )\n",
    "traj_1ns.close()"
   ]
  },
  {
   "cell_type": "code",
   "execution_count": 477,
   "metadata": {},
   "outputs": [
    {
     "name": "stdout",
     "output_type": "stream",
     "text": [
      "peak memory: 814.77 MiB, increment: 0.00 MiB\n"
     ]
    }
   ],
   "source": [
    "%memit"
   ]
  },
  {
   "cell_type": "code",
   "execution_count": 478,
   "metadata": {},
   "outputs": [
    {
     "data": {
      "text/plain": [
       "5001"
      ]
     },
     "execution_count": 478,
     "metadata": {},
     "output_type": "execute_result"
    }
   ],
   "source": [
    "len(frames_1ns)"
   ]
  },
  {
   "cell_type": "code",
   "execution_count": 435,
   "metadata": {},
   "outputs": [
    {
     "data": {
      "application/vnd.jupyter.widget-view+json": {
       "model_id": "9c2ad3630e5a4a72942d4caa51541c09",
       "version_major": 2,
       "version_minor": 0
      },
      "text/html": [
       "<p>Failed to display Jupyter Widget of type <code>HBox</code>.</p>\n",
       "<p>\n",
       "  If you're reading this message in Jupyter Notebook or JupyterLab, it may mean\n",
       "  that the widgets JavaScript is still loading. If this message persists, it\n",
       "  likely means that the widgets JavaScript library is either not installed or\n",
       "  not enabled. See the <a href=\"https://ipywidgets.readthedocs.io/en/stable/user_install.html\">Jupyter\n",
       "  Widgets Documentation</a> for setup instructions.\n",
       "</p>\n",
       "<p>\n",
       "  If you're reading this message in another notebook frontend (for example, a static\n",
       "  rendering on GitHub or <a href=\"https://nbviewer.jupyter.org/\">NBViewer</a>),\n",
       "  it may mean that your frontend doesn't currently support widgets.\n",
       "</p>\n"
      ],
      "text/plain": [
       "HBox(children=(NGLWidget(count=5001), VBox(children=(Dropdown(description='Show', options=('All', 'C', 'O', 'S', 'Au', 'H', 'Na'), value='All'), FloatSlider(value=0.8, description='Ball size', max=1.5, step=0.01), IntSlider(value=0, max=5000)))))"
      ]
     },
     "metadata": {},
     "output_type": "display_data"
    }
   ],
   "source": [
    "view(frames_1ns,viewer='ngl') # does not work on frame array"
   ]
  },
  {
   "cell_type": "code",
   "execution_count": 436,
   "metadata": {},
   "outputs": [],
   "source": [
    "view(frames_1ns)"
   ]
  },
  {
   "cell_type": "code",
   "execution_count": 440,
   "metadata": {},
   "outputs": [
    {
     "data": {
      "text/plain": [
       "['__class__',\n",
       " '__delattr__',\n",
       " '__dir__',\n",
       " '__doc__',\n",
       " '__eq__',\n",
       " '__format__',\n",
       " '__ge__',\n",
       " '__getattribute__',\n",
       " '__gt__',\n",
       " '__hash__',\n",
       " '__init__',\n",
       " '__init_subclass__',\n",
       " '__le__',\n",
       " '__lt__',\n",
       " '__module__',\n",
       " '__ne__',\n",
       " '__new__',\n",
       " '__reduce__',\n",
       " '__reduce_ex__',\n",
       " '__repr__',\n",
       " '__setattr__',\n",
       " '__sizeof__',\n",
       " '__slots__',\n",
       " '__str__',\n",
       " '__subclasshook__',\n",
       " 'a',\n",
       " 'atoms',\n",
       " 'b',\n",
       " 'c',\n",
       " 'charge',\n",
       " 'cut_reference_to_atoms',\n",
       " 'data',\n",
       " 'delete',\n",
       " 'get',\n",
       " 'get_raw',\n",
       " 'index',\n",
       " 'magmom',\n",
       " 'mass',\n",
       " 'momentum',\n",
       " 'number',\n",
       " 'position',\n",
       " 'scaled_position',\n",
       " 'set',\n",
       " 'symbol',\n",
       " 'tag',\n",
       " 'x',\n",
       " 'y',\n",
       " 'z']"
      ]
     },
     "execution_count": 440,
     "metadata": {},
     "output_type": "execute_result"
    }
   ],
   "source": [
    "dir(frame[600])"
   ]
  },
  {
   "cell_type": "code",
   "execution_count": 458,
   "metadata": {},
   "outputs": [
    {
     "data": {
      "text/plain": [
       "Atoms(symbols='H362O181', pbc=True, cell=[38.27284789205136, 14.352318250561908, 14.352318250561908], masses=..., mol=..., momenta=...)"
      ]
     },
     "execution_count": 458,
     "metadata": {},
     "output_type": "execute_result"
    }
   ],
   "source": [
    "frame[water_indices]"
   ]
  },
  {
   "cell_type": "code",
   "execution_count": 459,
   "metadata": {},
   "outputs": [],
   "source": [
    "frames_1ns_stripped = []\n",
    "for frame in frames_1ns:\n",
    "    del frame[water_indices] # remove water from trajectory\n",
    "    frames_1ns_stripped.append(frame)"
   ]
  },
  {
   "cell_type": "code",
   "execution_count": null,
   "metadata": {},
   "outputs": [],
   "source": [
    "view(frames_1ns_stripped)"
   ]
  },
  {
   "cell_type": "code",
   "execution_count": 475,
   "metadata": {},
   "outputs": [
    {
     "data": {
      "text/plain": [
       "5001"
      ]
     },
     "execution_count": 475,
     "metadata": {},
     "output_type": "execute_result"
    }
   ],
   "source": [
    "len(frames_1ns_stripped)"
   ]
  },
  {
   "cell_type": "code",
   "execution_count": 479,
   "metadata": {},
   "outputs": [],
   "source": [
    "every_nth = 5"
   ]
  },
  {
   "cell_type": "code",
   "execution_count": 480,
   "metadata": {},
   "outputs": [
    {
     "data": {
      "text/plain": [
       "1001"
      ]
     },
     "execution_count": 480,
     "metadata": {},
     "output_type": "execute_result"
    }
   ],
   "source": [
    "len(frames_1ns_stripped[0::every_nth])"
   ]
  },
  {
   "cell_type": "code",
   "execution_count": 490,
   "metadata": {},
   "outputs": [
    {
     "data": {
      "text/plain": [
       "array([[ 38.27284789,   0.        ,   0.        ],\n",
       "       [  0.        ,  14.35231825,   0.        ],\n",
       "       [  0.        ,   0.        ,  14.35231825]])"
      ]
     },
     "execution_count": 490,
     "metadata": {},
     "output_type": "execute_result"
    }
   ],
   "source": [
    "cell"
   ]
  },
  {
   "cell_type": "code",
   "execution_count": 481,
   "metadata": {},
   "outputs": [],
   "source": [
    "png_prefix = absolute_prefix + os.sep + 'png' + os.sep + 'traj_1ns'"
   ]
  },
  {
   "cell_type": "code",
   "execution_count": 487,
   "metadata": {},
   "outputs": [],
   "source": [
    "# make a movie\n",
    "# https://wiki.fysik.dtu.dk/ase/development/making_movies.html\n",
    "for i,f in enumerate(frames_1ns_stripped[0::every_nth]):\n",
    "    cell = f.get_cell()\n",
    "    f = f.repeat((1, 2, 1))\n",
    "    f.set_cell(cell)\n",
    "    ase.io.write(png_prefix + '_{:05d}.png'.format(i), f, show_unit_cell=True, \n",
    "                bbox=[-5, -5, 45, 35])\n",
    "# bbox measures chosen to exceed cell once in x direction and twice in (repeated) y direction\n",
    "# externally execute\n",
    "#    ffmpeg -r 30 -f image2 -i \"traj_1ns_%05d.png\" -vcodec libx264 -crf 25 -pix_fmt yuv420p \"traj_1ns.mp4"
   ]
  },
  {
   "cell_type": "code",
   "execution_count": 488,
   "metadata": {},
   "outputs": [],
   "source": [
    "# Several problems with nglview:\n",
    "#  1) does not display or infer bonding for ASE trajectory\n",
    "#  2) even with displayed gui, not clear how to activate"
   ]
  },
  {
   "cell_type": "code",
   "execution_count": 430,
   "metadata": {},
   "outputs": [],
   "source": [
    "traj_1ns_nv = nv.ASETrajectory(traj_1ns)"
   ]
  },
  {
   "cell_type": "code",
   "execution_count": 431,
   "metadata": {},
   "outputs": [],
   "source": [
    "traj_1ns_widget = nv.NGLWidget(traj_1ns_nv)"
   ]
  },
  {
   "cell_type": "code",
   "execution_count": 387,
   "metadata": {},
   "outputs": [],
   "source": [
    "# traj2_widget.add_ball_and_stick()"
   ]
  },
  {
   "cell_type": "code",
   "execution_count": 432,
   "metadata": {},
   "outputs": [
    {
     "data": {
      "application/vnd.jupyter.widget-view+json": {
       "model_id": "c6c74dbe0b294b8f91a1ab2cded48948",
       "version_major": 2,
       "version_minor": 0
      },
      "text/html": [
       "<p>Failed to display Jupyter Widget of type <code>NGLWidget</code>.</p>\n",
       "<p>\n",
       "  If you're reading this message in Jupyter Notebook or JupyterLab, it may mean\n",
       "  that the widgets JavaScript is still loading. If this message persists, it\n",
       "  likely means that the widgets JavaScript library is either not installed or\n",
       "  not enabled. See the <a href=\"https://ipywidgets.readthedocs.io/en/stable/user_install.html\">Jupyter\n",
       "  Widgets Documentation</a> for setup instructions.\n",
       "</p>\n",
       "<p>\n",
       "  If you're reading this message in another notebook frontend (for example, a static\n",
       "  rendering on GitHub or <a href=\"https://nbviewer.jupyter.org/\">NBViewer</a>),\n",
       "  it may mean that your frontend doesn't currently support widgets.\n",
       "</p>\n"
      ],
      "text/plain": [
       "NGLWidget(count=5001)"
      ]
     },
     "metadata": {},
     "output_type": "display_data"
    }
   ],
   "source": [
    "traj_1ns_widget"
   ]
  },
  {
   "cell_type": "code",
   "execution_count": 377,
   "metadata": {},
   "outputs": [],
   "source": [
    "traj2_view = nv.show_asetraj(traj2)"
   ]
  },
  {
   "cell_type": "code",
   "execution_count": 378,
   "metadata": {},
   "outputs": [],
   "source": [
    "traj2_view.add_ball_and_stick('not hydrogen')"
   ]
  },
  {
   "cell_type": "code",
   "execution_count": 379,
   "metadata": {},
   "outputs": [
    {
     "data": {
      "application/vnd.jupyter.widget-view+json": {
       "model_id": "2866cc9000af41f09ea83f018555f290",
       "version_major": 2,
       "version_minor": 0
      },
      "text/html": [
       "<p>Failed to display Jupyter Widget of type <code>NGLWidget</code>.</p>\n",
       "<p>\n",
       "  If you're reading this message in Jupyter Notebook or JupyterLab, it may mean\n",
       "  that the widgets JavaScript is still loading. If this message persists, it\n",
       "  likely means that the widgets JavaScript library is either not installed or\n",
       "  not enabled. See the <a href=\"https://ipywidgets.readthedocs.io/en/stable/user_install.html\">Jupyter\n",
       "  Widgets Documentation</a> for setup instructions.\n",
       "</p>\n",
       "<p>\n",
       "  If you're reading this message in another notebook frontend (for example, a static\n",
       "  rendering on GitHub or <a href=\"https://nbviewer.jupyter.org/\">NBViewer</a>),\n",
       "  it may mean that your frontend doesn't currently support widgets.\n",
       "</p>\n"
      ],
      "text/plain": [
       "NGLWidget(count=5001)"
      ]
     },
     "metadata": {},
     "output_type": "display_data"
    }
   ],
   "source": [
    "traj2_view"
   ]
  },
  {
   "cell_type": "code",
   "execution_count": 433,
   "metadata": {},
   "outputs": [
    {
     "data": {
      "application/vnd.jupyter.widget-view+json": {
       "model_id": "37f2df2275664b18bfb44c76a4ad7f6b",
       "version_major": 2,
       "version_minor": 0
      },
      "text/html": [
       "<p>Failed to display Jupyter Widget of type <code>NGLWidget</code>.</p>\n",
       "<p>\n",
       "  If you're reading this message in Jupyter Notebook or JupyterLab, it may mean\n",
       "  that the widgets JavaScript is still loading. If this message persists, it\n",
       "  likely means that the widgets JavaScript library is either not installed or\n",
       "  not enabled. See the <a href=\"https://ipywidgets.readthedocs.io/en/stable/user_install.html\">Jupyter\n",
       "  Widgets Documentation</a> for setup instructions.\n",
       "</p>\n",
       "<p>\n",
       "  If you're reading this message in another notebook frontend (for example, a static\n",
       "  rendering on GitHub or <a href=\"https://nbviewer.jupyter.org/\">NBViewer</a>),\n",
       "  it may mean that your frontend doesn't currently support widgets.\n",
       "</p>\n"
      ],
      "text/plain": [
       "NGLWidget(count=5001)"
      ]
     },
     "metadata": {},
     "output_type": "display_data"
    },
    {
     "data": {
      "application/vnd.jupyter.widget-view+json": {
       "model_id": "3e789b20a5334e4c9e884b8d9c2bed20",
       "version_major": 2,
       "version_minor": 0
      },
      "text/html": [
       "<p>Failed to display Jupyter Widget of type <code>Tab</code>.</p>\n",
       "<p>\n",
       "  If you're reading this message in Jupyter Notebook or JupyterLab, it may mean\n",
       "  that the widgets JavaScript is still loading. If this message persists, it\n",
       "  likely means that the widgets JavaScript library is either not installed or\n",
       "  not enabled. See the <a href=\"https://ipywidgets.readthedocs.io/en/stable/user_install.html\">Jupyter\n",
       "  Widgets Documentation</a> for setup instructions.\n",
       "</p>\n",
       "<p>\n",
       "  If you're reading this message in another notebook frontend (for example, a static\n",
       "  rendering on GitHub or <a href=\"https://nbviewer.jupyter.org/\">NBViewer</a>),\n",
       "  it may mean that your frontend doesn't currently support widgets.\n",
       "</p>\n"
      ],
      "text/plain": [
       "Tab(children=(Box(children=(Box(children=(Box(children=(Label(value='step'), IntSlider(value=1, min=-100)), layout=Layout(display='flex', flex_flow='row', justify_content='space-between')), Box(children=(Label(value='delay'), IntSlider(value=100, max=1000, min=10)), layout=Layout(display='flex', flex_flow='row', justify_content='space-between')), Box(children=(Label(value='background'), ColorPicker(value='white')), layout=Layout(display='flex', flex_flow='row', justify_content='space-between')), Box(children=(Label(value='camera'), Dropdown(options=('perspective', 'orthographic'), value='perspective')), layout=Layout(display='flex', flex_flow='row', justify_content='space-between')), Box(children=(Label(value=''), HBox(children=(ToggleButton(value=False, description='Smoothing', tooltip='smoothing trajectory'), Button(description=' Center', icon='bullseye', style=ButtonStyle()), Button(description=' Screenshot', icon='camera', style=ButtonStyle()), Button(description='qtconsole', style=ButtonStyle(), tooltip='pop up qtconsole')), layout=Layout(flex='1 1 auto', width='auto'))), layout=Layout(display='flex', flex_flow='row', justify_content='space-between'))), layout=Layout(align_items='stretch', display='flex', flex_flow='column', width='100%')),)), Box(), Box(), Box(), Box(), Box()), layout=Layout(align_items='stretch', align_self='center'), _titles={'0': 'General', '1': 'Representation', '2': 'Preference', '3': 'Theme', '4': 'Extra', '5': 'Help'})"
      ]
     },
     "metadata": {},
     "output_type": "display_data"
    }
   ],
   "source": [
    "nv.show_asetraj(traj_1ns,gui=True)"
   ]
  },
  {
   "cell_type": "markdown",
   "metadata": {},
   "source": [
    "## MSD in post-processing"
   ]
  },
  {
   "cell_type": "code",
   "execution_count": 515,
   "metadata": {},
   "outputs": [],
   "source": [
    "N = len(frames_1ns_stripped)-1"
   ]
  },
  {
   "cell_type": "code",
   "execution_count": 516,
   "metadata": {},
   "outputs": [
    {
     "data": {
      "text/plain": [
       "5000"
      ]
     },
     "execution_count": 516,
     "metadata": {},
     "output_type": "execute_result"
    }
   ],
   "source": [
    "N"
   ]
  },
  {
   "cell_type": "code",
   "execution_count": 508,
   "metadata": {},
   "outputs": [],
   "source": [
    "surfactant_com_ref = frames_1ns_stripped[0][surfactant_indices].get_center_of_mass()"
   ]
  },
  {
   "cell_type": "code",
   "execution_count": 509,
   "metadata": {},
   "outputs": [
    {
     "data": {
      "text/plain": [
       "array([ 21.94608852,   3.34975768,   9.90398152])"
      ]
     },
     "execution_count": 509,
     "metadata": {},
     "output_type": "execute_result"
    }
   ],
   "source": [
    "surfactant_com_ref"
   ]
  },
  {
   "cell_type": "code",
   "execution_count": 569,
   "metadata": {},
   "outputs": [
    {
     "data": {
      "text/plain": [
       "array([ 18.4388852 ,   8.1263545 ,   6.75849102])"
      ]
     },
     "execution_count": 569,
     "metadata": {},
     "output_type": "execute_result"
    }
   ],
   "source": [
    "frames_1ns_stripped[-1][surfactant_indices].get_center_of_mass()"
   ]
  },
  {
   "cell_type": "code",
   "execution_count": 511,
   "metadata": {},
   "outputs": [
    {
     "data": {
      "text/plain": [
       "array([ 21.94608852,   3.34975768,   9.90398152])"
      ]
     },
     "execution_count": 511,
     "metadata": {},
     "output_type": "execute_result"
    }
   ],
   "source": [
    "surfactant_com_ref"
   ]
  },
  {
   "cell_type": "code",
   "execution_count": 536,
   "metadata": {},
   "outputs": [],
   "source": [
    "surfactant_com_msd = np.zeros((N,3))"
   ]
  },
  {
   "cell_type": "code",
   "execution_count": 537,
   "metadata": {},
   "outputs": [],
   "source": [
    "for i,f in enumerate(frames_1ns_stripped[1:]):\n",
    "    surfactant_com_msd[i,:] = (f[surfactant_indices].get_center_of_mass() - surfactant_com_ref)**2"
   ]
  },
  {
   "cell_type": "code",
   "execution_count": 538,
   "metadata": {},
   "outputs": [
    {
     "data": {
      "text/plain": [
       "array([ 21.94608852,   3.34975768,   9.90398152])"
      ]
     },
     "execution_count": 538,
     "metadata": {},
     "output_type": "execute_result"
    }
   ],
   "source": [
    "surfactant_com_ref"
   ]
  },
  {
   "cell_type": "code",
   "execution_count": 539,
   "metadata": {},
   "outputs": [
    {
     "data": {
      "text/plain": [
       "array([[  2.98328745e-03,   1.90587383e-02,   3.49474932e-02, ...,\n",
       "          1.27626765e+01,   1.16559258e+01,   1.23004751e+01],\n",
       "       [  8.91838907e-02,   1.15346156e-01,   8.20386403e-02, ...,\n",
       "          2.88147793e+01,   3.12878701e+01,   2.28158772e+01],\n",
       "       [  1.82144800e-03,   1.01678057e-01,   3.66263257e-02, ...,\n",
       "          1.15401924e+01,   1.25373240e+01,   9.89411045e+00]])"
      ]
     },
     "execution_count": 539,
     "metadata": {},
     "output_type": "execute_result"
    }
   ],
   "source": [
    "surfactant_com_msd.T"
   ]
  },
  {
   "cell_type": "code",
   "execution_count": 546,
   "metadata": {},
   "outputs": [],
   "source": [
    "TT = np.arange(1,N+1)*dt*100"
   ]
  },
  {
   "cell_type": "code",
   "execution_count": 547,
   "metadata": {},
   "outputs": [
    {
     "data": {
      "text/plain": [
       "array([  2.00000000e-13,   4.00000000e-13,   6.00000000e-13, ...,\n",
       "         9.99600000e-10,   9.99800000e-10,   1.00000000e-09])"
      ]
     },
     "execution_count": 547,
     "metadata": {},
     "output_type": "execute_result"
    }
   ],
   "source": [
    "TT"
   ]
  },
  {
   "cell_type": "code",
   "execution_count": 548,
   "metadata": {},
   "outputs": [
    {
     "data": {
      "text/plain": [
       "[<matplotlib.lines.Line2D at 0x7f2a18525128>,\n",
       " <matplotlib.lines.Line2D at 0x7f2a18525278>,\n",
       " <matplotlib.lines.Line2D at 0x7f2a185253c8>]"
      ]
     },
     "execution_count": 548,
     "metadata": {},
     "output_type": "execute_result"
    },
    {
     "data": {
      "image/png": "[encoded data removed]",
      "text/plain": [
       "<matplotlib.figure.Figure at 0x7f2a185ccb00>"
      ]
     },
     "metadata": {},
     "output_type": "display_data"
    }
   ],
   "source": [
    "plt.plot(TT,surfactant_com_msd)"
   ]
  },
  {
   "cell_type": "code",
   "execution_count": 551,
   "metadata": {},
   "outputs": [],
   "source": [
    "def running_mean(x, N):\n",
    "    cumsum = np.cumsum(np.insert(x, 0, 0)) \n",
    "    return (cumsum[N:] - cumsum[:-N]) / float(N)"
   ]
  },
  {
   "cell_type": "code",
   "execution_count": 553,
   "metadata": {},
   "outputs": [
    {
     "data": {
      "text/plain": [
       "14991"
      ]
     },
     "execution_count": 553,
     "metadata": {},
     "output_type": "execute_result"
    }
   ],
   "source": [
    "len(running_mean(surfactant_com_msd,10))"
   ]
  },
  {
   "cell_type": "code",
   "execution_count": 554,
   "metadata": {},
   "outputs": [],
   "source": [
    "def runningMeanFast(x, N):\n",
    "    return np.convolve(x, np.ones((N,))/N)[(N-1):]"
   ]
  },
  {
   "cell_type": "code",
   "execution_count": 559,
   "metadata": {},
   "outputs": [
    {
     "data": {
      "text/plain": [
       "5000"
      ]
     },
     "execution_count": 559,
     "metadata": {},
     "output_type": "execute_result"
    }
   ],
   "source": [
    "len(runningMeanFast(surfactant_com_msd[:,0],10))"
   ]
  },
  {
   "cell_type": "code",
   "execution_count": null,
   "metadata": {},
   "outputs": [],
   "source": [
    "surfa"
   ]
  },
  {
   "cell_type": "code",
   "execution_count": 563,
   "metadata": {},
   "outputs": [
    {
     "data": {
      "image/png": "[encoded data removed]",
      "text/plain": [
       "<matplotlib.figure.Figure at 0x7f2a18496048>"
      ]
     },
     "metadata": {},
     "output_type": "display_data"
    }
   ],
   "source": [
    "for i in range(3):\n",
    "    plt.plot(TT,surfactant_com_msd[:,i])"
   ]
  },
  {
   "cell_type": "code",
   "execution_count": 565,
   "metadata": {},
   "outputs": [
    {
     "data": {
      "image/png": "[encoded data removed]",
      "text/plain": [
       "<matplotlib.figure.Figure at 0x7f2a1849c438>"
      ]
     },
     "metadata": {},
     "output_type": "display_data"
    }
   ],
   "source": [
    "for i in range(3):\n",
    "    plt.plot(TT,runningMeanFast(surfactant_com_msd[:,i],10))"
   ]
  },
  {
   "cell_type": "code",
   "execution_count": 566,
   "metadata": {},
   "outputs": [
    {
     "data": {
      "image/png": "[encoded data removed]",
      "text/plain": [
       "<matplotlib.figure.Figure at 0x7f2a18517860>"
      ]
     },
     "metadata": {},
     "output_type": "display_data"
    }
   ],
   "source": [
    "for i in range(3):\n",
    "    plt.plot(TT,runningMeanFast(surfactant_com_msd[:,i],100))"
   ]
  },
  {
   "cell_type": "code",
   "execution_count": 571,
   "metadata": {},
   "outputs": [
    {
     "data": {
      "image/png": "[encoded data removed]",
      "text/plain": [
       "<matplotlib.figure.Figure at 0x7f2a18491048>"
      ]
     },
     "metadata": {},
     "output_type": "display_data"
    }
   ],
   "source": [
    "for i in range(3):\n",
    "    plt.plot(TT,runningMeanFast(surfactant_com_msd[:,i],250))"
   ]
  },
  {
   "cell_type": "code",
   "execution_count": 568,
   "metadata": {},
   "outputs": [
    {
     "data": {
      "text/plain": [
       "5000"
      ]
     },
     "execution_count": 568,
     "metadata": {},
     "output_type": "execute_result"
    }
   ],
   "source": [
    "len(surfactant_com_msd)"
   ]
  },
  {
   "cell_type": "code",
   "execution_count": 574,
   "metadata": {},
   "outputs": [
    {
     "data": {
      "text/plain": [
       "[<matplotlib.lines.Line2D at 0x7f2a180a20b8>]"
      ]
     },
     "execution_count": 574,
     "metadata": {},
     "output_type": "execute_result"
    },
    {
     "data": {
      "image/png": "[encoded data removed]",
      "text/plain": [
       "<matplotlib.figure.Figure at 0x7f2a1856ea90>"
      ]
     },
     "metadata": {},
     "output_type": "display_data"
    }
   ],
   "source": [
    "plt.plot(TT,np.sqrt(surfactant_com_msd.sum(axis=1)))"
   ]
  },
  {
   "cell_type": "code",
   "execution_count": 580,
   "metadata": {},
   "outputs": [
    {
     "data": {
      "text/plain": [
       "array([  2.00000000e-13,   4.00000000e-13,   6.00000000e-13, ...,\n",
       "         9.99600000e-10,   9.99800000e-10,   1.00000000e-09])"
      ]
     },
     "execution_count": 580,
     "metadata": {},
     "output_type": "execute_result"
    }
   ],
   "source": [
    "TT"
   ]
  },
  {
   "cell_type": "code",
   "execution_count": 581,
   "metadata": {},
   "outputs": [],
   "source": [
    "surfactant_com_Dtwopoint = np.sqrt(surfactant_com_msd.sum(axis=1))/(TT*6)*10e-20"
   ]
  },
  {
   "cell_type": "code",
   "execution_count": 582,
   "metadata": {},
   "outputs": [
    {
     "data": {
      "text/plain": [
       "array([  2.55479704e-08,   2.02451533e-08,   1.08870626e-08, ...,\n",
       "         1.21518366e-10,   1.24167583e-10,   1.11816396e-10])"
      ]
     },
     "execution_count": 582,
     "metadata": {},
     "output_type": "execute_result"
    }
   ],
   "source": [
    "surfactant_com_Dtwopoint"
   ]
  },
  {
   "cell_type": "code",
   "execution_count": 584,
   "metadata": {},
   "outputs": [
    {
     "data": {
      "text/plain": [
       "[<matplotlib.lines.Line2D at 0x7f29f47aca58>]"
      ]
     },
     "execution_count": 584,
     "metadata": {},
     "output_type": "execute_result"
    },
    {
     "data": {
      "image/png": "[encoded data removed]",
      "text/plain": [
       "<matplotlib.figure.Figure at 0x7f2a181fed30>"
      ]
     },
     "metadata": {},
     "output_type": "display_data"
    }
   ],
   "source": [
    "plt.plot(TT[100:],surfactant_com_Dtwopoint[100:])"
   ]
  },
  {
   "cell_type": "code",
   "execution_count": 579,
   "metadata": {},
   "outputs": [
    {
     "data": {
      "text/plain": [
       "array([  2.00000000e-13,   4.00000000e-13,   6.00000000e-13, ...,\n",
       "         9.99600000e-10,   9.99800000e-10,   1.00000000e-09])"
      ]
     },
     "execution_count": 579,
     "metadata": {},
     "output_type": "execute_result"
    }
   ],
   "source": [
    "TT"
   ]
  },
  {
   "cell_type": "code",
   "execution_count": null,
   "metadata": {},
   "outputs": [],
   "source": []
  }
 ],
 "metadata": {
  "kernelspec": {
   "display_name": "Python 3",
   "language": "python",
   "name": "python3"
  },
  "language_info": {
   "codemirror_mode": {
    "name": "ipython",
    "version": 3
   },
   "file_extension": ".py",
   "mimetype": "text/x-python",
   "name": "python",
   "nbconvert_exporter": "python",
   "pygments_lexer": "ipython3",
   "version": "3.6.3"
  }
 },
 "nbformat": 4,
 "nbformat_minor": 2
}
