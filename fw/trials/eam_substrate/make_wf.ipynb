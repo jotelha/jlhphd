{
 "cells": [
  {
   "cell_type": "markdown",
   "metadata": {},
   "source": [
    "## Build Workflow from Fireworks yaml files"
   ]
  },
  {
   "cell_type": "code",
   "execution_count": 1,
   "metadata": {},
   "outputs": [],
   "source": [
    "import yaml"
   ]
  },
  {
   "cell_type": "code",
   "execution_count": 2,
   "metadata": {},
   "outputs": [],
   "source": [
    "from glob import glob"
   ]
  },
  {
   "cell_type": "code",
   "execution_count": 3,
   "metadata": {},
   "outputs": [],
   "source": [
    "from fireworks import Firework, Workflow"
   ]
  },
  {
   "cell_type": "code",
   "execution_count": 4,
   "metadata": {},
   "outputs": [],
   "source": [
    "from tabulate import tabulate"
   ]
  },
  {
   "cell_type": "code",
   "execution_count": 5,
   "metadata": {},
   "outputs": [],
   "source": [
    "from pprint import PrettyPrinter"
   ]
  },
  {
   "cell_type": "code",
   "execution_count": 6,
   "metadata": {},
   "outputs": [],
   "source": [
    "pp = PrettyPrinter(indent=2)"
   ]
  },
  {
   "cell_type": "code",
   "execution_count": 7,
   "metadata": {},
   "outputs": [],
   "source": [
    "fws_yaml = sorted(glob(\"fw_*.yaml\"))"
   ]
  },
  {
   "cell_type": "code",
   "execution_count": 8,
   "metadata": {},
   "outputs": [
    {
     "name": "stdout",
     "output_type": "stream",
     "text": [
      "Files\n",
      "-----------------------------------------\n",
      "fw_010_file_retrieval.yaml\n",
      "fw_020_minimization_fixed_box.yaml\n",
      "fw_030_minimization_relaxed_box.yaml\n",
      "fw_040_minimization_slab_fixed_box.yaml\n",
      "fw_050_minimization_slab_relaxed_box.yaml\n",
      "fw_060_equilibration_nvt_slab.yaml\n",
      "fw_070_equilibration_npt_slab.yaml\n"
     ]
    }
   ],
   "source": [
    "print(tabulate( [ [ row ] for row in fws_yaml ] ,headers=[\"Files\"],tablefmt='simple'))"
   ]
  },
  {
   "cell_type": "code",
   "execution_count": 9,
   "metadata": {},
   "outputs": [],
   "source": [
    "with open('dependencies.yaml') as stream:\n",
    "    dependencies = yaml.safe_load(stream)"
   ]
  },
  {
   "cell_type": "code",
   "execution_count": 10,
   "metadata": {},
   "outputs": [],
   "source": [
    "with open('metadata.yaml') as stream:\n",
    "    metadata = yaml.safe_load(stream)"
   ]
  },
  {
   "cell_type": "code",
   "execution_count": 11,
   "metadata": {},
   "outputs": [],
   "source": [
    "# identify subset of interlinked fw:"
   ]
  },
  {
   "cell_type": "code",
   "execution_count": 12,
   "metadata": {},
   "outputs": [],
   "source": [
    "fws_set = set()"
   ]
  },
  {
   "cell_type": "code",
   "execution_count": 13,
   "metadata": {},
   "outputs": [],
   "source": [
    "for k,v in dependencies.items():\n",
    "    fws_set.update([k,*v])"
   ]
  },
  {
   "cell_type": "code",
   "execution_count": 14,
   "metadata": {},
   "outputs": [
    {
     "data": {
      "text/plain": [
       "{'fw_010_file_retrieval.yaml',\n",
       " 'fw_020_minimization_fixed_box.yaml',\n",
       " 'fw_030_minimization_relaxed_box.yaml',\n",
       " 'fw_040_minimization_slab_fixed_box.yaml',\n",
       " 'fw_050_minimization_slab_relaxed_box.yaml',\n",
       " 'fw_060_equilibration_nvt_slab.yaml',\n",
       " 'fw_070_equilibration_npt_slab.yaml'}"
      ]
     },
     "execution_count": 14,
     "metadata": {},
     "output_type": "execute_result"
    }
   ],
   "source": [
    "fws_set"
   ]
  },
  {
   "cell_type": "code",
   "execution_count": 15,
   "metadata": {},
   "outputs": [
    {
     "name": "stdout",
     "output_type": "stream",
     "text": [
      "{ 'metadata': { 'pbc': 111,\n",
      "                'pressure': 0,\n",
      "                'pressure_unit': 'atm',\n",
      "                'sb_area': 2.20374e-16,\n",
      "                'sb_area_unit': 'm^2',\n",
      "                'sb_crystal_plane': 111,\n",
      "                'sb_measures': [1.47e-08, 1.5e-08, 5.6e-09],\n",
      "                'sb_measures_unit': 'm',\n",
      "                'sb_multiples': [51, 30, 8],\n",
      "                'sb_name': 'AU_111_51x30x8',\n",
      "                'sb_normal': 2,\n",
      "                'sb_thickness': 5.6e-09,\n",
      "                'sb_thickness_unit': 'm',\n",
      "                'sb_unit_cell': ['3e-10', '5e-10', '7e-10'],\n",
      "                'sb_unit_cell_unit': 'm',\n",
      "                'sb_volume': 3.11331e-25,\n",
      "                'sb_volume_unit': 'm^3',\n",
      "                'state': 'trial minimization with eam potential',\n",
      "                'substrate': 'AU',\n",
      "                'system_name': 'AU_111_51x30x8',\n",
      "                'temperature': 298,\n",
      "                'temperature_unit': 'K'},\n",
      "  'name': 'NEMO TRIAL: LAMMPS minimization and equilibration of EAM substrate'}\n"
     ]
    }
   ],
   "source": [
    "pp.pprint(metadata)"
   ]
  },
  {
   "cell_type": "code",
   "execution_count": 16,
   "metadata": {},
   "outputs": [],
   "source": [
    "assert \"metadata\" in metadata"
   ]
  },
  {
   "cell_type": "code",
   "execution_count": 17,
   "metadata": {},
   "outputs": [],
   "source": [
    "assert \"name\" in metadata"
   ]
  },
  {
   "cell_type": "code",
   "execution_count": 18,
   "metadata": {},
   "outputs": [],
   "source": [
    "fws_id = { fw: (-10*(i+1)) for i, fw in enumerate(fws_set) }"
   ]
  },
  {
   "cell_type": "code",
   "execution_count": 19,
   "metadata": {},
   "outputs": [
    {
     "name": "stdout",
     "output_type": "stream",
     "text": [
      "{ 'fw_010_file_retrieval.yaml': -30,\n",
      "  'fw_020_minimization_fixed_box.yaml': -60,\n",
      "  'fw_030_minimization_relaxed_box.yaml': -10,\n",
      "  'fw_040_minimization_slab_fixed_box.yaml': -70,\n",
      "  'fw_050_minimization_slab_relaxed_box.yaml': -20,\n",
      "  'fw_060_equilibration_nvt_slab.yaml': -40,\n",
      "  'fw_070_equilibration_npt_slab.yaml': -50}\n"
     ]
    }
   ],
   "source": [
    "pp.pprint(fws_id)"
   ]
  },
  {
   "cell_type": "code",
   "execution_count": 20,
   "metadata": {},
   "outputs": [],
   "source": [
    "fws_dict = { fw: Firework.from_file(fw, f_format='yaml') for fw in fws_set }"
   ]
  },
  {
   "cell_type": "code",
   "execution_count": 21,
   "metadata": {},
   "outputs": [],
   "source": [
    "for name, fw in fws_dict.items():\n",
    "    fw.fw_id = fws_id[name]"
   ]
  },
  {
   "cell_type": "code",
   "execution_count": 22,
   "metadata": {},
   "outputs": [],
   "source": [
    "links = { \n",
    "    fws_dict[parent]: [ \n",
    "        fws_dict[child] for child in children ] for parent, children in dependencies.items() }"
   ]
  },
  {
   "cell_type": "code",
   "execution_count": 23,
   "metadata": {},
   "outputs": [],
   "source": [
    "fws_list = list(fws_dict.values())"
   ]
  },
  {
   "cell_type": "code",
   "execution_count": 24,
   "metadata": {},
   "outputs": [],
   "source": [
    "wf = Workflow( fws_list, links, name=metadata[\"name\"], metadata=metadata[\"metadata\"]  )"
   ]
  },
  {
   "cell_type": "code",
   "execution_count": 25,
   "metadata": {},
   "outputs": [],
   "source": [
    "wf.to_file(\"wf.yaml\",f_format='yaml')"
   ]
  },
  {
   "cell_type": "code",
   "execution_count": null,
   "metadata": {},
   "outputs": [],
   "source": []
  },
  {
   "cell_type": "code",
   "execution_count": null,
   "metadata": {},
   "outputs": [],
   "source": []
  },
  {
   "cell_type": "code",
   "execution_count": null,
   "metadata": {},
   "outputs": [],
   "source": []
  },
  {
   "cell_type": "code",
   "execution_count": null,
   "metadata": {},
   "outputs": [],
   "source": []
  }
 ],
 "metadata": {
  "kernelspec": {
   "display_name": "Python 3 (jlh-bwCloud)",
   "language": "python",
   "name": "python3-jlh-bwcloud"
  },
  "language_info": {
   "codemirror_mode": {
    "name": "ipython",
    "version": 3
   },
   "file_extension": ".py",
   "mimetype": "text/x-python",
   "name": "python",
   "nbconvert_exporter": "python",
   "pygments_lexer": "ipython3",
   "version": "3.6.7"
  }
 },
 "nbformat": 4,
 "nbformat_minor": 2
}
