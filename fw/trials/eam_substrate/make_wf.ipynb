{
 "cells": [
  {
   "cell_type": "markdown",
   "metadata": {},
   "source": [
    "## Build Workflow from Fireworks yaml files"
   ]
  },
  {
   "cell_type": "code",
   "execution_count": 81,
   "metadata": {},
   "outputs": [],
   "source": [
    "import yaml"
   ]
  },
  {
   "cell_type": "code",
   "execution_count": 82,
   "metadata": {},
   "outputs": [],
   "source": [
    "from glob import glob"
   ]
  },
  {
   "cell_type": "code",
   "execution_count": 83,
   "metadata": {},
   "outputs": [],
   "source": [
    "from fireworks import Firework, Workflow"
   ]
  },
  {
   "cell_type": "code",
   "execution_count": 84,
   "metadata": {},
   "outputs": [],
   "source": [
    "from tabulate import tabulate"
   ]
  },
  {
   "cell_type": "code",
   "execution_count": 85,
   "metadata": {},
   "outputs": [],
   "source": [
    "from pprint import PrettyPrinter"
   ]
  },
  {
   "cell_type": "code",
   "execution_count": 86,
   "metadata": {},
   "outputs": [],
   "source": [
    "from jinja2 import Template, Environment, FileSystemLoader, select_autoescape"
   ]
  },
  {
   "cell_type": "markdown",
   "metadata": {},
   "source": [
    "## Fill templates"
   ]
  },
  {
   "cell_type": "code",
   "execution_count": 87,
   "metadata": {},
   "outputs": [],
   "source": [
    "env = Environment(\n",
    "    loader=FileSystemLoader('templates'),\n",
    "    autoescape=select_autoescape(['yaml']))"
   ]
  },
  {
   "cell_type": "code",
   "execution_count": 92,
   "metadata": {},
   "outputs": [],
   "source": [
    "template = env.get_template(\"fw_020_minimization_fixed_box.yaml\")"
   ]
  },
  {
   "cell_type": "code",
   "execution_count": 93,
   "metadata": {},
   "outputs": [
    {
     "name": "stdout",
     "output_type": "stream",
     "text": [
      "name: NEMO, EAM substrate only, LAMMPS minimization, fixed box\n",
      "spec:\n",
      "  _category: nemo_queue_offline\n",
      "  _queueadapter:\n",
      "    nodes:    1\n",
      "    ppn:      20\n",
      "    queue:    express\n",
      "    walltime: 00:15:00\n",
      "  _files_in:\n",
      "    initial_configuration_file: datafile.lammps\n",
      "    input_header:               lmp_header.input\n",
      "    input_minimization:         lmp_minimization.input\n",
      "    coeff_file:                 coeff.input\n",
      "  _files_out:\n",
      "    data_file: default.lammps\n",
      "    log_file:  log.lammps\n",
      "  _tasks:\n",
      "  - _fw_name: CmdTask\n",
      "    cmd: lmp\n",
      "    opt:\n",
      "    - -in lmp_minimization.input\n",
      "    - -v surfactant_name SDS\n",
      "    - -v has_indenter 0\n",
      "    - -v mpiio 0\n",
      "    - -v robust_minimization 0\n",
      "    - -v pbc2d 0\n",
      "    - -v compute_interactions 0\n",
      "    - -v store_forces 0\n",
      "    - -v freeze_substrate 0\n",
      "    - -v use_ewald 0\n",
      "    - -v use_eam 1\n",
      "    - -v shrink_wrap_once 0\n",
      "    - -v relax_box 0\n",
      "    - -v minimization_ftol 1e-5\n",
      "    - -v write_coeff_to_datafile 0\n",
      "    - -v dataFile datafile.lammps\n",
      "    - -v coeffInfile coeff.input\n",
      "    stderr_file: std.err\n",
      "    stdout_file: std.out\n",
      "    store_stdout: true\n",
      "    store_stderr: true\n",
      "    use_shell: true\n",
      "    fizzle_bad_rc: true\n",
      "  _trackers:\n",
      "  - filename: log.lammps\n",
      "    nlines: 25\n",
      "  step: minimization\n"
     ]
    }
   ],
   "source": [
    "print(template.render(identifier=\"077_equilibration_npt_bulk_1_atm\"))"
   ]
  },
  {
   "cell_type": "markdown",
   "metadata": {},
   "source": [
    "## Build Workflow"
   ]
  },
  {
   "cell_type": "code",
   "execution_count": 31,
   "metadata": {},
   "outputs": [],
   "source": [
    "pp = PrettyPrinter(indent=2)"
   ]
  },
  {
   "cell_type": "code",
   "execution_count": 32,
   "metadata": {},
   "outputs": [],
   "source": [
    "fws_yaml = sorted(glob(\"fw_*.yaml\"))"
   ]
  },
  {
   "cell_type": "code",
   "execution_count": 33,
   "metadata": {},
   "outputs": [
    {
     "name": "stdout",
     "output_type": "stream",
     "text": [
      "Files\n",
      "-----------------------------------------\n",
      "fw_010_file_retrieval.yaml\n",
      "fw_020_minimization_fixed_box.yaml\n",
      "fw_030_minimization_relaxed_box.yaml\n",
      "fw_040_minimization_slab_fixed_box.yaml\n",
      "fw_050_minimization_slab_relaxed_box.yaml\n",
      "fw_060_equilibration_nvt_slab.yaml\n",
      "fw_065_equilibration_nvt_bulk.yaml\n",
      "fw_070_equilibration_npt_slab.yaml\n",
      "fw_072_equilibration_npt_slab_1_atm.yaml\n",
      "fw_075_equilibration_npt_bulk.yaml\n",
      "fw_077_equilibration_npt_bulk_1_atm.yaml\n",
      "fw_100_extract_property.yaml\n",
      "fw_177_remote_file_transfer.yaml\n"
     ]
    }
   ],
   "source": [
    "print(tabulate( [ [ row ] for row in fws_yaml ] ,headers=[\"Files\"],tablefmt='simple'))"
   ]
  },
  {
   "cell_type": "code",
   "execution_count": 34,
   "metadata": {},
   "outputs": [],
   "source": [
    "with open('dependencies.yaml') as stream:\n",
    "    dependencies = yaml.safe_load(stream)"
   ]
  },
  {
   "cell_type": "code",
   "execution_count": 35,
   "metadata": {},
   "outputs": [],
   "source": [
    "with open('metadata.yaml') as stream:\n",
    "    metadata = yaml.safe_load(stream)"
   ]
  },
  {
   "cell_type": "code",
   "execution_count": 36,
   "metadata": {},
   "outputs": [],
   "source": [
    "# identify subset of interlinked fw:"
   ]
  },
  {
   "cell_type": "code",
   "execution_count": 37,
   "metadata": {},
   "outputs": [],
   "source": [
    "fws_set = set()"
   ]
  },
  {
   "cell_type": "code",
   "execution_count": 38,
   "metadata": {},
   "outputs": [],
   "source": [
    "for k,v in dependencies.items():\n",
    "    fws_set.update([k,*v])"
   ]
  },
  {
   "cell_type": "code",
   "execution_count": 39,
   "metadata": {},
   "outputs": [
    {
     "data": {
      "text/plain": [
       "{'fw_010_file_retrieval.yaml',\n",
       " 'fw_020_minimization_fixed_box.yaml',\n",
       " 'fw_030_minimization_relaxed_box.yaml',\n",
       " 'fw_040_minimization_slab_fixed_box.yaml',\n",
       " 'fw_050_minimization_slab_relaxed_box.yaml',\n",
       " 'fw_060_equilibration_nvt_slab.yaml',\n",
       " 'fw_070_equilibration_npt_slab.yaml'}"
      ]
     },
     "execution_count": 39,
     "metadata": {},
     "output_type": "execute_result"
    }
   ],
   "source": [
    "fws_set"
   ]
  },
  {
   "cell_type": "code",
   "execution_count": 40,
   "metadata": {},
   "outputs": [
    {
     "name": "stdout",
     "output_type": "stream",
     "text": [
      "{ 'metadata': { 'pbc': 111,\n",
      "                'pressure': 0,\n",
      "                'pressure_unit': 'atm',\n",
      "                'sb_area': 2.20374e-16,\n",
      "                'sb_area_unit': 'm^2',\n",
      "                'sb_crystal_plane': 111,\n",
      "                'sb_measures': [1.47e-08, 1.5e-08, 5.6e-09],\n",
      "                'sb_measures_unit': 'm',\n",
      "                'sb_multiples': [51, 30, 8],\n",
      "                'sb_name': 'AU_111_51x30x8',\n",
      "                'sb_normal': 2,\n",
      "                'sb_thickness': 5.6e-09,\n",
      "                'sb_thickness_unit': 'm',\n",
      "                'sb_unit_cell': ['3e-10', '5e-10', '7e-10'],\n",
      "                'sb_unit_cell_unit': 'm',\n",
      "                'sb_volume': 3.11331e-25,\n",
      "                'sb_volume_unit': 'm^3',\n",
      "                'state': 'trial minimization with eam potential',\n",
      "                'substrate': 'AU',\n",
      "                'system_name': 'AU_111_51x30x8',\n",
      "                'temperature': 298,\n",
      "                'temperature_unit': 'K'},\n",
      "  'name': 'NEMO TRIAL: LAMMPS minimization and equilibration of EAM substrate'}\n"
     ]
    }
   ],
   "source": [
    "pp.pprint(metadata)"
   ]
  },
  {
   "cell_type": "code",
   "execution_count": 41,
   "metadata": {},
   "outputs": [],
   "source": [
    "assert \"metadata\" in metadata"
   ]
  },
  {
   "cell_type": "code",
   "execution_count": 42,
   "metadata": {},
   "outputs": [],
   "source": [
    "assert \"name\" in metadata"
   ]
  },
  {
   "cell_type": "code",
   "execution_count": 43,
   "metadata": {},
   "outputs": [],
   "source": [
    "fws_id = { fw: (-10*(i+1)) for i, fw in enumerate(fws_set) }"
   ]
  },
  {
   "cell_type": "code",
   "execution_count": 44,
   "metadata": {},
   "outputs": [
    {
     "name": "stdout",
     "output_type": "stream",
     "text": [
      "{ 'fw_010_file_retrieval.yaml': -30,\n",
      "  'fw_020_minimization_fixed_box.yaml': -60,\n",
      "  'fw_030_minimization_relaxed_box.yaml': -10,\n",
      "  'fw_040_minimization_slab_fixed_box.yaml': -70,\n",
      "  'fw_050_minimization_slab_relaxed_box.yaml': -20,\n",
      "  'fw_060_equilibration_nvt_slab.yaml': -40,\n",
      "  'fw_070_equilibration_npt_slab.yaml': -50}\n"
     ]
    }
   ],
   "source": [
    "pp.pprint(fws_id)"
   ]
  },
  {
   "cell_type": "code",
   "execution_count": 20,
   "metadata": {},
   "outputs": [],
   "source": [
    "fws_dict = { fw: Firework.from_file(fw, f_format='yaml') for fw in fws_set }"
   ]
  },
  {
   "cell_type": "code",
   "execution_count": 21,
   "metadata": {},
   "outputs": [],
   "source": [
    "for name, fw in fws_dict.items():\n",
    "    fw.fw_id = fws_id[name]"
   ]
  },
  {
   "cell_type": "code",
   "execution_count": 22,
   "metadata": {},
   "outputs": [],
   "source": [
    "links = { \n",
    "    fws_dict[parent]: [ \n",
    "        fws_dict[child] for child in children ] for parent, children in dependencies.items() }"
   ]
  },
  {
   "cell_type": "code",
   "execution_count": 23,
   "metadata": {},
   "outputs": [],
   "source": [
    "fws_list = list(fws_dict.values())"
   ]
  },
  {
   "cell_type": "code",
   "execution_count": 24,
   "metadata": {},
   "outputs": [],
   "source": [
    "wf = Workflow( fws_list, links, name=metadata[\"name\"], metadata=metadata[\"metadata\"]  )"
   ]
  },
  {
   "cell_type": "code",
   "execution_count": 25,
   "metadata": {},
   "outputs": [],
   "source": [
    "wf.to_file(\"wf.yaml\",f_format='yaml')"
   ]
  },
  {
   "cell_type": "code",
   "execution_count": null,
   "metadata": {},
   "outputs": [],
   "source": []
  },
  {
   "cell_type": "code",
   "execution_count": null,
   "metadata": {},
   "outputs": [],
   "source": []
  },
  {
   "cell_type": "code",
   "execution_count": null,
   "metadata": {},
   "outputs": [],
   "source": []
  },
  {
   "cell_type": "code",
   "execution_count": null,
   "metadata": {},
   "outputs": [],
   "source": []
  }
 ],
 "metadata": {
  "kernelspec": {
   "display_name": "Python 3 (jlh-bwCloud)",
   "language": "python",
   "name": "python3-jlh-bwcloud"
  },
  "language_info": {
   "codemirror_mode": {
    "name": "ipython",
    "version": 3
   },
   "file_extension": ".py",
   "mimetype": "text/x-python",
   "name": "python",
   "nbconvert_exporter": "python",
   "pygments_lexer": "ipython3",
   "version": "3.6.7"
  }
 },
 "nbformat": 4,
 "nbformat_minor": 2
}
