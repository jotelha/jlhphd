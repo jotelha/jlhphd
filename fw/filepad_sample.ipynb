{
 "cells": [
  {
   "cell_type": "code",
   "execution_count": 1,
   "metadata": {},
   "outputs": [],
   "source": [
    "from fireworks.utilities.filepad import FilePad "
   ]
  },
  {
   "cell_type": "code",
   "execution_count": 2,
   "metadata": {},
   "outputs": [],
   "source": [
    "import pandas as pd"
   ]
  },
  {
   "cell_type": "code",
   "execution_count": 3,
   "metadata": {},
   "outputs": [],
   "source": [
    "import os"
   ]
  },
  {
   "cell_type": "code",
   "execution_count": 4,
   "metadata": {},
   "outputs": [],
   "source": [
    "fp = FilePad(\n",
    "    host='localhost',\n",
    "    port=27018,\n",
    "    database='fireworks-jhoermann',\n",
    "    username='fireworks',\n",
    "    password='fireworks')"
   ]
  },
  {
   "cell_type": "code",
   "execution_count": 5,
   "metadata": {},
   "outputs": [
    {
     "data": {
      "text/plain": [
       "235"
      ]
     },
     "execution_count": 5,
     "metadata": {},
     "output_type": "execute_result"
    }
   ],
   "source": [
    "fp.count()"
   ]
  },
  {
   "cell_type": "code",
   "execution_count": 6,
   "metadata": {},
   "outputs": [],
   "source": [
    "# insertion of input files"
   ]
  },
  {
   "cell_type": "code",
   "execution_count": 7,
   "metadata": {},
   "outputs": [],
   "source": [
    "prefix = os.getcwd()"
   ]
  },
  {
   "cell_type": "code",
   "execution_count": 8,
   "metadata": {},
   "outputs": [
    {
     "name": "stdout",
     "output_type": "stream",
     "text": [
      "/mnt/dat/work/testuser/adsorption/N_surfactant_on_substrate_template/fw\n"
     ]
    }
   ],
   "source": [
    "print(prefix)"
   ]
  },
  {
   "cell_type": "code",
   "execution_count": 9,
   "metadata": {},
   "outputs": [],
   "source": [
    "template_prefix, _ =  os.path.split(prefix)"
   ]
  },
  {
   "cell_type": "code",
   "execution_count": 10,
   "metadata": {},
   "outputs": [
    {
     "data": {
      "text/plain": [
       "'/mnt/dat/work/testuser/adsorption/N_surfactant_on_substrate_template'"
      ]
     },
     "execution_count": 10,
     "metadata": {},
     "output_type": "execute_result"
    }
   ],
   "source": [
    "template_prefix"
   ]
  },
  {
   "cell_type": "code",
   "execution_count": 26,
   "metadata": {},
   "outputs": [
    {
     "data": {
      "text/plain": [
       "('5c6aca20020553103014a0a6', 'jlh_vmd.tcl')"
      ]
     },
     "execution_count": 26,
     "metadata": {},
     "output_type": "execute_result"
    }
   ],
   "source": [
    "fp.delete_file(identifier='jlh_vmd.tcl')\n",
    "fp.add_file(\n",
    "    template_prefix + os.sep + 'jlh_vmd.tcl',\n",
    "    identifier='jlh_vmd.tcl',\n",
    "    metadata={\n",
    "        'type':     'script',\n",
    "        'language': 'tcl',\n",
    "        'usecase':  'indenter insertion in vmd'})"
   ]
  },
  {
   "cell_type": "code",
   "execution_count": 27,
   "metadata": {},
   "outputs": [
    {
     "data": {
      "text/plain": [
       "('5c6aca30020553103014a0a9', 'indenter_insertion.tcl')"
      ]
     },
     "execution_count": 27,
     "metadata": {},
     "output_type": "execute_result"
    }
   ],
   "source": [
    "fp.delete_file(identifier='indenter_insertion.tcl')\n",
    "fp.add_file(\n",
    "    template_prefix + os.sep + 'indenter_insertion.tcl',\n",
    "    identifier='indenter_insertion.tcl',\n",
    "    metadata={\n",
    "        'type':     'template',\n",
    "        'language': 'tcl',\n",
    "        'usecase':  'indenter insertion in vmd'})\n"
   ]
  },
  {
   "cell_type": "code",
   "execution_count": null,
   "metadata": {},
   "outputs": [],
   "source": [
    "fp.add_file(\n",
    "    template_prefix + os.sep + 'MergeLammpsDataFiles.py',\n",
    "    identifier='MergeLammpsDataFiles.py',\n",
    "    metadata={\n",
    "        'type':     'script',\n",
    "        'language': 'python',\n",
    "        'usecase':  'merge VMD output with parameters from original system'})\n"
   ]
  },
  {
   "cell_type": "code",
   "execution_count": null,
   "metadata": {},
   "outputs": [],
   "source": [
    "fp.add_file(\n",
    "    template_prefix + os.sep + 'merge.py',\n",
    "    identifier='merge.py',\n",
    "    metadata={\n",
    "        'type':     'script',\n",
    "        'language': 'python',\n",
    "        'usecase':  'merge VMD output with parameters from original system'})"
   ]
  },
  {
   "cell_type": "code",
   "execution_count": null,
   "metadata": {},
   "outputs": [],
   "source": [
    "fp.add_file(\n",
    "    template_prefix + os.sep + 'extract_thermo.sh',\n",
    "    identifier='extract_thermo.sh',\n",
    "    metadata={\n",
    "        'type':     'script',\n",
    "        'language': 'bash',\n",
    "        'usecase':  'extract stats from LAMMPS log'})"
   ]
  },
  {
   "cell_type": "code",
   "execution_count": 11,
   "metadata": {},
   "outputs": [
    {
     "data": {
      "text/plain": [
       "('5c76ca540205534c86873705', 'lmp_header.input')"
      ]
     },
     "execution_count": 11,
     "metadata": {},
     "output_type": "execute_result"
    }
   ],
   "source": [
    "fp.delete_file(identifier='lmp_header.input')\n",
    "fp.add_file(\n",
    "    template_prefix + os.sep + 'lmp_header.input',\n",
    "    identifier='lmp_header.input',\n",
    "    metadata={\n",
    "        'type':     'input',\n",
    "        'language': 'LAMMPS',\n",
    "        'usecase':  'surfactant adsorption'})"
   ]
  },
  {
   "cell_type": "code",
   "execution_count": 29,
   "metadata": {},
   "outputs": [
    {
     "data": {
      "text/plain": [
       "('5c6aca49020553103014a0af', 'lmp_minimization.input')"
      ]
     },
     "execution_count": 29,
     "metadata": {},
     "output_type": "execute_result"
    }
   ],
   "source": [
    "fp.delete_file(identifier='lmp_minimization.input')\n",
    "fp.add_file(\n",
    "    template_prefix + os.sep + 'lmp_minimization.input',\n",
    "    identifier='lmp_minimization.input',\n",
    "    metadata={\n",
    "        'type':     'input',\n",
    "        'language': 'LAMMPS',\n",
    "        'usecase':  'minimization'})"
   ]
  },
  {
   "cell_type": "code",
   "execution_count": 30,
   "metadata": {},
   "outputs": [
    {
     "data": {
      "text/plain": [
       "('5c6aca58020553103014a0b2', 'lmp_equilibration_nvt.input')"
      ]
     },
     "execution_count": 30,
     "metadata": {},
     "output_type": "execute_result"
    }
   ],
   "source": [
    "fp.delete_file(identifier='lmp_equilibration_nvt.input')\n",
    "fp.add_file(\n",
    "    template_prefix + os.sep + 'lmp_equilibration_nvt.input',\n",
    "    identifier='lmp_equilibration_nvt.input',\n",
    "    metadata={\n",
    "        'type':     'input',\n",
    "        'language': 'LAMMPS',\n",
    "        'usecase':  'nvt equilibration'})"
   ]
  },
  {
   "cell_type": "code",
   "execution_count": 31,
   "metadata": {},
   "outputs": [
    {
     "data": {
      "text/plain": [
       "('5c6aca63020553103014a0b5', 'lmp_equilibration_npt.input')"
      ]
     },
     "execution_count": 31,
     "metadata": {},
     "output_type": "execute_result"
    }
   ],
   "source": [
    "fp.delete_file(identifier='lmp_equilibration_npt.input')\n",
    "fp.add_file(\n",
    "    template_prefix + os.sep + 'lmp_equilibration_npt.input',\n",
    "    identifier='lmp_equilibration_npt.input',\n",
    "    metadata={\n",
    "        'type':     'input',\n",
    "        'language': 'LAMMPS',\n",
    "        'usecase':  'npt equilibration'})\n",
    "\n"
   ]
  },
  {
   "cell_type": "code",
   "execution_count": 12,
   "metadata": {},
   "outputs": [
    {
     "data": {
      "text/plain": [
       "('5c76ca5a0205534c86873708', 'lmp_production.input')"
      ]
     },
     "execution_count": 12,
     "metadata": {},
     "output_type": "execute_result"
    }
   ],
   "source": [
    "fp.delete_file(identifier='lmp_production.input')\n",
    "fp.add_file(\n",
    "    template_prefix + os.sep + 'lmp_production.input',\n",
    "    identifier='lmp_production.input',\n",
    "    metadata={\n",
    "        'type':     'input',\n",
    "        'language': 'LAMMPS',\n",
    "        'usecase':  'production'})\n",
    "\n"
   ]
  },
  {
   "cell_type": "code",
   "execution_count": 13,
   "metadata": {},
   "outputs": [
    {
     "data": {
      "text/plain": [
       "('5c76ca5c0205534c8687370b', 'lmp_production_mixed.input')"
      ]
     },
     "execution_count": 13,
     "metadata": {},
     "output_type": "execute_result"
    }
   ],
   "source": [
    "fp.delete_file(identifier='lmp_production_mixed.input')\n",
    "fp.add_file(\n",
    "    template_prefix + os.sep + 'lmp_production_mixed.input',\n",
    "    identifier='lmp_production_mixed.input',\n",
    "    metadata={\n",
    "        'type':     'input',\n",
    "        'language': 'LAMMPS',\n",
    "        'usecase':  'production'})"
   ]
  },
  {
   "cell_type": "code",
   "execution_count": 17,
   "metadata": {},
   "outputs": [],
   "source": [
    "# get simulation metadata as pandas dataframe\n",
    "content, doc = fp.get_file(identifier='surfactant_on_AU_111_df_json')\n",
    "sim_df = pd.read_json(content, orient='index')"
   ]
  },
  {
   "cell_type": "code",
   "execution_count": 18,
   "metadata": {},
   "outputs": [
    {
     "data": {
      "text/html": [
       "<div>\n",
       "<style scoped>\n",
       "    .dataframe tbody tr th:only-of-type {\n",
       "        vertical-align: middle;\n",
       "    }\n",
       "\n",
       "    .dataframe tbody tr th {\n",
       "        vertical-align: top;\n",
       "    }\n",
       "\n",
       "    .dataframe thead th {\n",
       "        text-align: right;\n",
       "    }\n",
       "</style>\n",
       "<table border=\"1\" class=\"dataframe\">\n",
       "  <thead>\n",
       "    <tr style=\"text-align: right;\">\n",
       "      <th></th>\n",
       "      <th>box</th>\n",
       "      <th>ci_initial_placement</th>\n",
       "      <th>counterion</th>\n",
       "      <th>indenter</th>\n",
       "      <th>indenter_pdb</th>\n",
       "      <th>pbc</th>\n",
       "      <th>pressure</th>\n",
       "      <th>sb_area</th>\n",
       "      <th>sb_area_per_sf_molecule</th>\n",
       "      <th>sb_circular_area_per_sf_molecule_radius</th>\n",
       "      <th>...</th>\n",
       "      <th>sf_concentration</th>\n",
       "      <th>sf_expected_aggregates</th>\n",
       "      <th>sf_nmolecules</th>\n",
       "      <th>sf_preassembly</th>\n",
       "      <th>solvent</th>\n",
       "      <th>substrate</th>\n",
       "      <th>surfactant</th>\n",
       "      <th>sv_density</th>\n",
       "      <th>sv_preassembly</th>\n",
       "      <th>temperature</th>\n",
       "    </tr>\n",
       "  </thead>\n",
       "  <tbody>\n",
       "    <tr>\n",
       "      <th>1010_CTAB_on_AU_111_63x36x2_bilayer</th>\n",
       "      <td>[1.82e-08, 1.8000000000000002e-08, 1.800000000...</td>\n",
       "      <td>random</td>\n",
       "      <td>BR</td>\n",
       "      <td>None</td>\n",
       "      <td>None</td>\n",
       "      <td>111</td>\n",
       "      <td>1</td>\n",
       "      <td>3.266715e-16</td>\n",
       "      <td>3.232998e-19</td>\n",
       "      <td>2.000000e-10</td>\n",
       "      <td>...</td>\n",
       "      <td>0.0005</td>\n",
       "      <td>intermmediate</td>\n",
       "      <td>1010</td>\n",
       "      <td>bilayer</td>\n",
       "      <td>H2O</td>\n",
       "      <td>AU</td>\n",
       "      <td>CTAB</td>\n",
       "      <td>997</td>\n",
       "      <td>random</td>\n",
       "      <td>298</td>\n",
       "    </tr>\n",
       "    <tr>\n",
       "      <th>1010_CTAB_on_AU_111_63x36x2_bilayer_with_counterion</th>\n",
       "      <td>[1.82e-08, 1.8000000000000002e-08, 1.800000000...</td>\n",
       "      <td>at_polar_head</td>\n",
       "      <td>BR</td>\n",
       "      <td>None</td>\n",
       "      <td>None</td>\n",
       "      <td>111</td>\n",
       "      <td>1</td>\n",
       "      <td>3.266715e-16</td>\n",
       "      <td>3.232998e-19</td>\n",
       "      <td>2.000000e-10</td>\n",
       "      <td>...</td>\n",
       "      <td>0.0005</td>\n",
       "      <td>intermmediate</td>\n",
       "      <td>1010</td>\n",
       "      <td>bilayer_with_counterion</td>\n",
       "      <td>H2O</td>\n",
       "      <td>AU</td>\n",
       "      <td>CTAB</td>\n",
       "      <td>997</td>\n",
       "      <td>random</td>\n",
       "      <td>298</td>\n",
       "    </tr>\n",
       "    <tr>\n",
       "      <th>1010_CTAB_on_AU_111_63x36x2_bilayer_with_counterion_50Ang_stepped</th>\n",
       "      <td>[1.82e-08, 1.8000000000000002e-08, 1.800000000...</td>\n",
       "      <td>at_polar_head</td>\n",
       "      <td>BR</td>\n",
       "      <td>50Ang_stepped</td>\n",
       "      <td>50Ang_stepped.pdb</td>\n",
       "      <td>111</td>\n",
       "      <td>1</td>\n",
       "      <td>3.266715e-16</td>\n",
       "      <td>3.232998e-19</td>\n",
       "      <td>2.000000e-10</td>\n",
       "      <td>...</td>\n",
       "      <td>0.0005</td>\n",
       "      <td>intermmediate</td>\n",
       "      <td>1010</td>\n",
       "      <td>bilayer_with_counterion</td>\n",
       "      <td>H2O</td>\n",
       "      <td>AU</td>\n",
       "      <td>CTAB</td>\n",
       "      <td>997</td>\n",
       "      <td>random</td>\n",
       "      <td>298</td>\n",
       "    </tr>\n",
       "    <tr>\n",
       "      <th>1010_CTAB_on_AU_111_63x36x2_cylinders_with_counterion</th>\n",
       "      <td>[1.82e-08, 1.8000000000000002e-08, 1.800000000...</td>\n",
       "      <td>at_polar_head</td>\n",
       "      <td>BR</td>\n",
       "      <td>None</td>\n",
       "      <td>None</td>\n",
       "      <td>111</td>\n",
       "      <td>1</td>\n",
       "      <td>3.266715e-16</td>\n",
       "      <td>3.232998e-19</td>\n",
       "      <td>2.000000e-10</td>\n",
       "      <td>...</td>\n",
       "      <td>0.0005</td>\n",
       "      <td>intermmediate</td>\n",
       "      <td>1010</td>\n",
       "      <td>cylinders_with_counterion</td>\n",
       "      <td>H2O</td>\n",
       "      <td>AU</td>\n",
       "      <td>CTAB</td>\n",
       "      <td>997</td>\n",
       "      <td>random</td>\n",
       "      <td>298</td>\n",
       "    </tr>\n",
       "    <tr>\n",
       "      <th>1010_CTAB_on_AU_111_63x36x2_cylinders_with_counterion_50Ang_stepped</th>\n",
       "      <td>[1.82e-08, 1.8000000000000002e-08, 1.800000000...</td>\n",
       "      <td>at_polar_head</td>\n",
       "      <td>BR</td>\n",
       "      <td>50Ang_stepped</td>\n",
       "      <td>50Ang_stepped.pdb</td>\n",
       "      <td>111</td>\n",
       "      <td>1</td>\n",
       "      <td>3.266715e-16</td>\n",
       "      <td>3.232998e-19</td>\n",
       "      <td>2.000000e-10</td>\n",
       "      <td>...</td>\n",
       "      <td>0.0005</td>\n",
       "      <td>intermmediate</td>\n",
       "      <td>1010</td>\n",
       "      <td>cylinders_with_counterion</td>\n",
       "      <td>H2O</td>\n",
       "      <td>AU</td>\n",
       "      <td>CTAB</td>\n",
       "      <td>997</td>\n",
       "      <td>random</td>\n",
       "      <td>298</td>\n",
       "    </tr>\n",
       "  </tbody>\n",
       "</table>\n",
       "<p>5 rows × 29 columns</p>\n",
       "</div>"
      ],
      "text/plain": [
       "                                                                                                  box  \\\n",
       "1010_CTAB_on_AU_111_63x36x2_bilayer                 [1.82e-08, 1.8000000000000002e-08, 1.800000000...   \n",
       "1010_CTAB_on_AU_111_63x36x2_bilayer_with_counte...  [1.82e-08, 1.8000000000000002e-08, 1.800000000...   \n",
       "1010_CTAB_on_AU_111_63x36x2_bilayer_with_counte...  [1.82e-08, 1.8000000000000002e-08, 1.800000000...   \n",
       "1010_CTAB_on_AU_111_63x36x2_cylinders_with_coun...  [1.82e-08, 1.8000000000000002e-08, 1.800000000...   \n",
       "1010_CTAB_on_AU_111_63x36x2_cylinders_with_coun...  [1.82e-08, 1.8000000000000002e-08, 1.800000000...   \n",
       "\n",
       "                                                   ci_initial_placement  \\\n",
       "1010_CTAB_on_AU_111_63x36x2_bilayer                              random   \n",
       "1010_CTAB_on_AU_111_63x36x2_bilayer_with_counte...        at_polar_head   \n",
       "1010_CTAB_on_AU_111_63x36x2_bilayer_with_counte...        at_polar_head   \n",
       "1010_CTAB_on_AU_111_63x36x2_cylinders_with_coun...        at_polar_head   \n",
       "1010_CTAB_on_AU_111_63x36x2_cylinders_with_coun...        at_polar_head   \n",
       "\n",
       "                                                   counterion       indenter  \\\n",
       "1010_CTAB_on_AU_111_63x36x2_bilayer                        BR           None   \n",
       "1010_CTAB_on_AU_111_63x36x2_bilayer_with_counte...         BR           None   \n",
       "1010_CTAB_on_AU_111_63x36x2_bilayer_with_counte...         BR  50Ang_stepped   \n",
       "1010_CTAB_on_AU_111_63x36x2_cylinders_with_coun...         BR           None   \n",
       "1010_CTAB_on_AU_111_63x36x2_cylinders_with_coun...         BR  50Ang_stepped   \n",
       "\n",
       "                                                         indenter_pdb  pbc  \\\n",
       "1010_CTAB_on_AU_111_63x36x2_bilayer                              None  111   \n",
       "1010_CTAB_on_AU_111_63x36x2_bilayer_with_counte...               None  111   \n",
       "1010_CTAB_on_AU_111_63x36x2_bilayer_with_counte...  50Ang_stepped.pdb  111   \n",
       "1010_CTAB_on_AU_111_63x36x2_cylinders_with_coun...               None  111   \n",
       "1010_CTAB_on_AU_111_63x36x2_cylinders_with_coun...  50Ang_stepped.pdb  111   \n",
       "\n",
       "                                                    pressure       sb_area  \\\n",
       "1010_CTAB_on_AU_111_63x36x2_bilayer                        1  3.266715e-16   \n",
       "1010_CTAB_on_AU_111_63x36x2_bilayer_with_counte...         1  3.266715e-16   \n",
       "1010_CTAB_on_AU_111_63x36x2_bilayer_with_counte...         1  3.266715e-16   \n",
       "1010_CTAB_on_AU_111_63x36x2_cylinders_with_coun...         1  3.266715e-16   \n",
       "1010_CTAB_on_AU_111_63x36x2_cylinders_with_coun...         1  3.266715e-16   \n",
       "\n",
       "                                                    sb_area_per_sf_molecule  \\\n",
       "1010_CTAB_on_AU_111_63x36x2_bilayer                            3.232998e-19   \n",
       "1010_CTAB_on_AU_111_63x36x2_bilayer_with_counte...             3.232998e-19   \n",
       "1010_CTAB_on_AU_111_63x36x2_bilayer_with_counte...             3.232998e-19   \n",
       "1010_CTAB_on_AU_111_63x36x2_cylinders_with_coun...             3.232998e-19   \n",
       "1010_CTAB_on_AU_111_63x36x2_cylinders_with_coun...             3.232998e-19   \n",
       "\n",
       "                                                    sb_circular_area_per_sf_molecule_radius  \\\n",
       "1010_CTAB_on_AU_111_63x36x2_bilayer                                            2.000000e-10   \n",
       "1010_CTAB_on_AU_111_63x36x2_bilayer_with_counte...                             2.000000e-10   \n",
       "1010_CTAB_on_AU_111_63x36x2_bilayer_with_counte...                             2.000000e-10   \n",
       "1010_CTAB_on_AU_111_63x36x2_cylinders_with_coun...                             2.000000e-10   \n",
       "1010_CTAB_on_AU_111_63x36x2_cylinders_with_coun...                             2.000000e-10   \n",
       "\n",
       "                                                       ...       \\\n",
       "1010_CTAB_on_AU_111_63x36x2_bilayer                    ...        \n",
       "1010_CTAB_on_AU_111_63x36x2_bilayer_with_counte...     ...        \n",
       "1010_CTAB_on_AU_111_63x36x2_bilayer_with_counte...     ...        \n",
       "1010_CTAB_on_AU_111_63x36x2_cylinders_with_coun...     ...        \n",
       "1010_CTAB_on_AU_111_63x36x2_cylinders_with_coun...     ...        \n",
       "\n",
       "                                                    sf_concentration  \\\n",
       "1010_CTAB_on_AU_111_63x36x2_bilayer                           0.0005   \n",
       "1010_CTAB_on_AU_111_63x36x2_bilayer_with_counte...            0.0005   \n",
       "1010_CTAB_on_AU_111_63x36x2_bilayer_with_counte...            0.0005   \n",
       "1010_CTAB_on_AU_111_63x36x2_cylinders_with_coun...            0.0005   \n",
       "1010_CTAB_on_AU_111_63x36x2_cylinders_with_coun...            0.0005   \n",
       "\n",
       "                                                   sf_expected_aggregates  \\\n",
       "1010_CTAB_on_AU_111_63x36x2_bilayer                         intermmediate   \n",
       "1010_CTAB_on_AU_111_63x36x2_bilayer_with_counte...          intermmediate   \n",
       "1010_CTAB_on_AU_111_63x36x2_bilayer_with_counte...          intermmediate   \n",
       "1010_CTAB_on_AU_111_63x36x2_cylinders_with_coun...          intermmediate   \n",
       "1010_CTAB_on_AU_111_63x36x2_cylinders_with_coun...          intermmediate   \n",
       "\n",
       "                                                   sf_nmolecules  \\\n",
       "1010_CTAB_on_AU_111_63x36x2_bilayer                         1010   \n",
       "1010_CTAB_on_AU_111_63x36x2_bilayer_with_counte...          1010   \n",
       "1010_CTAB_on_AU_111_63x36x2_bilayer_with_counte...          1010   \n",
       "1010_CTAB_on_AU_111_63x36x2_cylinders_with_coun...          1010   \n",
       "1010_CTAB_on_AU_111_63x36x2_cylinders_with_coun...          1010   \n",
       "\n",
       "                                                               sf_preassembly  \\\n",
       "1010_CTAB_on_AU_111_63x36x2_bilayer                                   bilayer   \n",
       "1010_CTAB_on_AU_111_63x36x2_bilayer_with_counte...    bilayer_with_counterion   \n",
       "1010_CTAB_on_AU_111_63x36x2_bilayer_with_counte...    bilayer_with_counterion   \n",
       "1010_CTAB_on_AU_111_63x36x2_cylinders_with_coun...  cylinders_with_counterion   \n",
       "1010_CTAB_on_AU_111_63x36x2_cylinders_with_coun...  cylinders_with_counterion   \n",
       "\n",
       "                                                    solvent  substrate  \\\n",
       "1010_CTAB_on_AU_111_63x36x2_bilayer                     H2O         AU   \n",
       "1010_CTAB_on_AU_111_63x36x2_bilayer_with_counte...      H2O         AU   \n",
       "1010_CTAB_on_AU_111_63x36x2_bilayer_with_counte...      H2O         AU   \n",
       "1010_CTAB_on_AU_111_63x36x2_cylinders_with_coun...      H2O         AU   \n",
       "1010_CTAB_on_AU_111_63x36x2_cylinders_with_coun...      H2O         AU   \n",
       "\n",
       "                                                    surfactant sv_density  \\\n",
       "1010_CTAB_on_AU_111_63x36x2_bilayer                       CTAB        997   \n",
       "1010_CTAB_on_AU_111_63x36x2_bilayer_with_counte...        CTAB        997   \n",
       "1010_CTAB_on_AU_111_63x36x2_bilayer_with_counte...        CTAB        997   \n",
       "1010_CTAB_on_AU_111_63x36x2_cylinders_with_coun...        CTAB        997   \n",
       "1010_CTAB_on_AU_111_63x36x2_cylinders_with_coun...        CTAB        997   \n",
       "\n",
       "                                                    sv_preassembly  \\\n",
       "1010_CTAB_on_AU_111_63x36x2_bilayer                         random   \n",
       "1010_CTAB_on_AU_111_63x36x2_bilayer_with_counte...          random   \n",
       "1010_CTAB_on_AU_111_63x36x2_bilayer_with_counte...          random   \n",
       "1010_CTAB_on_AU_111_63x36x2_cylinders_with_coun...          random   \n",
       "1010_CTAB_on_AU_111_63x36x2_cylinders_with_coun...          random   \n",
       "\n",
       "                                                    temperature  \n",
       "1010_CTAB_on_AU_111_63x36x2_bilayer                         298  \n",
       "1010_CTAB_on_AU_111_63x36x2_bilayer_with_counte...          298  \n",
       "1010_CTAB_on_AU_111_63x36x2_bilayer_with_counte...          298  \n",
       "1010_CTAB_on_AU_111_63x36x2_cylinders_with_coun...          298  \n",
       "1010_CTAB_on_AU_111_63x36x2_cylinders_with_coun...          298  \n",
       "\n",
       "[5 rows x 29 columns]"
      ]
     },
     "execution_count": 18,
     "metadata": {},
     "output_type": "execute_result"
    }
   ],
   "source": [
    "sim_df.head()"
   ]
  },
  {
   "cell_type": "code",
   "execution_count": 22,
   "metadata": {},
   "outputs": [
    {
     "data": {
      "text/html": [
       "<div>\n",
       "<style scoped>\n",
       "    .dataframe tbody tr th:only-of-type {\n",
       "        vertical-align: middle;\n",
       "    }\n",
       "\n",
       "    .dataframe tbody tr th {\n",
       "        vertical-align: top;\n",
       "    }\n",
       "\n",
       "    .dataframe thead th {\n",
       "        text-align: right;\n",
       "    }\n",
       "</style>\n",
       "<table border=\"1\" class=\"dataframe\">\n",
       "  <thead>\n",
       "    <tr style=\"text-align: right;\">\n",
       "      <th></th>\n",
       "      <th>box</th>\n",
       "      <th>ci_initial_placement</th>\n",
       "      <th>counterion</th>\n",
       "      <th>indenter</th>\n",
       "      <th>indenter_pdb</th>\n",
       "      <th>pbc</th>\n",
       "      <th>pressure</th>\n",
       "      <th>sb_area</th>\n",
       "      <th>sb_area_per_sf_molecule</th>\n",
       "      <th>sb_circular_area_per_sf_molecule_radius</th>\n",
       "      <th>...</th>\n",
       "      <th>sf_concentration</th>\n",
       "      <th>sf_expected_aggregates</th>\n",
       "      <th>sf_nmolecules</th>\n",
       "      <th>sf_preassembly</th>\n",
       "      <th>solvent</th>\n",
       "      <th>substrate</th>\n",
       "      <th>surfactant</th>\n",
       "      <th>sv_density</th>\n",
       "      <th>sv_preassembly</th>\n",
       "      <th>temperature</th>\n",
       "    </tr>\n",
       "  </thead>\n",
       "  <tbody>\n",
       "    <tr>\n",
       "      <th>646_SDS_on_AU_111_51x30x2_bilayer</th>\n",
       "      <td>[1.4700000000000001e-08, 1.5000000000000002e-0...</td>\n",
       "      <td>random</td>\n",
       "      <td>NA</td>\n",
       "      <td>None</td>\n",
       "      <td>None</td>\n",
       "      <td>111</td>\n",
       "      <td>1</td>\n",
       "      <td>2.203736e-16</td>\n",
       "      <td>3.410067e-19</td>\n",
       "      <td>2.000000e-10</td>\n",
       "      <td>...</td>\n",
       "      <td>0.006806</td>\n",
       "      <td>None</td>\n",
       "      <td>646</td>\n",
       "      <td>bilayer</td>\n",
       "      <td>H2O</td>\n",
       "      <td>AU</td>\n",
       "      <td>SDS</td>\n",
       "      <td>997</td>\n",
       "      <td>random</td>\n",
       "      <td>298</td>\n",
       "    </tr>\n",
       "    <tr>\n",
       "      <th>646_SDS_on_AU_111_51x30x2_bilayer_with_counterion</th>\n",
       "      <td>[1.4700000000000001e-08, 1.5000000000000002e-0...</td>\n",
       "      <td>at_polar_head</td>\n",
       "      <td>NA</td>\n",
       "      <td>None</td>\n",
       "      <td>None</td>\n",
       "      <td>111</td>\n",
       "      <td>1</td>\n",
       "      <td>2.203736e-16</td>\n",
       "      <td>3.410067e-19</td>\n",
       "      <td>2.000000e-10</td>\n",
       "      <td>...</td>\n",
       "      <td>0.006806</td>\n",
       "      <td>None</td>\n",
       "      <td>646</td>\n",
       "      <td>bilayer_with_counterion</td>\n",
       "      <td>H2O</td>\n",
       "      <td>AU</td>\n",
       "      <td>SDS</td>\n",
       "      <td>997</td>\n",
       "      <td>random</td>\n",
       "      <td>298</td>\n",
       "    </tr>\n",
       "    <tr>\n",
       "      <th>646_SDS_on_AU_111_51x30x2_bilayer_with_counterion_50Ang_stepped</th>\n",
       "      <td>[1.4700000000000001e-08, 1.5000000000000002e-0...</td>\n",
       "      <td>at_polar_head</td>\n",
       "      <td>NA</td>\n",
       "      <td>50Ang_stepped</td>\n",
       "      <td>50Ang_stepped.pdb</td>\n",
       "      <td>111</td>\n",
       "      <td>1</td>\n",
       "      <td>2.203736e-16</td>\n",
       "      <td>3.410067e-19</td>\n",
       "      <td>2.000000e-10</td>\n",
       "      <td>...</td>\n",
       "      <td>0.006806</td>\n",
       "      <td>None</td>\n",
       "      <td>646</td>\n",
       "      <td>bilayer_with_counterion</td>\n",
       "      <td>H2O</td>\n",
       "      <td>AU</td>\n",
       "      <td>SDS</td>\n",
       "      <td>997</td>\n",
       "      <td>random</td>\n",
       "      <td>298</td>\n",
       "    </tr>\n",
       "    <tr>\n",
       "      <th>646_SDS_on_AU_111_51x30x2_cylinders_with_counterion</th>\n",
       "      <td>[1.4700000000000001e-08, 1.5000000000000002e-0...</td>\n",
       "      <td>at_polar_head</td>\n",
       "      <td>NA</td>\n",
       "      <td>None</td>\n",
       "      <td>None</td>\n",
       "      <td>111</td>\n",
       "      <td>1</td>\n",
       "      <td>2.203736e-16</td>\n",
       "      <td>3.410067e-19</td>\n",
       "      <td>2.000000e-10</td>\n",
       "      <td>...</td>\n",
       "      <td>0.006806</td>\n",
       "      <td>None</td>\n",
       "      <td>646</td>\n",
       "      <td>cylinders_with_counterion</td>\n",
       "      <td>H2O</td>\n",
       "      <td>AU</td>\n",
       "      <td>SDS</td>\n",
       "      <td>997</td>\n",
       "      <td>random</td>\n",
       "      <td>298</td>\n",
       "    </tr>\n",
       "    <tr>\n",
       "      <th>646_SDS_on_AU_111_51x30x2_cylinders_with_counterion_50Ang_stepped</th>\n",
       "      <td>[1.4700000000000001e-08, 1.5000000000000002e-0...</td>\n",
       "      <td>at_polar_head</td>\n",
       "      <td>NA</td>\n",
       "      <td>50Ang_stepped</td>\n",
       "      <td>50Ang_stepped.pdb</td>\n",
       "      <td>111</td>\n",
       "      <td>1</td>\n",
       "      <td>2.203736e-16</td>\n",
       "      <td>3.410067e-19</td>\n",
       "      <td>2.000000e-10</td>\n",
       "      <td>...</td>\n",
       "      <td>0.006806</td>\n",
       "      <td>None</td>\n",
       "      <td>646</td>\n",
       "      <td>cylinders_with_counterion</td>\n",
       "      <td>H2O</td>\n",
       "      <td>AU</td>\n",
       "      <td>SDS</td>\n",
       "      <td>997</td>\n",
       "      <td>random</td>\n",
       "      <td>298</td>\n",
       "    </tr>\n",
       "    <tr>\n",
       "      <th>646_SDS_on_AU_111_51x30x2_hemicylinders_with_counterion</th>\n",
       "      <td>[1.4700000000000001e-08, 1.5000000000000002e-0...</td>\n",
       "      <td>at_polar_head</td>\n",
       "      <td>NA</td>\n",
       "      <td>None</td>\n",
       "      <td>None</td>\n",
       "      <td>111</td>\n",
       "      <td>1</td>\n",
       "      <td>2.203736e-16</td>\n",
       "      <td>3.410067e-19</td>\n",
       "      <td>2.000000e-10</td>\n",
       "      <td>...</td>\n",
       "      <td>0.006806</td>\n",
       "      <td>None</td>\n",
       "      <td>646</td>\n",
       "      <td>hemicylinders_with_counterion</td>\n",
       "      <td>H2O</td>\n",
       "      <td>AU</td>\n",
       "      <td>SDS</td>\n",
       "      <td>997</td>\n",
       "      <td>random</td>\n",
       "      <td>298</td>\n",
       "    </tr>\n",
       "    <tr>\n",
       "      <th>646_SDS_on_AU_111_51x30x2_hemicylinders_with_counterion_50Ang_stepped</th>\n",
       "      <td>[1.4700000000000001e-08, 1.5000000000000002e-0...</td>\n",
       "      <td>at_polar_head</td>\n",
       "      <td>NA</td>\n",
       "      <td>50Ang_stepped</td>\n",
       "      <td>50Ang_stepped.pdb</td>\n",
       "      <td>111</td>\n",
       "      <td>1</td>\n",
       "      <td>2.203736e-16</td>\n",
       "      <td>3.410067e-19</td>\n",
       "      <td>2.000000e-10</td>\n",
       "      <td>...</td>\n",
       "      <td>0.006806</td>\n",
       "      <td>None</td>\n",
       "      <td>646</td>\n",
       "      <td>hemicylinders_with_counterion</td>\n",
       "      <td>H2O</td>\n",
       "      <td>AU</td>\n",
       "      <td>SDS</td>\n",
       "      <td>997</td>\n",
       "      <td>random</td>\n",
       "      <td>298</td>\n",
       "    </tr>\n",
       "    <tr>\n",
       "      <th>646_SDS_on_AU_111_51x30x2_inverse_bilayer_with_counterion</th>\n",
       "      <td>[1.4700000000000001e-08, 1.5000000000000002e-0...</td>\n",
       "      <td>at_polar_head</td>\n",
       "      <td>NA</td>\n",
       "      <td>None</td>\n",
       "      <td>None</td>\n",
       "      <td>111</td>\n",
       "      <td>1</td>\n",
       "      <td>2.203736e-16</td>\n",
       "      <td>3.410067e-19</td>\n",
       "      <td>2.000000e-10</td>\n",
       "      <td>...</td>\n",
       "      <td>0.006806</td>\n",
       "      <td>None</td>\n",
       "      <td>646</td>\n",
       "      <td>inverse_bilayer_with_counterion</td>\n",
       "      <td>H2O</td>\n",
       "      <td>AU</td>\n",
       "      <td>SDS</td>\n",
       "      <td>997</td>\n",
       "      <td>random</td>\n",
       "      <td>298</td>\n",
       "    </tr>\n",
       "    <tr>\n",
       "      <th>646_SDS_on_AU_111_51x30x2_inverse_monolayer_with_counterion</th>\n",
       "      <td>[1.4700000000000001e-08, 1.5000000000000002e-0...</td>\n",
       "      <td>at_polar_head</td>\n",
       "      <td>NA</td>\n",
       "      <td>None</td>\n",
       "      <td>None</td>\n",
       "      <td>111</td>\n",
       "      <td>1</td>\n",
       "      <td>2.203736e-16</td>\n",
       "      <td>3.410067e-19</td>\n",
       "      <td>2.000000e-10</td>\n",
       "      <td>...</td>\n",
       "      <td>0.006806</td>\n",
       "      <td>None</td>\n",
       "      <td>646</td>\n",
       "      <td>inverse_monolayer_with_counterion</td>\n",
       "      <td>H2O</td>\n",
       "      <td>AU</td>\n",
       "      <td>SDS</td>\n",
       "      <td>997</td>\n",
       "      <td>random</td>\n",
       "      <td>298</td>\n",
       "    </tr>\n",
       "    <tr>\n",
       "      <th>646_SDS_on_AU_111_51x30x2_inverse_monolayer_with_counterion_50Ang_stepped</th>\n",
       "      <td>[1.4700000000000001e-08, 1.5000000000000002e-0...</td>\n",
       "      <td>at_polar_head</td>\n",
       "      <td>NA</td>\n",
       "      <td>50Ang_stepped</td>\n",
       "      <td>50Ang_stepped.pdb</td>\n",
       "      <td>111</td>\n",
       "      <td>1</td>\n",
       "      <td>2.203736e-16</td>\n",
       "      <td>3.410067e-19</td>\n",
       "      <td>2.000000e-10</td>\n",
       "      <td>...</td>\n",
       "      <td>0.006806</td>\n",
       "      <td>None</td>\n",
       "      <td>646</td>\n",
       "      <td>inverse_monolayer_with_counterion</td>\n",
       "      <td>H2O</td>\n",
       "      <td>AU</td>\n",
       "      <td>SDS</td>\n",
       "      <td>997</td>\n",
       "      <td>random</td>\n",
       "      <td>298</td>\n",
       "    </tr>\n",
       "    <tr>\n",
       "      <th>646_SDS_on_AU_111_51x30x2_monolayer_with_counterion</th>\n",
       "      <td>[1.4700000000000001e-08, 1.5000000000000002e-0...</td>\n",
       "      <td>at_polar_head</td>\n",
       "      <td>NA</td>\n",
       "      <td>None</td>\n",
       "      <td>None</td>\n",
       "      <td>111</td>\n",
       "      <td>1</td>\n",
       "      <td>2.203736e-16</td>\n",
       "      <td>3.410067e-19</td>\n",
       "      <td>2.000000e-10</td>\n",
       "      <td>...</td>\n",
       "      <td>0.006806</td>\n",
       "      <td>None</td>\n",
       "      <td>646</td>\n",
       "      <td>monolayer_with_counterion</td>\n",
       "      <td>H2O</td>\n",
       "      <td>AU</td>\n",
       "      <td>SDS</td>\n",
       "      <td>997</td>\n",
       "      <td>random</td>\n",
       "      <td>298</td>\n",
       "    </tr>\n",
       "    <tr>\n",
       "      <th>646_SDS_on_AU_111_51x30x2_monolayer_with_counterion_50Ang_stepped</th>\n",
       "      <td>[1.4700000000000001e-08, 1.5000000000000002e-0...</td>\n",
       "      <td>at_polar_head</td>\n",
       "      <td>NA</td>\n",
       "      <td>50Ang_stepped</td>\n",
       "      <td>50Ang_stepped.pdb</td>\n",
       "      <td>111</td>\n",
       "      <td>1</td>\n",
       "      <td>2.203736e-16</td>\n",
       "      <td>3.410067e-19</td>\n",
       "      <td>2.000000e-10</td>\n",
       "      <td>...</td>\n",
       "      <td>0.006806</td>\n",
       "      <td>None</td>\n",
       "      <td>646</td>\n",
       "      <td>monolayer_with_counterion</td>\n",
       "      <td>H2O</td>\n",
       "      <td>AU</td>\n",
       "      <td>SDS</td>\n",
       "      <td>997</td>\n",
       "      <td>random</td>\n",
       "      <td>298</td>\n",
       "    </tr>\n",
       "  </tbody>\n",
       "</table>\n",
       "<p>12 rows × 29 columns</p>\n",
       "</div>"
      ],
      "text/plain": [
       "                                                                                                  box  \\\n",
       "646_SDS_on_AU_111_51x30x2_bilayer                   [1.4700000000000001e-08, 1.5000000000000002e-0...   \n",
       "646_SDS_on_AU_111_51x30x2_bilayer_with_counterion   [1.4700000000000001e-08, 1.5000000000000002e-0...   \n",
       "646_SDS_on_AU_111_51x30x2_bilayer_with_counteri...  [1.4700000000000001e-08, 1.5000000000000002e-0...   \n",
       "646_SDS_on_AU_111_51x30x2_cylinders_with_counte...  [1.4700000000000001e-08, 1.5000000000000002e-0...   \n",
       "646_SDS_on_AU_111_51x30x2_cylinders_with_counte...  [1.4700000000000001e-08, 1.5000000000000002e-0...   \n",
       "646_SDS_on_AU_111_51x30x2_hemicylinders_with_co...  [1.4700000000000001e-08, 1.5000000000000002e-0...   \n",
       "646_SDS_on_AU_111_51x30x2_hemicylinders_with_co...  [1.4700000000000001e-08, 1.5000000000000002e-0...   \n",
       "646_SDS_on_AU_111_51x30x2_inverse_bilayer_with_...  [1.4700000000000001e-08, 1.5000000000000002e-0...   \n",
       "646_SDS_on_AU_111_51x30x2_inverse_monolayer_wit...  [1.4700000000000001e-08, 1.5000000000000002e-0...   \n",
       "646_SDS_on_AU_111_51x30x2_inverse_monolayer_wit...  [1.4700000000000001e-08, 1.5000000000000002e-0...   \n",
       "646_SDS_on_AU_111_51x30x2_monolayer_with_counte...  [1.4700000000000001e-08, 1.5000000000000002e-0...   \n",
       "646_SDS_on_AU_111_51x30x2_monolayer_with_counte...  [1.4700000000000001e-08, 1.5000000000000002e-0...   \n",
       "\n",
       "                                                   ci_initial_placement  \\\n",
       "646_SDS_on_AU_111_51x30x2_bilayer                                random   \n",
       "646_SDS_on_AU_111_51x30x2_bilayer_with_counterion         at_polar_head   \n",
       "646_SDS_on_AU_111_51x30x2_bilayer_with_counteri...        at_polar_head   \n",
       "646_SDS_on_AU_111_51x30x2_cylinders_with_counte...        at_polar_head   \n",
       "646_SDS_on_AU_111_51x30x2_cylinders_with_counte...        at_polar_head   \n",
       "646_SDS_on_AU_111_51x30x2_hemicylinders_with_co...        at_polar_head   \n",
       "646_SDS_on_AU_111_51x30x2_hemicylinders_with_co...        at_polar_head   \n",
       "646_SDS_on_AU_111_51x30x2_inverse_bilayer_with_...        at_polar_head   \n",
       "646_SDS_on_AU_111_51x30x2_inverse_monolayer_wit...        at_polar_head   \n",
       "646_SDS_on_AU_111_51x30x2_inverse_monolayer_wit...        at_polar_head   \n",
       "646_SDS_on_AU_111_51x30x2_monolayer_with_counte...        at_polar_head   \n",
       "646_SDS_on_AU_111_51x30x2_monolayer_with_counte...        at_polar_head   \n",
       "\n",
       "                                                   counterion       indenter  \\\n",
       "646_SDS_on_AU_111_51x30x2_bilayer                          NA           None   \n",
       "646_SDS_on_AU_111_51x30x2_bilayer_with_counterion          NA           None   \n",
       "646_SDS_on_AU_111_51x30x2_bilayer_with_counteri...         NA  50Ang_stepped   \n",
       "646_SDS_on_AU_111_51x30x2_cylinders_with_counte...         NA           None   \n",
       "646_SDS_on_AU_111_51x30x2_cylinders_with_counte...         NA  50Ang_stepped   \n",
       "646_SDS_on_AU_111_51x30x2_hemicylinders_with_co...         NA           None   \n",
       "646_SDS_on_AU_111_51x30x2_hemicylinders_with_co...         NA  50Ang_stepped   \n",
       "646_SDS_on_AU_111_51x30x2_inverse_bilayer_with_...         NA           None   \n",
       "646_SDS_on_AU_111_51x30x2_inverse_monolayer_wit...         NA           None   \n",
       "646_SDS_on_AU_111_51x30x2_inverse_monolayer_wit...         NA  50Ang_stepped   \n",
       "646_SDS_on_AU_111_51x30x2_monolayer_with_counte...         NA           None   \n",
       "646_SDS_on_AU_111_51x30x2_monolayer_with_counte...         NA  50Ang_stepped   \n",
       "\n",
       "                                                         indenter_pdb  pbc  \\\n",
       "646_SDS_on_AU_111_51x30x2_bilayer                                None  111   \n",
       "646_SDS_on_AU_111_51x30x2_bilayer_with_counterion                None  111   \n",
       "646_SDS_on_AU_111_51x30x2_bilayer_with_counteri...  50Ang_stepped.pdb  111   \n",
       "646_SDS_on_AU_111_51x30x2_cylinders_with_counte...               None  111   \n",
       "646_SDS_on_AU_111_51x30x2_cylinders_with_counte...  50Ang_stepped.pdb  111   \n",
       "646_SDS_on_AU_111_51x30x2_hemicylinders_with_co...               None  111   \n",
       "646_SDS_on_AU_111_51x30x2_hemicylinders_with_co...  50Ang_stepped.pdb  111   \n",
       "646_SDS_on_AU_111_51x30x2_inverse_bilayer_with_...               None  111   \n",
       "646_SDS_on_AU_111_51x30x2_inverse_monolayer_wit...               None  111   \n",
       "646_SDS_on_AU_111_51x30x2_inverse_monolayer_wit...  50Ang_stepped.pdb  111   \n",
       "646_SDS_on_AU_111_51x30x2_monolayer_with_counte...               None  111   \n",
       "646_SDS_on_AU_111_51x30x2_monolayer_with_counte...  50Ang_stepped.pdb  111   \n",
       "\n",
       "                                                    pressure       sb_area  \\\n",
       "646_SDS_on_AU_111_51x30x2_bilayer                          1  2.203736e-16   \n",
       "646_SDS_on_AU_111_51x30x2_bilayer_with_counterion          1  2.203736e-16   \n",
       "646_SDS_on_AU_111_51x30x2_bilayer_with_counteri...         1  2.203736e-16   \n",
       "646_SDS_on_AU_111_51x30x2_cylinders_with_counte...         1  2.203736e-16   \n",
       "646_SDS_on_AU_111_51x30x2_cylinders_with_counte...         1  2.203736e-16   \n",
       "646_SDS_on_AU_111_51x30x2_hemicylinders_with_co...         1  2.203736e-16   \n",
       "646_SDS_on_AU_111_51x30x2_hemicylinders_with_co...         1  2.203736e-16   \n",
       "646_SDS_on_AU_111_51x30x2_inverse_bilayer_with_...         1  2.203736e-16   \n",
       "646_SDS_on_AU_111_51x30x2_inverse_monolayer_wit...         1  2.203736e-16   \n",
       "646_SDS_on_AU_111_51x30x2_inverse_monolayer_wit...         1  2.203736e-16   \n",
       "646_SDS_on_AU_111_51x30x2_monolayer_with_counte...         1  2.203736e-16   \n",
       "646_SDS_on_AU_111_51x30x2_monolayer_with_counte...         1  2.203736e-16   \n",
       "\n",
       "                                                    sb_area_per_sf_molecule  \\\n",
       "646_SDS_on_AU_111_51x30x2_bilayer                              3.410067e-19   \n",
       "646_SDS_on_AU_111_51x30x2_bilayer_with_counterion              3.410067e-19   \n",
       "646_SDS_on_AU_111_51x30x2_bilayer_with_counteri...             3.410067e-19   \n",
       "646_SDS_on_AU_111_51x30x2_cylinders_with_counte...             3.410067e-19   \n",
       "646_SDS_on_AU_111_51x30x2_cylinders_with_counte...             3.410067e-19   \n",
       "646_SDS_on_AU_111_51x30x2_hemicylinders_with_co...             3.410067e-19   \n",
       "646_SDS_on_AU_111_51x30x2_hemicylinders_with_co...             3.410067e-19   \n",
       "646_SDS_on_AU_111_51x30x2_inverse_bilayer_with_...             3.410067e-19   \n",
       "646_SDS_on_AU_111_51x30x2_inverse_monolayer_wit...             3.410067e-19   \n",
       "646_SDS_on_AU_111_51x30x2_inverse_monolayer_wit...             3.410067e-19   \n",
       "646_SDS_on_AU_111_51x30x2_monolayer_with_counte...             3.410067e-19   \n",
       "646_SDS_on_AU_111_51x30x2_monolayer_with_counte...             3.410067e-19   \n",
       "\n",
       "                                                    sb_circular_area_per_sf_molecule_radius  \\\n",
       "646_SDS_on_AU_111_51x30x2_bilayer                                              2.000000e-10   \n",
       "646_SDS_on_AU_111_51x30x2_bilayer_with_counterion                              2.000000e-10   \n",
       "646_SDS_on_AU_111_51x30x2_bilayer_with_counteri...                             2.000000e-10   \n",
       "646_SDS_on_AU_111_51x30x2_cylinders_with_counte...                             2.000000e-10   \n",
       "646_SDS_on_AU_111_51x30x2_cylinders_with_counte...                             2.000000e-10   \n",
       "646_SDS_on_AU_111_51x30x2_hemicylinders_with_co...                             2.000000e-10   \n",
       "646_SDS_on_AU_111_51x30x2_hemicylinders_with_co...                             2.000000e-10   \n",
       "646_SDS_on_AU_111_51x30x2_inverse_bilayer_with_...                             2.000000e-10   \n",
       "646_SDS_on_AU_111_51x30x2_inverse_monolayer_wit...                             2.000000e-10   \n",
       "646_SDS_on_AU_111_51x30x2_inverse_monolayer_wit...                             2.000000e-10   \n",
       "646_SDS_on_AU_111_51x30x2_monolayer_with_counte...                             2.000000e-10   \n",
       "646_SDS_on_AU_111_51x30x2_monolayer_with_counte...                             2.000000e-10   \n",
       "\n",
       "                                                       ...       \\\n",
       "646_SDS_on_AU_111_51x30x2_bilayer                      ...        \n",
       "646_SDS_on_AU_111_51x30x2_bilayer_with_counterion      ...        \n",
       "646_SDS_on_AU_111_51x30x2_bilayer_with_counteri...     ...        \n",
       "646_SDS_on_AU_111_51x30x2_cylinders_with_counte...     ...        \n",
       "646_SDS_on_AU_111_51x30x2_cylinders_with_counte...     ...        \n",
       "646_SDS_on_AU_111_51x30x2_hemicylinders_with_co...     ...        \n",
       "646_SDS_on_AU_111_51x30x2_hemicylinders_with_co...     ...        \n",
       "646_SDS_on_AU_111_51x30x2_inverse_bilayer_with_...     ...        \n",
       "646_SDS_on_AU_111_51x30x2_inverse_monolayer_wit...     ...        \n",
       "646_SDS_on_AU_111_51x30x2_inverse_monolayer_wit...     ...        \n",
       "646_SDS_on_AU_111_51x30x2_monolayer_with_counte...     ...        \n",
       "646_SDS_on_AU_111_51x30x2_monolayer_with_counte...     ...        \n",
       "\n",
       "                                                    sf_concentration  \\\n",
       "646_SDS_on_AU_111_51x30x2_bilayer                           0.006806   \n",
       "646_SDS_on_AU_111_51x30x2_bilayer_with_counterion           0.006806   \n",
       "646_SDS_on_AU_111_51x30x2_bilayer_with_counteri...          0.006806   \n",
       "646_SDS_on_AU_111_51x30x2_cylinders_with_counte...          0.006806   \n",
       "646_SDS_on_AU_111_51x30x2_cylinders_with_counte...          0.006806   \n",
       "646_SDS_on_AU_111_51x30x2_hemicylinders_with_co...          0.006806   \n",
       "646_SDS_on_AU_111_51x30x2_hemicylinders_with_co...          0.006806   \n",
       "646_SDS_on_AU_111_51x30x2_inverse_bilayer_with_...          0.006806   \n",
       "646_SDS_on_AU_111_51x30x2_inverse_monolayer_wit...          0.006806   \n",
       "646_SDS_on_AU_111_51x30x2_inverse_monolayer_wit...          0.006806   \n",
       "646_SDS_on_AU_111_51x30x2_monolayer_with_counte...          0.006806   \n",
       "646_SDS_on_AU_111_51x30x2_monolayer_with_counte...          0.006806   \n",
       "\n",
       "                                                   sf_expected_aggregates  \\\n",
       "646_SDS_on_AU_111_51x30x2_bilayer                                    None   \n",
       "646_SDS_on_AU_111_51x30x2_bilayer_with_counterion                    None   \n",
       "646_SDS_on_AU_111_51x30x2_bilayer_with_counteri...                   None   \n",
       "646_SDS_on_AU_111_51x30x2_cylinders_with_counte...                   None   \n",
       "646_SDS_on_AU_111_51x30x2_cylinders_with_counte...                   None   \n",
       "646_SDS_on_AU_111_51x30x2_hemicylinders_with_co...                   None   \n",
       "646_SDS_on_AU_111_51x30x2_hemicylinders_with_co...                   None   \n",
       "646_SDS_on_AU_111_51x30x2_inverse_bilayer_with_...                   None   \n",
       "646_SDS_on_AU_111_51x30x2_inverse_monolayer_wit...                   None   \n",
       "646_SDS_on_AU_111_51x30x2_inverse_monolayer_wit...                   None   \n",
       "646_SDS_on_AU_111_51x30x2_monolayer_with_counte...                   None   \n",
       "646_SDS_on_AU_111_51x30x2_monolayer_with_counte...                   None   \n",
       "\n",
       "                                                   sf_nmolecules  \\\n",
       "646_SDS_on_AU_111_51x30x2_bilayer                            646   \n",
       "646_SDS_on_AU_111_51x30x2_bilayer_with_counterion            646   \n",
       "646_SDS_on_AU_111_51x30x2_bilayer_with_counteri...           646   \n",
       "646_SDS_on_AU_111_51x30x2_cylinders_with_counte...           646   \n",
       "646_SDS_on_AU_111_51x30x2_cylinders_with_counte...           646   \n",
       "646_SDS_on_AU_111_51x30x2_hemicylinders_with_co...           646   \n",
       "646_SDS_on_AU_111_51x30x2_hemicylinders_with_co...           646   \n",
       "646_SDS_on_AU_111_51x30x2_inverse_bilayer_with_...           646   \n",
       "646_SDS_on_AU_111_51x30x2_inverse_monolayer_wit...           646   \n",
       "646_SDS_on_AU_111_51x30x2_inverse_monolayer_wit...           646   \n",
       "646_SDS_on_AU_111_51x30x2_monolayer_with_counte...           646   \n",
       "646_SDS_on_AU_111_51x30x2_monolayer_with_counte...           646   \n",
       "\n",
       "                                                                       sf_preassembly  \\\n",
       "646_SDS_on_AU_111_51x30x2_bilayer                                             bilayer   \n",
       "646_SDS_on_AU_111_51x30x2_bilayer_with_counterion             bilayer_with_counterion   \n",
       "646_SDS_on_AU_111_51x30x2_bilayer_with_counteri...            bilayer_with_counterion   \n",
       "646_SDS_on_AU_111_51x30x2_cylinders_with_counte...          cylinders_with_counterion   \n",
       "646_SDS_on_AU_111_51x30x2_cylinders_with_counte...          cylinders_with_counterion   \n",
       "646_SDS_on_AU_111_51x30x2_hemicylinders_with_co...      hemicylinders_with_counterion   \n",
       "646_SDS_on_AU_111_51x30x2_hemicylinders_with_co...      hemicylinders_with_counterion   \n",
       "646_SDS_on_AU_111_51x30x2_inverse_bilayer_with_...    inverse_bilayer_with_counterion   \n",
       "646_SDS_on_AU_111_51x30x2_inverse_monolayer_wit...  inverse_monolayer_with_counterion   \n",
       "646_SDS_on_AU_111_51x30x2_inverse_monolayer_wit...  inverse_monolayer_with_counterion   \n",
       "646_SDS_on_AU_111_51x30x2_monolayer_with_counte...          monolayer_with_counterion   \n",
       "646_SDS_on_AU_111_51x30x2_monolayer_with_counte...          monolayer_with_counterion   \n",
       "\n",
       "                                                    solvent  substrate  \\\n",
       "646_SDS_on_AU_111_51x30x2_bilayer                       H2O         AU   \n",
       "646_SDS_on_AU_111_51x30x2_bilayer_with_counterion       H2O         AU   \n",
       "646_SDS_on_AU_111_51x30x2_bilayer_with_counteri...      H2O         AU   \n",
       "646_SDS_on_AU_111_51x30x2_cylinders_with_counte...      H2O         AU   \n",
       "646_SDS_on_AU_111_51x30x2_cylinders_with_counte...      H2O         AU   \n",
       "646_SDS_on_AU_111_51x30x2_hemicylinders_with_co...      H2O         AU   \n",
       "646_SDS_on_AU_111_51x30x2_hemicylinders_with_co...      H2O         AU   \n",
       "646_SDS_on_AU_111_51x30x2_inverse_bilayer_with_...      H2O         AU   \n",
       "646_SDS_on_AU_111_51x30x2_inverse_monolayer_wit...      H2O         AU   \n",
       "646_SDS_on_AU_111_51x30x2_inverse_monolayer_wit...      H2O         AU   \n",
       "646_SDS_on_AU_111_51x30x2_monolayer_with_counte...      H2O         AU   \n",
       "646_SDS_on_AU_111_51x30x2_monolayer_with_counte...      H2O         AU   \n",
       "\n",
       "                                                    surfactant sv_density  \\\n",
       "646_SDS_on_AU_111_51x30x2_bilayer                          SDS        997   \n",
       "646_SDS_on_AU_111_51x30x2_bilayer_with_counterion          SDS        997   \n",
       "646_SDS_on_AU_111_51x30x2_bilayer_with_counteri...         SDS        997   \n",
       "646_SDS_on_AU_111_51x30x2_cylinders_with_counte...         SDS        997   \n",
       "646_SDS_on_AU_111_51x30x2_cylinders_with_counte...         SDS        997   \n",
       "646_SDS_on_AU_111_51x30x2_hemicylinders_with_co...         SDS        997   \n",
       "646_SDS_on_AU_111_51x30x2_hemicylinders_with_co...         SDS        997   \n",
       "646_SDS_on_AU_111_51x30x2_inverse_bilayer_with_...         SDS        997   \n",
       "646_SDS_on_AU_111_51x30x2_inverse_monolayer_wit...         SDS        997   \n",
       "646_SDS_on_AU_111_51x30x2_inverse_monolayer_wit...         SDS        997   \n",
       "646_SDS_on_AU_111_51x30x2_monolayer_with_counte...         SDS        997   \n",
       "646_SDS_on_AU_111_51x30x2_monolayer_with_counte...         SDS        997   \n",
       "\n",
       "                                                    sv_preassembly  \\\n",
       "646_SDS_on_AU_111_51x30x2_bilayer                           random   \n",
       "646_SDS_on_AU_111_51x30x2_bilayer_with_counterion           random   \n",
       "646_SDS_on_AU_111_51x30x2_bilayer_with_counteri...          random   \n",
       "646_SDS_on_AU_111_51x30x2_cylinders_with_counte...          random   \n",
       "646_SDS_on_AU_111_51x30x2_cylinders_with_counte...          random   \n",
       "646_SDS_on_AU_111_51x30x2_hemicylinders_with_co...          random   \n",
       "646_SDS_on_AU_111_51x30x2_hemicylinders_with_co...          random   \n",
       "646_SDS_on_AU_111_51x30x2_inverse_bilayer_with_...          random   \n",
       "646_SDS_on_AU_111_51x30x2_inverse_monolayer_wit...          random   \n",
       "646_SDS_on_AU_111_51x30x2_inverse_monolayer_wit...          random   \n",
       "646_SDS_on_AU_111_51x30x2_monolayer_with_counte...          random   \n",
       "646_SDS_on_AU_111_51x30x2_monolayer_with_counte...          random   \n",
       "\n",
       "                                                    temperature  \n",
       "646_SDS_on_AU_111_51x30x2_bilayer                           298  \n",
       "646_SDS_on_AU_111_51x30x2_bilayer_with_counterion           298  \n",
       "646_SDS_on_AU_111_51x30x2_bilayer_with_counteri...          298  \n",
       "646_SDS_on_AU_111_51x30x2_cylinders_with_counte...          298  \n",
       "646_SDS_on_AU_111_51x30x2_cylinders_with_counte...          298  \n",
       "646_SDS_on_AU_111_51x30x2_hemicylinders_with_co...          298  \n",
       "646_SDS_on_AU_111_51x30x2_hemicylinders_with_co...          298  \n",
       "646_SDS_on_AU_111_51x30x2_inverse_bilayer_with_...          298  \n",
       "646_SDS_on_AU_111_51x30x2_inverse_monolayer_wit...          298  \n",
       "646_SDS_on_AU_111_51x30x2_inverse_monolayer_wit...          298  \n",
       "646_SDS_on_AU_111_51x30x2_monolayer_with_counte...          298  \n",
       "646_SDS_on_AU_111_51x30x2_monolayer_with_counte...          298  \n",
       "\n",
       "[12 rows x 29 columns]"
      ]
     },
     "execution_count": 22,
     "metadata": {},
     "output_type": "execute_result"
    }
   ],
   "source": [
    "sim_df[sim_df.sf_nmolecules == 646]"
   ]
  },
  {
   "cell_type": "code",
   "execution_count": 28,
   "metadata": {},
   "outputs": [
    {
     "data": {
      "text/plain": [
       "box                                        [1.4700000000000001e-08, 1.5000000000000002e-0...\n",
       "ci_initial_placement                                                           at_polar_head\n",
       "counterion                                                                                NA\n",
       "indenter                                                                                None\n",
       "indenter_pdb                                                                            None\n",
       "pbc                                                                                      111\n",
       "pressure                                                                                   1\n",
       "sb_area                                                                          2.20374e-16\n",
       "sb_area_per_sf_molecule                                                          3.41007e-19\n",
       "sb_circular_area_per_sf_molecule_radius                                                2e-10\n",
       "sb_crystal_plane                                                                         111\n",
       "sb_measures                                [1.4700000000000001e-08, 1.5000000000000002e-0...\n",
       "sb_multiples                                                                     [51, 30, 2]\n",
       "sb_name                                                                       AU_111_51x30x2\n",
       "sb_normal                                                                                  2\n",
       "sb_square_area_per_sf_molecule_side                                                    6e-10\n",
       "sb_thickness                                                                         1.4e-09\n",
       "sb_unit_cell                                           [3e-10, 5e-10, 7.000000000000001e-10]\n",
       "sb_volume                                                                        3.11331e-25\n",
       "sf_concentration                                                                  0.00680627\n",
       "sf_expected_aggregates                                                                  None\n",
       "sf_nmolecules                                                                            646\n",
       "sf_preassembly                                                 hemicylinders_with_counterion\n",
       "solvent                                                                                  H2O\n",
       "substrate                                                                                 AU\n",
       "surfactant                                                                               SDS\n",
       "sv_density                                                                               997\n",
       "sv_preassembly                                                                        random\n",
       "temperature                                                                              298\n",
       "Name: 646_SDS_on_AU_111_51x30x2_hemicylinders_with_counterion, dtype: object"
      ]
     },
     "execution_count": 28,
     "metadata": {},
     "output_type": "execute_result"
    }
   ],
   "source": [
    "sim_df.loc[\"646_SDS_on_AU_111_51x30x2_hemicylinders_with_counterion\"]"
   ]
  },
  {
   "cell_type": "code",
   "execution_count": 43,
   "metadata": {},
   "outputs": [
    {
     "data": {
      "text/plain": [
       "6.022e+23"
      ]
     },
     "execution_count": 43,
     "metadata": {},
     "output_type": "execute_result"
    }
   ],
   "source": [
    "NA"
   ]
  },
  {
   "cell_type": "code",
   "execution_count": 44,
   "metadata": {},
   "outputs": [
    {
     "data": {
      "text/plain": [
       "6.022e+23"
      ]
     },
     "execution_count": 44,
     "metadata": {},
     "output_type": "execute_result"
    }
   ],
   "source": [
    "NA"
   ]
  },
  {
   "cell_type": "code",
   "execution_count": 35,
   "metadata": {},
   "outputs": [
    {
     "data": {
      "text/plain": [
       "2.9324911218831287"
      ]
     },
     "execution_count": 35,
     "metadata": {},
     "output_type": "execute_result"
    }
   ],
   "source": [
    "1/(3.41007e-19 * 1e18) # molecules per nm^2"
   ]
  },
  {
   "cell_type": "code",
   "execution_count": 38,
   "metadata": {},
   "outputs": [],
   "source": [
    "NA = 6.022e23"
   ]
  },
  {
   "cell_type": "code",
   "execution_count": 48,
   "metadata": {},
   "outputs": [
    {
     "data": {
      "text/plain": [
       "4.86962989352894"
      ]
     },
     "execution_count": 48,
     "metadata": {},
     "output_type": "execute_result"
    }
   ],
   "source": [
    "1/(3.41007e-19 * 1e4) / NA * 1e10# moles per cm^2"
   ]
  },
  {
   "cell_type": "code",
   "execution_count": 51,
   "metadata": {},
   "outputs": [
    {
     "data": {
      "text/plain": [
       "3.321155762205247"
      ]
     },
     "execution_count": 51,
     "metadata": {},
     "output_type": "execute_result"
    }
   ],
   "source": [
    "2*1e18 *1e-4 / NA *1e10"
   ]
  },
  {
   "cell_type": "code",
   "execution_count": null,
   "metadata": {},
   "outputs": [],
   "source": [
    "# get some lammps file"
   ]
  },
  {
   "cell_type": "code",
   "execution_count": 10,
   "metadata": {},
   "outputs": [],
   "source": [
    "data, meta = fp.get_file('646_SDS_on_AU_111_51x30x2_hemicylinders_with_counterion_50Ang_stepped_nptEquilibrated.lammps')"
   ]
  },
  {
   "cell_type": "code",
   "execution_count": 12,
   "metadata": {},
   "outputs": [
    {
     "data": {
      "text/plain": [
       "{'_id': ObjectId('5c6aaeae2512e1b7c25cc7c4'),\n",
       " 'compressed': True,\n",
       " 'gfs_id': '5c6aaea92512e1b7c25cc742',\n",
       " 'identifier': '646_SDS_on_AU_111_51x30x2_hemicylinders_with_counterion_50Ang_stepped_nptEquilibrated.lammps',\n",
       " 'metadata': [{'ci_preassembly': 'at polar heads',\n",
       "   'counterion': 'NA',\n",
       "   'indenter': 'AU',\n",
       "   'indenter_pdb': '50Ang_stepped',\n",
       "   'pressure': 1,\n",
       "   'sb_crystal_plane': 111,\n",
       "   'sb_multiples': [51, 30, 2],\n",
       "   'sb_name': 'AU_111_51x30x2',\n",
       "   'sf_nmolecules': 646,\n",
       "   'sf_preassembly': 'hemicylinders',\n",
       "   'solvent': 'H2O',\n",
       "   'state': 'NPT equilibrated',\n",
       "   'substrate': 'AU',\n",
       "   'surfactant': 'SDS',\n",
       "   'sv_density': 997,\n",
       "   'sv_preassembly': 'random',\n",
       "   'system_name': '646_SDS_on_AU_111_51x30x2_hemicylinders_with_counterion_50Ang_stepped',\n",
       "   'temperature': 298}],\n",
       " 'original_file_name': 'datafile.lammps',\n",
       " 'original_file_path': '/work/ws/nemo/fr_jh1130-fw_ws_20190202-0/launchpad/launcher_2019-02-18-13-09-59-341171/datafile.lammps'}"
      ]
     },
     "execution_count": 12,
     "metadata": {},
     "output_type": "execute_result"
    }
   ],
   "source": [
    "meta"
   ]
  },
  {
   "cell_type": "code",
   "execution_count": 13,
   "metadata": {},
   "outputs": [
    {
     "data": {
      "text/plain": [
       "84993602"
      ]
     },
     "execution_count": 13,
     "metadata": {},
     "output_type": "execute_result"
    }
   ],
   "source": [
    "len(data)"
   ]
  },
  {
   "cell_type": "code",
   "execution_count": 16,
   "metadata": {},
   "outputs": [
    {
     "name": "stdout",
     "output_type": "stream",
     "text": [
      "LAMMPS data file via write_data, version 16 Mar 2018, timestep = 10000\n",
      "\n",
      "377228 atoms\n",
      "11 atom types\n",
      "244852 bonds\n",
      "8 bond types\n",
      "160217 angles\n",
      "13 angle types\n",
      "85272 dihedrals\n",
      "18 dihedral types\n",
      "\n",
      "-2.1312674770773299e-01 1.4728655174770691e+02 xlo xhi\n",
      "1.0753900777508676e+00 1.5135958792224744e+02 ylo yhi\n",
      "8.1139241840736531e-01 1.7553756358159279e+02 zlo zhi\n",
      "\n",
      "Masses\n",
      "\n",
      "1 1.008\n",
      "2 1.008\n",
      "3 12.011\n",
      "4 12.011\n",
      "5 15.9994\n",
      "6 15.9994\n",
      "7 32.06\n",
      "8 1.008\n",
      "9 15.9994\n",
      "10 22.9898\n",
      "11 196.966\n",
      "\n",
      "Pair Coeffs # lj/charmmfsw/coul/long\n",
      "\n",
      "1 0.028 2.38761 0.028 2.38761\n",
      "2 0.024 2.38761 0.024 2.38761\n",
      "3 0.056 3.58141 0.01 3.38542\n",
      "4 0.078 3.63487 0.01 3.38542\n",
      "5 0.1 2.93997 0.1 2.93997\n",
      "6 0.12 3.02906 0.12 3.02906\n",
      "7 0.47 3.74177 0.47 3.74177\n",
      "8 0.046 0.400014 0.046 0.400014\n",
      "9 0.1521 3.15057 0.1521 3.15057\n",
      "10 0.0469 2.51367 0.0469 2.51367\n",
      "11 5.29 2.62904 5.29 2.62904\n",
      "\n",
      "Bond Coeffs # harmonic\n",
      "\n",
      "1 222.5 1.53\n",
      "2 222.5 1.528\n",
      "3 309 1.111\n",
      "4 340 1.43\n",
      "5 322 1.111\n",
      "6 450 0.9572\n",
      "7 540 1.448\n",
      "8 250 1.575\n",
      "\n",
      "Angle Coeffs # charmm\n",
      "\n",
      "1 58.35 113.6 11.16 2.56\n"
     ]
    }
   ],
   "source": [
    "print(data[:1000].decode())"
   ]
  },
  {
   "cell_type": "code",
   "execution_count": 8,
   "metadata": {},
   "outputs": [],
   "source": [
    "data,meta=fp.get_file('646_SDS_on_AU_111_51x30x2_hemicylinde_with_counterion_50Ang_stepped_nptEquilibrated.lammps')"
   ]
  },
  {
   "cell_type": "code",
   "execution_count": 9,
   "metadata": {},
   "outputs": [],
   "source": [
    "meta"
   ]
  },
  {
   "cell_type": "code",
   "execution_count": 13,
   "metadata": {},
   "outputs": [],
   "source": [
    "data,meta=fp.get_file('646_SDS_on_AU_111_51x30x2_hemicylinders_with_counterion_10ns.lammps')"
   ]
  },
  {
   "cell_type": "code",
   "execution_count": 15,
   "metadata": {},
   "outputs": [
    {
     "data": {
      "text/plain": [
       "{'_id': ObjectId('5ba0213884a79f69401d057e'),\n",
       " 'compressed': True,\n",
       " 'gfs_id': '5ba0212e84a79f69401d04f8',\n",
       " 'identifier': '646_SDS_on_AU_111_51x30x2_hemicylinders_with_counterion_10ns.lammps',\n",
       " 'metadata': {'system_name': '646_SDS_on_AU_111_51x30x2_hemicylinders_with_counterion'},\n",
       " 'original_file_name': '646_SDS_on_AU_111_51x30x2_hemicylinders_with_counterion_10ns.lammps',\n",
       " 'original_file_path': '/gpfs/work/hka18/hka184/fireworks/launcher_2018-09-17-21-48-28-500172/646_SDS_on_AU_111_51x30x2_hemicylinders_with_counterion_10ns.lammps'}"
      ]
     },
     "execution_count": 15,
     "metadata": {},
     "output_type": "execute_result"
    }
   ],
   "source": [
    "meta"
   ]
  },
  {
   "cell_type": "code",
   "execution_count": null,
   "metadata": {},
   "outputs": [],
   "source": []
  }
 ],
 "metadata": {
  "kernelspec": {
   "display_name": "Python 3 (jlh-bwCloud)",
   "language": "python",
   "name": "python3-jlh-bwcloud"
  },
  "language_info": {
   "codemirror_mode": {
    "name": "ipython",
    "version": 3
   },
   "file_extension": ".py",
   "mimetype": "text/x-python",
   "name": "python",
   "nbconvert_exporter": "python",
   "pygments_lexer": "ipython3",
   "version": "3.6.7"
  }
 },
 "nbformat": 4,
 "nbformat_minor": 2
}
