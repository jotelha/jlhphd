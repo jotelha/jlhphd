{
 "cells": [
  {
   "cell_type": "code",
   "execution_count": 2,
   "metadata": {},
   "outputs": [],
   "source": [
    "import pandas as pd\n",
    "import numpy as np\n",
    "import matplotlib.pyplot as plt\n",
    "import scipy as scp\n",
    "import scipy.interpolate\n",
    "import scipy.constants as C\n",
    "import ase.data\n",
    "import os\n",
    "%matplotlib inline  "
   ]
  },
  {
   "cell_type": "code",
   "execution_count": 3,
   "metadata": {},
   "outputs": [],
   "source": [
    "ad = pd.DataFrame(data={\"symbol\": ase.data.chemical_symbols,\n",
    "                                \"name\"  : ase.data.atomic_names,\n",
    "                                \"mass\"  : ase.data.atomic_masses } ) # atomic data"
   ]
  },
  {
   "cell_type": "code",
   "execution_count": 4,
   "metadata": {},
   "outputs": [],
   "source": [
    "str_DSm = {'C': 12, 'H': 25, 'S': 1, 'O': 4}\n",
    "M_DSm = 0\n",
    "for sym, n in str_DSm.items():\n",
    "    M_DSm += ad[ ad.symbol == sym ]['mass'].values[0] * n * C.gram"
   ]
  },
  {
   "cell_type": "code",
   "execution_count": 5,
   "metadata": {},
   "outputs": [
    {
     "data": {
      "text/plain": [
       "0.265388"
      ]
     },
     "execution_count": 5,
     "metadata": {},
     "output_type": "execute_result"
    }
   ],
   "source": [
    "M_DSm"
   ]
  },
  {
   "cell_type": "code",
   "execution_count": 6,
   "metadata": {},
   "outputs": [],
   "source": [
    "str_CTAp = {'C': 19, 'H': 42, 'N': 1}\n",
    "M_CTAp = 0\n",
    "for sym, n in str_CTAp.items():\n",
    "    M_CTAp += ad[ ad.symbol == sym ]['mass'].values[0] * n * C.gram"
   ]
  },
  {
   "cell_type": "code",
   "execution_count": 7,
   "metadata": {},
   "outputs": [],
   "source": [
    "# set accordingly:\n",
    "prefix = '/mnt/dat/work/testuser/git/N_surfactant_on_substrate_template'"
   ]
  },
  {
   "cell_type": "code",
   "execution_count": 8,
   "metadata": {},
   "outputs": [],
   "source": [
    "qcm_results_raw = pd.read_csv(\n",
    "    os.path.join(prefix,'bramos/qcm_results.csv'),\n",
    "            delimiter=',',comment='#',header=None,names=[\"c\",\"GammaM\"])\n",
    "# cE      : bulk concenctration / mM \n",
    "# GammaM : surface mass density / ng cm^-2\n",
    "ctab_results_raw = pd.read_csv(\n",
    "    os.path.join(prefix,'bramos/kawasaki2007influence_fig1b.csv'),\n",
    "            delimiter=',',comment='#',header=None,names=[\"c\",\"GammaM\"])\n",
    "# cE      : bulk concenctration / mM \n",
    "# GammaM : surface mass density / ng cm^-2"
   ]
  },
  {
   "cell_type": "code",
   "execution_count": 9,
   "metadata": {},
   "outputs": [],
   "source": [
    "qcm_results = pd.concat([    \n",
    "    qcm_results_raw[[\"c\"]]*C.milli, # mM --> M\n",
    "    qcm_results_raw[[\"GammaM\"]] * (C.nano * C.gram) / C.centi**2 # ng cm^-2 --> kg m^-2\n",
    "    ], axis=1)\n",
    "ctab_results = pd.concat([    \n",
    "   ctab_results_raw[[\"c\"]]*C.milli, # mM --> M\n",
    "   ctab_results_raw[[\"GammaM\"]] * (C.nano * C.gram) / C.centi**2 # ng cm^-2 --> kg m^-2\n",
    "    ], axis=1)"
   ]
  },
  {
   "cell_type": "code",
   "execution_count": 10,
   "metadata": {},
   "outputs": [],
   "source": [
    "# surface concentration, kg m^-2 * (mol/kg) = mol m^-2\n",
    "qcm_results[[\"GammaC\"]] = qcm_results[[\"GammaM\"]] / M_DSm\n",
    "ctab_results[[\"GammaC\"]] = ctab_results[[\"GammaM\"]] / M_CTAp"
   ]
  },
  {
   "cell_type": "code",
   "execution_count": 11,
   "metadata": {},
   "outputs": [],
   "source": [
    "# surface number density, mol m^-2 * (mol^-1) = m^-2\n",
    "qcm_results[[\"GammaN\"]] = qcm_results[[\"GammaC\"]] * C.Avogadro\n",
    "ctab_results[[\"GammaN\"]] =ctab_results[[\"GammaC\"]] * C.Avogadro"
   ]
  },
  {
   "cell_type": "code",
   "execution_count": 12,
   "metadata": {},
   "outputs": [],
   "source": [
    "# area per molecule, m^2\n",
    "qcm_results[[\"A\"]] = 1 / qcm_results[[\"GammaN\"]]\n",
    "ctab_results[[\"A\"]] = 1 /ctab_results[[\"GammaN\"]]"
   ]
  },
  {
   "cell_type": "code",
   "execution_count": 13,
   "metadata": {},
   "outputs": [],
   "source": [
    "pkl_file = os.path.join(prefix,\"dat\",\"sys\",\"SDS_on_AU_111.pkl\")\n",
    "sds_df = pd.read_pickle(pkl_file)\n",
    "pkl_file2 = os.path.join(prefix,\"dat\",\"sys\",\"CTAB_on_AU_111.pkl\")\n",
    "sds_df2 = pd.read_pickle(pkl_file2)"
   ]
  },
  {
   "cell_type": "code",
   "execution_count": 14,
   "metadata": {},
   "outputs": [],
   "source": [
    "## Not used, all sb_multiples give the same sf\n",
    "lst=[]\n",
    "lst2=[]\n",
    "for i in range(sds_df.shape[0]):\n",
    "    if (np.array((sds_df[\"sb_multiples\"].values[i].tolist()))==np.array([51, 30, 2])).all():\n",
    "        lst.append(i)\n",
    "for i in range(sds_df2.shape[0]):\n",
    "    if (np.array((sds_df2[\"sb_multiples\"].values[i].tolist()))==np.array([51, 30, 2])).all():\n",
    "        lst2.append(i)"
   ]
  },
  {
   "cell_type": "code",
   "execution_count": 15,
   "metadata": {},
   "outputs": [],
   "source": [
    "a=((1/sds_df.loc[:][\"sb_area_per_sf_molecule\"])*1e-18).sort_values()\n",
    "a2=((1/sds_df2.loc[:][\"sb_area_per_sf_molecule\"])*1e-18).sort_values()"
   ]
  },
  {
   "cell_type": "code",
   "execution_count": 16,
   "metadata": {},
   "outputs": [],
   "source": [
    "b=sds_df.loc[:][\"sf_concentration\"].sort_values()\n",
    "b2=sds_df2.loc[:][\"sf_concentration\"].sort_values()"
   ]
  },
  {
   "cell_type": "code",
   "execution_count": 17,
   "metadata": {},
   "outputs": [],
   "source": [
    "exp =scipy.interpolate.interp1d(np.array(qcm_results[[\"c\"]] / C.milli).reshape(len(np.array(qcm_results[[\"c\"]] ))), \n",
    "                                 np.array(qcm_results[[\"GammaN\"]] * C.nano**2).reshape(len(qcm_results[[\"GammaN\"]])),\n",
    "                                 axis=0, kind='linear', bounds_error=False,\n",
    "                                 fill_value=\"extrapolate\")\n",
    "exp2 =scipy.interpolate.interp1d(np.array(ctab_results[[\"c\"]] / C.milli).reshape(len(np.array(ctab_results[[\"c\"]] ))), \n",
    "                                 np.array(ctab_results[[\"GammaN\"]] * C.nano**2).reshape(len(ctab_results[[\"GammaN\"]])),\n",
    "                                 axis=0, kind='linear', bounds_error=False,\n",
    "                                 fill_value=\"extrapolate\")\n",
    "exp3 =scipy.interpolate.interp1d( np.array(qcm_results[[\"GammaN\"]] * C.nano**2).reshape(len(qcm_results[[\"GammaN\"]])),\n",
    "                                np.array(qcm_results[[\"c\"]] / C.milli).reshape(len(np.array(qcm_results[[\"c\"]] ))),\n",
    "                                 axis=0, kind='linear', bounds_error=False,\n",
    "                                 fill_value=\"extrapolate\")"
   ]
  },
  {
   "cell_type": "code",
   "execution_count": 18,
   "metadata": {},
   "outputs": [],
   "source": [
    "bm=b.drop_duplicates()/ C.milli\n",
    "interpolated_sf = pd.DataFrame(exp(bm)).drop_duplicates()\n",
    "bm2=b2.drop_duplicates()/ C.milli\n",
    "interpolated_sf_2 = pd.DataFrame(exp2(bm2)).drop_duplicates()"
   ]
  },
  {
   "cell_type": "code",
   "execution_count": 19,
   "metadata": {},
   "outputs": [
    {
     "data": {
      "text/plain": [
       "array([0.04656477, 0.15263953, 0.83211879, 1.34992712, 2.40946526,\n",
       "       3.28084574, 3.56892429])"
      ]
     },
     "execution_count": 19,
     "metadata": {},
     "output_type": "execute_result"
    }
   ],
   "source": [
    "suggested_points=np.array([0.1,0.15,0.55,1,1.5,2.8,12])\n",
    "suggested_sf =exp(suggested_points)\n",
    "suggested_sf"
   ]
  },
  {
   "cell_type": "code",
   "execution_count": 22,
   "metadata": {},
   "outputs": [
    {
     "data": {
      "image/png": "[encoded data removed]",
      "text/plain": [
       "<Figure size 720x504 with 1 Axes>"
      ]
     },
     "metadata": {
      "needs_background": "light"
     },
     "output_type": "display_data"
    }
   ],
   "source": [
    "plt.figure(figsize=(10,7))\n",
    "plt.plot( qcm_results[[\"c\"]] / C.milli ,qcm_results[[\"GammaN\"]] * C.nano**2)\n",
    "plt.plot(ctab_results[[\"c\"]] / C.milli ,ctab_results[[\"GammaN\"]] * C.nano**2)\n",
    "plt.plot( b / C.milli ,a, 'ro')\n",
    "plt.plot(exp3(a),a,'go')\n",
    "#plt.plot(bm[0:len(interpolated_sf)],interpolated_sf,'go')\n",
    "plt.plot( b2 / C.milli ,a2, 'ro')\n",
    "#plt.plot(bm2[0:len(interpolated_sf_2)],interpolated_sf_2,'go')\n",
    "plt.xscale(\"log\")\n",
    "plt.legend([\"SDS\",\"CTAB\",\"Discrete subsets in focus\",'Data points of experiment'])\n",
    "plt.xlabel(r'bulk concentration $ c \\ / \\ \\mathrm{mM}$')\n",
    "plt.ylabel(r'surface number concentration $ n \\ / \\ {\\mathrm{nm}^{-2}}$')\n",
    "plt.ylim((0,4.9))\n",
    "plt.show()"
   ]
  },
  {
   "cell_type": "code",
   "execution_count": 131,
   "metadata": {},
   "outputs": [
    {
     "data": {
      "image/png": "[encoded data removed]",
      "text/plain": [
       "<Figure size 720x504 with 1 Axes>"
      ]
     },
     "metadata": {
      "needs_background": "light"
     },
     "output_type": "display_data"
    }
   ],
   "source": [
    "plt.figure(figsize=(10,7))\n",
    "plt.plot( qcm_results[[\"c\"]] / C.milli ,qcm_results[[\"GammaN\"]] * C.nano**2)\n",
    "plt.plot(ctab_results[[\"c\"]] / C.milli ,ctab_results[[\"GammaN\"]] * C.nano**2)\n",
    "plt.plot( b / C.milli ,a, 'ro')\n",
    "plt.plot(exp3(a),a,'go')\n",
    "#plt.plot(bm[0:len(interpolated_sf)],interpolated_sf,'go')\n",
    "plt.plot(suggested_points,suggested_sf,'bo')\n",
    "plt.plot( b2 / C.milli ,a2, 'ro')\n",
    "#plt.plot(bm2[0:len(interpolated_sf_2)],interpolated_sf_2,'go')\n",
    "plt.xscale(\"log\")\n",
    "plt.legend([\"SDS\",\"CTAB\",\"Discrete subsets in focus\",'Data points of experiment','Suggested data points'])\n",
    "plt.xlabel(r'bulk concentration $ c \\ / \\ \\mathrm{mM}$')\n",
    "plt.ylabel(r'surface number concentration $ n \\ / \\ {\\mathrm{nm}^{-2}}$')\n",
    "plt.ylim((0,4.9))\n",
    "plt.show()"
   ]
  },
  {
   "cell_type": "code",
   "execution_count": 140,
   "metadata": {},
   "outputs": [
    {
     "data": {
      "text/plain": [
       "array([  22.95 ,   34.425,  126.225,  229.5  ,  344.25 ,  642.6  ,\n",
       "       2754.   ])"
      ]
     },
     "execution_count": 140,
     "metadata": {},
     "output_type": "execute_result"
    }
   ],
   "source": [
    "number_of_molecules=suggested_points*229.5 \n",
    "#229.5 nm^2\n",
    "number_of_molecules"
   ]
  },
  {
   "cell_type": "code",
   "execution_count": null,
   "metadata": {},
   "outputs": [],
   "source": []
  },
  {
   "cell_type": "code",
   "execution_count": null,
   "metadata": {},
   "outputs": [],
   "source": []
  }
 ],
 "metadata": {
  "kernelspec": {
   "display_name": "Python 3 (jlh-bwCloud)",
   "language": "python",
   "name": "python3-jlh-bwcloud"
  },
  "language_info": {
   "codemirror_mode": {
    "name": "ipython",
    "version": 3
   },
   "file_extension": ".py",
   "mimetype": "text/x-python",
   "name": "python",
   "nbconvert_exporter": "python",
   "pygments_lexer": "ipython3",
   "version": "3.6.7"
  }
 },
 "nbformat": 4,
 "nbformat_minor": 2
}
