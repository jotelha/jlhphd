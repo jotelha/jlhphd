{
 "cells": [
  {
   "cell_type": "markdown",
   "metadata": {
    "ExecuteTime": {
     "end_time": "2018-10-19T19:30:20.138130Z",
     "start_time": "2018-10-19T19:30:19.978798Z"
    }
   },
   "source": [
    "# Current state"
   ]
  },
  {
   "cell_type": "markdown",
   "metadata": {},
   "source": [
    "    129_SDS_on_AU_111_51x30x2_bilayer_with_counterion\n",
    "    \n",
    "discontinued run on JUWELS (fw_id 7896), pick up at some point"
   ]
  },
  {
   "cell_type": "markdown",
   "metadata": {},
   "source": [
    "# Managing adsorption film workflows"
   ]
  },
  {
   "cell_type": "code",
   "execution_count": 41,
   "metadata": {
    "ExecuteTime": {
     "end_time": "2019-06-15T14:30:25.602604Z",
     "start_time": "2019-06-15T14:30:25.576289Z"
    }
   },
   "outputs": [
    {
     "name": "stdout",
     "output_type": "stream",
     "text": [
      "The autoreload extension is already loaded. To reload it, use:\n",
      "  %reload_ext autoreload\n"
     ]
    }
   ],
   "source": [
    "%load_ext autoreload"
   ]
  },
  {
   "cell_type": "code",
   "execution_count": 27,
   "metadata": {
    "ExecuteTime": {
     "end_time": "2019-06-15T14:28:55.560321Z",
     "start_time": "2019-06-15T14:28:55.537892Z"
    }
   },
   "outputs": [],
   "source": [
    "%autoreload 2"
   ]
  },
  {
   "cell_type": "code",
   "execution_count": 28,
   "metadata": {
    "ExecuteTime": {
     "end_time": "2019-06-15T14:28:55.753715Z",
     "start_time": "2019-06-15T14:28:55.720070Z"
    }
   },
   "outputs": [],
   "source": [
    "%config Application.log_level=\"WARN\""
   ]
  },
  {
   "cell_type": "markdown",
   "metadata": {},
   "source": [
    "## Init"
   ]
  },
  {
   "cell_type": "code",
   "execution_count": 42,
   "metadata": {
    "ExecuteTime": {
     "end_time": "2019-06-15T14:30:51.249591Z",
     "start_time": "2019-06-15T14:30:51.226040Z"
    }
   },
   "outputs": [],
   "source": [
    "from sys import path"
   ]
  },
  {
   "cell_type": "code",
   "execution_count": 43,
   "metadata": {
    "ExecuteTime": {
     "end_time": "2019-06-15T14:30:52.155812Z",
     "start_time": "2019-06-15T14:30:52.134364Z"
    }
   },
   "outputs": [],
   "source": [
    "# NEMO\n",
    "path.append('/home/fr/fr_fr/fr_jh1130/git/fireworks-private/jlh')"
   ]
  },
  {
   "cell_type": "code",
   "execution_count": 44,
   "metadata": {
    "ExecuteTime": {
     "end_time": "2019-06-15T14:30:53.201624Z",
     "start_time": "2019-06-15T14:30:53.177806Z"
    }
   },
   "outputs": [],
   "source": [
    "# JURECA\n",
    "path.append('/homea/hka18/hka184/git/fireworks-private/jlh')"
   ]
  },
  {
   "cell_type": "code",
   "execution_count": 45,
   "metadata": {
    "ExecuteTime": {
     "end_time": "2019-06-15T14:30:53.866870Z",
     "start_time": "2019-06-15T14:30:53.842915Z"
    }
   },
   "outputs": [],
   "source": [
    "import sys"
   ]
  },
  {
   "cell_type": "code",
   "execution_count": 46,
   "metadata": {
    "ExecuteTime": {
     "end_time": "2019-06-15T14:30:54.743996Z",
     "start_time": "2019-06-15T14:30:54.716843Z"
    }
   },
   "outputs": [
    {
     "name": "stdout",
     "output_type": "stream",
     "text": [
      "/usr/bin/python3\n"
     ]
    }
   ],
   "source": [
    "print( sys.executable )"
   ]
  },
  {
   "cell_type": "code",
   "execution_count": 47,
   "metadata": {
    "ExecuteTime": {
     "end_time": "2019-06-15T14:30:55.356884Z",
     "start_time": "2019-06-15T14:30:55.332966Z"
    }
   },
   "outputs": [
    {
     "data": {
      "text/html": [
       "<style>.container { width:85%; margin-left:15%; margin-right:0% !important; }</style>"
      ],
      "text/plain": [
       "<IPython.core.display.HTML object>"
      ]
     },
     "metadata": {},
     "output_type": "display_data"
    }
   ],
   "source": [
    "# tune noteboook width to desired value\n",
    "# the margin-left option is necessary if toc is displayed on left hand side\n",
    "from IPython.core.display import display, HTML\n",
    "display(HTML(\"<style>.container { width:85%; margin-left:15%; margin-right:0% !important; }</style>\"))"
   ]
  },
  {
   "cell_type": "code",
   "execution_count": 48,
   "metadata": {
    "ExecuteTime": {
     "end_time": "2019-06-15T14:30:56.752099Z",
     "start_time": "2019-06-15T14:30:56.728182Z"
    }
   },
   "outputs": [],
   "source": [
    "import logging\n",
    "import os\n",
    "import datetime\n",
    "from pprint import pprint"
   ]
  },
  {
   "cell_type": "code",
   "execution_count": 49,
   "metadata": {
    "ExecuteTime": {
     "end_time": "2019-06-15T14:30:57.484180Z",
     "start_time": "2019-06-15T14:30:57.459902Z"
    }
   },
   "outputs": [],
   "source": [
    "logging.getLogger().handlers #Delete Jupyter notebook root logger handler\n",
    "logger = logging.getLogger()\n",
    "logger.handlers = []\n",
    "\n",
    "#Create logger as usual\n",
    "logger = logging.getLogger(__name__)\n",
    "logger.setLevel(logging.WARN)"
   ]
  },
  {
   "cell_type": "code",
   "execution_count": 50,
   "metadata": {
    "ExecuteTime": {
     "end_time": "2019-06-15T14:30:58.125294Z",
     "start_time": "2019-06-15T14:30:58.102378Z"
    }
   },
   "outputs": [],
   "source": [
    "logging.basicConfig(level=logging.WARN)"
   ]
  },
  {
   "cell_type": "code",
   "execution_count": 51,
   "metadata": {
    "ExecuteTime": {
     "end_time": "2019-06-15T14:30:59.009627Z",
     "start_time": "2019-06-15T14:30:58.987278Z"
    }
   },
   "outputs": [],
   "source": [
    "import pandas as pd"
   ]
  },
  {
   "cell_type": "code",
   "execution_count": 52,
   "metadata": {
    "ExecuteTime": {
     "end_time": "2019-06-15T14:30:59.665149Z",
     "start_time": "2019-06-15T14:30:59.634093Z"
    }
   },
   "outputs": [
    {
     "ename": "ModuleNotFoundError",
     "evalue": "No module named 'fireworks'",
     "output_type": "error",
     "traceback": [
      "\u001b[0;31m---------------------------------------------------------------------------\u001b[0m",
      "\u001b[0;31mModuleNotFoundError\u001b[0m                       Traceback (most recent call last)",
      "\u001b[0;32m<ipython-input-52-0cf23756edb9>\u001b[0m in \u001b[0;36m<module>\u001b[0;34m\u001b[0m\n\u001b[0;32m----> 1\u001b[0;31m \u001b[0;32mfrom\u001b[0m \u001b[0mfireworks\u001b[0m \u001b[0;32mimport\u001b[0m \u001b[0mFirework\u001b[0m\u001b[0;34m,\u001b[0m \u001b[0mWorkflow\u001b[0m\u001b[0;34m\u001b[0m\u001b[0;34m\u001b[0m\u001b[0m\n\u001b[0m\u001b[1;32m      2\u001b[0m \u001b[0;32mfrom\u001b[0m \u001b[0mfireworks\u001b[0m\u001b[0;34m.\u001b[0m\u001b[0muser_objects\u001b[0m\u001b[0;34m.\u001b[0m\u001b[0mfiretasks\u001b[0m\u001b[0;34m.\u001b[0m\u001b[0mjlh_tasks\u001b[0m \u001b[0;32mimport\u001b[0m \u001b[0mDummyParentTask\u001b[0m\u001b[0;34m,\u001b[0m \u001b[0mRecoverPackmolTask\u001b[0m\u001b[0;34m\u001b[0m\u001b[0;34m\u001b[0m\u001b[0m\n",
      "\u001b[0;31mModuleNotFoundError\u001b[0m: No module named 'fireworks'"
     ]
    }
   ],
   "source": [
    "from fireworks import Firework, Workflow\n",
    "from fireworks.user_objects.firetasks.jlh_tasks import DummyParentTask, RecoverPackmolTask"
   ]
  },
  {
   "cell_type": "code",
   "execution_count": 53,
   "metadata": {
    "ExecuteTime": {
     "end_time": "2019-06-15T14:31:01.178340Z",
     "start_time": "2019-06-15T14:31:01.147185Z"
    }
   },
   "outputs": [
    {
     "ename": "ModuleNotFoundError",
     "evalue": "No module named 'fwtools'",
     "output_type": "error",
     "traceback": [
      "\u001b[0;31m---------------------------------------------------------------------------\u001b[0m",
      "\u001b[0;31mModuleNotFoundError\u001b[0m                       Traceback (most recent call last)",
      "\u001b[0;32m<ipython-input-53-2a6b0aa43feb>\u001b[0m in \u001b[0;36m<module>\u001b[0;34m\u001b[0m\n\u001b[0;32m----> 1\u001b[0;31m \u001b[0;32mfrom\u001b[0m \u001b[0mfwtools\u001b[0m\u001b[0;34m.\u001b[0m\u001b[0mJobAdmin\u001b[0m \u001b[0;32mimport\u001b[0m \u001b[0mJobAdmin\u001b[0m\u001b[0;34m\u001b[0m\u001b[0;34m\u001b[0m\u001b[0m\n\u001b[0m\u001b[1;32m      2\u001b[0m \u001b[0;32mfrom\u001b[0m \u001b[0mfwtools\u001b[0m\u001b[0;34m.\u001b[0m\u001b[0mJobAdmin\u001b[0m \u001b[0;32mimport\u001b[0m \u001b[0ml_CTAB\u001b[0m\u001b[0;34m,\u001b[0m \u001b[0mhead_atom_number_CTAB\u001b[0m\u001b[0;34m,\u001b[0m \u001b[0mtail_atom_number_CTAB\u001b[0m\u001b[0;34m\u001b[0m\u001b[0;34m\u001b[0m\u001b[0m\n\u001b[1;32m      3\u001b[0m \u001b[0;32mfrom\u001b[0m \u001b[0mfwtools\u001b[0m\u001b[0;34m.\u001b[0m\u001b[0mJobAdmin\u001b[0m \u001b[0;32mimport\u001b[0m \u001b[0ml_SDS\u001b[0m\u001b[0;34m,\u001b[0m \u001b[0mhead_atom_number_SDS\u001b[0m\u001b[0;34m,\u001b[0m \u001b[0mtail_atom_number_SDS\u001b[0m\u001b[0;34m\u001b[0m\u001b[0;34m\u001b[0m\u001b[0m\n",
      "\u001b[0;31mModuleNotFoundError\u001b[0m: No module named 'fwtools'"
     ]
    }
   ],
   "source": [
    "from fwtools.JobAdmin import JobAdmin\n",
    "from fwtools.JobAdmin import l_CTAB, head_atom_number_CTAB, tail_atom_number_CTAB\n",
    "from fwtools.JobAdmin import l_SDS, head_atom_number_SDS, tail_atom_number_SDS"
   ]
  },
  {
   "cell_type": "code",
   "execution_count": 16,
   "metadata": {
    "ExecuteTime": {
     "end_time": "2019-06-15T14:21:45.137096Z",
     "start_time": "2019-06-15T14:21:45.113725Z"
    }
   },
   "outputs": [],
   "source": [
    "# NEMO\n",
    "# module use /work/ws/nemo/fr_lp1029-IMTEK_SIMULATION-0/modulefiles within wrapper\n",
    "# double braces to protect from python replacement\n",
    "# lmp_cmd = ' '.join((\n",
    "#     'module purge;',\n",
    "#     'module load lammps/16Mar18-gnu-5.2-openmpi-2.1;',\n",
    "#     'mpirun ${{MPIRUN_OPTIONS}} lmp -in {inputFile:s}' ))\n",
    "# integrated into jobadmin (20180917)"
   ]
  },
  {
   "cell_type": "code",
   "execution_count": 17,
   "metadata": {
    "ExecuteTime": {
     "end_time": "2019-06-15T14:21:46.075375Z",
     "start_time": "2019-06-15T14:21:46.053421Z"
    }
   },
   "outputs": [],
   "source": [
    "# JUWELS\n",
    "# module use /work/ws/nemo/fr_lp1029-IMTEK_SIMULATION-0/modulefiles within wrapper\n",
    "# double braces to protect from python replacement\n",
    "# lmp_cmd = ' '.join((\n",
    "#     'module use /gpfs/homea/hka18/hka184/modules/modulefiles;',\n",
    "#     'module load jlh/lammps/16Mar18-intel;',\n",
    "#     'srun lmp -in {inputFile:s}' ))\n",
    "# integrated into jobadmin (20180917)"
   ]
  },
  {
   "cell_type": "code",
   "execution_count": 18,
   "metadata": {
    "ExecuteTime": {
     "end_time": "2019-06-15T14:21:46.670047Z",
     "start_time": "2019-06-15T14:21:46.646154Z"
    }
   },
   "outputs": [],
   "source": [
    "# manually for NEMO\n",
    "prefix = '/work/ws/nemo/fr_jh1130-201708-0/jobs/lmplab/sds/201809'"
   ]
  },
  {
   "cell_type": "code",
   "execution_count": 19,
   "metadata": {
    "ExecuteTime": {
     "end_time": "2019-06-15T14:21:47.316278Z",
     "start_time": "2019-06-15T14:21:47.290897Z"
    }
   },
   "outputs": [],
   "source": [
    "template_prefix = prefix + os.sep + 'N_surfactant_on_substrate_template'"
   ]
  },
  {
   "cell_type": "code",
   "execution_count": 20,
   "metadata": {
    "ExecuteTime": {
     "end_time": "2019-06-15T14:21:47.800726Z",
     "start_time": "2019-06-15T14:21:47.775968Z"
    }
   },
   "outputs": [],
   "source": [
    "output_prefix = prefix + os.sep + 'sys'"
   ]
  },
  {
   "cell_type": "code",
   "execution_count": 21,
   "metadata": {
    "ExecuteTime": {
     "end_time": "2019-06-15T14:21:48.180942Z",
     "start_time": "2019-06-15T14:21:48.151583Z"
    }
   },
   "outputs": [
    {
     "ename": "NameError",
     "evalue": "name 'JobAdmin' is not defined",
     "output_type": "error",
     "traceback": [
      "\u001b[0;31m---------------------------------------------------------------------------\u001b[0m",
      "\u001b[0;31mNameError\u001b[0m                                 Traceback (most recent call last)",
      "\u001b[0;32m<ipython-input-21-053211efb590>\u001b[0m in \u001b[0;36m<module>\u001b[0;34m\u001b[0m\n\u001b[1;32m      1\u001b[0m \u001b[0;31m# minimal JobAdmin instance\u001b[0m\u001b[0;34m\u001b[0m\u001b[0;34m\u001b[0m\u001b[0;34m\u001b[0m\u001b[0m\n\u001b[0;32m----> 2\u001b[0;31m jobadmin = JobAdmin( \n\u001b[0m\u001b[1;32m      3\u001b[0m     \u001b[0mqueue\u001b[0m   \u001b[0;34m=\u001b[0m \u001b[0;34m'NEMO'\u001b[0m\u001b[0;34m,\u001b[0m\u001b[0;34m\u001b[0m\u001b[0;34m\u001b[0m\u001b[0m\n\u001b[1;32m      4\u001b[0m     \u001b[0mtemplate_prefix\u001b[0m \u001b[0;34m=\u001b[0m \u001b[0mtemplate_prefix\u001b[0m\u001b[0;34m,\u001b[0m\u001b[0;34m\u001b[0m\u001b[0;34m\u001b[0m\u001b[0m\n\u001b[1;32m      5\u001b[0m     \u001b[0moutput_prefix\u001b[0m   \u001b[0;34m=\u001b[0m \u001b[0moutput_prefix\u001b[0m\u001b[0;34m\u001b[0m\u001b[0;34m\u001b[0m\u001b[0m\n",
      "\u001b[0;31mNameError\u001b[0m: name 'JobAdmin' is not defined"
     ]
    }
   ],
   "source": [
    "# minimal JobAdmin instance\n",
    "jobadmin = JobAdmin( \n",
    "    queue   = 'NEMO',\n",
    "    template_prefix = template_prefix,\n",
    "    output_prefix   = output_prefix\n",
    ")"
   ]
  },
  {
   "cell_type": "code",
   "execution_count": 22,
   "metadata": {
    "ExecuteTime": {
     "end_time": "2019-06-15T14:21:48.507172Z",
     "start_time": "2019-06-15T14:21:48.480371Z"
    }
   },
   "outputs": [
    {
     "ename": "NameError",
     "evalue": "name 'jobadmin' is not defined",
     "output_type": "error",
     "traceback": [
      "\u001b[0;31m---------------------------------------------------------------------------\u001b[0m",
      "\u001b[0;31mNameError\u001b[0m                                 Traceback (most recent call last)",
      "\u001b[0;32m<ipython-input-22-9789b0faf1ab>\u001b[0m in \u001b[0;36m<module>\u001b[0;34m\u001b[0m\n\u001b[1;32m      1\u001b[0m \u001b[0;31m# pull simulation datafile from db\u001b[0m\u001b[0;34m\u001b[0m\u001b[0;34m\u001b[0m\u001b[0;34m\u001b[0m\u001b[0m\n\u001b[0;32m----> 2\u001b[0;31m \u001b[0mcontent\u001b[0m\u001b[0;34m,\u001b[0m \u001b[0mdoc\u001b[0m \u001b[0;34m=\u001b[0m \u001b[0mjobadmin\u001b[0m\u001b[0;34m.\u001b[0m\u001b[0mfp\u001b[0m\u001b[0;34m.\u001b[0m\u001b[0mget_file\u001b[0m\u001b[0;34m(\u001b[0m\u001b[0midentifier\u001b[0m\u001b[0;34m=\u001b[0m\u001b[0;34m'surfactant_on_AU_111_df_json'\u001b[0m\u001b[0;34m)\u001b[0m\u001b[0;34m\u001b[0m\u001b[0;34m\u001b[0m\u001b[0m\n\u001b[0m",
      "\u001b[0;31mNameError\u001b[0m: name 'jobadmin' is not defined"
     ]
    }
   ],
   "source": [
    "# pull simulation datafile from db\n",
    "content, doc = jobadmin.fp.get_file(identifier='surfactant_on_AU_111_df_json')"
   ]
  },
  {
   "cell_type": "code",
   "execution_count": 23,
   "metadata": {
    "ExecuteTime": {
     "end_time": "2019-06-15T14:21:49.172458Z",
     "start_time": "2019-06-15T14:21:49.144060Z"
    }
   },
   "outputs": [
    {
     "ename": "NameError",
     "evalue": "name 'content' is not defined",
     "output_type": "error",
     "traceback": [
      "\u001b[0;31m---------------------------------------------------------------------------\u001b[0m",
      "\u001b[0;31mNameError\u001b[0m                                 Traceback (most recent call last)",
      "\u001b[0;32m<ipython-input-23-cafa8badfda1>\u001b[0m in \u001b[0;36m<module>\u001b[0;34m\u001b[0m\n\u001b[0;32m----> 1\u001b[0;31m \u001b[0msim_df\u001b[0m \u001b[0;34m=\u001b[0m \u001b[0mpd\u001b[0m\u001b[0;34m.\u001b[0m\u001b[0mread_json\u001b[0m\u001b[0;34m(\u001b[0m\u001b[0mcontent\u001b[0m\u001b[0;34m,\u001b[0m \u001b[0morient\u001b[0m\u001b[0;34m=\u001b[0m\u001b[0;34m'index'\u001b[0m\u001b[0;34m)\u001b[0m\u001b[0;34m\u001b[0m\u001b[0;34m\u001b[0m\u001b[0m\n\u001b[0m",
      "\u001b[0;31mNameError\u001b[0m: name 'content' is not defined"
     ]
    }
   ],
   "source": [
    "sim_df = pd.read_json(content, orient='index')"
   ]
  },
  {
   "cell_type": "code",
   "execution_count": 24,
   "metadata": {
    "ExecuteTime": {
     "end_time": "2019-06-15T14:21:49.790333Z",
     "start_time": "2019-06-15T14:21:49.761607Z"
    }
   },
   "outputs": [
    {
     "ename": "NameError",
     "evalue": "name 'sim_df' is not defined",
     "output_type": "error",
     "traceback": [
      "\u001b[0;31m---------------------------------------------------------------------------\u001b[0m",
      "\u001b[0;31mNameError\u001b[0m                                 Traceback (most recent call last)",
      "\u001b[0;32m<ipython-input-24-2fe4eeeafea4>\u001b[0m in \u001b[0;36m<module>\u001b[0;34m\u001b[0m\n\u001b[0;32m----> 1\u001b[0;31m \u001b[0mlen\u001b[0m\u001b[0;34m(\u001b[0m\u001b[0msim_df\u001b[0m\u001b[0;34m)\u001b[0m\u001b[0;34m\u001b[0m\u001b[0;34m\u001b[0m\u001b[0m\n\u001b[0m",
      "\u001b[0;31mNameError\u001b[0m: name 'sim_df' is not defined"
     ]
    }
   ],
   "source": [
    "len(sim_df)"
   ]
  },
  {
   "cell_type": "code",
   "execution_count": 25,
   "metadata": {
    "ExecuteTime": {
     "end_time": "2019-06-15T14:21:52.539517Z",
     "start_time": "2019-06-15T14:21:52.515885Z"
    }
   },
   "outputs": [],
   "source": [
    "# OR: read simulation data from file\n",
    "# sim_df = pd.read_pickle(sim_data_prefix + os.sep + 'CTAB_on_AU_111.pkl')"
   ]
  },
  {
   "cell_type": "code",
   "execution_count": null,
   "metadata": {
    "ExecuteTime": {
     "end_time": "2018-10-19T16:03:05.258865Z",
     "start_time": "2018-10-19T16:03:04.910867Z"
    }
   },
   "outputs": [],
   "source": [
    "sim_df['sf_preassembly'].unique()"
   ]
  },
  {
   "cell_type": "code",
   "execution_count": 27,
   "metadata": {
    "ExecuteTime": {
     "end_time": "2018-10-28T09:11:39.150206Z",
     "start_time": "2018-10-28T09:11:38.729131Z"
    }
   },
   "outputs": [],
   "source": [
    "jobadmin.use_nemo_queue()\n",
    "jobadmin.use_nemo_templates()"
   ]
  },
  {
   "cell_type": "code",
   "execution_count": 28,
   "metadata": {
    "ExecuteTime": {
     "end_time": "2018-10-28T09:11:40.160745Z",
     "start_time": "2018-10-28T09:11:40.102855Z"
    }
   },
   "outputs": [],
   "source": [
    "jobadmin._sim_df = sim_df"
   ]
  },
  {
   "cell_type": "code",
   "execution_count": null,
   "metadata": {
    "ExecuteTime": {
     "end_time": "2018-09-06T16:04:40.020259Z",
     "start_time": "2018-09-06T16:04:39.845399Z"
    }
   },
   "outputs": [],
   "source": [
    "# jobadmin._sim_df = sim_df.loc[\n",
    "#     (sim_df['sf_preassembly'] == 'cylinders_with_counterion') \\\n",
    "#     | (sim_df['sf_preassembly'] == 'hemicylinders_with_counterion') ]"
   ]
  },
  {
   "cell_type": "code",
   "execution_count": null,
   "metadata": {
    "ExecuteTime": {
     "end_time": "2018-10-19T16:03:12.973604Z",
     "start_time": "2018-10-19T16:03:12.910801Z"
    }
   },
   "outputs": [],
   "source": [
    "os.getlogin()"
   ]
  },
  {
   "cell_type": "code",
   "execution_count": null,
   "metadata": {
    "ExecuteTime": {
     "end_time": "2018-10-19T16:03:15.791198Z",
     "start_time": "2018-10-19T16:03:15.684093Z"
    }
   },
   "outputs": [],
   "source": [
    "template_geninfo = jobadmin._template_geninfo\n",
    "\n",
    "template_geninfo"
   ]
  },
  {
   "cell_type": "code",
   "execution_count": null,
   "metadata": {
    "ExecuteTime": {
     "end_time": "2018-10-19T16:03:19.933507Z",
     "start_time": "2018-10-19T16:03:19.823911Z"
    }
   },
   "outputs": [],
   "source": [
    "# on NEMO\n",
    "jobadmin.geninfo(reset=True)"
   ]
  },
  {
   "cell_type": "markdown",
   "metadata": {},
   "source": [
    "## Reinit"
   ]
  },
  {
   "cell_type": "markdown",
   "metadata": {},
   "source": [
    "### on NEMO\n",
    "rerun everytime methods have been added or their def's altered in order to reinstantiate JobAdmin object"
   ]
  },
  {
   "cell_type": "code",
   "execution_count": 29,
   "metadata": {
    "ExecuteTime": {
     "end_time": "2018-10-28T09:11:48.623369Z",
     "start_time": "2018-10-28T09:11:48.454817Z"
    }
   },
   "outputs": [
    {
     "data": {
      "text/plain": [
       "'Generated on Sun Oct 28 10:11:48 2018 by fr_jh1130@login1.nemo.privat'"
      ]
     },
     "execution_count": 29,
     "metadata": {},
     "output_type": "execute_result"
    }
   ],
   "source": [
    "#  NEMO\n",
    "from fwtools.JobAdmin import JobAdmin\n",
    "from fwtools.JobAdmin import l_CTAB, head_atom_number_CTAB, tail_atom_number_CTAB\n",
    "from fwtools.JobAdmin import l_SDS, head_atom_number_SDS, tail_atom_number_SDS\n",
    "\n",
    "# prefix = '/work/ws/nemo/fr_jh1130-201708-0/jobs/lmplab/sds/201810'\n",
    "template_prefix = prefix + os.sep + 'N_surfactant_on_substrate_template'\n",
    "output_prefix = prefix + os.sep + 'sys'\n",
    "\n",
    "jobadmin = JobAdmin( \n",
    "    queue   = 'NEMO',\n",
    "    template_prefix = template_prefix,\n",
    "    output_prefix   = output_prefix,\n",
    "    sim_df = sim_df\n",
    ")\n",
    "jobadmin.std_worker = 'nemo_noqueue'\n",
    "jobadmin.use_nemo_templates()\n",
    "jobadmin.use_nemo_queue()\n",
    "jobadmin._template_lmp_cmd = ' '.join((\n",
    "    'module purge;',\n",
    "    'module use ${{HOME}}/modulefiles;',\n",
    "    'module load lammps/16Mar18-gnu-7.3-openmpi-3.1-colvars-20Sep18;',\n",
    "    'mpirun ${{MPIRUN_OPTIONS}} lmp -in {inputFile:s}'))\n",
    "jobadmin.geninfo(reset=True)"
   ]
  },
  {
   "cell_type": "markdown",
   "metadata": {},
   "source": [
    "## Pick subselection of systems"
   ]
  },
  {
   "cell_type": "code",
   "execution_count": null,
   "metadata": {},
   "outputs": [],
   "source": [
    "# several samples for system selections\n",
    "# system_name_scope should be the overall scope of systems to look at, i.e. all CTAB systems\n",
    "# system_names is meant as a subset of system_nbame_scope to be worked on "
   ]
  },
  {
   "cell_type": "code",
   "execution_count": null,
   "metadata": {
    "ExecuteTime": {
     "end_time": "2018-09-06T17:44:18.676687Z",
     "start_time": "2018-09-06T17:44:18.317006Z"
    }
   },
   "outputs": [],
   "source": [
    "preassemblies = {\n",
    "    'cylinders_with_counterion',\n",
    "    'hemicylinders_with_counterion',\n",
    "    'bilayer_with_counterion',\n",
    "    'monolayer_with_counterion',\n",
    "    'inverse_monolayer_with_counterion'}"
   ]
  },
  {
   "cell_type": "code",
   "execution_count": null,
   "metadata": {
    "ExecuteTime": {
     "end_time": "2018-09-06T17:44:21.019024Z",
     "start_time": "2018-09-06T17:44:20.883885Z"
    }
   },
   "outputs": [],
   "source": [
    "type(preassemblies)"
   ]
  },
  {
   "cell_type": "code",
   "execution_count": null,
   "metadata": {
    "ExecuteTime": {
     "end_time": "2018-09-06T17:44:34.834419Z",
     "start_time": "2018-09-06T17:44:34.709257Z"
    }
   },
   "outputs": [],
   "source": [
    "system_name_scope = list( sim_df[ \n",
    "    sim_df['sf_preassembly'].isin(preassemblies) ].index\n",
    "                   )"
   ]
  },
  {
   "cell_type": "code",
   "execution_count": null,
   "metadata": {
    "ExecuteTime": {
     "end_time": "2018-09-17T21:07:24.485945Z",
     "start_time": "2018-09-17T21:07:24.432038Z"
    }
   },
   "outputs": [],
   "source": [
    "# original SDS systems without indenter\n",
    "system_name_scope = list( sim_df[ \n",
    "        sim_df['indenter'].isna() & \\\n",
    "        (sim_df['surfactant'] == 'SDS')\n",
    "    ].index )"
   ]
  },
  {
   "cell_type": "code",
   "execution_count": null,
   "metadata": {
    "ExecuteTime": {
     "end_time": "2018-09-06T17:44:34.834419Z",
     "start_time": "2018-09-06T17:44:34.709257Z"
    }
   },
   "outputs": [],
   "source": [
    "system_name_scope = list( sim_df[ \n",
    "    sim_df['sf_preassembly'].isin(preassemblies) ].index\n",
    "                   )"
   ]
  },
  {
   "cell_type": "code",
   "execution_count": null,
   "metadata": {
    "ExecuteTime": {
     "end_time": "2018-10-10T13:33:56.115107Z",
     "start_time": "2018-10-10T13:33:55.937402Z"
    }
   },
   "outputs": [],
   "source": [
    "# original systems without indenter\n",
    "system_name_scope = list( sim_df[ \n",
    "        sim_df['indenter'].isna()\n",
    "    ].index )"
   ]
  },
  {
   "cell_type": "code",
   "execution_count": null,
   "metadata": {
    "ExecuteTime": {
     "end_time": "2018-10-09T15:31:56.169226Z",
     "start_time": "2018-10-09T15:31:56.109916Z"
    }
   },
   "outputs": [],
   "source": [
    "# original CTAB systems without indenter\n",
    "system_name_scope = list( sim_df[ \n",
    "        sim_df['indenter'].isna() & \\\n",
    "        (sim_df['surfactant'] == 'CTAB' )\n",
    "    ].index )"
   ]
  },
  {
   "cell_type": "code",
   "execution_count": 30,
   "metadata": {
    "ExecuteTime": {
     "end_time": "2018-10-28T09:11:55.306434Z",
     "start_time": "2018-10-28T09:11:54.931979Z"
    }
   },
   "outputs": [],
   "source": [
    "# SDS with indenter\n",
    "system_name_scope = list( sim_df[ \n",
    "    (sim_df['indenter'] == '50Ang_stepped') &\n",
    "    (sim_df['surfactant'] == 'SDS' ) ].index )"
   ]
  },
  {
   "cell_type": "code",
   "execution_count": null,
   "metadata": {
    "ExecuteTime": {
     "end_time": "2018-09-24T17:24:42.842035Z",
     "start_time": "2018-09-24T17:24:42.683673Z"
    }
   },
   "outputs": [],
   "source": [
    "# CTAB with indenter\n",
    "system_name_scope = list( sim_df[ \n",
    "    (sim_df['indenter'] == '50Ang_stepped') &\n",
    "    (sim_df['surfactant'] == 'CTAB' ) ].index )"
   ]
  },
  {
   "cell_type": "code",
   "execution_count": null,
   "metadata": {
    "ExecuteTime": {
     "end_time": "2018-10-19T16:16:19.063084Z",
     "start_time": "2018-10-19T16:16:18.999351Z"
    }
   },
   "outputs": [],
   "source": [
    "# original SDS systems without indenter, counterions at polar heads\n",
    "system_name_scope = list( sim_df[ \n",
    "        sim_df['indenter'].isna() & \\\n",
    "        (sim_df['surfactant'] == 'SDS') & \\\n",
    "        (sim_df['ci_initial_placement'] == 'at_polar_head') & \\\n",
    "        (sim_df[\"sb_name\"] == 'AU_111_51x30x2') & \\\n",
    "        (sim_df['sf_preassembly'] != 'inverse_monolayer_with_counterion') & \\\n",
    "        (sim_df['sf_preassembly'] != 'inverse_bilayer_with_counterion')\n",
    "    ].index )"
   ]
  },
  {
   "cell_type": "code",
   "execution_count": null,
   "metadata": {
    "ExecuteTime": {
     "end_time": "2018-10-19T16:15:35.677621Z",
     "start_time": "2018-10-19T16:15:35.500833Z"
    }
   },
   "outputs": [],
   "source": [
    "# original CTAB systems without indenter, counterions at polar heads\n",
    "system_name_scope = list( sim_df[ \n",
    "        sim_df['indenter'].isna() & \\\n",
    "        (sim_df['surfactant'] == 'CTAB') & \\\n",
    "        (sim_df['ci_initial_placement'] == 'at_polar_head') & \\\n",
    "        (sim_df[\"sb_name\"] == 'AU_111_63x36x2') & \\\n",
    "        (sim_df['sf_preassembly'] != 'inverse_monolayer_with_counterion') & \\\n",
    "        (sim_df['sf_preassembly'] != 'inverse_bilayer_with_counterion')\n",
    "    ].index )"
   ]
  },
  {
   "cell_type": "markdown",
   "metadata": {},
   "source": [
    "# Initial systems (no indenter)"
   ]
  },
  {
   "cell_type": "markdown",
   "metadata": {},
   "source": [
    "## Prepare substrates\n",
    "\n",
    "if necessary"
   ]
  },
  {
   "cell_type": "code",
   "execution_count": null,
   "metadata": {},
   "outputs": [],
   "source": [
    "# TODO: change to \"wrapper\" & batch_prepare_fw stlye, see other fireqworks below"
   ]
  },
  {
   "cell_type": "code",
   "execution_count": null,
   "metadata": {
    "ExecuteTime": {
     "end_time": "2018-09-04T18:24:03.232525Z",
     "start_time": "2018-09-04T18:24:03.125101Z"
    }
   },
   "outputs": [],
   "source": [
    "prep_subs_wf_dict = jobadmin.prepare_substrates(system_names)"
   ]
  },
  {
   "cell_type": "code",
   "execution_count": null,
   "metadata": {
    "ExecuteTime": {
     "end_time": "2018-09-04T18:24:52.147840Z",
     "start_time": "2018-09-04T18:24:51.815063Z"
    }
   },
   "outputs": [],
   "source": [
    "prep_subs_fw_id_dict = jobadmin.add_fw(prep_subs_wf_dict)"
   ]
  },
  {
   "cell_type": "markdown",
   "metadata": {},
   "source": [
    "## Prepare aggregates"
   ]
  },
  {
   "cell_type": "code",
   "execution_count": null,
   "metadata": {},
   "outputs": [],
   "source": [
    "# TODO: switch monolayers and bilayers to wrapper & batch_prepare_fw "
   ]
  },
  {
   "cell_type": "markdown",
   "metadata": {
    "ExecuteTime": {
     "end_time": "2018-09-06T17:46:56.540129Z",
     "start_time": "2018-09-06T17:46:56.161746Z"
    }
   },
   "source": [
    "### (hemi-) cylinders"
   ]
  },
  {
   "cell_type": "code",
   "execution_count": null,
   "metadata": {
    "ExecuteTime": {
     "end_time": "2018-10-19T16:26:08.551347Z",
     "start_time": "2018-10-19T16:26:08.412878Z"
    }
   },
   "outputs": [],
   "source": [
    "redo_hemicylinders = [\n",
    "    '1107_SDS_on_AU_111_51x30x2_hemicylinders_with_counterion',\n",
    "    '129_SDS_on_AU_111_51x30x2_hemicylinders_with_counterion',\n",
    "    '220_SDS_on_AU_111_51x30x2_hemicylinders_with_counterion',\n",
    "    '2214_SDS_on_AU_111_51x30x2_hemicylinders_with_counterion',\n",
    "    '377_SDS_on_AU_111_51x30x2_hemicylinders_with_counterion',\n",
    "    '75_SDS_on_AU_111_51x30x2_hemicylinders_with_counterion']"
   ]
  },
  {
   "cell_type": "code",
   "execution_count": null,
   "metadata": {
    "ExecuteTime": {
     "end_time": "2018-10-19T16:26:35.473721Z",
     "start_time": "2018-10-19T16:26:35.417143Z"
    }
   },
   "outputs": [],
   "source": [
    "redo_cylinders = [\n",
    "    '129_SDS_on_AU_111_51x30x2_cylinders_with_counterion',\n",
    "    '220_SDS_on_AU_111_51x30x2_cylinders_with_counterion',\n",
    "    '2214_SDS_on_AU_111_51x30x2_cylinders_with_counterion',\n",
    "    '75_SDS_on_AU_111_51x30x2_cylinders_with_counterion' ]"
   ]
  },
  {
   "cell_type": "code",
   "execution_count": null,
   "metadata": {
    "ExecuteTime": {
     "end_time": "2018-10-19T18:47:50.294683Z",
     "start_time": "2018-10-19T18:47:50.142374Z"
    }
   },
   "outputs": [],
   "source": [
    "redo_cylinders = [ \"1107_SDS_on_AU_111_51x30x2_cylinders_with_counterion\" ]"
   ]
  },
  {
   "cell_type": "code",
   "execution_count": null,
   "metadata": {
    "ExecuteTime": {
     "end_time": "2018-10-19T18:47:52.278131Z",
     "start_time": "2018-10-19T18:47:52.217936Z"
    }
   },
   "outputs": [],
   "source": [
    "jobadmin.packmol_queueadapter"
   ]
  },
  {
   "cell_type": "code",
   "execution_count": null,
   "metadata": {
    "ExecuteTime": {
     "end_time": "2018-10-19T18:48:02.325488Z",
     "start_time": "2018-10-19T18:48:02.265302Z"
    }
   },
   "outputs": [],
   "source": [
    "jobadmin.packmol_queueadapter[\"walltime\"] = '96:00:00'"
   ]
  },
  {
   "cell_type": "code",
   "execution_count": null,
   "metadata": {
    "ExecuteTime": {
     "end_time": "2018-10-19T18:48:05.854422Z",
     "start_time": "2018-10-19T18:48:05.792988Z"
    }
   },
   "outputs": [],
   "source": [
    "pack_cylinders_wrapper = lambda sfN, sb_measures, surfactant, counterion: \\\n",
    "    jobadmin.pack_cylinders(sfN, sb_measures, surfactant, counterion,\n",
    "        hemicylinders=False, l_surfactant=l_SDS, \n",
    "        head_atom_number=head_atom_number_SDS,\n",
    "        tail_atom_number=tail_atom_number_SDS)"
   ]
  },
  {
   "cell_type": "code",
   "execution_count": null,
   "metadata": {
    "ExecuteTime": {
     "end_time": "2018-10-19T18:48:08.350713Z",
     "start_time": "2018-10-19T18:48:08.289971Z"
    }
   },
   "outputs": [],
   "source": [
    "prepare_packmol_wrapper = lambda system_name: jobadmin.prepare_packmol(\n",
    "    system_name, pack_cylinders_wrapper, nloop=200, maxit=500)"
   ]
  },
  {
   "cell_type": "code",
   "execution_count": null,
   "metadata": {
    "ExecuteTime": {
     "end_time": "2018-10-19T18:48:09.237897Z",
     "start_time": "2018-10-19T18:48:09.197300Z"
    }
   },
   "outputs": [],
   "source": [
    "system_names = redo_cylinders"
   ]
  },
  {
   "cell_type": "code",
   "execution_count": null,
   "metadata": {
    "ExecuteTime": {
     "end_time": "2018-10-19T18:48:16.879636Z",
     "start_time": "2018-10-19T18:48:16.813341Z"
    }
   },
   "outputs": [],
   "source": [
    "fw_dict = jobadmin.batch_prepare_fw( system_names, prepare_packmol_wrapper )"
   ]
  },
  {
   "cell_type": "code",
   "execution_count": null,
   "metadata": {
    "ExecuteTime": {
     "end_time": "2018-10-19T18:48:16.973427Z",
     "start_time": "2018-10-19T18:48:16.907812Z"
    }
   },
   "outputs": [],
   "source": [
    "jobadmin.add_wf(fw_dict)"
   ]
  },
  {
   "cell_type": "markdown",
   "metadata": {},
   "source": [
    "### (inverse) monolayer"
   ]
  },
  {
   "cell_type": "code",
   "execution_count": null,
   "metadata": {
    "ExecuteTime": {
     "end_time": "2018-10-19T16:27:08.008729Z",
     "start_time": "2018-10-19T16:27:07.952261Z"
    }
   },
   "outputs": [],
   "source": [
    "redo_monolayer = ['2214_SDS_on_AU_111_51x30x2_monolayer_with_counterion']"
   ]
  },
  {
   "cell_type": "code",
   "execution_count": 337,
   "metadata": {
    "ExecuteTime": {
     "end_time": "2018-10-19T19:19:31.097150Z",
     "start_time": "2018-10-19T19:19:30.951088Z"
    }
   },
   "outputs": [],
   "source": [
    "redo_monolayer = [\"1107_SDS_on_AU_111_51x30x2_monolayer_with_counterion\"]"
   ]
  },
  {
   "cell_type": "code",
   "execution_count": 338,
   "metadata": {
    "ExecuteTime": {
     "end_time": "2018-10-19T19:19:37.763039Z",
     "start_time": "2018-10-19T19:19:37.707439Z"
    }
   },
   "outputs": [],
   "source": [
    "pack_monolayer_wrapper = lambda sfN, sb_measures, surfactant, counterion: \\\n",
    "    jobadmin.pack_monolayer(sfN, sb_measures, surfactant, counterion,\n",
    "        l_surfactant=l_SDS, \n",
    "        head_atom_number=head_atom_number_SDS,\n",
    "        tail_atom_number=tail_atom_number_SDS)"
   ]
  },
  {
   "cell_type": "code",
   "execution_count": 339,
   "metadata": {
    "ExecuteTime": {
     "end_time": "2018-10-19T19:19:39.866717Z",
     "start_time": "2018-10-19T19:19:39.806081Z"
    }
   },
   "outputs": [],
   "source": [
    "prepare_packmol_wrapper = lambda system_name: jobadmin.prepare_packmol(\n",
    "    system_name, pack_monolayer_wrapper, nloop=200, maxit=500)"
   ]
  },
  {
   "cell_type": "code",
   "execution_count": 340,
   "metadata": {
    "ExecuteTime": {
     "end_time": "2018-10-19T19:19:41.109449Z",
     "start_time": "2018-10-19T19:19:41.052618Z"
    }
   },
   "outputs": [],
   "source": [
    "system_names = redo_monolayer"
   ]
  },
  {
   "cell_type": "code",
   "execution_count": 341,
   "metadata": {
    "ExecuteTime": {
     "end_time": "2018-10-19T19:19:42.944764Z",
     "start_time": "2018-10-19T19:19:42.891371Z"
    }
   },
   "outputs": [],
   "source": [
    "fw_dict = jobadmin.batch_prepare_fw( system_names, prepare_packmol_wrapper )"
   ]
  },
  {
   "cell_type": "code",
   "execution_count": 342,
   "metadata": {
    "ExecuteTime": {
     "end_time": "2018-10-19T19:19:43.264061Z",
     "start_time": "2018-10-19T19:19:43.216481Z"
    }
   },
   "outputs": [
    {
     "name": "stdout",
     "output_type": "stream",
     "text": [
      "2018-10-19 21:19:43,258 INFO Added a workflow. id_map: {-195: 10695, -194: 10696}\n"
     ]
    },
    {
     "name": "stderr",
     "output_type": "stream",
     "text": [
      "INFO:launchpad:Added a workflow. id_map: {-195: 10695, -194: 10696}\n"
     ]
    },
    {
     "data": {
      "text/plain": [
       "{'1107_SDS_on_AU_111_51x30x2_monolayer_with_counterion': {-195: 10695,\n",
       "  -194: 10696}}"
      ]
     },
     "execution_count": 342,
     "metadata": {},
     "output_type": "execute_result"
    }
   ],
   "source": [
    "jobadmin.add_wf(fw_dict)"
   ]
  },
  {
   "cell_type": "markdown",
   "metadata": {},
   "source": [
    "### bilayer"
   ]
  },
  {
   "cell_type": "code",
   "execution_count": null,
   "metadata": {
    "ExecuteTime": {
     "end_time": "2018-10-19T16:27:39.723546Z",
     "start_time": "2018-10-19T16:27:39.585486Z"
    }
   },
   "outputs": [],
   "source": [
    "redo_bilayer = ['2214_SDS_on_AU_111_51x30x2_bilayer_with_counterion' ]"
   ]
  },
  {
   "cell_type": "code",
   "execution_count": null,
   "metadata": {
    "ExecuteTime": {
     "end_time": "2018-10-19T16:35:07.416012Z",
     "start_time": "2018-10-19T16:35:07.275441Z"
    }
   },
   "outputs": [],
   "source": [
    "pack_bilayer_wrapper = lambda sfN, sb_measures, surfactant, counterion: \\\n",
    "    jobadmin.pack_bilayer(sfN, sb_measures, surfactant, counterion,\n",
    "        l_surfactant=l_SDS, \n",
    "        head_atom_number=head_atom_number_SDS,\n",
    "        tail_atom_number=tail_atom_number_SDS)"
   ]
  },
  {
   "cell_type": "code",
   "execution_count": null,
   "metadata": {
    "ExecuteTime": {
     "end_time": "2018-10-19T16:35:19.488916Z",
     "start_time": "2018-10-19T16:35:19.436850Z"
    }
   },
   "outputs": [],
   "source": [
    "prepare_packmol_wrapper = lambda system_name: jobadmin.prepare_packmol(\n",
    "    system_name, pack_bilayer_wrapper, nloop=200, maxit=500)"
   ]
  },
  {
   "cell_type": "code",
   "execution_count": null,
   "metadata": {
    "ExecuteTime": {
     "end_time": "2018-10-19T16:35:26.830781Z",
     "start_time": "2018-10-19T16:35:26.770730Z"
    }
   },
   "outputs": [],
   "source": [
    "system_names = redo_bilayer"
   ]
  },
  {
   "cell_type": "code",
   "execution_count": null,
   "metadata": {
    "ExecuteTime": {
     "end_time": "2018-10-19T16:35:28.435296Z",
     "start_time": "2018-10-19T16:35:28.374560Z"
    }
   },
   "outputs": [],
   "source": [
    "fw_dict = jobadmin.batch_prepare_fw( system_names, prepare_packmol_wrapper )"
   ]
  },
  {
   "cell_type": "code",
   "execution_count": null,
   "metadata": {
    "ExecuteTime": {
     "end_time": "2018-10-19T16:35:28.525287Z",
     "start_time": "2018-10-19T16:35:28.470322Z"
    }
   },
   "outputs": [],
   "source": [
    "jobadmin.add_wf(fw_dict)"
   ]
  },
  {
   "cell_type": "code",
   "execution_count": null,
   "metadata": {
    "ExecuteTime": {
     "end_time": "2018-09-05T22:31:40.723691Z",
     "start_time": "2018-09-05T22:31:38.340688Z"
    }
   },
   "outputs": [],
   "source": [
    "logging.info(\"Querying appended packing workflows.\")\n",
    "packmol_fw_id_dict = jobadmin.query_systems(\n",
    "    system_names, \n",
    "    step='packmol',\n",
    "    state=[\"FIZZLED\",\"COMPLETED\", \"RUNNING\", \"READY\", \"WAITING\", \"RESERVED\"])\n",
    "\n",
    "# fizzled might be ok if walltime expired, \n",
    "# packmol gets good results half-way\n",
    "\n",
    "logging.info(\"Preparing LAMMPS conversion\")\n",
    "pdb2lmp_wf_dict = jobadmin.prepare_pdb2lmp(system_names)\n",
    "logging.info(\"Appening LAMMPS conversion\")\n",
    "jobadmin.append_wf_by_key(pdb2lmp_wf_dict, packmol_fw_id_dict)\n",
    "\n",
    "logging.info(\"Querying appended LAMMPS conversion workflows\")\n",
    "ch2lmp_fw_id_dict = jobadmin.query_step(step='ch2lmp')"
   ]
  },
  {
   "cell_type": "markdown",
   "metadata": {},
   "source": [
    "### finish solvation & format conversions"
   ]
  },
  {
   "cell_type": "code",
   "execution_count": null,
   "metadata": {
    "ExecuteTime": {
     "end_time": "2018-10-19T16:37:00.987201Z",
     "start_time": "2018-10-19T16:37:00.931793Z"
    }
   },
   "outputs": [],
   "source": [
    "system_names = redo"
   ]
  },
  {
   "cell_type": "code",
   "execution_count": 368,
   "metadata": {
    "ExecuteTime": {
     "end_time": "2018-10-19T19:24:35.346642Z",
     "start_time": "2018-10-19T19:24:35.205524Z"
    }
   },
   "outputs": [],
   "source": [
    "being_redone = {\n",
    "    '1107_SDS_on_AU_111_51x30x2_cylinders_with_counterion',\n",
    "    '1107_SDS_on_AU_111_51x30x2_hemicylinders_with_counterion',\n",
    "    '1107_SDS_on_AU_111_51x30x2_monolayer_with_counterion',\n",
    "    '129_SDS_on_AU_111_51x30x2_cylinders_with_counterion',\n",
    "    '129_SDS_on_AU_111_51x30x2_hemicylinders_with_counterion',\n",
    "    '220_SDS_on_AU_111_51x30x2_cylinders_with_counterion',\n",
    "    '220_SDS_on_AU_111_51x30x2_hemicylinders_with_counterion',\n",
    "    '2214_SDS_on_AU_111_51x30x2_bilayer_with_counterion',\n",
    "    '2214_SDS_on_AU_111_51x30x2_cylinders_with_counterion',\n",
    "    '2214_SDS_on_AU_111_51x30x2_hemicylinders_with_counterion',\n",
    "    '2214_SDS_on_AU_111_51x30x2_monolayer_with_counterion',\n",
    "    '377_SDS_on_AU_111_51x30x2_hemicylinders_with_counterion',\n",
    "    '75_SDS_on_AU_111_51x30x2_cylinders_with_counterion',\n",
    "    '75_SDS_on_AU_111_51x30x2_hemicylinders_with_counterion'}"
   ]
  },
  {
   "cell_type": "code",
   "execution_count": 369,
   "metadata": {
    "ExecuteTime": {
     "end_time": "2018-10-19T19:24:52.815343Z",
     "start_time": "2018-10-19T19:24:52.758284Z"
    }
   },
   "outputs": [],
   "source": [
    "system_names = being_redone"
   ]
  },
  {
   "cell_type": "code",
   "execution_count": 343,
   "metadata": {
    "ExecuteTime": {
     "end_time": "2018-10-19T19:20:21.865163Z",
     "start_time": "2018-10-19T19:20:21.804087Z"
    }
   },
   "outputs": [],
   "source": [
    "system_names = redo_monolayer"
   ]
  },
  {
   "cell_type": "code",
   "execution_count": 345,
   "metadata": {
    "ExecuteTime": {
     "end_time": "2018-10-19T19:20:31.699023Z",
     "start_time": "2018-10-19T19:20:31.527467Z"
    }
   },
   "outputs": [],
   "source": [
    "packmol_fw_id_dict = jobadmin.query_systems(\n",
    "    system_names, \n",
    "    step='packmol',\n",
    "    state=[\"FIZZLED\",\"COMPLETED\", \"RUNNING\", \"READY\", \"WAITING\", \"RESERVED\"])\n"
   ]
  },
  {
   "cell_type": "code",
   "execution_count": 347,
   "metadata": {
    "ExecuteTime": {
     "end_time": "2018-10-19T19:20:49.427491Z",
     "start_time": "2018-10-19T19:20:49.367041Z"
    }
   },
   "outputs": [],
   "source": [
    "pdb2lmp_wf_dict = jobadmin.batch_prepare_fw(system_names, jobadmin.prepare_pdb2lmp)"
   ]
  },
  {
   "cell_type": "code",
   "execution_count": 348,
   "metadata": {
    "ExecuteTime": {
     "end_time": "2018-10-19T19:20:50.051451Z",
     "start_time": "2018-10-19T19:20:49.961630Z"
    }
   },
   "outputs": [
    {
     "name": "stdout",
     "output_type": "stream",
     "text": [
      "Append 1107_SDS_on_AU_111_51x30x2_monolayer_with_counterion to last fw_id in list [6706, 10695]\n"
     ]
    }
   ],
   "source": [
    "logging.info(\"Appening LAMMPS conversion\")\n",
    "jobadmin.append_wf_by_key(pdb2lmp_wf_dict, packmol_fw_id_dict)"
   ]
  },
  {
   "cell_type": "code",
   "execution_count": 349,
   "metadata": {
    "ExecuteTime": {
     "end_time": "2018-10-19T19:20:51.276109Z",
     "start_time": "2018-10-19T19:20:50.598157Z"
    }
   },
   "outputs": [],
   "source": [
    "logging.info(\"Querying appended LAMMPS conversion workflows\")\n",
    "ch2lmp_fw_id_dict = jobadmin.query_step(step='ch2lmp')"
   ]
  },
  {
   "cell_type": "markdown",
   "metadata": {},
   "source": [
    "## Query"
   ]
  },
  {
   "cell_type": "code",
   "execution_count": null,
   "metadata": {
    "ExecuteTime": {
     "end_time": "2018-10-19T18:51:01.933578Z",
     "start_time": "2018-10-19T18:51:01.060275Z"
    }
   },
   "outputs": [],
   "source": [
    "healthy_prepared_systems = jobadmin.get_set_of_prepared_minimizations()"
   ]
  },
  {
   "cell_type": "code",
   "execution_count": null,
   "metadata": {
    "ExecuteTime": {
     "end_time": "2018-10-19T18:51:02.609490Z",
     "start_time": "2018-10-19T18:51:02.538682Z"
    }
   },
   "outputs": [],
   "source": [
    "set(system_name_scope) - healthy_prepared_systems"
   ]
  },
  {
   "cell_type": "code",
   "execution_count": null,
   "metadata": {},
   "outputs": [],
   "source": [
    "# check where subsequent steps are missing"
   ]
  },
  {
   "cell_type": "code",
   "execution_count": null,
   "metadata": {
    "ExecuteTime": {
     "end_time": "2018-10-19T18:52:01.192910Z",
     "start_time": "2018-10-19T18:51:43.121858Z"
    }
   },
   "outputs": [],
   "source": [
    "to_initialize_formats = jobadmin.identifyIncompleteWorkflowsInScope(\n",
    "    system_name_scope=system_name_scope, precedent_step_name='packmol', subsequent_step_name='ch2lmp')"
   ]
  },
  {
   "cell_type": "code",
   "execution_count": null,
   "metadata": {
    "ExecuteTime": {
     "end_time": "2018-10-19T18:52:05.562414Z",
     "start_time": "2018-10-19T18:52:05.504097Z"
    }
   },
   "outputs": [],
   "source": [
    "to_initialize_formats"
   ]
  },
  {
   "cell_type": "code",
   "execution_count": 385,
   "metadata": {
    "ExecuteTime": {
     "end_time": "2018-10-19T19:33:09.333007Z",
     "start_time": "2018-10-19T19:32:29.157494Z"
    }
   },
   "outputs": [],
   "source": [
    "# Use ch2lmp as reference\n",
    "to_minimize = jobadmin.identifyIncompleteWorkflowsInScope(precedent_step_name='ch2lmp',\n",
    "    subsequent_step_name='minimization', system_name_scope=system_name_scope)"
   ]
  },
  {
   "cell_type": "code",
   "execution_count": 386,
   "metadata": {
    "ExecuteTime": {
     "end_time": "2018-10-19T19:33:12.001830Z",
     "start_time": "2018-10-19T19:33:11.941424Z"
    }
   },
   "outputs": [
    {
     "data": {
      "text/plain": [
       "{}"
      ]
     },
     "execution_count": 386,
     "metadata": {},
     "output_type": "execute_result"
    }
   ],
   "source": [
    "to_minimize"
   ]
  },
  {
   "cell_type": "code",
   "execution_count": null,
   "metadata": {
    "ExecuteTime": {
     "end_time": "2018-10-19T16:19:10.257396Z",
     "start_time": "2018-10-19T16:18:27.262720Z"
    }
   },
   "outputs": [],
   "source": [
    "to_minimize = jobadmin.identifyIncompleteWorkflowsInScope(precedent_step_name='prepare_system_files',\n",
    "    subsequent_step_name='minimization', system_name_scope=system_name_scope)"
   ]
  },
  {
   "cell_type": "code",
   "execution_count": null,
   "metadata": {
    "ExecuteTime": {
     "end_time": "2018-10-19T16:19:10.551001Z",
     "start_time": "2018-10-19T16:19:10.521188Z"
    }
   },
   "outputs": [],
   "source": [
    "to_minimize"
   ]
  },
  {
   "cell_type": "code",
   "execution_count": null,
   "metadata": {
    "ExecuteTime": {
     "end_time": "2018-10-19T16:21:27.099025Z",
     "start_time": "2018-10-19T16:21:27.039813Z"
    }
   },
   "outputs": [],
   "source": [
    "redo = (set(system_name_scope) - healthy_prepared_systems) | set(to_minimize.keys())"
   ]
  },
  {
   "cell_type": "code",
   "execution_count": null,
   "metadata": {
    "ExecuteTime": {
     "end_time": "2018-10-19T16:56:09.872358Z",
     "start_time": "2018-10-19T16:56:09.720320Z"
    }
   },
   "outputs": [],
   "source": [
    "redo"
   ]
  },
  {
   "cell_type": "code",
   "execution_count": 387,
   "metadata": {
    "ExecuteTime": {
     "end_time": "2018-10-19T19:34:32.146404Z",
     "start_time": "2018-10-19T19:33:48.403933Z"
    }
   },
   "outputs": [
    {
     "name": "stderr",
     "output_type": "stream",
     "text": [
      "WARNING:root:36 systems not present at all in subsequent step.\n"
     ]
    }
   ],
   "source": [
    "to_equilibrate_nvt = jobadmin.identifyIncompleteWorkflowsInScope(\n",
    "    precedent_step_name='minimization', subsequent_step_name='equilibration_nvt',\n",
    "    system_name_scope=system_name_scope)"
   ]
  },
  {
   "cell_type": "code",
   "execution_count": 1,
   "metadata": {
    "ExecuteTime": {
     "end_time": "2018-10-28T08:47:28.523242Z",
     "start_time": "2018-10-28T08:47:27.841578Z"
    }
   },
   "outputs": [
    {
     "ename": "NameError",
     "evalue": "name 'to_equilibrate_nvt' is not defined",
     "output_type": "error",
     "traceback": [
      "\u001b[0;31m---------------------------------------------------------------------------\u001b[0m",
      "\u001b[0;31mNameError\u001b[0m                                 Traceback (most recent call last)",
      "\u001b[0;32m<ipython-input-1-b1ca2e9d35a0>\u001b[0m in \u001b[0;36m<module>\u001b[0;34m()\u001b[0m\n\u001b[0;32m----> 1\u001b[0;31m \u001b[0mto_equilibrate_nvt\u001b[0m\u001b[0;34m\u001b[0m\u001b[0m\n\u001b[0m",
      "\u001b[0;31mNameError\u001b[0m: name 'to_equilibrate_nvt' is not defined"
     ]
    }
   ],
   "source": [
    "to_equilibrate_nvt"
   ]
  },
  {
   "cell_type": "code",
   "execution_count": null,
   "metadata": {
    "ExecuteTime": {
     "end_time": "2018-10-19T18:38:17.812909Z",
     "start_time": "2018-10-19T18:37:19.679649Z"
    }
   },
   "outputs": [],
   "source": [
    "to_equilibrate_npt = jobadmin.identifyIncompleteWorkflowsInScope(\n",
    "    precedent_step_name='equilibration_nvt',\n",
    "    subsequent_step_name='equilibration_npt',\n",
    "    system_name_scope=system_name_scope)"
   ]
  },
  {
   "cell_type": "code",
   "execution_count": null,
   "metadata": {
    "ExecuteTime": {
     "end_time": "2018-10-19T18:38:18.436830Z",
     "start_time": "2018-10-19T18:38:18.383286Z"
    }
   },
   "outputs": [],
   "source": [
    "to_equilibrate_npt"
   ]
  },
  {
   "cell_type": "code",
   "execution_count": null,
   "metadata": {
    "ExecuteTime": {
     "end_time": "2018-10-19T18:39:28.238215Z",
     "start_time": "2018-10-19T18:38:18.754749Z"
    }
   },
   "outputs": [],
   "source": [
    "to_run_production = jobadmin.identifyIncompleteWorkflowsInScope(\n",
    "    precedent_step_name='equilibration_npt',\n",
    "    subsequent_step_name='10ns_production_mixed',\n",
    "    system_name_scope=system_name_scope)"
   ]
  },
  {
   "cell_type": "code",
   "execution_count": null,
   "metadata": {
    "ExecuteTime": {
     "end_time": "2018-10-19T18:39:28.839666Z",
     "start_time": "2018-10-19T18:39:28.790126Z"
    }
   },
   "outputs": [],
   "source": [
    "to_run_production"
   ]
  },
  {
   "cell_type": "code",
   "execution_count": null,
   "metadata": {
    "ExecuteTime": {
     "end_time": "2018-10-19T18:41:35.915356Z",
     "start_time": "2018-10-19T18:40:55.349156Z"
    }
   },
   "outputs": [],
   "source": [
    "to_run_production = jobadmin.identifyIncompleteWorkflowsInScope(\n",
    "    precedent_step_name='equilibration_npt',\n",
    "    subsequent_step_name='production',\n",
    "    system_name_scope=system_name_scope)"
   ]
  },
  {
   "cell_type": "code",
   "execution_count": null,
   "metadata": {
    "ExecuteTime": {
     "end_time": "2018-10-19T18:42:07.425645Z",
     "start_time": "2018-10-19T18:42:07.255496Z"
    }
   },
   "outputs": [],
   "source": [
    "to_run_production"
   ]
  },
  {
   "cell_type": "code",
   "execution_count": null,
   "metadata": {},
   "outputs": [],
   "source": [
    "unfinished_systems = to_run_production.keys()"
   ]
  },
  {
   "cell_type": "code",
   "execution_count": null,
   "metadata": {},
   "outputs": [],
   "source": [
    "previous_runs = jobadmin.query_systems(unfinished_systems,step='10ns_production_mixed')"
   ]
  },
  {
   "cell_type": "code",
   "execution_count": 316,
   "metadata": {
    "ExecuteTime": {
     "end_time": "2018-10-19T19:11:30.835737Z",
     "start_time": "2018-10-19T19:11:20.501763Z"
    }
   },
   "outputs": [],
   "source": [
    "discontinued_prodcution_runs = jobadmin.get_discontinued_production_runs()"
   ]
  },
  {
   "cell_type": "code",
   "execution_count": null,
   "metadata": {},
   "outputs": [],
   "source": [
    "completed_productions_dict"
   ]
  },
  {
   "cell_type": "code",
   "execution_count": null,
   "metadata": {},
   "outputs": [],
   "source": []
  },
  {
   "cell_type": "markdown",
   "metadata": {},
   "source": [
    "## LAMMPS jobs"
   ]
  },
  {
   "cell_type": "code",
   "execution_count": null,
   "metadata": {},
   "outputs": [],
   "source": [
    "# TODO: switch to wrapper & batch_prepare_fw style"
   ]
  },
  {
   "cell_type": "code",
   "execution_count": null,
   "metadata": {},
   "outputs": [],
   "source": []
  },
  {
   "cell_type": "code",
   "execution_count": null,
   "metadata": {
    "ExecuteTime": {
     "end_time": "2018-09-06T17:51:19.622376Z",
     "start_time": "2018-09-06T17:51:11.450314Z"
    }
   },
   "outputs": [],
   "source": [
    "# Template for appending LAMMPS runs\n",
    "prep_fw_dict = jobadmin.prepare_systems(system_names)\n",
    "jobadmin.append_wf_by_key( prep_fw_dict, ch2lmp_fw_id_dict )\n",
    "prep_fw_id_dict = jobadmin.query_step(\n",
    "    step = 'prepare_system_files')"
   ]
  },
  {
   "cell_type": "code",
   "execution_count": null,
   "metadata": {
    "ExecuteTime": {
     "end_time": "2018-09-05T22:48:05.522339Z",
     "start_time": "2018-09-05T22:47:59.510435Z"
    }
   },
   "outputs": [],
   "source": [
    "# TODO: update \"prepare_restarts\" to enable restarts with colvars module\n",
    "prod_fw_dict = jobadmin.prepare_production(system_names)\n",
    "jobadmin.append_wf_by_key(prod_fw_dict, npt_fw_id_dict)\n",
    "prod_fw_id_dict = jobadmin.query_systems(\n",
    "    system_names, \n",
    "    step='10ns_production_mixed',\n",
    "    state=[\"COMPLETED\", \"RUNNING\", \"READY\", \"WAITING\", \"RESERVED\"])\n",
    "\n",
    "restart_fw_dict = jobadmin.prepare_restarts(system_names)\n",
    "jobadmin.append_wf_by_key(restart_fw_dict, prod_fw_id_dict)"
   ]
  },
  {
   "cell_type": "markdown",
   "metadata": {},
   "source": [
    "### Preparation"
   ]
  },
  {
   "cell_type": "code",
   "execution_count": 350,
   "metadata": {
    "ExecuteTime": {
     "end_time": "2018-10-19T19:21:18.707290Z",
     "start_time": "2018-10-19T19:21:18.630497Z"
    }
   },
   "outputs": [],
   "source": [
    "fw_id_dict = jobadmin.query_systems(\n",
    "    system_names,step=\"ch2lmp\",\n",
    "    state=[\"COMPLETED\", \"RUNNING\", \"READY\", \"WAITING\", \"RESERVED\"])"
   ]
  },
  {
   "cell_type": "code",
   "execution_count": null,
   "metadata": {},
   "outputs": [],
   "source": [
    "# Certain steps push representative data files to the database."
   ]
  },
  {
   "cell_type": "code",
   "execution_count": 352,
   "metadata": {
    "ExecuteTime": {
     "end_time": "2018-10-19T19:21:22.415376Z",
     "start_time": "2018-10-19T19:21:22.357080Z"
    }
   },
   "outputs": [],
   "source": [
    "pull_datafile_from_db_wrapper = lambda system_name: \\\n",
    "    jobadmin.pull_datafile_from_db(system_name, data_file_identifier_suffix='_psfgen.data')"
   ]
  },
  {
   "cell_type": "code",
   "execution_count": 353,
   "metadata": {
    "ExecuteTime": {
     "end_time": "2018-10-19T19:21:23.889607Z",
     "start_time": "2018-10-19T19:21:23.828632Z"
    }
   },
   "outputs": [],
   "source": [
    "fw_dict = jobadmin.batch_prepare_fw( system_names, pull_datafile_from_db_wrapper )"
   ]
  },
  {
   "cell_type": "code",
   "execution_count": 354,
   "metadata": {
    "ExecuteTime": {
     "end_time": "2018-10-19T19:21:24.692069Z",
     "start_time": "2018-10-19T19:21:24.595759Z"
    }
   },
   "outputs": [
    {
     "name": "stdout",
     "output_type": "stream",
     "text": [
      "Append 1107_SDS_on_AU_111_51x30x2_monolayer_with_counterion to last fw_id in list [6814, 10697]\n"
     ]
    }
   ],
   "source": [
    "jobadmin.append_wf_by_key( fw_dict, fw_id_dict )"
   ]
  },
  {
   "cell_type": "markdown",
   "metadata": {},
   "source": [
    "### Minimization"
   ]
  },
  {
   "cell_type": "code",
   "execution_count": 357,
   "metadata": {
    "ExecuteTime": {
     "end_time": "2018-10-19T19:21:58.758361Z",
     "start_time": "2018-10-19T19:21:58.703911Z"
    }
   },
   "outputs": [
    {
     "data": {
      "text/plain": [
       "{'nodes': 1, 'walltime': '24:00:00'}"
      ]
     },
     "execution_count": 357,
     "metadata": {},
     "output_type": "execute_result"
    }
   ],
   "source": [
    "jobadmin.minimization_queueadapter"
   ]
  },
  {
   "cell_type": "code",
   "execution_count": 358,
   "metadata": {
    "ExecuteTime": {
     "end_time": "2018-10-19T19:22:03.628802Z",
     "start_time": "2018-10-19T19:22:03.558704Z"
    }
   },
   "outputs": [],
   "source": [
    "jobadmin.minimization_queueadapter[\"nodes\"] = 2"
   ]
  },
  {
   "cell_type": "code",
   "execution_count": null,
   "metadata": {
    "ExecuteTime": {
     "end_time": "2018-10-19T18:53:43.952394Z",
     "start_time": "2018-10-19T18:53:43.889326Z"
    }
   },
   "outputs": [],
   "source": [
    "jobadmin.minimization_queueadapter[\"walltime\"] = '24:00:00'"
   ]
  },
  {
   "cell_type": "code",
   "execution_count": 359,
   "metadata": {
    "ExecuteTime": {
     "end_time": "2018-10-19T19:22:08.320616Z",
     "start_time": "2018-10-19T19:22:08.007991Z"
    }
   },
   "outputs": [],
   "source": [
    "fw_id_dict = jobadmin.query_systems(\n",
    "    system_names,\n",
    "    step='pull_datafile_from_db', \n",
    "    state=[\"COMPLETED\", \"RUNNING\", \"READY\", \"WAITING\", \"RESERVED\"])"
   ]
  },
  {
   "cell_type": "code",
   "execution_count": 360,
   "metadata": {
    "ExecuteTime": {
     "end_time": "2018-10-19T19:22:11.245862Z",
     "start_time": "2018-10-19T19:22:11.189237Z"
    }
   },
   "outputs": [],
   "source": [
    "minimize_wrapper = lambda system_name: jobadmin.minimize(\n",
    "    system_name,\n",
    "    lmp_suffix_template=' '.join((\n",
    "        '-v baseName {baseName:s} -v dataFile {dataFile:s} -v has_indenter 0',\n",
    "        '-v robust_minimization 1 -v pbc2d 0 -v surfactant_name SDS',\n",
    "        '-v mpiio 0 -v freeze_substrate 1')))"
   ]
  },
  {
   "cell_type": "code",
   "execution_count": 361,
   "metadata": {
    "ExecuteTime": {
     "end_time": "2018-10-19T19:22:13.045244Z",
     "start_time": "2018-10-19T19:22:12.995751Z"
    }
   },
   "outputs": [],
   "source": [
    "fw_dict = jobadmin.batch_prepare_fw( system_names, minimize_wrapper )"
   ]
  },
  {
   "cell_type": "code",
   "execution_count": 362,
   "metadata": {
    "ExecuteTime": {
     "end_time": "2018-10-19T19:22:14.141612Z",
     "start_time": "2018-10-19T19:22:13.921152Z"
    }
   },
   "outputs": [
    {
     "name": "stdout",
     "output_type": "stream",
     "text": [
      "Append 1107_SDS_on_AU_111_51x30x2_monolayer_with_counterion to last fw_id in list [10703]\n"
     ]
    }
   ],
   "source": [
    "jobadmin.append_wf_by_key( fw_dict, fw_id_dict )"
   ]
  },
  {
   "cell_type": "markdown",
   "metadata": {},
   "source": [
    "### NVT equilibration"
   ]
  },
  {
   "cell_type": "code",
   "execution_count": 379,
   "metadata": {
    "ExecuteTime": {
     "end_time": "2018-10-19T19:31:22.278502Z",
     "start_time": "2018-10-19T19:31:22.123939Z"
    }
   },
   "outputs": [
    {
     "data": {
      "text/plain": [
       "{'nodes': 4, 'walltime': '24:00:00'}"
      ]
     },
     "execution_count": 379,
     "metadata": {},
     "output_type": "execute_result"
    }
   ],
   "source": [
    "jobadmin.equilibration_queueadapter"
   ]
  },
  {
   "cell_type": "code",
   "execution_count": null,
   "metadata": {
    "ExecuteTime": {
     "end_time": "2018-10-19T18:54:11.842879Z",
     "start_time": "2018-10-19T18:54:11.785143Z"
    }
   },
   "outputs": [],
   "source": [
    "jobadmin.equilibration_queueadapter[\"nodes\"] = 4"
   ]
  },
  {
   "cell_type": "code",
   "execution_count": 364,
   "metadata": {
    "ExecuteTime": {
     "end_time": "2018-10-19T19:22:21.490492Z",
     "start_time": "2018-10-19T19:22:21.413951Z"
    }
   },
   "outputs": [],
   "source": [
    "# fw_id_dict = jobadmin.query_systems(\n",
    "#     system_names,\n",
    "#     step='minimization', \n",
    "#     state=[\"COMPLETED\", \"RUNNING\", \"READY\", \"WAITING\", \"RESERVED\"])\n",
    "\n",
    "# better alterbative:"
   ]
  },
  {
   "cell_type": "code",
   "execution_count": 387,
   "metadata": {
    "ExecuteTime": {
     "end_time": "2018-10-19T19:34:32.146404Z",
     "start_time": "2018-10-19T19:33:48.403933Z"
    }
   },
   "outputs": [
    {
     "name": "stderr",
     "output_type": "stream",
     "text": [
      "WARNING:root:36 systems not present at all in subsequent step.\n"
     ]
    }
   ],
   "source": [
    "to_equilibrate_nvt = jobadmin.identifyIncompleteWorkflowsInScope(\n",
    "    precedent_step_name='minimization', subsequent_step_name='equilibration_nvt',\n",
    "    system_name_scope=system_name_scope)"
   ]
  },
  {
   "cell_type": "code",
   "execution_count": 388,
   "metadata": {
    "ExecuteTime": {
     "end_time": "2018-10-19T19:34:32.422295Z",
     "start_time": "2018-10-19T19:34:32.373021Z"
    }
   },
   "outputs": [
    {
     "data": {
      "text/plain": [
       "{'1107_SDS_on_AU_111_51x30x2_cylinders_with_counterion': [10691],\n",
       " '1107_SDS_on_AU_111_51x30x2_hemicylinders_with_counterion': [10644],\n",
       " '1107_SDS_on_AU_111_51x30x2_monolayer_with_counterion': [10704],\n",
       " '129_SDS_on_AU_111_51x30x2_cylinders_with_counterion': [10645],\n",
       " '129_SDS_on_AU_111_51x30x2_hemicylinders_with_counterion': [10638],\n",
       " '220_SDS_on_AU_111_51x30x2_cylinders_with_counterion': [10634],\n",
       " '220_SDS_on_AU_111_51x30x2_hemicylinders_with_counterion': [10636],\n",
       " '2214_SDS_on_AU_111_51x30x2_bilayer_with_counterion': [10642],\n",
       " '2214_SDS_on_AU_111_51x30x2_cylinders_with_counterion': [10640],\n",
       " '2214_SDS_on_AU_111_51x30x2_hemicylinders_with_counterion': [10641],\n",
       " '2214_SDS_on_AU_111_51x30x2_monolayer_with_counterion': [10639],\n",
       " '377_SDS_on_AU_111_51x30x2_hemicylinders_with_counterion': [10635],\n",
       " '75_SDS_on_AU_111_51x30x2_cylinders_with_counterion': [10643],\n",
       " '75_SDS_on_AU_111_51x30x2_hemicylinders_with_counterion': [10637]}"
      ]
     },
     "execution_count": 388,
     "metadata": {},
     "output_type": "execute_result"
    }
   ],
   "source": [
    "to_equilibrate_nvt"
   ]
  },
  {
   "cell_type": "code",
   "execution_count": 389,
   "metadata": {
    "ExecuteTime": {
     "end_time": "2018-10-19T19:35:53.928230Z",
     "start_time": "2018-10-19T19:35:53.765636Z"
    }
   },
   "outputs": [],
   "source": [
    "fw_id_dict = to_equilibrate_nvt"
   ]
  },
  {
   "cell_type": "code",
   "execution_count": 390,
   "metadata": {
    "ExecuteTime": {
     "end_time": "2018-10-19T19:35:59.194083Z",
     "start_time": "2018-10-19T19:35:59.129896Z"
    }
   },
   "outputs": [],
   "source": [
    "nvtEquilibrate_wrapper = lambda system_name: jobadmin.nvtEquilibrate(\n",
    "    system_name,\n",
    "    lmp_suffix_template=' '.join((\n",
    "        '-v baseName {baseName:s} -v dataFile {dataFile:s}', \n",
    "        '-v has_indenter 0 -v pbd2d 0 -v reinitialize_velocities 1',\n",
    "        '-v surfactant_name SDS -v mpiio 0')))"
   ]
  },
  {
   "cell_type": "code",
   "execution_count": 391,
   "metadata": {
    "ExecuteTime": {
     "end_time": "2018-10-19T19:36:06.050638Z",
     "start_time": "2018-10-19T19:36:06.001907Z"
    }
   },
   "outputs": [],
   "source": [
    "fw_dict = jobadmin.batch_prepare_fw( system_names, nvtEquilibrate_wrapper )"
   ]
  },
  {
   "cell_type": "code",
   "execution_count": 392,
   "metadata": {
    "ExecuteTime": {
     "end_time": "2018-10-19T19:36:07.316130Z",
     "start_time": "2018-10-19T19:36:06.566702Z"
    }
   },
   "outputs": [
    {
     "name": "stdout",
     "output_type": "stream",
     "text": [
      "Append 220_SDS_on_AU_111_51x30x2_cylinders_with_counterion to last fw_id in list [10634]\n",
      "Append 1107_SDS_on_AU_111_51x30x2_cylinders_with_counterion to last fw_id in list [10691]\n",
      "Append 1107_SDS_on_AU_111_51x30x2_monolayer_with_counterion to last fw_id in list [10704]\n",
      "Append 220_SDS_on_AU_111_51x30x2_hemicylinders_with_counterion to last fw_id in list [10636]\n",
      "Append 2214_SDS_on_AU_111_51x30x2_cylinders_with_counterion to last fw_id in list [10640]\n",
      "Append 129_SDS_on_AU_111_51x30x2_hemicylinders_with_counterion to last fw_id in list [10638]\n",
      "Append 2214_SDS_on_AU_111_51x30x2_hemicylinders_with_counterion to last fw_id in list [10641]\n",
      "Append 2214_SDS_on_AU_111_51x30x2_monolayer_with_counterion to last fw_id in list [10639]\n",
      "Append 377_SDS_on_AU_111_51x30x2_hemicylinders_with_counterion to last fw_id in list [10635]\n",
      "Append 2214_SDS_on_AU_111_51x30x2_bilayer_with_counterion to last fw_id in list [10642]\n",
      "Append 75_SDS_on_AU_111_51x30x2_hemicylinders_with_counterion to last fw_id in list [10637]\n",
      "Append 75_SDS_on_AU_111_51x30x2_cylinders_with_counterion to last fw_id in list [10643]\n",
      "Append 1107_SDS_on_AU_111_51x30x2_hemicylinders_with_counterion to last fw_id in list [10644]\n",
      "Append 129_SDS_on_AU_111_51x30x2_cylinders_with_counterion to last fw_id in list [10645]\n"
     ]
    }
   ],
   "source": [
    "jobadmin.append_wf_by_key(fw_dict, fw_id_dict)"
   ]
  },
  {
   "cell_type": "markdown",
   "metadata": {},
   "source": [
    "### NPT equilibration"
   ]
  },
  {
   "cell_type": "code",
   "execution_count": null,
   "metadata": {
    "ExecuteTime": {
     "end_time": "2018-10-19T18:54:28.863322Z",
     "start_time": "2018-10-19T18:54:28.787285Z"
    }
   },
   "outputs": [],
   "source": [
    "# fw_id_dict = jobadmin.query_systems(\n",
    "#     system_names,\n",
    "#     step='equilibration_nvt', \n",
    "#     state=[\"COMPLETED\", \"RUNNING\", \"READY\", \"WAITING\", \"RESERVED\"])\n",
    "\n",
    "# better alternative:"
   ]
  },
  {
   "cell_type": "code",
   "execution_count": 393,
   "metadata": {
    "ExecuteTime": {
     "end_time": "2018-10-19T19:37:38.244520Z",
     "start_time": "2018-10-19T19:36:44.835167Z"
    }
   },
   "outputs": [
    {
     "name": "stderr",
     "output_type": "stream",
     "text": [
      "WARNING:root:12 systems not present at all in subsequent step.\n"
     ]
    }
   ],
   "source": [
    "to_equilibrate_npt = jobadmin.identifyIncompleteWorkflowsInScope(\n",
    "    precedent_step_name='equilibration_nvt',\n",
    "    subsequent_step_name='equilibration_npt',\n",
    "    system_name_scope=system_name_scope)"
   ]
  },
  {
   "cell_type": "code",
   "execution_count": 397,
   "metadata": {
    "ExecuteTime": {
     "end_time": "2018-10-19T19:38:20.521542Z",
     "start_time": "2018-10-19T19:38:20.464128Z"
    }
   },
   "outputs": [],
   "source": [
    "fw_id_dict = to_equilibrate_npt"
   ]
  },
  {
   "cell_type": "code",
   "execution_count": 398,
   "metadata": {
    "ExecuteTime": {
     "end_time": "2018-10-19T19:38:25.607673Z",
     "start_time": "2018-10-19T19:38:25.546783Z"
    }
   },
   "outputs": [],
   "source": [
    "nptEquilibrate_wrapper = lambda system_name: jobadmin.nptEquilibrate(\n",
    "    system_name,\n",
    "    lmp_suffix_template= ' '.join((\n",
    "        '-v baseName {baseName:s}',\n",
    "        '-v dataFile {dataFile:s}',\n",
    "        '-v has_indenter 0',\n",
    "        '-v pbd2d 0 -v reinitialize_velocities 0',\n",
    "        '-v surfactant_name SDS')) )"
   ]
  },
  {
   "cell_type": "code",
   "execution_count": 399,
   "metadata": {
    "ExecuteTime": {
     "end_time": "2018-10-19T19:38:26.906093Z",
     "start_time": "2018-10-19T19:38:26.854798Z"
    }
   },
   "outputs": [],
   "source": [
    "fw_dict = jobadmin.batch_prepare_fw( system_names, nptEquilibrate_wrapper )"
   ]
  },
  {
   "cell_type": "code",
   "execution_count": 400,
   "metadata": {
    "ExecuteTime": {
     "end_time": "2018-10-19T19:38:27.962355Z",
     "start_time": "2018-10-19T19:38:27.167407Z"
    }
   },
   "outputs": [
    {
     "name": "stdout",
     "output_type": "stream",
     "text": [
      "Append 220_SDS_on_AU_111_51x30x2_cylinders_with_counterion to last fw_id in list [10705]\n",
      "Append 1107_SDS_on_AU_111_51x30x2_cylinders_with_counterion to last fw_id in list [10706]\n",
      "Append 1107_SDS_on_AU_111_51x30x2_monolayer_with_counterion to last fw_id in list [10707]\n",
      "Append 220_SDS_on_AU_111_51x30x2_hemicylinders_with_counterion to last fw_id in list [10708]\n",
      "Append 2214_SDS_on_AU_111_51x30x2_cylinders_with_counterion to last fw_id in list [10709]\n",
      "Append 129_SDS_on_AU_111_51x30x2_hemicylinders_with_counterion to last fw_id in list [10710]\n",
      "Append 2214_SDS_on_AU_111_51x30x2_hemicylinders_with_counterion to last fw_id in list [10711]\n",
      "Append 2214_SDS_on_AU_111_51x30x2_monolayer_with_counterion to last fw_id in list [10712]\n",
      "Append 377_SDS_on_AU_111_51x30x2_hemicylinders_with_counterion to last fw_id in list [10713]\n",
      "Append 2214_SDS_on_AU_111_51x30x2_bilayer_with_counterion to last fw_id in list [10714]\n",
      "Append 75_SDS_on_AU_111_51x30x2_hemicylinders_with_counterion to last fw_id in list [10715]\n",
      "Append 75_SDS_on_AU_111_51x30x2_cylinders_with_counterion to last fw_id in list [10716]\n",
      "Append 1107_SDS_on_AU_111_51x30x2_hemicylinders_with_counterion to last fw_id in list [10717]\n",
      "Append 129_SDS_on_AU_111_51x30x2_cylinders_with_counterion to last fw_id in list [10718]\n"
     ]
    }
   ],
   "source": [
    "jobadmin.append_wf_by_key(fw_dict, fw_id_dict)"
   ]
  },
  {
   "cell_type": "markdown",
   "metadata": {},
   "source": [
    "### Production"
   ]
  },
  {
   "cell_type": "code",
   "execution_count": 401,
   "metadata": {
    "ExecuteTime": {
     "end_time": "2018-10-19T19:38:37.708994Z",
     "start_time": "2018-10-19T19:38:37.409304Z"
    }
   },
   "outputs": [
    {
     "data": {
      "text/plain": [
       "{'nodes': 8, 'walltime': '96:00:00'}"
      ]
     },
     "execution_count": 401,
     "metadata": {},
     "output_type": "execute_result"
    }
   ],
   "source": [
    "jobadmin.production_queueadapter"
   ]
  },
  {
   "cell_type": "code",
   "execution_count": null,
   "metadata": {
    "ExecuteTime": {
     "end_time": "2018-10-19T17:53:09.056965Z",
     "start_time": "2018-10-19T17:53:08.999780Z"
    }
   },
   "outputs": [],
   "source": [
    "jobadmin.production_queueadapter[\"nodes\"] = 8"
   ]
  },
  {
   "cell_type": "code",
   "execution_count": null,
   "metadata": {
    "ExecuteTime": {
     "end_time": "2018-10-19T18:54:56.363117Z",
     "start_time": "2018-10-19T18:54:56.196523Z"
    }
   },
   "outputs": [],
   "source": [
    "# fw_id_dict = jobadmin.query_systems(\n",
    "#     system_names,\n",
    "#     step='equilibration_npt', \n",
    "#     state=[\"COMPLETED\", \"RUNNING\", \"READY\", \"WAITING\", \"RESERVED\"])"
   ]
  },
  {
   "cell_type": "code",
   "execution_count": 407,
   "metadata": {
    "ExecuteTime": {
     "end_time": "2018-10-19T19:41:25.271983Z",
     "start_time": "2018-10-19T19:40:42.779621Z"
    }
   },
   "outputs": [
    {
     "name": "stderr",
     "output_type": "stream",
     "text": [
      "WARNING:root:104 systems not present at all in subsequent step.\n"
     ]
    }
   ],
   "source": [
    "to_run_production = jobadmin.identifyIncompleteWorkflowsInScope(\n",
    "    precedent_step_name='equilibration_npt',\n",
    "    subsequent_step_name='production',\n",
    "    system_name_scope=system_names)"
   ]
  },
  {
   "cell_type": "code",
   "execution_count": 410,
   "metadata": {
    "ExecuteTime": {
     "end_time": "2018-10-19T19:42:13.733512Z",
     "start_time": "2018-10-19T19:42:13.646132Z"
    }
   },
   "outputs": [],
   "source": [
    "fw_id_dict = to_run_production"
   ]
  },
  {
   "cell_type": "code",
   "execution_count": 411,
   "metadata": {
    "ExecuteTime": {
     "end_time": "2018-10-19T19:42:18.692039Z",
     "start_time": "2018-10-19T19:42:18.636823Z"
    },
    "run_control": {
     "marked": true
    }
   },
   "outputs": [],
   "source": [
    "production_wrapper = lambda system_name: jobadmin.production(\n",
    "    system_name,\n",
    "    total_steps = 5000000, \n",
    "    lmp_suffix_template= ' '.join((\n",
    "        '-v baseName {baseName:s}',\n",
    "        '-v dataFile {dataFile:s}',\n",
    "        '-v has_indenter 0',\n",
    "        '-v pbd2d 0', # no 2d-periodic, but 3d-periodic BC\n",
    "        '-v reinitialize_velocities 0',\n",
    "        '-v use_colvars 0',\n",
    "        '-v productionSteps 5000000', # 5000000 ~ 10 ns\n",
    "        '-v mpiio 0', # does not work yet with current built, recompile\n",
    "        '-v surfactant_name SDS')) )"
   ]
  },
  {
   "cell_type": "code",
   "execution_count": 412,
   "metadata": {
    "ExecuteTime": {
     "end_time": "2018-10-19T19:42:20.511538Z",
     "start_time": "2018-10-19T19:42:20.469238Z"
    }
   },
   "outputs": [],
   "source": [
    "fw_dict = jobadmin.batch_prepare_fw( system_names, production_wrapper )"
   ]
  },
  {
   "cell_type": "code",
   "execution_count": 413,
   "metadata": {
    "ExecuteTime": {
     "end_time": "2018-10-19T19:42:21.581867Z",
     "start_time": "2018-10-19T19:42:20.750019Z"
    }
   },
   "outputs": [
    {
     "name": "stdout",
     "output_type": "stream",
     "text": [
      "Append 220_SDS_on_AU_111_51x30x2_cylinders_with_counterion to last fw_id in list [10719]\n",
      "Append 1107_SDS_on_AU_111_51x30x2_cylinders_with_counterion to last fw_id in list [10720, 7650]\n",
      "Append 1107_SDS_on_AU_111_51x30x2_monolayer_with_counterion to last fw_id in list [7234, 10721]\n",
      "Append 220_SDS_on_AU_111_51x30x2_hemicylinders_with_counterion to last fw_id in list [10722]\n",
      "Append 2214_SDS_on_AU_111_51x30x2_cylinders_with_counterion to last fw_id in list [10723]\n",
      "Append 129_SDS_on_AU_111_51x30x2_hemicylinders_with_counterion to last fw_id in list [10724]\n",
      "Append 2214_SDS_on_AU_111_51x30x2_hemicylinders_with_counterion to last fw_id in list [10725]\n",
      "Append 2214_SDS_on_AU_111_51x30x2_monolayer_with_counterion to last fw_id in list [10726]\n",
      "Append 377_SDS_on_AU_111_51x30x2_hemicylinders_with_counterion to last fw_id in list [10727]\n",
      "Append 2214_SDS_on_AU_111_51x30x2_bilayer_with_counterion to last fw_id in list [10728]\n",
      "Append 75_SDS_on_AU_111_51x30x2_hemicylinders_with_counterion to last fw_id in list [10729]\n",
      "Append 75_SDS_on_AU_111_51x30x2_cylinders_with_counterion to last fw_id in list [10730]\n",
      "Append 1107_SDS_on_AU_111_51x30x2_hemicylinders_with_counterion to last fw_id in list [10731]\n",
      "Append 129_SDS_on_AU_111_51x30x2_cylinders_with_counterion to last fw_id in list [10732]\n"
     ]
    }
   ],
   "source": [
    "jobadmin.append_wf_by_key(fw_dict, fw_id_dict)"
   ]
  },
  {
   "cell_type": "markdown",
   "metadata": {},
   "source": [
    "## Check progress and (re-) run if necessary"
   ]
  },
  {
   "cell_type": "code",
   "execution_count": null,
   "metadata": {},
   "outputs": [],
   "source": [
    "# REWORK functionality here, outdated"
   ]
  },
  {
   "cell_type": "code",
   "execution_count": null,
   "metadata": {
    "ExecuteTime": {
     "end_time": "2018-09-17T21:11:13.241348Z",
     "start_time": "2018-09-17T21:11:11.361331Z"
    }
   },
   "outputs": [],
   "source": [
    "healthy_production_runs = jobadmin.get_set_of_healthy_production_runs()"
   ]
  },
  {
   "cell_type": "code",
   "execution_count": null,
   "metadata": {
    "ExecuteTime": {
     "end_time": "2018-09-17T21:11:16.497437Z",
     "start_time": "2018-09-17T21:11:16.018264Z"
    }
   },
   "outputs": [],
   "source": [
    "completed_production_runs = jobadmin.get_set_of_evolved_systems()"
   ]
  },
  {
   "cell_type": "code",
   "execution_count": null,
   "metadata": {
    "ExecuteTime": {
     "end_time": "2018-09-17T21:13:57.899829Z",
     "start_time": "2018-09-17T21:13:57.850273Z"
    }
   },
   "outputs": [],
   "source": [
    "system_names = list(completed_production_runs & set(system_name_scope))"
   ]
  },
  {
   "cell_type": "code",
   "execution_count": null,
   "metadata": {
    "ExecuteTime": {
     "end_time": "2018-09-17T21:14:02.617098Z",
     "start_time": "2018-09-17T21:14:02.456392Z"
    }
   },
   "outputs": [],
   "source": [
    "system_names"
   ]
  },
  {
   "cell_type": "code",
   "execution_count": null,
   "metadata": {},
   "outputs": [],
   "source": [
    "incomplete_but_healthy_production_runs = healthy_production_runs - completed_production_runs"
   ]
  },
  {
   "cell_type": "code",
   "execution_count": null,
   "metadata": {},
   "outputs": [],
   "source": [
    "incomplete_but_healthy_production_runs"
   ]
  },
  {
   "cell_type": "code",
   "execution_count": null,
   "metadata": {},
   "outputs": [],
   "source": [
    "discontinued_production_runs = jobadmin.get_discontinued_production_runs()"
   ]
  },
  {
   "cell_type": "code",
   "execution_count": null,
   "metadata": {},
   "outputs": [],
   "source": [
    "discontinued_production_runs"
   ]
  },
  {
   "cell_type": "code",
   "execution_count": null,
   "metadata": {
    "ExecuteTime": {
     "end_time": "2018-09-06T15:39:45.645155Z",
     "start_time": "2018-09-06T15:39:45.288181Z"
    }
   },
   "outputs": [],
   "source": [
    "system_name_scope = system_names"
   ]
  },
  {
   "cell_type": "code",
   "execution_count": null,
   "metadata": {
    "ExecuteTime": {
     "end_time": "2018-09-06T17:34:27.225197Z",
     "start_time": "2018-09-06T17:34:24.190292Z"
    }
   },
   "outputs": [],
   "source": [
    "to_prepare = jobadmin.get_to_prepare()"
   ]
  },
  {
   "cell_type": "code",
   "execution_count": null,
   "metadata": {
    "ExecuteTime": {
     "end_time": "2018-09-06T17:34:33.039631Z",
     "start_time": "2018-09-06T17:34:32.924162Z"
    }
   },
   "outputs": [],
   "source": [
    "system_names = list( set(system_name_scope) & set(to_prepare) )"
   ]
  },
  {
   "cell_type": "code",
   "execution_count": null,
   "metadata": {
    "ExecuteTime": {
     "end_time": "2018-09-06T15:43:37.107783Z",
     "start_time": "2018-09-06T15:43:33.165416Z"
    },
    "scrolled": true
   },
   "outputs": [],
   "source": [
    "to_minimize = jobadmin.get_to_minimize()"
   ]
  },
  {
   "cell_type": "code",
   "execution_count": null,
   "metadata": {
    "ExecuteTime": {
     "end_time": "2018-09-06T15:43:38.447636Z",
     "start_time": "2018-09-06T15:43:38.320419Z"
    }
   },
   "outputs": [],
   "source": [
    "system_names = list( set(system_name_scope) & set(to_minimize) )"
   ]
  },
  {
   "cell_type": "code",
   "execution_count": null,
   "metadata": {
    "ExecuteTime": {
     "end_time": "2018-09-06T15:43:39.847894Z",
     "start_time": "2018-09-06T15:43:39.721919Z"
    }
   },
   "outputs": [],
   "source": [
    "system_names"
   ]
  },
  {
   "cell_type": "markdown",
   "metadata": {},
   "source": [
    "### NVT eq"
   ]
  },
  {
   "cell_type": "code",
   "execution_count": null,
   "metadata": {
    "ExecuteTime": {
     "end_time": "2018-09-06T17:34:44.930718Z",
     "start_time": "2018-09-06T17:34:40.522980Z"
    }
   },
   "outputs": [],
   "source": [
    "to_nvt_equilibrate = jobadmin.get_to_nvt_equlibrate()"
   ]
  },
  {
   "cell_type": "code",
   "execution_count": null,
   "metadata": {
    "ExecuteTime": {
     "end_time": "2018-09-06T17:34:46.142584Z",
     "start_time": "2018-09-06T17:34:46.050601Z"
    }
   },
   "outputs": [],
   "source": [
    "to_nvt_equilibrate"
   ]
  },
  {
   "cell_type": "code",
   "execution_count": null,
   "metadata": {
    "ExecuteTime": {
     "end_time": "2018-09-06T15:53:16.065816Z",
     "start_time": "2018-09-06T15:53:15.844511Z"
    }
   },
   "outputs": [],
   "source": [
    "system_names = list(set(to_nvt_equilibrate) & set(system_name_scope))"
   ]
  },
  {
   "cell_type": "code",
   "execution_count": null,
   "metadata": {
    "ExecuteTime": {
     "end_time": "2018-09-06T15:53:17.349268Z",
     "start_time": "2018-09-06T15:53:17.220023Z"
    }
   },
   "outputs": [],
   "source": [
    "system_names"
   ]
  },
  {
   "cell_type": "markdown",
   "metadata": {},
   "source": [
    "### NPT eq"
   ]
  },
  {
   "cell_type": "code",
   "execution_count": null,
   "metadata": {
    "ExecuteTime": {
     "end_time": "2018-09-06T15:59:47.951768Z",
     "start_time": "2018-09-06T15:59:43.042089Z"
    }
   },
   "outputs": [],
   "source": [
    "to_npt_equilibrate = jobadmin.get_to_npt_equlibrate()"
   ]
  },
  {
   "cell_type": "code",
   "execution_count": null,
   "metadata": {
    "ExecuteTime": {
     "end_time": "2018-09-06T16:00:32.316025Z",
     "start_time": "2018-09-06T16:00:32.184100Z"
    }
   },
   "outputs": [],
   "source": [
    "system_names = list(set(to_npt_equilibrate) & set(system_name_scope))"
   ]
  },
  {
   "cell_type": "code",
   "execution_count": null,
   "metadata": {
    "ExecuteTime": {
     "end_time": "2018-09-06T16:00:33.453297Z",
     "start_time": "2018-09-06T16:00:33.322389Z"
    }
   },
   "outputs": [],
   "source": [
    "system_names"
   ]
  },
  {
   "cell_type": "markdown",
   "metadata": {},
   "source": [
    "### Production"
   ]
  },
  {
   "cell_type": "code",
   "execution_count": null,
   "metadata": {
    "ExecuteTime": {
     "end_time": "2018-10-19T18:56:43.733151Z",
     "start_time": "2018-10-19T18:56:40.958799Z"
    }
   },
   "outputs": [],
   "source": [
    "to_run_production = jobadmin.get_to_run_production()"
   ]
  },
  {
   "cell_type": "code",
   "execution_count": null,
   "metadata": {
    "ExecuteTime": {
     "end_time": "2018-10-19T18:56:45.236233Z",
     "start_time": "2018-10-19T18:56:45.182864Z"
    }
   },
   "outputs": [],
   "source": [
    "system_names = list(set(to_run_production) & set(system_name_scope))"
   ]
  },
  {
   "cell_type": "code",
   "execution_count": null,
   "metadata": {
    "ExecuteTime": {
     "end_time": "2018-09-05T18:32:07.919226Z",
     "start_time": "2018-09-05T18:32:07.510698Z"
    }
   },
   "outputs": [],
   "source": [
    "# manually delete a file from Filepad db\n",
    "jobadmin.fp.delete_file(\n",
    "    identifier='1010_CTAB_on_AU_111_63x36x2_cylinders_with_counterion_psfgen.data')"
   ]
  },
  {
   "cell_type": "markdown",
   "metadata": {},
   "source": [
    "## Recovering stuff"
   ]
  },
  {
   "cell_type": "markdown",
   "metadata": {
    "ExecuteTime": {
     "end_time": "2018-09-06T16:08:07.226307Z",
     "start_time": "2018-09-06T16:08:06.821906Z"
    }
   },
   "source": [
    "### Defuse dead ends & children"
   ]
  },
  {
   "cell_type": "code",
   "execution_count": null,
   "metadata": {
    "ExecuteTime": {
     "end_time": "2018-10-19T18:57:28.304948Z",
     "start_time": "2018-10-19T18:57:28.248472Z"
    }
   },
   "outputs": [],
   "source": [
    "steps = ['prepare_system_files',\n",
    "         'minimization', \n",
    "         'equilibration_nvt', \n",
    "         'equilibration_npt',\n",
    "        ]"
   ]
  },
  {
   "cell_type": "code",
   "execution_count": null,
   "metadata": {
    "ExecuteTime": {
     "end_time": "2018-10-19T19:00:33.385872Z",
     "start_time": "2018-10-19T19:00:32.448502Z"
    }
   },
   "outputs": [],
   "source": [
    "step_fizzled_dict = {}\n",
    "for step in steps:\n",
    "    step_fizzled_dict[step] = jobadmin.query_step(\n",
    "        step = step, state_list = [\"FIZZLED\"] )"
   ]
  },
  {
   "cell_type": "code",
   "execution_count": null,
   "metadata": {
    "ExecuteTime": {
     "end_time": "2018-10-19T19:00:56.217960Z",
     "start_time": "2018-10-19T19:00:56.158106Z"
    }
   },
   "outputs": [],
   "source": [
    "# only defuse systems in scope\n",
    "reduced_step_fizzled_dict = {}\n",
    "for step, fw_id_dict in step_fizzled_dict.items():\n",
    "    reduced_step_fizzled_dict[step] = { system_name: fw_id_lst \\\n",
    "        for system_name, fw_id_lst in fw_id_dict.items() \\\n",
    "        if system_name in system_name_scope }"
   ]
  },
  {
   "cell_type": "code",
   "execution_count": null,
   "metadata": {
    "ExecuteTime": {
     "end_time": "2018-10-19T19:00:56.547060Z",
     "start_time": "2018-10-19T19:00:56.497779Z"
    }
   },
   "outputs": [],
   "source": [
    "reduced_step_fizzled_dict"
   ]
  },
  {
   "cell_type": "code",
   "execution_count": null,
   "metadata": {
    "ExecuteTime": {
     "end_time": "2018-10-19T19:00:05.381517Z",
     "start_time": "2018-10-19T18:59:43.189867Z"
    }
   },
   "outputs": [],
   "source": [
    "defused_fw_id_list = []\n",
    "for step, fw_id_dict in reduced_step_fizzled_dict.items():\n",
    "    for system_name, fw_id_lst in fw_id_dict.items():\n",
    "        for fw_id in fw_id_lst:\n",
    "            logging.info(\"Defuse {} : {} : {} and its children...\".format(\n",
    "                step, system_name, fw_id ) )\n",
    "            defused_fw_id_list.extend( jobadmin.defuse_children(fw_id) )\n",
    "        "
   ]
  },
  {
   "cell_type": "markdown",
   "metadata": {},
   "source": [
    "### Defuse misqueued step (and subsequent ones)"
   ]
  },
  {
   "cell_type": "code",
   "execution_count": 374,
   "metadata": {
    "ExecuteTime": {
     "end_time": "2018-10-19T19:27:16.009626Z",
     "start_time": "2018-10-19T19:27:15.902122Z"
    }
   },
   "outputs": [],
   "source": [
    "fw_id_dict = jobadmin.query_systems(system_names,step=\"equilibration_nvt\", state=[\"WAITING\"])"
   ]
  },
  {
   "cell_type": "code",
   "execution_count": 375,
   "metadata": {
    "ExecuteTime": {
     "end_time": "2018-10-19T19:27:16.681263Z",
     "start_time": "2018-10-19T19:27:16.617362Z"
    }
   },
   "outputs": [
    {
     "data": {
      "text/plain": [
       "{'1107_SDS_on_AU_111_51x30x2_cylinders_with_counterion': [10692],\n",
       " '1107_SDS_on_AU_111_51x30x2_hemicylinders_with_counterion': [10656],\n",
       " '1107_SDS_on_AU_111_51x30x2_monolayer_with_counterion': [],\n",
       " '129_SDS_on_AU_111_51x30x2_cylinders_with_counterion': [10657],\n",
       " '129_SDS_on_AU_111_51x30x2_hemicylinders_with_counterion': [10650],\n",
       " '220_SDS_on_AU_111_51x30x2_cylinders_with_counterion': [10646],\n",
       " '220_SDS_on_AU_111_51x30x2_hemicylinders_with_counterion': [10648],\n",
       " '2214_SDS_on_AU_111_51x30x2_bilayer_with_counterion': [10654],\n",
       " '2214_SDS_on_AU_111_51x30x2_cylinders_with_counterion': [10652],\n",
       " '2214_SDS_on_AU_111_51x30x2_hemicylinders_with_counterion': [10653],\n",
       " '2214_SDS_on_AU_111_51x30x2_monolayer_with_counterion': [10651],\n",
       " '377_SDS_on_AU_111_51x30x2_hemicylinders_with_counterion': [10647],\n",
       " '75_SDS_on_AU_111_51x30x2_cylinders_with_counterion': [10655],\n",
       " '75_SDS_on_AU_111_51x30x2_hemicylinders_with_counterion': [10649]}"
      ]
     },
     "execution_count": 375,
     "metadata": {},
     "output_type": "execute_result"
    }
   ],
   "source": [
    "fw_id_dict"
   ]
  },
  {
   "cell_type": "code",
   "execution_count": 376,
   "metadata": {
    "ExecuteTime": {
     "end_time": "2018-10-19T19:28:06.279650Z",
     "start_time": "2018-10-19T19:28:04.182207Z"
    }
   },
   "outputs": [],
   "source": [
    "defused_fw_id_list = []\n",
    "for system_name, fw_id_lst in fw_id_dict.items():\n",
    "    for fw_id in fw_id_lst:\n",
    "        logging.info(\"Defuse {} : {} : {} and its children...\".format(\n",
    "            step, system_name, fw_id ) )\n",
    "        defused_fw_id_list.extend( jobadmin.defuse_children(fw_id) )"
   ]
  },
  {
   "cell_type": "markdown",
   "metadata": {},
   "source": [
    "### Recover packmol runs\n",
    "packmol runs can fail due to walltime. However, often the (not yet converged) configurations are fine to use."
   ]
  },
  {
   "cell_type": "code",
   "execution_count": null,
   "metadata": {
    "ExecuteTime": {
     "end_time": "2018-09-06T11:57:06.456052Z",
     "start_time": "2018-09-06T11:57:05.454134Z"
    }
   },
   "outputs": [],
   "source": [
    "packmol_fw_id_dict = jobadmin.query_step(step='packmol')"
   ]
  },
  {
   "cell_type": "code",
   "execution_count": null,
   "metadata": {
    "ExecuteTime": {
     "end_time": "2018-09-06T11:57:23.232289Z",
     "start_time": "2018-09-06T11:57:23.116816Z"
    }
   },
   "outputs": [],
   "source": [
    "packmol_fw_id = packmol_fw_id_dict['1298_CTAB_on_AU_111_63x36x2_cylinders_with_counterion'][-1]"
   ]
  },
  {
   "cell_type": "code",
   "execution_count": null,
   "metadata": {
    "ExecuteTime": {
     "end_time": "2018-09-06T13:23:31.841371Z",
     "start_time": "2018-09-06T13:23:31.728892Z"
    }
   },
   "outputs": [],
   "source": [
    "packmol_fw_id"
   ]
  },
  {
   "cell_type": "code",
   "execution_count": null,
   "metadata": {
    "ExecuteTime": {
     "end_time": "2018-09-06T11:57:49.440455Z",
     "start_time": "2018-09-06T11:57:48.968994Z"
    }
   },
   "outputs": [],
   "source": [
    "packmol_launchdir = jobadmin.lpad.get_launchdir(packmol_fw_id)"
   ]
  },
  {
   "cell_type": "code",
   "execution_count": null,
   "metadata": {
    "ExecuteTime": {
     "end_time": "2018-09-06T12:02:17.550409Z",
     "start_time": "2018-09-06T12:02:16.966395Z"
    }
   },
   "outputs": [],
   "source": [
    "system_name = '1298_CTAB_on_AU_111_63x36x2_cylinders_with_counterion'"
   ]
  },
  {
   "cell_type": "code",
   "execution_count": null,
   "metadata": {
    "ExecuteTime": {
     "end_time": "2018-09-06T13:29:57.739405Z",
     "start_time": "2018-09-06T13:29:57.367822Z"
    }
   },
   "outputs": [],
   "source": [
    "# for systems with \"fizzled\" packmol tasks, append \"dummy\" restart parents\n",
    "# They run in the same directory as previous fizzled packmol and forward the latest configurations\n",
    "dummy_parent_fw_dict = {}\n",
    "for system_name in system_names:\n",
    "    packmol_launchdir = jobadmin.lpad.get_launchdir( \n",
    "        packmol_fw_id_dict[system_name][-1] )\n",
    "    dummy_parent_fw = Firework( [\n",
    "            DummyParentTask() \n",
    "        ],\n",
    "        spec = {\n",
    "            '_category':   jobadmin.std_worker,\n",
    "            '_launch_dir': packmol_launchdir,\n",
    "            '_files_out': {\n",
    "                'packmol_pdb': system_name + '_packmol.pdb',\n",
    "                'packmol_pdb_FORCED': system_name + '_packmol.pdb_FORCED'\n",
    "            },\n",
    "            'system_name': system_name,\n",
    "            'geninfo':     jobadmin.geninfo(),\n",
    "            'step':        'packmol_dummy'\n",
    "        },\n",
    "        name = system_name + '_dummy_parent'\n",
    "    )\n",
    "    dummy_parent_fw_dict[system_name] = dummy_parent_fw"
   ]
  },
  {
   "cell_type": "code",
   "execution_count": null,
   "metadata": {
    "ExecuteTime": {
     "end_time": "2018-09-06T13:30:19.510118Z",
     "start_time": "2018-09-06T13:30:18.581286Z"
    }
   },
   "outputs": [],
   "source": [
    "jobadmin.append_wf_by_key(dummy_parent_fw_dict, packmol_fw_id_dict)"
   ]
  },
  {
   "cell_type": "code",
   "execution_count": null,
   "metadata": {
    "ExecuteTime": {
     "end_time": "2018-09-06T13:31:08.448579Z",
     "start_time": "2018-09-06T13:31:07.976304Z"
    }
   },
   "outputs": [],
   "source": [
    "packmol_dummy_fw_id_dict = jobadmin.query_step('packmol_dummy')"
   ]
  },
  {
   "cell_type": "code",
   "execution_count": null,
   "metadata": {
    "ExecuteTime": {
     "end_time": "2018-09-06T13:31:13.108437Z",
     "start_time": "2018-09-06T13:31:12.950130Z"
    }
   },
   "outputs": [],
   "source": [
    "packmol_dummy_fw_id_dict"
   ]
  },
  {
   "cell_type": "code",
   "execution_count": null,
   "metadata": {
    "ExecuteTime": {
     "end_time": "2018-09-06T14:50:19.319671Z",
     "start_time": "2018-09-06T14:50:18.879649Z"
    }
   },
   "outputs": [],
   "source": [
    "system_names"
   ]
  },
  {
   "cell_type": "code",
   "execution_count": null,
   "metadata": {
    "ExecuteTime": {
     "end_time": "2018-09-06T13:34:08.426396Z",
     "start_time": "2018-09-06T13:34:08.240280Z"
    }
   },
   "outputs": [],
   "source": [
    "# delete previously written packmol results from db \n",
    "# (otherwise, will not be overwritten by recovered packmol results)\n",
    "for system_name in system_names:\n",
    "    file_id = system_name + '_psfgen.data'\n",
    "    jobadmin.fp.delete_file(file_id)"
   ]
  },
  {
   "cell_type": "code",
   "execution_count": null,
   "metadata": {
    "ExecuteTime": {
     "end_time": "2018-09-06T12:53:11.547444Z",
     "start_time": "2018-09-06T12:53:11.414084Z"
    }
   },
   "outputs": [],
   "source": [
    "# sample for a single packmol recovery task\n",
    "recover_packmol_fw = Firework( \n",
    "    RecoverPackmolTask( { \n",
    "        'dest':   output_prefix + os.sep + system_name,\n",
    "        'recover': True,\n",
    "        'glob_patterns': [ '*_restart.pack',\n",
    "            '*_packmol.pdb', '*_packmol.pdb_FORCED', '*_packmol.inp'],\n",
    "        'forward_glob_patterns': { \n",
    "            \"packmol_pdb\" : [\"*_packmol.pdb_FORCED\", \"*_packmol.pdb\"] }\n",
    "    } ),\n",
    "    spec = {\n",
    "        '_category':   jobadmin.std_worker,\n",
    "        '_files_in': {\n",
    "            'packmol_pdb': system_name + '_packmol.pdb',\n",
    "            'packmol_pdb_FORCED': system_name + '_packmol.pdb_FORCED'\n",
    "        },\n",
    "        'system_name': system_name,\n",
    "        'step':        'recover_packmol',\n",
    "        'geninfo':     jobadmin.geninfo()\n",
    "    },\n",
    "    name = system_name + '_recover_packmol'\n",
    ")"
   ]
  },
  {
   "cell_type": "code",
   "execution_count": null,
   "metadata": {
    "ExecuteTime": {
     "end_time": "2018-09-06T12:53:15.313006Z",
     "start_time": "2018-09-06T12:53:14.925926Z"
    }
   },
   "outputs": [],
   "source": [
    "jobadmin.lpad.append_wf( Workflow( [ recover_packmol_fw ] ), [8976] )"
   ]
  },
  {
   "cell_type": "markdown",
   "metadata": {},
   "source": [
    "## Append data file strorage\n",
    "after successfull production, insert final configurationms into database"
   ]
  },
  {
   "cell_type": "code",
   "execution_count": null,
   "metadata": {},
   "outputs": [],
   "source": [
    "# first, identify files not yet stored"
   ]
  },
  {
   "cell_type": "code",
   "execution_count": 320,
   "metadata": {
    "ExecuteTime": {
     "end_time": "2018-10-19T19:12:37.407871Z",
     "start_time": "2018-10-19T19:12:37.023472Z"
    }
   },
   "outputs": [],
   "source": [
    "# completed_productions_dict = jobadmin.query_systems(\n",
    "#     system_name_scope, step=\"10ns_production_mixed\", state=[\"COMPLETED\"])"
   ]
  },
  {
   "cell_type": "code",
   "execution_count": 414,
   "metadata": {
    "ExecuteTime": {
     "end_time": "2018-10-19T19:43:48.872802Z",
     "start_time": "2018-10-19T19:43:48.220720Z"
    }
   },
   "outputs": [],
   "source": [
    "completed_productions_dict = jobadmin.query_step(step=\"10ns_production_mixed\", state_list=[\"COMPLETED\"])"
   ]
  },
  {
   "cell_type": "code",
   "execution_count": 418,
   "metadata": {
    "ExecuteTime": {
     "end_time": "2018-10-19T19:45:00.642159Z",
     "start_time": "2018-10-19T19:45:00.008924Z"
    }
   },
   "outputs": [],
   "source": [
    "completed_store_data_file_dict = jobadmin.query_step(step=\"store_data_file\", state_list=[\"COMPLETED\"])"
   ]
  },
  {
   "cell_type": "code",
   "execution_count": 423,
   "metadata": {
    "ExecuteTime": {
     "end_time": "2018-10-19T19:47:12.319465Z",
     "start_time": "2018-10-19T19:47:12.258853Z"
    }
   },
   "outputs": [],
   "source": [
    "# only check for current system_name_scope\n",
    "system_names = list( \n",
    "    ( set(completed_10ns_productions_dict.keys()) - \n",
    "         set(completed_store_data_file_dict.keys() ) ) & set(system_name_scope)\n",
    ")\n",
    "\n",
    "# or for all systems\n",
    "# system_names = list(set(system_names) & set(system_name_scope))"
   ]
  },
  {
   "cell_type": "code",
   "execution_count": 415,
   "metadata": {
    "ExecuteTime": {
     "end_time": "2018-10-19T19:43:52.204601Z",
     "start_time": "2018-10-19T19:43:52.145898Z"
    }
   },
   "outputs": [],
   "source": [
    "uncompleted_productions_in_scope = set(system_name_scope) - set(completed_productions_dict.keys())"
   ]
  },
  {
   "cell_type": "code",
   "execution_count": null,
   "metadata": {
    "ExecuteTime": {
     "end_time": "2018-09-23T16:49:45.414006Z",
     "start_time": "2018-09-23T16:49:45.299573Z"
    }
   },
   "outputs": [],
   "source": [
    "fw_id_dict = jobadmin.query_systems(system_names, step='10ns_production_mixed', state='COMPLETED')"
   ]
  },
  {
   "cell_type": "code",
   "execution_count": null,
   "metadata": {
    "ExecuteTime": {
     "end_time": "2018-09-23T16:49:51.505618Z",
     "start_time": "2018-09-23T16:49:51.439099Z"
    }
   },
   "outputs": [],
   "source": [
    "fw_id_dict"
   ]
  },
  {
   "cell_type": "code",
   "execution_count": null,
   "metadata": {
    "ExecuteTime": {
     "end_time": "2018-09-23T16:50:12.509365Z",
     "start_time": "2018-09-23T16:50:12.446814Z"
    }
   },
   "outputs": [],
   "source": [
    "fw_dict = jobadmin.batch_prepare_fw( system_names, jobadmin.store_data_file )"
   ]
  },
  {
   "cell_type": "code",
   "execution_count": null,
   "metadata": {
    "ExecuteTime": {
     "end_time": "2018-09-23T16:50:13.196410Z",
     "start_time": "2018-09-23T16:50:13.134090Z"
    }
   },
   "outputs": [],
   "source": [
    "len(fw_dict)"
   ]
  },
  {
   "cell_type": "code",
   "execution_count": null,
   "metadata": {
    "ExecuteTime": {
     "end_time": "2018-09-23T16:50:15.359638Z",
     "start_time": "2018-09-23T16:50:14.586948Z"
    }
   },
   "outputs": [],
   "source": [
    "jobadmin.append_wf_by_key(fw_dict, fw_id_dict)"
   ]
  },
  {
   "cell_type": "code",
   "execution_count": null,
   "metadata": {},
   "outputs": [],
   "source": [
    "# identify fizzled fireworks and rerun"
   ]
  },
  {
   "cell_type": "code",
   "execution_count": null,
   "metadata": {
    "ExecuteTime": {
     "end_time": "2018-09-23T16:50:19.038611Z",
     "start_time": "2018-09-23T16:50:18.709605Z"
    }
   },
   "outputs": [],
   "source": [
    "fizzled_fw_id_dict = jobadmin.query_step(\n",
    "    step='store_data_file', \n",
    "    state_list=[\"FIZZLED\"])"
   ]
  },
  {
   "cell_type": "code",
   "execution_count": null,
   "metadata": {
    "ExecuteTime": {
     "end_time": "2018-09-23T16:50:20.453105Z",
     "start_time": "2018-09-23T16:50:20.356963Z"
    }
   },
   "outputs": [],
   "source": [
    "fizzled_fw_id_dict"
   ]
  },
  {
   "cell_type": "code",
   "execution_count": null,
   "metadata": {
    "ExecuteTime": {
     "end_time": "2018-09-17T22:04:04.852276Z",
     "start_time": "2018-09-17T22:04:04.652704Z"
    }
   },
   "outputs": [],
   "source": [
    "for key, fw_id_lst in fizzled_fw_id_dict.items():\n",
    "    jobadmin.lpad.rerun_fw(fw_id_lst[-1], rerun_duplicates=False)"
   ]
  },
  {
   "cell_type": "code",
   "execution_count": null,
   "metadata": {
    "ExecuteTime": {
     "end_time": "2018-09-17T21:56:07.466233Z",
     "start_time": "2018-09-17T21:56:07.078421Z"
    }
   },
   "outputs": [],
   "source": [
    "fizzled_fw_id_dict = jobadmin.query_systems(\n",
    "    system_names, \n",
    "    step='store_data_file', \n",
    "    state=[\"FIZZLED\"])"
   ]
  },
  {
   "cell_type": "markdown",
   "metadata": {},
   "source": [
    "# Indenter systems\n"
   ]
  },
  {
   "cell_type": "markdown",
   "metadata": {},
   "source": [
    "## Query finished interface productions"
   ]
  },
  {
   "cell_type": "code",
   "execution_count": null,
   "metadata": {
    "ExecuteTime": {
     "end_time": "2018-09-18T21:42:57.911467Z",
     "start_time": "2018-09-18T21:42:57.720753Z"
    }
   },
   "outputs": [],
   "source": [
    "# # original SDS systems without indenter\n",
    "# system_name_scope = list( sim_df[ \n",
    "#         sim_df['indenter'].isna() & \\\n",
    "#         (sim_df['surfactant'] == 'SDS')\n",
    "#     ].index )"
   ]
  },
  {
   "cell_type": "code",
   "execution_count": 426,
   "metadata": {
    "ExecuteTime": {
     "end_time": "2018-10-19T19:50:10.080258Z",
     "start_time": "2018-10-19T19:50:09.405658Z"
    }
   },
   "outputs": [],
   "source": [
    "fw_id_dict = jobadmin.query_step(\n",
    "    step='store_data_file', \n",
    "    state_list=[\"COMPLETED\", \"RUNNING\", \"READY\", \"WAITING\", \"RESERVED\"])"
   ]
  },
  {
   "cell_type": "code",
   "execution_count": 427,
   "metadata": {
    "ExecuteTime": {
     "end_time": "2018-10-19T19:50:10.794019Z",
     "start_time": "2018-10-19T19:50:10.737014Z"
    }
   },
   "outputs": [
    {
     "data": {
      "text/plain": [
       "49"
      ]
     },
     "execution_count": 427,
     "metadata": {},
     "output_type": "execute_result"
    }
   ],
   "source": [
    "len(fw_id_dict)"
   ]
  },
  {
   "cell_type": "code",
   "execution_count": 428,
   "metadata": {
    "ExecuteTime": {
     "end_time": "2018-10-19T19:50:15.982444Z",
     "start_time": "2018-10-19T19:50:15.925141Z"
    }
   },
   "outputs": [],
   "source": [
    "system_names = set(system_name_scope) & set(fw_id_dict.keys())"
   ]
  },
  {
   "cell_type": "code",
   "execution_count": 432,
   "metadata": {
    "ExecuteTime": {
     "end_time": "2018-10-19T20:09:00.850742Z",
     "start_time": "2018-10-19T20:09:00.789518Z"
    }
   },
   "outputs": [
    {
     "data": {
      "text/plain": [
       "13"
      ]
     },
     "execution_count": 432,
     "metadata": {},
     "output_type": "execute_result"
    }
   ],
   "source": [
    "len(system_names)"
   ]
  },
  {
   "cell_type": "markdown",
   "metadata": {},
   "source": [
    "## Workflow build up"
   ]
  },
  {
   "cell_type": "markdown",
   "metadata": {},
   "source": [
    "### Initiate indenter workflows"
   ]
  },
  {
   "cell_type": "code",
   "execution_count": 433,
   "metadata": {
    "ExecuteTime": {
     "end_time": "2018-10-19T20:09:04.190684Z",
     "start_time": "2018-10-19T20:09:04.132565Z"
    }
   },
   "outputs": [],
   "source": [
    "interface_file_suffix = '_10ns.lammps'\n",
    "indenter = '50Ang_stepped'\n",
    "indenter_file = '50Ang_stepped.pdb'"
   ]
  },
  {
   "cell_type": "code",
   "execution_count": 434,
   "metadata": {
    "ExecuteTime": {
     "end_time": "2018-10-19T20:09:14.694628Z",
     "start_time": "2018-10-19T20:09:14.636326Z"
    }
   },
   "outputs": [
    {
     "data": {
      "text/plain": [
       "13"
      ]
     },
     "execution_count": 434,
     "metadata": {},
     "output_type": "execute_result"
    }
   ],
   "source": [
    "len(system_names)"
   ]
  },
  {
   "cell_type": "code",
   "execution_count": 435,
   "metadata": {
    "ExecuteTime": {
     "end_time": "2018-10-19T20:09:16.606371Z",
     "start_time": "2018-10-19T20:09:16.547547Z"
    }
   },
   "outputs": [],
   "source": [
    "# construct names for new systems containing indenter\n",
    "indenter_system_names_dict = {}\n",
    "for system_name in system_names:\n",
    "    indenter_system_names_dict[ system_name + '_' + indenter ] = system_name "
   ]
  },
  {
   "cell_type": "code",
   "execution_count": 437,
   "metadata": {
    "ExecuteTime": {
     "end_time": "2018-10-19T20:12:36.235143Z",
     "start_time": "2018-10-19T20:12:35.979396Z"
    }
   },
   "outputs": [],
   "source": [
    "# SDS systems with indenter\n",
    "system_name_scope = list( sim_df[ \n",
    "        (sim_df['indenter'] ==  indenter) & \\\n",
    "        (sim_df['surfactant'] == 'SDS')\n",
    "    ].index )"
   ]
  },
  {
   "cell_type": "code",
   "execution_count": 440,
   "metadata": {
    "ExecuteTime": {
     "end_time": "2018-10-19T20:12:54.962612Z",
     "start_time": "2018-10-19T20:12:54.901339Z"
    }
   },
   "outputs": [],
   "source": [
    "system_names = set(indenter_system_names_dict.keys()) & set(system_name_scope)"
   ]
  },
  {
   "cell_type": "code",
   "execution_count": 441,
   "metadata": {
    "ExecuteTime": {
     "end_time": "2018-10-19T20:12:55.320100Z",
     "start_time": "2018-10-19T20:12:55.266882Z"
    }
   },
   "outputs": [
    {
     "data": {
      "text/plain": [
       "13"
      ]
     },
     "execution_count": 441,
     "metadata": {},
     "output_type": "execute_result"
    }
   ],
   "source": [
    "len(system_names)"
   ]
  },
  {
   "cell_type": "code",
   "execution_count": 444,
   "metadata": {
    "ExecuteTime": {
     "end_time": "2018-10-19T20:13:11.331823Z",
     "start_time": "2018-10-19T20:13:11.272165Z"
    }
   },
   "outputs": [
    {
     "data": {
      "text/plain": [
       "'Generated on Fri Oct 19 22:13:11 2018 by fr_jh1130@login1.nemo.privat'"
      ]
     },
     "execution_count": 444,
     "metadata": {},
     "output_type": "execute_result"
    }
   ],
   "source": [
    "jobadmin.geninfo(reset=True)"
   ]
  },
  {
   "cell_type": "code",
   "execution_count": 446,
   "metadata": {
    "ExecuteTime": {
     "end_time": "2018-10-19T20:15:22.714370Z",
     "start_time": "2018-10-19T20:15:22.420334Z"
    }
   },
   "outputs": [
    {
     "name": "stdout",
     "output_type": "stream",
     "text": [
      "2018-10-19 22:15:22,589 INFO Added a workflow. id_map: {-246: 10747}\n"
     ]
    },
    {
     "name": "stderr",
     "output_type": "stream",
     "text": [
      "INFO:launchpad:Added a workflow. id_map: {-246: 10747}\n"
     ]
    },
    {
     "name": "stdout",
     "output_type": "stream",
     "text": [
      "2018-10-19 22:15:22,596 INFO Added a workflow. id_map: {-247: 10748}\n"
     ]
    },
    {
     "name": "stderr",
     "output_type": "stream",
     "text": [
      "INFO:launchpad:Added a workflow. id_map: {-247: 10748}\n"
     ]
    },
    {
     "name": "stdout",
     "output_type": "stream",
     "text": [
      "2018-10-19 22:15:22,603 INFO Added a workflow. id_map: {-248: 10749}\n"
     ]
    },
    {
     "name": "stderr",
     "output_type": "stream",
     "text": [
      "INFO:launchpad:Added a workflow. id_map: {-248: 10749}\n"
     ]
    },
    {
     "name": "stdout",
     "output_type": "stream",
     "text": [
      "2018-10-19 22:15:22,610 INFO Added a workflow. id_map: {-249: 10750}\n"
     ]
    },
    {
     "name": "stderr",
     "output_type": "stream",
     "text": [
      "INFO:launchpad:Added a workflow. id_map: {-249: 10750}\n"
     ]
    },
    {
     "name": "stdout",
     "output_type": "stream",
     "text": [
      "2018-10-19 22:15:22,617 INFO Added a workflow. id_map: {-250: 10751}\n"
     ]
    },
    {
     "name": "stderr",
     "output_type": "stream",
     "text": [
      "INFO:launchpad:Added a workflow. id_map: {-250: 10751}\n"
     ]
    },
    {
     "name": "stdout",
     "output_type": "stream",
     "text": [
      "2018-10-19 22:15:22,623 INFO Added a workflow. id_map: {-251: 10752}\n"
     ]
    },
    {
     "name": "stderr",
     "output_type": "stream",
     "text": [
      "INFO:launchpad:Added a workflow. id_map: {-251: 10752}\n"
     ]
    },
    {
     "name": "stdout",
     "output_type": "stream",
     "text": [
      "2018-10-19 22:15:22,629 INFO Added a workflow. id_map: {-252: 10753}\n"
     ]
    },
    {
     "name": "stderr",
     "output_type": "stream",
     "text": [
      "INFO:launchpad:Added a workflow. id_map: {-252: 10753}\n"
     ]
    },
    {
     "name": "stdout",
     "output_type": "stream",
     "text": [
      "2018-10-19 22:15:22,635 INFO Added a workflow. id_map: {-253: 10754}\n"
     ]
    },
    {
     "name": "stderr",
     "output_type": "stream",
     "text": [
      "INFO:launchpad:Added a workflow. id_map: {-253: 10754}\n"
     ]
    },
    {
     "name": "stdout",
     "output_type": "stream",
     "text": [
      "2018-10-19 22:15:22,641 INFO Added a workflow. id_map: {-254: 10755}\n"
     ]
    },
    {
     "name": "stderr",
     "output_type": "stream",
     "text": [
      "INFO:launchpad:Added a workflow. id_map: {-254: 10755}\n"
     ]
    },
    {
     "name": "stdout",
     "output_type": "stream",
     "text": [
      "2018-10-19 22:15:22,647 INFO Added a workflow. id_map: {-255: 10756}\n"
     ]
    },
    {
     "name": "stderr",
     "output_type": "stream",
     "text": [
      "INFO:launchpad:Added a workflow. id_map: {-255: 10756}\n"
     ]
    },
    {
     "name": "stdout",
     "output_type": "stream",
     "text": [
      "2018-10-19 22:15:22,653 INFO Added a workflow. id_map: {-256: 10757}\n"
     ]
    },
    {
     "name": "stderr",
     "output_type": "stream",
     "text": [
      "INFO:launchpad:Added a workflow. id_map: {-256: 10757}\n"
     ]
    },
    {
     "name": "stdout",
     "output_type": "stream",
     "text": [
      "2018-10-19 22:15:22,659 INFO Added a workflow. id_map: {-257: 10758}\n"
     ]
    },
    {
     "name": "stderr",
     "output_type": "stream",
     "text": [
      "INFO:launchpad:Added a workflow. id_map: {-257: 10758}\n"
     ]
    },
    {
     "name": "stdout",
     "output_type": "stream",
     "text": [
      "2018-10-19 22:15:22,709 INFO Added a workflow. id_map: {-258: 10759}\n"
     ]
    },
    {
     "name": "stderr",
     "output_type": "stream",
     "text": [
      "INFO:launchpad:Added a workflow. id_map: {-258: 10759}\n"
     ]
    }
   ],
   "source": [
    "for system_name in system_names:\n",
    "    interface_file = indenter_system_names_dict[system_name] + interface_file_suffix\n",
    "    fw = jobadmin.initiate_indenter_workflow(\n",
    "        system_name, \n",
    "        interface_file = interface_file, \n",
    "        indenter_file  = indenter_file )\n",
    "    jobadmin.lpad.add_wf( Workflow( [ fw ], name = system_name ) )"
   ]
  },
  {
   "cell_type": "code",
   "execution_count": 447,
   "metadata": {
    "ExecuteTime": {
     "end_time": "2018-10-19T20:15:54.417117Z",
     "start_time": "2018-10-19T20:15:54.360500Z"
    }
   },
   "outputs": [
    {
     "data": {
      "text/plain": [
       "'convert \"{infile:s}\" \"{outfile:s}\"'"
      ]
     },
     "execution_count": 447,
     "metadata": {},
     "output_type": "execute_result"
    }
   ],
   "source": [
    "# convert is used to turn tga into png (not crucial)\n",
    "jobadmin._template_convert_cmd"
   ]
  },
  {
   "cell_type": "markdown",
   "metadata": {},
   "source": [
    "### Indenter insertion"
   ]
  },
  {
   "cell_type": "code",
   "execution_count": 463,
   "metadata": {
    "ExecuteTime": {
     "end_time": "2018-10-19T20:22:59.844040Z",
     "start_time": "2018-10-19T20:22:59.633316Z"
    }
   },
   "outputs": [
    {
     "data": {
      "text/plain": [
       "{'1107_SDS_on_AU_111_51x30x2_bilayer_with_counterion_50Ang_stepped',\n",
       " '129_SDS_on_AU_111_51x30x2_monolayer_with_counterion_50Ang_stepped',\n",
       " '220_SDS_on_AU_111_51x30x2_bilayer_with_counterion_50Ang_stepped',\n",
       " '220_SDS_on_AU_111_51x30x2_monolayer_with_counterion_50Ang_stepped',\n",
       " '377_SDS_on_AU_111_51x30x2_bilayer_with_counterion_50Ang_stepped',\n",
       " '377_SDS_on_AU_111_51x30x2_cylinders_with_counterion_50Ang_stepped',\n",
       " '377_SDS_on_AU_111_51x30x2_monolayer_with_counterion_50Ang_stepped',\n",
       " '646_SDS_on_AU_111_51x30x2_bilayer_with_counterion_50Ang_stepped',\n",
       " '646_SDS_on_AU_111_51x30x2_cylinders_with_counterion_50Ang_stepped',\n",
       " '646_SDS_on_AU_111_51x30x2_hemicylinders_with_counterion_50Ang_stepped',\n",
       " '646_SDS_on_AU_111_51x30x2_monolayer_with_counterion_50Ang_stepped',\n",
       " '75_SDS_on_AU_111_51x30x2_bilayer_with_counterion_50Ang_stepped',\n",
       " '75_SDS_on_AU_111_51x30x2_monolayer_with_counterion_50Ang_stepped'}"
      ]
     },
     "execution_count": 463,
     "metadata": {},
     "output_type": "execute_result"
    }
   ],
   "source": [
    "system_names"
   ]
  },
  {
   "cell_type": "code",
   "execution_count": 449,
   "metadata": {
    "ExecuteTime": {
     "end_time": "2018-10-19T20:16:16.584671Z",
     "start_time": "2018-10-19T20:16:16.366466Z"
    }
   },
   "outputs": [],
   "source": [
    "# fw_id_dict = jobadmin.query_systems(\n",
    "#     system_names,\n",
    "#     step='initiate_indenter_workflow', \n",
    "#     state=[\"COMPLETED\", \"RUNNING\", \"READY\", \"WAITING\", \"RESERVED\"])"
   ]
  },
  {
   "cell_type": "code",
   "execution_count": 471,
   "metadata": {
    "ExecuteTime": {
     "end_time": "2018-10-19T20:28:03.248340Z",
     "start_time": "2018-10-19T20:27:56.321924Z"
    }
   },
   "outputs": [],
   "source": [
    "to_insert_indenter = jobadmin.identifyIncompleteWorkflowsInScope(\n",
    "    precedent_step_name='initiate_indenter_workflow',\n",
    "    subsequent_step_name='indenter_insertion',\n",
    "    system_name_scope=system_name_scope)"
   ]
  },
  {
   "cell_type": "code",
   "execution_count": 473,
   "metadata": {
    "ExecuteTime": {
     "end_time": "2018-10-19T20:28:15.068051Z",
     "start_time": "2018-10-19T20:28:15.009796Z"
    }
   },
   "outputs": [],
   "source": [
    "fw_id_dict = to_insert_indenter"
   ]
  },
  {
   "cell_type": "code",
   "execution_count": 474,
   "metadata": {
    "ExecuteTime": {
     "end_time": "2018-10-19T20:28:15.423375Z",
     "start_time": "2018-10-19T20:28:15.368680Z"
    }
   },
   "outputs": [],
   "source": [
    "indenter_insertion_wrapper = lambda system_name: \\\n",
    "    jobadmin.indenter_insertion(\n",
    "        system_name, fworker='nemo_noqueue', desired_distance=100.0 ) # Ang"
   ]
  },
  {
   "cell_type": "code",
   "execution_count": 475,
   "metadata": {
    "ExecuteTime": {
     "end_time": "2018-10-19T20:28:19.294612Z",
     "start_time": "2018-10-19T20:28:19.230154Z"
    }
   },
   "outputs": [],
   "source": [
    "fw_dict = jobadmin.batch_prepare_fw( system_names, indenter_insertion_wrapper )"
   ]
  },
  {
   "cell_type": "code",
   "execution_count": 476,
   "metadata": {
    "ExecuteTime": {
     "end_time": "2018-10-19T20:28:24.597107Z",
     "start_time": "2018-10-19T20:28:24.303592Z"
    }
   },
   "outputs": [
    {
     "name": "stdout",
     "output_type": "stream",
     "text": [
      "Append 1107_SDS_on_AU_111_51x30x2_bilayer_with_counterion_50Ang_stepped to last fw_id in list [10747]\n",
      "Append 377_SDS_on_AU_111_51x30x2_cylinders_with_counterion_50Ang_stepped to last fw_id in list [10748]\n",
      "Append 220_SDS_on_AU_111_51x30x2_bilayer_with_counterion_50Ang_stepped to last fw_id in list [10749]\n",
      "Append 129_SDS_on_AU_111_51x30x2_monolayer_with_counterion_50Ang_stepped to last fw_id in list [10750]\n",
      "Append 75_SDS_on_AU_111_51x30x2_monolayer_with_counterion_50Ang_stepped to last fw_id in list [10751]\n",
      "Append 646_SDS_on_AU_111_51x30x2_monolayer_with_counterion_50Ang_stepped to last fw_id in list [10752]\n",
      "Append 220_SDS_on_AU_111_51x30x2_monolayer_with_counterion_50Ang_stepped to last fw_id in list [10753]\n",
      "Append 75_SDS_on_AU_111_51x30x2_bilayer_with_counterion_50Ang_stepped to last fw_id in list [10754]\n",
      "Append 377_SDS_on_AU_111_51x30x2_monolayer_with_counterion_50Ang_stepped to last fw_id in list [10755]\n",
      "Append 377_SDS_on_AU_111_51x30x2_bilayer_with_counterion_50Ang_stepped to last fw_id in list [10756]\n",
      "Append 646_SDS_on_AU_111_51x30x2_bilayer_with_counterion_50Ang_stepped to last fw_id in list [10757]\n",
      "Append 646_SDS_on_AU_111_51x30x2_cylinders_with_counterion_50Ang_stepped to last fw_id in list [10758]\n",
      "Append 646_SDS_on_AU_111_51x30x2_hemicylinders_with_counterion_50Ang_stepped to last fw_id in list [10759]\n"
     ]
    }
   ],
   "source": [
    "jobadmin.append_wf_by_key( fw_dict, fw_id_dict )"
   ]
  },
  {
   "cell_type": "markdown",
   "metadata": {},
   "source": [
    "### Datafile merge"
   ]
  },
  {
   "cell_type": "code",
   "execution_count": null,
   "metadata": {
    "ExecuteTime": {
     "end_time": "2018-09-18T22:52:53.011098Z",
     "start_time": "2018-09-18T22:52:52.825779Z"
    }
   },
   "outputs": [],
   "source": [
    "# fw_id_dict = jobadmin.query_systems(\n",
    "#     system_names,\n",
    "#     step='indenter_insertion', \n",
    "#     state=[\"COMPLETED\", \"RUNNING\", \"READY\", \"WAITING\", \"RESERVED\"])"
   ]
  },
  {
   "cell_type": "code",
   "execution_count": 500,
   "metadata": {
    "ExecuteTime": {
     "end_time": "2018-10-19T22:34:39.180798Z",
     "start_time": "2018-10-19T22:34:25.629854Z"
    }
   },
   "outputs": [
    {
     "name": "stderr",
     "output_type": "stream",
     "text": [
      "WARNING:root:1 systems not present at all in subsequent step.\n"
     ]
    }
   ],
   "source": [
    "to_merge_datafiles = jobadmin.identifyIncompleteWorkflowsInScope(\n",
    "    precedent_step_name='indenter_insertion',\n",
    "    subsequent_step_name='pizzapy_merge',\n",
    "    system_name_scope=system_name_scope)"
   ]
  },
  {
   "cell_type": "code",
   "execution_count": 502,
   "metadata": {
    "ExecuteTime": {
     "end_time": "2018-10-19T22:35:59.489450Z",
     "start_time": "2018-10-19T22:35:59.434932Z"
    }
   },
   "outputs": [],
   "source": [
    "fw_id_dict = to_merge_datafiles"
   ]
  },
  {
   "cell_type": "code",
   "execution_count": 503,
   "metadata": {
    "ExecuteTime": {
     "end_time": "2018-10-19T22:36:02.866231Z",
     "start_time": "2018-10-19T22:36:02.807258Z"
    }
   },
   "outputs": [
    {
     "data": {
      "text/plain": [
       "'module use ${{HOME}}/modulefiles; type deactivate && deactivate; module --force purge; module load devel/python/2.7.14 mpi/openmpi/2.1-gnu-4.8; source ${{HOME}}/venv/jlh-nemo-python-2.7/bin/activate; module load jlh/mdtools/26Jun18-jlh-python-2.7; pizza.py -f merge.py \"{datafile:s}\" \"{reffile:s}\" \"{outfile:s}\"'"
      ]
     },
     "execution_count": 503,
     "metadata": {},
     "output_type": "execute_result"
    }
   ],
   "source": [
    "jobadmin._template_pizzapy_merge_cmd"
   ]
  },
  {
   "cell_type": "code",
   "execution_count": 504,
   "metadata": {
    "ExecuteTime": {
     "end_time": "2018-10-19T22:36:04.891894Z",
     "start_time": "2018-10-19T22:36:04.836008Z"
    }
   },
   "outputs": [],
   "source": [
    "merge_datafile_wrapper = lambda system_name: \\\n",
    "    jobadmin.add_parameters_to_datafile_and_store(\n",
    "        system_name, indenter_suffix = '_50Ang_stepped' )"
   ]
  },
  {
   "cell_type": "code",
   "execution_count": 506,
   "metadata": {
    "ExecuteTime": {
     "end_time": "2018-10-19T22:36:47.493695Z",
     "start_time": "2018-10-19T22:36:47.351325Z"
    }
   },
   "outputs": [],
   "source": [
    "fw_dict = jobadmin.batch_prepare_fw(system_names, \n",
    "                                    merge_datafile_wrapper)"
   ]
  },
  {
   "cell_type": "code",
   "execution_count": 507,
   "metadata": {
    "ExecuteTime": {
     "end_time": "2018-10-19T22:36:49.438446Z",
     "start_time": "2018-10-19T22:36:49.006096Z"
    }
   },
   "outputs": [
    {
     "name": "stdout",
     "output_type": "stream",
     "text": [
      "Append 1107_SDS_on_AU_111_51x30x2_bilayer_with_counterion_50Ang_stepped to last fw_id in list [10773]\n",
      "Append 377_SDS_on_AU_111_51x30x2_cylinders_with_counterion_50Ang_stepped to last fw_id in list [10774]\n",
      "Append 220_SDS_on_AU_111_51x30x2_bilayer_with_counterion_50Ang_stepped to last fw_id in list [10775]\n",
      "Append 129_SDS_on_AU_111_51x30x2_monolayer_with_counterion_50Ang_stepped to last fw_id in list [10776]\n",
      "Append 75_SDS_on_AU_111_51x30x2_monolayer_with_counterion_50Ang_stepped to last fw_id in list [10777]\n",
      "Append 646_SDS_on_AU_111_51x30x2_monolayer_with_counterion_50Ang_stepped to last fw_id in list [10778]\n",
      "Append 220_SDS_on_AU_111_51x30x2_monolayer_with_counterion_50Ang_stepped to last fw_id in list [10779]\n",
      "Append 75_SDS_on_AU_111_51x30x2_bilayer_with_counterion_50Ang_stepped to last fw_id in list [10780]\n",
      "Append 377_SDS_on_AU_111_51x30x2_monolayer_with_counterion_50Ang_stepped to last fw_id in list [10781]\n",
      "Append 377_SDS_on_AU_111_51x30x2_bilayer_with_counterion_50Ang_stepped to last fw_id in list [10782]\n",
      "Append 646_SDS_on_AU_111_51x30x2_bilayer_with_counterion_50Ang_stepped to last fw_id in list [10783]\n",
      "Append 646_SDS_on_AU_111_51x30x2_cylinders_with_counterion_50Ang_stepped to last fw_id in list [10784]\n",
      "Append 646_SDS_on_AU_111_51x30x2_hemicylinders_with_counterion_50Ang_stepped to last fw_id in list [10785]\n"
     ]
    }
   ],
   "source": [
    "jobadmin.append_wf_by_key(fw_dict, fw_id_dict)"
   ]
  },
  {
   "cell_type": "markdown",
   "metadata": {},
   "source": [
    "### Pull file from DB (migrate machine)\n",
    "this step is only necessary if changeing file system for subsequent steps"
   ]
  },
  {
   "cell_type": "code",
   "execution_count": null,
   "metadata": {
    "ExecuteTime": {
     "end_time": "2018-09-19T09:17:34.959374Z",
     "start_time": "2018-09-19T09:17:34.802896Z"
    }
   },
   "outputs": [],
   "source": [
    "fw_id_dict = jobadmin.query_systems(\n",
    "    system_names,\n",
    "    step='pizzapy_merge', \n",
    "    state=[\"COMPLETED\", \"RUNNING\", \"READY\", \"WAITING\", \"RESERVED\"])"
   ]
  },
  {
   "cell_type": "code",
   "execution_count": null,
   "metadata": {
    "ExecuteTime": {
     "end_time": "2018-09-19T09:28:32.434691Z",
     "start_time": "2018-09-19T09:28:32.200557Z"
    }
   },
   "outputs": [],
   "source": [
    "fw_dict = jobadmin.batch_prepare_fw( system_names, \n",
    "                                   jobadmin.pull_datafile_from_db )"
   ]
  },
  {
   "cell_type": "code",
   "execution_count": null,
   "metadata": {
    "ExecuteTime": {
     "end_time": "2018-09-19T09:28:33.714180Z",
     "start_time": "2018-09-19T09:28:33.653884Z"
    }
   },
   "outputs": [],
   "source": [
    "fw_dict['1010_CTAB_on_AU_111_63x36x2_bilayer_with_counterion_50Ang_stepped']"
   ]
  },
  {
   "cell_type": "code",
   "execution_count": null,
   "metadata": {
    "ExecuteTime": {
     "end_time": "2018-09-19T09:28:43.276694Z",
     "start_time": "2018-09-19T09:28:42.790409Z"
    }
   },
   "outputs": [],
   "source": [
    "jobadmin.append_wf_by_key(fw_dict, fw_id_dict)"
   ]
  },
  {
   "cell_type": "markdown",
   "metadata": {},
   "source": [
    "### Minimization"
   ]
  },
  {
   "cell_type": "code",
   "execution_count": 514,
   "metadata": {
    "ExecuteTime": {
     "end_time": "2018-10-19T22:40:59.807801Z",
     "start_time": "2018-10-19T22:40:59.308694Z"
    }
   },
   "outputs": [
    {
     "data": {
      "text/plain": [
       "{'nodes': 1, 'walltime': '04:00:00'}"
      ]
     },
     "execution_count": 514,
     "metadata": {},
     "output_type": "execute_result"
    }
   ],
   "source": [
    "jobadmin.minimization_queueadapter"
   ]
  },
  {
   "cell_type": "code",
   "execution_count": 493,
   "metadata": {
    "ExecuteTime": {
     "end_time": "2018-10-19T20:48:02.538223Z",
     "start_time": "2018-10-19T20:48:01.708908Z"
    }
   },
   "outputs": [],
   "source": [
    "fw_id_dict = jobadmin.query_systems(\n",
    "    system_names,\n",
    "    step='pizzapy_merge', \n",
    "    state=[\"COMPLETED\", \"RUNNING\", \"READY\", \"WAITING\", \"RESERVED\"])"
   ]
  },
  {
   "cell_type": "code",
   "execution_count": 508,
   "metadata": {
    "ExecuteTime": {
     "end_time": "2018-10-19T22:39:50.130030Z",
     "start_time": "2018-10-19T22:38:06.710328Z"
    }
   },
   "outputs": [
    {
     "name": "stderr",
     "output_type": "stream",
     "text": [
      "WARNING:root:1 systems not present at all in subsequent step.\n"
     ]
    }
   ],
   "source": [
    "fw_id_dict = jobadmin.identifyIncompleteWorkflowsInScope(\n",
    "     precedent_step_name='pizzapy_merge',\n",
    "     subsequent_step_name='minimization',\n",
    "     system_name_scope=system_name_scope)"
   ]
  },
  {
   "cell_type": "code",
   "execution_count": 509,
   "metadata": {
    "ExecuteTime": {
     "end_time": "2018-10-19T22:40:05.151765Z",
     "start_time": "2018-10-19T22:40:05.064580Z"
    }
   },
   "outputs": [],
   "source": [
    "minimize_wrapper = lambda system_name: jobadmin.minimize(\n",
    "    system_name,\n",
    "    lmp_suffix_template=' '.join((\n",
    "        '-v baseName {baseName:s} -v dataFile {dataFile:s} -v has_indenter 1 -v mpiio 0',\n",
    "        '-v robust_minimization 0 -v pbc2d 0 -v compute_interactions 0 -v store_forces 0',\n",
    "        '-v freeze_substrate 1 -v surfactant_name SDS')))"
   ]
  },
  {
   "cell_type": "code",
   "execution_count": 512,
   "metadata": {
    "ExecuteTime": {
     "end_time": "2018-10-19T22:40:40.407951Z",
     "start_time": "2018-10-19T22:40:40.295994Z"
    }
   },
   "outputs": [],
   "source": [
    "fw_dict = jobadmin.batch_prepare_fw( system_names, minimize_wrapper )"
   ]
  },
  {
   "cell_type": "code",
   "execution_count": 513,
   "metadata": {
    "ExecuteTime": {
     "end_time": "2018-10-19T22:40:43.934035Z",
     "start_time": "2018-10-19T22:40:42.710127Z"
    }
   },
   "outputs": [
    {
     "name": "stdout",
     "output_type": "stream",
     "text": [
      "Append 1107_SDS_on_AU_111_51x30x2_bilayer_with_counterion_50Ang_stepped to last fw_id in list [10812]\n",
      "Append 377_SDS_on_AU_111_51x30x2_cylinders_with_counterion_50Ang_stepped to last fw_id in list [10813]\n",
      "Append 220_SDS_on_AU_111_51x30x2_bilayer_with_counterion_50Ang_stepped to last fw_id in list [10814]\n",
      "Append 129_SDS_on_AU_111_51x30x2_monolayer_with_counterion_50Ang_stepped to last fw_id in list [10815]\n",
      "Append 75_SDS_on_AU_111_51x30x2_monolayer_with_counterion_50Ang_stepped to last fw_id in list [10816]\n",
      "Append 646_SDS_on_AU_111_51x30x2_monolayer_with_counterion_50Ang_stepped to last fw_id in list [10817]\n",
      "Append 220_SDS_on_AU_111_51x30x2_monolayer_with_counterion_50Ang_stepped to last fw_id in list [10818]\n",
      "Append 75_SDS_on_AU_111_51x30x2_bilayer_with_counterion_50Ang_stepped to last fw_id in list [10819]\n",
      "Append 377_SDS_on_AU_111_51x30x2_monolayer_with_counterion_50Ang_stepped to last fw_id in list [10820]\n",
      "Append 377_SDS_on_AU_111_51x30x2_bilayer_with_counterion_50Ang_stepped to last fw_id in list [10821]\n",
      "Append 646_SDS_on_AU_111_51x30x2_bilayer_with_counterion_50Ang_stepped to last fw_id in list [10822]\n",
      "Append 646_SDS_on_AU_111_51x30x2_cylinders_with_counterion_50Ang_stepped to last fw_id in list [10823]\n",
      "Append 646_SDS_on_AU_111_51x30x2_hemicylinders_with_counterion_50Ang_stepped to last fw_id in list [10824]\n"
     ]
    }
   ],
   "source": [
    "jobadmin.append_wf_by_key( fw_dict, fw_id_dict )"
   ]
  },
  {
   "cell_type": "markdown",
   "metadata": {},
   "source": [
    "### NPT equilibration"
   ]
  },
  {
   "cell_type": "code",
   "execution_count": 518,
   "metadata": {
    "ExecuteTime": {
     "end_time": "2018-10-19T22:50:44.757601Z",
     "start_time": "2018-10-19T22:50:44.701171Z"
    }
   },
   "outputs": [],
   "source": [
    "# fw_id_dict = jobadmin.query_systems(\n",
    "#     system_names,\n",
    "#     step='minimization', \n",
    "#     state=[\"COMPLETED\", \"RUNNING\", \"READY\", \"WAITING\", \"RESERVED\"])"
   ]
  },
  {
   "cell_type": "code",
   "execution_count": 515,
   "metadata": {
    "ExecuteTime": {
     "end_time": "2018-10-19T22:45:49.179616Z",
     "start_time": "2018-10-19T22:44:44.563913Z"
    }
   },
   "outputs": [],
   "source": [
    "fw_id_dict = jobadmin.identifyIncompleteWorkflowsInScope(\n",
    "     precedent_step_name='minimization',\n",
    "     subsequent_step_name='equilibration_npt',\n",
    "     system_name_scope=system_name_scope)"
   ]
  },
  {
   "cell_type": "code",
   "execution_count": 519,
   "metadata": {
    "ExecuteTime": {
     "end_time": "2018-10-19T22:54:15.616495Z",
     "start_time": "2018-10-19T22:54:15.454884Z"
    }
   },
   "outputs": [],
   "source": [
    "nptEquilibrate_wrapper = lambda system_name: jobadmin.nptEquilibrate(\n",
    "    system_name,\n",
    "    lmp_suffix_template=' '.join((\n",
    "        '-v baseName {baseName:s} -v dataFile {dataFile:s} -v has_indenter 1',\n",
    "        '-v pbd2d 0 -v reinitialize_velocities 1 -v nptEqSteps 10000',\n",
    "        '-v pbc2d 0 -v compute_interactions 0 -v store_forces 0',\n",
    "        '-v mpiio 0 -v surfactant_name SDS')))"
   ]
  },
  {
   "cell_type": "code",
   "execution_count": 520,
   "metadata": {
    "ExecuteTime": {
     "end_time": "2018-10-19T22:54:30.474808Z",
     "start_time": "2018-10-19T22:54:30.417351Z"
    }
   },
   "outputs": [],
   "source": [
    "fw_dict = jobadmin.batch_prepare_fw( system_names, nptEquilibrate_wrapper )"
   ]
  },
  {
   "cell_type": "code",
   "execution_count": 521,
   "metadata": {
    "ExecuteTime": {
     "end_time": "2018-10-19T22:54:31.316150Z",
     "start_time": "2018-10-19T22:54:30.810349Z"
    }
   },
   "outputs": [
    {
     "name": "stdout",
     "output_type": "stream",
     "text": [
      "Append 1107_SDS_on_AU_111_51x30x2_bilayer_with_counterion_50Ang_stepped to last fw_id in list [10825]\n",
      "Append 377_SDS_on_AU_111_51x30x2_cylinders_with_counterion_50Ang_stepped to last fw_id in list [10826]\n",
      "Append 220_SDS_on_AU_111_51x30x2_bilayer_with_counterion_50Ang_stepped to last fw_id in list [10827]\n",
      "Append 129_SDS_on_AU_111_51x30x2_monolayer_with_counterion_50Ang_stepped to last fw_id in list [10828]\n",
      "Append 75_SDS_on_AU_111_51x30x2_monolayer_with_counterion_50Ang_stepped to last fw_id in list [10829]\n",
      "Append 646_SDS_on_AU_111_51x30x2_monolayer_with_counterion_50Ang_stepped to last fw_id in list [10830]\n",
      "Append 220_SDS_on_AU_111_51x30x2_monolayer_with_counterion_50Ang_stepped to last fw_id in list [10831]\n",
      "Append 75_SDS_on_AU_111_51x30x2_bilayer_with_counterion_50Ang_stepped to last fw_id in list [10832]\n",
      "Append 377_SDS_on_AU_111_51x30x2_monolayer_with_counterion_50Ang_stepped to last fw_id in list [10833]\n",
      "Append 377_SDS_on_AU_111_51x30x2_bilayer_with_counterion_50Ang_stepped to last fw_id in list [10834]\n",
      "Append 646_SDS_on_AU_111_51x30x2_bilayer_with_counterion_50Ang_stepped to last fw_id in list [10835]\n",
      "Append 646_SDS_on_AU_111_51x30x2_cylinders_with_counterion_50Ang_stepped to last fw_id in list [10836]\n",
      "Append 646_SDS_on_AU_111_51x30x2_hemicylinders_with_counterion_50Ang_stepped to last fw_id in list [10837]\n"
     ]
    }
   ],
   "source": [
    "jobadmin.append_wf_by_key(fw_dict, fw_id_dict)"
   ]
  },
  {
   "cell_type": "markdown",
   "metadata": {},
   "source": [
    "### Colvars"
   ]
  },
  {
   "cell_type": "code",
   "execution_count": null,
   "metadata": {
    "ExecuteTime": {
     "end_time": "2018-09-22T15:43:56.163611Z",
     "start_time": "2018-09-22T15:43:56.111007Z"
    }
   },
   "outputs": [],
   "source": [
    "system_names"
   ]
  },
  {
   "cell_type": "code",
   "execution_count": 525,
   "metadata": {
    "ExecuteTime": {
     "end_time": "2018-10-19T23:18:02.016413Z",
     "start_time": "2018-10-19T23:18:01.628092Z"
    }
   },
   "outputs": [],
   "source": [
    "fw_id_dict = jobadmin.query_systems(\n",
    "    system_names,\n",
    "    step='equilibration_npt', \n",
    "    state=[\"COMPLETED\", \"RUNNING\", \"READY\", \"WAITING\", \"RESERVED\"])"
   ]
  },
  {
   "cell_type": "code",
   "execution_count": 523,
   "metadata": {
    "ExecuteTime": {
     "end_time": "2018-10-19T23:17:07.540686Z",
     "start_time": "2018-10-19T23:16:23.559669Z"
    }
   },
   "outputs": [
    {
     "name": "stderr",
     "output_type": "stream",
     "text": [
      "WARNING:root:90 systems not present at all in subsequent step.\n"
     ]
    }
   ],
   "source": [
    "fw_id_dict = jobadmin.identifyIncompleteWorkflowsInScope(\n",
    "     precedent_step_name='equilibration_npt',\n",
    "     subsequent_step_name='production',\n",
    "     system_name_scope=system_name_scope)"
   ]
  },
  {
   "cell_type": "code",
   "execution_count": null,
   "metadata": {
    "ExecuteTime": {
     "end_time": "2018-09-22T15:44:03.487717Z",
     "start_time": "2018-09-22T15:44:03.436060Z"
    }
   },
   "outputs": [],
   "source": [
    "system_names = [ system_name for system_name, fw_ids in fw_id_dict.items() if len(fw_ids) > 0 ]"
   ]
  },
  {
   "cell_type": "code",
   "execution_count": 527,
   "metadata": {
    "ExecuteTime": {
     "end_time": "2018-10-19T23:18:21.264002Z",
     "start_time": "2018-10-19T23:18:21.205802Z"
    }
   },
   "outputs": [],
   "source": [
    "jobadmin.production_queueadapter['nodes'] = 8"
   ]
  },
  {
   "cell_type": "code",
   "execution_count": 528,
   "metadata": {
    "ExecuteTime": {
     "end_time": "2018-10-19T23:18:21.838660Z",
     "start_time": "2018-10-19T23:18:21.779172Z"
    }
   },
   "outputs": [],
   "source": [
    "jobadmin.production_queueadapter['walltime'] = '96:00:00'"
   ]
  },
  {
   "cell_type": "code",
   "execution_count": null,
   "metadata": {},
   "outputs": [],
   "source": [
    "jobadmin._template_lmp_cmd # double-check usage of correct LAMMPS command"
   ]
  },
  {
   "cell_type": "code",
   "execution_count": null,
   "metadata": {},
   "outputs": [],
   "source": [
    "# 500,000 steps ~ 1 ns\n",
    "# 10 nm / 1 ns ~ 10 m / s\n",
    "\n",
    "# 1,000,000 steps ~ 2 ns\n",
    "# 10 nm / 2 ns ~ 5 m / s"
   ]
  },
  {
   "cell_type": "code",
   "execution_count": 532,
   "metadata": {
    "ExecuteTime": {
     "end_time": "2018-10-19T23:20:57.705327Z",
     "start_time": "2018-10-19T23:20:57.649277Z"
    }
   },
   "outputs": [],
   "source": [
    "force_constant=25000\n",
    "approach_steps = 500000\n",
    "total_steps = int(1.1*approach_steps)"
   ]
  },
  {
   "cell_type": "code",
   "execution_count": 533,
   "metadata": {
    "ExecuteTime": {
     "end_time": "2018-10-19T23:21:14.256873Z",
     "start_time": "2018-10-19T23:21:13.802884Z"
    }
   },
   "outputs": [],
   "source": [
    "production_wrapper = lambda system_name: jobadmin.colvars_production(\n",
    "    system_name,\n",
    "    lmp_suffix_template= ' '.join((\n",
    "        '-v baseName {baseName:s} -v dataFile {dataFile:s}',\n",
    "        '-v has_indenter 1 -v pbd2d 0',\n",
    "        '-v reinitialize_velocities 0',\n",
    "        '-v productionSteps {:d}'.format(total_steps),\n",
    "        '-v use_colvars 1 -v mpiio 0',\n",
    "        '-v thermo_frequency 10',\n",
    "        '-v netcdf_frequency 1000',\n",
    "        '-v compute_interactions 1',\n",
    "        '-v store_forces 1',\n",
    "        '-v surfactant_name SDS')),\n",
    "    force_constant=force_constant,\n",
    "    total_steps=approach_steps,\n",
    "    initial_distance = 100.0, # nm, COM-COM\n",
    "    final_distance   = 10.0)"
   ]
  },
  {
   "cell_type": "code",
   "execution_count": 534,
   "metadata": {
    "ExecuteTime": {
     "end_time": "2018-10-19T23:21:15.018063Z",
     "start_time": "2018-10-19T23:21:14.916301Z"
    }
   },
   "outputs": [],
   "source": [
    "fw_dict = jobadmin.batch_prepare_fw( system_names, production_wrapper )"
   ]
  },
  {
   "cell_type": "code",
   "execution_count": 535,
   "metadata": {
    "ExecuteTime": {
     "end_time": "2018-10-19T23:21:18.177591Z",
     "start_time": "2018-10-19T23:21:17.579008Z"
    }
   },
   "outputs": [
    {
     "name": "stdout",
     "output_type": "stream",
     "text": [
      "Append 1107_SDS_on_AU_111_51x30x2_bilayer_with_counterion_50Ang_stepped to last fw_id in list [10330, 10838]\n",
      "Append 377_SDS_on_AU_111_51x30x2_cylinders_with_counterion_50Ang_stepped to last fw_id in list [10149, 10839]\n",
      "Append 220_SDS_on_AU_111_51x30x2_bilayer_with_counterion_50Ang_stepped to last fw_id in list [9930, 10150, 10840]\n",
      "Append 129_SDS_on_AU_111_51x30x2_monolayer_with_counterion_50Ang_stepped to last fw_id in list [9928, 10148, 10841]\n",
      "Append 75_SDS_on_AU_111_51x30x2_monolayer_with_counterion_50Ang_stepped to last fw_id in list [10326, 10842]\n",
      "Append 646_SDS_on_AU_111_51x30x2_monolayer_with_counterion_50Ang_stepped to last fw_id in list [10327, 10843]\n",
      "Append 220_SDS_on_AU_111_51x30x2_monolayer_with_counterion_50Ang_stepped to last fw_id in list [9926, 10146, 10844]\n",
      "Append 75_SDS_on_AU_111_51x30x2_bilayer_with_counterion_50Ang_stepped to last fw_id in list [10328, 10845]\n",
      "Append 377_SDS_on_AU_111_51x30x2_monolayer_with_counterion_50Ang_stepped to last fw_id in list [9925, 10145, 10846]\n",
      "Append 377_SDS_on_AU_111_51x30x2_bilayer_with_counterion_50Ang_stepped to last fw_id in list [9931, 10151, 10847]\n",
      "Append 646_SDS_on_AU_111_51x30x2_bilayer_with_counterion_50Ang_stepped to last fw_id in list [9927, 10147, 10848]\n",
      "Append 646_SDS_on_AU_111_51x30x2_cylinders_with_counterion_50Ang_stepped to last fw_id in list [10329, 10849]\n",
      "Append 646_SDS_on_AU_111_51x30x2_hemicylinders_with_counterion_50Ang_stepped to last fw_id in list [9933, 10153, 10850]\n"
     ]
    }
   ],
   "source": [
    "jobadmin.append_wf_by_key(fw_dict, fw_id_dict)"
   ]
  },
  {
   "cell_type": "markdown",
   "metadata": {
    "ExecuteTime": {
     "end_time": "2018-10-28T09:09:31.644997Z",
     "start_time": "2018-10-28T09:09:31.641141Z"
    }
   },
   "source": [
    "### Continuation tasks"
   ]
  },
  {
   "cell_type": "code",
   "execution_count": 46,
   "metadata": {
    "ExecuteTime": {
     "end_time": "2018-10-28T13:24:46.354311Z",
     "start_time": "2018-10-28T13:24:44.450169Z"
    }
   },
   "outputs": [],
   "source": [
    "import pymongo"
   ]
  },
  {
   "cell_type": "code",
   "execution_count": 86,
   "metadata": {
    "ExecuteTime": {
     "end_time": "2018-10-28T13:47:25.392955Z",
     "start_time": "2018-10-28T13:47:23.128272Z"
    }
   },
   "outputs": [],
   "source": [
    "total_steps = 500000"
   ]
  },
  {
   "cell_type": "code",
   "execution_count": 87,
   "metadata": {
    "ExecuteTime": {
     "end_time": "2018-10-28T13:47:29.547037Z",
     "start_time": "2018-10-28T13:47:29.469603Z"
    }
   },
   "outputs": [],
   "source": [
    "completed_fw_ids = jobadmin.lpad.get_fw_ids(\n",
    "    query = { \n",
    "        'state':            \"COMPLETED\",\n",
    "        'spec.system_name':  { '$in': system_name_scope },\n",
    "        'spec.step':        'production',\n",
    "        'spec.total_steps': total_steps },\n",
    "    sort = [('updated_on', pymongo.ASCENDING)])\n",
    "             "
   ]
  },
  {
   "cell_type": "code",
   "execution_count": 88,
   "metadata": {
    "ExecuteTime": {
     "end_time": "2018-10-28T13:47:30.760016Z",
     "start_time": "2018-10-28T13:47:30.700040Z"
    }
   },
   "outputs": [
    {
     "data": {
      "text/plain": [
       "[10856, 10858, 10860, 10854, 10861, 10862, 10855, 10851, 10857, 10859, 10853]"
      ]
     },
     "execution_count": 88,
     "metadata": {},
     "output_type": "execute_result"
    }
   ],
   "source": [
    "completed_fw_ids"
   ]
  },
  {
   "cell_type": "code",
   "execution_count": 89,
   "metadata": {
    "ExecuteTime": {
     "end_time": "2018-10-28T13:47:33.905113Z",
     "start_time": "2018-10-28T13:47:33.772723Z"
    }
   },
   "outputs": [],
   "source": [
    "completed_fw_id_dict = {}\n",
    "for fw_id in completed_fw_ids:\n",
    "    fw = jobadmin.lpad.get_fw_by_id(fw_id)\n",
    "    if fw.spec['system_name'] in completed_fw_id_dict:\n",
    "        completed_fw_id_dict[ fw.spec['system_name'] ].append(fw_id)\n",
    "    else:\n",
    "        completed_fw_id_dict[ fw.spec['system_name'] ] = [ fw_id ]\n",
    "    "
   ]
  },
  {
   "cell_type": "code",
   "execution_count": 90,
   "metadata": {
    "ExecuteTime": {
     "end_time": "2018-10-28T13:47:36.145440Z",
     "start_time": "2018-10-28T13:47:36.077384Z"
    }
   },
   "outputs": [],
   "source": [
    "fizzled_fw_ids = jobadmin.lpad.get_fw_ids(\n",
    "    query = { \n",
    "        'state':            \"FIZZLED\",\n",
    "        'spec.system_name':  { '$in': system_name_scope },\n",
    "        'spec.step':        'production',\n",
    "        'spec.total_steps':      total_steps },\n",
    "    sort = [('updated_on', pymongo.ASCENDING)])\n",
    "             "
   ]
  },
  {
   "cell_type": "code",
   "execution_count": 91,
   "metadata": {
    "ExecuteTime": {
     "end_time": "2018-10-28T13:47:37.044565Z",
     "start_time": "2018-10-28T13:47:37.002560Z"
    }
   },
   "outputs": [
    {
     "data": {
      "text/plain": [
       "[10225, 10226, 10232, 10231]"
      ]
     },
     "execution_count": 91,
     "metadata": {},
     "output_type": "execute_result"
    }
   ],
   "source": [
    "fizzled_fw_ids"
   ]
  },
  {
   "cell_type": "code",
   "execution_count": 62,
   "metadata": {
    "ExecuteTime": {
     "end_time": "2018-10-28T13:29:12.409018Z",
     "start_time": "2018-10-28T13:29:12.310732Z"
    }
   },
   "outputs": [],
   "source": [
    "fizzled_fw_id_dict = {}\n",
    "for fw_id in fizzled_fw_ids:\n",
    "    fw = jobadmin.lpad.get_fw_by_id(fw_id)\n",
    "    if fw.spec['system_name'] in fizzled_fw_id_dict:\n",
    "        fizzled_fw_id_dict[ fw.spec['system_name'] ].append(fw_id)\n",
    "    else:\n",
    "        fizzled_fw_id_dict[ fw.spec['system_name'] ] = [ fw_id ]\n",
    "    "
   ]
  },
  {
   "cell_type": "code",
   "execution_count": 66,
   "metadata": {
    "ExecuteTime": {
     "end_time": "2018-10-28T13:30:41.519700Z",
     "start_time": "2018-10-28T13:30:39.364334Z"
    }
   },
   "outputs": [],
   "source": [
    "discontinued_systems = fizzled_fw_id_dict.keys() - completed_fw_id_dict.keys()"
   ]
  },
  {
   "cell_type": "code",
   "execution_count": 67,
   "metadata": {
    "ExecuteTime": {
     "end_time": "2018-10-28T13:32:20.576115Z",
     "start_time": "2018-10-28T13:32:18.054495Z"
    }
   },
   "outputs": [],
   "source": [
    "discontinued_fw_id_dict = { \n",
    "    system_name: fizzled_fw_id_dict[system_name] for system_name in discontinued_systems }"
   ]
  },
  {
   "cell_type": "code",
   "execution_count": 68,
   "metadata": {
    "ExecuteTime": {
     "end_time": "2018-10-28T13:32:25.211591Z",
     "start_time": "2018-10-28T13:32:25.152452Z"
    }
   },
   "outputs": [
    {
     "data": {
      "text/plain": [
       "{'646_SDS_on_AU_111_51x30x2_hemicylinders_with_counterion_50Ang_stepped': [10226,\n",
       "  10232]}"
      ]
     },
     "execution_count": 68,
     "metadata": {},
     "output_type": "execute_result"
    }
   ],
   "source": [
    "discontinued_fw_id_dict"
   ]
  },
  {
   "cell_type": "code",
   "execution_count": 73,
   "metadata": {
    "ExecuteTime": {
     "end_time": "2018-10-28T13:35:47.302642Z",
     "start_time": "2018-10-28T13:35:47.238012Z"
    }
   },
   "outputs": [],
   "source": [
    "system_names = list( discontinued_fw_id_dict.keys() )"
   ]
  },
  {
   "cell_type": "code",
   "execution_count": 74,
   "metadata": {
    "ExecuteTime": {
     "end_time": "2018-10-28T13:36:04.347948Z",
     "start_time": "2018-10-28T13:36:04.285423Z"
    }
   },
   "outputs": [
    {
     "data": {
      "text/plain": [
       "['646_SDS_on_AU_111_51x30x2_hemicylinders_with_counterion_50Ang_stepped']"
      ]
     },
     "execution_count": 74,
     "metadata": {},
     "output_type": "execute_result"
    }
   ],
   "source": [
    "system_names"
   ]
  },
  {
   "cell_type": "code",
   "execution_count": 69,
   "metadata": {
    "ExecuteTime": {
     "end_time": "2018-10-28T13:33:59.916681Z",
     "start_time": "2018-10-28T13:33:57.423607Z"
    }
   },
   "outputs": [
    {
     "data": {
      "text/plain": [
       "{'nodes': 4, 'walltime': '96:00:00'}"
      ]
     },
     "execution_count": 69,
     "metadata": {},
     "output_type": "execute_result"
    }
   ],
   "source": [
    "jobadmin.production_queueadapter"
   ]
  },
  {
   "cell_type": "code",
   "execution_count": 70,
   "metadata": {
    "ExecuteTime": {
     "end_time": "2018-10-28T13:34:08.140819Z",
     "start_time": "2018-10-28T13:34:08.082208Z"
    }
   },
   "outputs": [],
   "source": [
    "jobadmin.production_queueadapter['nodes'] = 8"
   ]
  },
  {
   "cell_type": "code",
   "execution_count": 71,
   "metadata": {
    "ExecuteTime": {
     "end_time": "2018-10-28T13:34:32.211048Z",
     "start_time": "2018-10-28T13:34:32.147678Z"
    }
   },
   "outputs": [],
   "source": [
    "force_constant=25000\n",
    "approach_steps = 500000\n",
    "total_steps = int(1.1*approach_steps)"
   ]
  },
  {
   "cell_type": "code",
   "execution_count": 72,
   "metadata": {
    "ExecuteTime": {
     "end_time": "2018-10-28T13:35:11.742653Z",
     "start_time": "2018-10-28T13:35:09.824952Z"
    }
   },
   "outputs": [],
   "source": [
    "restart_wrapper = lambda system_name: jobadmin.prepare_restart(\n",
    "    system_name,\n",
    "    lmp_suffix_template= ' '.join((\n",
    "        '-v baseName {baseName:s}',\n",
    "        '-v has_indenter 1 -v pbd2d 0',\n",
    "        '-v reinitialize_velocities 0',\n",
    "        '-v productionSteps {:d}'.format(total_steps),\n",
    "        '-v use_colvars 1 -v mpiio 0',\n",
    "        '-v thermo_frequency 10',\n",
    "        '-v netcdf_frequency 1000',\n",
    "        '-v compute_interactions 1',\n",
    "        '-v store_forces 1',\n",
    "        '-v surfactant_name SDS')),\n",
    "    output_subfolder='production_{:d}'.format(approach_steps))"
   ]
  },
  {
   "cell_type": "code",
   "execution_count": 75,
   "metadata": {
    "ExecuteTime": {
     "end_time": "2018-10-28T13:36:12.624796Z",
     "start_time": "2018-10-28T13:36:11.390335Z"
    }
   },
   "outputs": [],
   "source": [
    "fw_dict = jobadmin.batch_prepare_fw( system_names, restart_wrapper )"
   ]
  },
  {
   "cell_type": "code",
   "execution_count": 76,
   "metadata": {
    "ExecuteTime": {
     "end_time": "2018-10-28T13:36:22.637764Z",
     "start_time": "2018-10-28T13:36:22.567219Z"
    }
   },
   "outputs": [
    {
     "data": {
      "text/plain": [
       "{'created_on': '2018-10-28T13:36:12.622599',\n",
       " 'fw_id': -1,\n",
       " 'name': '646_SDS_on_AU_111_51x30x2_hemicylinders_with_counterion_50Ang_stepped_recover_lammps',\n",
       " 'spec': {'_allow_fizzled_parents': True,\n",
       "  '_category': 'nemo_noqueue',\n",
       "  '_tasks': [{'_fw_name': 'RecoverLammpsTask',\n",
       "    'continue': True,\n",
       "    'dest': '/work/ws/nemo/fr_jh1130-201708-0/jobs/lmplab/sds/201809/sys/646_SDS_on_AU_111_51x30x2_hemicylinders_with_counterion_50Ang_stepped/production_500000',\n",
       "    'file_transfer_mode': 'copy',\n",
       "    'fizzle_on_no_restart_file': True,\n",
       "    'lmp_cmd': 'module purge; module use ${HOME}/modulefiles; module load lammps/16Mar18-gnu-7.3-openmpi-3.1-colvars-20Sep18; mpirun ${MPIRUN_OPTIONS} lmp -in lmp_production.input',\n",
       "    'lmp_opt': '-v baseName {baseName:s} -v has_indenter 1 -v pbd2d 0 -v reinitialize_velocities 0 -v productionSteps 550000 -v use_colvars 1 -v mpiio 0 -v thermo_frequency 10 -v netcdf_frequency 1000 -v compute_interactions 1 -v store_forces 1 -v surfactant_name SDS',\n",
       "    'lmp_queueadapter': {'nodes': 8, 'walltime': '96:00:00'},\n",
       "    'other_glob_patterns': ['*.nc',\n",
       "     '*.log',\n",
       "     '*.colvars.traj',\n",
       "     '*.colvars.state',\n",
       "     '*.ti.count',\n",
       "     '*.ti.grad',\n",
       "     '*.ti.pmf'],\n",
       "    'recover': True,\n",
       "    'restart_file_glob_pattern': ['*.restart[0-9]']}],\n",
       "  'geninfo': 'Generated on Sun Oct 28 10:11:48 2018 by fr_jh1130@login1.nemo.privat',\n",
       "  'step': 'recover_lammps',\n",
       "  'system_name': '646_SDS_on_AU_111_51x30x2_hemicylinders_with_counterion_50Ang_stepped'},\n",
       " 'updated_on': '2018-10-28T13:36:12.622602'}"
      ]
     },
     "execution_count": 76,
     "metadata": {},
     "output_type": "execute_result"
    }
   ],
   "source": [
    "fw_dict[system_names[0]].as_dict()"
   ]
  },
  {
   "cell_type": "code",
   "execution_count": 77,
   "metadata": {
    "ExecuteTime": {
     "end_time": "2018-10-28T13:37:49.036945Z",
     "start_time": "2018-10-28T13:37:46.085853Z"
    }
   },
   "outputs": [
    {
     "name": "stdout",
     "output_type": "stream",
     "text": [
      "Append 646_SDS_on_AU_111_51x30x2_hemicylinders_with_counterion_50Ang_stepped to last fw_id in list [10226, 10232]\n"
     ]
    }
   ],
   "source": [
    "jobadmin.append_wf_by_key(fw_dict, discontinued_fw_id_dict)"
   ]
  },
  {
   "cell_type": "markdown",
   "metadata": {},
   "source": [
    "## Progress check & recovery "
   ]
  },
  {
   "cell_type": "markdown",
   "metadata": {},
   "source": [
    "Manually append \"post LAMMPS\" fireworks to fizzled production runs,\n",
    "in order to run in same directory as previous and pull already produced output files."
   ]
  },
  {
   "cell_type": "code",
   "execution_count": null,
   "metadata": {
    "ExecuteTime": {
     "end_time": "2018-09-24T17:59:47.584106Z",
     "start_time": "2018-09-24T17:59:47.536185Z"
    }
   },
   "outputs": [],
   "source": [
    "system_name_scope"
   ]
  },
  {
   "cell_type": "code",
   "execution_count": null,
   "metadata": {
    "ExecuteTime": {
     "end_time": "2018-09-24T17:59:51.300343Z",
     "start_time": "2018-09-24T17:59:51.153833Z"
    }
   },
   "outputs": [],
   "source": [
    "fizzled_production_dict = jobadmin.query_step(\n",
    "    step='production', state_list = ['FIZZLED'] )"
   ]
  },
  {
   "cell_type": "code",
   "execution_count": null,
   "metadata": {
    "ExecuteTime": {
     "end_time": "2018-09-24T17:59:51.615751Z",
     "start_time": "2018-09-24T17:59:51.555713Z"
    }
   },
   "outputs": [],
   "source": [
    "fizzled_production_dict"
   ]
  },
  {
   "cell_type": "code",
   "execution_count": null,
   "metadata": {
    "ExecuteTime": {
     "end_time": "2018-09-24T17:59:56.511272Z",
     "start_time": "2018-09-24T17:59:56.257269Z"
    }
   },
   "outputs": [],
   "source": [
    "fw_ids = jobadmin.lpad.get_fw_ids(\n",
    "    query = { \n",
    "        \"spec.step\":      \"production\",\n",
    "        \"state\":          \"FIZZLED\", \n",
    "        \"spec._category\": \"nemo_queue\"} )"
   ]
  },
  {
   "cell_type": "code",
   "execution_count": null,
   "metadata": {
    "ExecuteTime": {
     "end_time": "2018-09-24T17:59:59.151632Z",
     "start_time": "2018-09-24T17:59:58.927803Z"
    }
   },
   "outputs": [],
   "source": [
    "fw_id_system_name_dict = { \n",
    "    fw_id: jobadmin.lpad.get_fw_by_id(fw_id).spec[\"system_name\"] for fw_id in fw_ids }"
   ]
  },
  {
   "cell_type": "code",
   "execution_count": null,
   "metadata": {
    "ExecuteTime": {
     "end_time": "2018-09-24T17:59:59.701747Z",
     "start_time": "2018-09-24T17:59:59.642845Z"
    }
   },
   "outputs": [],
   "source": [
    "system_names = list(\n",
    "    set(fw_id_system_name_dict.values()) & set(system_name_scope) )"
   ]
  },
  {
   "cell_type": "code",
   "execution_count": null,
   "metadata": {
    "ExecuteTime": {
     "end_time": "2018-09-24T18:00:02.277557Z",
     "start_time": "2018-09-24T18:00:02.100303Z"
    }
   },
   "outputs": [],
   "source": [
    "fw_id_dict = { \n",
    "    jobadmin.lpad.get_fw_by_id(fw_id).name: fw_id \\\n",
    "    for fw_id, system_name in fw_id_system_name_dict.items() \\\n",
    "    if system_name in system_names }"
   ]
  },
  {
   "cell_type": "code",
   "execution_count": null,
   "metadata": {
    "ExecuteTime": {
     "end_time": "2018-09-24T18:33:28.004341Z",
     "start_time": "2018-09-24T18:33:27.701726Z"
    }
   },
   "outputs": [],
   "source": [
    "fw_id_dict"
   ]
  },
  {
   "cell_type": "code",
   "execution_count": null,
   "metadata": {
    "ExecuteTime": {
     "end_time": "2018-09-24T18:46:10.141466Z",
     "start_time": "2018-09-24T18:46:09.919401Z"
    }
   },
   "outputs": [],
   "source": [
    "fw_dict = {}\n",
    "for fw_name, fw_id in fw_id_dict.items():\n",
    "    launch_dir = jobadmin.lpad.get_launchdir(fw_id)\n",
    "    fw_spec = jobadmin.lpad.get_fw_by_id(fw_id).spec\n",
    "    system_name = fw_spec[\"system_name\"]\n",
    "    if \"total_steps\" in fw_spec:\n",
    "        total_steps = fw_spec[\"total_steps\"]\n",
    "    else:\n",
    "        total_steps = 1000000\n",
    "        \n",
    "    step = fw_spec[\"step\"]\n",
    "    fw_dict[fw_name] = jobadmin.post_lammps_fw(\n",
    "        system_name = system_name, \n",
    "        parent_fw_id = fw_id, \n",
    "        launch_dir = launch_dir,\n",
    "        output_folder = '{:s}_{:d}'.format(step,total_steps),\n",
    "        step= 'production', lmp_suffix='_production_mixed')"
   ]
  },
  {
   "cell_type": "code",
   "execution_count": null,
   "metadata": {
    "ExecuteTime": {
     "end_time": "2018-09-24T18:46:10.747648Z",
     "start_time": "2018-09-24T18:46:10.679258Z"
    }
   },
   "outputs": [],
   "source": [
    "fw_dict[ list(fw_dict.keys())[0] ].as_dict()"
   ]
  },
  {
   "cell_type": "code",
   "execution_count": null,
   "metadata": {
    "ExecuteTime": {
     "end_time": "2018-09-24T18:46:14.784461Z",
     "start_time": "2018-09-24T18:46:13.454550Z"
    }
   },
   "outputs": [],
   "source": [
    "for fw_name, fw in fw_dict.items():\n",
    "    jobadmin.lpad.append_wf(\n",
    "        new_wf = Workflow( [ fw ] ), \n",
    "        fw_ids = [ fw_id_dict[ fw_name ] ] )"
   ]
  },
  {
   "cell_type": "code",
   "execution_count": null,
   "metadata": {
    "ExecuteTime": {
     "end_time": "2018-09-24T18:24:54.501281Z",
     "start_time": "2018-09-24T18:24:54.457585Z"
    }
   },
   "outputs": [],
   "source": [
    "fw_dict[ list(fw_dict.keys())[0] ]"
   ]
  },
  {
   "cell_type": "markdown",
   "metadata": {},
   "source": [
    "### Defuse certain fw ids"
   ]
  },
  {
   "cell_type": "code",
   "execution_count": null,
   "metadata": {
    "ExecuteTime": {
     "end_time": "2018-09-19T10:36:03.247713Z",
     "start_time": "2018-09-19T10:36:03.000046Z"
    }
   },
   "outputs": [],
   "source": [
    "for fw_id in fw_ids: jobadmin.lpad.defuse_fw( fw_id, rerun_duplicates=False )"
   ]
  },
  {
   "cell_type": "markdown",
   "metadata": {},
   "source": [
    "### Rerun certain fw ids"
   ]
  },
  {
   "cell_type": "code",
   "execution_count": null,
   "metadata": {
    "ExecuteTime": {
     "end_time": "2018-09-18T18:38:56.012368Z",
     "start_time": "2018-09-18T18:38:55.664183Z"
    }
   },
   "outputs": [],
   "source": [
    "for key, fw_ids in fw_id_dict.items():\n",
    "    jobadmin.lpad.rerun_fw(fw_ids[-1],rerun_duplicates=False)"
   ]
  },
  {
   "cell_type": "code",
   "execution_count": null,
   "metadata": {
    "ExecuteTime": {
     "end_time": "2018-09-18T18:40:42.201827Z",
     "start_time": "2018-09-18T18:40:42.012438Z"
    }
   },
   "outputs": [],
   "source": [
    "jobadmin.lpad.rerun_fw(9922,rerun_duplicates=False)"
   ]
  },
  {
   "cell_type": "markdown",
   "metadata": {},
   "source": [
    "### Detect certain lost runs\n",
    "fizzle and forget them.\n",
    "For some reason, offline runs are un-fizzled again when recovered if not forcefully \"forgotten\""
   ]
  },
  {
   "cell_type": "code",
   "execution_count": null,
   "metadata": {
    "ExecuteTime": {
     "end_time": "2018-09-24T17:58:56.201094Z",
     "start_time": "2018-09-24T17:58:55.830263Z"
    }
   },
   "outputs": [],
   "source": [
    "launch_ids, fw_ids, _ = \\\n",
    "    jobadmin.lpad.detect_lostruns(expiration_secs=1, query= {\n",
    "        'spec.system_name': { '$regex': '.*CTAB.*'}\n",
    "    },fizzle=True)\n",
    "for fw_id in fw_ids: jobadmin.lpad.forget_offline(fw_id)    "
   ]
  },
  {
   "cell_type": "code",
   "execution_count": null,
   "metadata": {
    "ExecuteTime": {
     "end_time": "2018-09-24T17:59:01.248650Z",
     "start_time": "2018-09-24T17:59:01.067223Z"
    }
   },
   "outputs": [],
   "source": [
    "# detect lost runs except certain fw ids\n",
    "# do not recover them afterwards\n",
    "launch_ids, fw_ids, _ = \\\n",
    "    jobadmin.lpad.detect_lostruns(expiration_secs=1, query= {\n",
    "        'fw_id': {'$nin': [ 10232,10231 ] }\n",
    "    }, fizzle=True)\n",
    "for fw_id in fw_ids: jobadmin.lpad.forget_offline(fw_id)"
   ]
  }
 ],
 "metadata": {
  "hide_input": false,
  "kernelspec": {
   "display_name": "Python 3",
   "language": "python",
   "name": "python3"
  },
  "language_info": {
   "codemirror_mode": {
    "name": "ipython",
    "version": 3
   },
   "file_extension": ".py",
   "mimetype": "text/x-python",
   "name": "python",
   "nbconvert_exporter": "python",
   "pygments_lexer": "ipython3",
   "version": "3.6.7"
  },
  "latex_envs": {
   "LaTeX_envs_menu_present": true,
   "autoclose": false,
   "autocomplete": true,
   "bibliofile": "biblio.bib",
   "cite_by": "apalike",
   "current_citInitial": 1,
   "eqLabelWithNumbers": true,
   "eqNumInitial": 1,
   "hotkeys": {
    "equation": "Ctrl-E",
    "itemize": "Ctrl-I"
   },
   "labels_anchors": false,
   "latex_user_defs": false,
   "report_style_numbering": false,
   "user_envs_cfg": false
  },
  "toc": {
   "base_numbering": 1,
   "nav_menu": {},
   "number_sections": true,
   "sideBar": true,
   "skip_h1_title": false,
   "title_cell": "Table of Contents",
   "title_sidebar": "Contents",
   "toc_cell": false,
   "toc_position": {
    "height": "808px",
    "left": "23px",
    "top": "136.283px",
    "width": "353px"
   },
   "toc_section_display": true,
   "toc_window_display": false
  },
  "varInspector": {
   "cols": {
    "lenName": 16,
    "lenType": 16,
    "lenVar": 40
   },
   "kernels_config": {
    "python": {
     "delete_cmd_postfix": "",
     "delete_cmd_prefix": "del ",
     "library": "var_list.py",
     "varRefreshCmd": "print(var_dic_list())"
    },
    "r": {
     "delete_cmd_postfix": ") ",
     "delete_cmd_prefix": "rm(",
     "library": "var_list.r",
     "varRefreshCmd": "cat(var_dic_list()) "
    }
   },
   "types_to_exclude": [
    "module",
    "function",
    "builtin_function_or_method",
    "instance",
    "_Feature"
   ],
   "window_display": false
  }
 },
 "nbformat": 4,
 "nbformat_minor": 2
}
