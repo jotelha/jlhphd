{
 "cells": [
  {
   "cell_type": "markdown",
   "metadata": {},
   "source": [
    "# Estimating computing times"
   ]
  },
  {
   "cell_type": "code",
   "execution_count": 23,
   "metadata": {},
   "outputs": [],
   "source": [
    "import pandas as pd\n",
    "import numpy as np"
   ]
  },
  {
   "cell_type": "code",
   "execution_count": 3,
   "metadata": {},
   "outputs": [],
   "source": [
    "from fireworks import Firework, Workflow\n",
    "from fireworks.utilities.filepad import FilePad"
   ]
  },
  {
   "cell_type": "code",
   "execution_count": 4,
   "metadata": {},
   "outputs": [],
   "source": [
    "fp = FilePad(\n",
    "    host='localhost',port=27018, database='fireworks-jhoermann',\n",
    "    username='fireworks',password='fireworks')"
   ]
  },
  {
   "cell_type": "code",
   "execution_count": 6,
   "metadata": {},
   "outputs": [],
   "source": [
    "content, doc = fp.get_file(identifier='surfactant_on_AU_111_df_json')"
   ]
  },
  {
   "cell_type": "code",
   "execution_count": 7,
   "metadata": {},
   "outputs": [],
   "source": [
    "sim_df = pd.read_json(content, orient='index')"
   ]
  },
  {
   "cell_type": "code",
   "execution_count": 8,
   "metadata": {},
   "outputs": [
    {
     "data": {
      "text/plain": [
       "228"
      ]
     },
     "execution_count": 8,
     "metadata": {},
     "output_type": "execute_result"
    }
   ],
   "source": [
    "len(sim_df)"
   ]
  },
  {
   "cell_type": "code",
   "execution_count": 9,
   "metadata": {},
   "outputs": [],
   "source": [
    "preassemblies_of_interest = {\n",
    "    'cylinders_with_counterion',\n",
    "    'hemicylinders_with_counterion',\n",
    "    'bilayer_with_counterion',\n",
    "    'monolayer_with_counterion'}"
   ]
  },
  {
   "cell_type": "markdown",
   "metadata": {},
   "source": [
    "## Filter unique crystal planes"
   ]
  },
  {
   "cell_type": "code",
   "execution_count": 90,
   "metadata": {},
   "outputs": [],
   "source": [
    "unique_crystal_planes = sim_df[\"sb_crystal_plane\"].unique()"
   ]
  },
  {
   "cell_type": "code",
   "execution_count": 91,
   "metadata": {},
   "outputs": [
    {
     "data": {
      "text/plain": [
       "array([111])"
      ]
     },
     "execution_count": 91,
     "metadata": {},
     "output_type": "execute_result"
    }
   ],
   "source": [
    "unique_crystal_planes"
   ]
  },
  {
   "cell_type": "markdown",
   "metadata": {},
   "source": [
    "### Filter unique substrate measures and box measures\n",
    "(for SDS systems)"
   ]
  },
  {
   "cell_type": "code",
   "execution_count": 146,
   "metadata": {},
   "outputs": [],
   "source": [
    "# original SDS systems without indenter\n",
    "system_name_scope = list( sim_df[ \n",
    "        sim_df['indenter'].isna() & \\\n",
    "        (sim_df['surfactant'] == 'SDS') &\n",
    "        sim_df['sf_preassembly'].isin(preassemblies_of_interest)\n",
    "    ].index )"
   ]
  },
  {
   "cell_type": "code",
   "execution_count": 147,
   "metadata": {},
   "outputs": [],
   "source": [
    "unique_sb_multiples = np.unique(\n",
    "   np.vstack( sim_df[\n",
    "       sim_df[\"sb_crystal_plane\"] == unique_crystal_planes[0]\n",
    "   ].loc[system_name_scope][[\"sb_multiples\"]].values.flatten() ), axis=0 )"
   ]
  },
  {
   "cell_type": "code",
   "execution_count": 148,
   "metadata": {},
   "outputs": [
    {
     "data": {
      "text/plain": [
       "array([[17, 10,  2],\n",
       "       [26, 15,  2],\n",
       "       [51, 30,  2],\n",
       "       [60, 35,  2]])"
      ]
     },
     "execution_count": 148,
     "metadata": {},
     "output_type": "execute_result"
    }
   ],
   "source": [
    "unique_sb_multiples"
   ]
  },
  {
   "cell_type": "code",
   "execution_count": 149,
   "metadata": {},
   "outputs": [],
   "source": [
    "unique_sb_names = sim_df.loc[system_name_scope]['sb_name'].unique()"
   ]
  },
  {
   "cell_type": "code",
   "execution_count": 150,
   "metadata": {},
   "outputs": [
    {
     "data": {
      "text/plain": [
       "array(['AU_111_60x35x2', 'AU_111_51x30x2', 'AU_111_17x10x2',\n",
       "       'AU_111_26x15x2'], dtype=object)"
      ]
     },
     "execution_count": 150,
     "metadata": {},
     "output_type": "execute_result"
    }
   ],
   "source": [
    "unique_sb_names"
   ]
  },
  {
   "cell_type": "code",
   "execution_count": 151,
   "metadata": {},
   "outputs": [],
   "source": [
    "unique_boxes = np.unique(\n",
    "   np.vstack( sim_df[\n",
    "       sim_df[\"sb_crystal_plane\"] == unique_crystal_planes[0]\n",
    "   ].loc[system_name_scope][\"box\"].values.flatten() ), axis=0 )"
   ]
  },
  {
   "cell_type": "code",
   "execution_count": 152,
   "metadata": {},
   "outputs": [
    {
     "data": {
      "text/plain": [
       "array([[4.90e-09, 5.00e-09, 1.80e-08],\n",
       "       [7.50e-09, 7.50e-09, 1.80e-08],\n",
       "       [1.47e-08, 1.50e-08, 1.80e-08],\n",
       "       [1.73e-08, 1.75e-08, 1.80e-08]])"
      ]
     },
     "execution_count": 152,
     "metadata": {},
     "output_type": "execute_result"
    }
   ],
   "source": [
    "unique_boxes"
   ]
  },
  {
   "cell_type": "code",
   "execution_count": 153,
   "metadata": {},
   "outputs": [],
   "source": [
    "systems_of_interest_SDS = list( \n",
    "    sim_df.loc[system_name_scope][\n",
    "        sim_df.loc[system_name_scope,'sb_name'] == unique_sb_names[1]\n",
    "    ].index )"
   ]
  },
  {
   "cell_type": "code",
   "execution_count": 154,
   "metadata": {},
   "outputs": [
    {
     "data": {
      "text/plain": [
       "['1107_SDS_on_AU_111_51x30x2_bilayer_with_counterion',\n",
       " '1107_SDS_on_AU_111_51x30x2_cylinders_with_counterion',\n",
       " '1107_SDS_on_AU_111_51x30x2_hemicylinders_with_counterion',\n",
       " '1107_SDS_on_AU_111_51x30x2_monolayer_with_counterion',\n",
       " '129_SDS_on_AU_111_51x30x2_bilayer_with_counterion',\n",
       " '129_SDS_on_AU_111_51x30x2_cylinders_with_counterion',\n",
       " '129_SDS_on_AU_111_51x30x2_hemicylinders_with_counterion',\n",
       " '129_SDS_on_AU_111_51x30x2_monolayer_with_counterion',\n",
       " '220_SDS_on_AU_111_51x30x2_bilayer_with_counterion',\n",
       " '220_SDS_on_AU_111_51x30x2_cylinders_with_counterion',\n",
       " '220_SDS_on_AU_111_51x30x2_hemicylinders_with_counterion',\n",
       " '220_SDS_on_AU_111_51x30x2_monolayer_with_counterion',\n",
       " '2214_SDS_on_AU_111_51x30x2_bilayer_with_counterion',\n",
       " '2214_SDS_on_AU_111_51x30x2_cylinders_with_counterion',\n",
       " '2214_SDS_on_AU_111_51x30x2_hemicylinders_with_counterion',\n",
       " '2214_SDS_on_AU_111_51x30x2_monolayer_with_counterion',\n",
       " '377_SDS_on_AU_111_51x30x2_bilayer_with_counterion',\n",
       " '377_SDS_on_AU_111_51x30x2_cylinders_with_counterion',\n",
       " '377_SDS_on_AU_111_51x30x2_hemicylinders_with_counterion',\n",
       " '377_SDS_on_AU_111_51x30x2_monolayer_with_counterion',\n",
       " '646_SDS_on_AU_111_51x30x2_bilayer_with_counterion',\n",
       " '646_SDS_on_AU_111_51x30x2_cylinders_with_counterion',\n",
       " '646_SDS_on_AU_111_51x30x2_hemicylinders_with_counterion',\n",
       " '646_SDS_on_AU_111_51x30x2_monolayer_with_counterion',\n",
       " '75_SDS_on_AU_111_51x30x2_bilayer_with_counterion',\n",
       " '75_SDS_on_AU_111_51x30x2_cylinders_with_counterion',\n",
       " '75_SDS_on_AU_111_51x30x2_hemicylinders_with_counterion',\n",
       " '75_SDS_on_AU_111_51x30x2_monolayer_with_counterion']"
      ]
     },
     "execution_count": 154,
     "metadata": {},
     "output_type": "execute_result"
    }
   ],
   "source": [
    "systems_of_interest_SDS"
   ]
  },
  {
   "cell_type": "code",
   "execution_count": 604,
   "metadata": {},
   "outputs": [
    {
     "data": {
      "text/plain": [
       "28"
      ]
     },
     "execution_count": 604,
     "metadata": {},
     "output_type": "execute_result"
    }
   ],
   "source": [
    "len(systems_of_interest_SDS)"
   ]
  },
  {
   "cell_type": "code",
   "execution_count": 155,
   "metadata": {},
   "outputs": [],
   "source": [
    "box_measures_SDS_SI = np.unique(\n",
    "   np.vstack( sim_df.loc[systems_of_interest_SDS][\"box\"].values.flatten() ), axis=0 )"
   ]
  },
  {
   "cell_type": "code",
   "execution_count": 166,
   "metadata": {},
   "outputs": [
    {
     "data": {
      "text/plain": [
       "array([[14.7, 15. , 18. ]])"
      ]
     },
     "execution_count": 166,
     "metadata": {},
     "output_type": "execute_result"
    }
   ],
   "source": [
    "box_measures_SDS_SI * 1e9 # nm"
   ]
  },
  {
   "cell_type": "code",
   "execution_count": 158,
   "metadata": {},
   "outputs": [],
   "source": [
    "box_volume_SDS_SI = np.product( box_measures_SDS_SI )"
   ]
  },
  {
   "cell_type": "code",
   "execution_count": 159,
   "metadata": {},
   "outputs": [
    {
     "data": {
      "text/plain": [
       "3969.0"
      ]
     },
     "execution_count": 159,
     "metadata": {},
     "output_type": "execute_result"
    }
   ],
   "source": [
    "round(box_volume_SDS_SI * 1e27) # nm cube"
   ]
  },
  {
   "cell_type": "markdown",
   "metadata": {},
   "source": [
    "### Filtering CTAB"
   ]
  },
  {
   "cell_type": "code",
   "execution_count": 92,
   "metadata": {},
   "outputs": [],
   "source": [
    "# original CTAB systems without indenter\n",
    "system_name_scope = list( sim_df[ \n",
    "        sim_df['indenter'].isna() & \\\n",
    "        (sim_df['surfactant'] == 'CTAB') &\n",
    "        sim_df['sf_preassembly'].isin(preassemblies_of_interest)\n",
    "    ].index )"
   ]
  },
  {
   "cell_type": "code",
   "execution_count": 93,
   "metadata": {},
   "outputs": [],
   "source": [
    "unique_sb_multiples = np.unique(\n",
    "   np.vstack( sim_df[\n",
    "       sim_df[\"sb_crystal_plane\"] == unique_crystal_planes[0]\n",
    "   ].loc[system_name_scope][[\"sb_multiples\"]].values.flatten() ), axis=0 )"
   ]
  },
  {
   "cell_type": "code",
   "execution_count": 94,
   "metadata": {},
   "outputs": [
    {
     "data": {
      "text/plain": [
       "array([[21, 12,  2],\n",
       "       [30, 18,  2],\n",
       "       [63, 36,  2],\n",
       "       [72, 42,  2]])"
      ]
     },
     "execution_count": 94,
     "metadata": {},
     "output_type": "execute_result"
    }
   ],
   "source": [
    "unique_sb_multiples"
   ]
  },
  {
   "cell_type": "code",
   "execution_count": 95,
   "metadata": {},
   "outputs": [],
   "source": [
    "unique_sb_names = sim_df.loc[system_name_scope]['sb_name'].unique()"
   ]
  },
  {
   "cell_type": "code",
   "execution_count": 96,
   "metadata": {},
   "outputs": [
    {
     "data": {
      "text/plain": [
       "array(['AU_111_63x36x2', 'AU_111_21x12x2', 'AU_111_30x18x2',\n",
       "       'AU_111_72x42x2'], dtype=object)"
      ]
     },
     "execution_count": 96,
     "metadata": {},
     "output_type": "execute_result"
    }
   ],
   "source": [
    "unique_sb_names"
   ]
  },
  {
   "cell_type": "code",
   "execution_count": 97,
   "metadata": {},
   "outputs": [],
   "source": [
    "unique_boxes = np.unique(\n",
    "   np.vstack( sim_df[\n",
    "       sim_df[\"sb_crystal_plane\"] == unique_crystal_planes[0]\n",
    "   ].loc[system_name_scope][\"box\"].values.flatten() ), axis=0 )"
   ]
  },
  {
   "cell_type": "code",
   "execution_count": 98,
   "metadata": {},
   "outputs": [
    {
     "data": {
      "text/plain": [
       "array([[6.10e-09, 6.00e-09, 1.80e-08],\n",
       "       [8.70e-09, 9.00e-09, 1.80e-08],\n",
       "       [1.82e-08, 1.80e-08, 1.80e-08],\n",
       "       [2.08e-08, 2.10e-08, 1.80e-08]])"
      ]
     },
     "execution_count": 98,
     "metadata": {},
     "output_type": "execute_result"
    }
   ],
   "source": [
    "unique_boxes"
   ]
  },
  {
   "cell_type": "code",
   "execution_count": 101,
   "metadata": {},
   "outputs": [],
   "source": [
    "systems_of_interest_CTAB = list( sim_df.loc[system_name_scope][\n",
    "    sim_df.loc[system_name_scope,'sb_name'] == unique_sb_names[0]].index )"
   ]
  },
  {
   "cell_type": "code",
   "execution_count": 116,
   "metadata": {},
   "outputs": [
    {
     "data": {
      "text/plain": [
       "['1010_CTAB_on_AU_111_63x36x2_bilayer_with_counterion',\n",
       " '1010_CTAB_on_AU_111_63x36x2_cylinders_with_counterion',\n",
       " '1010_CTAB_on_AU_111_63x36x2_hemicylinders_with_counterion',\n",
       " '1010_CTAB_on_AU_111_63x36x2_monolayer_with_counterion',\n",
       " '1298_CTAB_on_AU_111_63x36x2_bilayer_with_counterion',\n",
       " '1298_CTAB_on_AU_111_63x36x2_cylinders_with_counterion',\n",
       " '1298_CTAB_on_AU_111_63x36x2_hemicylinders_with_counterion',\n",
       " '1298_CTAB_on_AU_111_63x36x2_monolayer_with_counterion',\n",
       " '367_CTAB_on_AU_111_63x36x2_bilayer_with_counterion',\n",
       " '367_CTAB_on_AU_111_63x36x2_cylinders_with_counterion',\n",
       " '367_CTAB_on_AU_111_63x36x2_hemicylinders_with_counterion',\n",
       " '367_CTAB_on_AU_111_63x36x2_monolayer_with_counterion',\n",
       " '415_CTAB_on_AU_111_63x36x2_bilayer_with_counterion',\n",
       " '415_CTAB_on_AU_111_63x36x2_cylinders_with_counterion',\n",
       " '415_CTAB_on_AU_111_63x36x2_hemicylinders_with_counterion',\n",
       " '415_CTAB_on_AU_111_63x36x2_monolayer_with_counterion',\n",
       " '515_CTAB_on_AU_111_63x36x2_bilayer_with_counterion',\n",
       " '515_CTAB_on_AU_111_63x36x2_cylinders_with_counterion',\n",
       " '515_CTAB_on_AU_111_63x36x2_hemicylinders_with_counterion',\n",
       " '515_CTAB_on_AU_111_63x36x2_monolayer_with_counterion',\n",
       " '653_CTAB_on_AU_111_63x36x2_bilayer_with_counterion',\n",
       " '653_CTAB_on_AU_111_63x36x2_cylinders_with_counterion',\n",
       " '653_CTAB_on_AU_111_63x36x2_hemicylinders_with_counterion',\n",
       " '653_CTAB_on_AU_111_63x36x2_monolayer_with_counterion']"
      ]
     },
     "execution_count": 116,
     "metadata": {},
     "output_type": "execute_result"
    }
   ],
   "source": [
    "systems_of_interest_CTAB"
   ]
  },
  {
   "cell_type": "code",
   "execution_count": 603,
   "metadata": {},
   "outputs": [
    {
     "data": {
      "text/plain": [
       "24"
      ]
     },
     "execution_count": 603,
     "metadata": {},
     "output_type": "execute_result"
    }
   ],
   "source": [
    "len(systems_of_interest_CTAB)"
   ]
  },
  {
   "cell_type": "code",
   "execution_count": 137,
   "metadata": {},
   "outputs": [],
   "source": [
    "box_measures_CTAB_SI = np.unique(\n",
    "   np.vstack( sim_df.loc[systems_of_interest_CTAB][\"box\"].values.flatten() ), axis=0 )"
   ]
  },
  {
   "cell_type": "code",
   "execution_count": 165,
   "metadata": {},
   "outputs": [
    {
     "data": {
      "text/plain": [
       "array([[18.2, 18. , 18. ]])"
      ]
     },
     "execution_count": 165,
     "metadata": {},
     "output_type": "execute_result"
    }
   ],
   "source": [
    "box_measures_CTAB_SI * 1e9 # nm"
   ]
  },
  {
   "cell_type": "code",
   "execution_count": 160,
   "metadata": {},
   "outputs": [],
   "source": [
    "box_volume_CTAB_SI = np.product( box_measures_CTAB_SI )"
   ]
  },
  {
   "cell_type": "code",
   "execution_count": 161,
   "metadata": {},
   "outputs": [
    {
     "data": {
      "text/plain": [
       "5897.0"
      ]
     },
     "execution_count": 161,
     "metadata": {},
     "output_type": "execute_result"
    }
   ],
   "source": [
    "round(box_volume_CTAB_SI * 1e27) # nm cube"
   ]
  },
  {
   "cell_type": "markdown",
   "metadata": {},
   "source": [
    "### Reference particle number estimate"
   ]
  },
  {
   "cell_type": "code",
   "execution_count": 117,
   "metadata": {},
   "outputs": [],
   "source": [
    "solvent_molecules_per_nm_cube = 33 # corresponds to standard conditions, 0.99 kg / L"
   ]
  },
  {
   "cell_type": "code",
   "execution_count": 122,
   "metadata": {},
   "outputs": [],
   "source": [
    "number_of_atoms_in_solvent_molecule = 3 #water"
   ]
  },
  {
   "cell_type": "code",
   "execution_count": 128,
   "metadata": {},
   "outputs": [],
   "source": [
    "particle_density_SI = number_of_atoms_in_solvent_molecule * solvent_molecules_per_nm_cube * 1e27 # per m^-3"
   ]
  },
  {
   "cell_type": "code",
   "execution_count": 129,
   "metadata": {},
   "outputs": [
    {
     "data": {
      "text/plain": [
       "9.900000000000001e+28"
      ]
     },
     "execution_count": 129,
     "metadata": {},
     "output_type": "execute_result"
    }
   ],
   "source": [
    "particle_density_SI "
   ]
  },
  {
   "cell_type": "code",
   "execution_count": 163,
   "metadata": {},
   "outputs": [],
   "source": [
    "reference_number_of_particles_SDS = round(\n",
    "    particle_density_SI * box_volume_SDS_SI)"
   ]
  },
  {
   "cell_type": "code",
   "execution_count": 143,
   "metadata": {},
   "outputs": [],
   "source": [
    "reference_number_of_particles_CTAB = round(\n",
    "    particle_density_SI * box_volume_CTAB_SI)"
   ]
  },
  {
   "cell_type": "code",
   "execution_count": 164,
   "metadata": {},
   "outputs": [
    {
     "data": {
      "text/plain": [
       "392931.0"
      ]
     },
     "execution_count": 164,
     "metadata": {},
     "output_type": "execute_result"
    }
   ],
   "source": [
    "reference_number_of_particles_SDS"
   ]
  },
  {
   "cell_type": "code",
   "execution_count": 144,
   "metadata": {},
   "outputs": [
    {
     "data": {
      "text/plain": [
       "583783.0"
      ]
     },
     "execution_count": 144,
     "metadata": {},
     "output_type": "execute_result"
    }
   ],
   "source": [
    "reference_number_of_particles_CTAB"
   ]
  },
  {
   "cell_type": "code",
   "execution_count": 306,
   "metadata": {},
   "outputs": [],
   "source": [
    "i = 1\n",
    "while(reference_number_of_particles_SDS / 10**i > 9 ): \n",
    "    i = i+1\n",
    "reference_number_of_particles_SDS_rounded = round(\n",
    "    reference_number_of_particles_SDS, -i)"
   ]
  },
  {
   "cell_type": "code",
   "execution_count": 307,
   "metadata": {},
   "outputs": [],
   "source": [
    "i = 1\n",
    "while(reference_number_of_particles_CTAB / 10**i > 9 ): \n",
    "    i = i+1\n",
    "reference_number_of_particles_CTAB_rounded = round(\n",
    "    reference_number_of_particles_CTAB, -i)"
   ]
  },
  {
   "cell_type": "code",
   "execution_count": 309,
   "metadata": {},
   "outputs": [
    {
     "data": {
      "text/plain": [
       "400000.0"
      ]
     },
     "execution_count": 309,
     "metadata": {},
     "output_type": "execute_result"
    }
   ],
   "source": [
    "reference_number_of_particles_SDS_rounded"
   ]
  },
  {
   "cell_type": "code",
   "execution_count": 310,
   "metadata": {},
   "outputs": [
    {
     "data": {
      "text/plain": [
       "600000.0"
      ]
     },
     "execution_count": 310,
     "metadata": {},
     "output_type": "execute_result"
    }
   ],
   "source": [
    "reference_number_of_particles_CTAB_rounded"
   ]
  },
  {
   "cell_type": "markdown",
   "metadata": {},
   "source": [
    "### AFM approach time span estimate"
   ]
  },
  {
   "cell_type": "code",
   "execution_count": 500,
   "metadata": {},
   "outputs": [
    {
     "data": {
      "text/plain": [
       "array([[18.2, 18. , 18. ]])"
      ]
     },
     "execution_count": 500,
     "metadata": {},
     "output_type": "execute_result"
    }
   ],
   "source": [
    "box_measures_CTAB_SI * 1e9"
   ]
  },
  {
   "cell_type": "code",
   "execution_count": 501,
   "metadata": {},
   "outputs": [],
   "source": [
    "d = 7.5 # intital distance (nm) from tip apex to surface (better be more than that)"
   ]
  },
  {
   "cell_type": "code",
   "execution_count": 502,
   "metadata": {},
   "outputs": [],
   "source": [
    "dt = 2 # fs per timestep"
   ]
  },
  {
   "cell_type": "code",
   "execution_count": 503,
   "metadata": {},
   "outputs": [],
   "source": [
    "d_SI = d*1e-9"
   ]
  },
  {
   "cell_type": "code",
   "execution_count": 504,
   "metadata": {},
   "outputs": [
    {
     "data": {
      "text/plain": [
       "7.500000000000001e-09"
      ]
     },
     "execution_count": 504,
     "metadata": {},
     "output_type": "execute_result"
    }
   ],
   "source": [
    "d_SI # apex - substrate distance in m"
   ]
  },
  {
   "cell_type": "code",
   "execution_count": 505,
   "metadata": {},
   "outputs": [],
   "source": [
    "dt_SI = dt*1e-15"
   ]
  },
  {
   "cell_type": "code",
   "execution_count": 506,
   "metadata": {},
   "outputs": [
    {
     "data": {
      "text/plain": [
       "2e-15"
      ]
     },
     "execution_count": 506,
     "metadata": {},
     "output_type": "execute_result"
    }
   ],
   "source": [
    "dt_SI # seconds per timestep"
   ]
  },
  {
   "cell_type": "code",
   "execution_count": 507,
   "metadata": {},
   "outputs": [],
   "source": [
    "v_SI = np.array([1, 0.1, 0.01, 0.001]) # m / s, dm /s , cm / s, mm / s"
   ]
  },
  {
   "cell_type": "code",
   "execution_count": 508,
   "metadata": {},
   "outputs": [
    {
     "data": {
      "text/plain": [
       "array([1.   , 0.1  , 0.01 , 0.001])"
      ]
     },
     "execution_count": 508,
     "metadata": {},
     "output_type": "execute_result"
    }
   ],
   "source": [
    "v_SI # m / s = nm / ns"
   ]
  },
  {
   "cell_type": "code",
   "execution_count": 509,
   "metadata": {},
   "outputs": [],
   "source": [
    "t_ns = d / v_SI # simulation time span in ns"
   ]
  },
  {
   "cell_type": "code",
   "execution_count": 510,
   "metadata": {},
   "outputs": [
    {
     "data": {
      "text/plain": [
       "array([   7.5,   75. ,  750. , 7500. ])"
      ]
     },
     "execution_count": 510,
     "metadata": {},
     "output_type": "execute_result"
    }
   ],
   "source": [
    "t_ns"
   ]
  },
  {
   "cell_type": "code",
   "execution_count": 511,
   "metadata": {},
   "outputs": [
    {
     "data": {
      "text/plain": [
       "array([1.   , 0.1  , 0.01 , 0.001])"
      ]
     },
     "execution_count": 511,
     "metadata": {},
     "output_type": "execute_result"
    }
   ],
   "source": [
    "v_SI"
   ]
  },
  {
   "cell_type": "code",
   "execution_count": 512,
   "metadata": {},
   "outputs": [],
   "source": [
    "necessary_steps = d_SI / (v_SI * dt_SI)"
   ]
  },
  {
   "cell_type": "code",
   "execution_count": 513,
   "metadata": {},
   "outputs": [
    {
     "data": {
      "text/plain": [
       "array([0.00375, 0.0375 , 0.375  , 3.75   ])"
      ]
     },
     "execution_count": 513,
     "metadata": {},
     "output_type": "execute_result"
    }
   ],
   "source": [
    "np.round(necessary_steps)/1e9"
   ]
  },
  {
   "cell_type": "code",
   "execution_count": 514,
   "metadata": {},
   "outputs": [
    {
     "data": {
      "text/plain": [
       "375000000.0"
      ]
     },
     "execution_count": 514,
     "metadata": {},
     "output_type": "execute_result"
    }
   ],
   "source": [
    "necessary_steps[2] # at 1 cm / s"
   ]
  },
  {
   "cell_type": "markdown",
   "metadata": {},
   "source": [
    "### core h estimate"
   ]
  },
  {
   "cell_type": "code",
   "execution_count": 515,
   "metadata": {},
   "outputs": [],
   "source": [
    "core_h_per_particle_ns = 0.3e-3 # based on hfr13 2018 JURECA benchmark"
   ]
  },
  {
   "cell_type": "code",
   "execution_count": 516,
   "metadata": {},
   "outputs": [],
   "source": [
    "core_h_estimate_for_AFM_probe_of_SDS = \\\n",
    "    core_h_per_particle_ns * reference_number_of_particles_SDS_rounded * t_ns"
   ]
  },
  {
   "cell_type": "code",
   "execution_count": 517,
   "metadata": {},
   "outputs": [
    {
     "data": {
      "text/plain": [
       "array([   900.,   9000.,  90000., 900000.])"
      ]
     },
     "execution_count": 517,
     "metadata": {},
     "output_type": "execute_result"
    }
   ],
   "source": [
    "core_h_estimate_for_AFM_probe_of_SDS"
   ]
  },
  {
   "cell_type": "code",
   "execution_count": 518,
   "metadata": {},
   "outputs": [],
   "source": [
    "core_h_estimate_for_AFM_probe_of_CTAB = \\\n",
    "    core_h_per_particle_ns * reference_number_of_particles_CTAB_rounded * t_ns"
   ]
  },
  {
   "cell_type": "code",
   "execution_count": 529,
   "metadata": {},
   "outputs": [
    {
     "data": {
      "text/plain": [
       "array([   1350.,   13500.,  135000., 1350000.])"
      ]
     },
     "execution_count": 529,
     "metadata": {},
     "output_type": "execute_result"
    }
   ],
   "source": [
    "core_h_estimate_for_AFM_probe_of_CTAB"
   ]
  },
  {
   "cell_type": "code",
   "execution_count": 530,
   "metadata": {},
   "outputs": [
    {
     "data": {
      "text/plain": [
       "0.0003"
      ]
     },
     "execution_count": 530,
     "metadata": {},
     "output_type": "execute_result"
    }
   ],
   "source": [
    "core_h_per_particle_ns"
   ]
  },
  {
   "cell_type": "markdown",
   "metadata": {},
   "source": [
    "### number of cores estimate"
   ]
  },
  {
   "cell_type": "code",
   "execution_count": 531,
   "metadata": {},
   "outputs": [],
   "source": [
    "particles_per_core = 2500 # based on hfr13 2018 JURECA benchmark"
   ]
  },
  {
   "cell_type": "code",
   "execution_count": 532,
   "metadata": {},
   "outputs": [],
   "source": [
    "no_of_cores_for_SDS = reference_number_of_particles_SDS_rounded / particles_per_core"
   ]
  },
  {
   "cell_type": "code",
   "execution_count": 533,
   "metadata": {},
   "outputs": [
    {
     "data": {
      "text/plain": [
       "160.0"
      ]
     },
     "execution_count": 533,
     "metadata": {},
     "output_type": "execute_result"
    }
   ],
   "source": [
    "no_of_cores_for_SDS"
   ]
  },
  {
   "cell_type": "code",
   "execution_count": 534,
   "metadata": {},
   "outputs": [],
   "source": [
    "cores_per_node = 48 # JUWELS"
   ]
  },
  {
   "cell_type": "code",
   "execution_count": 535,
   "metadata": {},
   "outputs": [
    {
     "data": {
      "text/plain": [
       "3.3333333333333335"
      ]
     },
     "execution_count": 535,
     "metadata": {},
     "output_type": "execute_result"
    }
   ],
   "source": [
    "no_of_cores_for_SDS / cores_per_node # nodes"
   ]
  },
  {
   "cell_type": "code",
   "execution_count": 536,
   "metadata": {},
   "outputs": [],
   "source": [
    "no_of_cores_for_SDS_rounded = cores_per_node * \\\n",
    "    np.ceil(no_of_cores_for_SDS / cores_per_node) # nodes"
   ]
  },
  {
   "cell_type": "code",
   "execution_count": 537,
   "metadata": {},
   "outputs": [
    {
     "data": {
      "text/plain": [
       "192.0"
      ]
     },
     "execution_count": 537,
     "metadata": {},
     "output_type": "execute_result"
    }
   ],
   "source": [
    "no_of_cores_for_SDS_rounded"
   ]
  },
  {
   "cell_type": "code",
   "execution_count": 538,
   "metadata": {},
   "outputs": [
    {
     "data": {
      "text/plain": [
       "array([1.25e-06, 1.25e-06, 1.25e-06, 1.25e-06])"
      ]
     },
     "execution_count": 538,
     "metadata": {},
     "output_type": "execute_result"
    }
   ],
   "source": [
    "# wall time per step [hours]\n",
    "core_h_estimate_for_AFM_probe_of_SDS \\\n",
    "    / no_of_cores_for_SDS_rounded / necessary_steps"
   ]
  },
  {
   "cell_type": "code",
   "execution_count": 539,
   "metadata": {},
   "outputs": [],
   "source": [
    "# wall time per step [hours]\n",
    "wall_time_per_step_SDS = (core_h_estimate_for_AFM_probe_of_SDS \\\n",
    "    / no_of_cores_for_SDS_rounded / necessary_steps)[0]"
   ]
  },
  {
   "cell_type": "code",
   "execution_count": 540,
   "metadata": {},
   "outputs": [
    {
     "data": {
      "text/plain": [
       "1.2499999999999997e-06"
      ]
     },
     "execution_count": 540,
     "metadata": {},
     "output_type": "execute_result"
    }
   ],
   "source": [
    "wall_time_per_step_SDS"
   ]
  },
  {
   "cell_type": "code",
   "execution_count": 541,
   "metadata": {},
   "outputs": [],
   "source": [
    "no_of_cores_for_CTAB = reference_number_of_particles_CTAB_rounded / particles_per_core"
   ]
  },
  {
   "cell_type": "code",
   "execution_count": 542,
   "metadata": {},
   "outputs": [
    {
     "data": {
      "text/plain": [
       "240.0"
      ]
     },
     "execution_count": 542,
     "metadata": {},
     "output_type": "execute_result"
    }
   ],
   "source": [
    "no_of_cores_for_CTAB"
   ]
  },
  {
   "cell_type": "code",
   "execution_count": 543,
   "metadata": {},
   "outputs": [
    {
     "data": {
      "text/plain": [
       "5.0"
      ]
     },
     "execution_count": 543,
     "metadata": {},
     "output_type": "execute_result"
    }
   ],
   "source": [
    "no_of_cores_for_CTAB / 48 # nodes"
   ]
  },
  {
   "cell_type": "code",
   "execution_count": 544,
   "metadata": {},
   "outputs": [],
   "source": [
    "no_of_cores_for_CTAB_rounded = no_of_cores_for_CTAB # geht schön auf"
   ]
  },
  {
   "cell_type": "code",
   "execution_count": 545,
   "metadata": {},
   "outputs": [
    {
     "data": {
      "text/plain": [
       "array([1.5e-06, 1.5e-06, 1.5e-06, 1.5e-06])"
      ]
     },
     "execution_count": 545,
     "metadata": {},
     "output_type": "execute_result"
    }
   ],
   "source": [
    "# wall time per step [hours]\n",
    "core_h_estimate_for_AFM_probe_of_CTAB \\\n",
    "    / no_of_cores_for_CTAB / necessary_steps"
   ]
  },
  {
   "cell_type": "code",
   "execution_count": 546,
   "metadata": {},
   "outputs": [],
   "source": [
    "# wall time per step [hours]\n",
    "wall_time_per_step_CTAB = (core_h_estimate_for_AFM_probe_of_CTAB \\\n",
    "    / no_of_cores_for_CTAB / necessary_steps)[0]"
   ]
  },
  {
   "cell_type": "code",
   "execution_count": 547,
   "metadata": {},
   "outputs": [
    {
     "data": {
      "text/plain": [
       "1.4999999999999998e-06"
      ]
     },
     "execution_count": 547,
     "metadata": {},
     "output_type": "execute_result"
    }
   ],
   "source": [
    "wall_time_per_step_CTAB"
   ]
  },
  {
   "cell_type": "code",
   "execution_count": 548,
   "metadata": {},
   "outputs": [
    {
     "data": {
      "text/plain": [
       "array([3.75e+06, 3.75e+07, 3.75e+08, 3.75e+09])"
      ]
     },
     "execution_count": 548,
     "metadata": {},
     "output_type": "execute_result"
    }
   ],
   "source": [
    "necessary_steps"
   ]
  },
  {
   "cell_type": "code",
   "execution_count": 549,
   "metadata": {},
   "outputs": [],
   "source": [
    "core_h_estimate_for_AFM_probe_of_SDS_check = \\\n",
    "    necessary_steps*wall_time_per_step_SDS*no_of_cores_for_SDS_rounded"
   ]
  },
  {
   "cell_type": "code",
   "execution_count": 550,
   "metadata": {},
   "outputs": [
    {
     "data": {
      "text/plain": [
       "array([   900.,   9000.,  90000., 900000.])"
      ]
     },
     "execution_count": 550,
     "metadata": {},
     "output_type": "execute_result"
    }
   ],
   "source": [
    "core_h_estimate_for_AFM_probe_of_SDS"
   ]
  },
  {
   "cell_type": "code",
   "execution_count": 551,
   "metadata": {},
   "outputs": [
    {
     "data": {
      "text/plain": [
       "array([   900.,   9000.,  90000., 900000.])"
      ]
     },
     "execution_count": 551,
     "metadata": {},
     "output_type": "execute_result"
    }
   ],
   "source": [
    "core_h_estimate_for_AFM_probe_of_SDS_check"
   ]
  },
  {
   "cell_type": "code",
   "execution_count": 552,
   "metadata": {},
   "outputs": [],
   "source": [
    "core_h_estimate_for_AFM_probe_of_CTAB_check = \\\n",
    "    necessary_steps*wall_time_per_step_CTAB*no_of_cores_for_CTAB_rounded"
   ]
  },
  {
   "cell_type": "code",
   "execution_count": 553,
   "metadata": {},
   "outputs": [
    {
     "data": {
      "text/plain": [
       "array([   1350.,   13500.,  135000., 1350000.])"
      ]
     },
     "execution_count": 553,
     "metadata": {},
     "output_type": "execute_result"
    }
   ],
   "source": [
    "core_h_estimate_for_AFM_probe_of_CTAB"
   ]
  },
  {
   "cell_type": "code",
   "execution_count": 554,
   "metadata": {},
   "outputs": [
    {
     "data": {
      "text/plain": [
       "array([   1350.,   13500.,  135000., 1350000.])"
      ]
     },
     "execution_count": 554,
     "metadata": {},
     "output_type": "execute_result"
    }
   ],
   "source": [
    "core_h_estimate_for_AFM_probe_of_CTAB_check"
   ]
  },
  {
   "cell_type": "markdown",
   "metadata": {},
   "source": [
    "# Shear MD"
   ]
  },
  {
   "cell_type": "markdown",
   "metadata": {},
   "source": [
    "### SDS"
   ]
  },
  {
   "cell_type": "code",
   "execution_count": 476,
   "metadata": {},
   "outputs": [
    {
     "data": {
      "text/plain": [
       "15.0"
      ]
     },
     "execution_count": 476,
     "metadata": {},
     "output_type": "execute_result"
    }
   ],
   "source": [
    "round(box_measures_SDS_SI[0,1]*1e9)# lateral box measures"
   ]
  },
  {
   "cell_type": "code",
   "execution_count": 477,
   "metadata": {},
   "outputs": [],
   "source": [
    "d_SDS = no_of_transitions * round(box_measures_SDS_SI[0,1]*1e9)"
   ]
  },
  {
   "cell_type": "code",
   "execution_count": 478,
   "metadata": {},
   "outputs": [
    {
     "data": {
      "text/plain": [
       "45.0"
      ]
     },
     "execution_count": 478,
     "metadata": {},
     "output_type": "execute_result"
    }
   ],
   "source": [
    "d_SDS"
   ]
  },
  {
   "cell_type": "code",
   "execution_count": 479,
   "metadata": {},
   "outputs": [
    {
     "data": {
      "text/plain": [
       "array([1.   , 0.1  , 0.01 , 0.001])"
      ]
     },
     "execution_count": 479,
     "metadata": {},
     "output_type": "execute_result"
    }
   ],
   "source": [
    "v_SI"
   ]
  },
  {
   "cell_type": "code",
   "execution_count": 480,
   "metadata": {},
   "outputs": [],
   "source": [
    "d_SDS_SI = d_SDS * 1e-9"
   ]
  },
  {
   "cell_type": "code",
   "execution_count": 481,
   "metadata": {},
   "outputs": [],
   "source": [
    "necessary_steps_SDS = d_SDS_SI / (v_SI * dt_SI)"
   ]
  },
  {
   "cell_type": "code",
   "execution_count": 482,
   "metadata": {},
   "outputs": [
    {
     "data": {
      "text/plain": [
       "array([2.25e+07, 2.25e+08, 2.25e+09, 2.25e+10])"
      ]
     },
     "execution_count": 482,
     "metadata": {},
     "output_type": "execute_result"
    }
   ],
   "source": [
    "necessary_steps_SDS"
   ]
  },
  {
   "cell_type": "code",
   "execution_count": 473,
   "metadata": {},
   "outputs": [
    {
     "data": {
      "text/plain": [
       "270000000.0"
      ]
     },
     "execution_count": 473,
     "metadata": {},
     "output_type": "execute_result"
    }
   ],
   "source": [
    "necessary_steps_CTAB[1] # at 1 cm / s"
   ]
  },
  {
   "cell_type": "code",
   "execution_count": 483,
   "metadata": {},
   "outputs": [
    {
     "data": {
      "text/plain": [
       "0.225"
      ]
     },
     "execution_count": 483,
     "metadata": {},
     "output_type": "execute_result"
    }
   ],
   "source": [
    "necessary_steps_SDS[1] * 1e-9"
   ]
  },
  {
   "cell_type": "code",
   "execution_count": 485,
   "metadata": {},
   "outputs": [],
   "source": [
    "t_SDS_ns = d_SDS / v_SI # simulation time span in ns"
   ]
  },
  {
   "cell_type": "code",
   "execution_count": 488,
   "metadata": {},
   "outputs": [
    {
     "data": {
      "text/plain": [
       "array([   45.,   450.,  4500., 45000.])"
      ]
     },
     "execution_count": 488,
     "metadata": {},
     "output_type": "execute_result"
    }
   ],
   "source": [
    "t_SDS_ns"
   ]
  },
  {
   "cell_type": "markdown",
   "metadata": {},
   "source": [
    "### CTAB"
   ]
  },
  {
   "cell_type": "code",
   "execution_count": 434,
   "metadata": {},
   "outputs": [],
   "source": [
    "no_of_transitions = 3"
   ]
  },
  {
   "cell_type": "code",
   "execution_count": 442,
   "metadata": {},
   "outputs": [
    {
     "data": {
      "text/plain": [
       "18.0"
      ]
     },
     "execution_count": 442,
     "metadata": {},
     "output_type": "execute_result"
    }
   ],
   "source": [
    "round(box_measures_CTAB_SI[0,1]*1e9)# lateral box measures"
   ]
  },
  {
   "cell_type": "code",
   "execution_count": 460,
   "metadata": {},
   "outputs": [],
   "source": [
    "d_CTAB = no_of_transitions * round(box_measures_CTAB_SI[0,1]*1e9)"
   ]
  },
  {
   "cell_type": "code",
   "execution_count": 602,
   "metadata": {},
   "outputs": [
    {
     "data": {
      "text/plain": [
       "54.0"
      ]
     },
     "execution_count": 602,
     "metadata": {},
     "output_type": "execute_result"
    }
   ],
   "source": [
    "d_CTAB"
   ]
  },
  {
   "cell_type": "code",
   "execution_count": 461,
   "metadata": {},
   "outputs": [
    {
     "data": {
      "text/plain": [
       "array([1.   , 0.1  , 0.01 , 0.001])"
      ]
     },
     "execution_count": 461,
     "metadata": {},
     "output_type": "execute_result"
    }
   ],
   "source": [
    "v_SI"
   ]
  },
  {
   "cell_type": "code",
   "execution_count": 465,
   "metadata": {},
   "outputs": [],
   "source": [
    "d_CTAB_SI = d_CTAB * 1e-9"
   ]
  },
  {
   "cell_type": "code",
   "execution_count": 470,
   "metadata": {},
   "outputs": [],
   "source": [
    "necessary_steps_CTAB = d_CTAB_SI / (v_SI * dt_SI)"
   ]
  },
  {
   "cell_type": "code",
   "execution_count": 472,
   "metadata": {},
   "outputs": [
    {
     "data": {
      "text/plain": [
       "array([2.7e+07, 2.7e+08, 2.7e+09, 2.7e+10])"
      ]
     },
     "execution_count": 472,
     "metadata": {},
     "output_type": "execute_result"
    }
   ],
   "source": [
    "necessary_steps_CTAB"
   ]
  },
  {
   "cell_type": "code",
   "execution_count": 473,
   "metadata": {},
   "outputs": [
    {
     "data": {
      "text/plain": [
       "270000000.0"
      ]
     },
     "execution_count": 473,
     "metadata": {},
     "output_type": "execute_result"
    }
   ],
   "source": [
    "necessary_steps_CTAB[1] # at 1 cm / s"
   ]
  },
  {
   "cell_type": "code",
   "execution_count": 474,
   "metadata": {},
   "outputs": [
    {
     "data": {
      "text/plain": [
       "0.27"
      ]
     },
     "execution_count": 474,
     "metadata": {},
     "output_type": "execute_result"
    }
   ],
   "source": [
    "necessary_steps_CTAB[1] * 1e-9"
   ]
  },
  {
   "cell_type": "code",
   "execution_count": 490,
   "metadata": {},
   "outputs": [],
   "source": [
    "t_CTAB_ns = d_CTAB / v_SI # simulation time span in ns"
   ]
  },
  {
   "cell_type": "code",
   "execution_count": 491,
   "metadata": {},
   "outputs": [
    {
     "data": {
      "text/plain": [
       "array([   54.,   540.,  5400., 54000.])"
      ]
     },
     "execution_count": 491,
     "metadata": {},
     "output_type": "execute_result"
    }
   ],
   "source": [
    "t_CTAB_ns"
   ]
  },
  {
   "cell_type": "markdown",
   "metadata": {},
   "source": [
    "### core h estimate"
   ]
  },
  {
   "cell_type": "code",
   "execution_count": 484,
   "metadata": {},
   "outputs": [],
   "source": [
    "core_h_per_particle_ns = 0.3e-3 # based on hfr13 2018 JURECA benchmark"
   ]
  },
  {
   "cell_type": "code",
   "execution_count": 494,
   "metadata": {},
   "outputs": [],
   "source": [
    "core_h_estimate_for_shear_of_SDS = core_h_per_particle_ns \\\n",
    "    * reference_number_of_particles_SDS_rounded * t_SDS_ns"
   ]
  },
  {
   "cell_type": "code",
   "execution_count": 496,
   "metadata": {},
   "outputs": [
    {
     "data": {
      "text/plain": [
       "array([   5400.,   54000.,  540000., 5400000.])"
      ]
     },
     "execution_count": 496,
     "metadata": {},
     "output_type": "execute_result"
    }
   ],
   "source": [
    "core_h_estimate_for_shear_of_SDS"
   ]
  },
  {
   "cell_type": "code",
   "execution_count": 497,
   "metadata": {},
   "outputs": [],
   "source": [
    "core_h_estimate_for_shear_of_CTAB = core_h_per_particle_ns \\\n",
    "    * reference_number_of_particles_CTAB_rounded * t_CTAB_ns"
   ]
  },
  {
   "cell_type": "code",
   "execution_count": 499,
   "metadata": {},
   "outputs": [
    {
     "data": {
      "text/plain": [
       "array([   9720.,   97200.,  972000., 9720000.])"
      ]
     },
     "execution_count": 499,
     "metadata": {},
     "output_type": "execute_result"
    }
   ],
   "source": [
    "core_h_estimate_for_shear_of_CTAB"
   ]
  },
  {
   "cell_type": "markdown",
   "metadata": {},
   "source": [
    "### number of cores estimate"
   ]
  },
  {
   "cell_type": "code",
   "execution_count": 565,
   "metadata": {},
   "outputs": [],
   "source": [
    "particles_per_core = 2500 # based on hfr13 2018 JURECA benchmark"
   ]
  },
  {
   "cell_type": "code",
   "execution_count": 566,
   "metadata": {},
   "outputs": [],
   "source": [
    "no_of_cores_for_SDS = \\\n",
    "    reference_number_of_particles_SDS_rounded / particles_per_core"
   ]
  },
  {
   "cell_type": "code",
   "execution_count": 567,
   "metadata": {},
   "outputs": [
    {
     "data": {
      "text/plain": [
       "160.0"
      ]
     },
     "execution_count": 567,
     "metadata": {},
     "output_type": "execute_result"
    }
   ],
   "source": [
    "no_of_cores_for_SDS"
   ]
  },
  {
   "cell_type": "code",
   "execution_count": 568,
   "metadata": {},
   "outputs": [],
   "source": [
    "cores_per_node = 48 # JUWELS"
   ]
  },
  {
   "cell_type": "code",
   "execution_count": 569,
   "metadata": {},
   "outputs": [
    {
     "data": {
      "text/plain": [
       "3.3333333333333335"
      ]
     },
     "execution_count": 569,
     "metadata": {},
     "output_type": "execute_result"
    }
   ],
   "source": [
    "no_of_cores_for_SDS / cores_per_node # nodes"
   ]
  },
  {
   "cell_type": "code",
   "execution_count": 570,
   "metadata": {},
   "outputs": [],
   "source": [
    "no_of_cores_for_SDS_rounded = cores_per_node * \\\n",
    "    np.ceil(no_of_cores_for_SDS / cores_per_node) # nodes"
   ]
  },
  {
   "cell_type": "code",
   "execution_count": 571,
   "metadata": {},
   "outputs": [
    {
     "data": {
      "text/plain": [
       "192.0"
      ]
     },
     "execution_count": 571,
     "metadata": {},
     "output_type": "execute_result"
    }
   ],
   "source": [
    "no_of_cores_for_SDS_rounded"
   ]
  },
  {
   "cell_type": "code",
   "execution_count": 572,
   "metadata": {},
   "outputs": [
    {
     "data": {
      "text/plain": [
       "array([1.25e-06, 1.25e-06, 1.25e-06, 1.25e-06])"
      ]
     },
     "execution_count": 572,
     "metadata": {},
     "output_type": "execute_result"
    }
   ],
   "source": [
    "# wall time per step [hours]\n",
    "core_h_estimate_for_shear_of_SDS \\\n",
    "    / no_of_cores_for_SDS_rounded / necessary_steps_SDS"
   ]
  },
  {
   "cell_type": "code",
   "execution_count": 573,
   "metadata": {},
   "outputs": [],
   "source": [
    "# wall time per step [hours]\n",
    "wall_time_per_step_SDS = (core_h_estimate_for_shear_of_SDS \\\n",
    "    / no_of_cores_for_SDS_rounded / necessary_steps_SDS)[0]"
   ]
  },
  {
   "cell_type": "code",
   "execution_count": 574,
   "metadata": {},
   "outputs": [
    {
     "data": {
      "text/plain": [
       "1.2499999999999999e-06"
      ]
     },
     "execution_count": 574,
     "metadata": {},
     "output_type": "execute_result"
    }
   ],
   "source": [
    "wall_time_per_step_SDS"
   ]
  },
  {
   "cell_type": "code",
   "execution_count": 575,
   "metadata": {},
   "outputs": [],
   "source": [
    "no_of_cores_for_CTAB = \\\n",
    "    reference_number_of_particles_CTAB_rounded / particles_per_core"
   ]
  },
  {
   "cell_type": "code",
   "execution_count": 576,
   "metadata": {},
   "outputs": [
    {
     "data": {
      "text/plain": [
       "240.0"
      ]
     },
     "execution_count": 576,
     "metadata": {},
     "output_type": "execute_result"
    }
   ],
   "source": [
    "no_of_cores_for_CTAB"
   ]
  },
  {
   "cell_type": "code",
   "execution_count": 577,
   "metadata": {},
   "outputs": [
    {
     "data": {
      "text/plain": [
       "5.0"
      ]
     },
     "execution_count": 577,
     "metadata": {},
     "output_type": "execute_result"
    }
   ],
   "source": [
    "no_of_cores_for_CTAB / 48 # nodes"
   ]
  },
  {
   "cell_type": "code",
   "execution_count": 578,
   "metadata": {},
   "outputs": [],
   "source": [
    "no_of_cores_for_CTAB_rounded = no_of_cores_for_CTAB # geht schön auf"
   ]
  },
  {
   "cell_type": "code",
   "execution_count": 579,
   "metadata": {},
   "outputs": [
    {
     "data": {
      "text/plain": [
       "array([1.5e-06, 1.5e-06, 1.5e-06, 1.5e-06])"
      ]
     },
     "execution_count": 579,
     "metadata": {},
     "output_type": "execute_result"
    }
   ],
   "source": [
    "# wall time per step [hours]\n",
    "core_h_estimate_for_shear_of_CTAB \\\n",
    "    / no_of_cores_for_CTAB / necessary_steps_CTAB"
   ]
  },
  {
   "cell_type": "code",
   "execution_count": 582,
   "metadata": {},
   "outputs": [],
   "source": [
    "# wall time per step [hours]\n",
    "wall_time_per_step_CTAB = (core_h_estimate_for_shear_of_CTAB \\\n",
    "    / no_of_cores_for_CTAB / necessary_steps_CTAB)[0]"
   ]
  },
  {
   "cell_type": "code",
   "execution_count": 583,
   "metadata": {},
   "outputs": [
    {
     "data": {
      "text/plain": [
       "1.5e-06"
      ]
     },
     "execution_count": 583,
     "metadata": {},
     "output_type": "execute_result"
    }
   ],
   "source": [
    "wall_time_per_step_CTAB"
   ]
  },
  {
   "cell_type": "code",
   "execution_count": 365,
   "metadata": {},
   "outputs": [
    {
     "data": {
      "text/plain": [
       "array([3.75e+06, 3.75e+07, 3.75e+08, 3.75e+09])"
      ]
     },
     "execution_count": 365,
     "metadata": {},
     "output_type": "execute_result"
    }
   ],
   "source": [
    "necessary_steps"
   ]
  },
  {
   "cell_type": "code",
   "execution_count": 584,
   "metadata": {},
   "outputs": [],
   "source": [
    "core_h_estimate_for_shear_of_SDS_check = \\\n",
    "    necessary_steps_SDS*wall_time_per_step_SDS*no_of_cores_for_SDS_rounded"
   ]
  },
  {
   "cell_type": "code",
   "execution_count": 587,
   "metadata": {},
   "outputs": [
    {
     "data": {
      "text/plain": [
       "array([   5400.,   54000.,  540000., 5400000.])"
      ]
     },
     "execution_count": 587,
     "metadata": {},
     "output_type": "execute_result"
    }
   ],
   "source": [
    "core_h_estimate_for_shear_of_SDS"
   ]
  },
  {
   "cell_type": "code",
   "execution_count": 588,
   "metadata": {},
   "outputs": [
    {
     "data": {
      "text/plain": [
       "array([   5400.,   54000.,  540000., 5400000.])"
      ]
     },
     "execution_count": 588,
     "metadata": {},
     "output_type": "execute_result"
    }
   ],
   "source": [
    "core_h_estimate_for_shear_of_SDS_check"
   ]
  },
  {
   "cell_type": "code",
   "execution_count": 589,
   "metadata": {},
   "outputs": [],
   "source": [
    "core_h_estimate_for_shear_of_CTAB_check = \\\n",
    "    necessary_steps_CTAB*wall_time_per_step_CTAB*no_of_cores_for_CTAB_rounded"
   ]
  },
  {
   "cell_type": "code",
   "execution_count": 591,
   "metadata": {},
   "outputs": [
    {
     "data": {
      "text/plain": [
       "array([   9720.,   97200.,  972000., 9720000.])"
      ]
     },
     "execution_count": 591,
     "metadata": {},
     "output_type": "execute_result"
    }
   ],
   "source": [
    "core_h_estimate_for_shear_of_CTAB"
   ]
  },
  {
   "cell_type": "code",
   "execution_count": 590,
   "metadata": {},
   "outputs": [
    {
     "data": {
      "text/plain": [
       "array([9.72e+03, 9.72e+04, 9.72e+05, 9.72e+06])"
      ]
     },
     "execution_count": 590,
     "metadata": {},
     "output_type": "execute_result"
    }
   ],
   "source": [
    "core_h_estimate_for_shear_of_CTAB_check"
   ]
  },
  {
   "cell_type": "code",
   "execution_count": 593,
   "metadata": {},
   "outputs": [
    {
     "data": {
      "text/plain": [
       "array([   18144.,   181440.,  1814400., 18144000.])"
      ]
     },
     "execution_count": 593,
     "metadata": {},
     "output_type": "execute_result"
    }
   ],
   "source": [
    "(core_h_estimate_for_shear_of_SDS + core_h_estimate_for_shear_of_CTAB)*1.2"
   ]
  },
  {
   "cell_type": "code",
   "execution_count": 599,
   "metadata": {},
   "outputs": [
    {
     "data": {
      "text/plain": [
       "array([   5400.,   54000.,  540000., 5400000.])"
      ]
     },
     "execution_count": 599,
     "metadata": {},
     "output_type": "execute_result"
    }
   ],
   "source": [
    "(core_h_estimate_for_AFM_probe_of_SDS + core_h_estimate_for_AFM_probe_of_CTAB)*2.4"
   ]
  },
  {
   "cell_type": "code",
   "execution_count": 598,
   "metadata": {},
   "outputs": [
    {
     "data": {
      "text/plain": [
       "1.1"
      ]
     },
     "execution_count": 598,
     "metadata": {},
     "output_type": "execute_result"
    }
   ],
   "source": [
    "5.5*0.2"
   ]
  },
  {
   "cell_type": "code",
   "execution_count": 600,
   "metadata": {},
   "outputs": [
    {
     "data": {
      "text/plain": [
       "7214400"
      ]
     },
     "execution_count": 600,
     "metadata": {},
     "output_type": "execute_result"
    }
   ],
   "source": [
    "5400000 + 1814400"
   ]
  },
  {
   "cell_type": "code",
   "execution_count": 601,
   "metadata": {},
   "outputs": [
    {
     "data": {
      "text/plain": [
       "7.409999999999999"
      ]
     },
     "execution_count": 601,
     "metadata": {},
     "output_type": "execute_result"
    }
   ],
   "source": [
    "1.8+2.7+1.1+0.54+0.97+0.3"
   ]
  },
  {
   "cell_type": "code",
   "execution_count": 605,
   "metadata": {},
   "outputs": [
    {
     "data": {
      "text/plain": [
       "400000.0"
      ]
     },
     "execution_count": 605,
     "metadata": {},
     "output_type": "execute_result"
    }
   ],
   "source": [
    "reference_number_of_particles_SDS_rounded"
   ]
  },
  {
   "cell_type": "markdown",
   "metadata": {},
   "source": [
    "## Previous"
   ]
  },
  {
   "cell_type": "code",
   "execution_count": 618,
   "metadata": {},
   "outputs": [
    {
     "data": {
      "text/plain": [
       "['103_SDS_on_AU_111_60x35x2_bilayer_with_counterion',\n",
       " '1107_SDS_on_AU_111_51x30x2_bilayer_with_counterion',\n",
       " '1107_SDS_on_AU_111_51x30x2_cylinders_with_counterion',\n",
       " '1107_SDS_on_AU_111_51x30x2_hemicylinders_with_counterion',\n",
       " '1107_SDS_on_AU_111_51x30x2_monolayer_with_counterion',\n",
       " '123_SDS_on_AU_111_17x10x2_bilayer_with_counterion',\n",
       " '129_SDS_on_AU_111_51x30x2_bilayer_with_counterion',\n",
       " '129_SDS_on_AU_111_51x30x2_cylinders_with_counterion',\n",
       " '129_SDS_on_AU_111_51x30x2_hemicylinders_with_counterion',\n",
       " '129_SDS_on_AU_111_51x30x2_monolayer_with_counterion',\n",
       " '14_SDS_on_AU_111_17x10x2_bilayer_with_counterion',\n",
       " '1519_SDS_on_AU_111_60x35x2_bilayer_with_counterion',\n",
       " '165_SDS_on_AU_111_26x15x2_bilayer_with_counterion',\n",
       " '177_SDS_on_AU_111_60x35x2_bilayer_with_counterion',\n",
       " '19_SDS_on_AU_111_26x15x2_bilayer_with_counterion',\n",
       " '220_SDS_on_AU_111_51x30x2_bilayer_with_counterion',\n",
       " '220_SDS_on_AU_111_51x30x2_cylinders_with_counterion',\n",
       " '220_SDS_on_AU_111_51x30x2_hemicylinders_with_counterion',\n",
       " '220_SDS_on_AU_111_51x30x2_monolayer_with_counterion',\n",
       " '2214_SDS_on_AU_111_51x30x2_bilayer_with_counterion',\n",
       " '2214_SDS_on_AU_111_51x30x2_cylinders_with_counterion',\n",
       " '2214_SDS_on_AU_111_51x30x2_hemicylinders_with_counterion',\n",
       " '2214_SDS_on_AU_111_51x30x2_monolayer_with_counterion',\n",
       " '246_SDS_on_AU_111_17x10x2_bilayer_with_counterion',\n",
       " '24_SDS_on_AU_111_17x10x2_bilayer_with_counterion',\n",
       " '282_SDS_on_AU_111_26x15x2_bilayer_with_counterion',\n",
       " '302_SDS_on_AU_111_60x35x2_bilayer_with_counterion',\n",
       " '3038_SDS_on_AU_111_60x35x2_bilayer_with_counterion',\n",
       " '33_SDS_on_AU_111_26x15x2_bilayer_with_counterion',\n",
       " '377_SDS_on_AU_111_51x30x2_bilayer_with_counterion',\n",
       " '377_SDS_on_AU_111_51x30x2_cylinders_with_counterion',\n",
       " '377_SDS_on_AU_111_51x30x2_hemicylinders_with_counterion',\n",
       " '377_SDS_on_AU_111_51x30x2_monolayer_with_counterion',\n",
       " '42_SDS_on_AU_111_17x10x2_bilayer_with_counterion',\n",
       " '518_SDS_on_AU_111_60x35x2_bilayer_with_counterion',\n",
       " '564_SDS_on_AU_111_26x15x2_bilayer_with_counterion',\n",
       " '56_SDS_on_AU_111_26x15x2_bilayer_with_counterion',\n",
       " '646_SDS_on_AU_111_51x30x2_bilayer_with_counterion',\n",
       " '646_SDS_on_AU_111_51x30x2_cylinders_with_counterion',\n",
       " '646_SDS_on_AU_111_51x30x2_hemicylinders_with_counterion',\n",
       " '646_SDS_on_AU_111_51x30x2_monolayer_with_counterion',\n",
       " '72_SDS_on_AU_111_17x10x2_bilayer_with_counterion',\n",
       " '75_SDS_on_AU_111_51x30x2_bilayer_with_counterion',\n",
       " '75_SDS_on_AU_111_51x30x2_cylinders_with_counterion',\n",
       " '75_SDS_on_AU_111_51x30x2_hemicylinders_with_counterion',\n",
       " '75_SDS_on_AU_111_51x30x2_monolayer_with_counterion',\n",
       " '887_SDS_on_AU_111_60x35x2_bilayer_with_counterion',\n",
       " '8_SDS_on_AU_111_17x10x2_bilayer_with_counterion',\n",
       " '96_SDS_on_AU_111_26x15x2_bilayer_with_counterion']"
      ]
     },
     "execution_count": 618,
     "metadata": {},
     "output_type": "execute_result"
    }
   ],
   "source": [
    "system_name_scope"
   ]
  },
  {
   "cell_type": "code",
   "execution_count": 644,
   "metadata": {},
   "outputs": [
    {
     "data": {
      "text/plain": [
       "4559.999999999999"
      ]
     },
     "execution_count": 644,
     "metadata": {},
     "output_type": "execute_result"
    }
   ],
   "source": [
    "core_h_per_particle_ns * reference_number_of_particles_SDS_rounded *2 * 19"
   ]
  },
  {
   "cell_type": "code",
   "execution_count": 624,
   "metadata": {},
   "outputs": [
    {
     "data": {
      "text/plain": [
       "22799.999999999996"
      ]
     },
     "execution_count": 624,
     "metadata": {},
     "output_type": "execute_result"
    }
   ],
   "source": [
    "core_h_per_particle_ns * reference_number_of_particles_SDS_rounded * 10 * 19"
   ]
  },
  {
   "cell_type": "code",
   "execution_count": 640,
   "metadata": {},
   "outputs": [
    {
     "data": {
      "text/plain": [
       "25199.999999999996"
      ]
     },
     "execution_count": 640,
     "metadata": {},
     "output_type": "execute_result"
    }
   ],
   "source": [
    "core_h_per_particle_ns * reference_number_of_particles_CTAB_rounded * 10 * 14"
   ]
  },
  {
   "cell_type": "code",
   "execution_count": 641,
   "metadata": {},
   "outputs": [
    {
     "data": {
      "text/plain": [
       "1"
      ]
     },
     "execution_count": 641,
     "metadata": {},
     "output_type": "execute_result"
    }
   ],
   "source": []
  },
  {
   "cell_type": "code",
   "execution_count": 625,
   "metadata": {},
   "outputs": [],
   "source": [
    "# original SDS systems without indenter\n",
    "system_name_scope = list( sim_df[ \n",
    "        sim_df['indenter'].isna() & \\\n",
    "        (sim_df['surfactant'] == 'SDS') &\n",
    "        sim_df['sf_preassembly'].isin(preassemblies_of_interest)\n",
    "    ].index )"
   ]
  },
  {
   "cell_type": "code",
   "execution_count": 626,
   "metadata": {},
   "outputs": [
    {
     "data": {
      "text/plain": [
       "49"
      ]
     },
     "execution_count": 626,
     "metadata": {},
     "output_type": "execute_result"
    }
   ],
   "source": [
    "len(system_name_scope)"
   ]
  },
  {
   "cell_type": "code",
   "execution_count": 627,
   "metadata": {},
   "outputs": [
    {
     "data": {
      "text/plain": [
       "['103_SDS_on_AU_111_60x35x2_bilayer_with_counterion',\n",
       " '1107_SDS_on_AU_111_51x30x2_bilayer_with_counterion',\n",
       " '1107_SDS_on_AU_111_51x30x2_cylinders_with_counterion',\n",
       " '1107_SDS_on_AU_111_51x30x2_hemicylinders_with_counterion',\n",
       " '1107_SDS_on_AU_111_51x30x2_monolayer_with_counterion',\n",
       " '123_SDS_on_AU_111_17x10x2_bilayer_with_counterion',\n",
       " '129_SDS_on_AU_111_51x30x2_bilayer_with_counterion',\n",
       " '129_SDS_on_AU_111_51x30x2_cylinders_with_counterion',\n",
       " '129_SDS_on_AU_111_51x30x2_hemicylinders_with_counterion',\n",
       " '129_SDS_on_AU_111_51x30x2_monolayer_with_counterion',\n",
       " '14_SDS_on_AU_111_17x10x2_bilayer_with_counterion',\n",
       " '1519_SDS_on_AU_111_60x35x2_bilayer_with_counterion',\n",
       " '165_SDS_on_AU_111_26x15x2_bilayer_with_counterion',\n",
       " '177_SDS_on_AU_111_60x35x2_bilayer_with_counterion',\n",
       " '19_SDS_on_AU_111_26x15x2_bilayer_with_counterion',\n",
       " '220_SDS_on_AU_111_51x30x2_bilayer_with_counterion',\n",
       " '220_SDS_on_AU_111_51x30x2_cylinders_with_counterion',\n",
       " '220_SDS_on_AU_111_51x30x2_hemicylinders_with_counterion',\n",
       " '220_SDS_on_AU_111_51x30x2_monolayer_with_counterion',\n",
       " '2214_SDS_on_AU_111_51x30x2_bilayer_with_counterion',\n",
       " '2214_SDS_on_AU_111_51x30x2_cylinders_with_counterion',\n",
       " '2214_SDS_on_AU_111_51x30x2_hemicylinders_with_counterion',\n",
       " '2214_SDS_on_AU_111_51x30x2_monolayer_with_counterion',\n",
       " '246_SDS_on_AU_111_17x10x2_bilayer_with_counterion',\n",
       " '24_SDS_on_AU_111_17x10x2_bilayer_with_counterion',\n",
       " '282_SDS_on_AU_111_26x15x2_bilayer_with_counterion',\n",
       " '302_SDS_on_AU_111_60x35x2_bilayer_with_counterion',\n",
       " '3038_SDS_on_AU_111_60x35x2_bilayer_with_counterion',\n",
       " '33_SDS_on_AU_111_26x15x2_bilayer_with_counterion',\n",
       " '377_SDS_on_AU_111_51x30x2_bilayer_with_counterion',\n",
       " '377_SDS_on_AU_111_51x30x2_cylinders_with_counterion',\n",
       " '377_SDS_on_AU_111_51x30x2_hemicylinders_with_counterion',\n",
       " '377_SDS_on_AU_111_51x30x2_monolayer_with_counterion',\n",
       " '42_SDS_on_AU_111_17x10x2_bilayer_with_counterion',\n",
       " '518_SDS_on_AU_111_60x35x2_bilayer_with_counterion',\n",
       " '564_SDS_on_AU_111_26x15x2_bilayer_with_counterion',\n",
       " '56_SDS_on_AU_111_26x15x2_bilayer_with_counterion',\n",
       " '646_SDS_on_AU_111_51x30x2_bilayer_with_counterion',\n",
       " '646_SDS_on_AU_111_51x30x2_cylinders_with_counterion',\n",
       " '646_SDS_on_AU_111_51x30x2_hemicylinders_with_counterion',\n",
       " '646_SDS_on_AU_111_51x30x2_monolayer_with_counterion',\n",
       " '72_SDS_on_AU_111_17x10x2_bilayer_with_counterion',\n",
       " '75_SDS_on_AU_111_51x30x2_bilayer_with_counterion',\n",
       " '75_SDS_on_AU_111_51x30x2_cylinders_with_counterion',\n",
       " '75_SDS_on_AU_111_51x30x2_hemicylinders_with_counterion',\n",
       " '75_SDS_on_AU_111_51x30x2_monolayer_with_counterion',\n",
       " '887_SDS_on_AU_111_60x35x2_bilayer_with_counterion',\n",
       " '8_SDS_on_AU_111_17x10x2_bilayer_with_counterion',\n",
       " '96_SDS_on_AU_111_26x15x2_bilayer_with_counterion']"
      ]
     },
     "execution_count": 627,
     "metadata": {},
     "output_type": "execute_result"
    }
   ],
   "source": [
    "system_name_scope"
   ]
  },
  {
   "cell_type": "code",
   "execution_count": 637,
   "metadata": {},
   "outputs": [
    {
     "data": {
      "text/plain": [
       "array([ 103, 1107,  123,  129,   14, 1519,  165,  177,   19,  220, 2214,\n",
       "        246,   24,  282,  302, 3038,   33,  377,   42,  518,  564,   56,\n",
       "        646,   72,   75,  887,    8,   96])"
      ]
     },
     "execution_count": 637,
     "metadata": {},
     "output_type": "execute_result"
    }
   ],
   "source": [
    "sim_df.loc[system_name_scope,'sf_nmolecules'].unique()"
   ]
  },
  {
   "cell_type": "code",
   "execution_count": null,
   "metadata": {},
   "outputs": [],
   "source": []
  }
 ],
 "metadata": {
  "kernelspec": {
   "display_name": "Python 3 (jlh-bwCloud)",
   "language": "python",
   "name": "python3-jlh-bwcloud"
  },
  "language_info": {
   "codemirror_mode": {
    "name": "ipython",
    "version": 3
   },
   "file_extension": ".py",
   "mimetype": "text/x-python",
   "name": "python",
   "nbconvert_exporter": "python",
   "pygments_lexer": "ipython3",
   "version": "3.6.7"
  }
 },
 "nbformat": 4,
 "nbformat_minor": 2
}
