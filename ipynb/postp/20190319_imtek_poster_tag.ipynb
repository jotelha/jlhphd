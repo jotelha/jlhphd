{
 "cells": [
  {
   "cell_type": "markdown",
   "metadata": {},
   "source": [
    "# Plots Imtek Poster Tag 2019"
   ]
  },
  {
   "cell_type": "markdown",
   "metadata": {},
   "source": [
    "## Header"
   ]
  },
  {
   "cell_type": "markdown",
   "metadata": {},
   "source": [
    "### Imports"
   ]
  },
  {
   "cell_type": "code",
   "execution_count": 68,
   "metadata": {
    "ExecuteTime": {
     "end_time": "2018-10-24T14:22:41.277991Z",
     "start_time": "2018-10-24T14:22:36.749920Z"
    },
    "run_control": {
     "marked": true
    }
   },
   "outputs": [],
   "source": [
    "import pandas as pd\n",
    "import numpy as np\n",
    "import matplotlib.pyplot as plt\n",
    "import scipy as scp\n",
    "import scipy.interpolate\n",
    "import scipy.constants as C\n",
    "import ase.data\n",
    "\n",
    "import os"
   ]
  },
  {
   "cell_type": "code",
   "execution_count": 69,
   "metadata": {
    "ExecuteTime": {
     "end_time": "2018-10-24T14:22:43.668503Z",
     "start_time": "2018-10-24T14:22:41.314769Z"
    }
   },
   "outputs": [],
   "source": [
    "# for storing files in database\n",
    "from fireworks.utilities.filepad import FilePad, LAUNCHPAD_LOC"
   ]
  },
  {
   "cell_type": "markdown",
   "metadata": {
    "deletable": false,
    "editable": false
   },
   "source": [
    "### Global settings"
   ]
  },
  {
   "cell_type": "code",
   "execution_count": 70,
   "metadata": {
    "ExecuteTime": {
     "end_time": "2018-10-24T14:22:43.737989Z",
     "start_time": "2018-10-24T14:22:43.724423Z"
    },
    "deletable": false,
    "editable": false
   },
   "outputs": [],
   "source": [
    "%matplotlib inline"
   ]
  },
  {
   "cell_type": "code",
   "execution_count": 4,
   "metadata": {
    "ExecuteTime": {
     "end_time": "2018-10-24T14:22:44.358394Z",
     "start_time": "2018-10-24T14:22:43.823422Z"
    },
    "deletable": false,
    "editable": false
   },
   "outputs": [],
   "source": [
    "# matplotlib settings\n",
    "\n",
    "# expecially for presentation, larger font settings for plotting are recommendable\n",
    "SMALL_SIZE = 14\n",
    "MEDIUM_SIZE = 16\n",
    "BIGGER_SIZE = 18\n",
    "\n",
    "plt.rc('font', size=SMALL_SIZE)          # controls default text sizes\n",
    "plt.rc('axes', titlesize=SMALL_SIZE)     # fontsize of the axes title\n",
    "plt.rc('axes', labelsize=MEDIUM_SIZE)    # fontsize of the x and y labels\n",
    "plt.rc('xtick', labelsize=SMALL_SIZE)    # fontsize of the tick labels\n",
    "plt.rc('ytick', labelsize=SMALL_SIZE)    # fontsize of the tick labels\n",
    "plt.rc('legend', fontsize=SMALL_SIZE)    # legend fontsize\n",
    "plt.rc('figure', titlesize=BIGGER_SIZE)  # fontsize of the figure titlex\n",
    "\n",
    "plt.rcParams[\"figure.figsize\"] = (11,7) # the standard figure size"
   ]
  },
  {
   "cell_type": "markdown",
   "metadata": {},
   "source": [
    "### Supportive functions & snippets"
   ]
  },
  {
   "cell_type": "code",
   "execution_count": 71,
   "metadata": {
    "ExecuteTime": {
     "end_time": "2018-10-24T14:22:44.656165Z",
     "start_time": "2018-10-24T14:22:44.409168Z"
    },
    "deletable": false,
    "editable": false
   },
   "outputs": [],
   "source": [
    "def df_crossjoin(df1, df2, **kwargs):\n",
    "    \"\"\"Creates row-wise cartesian product of two data frames\"\"\"\n",
    "    df1['_tmpkey'] = 1\n",
    "    df2['_tmpkey'] = 1\n",
    "\n",
    "    res = pd.merge(df1, df2, on='_tmpkey', **kwargs).drop('_tmpkey', axis=1)\n",
    "    #res.index = pd.MultiIndex.from_product((df1.index, df2.index))\n",
    "\n",
    "    df1.drop('_tmpkey', axis=1, inplace=True)\n",
    "    df2.drop('_tmpkey', axis=1, inplace=True)\n",
    "\n",
    "    return res"
   ]
  },
  {
   "cell_type": "code",
   "execution_count": 72,
   "metadata": {
    "ExecuteTime": {
     "end_time": "2018-10-24T14:22:44.949201Z",
     "start_time": "2018-10-24T14:22:44.706781Z"
    },
    "deletable": false,
    "editable": false
   },
   "outputs": [],
   "source": [
    "def subplotPosition(rows,cols):\n",
    "    \"\"\"generator for subplot positions\"\"\"\n",
    "    for p in range(0,rows*cols):\n",
    "        yield rows*100+cols*10+p+1\n",
    "\n",
    "def addSubplot(x, y,\n",
    "               title=None, xlabel=None, ylabel=None, legend=None, fmtstr=None,\n",
    "               fig=None, ax=None, pos=None, figsize=(8,5)):\n",
    "    \"\"\"facilitate matplotlib figure & subplot creation. only one data series per call.\"\"\"\n",
    "    \n",
    "    if not pos:\n",
    "        pos = 111\n",
    "    if not fig and not ax:\n",
    "        fig = plt.figure(figsize=figsize)\n",
    "    elif not fig and ax:\n",
    "        fig = ax.get_figure()\n",
    "    if not ax:\n",
    "        ax = fig.add_subplot(pos)\n",
    "      \n",
    "    if fmtstr and legend:\n",
    "        ax.plot(x,y,fmtstr,label=legend)\n",
    "    elif fmtstr:\n",
    "        ax.plot(x,y,fmtstr)         \n",
    "    elif legend:\n",
    "        ax.plot(x,y,label=legend)\n",
    "    else:\n",
    "        ax.plot(x,y)\n",
    "               \n",
    "    if title:\n",
    "        ax.set_title(title)\n",
    "    if xlabel:\n",
    "        ax.set_xlabel(xlabel)\n",
    "    if ylabel:\n",
    "        ax.set_ylabel(ylabel)\n",
    "        \n",
    "    if legend:\n",
    "        ax.legend()\n",
    "        \n",
    "    return fig, ax"
   ]
  },
  {
   "cell_type": "code",
   "execution_count": 73,
   "metadata": {
    "ExecuteTime": {
     "end_time": "2018-10-24T14:22:45.281682Z",
     "start_time": "2018-10-24T14:22:45.018021Z"
    },
    "deletable": false,
    "editable": false
   },
   "outputs": [],
   "source": [
    "# constants"
   ]
  },
  {
   "cell_type": "code",
   "execution_count": 74,
   "metadata": {
    "ExecuteTime": {
     "end_time": "2018-10-24T14:22:45.320104Z",
     "start_time": "2018-10-24T14:22:45.316467Z"
    },
    "deletable": false,
    "editable": false
   },
   "outputs": [],
   "source": [
    "AU = C.value(\"atomic mass constant\")"
   ]
  },
  {
   "cell_type": "code",
   "execution_count": 75,
   "metadata": {
    "ExecuteTime": {
     "end_time": "2018-10-24T14:22:46.300717Z",
     "start_time": "2018-10-24T14:22:45.337021Z"
    },
    "deletable": false,
    "editable": false
   },
   "outputs": [
    {
     "data": {
      "text/plain": [
       "1.66053904e-27"
      ]
     },
     "execution_count": 75,
     "metadata": {},
     "output_type": "execute_result"
    }
   ],
   "source": [
    "AU"
   ]
  },
  {
   "cell_type": "code",
   "execution_count": 76,
   "metadata": {
    "ExecuteTime": {
     "end_time": "2018-10-24T14:22:47.112519Z",
     "start_time": "2018-10-24T14:22:47.107882Z"
    },
    "deletable": false,
    "editable": false
   },
   "outputs": [
    {
     "data": {
      "text/plain": [
       "1.66053904e-27"
      ]
     },
     "execution_count": 76,
     "metadata": {},
     "output_type": "execute_result"
    }
   ],
   "source": [
    "C.atomic_mass # kg"
   ]
  },
  {
   "cell_type": "code",
   "execution_count": 77,
   "metadata": {
    "ExecuteTime": {
     "end_time": "2018-10-24T14:22:47.611958Z",
     "start_time": "2018-10-24T14:22:47.608366Z"
    },
    "deletable": false,
    "editable": false
   },
   "outputs": [],
   "source": [
    "# Using ase atomic data"
   ]
  },
  {
   "cell_type": "code",
   "execution_count": 78,
   "metadata": {
    "ExecuteTime": {
     "end_time": "2018-10-24T14:22:48.126406Z",
     "start_time": "2018-10-24T14:22:47.717223Z"
    },
    "deletable": false,
    "editable": false
   },
   "outputs": [],
   "source": [
    "ad = pd.DataFrame(data={\"symbol\": ase.data.chemical_symbols,\n",
    "                                \"name\"  : ase.data.atomic_names,\n",
    "                                \"mass\"  : ase.data.atomic_masses } ) # atomic data"
   ]
  },
  {
   "cell_type": "code",
   "execution_count": 79,
   "metadata": {
    "ExecuteTime": {
     "end_time": "2018-10-24T14:22:48.531277Z",
     "start_time": "2018-10-24T14:22:48.526142Z"
    },
    "deletable": false,
    "editable": false
   },
   "outputs": [],
   "source": [
    "str_DSm = {'C': 12, 'H': 25, 'S': 1, 'O': 4}\n",
    "str_CTAp = {'C': 19, 'H': 42, 'N': 1}"
   ]
  },
  {
   "cell_type": "code",
   "execution_count": 80,
   "metadata": {
    "ExecuteTime": {
     "end_time": "2018-10-24T14:22:48.736463Z",
     "start_time": "2018-10-24T14:22:48.707682Z"
    },
    "deletable": false,
    "editable": false
   },
   "outputs": [],
   "source": [
    "M_Br = ad[ ad.symbol == \"Br\" ]['mass'].values[0] * C.gram # a bit too much"
   ]
  },
  {
   "cell_type": "code",
   "execution_count": 81,
   "metadata": {
    "ExecuteTime": {
     "end_time": "2018-10-24T14:22:49.231992Z",
     "start_time": "2018-10-24T14:22:48.837313Z"
    },
    "deletable": false,
    "editable": false
   },
   "outputs": [],
   "source": [
    "M_Na = ad[ ad.symbol == \"Na\" ]['mass'].values[0] * C.gram"
   ]
  },
  {
   "cell_type": "code",
   "execution_count": 82,
   "metadata": {
    "ExecuteTime": {
     "end_time": "2018-10-24T14:22:49.701273Z",
     "start_time": "2018-10-24T14:22:49.311305Z"
    },
    "deletable": false,
    "editable": false
   },
   "outputs": [],
   "source": [
    "M_DSm = 0\n",
    "for sym, n in str_DSm.items():\n",
    "    M_DSm += ad[ ad.symbol == sym ]['mass'].values[0] * n * C.gram"
   ]
  },
  {
   "cell_type": "code",
   "execution_count": 83,
   "metadata": {
    "ExecuteTime": {
     "end_time": "2018-10-24T14:22:50.467076Z",
     "start_time": "2018-10-24T14:22:49.813509Z"
    },
    "deletable": false,
    "editable": false
   },
   "outputs": [],
   "source": [
    "M_CTAp = 0\n",
    "for sym, n in str_CTAp.items():\n",
    "    M_CTAp += ad[ ad.symbol == sym ]['mass'].values[0] * n * C.gram"
   ]
  },
  {
   "cell_type": "code",
   "execution_count": 84,
   "metadata": {
    "ExecuteTime": {
     "end_time": "2018-10-24T14:22:50.957846Z",
     "start_time": "2018-10-24T14:22:50.786353Z"
    },
    "deletable": false,
    "editable": false
   },
   "outputs": [],
   "source": [
    "M_SDS_sum = M_DSm + M_Na\n",
    "M_CTAB_sum = M_CTAp + M_Br"
   ]
  },
  {
   "cell_type": "code",
   "execution_count": 85,
   "metadata": {
    "ExecuteTime": {
     "end_time": "2018-10-24T14:22:51.291859Z",
     "start_time": "2018-10-24T14:22:51.286941Z"
    },
    "deletable": false,
    "editable": false
   },
   "outputs": [],
   "source": [
    "M_SDS  = 288.372 * C.gram # kg / mol, Na+ inclusively, \n",
    "M_CTAB = 364.45  * C.gram  # kg / mol, Br- inclusively, https://en.wikipedia.org/wiki/Cetrimonium_bromide"
   ]
  },
  {
   "cell_type": "code",
   "execution_count": 86,
   "metadata": {
    "ExecuteTime": {
     "end_time": "2018-10-24T14:22:51.429916Z",
     "start_time": "2018-10-24T14:22:51.322037Z"
    }
   },
   "outputs": [
    {
     "data": {
      "text/plain": [
       "0.28455199999999997"
      ]
     },
     "execution_count": 86,
     "metadata": {},
     "output_type": "execute_result"
    }
   ],
   "source": [
    "M_CTAp"
   ]
  },
  {
   "cell_type": "code",
   "execution_count": 87,
   "metadata": {
    "ExecuteTime": {
     "end_time": "2018-10-24T14:22:51.642005Z",
     "start_time": "2018-10-24T14:22:51.637711Z"
    }
   },
   "outputs": [
    {
     "data": {
      "text/plain": [
       "0.36445"
      ]
     },
     "execution_count": 87,
     "metadata": {},
     "output_type": "execute_result"
    }
   ],
   "source": [
    "M_CTAB"
   ]
  },
  {
   "cell_type": "code",
   "execution_count": 88,
   "metadata": {
    "ExecuteTime": {
     "end_time": "2018-10-24T14:22:51.973485Z",
     "start_time": "2018-10-24T14:22:51.811530Z"
    },
    "deletable": false,
    "editable": false
   },
   "outputs": [
    {
     "data": {
      "text/plain": [
       "5.769280000011978e-06"
      ]
     },
     "execution_count": 88,
     "metadata": {},
     "output_type": "execute_result"
    }
   ],
   "source": [
    "M_SDS_sum - M_SDS"
   ]
  },
  {
   "cell_type": "code",
   "execution_count": 89,
   "metadata": {
    "ExecuteTime": {
     "end_time": "2018-10-24T14:22:52.729642Z",
     "start_time": "2018-10-24T14:22:52.112278Z"
    },
    "deletable": false,
    "editable": false
   },
   "outputs": [
    {
     "data": {
      "text/plain": [
       "6.0000000000060005e-06"
      ]
     },
     "execution_count": 89,
     "metadata": {},
     "output_type": "execute_result"
    }
   ],
   "source": [
    "M_CTAB_sum - M_CTAB"
   ]
  },
  {
   "cell_type": "code",
   "execution_count": 90,
   "metadata": {
    "ExecuteTime": {
     "end_time": "2018-10-24T14:22:53.314953Z",
     "start_time": "2018-10-24T14:22:52.830547Z"
    },
    "deletable": false,
    "editable": false
   },
   "outputs": [],
   "source": [
    "def cMolar(massFraction, molarMassSolute, solventDensity=0.997):\n",
    "    # default density: water at 298 K and 1013 hPa, [density] = kg dm^-3 = kg L^-3\n",
    "    # cMolar_i = massFraction_i * rho / M_i\n",
    "    # where M is the solute's i molar mass, \n",
    "    # and rho the solution's density ( ~ solvent's density at low concentrations)\n",
    "    return massFraction*solventDensity / molarMassSolute # mol L^-3 = M"
   ]
  },
  {
   "cell_type": "code",
   "execution_count": 91,
   "metadata": {
    "ExecuteTime": {
     "end_time": "2018-10-24T14:22:53.589492Z",
     "start_time": "2018-10-24T14:22:53.421851Z"
    },
    "deletable": false,
    "editable": false
   },
   "outputs": [],
   "source": [
    "def cal2J(e):\n",
    "    return e/C.calorie"
   ]
  },
  {
   "cell_type": "code",
   "execution_count": 92,
   "metadata": {
    "ExecuteTime": {
     "end_time": "2018-10-24T14:22:53.986821Z",
     "start_time": "2018-10-24T14:22:53.708852Z"
    },
    "deletable": false,
    "editable": false
   },
   "outputs": [],
   "source": [
    "def J2cal(e):\n",
    "    return e/C.calorie"
   ]
  },
  {
   "cell_type": "code",
   "execution_count": 93,
   "metadata": {
    "ExecuteTime": {
     "end_time": "2018-10-24T14:22:54.015186Z",
     "start_time": "2018-10-24T14:22:53.989876Z"
    },
    "deletable": false,
    "editable": false
   },
   "outputs": [],
   "source": [
    "def sigma2R(sigma): # LJ parameter conversion:\n",
    "    return 2.0**(1.0/6.0)*sigma"
   ]
  },
  {
   "cell_type": "code",
   "execution_count": 94,
   "metadata": {
    "ExecuteTime": {
     "end_time": "2018-10-24T14:22:54.603231Z",
     "start_time": "2018-10-24T14:22:54.018273Z"
    },
    "deletable": false,
    "editable": false,
    "scrolled": true
   },
   "outputs": [
    {
     "data": {
      "text/plain": [
       "2.7107458466671357"
      ]
     },
     "execution_count": 94,
     "metadata": {},
     "output_type": "execute_result"
    }
   ],
   "source": [
    "sigma2R(4.83)/2"
   ]
  },
  {
   "cell_type": "code",
   "execution_count": 95,
   "metadata": {
    "ExecuteTime": {
     "end_time": "2018-10-24T14:22:55.691366Z",
     "start_time": "2018-10-24T14:22:54.930361Z"
    },
    "deletable": false,
    "editable": false
   },
   "outputs": [
    {
     "data": {
      "text/plain": [
       "4.184"
      ]
     },
     "execution_count": 95,
     "metadata": {},
     "output_type": "execute_result"
    }
   ],
   "source": [
    "C.calorie"
   ]
  },
  {
   "cell_type": "code",
   "execution_count": 96,
   "metadata": {
    "ExecuteTime": {
     "end_time": "2018-10-24T14:22:55.818315Z",
     "start_time": "2018-10-24T14:22:55.812360Z"
    },
    "deletable": false,
    "editable": false
   },
   "outputs": [
    {
     "data": {
      "text/plain": [
       "0.05019120458891013"
      ]
     },
     "execution_count": 96,
     "metadata": {},
     "output_type": "execute_result"
    }
   ],
   "source": [
    "J2cal(0.21)"
   ]
  },
  {
   "cell_type": "markdown",
   "metadata": {},
   "source": [
    "## Poster Plot"
   ]
  },
  {
   "cell_type": "code",
   "execution_count": 31,
   "metadata": {
    "ExecuteTime": {
     "end_time": "2018-10-24T14:23:03.975617Z",
     "start_time": "2018-10-24T14:23:03.956214Z"
    }
   },
   "outputs": [],
   "source": [
    "import matplotlib as mpl\n",
    "mpl.rcParams['font.family'] = 'sans-serif'\n",
    "mpl.rcParams['font.sans-serif'] = ['Arial']\n",
    "mpl.rcParams['font.serif'] = ['Arial']\n",
    "mpl.rcParams['font.cursive'] = ['Arial']\n",
    "mpl.rcParams['font.size'] = '10'\n",
    "mpl.rcParams['legend.fontsize'] = '10'\n",
    "mpl.rcParams['xtick.labelsize'] = '8'\n",
    "mpl.rcParams['ytick.labelsize'] = '8'\n",
    "mpl.rcParams['svg.fonttype'] = 'none'"
   ]
  },
  {
   "cell_type": "code",
   "execution_count": 97,
   "metadata": {
    "ExecuteTime": {
     "end_time": "2018-10-24T14:23:04.309182Z",
     "start_time": "2018-10-24T14:23:04.252705Z"
    }
   },
   "outputs": [],
   "source": [
    "# matplotlib settings\n",
    "\n",
    "# expecially for presentation, larger font settings for plotting are recommendable\n",
    "SMALL_SIZE = 20\n",
    "MEDIUM_SIZE = 22\n",
    "BIGGER_SIZE = 26\n",
    "\n",
    "plt.rc('font', size=MEDIUM_SIZE)          # controls default text sizes\n",
    "plt.rc('axes', titlesize=MEDIUM_SIZE)     # fontsize of the axes title\n",
    "plt.rc('axes', labelsize=MEDIUM_SIZE)    # fontsize of the x and y labels\n",
    "plt.rc('xtick', labelsize=SMALL_SIZE)    # fontsize of the tick labels\n",
    "plt.rc('ytick', labelsize=SMALL_SIZE)    # fontsize of the tick labels\n",
    "plt.rc('legend', fontsize=MEDIUM_SIZE)    # legend fontsize\n",
    "plt.rc('figure', titlesize=BIGGER_SIZE)  # fontsize of the figure titlex\n",
    "\n",
    "plt.rcParams[\"figure.figsize\"] = (16,10) # the standard figure size\n",
    "\n",
    "plt.rcParams[\"lines.linewidth\"] = 4\n",
    "plt.rcParams[\"lines.markersize\"] = 14\n",
    "plt.rcParams[\"lines.markeredgewidth\"]=1 "
   ]
  },
  {
   "cell_type": "code",
   "execution_count": 98,
   "metadata": {
    "ExecuteTime": {
     "end_time": "2018-10-24T14:23:05.959722Z",
     "start_time": "2018-10-24T14:23:05.954136Z"
    }
   },
   "outputs": [],
   "source": [
    "import json\n",
    "from glob import glob\n",
    "import re\n",
    "from pprint import pprint"
   ]
  },
  {
   "cell_type": "code",
   "execution_count": 99,
   "metadata": {
    "ExecuteTime": {
     "end_time": "2018-10-24T14:23:09.119245Z",
     "start_time": "2018-10-24T14:23:09.115029Z"
    }
   },
   "outputs": [],
   "source": [
    "prefix = os.getcwd()"
   ]
  },
  {
   "cell_type": "code",
   "execution_count": 100,
   "metadata": {
    "ExecuteTime": {
     "end_time": "2018-10-24T14:23:10.261676Z",
     "start_time": "2018-10-24T14:23:10.257400Z"
    }
   },
   "outputs": [],
   "source": [
    "data_prefix = prefix + os.sep + 'data' + os.sep + 'references'"
   ]
  },
  {
   "cell_type": "code",
   "execution_count": 101,
   "metadata": {
    "ExecuteTime": {
     "end_time": "2018-10-24T14:23:12.587363Z",
     "start_time": "2018-10-24T14:23:12.583344Z"
    }
   },
   "outputs": [],
   "source": [
    "filename_regex = re.compile('zhang2014stick_slip_fig([0-9])_(.*)[.]csv')"
   ]
  },
  {
   "cell_type": "code",
   "execution_count": 102,
   "metadata": {
    "ExecuteTime": {
     "end_time": "2018-10-24T14:23:13.247081Z",
     "start_time": "2018-10-24T14:23:12.733353Z"
    }
   },
   "outputs": [],
   "source": [
    "title_dict = {\n",
    "    2: r'Adsorption isotherm of SDS on 316L stainless steel',\n",
    "    4: r'COF of $\\mathrm{ZrO}_2$ / stainless steel friction couple at $3 \\mathrm{N}$ load and $2 \\mathrm{mm} \\mathrm{s}^{-1}$ sliding velocity',\n",
    "    7: r'Kinetic ($\\mu_k$) and static ($\\mu_s$) COF during stick-slip at different SDS concentraions',\n",
    "    8: r'Critical velocity for continuous sliding'\n",
    "}"
   ]
  },
  {
   "cell_type": "code",
   "execution_count": 103,
   "metadata": {
    "ExecuteTime": {
     "end_time": "2018-10-24T14:23:13.335516Z",
     "start_time": "2018-10-24T14:23:13.331383Z"
    }
   },
   "outputs": [],
   "source": [
    "x_label_dict = {\n",
    "    2: r'SDS bulk concentration $c$ $\\left(\\mathrm{mM}\\right)$',\n",
    "    4: r'SDS bulk concentration $c$ $\\left(\\mathrm{mM}\\right)$',\n",
    "    7: r'Sliding velocity $v$ $\\left(\\mathrm{mm}\\ \\mathrm{s}^{-1}\\right)$',\n",
    "    8: r'SDS bulk concentration $c$ $\\left(\\mathrm{mM}\\right)$'\n",
    "}"
   ]
  },
  {
   "cell_type": "code",
   "execution_count": 104,
   "metadata": {
    "ExecuteTime": {
     "end_time": "2018-10-24T14:23:13.554623Z",
     "start_time": "2018-10-24T14:23:13.549274Z"
    }
   },
   "outputs": [],
   "source": [
    "y_label_dict = {\n",
    "    2: r'Adsorption mass $m$ $\\left(\\mathrm{ng}\\ \\mathrm{cm}^{-2}\\right)$',\n",
    "    4: r'Coefficient of friction $\\mu$',\n",
    "    7: r'Coefficient of friction $\\mu$',\n",
    "    8: r'Critical velocity $v$ $\\left(\\mathrm{mm}\\ \\mathrm{s}^{-1}\\right)$'\n",
    "}"
   ]
  },
  {
   "cell_type": "code",
   "execution_count": 105,
   "metadata": {
    "ExecuteTime": {
     "end_time": "2018-10-24T14:23:14.876201Z",
     "start_time": "2018-10-24T14:23:14.186817Z"
    }
   },
   "outputs": [],
   "source": [
    "ref_dict = {}\n",
    "#ref_prefix = 'zhang2014stick_slip_'\n",
    "for f in glob(data_prefix + os.sep + 'zhang2014stick_slip_*.csv'):\n",
    "    filename = os.path.basename(f)\n",
    "    matched = filename_regex.match(filename)\n",
    "    \n",
    "    fig_num = int( matched.group(1) )\n",
    "    if fig_num not in ref_dict:\n",
    "        ref_dict[fig_num] = {}\n",
    "    \n",
    "    data_set_name = matched.group(2)\n",
    "    ref_dict[fig_num][data_set_name] = pd.read_csv(f, header=None, skiprows=0)"
   ]
  },
  {
   "cell_type": "code",
   "execution_count": 106,
   "metadata": {
    "ExecuteTime": {
     "end_time": "2018-10-24T14:23:46.620648Z",
     "start_time": "2018-10-24T14:23:43.759000Z"
    }
   },
   "outputs": [
    {
     "data": {
      "image/png": "[encoded data removed]",
      "text/plain": [
       "<Figure size 1152x720 with 1 Axes>"
      ]
     },
     "metadata": {},
     "output_type": "display_data"
    }
   ],
   "source": [
    "fig_num = 2\n",
    "pos = subplotPosition(1,1)\n",
    "p = next(pos)\n",
    "for data_set_name, data_set in ref_dict[fig_num].items():\n",
    "    #plt.semilogx(data_set[0], data_set[1], )\n",
    "    plt.semilogx(data_set[0], data_set[1], 'ko-' )\n",
    "    plt.title(title_dict[fig_num])\n",
    "    plt.xlabel(x_label_dict[fig_num], labelpad=BIGGER_SIZE)\n",
    "    plt.ylabel(y_label_dict[fig_num], labelpad=BIGGER_SIZE)\n",
    "        "
   ]
  },
  {
   "cell_type": "code",
   "execution_count": 42,
   "metadata": {},
   "outputs": [
    {
     "data": {
      "text/plain": [
       "['/usr/share/texmf/fonts/opentype/public/tex-gyre/texgyrecursor-bold.otf',\n",
       " '/usr/share/texmf/fonts/opentype/public/tex-gyre-math/texgyrebonum-math.otf',\n",
       " '/usr/share/fonts/truetype/lato/Lato-Hairline.ttf',\n",
       " '/usr/share/fonts/opentype/stix-word/STIXMath-Regular.otf',\n",
       " '/usr/share/fonts/truetype/lato/Lato-BlackItalic.ttf',\n",
       " '/usr/share/texmf/fonts/opentype/public/tex-gyre-math/texgyreschola-math.otf',\n",
       " '/usr/share/texmf/fonts/opentype/public/tex-gyre/texgyreheros-bolditalic.otf',\n",
       " '/usr/share/texmf/fonts/opentype/public/lm/lmmono10-italic.otf',\n",
       " '/usr/share/texmf/fonts/opentype/public/tex-gyre/texgyreschola-bolditalic.otf',\n",
       " '/usr/share/fonts/opentype/mathjax/MathJax_SansSerif-Bold.otf',\n",
       " '/usr/share/texmf/fonts/opentype/public/lm/lmromancaps10-oblique.otf',\n",
       " '/usr/share/fonts/truetype/lyx/eufm10.ttf',\n",
       " '/usr/share/texmf/fonts/opentype/public/tex-gyre/texgyreheroscn-bolditalic.otf',\n",
       " '/usr/share/fonts/truetype/lyx/cmsy10.ttf',\n",
       " '/usr/share/fonts/opentype/stix/STIXIntegralsSm-Bold.otf',\n",
       " '/usr/share/texmf/fonts/opentype/public/lm/lmroman17-regular.otf',\n",
       " '/usr/share/texmf/fonts/opentype/public/lm/lmromanslant9-regular.otf',\n",
       " '/usr/share/fonts/truetype/lato/Lato-LightItalic.ttf',\n",
       " '/usr/share/fonts/opentype/stix/STIXSizeTwoSym-Regular.otf',\n",
       " '/usr/share/fonts/opentype/stix/STIXSizeOneSym-Regular.otf',\n",
       " '/usr/share/fonts/opentype/stix/STIXIntegralsUp-Bold.otf',\n",
       " '/usr/share/texmf/fonts/opentype/public/lm/lmsans10-oblique.otf',\n",
       " '/usr/share/texmf/fonts/opentype/public/lm/lmmonolt10-oblique.otf',\n",
       " '/usr/share/fonts/opentype/stix/STIXVariants-Bold.otf',\n",
       " '/usr/share/texmf/fonts/opentype/public/lm/lmromanslant10-bold.otf',\n",
       " '/usr/share/texmf/fonts/opentype/public/lm/lmsansquot8-oblique.otf',\n",
       " '/usr/share/fonts/opentype/stix/STIXSizeOneSym-Bold.otf',\n",
       " '/usr/share/fonts/opentype/stix/STIXSizeFourSym-Bold.otf',\n",
       " '/usr/share/texmf/fonts/opentype/public/lm/lmromanunsl10-regular.otf',\n",
       " '/usr/share/texmf/fonts/opentype/public/lm/lmroman6-bold.otf',\n",
       " '/usr/share/fonts/truetype/lyx/msbm10.ttf',\n",
       " '/usr/share/fonts/opentype/mathjax/MathJax_WinIE6-Regular.otf',\n",
       " '/usr/share/texmf/fonts/opentype/public/lm/lmmonoltcond10-regular.otf',\n",
       " '/usr/share/fonts/opentype/mathjax/MathJax_AMS-Regular.otf',\n",
       " '/usr/share/fonts/opentype/stix/STIXSizeTwoSym-Bold.otf',\n",
       " '/usr/share/texmf/fonts/opentype/public/tex-gyre/texgyreheros-bold.otf',\n",
       " '/usr/share/fonts/truetype/ttf-bitstream-vera/VeraMoBd.ttf',\n",
       " '/usr/share/fonts/opentype/mathjax/MathJax_Main-Bold.otf',\n",
       " '/usr/share/texmf/fonts/opentype/public/tex-gyre/texgyreadventor-bolditalic.otf',\n",
       " '/usr/share/texmf/fonts/opentype/public/lm/lmroman5-bold.otf',\n",
       " '/usr/share/texmf/fonts/opentype/public/lm/lmroman7-italic.otf',\n",
       " '/usr/share/texmf/fonts/opentype/public/lm/lmsans9-regular.otf',\n",
       " '/usr/share/fonts/opentype/mathjax/MathJax_Size3-Regular.otf',\n",
       " '/usr/share/fonts/truetype/lato/Lato-MediumItalic.ttf',\n",
       " '/usr/share/texmf/fonts/opentype/public/lm/lmromandemi10-oblique.otf',\n",
       " '/usr/share/texmf/fonts/opentype/public/lm/lmsans17-oblique.otf',\n",
       " '/usr/share/fonts/truetype/dejavu/DejaVuSerif-Bold.ttf',\n",
       " '/usr/share/fonts/truetype/lyx/cmmi10.ttf',\n",
       " '/usr/share/texmf/fonts/opentype/public/lm/lmsans12-regular.otf',\n",
       " '/usr/share/fonts/truetype/droid/DroidSansFallbackFull.ttf',\n",
       " '/usr/share/texmf/fonts/opentype/public/tex-gyre/texgyreadventor-italic.otf',\n",
       " '/usr/share/texmf/fonts/opentype/public/lm/lmsans8-regular.otf',\n",
       " '/usr/share/fonts/truetype/ttf-bitstream-vera/VeraSe.ttf',\n",
       " '/usr/share/texmf/fonts/opentype/public/tex-gyre/texgyrebonum-bolditalic.otf',\n",
       " '/usr/share/fonts/truetype/lato/Lato-HairlineItalic.ttf',\n",
       " '/usr/share/texmf/fonts/opentype/public/lm/lmmonolt10-bold.otf',\n",
       " '/usr/share/texmf/fonts/opentype/public/tex-gyre/texgyrechorus-mediumitalic.otf',\n",
       " '/usr/share/fonts/opentype/stix/STIXIntegralsUp-Regular.otf',\n",
       " '/usr/share/texmf/fonts/opentype/public/lm/lmmonolt10-boldoblique.otf',\n",
       " '/usr/share/texmf/fonts/opentype/public/tex-gyre/texgyreadventor-regular.otf',\n",
       " '/usr/share/fonts/opentype/stix/STIXIntegralsD-Bold.otf',\n",
       " '/usr/share/texmf/fonts/opentype/public/tex-gyre/texgyreschola-italic.otf',\n",
       " '/usr/share/texmf/fonts/opentype/public/tex-gyre/texgyreschola-bold.otf',\n",
       " '/usr/share/fonts/opentype/mathjax/MathJax_Vector-Bold.otf',\n",
       " '/usr/share/fonts/truetype/ttf-bitstream-vera/VeraMoBI.ttf',\n",
       " '/usr/share/fonts/opentype/stix/STIXIntegralsUpSm-Regular.otf',\n",
       " '/usr/share/fonts/opentype/mathjax/MathJax_Typewriter-Regular.otf',\n",
       " '/usr/share/texmf/fonts/opentype/public/tex-gyre/texgyrepagella-italic.otf',\n",
       " '/usr/share/texmf/fonts/opentype/public/lm/lmmono12-regular.otf',\n",
       " '/usr/share/texmf/fonts/opentype/public/lm/lmroman12-italic.otf',\n",
       " '/usr/share/fonts/opentype/stix/STIXNonUnicode-Bold.otf',\n",
       " '/usr/share/texmf/fonts/opentype/public/lm/lmsans17-regular.otf',\n",
       " '/usr/share/fonts/opentype/mathjax/MathJax_Size2-Regular.otf',\n",
       " '/usr/share/fonts/opentype/stix/STIXNonUnicode-Regular.otf',\n",
       " '/usr/share/texmf/fonts/opentype/public/lm/lmromancaps10-regular.otf',\n",
       " '/usr/share/texmf/fonts/opentype/public/lm/lmroman8-italic.otf',\n",
       " '/usr/share/texmf/fonts/opentype/public/lm/lmmonoproplt10-regular.otf',\n",
       " '/usr/share/texmf/fonts/opentype/public/lm/lmromandunh10-regular.otf',\n",
       " '/usr/share/texmf/fonts/opentype/public/tex-gyre/texgyrepagella-regular.otf',\n",
       " '/usr/share/texmf/fonts/opentype/public/lm/lmmonoltcond10-oblique.otf',\n",
       " '/usr/share/fonts/opentype/mathjax/MathJax_Math-BoldItalic.otf',\n",
       " '/usr/share/fonts/truetype/dejavu/DejaVuSansMono.ttf',\n",
       " '/usr/share/fonts/truetype/ttf-bitstream-vera/VeraMoIt.ttf',\n",
       " '/usr/share/texmf/fonts/opentype/public/tex-gyre/texgyrecursor-regular.otf',\n",
       " '/usr/share/fonts/opentype/mathjax/MathJax_Script-Regular.otf',\n",
       " '/usr/share/fonts/truetype/lato/Lato-Regular.ttf',\n",
       " '/usr/share/fonts/opentype/mathjax/MathJax_Fraktur-Bold.otf',\n",
       " '/usr/share/fonts/opentype/stix/STIXNonUnicode-Italic.otf',\n",
       " '/usr/share/texmf/fonts/opentype/public/lm/lmmonocaps10-regular.otf',\n",
       " '/usr/share/texmf/fonts/opentype/public/lm/lmsans12-oblique.otf',\n",
       " '/usr/share/texmf/fonts/opentype/public/lm/lmroman12-bold.otf',\n",
       " '/usr/share/fonts/opentype/font-awesome/FontAwesome.otf',\n",
       " '/usr/share/fonts/truetype/lato/Lato-Heavy.ttf',\n",
       " '/usr/share/texmf/fonts/opentype/public/lm/lmromanslant12-regular.otf',\n",
       " '/usr/share/texmf/fonts/opentype/public/lm/lmromandunh10-oblique.otf',\n",
       " '/usr/share/fonts/truetype/lato/Lato-Bold.ttf',\n",
       " '/usr/share/texmf/fonts/opentype/public/lm/lmroman12-regular.otf',\n",
       " '/usr/share/texmf/fonts/opentype/public/tex-gyre/texgyrecursor-bolditalic.otf',\n",
       " '/usr/share/texmf/fonts/opentype/public/lm/lmsansdemicond10-oblique.otf',\n",
       " '/usr/share/texmf/fonts/opentype/public/tex-gyre/texgyretermes-regular.otf',\n",
       " '/usr/share/fonts/truetype/lato/Lato-Italic.ttf',\n",
       " '/usr/share/texmf/fonts/opentype/public/tex-gyre/texgyreschola-regular.otf',\n",
       " '/usr/share/texmf/fonts/opentype/public/lm/lmroman9-bold.otf',\n",
       " '/usr/share/fonts/truetype/lato/Lato-Black.ttf',\n",
       " '/usr/share/fonts/opentype/stix/STIXSizeFourSym-Regular.otf',\n",
       " '/usr/share/fonts/opentype/stix/STIXGeneral-Bold.otf',\n",
       " '/usr/share/fonts/opentype/stix-word/STIX-Italic.otf',\n",
       " '/usr/share/texmf/fonts/opentype/public/lm/lmroman8-bold.otf',\n",
       " '/usr/share/fonts/truetype/lyx/cmr10.ttf',\n",
       " '/usr/share/texmf/fonts/opentype/public/lm/lmroman7-bold.otf',\n",
       " '/usr/share/fonts/truetype/lato/Lato-BoldItalic.ttf',\n",
       " '/usr/share/texmf/fonts/opentype/public/tex-gyre/texgyreheros-italic.otf',\n",
       " '/usr/share/texmf/fonts/opentype/public/lm/lmsans10-boldoblique.otf',\n",
       " '/usr/share/texmf/fonts/opentype/public/lm/lmroman10-bold.otf',\n",
       " '/usr/share/fonts/opentype/stix/STIXGeneral-Italic.otf',\n",
       " '/usr/share/fonts/truetype/ttf-bitstream-vera/VeraSeBd.ttf',\n",
       " '/usr/share/fonts/opentype/mathjax/MathJax_Size1-Regular.otf',\n",
       " '/usr/share/texmf/fonts/opentype/public/lm/lmsans10-bold.otf',\n",
       " '/usr/share/texmf/fonts/opentype/public/lm/lmsansquot8-bold.otf',\n",
       " '/usr/share/fonts/truetype/dejavu/DejaVuSerif.ttf',\n",
       " '/usr/share/fonts/opentype/stix/STIXNonUnicode-BoldItalic.otf',\n",
       " '/usr/share/texmf/fonts/opentype/public/lm/lmsans8-oblique.otf',\n",
       " '/usr/share/texmf/fonts/opentype/public/lm/lmsans9-oblique.otf',\n",
       " '/usr/share/texmf/fonts/opentype/public/lm/lmmonolt10-regular.otf',\n",
       " '/usr/share/texmf/fonts/opentype/public/tex-gyre-math/texgyredejavu-math.otf',\n",
       " '/usr/share/fonts/opentype/mathjax/MathJax_SansSerif-Italic.otf',\n",
       " '/usr/share/fonts/opentype/stix/STIXSizeFiveSym-Regular.otf',\n",
       " '/usr/share/texmf/fonts/opentype/public/lm/lmroman9-italic.otf',\n",
       " '/usr/share/texmf/fonts/opentype/public/lm/lmmonocaps10-oblique.otf',\n",
       " '/usr/share/texmf/fonts/opentype/public/tex-gyre-math/texgyrepagella-math.otf',\n",
       " '/usr/share/fonts/opentype/stix/STIXGeneral-Regular.otf',\n",
       " '/usr/share/texmf/fonts/opentype/public/tex-gyre/texgyrepagella-bold.otf',\n",
       " '/usr/share/texmf/fonts/opentype/public/lm/lmsansdemicond10-regular.otf',\n",
       " '/usr/share/texmf/fonts/opentype/public/lm/lmromanslant17-regular.otf',\n",
       " '/usr/share/fonts/truetype/dejavu/DejaVuSansMono-Bold.ttf',\n",
       " '/usr/share/texmf/fonts/opentype/public/tex-gyre/texgyretermes-bolditalic.otf',\n",
       " '/usr/share/fonts/truetype/lato/Lato-HeavyItalic.ttf',\n",
       " '/usr/share/texmf/fonts/opentype/public/tex-gyre/texgyrebonum-bold.otf',\n",
       " '/usr/share/texmf/fonts/opentype/public/lm/lmsans10-regular.otf',\n",
       " '/usr/share/texmf/fonts/opentype/public/lm/lmmonoproplt10-oblique.otf',\n",
       " '/usr/share/texmf/fonts/opentype/public/lm/lmromandemi10-regular.otf',\n",
       " '/usr/share/fonts/truetype/lato/Lato-Semibold.ttf',\n",
       " '/usr/share/texmf/fonts/opentype/public/lm/lmroman9-regular.otf',\n",
       " '/usr/share/texmf/fonts/opentype/public/lm/lmroman10-bolditalic.otf',\n",
       " '/usr/share/fonts/opentype/stix-word/STIX-Bold.otf',\n",
       " '/usr/share/fonts/opentype/mathjax/MathJax_Caligraphic-Bold.otf',\n",
       " '/usr/share/texmf/fonts/opentype/public/lm/lmsansquot8-regular.otf',\n",
       " '/usr/share/fonts/truetype/lyx/stmary10.ttf',\n",
       " '/usr/share/fonts/truetype/noto/NotoMono-Regular.ttf',\n",
       " '/usr/share/fonts/truetype/lyx/msam10.ttf',\n",
       " '/usr/share/texmf/fonts/opentype/public/tex-gyre/texgyreheroscn-bold.otf',\n",
       " '/usr/share/fonts/opentype/mathjax/MathJax_Fraktur-Regular.otf',\n",
       " '/usr/share/texmf/fonts/opentype/public/lm/lmmono9-regular.otf',\n",
       " '/usr/share/fonts/opentype/mathjax/MathJax_Main-Regular.otf',\n",
       " '/usr/share/texmf/fonts/opentype/public/lm/lmmonoslant10-regular.otf',\n",
       " '/usr/share/fonts/truetype/lyx/cmex10.ttf',\n",
       " '/usr/share/fonts/truetype/lato/Lato-Light.ttf',\n",
       " '/usr/share/fonts/opentype/stix/STIXVariants-Regular.otf',\n",
       " '/usr/share/fonts/opentype/mathjax/MathJax_SansSerif-Regular.otf',\n",
       " '/usr/share/fonts/opentype/mathjax/MathJax_WinChrome-Regular.otf',\n",
       " '/usr/share/fonts/opentype/mathjax/MathJax_Math-Italic.otf',\n",
       " '/usr/share/fonts/opentype/stix-word/STIX-BoldItalic.otf',\n",
       " '/usr/share/fonts/opentype/stix/STIXGeneral-BoldItalic.otf',\n",
       " '/usr/share/fonts/opentype/mathjax/MathJax_Size4-Regular.otf',\n",
       " '/usr/share/fonts/truetype/ttf-bitstream-vera/VeraBd.ttf',\n",
       " '/usr/share/texmf/fonts/opentype/public/tex-gyre/texgyreheroscn-regular.otf',\n",
       " '/usr/share/fonts/opentype/stix/STIXSizeThreeSym-Bold.otf',\n",
       " '/usr/share/fonts/truetype/lyx/esint10.ttf',\n",
       " '/usr/share/fonts/truetype/ttf-bitstream-vera/VeraBI.ttf',\n",
       " '/usr/share/texmf/fonts/opentype/public/lm/lmmonoproplt10-boldoblique.otf',\n",
       " '/usr/share/fonts/opentype/stix/STIXIntegralsUpSm-Bold.otf',\n",
       " '/usr/share/fonts/opentype/mathjax/MathJax_Math-Regular.otf',\n",
       " '/usr/share/texmf/fonts/opentype/public/lm/lmroman8-regular.otf',\n",
       " '/usr/share/fonts/truetype/lato/Lato-Medium.ttf',\n",
       " '/usr/share/texmf/fonts/opentype/public/lm/lmmono10-regular.otf',\n",
       " '/usr/share/fonts/truetype/lyx/rsfs10.ttf',\n",
       " '/usr/share/fonts/opentype/stix/STIXSizeThreeSym-Regular.otf',\n",
       " '/usr/share/fonts/opentype/mathjax/MathJax_Vector-Regular.otf',\n",
       " '/usr/share/texmf/fonts/opentype/public/lm/lmroman10-regular.otf',\n",
       " '/usr/share/fonts/truetype/font-awesome/fontawesome-webfont.ttf',\n",
       " '/usr/share/texmf/fonts/opentype/public/tex-gyre/texgyreadventor-bold.otf',\n",
       " '/usr/share/texmf/fonts/opentype/public/lm/lmroman5-regular.otf',\n",
       " '/usr/share/texmf/fonts/opentype/public/lm/lmmonoprop10-oblique.otf',\n",
       " '/usr/share/texmf/fonts/opentype/public/tex-gyre/texgyrecursor-italic.otf',\n",
       " '/usr/share/texmf/fonts/opentype/public/lm/lmroman6-regular.otf',\n",
       " '/usr/share/texmf/fonts/opentype/public/lm/lmroman7-regular.otf',\n",
       " '/usr/share/texmf/fonts/opentype/public/tex-gyre/texgyrepagella-bolditalic.otf',\n",
       " '/usr/share/texmf/fonts/opentype/public/lm/lmromanslant8-regular.otf',\n",
       " '/usr/share/fonts/truetype/ttf-bitstream-vera/VeraMono.ttf',\n",
       " '/usr/share/texmf/fonts/opentype/public/lm/lmroman10-italic.otf',\n",
       " '/usr/share/texmf/fonts/opentype/public/lm-math/latinmodern-math.otf',\n",
       " '/usr/share/fonts/opentype/mathjax/MathJax_Main-Italic.otf',\n",
       " '/usr/share/fonts/truetype/ttf-bitstream-vera/VeraIt.ttf',\n",
       " '/usr/share/fonts/truetype/dejavu/DejaVuSans.ttf',\n",
       " '/usr/share/fonts/truetype/lato/Lato-SemiboldItalic.ttf',\n",
       " '/usr/share/texmf/fonts/opentype/public/tex-gyre/texgyrebonum-regular.otf',\n",
       " '/usr/share/fonts/opentype/stix/STIXIntegralsD-Regular.otf',\n",
       " '/usr/share/fonts/truetype/lato/Lato-Thin.ttf',\n",
       " '/usr/share/texmf/fonts/opentype/public/lm/lmmonoproplt10-bold.otf',\n",
       " '/usr/share/texmf/fonts/opentype/public/lm/lmmonoprop10-regular.otf',\n",
       " '/usr/share/texmf/fonts/opentype/public/lm/lmromanslant10-regular.otf',\n",
       " '/usr/share/texmf/fonts/opentype/public/tex-gyre/texgyreheroscn-italic.otf',\n",
       " '/usr/share/texmf/fonts/opentype/public/tex-gyre/texgyrebonum-italic.otf',\n",
       " '/usr/share/fonts/opentype/stix/STIXIntegralsSm-Regular.otf',\n",
       " '/usr/share/texmf/fonts/opentype/public/tex-gyre-math/texgyretermes-math.otf',\n",
       " '/usr/share/texmf/fonts/opentype/public/tex-gyre/texgyretermes-italic.otf',\n",
       " '/usr/share/texmf/fonts/opentype/public/lm/lmsansquot8-boldoblique.otf',\n",
       " '/usr/share/fonts/truetype/lyx/wasy10.ttf',\n",
       " '/usr/share/texmf/fonts/opentype/public/tex-gyre/texgyreheros-regular.otf',\n",
       " '/usr/share/fonts/opentype/stix/STIXIntegralsUpD-Regular.otf',\n",
       " '/usr/share/fonts/opentype/stix-word/STIX-Regular.otf',\n",
       " '/usr/share/texmf/fonts/opentype/public/lm/lmmono8-regular.otf',\n",
       " '/usr/share/fonts/truetype/ttf-bitstream-vera/Vera.ttf',\n",
       " '/usr/share/fonts/truetype/dejavu/DejaVuSans-Bold.ttf',\n",
       " '/usr/share/fonts/opentype/stix/STIXIntegralsUpD-Bold.otf',\n",
       " '/usr/share/fonts/opentype/mathjax/MathJax_Caligraphic-Regular.otf',\n",
       " '/usr/share/texmf/fonts/opentype/public/tex-gyre/texgyretermes-bold.otf',\n",
       " '/usr/share/fonts/truetype/lato/Lato-ThinItalic.ttf']"
      ]
     },
     "execution_count": 42,
     "metadata": {},
     "output_type": "execute_result"
    }
   ],
   "source": [
    "import matplotlib.font_manager\n",
    "matplotlib.font_manager.findSystemFonts(fontpaths=None, fontext='ttf')"
   ]
  },
  {
   "cell_type": "code",
   "execution_count": 43,
   "metadata": {
    "ExecuteTime": {
     "end_time": "2018-10-24T14:23:39.630723Z",
     "start_time": "2018-10-24T14:23:39.625882Z"
    }
   },
   "outputs": [],
   "source": [
    "plt.rcParams[\"figure.figsize\"] = (12,10) # the standard figure size"
   ]
  },
  {
   "cell_type": "code",
   "execution_count": 107,
   "metadata": {},
   "outputs": [
    {
     "data": {
      "text/plain": [
       "Text(0.5, 0, 'SDS bulk concentration $c$ $\\\\left(\\\\mathrm{mM}\\\\right)$')"
      ]
     },
     "execution_count": 107,
     "metadata": {},
     "output_type": "execute_result"
    },
    {
     "data": {
      "image/png": "[encoded data removed]",
      "text/plain": [
       "<Figure size 1152x720 with 2 Axes>"
      ]
     },
     "metadata": {},
     "output_type": "display_data"
    }
   ],
   "source": [
    "fig, ax_COF = plt.subplots()\n",
    "ax_mass = ax_COF.twinx()\n",
    "\n",
    "fig_num = 2\n",
    "for data_set_name, data_set in ref_dict[fig_num].items():\n",
    "    ax_mass.semilogx(data_set[0], data_set[1], 'r:', \n",
    "                     marker='x', markeredgewidth=4, label=r'adsorption mass $m$' )\n",
    "    #ax_mass.semilogx(data_set[0], data_set[1], linestyle='None', \n",
    "    #                 marker='x', markeredgewidth=4, color='b', linewidth=20)\n",
    "    #ax_mass.set_title(title_dict[fig_num])\n",
    "    ax_mass.set_ylabel(y_label_dict[fig_num], labelpad=BIGGER_SIZE, color='r')\n",
    "    #ax_mass.set_label(r'adsorption mass $m$')\n",
    "    \n",
    "fig_num = 4\n",
    "for data_set_name, data_set in ref_dict[fig_num].items():\n",
    "    ax_COF.semilogx(data_set[0], data_set[1], 'bo-', label='COF $\\mu$' )\n",
    "    #ax_COF.semilogx(data_set[0], data_set[1], 'ro' )\n",
    "    #ax_COF.set_xlabel(x_label_dict[fig_num])\n",
    "    ax_COF.set_ylabel(y_label_dict[fig_num], labelpad=BIGGER_SIZE, color='b')\n",
    "    #ax_COF.set_label(r'COF $\\mu$')\n",
    "    \n",
    "ax_COF.set_xlabel(x_label_dict[fig_num], labelpad=BIGGER_SIZE)\n",
    "#ax_COF.legend(frameon=False, loc='center left')\n",
    "#ax_mass.legend(frameon=False, loc='center')\n",
    "\n",
    "#fig.tight_layout()\n"
   ]
  },
  {
   "cell_type": "code",
   "execution_count": 111,
   "metadata": {},
   "outputs": [],
   "source": [
    "fig_num = 7\n",
    "COF_keys = list(ref_dict[fig_num].keys())"
   ]
  },
  {
   "cell_type": "code",
   "execution_count": 112,
   "metadata": {},
   "outputs": [],
   "source": [
    "concentrations = [ 0.01, 0.1, 10, 1]"
   ]
  },
  {
   "cell_type": "code",
   "execution_count": 113,
   "metadata": {},
   "outputs": [],
   "source": [
    "COF_kinetic_keys = sorted(COF_keys)[:4]"
   ]
  },
  {
   "cell_type": "code",
   "execution_count": 114,
   "metadata": {},
   "outputs": [],
   "source": [
    "COF_kinetic_keys_dict = dict(zip(concentrations,COF_kinetic_keys))"
   ]
  },
  {
   "cell_type": "code",
   "execution_count": 115,
   "metadata": {},
   "outputs": [
    {
     "data": {
      "text/plain": [
       "{0.01: 'mu_k_0.01mM_SDS',\n",
       " 0.1: 'mu_k_0.1mM_SDS',\n",
       " 1: 'mu_k_1mM_SDS',\n",
       " 10: 'mu_k_10mM_SDS'}"
      ]
     },
     "execution_count": 115,
     "metadata": {},
     "output_type": "execute_result"
    }
   ],
   "source": [
    "COF_kinetic_keys_dict"
   ]
  },
  {
   "cell_type": "code",
   "execution_count": 116,
   "metadata": {},
   "outputs": [],
   "source": [
    "COF_static_keys = sorted(COF_keys)[4:]"
   ]
  },
  {
   "cell_type": "code",
   "execution_count": 117,
   "metadata": {},
   "outputs": [],
   "source": [
    "COF_static_keys_dict = dict(zip(concentrations,COF_static_keys))"
   ]
  },
  {
   "cell_type": "code",
   "execution_count": 118,
   "metadata": {},
   "outputs": [],
   "source": [
    "full_x_lim = ax_COF.get_xlim()\n",
    "full_y_lim = ax_COF.get_ylim()"
   ]
  },
  {
   "cell_type": "code",
   "execution_count": 119,
   "metadata": {},
   "outputs": [
    {
     "data": {
      "image/png": "[encoded data removed]",
      "text/plain": [
       "<Figure size 1152x720 with 1 Axes>"
      ]
     },
     "metadata": {},
     "output_type": "display_data"
    }
   ],
   "source": [
    "static_label = \"$\\mu_s$ at {0: 5.2f} $\\mathrm{{ mM }}$\"\n",
    "kinetic_label = \"$\\mu_k$ at {0: 5.2f} $\\mathrm{{ mM }}$\"\n",
    "\n",
    "red_styles =['ro-','rX-.','rP--','rs:']\n",
    "blue_styles=['bo-','bX-.','bP--','bs:']\n",
    "num_plots = 4\n",
    "styles = []\n",
    "for i in range(len(red_styles)):\n",
    "    styles.extend([red_styles[i],blue_styles[i]])\n",
    "\n",
    "\n",
    "fig, ax_COF = plt.subplots()\n",
    "#ax_mass = ax_COF.twinx()\n",
    "    \n",
    "fig_num = 7\n",
    "i = 0\n",
    "#for data_set_name, data_set in ref_dict[fig_num].items():\n",
    "for c in sorted(concentrations):\n",
    "    if i == 1 or i == 2: \n",
    "        i +=1 \n",
    "        continue\n",
    "        \n",
    "    static_id = COF_static_keys_dict[c]\n",
    "    kinetic_id = COF_kinetic_keys_dict[c]\n",
    "    ax_COF.semilogx(\n",
    "        ref_dict[fig_num][static_id][0], ref_dict[fig_num][static_id][1], \n",
    "        red_styles[i%num_plots], label = static_label.format(c) )\n",
    "    ax_COF.semilogx(\n",
    "        ref_dict[fig_num][kinetic_id][0], ref_dict[fig_num][kinetic_id][1], \n",
    "        blue_styles[i%num_plots], label = kinetic_label.format(c))\n",
    "    \n",
    "    #if i > 2: break\n",
    "    i += 1\n",
    "\n",
    "    #ax_COF.semilogx(data_set[0], data_set[1], 'ro' )\n",
    "    #ax_COF.set_xlabel(x_label_dict[fig_num])\n",
    "ax_COF.set_ylabel(y_label_dict[fig_num], labelpad=BIGGER_SIZE)\n",
    "ax_COF.set_xlabel(x_label_dict[fig_num], labelpad=BIGGER_SIZE)\n",
    "ax_COF.set_xlim( full_x_lim )\n",
    "ax_COF.set_ylim( full_y_lim )\n",
    "#ax_COF.legend()\n",
    "#ax_COF.set_label(r'COF $\\mu$')    \n",
    "fig.tight_layout()\n"
   ]
  },
  {
   "cell_type": "code",
   "execution_count": 120,
   "metadata": {
    "ExecuteTime": {
     "end_time": "2018-10-24T14:30:25.212558Z",
     "start_time": "2018-10-24T14:30:25.208850Z"
    }
   },
   "outputs": [],
   "source": [
    "fig_num = 8\n"
   ]
  },
  {
   "cell_type": "code",
   "execution_count": 121,
   "metadata": {
    "ExecuteTime": {
     "end_time": "2018-10-24T14:30:36.867668Z",
     "start_time": "2018-10-24T14:30:36.861579Z"
    }
   },
   "outputs": [
    {
     "data": {
      "text/plain": [
       "dict_keys(['Load_3N', 'Load_1N'])"
      ]
     },
     "execution_count": 121,
     "metadata": {},
     "output_type": "execute_result"
    }
   ],
   "source": [
    "ref_dict[fig_num].keys()"
   ]
  },
  {
   "cell_type": "code",
   "execution_count": 122,
   "metadata": {
    "ExecuteTime": {
     "end_time": "2018-10-24T14:27:52.808155Z",
     "start_time": "2018-10-24T14:27:52.708826Z"
    }
   },
   "outputs": [],
   "source": [
    "load_label = ['$3 \\mathrm{N}$ load', '$1 \\mathrm{N}$ load']"
   ]
  },
  {
   "cell_type": "code",
   "execution_count": 123,
   "metadata": {
    "ExecuteTime": {
     "end_time": "2018-10-24T14:31:05.743004Z",
     "start_time": "2018-10-24T14:31:05.734192Z"
    }
   },
   "outputs": [],
   "source": [
    "label_dict = dict(zip( ref_dict[fig_num].keys(), load_label))"
   ]
  },
  {
   "cell_type": "code",
   "execution_count": 124,
   "metadata": {
    "ExecuteTime": {
     "end_time": "2018-10-24T14:31:08.260294Z",
     "start_time": "2018-10-24T14:31:08.255456Z"
    }
   },
   "outputs": [
    {
     "data": {
      "text/plain": [
       "{'Load_1N': '$1 \\\\mathrm{N}$ load', 'Load_3N': '$3 \\\\mathrm{N}$ load'}"
      ]
     },
     "execution_count": 124,
     "metadata": {},
     "output_type": "execute_result"
    }
   ],
   "source": [
    "label_dict"
   ]
  },
  {
   "cell_type": "code",
   "execution_count": 125,
   "metadata": {
    "ExecuteTime": {
     "end_time": "2018-10-24T14:33:53.265531Z",
     "start_time": "2018-10-24T14:33:53.261099Z"
    }
   },
   "outputs": [],
   "source": [
    "styles =['ro-','bo-']"
   ]
  },
  {
   "cell_type": "code",
   "execution_count": 130,
   "metadata": {},
   "outputs": [],
   "source": [
    "# matplotlib settings\n",
    "\n",
    "# expecially for presentation, larger font settings for plotting are recommendable\n",
    "SMALL_SIZE = 20\n",
    "MEDIUM_SIZE = 22\n",
    "BIGGER_SIZE = 26\n",
    "\n",
    "plt.rc('font', size=MEDIUM_SIZE)          # controls default text sizes\n",
    "plt.rc('axes', titlesize=MEDIUM_SIZE)     # fontsize of the axes title\n",
    "plt.rc('axes', labelsize=MEDIUM_SIZE)    # fontsize of the x and y labels\n",
    "plt.rc('xtick', labelsize=SMALL_SIZE)    # fontsize of the tick labels\n",
    "plt.rc('ytick', labelsize=SMALL_SIZE)    # fontsize of the tick labels\n",
    "plt.rc('legend', fontsize=MEDIUM_SIZE)    # legend fontsize\n",
    "plt.rc('figure', titlesize=BIGGER_SIZE)  # fontsize of the figure titlex\n",
    "\n",
    "plt.rcParams[\"figure.figsize\"] = (8,6) # the standard figure size\n",
    "\n",
    "plt.rcParams[\"lines.linewidth\"] = 4\n",
    "plt.rcParams[\"lines.markersize\"] = 14\n",
    "plt.rcParams[\"lines.markeredgewidth\"]=1 "
   ]
  },
  {
   "cell_type": "code",
   "execution_count": 131,
   "metadata": {
    "ExecuteTime": {
     "end_time": "2018-10-24T18:14:47.852828Z",
     "start_time": "2018-10-24T18:14:44.757857Z"
    }
   },
   "outputs": [
    {
     "data": {
      "text/plain": [
       "<matplotlib.legend.Legend at 0x7f6b04478d30>"
      ]
     },
     "execution_count": 131,
     "metadata": {},
     "output_type": "execute_result"
    },
    {
     "data": {
      "image/png": "[encoded data removed]",
      "text/plain": [
       "<Figure size 576x432 with 1 Axes>"
      ]
     },
     "metadata": {},
     "output_type": "display_data"
    }
   ],
   "source": [
    "pos = subplotPosition(1,1)\n",
    "i = 0\n",
    "num_plots = 2\n",
    "p = next(pos)\n",
    "for data_set_name, data_set in ref_dict[fig_num].items():\n",
    "    plt.loglog(data_set[0], data_set[1], styles[i%num_plots], \n",
    "               label = label_dict[data_set_name] )\n",
    "    i +=1\n",
    "    #plt.loglog(data_set[0], data_set[1], 'o-' )\n",
    "    \n",
    "    #plt.title(title_dict[fig_num])\n",
    "plt.xlabel(x_label_dict[fig_num], labelpad=BIGGER_SIZE)\n",
    "plt.ylabel(y_label_dict[fig_num], labelpad=BIGGER_SIZE)\n",
    "plt.legend()"
   ]
  },
  {
   "cell_type": "code",
   "execution_count": 65,
   "metadata": {
    "ExecuteTime": {
     "end_time": "2018-09-26T23:08:27.191297Z",
     "start_time": "2018-09-26T23:08:26.122816Z"
    }
   },
   "outputs": [
    {
     "ename": "NameError",
     "evalue": "name 'exp_sklt_unpublished_fig1_data' is not defined",
     "output_type": "error",
     "traceback": [
      "\u001b[0;31m---------------------------------------------------------------------------\u001b[0m",
      "\u001b[0;31mNameError\u001b[0m                                 Traceback (most recent call last)",
      "\u001b[0;32m<ipython-input-65-3c7581aedbb9>\u001b[0m in \u001b[0;36m<module>\u001b[0;34m()\u001b[0m\n\u001b[1;32m      8\u001b[0m \u001b[0mp\u001b[0m \u001b[0;34m=\u001b[0m \u001b[0mnext\u001b[0m\u001b[0;34m(\u001b[0m\u001b[0mpos\u001b[0m\u001b[0;34m)\u001b[0m\u001b[0;34m\u001b[0m\u001b[0;34m\u001b[0m\u001b[0m\n\u001b[1;32m      9\u001b[0m _, ax = addSubplot(ref_dict[2],\n\u001b[0;32m---> 10\u001b[0;31m                    \u001b[0mexp_sklt_unpublished_fig1_data\u001b[0m\u001b[0;34m[\u001b[0m\u001b[0;34m[\u001b[0m\u001b[0;34m\"GammaN\"\u001b[0m\u001b[0;34m]\u001b[0m\u001b[0;34m]\u001b[0m \u001b[0;34m*\u001b[0m \u001b[0mC\u001b[0m\u001b[0;34m.\u001b[0m\u001b[0mnano\u001b[0m\u001b[0;34m**\u001b[0m\u001b[0;36m2\u001b[0m\u001b[0;34m,\u001b[0m\u001b[0;34m\u001b[0m\u001b[0;34m\u001b[0m\u001b[0m\n\u001b[0m\u001b[1;32m     11\u001b[0m                    \u001b[0mtitle\u001b[0m \u001b[0;34m=\u001b[0m \u001b[0;34m\"Surface number density of surfactant ions on Au (111), experimental\"\u001b[0m\u001b[0;34m,\u001b[0m\u001b[0;34m\u001b[0m\u001b[0;34m\u001b[0m\u001b[0m\n\u001b[1;32m     12\u001b[0m                    \u001b[0mxlabel\u001b[0m \u001b[0;34m=\u001b[0m \u001b[0;34mr'bulk $\\frac{c}{\\mathrm{mM}}$'\u001b[0m\u001b[0;34m,\u001b[0m\u001b[0;34m\u001b[0m\u001b[0;34m\u001b[0m\u001b[0m\n",
      "\u001b[0;31mNameError\u001b[0m: name 'exp_sklt_unpublished_fig1_data' is not defined"
     ]
    },
    {
     "data": {
      "text/plain": [
       "<Figure size 576x360 with 0 Axes>"
      ]
     },
     "metadata": {},
     "output_type": "display_data"
    }
   ],
   "source": [
    "rows = 1\n",
    "cols = 1\n",
    "\n",
    "fig = plt.figure(figsize=(8*cols, 5*rows))\n",
    "\n",
    "pos = subplotPosition(cols=cols,rows=rows)\n",
    "\n",
    "p = next(pos)\n",
    "_, ax = addSubplot(ref_dict[2],\n",
    "                   exp_sklt_unpublished_fig1_data[[\"GammaN\"]] * C.nano**2,\n",
    "                   title = \"Surface number density of surfactant ions on Au (111), experimental\", \n",
    "                   xlabel = r'bulk $\\frac{c}{\\mathrm{mM}}$', \n",
    "                   ylabel = r'molecules per area $\\frac{n}{\\mathrm{nm}^{-2}}$',\n",
    "                   legend = \"SDS, unpublished 2017\", fig = fig, pos = p)\n",
    "_, _ = addSubplot( \n",
    "    exp_sklt_unpublished_fig1_bulk_concentration_from_molecular_area_for_poster_plot(\n",
    "        sim_SDS_on_AU_111_molecular_surface_areas_of_interest ) [1:] / C.milli,     \n",
    "    1.0 / sim_SDS_on_AU_111_molecular_surface_areas_of_interest[1:] * C.nano**2,\n",
    "            fmtstr='ro', fig = fig, pos = p, ax = ax )\n",
    "\n",
    "_, _ = addSubplot( \n",
    "    exp_kawasaki2007influence_fig1b_data[[\"c\"]] / C.milli,\n",
    "    exp_kawasaki2007influence_fig1b_data[[\"GammaN\"]] * C.nano**2,\n",
    "    legend = \"CTAB, Kawasaki 2007\", fig = fig, pos = p, ax = ax )\n",
    "\n",
    "_, _ = addSubplot( \n",
    "    sim_CTAB_on_AU_111_bulk_concentrations_of_interest / C.milli,\n",
    "    1.0 / sim_CTAB_on_AU_111_area_per_monolayer_molecule * C.nano**2,\n",
    "    fmtstr='ro', fig = fig, pos = p, ax = ax,\n",
    "    legend = \"Discrete subsets in focus\")\n",
    "\n",
    "ax.legend(frameon=False)\n",
    "ax.set_xscale(\"log\")\n",
    "fig.tight_layout()"
   ]
  },
  {
   "cell_type": "code",
   "execution_count": 910,
   "metadata": {
    "ExecuteTime": {
     "end_time": "2018-09-26T22:56:00.558084Z",
     "start_time": "2018-09-26T22:56:00.550739Z"
    }
   },
   "outputs": [],
   "source": [
    "minor_x_ticks = np.log10( ax.get_xticks(minor=True) )"
   ]
  },
  {
   "cell_type": "code",
   "execution_count": 911,
   "metadata": {
    "ExecuteTime": {
     "end_time": "2018-09-26T22:56:13.484949Z",
     "start_time": "2018-09-26T22:56:13.476067Z"
    }
   },
   "outputs": [
    {
     "data": {
      "text/plain": [
       "array([-3.69897   , -3.52287875, -3.39794001, -3.30103   , -3.22184875,\n",
       "       -3.15490196, -3.09691001, -3.04575749, -2.69897   , -2.52287875,\n",
       "       -2.39794001, -2.30103   , -2.22184875, -2.15490196, -2.09691001,\n",
       "       -2.04575749, -1.69897   , -1.52287875, -1.39794001, -1.30103   ,\n",
       "       -1.22184875, -1.15490196, -1.09691001, -1.04575749, -0.69897   ,\n",
       "       -0.52287875, -0.39794001, -0.30103   , -0.22184875, -0.15490196,\n",
       "       -0.09691001, -0.04575749,  0.30103   ,  0.47712125,  0.60205999,\n",
       "        0.69897   ,  0.77815125,  0.84509804,  0.90308999,  0.95424251,\n",
       "        1.30103   ,  1.47712125,  1.60205999,  1.69897   ,  1.77815125,\n",
       "        1.84509804,  1.90308999,  1.95424251,  2.30103   ,  2.47712125,\n",
       "        2.60205999,  2.69897   ,  2.77815125,  2.84509804,  2.90308999,\n",
       "        2.95424251,  3.30103   ,  3.47712125,  3.60205999,  3.69897   ,\n",
       "        3.77815125,  3.84509804,  3.90308999,  3.95424251])"
      ]
     },
     "execution_count": 911,
     "metadata": {},
     "output_type": "execute_result"
    }
   ],
   "source": [
    "minor_x_ticks"
   ]
  },
  {
   "cell_type": "code",
   "execution_count": 912,
   "metadata": {
    "ExecuteTime": {
     "end_time": "2018-09-26T22:56:45.543732Z",
     "start_time": "2018-09-26T22:56:45.536493Z"
    }
   },
   "outputs": [],
   "source": [
    "major_x_ticks = np.log10( ax.get_xticks() )"
   ]
  },
  {
   "cell_type": "code",
   "execution_count": 913,
   "metadata": {
    "ExecuteTime": {
     "end_time": "2018-09-26T22:56:48.761162Z",
     "start_time": "2018-09-26T22:56:48.754867Z"
    }
   },
   "outputs": [
    {
     "data": {
      "text/plain": [
       "array([-4., -3., -2., -1.,  0.,  1.,  2.,  3.])"
      ]
     },
     "execution_count": 913,
     "metadata": {},
     "output_type": "execute_result"
    }
   ],
   "source": [
    "major_x_ticks"
   ]
  },
  {
   "cell_type": "code",
   "execution_count": 902,
   "metadata": {
    "ExecuteTime": {
     "end_time": "2018-09-26T22:52:11.206922Z",
     "start_time": "2018-09-26T22:52:11.198080Z"
    }
   },
   "outputs": [],
   "source": [
    "exp_sklt_unpublished_fig1_bulk_log_concentration_from_molecular_area = \\\n",
    "    scipy.interpolate.interp1d(\n",
    "        exp_sklt_unpublished_fig1_data[\"A\"],\n",
    "        np.log10( exp_sklt_unpublished_fig1_data[\"c\"] / C.milli), \n",
    "        axis=0, kind='slinear', bounds_error=False,\n",
    "        fill_value=\"extrapolate\")"
   ]
  },
  {
   "cell_type": "code",
   "execution_count": 931,
   "metadata": {
    "ExecuteTime": {
     "end_time": "2018-09-26T23:03:16.071611Z",
     "start_time": "2018-09-26T23:03:16.066512Z"
    }
   },
   "outputs": [],
   "source": [
    "wanted_minor_x_ticks = minor_x_ticks[ (minor_x_ticks > -3.0) & (minor_x_ticks < 2.0) ]"
   ]
  },
  {
   "cell_type": "code",
   "execution_count": 932,
   "metadata": {
    "ExecuteTime": {
     "end_time": "2018-09-26T23:03:21.236204Z",
     "start_time": "2018-09-26T23:03:21.231595Z"
    }
   },
   "outputs": [],
   "source": [
    "wanted_major_x_ticks = major_x_ticks[ (major_x_ticks >= -2.0) & (major_x_ticks <= 1.9) ]"
   ]
  },
  {
   "cell_type": "code",
   "execution_count": 963,
   "metadata": {
    "ExecuteTime": {
     "end_time": "2018-09-26T23:33:01.304047Z",
     "start_time": "2018-09-26T23:33:01.298987Z"
    }
   },
   "outputs": [],
   "source": [
    "x_ticks_labels = [ '$10^{{{:.0f}}}$'.format(xval) for xval in wanted_major_x_ticks ]"
   ]
  },
  {
   "cell_type": "code",
   "execution_count": 964,
   "metadata": {
    "ExecuteTime": {
     "end_time": "2018-09-26T23:33:05.760482Z",
     "start_time": "2018-09-26T23:33:05.754123Z"
    }
   },
   "outputs": [
    {
     "data": {
      "text/plain": [
       "['$10^{-2}$', '$10^{-1}$', '$10^{0}$', '$10^{1}$']"
      ]
     },
     "execution_count": 964,
     "metadata": {},
     "output_type": "execute_result"
    }
   ],
   "source": [
    "x_ticks_labels"
   ]
  },
  {
   "cell_type": "code",
   "execution_count": 950,
   "metadata": {
    "ExecuteTime": {
     "end_time": "2018-09-26T23:17:46.606707Z",
     "start_time": "2018-09-26T23:17:46.588662Z"
    }
   },
   "outputs": [],
   "source": [
    "import matplotlib as mpl\n",
    "mpl.rcParams['font.family'] = 'sans-serif'\n",
    "mpl.rcParams['font.sans-serif'] = ['Arial']\n",
    "mpl.rcParams['font.serif'] = ['Arial']\n",
    "mpl.rcParams['font.cursive'] = ['Arial']\n",
    "mpl.rcParams['font.size'] = '10'\n",
    "mpl.rcParams['legend.fontsize'] = '10'\n",
    "mpl.rcParams['xtick.labelsize'] = '8'\n",
    "mpl.rcParams['ytick.labelsize'] = '8'\n",
    "mpl.rcParams['svg.fonttype'] = 'none'"
   ]
  },
  {
   "cell_type": "code",
   "execution_count": 988,
   "metadata": {
    "ExecuteTime": {
     "end_time": "2018-09-26T23:49:46.832782Z",
     "start_time": "2018-09-26T23:49:45.634346Z"
    }
   },
   "outputs": [
    {
     "name": "stderr",
     "output_type": "stream",
     "text": [
      "/opt/bwhpc/common/devel/python/3.6.3.20171114/lib/python3.6/site-packages/matplotlib/font_manager.py:1316: UserWarning: findfont: Font family ['sans-serif'] not found. Falling back to DejaVu Sans\n",
      "  (prop.get_family(), self.defaultFamily[fontext]))\n"
     ]
    },
    {
     "data": {
      "image/png": "[encoded data removed]",
      "text/plain": [
       "<matplotlib.figure.Figure at 0x7f8bce2baa58>"
      ]
     },
     "metadata": {},
     "output_type": "display_data"
    }
   ],
   "source": [
    "rows = 1\n",
    "cols = 1\n",
    "\n",
    "fig = plt.figure(figsize=(16*cols, 10*rows))\n",
    "\n",
    "pos = subplotPosition(cols=cols,rows=rows)\n",
    "\n",
    "p = next(pos)\n",
    "_, ax = addSubplot( np.log10( exp_kawasaki2007influence_fig1b_data[[\"c\"]] / C.milli ),\n",
    "                   exp_kawasaki2007influence_fig1b_data[[\"GammaN\"]] * C.nano**2,\n",
    "                   legend = \"CTAB, Kawasaki 2007\", fig = fig, pos = p)\n",
    "_, _ = addSubplot( np.log10( sim_CTAB_on_AU_111_bulk_concentrations_of_interest / C.milli ),\n",
    "                    1.0 / sim_CTAB_on_AU_111_area_per_monolayer_molecule * C.nano**2,\n",
    "                    fmtstr='ro', fig = fig, pos = p, ax = ax )\n",
    "_, _ = addSubplot(\n",
    "    np.log10( exp_sklt_unpublished_fig1_data[[\"c\"]] / C.milli ),\n",
    "            b,\n",
    "            #title = \"Surface number density of surfactant ions on Au (111), experimental\", \n",
    "            legend = \"SDS, unpublished 2017\", fig = fig, pos = p, ax = ax ) \n",
    "_, _ = addSubplot( \n",
    "    exp_sklt_unpublished_fig1_bulk_log_concentration_from_molecular_area(\n",
    "        sim_SDS_on_AU_111_molecular_surface_areas_of_interest )[2:],     \n",
    "    1.0 / sim_SDS_on_AU_111_molecular_surface_areas_of_interest[2:] * C.nano**2,\n",
    "            fmtstr='ro', fig = fig, pos = p, ax = ax,\n",
    "            legend = \"discrete subsets in focus\")\n",
    "\n",
    "\n",
    "ax.legend(frameon=False, loc='upper left')\n",
    "ax.set_yticks(np.arange(0,5,dtype=int))\n",
    "ax.set_xticks(wanted_minor_x_ticks, minor=True)\n",
    "ax.set_xticks(wanted_major_x_ticks, minor=False)\n",
    "ax.set_xticklabels(x_ticks_labels)\n",
    "# ax.set_xscale(\"log\")\n",
    "ax.set_xlabel(r'bulk concentration $ c \\ / \\ \\mathrm{mM}$', labelpad=BIGGER_SIZE)\n",
    "ax.set_ylabel(r'surface number concentration $ n \\ / \\ {\\mathrm{nm}^{-2}}$',labelpad=BIGGER_SIZE)\n",
    "fig.tight_layout()\n"
   ]
  },
  {
   "cell_type": "code",
   "execution_count": 71,
   "metadata": {
    "ExecuteTime": {
     "end_time": "2018-10-29T12:50:25.922194Z",
     "start_time": "2018-10-29T12:50:25.903699Z"
    }
   },
   "outputs": [
    {
     "ename": "NameError",
     "evalue": "name 'exp_sklt_unpublished_fig1_data' is not defined",
     "output_type": "error",
     "traceback": [
      "\u001b[0;31m---------------------------------------------------------------------------\u001b[0m",
      "\u001b[0;31mNameError\u001b[0m                                 Traceback (most recent call last)",
      "\u001b[0;32m<ipython-input-71-a1fd0c644b82>\u001b[0m in \u001b[0;36m<module>\u001b[0;34m()\u001b[0m\n\u001b[0;32m----> 1\u001b[0;31m \u001b[0mexp_sklt_unpublished_fig1_data\u001b[0m\u001b[0;34m[\u001b[0m\u001b[0;34m[\u001b[0m\u001b[0;34m\"GammaN\"\u001b[0m\u001b[0;34m]\u001b[0m\u001b[0;34m]\u001b[0m \u001b[0;34m*\u001b[0m \u001b[0mC\u001b[0m\u001b[0;34m.\u001b[0m\u001b[0mnano\u001b[0m\u001b[0;34m**\u001b[0m\u001b[0;36m2\u001b[0m\u001b[0;34m\u001b[0m\u001b[0m\n\u001b[0m",
      "\u001b[0;31mNameError\u001b[0m: name 'exp_sklt_unpublished_fig1_data' is not defined"
     ]
    }
   ],
   "source": [
    "exp_sklt_unpublished_fig1_data[[\"GammaN\"]] * C.nano**2"
   ]
  },
  {
   "cell_type": "code",
   "execution_count": 989,
   "metadata": {
    "ExecuteTime": {
     "end_time": "2018-09-26T23:50:33.714827Z",
     "start_time": "2018-09-26T23:50:33.708074Z"
    }
   },
   "outputs": [
    {
     "data": {
      "text/plain": [
       "'/work/ws/nemo/fr_jh1130-201708-0/jobs/doc/md/surfactants'"
      ]
     },
     "execution_count": 989,
     "metadata": {},
     "output_type": "execute_result"
    }
   ],
   "source": [
    "os.getcwd()"
   ]
  },
  {
   "cell_type": "code",
   "execution_count": 990,
   "metadata": {
    "ExecuteTime": {
     "end_time": "2018-09-26T23:51:00.590513Z",
     "start_time": "2018-09-26T23:51:00.585559Z"
    }
   },
   "outputs": [],
   "source": [
    "os.mkdir('fig')"
   ]
  },
  {
   "cell_type": "code",
   "execution_count": 991,
   "metadata": {
    "ExecuteTime": {
     "end_time": "2018-09-26T23:51:38.124833Z",
     "start_time": "2018-09-26T23:51:37.665115Z"
    }
   },
   "outputs": [
    {
     "name": "stderr",
     "output_type": "stream",
     "text": [
      "/opt/bwhpc/common/devel/python/3.6.3.20171114/lib/python3.6/site-packages/matplotlib/font_manager.py:1316: UserWarning: findfont: Font family ['sans-serif'] not found. Falling back to DejaVu Sans\n",
      "  (prop.get_family(), self.defaultFamily[fontext]))\n"
     ]
    }
   ],
   "source": [
    "fig.savefig('fig/20180927_concentrations_in_focus.png')"
   ]
  },
  {
   "cell_type": "code",
   "execution_count": 1008,
   "metadata": {
    "ExecuteTime": {
     "end_time": "2018-09-27T03:17:20.881096Z",
     "start_time": "2018-09-27T03:17:20.876267Z"
    }
   },
   "outputs": [],
   "source": [
    "wanted_minor_x_ticks = minor_x_ticks[ (minor_x_ticks > -3.0) & (minor_x_ticks <= 1.0) ]"
   ]
  },
  {
   "cell_type": "code",
   "execution_count": 1009,
   "metadata": {
    "ExecuteTime": {
     "end_time": "2018-09-27T03:17:24.399296Z",
     "start_time": "2018-09-27T03:17:24.394262Z"
    }
   },
   "outputs": [],
   "source": [
    "wanted_major_x_ticks = major_x_ticks[ (major_x_ticks >= -2.0) & (major_x_ticks <= 1.9) ]"
   ]
  },
  {
   "cell_type": "code",
   "execution_count": 1010,
   "metadata": {
    "ExecuteTime": {
     "end_time": "2018-09-27T03:17:26.206666Z",
     "start_time": "2018-09-27T03:17:26.202124Z"
    }
   },
   "outputs": [],
   "source": [
    "x_ticks_labels = [ '$10^{{{:.0f}}}$'.format(xval) for xval in wanted_major_x_ticks ]"
   ]
  },
  {
   "cell_type": "code",
   "execution_count": 1011,
   "metadata": {
    "ExecuteTime": {
     "end_time": "2018-09-27T03:17:27.772661Z",
     "start_time": "2018-09-27T03:17:27.768901Z"
    }
   },
   "outputs": [
    {
     "data": {
      "text/plain": [
       "['$10^{-2}$', '$10^{-1}$', '$10^{0}$', '$10^{1}$']"
      ]
     },
     "execution_count": 1011,
     "metadata": {},
     "output_type": "execute_result"
    }
   ],
   "source": [
    "x_ticks_labels"
   ]
  },
  {
   "cell_type": "code",
   "execution_count": 1013,
   "metadata": {
    "ExecuteTime": {
     "end_time": "2018-09-27T03:20:11.602933Z",
     "start_time": "2018-09-27T03:20:10.456528Z"
    }
   },
   "outputs": [
    {
     "name": "stderr",
     "output_type": "stream",
     "text": [
      "/opt/bwhpc/common/devel/python/3.6.3.20171114/lib/python3.6/site-packages/matplotlib/font_manager.py:1316: UserWarning: findfont: Font family ['sans-serif'] not found. Falling back to DejaVu Sans\n",
      "  (prop.get_family(), self.defaultFamily[fontext]))\n"
     ]
    },
    {
     "data": {
      "image/png": "[encoded data removed]",
      "text/plain": [
       "<matplotlib.figure.Figure at 0x7f8c47758748>"
      ]
     },
     "metadata": {},
     "output_type": "display_data"
    }
   ],
   "source": [
    "rows = 1\n",
    "cols = 1\n",
    "\n",
    "fig = plt.figure(figsize=(16*cols, 10*rows))\n",
    "\n",
    "pos = subplotPosition(cols=cols,rows=rows)\n",
    "\n",
    "p = next(pos)\n",
    "_, ax = addSubplot( np.log10( exp_kawasaki2007influence_fig1b_data[[\"c\"]] / C.milli ),\n",
    "                   exp_kawasaki2007influence_fig1b_data[[\"GammaN\"]] * C.nano**2,\n",
    "                   legend = \"Kawasaki 2007, experimental\", fig = fig, pos = p)\n",
    "_, _ = addSubplot( np.log10( sim_CTAB_on_AU_111_bulk_concentrations_of_interest / C.milli ),\n",
    "                    1.0 / sim_CTAB_on_AU_111_area_per_monolayer_molecule * C.nano**2,\n",
    "                    fmtstr='ro', fig = fig, pos = p, ax = ax,\n",
    "                    legend = \"samples of interest\")\n",
    "# _, _ = addSubplot(\n",
    "#     np.log10( exp_sklt_unpublished_fig1_data[[\"c\"]] / C.milli ),\n",
    "#             exp_sklt_unpublished_fig1_data[[\"GammaN\"]] * C.nano**2,\n",
    "#             #title = \"Surface number density of surfactant ions on Au (111), experimental\", \n",
    "#             legend = \"SDS, unpublished 2017\", fig = fig, pos = p, ax = ax ) \n",
    "# _, _ = addSubplot( \n",
    "#     exp_sklt_unpublished_fig1_bulk_log_concentration_from_molecular_area(\n",
    "#         sim_SDS_on_AU_111_molecular_surface_areas_of_interest )[2:],     \n",
    "#     1.0 / sim_SDS_on_AU_111_molecular_surface_areas_of_interest[2:] * C.nano**2,\n",
    "#             fmtstr='ro', fig = fig, pos = p, ax = ax,\n",
    "#             legend = \"discrete subsets in focus\")\n",
    "\n",
    "\n",
    "ax.legend(frameon=False, loc='upper left')\n",
    "ax.set_yticks(np.arange(1,5,dtype=int))\n",
    "ax.set_xticks(wanted_minor_x_ticks, minor=True)\n",
    "ax.set_xticks(wanted_major_x_ticks, minor=False)\n",
    "ax.set_xticklabels(x_ticks_labels)\n",
    "# ax.set_xscale(\"log\")\n",
    "ax.set_xlabel(r'bulk concentration $ c \\ / \\ \\mathrm{mM}$', labelpad=BIGGER_SIZE)\n",
    "ax.set_ylabel(r'surface number concentration $ n \\ / \\ {\\mathrm{nm}^{-2}}$',labelpad=BIGGER_SIZE)\n",
    "fig.tight_layout()\n"
   ]
  },
  {
   "cell_type": "code",
   "execution_count": 1016,
   "metadata": {
    "ExecuteTime": {
     "end_time": "2018-09-27T03:44:01.467335Z",
     "start_time": "2018-09-27T03:43:57.335023Z"
    }
   },
   "outputs": [
    {
     "name": "stderr",
     "output_type": "stream",
     "text": [
      "/opt/bwhpc/common/devel/python/3.6.3.20171114/lib/python3.6/site-packages/matplotlib/font_manager.py:1316: UserWarning: findfont: Font family ['sans-serif'] not found. Falling back to DejaVu Sans\n",
      "  (prop.get_family(), self.defaultFamily[fontext]))\n"
     ]
    }
   ],
   "source": [
    "fig.savefig('fig/20180927_concentrations_in_focus_ctab_only_600dpi.png', dpi=600)"
   ]
  },
  {
   "cell_type": "code",
   "execution_count": 822,
   "metadata": {
    "ExecuteTime": {
     "end_time": "2018-09-26T21:43:58.051675Z",
     "start_time": "2018-09-26T21:43:57.006584Z"
    }
   },
   "outputs": [
    {
     "data": {
      "image/png": "[encoded data removed]",
      "text/plain": [
       "<matplotlib.figure.Figure at 0x7f8bcea36f28>"
      ]
     },
     "metadata": {},
     "output_type": "display_data"
    }
   ],
   "source": [
    "rows = 1\n",
    "cols = 1\n",
    "\n",
    "fig = plt.figure(figsize=(8*cols, 5*rows))\n",
    "\n",
    "pos = subplotPosition(cols=cols,rows=rows)\n",
    "\n",
    "p = next(pos)\n",
    "fig, ax = addSubplot(\n",
    "                   exp_kawasaki2007influence_fig1b_data[[\"c\"]] / C.milli,\n",
    "                   exp_kawasaki2007influence_fig1b_data[[\"GammaN\"]] * C.angstrom**2,\n",
    "                   title = \"Surface number density of CTA+ on Au (111), experimental\", \n",
    "                   xlabel = r'bulk $\\frac{c}{\\mathrm{mM}}$', \n",
    "                   ylabel = r'molecules per area $\\frac{n}{\\mathrm{nm}^{-2}}$',\n",
    "                   legend = \"Kawasaki 2007\", fig = fig, pos = p)\n",
    "# _, _ = addSubplot(exp_kawasaki2007influence_fig1b_data[[\"c\"]] / C.milli,\n",
    "#                   exp_kawasaki2007influence_fig1b_data[[\"GammaN\"]] * C.nano**2,\n",
    "#                   fmtstr='ro', fig = fig, pos = p, ax = ax)\n",
    "\n",
    "\n",
    "_, _ = addSubplot( exp_sklt_unpublished_fig1_data[[\"c\"]] / C.milli,\n",
    "                   1/exp_sklt_unpublished_fig1_data[[\"A\"]] * C.angstrom**2,\n",
    "                   xlabel = r'bulk $\\frac{c}{\\mathrm{mM}}$', \n",
    "                   ylabel = r'area per molecule $\\frac{A}{\\AA^2}$',\n",
    "                   legend = \"Chen 2009\", fig = fig, ax = ax )\n",
    "\n",
    "ax.plot(\n",
    "    sim_CTAB_on_AU_111_bulk_concentrations_of_interest / C.milli,\n",
    "    1.0 / sim_CTAB_on_AU_111_area_per_monolayer_molecule * C.angstrom**2,'ro',\n",
    "    label = 'discrete subset'\n",
    "    )\n",
    "\n",
    "ax.legend()\n",
    "ax.set_xscale(\"log\")\n",
    "\n",
    "# p = next(pos)\n",
    "# _, ax = addSubplot(exp_kawasaki2007influence_fig1b_data[[\"c\"]] / C.milli,\n",
    "#                   exp_kawasaki2007influence_fig1b_data[[\"A\"]] / C.angstrom**2,\n",
    "#                   title = \"Area perc CTA+ molecule on Au (111), experimental\", \n",
    "#                   xlabel = r'bulk $\\frac{c}{\\mathrm{mM}}$', \n",
    "#                   ylabel = r'area per molecule $\\frac{A}{\\AA^2}$',\n",
    "#                   legend = \"Kawasaki 2007\", fig = fig, pos = p)\n",
    "# _, _ = addSubplot(exp_kawasaki2007influence_fig1b_data[[\"c\"]] / C.milli,\n",
    "#                   exp_kawasaki2007influence_fig1b_data[[\"A\"]] /C.angstrom**2,\n",
    "#                    fmtstr='ro', fig = fig, pos = p, ax = ax)\n",
    "# ax.set_xscale(\"log\")\n",
    "\n",
    "fig.tight_layout()"
   ]
  },
  {
   "cell_type": "markdown",
   "metadata": {},
   "source": [
    "## Simulation performance data"
   ]
  }
 ],
 "metadata": {
  "hide_input": false,
  "kernelspec": {
   "display_name": "Python 3 (jlh-bwCloud)",
   "language": "python",
   "name": "python3-jlh-bwcloud"
  },
  "language_info": {
   "codemirror_mode": {
    "name": "ipython",
    "version": 3
   },
   "file_extension": ".py",
   "mimetype": "text/x-python",
   "name": "python",
   "nbconvert_exporter": "python",
   "pygments_lexer": "ipython3",
   "version": "3.6.7"
  },
  "toc": {
   "base_numbering": 1,
   "nav_menu": {},
   "number_sections": true,
   "sideBar": true,
   "skip_h1_title": false,
   "title_cell": "Table of Contents",
   "title_sidebar": "Contents",
   "toc_cell": false,
   "toc_position": {
    "height": "calc(100% - 180px)",
    "left": "10px",
    "top": "150px",
    "width": "253px"
   },
   "toc_section_display": true,
   "toc_window_display": true
  },
  "varInspector": {
   "cols": {
    "lenName": 16,
    "lenType": 16,
    "lenVar": 40
   },
   "kernels_config": {
    "python": {
     "delete_cmd_postfix": "",
     "delete_cmd_prefix": "del ",
     "library": "var_list.py",
     "varRefreshCmd": "print(var_dic_list())"
    },
    "r": {
     "delete_cmd_postfix": ") ",
     "delete_cmd_prefix": "rm(",
     "library": "var_list.r",
     "varRefreshCmd": "cat(var_dic_list()) "
    }
   },
   "oldHeight": 123.16666599999999,
   "position": {
    "height": "637px",
    "left": "545.583px",
    "right": "48.1667px",
    "top": "153.917px",
    "width": "796px"
   },
   "types_to_exclude": [
    "module",
    "function",
    "builtin_function_or_method",
    "instance",
    "_Feature"
   ],
   "varInspector_section_display": "block",
   "window_display": false
  }
 },
 "nbformat": 4,
 "nbformat_minor": 2
}
