{
 "cells": [
  {
   "cell_type": "markdown",
   "metadata": {},
   "source": [
    "# Managing adsorption film workflows"
   ]
  },
  {
   "cell_type": "code",
   "execution_count": null,
   "metadata": {
    "ExecuteTime": {
     "end_time": "2018-10-09T15:28:05.323088Z",
     "start_time": "2018-10-09T15:28:05.170800Z"
    }
   },
   "outputs": [],
   "source": [
    "%load_ext autoreload"
   ]
  },
  {
   "cell_type": "code",
   "execution_count": null,
   "metadata": {
    "ExecuteTime": {
     "end_time": "2018-10-09T15:28:05.334949Z",
     "start_time": "2018-10-09T15:28:05.331748Z"
    }
   },
   "outputs": [],
   "source": [
    "%autoreload 2"
   ]
  },
  {
   "cell_type": "code",
   "execution_count": null,
   "metadata": {
    "ExecuteTime": {
     "end_time": "2018-10-09T15:28:06.663223Z",
     "start_time": "2018-10-09T15:28:06.606251Z"
    }
   },
   "outputs": [],
   "source": [
    "%config Application.log_level=\"WARN\""
   ]
  },
  {
   "cell_type": "markdown",
   "metadata": {},
   "source": [
    "## Init"
   ]
  },
  {
   "cell_type": "code",
   "execution_count": null,
   "metadata": {
    "ExecuteTime": {
     "end_time": "2018-10-09T15:28:07.043436Z",
     "start_time": "2018-10-09T15:28:07.003071Z"
    }
   },
   "outputs": [],
   "source": [
    "from sys import path"
   ]
  },
  {
   "cell_type": "code",
   "execution_count": null,
   "metadata": {
    "ExecuteTime": {
     "end_time": "2018-10-09T15:28:11.222483Z",
     "start_time": "2018-10-09T15:28:11.184485Z"
    }
   },
   "outputs": [],
   "source": [
    "# NEMO\n",
    "path.append('/home/fr/fr_fr/fr_jh1130/git/fireworks-private/jlh')"
   ]
  },
  {
   "cell_type": "code",
   "execution_count": null,
   "metadata": {
    "ExecuteTime": {
     "end_time": "2018-09-06T09:55:17.811722Z",
     "start_time": "2018-09-06T09:55:17.693331Z"
    }
   },
   "outputs": [],
   "source": [
    "# JURECA\n",
    "path.append('/homea/hka18/hka184/git/fireworks-private/jlh')"
   ]
  },
  {
   "cell_type": "code",
   "execution_count": null,
   "metadata": {
    "ExecuteTime": {
     "end_time": "2018-10-09T15:27:58.543038Z",
     "start_time": "2018-10-09T15:27:58.538141Z"
    }
   },
   "outputs": [],
   "source": [
    "import sys"
   ]
  },
  {
   "cell_type": "code",
   "execution_count": null,
   "metadata": {
    "ExecuteTime": {
     "end_time": "2018-10-09T15:27:59.053033Z",
     "start_time": "2018-10-09T15:27:58.659995Z"
    }
   },
   "outputs": [],
   "source": [
    "print( sys.executable )"
   ]
  },
  {
   "cell_type": "code",
   "execution_count": null,
   "metadata": {
    "ExecuteTime": {
     "end_time": "2018-10-09T15:28:02.112885Z",
     "start_time": "2018-10-09T15:28:02.105069Z"
    }
   },
   "outputs": [],
   "source": [
    "# tune noteboook width to desired value\n",
    "# the margin-left option is necessary if toc is displayed on left hand side\n",
    "from IPython.core.display import display, HTML\n",
    "display(HTML(\"<style>.container { width:100%; margin-left:15%; margin-right:0 !important; }</style>\"))"
   ]
  },
  {
   "cell_type": "code",
   "execution_count": null,
   "metadata": {
    "ExecuteTime": {
     "end_time": "2018-10-09T15:28:07.043436Z",
     "start_time": "2018-10-09T15:28:07.003071Z"
    }
   },
   "outputs": [],
   "source": [
    "import logging\n",
    "import os\n",
    "import datetime\n",
    "from pprint import pprint"
   ]
  },
  {
   "cell_type": "code",
   "execution_count": null,
   "metadata": {
    "ExecuteTime": {
     "end_time": "2018-10-09T15:28:08.089095Z",
     "start_time": "2018-10-09T15:28:08.053701Z"
    }
   },
   "outputs": [],
   "source": [
    "logging.getLogger().handlers #Delete Jupyter notebook root logger handler\n",
    "logger = logging.getLogger()\n",
    "logger.handlers = []\n",
    "\n",
    "#Create logger as usual\n",
    "logger = logging.getLogger(__name__)\n",
    "logger.setLevel(logging.WARN)"
   ]
  },
  {
   "cell_type": "code",
   "execution_count": null,
   "metadata": {
    "ExecuteTime": {
     "end_time": "2018-10-09T15:28:08.791073Z",
     "start_time": "2018-10-09T15:28:08.745518Z"
    }
   },
   "outputs": [],
   "source": [
    "logging.basicConfig(level=logging.WARN)"
   ]
  },
  {
   "cell_type": "code",
   "execution_count": null,
   "metadata": {
    "ExecuteTime": {
     "end_time": "2018-10-09T15:28:16.356996Z",
     "start_time": "2018-10-09T15:28:15.589097Z"
    }
   },
   "outputs": [],
   "source": [
    "import pandas as pd"
   ]
  },
  {
   "cell_type": "code",
   "execution_count": null,
   "metadata": {
    "ExecuteTime": {
     "end_time": "2018-10-09T15:28:18.507841Z",
     "start_time": "2018-10-09T15:28:16.391442Z"
    }
   },
   "outputs": [],
   "source": [
    "from fireworks import Firework, Workflow\n",
    "from fireworks.user_objects.firetasks.jlh_tasks import DummyParentTask, RecoverPackmolTask"
   ]
  },
  {
   "cell_type": "code",
   "execution_count": null,
   "metadata": {
    "ExecuteTime": {
     "end_time": "2018-10-09T15:28:20.737179Z",
     "start_time": "2018-10-09T15:28:19.298008Z"
    }
   },
   "outputs": [],
   "source": [
    "from fwtools.JobAdmin import JobAdmin\n",
    "from fwtools.JobAdmin import l_CTAB, head_atom_number_CTAB, tail_atom_number_CTAB\n",
    "from fwtools.JobAdmin import l_SDS, head_atom_number_SDS, tail_atom_number_SDS"
   ]
  },
  {
   "cell_type": "code",
   "execution_count": null,
   "metadata": {
    "ExecuteTime": {
     "end_time": "2018-09-06T15:32:45.213427Z",
     "start_time": "2018-09-06T15:32:45.007590Z"
    }
   },
   "outputs": [],
   "source": [
    "# NEMO\n",
    "# module use /work/ws/nemo/fr_lp1029-IMTEK_SIMULATION-0/modulefiles within wrapper\n",
    "# double braces to protect from python replacement\n",
    "# lmp_cmd = ' '.join((\n",
    "#     'module purge;',\n",
    "#     'module load lammps/16Mar18-gnu-5.2-openmpi-2.1;',\n",
    "#     'mpirun ${{MPIRUN_OPTIONS}} lmp -in {inputFile:s}' ))\n",
    "# integrated into jobadmin (20180917)"
   ]
  },
  {
   "cell_type": "code",
   "execution_count": null,
   "metadata": {
    "ExecuteTime": {
     "end_time": "2018-09-18T15:09:01.608577Z",
     "start_time": "2018-09-18T15:09:01.529606Z"
    }
   },
   "outputs": [],
   "source": [
    "# JUWELS\n",
    "# module use /work/ws/nemo/fr_lp1029-IMTEK_SIMULATION-0/modulefiles within wrapper\n",
    "# double braces to protect from python replacement\n",
    "# lmp_cmd = ' '.join((\n",
    "#     'module use /gpfs/homea/hka18/hka184/modules/modulefiles;',\n",
    "#     'module load jlh/lammps/16Mar18-intel;',\n",
    "#     'srun lmp -in {inputFile:s}' ))\n",
    "# integrated into jobadmin (20180917)"
   ]
  },
  {
   "cell_type": "code",
   "execution_count": null,
   "metadata": {},
   "outputs": [],
   "source": [
    "# JURECA / JUWELS\n",
    "juwels_path_prefix = os.sep + 'gpfs'\n",
    "prefix = juwels_path_prefix + os.getcwd()"
   ]
  },
  {
   "cell_type": "code",
   "execution_count": null,
   "metadata": {
    "ExecuteTime": {
     "end_time": "2018-10-09T15:28:26.270697Z",
     "start_time": "2018-10-09T15:28:26.179685Z"
    }
   },
   "outputs": [],
   "source": [
    "# prefix automatically for NEMO\n",
    "prefix = os.getcwd()"
   ]
  },
  {
   "cell_type": "code",
   "execution_count": null,
   "metadata": {
    "ExecuteTime": {
     "end_time": "2018-09-18T21:59:11.073401Z",
     "start_time": "2018-09-18T21:59:10.896313Z"
    }
   },
   "outputs": [],
   "source": [
    "# manually for JUWELS:\n",
    "prefix = '/gpfs/homea/hka18/hka184/jobs/lmplab/ctab/201809'"
   ]
  },
  {
   "cell_type": "code",
   "execution_count": null,
   "metadata": {
    "ExecuteTime": {
     "end_time": "2018-10-09T15:28:30.749485Z",
     "start_time": "2018-10-09T15:28:30.685005Z"
    }
   },
   "outputs": [],
   "source": [
    "# manually for NEMO\n",
    "prefix = '/work/ws/nemo/fr_jh1130-201708-0/jobs/lmplab/ctab/201809'"
   ]
  },
  {
   "cell_type": "code",
   "execution_count": null,
   "metadata": {
    "ExecuteTime": {
     "end_time": "2018-10-09T15:28:36.075163Z",
     "start_time": "2018-10-09T15:28:36.029056Z"
    }
   },
   "outputs": [],
   "source": [
    "template_prefix = prefix + os.sep + 'N_surfactant_on_substrate_template'"
   ]
  },
  {
   "cell_type": "code",
   "execution_count": null,
   "metadata": {
    "ExecuteTime": {
     "end_time": "2018-10-09T15:28:36.425934Z",
     "start_time": "2018-10-09T15:28:36.385373Z"
    }
   },
   "outputs": [],
   "source": [
    "output_prefix = prefix + os.sep + 'sys'"
   ]
  },
  {
   "cell_type": "code",
   "execution_count": null,
   "metadata": {
    "ExecuteTime": {
     "end_time": "2018-10-09T15:28:39.086593Z",
     "start_time": "2018-10-09T15:28:38.918608Z"
    }
   },
   "outputs": [],
   "source": [
    "# minimal JobAdmin instance\n",
    "jobadmin = JobAdmin( \n",
    "    queue   = 'NEMO',\n",
    "    template_prefix = template_prefix,\n",
    "    output_prefix   = output_prefix\n",
    ")"
   ]
  },
  {
   "cell_type": "code",
   "execution_count": null,
   "metadata": {
    "ExecuteTime": {
     "end_time": "2018-10-09T15:28:43.515674Z",
     "start_time": "2018-10-09T15:28:43.367168Z"
    }
   },
   "outputs": [],
   "source": [
    "# pull simulation datafile from db\n",
    "content, doc = jobadmin.fp.get_file(identifier='surfactant_on_AU_111_df_json')"
   ]
  },
  {
   "cell_type": "code",
   "execution_count": null,
   "metadata": {
    "ExecuteTime": {
     "end_time": "2018-10-09T15:28:49.440987Z",
     "start_time": "2018-10-09T15:28:45.363119Z"
    }
   },
   "outputs": [],
   "source": [
    "sim_df = pd.read_json(content, orient='index')"
   ]
  },
  {
   "cell_type": "code",
   "execution_count": null,
   "metadata": {
    "ExecuteTime": {
     "end_time": "2018-10-09T15:28:49.624615Z",
     "start_time": "2018-10-09T15:28:49.561488Z"
    }
   },
   "outputs": [],
   "source": [
    "# OR: read simulation data from file\n",
    "# sim_df = pd.read_pickle(sim_data_prefix + os.sep + 'CTAB_on_AU_111.pkl')"
   ]
  },
  {
   "cell_type": "code",
   "execution_count": null,
   "metadata": {
    "ExecuteTime": {
     "end_time": "2018-10-09T15:28:57.188949Z",
     "start_time": "2018-10-09T15:28:57.079552Z"
    }
   },
   "outputs": [],
   "source": [
    "sim_df['sf_preassembly'].unique()"
   ]
  },
  {
   "cell_type": "code",
   "execution_count": null,
   "metadata": {
    "ExecuteTime": {
     "end_time": "2018-10-09T15:28:59.810000Z",
     "start_time": "2018-10-09T15:28:59.760191Z"
    }
   },
   "outputs": [],
   "source": [
    "jobadmin.use_nemo_queue()\n",
    "jobadmin.use_nemo_templates()"
   ]
  },
  {
   "cell_type": "code",
   "execution_count": null,
   "metadata": {
    "ExecuteTime": {
     "end_time": "2018-09-18T14:18:37.761297Z",
     "start_time": "2018-09-18T14:18:37.698463Z"
    }
   },
   "outputs": [],
   "source": [
    "jobadmin.use_juwels_queue()\n",
    "jobadmin.use_juwels_templates()"
   ]
  },
  {
   "cell_type": "code",
   "execution_count": null,
   "metadata": {
    "ExecuteTime": {
     "end_time": "2018-10-09T15:29:01.415313Z",
     "start_time": "2018-10-09T15:29:01.361201Z"
    }
   },
   "outputs": [],
   "source": [
    "jobadmin._sim_df = sim_df"
   ]
  },
  {
   "cell_type": "code",
   "execution_count": null,
   "metadata": {
    "ExecuteTime": {
     "end_time": "2018-09-06T16:04:40.020259Z",
     "start_time": "2018-09-06T16:04:39.845399Z"
    }
   },
   "outputs": [],
   "source": [
    "# jobadmin._sim_df = sim_df.loc[\n",
    "#     (sim_df['sf_preassembly'] == 'cylinders_with_counterion') \\\n",
    "#     | (sim_df['sf_preassembly'] == 'hemicylinders_with_counterion') ]"
   ]
  },
  {
   "cell_type": "code",
   "execution_count": null,
   "metadata": {
    "ExecuteTime": {
     "end_time": "2018-10-09T15:29:05.915055Z",
     "start_time": "2018-10-09T15:29:05.801295Z"
    }
   },
   "outputs": [],
   "source": [
    "os.getlogin()"
   ]
  },
  {
   "cell_type": "code",
   "execution_count": null,
   "metadata": {
    "ExecuteTime": {
     "end_time": "2018-10-09T15:29:02.431834Z",
     "start_time": "2018-10-09T15:29:02.378222Z"
    }
   },
   "outputs": [],
   "source": [
    "template_geninfo = jobadmin._template_geninfo\n",
    "\n",
    "template_geninfo"
   ]
  },
  {
   "cell_type": "code",
   "execution_count": null,
   "metadata": {},
   "outputs": [],
   "source": [
    "# on JURECA\n",
    "template_geninfo = jobadmin._template_geninfo\n",
    "time=datetime.datetime.now().ctime()\n",
    "user = !whoami\n",
    "machine = os.uname().nodename\n",
    "geninfo = template_geninfo.format(datetime=time,user=user[0],machine=machine)\n",
    "# rester to avoid duplicate recognition\n",
    "jobadmin.geninfo(reset=True,static_str=geninfo)"
   ]
  },
  {
   "cell_type": "code",
   "execution_count": null,
   "metadata": {
    "ExecuteTime": {
     "end_time": "2018-10-09T15:29:10.841639Z",
     "start_time": "2018-10-09T15:29:10.779698Z"
    }
   },
   "outputs": [],
   "source": [
    "# on NEMO\n",
    "jobadmin.geninfo(reset=True)"
   ]
  },
  {
   "cell_type": "markdown",
   "metadata": {},
   "source": [
    "## Reinit"
   ]
  },
  {
   "cell_type": "markdown",
   "metadata": {},
   "source": [
    "### on JUWELS"
   ]
  },
  {
   "cell_type": "code",
   "execution_count": null,
   "metadata": {
    "ExecuteTime": {
     "end_time": "2018-09-18T21:59:19.235162Z",
     "start_time": "2018-09-18T21:59:19.091593Z"
    }
   },
   "outputs": [],
   "source": [
    "jobadmin = JobAdmin( \n",
    "    queue   = 'JUWELS',\n",
    "    template_prefix = template_prefix,\n",
    "    output_prefix   = output_prefix,\n",
    "    sim_df = sim_df\n",
    ")\n",
    "jobadmin.std_worker = 'juwels_noqueue'\n",
    "jobadmin.use_juwels_queue()\n",
    "jobadmin.use_juwels_templates()\n",
    "jobadmin.geninfo(reset=True)"
   ]
  },
  {
   "cell_type": "code",
   "execution_count": null,
   "metadata": {
    "ExecuteTime": {
     "end_time": "2018-10-10T13:29:22.976634Z",
     "start_time": "2018-10-10T13:29:22.922864Z"
    }
   },
   "outputs": [],
   "source": [
    "sub_sim_df = sim_df[ sim_df[\"indenter\"].isna() ] # select only systems without indenter"
   ]
  },
  {
   "cell_type": "code",
   "execution_count": null,
   "metadata": {
    "ExecuteTime": {
     "end_time": "2018-10-10T13:29:28.985186Z",
     "start_time": "2018-10-10T13:29:28.929910Z"
    }
   },
   "outputs": [],
   "source": [
    "len(sub_sim_df)"
   ]
  },
  {
   "cell_type": "markdown",
   "metadata": {},
   "source": [
    "### on NEMO\n",
    "rerun everytime methods have been added or their def's altered in order to reinstantiate JobAdmin object"
   ]
  },
  {
   "cell_type": "code",
   "execution_count": null,
   "metadata": {
    "ExecuteTime": {
     "end_time": "2018-10-10T13:29:45.244816Z",
     "start_time": "2018-10-10T13:29:44.763966Z"
    }
   },
   "outputs": [],
   "source": [
    "#  NEMO\n",
    "from fwtools.JobAdmin import JobAdmin\n",
    "from fwtools.JobAdmin import l_CTAB, head_atom_number_CTAB, tail_atom_number_CTAB\n",
    "from fwtools.JobAdmin import l_SDS, head_atom_number_SDS, tail_atom_number_SDS\n",
    "\n",
    "prefix = '/work/ws/nemo/fr_jh1130-201708-0/jobs/lmplab/ctab/201809'\n",
    "template_prefix = prefix + os.sep + 'N_surfactant_on_substrate_template'\n",
    "output_prefix = prefix + os.sep + 'sys'\n",
    "\n",
    "jobadmin = JobAdmin( \n",
    "    queue   = 'NEMO',\n",
    "    template_prefix = template_prefix,\n",
    "    output_prefix   = output_prefix,\n",
    "    sim_df = sim_df\n",
    ")\n",
    "jobadmin.std_worker = 'nemo_noqueue'\n",
    "jobadmin.use_nemo_templates()\n",
    "jobadmin.use_nemo_queue()\n",
    "jobadmin._template_lmp_cmd = ' '.join((\n",
    "    'module purge;',\n",
    "    'module use ${{HOME}}/modulefiles;',\n",
    "    'module load lammps/16Mar18-gnu-7.3-openmpi-3.1-colvars-20Sep18;',\n",
    "    'mpirun ${{MPIRUN_OPTIONS}} lmp -in {inputFile:s}'))\n",
    "jobadmin.geninfo(reset=True)"
   ]
  },
  {
   "cell_type": "markdown",
   "metadata": {},
   "source": [
    "## Pick subselection of systems"
   ]
  },
  {
   "cell_type": "code",
   "execution_count": null,
   "metadata": {},
   "outputs": [],
   "source": [
    "# several samples for system selections\n",
    "# system_name_scope should be the overall scope of systems to look at, i.e. all CTAB systems\n",
    "# system_names is meant as a subset of system_nbame_scope to be worked on "
   ]
  },
  {
   "cell_type": "code",
   "execution_count": null,
   "metadata": {
    "ExecuteTime": {
     "end_time": "2018-09-06T17:44:18.676687Z",
     "start_time": "2018-09-06T17:44:18.317006Z"
    }
   },
   "outputs": [],
   "source": [
    "preassemblies = {\n",
    "    'cylinders_with_counterion',\n",
    "    'hemicylinders_with_counterion',\n",
    "    'bilayer_with_counterion',\n",
    "    'monolayer_with_counterion',\n",
    "    'inverse_monolayer_with_counterion'}"
   ]
  },
  {
   "cell_type": "code",
   "execution_count": null,
   "metadata": {
    "ExecuteTime": {
     "end_time": "2018-09-06T17:44:21.019024Z",
     "start_time": "2018-09-06T17:44:20.883885Z"
    }
   },
   "outputs": [],
   "source": [
    "type(preassemblies)"
   ]
  },
  {
   "cell_type": "code",
   "execution_count": null,
   "metadata": {
    "ExecuteTime": {
     "end_time": "2018-09-06T17:44:34.834419Z",
     "start_time": "2018-09-06T17:44:34.709257Z"
    }
   },
   "outputs": [],
   "source": [
    "system_name_scope = list( sim_df[ \n",
    "    sim_df['sf_preassembly'].isin(preassemblies) ].index\n",
    "                   )"
   ]
  },
  {
   "cell_type": "code",
   "execution_count": null,
   "metadata": {
    "ExecuteTime": {
     "end_time": "2018-09-17T21:07:24.485945Z",
     "start_time": "2018-09-17T21:07:24.432038Z"
    }
   },
   "outputs": [],
   "source": [
    "# original SDS systems without indenter\n",
    "system_name_scope = list( sim_df[ \n",
    "        sim_df['indenter'].isna() & \\\n",
    "        (sim_df['surfactant'] == 'SDS')\n",
    "    ].index )"
   ]
  },
  {
   "cell_type": "code",
   "execution_count": null,
   "metadata": {
    "ExecuteTime": {
     "end_time": "2018-09-06T17:44:34.834419Z",
     "start_time": "2018-09-06T17:44:34.709257Z"
    }
   },
   "outputs": [],
   "source": [
    "system_name_scope = list( sim_df[ \n",
    "    sim_df['sf_preassembly'].isin(preassemblies) ].index\n",
    "                   )"
   ]
  },
  {
   "cell_type": "code",
   "execution_count": null,
   "metadata": {
    "ExecuteTime": {
     "end_time": "2018-10-10T13:33:56.115107Z",
     "start_time": "2018-10-10T13:33:55.937402Z"
    }
   },
   "outputs": [],
   "source": [
    "# original systems without indenter\n",
    "system_name_scope = list( sim_df[ \n",
    "        sim_df['indenter'].isna()\n",
    "    ].index )"
   ]
  },
  {
   "cell_type": "code",
   "execution_count": null,
   "metadata": {
    "ExecuteTime": {
     "end_time": "2018-10-09T15:31:56.169226Z",
     "start_time": "2018-10-09T15:31:56.109916Z"
    }
   },
   "outputs": [],
   "source": [
    "# original CTAB systems without indenter\n",
    "system_name_scope = list( sim_df[ \n",
    "        sim_df['indenter'].isna() & \\\n",
    "        (sim_df['surfactant'] == 'CTAB' )\n",
    "    ].index )"
   ]
  },
  {
   "cell_type": "code",
   "execution_count": null,
   "metadata": {
    "ExecuteTime": {
     "end_time": "2018-09-24T17:24:42.842035Z",
     "start_time": "2018-09-24T17:24:42.683673Z"
    }
   },
   "outputs": [],
   "source": [
    "# CTAB with indenter\n",
    "system_name_scope = list( sim_df[ \n",
    "    (sim_df['indenter'] == '50Ang_stepped') &\n",
    "    (sim_df['surfactant'] == 'CTAB' ) ].index )"
   ]
  },
  {
   "cell_type": "code",
   "execution_count": null,
   "metadata": {
    "ExecuteTime": {
     "end_time": "2018-10-09T15:31:56.169226Z",
     "start_time": "2018-10-09T15:31:56.109916Z"
    }
   },
   "outputs": [],
   "source": [
    "# original CTAB systems without indenter, counterions at polar heads\n",
    "system_name_scope = list( sim_df[ \n",
    "        sim_df['indenter'].isna() & \\\n",
    "        (sim_df['surfactant'] == 'CTAB') & \\\n",
    "        (sim_df['ci_initial_placement'] == 'at_polar_head') & \\\n",
    "        (sim_df[\"sb_name\"] == 'AU_111_63x36x2') & \\\n",
    "        (sim_df['sf_preassembly'] != 'inverse_monolayer_with_counterion')\n",
    "    ].index )"
   ]
  },
  {
   "cell_type": "markdown",
   "metadata": {},
   "source": [
    "# Initial systems (no indenter)"
   ]
  },
  {
   "cell_type": "markdown",
   "metadata": {},
   "source": [
    "## Prepare substrates\n",
    "\n",
    "if necessary"
   ]
  },
  {
   "cell_type": "code",
   "execution_count": null,
   "metadata": {},
   "outputs": [],
   "source": [
    "# TODO: change to \"wrapper\" & batch_prepare_fw stlye, see other fireqworks below"
   ]
  },
  {
   "cell_type": "code",
   "execution_count": null,
   "metadata": {
    "ExecuteTime": {
     "end_time": "2018-09-04T18:24:03.232525Z",
     "start_time": "2018-09-04T18:24:03.125101Z"
    }
   },
   "outputs": [],
   "source": [
    "prep_subs_wf_dict = jobadmin.prepare_substrates(system_names)"
   ]
  },
  {
   "cell_type": "code",
   "execution_count": null,
   "metadata": {
    "ExecuteTime": {
     "end_time": "2018-09-04T18:24:52.147840Z",
     "start_time": "2018-09-04T18:24:51.815063Z"
    }
   },
   "outputs": [],
   "source": [
    "prep_subs_fw_id_dict = jobadmin.add_fw(prep_subs_wf_dict)"
   ]
  },
  {
   "cell_type": "markdown",
   "metadata": {},
   "source": [
    "## Prepare aggregates"
   ]
  },
  {
   "cell_type": "code",
   "execution_count": null,
   "metadata": {},
   "outputs": [],
   "source": [
    "# TODO: switch monolayers and bilayers to wrapper & batch_prepare_fw "
   ]
  },
  {
   "cell_type": "markdown",
   "metadata": {
    "ExecuteTime": {
     "end_time": "2018-09-06T17:46:56.540129Z",
     "start_time": "2018-09-06T17:46:56.161746Z"
    }
   },
   "source": [
    "### (hemi-) cylinders"
   ]
  },
  {
   "cell_type": "code",
   "execution_count": null,
   "metadata": {
    "ExecuteTime": {
     "end_time": "2018-10-09T18:20:23.555494Z",
     "start_time": "2018-10-09T18:20:23.506867Z"
    }
   },
   "outputs": [],
   "source": [
    "jobadmin.packmol_queueadapter"
   ]
  },
  {
   "cell_type": "code",
   "execution_count": null,
   "metadata": {
    "ExecuteTime": {
     "end_time": "2018-10-09T18:20:54.618326Z",
     "start_time": "2018-10-09T18:20:54.565037Z"
    }
   },
   "outputs": [],
   "source": [
    "jobadmin.packmol_queueadapter[\"walltime\"] = '96:00:00'"
   ]
  },
  {
   "cell_type": "code",
   "execution_count": null,
   "metadata": {
    "ExecuteTime": {
     "end_time": "2018-10-09T18:20:57.625251Z",
     "start_time": "2018-10-09T18:20:57.568518Z"
    }
   },
   "outputs": [],
   "source": [
    "pack_cylinders_wrapper = lambda sfN, sb_measures, surfactant, counterion: \\\n",
    "    jobadmin.pack_cylinders(sfN, sb_measures, surfactant, counterion,\n",
    "        hemicylinders=True, l_surfactant=l_CTAB, \n",
    "        head_atom_number=head_atom_number_CTAB,\n",
    "        tail_atom_number=tail_atom_number_CTAB)"
   ]
  },
  {
   "cell_type": "code",
   "execution_count": null,
   "metadata": {
    "ExecuteTime": {
     "end_time": "2018-10-09T18:20:58.110446Z",
     "start_time": "2018-10-09T18:20:58.058976Z"
    }
   },
   "outputs": [],
   "source": [
    "prepare_packmol_wrapper = lambda system_name: jobadmin.prepare_packmol(\n",
    "    system_name, pack_cylinders_wrapper, nloop=200, maxit=500)"
   ]
  },
  {
   "cell_type": "code",
   "execution_count": null,
   "metadata": {
    "ExecuteTime": {
     "end_time": "2018-10-09T18:20:58.489918Z",
     "start_time": "2018-10-09T18:20:58.437102Z"
    }
   },
   "outputs": [],
   "source": [
    "fw_dict = jobadmin.batch_prepare_fw( system_names, prepare_packmol_wrapper )"
   ]
  },
  {
   "cell_type": "code",
   "execution_count": null,
   "metadata": {
    "ExecuteTime": {
     "end_time": "2018-10-09T18:20:58.851296Z",
     "start_time": "2018-10-09T18:20:58.786961Z"
    }
   },
   "outputs": [],
   "source": [
    "fw_dict[system_names[0]].as_dict()"
   ]
  },
  {
   "cell_type": "code",
   "execution_count": null,
   "metadata": {
    "ExecuteTime": {
     "end_time": "2018-10-09T18:22:18.802465Z",
     "start_time": "2018-10-09T18:22:18.489020Z"
    }
   },
   "outputs": [],
   "source": [
    "jobadmin.add_wf(fw_dict)"
   ]
  },
  {
   "cell_type": "code",
   "execution_count": null,
   "metadata": {
    "ExecuteTime": {
     "end_time": "2018-10-09T18:34:38.145658Z",
     "start_time": "2018-10-09T18:34:37.918163Z"
    }
   },
   "outputs": [],
   "source": [
    "logging.info(\"Querying appended packing workflows.\")\n",
    "packmol_fw_id_dict = jobadmin.query_systems(\n",
    "    system_names, \n",
    "    step='packmol',\n",
    "    state=[\"FIZZLED\",\"COMPLETED\", \"RUNNING\", \"READY\", \"WAITING\", \"RESERVED\"])\n"
   ]
  },
  {
   "cell_type": "code",
   "execution_count": null,
   "metadata": {
    "ExecuteTime": {
     "end_time": "2018-10-09T18:34:43.026321Z",
     "start_time": "2018-10-09T18:34:42.971375Z"
    }
   },
   "outputs": [],
   "source": [
    "packmol_fw_id_dict"
   ]
  },
  {
   "cell_type": "code",
   "execution_count": null,
   "metadata": {
    "ExecuteTime": {
     "end_time": "2018-10-09T18:42:07.724076Z",
     "start_time": "2018-10-09T18:42:07.638686Z"
    }
   },
   "outputs": [],
   "source": [
    "pdb2lmp_wf_dict = jobadmin.batch_prepare_fw(system_names, jobadmin.prepare_pdb2lmp)"
   ]
  },
  {
   "cell_type": "code",
   "execution_count": null,
   "metadata": {
    "ExecuteTime": {
     "end_time": "2018-10-09T18:42:34.429881Z",
     "start_time": "2018-10-09T18:42:34.249593Z"
    }
   },
   "outputs": [],
   "source": [
    "pdb2lmp_wf_dict[system_names[0]].as_dict()"
   ]
  },
  {
   "cell_type": "code",
   "execution_count": null,
   "metadata": {
    "ExecuteTime": {
     "end_time": "2018-10-09T18:43:59.746565Z",
     "start_time": "2018-10-09T18:43:59.425317Z"
    }
   },
   "outputs": [],
   "source": [
    "logging.info(\"Appening LAMMPS conversion\")\n",
    "jobadmin.append_wf_by_key(pdb2lmp_wf_dict, packmol_fw_id_dict)\n"
   ]
  },
  {
   "cell_type": "code",
   "execution_count": null,
   "metadata": {
    "ExecuteTime": {
     "end_time": "2018-10-09T18:44:03.040723Z",
     "start_time": "2018-10-09T18:44:02.321474Z"
    }
   },
   "outputs": [],
   "source": [
    "\n",
    "logging.info(\"Querying appended LAMMPS conversion workflows\")\n",
    "ch2lmp_fw_id_dict = jobadmin.query_step(step='ch2lmp')"
   ]
  },
  {
   "cell_type": "markdown",
   "metadata": {},
   "source": [
    "### (inverse) monolayer"
   ]
  },
  {
   "cell_type": "code",
   "execution_count": null,
   "metadata": {
    "ExecuteTime": {
     "end_time": "2018-09-06T17:49:53.940189Z",
     "start_time": "2018-09-06T17:49:51.855698Z"
    }
   },
   "outputs": [],
   "source": [
    "## Template for monolayer packing\n",
    "logging.info(\"Pack systems.\")\n",
    "# for normal monlayer (charged head towards surface)\n",
    "# pack_wf_dict = jobadmin.pack_monolayer(\n",
    "#     system_names=system_names,                     \n",
    "#     l_surfactant=l_CTAB, \n",
    "#     head_atom_number=head_atom_number_CTAB,\n",
    "#     tail_atom_number=tail_atom_number_CTAB)\n",
    "\n",
    "# inverse monolayer\n",
    "pack_wf_dict = jobadmin.pack_monolayer(\n",
    "    system_names=system_names,                     \n",
    "    l_surfactant=l_CTAB, \n",
    "    head_atom_number=tail_atom_number_CTAB,\n",
    "    tail_atom_number=head_atom_number_CTAB)\n",
    "\n",
    "logging.info(\"Append packing\")\n",
    "jobadmin.add_wf(pack_wf_dict)\n",
    "\n",
    "logging.info(\"Querying appended packing workflows.\")\n",
    "packmol_fw_id_dict = jobadmin.query_systems(\n",
    "    system_names, \n",
    "    step='packmol',\n",
    "    state=[\"FIZZLED\",\"COMPLETED\", \"RUNNING\", \"READY\", \"WAITING\", \"RESERVED\"])\n",
    "\n",
    "# fizzled might be ok if walltime expired, \n",
    "# packmol gets good results half-way\n",
    "\n",
    "logging.info(\"Preparing LAMMPS conversion\")\n",
    "pdb2lmp_wf_dict = jobadmin.prepare_pdb2lmp(system_names)\n",
    "logging.info(\"Appening LAMMPS conversion\")\n",
    "jobadmin.append_wf_by_key(pdb2lmp_wf_dict, packmol_fw_id_dict)\n",
    "\n",
    "logging.info(\"Querying appended LAMMPS conversion workflows\")\n",
    "ch2lmp_fw_id_dict = jobadmin.query_step(step='ch2lmp')"
   ]
  },
  {
   "cell_type": "markdown",
   "metadata": {},
   "source": [
    "### bilayer"
   ]
  },
  {
   "cell_type": "code",
   "execution_count": null,
   "metadata": {
    "ExecuteTime": {
     "end_time": "2018-09-05T22:29:35.323731Z",
     "start_time": "2018-09-05T22:29:35.110809Z"
    }
   },
   "outputs": [],
   "source": [
    "sim_df[\"sb_name\"].unique()"
   ]
  },
  {
   "cell_type": "code",
   "execution_count": null,
   "metadata": {
    "ExecuteTime": {
     "end_time": "2018-09-05T22:30:48.524330Z",
     "start_time": "2018-09-05T22:30:48.310315Z"
    }
   },
   "outputs": [],
   "source": [
    "system_names = list( sim_df[ \n",
    "    (sim_df['sb_name'] == 'AU_111_63x36x2') \\\n",
    "    & (sim_df['sf_preassembly'] == 'bilayer_with_counterion') ].index )"
   ]
  },
  {
   "cell_type": "code",
   "execution_count": null,
   "metadata": {
    "ExecuteTime": {
     "end_time": "2018-09-06T13:31:55.932681Z",
     "start_time": "2018-09-06T13:31:55.818107Z"
    }
   },
   "outputs": [],
   "source": [
    "system_names"
   ]
  },
  {
   "cell_type": "code",
   "execution_count": null,
   "metadata": {
    "ExecuteTime": {
     "end_time": "2018-09-05T22:31:32.212641Z",
     "start_time": "2018-09-05T22:31:31.141442Z"
    }
   },
   "outputs": [],
   "source": [
    "# Template for bilayer packing\n",
    "logging.info(\"Pack systems.\")\n",
    "pack_wf_dict = jobadmin.pack_bilayer(\n",
    "    system_names=system_names,                     \n",
    "    l_surfactant=l_CTAB, \n",
    "    head_atom_number=head_atom_number_CTAB,\n",
    "    tail_atom_number=tail_atom_number_CTAB)\n",
    "\n",
    "logging.info(\"Append packing\")\n",
    "jobadmin.add_wf(pack_wf_dict)"
   ]
  },
  {
   "cell_type": "code",
   "execution_count": null,
   "metadata": {
    "ExecuteTime": {
     "end_time": "2018-09-05T22:31:40.723691Z",
     "start_time": "2018-09-05T22:31:38.340688Z"
    }
   },
   "outputs": [],
   "source": [
    "logging.info(\"Querying appended packing workflows.\")\n",
    "packmol_fw_id_dict = jobadmin.query_systems(\n",
    "    system_names, \n",
    "    step='packmol',\n",
    "    state=[\"FIZZLED\",\"COMPLETED\", \"RUNNING\", \"READY\", \"WAITING\", \"RESERVED\"])\n",
    "\n",
    "# fizzled might be ok if walltime expired, \n",
    "# packmol gets good results half-way\n",
    "\n",
    "logging.info(\"Preparing LAMMPS conversion\")\n",
    "pdb2lmp_wf_dict = jobadmin.prepare_pdb2lmp(system_names)\n",
    "logging.info(\"Appening LAMMPS conversion\")\n",
    "jobadmin.append_wf_by_key(pdb2lmp_wf_dict, packmol_fw_id_dict)\n",
    "\n",
    "logging.info(\"Querying appended LAMMPS conversion workflows\")\n",
    "ch2lmp_fw_id_dict = jobadmin.query_step(step='ch2lmp')"
   ]
  },
  {
   "cell_type": "markdown",
   "metadata": {},
   "source": [
    "## Query"
   ]
  },
  {
   "cell_type": "code",
   "execution_count": null,
   "metadata": {},
   "outputs": [],
   "source": [
    "# check where subsequent steps are missing"
   ]
  },
  {
   "cell_type": "code",
   "execution_count": null,
   "metadata": {
    "ExecuteTime": {
     "end_time": "2018-10-10T13:30:12.746378Z",
     "start_time": "2018-10-10T13:30:02.198007Z"
    }
   },
   "outputs": [],
   "source": [
    "to_initialize_formats = jobadmin.identifyIncompleteWorkflowsInScope(\n",
    "    system_name_scope=system_name_scope, precedent_step_name='packmol', subsequent_step_name='ch2lmp')"
   ]
  },
  {
   "cell_type": "code",
   "execution_count": null,
   "metadata": {},
   "outputs": [],
   "source": [
    "to_initialize_formats"
   ]
  },
  {
   "cell_type": "code",
   "execution_count": null,
   "metadata": {
    "ExecuteTime": {
     "end_time": "2018-10-10T19:02:24.286942Z",
     "start_time": "2018-10-10T19:01:55.074063Z"
    }
   },
   "outputs": [],
   "source": [
    "# Use ch2lmp as reference\n",
    "to_minimize = identifyIncompleteWorkflowsInScope(precedent_step_name='ch2lmp',\n",
    "    subsequent_step_name='minimization', system_name_scope=system_name_scope)"
   ]
  },
  {
   "cell_type": "code",
   "execution_count": null,
   "metadata": {
    "ExecuteTime": {
     "end_time": "2018-10-10T19:02:24.675652Z",
     "start_time": "2018-10-10T19:02:24.638474Z"
    }
   },
   "outputs": [],
   "source": [
    "to_minimize"
   ]
  },
  {
   "cell_type": "code",
   "execution_count": null,
   "metadata": {
    "ExecuteTime": {
     "end_time": "2018-10-10T18:49:35.238021Z",
     "start_time": "2018-10-10T18:48:50.399503Z"
    }
   },
   "outputs": [],
   "source": [
    "to_minimize = identifyIncompleteWorkflowsInScope(precedent_step_name='prepare_system_files',\n",
    "    subsequent_step_name='minimization', system_name_scope=system_name_scope)"
   ]
  },
  {
   "cell_type": "code",
   "execution_count": null,
   "metadata": {
    "ExecuteTime": {
     "end_time": "2018-10-10T18:50:41.163349Z",
     "start_time": "2018-10-10T18:50:40.997962Z"
    }
   },
   "outputs": [],
   "source": [
    "to_minimize"
   ]
  },
  {
   "cell_type": "code",
   "execution_count": null,
   "metadata": {
    "ExecuteTime": {
     "end_time": "2018-10-10T19:10:43.543663Z",
     "start_time": "2018-10-10T19:10:08.924572Z"
    }
   },
   "outputs": [],
   "source": [
    "to_equilibrate_nvt = identifyIncompleteWorkflowsInScope(\n",
    "    precedent_step_name='minimization', subsequent_step_name='equilibration_nvt',\n",
    "    system_name_scope=system_name_scope)"
   ]
  },
  {
   "cell_type": "code",
   "execution_count": null,
   "metadata": {
    "ExecuteTime": {
     "end_time": "2018-10-10T19:10:43.838804Z",
     "start_time": "2018-10-10T19:10:43.810965Z"
    }
   },
   "outputs": [],
   "source": [
    "to_equilibrate_nvt"
   ]
  },
  {
   "cell_type": "code",
   "execution_count": null,
   "metadata": {
    "ExecuteTime": {
     "end_time": "2018-10-10T18:59:57.114513Z",
     "start_time": "2018-10-10T18:59:09.292398Z"
    }
   },
   "outputs": [],
   "source": [
    "to_equilibrate_npt = identifyIncompleteWorkflowsInScope(\n",
    "    precedent_step_name='equilibration_nvt',\n",
    "    subsequent_step_name='equilibration_npt',\n",
    "    system_name_scope=system_name_scope)"
   ]
  },
  {
   "cell_type": "code",
   "execution_count": null,
   "metadata": {
    "ExecuteTime": {
     "end_time": "2018-10-10T19:11:09.472012Z",
     "start_time": "2018-10-10T19:11:09.324344Z"
    }
   },
   "outputs": [],
   "source": [
    "to_equilibrate_npt"
   ]
  },
  {
   "cell_type": "code",
   "execution_count": null,
   "metadata": {
    "ExecuteTime": {
     "end_time": "2018-10-10T18:59:57.114513Z",
     "start_time": "2018-10-10T18:59:09.292398Z"
    }
   },
   "outputs": [],
   "source": [
    "to_run_production = identifyIncompleteWorkflowsInScope(\n",
    "    precedent_step_name='equilibration_npt',\n",
    "    subsequent_step_name='10ns_production_mixed',\n",
    "    system_name_scope=system_name_scope)"
   ]
  },
  {
   "cell_type": "code",
   "execution_count": null,
   "metadata": {},
   "outputs": [],
   "source": [
    "to_run_production"
   ]
  },
  {
   "cell_type": "code",
   "execution_count": null,
   "metadata": {},
   "outputs": [],
   "source": [
    "unfinished_systems = to_run_production.keys()"
   ]
  },
  {
   "cell_type": "code",
   "execution_count": null,
   "metadata": {},
   "outputs": [],
   "source": [
    "previous_runs = jobadmin.query_systems(unfinished_systems,step='10ns_production_mixed')"
   ]
  },
  {
   "cell_type": "code",
   "execution_count": null,
   "metadata": {},
   "outputs": [],
   "source": [
    "previous_runs"
   ]
  },
  {
   "cell_type": "markdown",
   "metadata": {},
   "source": [
    "## LAMMPS jobs"
   ]
  },
  {
   "cell_type": "code",
   "execution_count": null,
   "metadata": {},
   "outputs": [],
   "source": [
    "# TODO: switch to wrapper & batch_prepare_fw style"
   ]
  },
  {
   "cell_type": "code",
   "execution_count": null,
   "metadata": {
    "ExecuteTime": {
     "end_time": "2018-09-06T17:51:19.622376Z",
     "start_time": "2018-09-06T17:51:11.450314Z"
    }
   },
   "outputs": [],
   "source": [
    "# Template for appending LAMMPS runs\n",
    "prep_fw_dict = jobadmin.prepare_systems(system_names)\n",
    "jobadmin.append_wf_by_key( prep_fw_dict, ch2lmp_fw_id_dict )\n",
    "prep_fw_id_dict = jobadmin.query_step(\n",
    "    step = 'prepare_system_files')"
   ]
  },
  {
   "cell_type": "code",
   "execution_count": null,
   "metadata": {
    "ExecuteTime": {
     "end_time": "2018-09-05T22:48:05.522339Z",
     "start_time": "2018-09-05T22:47:59.510435Z"
    }
   },
   "outputs": [],
   "source": [
    "# TODO: update \"prepare_restarts\" to enable restarts with colvars module\n",
    "prod_fw_dict = jobadmin.prepare_production(system_names)\n",
    "jobadmin.append_wf_by_key(prod_fw_dict, npt_fw_id_dict)\n",
    "prod_fw_id_dict = jobadmin.query_systems(\n",
    "    system_names, \n",
    "    step='10ns_production_mixed',\n",
    "    state=[\"COMPLETED\", \"RUNNING\", \"READY\", \"WAITING\", \"RESERVED\"])\n",
    "\n",
    "restart_fw_dict = jobadmin.prepare_restarts(system_names)\n",
    "jobadmin.append_wf_by_key(restart_fw_dict, prod_fw_id_dict)"
   ]
  },
  {
   "cell_type": "markdown",
   "metadata": {},
   "source": [
    "### Preparation"
   ]
  },
  {
   "cell_type": "code",
   "execution_count": null,
   "metadata": {},
   "outputs": [],
   "source": [
    "fw_id_dict = jobadmin.query_systems(system_names,step=\"prepare_system_files\")"
   ]
  },
  {
   "cell_type": "markdown",
   "metadata": {},
   "source": [
    "or"
   ]
  },
  {
   "cell_type": "code",
   "execution_count": null,
   "metadata": {
    "ExecuteTime": {
     "end_time": "2018-10-10T19:05:08.314660Z",
     "start_time": "2018-10-10T19:05:08.259598Z"
    }
   },
   "outputs": [],
   "source": [
    "system_names = list( to_minimize.keys() )"
   ]
  },
  {
   "cell_type": "code",
   "execution_count": null,
   "metadata": {
    "ExecuteTime": {
     "end_time": "2018-10-10T19:06:50.220657Z",
     "start_time": "2018-10-10T19:06:50.056466Z"
    }
   },
   "outputs": [],
   "source": [
    "to_minimize = { key: sorted(list(val)) for key, val in to_minimize.items() }"
   ]
  },
  {
   "cell_type": "code",
   "execution_count": null,
   "metadata": {
    "ExecuteTime": {
     "end_time": "2018-10-10T19:06:53.635511Z",
     "start_time": "2018-10-10T19:06:53.582010Z"
    }
   },
   "outputs": [],
   "source": [
    "to_minimize"
   ]
  },
  {
   "cell_type": "code",
   "execution_count": null,
   "metadata": {},
   "outputs": [],
   "source": [
    "# Certain steps push representative data files to the database."
   ]
  },
  {
   "cell_type": "code",
   "execution_count": null,
   "metadata": {},
   "outputs": [],
   "source": [
    "pull_datafile_from_db_wrapper = lambda system_name: \\\n",
    "    jobadmin.pull_datafile_from_db(system_name, data_file_identifier_suffix='_psfgen.data')"
   ]
  },
  {
   "cell_type": "code",
   "execution_count": null,
   "metadata": {
    "ExecuteTime": {
     "end_time": "2018-10-10T19:06:57.098665Z",
     "start_time": "2018-10-10T19:06:57.069517Z"
    }
   },
   "outputs": [],
   "source": [
    "fw_dict = jobadmin.batch_prepare_fw( system_names, pull_datafile_from_db_wrapper )"
   ]
  },
  {
   "cell_type": "code",
   "execution_count": null,
   "metadata": {
    "ExecuteTime": {
     "end_time": "2018-10-10T19:07:21.955248Z",
     "start_time": "2018-10-10T19:07:21.862487Z"
    }
   },
   "outputs": [],
   "source": [
    "jobadmin.append_wf_by_key( fw_dict, fw_id_dict )"
   ]
  },
  {
   "cell_type": "markdown",
   "metadata": {},
   "source": [
    "### Minimization"
   ]
  },
  {
   "cell_type": "code",
   "execution_count": null,
   "metadata": {
    "ExecuteTime": {
     "end_time": "2018-10-10T18:49:35.238021Z",
     "start_time": "2018-10-10T18:48:50.399503Z"
    }
   },
   "outputs": [],
   "source": [
    "to_minimize = identifyIncompleteWorkflowsInScope(precedent_step_name='pull_datafile_from_db',\n",
    "    subsequent_step_name='minimization', system_name_scope=system_name_scope)"
   ]
  },
  {
   "cell_type": "code",
   "execution_count": null,
   "metadata": {},
   "outputs": [],
   "source": [
    "to_minimize"
   ]
  },
  {
   "cell_type": "code",
   "execution_count": null,
   "metadata": {
    "ExecuteTime": {
     "end_time": "2018-10-10T19:12:12.360468Z",
     "start_time": "2018-10-10T19:12:12.178927Z"
    }
   },
   "outputs": [],
   "source": [
    "fw_id_dict = jobadmin.query_systems(\n",
    "    system_names,\n",
    "    step='pull_datafile_from_db', \n",
    "    state=[\"COMPLETED\", \"RUNNING\", \"READY\", \"WAITING\", \"RESERVED\"])"
   ]
  },
  {
   "cell_type": "code",
   "execution_count": null,
   "metadata": {
    "ExecuteTime": {
     "end_time": "2018-10-10T19:14:18.851803Z",
     "start_time": "2018-10-10T19:14:18.794891Z"
    }
   },
   "outputs": [],
   "source": [
    "minimize_wrapper = lambda system_name: jobadmin.minimize(\n",
    "    system_name,\n",
    "    lmp_suffix_template=' '.join((\n",
    "        '-v baseName {baseName:s} -v dataFile {dataFile:s} -v has_indenter 0',\n",
    "        '-v robust_minimization 0 -v pbc2d 0 -v surfactant_name CTAB -v mpiio 0')))"
   ]
  },
  {
   "cell_type": "code",
   "execution_count": null,
   "metadata": {
    "ExecuteTime": {
     "end_time": "2018-10-10T19:14:23.667900Z",
     "start_time": "2018-10-10T19:14:23.615672Z"
    }
   },
   "outputs": [],
   "source": [
    "fw_dict = jobadmin.batch_prepare_fw( system_names, minimize_wrapper )"
   ]
  },
  {
   "cell_type": "code",
   "execution_count": null,
   "metadata": {
    "ExecuteTime": {
     "end_time": "2018-10-10T19:14:25.244463Z",
     "start_time": "2018-10-10T19:14:25.149427Z"
    }
   },
   "outputs": [],
   "source": [
    "jobadmin.append_wf_by_key( fw_dict, fw_id_dict )"
   ]
  },
  {
   "cell_type": "markdown",
   "metadata": {},
   "source": [
    "### NVT equilibration"
   ]
  },
  {
   "cell_type": "code",
   "execution_count": null,
   "metadata": {},
   "outputs": [],
   "source": [
    "system_names"
   ]
  },
  {
   "cell_type": "code",
   "execution_count": null,
   "metadata": {
    "ExecuteTime": {
     "end_time": "2018-09-19T22:08:15.737947Z",
     "start_time": "2018-09-19T22:08:15.545914Z"
    }
   },
   "outputs": [],
   "source": [
    "fw_id_dict = jobadmin.query_systems(\n",
    "    system_names,\n",
    "    step='minimization', \n",
    "    state=[\"COMPLETED\", \"RUNNING\", \"READY\", \"WAITING\", \"RESERVED\"])"
   ]
  },
  {
   "cell_type": "code",
   "execution_count": null,
   "metadata": {},
   "outputs": [],
   "source": [
    "fw_id_dict"
   ]
  },
  {
   "cell_type": "code",
   "execution_count": null,
   "metadata": {
    "ExecuteTime": {
     "end_time": "2018-09-19T22:08:25.579171Z",
     "start_time": "2018-09-19T22:08:25.427037Z"
    }
   },
   "outputs": [],
   "source": [
    "nvtEquilibrate_wrapper = lambda system_name: jobadmin.nvtEquilibrate(\n",
    "    system_name,\n",
    "    lmp_suffix_template=' '.join((\n",
    "        '-v baseName {baseName:s} -v dataFile {dataFile:s}', \n",
    "        '-v has_indenter 0 -v pbd2d 0 -v reinitialize_velocities 1',\n",
    "        '-v surfactant CTAB -v mpiio 0')))"
   ]
  },
  {
   "cell_type": "code",
   "execution_count": null,
   "metadata": {
    "ExecuteTime": {
     "end_time": "2018-09-19T22:08:26.228936Z",
     "start_time": "2018-09-19T22:08:26.165651Z"
    }
   },
   "outputs": [],
   "source": [
    "fw_dict = jobadmin.batch_prepare_fw( system_names, nvtEquilibrate_wrapper )"
   ]
  },
  {
   "cell_type": "code",
   "execution_count": null,
   "metadata": {
    "ExecuteTime": {
     "end_time": "2018-09-19T22:08:27.087685Z",
     "start_time": "2018-09-19T22:08:26.457546Z"
    }
   },
   "outputs": [],
   "source": [
    "jobadmin.append_wf_by_key(fw_dict, fw_id_dict)"
   ]
  },
  {
   "cell_type": "markdown",
   "metadata": {},
   "source": [
    "### NPT equilibration"
   ]
  },
  {
   "cell_type": "code",
   "execution_count": null,
   "metadata": {},
   "outputs": [],
   "source": [
    "system_names"
   ]
  },
  {
   "cell_type": "code",
   "execution_count": null,
   "metadata": {
    "ExecuteTime": {
     "end_time": "2018-09-22T00:31:30.012064Z",
     "start_time": "2018-09-22T00:31:29.918072Z"
    }
   },
   "outputs": [],
   "source": [
    "fw_id_dict = jobadmin.query_systems(\n",
    "    system_names,\n",
    "    step='equilibration_nvt', \n",
    "    state=[\"COMPLETED\", \"RUNNING\", \"READY\", \"WAITING\", \"RESERVED\"])"
   ]
  },
  {
   "cell_type": "code",
   "execution_count": null,
   "metadata": {
    "ExecuteTime": {
     "end_time": "2018-09-22T00:31:30.711007Z",
     "start_time": "2018-09-22T00:31:30.643156Z"
    }
   },
   "outputs": [],
   "source": [
    "fw_id_dict"
   ]
  },
  {
   "cell_type": "code",
   "execution_count": null,
   "metadata": {
    "ExecuteTime": {
     "end_time": "2018-09-21T11:05:54.713587Z",
     "start_time": "2018-09-21T11:05:54.650734Z"
    }
   },
   "outputs": [],
   "source": [
    "nptEquilibrate_wrapper = lambda system_name: jobadmin.nptEquilibrate(\n",
    "    system_name,\n",
    "    lmp_suffix_template= ' '.join((\n",
    "        '-v baseName {baseName:s}',\n",
    "        '-v dataFile {dataFile:s}',\n",
    "        '-v has_indenter 0',\n",
    "        '-v pbd2d 0 -v reinitialize_velocities 0',\n",
    "        '-v surfactant CTAB')) )"
   ]
  },
  {
   "cell_type": "code",
   "execution_count": null,
   "metadata": {
    "ExecuteTime": {
     "end_time": "2018-09-21T11:05:55.544644Z",
     "start_time": "2018-09-21T11:05:55.498912Z"
    }
   },
   "outputs": [],
   "source": [
    "fw_dict = jobadmin.batch_prepare_fw( system_names, nptEquilibrate_wrapper )"
   ]
  },
  {
   "cell_type": "code",
   "execution_count": null,
   "metadata": {
    "ExecuteTime": {
     "end_time": "2018-09-21T11:05:57.409942Z",
     "start_time": "2018-09-21T11:05:56.698677Z"
    }
   },
   "outputs": [],
   "source": [
    "jobadmin.append_wf_by_key(fw_dict, fw_id_dict)"
   ]
  },
  {
   "cell_type": "markdown",
   "metadata": {},
   "source": [
    "## Check progress and (re-) run if necessary"
   ]
  },
  {
   "cell_type": "code",
   "execution_count": null,
   "metadata": {},
   "outputs": [],
   "source": [
    "# REWORK functionality here, outdated"
   ]
  },
  {
   "cell_type": "code",
   "execution_count": null,
   "metadata": {
    "ExecuteTime": {
     "end_time": "2018-09-17T21:11:13.241348Z",
     "start_time": "2018-09-17T21:11:11.361331Z"
    }
   },
   "outputs": [],
   "source": [
    "healthy_production_runs = jobadmin.get_set_of_healthy_production_runs()"
   ]
  },
  {
   "cell_type": "code",
   "execution_count": null,
   "metadata": {
    "ExecuteTime": {
     "end_time": "2018-09-17T21:11:16.497437Z",
     "start_time": "2018-09-17T21:11:16.018264Z"
    }
   },
   "outputs": [],
   "source": [
    "completed_production_runs = jobadmin.get_set_of_evolved_systems()"
   ]
  },
  {
   "cell_type": "code",
   "execution_count": null,
   "metadata": {
    "ExecuteTime": {
     "end_time": "2018-09-17T21:13:57.899829Z",
     "start_time": "2018-09-17T21:13:57.850273Z"
    }
   },
   "outputs": [],
   "source": [
    "system_names = list(completed_production_runs & set(system_name_scope))"
   ]
  },
  {
   "cell_type": "code",
   "execution_count": null,
   "metadata": {
    "ExecuteTime": {
     "end_time": "2018-09-17T21:14:02.617098Z",
     "start_time": "2018-09-17T21:14:02.456392Z"
    }
   },
   "outputs": [],
   "source": [
    "system_names"
   ]
  },
  {
   "cell_type": "code",
   "execution_count": null,
   "metadata": {},
   "outputs": [],
   "source": [
    "incomplete_but_healthy_production_runs = healthy_production_runs - completed_production_runs"
   ]
  },
  {
   "cell_type": "code",
   "execution_count": null,
   "metadata": {},
   "outputs": [],
   "source": [
    "incomplete_but_healthy_production_runs"
   ]
  },
  {
   "cell_type": "code",
   "execution_count": null,
   "metadata": {},
   "outputs": [],
   "source": [
    "discontinued_production_runs = jobadmin.get_discontinued_production_runs()"
   ]
  },
  {
   "cell_type": "code",
   "execution_count": null,
   "metadata": {},
   "outputs": [],
   "source": [
    "discontinued_production_runs"
   ]
  },
  {
   "cell_type": "code",
   "execution_count": null,
   "metadata": {
    "ExecuteTime": {
     "end_time": "2018-09-06T15:39:45.645155Z",
     "start_time": "2018-09-06T15:39:45.288181Z"
    }
   },
   "outputs": [],
   "source": [
    "system_name_scope = system_names"
   ]
  },
  {
   "cell_type": "code",
   "execution_count": null,
   "metadata": {
    "ExecuteTime": {
     "end_time": "2018-09-06T17:34:27.225197Z",
     "start_time": "2018-09-06T17:34:24.190292Z"
    }
   },
   "outputs": [],
   "source": [
    "to_prepare = jobadmin.get_to_prepare()"
   ]
  },
  {
   "cell_type": "code",
   "execution_count": null,
   "metadata": {
    "ExecuteTime": {
     "end_time": "2018-09-06T17:34:33.039631Z",
     "start_time": "2018-09-06T17:34:32.924162Z"
    }
   },
   "outputs": [],
   "source": [
    "system_names = list( set(system_name_scope) & set(to_prepare) )"
   ]
  },
  {
   "cell_type": "code",
   "execution_count": null,
   "metadata": {
    "ExecuteTime": {
     "end_time": "2018-09-06T15:43:37.107783Z",
     "start_time": "2018-09-06T15:43:33.165416Z"
    },
    "scrolled": true
   },
   "outputs": [],
   "source": [
    "to_minimize = jobadmin.get_to_minimize()"
   ]
  },
  {
   "cell_type": "code",
   "execution_count": null,
   "metadata": {
    "ExecuteTime": {
     "end_time": "2018-09-06T15:43:38.447636Z",
     "start_time": "2018-09-06T15:43:38.320419Z"
    }
   },
   "outputs": [],
   "source": [
    "system_names = list( set(system_name_scope) & set(to_minimize) )"
   ]
  },
  {
   "cell_type": "code",
   "execution_count": null,
   "metadata": {
    "ExecuteTime": {
     "end_time": "2018-09-06T15:43:39.847894Z",
     "start_time": "2018-09-06T15:43:39.721919Z"
    }
   },
   "outputs": [],
   "source": [
    "system_names"
   ]
  },
  {
   "cell_type": "markdown",
   "metadata": {},
   "source": [
    "### NVT eq"
   ]
  },
  {
   "cell_type": "code",
   "execution_count": null,
   "metadata": {
    "ExecuteTime": {
     "end_time": "2018-09-06T17:34:44.930718Z",
     "start_time": "2018-09-06T17:34:40.522980Z"
    }
   },
   "outputs": [],
   "source": [
    "to_nvt_equilibrate = jobadmin.get_to_nvt_equlibrate()"
   ]
  },
  {
   "cell_type": "code",
   "execution_count": null,
   "metadata": {
    "ExecuteTime": {
     "end_time": "2018-09-06T17:34:46.142584Z",
     "start_time": "2018-09-06T17:34:46.050601Z"
    }
   },
   "outputs": [],
   "source": [
    "to_nvt_equilibrate"
   ]
  },
  {
   "cell_type": "code",
   "execution_count": null,
   "metadata": {
    "ExecuteTime": {
     "end_time": "2018-09-06T15:53:16.065816Z",
     "start_time": "2018-09-06T15:53:15.844511Z"
    }
   },
   "outputs": [],
   "source": [
    "system_names = list(set(to_nvt_equilibrate) & set(system_name_scope))"
   ]
  },
  {
   "cell_type": "code",
   "execution_count": null,
   "metadata": {
    "ExecuteTime": {
     "end_time": "2018-09-06T15:53:17.349268Z",
     "start_time": "2018-09-06T15:53:17.220023Z"
    }
   },
   "outputs": [],
   "source": [
    "system_names"
   ]
  },
  {
   "cell_type": "markdown",
   "metadata": {},
   "source": [
    "### NPT eq"
   ]
  },
  {
   "cell_type": "code",
   "execution_count": null,
   "metadata": {
    "ExecuteTime": {
     "end_time": "2018-09-06T15:59:47.951768Z",
     "start_time": "2018-09-06T15:59:43.042089Z"
    }
   },
   "outputs": [],
   "source": [
    "to_npt_equilibrate = jobadmin.get_to_npt_equlibrate()"
   ]
  },
  {
   "cell_type": "code",
   "execution_count": null,
   "metadata": {
    "ExecuteTime": {
     "end_time": "2018-09-06T16:00:32.316025Z",
     "start_time": "2018-09-06T16:00:32.184100Z"
    }
   },
   "outputs": [],
   "source": [
    "system_names = list(set(to_npt_equilibrate) & set(system_name_scope))"
   ]
  },
  {
   "cell_type": "code",
   "execution_count": null,
   "metadata": {
    "ExecuteTime": {
     "end_time": "2018-09-06T16:00:33.453297Z",
     "start_time": "2018-09-06T16:00:33.322389Z"
    }
   },
   "outputs": [],
   "source": [
    "system_names"
   ]
  },
  {
   "cell_type": "markdown",
   "metadata": {},
   "source": [
    "### Production"
   ]
  },
  {
   "cell_type": "code",
   "execution_count": null,
   "metadata": {
    "ExecuteTime": {
     "end_time": "2018-09-17T21:08:24.094114Z",
     "start_time": "2018-09-17T21:08:21.848370Z"
    }
   },
   "outputs": [],
   "source": [
    "to_run_production = jobadmin.get_to_run_production()"
   ]
  },
  {
   "cell_type": "code",
   "execution_count": null,
   "metadata": {
    "ExecuteTime": {
     "end_time": "2018-09-17T21:08:35.071814Z",
     "start_time": "2018-09-17T21:08:35.012940Z"
    }
   },
   "outputs": [],
   "source": [
    "system_names = list(set(to_run_production) & set(system_name_scope))"
   ]
  },
  {
   "cell_type": "code",
   "execution_count": null,
   "metadata": {
    "ExecuteTime": {
     "end_time": "2018-09-05T18:32:07.919226Z",
     "start_time": "2018-09-05T18:32:07.510698Z"
    }
   },
   "outputs": [],
   "source": [
    "# manually delete a file from Filepad db\n",
    "jobadmin.fp.delete_file(\n",
    "    identifier='1010_CTAB_on_AU_111_63x36x2_cylinders_with_counterion_psfgen.data')"
   ]
  },
  {
   "cell_type": "markdown",
   "metadata": {},
   "source": [
    "## Recovering stuff"
   ]
  },
  {
   "cell_type": "markdown",
   "metadata": {
    "ExecuteTime": {
     "end_time": "2018-09-06T16:08:07.226307Z",
     "start_time": "2018-09-06T16:08:06.821906Z"
    }
   },
   "source": [
    "### Defuse dead ends & children"
   ]
  },
  {
   "cell_type": "code",
   "execution_count": null,
   "metadata": {
    "ExecuteTime": {
     "end_time": "2018-10-09T15:31:14.164916Z",
     "start_time": "2018-10-09T15:31:13.270710Z"
    }
   },
   "outputs": [],
   "source": [
    "steps = ['prepare_system_files',\n",
    "         'minimization', \n",
    "         'equilibration_nvt', \n",
    "         'equilibration_npt',\n",
    "        ]"
   ]
  },
  {
   "cell_type": "code",
   "execution_count": null,
   "metadata": {
    "ExecuteTime": {
     "end_time": "2018-10-09T15:31:17.187036Z",
     "start_time": "2018-10-09T15:31:14.280094Z"
    }
   },
   "outputs": [],
   "source": [
    "step_fizzled_dict = {}\n",
    "for step in steps:\n",
    "    step_fizzled_dict[step] = jobadmin.query_step(\n",
    "        step = step, state_list = [\"FIZZLED\"] )"
   ]
  },
  {
   "cell_type": "code",
   "execution_count": null,
   "metadata": {
    "ExecuteTime": {
     "end_time": "2018-10-09T15:32:50.068728Z",
     "start_time": "2018-10-09T15:32:49.592066Z"
    }
   },
   "outputs": [],
   "source": [
    "reduced_step_fizzled_dict = {}\n",
    "for step, fw_id_dict in step_fizzled_dict.items():\n",
    "    reduced_step_fizzled_dict[step] = { system_name: fw_id_lst \\\n",
    "        for system_name, fw_id_lst in fw_id_dict.items() \\\n",
    "        if system_name in system_name_scope }"
   ]
  },
  {
   "cell_type": "code",
   "execution_count": null,
   "metadata": {
    "ExecuteTime": {
     "end_time": "2018-10-09T15:33:02.528563Z",
     "start_time": "2018-10-09T15:33:02.469798Z"
    }
   },
   "outputs": [],
   "source": [
    "reduced_step_fizzled_dict"
   ]
  },
  {
   "cell_type": "code",
   "execution_count": null,
   "metadata": {
    "ExecuteTime": {
     "end_time": "2018-09-06T17:33:06.824673Z",
     "start_time": "2018-09-06T17:32:44.167881Z"
    }
   },
   "outputs": [],
   "source": [
    "defused_fw_id_list = []\n",
    "for step, fw_id_dict in reduced_step_fizzled_dict.items():\n",
    "    for system_name, fw_id_lst in fw_id_dict.items():\n",
    "        for fw_id in fw_id_lst:\n",
    "            logging.info(\"Defuse {} : {} : {} and its children...\".format(\n",
    "                step, system_name, fw_id ) )\n",
    "            defused_fw_id_list.extend( jobadmin.defuse_children(fw_id) )\n",
    "            \n"
   ]
  },
  {
   "cell_type": "markdown",
   "metadata": {},
   "source": [
    "### Recover packmol runs\n",
    "packmol runs can fail due to walltime. However, often the (not yet converged) configurations are fine to use."
   ]
  },
  {
   "cell_type": "code",
   "execution_count": null,
   "metadata": {
    "ExecuteTime": {
     "end_time": "2018-09-06T11:57:06.456052Z",
     "start_time": "2018-09-06T11:57:05.454134Z"
    }
   },
   "outputs": [],
   "source": [
    "packmol_fw_id_dict = jobadmin.query_step(step='packmol')"
   ]
  },
  {
   "cell_type": "code",
   "execution_count": null,
   "metadata": {
    "ExecuteTime": {
     "end_time": "2018-09-06T11:57:23.232289Z",
     "start_time": "2018-09-06T11:57:23.116816Z"
    }
   },
   "outputs": [],
   "source": [
    "packmol_fw_id = packmol_fw_id_dict['1298_CTAB_on_AU_111_63x36x2_cylinders_with_counterion'][-1]"
   ]
  },
  {
   "cell_type": "code",
   "execution_count": null,
   "metadata": {
    "ExecuteTime": {
     "end_time": "2018-09-06T13:23:31.841371Z",
     "start_time": "2018-09-06T13:23:31.728892Z"
    }
   },
   "outputs": [],
   "source": [
    "packmol_fw_id"
   ]
  },
  {
   "cell_type": "code",
   "execution_count": null,
   "metadata": {
    "ExecuteTime": {
     "end_time": "2018-09-06T11:57:49.440455Z",
     "start_time": "2018-09-06T11:57:48.968994Z"
    }
   },
   "outputs": [],
   "source": [
    "packmol_launchdir = jobadmin.lpad.get_launchdir(packmol_fw_id)"
   ]
  },
  {
   "cell_type": "code",
   "execution_count": null,
   "metadata": {
    "ExecuteTime": {
     "end_time": "2018-09-06T12:02:17.550409Z",
     "start_time": "2018-09-06T12:02:16.966395Z"
    }
   },
   "outputs": [],
   "source": [
    "system_name = '1298_CTAB_on_AU_111_63x36x2_cylinders_with_counterion'"
   ]
  },
  {
   "cell_type": "code",
   "execution_count": null,
   "metadata": {
    "ExecuteTime": {
     "end_time": "2018-09-06T13:29:57.739405Z",
     "start_time": "2018-09-06T13:29:57.367822Z"
    }
   },
   "outputs": [],
   "source": [
    "# for systems with \"fizzled\" packmol tasks, append \"dummy\" restart parents\n",
    "# They run in the same directory as previous fizzled packmol and forward the latest configurations\n",
    "dummy_parent_fw_dict = {}\n",
    "for system_name in system_names:\n",
    "    packmol_launchdir = jobadmin.lpad.get_launchdir( \n",
    "        packmol_fw_id_dict[system_name][-1] )\n",
    "    dummy_parent_fw = Firework( [\n",
    "            DummyParentTask() \n",
    "        ],\n",
    "        spec = {\n",
    "            '_category':   jobadmin.std_worker,\n",
    "            '_launch_dir': packmol_launchdir,\n",
    "            '_files_out': {\n",
    "                'packmol_pdb': system_name + '_packmol.pdb',\n",
    "                'packmol_pdb_FORCED': system_name + '_packmol.pdb_FORCED'\n",
    "            },\n",
    "            'system_name': system_name,\n",
    "            'geninfo':     jobadmin.geninfo(),\n",
    "            'step':        'packmol_dummy'\n",
    "        },\n",
    "        name = system_name + '_dummy_parent'\n",
    "    )\n",
    "    dummy_parent_fw_dict[system_name] = dummy_parent_fw"
   ]
  },
  {
   "cell_type": "code",
   "execution_count": null,
   "metadata": {
    "ExecuteTime": {
     "end_time": "2018-09-06T13:30:19.510118Z",
     "start_time": "2018-09-06T13:30:18.581286Z"
    }
   },
   "outputs": [],
   "source": [
    "jobadmin.append_wf_by_key(dummy_parent_fw_dict, packmol_fw_id_dict)"
   ]
  },
  {
   "cell_type": "code",
   "execution_count": null,
   "metadata": {
    "ExecuteTime": {
     "end_time": "2018-09-06T13:31:08.448579Z",
     "start_time": "2018-09-06T13:31:07.976304Z"
    }
   },
   "outputs": [],
   "source": [
    "packmol_dummy_fw_id_dict = jobadmin.query_step('packmol_dummy')"
   ]
  },
  {
   "cell_type": "code",
   "execution_count": null,
   "metadata": {
    "ExecuteTime": {
     "end_time": "2018-09-06T13:31:13.108437Z",
     "start_time": "2018-09-06T13:31:12.950130Z"
    }
   },
   "outputs": [],
   "source": [
    "packmol_dummy_fw_id_dict"
   ]
  },
  {
   "cell_type": "code",
   "execution_count": null,
   "metadata": {
    "ExecuteTime": {
     "end_time": "2018-09-06T14:50:19.319671Z",
     "start_time": "2018-09-06T14:50:18.879649Z"
    }
   },
   "outputs": [],
   "source": [
    "system_names"
   ]
  },
  {
   "cell_type": "code",
   "execution_count": null,
   "metadata": {
    "ExecuteTime": {
     "end_time": "2018-09-06T13:34:08.426396Z",
     "start_time": "2018-09-06T13:34:08.240280Z"
    }
   },
   "outputs": [],
   "source": [
    "# delete previously written packmol results from db \n",
    "# (otherwise, will not be overwritten by recovered packmol results)\n",
    "for system_name in system_names:\n",
    "    file_id = system_name + '_psfgen.data'\n",
    "    jobadmin.fp.delete_file(file_id)"
   ]
  },
  {
   "cell_type": "code",
   "execution_count": null,
   "metadata": {
    "ExecuteTime": {
     "end_time": "2018-09-06T12:53:11.547444Z",
     "start_time": "2018-09-06T12:53:11.414084Z"
    }
   },
   "outputs": [],
   "source": [
    "# sample for a single packmol recovery task\n",
    "recover_packmol_fw = Firework( \n",
    "    RecoverPackmolTask( { \n",
    "        'dest':   output_prefix + os.sep + system_name,\n",
    "        'recover': True,\n",
    "        'glob_patterns': [ '*_restart.pack',\n",
    "            '*_packmol.pdb', '*_packmol.pdb_FORCED', '*_packmol.inp'],\n",
    "        'forward_glob_patterns': { \n",
    "            \"packmol_pdb\" : [\"*_packmol.pdb_FORCED\", \"*_packmol.pdb\"] }\n",
    "    } ),\n",
    "    spec = {\n",
    "        '_category':   jobadmin.std_worker,\n",
    "        '_files_in': {\n",
    "            'packmol_pdb': system_name + '_packmol.pdb',\n",
    "            'packmol_pdb_FORCED': system_name + '_packmol.pdb_FORCED'\n",
    "        },\n",
    "        'system_name': system_name,\n",
    "        'step':        'recover_packmol',\n",
    "        'geninfo':     jobadmin.geninfo()\n",
    "    },\n",
    "    name = system_name + '_recover_packmol'\n",
    ")"
   ]
  },
  {
   "cell_type": "code",
   "execution_count": null,
   "metadata": {
    "ExecuteTime": {
     "end_time": "2018-09-06T12:53:15.313006Z",
     "start_time": "2018-09-06T12:53:14.925926Z"
    }
   },
   "outputs": [],
   "source": [
    "jobadmin.lpad.append_wf( Workflow( [ recover_packmol_fw ] ), [8976] )"
   ]
  },
  {
   "cell_type": "markdown",
   "metadata": {},
   "source": [
    "## Append data file strorage\n",
    "after successfull production, insert final configurationms into database"
   ]
  },
  {
   "cell_type": "code",
   "execution_count": null,
   "metadata": {},
   "outputs": [],
   "source": [
    "# first, identify files not yet stored"
   ]
  },
  {
   "cell_type": "code",
   "execution_count": null,
   "metadata": {
    "ExecuteTime": {
     "end_time": "2018-10-09T15:29:39.608375Z",
     "start_time": "2018-10-09T15:29:38.351798Z"
    }
   },
   "outputs": [],
   "source": [
    "completed_10ns_productions_dict = jobadmin.query_step(step=\"10nsa_production_mixed\", state_list=[\"COMPLETED\"])"
   ]
  },
  {
   "cell_type": "code",
   "execution_count": null,
   "metadata": {
    "ExecuteTime": {
     "end_time": "2018-10-09T15:29:41.025038Z",
     "start_time": "2018-10-09T15:29:40.405138Z"
    }
   },
   "outputs": [],
   "source": [
    "completed_store_data_file_dict = jobadmin.query_step(step=\"store_data_file\", state_list=[\"COMPLETED\"])"
   ]
  },
  {
   "cell_type": "code",
   "execution_count": null,
   "metadata": {
    "ExecuteTime": {
     "end_time": "2018-10-09T15:29:42.253502Z",
     "start_time": "2018-10-09T15:29:42.197806Z"
    }
   },
   "outputs": [],
   "source": [
    "system_names = list( \n",
    "    set(completed_10ns_productions_dict.keys()) - set(completed_store_data_file_dict.keys())\n",
    ")"
   ]
  },
  {
   "cell_type": "code",
   "execution_count": null,
   "metadata": {
    "ExecuteTime": {
     "end_time": "2018-09-23T16:49:43.199929Z",
     "start_time": "2018-09-23T16:49:43.039177Z"
    }
   },
   "outputs": [],
   "source": [
    "system_names = list(set(system_names) & set(system_name_scope))"
   ]
  },
  {
   "cell_type": "code",
   "execution_count": null,
   "metadata": {
    "ExecuteTime": {
     "end_time": "2018-09-23T16:49:45.414006Z",
     "start_time": "2018-09-23T16:49:45.299573Z"
    }
   },
   "outputs": [],
   "source": [
    "fw_id_dict = jobadmin.query_systems(system_names, step='10ns_production_mixed', state='COMPLETED')"
   ]
  },
  {
   "cell_type": "code",
   "execution_count": null,
   "metadata": {
    "ExecuteTime": {
     "end_time": "2018-09-23T16:49:51.505618Z",
     "start_time": "2018-09-23T16:49:51.439099Z"
    }
   },
   "outputs": [],
   "source": [
    "fw_id_dict"
   ]
  },
  {
   "cell_type": "code",
   "execution_count": null,
   "metadata": {
    "ExecuteTime": {
     "end_time": "2018-09-23T16:50:12.509365Z",
     "start_time": "2018-09-23T16:50:12.446814Z"
    }
   },
   "outputs": [],
   "source": [
    "fw_dict = jobadmin.batch_prepare_fw( system_names, jobadmin.store_data_file )"
   ]
  },
  {
   "cell_type": "code",
   "execution_count": null,
   "metadata": {
    "ExecuteTime": {
     "end_time": "2018-09-23T16:50:13.196410Z",
     "start_time": "2018-09-23T16:50:13.134090Z"
    }
   },
   "outputs": [],
   "source": [
    "len(fw_dict)"
   ]
  },
  {
   "cell_type": "code",
   "execution_count": null,
   "metadata": {
    "ExecuteTime": {
     "end_time": "2018-09-23T16:50:15.359638Z",
     "start_time": "2018-09-23T16:50:14.586948Z"
    }
   },
   "outputs": [],
   "source": [
    "jobadmin.append_wf_by_key(fw_dict, fw_id_dict)"
   ]
  },
  {
   "cell_type": "code",
   "execution_count": null,
   "metadata": {},
   "outputs": [],
   "source": [
    "# identify fizzled fireworks and rerun"
   ]
  },
  {
   "cell_type": "code",
   "execution_count": null,
   "metadata": {
    "ExecuteTime": {
     "end_time": "2018-09-23T16:50:19.038611Z",
     "start_time": "2018-09-23T16:50:18.709605Z"
    }
   },
   "outputs": [],
   "source": [
    "fizzled_fw_id_dict = jobadmin.query_step(\n",
    "    step='store_data_file', \n",
    "    state_list=[\"FIZZLED\"])"
   ]
  },
  {
   "cell_type": "code",
   "execution_count": null,
   "metadata": {
    "ExecuteTime": {
     "end_time": "2018-09-23T16:50:20.453105Z",
     "start_time": "2018-09-23T16:50:20.356963Z"
    }
   },
   "outputs": [],
   "source": [
    "fizzled_fw_id_dict"
   ]
  },
  {
   "cell_type": "code",
   "execution_count": null,
   "metadata": {
    "ExecuteTime": {
     "end_time": "2018-09-17T22:04:04.852276Z",
     "start_time": "2018-09-17T22:04:04.652704Z"
    }
   },
   "outputs": [],
   "source": [
    "for key, fw_id_lst in fizzled_fw_id_dict.items():\n",
    "    jobadmin.lpad.rerun_fw(fw_id_lst[-1], rerun_duplicates=False)"
   ]
  },
  {
   "cell_type": "code",
   "execution_count": null,
   "metadata": {
    "ExecuteTime": {
     "end_time": "2018-09-17T21:56:07.466233Z",
     "start_time": "2018-09-17T21:56:07.078421Z"
    }
   },
   "outputs": [],
   "source": [
    "fizzled_fw_id_dict = jobadmin.query_systems(\n",
    "    system_names, \n",
    "    step='store_data_file', \n",
    "    state=[\"FIZZLED\"])"
   ]
  },
  {
   "cell_type": "markdown",
   "metadata": {},
   "source": [
    "# Indenter systems\n"
   ]
  },
  {
   "cell_type": "markdown",
   "metadata": {},
   "source": [
    "## Query finished interface productions"
   ]
  },
  {
   "cell_type": "code",
   "execution_count": null,
   "metadata": {
    "ExecuteTime": {
     "end_time": "2018-09-18T21:42:57.911467Z",
     "start_time": "2018-09-18T21:42:57.720753Z"
    }
   },
   "outputs": [],
   "source": [
    "# original CTAB systems without indenter\n",
    "system_name_scope = list( sim_df[ \n",
    "        sim_df['indenter'].isna() & \\\n",
    "        (sim_df['surfactant'] == 'CTAB')\n",
    "    ].index )"
   ]
  },
  {
   "cell_type": "code",
   "execution_count": null,
   "metadata": {
    "ExecuteTime": {
     "end_time": "2018-09-18T21:43:16.088314Z",
     "start_time": "2018-09-18T21:43:15.591428Z"
    }
   },
   "outputs": [],
   "source": [
    "fw_id_dict = jobadmin.query_step(\n",
    "    step='store_data_file', \n",
    "    state_list=[\"COMPLETED\", \"RUNNING\", \"READY\", \"WAITING\", \"RESERVED\"])"
   ]
  },
  {
   "cell_type": "code",
   "execution_count": null,
   "metadata": {
    "ExecuteTime": {
     "end_time": "2018-09-18T21:43:20.116165Z",
     "start_time": "2018-09-18T21:43:20.055764Z"
    }
   },
   "outputs": [],
   "source": [
    "len(fw_id_dict)"
   ]
  },
  {
   "cell_type": "code",
   "execution_count": null,
   "metadata": {
    "ExecuteTime": {
     "end_time": "2018-09-18T21:43:36.637059Z",
     "start_time": "2018-09-18T21:43:36.576911Z"
    }
   },
   "outputs": [],
   "source": [
    "system_names = set(system_name_scope) & set(fw_id_dict.keys())"
   ]
  },
  {
   "cell_type": "code",
   "execution_count": null,
   "metadata": {
    "ExecuteTime": {
     "end_time": "2018-09-18T21:43:42.628577Z",
     "start_time": "2018-09-18T21:43:42.567051Z"
    }
   },
   "outputs": [],
   "source": [
    "len(system_names)"
   ]
  },
  {
   "cell_type": "code",
   "execution_count": null,
   "metadata": {},
   "outputs": [],
   "source": [
    "system_names"
   ]
  },
  {
   "cell_type": "markdown",
   "metadata": {},
   "source": [
    "## Workflow build up"
   ]
  },
  {
   "cell_type": "markdown",
   "metadata": {},
   "source": [
    "### Initiate indenter workflows"
   ]
  },
  {
   "cell_type": "code",
   "execution_count": null,
   "metadata": {
    "ExecuteTime": {
     "end_time": "2018-09-18T21:59:54.486114Z",
     "start_time": "2018-09-18T21:59:54.423962Z"
    }
   },
   "outputs": [],
   "source": [
    "interface_file_suffix = '_10ns.lammps'\n",
    "indenter = '50Ang_stepped'\n",
    "indenter_file = '50Ang_stepped.pdb'"
   ]
  },
  {
   "cell_type": "code",
   "execution_count": null,
   "metadata": {},
   "outputs": [],
   "source": [
    "# manual selectin of FINISHED, STORED non-indenter systems\n",
    "system_names = {\n",
    "    '1010_CTAB_on_AU_111_63x36x2_bilayer_with_counterion',\n",
    "    '1010_CTAB_on_AU_111_63x36x2_monolayer_with_counterion',\n",
    "    '1298_CTAB_on_AU_111_63x36x2_bilayer_with_counterion',\n",
    "    '367_CTAB_on_AU_111_63x36x2_monolayer_with_counterion',\n",
    "    '415_CTAB_on_AU_111_63x36x2_bilayer_with_counterion',\n",
    "    '415_CTAB_on_AU_111_63x36x2_hemicylinders_with_counterion',\n",
    "    '515_CTAB_on_AU_111_63x36x2_bilayer_with_counterion',\n",
    "    '515_CTAB_on_AU_111_63x36x2_hemicylinders_with_counterion',\n",
    "    '653_CTAB_on_AU_111_63x36x2_bilayer_with_counterion',\n",
    "    '653_CTAB_on_AU_111_63x36x2_hemicylinders_with_counterion',\n",
    "    '653_CTAB_on_AU_111_63x36x2_monolayer_with_counterion'}"
   ]
  },
  {
   "cell_type": "code",
   "execution_count": null,
   "metadata": {
    "ExecuteTime": {
     "end_time": "2018-09-18T21:59:55.311413Z",
     "start_time": "2018-09-18T21:59:55.245671Z"
    }
   },
   "outputs": [],
   "source": [
    "len(system_names)"
   ]
  },
  {
   "cell_type": "code",
   "execution_count": null,
   "metadata": {
    "ExecuteTime": {
     "end_time": "2018-09-18T21:47:59.586263Z",
     "start_time": "2018-09-18T21:47:59.522357Z"
    }
   },
   "outputs": [],
   "source": [
    "# construct names for new systems containing indenter\n",
    "indenter_system_names_dict = {}\n",
    "for system_name in system_names:\n",
    "    indenter_system_names_dict[ system_name + '_' + indenter ] = system_name "
   ]
  },
  {
   "cell_type": "code",
   "execution_count": null,
   "metadata": {},
   "outputs": [],
   "source": [
    "indenter_system_names_dict"
   ]
  },
  {
   "cell_type": "code",
   "execution_count": null,
   "metadata": {
    "ExecuteTime": {
     "end_time": "2018-09-18T21:47:47.458547Z",
     "start_time": "2018-09-18T21:47:47.392041Z"
    }
   },
   "outputs": [],
   "source": [
    "# CTAB systems with indenter\n",
    "system_name_scope = list( sim_df[ \n",
    "        (sim_df['indenter'] ==  indenter) & \\\n",
    "        (sim_df['surfactant'] == 'CTAB')\n",
    "    ].index )"
   ]
  },
  {
   "cell_type": "code",
   "execution_count": null,
   "metadata": {
    "ExecuteTime": {
     "end_time": "2018-09-18T21:48:01.062813Z",
     "start_time": "2018-09-18T21:48:01.002818Z"
    }
   },
   "outputs": [],
   "source": [
    "system_names = set(indenter_system_names_dict.keys()) & set(system_name_scope)"
   ]
  },
  {
   "cell_type": "code",
   "execution_count": null,
   "metadata": {},
   "outputs": [],
   "source": [
    "len(system_names)"
   ]
  },
  {
   "cell_type": "code",
   "execution_count": null,
   "metadata": {
    "ExecuteTime": {
     "end_time": "2018-09-18T22:52:12.547524Z",
     "start_time": "2018-09-18T22:52:12.484195Z"
    }
   },
   "outputs": [],
   "source": [
    "jobadmin.geninfo(reset=True)"
   ]
  },
  {
   "cell_type": "code",
   "execution_count": null,
   "metadata": {
    "ExecuteTime": {
     "end_time": "2018-09-18T21:59:58.747129Z",
     "start_time": "2018-09-18T21:59:58.577208Z"
    }
   },
   "outputs": [],
   "source": [
    "for system_name in system_names:\n",
    "    interface_file = indenter_system_names_dict[system_name] + interface_file_suffix\n",
    "    fw = jobadmin.initiate_indenter_workflow(\n",
    "        system_name, \n",
    "        interface_file = interface_file, \n",
    "        indenter_file=indenter_file )\n",
    "    jobadmin.lpad.add_wf( Workflow( [ fw ], name = system_name ) )"
   ]
  },
  {
   "cell_type": "code",
   "execution_count": null,
   "metadata": {
    "ExecuteTime": {
     "end_time": "2018-09-18T22:00:03.335462Z",
     "start_time": "2018-09-18T22:00:03.216202Z"
    }
   },
   "outputs": [],
   "source": [
    "# convert is used to turn tga into png (not crucial)\n",
    "jobadmin._template_convert_cmd"
   ]
  },
  {
   "cell_type": "markdown",
   "metadata": {},
   "source": [
    "### Indenter insertion"
   ]
  },
  {
   "cell_type": "code",
   "execution_count": null,
   "metadata": {},
   "outputs": [],
   "source": [
    "system_names = set(['1010_CTAB_on_AU_111_63x36x2_bilayer_with_counterion_50Ang_stepped'])"
   ]
  },
  {
   "cell_type": "code",
   "execution_count": null,
   "metadata": {},
   "outputs": [],
   "source": [
    "system_names"
   ]
  },
  {
   "cell_type": "code",
   "execution_count": null,
   "metadata": {
    "ExecuteTime": {
     "end_time": "2018-09-18T22:52:32.423163Z",
     "start_time": "2018-09-18T22:52:32.020961Z"
    }
   },
   "outputs": [],
   "source": [
    "fw_id_dict = jobadmin.query_systems(\n",
    "    system_names,\n",
    "    step='initiate_indenter_workflow', \n",
    "    state=[\"COMPLETED\", \"RUNNING\", \"READY\", \"WAITING\", \"RESERVED\"])"
   ]
  },
  {
   "cell_type": "code",
   "execution_count": null,
   "metadata": {},
   "outputs": [],
   "source": [
    "fw_id_dict"
   ]
  },
  {
   "cell_type": "code",
   "execution_count": null,
   "metadata": {
    "ExecuteTime": {
     "end_time": "2018-09-18T22:52:36.736421Z",
     "start_time": "2018-09-18T22:52:36.674900Z"
    }
   },
   "outputs": [],
   "source": [
    "fw_dict = jobadmin.batch_prepare_fw(\n",
    "    system_names, \n",
    "    jobadmin.indenter_insertion )"
   ]
  },
  {
   "cell_type": "code",
   "execution_count": null,
   "metadata": {
    "ExecuteTime": {
     "end_time": "2018-09-18T22:52:38.174919Z",
     "start_time": "2018-09-18T22:52:37.855306Z"
    }
   },
   "outputs": [],
   "source": [
    "for key, entry in fw_dict.items(): print(key), pprint(entry.as_dict() )"
   ]
  },
  {
   "cell_type": "code",
   "execution_count": null,
   "metadata": {
    "ExecuteTime": {
     "end_time": "2018-09-18T22:52:42.617316Z",
     "start_time": "2018-09-18T22:52:42.234429Z"
    }
   },
   "outputs": [],
   "source": [
    "jobadmin.append_wf_by_key( fw_dict, fw_id_dict )"
   ]
  },
  {
   "cell_type": "markdown",
   "metadata": {},
   "source": [
    "### Datafile merge"
   ]
  },
  {
   "cell_type": "code",
   "execution_count": null,
   "metadata": {},
   "outputs": [],
   "source": [
    "system_names"
   ]
  },
  {
   "cell_type": "code",
   "execution_count": null,
   "metadata": {
    "ExecuteTime": {
     "end_time": "2018-09-18T22:52:53.011098Z",
     "start_time": "2018-09-18T22:52:52.825779Z"
    }
   },
   "outputs": [],
   "source": [
    "fw_id_dict = jobadmin.query_systems(\n",
    "    system_names,\n",
    "    step='indenter_insertion', \n",
    "    state=[\"COMPLETED\", \"RUNNING\", \"READY\", \"WAITING\", \"RESERVED\"])"
   ]
  },
  {
   "cell_type": "code",
   "execution_count": null,
   "metadata": {},
   "outputs": [],
   "source": [
    "fw_id_dict"
   ]
  },
  {
   "cell_type": "code",
   "execution_count": null,
   "metadata": {
    "ExecuteTime": {
     "end_time": "2018-09-18T22:52:53.929551Z",
     "start_time": "2018-09-18T22:52:53.867889Z"
    }
   },
   "outputs": [],
   "source": [
    "jobadmin._template_pizzapy_merge_cmd"
   ]
  },
  {
   "cell_type": "code",
   "execution_count": null,
   "metadata": {
    "ExecuteTime": {
     "end_time": "2018-09-18T22:52:56.347597Z",
     "start_time": "2018-09-18T22:52:56.285736Z"
    }
   },
   "outputs": [],
   "source": [
    "merge_datafile_wrapper = lambda system_name: \\\n",
    "    jobadmin.add_parameters_to_datafile_and_store(\n",
    "        system_name, indenter_suffix = '_50Ang_stepped' )"
   ]
  },
  {
   "cell_type": "code",
   "execution_count": null,
   "metadata": {
    "ExecuteTime": {
     "end_time": "2018-09-18T22:52:57.142381Z",
     "start_time": "2018-09-18T22:52:57.079901Z"
    }
   },
   "outputs": [],
   "source": [
    "fw_dict = jobadmin.batch_prepare_fw(system_names, \n",
    "                                    merge_datafile_wrapper)"
   ]
  },
  {
   "cell_type": "code",
   "execution_count": null,
   "metadata": {
    "ExecuteTime": {
     "end_time": "2018-09-18T22:52:58.191672Z",
     "start_time": "2018-09-18T22:52:57.872287Z"
    }
   },
   "outputs": [],
   "source": [
    "jobadmin.append_wf_by_key(fw_dict, fw_id_dict)"
   ]
  },
  {
   "cell_type": "markdown",
   "metadata": {},
   "source": [
    "### Pull file from DB (migrate machine)\n",
    "this step is only necessary if changeing file system for subsequent steps"
   ]
  },
  {
   "cell_type": "code",
   "execution_count": null,
   "metadata": {
    "ExecuteTime": {
     "end_time": "2018-09-19T09:17:34.959374Z",
     "start_time": "2018-09-19T09:17:34.802896Z"
    }
   },
   "outputs": [],
   "source": [
    "fw_id_dict = jobadmin.query_systems(\n",
    "    system_names,\n",
    "    step='pizzapy_merge', \n",
    "    state=[\"COMPLETED\", \"RUNNING\", \"READY\", \"WAITING\", \"RESERVED\"])"
   ]
  },
  {
   "cell_type": "code",
   "execution_count": null,
   "metadata": {
    "ExecuteTime": {
     "end_time": "2018-09-19T09:28:32.434691Z",
     "start_time": "2018-09-19T09:28:32.200557Z"
    }
   },
   "outputs": [],
   "source": [
    "fw_dict = jobadmin.batch_prepare_fw( system_names, \n",
    "                                   jobadmin.pull_datafile_from_db )"
   ]
  },
  {
   "cell_type": "code",
   "execution_count": null,
   "metadata": {
    "ExecuteTime": {
     "end_time": "2018-09-19T09:28:33.714180Z",
     "start_time": "2018-09-19T09:28:33.653884Z"
    }
   },
   "outputs": [],
   "source": [
    "fw_dict['1010_CTAB_on_AU_111_63x36x2_bilayer_with_counterion_50Ang_stepped']"
   ]
  },
  {
   "cell_type": "code",
   "execution_count": null,
   "metadata": {
    "ExecuteTime": {
     "end_time": "2018-09-19T09:28:43.276694Z",
     "start_time": "2018-09-19T09:28:42.790409Z"
    }
   },
   "outputs": [],
   "source": [
    "jobadmin.append_wf_by_key(fw_dict, fw_id_dict)"
   ]
  },
  {
   "cell_type": "markdown",
   "metadata": {},
   "source": [
    "### Minimization"
   ]
  },
  {
   "cell_type": "code",
   "execution_count": null,
   "metadata": {
    "ExecuteTime": {
     "end_time": "2018-09-19T22:07:25.116785Z",
     "start_time": "2018-09-19T22:07:24.833235Z"
    }
   },
   "outputs": [],
   "source": [
    "fw_id_dict = jobadmin.query_systems(\n",
    "    system_names,\n",
    "    step='pizzapy_merge', \n",
    "    state=[\"COMPLETED\", \"RUNNING\", \"READY\", \"WAITING\", \"RESERVED\"])"
   ]
  },
  {
   "cell_type": "code",
   "execution_count": null,
   "metadata": {},
   "outputs": [],
   "source": [
    "fw_id_dict"
   ]
  },
  {
   "cell_type": "code",
   "execution_count": null,
   "metadata": {
    "ExecuteTime": {
     "end_time": "2018-09-19T22:07:53.593209Z",
     "start_time": "2018-09-19T22:07:53.530910Z"
    }
   },
   "outputs": [],
   "source": [
    "minimize_wrapper = lambda system_name: jobadmin.minimize(\n",
    "    system_name,\n",
    "    lmp_suffix_template=' '.join((\n",
    "        '-v baseName {baseName:s} -v dataFile {dataFile:s} -v has_indenter 1 -v mpiio 0',\n",
    "        '-v robust_minimization 0 -v pbc2d 0 -v compute_interactions 1 -v store_forces 1',\n",
    "        '-v surfactant_name CTAB')))"
   ]
  },
  {
   "cell_type": "code",
   "execution_count": null,
   "metadata": {
    "ExecuteTime": {
     "end_time": "2018-09-19T22:07:54.188799Z",
     "start_time": "2018-09-19T22:07:54.132990Z"
    }
   },
   "outputs": [],
   "source": [
    "fw_dict = jobadmin.batch_prepare_fw( system_names, minimize_wrapper )"
   ]
  },
  {
   "cell_type": "code",
   "execution_count": null,
   "metadata": {
    "ExecuteTime": {
     "end_time": "2018-09-19T22:07:56.258116Z",
     "start_time": "2018-09-19T22:07:55.608268Z"
    }
   },
   "outputs": [],
   "source": [
    "jobadmin.append_wf_by_key( fw_dict, fw_id_dict )"
   ]
  },
  {
   "cell_type": "markdown",
   "metadata": {},
   "source": [
    "### NPT equilibration"
   ]
  },
  {
   "cell_type": "code",
   "execution_count": null,
   "metadata": {
    "ExecuteTime": {
     "end_time": "2018-09-19T22:08:15.737947Z",
     "start_time": "2018-09-19T22:08:15.545914Z"
    }
   },
   "outputs": [],
   "source": [
    "fw_id_dict = jobadmin.query_systems(\n",
    "    system_names,\n",
    "    step='minimization', \n",
    "    state=[\"COMPLETED\", \"RUNNING\", \"READY\", \"WAITING\", \"RESERVED\"])"
   ]
  },
  {
   "cell_type": "code",
   "execution_count": null,
   "metadata": {},
   "outputs": [],
   "source": [
    "fw_id_dict"
   ]
  },
  {
   "cell_type": "code",
   "execution_count": null,
   "metadata": {
    "ExecuteTime": {
     "end_time": "2018-09-19T22:08:25.579171Z",
     "start_time": "2018-09-19T22:08:25.427037Z"
    }
   },
   "outputs": [],
   "source": [
    "nptEquilibrate_wrapper = lambda system_name: jobadmin.nptEquilibrate(\n",
    "    system_name,\n",
    "    lmp_suffix_template=' '.join((\n",
    "        '-v baseName {baseName:s} -v dataFile {dataFile:s} -v has_indenter 1',\n",
    "        '-v pbd2d 0 -v reinitialize_velocities 1 -v nptEqSteps 10000',\n",
    "        '-v pbc2d 0 -v compute_interactions 1 -v store_forces 1',\n",
    "        '-v mpiio 0 -v surfactant_name CTAB')))"
   ]
  },
  {
   "cell_type": "code",
   "execution_count": null,
   "metadata": {
    "ExecuteTime": {
     "end_time": "2018-09-19T22:08:26.228936Z",
     "start_time": "2018-09-19T22:08:26.165651Z"
    }
   },
   "outputs": [],
   "source": [
    "fw_dict = jobadmin.batch_prepare_fw( system_names, nptEquilibrate_wrapper )"
   ]
  },
  {
   "cell_type": "code",
   "execution_count": null,
   "metadata": {
    "ExecuteTime": {
     "end_time": "2018-09-19T22:08:27.087685Z",
     "start_time": "2018-09-19T22:08:26.457546Z"
    }
   },
   "outputs": [],
   "source": [
    "jobadmin.append_wf_by_key(fw_dict, fw_id_dict)"
   ]
  },
  {
   "cell_type": "markdown",
   "metadata": {},
   "source": [
    "### Colvars"
   ]
  },
  {
   "cell_type": "code",
   "execution_count": null,
   "metadata": {},
   "outputs": [],
   "source": [
    "system_names = [\n",
    "     '1298_CTAB_on_AU_111_63x36x2_bilayer_with_counterion_50Ang_stepped',\n",
    "     '653_CTAB_on_AU_111_63x36x2_bilayer_with_counterion_50Ang_stepped',\n",
    "     '653_CTAB_on_AU_111_63x36x2_hemicylinders_with_counterion_50Ang_stepped',\n",
    "     '653_CTAB_on_AU_111_63x36x2_monolayer_with_counterion_50Ang_stepped',\n",
    "     '367_CTAB_on_AU_111_63x36x2_monolayer_with_counterion_50Ang_stepped'\n",
    "]"
   ]
  },
  {
   "cell_type": "code",
   "execution_count": null,
   "metadata": {
    "ExecuteTime": {
     "end_time": "2018-09-22T15:43:55.398983Z",
     "start_time": "2018-09-22T15:43:55.345968Z"
    }
   },
   "outputs": [],
   "source": [
    "system_names = sorted(list(system_names))"
   ]
  },
  {
   "cell_type": "code",
   "execution_count": null,
   "metadata": {
    "ExecuteTime": {
     "end_time": "2018-09-22T15:43:56.163611Z",
     "start_time": "2018-09-22T15:43:56.111007Z"
    }
   },
   "outputs": [],
   "source": [
    "system_names"
   ]
  },
  {
   "cell_type": "code",
   "execution_count": null,
   "metadata": {
    "ExecuteTime": {
     "end_time": "2018-09-22T15:44:00.364209Z",
     "start_time": "2018-09-22T15:44:00.236074Z"
    }
   },
   "outputs": [],
   "source": [
    "fw_id_dict = jobadmin.query_systems(\n",
    "    system_names,\n",
    "    step='equilibration_npt', \n",
    "    state=[\"COMPLETED\", \"RUNNING\", \"READY\", \"WAITING\", \"RESERVED\"])"
   ]
  },
  {
   "cell_type": "code",
   "execution_count": null,
   "metadata": {
    "ExecuteTime": {
     "end_time": "2018-09-22T15:44:03.487717Z",
     "start_time": "2018-09-22T15:44:03.436060Z"
    }
   },
   "outputs": [],
   "source": [
    "system_names = [ system_name for system_name, fw_ids in fw_id_dict.items() if len(fw_ids) > 0 ]"
   ]
  },
  {
   "cell_type": "code",
   "execution_count": null,
   "metadata": {
    "ExecuteTime": {
     "end_time": "2018-09-22T15:44:19.142032Z",
     "start_time": "2018-09-22T15:44:19.081398Z"
    }
   },
   "outputs": [],
   "source": [
    "jobadmin.production_queueadapter['nodes'] = 8"
   ]
  },
  {
   "cell_type": "code",
   "execution_count": null,
   "metadata": {
    "ExecuteTime": {
     "end_time": "2018-09-21T22:38:01.017165Z",
     "start_time": "2018-09-21T22:38:00.879320Z"
    }
   },
   "outputs": [],
   "source": [
    "jobadmin.production_queueadapter['walltime'] = '96:00:00'"
   ]
  },
  {
   "cell_type": "code",
   "execution_count": null,
   "metadata": {},
   "outputs": [],
   "source": [
    "jobadmin._template_lmp_cmd # double-check usage of correct LAMMPS command"
   ]
  },
  {
   "cell_type": "code",
   "execution_count": null,
   "metadata": {},
   "outputs": [],
   "source": [
    "# 500,000 steps ~ 1 ns\n",
    "# 10 nm / 1 ns ~ 10 m / s\n",
    "\n",
    "# 1,000,000 steps ~ 2 ns\n",
    "# 10 nm / 2 ns ~ 5 m / s"
   ]
  },
  {
   "cell_type": "code",
   "execution_count": null,
   "metadata": {
    "ExecuteTime": {
     "end_time": "2018-09-22T15:50:05.804866Z",
     "start_time": "2018-09-22T15:50:05.637528Z"
    }
   },
   "outputs": [],
   "source": [
    "force_constant=25000\n",
    "approach_steps = 500000\n",
    "total_steps = int(1.1*approach_steps)"
   ]
  },
  {
   "cell_type": "code",
   "execution_count": null,
   "metadata": {
    "ExecuteTime": {
     "end_time": "2018-09-22T15:50:09.203046Z",
     "start_time": "2018-09-22T15:50:09.138448Z"
    }
   },
   "outputs": [],
   "source": [
    "production_wrapper = lambda system_name: jobadmin.colvars_production(\n",
    "    system_name,\n",
    "    lmp_suffix_template= ' '.join((\n",
    "        '-v baseName {baseName:s} -v dataFile {dataFile:s}',\n",
    "        '-v has_indenter 1 -v pbd2d 0',\n",
    "        '-v reinitialize_velocities 0',\n",
    "        '-v productionSteps {:d}'.format(total_steps),\n",
    "        '-v use_colvars 1 -v mpiio 0',\n",
    "        '-v thermo_frequency 10',\n",
    "        '-v netcdf_frequency 1000',\n",
    "        '-v compute_interactions 1',\n",
    "        '-v store_forces 1',\n",
    "        '-v surfactant_name CTAB')),\n",
    "    force_constant=force_constant,\n",
    "    total_steps=approach_steps)"
   ]
  },
  {
   "cell_type": "code",
   "execution_count": null,
   "metadata": {
    "ExecuteTime": {
     "end_time": "2018-09-22T15:50:09.739170Z",
     "start_time": "2018-09-22T15:50:09.680882Z"
    }
   },
   "outputs": [],
   "source": [
    "fw_dict = jobadmin.batch_prepare_fw( system_names, production_wrapper )"
   ]
  },
  {
   "cell_type": "code",
   "execution_count": null,
   "metadata": {
    "ExecuteTime": {
     "end_time": "2018-09-22T15:50:16.207710Z",
     "start_time": "2018-09-22T15:50:15.777735Z"
    }
   },
   "outputs": [],
   "source": [
    "jobadmin.append_wf_by_key(fw_dict, fw_id_dict)"
   ]
  },
  {
   "cell_type": "markdown",
   "metadata": {},
   "source": [
    "## Progress check & recovery "
   ]
  },
  {
   "cell_type": "markdown",
   "metadata": {},
   "source": [
    "Manually append \"post LAMMPS\" fireworks to fizzled production runs,\n",
    "in order to run in same directory as previous and pull already produced output files."
   ]
  },
  {
   "cell_type": "code",
   "execution_count": null,
   "metadata": {
    "ExecuteTime": {
     "end_time": "2018-09-24T17:59:47.584106Z",
     "start_time": "2018-09-24T17:59:47.536185Z"
    }
   },
   "outputs": [],
   "source": [
    "system_name_scope"
   ]
  },
  {
   "cell_type": "code",
   "execution_count": null,
   "metadata": {
    "ExecuteTime": {
     "end_time": "2018-09-24T17:59:51.300343Z",
     "start_time": "2018-09-24T17:59:51.153833Z"
    }
   },
   "outputs": [],
   "source": [
    "fizzled_production_dict = jobadmin.query_step(\n",
    "    step='production', state_list = ['FIZZLED'] )"
   ]
  },
  {
   "cell_type": "code",
   "execution_count": null,
   "metadata": {
    "ExecuteTime": {
     "end_time": "2018-09-24T17:59:51.615751Z",
     "start_time": "2018-09-24T17:59:51.555713Z"
    }
   },
   "outputs": [],
   "source": [
    "fizzled_production_dict"
   ]
  },
  {
   "cell_type": "code",
   "execution_count": null,
   "metadata": {
    "ExecuteTime": {
     "end_time": "2018-09-24T17:59:56.511272Z",
     "start_time": "2018-09-24T17:59:56.257269Z"
    }
   },
   "outputs": [],
   "source": [
    "fw_ids = jobadmin.lpad.get_fw_ids(\n",
    "    query = { \n",
    "        \"spec.step\":      \"production\",\n",
    "        \"state\":          \"FIZZLED\", \n",
    "        \"spec._category\": \"nemo_queue\"} )"
   ]
  },
  {
   "cell_type": "code",
   "execution_count": null,
   "metadata": {
    "ExecuteTime": {
     "end_time": "2018-09-24T17:59:59.151632Z",
     "start_time": "2018-09-24T17:59:58.927803Z"
    }
   },
   "outputs": [],
   "source": [
    "fw_id_system_name_dict = { \n",
    "    fw_id: jobadmin.lpad.get_fw_by_id(fw_id).spec[\"system_name\"] for fw_id in fw_ids }"
   ]
  },
  {
   "cell_type": "code",
   "execution_count": null,
   "metadata": {
    "ExecuteTime": {
     "end_time": "2018-09-24T17:59:59.701747Z",
     "start_time": "2018-09-24T17:59:59.642845Z"
    }
   },
   "outputs": [],
   "source": [
    "system_names = list(\n",
    "    set(fw_id_system_name_dict.values()) & set(system_name_scope) )"
   ]
  },
  {
   "cell_type": "code",
   "execution_count": null,
   "metadata": {
    "ExecuteTime": {
     "end_time": "2018-09-24T18:00:02.277557Z",
     "start_time": "2018-09-24T18:00:02.100303Z"
    }
   },
   "outputs": [],
   "source": [
    "fw_id_dict = { \n",
    "    jobadmin.lpad.get_fw_by_id(fw_id).name: fw_id \\\n",
    "    for fw_id, system_name in fw_id_system_name_dict.items() \\\n",
    "    if system_name in system_names }"
   ]
  },
  {
   "cell_type": "code",
   "execution_count": null,
   "metadata": {
    "ExecuteTime": {
     "end_time": "2018-09-24T18:33:28.004341Z",
     "start_time": "2018-09-24T18:33:27.701726Z"
    }
   },
   "outputs": [],
   "source": [
    "fw_id_dict"
   ]
  },
  {
   "cell_type": "code",
   "execution_count": null,
   "metadata": {
    "ExecuteTime": {
     "end_time": "2018-09-24T18:46:10.141466Z",
     "start_time": "2018-09-24T18:46:09.919401Z"
    }
   },
   "outputs": [],
   "source": [
    "fw_dict = {}\n",
    "for fw_name, fw_id in fw_id_dict.items():\n",
    "    launch_dir = jobadmin.lpad.get_launchdir(fw_id)\n",
    "    fw_spec = jobadmin.lpad.get_fw_by_id(fw_id).spec\n",
    "    system_name = fw_spec[\"system_name\"]\n",
    "    if \"total_steps\" in fw_spec:\n",
    "        total_steps = fw_spec[\"total_steps\"]\n",
    "    else:\n",
    "        total_steps = 1000000\n",
    "        \n",
    "    step = fw_spec[\"step\"]\n",
    "    fw_dict[fw_name] = jobadmin.post_lammps_fw(\n",
    "        system_name = system_name, \n",
    "        parent_fw_id = fw_id, \n",
    "        launch_dir = launch_dir,\n",
    "        output_folder = '{:s}_{:d}'.format(step,total_steps),\n",
    "        step= 'production', lmp_suffix='_production_mixed')"
   ]
  },
  {
   "cell_type": "code",
   "execution_count": null,
   "metadata": {
    "ExecuteTime": {
     "end_time": "2018-09-24T18:46:10.747648Z",
     "start_time": "2018-09-24T18:46:10.679258Z"
    }
   },
   "outputs": [],
   "source": [
    "fw_dict[ list(fw_dict.keys())[0] ].as_dict()"
   ]
  },
  {
   "cell_type": "code",
   "execution_count": null,
   "metadata": {
    "ExecuteTime": {
     "end_time": "2018-09-24T18:46:14.784461Z",
     "start_time": "2018-09-24T18:46:13.454550Z"
    }
   },
   "outputs": [],
   "source": [
    "for fw_name, fw in fw_dict.items():\n",
    "    jobadmin.lpad.append_wf(\n",
    "        new_wf = Workflow( [ fw ] ), \n",
    "        fw_ids = [ fw_id_dict[ fw_name ] ] )"
   ]
  },
  {
   "cell_type": "code",
   "execution_count": null,
   "metadata": {
    "ExecuteTime": {
     "end_time": "2018-09-24T18:24:54.501281Z",
     "start_time": "2018-09-24T18:24:54.457585Z"
    }
   },
   "outputs": [],
   "source": [
    "fw_dict[ list(fw_dict.keys())[0] ]"
   ]
  },
  {
   "cell_type": "markdown",
   "metadata": {},
   "source": [
    "### Defuse certain fw ids"
   ]
  },
  {
   "cell_type": "code",
   "execution_count": null,
   "metadata": {
    "ExecuteTime": {
     "end_time": "2018-09-19T10:36:03.247713Z",
     "start_time": "2018-09-19T10:36:03.000046Z"
    }
   },
   "outputs": [],
   "source": [
    "for fw_id in fw_ids: jobadmin.lpad.defuse_fw( fw_id, rerun_duplicates=False )"
   ]
  },
  {
   "cell_type": "markdown",
   "metadata": {},
   "source": [
    "### Rerun certain fw ids"
   ]
  },
  {
   "cell_type": "code",
   "execution_count": null,
   "metadata": {
    "ExecuteTime": {
     "end_time": "2018-09-18T18:38:56.012368Z",
     "start_time": "2018-09-18T18:38:55.664183Z"
    }
   },
   "outputs": [],
   "source": [
    "for key, fw_ids in fw_id_dict.items():\n",
    "    jobadmin.lpad.rerun_fw(fw_ids[-1],rerun_duplicates=False)"
   ]
  },
  {
   "cell_type": "code",
   "execution_count": null,
   "metadata": {
    "ExecuteTime": {
     "end_time": "2018-09-18T18:40:42.201827Z",
     "start_time": "2018-09-18T18:40:42.012438Z"
    }
   },
   "outputs": [],
   "source": [
    "jobadmin.lpad.rerun_fw(9922,rerun_duplicates=False)"
   ]
  },
  {
   "cell_type": "markdown",
   "metadata": {},
   "source": [
    "### Detect certain lost runs\n",
    "fizzle and forget them.\n",
    "For some reason, offline runs are un-fizzled again when recovered if not forcefully \"forgotten\""
   ]
  },
  {
   "cell_type": "code",
   "execution_count": null,
   "metadata": {
    "ExecuteTime": {
     "end_time": "2018-09-24T17:58:56.201094Z",
     "start_time": "2018-09-24T17:58:55.830263Z"
    }
   },
   "outputs": [],
   "source": [
    "launch_ids, fw_ids, _ = \\\n",
    "    jobadmin.lpad.detect_lostruns(expiration_secs=1, query= {\n",
    "        'spec.system_name': { '$regex': '.*CTAB.*'}\n",
    "    },fizzle=True)\n",
    "for fw_id in fw_ids: jobadmin.lpad.forget_offline(fw_id)    "
   ]
  },
  {
   "cell_type": "code",
   "execution_count": null,
   "metadata": {
    "ExecuteTime": {
     "end_time": "2018-09-24T17:59:01.248650Z",
     "start_time": "2018-09-24T17:59:01.067223Z"
    }
   },
   "outputs": [],
   "source": [
    "# detect lost runs except certain fw ids\n",
    "# do not recover them afterwards\n",
    "launch_ids, fw_ids, _ = \\\n",
    "    jobadmin.lpad.detect_lostruns(expiration_secs=1, query= {\n",
    "        'fw_id': {'$nin': [ 10232,10231 ] }\n",
    "    }, fizzle=True)\n",
    "for fw_id in fw_ids: jobadmin.lpad.forget_offline(fw_id)"
   ]
  }
 ],
 "metadata": {
  "kernelspec": {
   "display_name": "Python 3",
   "language": "python",
   "name": "python3"
  },
  "language_info": {
   "codemirror_mode": {
    "name": "ipython",
    "version": 3
   },
   "file_extension": ".py",
   "mimetype": "text/x-python",
   "name": "python",
   "nbconvert_exporter": "python",
   "pygments_lexer": "ipython3",
   "version": "3.6.3"
  },
  "toc": {
   "base_numbering": 1,
   "nav_menu": {},
   "number_sections": true,
   "sideBar": true,
   "skip_h1_title": false,
   "title_cell": "Table of Contents",
   "title_sidebar": "Contents",
   "toc_cell": false,
   "toc_position": {
    "height": "calc(100% - 180px)",
    "left": "10px",
    "top": "150px",
    "width": "261px"
   },
   "toc_section_display": true,
   "toc_window_display": true
  },
  "varInspector": {
   "cols": {
    "lenName": 16,
    "lenType": 16,
    "lenVar": 40
   },
   "kernels_config": {
    "python": {
     "delete_cmd_postfix": "",
     "delete_cmd_prefix": "del ",
     "library": "var_list.py",
     "varRefreshCmd": "print(var_dic_list())"
    },
    "r": {
     "delete_cmd_postfix": ") ",
     "delete_cmd_prefix": "rm(",
     "library": "var_list.r",
     "varRefreshCmd": "cat(var_dic_list()) "
    }
   },
   "types_to_exclude": [
    "module",
    "function",
    "builtin_function_or_method",
    "instance",
    "_Feature"
   ],
   "window_display": false
  }
 },
 "nbformat": 4,
 "nbformat_minor": 2
}
