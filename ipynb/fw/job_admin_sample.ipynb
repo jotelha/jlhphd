{
 "cells": [
  {
   "cell_type": "markdown",
   "metadata": {
    "ExecuteTime": {
     "end_time": "2018-10-19T19:30:20.138130Z",
     "start_time": "2018-10-19T19:30:19.978798Z"
    }
   },
   "source": [
    "# Current state"
   ]
  },
  {
   "cell_type": "markdown",
   "metadata": {},
   "source": [
    "# Managing adsorption film workflows"
   ]
  },
  {
   "cell_type": "code",
   "execution_count": 1,
   "metadata": {
    "ExecuteTime": {
     "end_time": "2019-06-15T14:41:55.346332Z",
     "start_time": "2019-06-15T14:41:54.992582Z"
    },
    "scrolled": false
   },
   "outputs": [],
   "source": [
    "import fwtools"
   ]
  },
  {
   "cell_type": "code",
   "execution_count": 2,
   "metadata": {
    "ExecuteTime": {
     "end_time": "2019-06-15T14:41:56.063787Z",
     "start_time": "2019-06-15T14:41:55.917635Z"
    }
   },
   "outputs": [
    {
     "ename": "AttributeError",
     "evalue": "module 'fwtools' has no attribute 'auxiliary'",
     "output_type": "error",
     "traceback": [
      "\u001b[0;31m---------------------------------------------------------------------------\u001b[0m",
      "\u001b[0;31mAttributeError\u001b[0m                            Traceback (most recent call last)",
      "\u001b[0;32m<ipython-input-2-fd85fe6d0b8b>\u001b[0m in \u001b[0;36m<module>\u001b[0;34m\u001b[0m\n\u001b[0;32m----> 1\u001b[0;31m \u001b[0mfwtools\u001b[0m\u001b[0;34m.\u001b[0m\u001b[0mauxiliary\u001b[0m\u001b[0;34m.\u001b[0m\u001b[0mprinturn\u001b[0m\u001b[0;34m\u001b[0m\u001b[0;34m\u001b[0m\u001b[0m\n\u001b[0m",
      "\u001b[0;31mAttributeError\u001b[0m: module 'fwtools' has no attribute 'auxiliary'"
     ]
    }
   ],
   "source": [
    "fwtools.auxiliary.printurn"
   ]
  },
  {
   "cell_type": "code",
   "execution_count": 3,
   "metadata": {
    "ExecuteTime": {
     "end_time": "2019-06-15T14:41:56.288134Z",
     "start_time": "2019-06-15T14:41:56.276560Z"
    }
   },
   "outputs": [
    {
     "ename": "AttributeError",
     "evalue": "module 'fwtools' has no attribute 'auxiliary'",
     "output_type": "error",
     "traceback": [
      "\u001b[0;31m---------------------------------------------------------------------------\u001b[0m",
      "\u001b[0;31mAttributeError\u001b[0m                            Traceback (most recent call last)",
      "\u001b[0;32m<ipython-input-3-58a692d43296>\u001b[0m in \u001b[0;36m<module>\u001b[0;34m\u001b[0m\n\u001b[0;32m----> 1\u001b[0;31m \u001b[0mfwtools\u001b[0m\u001b[0;34m.\u001b[0m\u001b[0mauxiliary\u001b[0m\u001b[0;34m.\u001b[0m\u001b[0mprinturn\u001b[0m\u001b[0;34m(\u001b[0m\u001b[0;36m1\u001b[0m\u001b[0;34m)\u001b[0m\u001b[0;34m\u001b[0m\u001b[0;34m\u001b[0m\u001b[0m\n\u001b[0m",
      "\u001b[0;31mAttributeError\u001b[0m: module 'fwtools' has no attribute 'auxiliary'"
     ]
    }
   ],
   "source": [
    "fwtools.auxiliary.printurn(1)"
   ]
  },
  {
   "cell_type": "code",
   "execution_count": 4,
   "metadata": {
    "ExecuteTime": {
     "end_time": "2019-06-15T14:41:56.703010Z",
     "start_time": "2019-06-15T14:41:56.660292Z"
    }
   },
   "outputs": [],
   "source": [
    "%load_ext autoreload\n",
    "\n",
    "%autoreload 2\n",
    "\n",
    "%config Application.log_level=\"WARN\""
   ]
  },
  {
   "cell_type": "markdown",
   "metadata": {},
   "source": [
    "## Init"
   ]
  },
  {
   "cell_type": "code",
   "execution_count": 5,
   "metadata": {
    "ExecuteTime": {
     "end_time": "2019-06-15T14:41:57.565693Z",
     "start_time": "2019-06-15T14:41:57.539229Z"
    }
   },
   "outputs": [],
   "source": [
    "from sys import path"
   ]
  },
  {
   "cell_type": "code",
   "execution_count": 6,
   "metadata": {
    "ExecuteTime": {
     "end_time": "2019-06-15T14:41:57.864842Z",
     "start_time": "2019-06-15T14:41:57.829303Z"
    }
   },
   "outputs": [
    {
     "data": {
      "text/plain": [
       "['/opt/apps/fireworks/1.8.7/venv/fireworks-python-3.6/bin',\n",
       " '/usr/lib/python36.zip',\n",
       " '/usr/lib/python3.6',\n",
       " '/usr/lib/python3.6/lib-dynload',\n",
       " '',\n",
       " '/opt/apps/fireworks/1.8.7/venv/fireworks-python-3.6/lib/python3.6/site-packages',\n",
       " '/usr/local/lib/python3.6/dist-packages',\n",
       " '/usr/lib/python3/dist-packages',\n",
       " '/usr/local/lib/python3.6/dist-packages/IPython/extensions',\n",
       " '/home/testuser/.ipython']"
      ]
     },
     "execution_count": 6,
     "metadata": {},
     "output_type": "execute_result"
    }
   ],
   "source": [
    "path"
   ]
  },
  {
   "cell_type": "code",
   "execution_count": 7,
   "metadata": {
    "ExecuteTime": {
     "end_time": "2019-06-15T14:41:58.006576Z",
     "start_time": "2019-06-15T14:41:57.982732Z"
    }
   },
   "outputs": [],
   "source": [
    "import sys"
   ]
  },
  {
   "cell_type": "code",
   "execution_count": 8,
   "metadata": {
    "ExecuteTime": {
     "end_time": "2019-06-15T14:41:58.153165Z",
     "start_time": "2019-06-15T14:41:58.129400Z"
    }
   },
   "outputs": [
    {
     "name": "stdout",
     "output_type": "stream",
     "text": [
      "/opt/apps/fireworks/1.8.7/venv/fireworks-python-3.6/bin/python\n"
     ]
    }
   ],
   "source": [
    "print( sys.executable )"
   ]
  },
  {
   "cell_type": "code",
   "execution_count": 9,
   "metadata": {
    "ExecuteTime": {
     "end_time": "2019-06-15T14:41:58.897063Z",
     "start_time": "2019-06-15T14:41:58.865391Z"
    }
   },
   "outputs": [
    {
     "data": {
      "text/html": [
       "<style>.container { width:100%; margin-left:0%; margin-right:0% !important; }</style>"
      ],
      "text/plain": [
       "<IPython.core.display.HTML object>"
      ]
     },
     "metadata": {},
     "output_type": "display_data"
    }
   ],
   "source": [
    "# tune noteboook width to desired value\n",
    "# the margin-left option is necessary if toc is displayed on left hand side\n",
    "from IPython.core.display import display, HTML\n",
    "# good for toc on left side:\n",
    "# display(HTML(\"<style>.container { width:85%; margin-left:15%; margin-right:0% !important; }</style>\"))\n",
    "display(HTML(\"<style>.container { width:100%; margin-left:0%; margin-right:0% !important; }</style>\"))"
   ]
  },
  {
   "cell_type": "code",
   "execution_count": 10,
   "metadata": {
    "ExecuteTime": {
     "end_time": "2019-06-15T14:41:59.272370Z",
     "start_time": "2019-06-15T14:41:59.256380Z"
    }
   },
   "outputs": [],
   "source": [
    "import logging\n",
    "import os\n",
    "import datetime\n",
    "from pprint import pprint"
   ]
  },
  {
   "cell_type": "code",
   "execution_count": 11,
   "metadata": {
    "ExecuteTime": {
     "end_time": "2019-06-15T14:41:59.641486Z",
     "start_time": "2019-06-15T14:41:59.617165Z"
    }
   },
   "outputs": [],
   "source": [
    "logging.getLogger().handlers #Delete Jupyter notebook root logger handler\n",
    "logger = logging.getLogger()\n",
    "logger.handlers = []\n",
    "\n",
    "#Create logger as usual\n",
    "logger = logging.getLogger(__name__)\n",
    "logger.setLevel(logging.WARN)"
   ]
  },
  {
   "cell_type": "code",
   "execution_count": 12,
   "metadata": {
    "ExecuteTime": {
     "end_time": "2019-06-15T14:41:59.807209Z",
     "start_time": "2019-06-15T14:41:59.785347Z"
    }
   },
   "outputs": [],
   "source": [
    "logging.basicConfig(level=logging.WARN)"
   ]
  },
  {
   "cell_type": "code",
   "execution_count": 13,
   "metadata": {
    "ExecuteTime": {
     "end_time": "2019-06-15T14:42:00.105909Z",
     "start_time": "2019-06-15T14:42:00.089179Z"
    }
   },
   "outputs": [],
   "source": [
    "import pandas as pd"
   ]
  },
  {
   "cell_type": "code",
   "execution_count": 14,
   "metadata": {
    "ExecuteTime": {
     "end_time": "2019-06-15T14:42:00.475526Z",
     "start_time": "2019-06-15T14:42:00.458817Z"
    }
   },
   "outputs": [],
   "source": [
    "from fireworks import Firework, Workflow\n",
    "from fireworks.user_objects.firetasks.jlh_tasks import DummyParentTask, RecoverPackmolTask"
   ]
  },
  {
   "cell_type": "code",
   "execution_count": 15,
   "metadata": {
    "ExecuteTime": {
     "end_time": "2019-06-15T14:42:00.682834Z",
     "start_time": "2019-06-15T14:42:00.660327Z"
    }
   },
   "outputs": [
    {
     "name": "stdout",
     "output_type": "stream",
     "text": [
      "/opt/apps/fireworks/1.8.7/venv/fireworks-python-3.6/lib/python3.6/site-packages/fireworks/user_objects/firetasks/jlh_tasks.py\n"
     ]
    }
   ],
   "source": [
    "import fireworks.user_objects.firetasks.jlh_tasks\n",
    "print( fireworks.user_objects.firetasks.jlh_tasks.__file__)"
   ]
  },
  {
   "cell_type": "code",
   "execution_count": 16,
   "metadata": {
    "ExecuteTime": {
     "end_time": "2019-06-15T14:42:01.074940Z",
     "start_time": "2019-06-15T14:42:01.058431Z"
    }
   },
   "outputs": [
    {
     "name": "stdout",
     "output_type": "stream",
     "text": [
      "/opt/apps/fireworks/1.8.7/venv/fireworks-python-3.6/lib/python3.6/site-packages/fireworks/user_objects/firetasks/script_task.py\n"
     ]
    }
   ],
   "source": [
    "import fireworks.user_objects.firetasks.script_task\n",
    "print( fireworks.user_objects.firetasks.script_task.__file__)"
   ]
  },
  {
   "cell_type": "code",
   "execution_count": 17,
   "metadata": {
    "ExecuteTime": {
     "end_time": "2019-06-15T14:42:01.482767Z",
     "start_time": "2019-06-15T14:42:01.462195Z"
    }
   },
   "outputs": [
    {
     "name": "stdout",
     "output_type": "stream",
     "text": [
      "/opt/apps/fireworks/1.8.7/venv/fireworks-python-3.6/lib/python3.6/site-packages/fireworks/user_objects/firetasks/script_task.py\n"
     ]
    }
   ],
   "source": [
    "print( fireworks.user_objects.firetasks.script_task.__file__)"
   ]
  },
  {
   "cell_type": "code",
   "execution_count": 18,
   "metadata": {
    "ExecuteTime": {
     "end_time": "2019-06-15T14:42:01.914573Z",
     "start_time": "2019-06-15T14:42:01.897781Z"
    }
   },
   "outputs": [],
   "source": [
    "from fwtools.JobAdmin import JobAdmin\n",
    "from fwtools.JobAdmin import l_CTAB, head_atom_number_CTAB, tail_atom_number_CTAB\n",
    "from fwtools.JobAdmin import l_SDS, head_atom_number_SDS, tail_atom_number_SDS"
   ]
  },
  {
   "cell_type": "code",
   "execution_count": 19,
   "metadata": {
    "ExecuteTime": {
     "end_time": "2019-06-15T14:42:02.549964Z",
     "start_time": "2019-06-15T14:42:02.527684Z"
    }
   },
   "outputs": [],
   "source": [
    "prefix = os.getcwd()"
   ]
  },
  {
   "cell_type": "code",
   "execution_count": 20,
   "metadata": {
    "ExecuteTime": {
     "end_time": "2019-06-15T14:42:02.907476Z",
     "start_time": "2019-06-15T14:42:02.883784Z"
    }
   },
   "outputs": [],
   "source": [
    "template_prefix = prefix + os.sep + 'N_surfactant_on_substrate_template'"
   ]
  },
  {
   "cell_type": "code",
   "execution_count": 21,
   "metadata": {
    "ExecuteTime": {
     "end_time": "2019-06-15T14:42:03.558981Z",
     "start_time": "2019-06-15T14:42:03.534307Z"
    }
   },
   "outputs": [],
   "source": [
    "output_prefix = prefix + os.sep + 'sys'"
   ]
  },
  {
   "cell_type": "code",
   "execution_count": 22,
   "metadata": {
    "ExecuteTime": {
     "end_time": "2019-06-15T14:42:04.219066Z",
     "start_time": "2019-06-15T14:42:04.161090Z"
    }
   },
   "outputs": [],
   "source": [
    "# minimal JobAdmin instance\n",
    "jobadmin = JobAdmin( \n",
    "    queue   = 'BWCLOUD',\n",
    "    template_prefix = template_prefix,\n",
    "    output_prefix   = output_prefix\n",
    ")"
   ]
  },
  {
   "cell_type": "code",
   "execution_count": 23,
   "metadata": {
    "ExecuteTime": {
     "end_time": "2019-06-15T14:42:04.622810Z",
     "start_time": "2019-06-15T14:42:04.601632Z"
    }
   },
   "outputs": [],
   "source": [
    "# jobadmin.fp.reset()"
   ]
  },
  {
   "cell_type": "code",
   "execution_count": 24,
   "metadata": {
    "ExecuteTime": {
     "end_time": "2019-06-15T14:42:05.173708Z",
     "start_time": "2019-06-15T14:42:05.152197Z"
    }
   },
   "outputs": [],
   "source": [
    "# jobadmin.fp.add_file(\n",
    "#    path=\"/mnt/dat/work/testuser/md/surfactants/data/surfactant_on_AU_111.json\",\n",
    "#    identifier='surfactant_on_AU_111_df_json')"
   ]
  },
  {
   "cell_type": "code",
   "execution_count": 25,
   "metadata": {
    "ExecuteTime": {
     "end_time": "2019-06-15T14:42:05.710341Z",
     "start_time": "2019-06-15T14:42:05.688223Z"
    }
   },
   "outputs": [],
   "source": [
    "# insert scripts and templates into db"
   ]
  },
  {
   "cell_type": "code",
   "execution_count": 26,
   "metadata": {
    "ExecuteTime": {
     "end_time": "2019-06-15T14:42:06.175536Z",
     "start_time": "2019-06-15T14:42:06.126803Z"
    }
   },
   "outputs": [
    {
     "ename": "FileNotFoundError",
     "evalue": "[Errno 2] No such file or directory: '/mnt/dat/work/testuser/git/N_surfactant_on_substrate_template/ipynb/fw/N_surfactant_on_substrate_template/jlh_vmd.tcl'",
     "output_type": "error",
     "traceback": [
      "\u001b[0;31m---------------------------------------------------------------------------\u001b[0m",
      "\u001b[0;31mFileNotFoundError\u001b[0m                         Traceback (most recent call last)",
      "\u001b[0;32m<ipython-input-26-df9b149f9f9d>\u001b[0m in \u001b[0;36m<module>\u001b[0;34m\u001b[0m\n\u001b[1;32m      5\u001b[0m         \u001b[0;34m'type'\u001b[0m\u001b[0;34m:\u001b[0m     \u001b[0;34m'script'\u001b[0m\u001b[0;34m,\u001b[0m\u001b[0;34m\u001b[0m\u001b[0;34m\u001b[0m\u001b[0m\n\u001b[1;32m      6\u001b[0m         \u001b[0;34m'language'\u001b[0m\u001b[0;34m:\u001b[0m \u001b[0;34m'tcl'\u001b[0m\u001b[0;34m,\u001b[0m\u001b[0;34m\u001b[0m\u001b[0;34m\u001b[0m\u001b[0m\n\u001b[0;32m----> 7\u001b[0;31m         'usecase':  'indenter insertion in vmd'})\n\u001b[0m\u001b[1;32m      8\u001b[0m \u001b[0;34m\u001b[0m\u001b[0m\n\u001b[1;32m      9\u001b[0m jobadmin.fp.add_file(\n",
      "\u001b[0;32m/opt/apps/fireworks/1.8.7/venv/fireworks-python-3.6/lib/python3.6/site-packages/fireworks/utilities/filepad.py\u001b[0m in \u001b[0;36madd_file\u001b[0;34m(self, path, identifier, compress, metadata)\u001b[0m\n\u001b[1;32m    111\u001b[0m                      \u001b[0;34m\"metadata\"\u001b[0m\u001b[0;34m:\u001b[0m \u001b[0mmetadata\u001b[0m\u001b[0;34m,\u001b[0m\u001b[0;34m\u001b[0m\u001b[0;34m\u001b[0m\u001b[0m\n\u001b[1;32m    112\u001b[0m                      \"compressed\": compress}\n\u001b[0;32m--> 113\u001b[0;31m         \u001b[0;32mwith\u001b[0m \u001b[0mopen\u001b[0m\u001b[0;34m(\u001b[0m\u001b[0mpath\u001b[0m\u001b[0;34m,\u001b[0m \u001b[0;34m\"r\"\u001b[0m\u001b[0;34m)\u001b[0m \u001b[0;32mas\u001b[0m \u001b[0mf\u001b[0m\u001b[0;34m:\u001b[0m\u001b[0;34m\u001b[0m\u001b[0;34m\u001b[0m\u001b[0m\n\u001b[0m\u001b[1;32m    114\u001b[0m             \u001b[0mcontents\u001b[0m \u001b[0;34m=\u001b[0m \u001b[0mf\u001b[0m\u001b[0;34m.\u001b[0m\u001b[0mread\u001b[0m\u001b[0;34m(\u001b[0m\u001b[0;34m)\u001b[0m\u001b[0;34m\u001b[0m\u001b[0;34m\u001b[0m\u001b[0m\n\u001b[1;32m    115\u001b[0m             \u001b[0;32mreturn\u001b[0m \u001b[0mself\u001b[0m\u001b[0;34m.\u001b[0m\u001b[0m_insert_contents\u001b[0m\u001b[0;34m(\u001b[0m\u001b[0mcontents\u001b[0m\u001b[0;34m,\u001b[0m \u001b[0midentifier\u001b[0m\u001b[0;34m,\u001b[0m \u001b[0mroot_data\u001b[0m\u001b[0;34m,\u001b[0m \u001b[0mcompress\u001b[0m\u001b[0;34m)\u001b[0m\u001b[0;34m\u001b[0m\u001b[0;34m\u001b[0m\u001b[0m\n",
      "\u001b[0;31mFileNotFoundError\u001b[0m: [Errno 2] No such file or directory: '/mnt/dat/work/testuser/git/N_surfactant_on_substrate_template/ipynb/fw/N_surfactant_on_substrate_template/jlh_vmd.tcl'"
     ]
    }
   ],
   "source": [
    "jobadmin.fp.add_file(\n",
    "    template_prefix + os.sep + 'jlh_vmd.tcl',\n",
    "    identifier='jlh_vmd.tcl',\n",
    "    metadata={\n",
    "        'type':     'script',\n",
    "        'language': 'tcl',\n",
    "        'usecase':  'indenter insertion in vmd'})\n",
    "\n",
    "jobadmin.fp.add_file(\n",
    "    template_prefix + os.sep + 'indenter_insertion.tcl',\n",
    "    identifier='indenter_insertion.tcl',\n",
    "    metadata={\n",
    "        'type':     'template',\n",
    "        'language': 'tcl',\n",
    "        'usecase':  'indenter insertion in vmd'})\n",
    "\n",
    "jobadmin.fp.add_file(\n",
    "    template_prefix + os.sep + 'MergeLammpsDataFiles.py',\n",
    "    identifier='MergeLammpsDataFiles.py',\n",
    "    metadata={\n",
    "        'type':     'script',\n",
    "        'language': 'python',\n",
    "        'usecase':  'merge VMD output with parameters from original system'})\n",
    "\n",
    "jobadmin.fp.add_file(\n",
    "    template_prefix + os.sep + 'merge.py',\n",
    "    identifier='merge.py',\n",
    "    metadata={\n",
    "        'type':     'script',\n",
    "        'language': 'python',\n",
    "        'usecase':  'merge VMD output with parameters from original system'})\n",
    "\n",
    "jobadmin.fp.add_file(\n",
    "    template_prefix + os.sep + 'extract_thermo.sh',\n",
    "    identifier='extract_thermo.sh',\n",
    "    metadata={\n",
    "        'type':     'script',\n",
    "        'language': 'bash',\n",
    "        'usecase':  'extract stats from LAMMPS log'})\n",
    "\n",
    "jobadmin.fp.delete_file(identifier='lmp_header.input')\n",
    "\n",
    "jobadmin.fp.add_file(\n",
    "    template_prefix + os.sep + 'lmp_header.input',\n",
    "    identifier='lmp_header.input',\n",
    "    metadata={\n",
    "        'type':     'input',\n",
    "        'language': 'LAMMPS',\n",
    "        'usecase':  'surfactant adsorption'})\n",
    "\n",
    "jobadmin.fp.add_file(\n",
    "    template_prefix + os.sep + 'lmp_minimization.input',\n",
    "    identifier='lmp_minimization.input',\n",
    "    metadata={\n",
    "        'type':     'input',\n",
    "        'language': 'LAMMPS',\n",
    "        'usecase':  'minimization'})\n",
    "\n",
    "jobadmin.fp.add_file(\n",
    "    template_prefix + os.sep + 'lmp_equilibration_nvt.input',\n",
    "    identifier='lmp_equilibration_nvt.input',\n",
    "    metadata={\n",
    "        'type':     'input',\n",
    "        'language': 'LAMMPS',\n",
    "        'usecase':  'nvt equilibration'})\n",
    "\n",
    "jobadmin.fp.add_file(\n",
    "    template_prefix + os.sep + 'lmp_equilibration_npt.input',\n",
    "    identifier='lmp_equilibration_npt.input',\n",
    "    metadata={\n",
    "        'type':     'input',\n",
    "        'language': 'LAMMPS',\n",
    "        'usecase':  'npt equilibration'})\n",
    "\n",
    "jobadmin.fp.add_file(\n",
    "    template_prefix + os.sep + 'lmp_production.input',\n",
    "    identifier='lmp_production.input',\n",
    "    metadata={\n",
    "        'type':     'input',\n",
    "        'language': 'LAMMPS',\n",
    "        'usecase':  'production'})\n",
    "\n",
    "jobadmin.fp.delete_file(identifier='lmp_production_mixed.input')\n",
    "\n",
    "jobadmin.fp.add_file(\n",
    "    template_prefix + os.sep + 'lmp_production_mixed.input',\n",
    "    identifier='lmp_production_mixed.input',\n",
    "    metadata={\n",
    "        'type':     'input',\n",
    "        'language': 'LAMMPS',\n",
    "        'usecase':  'production'})"
   ]
  },
  {
   "cell_type": "code",
   "execution_count": 27,
   "metadata": {
    "ExecuteTime": {
     "end_time": "2019-06-15T14:42:06.518274Z",
     "start_time": "2019-06-15T14:42:06.495283Z"
    }
   },
   "outputs": [],
   "source": [
    "content, doc = jobadmin.fp.get_file(identifier='lmp_production_mixed.input')"
   ]
  },
  {
   "cell_type": "code",
   "execution_count": 140,
   "metadata": {},
   "outputs": [
    {
     "name": "stdout",
     "output_type": "stream",
     "text": [
      "############\n",
      "# PRODUCTION\n",
      "#\n",
      "if \"${has_indenter} > 0\" then &\n",
      "  \"variable pressured_group string nonindenter\" &\n",
      "else &\n",
      "  \"variable pressured_group string all\"\n",
      "\n",
      "if \"${has_indenter} >0 && ${constant_indenter_velocity} != 0.0\" then &\n",
      "  \"velocity indenter set 0.0 0.0 ${constant_indenter_velocity} sum no units box\"\n",
      "#                        ^vx ^vy ^vy\n",
      "# The sum keyword is used by all styles, except zero. The new velocities will be\n",
      "# added to the existing ones if sum = yes, or will replace them if sum = no.\n",
      "# The units keyword is used by set and ramp. If units = box, the velocities and\n",
      "# coordinates specified in the velocity command are in the standard units \n",
      "# described by the units command (e.g. Angstroms/fmsec for real units). If\n",
      "# units = lattice, velocities are in units of lattice spacings per time (e.g.\n",
      "# spacings/fmsec) and coordinates are in lattice spacings. The lattice command\n",
      "# must have been previously used to define the lattice spacing.\n",
      "\n",
      "# treats indenter rigid, i.e. removes all forces on indenter\n",
      "if \"${has_indenter} > 0 && ${constant_indenter_velocity} != 0.0\" then &\n",
      "  \"fix freeze indenter nve/noforce\" &\n",
      "elif \"${has_indenter} > 0\" &\n",
      "  \"fix freeze indenter setforce 0.0 0.0 0.0\"\n",
      "\n",
      "# store forces before thermo- and barostatting, but after colvars contraints\n",
      "if \"${store_forces} > 0\" then &\n",
      "  \"fix storeAnteStatForces all store/force\" &\n",
      "  \"fix storeAnteStatForcesAve all ave/atom 1 ${netcdf_frequency} ${netcdf_frequency} f_storeAnteStatForces[*]\"\n",
      "\n",
      "# only temper substrate\n",
      "fix thermostat substrate langevin ${temperatureT} ${temperatureT} 100 29061988\n",
      "#   ^ID        ^group-ID\n",
      "#                      ^langevin\n",
      "#                               ^Tstart         ^Tstop          ^damp\n",
      "#                                                                   ^seed\n",
      "# source: https://lammps.sandia.gov/doc/fix_langevin.html\n",
      "# fix ID group-ID langevin Tstart Tstop damp seed keyword values ...\n",
      "# Apply a Langevin thermostat as described in (Schneider) to a group of atoms\n",
      "# which models an interaction with a background implicit solvent. Used with\n",
      "# fix nve, this command performs Brownian dynamics (BD), since the total force\n",
      "# on each atom will have the form:\n",
      "#\n",
      "# F = Fc + Ff + Fr\n",
      "# Ff = - (m / damp) v\n",
      "# Fr is proportional to sqrt(Kb T m / (dt damp))\n",
      "#\n",
      "# Note that unless you use the omega or angmom keywords, the thermostat effect\n",
      "# of this fix is applied to only the translational degrees of freedom for the\n",
      "# particles, which is an important consideration for finite-size particles,\n",
      "# which have rotational degrees of freedom, are being thermostatted. The\n",
      "# translational degrees of freedom can also have a bias velocity removed\n",
      "# from them before thermostatting takes place; see the description below.\n",
      "#\n",
      "# Unlike the fix nvt command which performs Nose/Hoover thermostatting\n",
      "# AND time integration, this fix does NOT perform time integration. It\n",
      "# only modifies forces to effect thermostatting. Thus you must use a\n",
      "# separate time integration fix, like fix nve to actually update the\n",
      "# velocities and positions of atoms using the modified forces. Likewise,\n",
      "# this fix should not normally be used on atoms that also have their\n",
      "# temperature controlled by another fix - e.g. by fix nvt or fix\n",
      "# temp/rescale commands.\n",
      "#\n",
      "# The damp parameter is specified in time units and determines how rapidly the\n",
      "# temperature is relaxed. For example, a value of 100.0 means to relax the\n",
      "# temperature in a timespan of (roughly) 100 time units (tau or fmsec or psec\n",
      "# - see the units command). The damp factor can be thought of as inversely\n",
      "# related to the viscosity of the solvent. I.e. a small relaxation time\n",
      "# implies a hi-viscosity solvent and vice versa. See the discussion about\n",
      "# gamma and viscosity in the documentation for the fix viscous command for\n",
      "# more details.\n",
      "\n",
      "##########\n",
      "# BAROSTAT\n",
      "\n",
      "fix barostat ${pressured_group} nph aniso ${pressureP} ${pressureP} 1000\n",
      "# source https://lammps.sandia.gov/doc/fix_nh.html#fix-nph-command\n",
      "# As with the thermostats, the Nose/Hoover methods (fix npt and fix nph) perform\n",
      "# time integration. Fix press/berendsen does NOT, so it should be used with one\n",
      "# of the constant NVE fixes or with one of the NVT fixes.\n",
      "\n",
      "###############\n",
      "# DRIFT REMOVAL\n",
      "\n",
      "# Keep substrate slab's position COM position fixed, remove relative drift\n",
      "fix             fixedSubstrateCOM surface recenter INIT INIT INIT shift all\n",
      "#               ^ID               ^group-ID\n",
      "#                                         ^style   ^x   ^y   ^z   ^keyword\n",
      "#                                                                       ^group\n",
      "# source: https://lammps.sandia.gov/doc/fix_recenter.html\n",
      "# fix ID group-ID recenter x y z keyword value ...\n",
      "#   shift value = group-ID\n",
      "#     group-ID = group of atoms whose coords are shifted\n",
      "#\n",
      "# Constrain the center-of-mass position of a group of atoms by adjusting the\n",
      "# coordinates of the atoms every timestep. This is simply a small shift that\n",
      "# does not alter the dynamics of the system or change the relative coordinates\n",
      "# of any pair of atoms in the group. This can be used to insure the entire\n",
      "# collection of atoms (or a portion of them) do not drift during the simulation\n",
      "# due to random perturbations (e.g. fix langevin thermostatting).\n",
      "#\n",
      "# The center-of-mass (COM) is computed for the group specified by the fix.\n",
      "# If the current COM is different than the specified x,y,z, then a group of\n",
      "# atoms has their coordinates shifted by the difference. By default the shifted\n",
      "# group is also the group specified by the fix. A different group can be shifted\n",
      "# by using the shift keyword. For example, the COM could be computed on a\n",
      "# protein to keep it in the center of the simulation box. But the entire system\n",
      "# (protein + water) could be shifted.\n",
      "#\n",
      "# Distance units for the x,y,z values are determined by the setting of the units\n",
      "# keyword, as discussed below. One or more x,y,z values can also be specified\n",
      "# as NULL, which means exclude that dimension from this operation. Or it can be\n",
      "# specified as INIT which means to constrain the center-of-mass to its initial\n",
      "# value at the beginning of the run.\n",
      "\n",
      "# Store forces before SHAKE constraint\n",
      "if \"${store_forces} > 0\" then &\n",
      "    \"fix storeAnteSHAKEForces all store/force\" &\n",
      "    \"fix storeAnteSHAKEForcesAve all ave/atom 1 ${netcdf_frequency} ${netcdf_frequency} f_storeAnteSHAKEForces[*]\"\n",
      "\n",
      "############################################\n",
      "# RIGID TIP3P WATER and RIGID HYDROGEN BONDS\n",
      "#\n",
      "# fix equilibrateNVT all nvt temp ${temperatureT} ${temperatureT} 100 tchain 1\n",
      "#  WARNING: Fix rattle should come after all other integration fixes\n",
      "#    (../fix_rattle.cpp:147)\n",
      "\n",
      "fix rigidHbonds ${pressured_group} rattle 1e-6 500 0 m 1.0 a ${angleIdWater}\n",
      "# fix rigidHbonds all shake 1e-6 500 0 m 1.0 a ${angleIdWater}\n",
      "\n",
      "# The b constraint lists bond types that will be constrained.\n",
      "# The t constraint lists atom types. All bonds connected to an\n",
      "#  atom of the specified type will be constrained. The m constraint\n",
      "# lists atom masses. All bonds connected to atoms of the specified\n",
      "# masses will be constrained (within a fudge factor of MASSDELTA specified\n",
      "# in fix_shake.cpp). The a constraint lists angle types. If both bonds in\n",
      "# the angle are constrained then the angle will also be constrained if its\n",
      "# type is in the list.\n",
      "# The mentioned MASSDELTA is defined as 0.1 (16Mar18).\n",
      "# Therefore, all hydrogen\n",
      "# The fix rattle command modifies forces and velocities and thus should be\n",
      "# defined after all other integration fixes in your input script. If you\n",
      "# define other fixes that modify velocities or forces after fix rattle operates,\n",
      "# then fix rattle will not take them into account and the overall time\n",
      "# integration will typically not satisfy the RATTLE constraints. You can\n",
      "# check whether the constraints work correctly by setting the value of\n",
      "# RATTLE_DEBUG in src/fix_rattle.cpp to 1 and recompiling LAMMPS.\n",
      "# The degrees-of-freedom removed by SHAKE bonds and angles are accounted for in\n",
      "# temperature and pressure computations. Similarly, the SHAKE contribution to\n",
      "# the pressure of the system (virial) is also accounted for.\n",
      "\n",
      "# average final (constrained) forces\n",
      "if \"${store_forces} > 0\" then &\n",
      "  \"fix storeForcesAve all ave/atom 1 ${netcdf_frequency} ${netcdf_frequency} fx fy fz\"\n",
      "\n",
      "\n",
      "dump            dumpPng nonsolvent image 1000000 &\n",
      "                ${baseName}_production_mixed.*.png type type\n",
      "#                                      ^one image every 2 ns\n",
      "\n",
      "# output format for stored forces:\n",
      "# col  1 -  5: id mol type position[3]\n",
      "# col  6 - 17: instantaneous forces:\n",
      "#  fully_constrained[3] ante_shake[3] ante_stats[3] unconstrained[3]\n",
      "# col 18 - 26: interval-averaged forces\n",
      "#  fully_constrained[3] ante_shake[3] ante_stats[3] unconstrained[3]\n",
      "\n",
      "if \"${mpiio} > 0 && ${store_forces} > 0\" then &\n",
      "  \"print 'netcdf/mpiio output, store constrained and unconstrained forces'\" &\n",
      "  \"dump dumpNetCDF all netcdf/mpiio ${netcdf_frequency} &\n",
      "    ${baseName}_production_mixed.nc id mol type x y z fx fy fz &\n",
      "    f_storeAnteSHAKEForces[1] f_storeAnteSHAKEForces[2] f_storeAnteSHAKEForces[3] &\n",
      "    f_storeAnteStatForces[1] f_storeAnteStatForces[2] f_storeAnteStatForces[3] &\n",
      "    f_storeUnconstrainedForces[1] f_storeUnconstrainedForces[2] f_storeUnconstrainedForces[3] &\n",
      "    f_storeAnteSHAKEForcesAve[1] f_storeAnteSHAKEForcesAve[2] f_storeAnteSHAKEForcesAve[3] &\n",
      "    f_storeAnteStatForcesAve[1] f_storeAnteStatForcesAve[2] f_storeAnteStatForcesAve[3] &\n",
      "    f_storeUnconstrainedForcesAve[1] f_storeUnconstrainedForcesAve[2] f_storeUnconstrainedForcesAve[3]\" &\n",
      "elif \"${store_forces} > 0\" &\n",
      "  \"print 'netcdf output (no netcdf/mpiiio), store constrained and unconstrained forces'\" &\n",
      "  \"dump dumpNetCDF all netcdf ${netcdf_frequency} &\n",
      "    ${baseName}_production_mixed.nc id mol type x y z fx fy fz &\n",
      "    f_storeAnteSHAKEForces[1] f_storeAnteSHAKEForces[2] f_storeAnteSHAKEForces[3] &\n",
      "    f_storeAnteStatForces[1] f_storeAnteStatForces[2] f_storeAnteStatForces[3] &\n",
      "    f_storeUnconstrainedForces[1] f_storeUnconstrainedForces[2] f_storeUnconstrainedForces[3] &\n",
      "    f_storeAnteSHAKEForcesAve[1] f_storeAnteSHAKEForcesAve[2] f_storeAnteSHAKEForcesAve[3] &\n",
      "    f_storeAnteStatForcesAve[1] f_storeAnteStatForcesAve[2] f_storeAnteStatForcesAve[3] &\n",
      "    f_storeUnconstrainedForcesAve[1] f_storeUnconstrainedForcesAve[2] f_storeUnconstrainedForcesAve[3]\" &\n",
      "elif \"${mpiio} > 0\" &\n",
      "  \"print 'netcdf/mpiio output'\" &\n",
      "  \"dump dumpNetCDF all netcdf/mpiio ${netcdf_frequency} &\n",
      "    ${baseName}_production_mixed.nc id mol type x y z\" &\n",
      "else &\n",
      "  \"print 'netcdf output (no netcdf/mpiiio)'\" &\n",
      "  \"dump dumpNetCDF all netcdf ${netcdf_frequency} &\n",
      "    ${baseName}_production_mixed.nc id mol type x y z\"\n",
      "\n",
      "# interestingly, wildcard * operator does not work for dump netcdf\n",
      "\n",
      "\n",
      "# What is the purpose of this line?\n",
      "# if \"${store_forces} > 0\" then \"dump_modify dumpNetCDF append yes\"\n",
      "# https://lammps.sandia.gov/doc/dump_modify.html\n",
      "# The append keyword applies to all dump styles except cfg and xtc and dcd. It\n",
      "# also applies only to text output files, not to binary or gzipped or\n",
      "# image/movie files. If specified as yes, then dump snapshots are appended to\n",
      "# the end of an existing dump file. If specified as no, then a new dump file\n",
      "# will be created which will overwrite an existing file with the same name.\n",
      "\n",
      "if \"${reinitialize_velocities} > 0\" then &\n",
      "  \"velocity ${pressured_group} create ${temperatureT} 29061988 rot yes mom yes dist gaussian\"\n",
      "\n",
      "print \"LAMMPS state before production:\"\n",
      "info all\n",
      "# at 2 fs time step output every 2 ps\n",
      "run             ${productionSteps} upto\n",
      "\n",
      "write_data      ${baseName}_production_mixed.lammps\n",
      "\n",
      "# unfix           timeIntegration\n",
      "unfix           thermostat\n",
      "unfix           barostat\n",
      "unfix           rigidHbonds\n",
      "unfix           fixedSubstrateCOM\n",
      "undump          dumpPng\n",
      "undump          dumpNetCDF\n",
      "\n"
     ]
    }
   ],
   "source": [
    "print(content.decode())"
   ]
  },
  {
   "cell_type": "code",
   "execution_count": 28,
   "metadata": {
    "ExecuteTime": {
     "end_time": "2019-06-15T14:42:30.420030Z",
     "start_time": "2019-06-15T14:42:30.389253Z"
    }
   },
   "outputs": [
    {
     "ename": "ValueError",
     "evalue": "Invalid file path or buffer object type: <class 'NoneType'>",
     "output_type": "error",
     "traceback": [
      "\u001b[0;31m---------------------------------------------------------------------------\u001b[0m",
      "\u001b[0;31mValueError\u001b[0m                                Traceback (most recent call last)",
      "\u001b[0;32m<ipython-input-28-6f78f4fd9ed2>\u001b[0m in \u001b[0;36m<module>\u001b[0;34m\u001b[0m\n\u001b[1;32m      2\u001b[0m \u001b[0mcontent\u001b[0m\u001b[0;34m,\u001b[0m \u001b[0mdoc\u001b[0m \u001b[0;34m=\u001b[0m \u001b[0mjobadmin\u001b[0m\u001b[0;34m.\u001b[0m\u001b[0mfp\u001b[0m\u001b[0;34m.\u001b[0m\u001b[0mget_file\u001b[0m\u001b[0;34m(\u001b[0m\u001b[0midentifier\u001b[0m\u001b[0;34m=\u001b[0m\u001b[0;34m'surfactant_on_AU_111_df_json'\u001b[0m\u001b[0;34m)\u001b[0m\u001b[0;34m\u001b[0m\u001b[0;34m\u001b[0m\u001b[0m\n\u001b[1;32m      3\u001b[0m \u001b[0;34m\u001b[0m\u001b[0m\n\u001b[0;32m----> 4\u001b[0;31m \u001b[0msim_df\u001b[0m \u001b[0;34m=\u001b[0m \u001b[0mpd\u001b[0m\u001b[0;34m.\u001b[0m\u001b[0mread_json\u001b[0m\u001b[0;34m(\u001b[0m\u001b[0mcontent\u001b[0m\u001b[0;34m,\u001b[0m \u001b[0morient\u001b[0m\u001b[0;34m=\u001b[0m\u001b[0;34m'index'\u001b[0m\u001b[0;34m)\u001b[0m\u001b[0;34m\u001b[0m\u001b[0;34m\u001b[0m\u001b[0m\n\u001b[0m",
      "\u001b[0;32m/usr/lib/python3/dist-packages/pandas/io/json/json.py\u001b[0m in \u001b[0;36mread_json\u001b[0;34m(path_or_buf, orient, typ, dtype, convert_axes, convert_dates, keep_default_dates, numpy, precise_float, date_unit, encoding, lines, chunksize, compression)\u001b[0m\n\u001b[1;32m    350\u001b[0m     \u001b[0mcompression\u001b[0m \u001b[0;34m=\u001b[0m \u001b[0m_infer_compression\u001b[0m\u001b[0;34m(\u001b[0m\u001b[0mpath_or_buf\u001b[0m\u001b[0;34m,\u001b[0m \u001b[0mcompression\u001b[0m\u001b[0;34m)\u001b[0m\u001b[0;34m\u001b[0m\u001b[0;34m\u001b[0m\u001b[0m\n\u001b[1;32m    351\u001b[0m     filepath_or_buffer, _, compression = get_filepath_or_buffer(\n\u001b[0;32m--> 352\u001b[0;31m         \u001b[0mpath_or_buf\u001b[0m\u001b[0;34m,\u001b[0m \u001b[0mencoding\u001b[0m\u001b[0;34m=\u001b[0m\u001b[0mencoding\u001b[0m\u001b[0;34m,\u001b[0m \u001b[0mcompression\u001b[0m\u001b[0;34m=\u001b[0m\u001b[0mcompression\u001b[0m\u001b[0;34m,\u001b[0m\u001b[0;34m\u001b[0m\u001b[0;34m\u001b[0m\u001b[0m\n\u001b[0m\u001b[1;32m    353\u001b[0m     )\n\u001b[1;32m    354\u001b[0m \u001b[0;34m\u001b[0m\u001b[0m\n",
      "\u001b[0;32m/usr/lib/python3/dist-packages/pandas/io/common.py\u001b[0m in \u001b[0;36mget_filepath_or_buffer\u001b[0;34m(filepath_or_buffer, encoding, compression)\u001b[0m\n\u001b[1;32m    209\u001b[0m     \u001b[0;32mif\u001b[0m \u001b[0;32mnot\u001b[0m \u001b[0mis_file_like\u001b[0m\u001b[0;34m(\u001b[0m\u001b[0mfilepath_or_buffer\u001b[0m\u001b[0;34m)\u001b[0m\u001b[0;34m:\u001b[0m\u001b[0;34m\u001b[0m\u001b[0;34m\u001b[0m\u001b[0m\n\u001b[1;32m    210\u001b[0m         \u001b[0mmsg\u001b[0m \u001b[0;34m=\u001b[0m \u001b[0;34m\"Invalid file path or buffer object type: {_type}\"\u001b[0m\u001b[0;34m\u001b[0m\u001b[0;34m\u001b[0m\u001b[0m\n\u001b[0;32m--> 211\u001b[0;31m         \u001b[0;32mraise\u001b[0m \u001b[0mValueError\u001b[0m\u001b[0;34m(\u001b[0m\u001b[0mmsg\u001b[0m\u001b[0;34m.\u001b[0m\u001b[0mformat\u001b[0m\u001b[0;34m(\u001b[0m\u001b[0m_type\u001b[0m\u001b[0;34m=\u001b[0m\u001b[0mtype\u001b[0m\u001b[0;34m(\u001b[0m\u001b[0mfilepath_or_buffer\u001b[0m\u001b[0;34m)\u001b[0m\u001b[0;34m)\u001b[0m\u001b[0;34m)\u001b[0m\u001b[0;34m\u001b[0m\u001b[0;34m\u001b[0m\u001b[0m\n\u001b[0m\u001b[1;32m    212\u001b[0m \u001b[0;34m\u001b[0m\u001b[0m\n\u001b[1;32m    213\u001b[0m     \u001b[0;32mreturn\u001b[0m \u001b[0mfilepath_or_buffer\u001b[0m\u001b[0;34m,\u001b[0m \u001b[0;32mNone\u001b[0m\u001b[0;34m,\u001b[0m \u001b[0mcompression\u001b[0m\u001b[0;34m\u001b[0m\u001b[0;34m\u001b[0m\u001b[0m\n",
      "\u001b[0;31mValueError\u001b[0m: Invalid file path or buffer object type: <class 'NoneType'>"
     ]
    }
   ],
   "source": [
    "# pull simulation datafile from db\n",
    "content, doc = jobadmin.fp.get_file(identifier='surfactant_on_AU_111_df_json')\n",
    "\n",
    "sim_df = pd.read_json(content, orient='index')"
   ]
  },
  {
   "cell_type": "code",
   "execution_count": 29,
   "metadata": {
    "ExecuteTime": {
     "end_time": "2019-06-15T14:42:37.128720Z",
     "start_time": "2019-06-15T14:42:37.097701Z"
    }
   },
   "outputs": [
    {
     "ename": "NameError",
     "evalue": "name 'sim_df' is not defined",
     "output_type": "error",
     "traceback": [
      "\u001b[0;31m---------------------------------------------------------------------------\u001b[0m",
      "\u001b[0;31mNameError\u001b[0m                                 Traceback (most recent call last)",
      "\u001b[0;32m<ipython-input-29-2fe4eeeafea4>\u001b[0m in \u001b[0;36m<module>\u001b[0;34m\u001b[0m\n\u001b[0;32m----> 1\u001b[0;31m \u001b[0mlen\u001b[0m\u001b[0;34m(\u001b[0m\u001b[0msim_df\u001b[0m\u001b[0;34m)\u001b[0m\u001b[0;34m\u001b[0m\u001b[0;34m\u001b[0m\u001b[0m\n\u001b[0m",
      "\u001b[0;31mNameError\u001b[0m: name 'sim_df' is not defined"
     ]
    }
   ],
   "source": [
    "len(sim_df)"
   ]
  },
  {
   "cell_type": "code",
   "execution_count": 41,
   "metadata": {},
   "outputs": [
    {
     "data": {
      "text/plain": [
       "box                                        [1.82e-08, 1.8000000000000002e-08, 1.800000000...\n",
       "ci_initial_placement                                                                  random\n",
       "counterion                                                                                BR\n",
       "indenter                                                                                None\n",
       "indenter_pdb                                                                            None\n",
       "pbc                                                                                      111\n",
       "pressure                                                                                   1\n",
       "sb_area                                                                          3.26671e-16\n",
       "sb_area_per_sf_molecule                                                            3.233e-19\n",
       "sb_circular_area_per_sf_molecule_radius                                                2e-10\n",
       "sb_crystal_plane                                                                         111\n",
       "sb_measures                                [1.82e-08, 1.8000000000000002e-08, 1.400000000...\n",
       "sb_multiples                                                                     [63, 36, 2]\n",
       "sb_name                                                                       AU_111_63x36x2\n",
       "sb_normal                                                                                  2\n",
       "sb_square_area_per_sf_molecule_side                                                    6e-10\n",
       "sb_thickness                                                                         1.4e-09\n",
       "sb_unit_cell                                           [3e-10, 5e-10, 7.000000000000001e-10]\n",
       "sb_volume                                                                        4.61502e-25\n",
       "sf_concentration                                                                      0.0005\n",
       "sf_expected_aggregates                                                         intermmediate\n",
       "sf_nmolecules                                                                           1010\n",
       "sf_preassembly                                                                       bilayer\n",
       "solvent                                                                                  H2O\n",
       "substrate                                                                                 AU\n",
       "surfactant                                                                              CTAB\n",
       "sv_density                                                                               997\n",
       "sv_preassembly                                                                        random\n",
       "temperature                                                                              298\n",
       "Name: 1010_CTAB_on_AU_111_63x36x2_bilayer, dtype: object"
      ]
     },
     "execution_count": 41,
     "metadata": {},
     "output_type": "execute_result"
    }
   ],
   "source": [
    "sim_df.loc['1010_CTAB_on_AU_111_63x36x2_bilayer']"
   ]
  },
  {
   "cell_type": "code",
   "execution_count": 42,
   "metadata": {
    "ExecuteTime": {
     "end_time": "2018-10-09T15:28:49.624615Z",
     "start_time": "2018-10-09T15:28:49.561488Z"
    }
   },
   "outputs": [],
   "source": [
    "# OR: read simulation data from file\n",
    "# sim_df = pd.read_pickle(sim_data_prefix + os.sep + 'CTAB_on_AU_111.pkl')"
   ]
  },
  {
   "cell_type": "code",
   "execution_count": 28,
   "metadata": {
    "ExecuteTime": {
     "end_time": "2018-10-19T16:03:05.258865Z",
     "start_time": "2018-10-19T16:03:04.910867Z"
    }
   },
   "outputs": [
    {
     "data": {
      "text/plain": [
       "array(['bilayer', 'bilayer_with_counterion', 'cylinders_with_counterion',\n",
       "       'hemicylinders_with_counterion',\n",
       "       'inverse_monolayer_with_counterion', 'monolayer_with_counterion',\n",
       "       'inverse_bilayer_with_counterion'], dtype=object)"
      ]
     },
     "execution_count": 28,
     "metadata": {},
     "output_type": "execute_result"
    }
   ],
   "source": [
    "sim_df['sf_preassembly'].unique()"
   ]
  },
  {
   "cell_type": "code",
   "execution_count": 30,
   "metadata": {
    "ExecuteTime": {
     "end_time": "2018-10-28T09:11:39.150206Z",
     "start_time": "2018-10-28T09:11:38.729131Z"
    }
   },
   "outputs": [],
   "source": [
    "jobadmin.use_bwcloud_queue()\n",
    "jobadmin.use_bwcloud_templates()"
   ]
  },
  {
   "cell_type": "code",
   "execution_count": 31,
   "metadata": {
    "ExecuteTime": {
     "end_time": "2018-10-28T09:11:40.160745Z",
     "start_time": "2018-10-28T09:11:40.102855Z"
    }
   },
   "outputs": [],
   "source": [
    "jobadmin._sim_df = sim_df"
   ]
  },
  {
   "cell_type": "code",
   "execution_count": 32,
   "metadata": {
    "ExecuteTime": {
     "end_time": "2018-09-06T16:04:40.020259Z",
     "start_time": "2018-09-06T16:04:39.845399Z"
    }
   },
   "outputs": [],
   "source": [
    "# jobadmin._sim_df = sim_df.loc[\n",
    "#     (sim_df['sf_preassembly'] == 'cylinders_with_counterion') \\\n",
    "#     | (sim_df['sf_preassembly'] == 'hemicylinders_with_counterion') ]"
   ]
  },
  {
   "cell_type": "code",
   "execution_count": 33,
   "metadata": {
    "ExecuteTime": {
     "end_time": "2018-10-19T16:03:12.973604Z",
     "start_time": "2018-10-19T16:03:12.910801Z"
    }
   },
   "outputs": [
    {
     "ename": "OSError",
     "evalue": "[Errno 25] Inappropriate ioctl for device",
     "output_type": "error",
     "traceback": [
      "\u001b[0;31m---------------------------------------------------------------------------\u001b[0m",
      "\u001b[0;31mOSError\u001b[0m                                   Traceback (most recent call last)",
      "\u001b[0;32m<ipython-input-33-0f8aa747d9ad>\u001b[0m in \u001b[0;36m<module>\u001b[0;34m()\u001b[0m\n\u001b[0;32m----> 1\u001b[0;31m \u001b[0mos\u001b[0m\u001b[0;34m.\u001b[0m\u001b[0mgetlogin\u001b[0m\u001b[0;34m(\u001b[0m\u001b[0;34m)\u001b[0m\u001b[0;34m\u001b[0m\u001b[0;34m\u001b[0m\u001b[0m\n\u001b[0m",
      "\u001b[0;31mOSError\u001b[0m: [Errno 25] Inappropriate ioctl for device"
     ]
    }
   ],
   "source": [
    "os.getlogin()"
   ]
  },
  {
   "cell_type": "code",
   "execution_count": 34,
   "metadata": {
    "ExecuteTime": {
     "end_time": "2018-10-19T16:03:15.791198Z",
     "start_time": "2018-10-19T16:03:15.684093Z"
    }
   },
   "outputs": [
    {
     "data": {
      "text/plain": [
       "'Generated on {datetime:s} by {user:s}@{machine:s}'"
      ]
     },
     "execution_count": 34,
     "metadata": {},
     "output_type": "execute_result"
    }
   ],
   "source": [
    "template_geninfo = jobadmin._template_geninfo\n",
    "\n",
    "template_geninfo"
   ]
  },
  {
   "cell_type": "code",
   "execution_count": 35,
   "metadata": {},
   "outputs": [],
   "source": [
    "machine = os.uname().nodename"
   ]
  },
  {
   "cell_type": "code",
   "execution_count": 36,
   "metadata": {},
   "outputs": [],
   "source": [
    "geninfo = template_geninfo.format(\n",
    "    datetime=datetime.datetime.now().ctime(),\n",
    "    user='testuser',\n",
    "    machine=machine)"
   ]
  },
  {
   "cell_type": "code",
   "execution_count": 37,
   "metadata": {},
   "outputs": [
    {
     "data": {
      "text/plain": [
       "'Generated on Fri Feb 15 13:04:46 2019 by testuser@jlh-cloud-28jan19'"
      ]
     },
     "execution_count": 37,
     "metadata": {},
     "output_type": "execute_result"
    }
   ],
   "source": [
    "geninfo"
   ]
  },
  {
   "cell_type": "code",
   "execution_count": 38,
   "metadata": {
    "ExecuteTime": {
     "end_time": "2018-10-19T16:03:19.933507Z",
     "start_time": "2018-10-19T16:03:19.823911Z"
    }
   },
   "outputs": [
    {
     "data": {
      "text/plain": [
       "'Generated on Fri Feb 15 13:04:46 2019 by testuser@jlh-cloud-28jan19'"
      ]
     },
     "execution_count": 38,
     "metadata": {},
     "output_type": "execute_result"
    }
   ],
   "source": [
    "# on NEMO\n",
    "jobadmin.geninfo(reset=True,static_str=geninfo)"
   ]
  },
  {
   "cell_type": "markdown",
   "metadata": {},
   "source": [
    "## Reinit"
   ]
  },
  {
   "cell_type": "markdown",
   "metadata": {},
   "source": [
    "### on NEMO\n",
    "rerun everytime methods have been added or their def's altered in order to reinstantiate JobAdmin object"
   ]
  },
  {
   "cell_type": "code",
   "execution_count": 39,
   "metadata": {},
   "outputs": [
    {
     "data": {
      "text/plain": [
       "'/mnt/dat/work/testuser/adsorption'"
      ]
     },
     "execution_count": 39,
     "metadata": {},
     "output_type": "execute_result"
    }
   ],
   "source": [
    "prefix"
   ]
  },
  {
   "cell_type": "code",
   "execution_count": 40,
   "metadata": {
    "ExecuteTime": {
     "end_time": "2018-10-28T09:11:48.623369Z",
     "start_time": "2018-10-28T09:11:48.454817Z"
    }
   },
   "outputs": [
    {
     "data": {
      "text/plain": [
       "'Generated on Fri Feb 15 13:04:46 2019 by testuser@jlh-cloud-28jan19'"
      ]
     },
     "execution_count": 40,
     "metadata": {},
     "output_type": "execute_result"
    }
   ],
   "source": [
    "#  NEMO\n",
    "from fwtools.JobAdmin import JobAdmin\n",
    "from fwtools.JobAdmin import l_CTAB, head_atom_number_CTAB, tail_atom_number_CTAB\n",
    "from fwtools.JobAdmin import l_SDS, head_atom_number_SDS, tail_atom_number_SDS\n",
    "\n",
    "# prefix = '/work/ws/nemo/fr_jh1130-201708-0/jobs/lmplab/sds/201810'\n",
    "template_prefix = prefix + os.sep + 'N_surfactant_on_substrate_template'\n",
    "output_prefix = prefix + os.sep + 'sys'\n",
    "\n",
    "jobadmin = JobAdmin( \n",
    "    mongodb_host = 'localhost',\n",
    "    mongodb_port = 27018,\n",
    "    mongodb_name = 'fireworks-jhoermann',\n",
    "    queue   = 'BWCLOUD',\n",
    "    template_prefix = template_prefix,\n",
    "    output_prefix   = output_prefix,\n",
    "    sim_df = sim_df\n",
    ")\n",
    "jobadmin.std_worker = 'bwcloud_std'\n",
    "jobadmin.use_bwcloud_templates()\n",
    "jobadmin.use_bwcloud_queue()\n",
    "jobadmin._template_lmp_cmd = ' '.join((\n",
    "    'module purge;',\n",
    "    'module load LAMMPS;',\n",
    "    'mpirun ${{MPIRUN_OPTIONS}} lmp -in {inputFile:s}'))\n",
    "jobadmin.geninfo(reset=True,static_str=geninfo)"
   ]
  },
  {
   "cell_type": "markdown",
   "metadata": {},
   "source": [
    "## Pick subselection of systems"
   ]
  },
  {
   "cell_type": "code",
   "execution_count": 36,
   "metadata": {},
   "outputs": [],
   "source": [
    "# several samples for system selections\n",
    "# system_name_scope should be the overall scope of systems to look at, i.e. all CTAB systems\n",
    "# system_names is meant as a subset of system_nbame_scope to be worked on "
   ]
  },
  {
   "cell_type": "code",
   "execution_count": 37,
   "metadata": {
    "ExecuteTime": {
     "end_time": "2018-09-06T17:44:18.676687Z",
     "start_time": "2018-09-06T17:44:18.317006Z"
    }
   },
   "outputs": [],
   "source": [
    "preassemblies = {\n",
    "    'cylinders_with_counterion',\n",
    "    'hemicylinders_with_counterion',\n",
    "    'bilayer_with_counterion',\n",
    "    'monolayer_with_counterion',\n",
    "    'inverse_monolayer_with_counterion'}"
   ]
  },
  {
   "cell_type": "code",
   "execution_count": 38,
   "metadata": {
    "ExecuteTime": {
     "end_time": "2018-09-06T17:44:21.019024Z",
     "start_time": "2018-09-06T17:44:20.883885Z"
    }
   },
   "outputs": [
    {
     "data": {
      "text/plain": [
       "set"
      ]
     },
     "execution_count": 38,
     "metadata": {},
     "output_type": "execute_result"
    }
   ],
   "source": [
    "type(preassemblies)"
   ]
  },
  {
   "cell_type": "code",
   "execution_count": null,
   "metadata": {
    "ExecuteTime": {
     "end_time": "2018-09-06T17:44:34.834419Z",
     "start_time": "2018-09-06T17:44:34.709257Z"
    }
   },
   "outputs": [],
   "source": [
    "system_name_scope = list( sim_df[ \n",
    "    sim_df['sf_preassembly'].isin(preassemblies) ].index\n",
    "                   )"
   ]
  },
  {
   "cell_type": "code",
   "execution_count": 111,
   "metadata": {
    "ExecuteTime": {
     "end_time": "2018-09-17T21:07:24.485945Z",
     "start_time": "2018-09-17T21:07:24.432038Z"
    }
   },
   "outputs": [],
   "source": [
    "# original SDS systems without indenter\n",
    "system_name_scope = list( sim_df[ \n",
    "        sim_df['indenter'].isna() & \\\n",
    "        (sim_df['surfactant'] == 'SDS')\n",
    "    ].index )"
   ]
  },
  {
   "cell_type": "code",
   "execution_count": null,
   "metadata": {
    "ExecuteTime": {
     "end_time": "2018-09-06T17:44:34.834419Z",
     "start_time": "2018-09-06T17:44:34.709257Z"
    }
   },
   "outputs": [],
   "source": [
    "system_name_scope = list( sim_df[ \n",
    "    sim_df['sf_preassembly'].isin(preassemblies) ].index\n",
    "                   )"
   ]
  },
  {
   "cell_type": "code",
   "execution_count": null,
   "metadata": {
    "ExecuteTime": {
     "end_time": "2018-10-10T13:33:56.115107Z",
     "start_time": "2018-10-10T13:33:55.937402Z"
    }
   },
   "outputs": [],
   "source": [
    "# original systems without indenter\n",
    "system_name_scope = list( sim_df[ \n",
    "        sim_df['indenter'].isna()\n",
    "    ].index )"
   ]
  },
  {
   "cell_type": "code",
   "execution_count": 39,
   "metadata": {
    "ExecuteTime": {
     "end_time": "2018-10-09T15:31:56.169226Z",
     "start_time": "2018-10-09T15:31:56.109916Z"
    }
   },
   "outputs": [],
   "source": [
    "# original CTAB systems without indenter\n",
    "system_name_scope = list( sim_df[ \n",
    "        sim_df['indenter'].isna() & \\\n",
    "        (sim_df['surfactant'] == 'CTAB' )\n",
    "    ].index )"
   ]
  },
  {
   "cell_type": "code",
   "execution_count": 45,
   "metadata": {
    "ExecuteTime": {
     "end_time": "2018-10-09T15:31:56.169226Z",
     "start_time": "2018-10-09T15:31:56.109916Z"
    }
   },
   "outputs": [],
   "source": [
    "# original SDS systems without indenter\n",
    "system_name_scope = list( sim_df[ \n",
    "        sim_df['indenter'].isna() & \\\n",
    "        (sim_df['surfactant'] == 'SDS' )\n",
    "    ].index )"
   ]
  },
  {
   "cell_type": "code",
   "execution_count": 41,
   "metadata": {
    "ExecuteTime": {
     "end_time": "2018-10-28T09:11:55.306434Z",
     "start_time": "2018-10-28T09:11:54.931979Z"
    }
   },
   "outputs": [],
   "source": [
    "# SDS with indenter\n",
    "system_name_scope = list( sim_df[ \n",
    "    (sim_df['indenter'] == '50Ang_stepped') &\n",
    "    (sim_df['surfactant'] == 'SDS' ) ].index )"
   ]
  },
  {
   "cell_type": "code",
   "execution_count": null,
   "metadata": {
    "ExecuteTime": {
     "end_time": "2018-09-24T17:24:42.842035Z",
     "start_time": "2018-09-24T17:24:42.683673Z"
    }
   },
   "outputs": [],
   "source": [
    "# CTAB with indenter\n",
    "system_name_scope = list( sim_df[ \n",
    "    (sim_df['indenter'] == '50Ang_stepped') &\n",
    "    (sim_df['surfactant'] == 'CTAB' ) ].index )"
   ]
  },
  {
   "cell_type": "code",
   "execution_count": 44,
   "metadata": {
    "ExecuteTime": {
     "end_time": "2018-10-19T16:16:19.063084Z",
     "start_time": "2018-10-19T16:16:18.999351Z"
    }
   },
   "outputs": [],
   "source": [
    "# original SDS systems without indenter, counterions at polar heads\n",
    "system_name_scope = list( sim_df[ \n",
    "        sim_df['indenter'].isna() & \\\n",
    "        (sim_df['surfactant'] == 'SDS') & \\\n",
    "        (sim_df['ci_initial_placement'] == 'at_polar_head') & \\\n",
    "        (sim_df[\"sb_name\"] == 'AU_111_51x30x2') & \\\n",
    "        (sim_df['sf_preassembly'] != 'inverse_monolayer_with_counterion') & \\\n",
    "        (sim_df['sf_preassembly'] != 'inverse_bilayer_with_counterion')\n",
    "    ].index )"
   ]
  },
  {
   "cell_type": "code",
   "execution_count": null,
   "metadata": {
    "ExecuteTime": {
     "end_time": "2018-10-19T16:15:35.677621Z",
     "start_time": "2018-10-19T16:15:35.500833Z"
    }
   },
   "outputs": [],
   "source": [
    "# original CTAB systems without indenter, counterions at polar heads\n",
    "system_name_scope = list( sim_df[ \n",
    "        sim_df['indenter'].isna() & \\\n",
    "        (sim_df['surfactant'] == 'CTAB') & \\\n",
    "        (sim_df['ci_initial_placement'] == 'at_polar_head') & \\\n",
    "        (sim_df[\"sb_name\"] == 'AU_111_63x36x2') & \\\n",
    "        (sim_df['sf_preassembly'] != 'inverse_monolayer_with_counterion') & \\\n",
    "        (sim_df['sf_preassembly'] != 'inverse_bilayer_with_counterion')\n",
    "    ].index )"
   ]
  },
  {
   "cell_type": "code",
   "execution_count": 46,
   "metadata": {},
   "outputs": [
    {
     "data": {
      "text/plain": [
       "['103_SDS_on_AU_111_60x35x2_bilayer',\n",
       " '103_SDS_on_AU_111_60x35x2_bilayer_with_counterion',\n",
       " '1107_SDS_on_AU_111_51x30x2_bilayer',\n",
       " '1107_SDS_on_AU_111_51x30x2_bilayer_with_counterion',\n",
       " '1107_SDS_on_AU_111_51x30x2_cylinders_with_counterion',\n",
       " '1107_SDS_on_AU_111_51x30x2_hemicylinders_with_counterion',\n",
       " '1107_SDS_on_AU_111_51x30x2_inverse_bilayer_with_counterion',\n",
       " '1107_SDS_on_AU_111_51x30x2_inverse_monolayer_with_counterion',\n",
       " '1107_SDS_on_AU_111_51x30x2_monolayer_with_counterion',\n",
       " '123_SDS_on_AU_111_17x10x2_bilayer',\n",
       " '123_SDS_on_AU_111_17x10x2_bilayer_with_counterion',\n",
       " '129_SDS_on_AU_111_51x30x2_bilayer',\n",
       " '129_SDS_on_AU_111_51x30x2_bilayer_with_counterion',\n",
       " '129_SDS_on_AU_111_51x30x2_cylinders_with_counterion',\n",
       " '129_SDS_on_AU_111_51x30x2_hemicylinders_with_counterion',\n",
       " '129_SDS_on_AU_111_51x30x2_inverse_bilayer_with_counterion',\n",
       " '129_SDS_on_AU_111_51x30x2_inverse_monolayer_with_counterion',\n",
       " '129_SDS_on_AU_111_51x30x2_monolayer_with_counterion',\n",
       " '14_SDS_on_AU_111_17x10x2_bilayer',\n",
       " '14_SDS_on_AU_111_17x10x2_bilayer_with_counterion',\n",
       " '1519_SDS_on_AU_111_60x35x2_bilayer',\n",
       " '1519_SDS_on_AU_111_60x35x2_bilayer_with_counterion',\n",
       " '165_SDS_on_AU_111_26x15x2_bilayer',\n",
       " '165_SDS_on_AU_111_26x15x2_bilayer_with_counterion',\n",
       " '177_SDS_on_AU_111_60x35x2_bilayer',\n",
       " '177_SDS_on_AU_111_60x35x2_bilayer_with_counterion',\n",
       " '19_SDS_on_AU_111_26x15x2_bilayer',\n",
       " '19_SDS_on_AU_111_26x15x2_bilayer_with_counterion',\n",
       " '220_SDS_on_AU_111_51x30x2_bilayer',\n",
       " '220_SDS_on_AU_111_51x30x2_bilayer_with_counterion',\n",
       " '220_SDS_on_AU_111_51x30x2_cylinders_with_counterion',\n",
       " '220_SDS_on_AU_111_51x30x2_hemicylinders_with_counterion',\n",
       " '220_SDS_on_AU_111_51x30x2_inverse_bilayer_with_counterion',\n",
       " '220_SDS_on_AU_111_51x30x2_inverse_monolayer_with_counterion',\n",
       " '220_SDS_on_AU_111_51x30x2_monolayer_with_counterion',\n",
       " '2214_SDS_on_AU_111_51x30x2_bilayer',\n",
       " '2214_SDS_on_AU_111_51x30x2_bilayer_with_counterion',\n",
       " '2214_SDS_on_AU_111_51x30x2_cylinders_with_counterion',\n",
       " '2214_SDS_on_AU_111_51x30x2_hemicylinders_with_counterion',\n",
       " '2214_SDS_on_AU_111_51x30x2_inverse_bilayer_with_counterion',\n",
       " '2214_SDS_on_AU_111_51x30x2_inverse_monolayer_with_counterion',\n",
       " '2214_SDS_on_AU_111_51x30x2_monolayer_with_counterion',\n",
       " '246_SDS_on_AU_111_17x10x2_bilayer',\n",
       " '246_SDS_on_AU_111_17x10x2_bilayer_with_counterion',\n",
       " '24_SDS_on_AU_111_17x10x2_bilayer',\n",
       " '24_SDS_on_AU_111_17x10x2_bilayer_with_counterion',\n",
       " '282_SDS_on_AU_111_26x15x2_bilayer',\n",
       " '282_SDS_on_AU_111_26x15x2_bilayer_with_counterion',\n",
       " '302_SDS_on_AU_111_60x35x2_bilayer',\n",
       " '302_SDS_on_AU_111_60x35x2_bilayer_with_counterion',\n",
       " '3038_SDS_on_AU_111_60x35x2_bilayer',\n",
       " '3038_SDS_on_AU_111_60x35x2_bilayer_with_counterion',\n",
       " '33_SDS_on_AU_111_26x15x2_bilayer',\n",
       " '33_SDS_on_AU_111_26x15x2_bilayer_with_counterion',\n",
       " '377_SDS_on_AU_111_51x30x2_bilayer',\n",
       " '377_SDS_on_AU_111_51x30x2_bilayer_with_counterion',\n",
       " '377_SDS_on_AU_111_51x30x2_cylinders_with_counterion',\n",
       " '377_SDS_on_AU_111_51x30x2_hemicylinders_with_counterion',\n",
       " '377_SDS_on_AU_111_51x30x2_inverse_bilayer_with_counterion',\n",
       " '377_SDS_on_AU_111_51x30x2_inverse_monolayer_with_counterion',\n",
       " '377_SDS_on_AU_111_51x30x2_monolayer_with_counterion',\n",
       " '42_SDS_on_AU_111_17x10x2_bilayer',\n",
       " '42_SDS_on_AU_111_17x10x2_bilayer_with_counterion',\n",
       " '518_SDS_on_AU_111_60x35x2_bilayer',\n",
       " '518_SDS_on_AU_111_60x35x2_bilayer_with_counterion',\n",
       " '564_SDS_on_AU_111_26x15x2_bilayer',\n",
       " '564_SDS_on_AU_111_26x15x2_bilayer_with_counterion',\n",
       " '56_SDS_on_AU_111_26x15x2_bilayer',\n",
       " '56_SDS_on_AU_111_26x15x2_bilayer_with_counterion',\n",
       " '646_SDS_on_AU_111_51x30x2_bilayer',\n",
       " '646_SDS_on_AU_111_51x30x2_bilayer_with_counterion',\n",
       " '646_SDS_on_AU_111_51x30x2_cylinders_with_counterion',\n",
       " '646_SDS_on_AU_111_51x30x2_hemicylinders_with_counterion',\n",
       " '646_SDS_on_AU_111_51x30x2_inverse_bilayer_with_counterion',\n",
       " '646_SDS_on_AU_111_51x30x2_inverse_monolayer_with_counterion',\n",
       " '646_SDS_on_AU_111_51x30x2_monolayer_with_counterion',\n",
       " '72_SDS_on_AU_111_17x10x2_bilayer',\n",
       " '72_SDS_on_AU_111_17x10x2_bilayer_with_counterion',\n",
       " '75_SDS_on_AU_111_51x30x2_bilayer',\n",
       " '75_SDS_on_AU_111_51x30x2_bilayer_with_counterion',\n",
       " '75_SDS_on_AU_111_51x30x2_cylinders_with_counterion',\n",
       " '75_SDS_on_AU_111_51x30x2_hemicylinders_with_counterion',\n",
       " '75_SDS_on_AU_111_51x30x2_inverse_bilayer_with_counterion',\n",
       " '75_SDS_on_AU_111_51x30x2_inverse_monolayer_with_counterion',\n",
       " '75_SDS_on_AU_111_51x30x2_monolayer_with_counterion',\n",
       " '887_SDS_on_AU_111_60x35x2_bilayer',\n",
       " '887_SDS_on_AU_111_60x35x2_bilayer_with_counterion',\n",
       " '8_SDS_on_AU_111_17x10x2_bilayer',\n",
       " '8_SDS_on_AU_111_17x10x2_bilayer_with_counterion',\n",
       " '96_SDS_on_AU_111_26x15x2_bilayer',\n",
       " '96_SDS_on_AU_111_26x15x2_bilayer_with_counterion']"
      ]
     },
     "execution_count": 46,
     "metadata": {},
     "output_type": "execute_result"
    }
   ],
   "source": [
    "system_name_scope"
   ]
  },
  {
   "cell_type": "markdown",
   "metadata": {},
   "source": [
    "# Initial systems (no indenter)"
   ]
  },
  {
   "cell_type": "markdown",
   "metadata": {},
   "source": [
    "## Prepare substrates\n",
    "\n",
    "if necessary"
   ]
  },
  {
   "cell_type": "code",
   "execution_count": 45,
   "metadata": {},
   "outputs": [],
   "source": [
    "# TODO: change to \"wrapper\" & batch_prepare_fw stlye, see other fireworks below"
   ]
  },
  {
   "cell_type": "code",
   "execution_count": 46,
   "metadata": {
    "ExecuteTime": {
     "end_time": "2018-09-04T18:24:03.232525Z",
     "start_time": "2018-09-04T18:24:03.125101Z"
    }
   },
   "outputs": [],
   "source": [
    "prep_subs_wf_dict = jobadmin.prepare_substrates(system_name_scope)"
   ]
  },
  {
   "cell_type": "code",
   "execution_count": 96,
   "metadata": {},
   "outputs": [
    {
     "data": {
      "text/plain": [
       "{'created_on': '2019-01-27T20:42:33.266783',\n",
       " 'fw_id': -25,\n",
       " 'name': 'AU_111_17x10x2_sb_replicate',\n",
       " 'spec': {'_category': 'bwcloud_std',\n",
       "  '_dupefinder': {'_fw_name': 'DupeFinderExact'},\n",
       "  '_tasks': [{'_fw_name': 'FileTransferTask',\n",
       "    'files': [{'dest': 'au_cell_P1_111.gro',\n",
       "      'src': '/mnt/dat/work/testuser/adsorption/N_surfactant_on_substrate_template/au_cell_P1_111.gro'}],\n",
       "    'mode': 'copy'},\n",
       "   {'_fw_name': 'ScriptTask',\n",
       "    'fizzle_bad_rc': True,\n",
       "    'script': ['module load MDTools; module load GROMACS; replicate.sh 17 10 2 111'],\n",
       "    'stderr_file': 'AU_111_17x10x2_sb_replicate.err',\n",
       "    'stdout_file': 'AU_111_17x10x2_sb_replicate.out',\n",
       "    'use_shell': True},\n",
       "   {'_fw_name': 'DeleteFilesTask', 'identifiers': ['AU_111_17x10x2.pdb']},\n",
       "   {'_fw_name': 'AddFilesTask',\n",
       "    'identifiers': ['AU_111_17x10x2.pdb'],\n",
       "    'paths': ['AU_111_17x10x2_tidy.pdb']}],\n",
       "  'geninfo': 'Generated on Sun Jan 27 19:14:50 2019 by testuser@jlh-cloud-10jan19',\n",
       "  'step': 'sb_replicate',\n",
       "  'substrate': 'AU_111_17x10x2'},\n",
       " 'updated_on': '2019-01-27T20:42:33.266787'}"
      ]
     },
     "execution_count": 96,
     "metadata": {},
     "output_type": "execute_result"
    }
   ],
   "source": [
    "prep_subs_wf_dict['AU_111_17x10x2'][0].as_dict()"
   ]
  },
  {
   "cell_type": "code",
   "execution_count": 97,
   "metadata": {},
   "outputs": [
    {
     "data": {
      "text/plain": [
       "4"
      ]
     },
     "execution_count": 97,
     "metadata": {},
     "output_type": "execute_result"
    }
   ],
   "source": [
    "len(prep_subs_wf_dict)"
   ]
  },
  {
   "cell_type": "code",
   "execution_count": 98,
   "metadata": {
    "ExecuteTime": {
     "end_time": "2018-09-04T18:24:52.147840Z",
     "start_time": "2018-09-04T18:24:51.815063Z"
    }
   },
   "outputs": [
    {
     "name": "stdout",
     "output_type": "stream",
     "text": [
      "2019-01-27 20:42:34,723 INFO Added a workflow. id_map: {-25: 1}\n"
     ]
    },
    {
     "name": "stderr",
     "output_type": "stream",
     "text": [
      "INFO:launchpad:Added a workflow. id_map: {-25: 1}\n"
     ]
    },
    {
     "name": "stdout",
     "output_type": "stream",
     "text": [
      "2019-01-27 20:42:34,732 INFO Added a workflow. id_map: {-26: 2}\n"
     ]
    },
    {
     "name": "stderr",
     "output_type": "stream",
     "text": [
      "INFO:launchpad:Added a workflow. id_map: {-26: 2}\n"
     ]
    },
    {
     "name": "stdout",
     "output_type": "stream",
     "text": [
      "2019-01-27 20:42:34,742 INFO Added a workflow. id_map: {-27: 3}\n"
     ]
    },
    {
     "name": "stderr",
     "output_type": "stream",
     "text": [
      "INFO:launchpad:Added a workflow. id_map: {-27: 3}\n"
     ]
    },
    {
     "name": "stdout",
     "output_type": "stream",
     "text": [
      "2019-01-27 20:42:34,750 INFO Added a workflow. id_map: {-28: 4}\n"
     ]
    },
    {
     "name": "stderr",
     "output_type": "stream",
     "text": [
      "INFO:launchpad:Added a workflow. id_map: {-28: 4}\n"
     ]
    }
   ],
   "source": [
    "prep_subs_fw_id_dict = jobadmin.add_fw(prep_subs_wf_dict)"
   ]
  },
  {
   "cell_type": "markdown",
   "metadata": {},
   "source": [
    "## Prepare aggregates"
   ]
  },
  {
   "cell_type": "code",
   "execution_count": null,
   "metadata": {},
   "outputs": [],
   "source": [
    "# TODO: switch monolayers and bilayers to wrapper & batch_prepare_fw "
   ]
  },
  {
   "cell_type": "code",
   "execution_count": 47,
   "metadata": {},
   "outputs": [
    {
     "data": {
      "text/plain": [
       "['1107_SDS_on_AU_111_51x30x2_bilayer_with_counterion',\n",
       " '1107_SDS_on_AU_111_51x30x2_cylinders_with_counterion',\n",
       " '1107_SDS_on_AU_111_51x30x2_hemicylinders_with_counterion',\n",
       " '1107_SDS_on_AU_111_51x30x2_monolayer_with_counterion',\n",
       " '129_SDS_on_AU_111_51x30x2_bilayer_with_counterion',\n",
       " '129_SDS_on_AU_111_51x30x2_cylinders_with_counterion',\n",
       " '129_SDS_on_AU_111_51x30x2_hemicylinders_with_counterion',\n",
       " '129_SDS_on_AU_111_51x30x2_monolayer_with_counterion',\n",
       " '220_SDS_on_AU_111_51x30x2_bilayer_with_counterion',\n",
       " '220_SDS_on_AU_111_51x30x2_cylinders_with_counterion',\n",
       " '220_SDS_on_AU_111_51x30x2_hemicylinders_with_counterion',\n",
       " '220_SDS_on_AU_111_51x30x2_monolayer_with_counterion',\n",
       " '2214_SDS_on_AU_111_51x30x2_bilayer_with_counterion',\n",
       " '2214_SDS_on_AU_111_51x30x2_cylinders_with_counterion',\n",
       " '2214_SDS_on_AU_111_51x30x2_hemicylinders_with_counterion',\n",
       " '2214_SDS_on_AU_111_51x30x2_monolayer_with_counterion',\n",
       " '377_SDS_on_AU_111_51x30x2_bilayer_with_counterion',\n",
       " '377_SDS_on_AU_111_51x30x2_cylinders_with_counterion',\n",
       " '377_SDS_on_AU_111_51x30x2_hemicylinders_with_counterion',\n",
       " '377_SDS_on_AU_111_51x30x2_monolayer_with_counterion',\n",
       " '646_SDS_on_AU_111_51x30x2_bilayer_with_counterion',\n",
       " '646_SDS_on_AU_111_51x30x2_cylinders_with_counterion',\n",
       " '646_SDS_on_AU_111_51x30x2_hemicylinders_with_counterion',\n",
       " '646_SDS_on_AU_111_51x30x2_monolayer_with_counterion',\n",
       " '75_SDS_on_AU_111_51x30x2_bilayer_with_counterion',\n",
       " '75_SDS_on_AU_111_51x30x2_cylinders_with_counterion',\n",
       " '75_SDS_on_AU_111_51x30x2_hemicylinders_with_counterion',\n",
       " '75_SDS_on_AU_111_51x30x2_monolayer_with_counterion']"
      ]
     },
     "execution_count": 47,
     "metadata": {},
     "output_type": "execute_result"
    }
   ],
   "source": [
    "system_name_scope"
   ]
  },
  {
   "cell_type": "markdown",
   "metadata": {
    "ExecuteTime": {
     "end_time": "2018-09-06T17:46:56.540129Z",
     "start_time": "2018-09-06T17:46:56.161746Z"
    }
   },
   "source": [
    "### (hemi-) cylinders"
   ]
  },
  {
   "cell_type": "code",
   "execution_count": null,
   "metadata": {
    "ExecuteTime": {
     "end_time": "2018-10-19T16:26:08.551347Z",
     "start_time": "2018-10-19T16:26:08.412878Z"
    }
   },
   "outputs": [],
   "source": [
    "redo_hemicylinders = [\n",
    "    '1107_SDS_on_AU_111_51x30x2_hemicylinders_with_counterion',\n",
    "    '129_SDS_on_AU_111_51x30x2_hemicylinders_with_counterion',\n",
    "    '220_SDS_on_AU_111_51x30x2_hemicylinders_with_counterion',\n",
    "    '2214_SDS_on_AU_111_51x30x2_hemicylinders_with_counterion',\n",
    "    '377_SDS_on_AU_111_51x30x2_hemicylinders_with_counterion',\n",
    "    '75_SDS_on_AU_111_51x30x2_hemicylinders_with_counterion']"
   ]
  },
  {
   "cell_type": "code",
   "execution_count": null,
   "metadata": {
    "ExecuteTime": {
     "end_time": "2018-10-19T16:26:35.473721Z",
     "start_time": "2018-10-19T16:26:35.417143Z"
    }
   },
   "outputs": [],
   "source": [
    "redo_cylinders = [\n",
    "    '129_SDS_on_AU_111_51x30x2_cylinders_with_counterion',\n",
    "    '220_SDS_on_AU_111_51x30x2_cylinders_with_counterion',\n",
    "    '2214_SDS_on_AU_111_51x30x2_cylinders_with_counterion',\n",
    "    '75_SDS_on_AU_111_51x30x2_cylinders_with_counterion' ]"
   ]
  },
  {
   "cell_type": "code",
   "execution_count": 61,
   "metadata": {
    "ExecuteTime": {
     "end_time": "2018-10-19T18:47:50.294683Z",
     "start_time": "2018-10-19T18:47:50.142374Z"
    }
   },
   "outputs": [],
   "source": [
    "redo_cylinders = [ \"1107_SDS_on_AU_111_51x30x2_cylinders_with_counterion\" ]"
   ]
  },
  {
   "cell_type": "code",
   "execution_count": 54,
   "metadata": {
    "ExecuteTime": {
     "end_time": "2018-10-19T18:47:52.278131Z",
     "start_time": "2018-10-19T18:47:52.217936Z"
    }
   },
   "outputs": [
    {
     "data": {
      "text/plain": [
       "{}"
      ]
     },
     "execution_count": 54,
     "metadata": {},
     "output_type": "execute_result"
    }
   ],
   "source": [
    "jobadmin.packmol_queueadapter"
   ]
  },
  {
   "cell_type": "code",
   "execution_count": null,
   "metadata": {
    "ExecuteTime": {
     "end_time": "2018-10-19T18:48:02.325488Z",
     "start_time": "2018-10-19T18:48:02.265302Z"
    }
   },
   "outputs": [],
   "source": [
    "jobadmin.packmol_queueadapter[\"walltime\"] = '96:00:00'"
   ]
  },
  {
   "cell_type": "code",
   "execution_count": 115,
   "metadata": {
    "ExecuteTime": {
     "end_time": "2018-10-19T18:48:05.854422Z",
     "start_time": "2018-10-19T18:48:05.792988Z"
    }
   },
   "outputs": [],
   "source": [
    "# SDS cylinders\n",
    "pack_cylinders_wrapper = lambda sfN, sb_measures, surfactant, counterion: \\\n",
    "    jobadmin.pack_cylinders(sfN, sb_measures, surfactant, counterion,\n",
    "        hemicylinders=False, l_surfactant=l_SDS, \n",
    "        head_atom_number=head_atom_number_SDS,\n",
    "        tail_atom_number=tail_atom_number_SDS)"
   ]
  },
  {
   "cell_type": "code",
   "execution_count": 116,
   "metadata": {
    "ExecuteTime": {
     "end_time": "2018-10-19T18:48:05.854422Z",
     "start_time": "2018-10-19T18:48:05.792988Z"
    }
   },
   "outputs": [],
   "source": [
    "# SDS hemicylinders\n",
    "pack_cylinders_wrapper = lambda sfN, sb_measures, surfactant, counterion: \\\n",
    "    jobadmin.pack_cylinders(sfN, sb_measures, surfactant, counterion,\n",
    "        hemicylinders=True, l_surfactant=l_SDS, \n",
    "        head_atom_number=head_atom_number_SDS,\n",
    "        tail_atom_number=tail_atom_number_SDS)"
   ]
  },
  {
   "cell_type": "code",
   "execution_count": 117,
   "metadata": {
    "ExecuteTime": {
     "end_time": "2018-10-19T18:48:08.350713Z",
     "start_time": "2018-10-19T18:48:08.289971Z"
    }
   },
   "outputs": [],
   "source": [
    "prepare_packmol_wrapper = lambda system_name: jobadmin.prepare_packmol(\n",
    "    system_name, pack_cylinders_wrapper, nloop=20, maxit=50)"
   ]
  },
  {
   "cell_type": "code",
   "execution_count": 64,
   "metadata": {
    "ExecuteTime": {
     "end_time": "2018-10-19T18:48:09.237897Z",
     "start_time": "2018-10-19T18:48:09.197300Z"
    }
   },
   "outputs": [],
   "source": [
    "system_names = redo_cylinders"
   ]
  },
  {
   "cell_type": "code",
   "execution_count": 113,
   "metadata": {},
   "outputs": [],
   "source": [
    "system_names = [ '646_SDS_on_AU_111_51x30x2_hemicylinders_with_counterion' ]"
   ]
  },
  {
   "cell_type": "code",
   "execution_count": 114,
   "metadata": {},
   "outputs": [
    {
     "data": {
      "text/plain": [
       "['646_SDS_on_AU_111_51x30x2_hemicylinders_with_counterion']"
      ]
     },
     "execution_count": 114,
     "metadata": {},
     "output_type": "execute_result"
    }
   ],
   "source": [
    "system_names"
   ]
  },
  {
   "cell_type": "code",
   "execution_count": 118,
   "metadata": {
    "ExecuteTime": {
     "end_time": "2018-10-19T18:48:16.879636Z",
     "start_time": "2018-10-19T18:48:16.813341Z"
    }
   },
   "outputs": [],
   "source": [
    "fw_dict = jobadmin.batch_prepare_fw( system_names, prepare_packmol_wrapper )"
   ]
  },
  {
   "cell_type": "code",
   "execution_count": 119,
   "metadata": {
    "ExecuteTime": {
     "end_time": "2018-10-19T18:48:16.973427Z",
     "start_time": "2018-10-19T18:48:16.907812Z"
    }
   },
   "outputs": [
    {
     "name": "stdout",
     "output_type": "stream",
     "text": [
      "2019-01-28 10:02:47,457 INFO Added a workflow. id_map: {-38: 13, -37: 14}\n"
     ]
    },
    {
     "name": "stderr",
     "output_type": "stream",
     "text": [
      "INFO:launchpad:Added a workflow. id_map: {-38: 13, -37: 14}\n"
     ]
    },
    {
     "data": {
      "text/plain": [
       "{'646_SDS_on_AU_111_51x30x2_hemicylinders_with_counterion': {-38: 13, -37: 14}}"
      ]
     },
     "execution_count": 119,
     "metadata": {},
     "output_type": "execute_result"
    }
   ],
   "source": [
    "jobadmin.add_wf(fw_dict)"
   ]
  },
  {
   "cell_type": "markdown",
   "metadata": {},
   "source": [
    "### (inverse) monolayer"
   ]
  },
  {
   "cell_type": "code",
   "execution_count": null,
   "metadata": {
    "ExecuteTime": {
     "end_time": "2018-10-19T16:27:08.008729Z",
     "start_time": "2018-10-19T16:27:07.952261Z"
    }
   },
   "outputs": [],
   "source": [
    "redo_monolayer = ['2214_SDS_on_AU_111_51x30x2_monolayer_with_counterion']"
   ]
  },
  {
   "cell_type": "code",
   "execution_count": 337,
   "metadata": {
    "ExecuteTime": {
     "end_time": "2018-10-19T19:19:31.097150Z",
     "start_time": "2018-10-19T19:19:30.951088Z"
    }
   },
   "outputs": [],
   "source": [
    "redo_monolayer = [\"1107_SDS_on_AU_111_51x30x2_monolayer_with_counterion\"]"
   ]
  },
  {
   "cell_type": "code",
   "execution_count": 338,
   "metadata": {
    "ExecuteTime": {
     "end_time": "2018-10-19T19:19:37.763039Z",
     "start_time": "2018-10-19T19:19:37.707439Z"
    }
   },
   "outputs": [],
   "source": [
    "pack_monolayer_wrapper = lambda sfN, sb_measures, surfactant, counterion: \\\n",
    "    jobadmin.pack_monolayer(sfN, sb_measures, surfactant, counterion,\n",
    "        l_surfactant=l_SDS, \n",
    "        head_atom_number=head_atom_number_SDS,\n",
    "        tail_atom_number=tail_atom_number_SDS)"
   ]
  },
  {
   "cell_type": "code",
   "execution_count": 339,
   "metadata": {
    "ExecuteTime": {
     "end_time": "2018-10-19T19:19:39.866717Z",
     "start_time": "2018-10-19T19:19:39.806081Z"
    }
   },
   "outputs": [],
   "source": [
    "prepare_packmol_wrapper = lambda system_name: jobadmin.prepare_packmol(\n",
    "    system_name, pack_monolayer_wrapper, nloop=200, maxit=500)"
   ]
  },
  {
   "cell_type": "code",
   "execution_count": 340,
   "metadata": {
    "ExecuteTime": {
     "end_time": "2018-10-19T19:19:41.109449Z",
     "start_time": "2018-10-19T19:19:41.052618Z"
    }
   },
   "outputs": [],
   "source": [
    "system_names = redo_monolayer"
   ]
  },
  {
   "cell_type": "code",
   "execution_count": 341,
   "metadata": {
    "ExecuteTime": {
     "end_time": "2018-10-19T19:19:42.944764Z",
     "start_time": "2018-10-19T19:19:42.891371Z"
    }
   },
   "outputs": [],
   "source": [
    "fw_dict = jobadmin.batch_prepare_fw( system_names, prepare_packmol_wrapper )"
   ]
  },
  {
   "cell_type": "code",
   "execution_count": 342,
   "metadata": {
    "ExecuteTime": {
     "end_time": "2018-10-19T19:19:43.264061Z",
     "start_time": "2018-10-19T19:19:43.216481Z"
    }
   },
   "outputs": [
    {
     "name": "stdout",
     "output_type": "stream",
     "text": [
      "2018-10-19 21:19:43,258 INFO Added a workflow. id_map: {-195: 10695, -194: 10696}\n"
     ]
    },
    {
     "name": "stderr",
     "output_type": "stream",
     "text": [
      "INFO:launchpad:Added a workflow. id_map: {-195: 10695, -194: 10696}\n"
     ]
    },
    {
     "data": {
      "text/plain": [
       "{'1107_SDS_on_AU_111_51x30x2_monolayer_with_counterion': {-195: 10695,\n",
       "  -194: 10696}}"
      ]
     },
     "execution_count": 342,
     "metadata": {},
     "output_type": "execute_result"
    }
   ],
   "source": [
    "jobadmin.add_wf(fw_dict)"
   ]
  },
  {
   "cell_type": "markdown",
   "metadata": {},
   "source": [
    "### bilayer"
   ]
  },
  {
   "cell_type": "code",
   "execution_count": null,
   "metadata": {
    "ExecuteTime": {
     "end_time": "2018-10-19T16:27:39.723546Z",
     "start_time": "2018-10-19T16:27:39.585486Z"
    }
   },
   "outputs": [],
   "source": [
    "redo_bilayer = ['2214_SDS_on_AU_111_51x30x2_bilayer_with_counterion' ]"
   ]
  },
  {
   "cell_type": "code",
   "execution_count": null,
   "metadata": {
    "ExecuteTime": {
     "end_time": "2018-10-19T16:35:07.416012Z",
     "start_time": "2018-10-19T16:35:07.275441Z"
    }
   },
   "outputs": [],
   "source": [
    "pack_bilayer_wrapper = lambda sfN, sb_measures, surfactant, counterion: \\\n",
    "    jobadmin.pack_bilayer(sfN, sb_measures, surfactant, counterion,\n",
    "        l_surfactant=l_SDS, \n",
    "        head_atom_number=head_atom_number_SDS,\n",
    "        tail_atom_number=tail_atom_number_SDS)"
   ]
  },
  {
   "cell_type": "code",
   "execution_count": null,
   "metadata": {
    "ExecuteTime": {
     "end_time": "2018-10-19T16:35:19.488916Z",
     "start_time": "2018-10-19T16:35:19.436850Z"
    }
   },
   "outputs": [],
   "source": [
    "prepare_packmol_wrapper = lambda system_name: jobadmin.prepare_packmol(\n",
    "    system_name, pack_bilayer_wrapper, nloop=200, maxit=500)"
   ]
  },
  {
   "cell_type": "code",
   "execution_count": null,
   "metadata": {
    "ExecuteTime": {
     "end_time": "2018-10-19T16:35:26.830781Z",
     "start_time": "2018-10-19T16:35:26.770730Z"
    }
   },
   "outputs": [],
   "source": [
    "system_names = redo_bilayer"
   ]
  },
  {
   "cell_type": "code",
   "execution_count": null,
   "metadata": {
    "ExecuteTime": {
     "end_time": "2018-10-19T16:35:28.435296Z",
     "start_time": "2018-10-19T16:35:28.374560Z"
    }
   },
   "outputs": [],
   "source": [
    "fw_dict = jobadmin.batch_prepare_fw( system_names, prepare_packmol_wrapper )"
   ]
  },
  {
   "cell_type": "code",
   "execution_count": null,
   "metadata": {
    "ExecuteTime": {
     "end_time": "2018-10-19T16:35:28.525287Z",
     "start_time": "2018-10-19T16:35:28.470322Z"
    }
   },
   "outputs": [],
   "source": [
    "jobadmin.add_wf(fw_dict)"
   ]
  },
  {
   "cell_type": "code",
   "execution_count": null,
   "metadata": {
    "ExecuteTime": {
     "end_time": "2018-09-05T22:31:40.723691Z",
     "start_time": "2018-09-05T22:31:38.340688Z"
    }
   },
   "outputs": [],
   "source": [
    "logging.info(\"Querying appended packing workflows.\")\n",
    "packmol_fw_id_dict = jobadmin.query_systems(\n",
    "    system_names, \n",
    "    step='packmol',\n",
    "    state=[\"FIZZLED\",\"COMPLETED\", \"RUNNING\", \"READY\", \"WAITING\", \"RESERVED\"])\n",
    "\n",
    "# fizzled might be ok if walltime expired, \n",
    "# packmol gets good results half-way\n",
    "\n",
    "logging.info(\"Preparing LAMMPS conversion\")\n",
    "pdb2lmp_wf_dict = jobadmin.prepare_pdb2lmp(system_names)\n",
    "logging.info(\"Appening LAMMPS conversion\")\n",
    "jobadmin.append_wf_by_key(pdb2lmp_wf_dict, packmol_fw_id_dict)\n",
    "\n",
    "logging.info(\"Querying appended LAMMPS conversion workflows\")\n",
    "ch2lmp_fw_id_dict = jobadmin.query_step(step='ch2lmp')"
   ]
  },
  {
   "cell_type": "markdown",
   "metadata": {},
   "source": [
    "### finish solvation & format conversions"
   ]
  },
  {
   "cell_type": "code",
   "execution_count": null,
   "metadata": {
    "ExecuteTime": {
     "end_time": "2018-10-19T16:37:00.987201Z",
     "start_time": "2018-10-19T16:37:00.931793Z"
    }
   },
   "outputs": [],
   "source": [
    "system_names = redo"
   ]
  },
  {
   "cell_type": "code",
   "execution_count": 368,
   "metadata": {
    "ExecuteTime": {
     "end_time": "2018-10-19T19:24:35.346642Z",
     "start_time": "2018-10-19T19:24:35.205524Z"
    }
   },
   "outputs": [],
   "source": [
    "being_redone = {\n",
    "    '1107_SDS_on_AU_111_51x30x2_cylinders_with_counterion',\n",
    "    '1107_SDS_on_AU_111_51x30x2_hemicylinders_with_counterion',\n",
    "    '1107_SDS_on_AU_111_51x30x2_monolayer_with_counterion',\n",
    "    '129_SDS_on_AU_111_51x30x2_cylinders_with_counterion',\n",
    "    '129_SDS_on_AU_111_51x30x2_hemicylinders_with_counterion',\n",
    "    '220_SDS_on_AU_111_51x30x2_cylinders_with_counterion',\n",
    "    '220_SDS_on_AU_111_51x30x2_hemicylinders_with_counterion',\n",
    "    '2214_SDS_on_AU_111_51x30x2_bilayer_with_counterion',\n",
    "    '2214_SDS_on_AU_111_51x30x2_cylinders_with_counterion',\n",
    "    '2214_SDS_on_AU_111_51x30x2_hemicylinders_with_counterion',\n",
    "    '2214_SDS_on_AU_111_51x30x2_monolayer_with_counterion',\n",
    "    '377_SDS_on_AU_111_51x30x2_hemicylinders_with_counterion',\n",
    "    '75_SDS_on_AU_111_51x30x2_cylinders_with_counterion',\n",
    "    '75_SDS_on_AU_111_51x30x2_hemicylinders_with_counterion'}"
   ]
  },
  {
   "cell_type": "code",
   "execution_count": 369,
   "metadata": {
    "ExecuteTime": {
     "end_time": "2018-10-19T19:24:52.815343Z",
     "start_time": "2018-10-19T19:24:52.758284Z"
    }
   },
   "outputs": [],
   "source": [
    "system_names = being_redone"
   ]
  },
  {
   "cell_type": "code",
   "execution_count": 343,
   "metadata": {
    "ExecuteTime": {
     "end_time": "2018-10-19T19:20:21.865163Z",
     "start_time": "2018-10-19T19:20:21.804087Z"
    }
   },
   "outputs": [],
   "source": [
    "system_names = redo_monolayer"
   ]
  },
  {
   "cell_type": "code",
   "execution_count": 142,
   "metadata": {},
   "outputs": [
    {
     "data": {
      "text/plain": [
       "['646_SDS_on_AU_111_51x30x2_hemicylinders_with_counterion']"
      ]
     },
     "execution_count": 142,
     "metadata": {},
     "output_type": "execute_result"
    }
   ],
   "source": [
    "system_names"
   ]
  },
  {
   "cell_type": "code",
   "execution_count": 136,
   "metadata": {
    "ExecuteTime": {
     "end_time": "2018-10-19T19:20:31.699023Z",
     "start_time": "2018-10-19T19:20:31.527467Z"
    }
   },
   "outputs": [],
   "source": [
    "packmol_fw_id_dict = jobadmin.query_systems(\n",
    "    system_names, \n",
    "    step='packmol',\n",
    "    state=[\"FIZZLED\",\"COMPLETED\", \"RUNNING\", \"READY\", \"WAITING\", \"RESERVED\"])\n"
   ]
  },
  {
   "cell_type": "code",
   "execution_count": 148,
   "metadata": {},
   "outputs": [
    {
     "data": {
      "text/plain": [
       "{'646_SDS_on_AU_111_51x30x2_hemicylinders_with_counterion': [13]}"
      ]
     },
     "execution_count": 148,
     "metadata": {},
     "output_type": "execute_result"
    }
   ],
   "source": [
    "packmol_fw_id_dict"
   ]
  },
  {
   "cell_type": "code",
   "execution_count": 159,
   "metadata": {
    "ExecuteTime": {
     "end_time": "2018-10-19T19:20:49.427491Z",
     "start_time": "2018-10-19T19:20:49.367041Z"
    }
   },
   "outputs": [],
   "source": [
    "pdb2lmp_wf_dict = jobadmin.batch_prepare_fw(system_names, jobadmin.prepare_pdb2lmp)"
   ]
  },
  {
   "cell_type": "code",
   "execution_count": 160,
   "metadata": {},
   "outputs": [
    {
     "data": {
      "text/plain": [
       "{'created_on': datetime.datetime(2019, 1, 28, 13, 0, 33, 431230),\n",
       " 'fws': [{'created_on': '2019-01-28T13:00:33.430512',\n",
       "   'fw_id': -69,\n",
       "   'name': '646_SDS_on_AU_111_51x30x2_hemicylinders_with_counterion_recover_packmol',\n",
       "   'spec': {'_allow_fizzled_parents': True,\n",
       "    '_category': 'bwcloud_std',\n",
       "    '_dupefinder': {'_fw_name': 'DupeFinderExact'},\n",
       "    '_files_in': {'packmol_pdb': '646_SDS_on_AU_111_51x30x2_hemicylinders_with_counterion_packmol.pdb',\n",
       "     'packmol_pdb_FORCED': '646_SDS_on_AU_111_51x30x2_hemicylinders_with_counterion_packmol.pdb_FORCED'},\n",
       "    '_files_out': {'packmol_pdb': '646_SDS_on_AU_111_51x30x2_hemicylinders_with_counterion_packmol.pdb'},\n",
       "    '_tasks': [{'_fw_name': 'ScriptTask',\n",
       "      'fizzle_bad_rc': False,\n",
       "      'script': ['mkdir -p \"/mnt/dat/work/testuser/adsorption/sys/646_SDS_on_AU_111_51x30x2_hemicylinders_with_counterion\"'],\n",
       "      'use_shell': True},\n",
       "     {'_fw_name': 'RecoverPackmolTask',\n",
       "      'dest': '/mnt/dat/work/testuser/adsorption/sys/646_SDS_on_AU_111_51x30x2_hemicylinders_with_counterion',\n",
       "      'forward_glob_patterns': {'packmol_pdb': ['*_packmol.pdb_FORCED',\n",
       "        '*_packmol.pdb']},\n",
       "      'glob_patterns': ['*_restart.pack',\n",
       "       '*_packmol.pdb',\n",
       "       '*_packmol.pdb_FORCED',\n",
       "       '*_packmol.inp'],\n",
       "      'recover': True}],\n",
       "    'geninfo': 'Generated on Sun Jan 27 19:14:50 2019 by testuser@jlh-cloud-10jan19',\n",
       "    'step': 'recover_packmol',\n",
       "    'system_name': '646_SDS_on_AU_111_51x30x2_hemicylinders_with_counterion'},\n",
       "   'updated_on': '2019-01-28T13:00:33.430516'},\n",
       "  {'created_on': '2019-01-28T13:00:33.430562',\n",
       "   'fw_id': -70,\n",
       "   'name': '646_SDS_on_AU_111_51x30x2_hemicylinders_with_counterion_packmol2gmx',\n",
       "   'spec': {'_category': 'bwcloud_std',\n",
       "    '_dupefinder': {'_fw_name': 'DupeFinderExact'},\n",
       "    '_files_in': {'packmol_pdb': '646_SDS_on_AU_111_51x30x2_hemicylinders_with_counterion_packmol.pdb'},\n",
       "    '_files_out': {'pdb_for_gmx': '646_SDS_on_AU_111_51x30x2_hemicylinders_with_counterion.pdb'},\n",
       "    '_tasks': [{'_fw_name': 'ScriptTask',\n",
       "      'fizzle_bad_rc': True,\n",
       "      'script': ['module load MDTools; pdb_packmol2gmx.sh 646_SDS_on_AU_111_51x30x2_hemicylinders_with_counterion_packmol.pdb'],\n",
       "      'stderr_file': '646_SDS_on_AU_111_51x30x2_hemicylinders_with_counterion_packmol2gmx.err',\n",
       "      'stdout_file': '646_SDS_on_AU_111_51x30x2_hemicylinders_with_counterion_packmol2gmx.out',\n",
       "      'use_shell': True}],\n",
       "    'geninfo': 'Generated on Sun Jan 27 19:14:50 2019 by testuser@jlh-cloud-10jan19',\n",
       "    'step': 'packmol2gmx',\n",
       "    'system_name': '646_SDS_on_AU_111_51x30x2_hemicylinders_with_counterion'},\n",
       "   'updated_on': '2019-01-28T13:00:33.430563'},\n",
       "  {'created_on': '2019-01-28T13:00:33.430632',\n",
       "   'fw_id': -71,\n",
       "   'name': '646_SDS_on_AU_111_51x30x2_hemicylinders_with_counterion_gmx_solvate',\n",
       "   'spec': {'_category': 'bwcloud_std',\n",
       "    '_dupefinder': {'_fw_name': 'DupeFinderExact'},\n",
       "    '_files_in': {'pdb_for_gmx': '646_SDS_on_AU_111_51x30x2_hemicylinders_with_counterion.pdb'},\n",
       "    '_files_out': {'ionized_gro': '646_SDS_on_AU_111_51x30x2_hemicylinders_with_counterion_solvated.gro'},\n",
       "    '_tasks': [{'_fw_name': 'TemplateWriterTask',\n",
       "      'context': {'box': [14.7, 15.000000000000002, 18.0],\n",
       "       'header': 'Generated on Sun Jan 27 19:14:50 2019 by testuser@jlh-cloud-10jan19',\n",
       "       'ionize': False,\n",
       "       'nanion': 0,\n",
       "       'ncation': '646',\n",
       "       'surfactant': 'SDS',\n",
       "       'system_name': '646_SDS_on_AU_111_51x30x2_hemicylinders_with_counterion'},\n",
       "      'output_file': '646_SDS_on_AU_111_51x30x2_hemicylinders_with_counterion_gmx_solvate.sh',\n",
       "      'template_file': '/mnt/dat/work/testuser/adsorption/N_surfactant_on_substrate_template/gmx_solvate.sh'},\n",
       "     {'_fw_name': 'FileTransferTask',\n",
       "      'files': [{'dest': '1_SDS.pdb',\n",
       "        'src': '/mnt/dat/work/testuser/adsorption/N_surfactant_on_substrate_template/1_SDS.pdb'}],\n",
       "      'mode': 'copy'},\n",
       "     {'_fw_name': 'ScriptTask',\n",
       "      'fizzle_bad_rc': True,\n",
       "      'script': ['module load GROMACS GROMACS-Top VMD; bash 646_SDS_on_AU_111_51x30x2_hemicylinders_with_counterion_gmx_solvate.sh'],\n",
       "      'stderr_file': '646_SDS_on_AU_111_51x30x2_hemicylinders_with_counterion_gmx_solvate.err',\n",
       "      'stdout_file': '646_SDS_on_AU_111_51x30x2_hemicylinders_with_counterion_gmx_solvate.out',\n",
       "      'use_shell': True}],\n",
       "    'geninfo': 'Generated on Sun Jan 27 19:14:50 2019 by testuser@jlh-cloud-10jan19',\n",
       "    'step': 'gmx_solvate',\n",
       "    'system_name': '646_SDS_on_AU_111_51x30x2_hemicylinders_with_counterion'},\n",
       "   'updated_on': '2019-01-28T13:00:33.430633'},\n",
       "  {'created_on': '2019-01-28T13:00:33.430690',\n",
       "   'fw_id': -72,\n",
       "   'name': '646_SDS_on_AU_111_51x30x2_hemicylinders_with_counterion_gmx2pdb',\n",
       "   'spec': {'_category': 'bwcloud_std',\n",
       "    '_dupefinder': {'_fw_name': 'DupeFinderExact'},\n",
       "    '_files_in': {'ionized_gro': '646_SDS_on_AU_111_51x30x2_hemicylinders_with_counterion_ionized.gro'},\n",
       "    '_files_out': {'segments_tar': '646_SDS_on_AU_111_51x30x2_hemicylinders_with_counterion_segments.tar.gz'},\n",
       "    '_tasks': [{'_fw_name': 'TemplateWriterTask',\n",
       "      'context': {'header': 'Generated on Sun Jan 27 19:14:50 2019 by testuser@jlh-cloud-10jan19',\n",
       "       'system_name': '646_SDS_on_AU_111_51x30x2_hemicylinders_with_counterion'},\n",
       "      'output_file': '646_SDS_on_AU_111_51x30x2_hemicylinders_with_counterion_gmx2pdb.sh',\n",
       "      'template_file': '/mnt/dat/work/testuser/adsorption/N_surfactant_on_substrate_template/gmx2pdb.sh'},\n",
       "     {'_fw_name': 'ScriptTask',\n",
       "      'fizzle_bad_rc': True,\n",
       "      'script': ['module load GROMACS GROMACS-Top VMD; bash 646_SDS_on_AU_111_51x30x2_hemicylinders_with_counterion_gmx2pdb.sh'],\n",
       "      'stderr_file': '646_SDS_on_AU_111_51x30x2_hemicylinders_with_counterion_gmx2pdb.err',\n",
       "      'stdout_file': '646_SDS_on_AU_111_51x30x2_hemicylinders_with_counterion_gmx2pdb.out',\n",
       "      'use_shell': True},\n",
       "     {'_fw_name': 'ScriptTask',\n",
       "      'fizzle_bad_rc': True,\n",
       "      'script': ['tar -czf 646_SDS_on_AU_111_51x30x2_hemicylinders_with_counterion_segments.tar.gz *_[0-9][0-9][0-9].pdb'],\n",
       "      'stderr_file': '646_SDS_on_AU_111_51x30x2_hemicylinders_with_counterion_gmx2pdb_tar.err',\n",
       "      'stdout_file': '646_SDS_on_AU_111_51x30x2_hemicylinders_with_counterion_gmx2pdb_tar.out',\n",
       "      'use_shell': True},\n",
       "     {'_fw_name': 'ScriptTask',\n",
       "      'fizzle_bad_rc': False,\n",
       "      'script': ['mkdir -p \"/mnt/dat/work/testuser/adsorption/sys/646_SDS_on_AU_111_51x30x2_hemicylinders_with_counterion\"'],\n",
       "      'use_shell': True},\n",
       "     {'_fw_name': 'FileTransferTask',\n",
       "      'dest': '/mnt/dat/work/testuser/adsorption/sys/646_SDS_on_AU_111_51x30x2_hemicylinders_with_counterion/',\n",
       "      'files': ['646_SDS_on_AU_111_51x30x2_hemicylinders_with_counterion_ionized.gro',\n",
       "       '646_SDS_on_AU_111_51x30x2_hemicylinders_with_counterion_segments.tar.gz'],\n",
       "      'mode': 'copy'}],\n",
       "    'geninfo': 'Generated on Sun Jan 27 19:14:50 2019 by testuser@jlh-cloud-10jan19',\n",
       "    'step': 'gmx2pdb',\n",
       "    'system_name': '646_SDS_on_AU_111_51x30x2_hemicylinders_with_counterion'},\n",
       "   'updated_on': '2019-01-28T13:00:33.430691'},\n",
       "  {'created_on': '2019-01-28T13:00:33.430753',\n",
       "   'fw_id': -73,\n",
       "   'name': '646_SDS_on_AU_111_51x30x2_hemicylinders_with_counterion_psfgen',\n",
       "   'spec': {'_category': 'bwcloud_std',\n",
       "    '_dupefinder': {'_fw_name': 'DupeFinderExact'},\n",
       "    '_files_in': {'segments_tar': '646_SDS_on_AU_111_51x30x2_hemicylinders_with_counterion_segments.tar.gz'},\n",
       "    '_files_out': {'psfgen_pdb': '646_SDS_on_AU_111_51x30x2_hemicylinders_with_counterion_psfgen.pdb',\n",
       "     'psfgen_psf': '646_SDS_on_AU_111_51x30x2_hemicylinders_with_counterion_psfgen.psf'},\n",
       "    '_tasks': [{'_fw_name': 'ScriptTask',\n",
       "      'fizzle_bad_rc': True,\n",
       "      'script': ['tar -xf 646_SDS_on_AU_111_51x30x2_hemicylinders_with_counterion_segments.tar.gz'],\n",
       "      'stderr_file': '646_SDS_on_AU_111_51x30x2_hemicylinders_with_counterion_psfgen_untar.err',\n",
       "      'stdout_file': '646_SDS_on_AU_111_51x30x2_hemicylinders_with_counterion_psfgen_untar.out',\n",
       "      'use_shell': True},\n",
       "     {'_fw_name': 'MakeSegIDSegPDBDictTask',\n",
       "      'glob_pattern': '*_[0-9][0-9][0-9].pdb'},\n",
       "     {'_fw_name': 'TemplateWriterTask', 'use_global_spec': True},\n",
       "     {'_fw_name': 'FileTransferTask',\n",
       "      'files': [{'dest': 'par_all36_lipid_extended_stripped.prm',\n",
       "        'src': '/mnt/dat/work/testuser/adsorption/N_surfactant_on_substrate_template/par_all36_lipid_extended_stripped.prm'},\n",
       "       {'dest': 'top_all36_lipid_extended_stripped.rtf',\n",
       "        'src': '/mnt/dat/work/testuser/adsorption/N_surfactant_on_substrate_template/top_all36_lipid_extended_stripped.rtf'}],\n",
       "      'mode': 'copy'},\n",
       "     {'_fw_name': 'ScriptTask',\n",
       "      'fizzle_bad_rc': True,\n",
       "      'script': ['module load VMD; vmd -e 646_SDS_on_AU_111_51x30x2_hemicylinders_with_counterion_psfgen.pgn'],\n",
       "      'stderr_file': '646_SDS_on_AU_111_51x30x2_hemicylinders_with_counterion_psfgen.err',\n",
       "      'stdout_file': '646_SDS_on_AU_111_51x30x2_hemicylinders_with_counterion_psfgen.out',\n",
       "      'use_shell': True}],\n",
       "    'context': {'header': 'Generated on Sun Jan 27 19:14:50 2019 by testuser@jlh-cloud-10jan19',\n",
       "     'system_name': '646_SDS_on_AU_111_51x30x2_hemicylinders_with_counterion'},\n",
       "    'geninfo': 'Generated on Sun Jan 27 19:14:50 2019 by testuser@jlh-cloud-10jan19',\n",
       "    'output_file': '646_SDS_on_AU_111_51x30x2_hemicylinders_with_counterion_psfgen.pgn',\n",
       "    'step': 'psfgen',\n",
       "    'system_name': '646_SDS_on_AU_111_51x30x2_hemicylinders_with_counterion',\n",
       "    'template_file': '/mnt/dat/work/testuser/adsorption/N_surfactant_on_substrate_template/psfgen.pgn'},\n",
       "   'updated_on': '2019-01-28T13:00:33.430754'},\n",
       "  {'created_on': '2019-01-28T13:00:33.431079',\n",
       "   'fw_id': -74,\n",
       "   'name': '646_SDS_on_AU_111_51x30x2_hemicylinders_with_counterion_ch2lmp',\n",
       "   'spec': {'_category': 'bwcloud_std',\n",
       "    '_dupefinder': {'_fw_name': 'DupeFinderExact'},\n",
       "    '_files_in': {'psfgen_pdb': '646_SDS_on_AU_111_51x30x2_hemicylinders_with_counterion_psfgen.pdb',\n",
       "     'psfgen_psf': '646_SDS_on_AU_111_51x30x2_hemicylinders_with_counterion_psfgen.psf'},\n",
       "    '_files_out': {'ch2lmp_ctrl_pdb': '646_SDS_on_AU_111_51x30x2_hemicylinders_with_counterion_psfgen_ctrl.pdb',\n",
       "     'ch2lmp_ctrl_psf': '646_SDS_on_AU_111_51x30x2_hemicylinders_with_counterion_psfgen_ctrl.psf',\n",
       "     'ch2lmp_data': '646_SDS_on_AU_111_51x30x2_hemicylinders_with_counterion_psfgen.data',\n",
       "     'ch2lmp_in': '646_SDS_on_AU_111_51x30x2_hemicylinders_with_counterion_psfgen.in'},\n",
       "    '_tasks': [{'_fw_name': 'FileTransferTask',\n",
       "      'files': [{'dest': 'par_all36_lipid_extended_stripped.prm',\n",
       "        'src': '/mnt/dat/work/testuser/adsorption/N_surfactant_on_substrate_template/par_all36_lipid_extended_stripped.prm'},\n",
       "       {'dest': 'top_all36_lipid_extended_stripped.rtf',\n",
       "        'src': '/mnt/dat/work/testuser/adsorption/N_surfactant_on_substrate_template/top_all36_lipid_extended_stripped.rtf'}],\n",
       "      'mode': 'copy'},\n",
       "     {'_fw_name': 'ScriptTask',\n",
       "      'fizzle_bad_rc': True,\n",
       "      'script': ['module load MDTools; charmm2lammps.pl all36_lipid_extended_stripped 646_SDS_on_AU_111_51x30x2_hemicylinders_with_counterion_psfgen -border=0 -lx=147.000 -ly=150.000 -lz=180.000 '],\n",
       "      'stderr_file': '646_SDS_on_AU_111_51x30x2_hemicylinders_with_counterion_ch2lmp.err',\n",
       "      'stdout_file': '646_SDS_on_AU_111_51x30x2_hemicylinders_with_counterion_ch2lmp.out',\n",
       "      'use_shell': True},\n",
       "     {'_fw_name': 'DeleteFilesTask',\n",
       "      'identifiers': ['646_SDS_on_AU_111_51x30x2_hemicylinders_with_counterion_psfgen.data']},\n",
       "     {'_fw_name': 'AddFilesTask',\n",
       "      'identifiers': ['646_SDS_on_AU_111_51x30x2_hemicylinders_with_counterion_psfgen.data'],\n",
       "      'metadata': {'ci_preassembly': 'at_polar_head',\n",
       "       'counterion': 'NA',\n",
       "       'sb_crystal_plane': '111',\n",
       "       'sb_name': 'AU_111_51x30x2',\n",
       "       'sf_preassembly': 'hemicylinders_with_counterion',\n",
       "       'solvent': 'H2O',\n",
       "       'substrate': 'AU',\n",
       "       'surfactant': 'SDS',\n",
       "       'system_name': '646_SDS_on_AU_111_51x30x2_hemicylinders_with_counterion'},\n",
       "      'paths': ['646_SDS_on_AU_111_51x30x2_hemicylinders_with_counterion_psfgen.data']},\n",
       "     {'_fw_name': 'ScriptTask',\n",
       "      'fizzle_bad_rc': False,\n",
       "      'script': ['mkdir -p \"/mnt/dat/work/testuser/adsorption/sys/646_SDS_on_AU_111_51x30x2_hemicylinders_with_counterion\"'],\n",
       "      'use_shell': True},\n",
       "     {'_fw_name': 'FileTransferTask',\n",
       "      'dest': '/mnt/dat/work/testuser/adsorption/sys/646_SDS_on_AU_111_51x30x2_hemicylinders_with_counterion',\n",
       "      'files': ['646_SDS_on_AU_111_51x30x2_hemicylinders_with_counterion_psfgen.data',\n",
       "       '646_SDS_on_AU_111_51x30x2_hemicylinders_with_counterion_psfgen.in',\n",
       "       '646_SDS_on_AU_111_51x30x2_hemicylinders_with_counterion_psfgen_ctrl.pdb',\n",
       "       '646_SDS_on_AU_111_51x30x2_hemicylinders_with_counterion_psfgen_ctrl.psf'],\n",
       "      'mode': 'copy'}],\n",
       "    'geninfo': 'Generated on Sun Jan 27 19:14:50 2019 by testuser@jlh-cloud-10jan19',\n",
       "    'step': 'ch2lmp',\n",
       "    'system_name': '646_SDS_on_AU_111_51x30x2_hemicylinders_with_counterion'},\n",
       "   'updated_on': '2019-01-28T13:00:33.431081'}],\n",
       " 'links': {'-69': [-70],\n",
       "  '-70': [-71],\n",
       "  '-71': [-72],\n",
       "  '-72': [-73],\n",
       "  '-73': [-74],\n",
       "  '-74': []},\n",
       " 'metadata': {},\n",
       " 'name': '646_SDS_on_AU_111_51x30x2_hemicylinders_with_counterion_prep_wf',\n",
       " 'updated_on': datetime.datetime(2019, 1, 28, 13, 0, 33, 431233)}"
      ]
     },
     "execution_count": 160,
     "metadata": {},
     "output_type": "execute_result"
    }
   ],
   "source": [
    "pdb2lmp_wf_dict['646_SDS_on_AU_111_51x30x2_hemicylinders_with_counterion'].as_dict()"
   ]
  },
  {
   "cell_type": "code",
   "execution_count": 161,
   "metadata": {
    "ExecuteTime": {
     "end_time": "2018-10-19T19:20:50.051451Z",
     "start_time": "2018-10-19T19:20:49.961630Z"
    }
   },
   "outputs": [
    {
     "name": "stdout",
     "output_type": "stream",
     "text": [
      "Append 646_SDS_on_AU_111_51x30x2_hemicylinders_with_counterion to last fw_id in list [13]\n"
     ]
    }
   ],
   "source": [
    "logging.info(\"Appening LAMMPS conversion\")\n",
    "jobadmin.append_wf_by_key(pdb2lmp_wf_dict, packmol_fw_id_dict)"
   ]
  },
  {
   "cell_type": "code",
   "execution_count": 125,
   "metadata": {
    "ExecuteTime": {
     "end_time": "2018-10-19T19:20:51.276109Z",
     "start_time": "2018-10-19T19:20:50.598157Z"
    }
   },
   "outputs": [],
   "source": [
    "logging.info(\"Querying appended LAMMPS conversion workflows\")\n",
    "ch2lmp_fw_id_dict = jobadmin.query_step(step='ch2lmp')"
   ]
  },
  {
   "cell_type": "code",
   "execution_count": 126,
   "metadata": {},
   "outputs": [
    {
     "data": {
      "text/plain": [
       "{'1107_SDS_on_AU_111_51x30x2_cylinders_with_counterion': [7],\n",
       " '646_SDS_on_AU_111_51x30x2_hemicylinders_with_counterion': [15]}"
      ]
     },
     "execution_count": 126,
     "metadata": {},
     "output_type": "execute_result"
    }
   ],
   "source": [
    "ch2lmp_fw_id_dict"
   ]
  },
  {
   "cell_type": "markdown",
   "metadata": {},
   "source": [
    "## Query"
   ]
  },
  {
   "cell_type": "code",
   "execution_count": 41,
   "metadata": {},
   "outputs": [],
   "source": [
    "system_name_scope = [ \n",
    "     '646_SDS_on_AU_111_51x30x2_hemicylinders_with_counterion' ]"
   ]
  },
  {
   "cell_type": "code",
   "execution_count": 163,
   "metadata": {
    "ExecuteTime": {
     "end_time": "2018-10-19T18:51:01.933578Z",
     "start_time": "2018-10-19T18:51:01.060275Z"
    }
   },
   "outputs": [],
   "source": [
    "healthy_prepared_systems = jobadmin.get_set_of_prepared_minimizations()"
   ]
  },
  {
   "cell_type": "code",
   "execution_count": 164,
   "metadata": {},
   "outputs": [],
   "source": [
    "# check where subsequent steps are missing"
   ]
  },
  {
   "cell_type": "code",
   "execution_count": 165,
   "metadata": {
    "ExecuteTime": {
     "end_time": "2018-10-19T18:52:01.192910Z",
     "start_time": "2018-10-19T18:51:43.121858Z"
    }
   },
   "outputs": [],
   "source": [
    "to_initialize_formats = jobadmin.identifyIncompleteWorkflowsInScope(\n",
    "    system_name_scope=system_name_scope, precedent_step_name='packmol', subsequent_step_name='ch2lmp')"
   ]
  },
  {
   "cell_type": "code",
   "execution_count": 166,
   "metadata": {
    "ExecuteTime": {
     "end_time": "2018-10-19T18:52:05.562414Z",
     "start_time": "2018-10-19T18:52:05.504097Z"
    }
   },
   "outputs": [
    {
     "data": {
      "text/plain": [
       "{}"
      ]
     },
     "execution_count": 166,
     "metadata": {},
     "output_type": "execute_result"
    }
   ],
   "source": [
    "to_initialize_formats"
   ]
  },
  {
   "cell_type": "code",
   "execution_count": 177,
   "metadata": {
    "ExecuteTime": {
     "end_time": "2018-10-19T19:33:09.333007Z",
     "start_time": "2018-10-19T19:32:29.157494Z"
    }
   },
   "outputs": [
    {
     "name": "stderr",
     "output_type": "stream",
     "text": [
      "WARNING:root:2 systems not present at all in subsequent step.\n"
     ]
    }
   ],
   "source": [
    "# Use ch2lmp as reference\n",
    "to_minimize = jobadmin.identifyIncompleteWorkflowsInScope(precedent_step_name='ch2lmp',\n",
    "    subsequent_step_name='minimization', system_name_scope=system_name_scope)"
   ]
  },
  {
   "cell_type": "code",
   "execution_count": 178,
   "metadata": {
    "ExecuteTime": {
     "end_time": "2018-10-19T19:33:12.001830Z",
     "start_time": "2018-10-19T19:33:11.941424Z"
    }
   },
   "outputs": [
    {
     "data": {
      "text/plain": [
       "{'646_SDS_on_AU_111_51x30x2_hemicylinders_with_counterion': [39]}"
      ]
     },
     "execution_count": 178,
     "metadata": {},
     "output_type": "execute_result"
    }
   ],
   "source": [
    "to_minimize"
   ]
  },
  {
   "cell_type": "code",
   "execution_count": 173,
   "metadata": {},
   "outputs": [
    {
     "data": {
      "text/plain": [
       "[15, 16, 17, 18, 19]"
      ]
     },
     "execution_count": 173,
     "metadata": {},
     "output_type": "execute_result"
    }
   ],
   "source": [
    "jobadmin.defuse_children(19,dry_run=True)"
   ]
  },
  {
   "cell_type": "code",
   "execution_count": 176,
   "metadata": {},
   "outputs": [
    {
     "data": {
      "text/plain": [
       "[31, 32, 33]"
      ]
     },
     "execution_count": 176,
     "metadata": {},
     "output_type": "execute_result"
    }
   ],
   "source": [
    "jobadmin.defuse_children(33)"
   ]
  },
  {
   "cell_type": "code",
   "execution_count": null,
   "metadata": {
    "ExecuteTime": {
     "end_time": "2018-10-19T16:19:10.257396Z",
     "start_time": "2018-10-19T16:18:27.262720Z"
    }
   },
   "outputs": [],
   "source": [
    "to_minimize = jobadmin.identifyIncompleteWorkflowsInScope(precedent_step_name='prepare_system_files',\n",
    "    subsequent_step_name='minimization', system_name_scope=system_name_scope)"
   ]
  },
  {
   "cell_type": "code",
   "execution_count": null,
   "metadata": {
    "ExecuteTime": {
     "end_time": "2018-10-19T16:19:10.551001Z",
     "start_time": "2018-10-19T16:19:10.521188Z"
    }
   },
   "outputs": [],
   "source": [
    "to_minimize"
   ]
  },
  {
   "cell_type": "code",
   "execution_count": null,
   "metadata": {
    "ExecuteTime": {
     "end_time": "2018-10-19T16:21:27.099025Z",
     "start_time": "2018-10-19T16:21:27.039813Z"
    }
   },
   "outputs": [],
   "source": [
    "redo = (set(system_name_scope) - healthy_prepared_systems) | set(to_minimize.keys())"
   ]
  },
  {
   "cell_type": "code",
   "execution_count": null,
   "metadata": {
    "ExecuteTime": {
     "end_time": "2018-10-19T16:56:09.872358Z",
     "start_time": "2018-10-19T16:56:09.720320Z"
    }
   },
   "outputs": [],
   "source": [
    "redo"
   ]
  },
  {
   "cell_type": "code",
   "execution_count": 387,
   "metadata": {
    "ExecuteTime": {
     "end_time": "2018-10-19T19:34:32.146404Z",
     "start_time": "2018-10-19T19:33:48.403933Z"
    }
   },
   "outputs": [
    {
     "name": "stderr",
     "output_type": "stream",
     "text": [
      "WARNING:root:36 systems not present at all in subsequent step.\n"
     ]
    }
   ],
   "source": [
    "to_equilibrate_nvt = jobadmin.identifyIncompleteWorkflowsInScope(\n",
    "    precedent_step_name='minimization', subsequent_step_name='equilibration_nvt',\n",
    "    system_name_scope=system_name_scope)"
   ]
  },
  {
   "cell_type": "code",
   "execution_count": 1,
   "metadata": {
    "ExecuteTime": {
     "end_time": "2018-10-28T08:47:28.523242Z",
     "start_time": "2018-10-28T08:47:27.841578Z"
    }
   },
   "outputs": [
    {
     "ename": "NameError",
     "evalue": "name 'to_equilibrate_nvt' is not defined",
     "output_type": "error",
     "traceback": [
      "\u001b[0;31m---------------------------------------------------------------------------\u001b[0m",
      "\u001b[0;31mNameError\u001b[0m                                 Traceback (most recent call last)",
      "\u001b[0;32m<ipython-input-1-b1ca2e9d35a0>\u001b[0m in \u001b[0;36m<module>\u001b[0;34m()\u001b[0m\n\u001b[0;32m----> 1\u001b[0;31m \u001b[0mto_equilibrate_nvt\u001b[0m\u001b[0;34m\u001b[0m\u001b[0m\n\u001b[0m",
      "\u001b[0;31mNameError\u001b[0m: name 'to_equilibrate_nvt' is not defined"
     ]
    }
   ],
   "source": [
    "to_equilibrate_nvt"
   ]
  },
  {
   "cell_type": "code",
   "execution_count": null,
   "metadata": {
    "ExecuteTime": {
     "end_time": "2018-10-19T18:38:17.812909Z",
     "start_time": "2018-10-19T18:37:19.679649Z"
    }
   },
   "outputs": [],
   "source": [
    "to_equilibrate_npt = jobadmin.identifyIncompleteWorkflowsInScope(\n",
    "    precedent_step_name='equilibration_nvt',\n",
    "    subsequent_step_name='equilibration_npt',\n",
    "    system_name_scope=system_name_scope)"
   ]
  },
  {
   "cell_type": "code",
   "execution_count": null,
   "metadata": {
    "ExecuteTime": {
     "end_time": "2018-10-19T18:38:18.436830Z",
     "start_time": "2018-10-19T18:38:18.383286Z"
    }
   },
   "outputs": [],
   "source": [
    "to_equilibrate_npt"
   ]
  },
  {
   "cell_type": "code",
   "execution_count": null,
   "metadata": {
    "ExecuteTime": {
     "end_time": "2018-10-19T18:39:28.238215Z",
     "start_time": "2018-10-19T18:38:18.754749Z"
    }
   },
   "outputs": [],
   "source": [
    "to_run_production = jobadmin.identifyIncompleteWorkflowsInScope(\n",
    "    precedent_step_name='equilibration_npt',\n",
    "    subsequent_step_name='10ns_production_mixed',\n",
    "    system_name_scope=system_name_scope)"
   ]
  },
  {
   "cell_type": "code",
   "execution_count": null,
   "metadata": {
    "ExecuteTime": {
     "end_time": "2018-10-19T18:39:28.839666Z",
     "start_time": "2018-10-19T18:39:28.790126Z"
    }
   },
   "outputs": [],
   "source": [
    "to_run_production"
   ]
  },
  {
   "cell_type": "code",
   "execution_count": null,
   "metadata": {
    "ExecuteTime": {
     "end_time": "2018-10-19T18:41:35.915356Z",
     "start_time": "2018-10-19T18:40:55.349156Z"
    }
   },
   "outputs": [],
   "source": [
    "to_run_production = jobadmin.identifyIncompleteWorkflowsInScope(\n",
    "    precedent_step_name='equilibration_npt',\n",
    "    subsequent_step_name='production',\n",
    "    system_name_scope=system_name_scope)"
   ]
  },
  {
   "cell_type": "code",
   "execution_count": null,
   "metadata": {
    "ExecuteTime": {
     "end_time": "2018-10-19T18:42:07.425645Z",
     "start_time": "2018-10-19T18:42:07.255496Z"
    }
   },
   "outputs": [],
   "source": [
    "to_run_production"
   ]
  },
  {
   "cell_type": "code",
   "execution_count": null,
   "metadata": {},
   "outputs": [],
   "source": [
    "unfinished_systems = to_run_production.keys()"
   ]
  },
  {
   "cell_type": "code",
   "execution_count": null,
   "metadata": {},
   "outputs": [],
   "source": [
    "previous_runs = jobadmin.query_systems(unfinished_systems,step='10ns_production_mixed')"
   ]
  },
  {
   "cell_type": "code",
   "execution_count": 316,
   "metadata": {
    "ExecuteTime": {
     "end_time": "2018-10-19T19:11:30.835737Z",
     "start_time": "2018-10-19T19:11:20.501763Z"
    }
   },
   "outputs": [],
   "source": [
    "discontinued_prodcution_runs = jobadmin.get_discontinued_production_runs()"
   ]
  },
  {
   "cell_type": "code",
   "execution_count": null,
   "metadata": {},
   "outputs": [],
   "source": [
    "completed_productions_dict"
   ]
  },
  {
   "cell_type": "code",
   "execution_count": null,
   "metadata": {},
   "outputs": [],
   "source": []
  },
  {
   "cell_type": "markdown",
   "metadata": {},
   "source": [
    "## LAMMPS jobs"
   ]
  },
  {
   "cell_type": "code",
   "execution_count": null,
   "metadata": {},
   "outputs": [],
   "source": [
    "# TODO: switch to wrapper & batch_prepare_fw style"
   ]
  },
  {
   "cell_type": "code",
   "execution_count": null,
   "metadata": {
    "ExecuteTime": {
     "end_time": "2018-09-06T17:51:19.622376Z",
     "start_time": "2018-09-06T17:51:11.450314Z"
    }
   },
   "outputs": [],
   "source": [
    "# Template for appending LAMMPS runs\n",
    "prep_fw_dict = jobadmin.prepare_systems(system_names)\n",
    "jobadmin.append_wf_by_key( prep_fw_dict, ch2lmp_fw_id_dict )\n",
    "prep_fw_id_dict = jobadmin.query_step(\n",
    "    step = 'prepare_system_files')"
   ]
  },
  {
   "cell_type": "code",
   "execution_count": null,
   "metadata": {
    "ExecuteTime": {
     "end_time": "2018-09-05T22:48:05.522339Z",
     "start_time": "2018-09-05T22:47:59.510435Z"
    }
   },
   "outputs": [],
   "source": [
    "# TODO: update \"prepare_restarts\" to enable restarts with colvars module\n",
    "prod_fw_dict = jobadmin.prepare_production(system_names)\n",
    "jobadmin.append_wf_by_key(prod_fw_dict, npt_fw_id_dict)\n",
    "prod_fw_id_dict = jobadmin.query_systems(\n",
    "    system_names, \n",
    "    step='10ns_production_mixed',\n",
    "    state=[\"COMPLETED\", \"RUNNING\", \"READY\", \"WAITING\", \"RESERVED\"])\n",
    "\n",
    "restart_fw_dict = jobadmin.prepare_restarts(system_names)\n",
    "jobadmin.append_wf_by_key(restart_fw_dict, prod_fw_id_dict)"
   ]
  },
  {
   "cell_type": "markdown",
   "metadata": {},
   "source": [
    "### Preparation"
   ]
  },
  {
   "cell_type": "code",
   "execution_count": 189,
   "metadata": {
    "ExecuteTime": {
     "end_time": "2018-10-19T19:21:18.707290Z",
     "start_time": "2018-10-19T19:21:18.630497Z"
    }
   },
   "outputs": [],
   "source": [
    "fw_id_dict = jobadmin.query_systems(\n",
    "    system_names,step=\"ch2lmp\",\n",
    "    state=[\"COMPLETED\", \"RUNNING\", \"READY\", \"WAITING\", \"RESERVED\"])"
   ]
  },
  {
   "cell_type": "code",
   "execution_count": 190,
   "metadata": {},
   "outputs": [
    {
     "data": {
      "text/plain": [
       "{'646_SDS_on_AU_111_51x30x2_hemicylinders_with_counterion': [39]}"
      ]
     },
     "execution_count": 190,
     "metadata": {},
     "output_type": "execute_result"
    }
   ],
   "source": [
    "fw_id_dict"
   ]
  },
  {
   "cell_type": "code",
   "execution_count": null,
   "metadata": {},
   "outputs": [],
   "source": [
    "# Certain steps push representative data files to the database."
   ]
  },
  {
   "cell_type": "code",
   "execution_count": 191,
   "metadata": {
    "ExecuteTime": {
     "end_time": "2018-10-19T19:21:22.415376Z",
     "start_time": "2018-10-19T19:21:22.357080Z"
    }
   },
   "outputs": [],
   "source": [
    "pull_datafile_from_db_wrapper = lambda system_name: \\\n",
    "    jobadmin.pull_datafile_from_db(system_name, data_file_identifier_suffix='_psfgen.data')"
   ]
  },
  {
   "cell_type": "code",
   "execution_count": 192,
   "metadata": {
    "ExecuteTime": {
     "end_time": "2018-10-19T19:21:23.889607Z",
     "start_time": "2018-10-19T19:21:23.828632Z"
    }
   },
   "outputs": [],
   "source": [
    "fw_dict = jobadmin.batch_prepare_fw( system_names, pull_datafile_from_db_wrapper )"
   ]
  },
  {
   "cell_type": "code",
   "execution_count": 193,
   "metadata": {
    "ExecuteTime": {
     "end_time": "2018-10-19T19:21:24.692069Z",
     "start_time": "2018-10-19T19:21:24.595759Z"
    }
   },
   "outputs": [
    {
     "name": "stdout",
     "output_type": "stream",
     "text": [
      "Append 646_SDS_on_AU_111_51x30x2_hemicylinders_with_counterion to last fw_id in list [39]\n"
     ]
    }
   ],
   "source": [
    "jobadmin.append_wf_by_key( fw_dict, fw_id_dict )"
   ]
  },
  {
   "cell_type": "markdown",
   "metadata": {},
   "source": [
    "### Minimization"
   ]
  },
  {
   "cell_type": "code",
   "execution_count": 357,
   "metadata": {
    "ExecuteTime": {
     "end_time": "2018-10-19T19:21:58.758361Z",
     "start_time": "2018-10-19T19:21:58.703911Z"
    }
   },
   "outputs": [
    {
     "data": {
      "text/plain": [
       "{'nodes': 1, 'walltime': '24:00:00'}"
      ]
     },
     "execution_count": 357,
     "metadata": {},
     "output_type": "execute_result"
    }
   ],
   "source": [
    "jobadmin.minimization_queueadapter"
   ]
  },
  {
   "cell_type": "code",
   "execution_count": 358,
   "metadata": {
    "ExecuteTime": {
     "end_time": "2018-10-19T19:22:03.628802Z",
     "start_time": "2018-10-19T19:22:03.558704Z"
    }
   },
   "outputs": [],
   "source": [
    "jobadmin.minimization_queueadapter[\"nodes\"] = 2"
   ]
  },
  {
   "cell_type": "code",
   "execution_count": null,
   "metadata": {
    "ExecuteTime": {
     "end_time": "2018-10-19T18:53:43.952394Z",
     "start_time": "2018-10-19T18:53:43.889326Z"
    }
   },
   "outputs": [],
   "source": [
    "jobadmin.minimization_queueadapter[\"walltime\"] = '24:00:00'"
   ]
  },
  {
   "cell_type": "code",
   "execution_count": 194,
   "metadata": {
    "ExecuteTime": {
     "end_time": "2018-10-19T19:22:08.320616Z",
     "start_time": "2018-10-19T19:22:08.007991Z"
    }
   },
   "outputs": [],
   "source": [
    "fw_id_dict = jobadmin.query_systems(\n",
    "    system_names,\n",
    "    step='pull_datafile_from_db', \n",
    "    state=[\"COMPLETED\", \"RUNNING\", \"READY\", \"WAITING\", \"RESERVED\"])"
   ]
  },
  {
   "cell_type": "code",
   "execution_count": 195,
   "metadata": {},
   "outputs": [
    {
     "data": {
      "text/plain": [
       "{'646_SDS_on_AU_111_51x30x2_hemicylinders_with_counterion': [47]}"
      ]
     },
     "execution_count": 195,
     "metadata": {},
     "output_type": "execute_result"
    }
   ],
   "source": [
    "fw_id_dict"
   ]
  },
  {
   "cell_type": "code",
   "execution_count": 182,
   "metadata": {},
   "outputs": [],
   "source": [
    "jobadmin._template_lmp_cmd = 'module load LAMMPS; mpirun -n 4 lmp -in {inputFile:s}' # for testing on bwcloud"
   ]
  },
  {
   "cell_type": "code",
   "execution_count": 183,
   "metadata": {},
   "outputs": [
    {
     "data": {
      "text/plain": [
       "'module load LAMMPS; mpirun -n 4 lmp -in {inputFile:s}'"
      ]
     },
     "execution_count": 183,
     "metadata": {},
     "output_type": "execute_result"
    }
   ],
   "source": [
    "jobadmin._template_lmp_cmd"
   ]
  },
  {
   "cell_type": "code",
   "execution_count": 196,
   "metadata": {
    "ExecuteTime": {
     "end_time": "2018-10-19T19:22:11.245862Z",
     "start_time": "2018-10-19T19:22:11.189237Z"
    }
   },
   "outputs": [],
   "source": [
    "minimize_wrapper = lambda system_name: jobadmin.minimize(\n",
    "    system_name,\n",
    "    lmp_suffix_template=' '.join((\n",
    "        '-v baseName {baseName:s} -v dataFile {dataFile:s} -v has_indenter 0',\n",
    "        '-v robust_minimization 1 -v pbc2d 0 -v surfactant_name SDS',\n",
    "        '-v mpiio 0 -v freeze_substrate 1')))"
   ]
  },
  {
   "cell_type": "code",
   "execution_count": 197,
   "metadata": {
    "ExecuteTime": {
     "end_time": "2018-10-19T19:22:13.045244Z",
     "start_time": "2018-10-19T19:22:12.995751Z"
    }
   },
   "outputs": [],
   "source": [
    "fw_dict = jobadmin.batch_prepare_fw( system_names, minimize_wrapper )"
   ]
  },
  {
   "cell_type": "code",
   "execution_count": 198,
   "metadata": {},
   "outputs": [
    {
     "data": {
      "text/plain": [
       "{'646_SDS_on_AU_111_51x30x2_hemicylinders_with_counterion': {\"spec\": {\"_queueadapter\": {}, \"_category\": \"bwcloud_std\", \"_dupefinder\": {\"_fw_name\": \"DupeFinderExact\"}, \"_files_in\": {\"data_file\": \"datafile.lammps\"}, \"_files_out\": {\"data_file\": \"646_SDS_on_AU_111_51x30x2_hemicylinders_with_counterion_minimized.lammps\"}, \"system_name\": \"646_SDS_on_AU_111_51x30x2_hemicylinders_with_counterion\", \"step\": \"minimization\", \"geninfo\": \"Generated on Sun Jan 27 19:14:50 2019 by testuser@jlh-cloud-10jan19\", \"_tasks\": [{\"files\": [{\"src\": \"/mnt/dat/work/testuser/adsorption/N_surfactant_on_substrate_template/lmp_header.input\", \"dest\": \"lmp_header.input\"}, {\"src\": \"/mnt/dat/work/testuser/adsorption/N_surfactant_on_substrate_template/lmp_minimization.input\", \"dest\": \"lmp_minimization.input\"}], \"mode\": \"copy\", \"_fw_name\": \"FileTransferTask\"}, {\"stdout_file\": \"lmp_minimization.out\", \"stderr_file\": \"lmp_minimization.err\", \"use_shell\": true, \"fizzle_bad_rc\": true, \"script\": [\"module load LAMMPS; mpirun -n 4 lmp -in lmp_minimization.input -v baseName 646_SDS_on_AU_111_51x30x2_hemicylinders_with_counterion -v dataFile datafile.lammps -v has_indenter 0 -v robust_minimization 1 -v pbc2d 0 -v surfactant_name SDS -v mpiio 0 -v freeze_substrate 1\"], \"_fw_name\": \"ScriptTask\"}, {\"use_shell\": true, \"fizzle_bad_rc\": false, \"script\": [\"/mnt/dat/work/testuser/adsorption/N_surfactant_on_substrate_template/extract_thermo.sh 646_SDS_on_AU_111_51x30x2_hemicylinders_with_counterion_minimization.log 646_SDS_on_AU_111_51x30x2_hemicylinders_with_counterion_minimization_thermo.out\"], \"_fw_name\": \"ScriptTask\"}, {\"use_shell\": true, \"fizzle_bad_rc\": false, \"script\": [\"mkdir -p \\\"/mnt/dat/work/testuser/adsorption/sys/646_SDS_on_AU_111_51x30x2_hemicylinders_with_counterion/minimized\\\"\"], \"_fw_name\": \"ScriptTask\"}, {\"files\": [\"646_SDS_on_AU_111_51x30x2_hemicylinders_with_counterion_minimized.lammps\", \"646_SDS_on_AU_111_51x30x2_hemicylinders_with_counterion_minimization.log\", \"646_SDS_on_AU_111_51x30x2_hemicylinders_with_counterion_minimization_thermo.out\", \"lmp_minimization.out\"], \"dest\": \"/mnt/dat/work/testuser/adsorption/sys/646_SDS_on_AU_111_51x30x2_hemicylinders_with_counterion/minimized\", \"mode\": \"copy\", \"_fw_name\": \"FileTransferTask\"}]}, \"fw_id\": -77, \"created_on\": \"2019-01-28T13:39:02.249067\", \"updated_on\": \"2019-01-28T13:39:02.249072\", \"name\": \"646_SDS_on_AU_111_51x30x2_hemicylinders_with_counterion_minimzation\"}}"
      ]
     },
     "execution_count": 198,
     "metadata": {},
     "output_type": "execute_result"
    }
   ],
   "source": [
    "fw_dict"
   ]
  },
  {
   "cell_type": "code",
   "execution_count": 199,
   "metadata": {
    "ExecuteTime": {
     "end_time": "2018-10-19T19:22:14.141612Z",
     "start_time": "2018-10-19T19:22:13.921152Z"
    }
   },
   "outputs": [
    {
     "name": "stdout",
     "output_type": "stream",
     "text": [
      "Append 646_SDS_on_AU_111_51x30x2_hemicylinders_with_counterion to last fw_id in list [47]\n"
     ]
    }
   ],
   "source": [
    "jobadmin.append_wf_by_key( fw_dict, fw_id_dict )"
   ]
  },
  {
   "cell_type": "markdown",
   "metadata": {},
   "source": [
    "### NVT equilibration"
   ]
  },
  {
   "cell_type": "code",
   "execution_count": 379,
   "metadata": {
    "ExecuteTime": {
     "end_time": "2018-10-19T19:31:22.278502Z",
     "start_time": "2018-10-19T19:31:22.123939Z"
    }
   },
   "outputs": [
    {
     "data": {
      "text/plain": [
       "{'nodes': 4, 'walltime': '24:00:00'}"
      ]
     },
     "execution_count": 379,
     "metadata": {},
     "output_type": "execute_result"
    }
   ],
   "source": [
    "jobadmin.equilibration_queueadapter"
   ]
  },
  {
   "cell_type": "code",
   "execution_count": null,
   "metadata": {
    "ExecuteTime": {
     "end_time": "2018-10-19T18:54:11.842879Z",
     "start_time": "2018-10-19T18:54:11.785143Z"
    }
   },
   "outputs": [],
   "source": [
    "jobadmin.equilibration_queueadapter[\"nodes\"] = 4"
   ]
  },
  {
   "cell_type": "code",
   "execution_count": 364,
   "metadata": {
    "ExecuteTime": {
     "end_time": "2018-10-19T19:22:21.490492Z",
     "start_time": "2018-10-19T19:22:21.413951Z"
    }
   },
   "outputs": [],
   "source": [
    "# fw_id_dict = jobadmin.query_systems(\n",
    "#     system_names,\n",
    "#     step='minimization', \n",
    "#     state=[\"COMPLETED\", \"RUNNING\", \"READY\", \"WAITING\", \"RESERVED\"])\n",
    "\n",
    "# better alterbative:"
   ]
  },
  {
   "cell_type": "code",
   "execution_count": 387,
   "metadata": {
    "ExecuteTime": {
     "end_time": "2018-10-19T19:34:32.146404Z",
     "start_time": "2018-10-19T19:33:48.403933Z"
    }
   },
   "outputs": [
    {
     "name": "stderr",
     "output_type": "stream",
     "text": [
      "WARNING:root:36 systems not present at all in subsequent step.\n"
     ]
    }
   ],
   "source": [
    "to_equilibrate_nvt = jobadmin.identifyIncompleteWorkflowsInScope(\n",
    "    precedent_step_name='minimization', subsequent_step_name='equilibration_nvt',\n",
    "    system_name_scope=system_name_scope)"
   ]
  },
  {
   "cell_type": "code",
   "execution_count": 388,
   "metadata": {
    "ExecuteTime": {
     "end_time": "2018-10-19T19:34:32.422295Z",
     "start_time": "2018-10-19T19:34:32.373021Z"
    }
   },
   "outputs": [
    {
     "data": {
      "text/plain": [
       "{'1107_SDS_on_AU_111_51x30x2_cylinders_with_counterion': [10691],\n",
       " '1107_SDS_on_AU_111_51x30x2_hemicylinders_with_counterion': [10644],\n",
       " '1107_SDS_on_AU_111_51x30x2_monolayer_with_counterion': [10704],\n",
       " '129_SDS_on_AU_111_51x30x2_cylinders_with_counterion': [10645],\n",
       " '129_SDS_on_AU_111_51x30x2_hemicylinders_with_counterion': [10638],\n",
       " '220_SDS_on_AU_111_51x30x2_cylinders_with_counterion': [10634],\n",
       " '220_SDS_on_AU_111_51x30x2_hemicylinders_with_counterion': [10636],\n",
       " '2214_SDS_on_AU_111_51x30x2_bilayer_with_counterion': [10642],\n",
       " '2214_SDS_on_AU_111_51x30x2_cylinders_with_counterion': [10640],\n",
       " '2214_SDS_on_AU_111_51x30x2_hemicylinders_with_counterion': [10641],\n",
       " '2214_SDS_on_AU_111_51x30x2_monolayer_with_counterion': [10639],\n",
       " '377_SDS_on_AU_111_51x30x2_hemicylinders_with_counterion': [10635],\n",
       " '75_SDS_on_AU_111_51x30x2_cylinders_with_counterion': [10643],\n",
       " '75_SDS_on_AU_111_51x30x2_hemicylinders_with_counterion': [10637]}"
      ]
     },
     "execution_count": 388,
     "metadata": {},
     "output_type": "execute_result"
    }
   ],
   "source": [
    "to_equilibrate_nvt"
   ]
  },
  {
   "cell_type": "code",
   "execution_count": 389,
   "metadata": {
    "ExecuteTime": {
     "end_time": "2018-10-19T19:35:53.928230Z",
     "start_time": "2018-10-19T19:35:53.765636Z"
    }
   },
   "outputs": [],
   "source": [
    "fw_id_dict = to_equilibrate_nvt"
   ]
  },
  {
   "cell_type": "code",
   "execution_count": 390,
   "metadata": {
    "ExecuteTime": {
     "end_time": "2018-10-19T19:35:59.194083Z",
     "start_time": "2018-10-19T19:35:59.129896Z"
    }
   },
   "outputs": [],
   "source": [
    "nvtEquilibrate_wrapper = lambda system_name: jobadmin.nvtEquilibrate(\n",
    "    system_name,\n",
    "    lmp_suffix_template=' '.join((\n",
    "        '-v baseName {baseName:s} -v dataFile {dataFile:s}', \n",
    "        '-v has_indenter 0 -v pbd2d 0 -v reinitialize_velocities 1',\n",
    "        '-v surfactant_name SDS -v mpiio 0')))"
   ]
  },
  {
   "cell_type": "code",
   "execution_count": 391,
   "metadata": {
    "ExecuteTime": {
     "end_time": "2018-10-19T19:36:06.050638Z",
     "start_time": "2018-10-19T19:36:06.001907Z"
    }
   },
   "outputs": [],
   "source": [
    "fw_dict = jobadmin.batch_prepare_fw( system_names, nvtEquilibrate_wrapper )"
   ]
  },
  {
   "cell_type": "code",
   "execution_count": 392,
   "metadata": {
    "ExecuteTime": {
     "end_time": "2018-10-19T19:36:07.316130Z",
     "start_time": "2018-10-19T19:36:06.566702Z"
    }
   },
   "outputs": [
    {
     "name": "stdout",
     "output_type": "stream",
     "text": [
      "Append 220_SDS_on_AU_111_51x30x2_cylinders_with_counterion to last fw_id in list [10634]\n",
      "Append 1107_SDS_on_AU_111_51x30x2_cylinders_with_counterion to last fw_id in list [10691]\n",
      "Append 1107_SDS_on_AU_111_51x30x2_monolayer_with_counterion to last fw_id in list [10704]\n",
      "Append 220_SDS_on_AU_111_51x30x2_hemicylinders_with_counterion to last fw_id in list [10636]\n",
      "Append 2214_SDS_on_AU_111_51x30x2_cylinders_with_counterion to last fw_id in list [10640]\n",
      "Append 129_SDS_on_AU_111_51x30x2_hemicylinders_with_counterion to last fw_id in list [10638]\n",
      "Append 2214_SDS_on_AU_111_51x30x2_hemicylinders_with_counterion to last fw_id in list [10641]\n",
      "Append 2214_SDS_on_AU_111_51x30x2_monolayer_with_counterion to last fw_id in list [10639]\n",
      "Append 377_SDS_on_AU_111_51x30x2_hemicylinders_with_counterion to last fw_id in list [10635]\n",
      "Append 2214_SDS_on_AU_111_51x30x2_bilayer_with_counterion to last fw_id in list [10642]\n",
      "Append 75_SDS_on_AU_111_51x30x2_hemicylinders_with_counterion to last fw_id in list [10637]\n",
      "Append 75_SDS_on_AU_111_51x30x2_cylinders_with_counterion to last fw_id in list [10643]\n",
      "Append 1107_SDS_on_AU_111_51x30x2_hemicylinders_with_counterion to last fw_id in list [10644]\n",
      "Append 129_SDS_on_AU_111_51x30x2_cylinders_with_counterion to last fw_id in list [10645]\n"
     ]
    }
   ],
   "source": [
    "jobadmin.append_wf_by_key(fw_dict, fw_id_dict)"
   ]
  },
  {
   "cell_type": "markdown",
   "metadata": {},
   "source": [
    "### NPT equilibration"
   ]
  },
  {
   "cell_type": "code",
   "execution_count": null,
   "metadata": {
    "ExecuteTime": {
     "end_time": "2018-10-19T18:54:28.863322Z",
     "start_time": "2018-10-19T18:54:28.787285Z"
    }
   },
   "outputs": [],
   "source": [
    "# fw_id_dict = jobadmin.query_systems(\n",
    "#     system_names,\n",
    "#     step='equilibration_nvt', \n",
    "#     state=[\"COMPLETED\", \"RUNNING\", \"READY\", \"WAITING\", \"RESERVED\"])\n",
    "\n",
    "# better alternative:"
   ]
  },
  {
   "cell_type": "code",
   "execution_count": 393,
   "metadata": {
    "ExecuteTime": {
     "end_time": "2018-10-19T19:37:38.244520Z",
     "start_time": "2018-10-19T19:36:44.835167Z"
    }
   },
   "outputs": [
    {
     "name": "stderr",
     "output_type": "stream",
     "text": [
      "WARNING:root:12 systems not present at all in subsequent step.\n"
     ]
    }
   ],
   "source": [
    "to_equilibrate_npt = jobadmin.identifyIncompleteWorkflowsInScope(\n",
    "    precedent_step_name='equilibration_nvt',\n",
    "    subsequent_step_name='equilibration_npt',\n",
    "    system_name_scope=system_name_scope)"
   ]
  },
  {
   "cell_type": "code",
   "execution_count": 397,
   "metadata": {
    "ExecuteTime": {
     "end_time": "2018-10-19T19:38:20.521542Z",
     "start_time": "2018-10-19T19:38:20.464128Z"
    }
   },
   "outputs": [],
   "source": [
    "fw_id_dict = to_equilibrate_npt"
   ]
  },
  {
   "cell_type": "code",
   "execution_count": 398,
   "metadata": {
    "ExecuteTime": {
     "end_time": "2018-10-19T19:38:25.607673Z",
     "start_time": "2018-10-19T19:38:25.546783Z"
    }
   },
   "outputs": [],
   "source": [
    "nptEquilibrate_wrapper = lambda system_name: jobadmin.nptEquilibrate(\n",
    "    system_name,\n",
    "    lmp_suffix_template= ' '.join((\n",
    "        '-v baseName {baseName:s}',\n",
    "        '-v dataFile {dataFile:s}',\n",
    "        '-v has_indenter 0',\n",
    "        '-v pbd2d 0 -v reinitialize_velocities 0',\n",
    "        '-v surfactant_name SDS')) )"
   ]
  },
  {
   "cell_type": "code",
   "execution_count": 399,
   "metadata": {
    "ExecuteTime": {
     "end_time": "2018-10-19T19:38:26.906093Z",
     "start_time": "2018-10-19T19:38:26.854798Z"
    }
   },
   "outputs": [],
   "source": [
    "fw_dict = jobadmin.batch_prepare_fw( system_names, nptEquilibrate_wrapper )"
   ]
  },
  {
   "cell_type": "code",
   "execution_count": 400,
   "metadata": {
    "ExecuteTime": {
     "end_time": "2018-10-19T19:38:27.962355Z",
     "start_time": "2018-10-19T19:38:27.167407Z"
    }
   },
   "outputs": [
    {
     "name": "stdout",
     "output_type": "stream",
     "text": [
      "Append 220_SDS_on_AU_111_51x30x2_cylinders_with_counterion to last fw_id in list [10705]\n",
      "Append 1107_SDS_on_AU_111_51x30x2_cylinders_with_counterion to last fw_id in list [10706]\n",
      "Append 1107_SDS_on_AU_111_51x30x2_monolayer_with_counterion to last fw_id in list [10707]\n",
      "Append 220_SDS_on_AU_111_51x30x2_hemicylinders_with_counterion to last fw_id in list [10708]\n",
      "Append 2214_SDS_on_AU_111_51x30x2_cylinders_with_counterion to last fw_id in list [10709]\n",
      "Append 129_SDS_on_AU_111_51x30x2_hemicylinders_with_counterion to last fw_id in list [10710]\n",
      "Append 2214_SDS_on_AU_111_51x30x2_hemicylinders_with_counterion to last fw_id in list [10711]\n",
      "Append 2214_SDS_on_AU_111_51x30x2_monolayer_with_counterion to last fw_id in list [10712]\n",
      "Append 377_SDS_on_AU_111_51x30x2_hemicylinders_with_counterion to last fw_id in list [10713]\n",
      "Append 2214_SDS_on_AU_111_51x30x2_bilayer_with_counterion to last fw_id in list [10714]\n",
      "Append 75_SDS_on_AU_111_51x30x2_hemicylinders_with_counterion to last fw_id in list [10715]\n",
      "Append 75_SDS_on_AU_111_51x30x2_cylinders_with_counterion to last fw_id in list [10716]\n",
      "Append 1107_SDS_on_AU_111_51x30x2_hemicylinders_with_counterion to last fw_id in list [10717]\n",
      "Append 129_SDS_on_AU_111_51x30x2_cylinders_with_counterion to last fw_id in list [10718]\n"
     ]
    }
   ],
   "source": [
    "jobadmin.append_wf_by_key(fw_dict, fw_id_dict)"
   ]
  },
  {
   "cell_type": "markdown",
   "metadata": {},
   "source": [
    "### Production"
   ]
  },
  {
   "cell_type": "code",
   "execution_count": 401,
   "metadata": {
    "ExecuteTime": {
     "end_time": "2018-10-19T19:38:37.708994Z",
     "start_time": "2018-10-19T19:38:37.409304Z"
    }
   },
   "outputs": [
    {
     "data": {
      "text/plain": [
       "{'nodes': 8, 'walltime': '96:00:00'}"
      ]
     },
     "execution_count": 401,
     "metadata": {},
     "output_type": "execute_result"
    }
   ],
   "source": [
    "jobadmin.production_queueadapter"
   ]
  },
  {
   "cell_type": "code",
   "execution_count": null,
   "metadata": {
    "ExecuteTime": {
     "end_time": "2018-10-19T17:53:09.056965Z",
     "start_time": "2018-10-19T17:53:08.999780Z"
    }
   },
   "outputs": [],
   "source": [
    "jobadmin.production_queueadapter[\"nodes\"] = 8"
   ]
  },
  {
   "cell_type": "code",
   "execution_count": null,
   "metadata": {
    "ExecuteTime": {
     "end_time": "2018-10-19T18:54:56.363117Z",
     "start_time": "2018-10-19T18:54:56.196523Z"
    }
   },
   "outputs": [],
   "source": [
    "# fw_id_dict = jobadmin.query_systems(\n",
    "#     system_names,\n",
    "#     step='equilibration_npt', \n",
    "#     state=[\"COMPLETED\", \"RUNNING\", \"READY\", \"WAITING\", \"RESERVED\"])"
   ]
  },
  {
   "cell_type": "code",
   "execution_count": 407,
   "metadata": {
    "ExecuteTime": {
     "end_time": "2018-10-19T19:41:25.271983Z",
     "start_time": "2018-10-19T19:40:42.779621Z"
    }
   },
   "outputs": [
    {
     "name": "stderr",
     "output_type": "stream",
     "text": [
      "WARNING:root:104 systems not present at all in subsequent step.\n"
     ]
    }
   ],
   "source": [
    "to_run_production = jobadmin.identifyIncompleteWorkflowsInScope(\n",
    "    precedent_step_name='equilibration_npt',\n",
    "    subsequent_step_name='production',\n",
    "    system_name_scope=system_names)"
   ]
  },
  {
   "cell_type": "code",
   "execution_count": 410,
   "metadata": {
    "ExecuteTime": {
     "end_time": "2018-10-19T19:42:13.733512Z",
     "start_time": "2018-10-19T19:42:13.646132Z"
    }
   },
   "outputs": [],
   "source": [
    "fw_id_dict = to_run_production"
   ]
  },
  {
   "cell_type": "code",
   "execution_count": 411,
   "metadata": {
    "ExecuteTime": {
     "end_time": "2018-10-19T19:42:18.692039Z",
     "start_time": "2018-10-19T19:42:18.636823Z"
    },
    "run_control": {
     "marked": true
    }
   },
   "outputs": [],
   "source": [
    "production_wrapper = lambda system_name: jobadmin.production(\n",
    "    system_name,\n",
    "    total_steps = 5000000, \n",
    "    lmp_suffix_template= ' '.join((\n",
    "        '-v baseName {baseName:s}',\n",
    "        '-v dataFile {dataFile:s}',\n",
    "        '-v has_indenter 0',\n",
    "        '-v pbd2d 0', # no 2d-periodic, but 3d-periodic BC\n",
    "        '-v reinitialize_velocities 0',\n",
    "        '-v use_colvars 0',\n",
    "        '-v productionSteps 5000000', # 5000000 ~ 10 ns\n",
    "        '-v mpiio 0', # does not work yet with current built, recompile\n",
    "        '-v surfactant_name SDS')) )"
   ]
  },
  {
   "cell_type": "code",
   "execution_count": 412,
   "metadata": {
    "ExecuteTime": {
     "end_time": "2018-10-19T19:42:20.511538Z",
     "start_time": "2018-10-19T19:42:20.469238Z"
    }
   },
   "outputs": [],
   "source": [
    "fw_dict = jobadmin.batch_prepare_fw( system_names, production_wrapper )"
   ]
  },
  {
   "cell_type": "code",
   "execution_count": 413,
   "metadata": {
    "ExecuteTime": {
     "end_time": "2018-10-19T19:42:21.581867Z",
     "start_time": "2018-10-19T19:42:20.750019Z"
    }
   },
   "outputs": [
    {
     "name": "stdout",
     "output_type": "stream",
     "text": [
      "Append 220_SDS_on_AU_111_51x30x2_cylinders_with_counterion to last fw_id in list [10719]\n",
      "Append 1107_SDS_on_AU_111_51x30x2_cylinders_with_counterion to last fw_id in list [10720, 7650]\n",
      "Append 1107_SDS_on_AU_111_51x30x2_monolayer_with_counterion to last fw_id in list [7234, 10721]\n",
      "Append 220_SDS_on_AU_111_51x30x2_hemicylinders_with_counterion to last fw_id in list [10722]\n",
      "Append 2214_SDS_on_AU_111_51x30x2_cylinders_with_counterion to last fw_id in list [10723]\n",
      "Append 129_SDS_on_AU_111_51x30x2_hemicylinders_with_counterion to last fw_id in list [10724]\n",
      "Append 2214_SDS_on_AU_111_51x30x2_hemicylinders_with_counterion to last fw_id in list [10725]\n",
      "Append 2214_SDS_on_AU_111_51x30x2_monolayer_with_counterion to last fw_id in list [10726]\n",
      "Append 377_SDS_on_AU_111_51x30x2_hemicylinders_with_counterion to last fw_id in list [10727]\n",
      "Append 2214_SDS_on_AU_111_51x30x2_bilayer_with_counterion to last fw_id in list [10728]\n",
      "Append 75_SDS_on_AU_111_51x30x2_hemicylinders_with_counterion to last fw_id in list [10729]\n",
      "Append 75_SDS_on_AU_111_51x30x2_cylinders_with_counterion to last fw_id in list [10730]\n",
      "Append 1107_SDS_on_AU_111_51x30x2_hemicylinders_with_counterion to last fw_id in list [10731]\n",
      "Append 129_SDS_on_AU_111_51x30x2_cylinders_with_counterion to last fw_id in list [10732]\n"
     ]
    }
   ],
   "source": [
    "jobadmin.append_wf_by_key(fw_dict, fw_id_dict)"
   ]
  },
  {
   "cell_type": "markdown",
   "metadata": {},
   "source": [
    "## Check progress and (re-) run if necessary"
   ]
  },
  {
   "cell_type": "code",
   "execution_count": null,
   "metadata": {},
   "outputs": [],
   "source": [
    "# REWORK functionality here, outdated"
   ]
  },
  {
   "cell_type": "code",
   "execution_count": null,
   "metadata": {
    "ExecuteTime": {
     "end_time": "2018-09-17T21:11:13.241348Z",
     "start_time": "2018-09-17T21:11:11.361331Z"
    }
   },
   "outputs": [],
   "source": [
    "healthy_production_runs = jobadmin.get_set_of_healthy_production_runs()"
   ]
  },
  {
   "cell_type": "code",
   "execution_count": null,
   "metadata": {
    "ExecuteTime": {
     "end_time": "2018-09-17T21:11:16.497437Z",
     "start_time": "2018-09-17T21:11:16.018264Z"
    }
   },
   "outputs": [],
   "source": [
    "completed_production_runs = jobadmin.get_set_of_evolved_systems()"
   ]
  },
  {
   "cell_type": "code",
   "execution_count": null,
   "metadata": {
    "ExecuteTime": {
     "end_time": "2018-09-17T21:13:57.899829Z",
     "start_time": "2018-09-17T21:13:57.850273Z"
    }
   },
   "outputs": [],
   "source": [
    "system_names = list(completed_production_runs & set(system_name_scope))"
   ]
  },
  {
   "cell_type": "code",
   "execution_count": null,
   "metadata": {
    "ExecuteTime": {
     "end_time": "2018-09-17T21:14:02.617098Z",
     "start_time": "2018-09-17T21:14:02.456392Z"
    }
   },
   "outputs": [],
   "source": [
    "system_names"
   ]
  },
  {
   "cell_type": "code",
   "execution_count": null,
   "metadata": {},
   "outputs": [],
   "source": [
    "incomplete_but_healthy_production_runs = healthy_production_runs - completed_production_runs"
   ]
  },
  {
   "cell_type": "code",
   "execution_count": null,
   "metadata": {},
   "outputs": [],
   "source": [
    "incomplete_but_healthy_production_runs"
   ]
  },
  {
   "cell_type": "code",
   "execution_count": null,
   "metadata": {},
   "outputs": [],
   "source": [
    "discontinued_production_runs = jobadmin.get_discontinued_production_runs()"
   ]
  },
  {
   "cell_type": "code",
   "execution_count": null,
   "metadata": {},
   "outputs": [],
   "source": [
    "discontinued_production_runs"
   ]
  },
  {
   "cell_type": "code",
   "execution_count": null,
   "metadata": {
    "ExecuteTime": {
     "end_time": "2018-09-06T15:39:45.645155Z",
     "start_time": "2018-09-06T15:39:45.288181Z"
    }
   },
   "outputs": [],
   "source": [
    "system_name_scope = system_names"
   ]
  },
  {
   "cell_type": "code",
   "execution_count": null,
   "metadata": {
    "ExecuteTime": {
     "end_time": "2018-09-06T17:34:27.225197Z",
     "start_time": "2018-09-06T17:34:24.190292Z"
    }
   },
   "outputs": [],
   "source": [
    "to_prepare = jobadmin.get_to_prepare()"
   ]
  },
  {
   "cell_type": "code",
   "execution_count": null,
   "metadata": {
    "ExecuteTime": {
     "end_time": "2018-09-06T17:34:33.039631Z",
     "start_time": "2018-09-06T17:34:32.924162Z"
    }
   },
   "outputs": [],
   "source": [
    "system_names = list( set(system_name_scope) & set(to_prepare) )"
   ]
  },
  {
   "cell_type": "code",
   "execution_count": null,
   "metadata": {
    "ExecuteTime": {
     "end_time": "2018-09-06T15:43:37.107783Z",
     "start_time": "2018-09-06T15:43:33.165416Z"
    },
    "scrolled": true
   },
   "outputs": [],
   "source": [
    "to_minimize = jobadmin.get_to_minimize()"
   ]
  },
  {
   "cell_type": "code",
   "execution_count": null,
   "metadata": {
    "ExecuteTime": {
     "end_time": "2018-09-06T15:43:38.447636Z",
     "start_time": "2018-09-06T15:43:38.320419Z"
    }
   },
   "outputs": [],
   "source": [
    "system_names = list( set(system_name_scope) & set(to_minimize) )"
   ]
  },
  {
   "cell_type": "code",
   "execution_count": null,
   "metadata": {
    "ExecuteTime": {
     "end_time": "2018-09-06T15:43:39.847894Z",
     "start_time": "2018-09-06T15:43:39.721919Z"
    }
   },
   "outputs": [],
   "source": [
    "system_names"
   ]
  },
  {
   "cell_type": "markdown",
   "metadata": {},
   "source": [
    "### NVT eq"
   ]
  },
  {
   "cell_type": "code",
   "execution_count": null,
   "metadata": {
    "ExecuteTime": {
     "end_time": "2018-09-06T17:34:44.930718Z",
     "start_time": "2018-09-06T17:34:40.522980Z"
    }
   },
   "outputs": [],
   "source": [
    "to_nvt_equilibrate = jobadmin.get_to_nvt_equlibrate()"
   ]
  },
  {
   "cell_type": "code",
   "execution_count": null,
   "metadata": {
    "ExecuteTime": {
     "end_time": "2018-09-06T17:34:46.142584Z",
     "start_time": "2018-09-06T17:34:46.050601Z"
    }
   },
   "outputs": [],
   "source": [
    "to_nvt_equilibrate"
   ]
  },
  {
   "cell_type": "code",
   "execution_count": null,
   "metadata": {
    "ExecuteTime": {
     "end_time": "2018-09-06T15:53:16.065816Z",
     "start_time": "2018-09-06T15:53:15.844511Z"
    }
   },
   "outputs": [],
   "source": [
    "system_names = list(set(to_nvt_equilibrate) & set(system_name_scope))"
   ]
  },
  {
   "cell_type": "code",
   "execution_count": null,
   "metadata": {
    "ExecuteTime": {
     "end_time": "2018-09-06T15:53:17.349268Z",
     "start_time": "2018-09-06T15:53:17.220023Z"
    }
   },
   "outputs": [],
   "source": [
    "system_names"
   ]
  },
  {
   "cell_type": "markdown",
   "metadata": {},
   "source": [
    "### NPT eq"
   ]
  },
  {
   "cell_type": "code",
   "execution_count": null,
   "metadata": {
    "ExecuteTime": {
     "end_time": "2018-09-06T15:59:47.951768Z",
     "start_time": "2018-09-06T15:59:43.042089Z"
    }
   },
   "outputs": [],
   "source": [
    "to_npt_equilibrate = jobadmin.get_to_npt_equlibrate()"
   ]
  },
  {
   "cell_type": "code",
   "execution_count": null,
   "metadata": {
    "ExecuteTime": {
     "end_time": "2018-09-06T16:00:32.316025Z",
     "start_time": "2018-09-06T16:00:32.184100Z"
    }
   },
   "outputs": [],
   "source": [
    "system_names = list(set(to_npt_equilibrate) & set(system_name_scope))"
   ]
  },
  {
   "cell_type": "code",
   "execution_count": null,
   "metadata": {
    "ExecuteTime": {
     "end_time": "2018-09-06T16:00:33.453297Z",
     "start_time": "2018-09-06T16:00:33.322389Z"
    }
   },
   "outputs": [],
   "source": [
    "system_names"
   ]
  },
  {
   "cell_type": "markdown",
   "metadata": {},
   "source": [
    "### Production"
   ]
  },
  {
   "cell_type": "code",
   "execution_count": null,
   "metadata": {
    "ExecuteTime": {
     "end_time": "2018-10-19T18:56:43.733151Z",
     "start_time": "2018-10-19T18:56:40.958799Z"
    }
   },
   "outputs": [],
   "source": [
    "to_run_production = jobadmin.get_to_run_production()"
   ]
  },
  {
   "cell_type": "code",
   "execution_count": null,
   "metadata": {
    "ExecuteTime": {
     "end_time": "2018-10-19T18:56:45.236233Z",
     "start_time": "2018-10-19T18:56:45.182864Z"
    }
   },
   "outputs": [],
   "source": [
    "system_names = list(set(to_run_production) & set(system_name_scope))"
   ]
  },
  {
   "cell_type": "code",
   "execution_count": null,
   "metadata": {
    "ExecuteTime": {
     "end_time": "2018-09-05T18:32:07.919226Z",
     "start_time": "2018-09-05T18:32:07.510698Z"
    }
   },
   "outputs": [],
   "source": [
    "# manually delete a file from Filepad db\n",
    "jobadmin.fp.delete_file(\n",
    "    identifier='1010_CTAB_on_AU_111_63x36x2_cylinders_with_counterion_psfgen.data')"
   ]
  },
  {
   "cell_type": "markdown",
   "metadata": {},
   "source": [
    "## Recovering stuff"
   ]
  },
  {
   "cell_type": "markdown",
   "metadata": {
    "ExecuteTime": {
     "end_time": "2018-09-06T16:08:07.226307Z",
     "start_time": "2018-09-06T16:08:06.821906Z"
    }
   },
   "source": [
    "### Defuse dead ends & children"
   ]
  },
  {
   "cell_type": "code",
   "execution_count": null,
   "metadata": {
    "ExecuteTime": {
     "end_time": "2018-10-19T18:57:28.304948Z",
     "start_time": "2018-10-19T18:57:28.248472Z"
    }
   },
   "outputs": [],
   "source": [
    "steps = ['prepare_system_files',\n",
    "         'minimization', \n",
    "         'equilibration_nvt', \n",
    "         'equilibration_npt',\n",
    "        ]"
   ]
  },
  {
   "cell_type": "code",
   "execution_count": null,
   "metadata": {
    "ExecuteTime": {
     "end_time": "2018-10-19T19:00:33.385872Z",
     "start_time": "2018-10-19T19:00:32.448502Z"
    }
   },
   "outputs": [],
   "source": [
    "step_fizzled_dict = {}\n",
    "for step in steps:\n",
    "    step_fizzled_dict[step] = jobadmin.query_step(\n",
    "        step = step, state_list = [\"FIZZLED\"] )"
   ]
  },
  {
   "cell_type": "code",
   "execution_count": null,
   "metadata": {
    "ExecuteTime": {
     "end_time": "2018-10-19T19:00:56.217960Z",
     "start_time": "2018-10-19T19:00:56.158106Z"
    }
   },
   "outputs": [],
   "source": [
    "# only defuse systems in scope\n",
    "reduced_step_fizzled_dict = {}\n",
    "for step, fw_id_dict in step_fizzled_dict.items():\n",
    "    reduced_step_fizzled_dict[step] = { system_name: fw_id_lst \\\n",
    "        for system_name, fw_id_lst in fw_id_dict.items() \\\n",
    "        if system_name in system_name_scope }"
   ]
  },
  {
   "cell_type": "code",
   "execution_count": null,
   "metadata": {
    "ExecuteTime": {
     "end_time": "2018-10-19T19:00:56.547060Z",
     "start_time": "2018-10-19T19:00:56.497779Z"
    }
   },
   "outputs": [],
   "source": [
    "reduced_step_fizzled_dict"
   ]
  },
  {
   "cell_type": "code",
   "execution_count": null,
   "metadata": {
    "ExecuteTime": {
     "end_time": "2018-10-19T19:00:05.381517Z",
     "start_time": "2018-10-19T18:59:43.189867Z"
    }
   },
   "outputs": [],
   "source": [
    "defused_fw_id_list = []\n",
    "for step, fw_id_dict in reduced_step_fizzled_dict.items():\n",
    "    for system_name, fw_id_lst in fw_id_dict.items():\n",
    "        for fw_id in fw_id_lst:\n",
    "            logging.info(\"Defuse {} : {} : {} and its children...\".format(\n",
    "                step, system_name, fw_id ) )\n",
    "            defused_fw_id_list.extend( jobadmin.defuse_children(fw_id) )\n",
    "        "
   ]
  },
  {
   "cell_type": "markdown",
   "metadata": {},
   "source": [
    "### Defuse misqueued step (and subsequent ones)"
   ]
  },
  {
   "cell_type": "code",
   "execution_count": 374,
   "metadata": {
    "ExecuteTime": {
     "end_time": "2018-10-19T19:27:16.009626Z",
     "start_time": "2018-10-19T19:27:15.902122Z"
    }
   },
   "outputs": [],
   "source": [
    "fw_id_dict = jobadmin.query_systems(system_names,step=\"equilibration_nvt\", state=[\"WAITING\"])"
   ]
  },
  {
   "cell_type": "code",
   "execution_count": 375,
   "metadata": {
    "ExecuteTime": {
     "end_time": "2018-10-19T19:27:16.681263Z",
     "start_time": "2018-10-19T19:27:16.617362Z"
    }
   },
   "outputs": [
    {
     "data": {
      "text/plain": [
       "{'1107_SDS_on_AU_111_51x30x2_cylinders_with_counterion': [10692],\n",
       " '1107_SDS_on_AU_111_51x30x2_hemicylinders_with_counterion': [10656],\n",
       " '1107_SDS_on_AU_111_51x30x2_monolayer_with_counterion': [],\n",
       " '129_SDS_on_AU_111_51x30x2_cylinders_with_counterion': [10657],\n",
       " '129_SDS_on_AU_111_51x30x2_hemicylinders_with_counterion': [10650],\n",
       " '220_SDS_on_AU_111_51x30x2_cylinders_with_counterion': [10646],\n",
       " '220_SDS_on_AU_111_51x30x2_hemicylinders_with_counterion': [10648],\n",
       " '2214_SDS_on_AU_111_51x30x2_bilayer_with_counterion': [10654],\n",
       " '2214_SDS_on_AU_111_51x30x2_cylinders_with_counterion': [10652],\n",
       " '2214_SDS_on_AU_111_51x30x2_hemicylinders_with_counterion': [10653],\n",
       " '2214_SDS_on_AU_111_51x30x2_monolayer_with_counterion': [10651],\n",
       " '377_SDS_on_AU_111_51x30x2_hemicylinders_with_counterion': [10647],\n",
       " '75_SDS_on_AU_111_51x30x2_cylinders_with_counterion': [10655],\n",
       " '75_SDS_on_AU_111_51x30x2_hemicylinders_with_counterion': [10649]}"
      ]
     },
     "execution_count": 375,
     "metadata": {},
     "output_type": "execute_result"
    }
   ],
   "source": [
    "fw_id_dict"
   ]
  },
  {
   "cell_type": "code",
   "execution_count": 376,
   "metadata": {
    "ExecuteTime": {
     "end_time": "2018-10-19T19:28:06.279650Z",
     "start_time": "2018-10-19T19:28:04.182207Z"
    }
   },
   "outputs": [],
   "source": [
    "defused_fw_id_list = []\n",
    "for system_name, fw_id_lst in fw_id_dict.items():\n",
    "    for fw_id in fw_id_lst:\n",
    "        logging.info(\"Defuse {} : {} : {} and its children...\".format(\n",
    "            step, system_name, fw_id ) )\n",
    "        defused_fw_id_list.extend( jobadmin.defuse_children(fw_id) )"
   ]
  },
  {
   "cell_type": "markdown",
   "metadata": {},
   "source": [
    "### Recover packmol runs\n",
    "packmol runs can fail due to walltime. However, often the (not yet converged) configurations are fine to use."
   ]
  },
  {
   "cell_type": "code",
   "execution_count": null,
   "metadata": {
    "ExecuteTime": {
     "end_time": "2018-09-06T11:57:06.456052Z",
     "start_time": "2018-09-06T11:57:05.454134Z"
    }
   },
   "outputs": [],
   "source": [
    "packmol_fw_id_dict = jobadmin.query_step(step='packmol')"
   ]
  },
  {
   "cell_type": "code",
   "execution_count": null,
   "metadata": {
    "ExecuteTime": {
     "end_time": "2018-09-06T11:57:23.232289Z",
     "start_time": "2018-09-06T11:57:23.116816Z"
    }
   },
   "outputs": [],
   "source": [
    "packmol_fw_id = packmol_fw_id_dict['1298_CTAB_on_AU_111_63x36x2_cylinders_with_counterion'][-1]"
   ]
  },
  {
   "cell_type": "code",
   "execution_count": null,
   "metadata": {
    "ExecuteTime": {
     "end_time": "2018-09-06T13:23:31.841371Z",
     "start_time": "2018-09-06T13:23:31.728892Z"
    }
   },
   "outputs": [],
   "source": [
    "packmol_fw_id"
   ]
  },
  {
   "cell_type": "code",
   "execution_count": null,
   "metadata": {
    "ExecuteTime": {
     "end_time": "2018-09-06T11:57:49.440455Z",
     "start_time": "2018-09-06T11:57:48.968994Z"
    }
   },
   "outputs": [],
   "source": [
    "packmol_launchdir = jobadmin.lpad.get_launchdir(packmol_fw_id)"
   ]
  },
  {
   "cell_type": "code",
   "execution_count": null,
   "metadata": {
    "ExecuteTime": {
     "end_time": "2018-09-06T12:02:17.550409Z",
     "start_time": "2018-09-06T12:02:16.966395Z"
    }
   },
   "outputs": [],
   "source": [
    "system_name = '1298_CTAB_on_AU_111_63x36x2_cylinders_with_counterion'"
   ]
  },
  {
   "cell_type": "code",
   "execution_count": null,
   "metadata": {
    "ExecuteTime": {
     "end_time": "2018-09-06T13:29:57.739405Z",
     "start_time": "2018-09-06T13:29:57.367822Z"
    }
   },
   "outputs": [],
   "source": [
    "# for systems with \"fizzled\" packmol tasks, append \"dummy\" restart parents\n",
    "# They run in the same directory as previous fizzled packmol and forward the latest configurations\n",
    "dummy_parent_fw_dict = {}\n",
    "for system_name in system_names:\n",
    "    packmol_launchdir = jobadmin.lpad.get_launchdir( \n",
    "        packmol_fw_id_dict[system_name][-1] )\n",
    "    dummy_parent_fw = Firework( [\n",
    "            DummyParentTask() \n",
    "        ],\n",
    "        spec = {\n",
    "            '_category':   jobadmin.std_worker,\n",
    "            '_launch_dir': packmol_launchdir,\n",
    "            '_files_out': {\n",
    "                'packmol_pdb': system_name + '_packmol.pdb',\n",
    "                'packmol_pdb_FORCED': system_name + '_packmol.pdb_FORCED'\n",
    "            },\n",
    "            'system_name': system_name,\n",
    "            'geninfo':     jobadmin.geninfo(),\n",
    "            'step':        'packmol_dummy'\n",
    "        },\n",
    "        name = system_name + '_dummy_parent'\n",
    "    )\n",
    "    dummy_parent_fw_dict[system_name] = dummy_parent_fw"
   ]
  },
  {
   "cell_type": "code",
   "execution_count": null,
   "metadata": {
    "ExecuteTime": {
     "end_time": "2018-09-06T13:30:19.510118Z",
     "start_time": "2018-09-06T13:30:18.581286Z"
    }
   },
   "outputs": [],
   "source": [
    "jobadmin.append_wf_by_key(dummy_parent_fw_dict, packmol_fw_id_dict)"
   ]
  },
  {
   "cell_type": "code",
   "execution_count": null,
   "metadata": {
    "ExecuteTime": {
     "end_time": "2018-09-06T13:31:08.448579Z",
     "start_time": "2018-09-06T13:31:07.976304Z"
    }
   },
   "outputs": [],
   "source": [
    "packmol_dummy_fw_id_dict = jobadmin.query_step('packmol_dummy')"
   ]
  },
  {
   "cell_type": "code",
   "execution_count": null,
   "metadata": {
    "ExecuteTime": {
     "end_time": "2018-09-06T13:31:13.108437Z",
     "start_time": "2018-09-06T13:31:12.950130Z"
    }
   },
   "outputs": [],
   "source": [
    "packmol_dummy_fw_id_dict"
   ]
  },
  {
   "cell_type": "code",
   "execution_count": null,
   "metadata": {
    "ExecuteTime": {
     "end_time": "2018-09-06T14:50:19.319671Z",
     "start_time": "2018-09-06T14:50:18.879649Z"
    }
   },
   "outputs": [],
   "source": [
    "system_names"
   ]
  },
  {
   "cell_type": "code",
   "execution_count": null,
   "metadata": {
    "ExecuteTime": {
     "end_time": "2018-09-06T13:34:08.426396Z",
     "start_time": "2018-09-06T13:34:08.240280Z"
    }
   },
   "outputs": [],
   "source": [
    "# delete previously written packmol results from db \n",
    "# (otherwise, will not be overwritten by recovered packmol results)\n",
    "for system_name in system_names:\n",
    "    file_id = system_name + '_psfgen.data'\n",
    "    jobadmin.fp.delete_file(file_id)"
   ]
  },
  {
   "cell_type": "code",
   "execution_count": null,
   "metadata": {
    "ExecuteTime": {
     "end_time": "2018-09-06T12:53:11.547444Z",
     "start_time": "2018-09-06T12:53:11.414084Z"
    }
   },
   "outputs": [],
   "source": [
    "# sample for a single packmol recovery task\n",
    "recover_packmol_fw = Firework( \n",
    "    RecoverPackmolTask( { \n",
    "        'dest':   output_prefix + os.sep + system_name,\n",
    "        'recover': True,\n",
    "        'glob_patterns': [ '*_restart.pack',\n",
    "            '*_packmol.pdb', '*_packmol.pdb_FORCED', '*_packmol.inp'],\n",
    "        'forward_glob_patterns': { \n",
    "            \"packmol_pdb\" : [\"*_packmol.pdb_FORCED\", \"*_packmol.pdb\"] }\n",
    "    } ),\n",
    "    spec = {\n",
    "        '_category':   jobadmin.std_worker,\n",
    "        '_files_in': {\n",
    "            'packmol_pdb': system_name + '_packmol.pdb',\n",
    "            'packmol_pdb_FORCED': system_name + '_packmol.pdb_FORCED'\n",
    "        },\n",
    "        'system_name': system_name,\n",
    "        'step':        'recover_packmol',\n",
    "        'geninfo':     jobadmin.geninfo()\n",
    "    },\n",
    "    name = system_name + '_recover_packmol'\n",
    ")"
   ]
  },
  {
   "cell_type": "code",
   "execution_count": null,
   "metadata": {
    "ExecuteTime": {
     "end_time": "2018-09-06T12:53:15.313006Z",
     "start_time": "2018-09-06T12:53:14.925926Z"
    }
   },
   "outputs": [],
   "source": [
    "jobadmin.lpad.append_wf( Workflow( [ recover_packmol_fw ] ), [8976] )"
   ]
  },
  {
   "cell_type": "markdown",
   "metadata": {},
   "source": [
    "## Append data file strorage\n",
    "after successfull production, insert final configurationms into database"
   ]
  },
  {
   "cell_type": "code",
   "execution_count": null,
   "metadata": {},
   "outputs": [],
   "source": [
    "# first, identify files not yet stored"
   ]
  },
  {
   "cell_type": "code",
   "execution_count": 320,
   "metadata": {
    "ExecuteTime": {
     "end_time": "2018-10-19T19:12:37.407871Z",
     "start_time": "2018-10-19T19:12:37.023472Z"
    }
   },
   "outputs": [],
   "source": [
    "# completed_productions_dict = jobadmin.query_systems(\n",
    "#     system_name_scope, step=\"10ns_production_mixed\", state=[\"COMPLETED\"])"
   ]
  },
  {
   "cell_type": "code",
   "execution_count": 414,
   "metadata": {
    "ExecuteTime": {
     "end_time": "2018-10-19T19:43:48.872802Z",
     "start_time": "2018-10-19T19:43:48.220720Z"
    }
   },
   "outputs": [],
   "source": [
    "completed_productions_dict = jobadmin.query_step(step=\"10ns_production_mixed\", state_list=[\"COMPLETED\"])"
   ]
  },
  {
   "cell_type": "code",
   "execution_count": 418,
   "metadata": {
    "ExecuteTime": {
     "end_time": "2018-10-19T19:45:00.642159Z",
     "start_time": "2018-10-19T19:45:00.008924Z"
    }
   },
   "outputs": [],
   "source": [
    "completed_store_data_file_dict = jobadmin.query_step(step=\"store_data_file\", state_list=[\"COMPLETED\"])"
   ]
  },
  {
   "cell_type": "code",
   "execution_count": 423,
   "metadata": {
    "ExecuteTime": {
     "end_time": "2018-10-19T19:47:12.319465Z",
     "start_time": "2018-10-19T19:47:12.258853Z"
    }
   },
   "outputs": [],
   "source": [
    "# only check for current system_name_scope\n",
    "system_names = list( \n",
    "    ( set(completed_10ns_productions_dict.keys()) - \n",
    "         set(completed_store_data_file_dict.keys() ) ) & set(system_name_scope)\n",
    ")\n",
    "\n",
    "# or for all systems\n",
    "# system_names = list(set(system_names) & set(system_name_scope))"
   ]
  },
  {
   "cell_type": "code",
   "execution_count": 415,
   "metadata": {
    "ExecuteTime": {
     "end_time": "2018-10-19T19:43:52.204601Z",
     "start_time": "2018-10-19T19:43:52.145898Z"
    }
   },
   "outputs": [],
   "source": [
    "uncompleted_productions_in_scope = set(system_name_scope) - set(completed_productions_dict.keys())"
   ]
  },
  {
   "cell_type": "code",
   "execution_count": null,
   "metadata": {
    "ExecuteTime": {
     "end_time": "2018-09-23T16:49:45.414006Z",
     "start_time": "2018-09-23T16:49:45.299573Z"
    }
   },
   "outputs": [],
   "source": [
    "fw_id_dict = jobadmin.query_systems(system_names, step='10ns_production_mixed', state='COMPLETED')"
   ]
  },
  {
   "cell_type": "code",
   "execution_count": null,
   "metadata": {
    "ExecuteTime": {
     "end_time": "2018-09-23T16:49:51.505618Z",
     "start_time": "2018-09-23T16:49:51.439099Z"
    }
   },
   "outputs": [],
   "source": [
    "fw_id_dict"
   ]
  },
  {
   "cell_type": "code",
   "execution_count": null,
   "metadata": {
    "ExecuteTime": {
     "end_time": "2018-09-23T16:50:12.509365Z",
     "start_time": "2018-09-23T16:50:12.446814Z"
    }
   },
   "outputs": [],
   "source": [
    "fw_dict = jobadmin.batch_prepare_fw( system_names, jobadmin.store_data_file )"
   ]
  },
  {
   "cell_type": "code",
   "execution_count": null,
   "metadata": {
    "ExecuteTime": {
     "end_time": "2018-09-23T16:50:13.196410Z",
     "start_time": "2018-09-23T16:50:13.134090Z"
    }
   },
   "outputs": [],
   "source": [
    "len(fw_dict)"
   ]
  },
  {
   "cell_type": "code",
   "execution_count": null,
   "metadata": {
    "ExecuteTime": {
     "end_time": "2018-09-23T16:50:15.359638Z",
     "start_time": "2018-09-23T16:50:14.586948Z"
    }
   },
   "outputs": [],
   "source": [
    "jobadmin.append_wf_by_key(fw_dict, fw_id_dict)"
   ]
  },
  {
   "cell_type": "code",
   "execution_count": null,
   "metadata": {},
   "outputs": [],
   "source": [
    "# identify fizzled fireworks and rerun"
   ]
  },
  {
   "cell_type": "code",
   "execution_count": null,
   "metadata": {
    "ExecuteTime": {
     "end_time": "2018-09-23T16:50:19.038611Z",
     "start_time": "2018-09-23T16:50:18.709605Z"
    }
   },
   "outputs": [],
   "source": [
    "fizzled_fw_id_dict = jobadmin.query_step(\n",
    "    step='store_data_file', \n",
    "    state_list=[\"FIZZLED\"])"
   ]
  },
  {
   "cell_type": "code",
   "execution_count": null,
   "metadata": {
    "ExecuteTime": {
     "end_time": "2018-09-23T16:50:20.453105Z",
     "start_time": "2018-09-23T16:50:20.356963Z"
    }
   },
   "outputs": [],
   "source": [
    "fizzled_fw_id_dict"
   ]
  },
  {
   "cell_type": "code",
   "execution_count": null,
   "metadata": {
    "ExecuteTime": {
     "end_time": "2018-09-17T22:04:04.852276Z",
     "start_time": "2018-09-17T22:04:04.652704Z"
    }
   },
   "outputs": [],
   "source": [
    "for key, fw_id_lst in fizzled_fw_id_dict.items():\n",
    "    jobadmin.lpad.rerun_fw(fw_id_lst[-1], rerun_duplicates=False)"
   ]
  },
  {
   "cell_type": "code",
   "execution_count": null,
   "metadata": {
    "ExecuteTime": {
     "end_time": "2018-09-17T21:56:07.466233Z",
     "start_time": "2018-09-17T21:56:07.078421Z"
    }
   },
   "outputs": [],
   "source": [
    "fizzled_fw_id_dict = jobadmin.query_systems(\n",
    "    system_names, \n",
    "    step='store_data_file', \n",
    "    state=[\"FIZZLED\"])"
   ]
  },
  {
   "cell_type": "markdown",
   "metadata": {},
   "source": [
    "# Indenter systems\n"
   ]
  },
  {
   "cell_type": "markdown",
   "metadata": {},
   "source": [
    "## Query finished interface productions"
   ]
  },
  {
   "cell_type": "code",
   "execution_count": null,
   "metadata": {
    "ExecuteTime": {
     "end_time": "2018-09-18T21:42:57.911467Z",
     "start_time": "2018-09-18T21:42:57.720753Z"
    }
   },
   "outputs": [],
   "source": [
    "# # original SDS systems without indenter\n",
    "# system_name_scope = list( sim_df[ \n",
    "#         sim_df['indenter'].isna() & \\\n",
    "#         (sim_df['surfactant'] == 'SDS')\n",
    "#     ].index )"
   ]
  },
  {
   "cell_type": "code",
   "execution_count": 52,
   "metadata": {
    "ExecuteTime": {
     "end_time": "2018-10-19T19:50:10.080258Z",
     "start_time": "2018-10-19T19:50:09.405658Z"
    }
   },
   "outputs": [],
   "source": [
    "fw_id_dict = jobadmin.query_step(\n",
    "    step='store_data_file', \n",
    "    state_list=[\"COMPLETED\", \"RUNNING\", \"READY\", \"WAITING\", \"RESERVED\"])"
   ]
  },
  {
   "cell_type": "code",
   "execution_count": 53,
   "metadata": {
    "ExecuteTime": {
     "end_time": "2018-10-19T19:50:10.794019Z",
     "start_time": "2018-10-19T19:50:10.737014Z"
    }
   },
   "outputs": [
    {
     "data": {
      "text/plain": [
       "50"
      ]
     },
     "execution_count": 53,
     "metadata": {},
     "output_type": "execute_result"
    }
   ],
   "source": [
    "len(fw_id_dict)"
   ]
  },
  {
   "cell_type": "code",
   "execution_count": 54,
   "metadata": {
    "ExecuteTime": {
     "end_time": "2018-10-19T19:50:15.982444Z",
     "start_time": "2018-10-19T19:50:15.925141Z"
    }
   },
   "outputs": [],
   "source": [
    "system_names = set(system_name_scope) & set(fw_id_dict.keys())"
   ]
  },
  {
   "cell_type": "code",
   "execution_count": 55,
   "metadata": {
    "ExecuteTime": {
     "end_time": "2018-10-19T20:09:00.850742Z",
     "start_time": "2018-10-19T20:09:00.789518Z"
    }
   },
   "outputs": [
    {
     "data": {
      "text/plain": [
       "13"
      ]
     },
     "execution_count": 55,
     "metadata": {},
     "output_type": "execute_result"
    }
   ],
   "source": [
    "len(system_names)"
   ]
  },
  {
   "cell_type": "code",
   "execution_count": 56,
   "metadata": {},
   "outputs": [
    {
     "data": {
      "text/plain": [
       "{'1107_SDS_on_AU_111_51x30x2_bilayer_with_counterion',\n",
       " '129_SDS_on_AU_111_51x30x2_monolayer_with_counterion',\n",
       " '220_SDS_on_AU_111_51x30x2_bilayer_with_counterion',\n",
       " '220_SDS_on_AU_111_51x30x2_monolayer_with_counterion',\n",
       " '377_SDS_on_AU_111_51x30x2_bilayer_with_counterion',\n",
       " '377_SDS_on_AU_111_51x30x2_cylinders_with_counterion',\n",
       " '377_SDS_on_AU_111_51x30x2_monolayer_with_counterion',\n",
       " '646_SDS_on_AU_111_51x30x2_bilayer_with_counterion',\n",
       " '646_SDS_on_AU_111_51x30x2_cylinders_with_counterion',\n",
       " '646_SDS_on_AU_111_51x30x2_hemicylinders_with_counterion',\n",
       " '646_SDS_on_AU_111_51x30x2_monolayer_with_counterion',\n",
       " '75_SDS_on_AU_111_51x30x2_bilayer_with_counterion',\n",
       " '75_SDS_on_AU_111_51x30x2_monolayer_with_counterion'}"
      ]
     },
     "execution_count": 56,
     "metadata": {},
     "output_type": "execute_result"
    }
   ],
   "source": [
    "system_names"
   ]
  },
  {
   "cell_type": "code",
   "execution_count": 59,
   "metadata": {},
   "outputs": [
    {
     "data": {
      "text/plain": [
       "221"
      ]
     },
     "execution_count": 59,
     "metadata": {},
     "output_type": "execute_result"
    }
   ],
   "source": [
    "jobadmin.fp.count()"
   ]
  },
  {
   "cell_type": "code",
   "execution_count": 58,
   "metadata": {},
   "outputs": [
    {
     "data": {
      "text/plain": [
       "113"
      ]
     },
     "execution_count": 58,
     "metadata": {},
     "output_type": "execute_result"
    }
   ],
   "source": [
    "jobadmin.fp.count(filter={'identifier': {'$regex': '.*SDS.*'}})"
   ]
  },
  {
   "cell_type": "code",
   "execution_count": 69,
   "metadata": {},
   "outputs": [
    {
     "name": "stdout",
     "output_type": "stream",
     "text": [
      "1107_SDS_on_AU_111_51x30x2_bilayer_with_counterion_10ns.lammps\n",
      "1107_SDS_on_AU_111_51x30x2_inverse_monolayer_with_counterion_10ns.lammps\n",
      "129_SDS_on_AU_111_51x30x2_inverse_monolayer_with_counterion_10ns.lammps\n",
      "129_SDS_on_AU_111_51x30x2_monolayer_with_counterion_10ns.lammps\n",
      "220_SDS_on_AU_111_51x30x2_bilayer_with_counterion_10ns.lammps\n",
      "220_SDS_on_AU_111_51x30x2_inverse_monolayer_with_counterion_10ns.lammps\n",
      "220_SDS_on_AU_111_51x30x2_monolayer_with_counterion_10ns.lammps\n",
      "377_SDS_on_AU_111_51x30x2_bilayer_with_counterion_10ns.lammps\n",
      "377_SDS_on_AU_111_51x30x2_cylinders_with_counterion_10ns.lammps\n",
      "377_SDS_on_AU_111_51x30x2_inverse_monolayer_with_counterion_10ns.lammps\n",
      "377_SDS_on_AU_111_51x30x2_monolayer_with_counterion_10ns.lammps\n",
      "646_SDS_on_AU_111_51x30x2_bilayer_with_counterion_10ns.lammps\n",
      "646_SDS_on_AU_111_51x30x2_cylinders_with_counterion_10ns.lammps\n",
      "646_SDS_on_AU_111_51x30x2_hemicylinders_with_counterion_10ns.lammps\n",
      "646_SDS_on_AU_111_51x30x2_inverse_monolayer_with_counterion_10ns.lammps\n",
      "646_SDS_on_AU_111_51x30x2_monolayer_with_counterion_10ns.lammps\n",
      "75_SDS_on_AU_111_51x30x2_bilayer_with_counterion_10ns.lammps\n",
      "75_SDS_on_AU_111_51x30x2_inverse_monolayer_with_counterion_10ns.lammps\n",
      "75_SDS_on_AU_111_51x30x2_monolayer_with_counterion_10ns.lammps\n"
     ]
    }
   ],
   "source": [
    "# Display files stored in filepad\n",
    "for p in jobadmin.fp.filepad.find( { 'identifier': {'$regex': '.*SDS_on_AU_111_51x30x2_.*_10ns\\.lammps'}}):\n",
    "    print(p['identifier'])"
   ]
  },
  {
   "cell_type": "markdown",
   "metadata": {},
   "source": [
    "## Workflow build up"
   ]
  },
  {
   "cell_type": "markdown",
   "metadata": {},
   "source": [
    "### Initiate indenter workflows"
   ]
  },
  {
   "cell_type": "code",
   "execution_count": 42,
   "metadata": {
    "ExecuteTime": {
     "end_time": "2018-10-19T20:09:04.190684Z",
     "start_time": "2018-10-19T20:09:04.132565Z"
    }
   },
   "outputs": [],
   "source": [
    "interface_file_suffix = '_10ns.lammps'\n",
    "indenter = '50Ang_stepped'\n",
    "indenter_file = '50Ang_stepped.pdb'"
   ]
  },
  {
   "cell_type": "code",
   "execution_count": 43,
   "metadata": {},
   "outputs": [],
   "source": [
    "system_names = ['646_SDS_on_AU_111_51x30x2_hemicylinders_with_counterion']"
   ]
  },
  {
   "cell_type": "code",
   "execution_count": 44,
   "metadata": {
    "ExecuteTime": {
     "end_time": "2018-10-19T20:09:14.694628Z",
     "start_time": "2018-10-19T20:09:14.636326Z"
    }
   },
   "outputs": [
    {
     "data": {
      "text/plain": [
       "1"
      ]
     },
     "execution_count": 44,
     "metadata": {},
     "output_type": "execute_result"
    }
   ],
   "source": [
    "len(system_names)"
   ]
  },
  {
   "cell_type": "code",
   "execution_count": 45,
   "metadata": {
    "ExecuteTime": {
     "end_time": "2018-10-19T20:09:16.606371Z",
     "start_time": "2018-10-19T20:09:16.547547Z"
    }
   },
   "outputs": [],
   "source": [
    "# construct names for new systems containing indenter\n",
    "indenter_system_names_dict = {}\n",
    "for system_name in system_names:\n",
    "    indenter_system_names_dict[ system_name + '_' + indenter ] = system_name "
   ]
  },
  {
   "cell_type": "code",
   "execution_count": 46,
   "metadata": {
    "ExecuteTime": {
     "end_time": "2018-10-19T20:12:36.235143Z",
     "start_time": "2018-10-19T20:12:35.979396Z"
    }
   },
   "outputs": [],
   "source": [
    "# SDS systems with indenter\n",
    "system_name_scope = list( sim_df[ \n",
    "        (sim_df['indenter'] ==  indenter) & \\\n",
    "        (sim_df['surfactant'] == 'SDS')\n",
    "    ].index )"
   ]
  },
  {
   "cell_type": "code",
   "execution_count": 47,
   "metadata": {},
   "outputs": [
    {
     "data": {
      "text/plain": [
       "['1107_SDS_on_AU_111_51x30x2_bilayer_with_counterion_50Ang_stepped',\n",
       " '1107_SDS_on_AU_111_51x30x2_cylinders_with_counterion_50Ang_stepped',\n",
       " '1107_SDS_on_AU_111_51x30x2_hemicylinders_with_counterion_50Ang_stepped',\n",
       " '1107_SDS_on_AU_111_51x30x2_inverse_monolayer_with_counterion_50Ang_stepped',\n",
       " '1107_SDS_on_AU_111_51x30x2_monolayer_with_counterion_50Ang_stepped',\n",
       " '129_SDS_on_AU_111_51x30x2_bilayer_with_counterion_50Ang_stepped',\n",
       " '129_SDS_on_AU_111_51x30x2_cylinders_with_counterion_50Ang_stepped',\n",
       " '129_SDS_on_AU_111_51x30x2_hemicylinders_with_counterion_50Ang_stepped',\n",
       " '129_SDS_on_AU_111_51x30x2_inverse_monolayer_with_counterion_50Ang_stepped',\n",
       " '129_SDS_on_AU_111_51x30x2_monolayer_with_counterion_50Ang_stepped',\n",
       " '220_SDS_on_AU_111_51x30x2_bilayer_with_counterion_50Ang_stepped',\n",
       " '220_SDS_on_AU_111_51x30x2_cylinders_with_counterion_50Ang_stepped',\n",
       " '220_SDS_on_AU_111_51x30x2_hemicylinders_with_counterion_50Ang_stepped',\n",
       " '220_SDS_on_AU_111_51x30x2_inverse_monolayer_with_counterion_50Ang_stepped',\n",
       " '220_SDS_on_AU_111_51x30x2_monolayer_with_counterion_50Ang_stepped',\n",
       " '2214_SDS_on_AU_111_51x30x2_bilayer_with_counterion_50Ang_stepped',\n",
       " '2214_SDS_on_AU_111_51x30x2_cylinders_with_counterion_50Ang_stepped',\n",
       " '2214_SDS_on_AU_111_51x30x2_hemicylinders_with_counterion_50Ang_stepped',\n",
       " '2214_SDS_on_AU_111_51x30x2_inverse_monolayer_with_counterion_50Ang_stepped',\n",
       " '2214_SDS_on_AU_111_51x30x2_monolayer_with_counterion_50Ang_stepped',\n",
       " '377_SDS_on_AU_111_51x30x2_bilayer_with_counterion_50Ang_stepped',\n",
       " '377_SDS_on_AU_111_51x30x2_cylinders_with_counterion_50Ang_stepped',\n",
       " '377_SDS_on_AU_111_51x30x2_hemicylinders_with_counterion_50Ang_stepped',\n",
       " '377_SDS_on_AU_111_51x30x2_inverse_monolayer_with_counterion_50Ang_stepped',\n",
       " '377_SDS_on_AU_111_51x30x2_monolayer_with_counterion_50Ang_stepped',\n",
       " '646_SDS_on_AU_111_51x30x2_bilayer_with_counterion_50Ang_stepped',\n",
       " '646_SDS_on_AU_111_51x30x2_cylinders_with_counterion_50Ang_stepped',\n",
       " '646_SDS_on_AU_111_51x30x2_hemicylinders_with_counterion_50Ang_stepped',\n",
       " '646_SDS_on_AU_111_51x30x2_inverse_monolayer_with_counterion_50Ang_stepped',\n",
       " '646_SDS_on_AU_111_51x30x2_monolayer_with_counterion_50Ang_stepped',\n",
       " '75_SDS_on_AU_111_51x30x2_bilayer_with_counterion_50Ang_stepped',\n",
       " '75_SDS_on_AU_111_51x30x2_cylinders_with_counterion_50Ang_stepped',\n",
       " '75_SDS_on_AU_111_51x30x2_hemicylinders_with_counterion_50Ang_stepped',\n",
       " '75_SDS_on_AU_111_51x30x2_inverse_monolayer_with_counterion_50Ang_stepped',\n",
       " '75_SDS_on_AU_111_51x30x2_monolayer_with_counterion_50Ang_stepped']"
      ]
     },
     "execution_count": 47,
     "metadata": {},
     "output_type": "execute_result"
    }
   ],
   "source": [
    "system_name_scope"
   ]
  },
  {
   "cell_type": "code",
   "execution_count": 48,
   "metadata": {
    "ExecuteTime": {
     "end_time": "2018-10-19T20:12:54.962612Z",
     "start_time": "2018-10-19T20:12:54.901339Z"
    }
   },
   "outputs": [],
   "source": [
    "system_names = set(indenter_system_names_dict.keys()) & set(system_name_scope)"
   ]
  },
  {
   "cell_type": "code",
   "execution_count": 49,
   "metadata": {},
   "outputs": [
    {
     "data": {
      "text/plain": [
       "{'646_SDS_on_AU_111_51x30x2_hemicylinders_with_counterion_50Ang_stepped'}"
      ]
     },
     "execution_count": 49,
     "metadata": {},
     "output_type": "execute_result"
    }
   ],
   "source": [
    "system_names"
   ]
  },
  {
   "cell_type": "code",
   "execution_count": 51,
   "metadata": {
    "ExecuteTime": {
     "end_time": "2018-10-19T20:12:55.320100Z",
     "start_time": "2018-10-19T20:12:55.266882Z"
    }
   },
   "outputs": [
    {
     "data": {
      "text/plain": [
       "1"
      ]
     },
     "execution_count": 51,
     "metadata": {},
     "output_type": "execute_result"
    }
   ],
   "source": [
    "len(system_names)"
   ]
  },
  {
   "cell_type": "code",
   "execution_count": 52,
   "metadata": {
    "ExecuteTime": {
     "end_time": "2018-10-19T20:13:11.331823Z",
     "start_time": "2018-10-19T20:13:11.272165Z"
    }
   },
   "outputs": [
    {
     "data": {
      "text/plain": [
       "'Generated on Mon Feb  4 15:55:11 2019 by testuser@jlh-cloud-28jan19'"
      ]
     },
     "execution_count": 52,
     "metadata": {},
     "output_type": "execute_result"
    }
   ],
   "source": [
    "jobadmin.geninfo(reset=True,static_str=geninfo)"
   ]
  },
  {
   "cell_type": "code",
   "execution_count": 80,
   "metadata": {
    "ExecuteTime": {
     "end_time": "2018-10-19T20:15:22.714370Z",
     "start_time": "2018-10-19T20:15:22.420334Z"
    }
   },
   "outputs": [
    {
     "name": "stdout",
     "output_type": "stream",
     "text": [
      "2019-02-03 13:55:03,309 INFO Added a workflow. id_map: {-2: 11312}\n"
     ]
    },
    {
     "name": "stderr",
     "output_type": "stream",
     "text": [
      "INFO:launchpad:Added a workflow. id_map: {-2: 11312}\n"
     ]
    }
   ],
   "source": [
    "for system_name in system_names:\n",
    "    interface_file = indenter_system_names_dict[system_name] + interface_file_suffix\n",
    "    fw = jobadmin.initiate_indenter_workflow(\n",
    "        system_name, \n",
    "        interface_file = interface_file, \n",
    "        indenter_file  = indenter_file )\n",
    "    jobadmin.lpad.add_wf( Workflow( [ fw ], name = system_name ) )"
   ]
  },
  {
   "cell_type": "code",
   "execution_count": 81,
   "metadata": {
    "ExecuteTime": {
     "end_time": "2018-10-19T20:15:54.417117Z",
     "start_time": "2018-10-19T20:15:54.360500Z"
    }
   },
   "outputs": [
    {
     "data": {
      "text/plain": [
       "'convert \"{infile:s}\" \"{outfile:s}\"'"
      ]
     },
     "execution_count": 81,
     "metadata": {},
     "output_type": "execute_result"
    }
   ],
   "source": [
    "# convert is used to turn tga into png (not crucial)\n",
    "jobadmin._template_convert_cmd"
   ]
  },
  {
   "cell_type": "markdown",
   "metadata": {},
   "source": [
    "### Indenter insertion"
   ]
  },
  {
   "cell_type": "code",
   "execution_count": 53,
   "metadata": {
    "ExecuteTime": {
     "end_time": "2018-10-19T20:22:59.844040Z",
     "start_time": "2018-10-19T20:22:59.633316Z"
    }
   },
   "outputs": [
    {
     "data": {
      "text/plain": [
       "{'646_SDS_on_AU_111_51x30x2_hemicylinders_with_counterion_50Ang_stepped'}"
      ]
     },
     "execution_count": 53,
     "metadata": {},
     "output_type": "execute_result"
    }
   ],
   "source": [
    "system_names"
   ]
  },
  {
   "cell_type": "code",
   "execution_count": 83,
   "metadata": {
    "ExecuteTime": {
     "end_time": "2018-10-19T20:16:16.584671Z",
     "start_time": "2018-10-19T20:16:16.366466Z"
    }
   },
   "outputs": [],
   "source": [
    "# fw_id_dict = jobadmin.query_systems(\n",
    "#     system_names,\n",
    "#     step='initiate_indenter_workflow', \n",
    "#     state=[\"COMPLETED\", \"RUNNING\", \"READY\", \"WAITING\", \"RESERVED\"])"
   ]
  },
  {
   "cell_type": "code",
   "execution_count": 84,
   "metadata": {
    "ExecuteTime": {
     "end_time": "2018-10-19T20:28:03.248340Z",
     "start_time": "2018-10-19T20:27:56.321924Z"
    }
   },
   "outputs": [],
   "source": [
    "to_insert_indenter = jobadmin.identifyIncompleteWorkflowsInScope(\n",
    "    precedent_step_name='initiate_indenter_workflow',\n",
    "    subsequent_step_name='indenter_insertion',\n",
    "    system_name_scope=system_name_scope)"
   ]
  },
  {
   "cell_type": "code",
   "execution_count": 93,
   "metadata": {},
   "outputs": [
    {
     "data": {
      "text/plain": [
       "{'646_SDS_on_AU_111_51x30x2_hemicylinders_with_counterion_50Ang_stepped': [11312]}"
      ]
     },
     "execution_count": 93,
     "metadata": {},
     "output_type": "execute_result"
    }
   ],
   "source": [
    "to_insert_indenter"
   ]
  },
  {
   "cell_type": "code",
   "execution_count": 94,
   "metadata": {
    "ExecuteTime": {
     "end_time": "2018-10-19T20:28:15.068051Z",
     "start_time": "2018-10-19T20:28:15.009796Z"
    }
   },
   "outputs": [],
   "source": [
    "fw_id_dict = to_insert_indenter"
   ]
  },
  {
   "cell_type": "code",
   "execution_count": 102,
   "metadata": {
    "ExecuteTime": {
     "end_time": "2018-10-19T20:28:15.423375Z",
     "start_time": "2018-10-19T20:28:15.368680Z"
    }
   },
   "outputs": [],
   "source": [
    "indenter_insertion_wrapper = lambda system_name: \\\n",
    "    jobadmin.indenter_insertion(\n",
    "        system_name, fworker='bwcloud_noqueue', desired_distance=75.0 ) # Ang"
   ]
  },
  {
   "cell_type": "code",
   "execution_count": 103,
   "metadata": {
    "ExecuteTime": {
     "end_time": "2018-10-19T20:28:19.294612Z",
     "start_time": "2018-10-19T20:28:19.230154Z"
    }
   },
   "outputs": [],
   "source": [
    "fw_dict = jobadmin.batch_prepare_fw( system_names, indenter_insertion_wrapper )"
   ]
  },
  {
   "cell_type": "code",
   "execution_count": 104,
   "metadata": {
    "ExecuteTime": {
     "end_time": "2018-10-19T20:28:24.597107Z",
     "start_time": "2018-10-19T20:28:24.303592Z"
    }
   },
   "outputs": [
    {
     "name": "stdout",
     "output_type": "stream",
     "text": [
      "Append 646_SDS_on_AU_111_51x30x2_hemicylinders_with_counterion_50Ang_stepped to last fw_id in list [11312]\n"
     ]
    }
   ],
   "source": [
    "jobadmin.append_wf_by_key( fw_dict, fw_id_dict )"
   ]
  },
  {
   "cell_type": "markdown",
   "metadata": {},
   "source": [
    "### Datafile merge"
   ]
  },
  {
   "cell_type": "code",
   "execution_count": 108,
   "metadata": {
    "ExecuteTime": {
     "end_time": "2018-09-18T22:52:53.011098Z",
     "start_time": "2018-09-18T22:52:52.825779Z"
    }
   },
   "outputs": [],
   "source": [
    "# fw_id_dict = jobadmin.query_systems(\n",
    "#     system_names,\n",
    "#     step='indenter_insertion', \n",
    "#     state=[\"COMPLETED\", \"RUNNING\", \"READY\", \"WAITING\", \"RESERVED\"])"
   ]
  },
  {
   "cell_type": "code",
   "execution_count": 109,
   "metadata": {
    "ExecuteTime": {
     "end_time": "2018-10-19T22:34:39.180798Z",
     "start_time": "2018-10-19T22:34:25.629854Z"
    }
   },
   "outputs": [
    {
     "name": "stderr",
     "output_type": "stream",
     "text": [
      "WARNING:root:1 systems not present at all in subsequent step.\n"
     ]
    }
   ],
   "source": [
    "to_merge_datafiles = jobadmin.identifyIncompleteWorkflowsInScope(\n",
    "    precedent_step_name='indenter_insertion',\n",
    "    subsequent_step_name='pizzapy_merge',\n",
    "    system_name_scope=system_name_scope)"
   ]
  },
  {
   "cell_type": "code",
   "execution_count": 110,
   "metadata": {},
   "outputs": [
    {
     "data": {
      "text/plain": [
       "{'646_SDS_on_AU_111_51x30x2_hemicylinders_with_counterion_50Ang_stepped': [11313]}"
      ]
     },
     "execution_count": 110,
     "metadata": {},
     "output_type": "execute_result"
    }
   ],
   "source": [
    "to_merge_datafiles"
   ]
  },
  {
   "cell_type": "code",
   "execution_count": 111,
   "metadata": {
    "ExecuteTime": {
     "end_time": "2018-10-19T22:35:59.489450Z",
     "start_time": "2018-10-19T22:35:59.434932Z"
    }
   },
   "outputs": [],
   "source": [
    "fw_id_dict = to_merge_datafiles"
   ]
  },
  {
   "cell_type": "code",
   "execution_count": 112,
   "metadata": {
    "ExecuteTime": {
     "end_time": "2018-10-19T22:36:02.866231Z",
     "start_time": "2018-10-19T22:36:02.807258Z"
    }
   },
   "outputs": [
    {
     "data": {
      "text/plain": [
       "'module load MDTools/jlh-25Jan19-python-2.7; pizza.py -f merge.py \"{datafile:s}\" \"{reffile:s}\" \"{outfile:s}\"'"
      ]
     },
     "execution_count": 112,
     "metadata": {},
     "output_type": "execute_result"
    }
   ],
   "source": [
    "jobadmin._template_pizzapy_merge_cmd"
   ]
  },
  {
   "cell_type": "code",
   "execution_count": 113,
   "metadata": {
    "ExecuteTime": {
     "end_time": "2018-10-19T22:36:04.891894Z",
     "start_time": "2018-10-19T22:36:04.836008Z"
    }
   },
   "outputs": [],
   "source": [
    "merge_datafile_wrapper = lambda system_name: \\\n",
    "    jobadmin.add_parameters_to_datafile_and_store(\n",
    "        system_name, indenter_suffix = '_50Ang_stepped' )"
   ]
  },
  {
   "cell_type": "code",
   "execution_count": 114,
   "metadata": {
    "ExecuteTime": {
     "end_time": "2018-10-19T22:36:47.493695Z",
     "start_time": "2018-10-19T22:36:47.351325Z"
    }
   },
   "outputs": [],
   "source": [
    "fw_dict = jobadmin.batch_prepare_fw(system_names, \n",
    "                                    merge_datafile_wrapper)"
   ]
  },
  {
   "cell_type": "code",
   "execution_count": 115,
   "metadata": {
    "ExecuteTime": {
     "end_time": "2018-10-19T22:36:49.438446Z",
     "start_time": "2018-10-19T22:36:49.006096Z"
    }
   },
   "outputs": [
    {
     "name": "stdout",
     "output_type": "stream",
     "text": [
      "Append 646_SDS_on_AU_111_51x30x2_hemicylinders_with_counterion_50Ang_stepped to last fw_id in list [11313]\n"
     ]
    }
   ],
   "source": [
    "jobadmin.append_wf_by_key(fw_dict, fw_id_dict)"
   ]
  },
  {
   "cell_type": "code",
   "execution_count": 199,
   "metadata": {},
   "outputs": [
    {
     "data": {
      "text/plain": [
       "b'\\xe2\\x80\\x99'"
      ]
     },
     "execution_count": 199,
     "metadata": {},
     "output_type": "execute_result"
    }
   ],
   "source": [
    "'\\u2019'.encode()\n"
   ]
  },
  {
   "cell_type": "markdown",
   "metadata": {},
   "source": [
    "### Pull file from DB (migrate machine)\n",
    "this step is only necessary if changeing file system for subsequent steps"
   ]
  },
  {
   "cell_type": "code",
   "execution_count": 116,
   "metadata": {
    "ExecuteTime": {
     "end_time": "2018-09-19T09:17:34.959374Z",
     "start_time": "2018-09-19T09:17:34.802896Z"
    }
   },
   "outputs": [],
   "source": [
    "fw_id_dict = jobadmin.query_systems(\n",
    "    system_names,\n",
    "    step='pizzapy_merge', \n",
    "    state=[\"COMPLETED\", \"RUNNING\", \"READY\", \"WAITING\", \"RESERVED\"])"
   ]
  },
  {
   "cell_type": "code",
   "execution_count": 130,
   "metadata": {},
   "outputs": [],
   "source": [
    "pull_datafile_wrapper = lambda system_name: \\\n",
    "    jobadmin.pull_datafile_from_db(\n",
    "        system_name, fworker='nemo_noqueue' )"
   ]
  },
  {
   "cell_type": "code",
   "execution_count": 131,
   "metadata": {
    "ExecuteTime": {
     "end_time": "2018-09-19T09:28:32.434691Z",
     "start_time": "2018-09-19T09:28:32.200557Z"
    }
   },
   "outputs": [],
   "source": [
    "fw_dict = jobadmin.batch_prepare_fw( system_names, pull_datafile_wrapper )"
   ]
  },
  {
   "cell_type": "code",
   "execution_count": 132,
   "metadata": {},
   "outputs": [
    {
     "data": {
      "text/plain": [
       "{'created_on': '2019-02-03T15:16:46.957956',\n",
       " 'fw_id': -8,\n",
       " 'name': '646_SDS_on_AU_111_51x30x2_hemicylinders_with_counterion_50Ang_stepped_pull_datafile_from_db',\n",
       " 'spec': {'_category': 'nemo_noqueue',\n",
       "  '_files_out': {'data_file': 'datafile.lammps'},\n",
       "  '_tasks': [{'_fw_name': 'GetFilesTask',\n",
       "    'identifiers': ['646_SDS_on_AU_111_51x30x2_hemicylinders_with_counterion_50Ang_stepped_initial.lammps'],\n",
       "    'new_file_names': ['datafile.lammps']}],\n",
       "  'geninfo': 'Generated on Sun Feb  3 13:06:46 2019 by testuser@jlh-cloud-28jan19',\n",
       "  'step': 'pull_datafile_from_db',\n",
       "  'system_name': '646_SDS_on_AU_111_51x30x2_hemicylinders_with_counterion_50Ang_stepped'},\n",
       " 'updated_on': '2019-02-03T15:16:46.957960'}"
      ]
     },
     "execution_count": 132,
     "metadata": {},
     "output_type": "execute_result"
    }
   ],
   "source": [
    "fw_dict['646_SDS_on_AU_111_51x30x2_hemicylinders_with_counterion_50Ang_stepped'].as_dict()"
   ]
  },
  {
   "cell_type": "code",
   "execution_count": 134,
   "metadata": {
    "ExecuteTime": {
     "end_time": "2018-09-19T09:28:33.714180Z",
     "start_time": "2018-09-19T09:28:33.653884Z"
    }
   },
   "outputs": [
    {
     "data": {
      "text/plain": [
       "{\"spec\": {\"_category\": \"nemo_noqueue\", \"_files_out\": {\"data_file\": \"datafile.lammps\"}, \"system_name\": \"646_SDS_on_AU_111_51x30x2_hemicylinders_with_counterion_50Ang_stepped\", \"step\": \"pull_datafile_from_db\", \"geninfo\": \"Generated on Sun Feb  3 13:06:46 2019 by testuser@jlh-cloud-28jan19\", \"_tasks\": [{\"identifiers\": [\"646_SDS_on_AU_111_51x30x2_hemicylinders_with_counterion_50Ang_stepped_initial.lammps\"], \"new_file_names\": [\"datafile.lammps\"], \"_fw_name\": \"GetFilesTask\"}]}, \"fw_id\": -8, \"created_on\": \"2019-02-03T15:16:46.957956\", \"updated_on\": \"2019-02-03T15:16:46.957960\", \"name\": \"646_SDS_on_AU_111_51x30x2_hemicylinders_with_counterion_50Ang_stepped_pull_datafile_from_db\"}"
      ]
     },
     "execution_count": 134,
     "metadata": {},
     "output_type": "execute_result"
    }
   ],
   "source": [
    "fw_dict['646_SDS_on_AU_111_51x30x2_hemicylinders_with_counterion_50Ang_stepped']"
   ]
  },
  {
   "cell_type": "code",
   "execution_count": 135,
   "metadata": {
    "ExecuteTime": {
     "end_time": "2018-09-19T09:28:43.276694Z",
     "start_time": "2018-09-19T09:28:42.790409Z"
    }
   },
   "outputs": [
    {
     "name": "stdout",
     "output_type": "stream",
     "text": [
      "Append 646_SDS_on_AU_111_51x30x2_hemicylinders_with_counterion_50Ang_stepped to last fw_id in list [9891, 9917, 10824, 11314]\n"
     ]
    }
   ],
   "source": [
    "jobadmin.append_wf_by_key(fw_dict, fw_id_dict)"
   ]
  },
  {
   "cell_type": "markdown",
   "metadata": {},
   "source": [
    "### Minimization"
   ]
  },
  {
   "cell_type": "code",
   "execution_count": 142,
   "metadata": {
    "ExecuteTime": {
     "end_time": "2018-10-19T22:40:59.807801Z",
     "start_time": "2018-10-19T22:40:59.308694Z"
    }
   },
   "outputs": [
    {
     "data": {
      "text/plain": [
       "'module purge; module load LAMMPS; mpirun ${{MPIRUN_OPTIONS}} lmp -in {inputFile:s}'"
      ]
     },
     "execution_count": 142,
     "metadata": {},
     "output_type": "execute_result"
    }
   ],
   "source": [
    "jobadmin._template_lmp_cmd"
   ]
  },
  {
   "cell_type": "code",
   "execution_count": 166,
   "metadata": {},
   "outputs": [],
   "source": [
    "jobadmin.use_nemo_templates()"
   ]
  },
  {
   "cell_type": "code",
   "execution_count": 167,
   "metadata": {
    "ExecuteTime": {
     "end_time": "2018-10-19T22:40:59.807801Z",
     "start_time": "2018-10-19T22:40:59.308694Z"
    }
   },
   "outputs": [
    {
     "data": {
      "text/plain": [
       "'module purge; module load lammps/16Mar18-gnu-7.3-openmpi-3.1-colvars-03Feb19; mpirun ${{MPIRUN_OPTIONS}} lmp -in {inputFile:s}'"
      ]
     },
     "execution_count": 167,
     "metadata": {},
     "output_type": "execute_result"
    }
   ],
   "source": [
    "jobadmin._template_lmp_cmd"
   ]
  },
  {
   "cell_type": "code",
   "execution_count": 147,
   "metadata": {},
   "outputs": [],
   "source": [
    "jobadmin.use_nemo_queue()"
   ]
  },
  {
   "cell_type": "code",
   "execution_count": 72,
   "metadata": {
    "ExecuteTime": {
     "end_time": "2018-10-19T20:48:02.538223Z",
     "start_time": "2018-10-19T20:48:01.708908Z"
    }
   },
   "outputs": [],
   "source": [
    "fw_id_dict = jobadmin.query_systems(\n",
    "    system_names,\n",
    "    step='pull_datafile_from_db', \n",
    "    state=[\"COMPLETED\", \"RUNNING\", \"READY\", \"WAITING\", \"RESERVED\"])"
   ]
  },
  {
   "cell_type": "code",
   "execution_count": 73,
   "metadata": {},
   "outputs": [
    {
     "data": {
      "text/plain": [
       "{'646_SDS_on_AU_111_51x30x2_hemicylinders_with_counterion_50Ang_stepped': []}"
      ]
     },
     "execution_count": 73,
     "metadata": {},
     "output_type": "execute_result"
    }
   ],
   "source": [
    "fw_id_dict"
   ]
  },
  {
   "cell_type": "code",
   "execution_count": 70,
   "metadata": {
    "ExecuteTime": {
     "end_time": "2018-10-19T22:39:50.130030Z",
     "start_time": "2018-10-19T22:38:06.710328Z"
    }
   },
   "outputs": [],
   "source": [
    "fw_id_dict = jobadmin.identifyIncompleteWorkflowsInScope(\n",
    "     precedent_step_name='pull_datafile_from_db',\n",
    "     subsequent_step_name='minimization',\n",
    "     system_name_scope=system_name_scope)"
   ]
  },
  {
   "cell_type": "code",
   "execution_count": 71,
   "metadata": {},
   "outputs": [
    {
     "data": {
      "text/plain": [
       "{}"
      ]
     },
     "execution_count": 71,
     "metadata": {},
     "output_type": "execute_result"
    }
   ],
   "source": [
    "fw_id_dict"
   ]
  },
  {
   "cell_type": "code",
   "execution_count": 183,
   "metadata": {},
   "outputs": [],
   "source": [
    "jobadmin.minimization_queueadapter['queue'] = 'express'"
   ]
  },
  {
   "cell_type": "code",
   "execution_count": 201,
   "metadata": {},
   "outputs": [],
   "source": [
    "jobadmin.minimization_queueadapter['queue'] = ''"
   ]
  },
  {
   "cell_type": "code",
   "execution_count": 207,
   "metadata": {},
   "outputs": [],
   "source": [
    "jobadmin.minimization_queueadapter['walltime'] = '08:00:00'"
   ]
  },
  {
   "cell_type": "code",
   "execution_count": 203,
   "metadata": {},
   "outputs": [],
   "source": [
    "jobadmin.minimization_queueadapter['nodes'] = 2"
   ]
  },
  {
   "cell_type": "code",
   "execution_count": 204,
   "metadata": {},
   "outputs": [],
   "source": [
    "jobadmin.minimization_queueadapter['ppn'] = 20"
   ]
  },
  {
   "cell_type": "code",
   "execution_count": 208,
   "metadata": {},
   "outputs": [
    {
     "data": {
      "text/plain": [
       "{'nodes': 2, 'ppn': 20, 'queue': '', 'walltime': '08:00:00'}"
      ]
     },
     "execution_count": 208,
     "metadata": {},
     "output_type": "execute_result"
    }
   ],
   "source": [
    "jobadmin.minimization_queueadapter"
   ]
  },
  {
   "cell_type": "code",
   "execution_count": 209,
   "metadata": {
    "ExecuteTime": {
     "end_time": "2018-10-19T22:40:05.151765Z",
     "start_time": "2018-10-19T22:40:05.064580Z"
    }
   },
   "outputs": [],
   "source": [
    "minimize_wrapper = lambda system_name: jobadmin.minimize(\n",
    "    system_name,\n",
    "    lmp_suffix_template=' '.join((\n",
    "        '-v baseName {baseName:s} -v dataFile {dataFile:s} -v has_indenter 1 -v mpiio 0',\n",
    "        '-v robust_minimization 0 -v pbc2d 0 -v compute_interactions 0 -v store_forces 0',\n",
    "        '-v freeze_substrate 1 -v surfactant_name SDS')))"
   ]
  },
  {
   "cell_type": "code",
   "execution_count": 210,
   "metadata": {
    "ExecuteTime": {
     "end_time": "2018-10-19T22:40:40.407951Z",
     "start_time": "2018-10-19T22:40:40.295994Z"
    }
   },
   "outputs": [],
   "source": [
    "fw_dict = jobadmin.batch_prepare_fw( system_names, minimize_wrapper )"
   ]
  },
  {
   "cell_type": "code",
   "execution_count": 211,
   "metadata": {},
   "outputs": [
    {
     "data": {
      "text/plain": [
       "{'created_on': '2019-02-03T23:40:39.208492',\n",
       " 'fw_id': -13,\n",
       " 'name': '646_SDS_on_AU_111_51x30x2_hemicylinders_with_counterion_50Ang_stepped_minimzation',\n",
       " 'spec': {'_category': 'nemo_queue',\n",
       "  '_files_in': {'data_file': 'datafile.lammps'},\n",
       "  '_files_out': {'data_file': '646_SDS_on_AU_111_51x30x2_hemicylinders_with_counterion_50Ang_stepped_minimized.lammps'},\n",
       "  '_queueadapter': {'nodes': 2,\n",
       "   'ppn': 20,\n",
       "   'queue': '',\n",
       "   'walltime': '08:00:00'},\n",
       "  '_tasks': [{'_fw_name': 'GetFilesTask',\n",
       "    'identifiers': ['lmp_header.input',\n",
       "     'lmp_minimization.input',\n",
       "     'extract_thermo.sh']},\n",
       "   {'_fw_name': 'ScriptTask',\n",
       "    'fizzle_bad_rc': True,\n",
       "    'script': ['module purge; module load lammps/16Mar18-gnu-7.3-openmpi-3.1-colvars-03Feb19; mpirun ${MPIRUN_OPTIONS} lmp -in lmp_minimization.input -v baseName 646_SDS_on_AU_111_51x30x2_hemicylinders_with_counterion_50Ang_stepped -v dataFile datafile.lammps -v has_indenter 1 -v mpiio 0 -v robust_minimization 0 -v pbc2d 0 -v compute_interactions 0 -v store_forces 0 -v freeze_substrate 1 -v surfactant_name SDS'],\n",
       "    'stderr_file': 'lmp_minimization.err',\n",
       "    'stdout_file': 'lmp_minimization.out',\n",
       "    'use_shell': True},\n",
       "   {'_fw_name': 'ScriptTask',\n",
       "    'fizzle_bad_rc': False,\n",
       "    'script': ['bash extract_thermo.sh 646_SDS_on_AU_111_51x30x2_hemicylinders_with_counterion_50Ang_stepped_minimization.log 646_SDS_on_AU_111_51x30x2_hemicylinders_with_counterion_50Ang_stepped_minimization_thermo.out'],\n",
       "    'use_shell': True}],\n",
       "  'geninfo': 'Generated on Sun Feb  3 13:06:46 2019 by testuser@jlh-cloud-28jan19',\n",
       "  'step': 'minimization',\n",
       "  'system_name': '646_SDS_on_AU_111_51x30x2_hemicylinders_with_counterion_50Ang_stepped'},\n",
       " 'updated_on': '2019-02-03T23:40:39.208495'}"
      ]
     },
     "execution_count": 211,
     "metadata": {},
     "output_type": "execute_result"
    }
   ],
   "source": [
    "fw_dict['646_SDS_on_AU_111_51x30x2_hemicylinders_with_counterion_50Ang_stepped'].as_dict()"
   ]
  },
  {
   "cell_type": "code",
   "execution_count": 212,
   "metadata": {
    "ExecuteTime": {
     "end_time": "2018-10-19T22:40:43.934035Z",
     "start_time": "2018-10-19T22:40:42.710127Z"
    }
   },
   "outputs": [
    {
     "name": "stdout",
     "output_type": "stream",
     "text": [
      "Append 646_SDS_on_AU_111_51x30x2_hemicylinders_with_counterion_50Ang_stepped to last fw_id in list [11315]\n"
     ]
    }
   ],
   "source": [
    "jobadmin.append_wf_by_key( fw_dict, fw_id_dict )"
   ]
  },
  {
   "cell_type": "markdown",
   "metadata": {},
   "source": [
    "### NVT equilibration"
   ]
  },
  {
   "cell_type": "code",
   "execution_count": 116,
   "metadata": {},
   "outputs": [],
   "source": [
    "jobadmin.use_nemo_templates()"
   ]
  },
  {
   "cell_type": "code",
   "execution_count": 117,
   "metadata": {},
   "outputs": [],
   "source": [
    "jobadmin.use_nemo_queue()"
   ]
  },
  {
   "cell_type": "code",
   "execution_count": 118,
   "metadata": {},
   "outputs": [
    {
     "data": {
      "text/plain": [
       "'module purge; module load lammps/16Mar18-gnu-7.3-openmpi-3.1-colvars-04Feb19; mpirun ${{MPIRUN_OPTIONS}} lmp -in {inputFile:s}'"
      ]
     },
     "execution_count": 118,
     "metadata": {},
     "output_type": "execute_result"
    }
   ],
   "source": [
    "jobadmin._template_lmp_cmd"
   ]
  },
  {
   "cell_type": "code",
   "execution_count": 109,
   "metadata": {},
   "outputs": [],
   "source": [
    "# test on express queue\n",
    "jobadmin.equilibration_queueadapter['queue'] = 'express'\n",
    "jobadmin.equilibration_queueadapter['walltime'] = '00:02:00'\n",
    "jobadmin.equilibration_queueadapter['nodes'] = 1\n",
    "jobadmin.equilibration_queueadapter['ppn'] = 20"
   ]
  },
  {
   "cell_type": "code",
   "execution_count": 135,
   "metadata": {},
   "outputs": [],
   "source": [
    "jobadmin.equilibration_queueadapter['queue'] = ''\n",
    "jobadmin.equilibration_queueadapter['walltime'] = '24:00:00'\n",
    "jobadmin.equilibration_queueadapter['nodes'] = 2\n",
    "jobadmin.equilibration_queueadapter['ppn'] = 20"
   ]
  },
  {
   "cell_type": "code",
   "execution_count": 136,
   "metadata": {
    "ExecuteTime": {
     "end_time": "2018-10-19T20:48:02.538223Z",
     "start_time": "2018-10-19T20:48:01.708908Z"
    }
   },
   "outputs": [],
   "source": [
    "fw_id_dict = jobadmin.query_systems(\n",
    "    system_names,\n",
    "    step='minimization', \n",
    "    state=[\"COMPLETED\", \"RUNNING\", \"READY\", \"WAITING\", \"RESERVED\"])"
   ]
  },
  {
   "cell_type": "code",
   "execution_count": 164,
   "metadata": {},
   "outputs": [
    {
     "data": {
      "text/plain": [
       "{'646_SDS_on_AU_111_51x30x2_hemicylinders_with_counterion_50Ang_stepped': [9933,\n",
       "  10153,\n",
       "  10850,\n",
       "  11326]}"
      ]
     },
     "execution_count": 164,
     "metadata": {},
     "output_type": "execute_result"
    }
   ],
   "source": [
    "fw_id_dict"
   ]
  },
  {
   "cell_type": "code",
   "execution_count": null,
   "metadata": {},
   "outputs": [],
   "source": []
  },
  {
   "cell_type": "code",
   "execution_count": 88,
   "metadata": {
    "ExecuteTime": {
     "end_time": "2018-10-19T22:45:49.179616Z",
     "start_time": "2018-10-19T22:44:44.563913Z"
    }
   },
   "outputs": [
    {
     "name": "stderr",
     "output_type": "stream",
     "text": [
      "WARNING:root:32 systems not present at all in subsequent step.\n"
     ]
    }
   ],
   "source": [
    "fw_id_dict = jobadmin.identifyIncompleteWorkflowsInScope(\n",
    "     precedent_step_name='minimization',\n",
    "     subsequent_step_name='equilibration_nvt',\n",
    "     system_name_scope=system_name_scope)"
   ]
  },
  {
   "cell_type": "code",
   "execution_count": 110,
   "metadata": {},
   "outputs": [
    {
     "data": {
      "text/plain": [
       "{'646_SDS_on_AU_111_51x30x2_hemicylinders_with_counterion_50Ang_stepped': [10140,\n",
       "  10837,\n",
       "  11318]}"
      ]
     },
     "execution_count": 110,
     "metadata": {},
     "output_type": "execute_result"
    }
   ],
   "source": [
    "fw_id_dict"
   ]
  },
  {
   "cell_type": "code",
   "execution_count": 138,
   "metadata": {
    "ExecuteTime": {
     "end_time": "2018-10-19T22:54:15.616495Z",
     "start_time": "2018-10-19T22:54:15.454884Z"
    }
   },
   "outputs": [],
   "source": [
    "nvtEquilibrate_wrapper = lambda system_name: jobadmin.nvtEquilibrate(\n",
    "    system_name,\n",
    "    lmp_suffix_template=' '.join((\n",
    "        '-v baseName {baseName:s} -v dataFile {dataFile:s} -v has_indenter 1',\n",
    "        '-v pbd2d 0 -v reinitialize_velocities 1 -v nvtEqSteps 10000',\n",
    "        '-v compute_interactions 0 -v store_forces 0',\n",
    "        '-v mpiio 1 -v surfactant_name SDS')))"
   ]
  },
  {
   "cell_type": "code",
   "execution_count": 139,
   "metadata": {
    "ExecuteTime": {
     "end_time": "2018-10-19T22:54:30.474808Z",
     "start_time": "2018-10-19T22:54:30.417351Z"
    }
   },
   "outputs": [],
   "source": [
    "fw_dict = jobadmin.batch_prepare_fw( system_names, nvtEquilibrate_wrapper )"
   ]
  },
  {
   "cell_type": "code",
   "execution_count": 140,
   "metadata": {},
   "outputs": [
    {
     "data": {
      "text/plain": [
       "{'created_on': '2019-02-04T21:07:53.458353',\n",
       " 'fw_id': -9,\n",
       " 'name': '646_SDS_on_AU_111_51x30x2_hemicylinders_with_counterion_50Ang_stepped_equilibration_nvt',\n",
       " 'spec': {'_category': 'nemo_queue',\n",
       "  '_files_in': {'data_file': 'datafile.lammps'},\n",
       "  '_files_out': {'data_file': '646_SDS_on_AU_111_51x30x2_hemicylinders_with_counterion_50Ang_stepped_nvtEquilibrated.lammps'},\n",
       "  '_queueadapter': {'nodes': 2,\n",
       "   'ppn': 20,\n",
       "   'queue': '',\n",
       "   'walltime': '24:00:00'},\n",
       "  '_tasks': [{'_fw_name': 'GetFilesTask',\n",
       "    'identifiers': ['lmp_header.input',\n",
       "     'lmp_equilibration_nvt.input',\n",
       "     'extract_thermo.sh']},\n",
       "   {'_fw_name': 'ScriptTask',\n",
       "    'fizzle_bad_rc': True,\n",
       "    'script': ['module purge; module load lammps/16Mar18-gnu-7.3-openmpi-3.1-colvars-04Feb19; mpirun ${MPIRUN_OPTIONS} lmp -in lmp_equilibration_nvt.input -v baseName 646_SDS_on_AU_111_51x30x2_hemicylinders_with_counterion_50Ang_stepped -v dataFile datafile.lammps -v has_indenter 1 -v pbd2d 0 -v reinitialize_velocities 1 -v nvtEqSteps 10000 -v compute_interactions 0 -v store_forces 0 -v mpiio 1 -v surfactant_name SDS'],\n",
       "    'stderr_file': 'lmp_nvtEquilibration.err',\n",
       "    'stdout_file': 'lmp_nvtEquilibration.out',\n",
       "    'use_shell': True},\n",
       "   {'_fw_name': 'ScriptTask',\n",
       "    'fizzle_bad_rc': False,\n",
       "    'script': ['bash extract_thermo.sh 646_SDS_on_AU_111_51x30x2_hemicylinders_with_counterion_50Ang_stepped_nvtEquilibration.log 646_SDS_on_AU_111_51x30x2_hemicylinders_with_counterion_50Ang_stepped_nvtEquilibration_thermo.out'],\n",
       "    'use_shell': True}],\n",
       "  'geninfo': 'Generated on Mon Feb  4 15:55:11 2019 by testuser@jlh-cloud-28jan19',\n",
       "  'step': 'equilibration_nvt',\n",
       "  'system_name': '646_SDS_on_AU_111_51x30x2_hemicylinders_with_counterion_50Ang_stepped'},\n",
       " 'updated_on': '2019-02-04T21:07:53.458358'}"
      ]
     },
     "execution_count": 140,
     "metadata": {},
     "output_type": "execute_result"
    }
   ],
   "source": [
    "fw_dict['646_SDS_on_AU_111_51x30x2_hemicylinders_with_counterion_50Ang_stepped'].as_dict()"
   ]
  },
  {
   "cell_type": "code",
   "execution_count": 141,
   "metadata": {
    "ExecuteTime": {
     "end_time": "2018-10-19T22:54:31.316150Z",
     "start_time": "2018-10-19T22:54:30.810349Z"
    }
   },
   "outputs": [
    {
     "name": "stdout",
     "output_type": "stream",
     "text": [
      "Append 646_SDS_on_AU_111_51x30x2_hemicylinders_with_counterion_50Ang_stepped to last fw_id in list [10140, 10837, 11318]\n"
     ]
    }
   ],
   "source": [
    "jobadmin.append_wf_by_key(fw_dict, fw_id_dict)"
   ]
  },
  {
   "cell_type": "markdown",
   "metadata": {},
   "source": [
    "### NPT equilibration"
   ]
  },
  {
   "cell_type": "code",
   "execution_count": 115,
   "metadata": {
    "ExecuteTime": {
     "end_time": "2018-10-19T22:50:44.757601Z",
     "start_time": "2018-10-19T22:50:44.701171Z"
    }
   },
   "outputs": [],
   "source": [
    "# fw_id_dict = jobadmin.query_systems(\n",
    "#     system_names,\n",
    "#     step='minimization', \n",
    "#     state=[\"COMPLETED\", \"RUNNING\", \"READY\", \"WAITING\", \"RESERVED\"])"
   ]
  },
  {
   "cell_type": "code",
   "execution_count": 142,
   "metadata": {
    "ExecuteTime": {
     "end_time": "2018-10-19T22:45:49.179616Z",
     "start_time": "2018-10-19T22:44:44.563913Z"
    }
   },
   "outputs": [
    {
     "name": "stderr",
     "output_type": "stream",
     "text": [
      "WARNING:root:9 systems not present at all in subsequent step.\n"
     ]
    }
   ],
   "source": [
    "fw_id_dict = jobadmin.identifyIncompleteWorkflowsInScope(\n",
    "     precedent_step_name='equilibration_nvt',\n",
    "     subsequent_step_name='equilibration_npt',\n",
    "     system_name_scope=system_name_scope)"
   ]
  },
  {
   "cell_type": "code",
   "execution_count": 143,
   "metadata": {},
   "outputs": [
    {
     "data": {
      "text/plain": [
       "{'646_SDS_on_AU_111_51x30x2_hemicylinders_with_counterion_50Ang_stepped': [11322,\n",
       "  11323,\n",
       "  11324,\n",
       "  11325]}"
      ]
     },
     "execution_count": 143,
     "metadata": {},
     "output_type": "execute_result"
    }
   ],
   "source": [
    "fw_id_dict"
   ]
  },
  {
   "cell_type": "code",
   "execution_count": 144,
   "metadata": {
    "ExecuteTime": {
     "end_time": "2018-10-19T22:54:15.616495Z",
     "start_time": "2018-10-19T22:54:15.454884Z"
    }
   },
   "outputs": [],
   "source": [
    "nptEquilibrate_wrapper = lambda system_name: jobadmin.nptEquilibrate(\n",
    "    system_name,\n",
    "    lmp_suffix_template=' '.join((\n",
    "        '-v baseName {baseName:s} -v dataFile {dataFile:s} -v has_indenter 1',\n",
    "        '-v pbd2d 0 -v reinitialize_velocities 0 -v nptEqSteps 10000',\n",
    "        '-v pbc2d 0 -v compute_interactions 0 -v store_forces 0',\n",
    "        '-v mpiio 0 -v surfactant_name SDS')))"
   ]
  },
  {
   "cell_type": "code",
   "execution_count": 145,
   "metadata": {
    "ExecuteTime": {
     "end_time": "2018-10-19T22:54:30.474808Z",
     "start_time": "2018-10-19T22:54:30.417351Z"
    }
   },
   "outputs": [],
   "source": [
    "fw_dict = jobadmin.batch_prepare_fw( system_names, nptEquilibrate_wrapper )"
   ]
  },
  {
   "cell_type": "code",
   "execution_count": 146,
   "metadata": {},
   "outputs": [
    {
     "data": {
      "text/plain": [
       "{'created_on': '2019-02-04T21:09:44.544073',\n",
       " 'fw_id': -10,\n",
       " 'name': '646_SDS_on_AU_111_51x30x2_hemicylinders_with_counterion_50Ang_stepped_equilibration_npt',\n",
       " 'spec': {'_category': 'nemo_queue',\n",
       "  '_files_in': {'data_file': 'datafile.lammps'},\n",
       "  '_files_out': {'data_file': '646_SDS_on_AU_111_51x30x2_hemicylinders_with_counterion_50Ang_stepped_nptEquilibrated.lammps'},\n",
       "  '_queueadapter': {'nodes': 2,\n",
       "   'ppn': 20,\n",
       "   'queue': '',\n",
       "   'walltime': '24:00:00'},\n",
       "  '_tasks': [{'_fw_name': 'GetFilesTask',\n",
       "    'identifiers': ['lmp_header.input',\n",
       "     'lmp_equilibration_npt.input',\n",
       "     'extract_thermo.sh']},\n",
       "   {'_fw_name': 'ScriptTask',\n",
       "    'fizzle_bad_rc': True,\n",
       "    'script': ['module purge; module load lammps/16Mar18-gnu-7.3-openmpi-3.1-colvars-04Feb19; mpirun ${MPIRUN_OPTIONS} lmp -in lmp_equilibration_npt.input -v baseName 646_SDS_on_AU_111_51x30x2_hemicylinders_with_counterion_50Ang_stepped -v dataFile datafile.lammps -v has_indenter 1 -v pbd2d 0 -v reinitialize_velocities 0 -v nptEqSteps 10000 -v pbc2d 0 -v compute_interactions 0 -v store_forces 0 -v mpiio 0 -v surfactant_name SDS'],\n",
       "    'stderr_file': 'lmp_nptEquilibration.err',\n",
       "    'stdout_file': 'lmp_nptEquilibration.out',\n",
       "    'use_shell': True},\n",
       "   {'_fw_name': 'ScriptTask',\n",
       "    'fizzle_bad_rc': False,\n",
       "    'script': ['bash extract_thermo.sh 646_SDS_on_AU_111_51x30x2_hemicylinders_with_counterion_50Ang_stepped_nptEquilibration.log 646_SDS_on_AU_111_51x30x2_hemicylinders_with_counterion_50Ang_stepped_nptEquilibration_thermo.out'],\n",
       "    'use_shell': True}],\n",
       "  'geninfo': 'Generated on Mon Feb  4 15:55:11 2019 by testuser@jlh-cloud-28jan19',\n",
       "  'step': 'equilibration_npt',\n",
       "  'system_name': '646_SDS_on_AU_111_51x30x2_hemicylinders_with_counterion_50Ang_stepped'},\n",
       " 'updated_on': '2019-02-04T21:09:44.544076'}"
      ]
     },
     "execution_count": 146,
     "metadata": {},
     "output_type": "execute_result"
    }
   ],
   "source": [
    "fw_dict['646_SDS_on_AU_111_51x30x2_hemicylinders_with_counterion_50Ang_stepped'].as_dict()"
   ]
  },
  {
   "cell_type": "code",
   "execution_count": 147,
   "metadata": {
    "ExecuteTime": {
     "end_time": "2018-10-19T22:54:31.316150Z",
     "start_time": "2018-10-19T22:54:30.810349Z"
    }
   },
   "outputs": [
    {
     "name": "stdout",
     "output_type": "stream",
     "text": [
      "Append 646_SDS_on_AU_111_51x30x2_hemicylinders_with_counterion_50Ang_stepped to last fw_id in list [11322, 11323, 11324, 11325]\n"
     ]
    }
   ],
   "source": [
    "jobadmin.append_wf_by_key(fw_dict, fw_id_dict)"
   ]
  },
  {
   "cell_type": "markdown",
   "metadata": {},
   "source": [
    "### Constant velocity approach"
   ]
  },
  {
   "cell_type": "code",
   "execution_count": 19,
   "metadata": {},
   "outputs": [],
   "source": [
    "d = 30 # Ang from tip apex to surface"
   ]
  },
  {
   "cell_type": "code",
   "execution_count": 5,
   "metadata": {},
   "outputs": [],
   "source": [
    "dt = 2 # fs per timestep"
   ]
  },
  {
   "cell_type": "code",
   "execution_count": 6,
   "metadata": {},
   "outputs": [],
   "source": [
    "# Ang / fs = 1e15 / 1e 10"
   ]
  },
  {
   "cell_type": "code",
   "execution_count": 12,
   "metadata": {},
   "outputs": [],
   "source": [
    "v_SI_in_v = 1e-5 # v_SI / v = (m/s * fs/Ang)"
   ]
  },
  {
   "cell_type": "code",
   "execution_count": 14,
   "metadata": {},
   "outputs": [],
   "source": [
    "v_SI = 1 # m / s"
   ]
  },
  {
   "cell_type": "code",
   "execution_count": 15,
   "metadata": {},
   "outputs": [],
   "source": [
    "v = v_SI * v_SI_in_v"
   ]
  },
  {
   "cell_type": "code",
   "execution_count": 20,
   "metadata": {},
   "outputs": [
    {
     "data": {
      "text/plain": [
       "1e-05"
      ]
     },
     "execution_count": 20,
     "metadata": {},
     "output_type": "execute_result"
    }
   ],
   "source": [
    "v  # Ang / fs"
   ]
  },
  {
   "cell_type": "code",
   "execution_count": 21,
   "metadata": {},
   "outputs": [],
   "source": [
    "sim_time_in_fs = d / v"
   ]
  },
  {
   "cell_type": "code",
   "execution_count": 23,
   "metadata": {},
   "outputs": [
    {
     "data": {
      "text/plain": [
       "2.9999999999999996"
      ]
     },
     "execution_count": 23,
     "metadata": {},
     "output_type": "execute_result"
    }
   ],
   "source": [
    "sim_time_in_fs / 1e6 # ns"
   ]
  },
  {
   "cell_type": "code",
   "execution_count": 24,
   "metadata": {},
   "outputs": [],
   "source": [
    "total_steps = sim_time_in_fs / dt"
   ]
  },
  {
   "cell_type": "code",
   "execution_count": 25,
   "metadata": {},
   "outputs": [
    {
     "data": {
      "text/plain": [
       "1499999.9999999998"
      ]
     },
     "execution_count": 25,
     "metadata": {},
     "output_type": "execute_result"
    }
   ],
   "source": [
    "total_steps"
   ]
  },
  {
   "cell_type": "code",
   "execution_count": 26,
   "metadata": {},
   "outputs": [],
   "source": [
    "totalSteps = lambda v_SI: round(d/(v_SI*v_SI_in_v*dt))"
   ]
  },
  {
   "cell_type": "code",
   "execution_count": 27,
   "metadata": {},
   "outputs": [
    {
     "data": {
      "text/plain": [
       "1500000"
      ]
     },
     "execution_count": 27,
     "metadata": {},
     "output_type": "execute_result"
    }
   ],
   "source": [
    "totalSteps(1)"
   ]
  },
  {
   "cell_type": "code",
   "execution_count": 16,
   "metadata": {},
   "outputs": [
    {
     "data": {
      "text/plain": [
       "75.0"
      ]
     },
     "execution_count": 16,
     "metadata": {},
     "output_type": "execute_result"
    }
   ],
   "source": [
    "totalSteps(10)*2*v # Ang"
   ]
  },
  {
   "cell_type": "code",
   "execution_count": 65,
   "metadata": {},
   "outputs": [],
   "source": [
    "# d / v * dt"
   ]
  },
  {
   "cell_type": "code",
   "execution_count": 66,
   "metadata": {},
   "outputs": [],
   "source": [
    "# 5 m /s ~ 5e-5 Ang / fs \n"
   ]
  },
  {
   "cell_type": "code",
   "execution_count": 108,
   "metadata": {},
   "outputs": [
    {
     "data": {
      "text/plain": [
       "{'646_SDS_on_AU_111_51x30x2_hemicylinders_with_counterion_50Ang_stepped'}"
      ]
     },
     "execution_count": 108,
     "metadata": {},
     "output_type": "execute_result"
    }
   ],
   "source": [
    "system_names"
   ]
  },
  {
   "cell_type": "code",
   "execution_count": 109,
   "metadata": {
    "ExecuteTime": {
     "end_time": "2018-10-19T23:18:02.016413Z",
     "start_time": "2018-10-19T23:18:01.628092Z"
    }
   },
   "outputs": [],
   "source": [
    "fw_id_dict = jobadmin.query_systems(\n",
    "    system_names,\n",
    "    step='equilibration_npt', \n",
    "    state=[\"COMPLETED\", \"RUNNING\", \"READY\", \"WAITING\", \"RESERVED\"])"
   ]
  },
  {
   "cell_type": "code",
   "execution_count": 110,
   "metadata": {},
   "outputs": [
    {
     "data": {
      "text/plain": [
       "{'646_SDS_on_AU_111_51x30x2_hemicylinders_with_counterion_50Ang_stepped': [9933,\n",
       "  10153,\n",
       "  10850,\n",
       "  11326]}"
      ]
     },
     "execution_count": 110,
     "metadata": {},
     "output_type": "execute_result"
    }
   ],
   "source": [
    "fw_id_dict"
   ]
  },
  {
   "cell_type": "code",
   "execution_count": 111,
   "metadata": {},
   "outputs": [],
   "source": [
    "jobadmin.use_nemo_queue()"
   ]
  },
  {
   "cell_type": "code",
   "execution_count": 112,
   "metadata": {},
   "outputs": [],
   "source": [
    "jobadmin.use_nemo_templates()"
   ]
  },
  {
   "cell_type": "code",
   "execution_count": 142,
   "metadata": {},
   "outputs": [
    {
     "data": {
      "text/plain": [
       "2356.25"
      ]
     },
     "execution_count": 142,
     "metadata": {},
     "output_type": "execute_result"
    }
   ],
   "source": [
    "377000/8/20"
   ]
  },
  {
   "cell_type": "code",
   "execution_count": 126,
   "metadata": {},
   "outputs": [],
   "source": [
    "# test on express queue\n",
    "jobadmin.production_queueadapter['queue'] = 'express'\n",
    "jobadmin.production_queueadapter['walltime'] = '00:05:00'\n",
    "jobadmin.production_queueadapter['nodes'] = 1\n",
    "jobadmin.production_queueadapter['ppn'] = 20"
   ]
  },
  {
   "cell_type": "code",
   "execution_count": 143,
   "metadata": {},
   "outputs": [],
   "source": [
    "jobadmin.production_queueadapter['queue'] = ''\n",
    "jobadmin.production_queueadapter['walltime'] = '96:00:00'\n",
    "jobadmin.production_queueadapter['nodes'] = 8\n",
    "jobadmin.production_queueadapter['ppn'] = 20"
   ]
  },
  {
   "cell_type": "code",
   "execution_count": 114,
   "metadata": {},
   "outputs": [
    {
     "data": {
      "text/plain": [
       "'module purge; module load lammps/16Mar18-gnu-7.3-openmpi-3.1-colvars-09Feb19; mpirun ${{MPIRUN_OPTIONS}} lmp -in {inputFile:s}'"
      ]
     },
     "execution_count": 114,
     "metadata": {},
     "output_type": "execute_result"
    }
   ],
   "source": [
    "jobadmin._template_lmp_cmd # double-check usage of correct LAMMPS command"
   ]
  },
  {
   "cell_type": "code",
   "execution_count": 29,
   "metadata": {},
   "outputs": [],
   "source": [
    "v_SI = 0.1"
   ]
  },
  {
   "cell_type": "code",
   "execution_count": 30,
   "metadata": {},
   "outputs": [
    {
     "name": "stdout",
     "output_type": "stream",
     "text": [
      "0.000001\n"
     ]
    }
   ],
   "source": [
    "print(\"{:f}\".format(v_SI*v_SI_in_v))"
   ]
  },
  {
   "cell_type": "code",
   "execution_count": 34,
   "metadata": {},
   "outputs": [
    {
     "data": {
      "text/plain": [
       "75.0"
      ]
     },
     "execution_count": 34,
     "metadata": {},
     "output_type": "execute_result"
    }
   ],
   "source": [
    "totalSteps(v_SI) * 2e-15 /1e-9"
   ]
  },
  {
   "cell_type": "code",
   "execution_count": 32,
   "metadata": {},
   "outputs": [
    {
     "data": {
      "text/plain": [
       "3750.0"
      ]
     },
     "execution_count": 32,
     "metadata": {},
     "output_type": "execute_result"
    }
   ],
   "source": [
    "# netcdf no of frames:\n",
    "totalSteps(v_SI) / 10000"
   ]
  },
  {
   "cell_type": "code",
   "execution_count": 155,
   "metadata": {
    "ExecuteTime": {
     "end_time": "2018-10-19T23:21:14.256873Z",
     "start_time": "2018-10-19T23:21:13.802884Z"
    }
   },
   "outputs": [],
   "source": [
    "# Attention: negative velocity for approach towards substrate!\n",
    "production_wrapper = lambda system_name: jobadmin.production(\n",
    "    system_name,\n",
    "    lmp_suffix_template= ' '.join((\n",
    "        '-v baseName {baseName:s} -v dataFile {dataFile:s}',\n",
    "        '-v has_indenter 1 -v pbd2d 0',\n",
    "        '-v constant_indenter_velocity {:f}'.format(-v_SI*v_SI_in_v),\n",
    "        '-v reinitialize_velocities 0',\n",
    "        '-v productionSteps {:d}'.format(totalSteps(v_SI)),\n",
    "        '-v use_colvars 0 -v mpiio 1',\n",
    "        '-v thermo_frequency 1000',\n",
    "        '-v thermo_average_frequency 1000',\n",
    "        '-v netcdf_frequency 10000',\n",
    "        '-v compute_interactions 1',\n",
    "        '-v store_forces 1',\n",
    "        '-v surfactant_name SDS')),\n",
    "    total_steps=totalSteps(v_SI)\n",
    ")"
   ]
  },
  {
   "cell_type": "code",
   "execution_count": 156,
   "metadata": {
    "ExecuteTime": {
     "end_time": "2018-10-19T23:21:15.018063Z",
     "start_time": "2018-10-19T23:21:14.916301Z"
    }
   },
   "outputs": [],
   "source": [
    "fw_dict = jobadmin.batch_prepare_fw( system_names, production_wrapper )"
   ]
  },
  {
   "cell_type": "code",
   "execution_count": 157,
   "metadata": {},
   "outputs": [
    {
     "data": {
      "text/plain": [
       "{'created_on': '2019-02-15T14:50:51.170131',\n",
       " 'fw_id': -6,\n",
       " 'name': '646_SDS_on_AU_111_51x30x2_hemicylinders_with_counterion_50Ang_stepped_produtcion_3750000',\n",
       " 'spec': {'_category': 'nemo_queue',\n",
       "  '_files_in': {'data_file': 'datafile.lammps'},\n",
       "  '_files_out': {'data_file': '646_SDS_on_AU_111_51x30x2_hemicylinders_with_counterion_50Ang_stepped_production.lammps',\n",
       "   'thermo_file': '646_SDS_on_AU_111_51x30x2_hemicylinders_with_counterion_50Ang_stepped_production_thermo.out',\n",
       "   'trajectory_file': '646_SDS_on_AU_111_51x30x2_hemicylinders_with_counterion_50Ang_stepped_production_mixed.nc'},\n",
       "  '_queueadapter': {'nodes': 8,\n",
       "   'ppn': 20,\n",
       "   'queue': '',\n",
       "   'walltime': '96:00:00'},\n",
       "  '_tasks': [{'_fw_name': 'GetFilesTask',\n",
       "    'identifiers': ['lmp_header.input',\n",
       "     'lmp_production.input',\n",
       "     'lmp_production_mixed.input',\n",
       "     'extract_thermo.sh']},\n",
       "   {'_fw_name': 'ScriptTask',\n",
       "    'fizzle_bad_rc': True,\n",
       "    'script': ['module purge; module load lammps/16Mar18-gnu-7.3-openmpi-3.1-colvars-09Feb19; mpirun ${MPIRUN_OPTIONS} lmp -in lmp_production.input -v baseName 646_SDS_on_AU_111_51x30x2_hemicylinders_with_counterion_50Ang_stepped -v dataFile datafile.lammps -v has_indenter 1 -v pbd2d 0 -v constant_indenter_velocity -0.000010 -v reinitialize_velocities 0 -v productionSteps 3750000 -v use_colvars 0 -v mpiio 1 -v thermo_frequency 1000 -v thermo_average_frequency 1000 -v netcdf_frequency 10000 -v compute_interactions 1 -v store_forces 1 -v surfactant_name SDS'],\n",
       "    'stderr_file': 'lmp_production.err',\n",
       "    'stdout_file': 'lmp_production.out',\n",
       "    'use_shell': True},\n",
       "   {'_fw_name': 'ScriptTask',\n",
       "    'fizzle_bad_rc': False,\n",
       "    'script': ['bash extract_thermo.sh 646_SDS_on_AU_111_51x30x2_hemicylinders_with_counterion_50Ang_stepped_production.log 646_SDS_on_AU_111_51x30x2_hemicylinders_with_counterion_50Ang_stepped_production_thermo.out'],\n",
       "    'use_shell': True}],\n",
       "  'geninfo': 'Generated on Fri Feb 15 13:04:46 2019 by testuser@jlh-cloud-28jan19',\n",
       "  'step': 'production',\n",
       "  'system_name': '646_SDS_on_AU_111_51x30x2_hemicylinders_with_counterion_50Ang_stepped',\n",
       "  'total_steps': 3750000},\n",
       " 'updated_on': '2019-02-15T14:50:51.170136'}"
      ]
     },
     "execution_count": 157,
     "metadata": {},
     "output_type": "execute_result"
    }
   ],
   "source": [
    "fw_dict['646_SDS_on_AU_111_51x30x2_hemicylinders_with_counterion_50Ang_stepped'].as_dict()"
   ]
  },
  {
   "cell_type": "code",
   "execution_count": 158,
   "metadata": {},
   "outputs": [
    {
     "name": "stdout",
     "output_type": "stream",
     "text": [
      "Append 646_SDS_on_AU_111_51x30x2_hemicylinders_with_counterion_50Ang_stepped to last fw_id in list [9933, 10153, 10850, 11326]\n"
     ]
    }
   ],
   "source": [
    "jobadmin.append_wf_by_key(fw_dict, fw_id_dict)"
   ]
  },
  {
   "cell_type": "markdown",
   "metadata": {},
   "source": [
    "### Colvars"
   ]
  },
  {
   "cell_type": "code",
   "execution_count": null,
   "metadata": {
    "ExecuteTime": {
     "end_time": "2018-09-22T15:43:56.163611Z",
     "start_time": "2018-09-22T15:43:56.111007Z"
    }
   },
   "outputs": [],
   "source": [
    "system_names"
   ]
  },
  {
   "cell_type": "code",
   "execution_count": 525,
   "metadata": {
    "ExecuteTime": {
     "end_time": "2018-10-19T23:18:02.016413Z",
     "start_time": "2018-10-19T23:18:01.628092Z"
    }
   },
   "outputs": [],
   "source": [
    "fw_id_dict = jobadmin.query_systems(\n",
    "    system_names,\n",
    "    step='equilibration_npt', \n",
    "    state=[\"COMPLETED\", \"RUNNING\", \"READY\", \"WAITING\", \"RESERVED\"])"
   ]
  },
  {
   "cell_type": "code",
   "execution_count": 523,
   "metadata": {
    "ExecuteTime": {
     "end_time": "2018-10-19T23:17:07.540686Z",
     "start_time": "2018-10-19T23:16:23.559669Z"
    }
   },
   "outputs": [
    {
     "name": "stderr",
     "output_type": "stream",
     "text": [
      "WARNING:root:90 systems not present at all in subsequent step.\n"
     ]
    }
   ],
   "source": [
    "fw_id_dict = jobadmin.identifyIncompleteWorkflowsInScope(\n",
    "     precedent_step_name='equilibration_npt',\n",
    "     subsequent_step_name='production',\n",
    "     system_name_scope=system_name_scope)"
   ]
  },
  {
   "cell_type": "code",
   "execution_count": null,
   "metadata": {
    "ExecuteTime": {
     "end_time": "2018-09-22T15:44:03.487717Z",
     "start_time": "2018-09-22T15:44:03.436060Z"
    }
   },
   "outputs": [],
   "source": [
    "system_names = [ system_name for system_name, fw_ids in fw_id_dict.items() if len(fw_ids) > 0 ]"
   ]
  },
  {
   "cell_type": "code",
   "execution_count": 527,
   "metadata": {
    "ExecuteTime": {
     "end_time": "2018-10-19T23:18:21.264002Z",
     "start_time": "2018-10-19T23:18:21.205802Z"
    }
   },
   "outputs": [],
   "source": [
    "jobadmin.production_queueadapter['nodes'] = 8"
   ]
  },
  {
   "cell_type": "code",
   "execution_count": 528,
   "metadata": {
    "ExecuteTime": {
     "end_time": "2018-10-19T23:18:21.838660Z",
     "start_time": "2018-10-19T23:18:21.779172Z"
    }
   },
   "outputs": [],
   "source": [
    "jobadmin.production_queueadapter['walltime'] = '96:00:00'"
   ]
  },
  {
   "cell_type": "code",
   "execution_count": null,
   "metadata": {},
   "outputs": [],
   "source": [
    "jobadmin._template_lmp_cmd # double-check usage of correct LAMMPS command"
   ]
  },
  {
   "cell_type": "code",
   "execution_count": null,
   "metadata": {},
   "outputs": [],
   "source": [
    "# 500,000 steps ~ 1 ns\n",
    "# 10 nm / 1 ns ~ 10 m / s\n",
    "\n",
    "# 1,000,000 steps ~ 2 ns\n",
    "# 10 nm / 2 ns ~ 5 m / s"
   ]
  },
  {
   "cell_type": "code",
   "execution_count": 532,
   "metadata": {
    "ExecuteTime": {
     "end_time": "2018-10-19T23:20:57.705327Z",
     "start_time": "2018-10-19T23:20:57.649277Z"
    }
   },
   "outputs": [],
   "source": [
    "force_constant=25000\n",
    "approach_steps = 500000\n",
    "total_steps = int(1.1*approach_steps)"
   ]
  },
  {
   "cell_type": "code",
   "execution_count": 533,
   "metadata": {
    "ExecuteTime": {
     "end_time": "2018-10-19T23:21:14.256873Z",
     "start_time": "2018-10-19T23:21:13.802884Z"
    }
   },
   "outputs": [],
   "source": [
    "production_wrapper = lambda system_name: jobadmin.colvars_production(\n",
    "    system_name,\n",
    "    lmp_suffix_template= ' '.join((\n",
    "        '-v baseName {baseName:s} -v dataFile {dataFile:s}',\n",
    "        '-v has_indenter 1 -v pbd2d 0',\n",
    "        '-v reinitialize_velocities 0',\n",
    "        '-v productionSteps {:d}'.format(totalSteps(10)),\n",
    "        '-v use_colvars 1 -v mpiio 0',\n",
    "        '-v thermo_frequency 10',\n",
    "        '-v netcdf_frequency 1000',\n",
    "        '-v compute_interactions 1',\n",
    "        '-v store_forces 1',\n",
    "        '-v surfactant_name SDS')),\n",
    "    force_constant=force_constant,\n",
    "    total_steps=approach_steps,\n",
    "    initial_distance = 100.0, # nm, COM-COM\n",
    "    final_distance   = 10.0)"
   ]
  },
  {
   "cell_type": "code",
   "execution_count": 534,
   "metadata": {
    "ExecuteTime": {
     "end_time": "2018-10-19T23:21:15.018063Z",
     "start_time": "2018-10-19T23:21:14.916301Z"
    }
   },
   "outputs": [],
   "source": [
    "fw_dict = jobadmin.batch_prepare_fw( system_names, production_wrapper )"
   ]
  },
  {
   "cell_type": "code",
   "execution_count": 535,
   "metadata": {
    "ExecuteTime": {
     "end_time": "2018-10-19T23:21:18.177591Z",
     "start_time": "2018-10-19T23:21:17.579008Z"
    }
   },
   "outputs": [
    {
     "name": "stdout",
     "output_type": "stream",
     "text": [
      "Append 1107_SDS_on_AU_111_51x30x2_bilayer_with_counterion_50Ang_stepped to last fw_id in list [10330, 10838]\n",
      "Append 377_SDS_on_AU_111_51x30x2_cylinders_with_counterion_50Ang_stepped to last fw_id in list [10149, 10839]\n",
      "Append 220_SDS_on_AU_111_51x30x2_bilayer_with_counterion_50Ang_stepped to last fw_id in list [9930, 10150, 10840]\n",
      "Append 129_SDS_on_AU_111_51x30x2_monolayer_with_counterion_50Ang_stepped to last fw_id in list [9928, 10148, 10841]\n",
      "Append 75_SDS_on_AU_111_51x30x2_monolayer_with_counterion_50Ang_stepped to last fw_id in list [10326, 10842]\n",
      "Append 646_SDS_on_AU_111_51x30x2_monolayer_with_counterion_50Ang_stepped to last fw_id in list [10327, 10843]\n",
      "Append 220_SDS_on_AU_111_51x30x2_monolayer_with_counterion_50Ang_stepped to last fw_id in list [9926, 10146, 10844]\n",
      "Append 75_SDS_on_AU_111_51x30x2_bilayer_with_counterion_50Ang_stepped to last fw_id in list [10328, 10845]\n",
      "Append 377_SDS_on_AU_111_51x30x2_monolayer_with_counterion_50Ang_stepped to last fw_id in list [9925, 10145, 10846]\n",
      "Append 377_SDS_on_AU_111_51x30x2_bilayer_with_counterion_50Ang_stepped to last fw_id in list [9931, 10151, 10847]\n",
      "Append 646_SDS_on_AU_111_51x30x2_bilayer_with_counterion_50Ang_stepped to last fw_id in list [9927, 10147, 10848]\n",
      "Append 646_SDS_on_AU_111_51x30x2_cylinders_with_counterion_50Ang_stepped to last fw_id in list [10329, 10849]\n",
      "Append 646_SDS_on_AU_111_51x30x2_hemicylinders_with_counterion_50Ang_stepped to last fw_id in list [9933, 10153, 10850]\n"
     ]
    }
   ],
   "source": [
    "jobadmin.append_wf_by_key(fw_dict, fw_id_dict)"
   ]
  },
  {
   "cell_type": "markdown",
   "metadata": {
    "ExecuteTime": {
     "end_time": "2018-10-28T09:09:31.644997Z",
     "start_time": "2018-10-28T09:09:31.641141Z"
    }
   },
   "source": [
    "### Continuation tasks"
   ]
  },
  {
   "cell_type": "code",
   "execution_count": 46,
   "metadata": {
    "ExecuteTime": {
     "end_time": "2018-10-28T13:24:46.354311Z",
     "start_time": "2018-10-28T13:24:44.450169Z"
    }
   },
   "outputs": [],
   "source": [
    "import pymongo"
   ]
  },
  {
   "cell_type": "code",
   "execution_count": 86,
   "metadata": {
    "ExecuteTime": {
     "end_time": "2018-10-28T13:47:25.392955Z",
     "start_time": "2018-10-28T13:47:23.128272Z"
    }
   },
   "outputs": [],
   "source": [
    "total_steps = 500000"
   ]
  },
  {
   "cell_type": "code",
   "execution_count": 87,
   "metadata": {
    "ExecuteTime": {
     "end_time": "2018-10-28T13:47:29.547037Z",
     "start_time": "2018-10-28T13:47:29.469603Z"
    }
   },
   "outputs": [],
   "source": [
    "completed_fw_ids = jobadmin.lpad.get_fw_ids(\n",
    "    query = { \n",
    "        'state':            \"COMPLETED\",\n",
    "        'spec.system_name':  { '$in': system_name_scope },\n",
    "        'spec.step':        'production',\n",
    "        'spec.total_steps': total_steps },\n",
    "    sort = [('updated_on', pymongo.ASCENDING)])\n",
    "             "
   ]
  },
  {
   "cell_type": "code",
   "execution_count": 88,
   "metadata": {
    "ExecuteTime": {
     "end_time": "2018-10-28T13:47:30.760016Z",
     "start_time": "2018-10-28T13:47:30.700040Z"
    }
   },
   "outputs": [
    {
     "data": {
      "text/plain": [
       "[10856, 10858, 10860, 10854, 10861, 10862, 10855, 10851, 10857, 10859, 10853]"
      ]
     },
     "execution_count": 88,
     "metadata": {},
     "output_type": "execute_result"
    }
   ],
   "source": [
    "completed_fw_ids"
   ]
  },
  {
   "cell_type": "code",
   "execution_count": 89,
   "metadata": {
    "ExecuteTime": {
     "end_time": "2018-10-28T13:47:33.905113Z",
     "start_time": "2018-10-28T13:47:33.772723Z"
    }
   },
   "outputs": [],
   "source": [
    "completed_fw_id_dict = {}\n",
    "for fw_id in completed_fw_ids:\n",
    "    fw = jobadmin.lpad.get_fw_by_id(fw_id)\n",
    "    if fw.spec['system_name'] in completed_fw_id_dict:\n",
    "        completed_fw_id_dict[ fw.spec['system_name'] ].append(fw_id)\n",
    "    else:\n",
    "        completed_fw_id_dict[ fw.spec['system_name'] ] = [ fw_id ]\n",
    "    "
   ]
  },
  {
   "cell_type": "code",
   "execution_count": 90,
   "metadata": {
    "ExecuteTime": {
     "end_time": "2018-10-28T13:47:36.145440Z",
     "start_time": "2018-10-28T13:47:36.077384Z"
    }
   },
   "outputs": [],
   "source": [
    "fizzled_fw_ids = jobadmin.lpad.get_fw_ids(\n",
    "    query = { \n",
    "        'state':            \"FIZZLED\",\n",
    "        'spec.system_name':  { '$in': system_name_scope },\n",
    "        'spec.step':        'production',\n",
    "        'spec.total_steps':      total_steps },\n",
    "    sort = [('updated_on', pymongo.ASCENDING)])\n",
    "             "
   ]
  },
  {
   "cell_type": "code",
   "execution_count": 91,
   "metadata": {
    "ExecuteTime": {
     "end_time": "2018-10-28T13:47:37.044565Z",
     "start_time": "2018-10-28T13:47:37.002560Z"
    }
   },
   "outputs": [
    {
     "data": {
      "text/plain": [
       "[10225, 10226, 10232, 10231]"
      ]
     },
     "execution_count": 91,
     "metadata": {},
     "output_type": "execute_result"
    }
   ],
   "source": [
    "fizzled_fw_ids"
   ]
  },
  {
   "cell_type": "code",
   "execution_count": 62,
   "metadata": {
    "ExecuteTime": {
     "end_time": "2018-10-28T13:29:12.409018Z",
     "start_time": "2018-10-28T13:29:12.310732Z"
    }
   },
   "outputs": [],
   "source": [
    "fizzled_fw_id_dict = {}\n",
    "for fw_id in fizzled_fw_ids:\n",
    "    fw = jobadmin.lpad.get_fw_by_id(fw_id)\n",
    "    if fw.spec['system_name'] in fizzled_fw_id_dict:\n",
    "        fizzled_fw_id_dict[ fw.spec['system_name'] ].append(fw_id)\n",
    "    else:\n",
    "        fizzled_fw_id_dict[ fw.spec['system_name'] ] = [ fw_id ]\n",
    "    "
   ]
  },
  {
   "cell_type": "code",
   "execution_count": 66,
   "metadata": {
    "ExecuteTime": {
     "end_time": "2018-10-28T13:30:41.519700Z",
     "start_time": "2018-10-28T13:30:39.364334Z"
    }
   },
   "outputs": [],
   "source": [
    "discontinued_systems = fizzled_fw_id_dict.keys() - completed_fw_id_dict.keys()"
   ]
  },
  {
   "cell_type": "code",
   "execution_count": 67,
   "metadata": {
    "ExecuteTime": {
     "end_time": "2018-10-28T13:32:20.576115Z",
     "start_time": "2018-10-28T13:32:18.054495Z"
    }
   },
   "outputs": [],
   "source": [
    "discontinued_fw_id_dict = { \n",
    "    system_name: fizzled_fw_id_dict[system_name] for system_name in discontinued_systems }"
   ]
  },
  {
   "cell_type": "code",
   "execution_count": 68,
   "metadata": {
    "ExecuteTime": {
     "end_time": "2018-10-28T13:32:25.211591Z",
     "start_time": "2018-10-28T13:32:25.152452Z"
    }
   },
   "outputs": [
    {
     "data": {
      "text/plain": [
       "{'646_SDS_on_AU_111_51x30x2_hemicylinders_with_counterion_50Ang_stepped': [10226,\n",
       "  10232]}"
      ]
     },
     "execution_count": 68,
     "metadata": {},
     "output_type": "execute_result"
    }
   ],
   "source": [
    "discontinued_fw_id_dict"
   ]
  },
  {
   "cell_type": "code",
   "execution_count": 73,
   "metadata": {
    "ExecuteTime": {
     "end_time": "2018-10-28T13:35:47.302642Z",
     "start_time": "2018-10-28T13:35:47.238012Z"
    }
   },
   "outputs": [],
   "source": [
    "system_names = list( discontinued_fw_id_dict.keys() )"
   ]
  },
  {
   "cell_type": "code",
   "execution_count": 42,
   "metadata": {
    "ExecuteTime": {
     "end_time": "2018-10-28T13:36:04.347948Z",
     "start_time": "2018-10-28T13:36:04.285423Z"
    }
   },
   "outputs": [
    {
     "ename": "NameError",
     "evalue": "name 'system_names' is not defined",
     "output_type": "error",
     "traceback": [
      "\u001b[0;31m---------------------------------------------------------------------------\u001b[0m",
      "\u001b[0;31mNameError\u001b[0m                                 Traceback (most recent call last)",
      "\u001b[0;32m<ipython-input-42-cb1a307c709b>\u001b[0m in \u001b[0;36m<module>\u001b[0;34m()\u001b[0m\n\u001b[0;32m----> 1\u001b[0;31m \u001b[0msystem_names\u001b[0m\u001b[0;34m\u001b[0m\u001b[0;34m\u001b[0m\u001b[0m\n\u001b[0m",
      "\u001b[0;31mNameError\u001b[0m: name 'system_names' is not defined"
     ]
    }
   ],
   "source": [
    "system_names"
   ]
  },
  {
   "cell_type": "code",
   "execution_count": 69,
   "metadata": {
    "ExecuteTime": {
     "end_time": "2018-10-28T13:33:59.916681Z",
     "start_time": "2018-10-28T13:33:57.423607Z"
    }
   },
   "outputs": [
    {
     "data": {
      "text/plain": [
       "{'nodes': 4, 'walltime': '96:00:00'}"
      ]
     },
     "execution_count": 69,
     "metadata": {},
     "output_type": "execute_result"
    }
   ],
   "source": [
    "jobadmin.production_queueadapter"
   ]
  },
  {
   "cell_type": "code",
   "execution_count": 70,
   "metadata": {
    "ExecuteTime": {
     "end_time": "2018-10-28T13:34:08.140819Z",
     "start_time": "2018-10-28T13:34:08.082208Z"
    }
   },
   "outputs": [],
   "source": [
    "jobadmin.production_queueadapter['nodes'] = 8"
   ]
  },
  {
   "cell_type": "code",
   "execution_count": 71,
   "metadata": {
    "ExecuteTime": {
     "end_time": "2018-10-28T13:34:32.211048Z",
     "start_time": "2018-10-28T13:34:32.147678Z"
    }
   },
   "outputs": [],
   "source": [
    "force_constant=25000\n",
    "approach_steps = 500000\n",
    "total_steps = int(1.1*approach_steps)"
   ]
  },
  {
   "cell_type": "code",
   "execution_count": 72,
   "metadata": {
    "ExecuteTime": {
     "end_time": "2018-10-28T13:35:11.742653Z",
     "start_time": "2018-10-28T13:35:09.824952Z"
    }
   },
   "outputs": [],
   "source": [
    "restart_wrapper = lambda system_name: jobadmin.prepare_restart(\n",
    "    system_name,\n",
    "    lmp_suffix_template= ' '.join((\n",
    "        '-v baseName {baseName:s}',\n",
    "        '-v has_indenter 1 -v pbd2d 0',\n",
    "        '-v reinitialize_velocities 0',\n",
    "        '-v productionSteps {:d}'.format(total_steps),\n",
    "        '-v use_colvars 1 -v mpiio 0',\n",
    "        '-v thermo_frequency 10',\n",
    "        '-v netcdf_frequency 1000',\n",
    "        '-v compute_interactions 1',\n",
    "        '-v store_forces 1',\n",
    "        '-v surfactant_name SDS')),\n",
    "    output_subfolder='production_{:d}'.format(approach_steps))"
   ]
  },
  {
   "cell_type": "code",
   "execution_count": 75,
   "metadata": {
    "ExecuteTime": {
     "end_time": "2018-10-28T13:36:12.624796Z",
     "start_time": "2018-10-28T13:36:11.390335Z"
    }
   },
   "outputs": [],
   "source": [
    "fw_dict = jobadmin.batch_prepare_fw( system_names, restart_wrapper )"
   ]
  },
  {
   "cell_type": "code",
   "execution_count": 76,
   "metadata": {
    "ExecuteTime": {
     "end_time": "2018-10-28T13:36:22.637764Z",
     "start_time": "2018-10-28T13:36:22.567219Z"
    }
   },
   "outputs": [
    {
     "data": {
      "text/plain": [
       "{'created_on': '2018-10-28T13:36:12.622599',\n",
       " 'fw_id': -1,\n",
       " 'name': '646_SDS_on_AU_111_51x30x2_hemicylinders_with_counterion_50Ang_stepped_recover_lammps',\n",
       " 'spec': {'_allow_fizzled_parents': True,\n",
       "  '_category': 'nemo_noqueue',\n",
       "  '_tasks': [{'_fw_name': 'RecoverLammpsTask',\n",
       "    'continue': True,\n",
       "    'dest': '/work/ws/nemo/fr_jh1130-201708-0/jobs/lmplab/sds/201809/sys/646_SDS_on_AU_111_51x30x2_hemicylinders_with_counterion_50Ang_stepped/production_500000',\n",
       "    'file_transfer_mode': 'copy',\n",
       "    'fizzle_on_no_restart_file': True,\n",
       "    'lmp_cmd': 'module purge; module use ${HOME}/modulefiles; module load lammps/16Mar18-gnu-7.3-openmpi-3.1-colvars-20Sep18; mpirun ${MPIRUN_OPTIONS} lmp -in lmp_production.input',\n",
       "    'lmp_opt': '-v baseName {baseName:s} -v has_indenter 1 -v pbd2d 0 -v reinitialize_velocities 0 -v productionSteps 550000 -v use_colvars 1 -v mpiio 0 -v thermo_frequency 10 -v netcdf_frequency 1000 -v compute_interactions 1 -v store_forces 1 -v surfactant_name SDS',\n",
       "    'lmp_queueadapter': {'nodes': 8, 'walltime': '96:00:00'},\n",
       "    'other_glob_patterns': ['*.nc',\n",
       "     '*.log',\n",
       "     '*.colvars.traj',\n",
       "     '*.colvars.state',\n",
       "     '*.ti.count',\n",
       "     '*.ti.grad',\n",
       "     '*.ti.pmf'],\n",
       "    'recover': True,\n",
       "    'restart_file_glob_pattern': ['*.restart[0-9]']}],\n",
       "  'geninfo': 'Generated on Sun Oct 28 10:11:48 2018 by fr_jh1130@login1.nemo.privat',\n",
       "  'step': 'recover_lammps',\n",
       "  'system_name': '646_SDS_on_AU_111_51x30x2_hemicylinders_with_counterion_50Ang_stepped'},\n",
       " 'updated_on': '2018-10-28T13:36:12.622602'}"
      ]
     },
     "execution_count": 76,
     "metadata": {},
     "output_type": "execute_result"
    }
   ],
   "source": [
    "fw_dict[system_names[0]].as_dict()"
   ]
  },
  {
   "cell_type": "code",
   "execution_count": 77,
   "metadata": {
    "ExecuteTime": {
     "end_time": "2018-10-28T13:37:49.036945Z",
     "start_time": "2018-10-28T13:37:46.085853Z"
    }
   },
   "outputs": [
    {
     "name": "stdout",
     "output_type": "stream",
     "text": [
      "Append 646_SDS_on_AU_111_51x30x2_hemicylinders_with_counterion_50Ang_stepped to last fw_id in list [10226, 10232]\n"
     ]
    }
   ],
   "source": [
    "jobadmin.append_wf_by_key(fw_dict, discontinued_fw_id_dict)"
   ]
  },
  {
   "cell_type": "markdown",
   "metadata": {},
   "source": [
    "## Progress check & recovery "
   ]
  },
  {
   "cell_type": "markdown",
   "metadata": {},
   "source": [
    "Manually append \"post LAMMPS\" fireworks to fizzled production runs,\n",
    "in order to run in same directory as previous and pull already produced output files."
   ]
  },
  {
   "cell_type": "code",
   "execution_count": null,
   "metadata": {
    "ExecuteTime": {
     "end_time": "2018-09-24T17:59:47.584106Z",
     "start_time": "2018-09-24T17:59:47.536185Z"
    }
   },
   "outputs": [],
   "source": [
    "system_name_scope"
   ]
  },
  {
   "cell_type": "code",
   "execution_count": null,
   "metadata": {
    "ExecuteTime": {
     "end_time": "2018-09-24T17:59:51.300343Z",
     "start_time": "2018-09-24T17:59:51.153833Z"
    }
   },
   "outputs": [],
   "source": [
    "fizzled_production_dict = jobadmin.query_step(\n",
    "    step='production', state_list = ['FIZZLED'] )"
   ]
  },
  {
   "cell_type": "code",
   "execution_count": null,
   "metadata": {
    "ExecuteTime": {
     "end_time": "2018-09-24T17:59:51.615751Z",
     "start_time": "2018-09-24T17:59:51.555713Z"
    }
   },
   "outputs": [],
   "source": [
    "fizzled_production_dict"
   ]
  },
  {
   "cell_type": "code",
   "execution_count": null,
   "metadata": {
    "ExecuteTime": {
     "end_time": "2018-09-24T17:59:56.511272Z",
     "start_time": "2018-09-24T17:59:56.257269Z"
    }
   },
   "outputs": [],
   "source": [
    "fw_ids = jobadmin.lpad.get_fw_ids(\n",
    "    query = { \n",
    "        \"spec.step\":      \"production\",\n",
    "        \"state\":          \"FIZZLED\", \n",
    "        \"spec._category\": \"nemo_queue\"} )"
   ]
  },
  {
   "cell_type": "code",
   "execution_count": null,
   "metadata": {
    "ExecuteTime": {
     "end_time": "2018-09-24T17:59:59.151632Z",
     "start_time": "2018-09-24T17:59:58.927803Z"
    }
   },
   "outputs": [],
   "source": [
    "fw_id_system_name_dict = { \n",
    "    fw_id: jobadmin.lpad.get_fw_by_id(fw_id).spec[\"system_name\"] for fw_id in fw_ids }"
   ]
  },
  {
   "cell_type": "code",
   "execution_count": null,
   "metadata": {
    "ExecuteTime": {
     "end_time": "2018-09-24T17:59:59.701747Z",
     "start_time": "2018-09-24T17:59:59.642845Z"
    }
   },
   "outputs": [],
   "source": [
    "system_names = list(\n",
    "    set(fw_id_system_name_dict.values()) & set(system_name_scope) )"
   ]
  },
  {
   "cell_type": "code",
   "execution_count": null,
   "metadata": {
    "ExecuteTime": {
     "end_time": "2018-09-24T18:00:02.277557Z",
     "start_time": "2018-09-24T18:00:02.100303Z"
    }
   },
   "outputs": [],
   "source": [
    "fw_id_dict = { \n",
    "    jobadmin.lpad.get_fw_by_id(fw_id).name: fw_id \\\n",
    "    for fw_id, system_name in fw_id_system_name_dict.items() \\\n",
    "    if system_name in system_names }"
   ]
  },
  {
   "cell_type": "code",
   "execution_count": null,
   "metadata": {
    "ExecuteTime": {
     "end_time": "2018-09-24T18:33:28.004341Z",
     "start_time": "2018-09-24T18:33:27.701726Z"
    }
   },
   "outputs": [],
   "source": [
    "fw_id_dict"
   ]
  },
  {
   "cell_type": "code",
   "execution_count": null,
   "metadata": {
    "ExecuteTime": {
     "end_time": "2018-09-24T18:46:10.141466Z",
     "start_time": "2018-09-24T18:46:09.919401Z"
    }
   },
   "outputs": [],
   "source": [
    "fw_dict = {}\n",
    "for fw_name, fw_id in fw_id_dict.items():\n",
    "    launch_dir = jobadmin.lpad.get_launchdir(fw_id)\n",
    "    fw_spec = jobadmin.lpad.get_fw_by_id(fw_id).spec\n",
    "    system_name = fw_spec[\"system_name\"]\n",
    "    if \"total_steps\" in fw_spec:\n",
    "        total_steps = fw_spec[\"total_steps\"]\n",
    "    else:\n",
    "        total_steps = 1000000\n",
    "        \n",
    "    step = fw_spec[\"step\"]\n",
    "    fw_dict[fw_name] = jobadmin.post_lammps_fw(\n",
    "        system_name = system_name, \n",
    "        parent_fw_id = fw_id, \n",
    "        launch_dir = launch_dir,\n",
    "        output_folder = '{:s}_{:d}'.format(step,total_steps),\n",
    "        step= 'production', lmp_suffix='_production_mixed')"
   ]
  },
  {
   "cell_type": "code",
   "execution_count": null,
   "metadata": {
    "ExecuteTime": {
     "end_time": "2018-09-24T18:46:10.747648Z",
     "start_time": "2018-09-24T18:46:10.679258Z"
    }
   },
   "outputs": [],
   "source": [
    "fw_dict[ list(fw_dict.keys())[0] ].as_dict()"
   ]
  },
  {
   "cell_type": "code",
   "execution_count": null,
   "metadata": {
    "ExecuteTime": {
     "end_time": "2018-09-24T18:46:14.784461Z",
     "start_time": "2018-09-24T18:46:13.454550Z"
    }
   },
   "outputs": [],
   "source": [
    "for fw_name, fw in fw_dict.items():\n",
    "    jobadmin.lpad.append_wf(\n",
    "        new_wf = Workflow( [ fw ] ), \n",
    "        fw_ids = [ fw_id_dict[ fw_name ] ] )"
   ]
  },
  {
   "cell_type": "code",
   "execution_count": null,
   "metadata": {
    "ExecuteTime": {
     "end_time": "2018-09-24T18:24:54.501281Z",
     "start_time": "2018-09-24T18:24:54.457585Z"
    }
   },
   "outputs": [],
   "source": [
    "fw_dict[ list(fw_dict.keys())[0] ]"
   ]
  },
  {
   "cell_type": "markdown",
   "metadata": {},
   "source": [
    "### Defuse certain fw ids"
   ]
  },
  {
   "cell_type": "code",
   "execution_count": null,
   "metadata": {
    "ExecuteTime": {
     "end_time": "2018-09-19T10:36:03.247713Z",
     "start_time": "2018-09-19T10:36:03.000046Z"
    }
   },
   "outputs": [],
   "source": [
    "for fw_id in fw_ids: jobadmin.lpad.defuse_fw( fw_id, rerun_duplicates=False )"
   ]
  },
  {
   "cell_type": "markdown",
   "metadata": {},
   "source": [
    "### Rerun certain fw ids"
   ]
  },
  {
   "cell_type": "code",
   "execution_count": null,
   "metadata": {
    "ExecuteTime": {
     "end_time": "2018-09-18T18:38:56.012368Z",
     "start_time": "2018-09-18T18:38:55.664183Z"
    }
   },
   "outputs": [],
   "source": [
    "for key, fw_ids in fw_id_dict.items():\n",
    "    jobadmin.lpad.rerun_fw(fw_ids[-1],rerun_duplicates=False)"
   ]
  },
  {
   "cell_type": "code",
   "execution_count": null,
   "metadata": {
    "ExecuteTime": {
     "end_time": "2018-09-18T18:40:42.201827Z",
     "start_time": "2018-09-18T18:40:42.012438Z"
    }
   },
   "outputs": [],
   "source": [
    "jobadmin.lpad.rerun_fw(9922,rerun_duplicates=False)"
   ]
  },
  {
   "cell_type": "markdown",
   "metadata": {},
   "source": [
    "### Detect certain lost runs\n",
    "fizzle and forget them.\n",
    "For some reason, offline runs are un-fizzled again when recovered if not forcefully \"forgotten\""
   ]
  },
  {
   "cell_type": "code",
   "execution_count": null,
   "metadata": {
    "ExecuteTime": {
     "end_time": "2018-09-24T17:58:56.201094Z",
     "start_time": "2018-09-24T17:58:55.830263Z"
    }
   },
   "outputs": [],
   "source": [
    "launch_ids, fw_ids, _ = \\\n",
    "    jobadmin.lpad.detect_lostruns(expiration_secs=1, query= {\n",
    "        'spec.system_name': { '$regex': '.*CTAB.*'}\n",
    "    },fizzle=True)\n",
    "for fw_id in fw_ids: jobadmin.lpad.forget_offline(fw_id)    "
   ]
  },
  {
   "cell_type": "code",
   "execution_count": null,
   "metadata": {
    "ExecuteTime": {
     "end_time": "2018-09-24T17:59:01.248650Z",
     "start_time": "2018-09-24T17:59:01.067223Z"
    }
   },
   "outputs": [],
   "source": [
    "# detect lost runs except certain fw ids\n",
    "# do not recover them afterwards\n",
    "launch_ids, fw_ids, _ = \\\n",
    "    jobadmin.lpad.detect_lostruns(expiration_secs=1, query= {\n",
    "        'fw_id': {'$nin': [ 10232,10231 ] }\n",
    "    }, fizzle=True)\n",
    "for fw_id in fw_ids: jobadmin.lpad.forget_offline(fw_id)"
   ]
  },
  {
   "cell_type": "code",
   "execution_count": 350,
   "metadata": {},
   "outputs": [
    {
     "data": {
      "text/plain": [
       "19"
      ]
     },
     "execution_count": 350,
     "metadata": {},
     "output_type": "execute_result"
    }
   ],
   "source": [
    "3 +4*4"
   ]
  },
  {
   "cell_type": "code",
   "execution_count": null,
   "metadata": {},
   "outputs": [],
   "source": [
    "3+"
   ]
  }
 ],
 "metadata": {
  "hide_input": false,
  "kernelspec": {
   "display_name": "Python 3 (jlh-bwCloud)",
   "language": "python",
   "name": "python3-jlh-bwcloud"
  },
  "language_info": {
   "codemirror_mode": {
    "name": "ipython",
    "version": 3
   },
   "file_extension": ".py",
   "mimetype": "text/x-python",
   "name": "python",
   "nbconvert_exporter": "python",
   "pygments_lexer": "ipython3",
   "version": "3.6.7"
  },
  "latex_envs": {
   "LaTeX_envs_menu_present": true,
   "autoclose": false,
   "autocomplete": true,
   "bibliofile": "biblio.bib",
   "cite_by": "apalike",
   "current_citInitial": 1,
   "eqLabelWithNumbers": true,
   "eqNumInitial": 1,
   "hotkeys": {
    "equation": "Ctrl-E",
    "itemize": "Ctrl-I"
   },
   "labels_anchors": false,
   "latex_user_defs": false,
   "report_style_numbering": false,
   "user_envs_cfg": false
  },
  "toc": {
   "base_numbering": 1,
   "nav_menu": {},
   "number_sections": true,
   "sideBar": true,
   "skip_h1_title": false,
   "title_cell": "Table of Contents",
   "title_sidebar": "Contents",
   "toc_cell": false,
   "toc_position": {
    "height": "808px",
    "left": "23px",
    "top": "136.283px",
    "width": "353px"
   },
   "toc_section_display": true,
   "toc_window_display": true
  },
  "varInspector": {
   "cols": {
    "lenName": 16,
    "lenType": 16,
    "lenVar": 40
   },
   "kernels_config": {
    "python": {
     "delete_cmd_postfix": "",
     "delete_cmd_prefix": "del ",
     "library": "var_list.py",
     "varRefreshCmd": "print(var_dic_list())"
    },
    "r": {
     "delete_cmd_postfix": ") ",
     "delete_cmd_prefix": "rm(",
     "library": "var_list.r",
     "varRefreshCmd": "cat(var_dic_list()) "
    }
   },
   "types_to_exclude": [
    "module",
    "function",
    "builtin_function_or_method",
    "instance",
    "_Feature"
   ],
   "window_display": false
  }
 },
 "nbformat": 4,
 "nbformat_minor": 2
}
