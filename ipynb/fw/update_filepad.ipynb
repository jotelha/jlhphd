{
 "cells": [
  {
   "cell_type": "code",
   "execution_count": 1,
   "metadata": {
    "ExecuteTime": {
     "end_time": "2019-04-24T14:51:25.836496Z",
     "start_time": "2019-04-24T14:51:25.680181Z"
    }
   },
   "outputs": [],
   "source": [
    "from fireworks.utilities.filepad import FilePad "
   ]
  },
  {
   "cell_type": "code",
   "execution_count": 2,
   "metadata": {
    "ExecuteTime": {
     "end_time": "2019-04-24T14:51:26.027772Z",
     "start_time": "2019-04-24T14:51:25.844987Z"
    }
   },
   "outputs": [],
   "source": [
    "import pandas as pd"
   ]
  },
  {
   "cell_type": "code",
   "execution_count": 3,
   "metadata": {
    "ExecuteTime": {
     "end_time": "2019-04-24T14:51:29.658169Z",
     "start_time": "2019-04-24T14:51:29.654045Z"
    }
   },
   "outputs": [],
   "source": [
    "import os"
   ]
  },
  {
   "cell_type": "code",
   "execution_count": 4,
   "metadata": {
    "ExecuteTime": {
     "end_time": "2019-04-24T14:51:29.723341Z",
     "start_time": "2019-04-24T14:51:29.669565Z"
    }
   },
   "outputs": [],
   "source": [
    "fp = FilePad(\n",
    "    host='localhost',\n",
    "    port=27018,\n",
    "    database='fireworks-jhoermann',\n",
    "    username='fireworks',\n",
    "    password='fireworks')"
   ]
  },
  {
   "cell_type": "code",
   "execution_count": 26,
   "metadata": {
    "ExecuteTime": {
     "end_time": "2019-04-25T08:10:53.055312Z",
     "start_time": "2019-04-25T08:10:53.045285Z"
    }
   },
   "outputs": [
    {
     "data": {
      "text/plain": [
       "360"
      ]
     },
     "execution_count": 26,
     "metadata": {},
     "output_type": "execute_result"
    }
   ],
   "source": [
    "fp.count()"
   ]
  },
  {
   "cell_type": "code",
   "execution_count": 36,
   "metadata": {
    "ExecuteTime": {
     "end_time": "2019-04-25T08:15:03.287383Z",
     "start_time": "2019-04-25T08:15:03.280464Z"
    }
   },
   "outputs": [
    {
     "data": {
      "text/plain": [
       "pymongo.collection.Collection"
      ]
     },
     "execution_count": 36,
     "metadata": {},
     "output_type": "execute_result"
    }
   ],
   "source": [
    "type(fp.filepad)"
   ]
  },
  {
   "cell_type": "code",
   "execution_count": 37,
   "metadata": {
    "ExecuteTime": {
     "end_time": "2019-04-25T08:15:15.421004Z",
     "start_time": "2019-04-25T08:15:15.414309Z"
    }
   },
   "outputs": [
    {
     "data": {
      "text/plain": [
       "gridfs.GridFS"
      ]
     },
     "execution_count": 37,
     "metadata": {},
     "output_type": "execute_result"
    }
   ],
   "source": [
    "type(fp.gridfs)"
   ]
  },
  {
   "cell_type": "code",
   "execution_count": 43,
   "metadata": {
    "ExecuteTime": {
     "end_time": "2019-04-25T08:19:20.677189Z",
     "start_time": "2019-04-25T08:19:20.660581Z"
    }
   },
   "outputs": [],
   "source": [
    "def list(gridfs):\n",
    "    \"\"\"List the names of all files stored in this instance of\n",
    "    :class:`GridFS`.\n",
    "    .. versionchanged:: 3.1\n",
    "       ``list`` no longer ensures indexes.\n",
    "    \"\"\"\n",
    "    # With an index, distinct includes documents with no filename\n",
    "    # as None.\n",
    "    return [\n",
    "        name for name in gridfs._GridFS__files.distinct(\"identifier\")\n",
    "        if name is not None]"
   ]
  },
  {
   "cell_type": "code",
   "execution_count": 57,
   "metadata": {
    "ExecuteTime": {
     "end_time": "2019-04-25T08:31:54.738379Z",
     "start_time": "2019-04-25T08:31:54.733011Z"
    }
   },
   "outputs": [],
   "source": [
    "import pymongo\n",
    "\n",
    "files = fp.filepad.find(sort=[('identifier', pymongo.ASCENDING)] )\n",
    "\n",
    "for f in files:\n",
    "    print(f['identifier'])"
   ]
  },
  {
   "cell_type": "code",
   "execution_count": 62,
   "metadata": {
    "ExecuteTime": {
     "end_time": "2019-04-25T08:33:10.538781Z",
     "start_time": "2019-04-25T08:33:10.527006Z"
    }
   },
   "outputs": [],
   "source": [
    "t = next(test)"
   ]
  },
  {
   "cell_type": "code",
   "execution_count": 63,
   "metadata": {
    "ExecuteTime": {
     "end_time": "2019-04-25T08:33:11.540228Z",
     "start_time": "2019-04-25T08:33:11.534119Z"
    }
   },
   "outputs": [
    {
     "data": {
      "text/plain": [
       "dict"
      ]
     },
     "execution_count": 63,
     "metadata": {},
     "output_type": "execute_result"
    }
   ],
   "source": [
    "type(t)"
   ]
  },
  {
   "cell_type": "code",
   "execution_count": null,
   "metadata": {},
   "outputs": [],
   "source": []
  },
  {
   "cell_type": "code",
   "execution_count": 51,
   "metadata": {
    "ExecuteTime": {
     "end_time": "2019-04-25T08:28:56.105023Z",
     "start_time": "2019-04-25T08:28:56.096363Z"
    }
   },
   "outputs": [
    {
     "data": {
      "text/plain": [
       "['_Cursor__address',\n",
       " '_Cursor__batch_size',\n",
       " '_Cursor__check_okay_to_chain',\n",
       " '_Cursor__codec_options',\n",
       " '_Cursor__collation',\n",
       " '_Cursor__collection',\n",
       " '_Cursor__comment',\n",
       " '_Cursor__data',\n",
       " '_Cursor__die',\n",
       " '_Cursor__empty',\n",
       " '_Cursor__exhaust',\n",
       " '_Cursor__exhaust_mgr',\n",
       " '_Cursor__explain',\n",
       " '_Cursor__explicit_session',\n",
       " '_Cursor__hint',\n",
       " '_Cursor__id',\n",
       " '_Cursor__killed',\n",
       " '_Cursor__limit',\n",
       " '_Cursor__manipulate',\n",
       " '_Cursor__max',\n",
       " '_Cursor__max_await_time_ms',\n",
       " '_Cursor__max_scan',\n",
       " '_Cursor__max_time_ms',\n",
       " '_Cursor__min',\n",
       " '_Cursor__modifiers',\n",
       " '_Cursor__ordering',\n",
       " '_Cursor__projection',\n",
       " '_Cursor__query_flags',\n",
       " '_Cursor__query_spec',\n",
       " '_Cursor__read_concern',\n",
       " '_Cursor__read_preference',\n",
       " '_Cursor__retrieved',\n",
       " '_Cursor__return_key',\n",
       " '_Cursor__send_message',\n",
       " '_Cursor__session',\n",
       " '_Cursor__set_hint',\n",
       " '_Cursor__show_record_id',\n",
       " '_Cursor__skip',\n",
       " '_Cursor__snapshot',\n",
       " '_Cursor__spec',\n",
       " '__class__',\n",
       " '__copy__',\n",
       " '__deepcopy__',\n",
       " '__del__',\n",
       " '__delattr__',\n",
       " '__dict__',\n",
       " '__dir__',\n",
       " '__doc__',\n",
       " '__enter__',\n",
       " '__eq__',\n",
       " '__exit__',\n",
       " '__format__',\n",
       " '__ge__',\n",
       " '__getattribute__',\n",
       " '__getitem__',\n",
       " '__gt__',\n",
       " '__hash__',\n",
       " '__init__',\n",
       " '__init_subclass__',\n",
       " '__iter__',\n",
       " '__le__',\n",
       " '__lt__',\n",
       " '__module__',\n",
       " '__ne__',\n",
       " '__new__',\n",
       " '__next__',\n",
       " '__reduce__',\n",
       " '__reduce_ex__',\n",
       " '__repr__',\n",
       " '__setattr__',\n",
       " '__sizeof__',\n",
       " '__str__',\n",
       " '__subclasshook__',\n",
       " '__weakref__',\n",
       " '_clone',\n",
       " '_clone_base',\n",
       " '_deepcopy',\n",
       " '_getmore_class',\n",
       " '_query_class',\n",
       " '_read_preference',\n",
       " '_refresh',\n",
       " '_unpack_response',\n",
       " 'add_option',\n",
       " 'address',\n",
       " 'alive',\n",
       " 'batch_size',\n",
       " 'clone',\n",
       " 'close',\n",
       " 'collation',\n",
       " 'collection',\n",
       " 'comment',\n",
       " 'count',\n",
       " 'cursor_id',\n",
       " 'distinct',\n",
       " 'explain',\n",
       " 'hint',\n",
       " 'limit',\n",
       " 'max',\n",
       " 'max_await_time_ms',\n",
       " 'max_scan',\n",
       " 'max_time_ms',\n",
       " 'min',\n",
       " 'next',\n",
       " 'remove_option',\n",
       " 'retrieved',\n",
       " 'rewind',\n",
       " 'session',\n",
       " 'skip',\n",
       " 'sort',\n",
       " 'where']"
      ]
     },
     "execution_count": 51,
     "metadata": {},
     "output_type": "execute_result"
    }
   ],
   "source": [
    "dir(test)"
   ]
  },
  {
   "cell_type": "code",
   "execution_count": 44,
   "metadata": {
    "ExecuteTime": {
     "end_time": "2019-04-25T08:19:22.022502Z",
     "start_time": "2019-04-25T08:19:22.010051Z"
    }
   },
   "outputs": [
    {
     "data": {
      "text/plain": [
       "[]"
      ]
     },
     "execution_count": 44,
     "metadata": {},
     "output_type": "execute_result"
    }
   ],
   "source": [
    "list(fp.gridfs)"
   ]
  },
  {
   "cell_type": "code",
   "execution_count": 40,
   "metadata": {
    "ExecuteTime": {
     "end_time": "2019-04-25T08:18:46.332309Z",
     "start_time": "2019-04-25T08:18:46.325513Z"
    }
   },
   "outputs": [
    {
     "data": {
      "text/plain": [
       "Collection(Database(MongoClient(host=['localhost:27018'], document_class=dict, tz_aware=False, connect=True), 'fireworks-jhoermann'), 'filepad_gfs.files')"
      ]
     },
     "execution_count": 40,
     "metadata": {},
     "output_type": "execute_result"
    }
   ],
   "source": [
    "fp.gridfs._GridFS__files"
   ]
  },
  {
   "cell_type": "code",
   "execution_count": 38,
   "metadata": {
    "ExecuteTime": {
     "end_time": "2019-04-25T08:15:30.260047Z",
     "start_time": "2019-04-25T08:15:30.250485Z"
    }
   },
   "outputs": [
    {
     "data": {
      "text/plain": [
       "[]"
      ]
     },
     "execution_count": 38,
     "metadata": {},
     "output_type": "execute_result"
    }
   ],
   "source": [
    "fp.gridfs.list()"
   ]
  },
  {
   "cell_type": "code",
   "execution_count": 32,
   "metadata": {
    "ExecuteTime": {
     "end_time": "2019-04-25T08:12:43.637462Z",
     "start_time": "2019-04-25T08:12:43.630020Z"
    }
   },
   "outputs": [],
   "source": [
    "test = fp.filepad.list_indexes()"
   ]
  },
  {
   "cell_type": "code",
   "execution_count": 6,
   "metadata": {
    "ExecuteTime": {
     "end_time": "2019-04-24T14:51:29.760520Z",
     "start_time": "2019-04-24T14:51:29.756498Z"
    }
   },
   "outputs": [],
   "source": [
    "# insertion of input files"
   ]
  },
  {
   "cell_type": "code",
   "execution_count": 7,
   "metadata": {
    "ExecuteTime": {
     "end_time": "2019-04-24T14:51:30.783928Z",
     "start_time": "2019-04-24T14:51:30.779040Z"
    }
   },
   "outputs": [],
   "source": [
    "prefix = os.getcwd()"
   ]
  },
  {
   "cell_type": "code",
   "execution_count": 8,
   "metadata": {
    "ExecuteTime": {
     "end_time": "2019-04-24T14:51:30.948300Z",
     "start_time": "2019-04-24T14:51:30.942651Z"
    }
   },
   "outputs": [
    {
     "name": "stdout",
     "output_type": "stream",
     "text": [
      "/mnt/dat/work/testuser/adsorption/N_surfactant_on_substrate_template/ipynb/fw\n"
     ]
    }
   ],
   "source": [
    "print(prefix)"
   ]
  },
  {
   "cell_type": "code",
   "execution_count": 10,
   "metadata": {
    "ExecuteTime": {
     "end_time": "2019-04-24T14:51:53.698242Z",
     "start_time": "2019-04-24T14:51:53.689480Z"
    }
   },
   "outputs": [
    {
     "data": {
      "text/plain": [
       "'/mnt/dat/work/testuser/adsorption/N_surfactant_on_substrate_template'"
      ]
     },
     "execution_count": 10,
     "metadata": {},
     "output_type": "execute_result"
    }
   ],
   "source": [
    "os.path.split(os.path.split(prefix)[0])[0]"
   ]
  },
  {
   "cell_type": "code",
   "execution_count": 11,
   "metadata": {
    "ExecuteTime": {
     "end_time": "2019-04-24T14:52:00.193621Z",
     "start_time": "2019-04-24T14:52:00.188899Z"
    }
   },
   "outputs": [],
   "source": [
    "template_prefix = os.path.split(os.path.split(prefix)[0])[0]"
   ]
  },
  {
   "cell_type": "code",
   "execution_count": 12,
   "metadata": {
    "ExecuteTime": {
     "end_time": "2019-04-24T14:52:02.004518Z",
     "start_time": "2019-04-24T14:52:01.999082Z"
    }
   },
   "outputs": [
    {
     "data": {
      "text/plain": [
       "'/mnt/dat/work/testuser/adsorption/N_surfactant_on_substrate_template'"
      ]
     },
     "execution_count": 12,
     "metadata": {},
     "output_type": "execute_result"
    }
   ],
   "source": [
    "template_prefix"
   ]
  },
  {
   "cell_type": "code",
   "execution_count": 13,
   "metadata": {
    "ExecuteTime": {
     "end_time": "2019-04-24T14:52:06.120186Z",
     "start_time": "2019-04-24T14:52:06.113430Z"
    }
   },
   "outputs": [
    {
     "data": {
      "text/plain": [
       "'vmd/jlh_vmd.tcl'"
      ]
     },
     "execution_count": 13,
     "metadata": {},
     "output_type": "execute_result"
    }
   ],
   "source": [
    "os.path.join('vmd','jlh_vmd.tcl')"
   ]
  },
  {
   "cell_type": "code",
   "execution_count": 13,
   "metadata": {},
   "outputs": [
    {
     "data": {
      "text/plain": [
       "('5ca89ba7da85f4662bf39c96', 'jlh_vmd.tcl')"
      ]
     },
     "execution_count": 13,
     "metadata": {},
     "output_type": "execute_result"
    }
   ],
   "source": [
    "fp.delete_file(identifier='jlh_vmd.tcl')\n",
    "fp.add_file(\n",
    "    os.path.join(template_prefix,'vmd','jlh_vmd.tcl'),\n",
    "    identifier='jlh_vmd.tcl',\n",
    "    metadata={\n",
    "        'type':     'script',\n",
    "        'language': 'tcl',\n",
    "        'usecase':  'indenter insertion in vmd'})"
   ]
  },
  {
   "cell_type": "code",
   "execution_count": 14,
   "metadata": {},
   "outputs": [
    {
     "data": {
      "text/plain": [
       "('5ca89ba7da85f4662bf39c99', 'indenter_insertion.tcl')"
      ]
     },
     "execution_count": 14,
     "metadata": {},
     "output_type": "execute_result"
    }
   ],
   "source": [
    "fp.delete_file(identifier='indenter_insertion.tcl')\n",
    "fp.add_file(\n",
    "    os.path.join(template_prefix,'vmd','indenter_insertion.tcl'),\n",
    "    identifier='indenter_insertion.tcl',\n",
    "    metadata={\n",
    "        'type':     'template',\n",
    "        'language': 'tcl',\n",
    "        'usecase':  'indenter insertion in vmd'})\n"
   ]
  },
  {
   "cell_type": "code",
   "execution_count": 14,
   "metadata": {
    "ExecuteTime": {
     "end_time": "2019-04-24T14:52:09.083251Z",
     "start_time": "2019-04-24T14:52:08.969301Z"
    }
   },
   "outputs": [
    {
     "data": {
      "text/plain": [
       "('5cc07819da85f44b9d6a251b', 'lmp_align.input')"
      ]
     },
     "execution_count": 14,
     "metadata": {},
     "output_type": "execute_result"
    }
   ],
   "source": [
    "fp.delete_file(identifier='lmp_align.input')\n",
    "fp.add_file(\n",
    "    os.path.join(template_prefix,'lmp_input','lmp_align.input'),\n",
    "    identifier='lmp_align.input',\n",
    "    metadata={\n",
    "        'type':     'input',\n",
    "        'language': 'LAMMPS',\n",
    "        'usecase':  'surfactant adsorption'})"
   ]
  },
  {
   "cell_type": "code",
   "execution_count": 15,
   "metadata": {
    "ExecuteTime": {
     "end_time": "2019-04-24T14:52:09.471812Z",
     "start_time": "2019-04-24T14:52:09.434896Z"
    }
   },
   "outputs": [
    {
     "data": {
      "text/plain": [
       "('5cc07819da85f44b9d6a251e', 'lmp_delete_subst.input')"
      ]
     },
     "execution_count": 15,
     "metadata": {},
     "output_type": "execute_result"
    }
   ],
   "source": [
    "fp.delete_file(identifier='lmp_delete_subst.input')\n",
    "fp.add_file(\n",
    "    os.path.join(template_prefix,'lmp_input','lmp_delete_subst.input'),\n",
    "    identifier='lmp_delete_subst.input',\n",
    "    metadata={\n",
    "        'type':     'input',\n",
    "        'language': 'LAMMPS',\n",
    "        'usecase':  'surfactant adsorption'})"
   ]
  },
  {
   "cell_type": "code",
   "execution_count": 16,
   "metadata": {
    "ExecuteTime": {
     "end_time": "2019-04-24T14:52:09.936812Z",
     "start_time": "2019-04-24T14:52:09.908018Z"
    }
   },
   "outputs": [
    {
     "data": {
      "text/plain": [
       "('5cc07819da85f44b9d6a2521', 'lmp_delete_nonSubst.input')"
      ]
     },
     "execution_count": 16,
     "metadata": {},
     "output_type": "execute_result"
    }
   ],
   "source": [
    "fp.delete_file(identifier='lmp_delete_nonSubst.input')\n",
    "fp.add_file(\n",
    "    os.path.join(template_prefix,'lmp_input','lmp_delete_nonSubst.input'),\n",
    "    identifier='lmp_delete_nonSubst.input',\n",
    "    metadata={\n",
    "        'type':     'input',\n",
    "        'language': 'LAMMPS',\n",
    "        'usecase':  'surfactant adsorption'})"
   ]
  },
  {
   "cell_type": "code",
   "execution_count": 17,
   "metadata": {
    "ExecuteTime": {
     "end_time": "2019-04-24T14:52:10.898553Z",
     "start_time": "2019-04-24T14:52:10.873320Z"
    }
   },
   "outputs": [
    {
     "data": {
      "text/plain": [
       "('5cc0781ada85f44b9d6a2524', 'lmp_equilibration_npt.input')"
      ]
     },
     "execution_count": 17,
     "metadata": {},
     "output_type": "execute_result"
    }
   ],
   "source": [
    "fp.delete_file(identifier='lmp_equilibration_npt.input')\n",
    "fp.add_file(\n",
    "    os.path.join(template_prefix,'lmp_input','lmp_equilibration_npt.input'),\n",
    "    identifier='lmp_equilibration_npt.input',\n",
    "    metadata={\n",
    "        'type':     'input',\n",
    "        'language': 'LAMMPS',\n",
    "        'usecase':  'npt equilibration'})\n",
    "\n"
   ]
  },
  {
   "cell_type": "code",
   "execution_count": 18,
   "metadata": {
    "ExecuteTime": {
     "end_time": "2019-04-24T14:52:11.361133Z",
     "start_time": "2019-04-24T14:52:11.336458Z"
    }
   },
   "outputs": [
    {
     "data": {
      "text/plain": [
       "('5cc0781bda85f44b9d6a2527', 'lmp_equilibration_nvt.input')"
      ]
     },
     "execution_count": 18,
     "metadata": {},
     "output_type": "execute_result"
    }
   ],
   "source": [
    "fp.delete_file(identifier='lmp_equilibration_nvt.input')\n",
    "fp.add_file(\n",
    "    os.path.join(template_prefix,'lmp_input','lmp_equilibration_nvt.input'),\n",
    "    identifier='lmp_equilibration_nvt.input',\n",
    "    metadata={\n",
    "        'type':     'input',\n",
    "        'language': 'LAMMPS',\n",
    "        'usecase':  'nvt equilibration'})"
   ]
  },
  {
   "cell_type": "code",
   "execution_count": 19,
   "metadata": {
    "ExecuteTime": {
     "end_time": "2019-04-24T14:52:11.813197Z",
     "start_time": "2019-04-24T14:52:11.783071Z"
    }
   },
   "outputs": [
    {
     "data": {
      "text/plain": [
       "('5cc0781bda85f44b9d6a252a', 'lmp_header.input')"
      ]
     },
     "execution_count": 19,
     "metadata": {},
     "output_type": "execute_result"
    }
   ],
   "source": [
    "fp.delete_file(identifier='lmp_header.input')\n",
    "fp.add_file(\n",
    "    os.path.join(template_prefix,'lmp_input','lmp_header.input'),\n",
    "    identifier='lmp_header.input',\n",
    "    metadata={\n",
    "        'type':     'input',\n",
    "        'language': 'LAMMPS',\n",
    "        'usecase':  'surfactant adsorption'})"
   ]
  },
  {
   "cell_type": "code",
   "execution_count": 20,
   "metadata": {
    "ExecuteTime": {
     "end_time": "2019-04-24T14:52:12.604367Z",
     "start_time": "2019-04-24T14:52:12.578287Z"
    }
   },
   "outputs": [
    {
     "data": {
      "text/plain": [
       "('5cc0781cda85f44b9d6a252d', 'lmp_merge.input')"
      ]
     },
     "execution_count": 20,
     "metadata": {},
     "output_type": "execute_result"
    }
   ],
   "source": [
    "fp.delete_file(identifier='lmp_merge.input')\n",
    "fp.add_file(\n",
    "    os.path.join(template_prefix,'lmp_input','lmp_merge.input'),\n",
    "    identifier='lmp_merge.input',\n",
    "    metadata={\n",
    "        'type':     'input',\n",
    "        'language': 'LAMMPS',\n",
    "        'usecase':  'surfactant adsorption'})"
   ]
  },
  {
   "cell_type": "code",
   "execution_count": 21,
   "metadata": {
    "ExecuteTime": {
     "end_time": "2019-04-24T14:52:13.511080Z",
     "start_time": "2019-04-24T14:52:13.485162Z"
    }
   },
   "outputs": [
    {
     "data": {
      "text/plain": [
       "('5cc0781dda85f44b9d6a2530', 'lmp_minimal_header.input')"
      ]
     },
     "execution_count": 21,
     "metadata": {},
     "output_type": "execute_result"
    }
   ],
   "source": [
    "fp.delete_file(identifier='lmp_minimal_header.input')\n",
    "fp.add_file(\n",
    "    os.path.join(template_prefix,'lmp_input','lmp_minimal_header.input'),\n",
    "    identifier='lmp_minimal_header.input',\n",
    "    metadata={\n",
    "        'type':     'input',\n",
    "        'language': 'LAMMPS',\n",
    "        'usecase':  'surfactant adsorption'})"
   ]
  },
  {
   "cell_type": "code",
   "execution_count": 22,
   "metadata": {
    "ExecuteTime": {
     "end_time": "2019-04-24T14:52:14.634095Z",
     "start_time": "2019-04-24T14:52:14.606891Z"
    }
   },
   "outputs": [
    {
     "data": {
      "text/plain": [
       "('5cc0781eda85f44b9d6a2533', 'lmp_minimization.input')"
      ]
     },
     "execution_count": 22,
     "metadata": {},
     "output_type": "execute_result"
    }
   ],
   "source": [
    "fp.delete_file(identifier='lmp_minimization.input')\n",
    "fp.add_file(\n",
    "    os.path.join(template_prefix,'lmp_input','lmp_minimization.input'),\n",
    "    identifier='lmp_minimization.input',\n",
    "    metadata={\n",
    "        'type':     'input',\n",
    "        'language': 'LAMMPS',\n",
    "        'usecase':  'minimization'})"
   ]
  },
  {
   "cell_type": "code",
   "execution_count": 23,
   "metadata": {
    "ExecuteTime": {
     "end_time": "2019-04-24T14:52:15.377648Z",
     "start_time": "2019-04-24T14:52:15.346835Z"
    }
   },
   "outputs": [
    {
     "data": {
      "text/plain": [
       "('5cc0781fda85f44b9d6a2536', 'lmp_production.input')"
      ]
     },
     "execution_count": 23,
     "metadata": {},
     "output_type": "execute_result"
    }
   ],
   "source": [
    "fp.delete_file(identifier='lmp_production.input')\n",
    "fp.add_file(\n",
    "    os.path.join(template_prefix,'lmp_input','lmp_production.input'),\n",
    "    identifier='lmp_production.input',\n",
    "    metadata={\n",
    "        'type':     'input',\n",
    "        'language': 'LAMMPS',\n",
    "        'usecase':  'production'})\n",
    "\n"
   ]
  },
  {
   "cell_type": "code",
   "execution_count": 24,
   "metadata": {
    "ExecuteTime": {
     "end_time": "2019-04-24T14:52:16.062843Z",
     "start_time": "2019-04-24T14:52:16.029354Z"
    }
   },
   "outputs": [
    {
     "data": {
      "text/plain": [
       "('5cc07820da85f44b9d6a2539', 'lmp_production_mixed.input')"
      ]
     },
     "execution_count": 24,
     "metadata": {},
     "output_type": "execute_result"
    }
   ],
   "source": [
    "fp.delete_file(identifier='lmp_production_mixed.input')\n",
    "fp.add_file(\n",
    "    os.path.join(template_prefix,'lmp_input','lmp_production_mixed.input'),\n",
    "    identifier='lmp_production_mixed.input',\n",
    "    metadata={\n",
    "        'type':     'input',\n",
    "        'language': 'LAMMPS',\n",
    "        'usecase':  'production'})"
   ]
  },
  {
   "cell_type": "code",
   "execution_count": 25,
   "metadata": {
    "ExecuteTime": {
     "end_time": "2019-04-24T14:52:16.842803Z",
     "start_time": "2019-04-24T14:52:16.817759Z"
    }
   },
   "outputs": [
    {
     "data": {
      "text/plain": [
       "('5cc07820da85f44b9d6a253c', 'lmp_split_datafile.input')"
      ]
     },
     "execution_count": 25,
     "metadata": {},
     "output_type": "execute_result"
    }
   ],
   "source": [
    "fp.delete_file(identifier='lmp_split_datafile.input')\n",
    "fp.add_file(\n",
    "    os.path.join(template_prefix,'lmp_input','lmp_split_datafile.input'),\n",
    "    identifier='lmp_split_datafile.input',\n",
    "    metadata={\n",
    "        'type':     'input',\n",
    "        'language': 'LAMMPS',\n",
    "        'usecase':  'split force field parameters and system topology'})"
   ]
  },
  {
   "cell_type": "code",
   "execution_count": 24,
   "metadata": {},
   "outputs": [],
   "source": [
    "# get simulation metadata as pandas dataframe\n",
    "content, doc = fp.get_file(identifier='surfactant_on_AU_111_df_json')\n",
    "sim_df = pd.read_json(content, orient='index')"
   ]
  },
  {
   "cell_type": "code",
   "execution_count": 41,
   "metadata": {},
   "outputs": [
    {
     "data": {
      "text/html": [
       "<div>\n",
       "<style scoped>\n",
       "    .dataframe tbody tr th:only-of-type {\n",
       "        vertical-align: middle;\n",
       "    }\n",
       "\n",
       "    .dataframe tbody tr th {\n",
       "        vertical-align: top;\n",
       "    }\n",
       "\n",
       "    .dataframe thead th {\n",
       "        text-align: right;\n",
       "    }\n",
       "</style>\n",
       "<table border=\"1\" class=\"dataframe\">\n",
       "  <thead>\n",
       "    <tr style=\"text-align: right;\">\n",
       "      <th></th>\n",
       "      <th>box</th>\n",
       "      <th>ci_initial_placement</th>\n",
       "      <th>counterion</th>\n",
       "      <th>indenter</th>\n",
       "      <th>indenter_pdb</th>\n",
       "      <th>pbc</th>\n",
       "      <th>pressure</th>\n",
       "      <th>sb_area</th>\n",
       "      <th>sb_area_per_sf_molecule</th>\n",
       "      <th>sb_circular_area_per_sf_molecule_radius</th>\n",
       "      <th>...</th>\n",
       "      <th>sf_concentration</th>\n",
       "      <th>sf_expected_aggregates</th>\n",
       "      <th>sf_nmolecules</th>\n",
       "      <th>sf_preassembly</th>\n",
       "      <th>solvent</th>\n",
       "      <th>substrate</th>\n",
       "      <th>surfactant</th>\n",
       "      <th>sv_density</th>\n",
       "      <th>sv_preassembly</th>\n",
       "      <th>temperature</th>\n",
       "    </tr>\n",
       "  </thead>\n",
       "  <tbody>\n",
       "    <tr>\n",
       "      <th>1010_CTAB_on_AU_111_63x36x2_bilayer</th>\n",
       "      <td>[1.82e-08, 1.8000000000000002e-08, 1.800000000...</td>\n",
       "      <td>random</td>\n",
       "      <td>BR</td>\n",
       "      <td>None</td>\n",
       "      <td>None</td>\n",
       "      <td>111</td>\n",
       "      <td>1</td>\n",
       "      <td>3.266715e-16</td>\n",
       "      <td>3.232998e-19</td>\n",
       "      <td>2.000000e-10</td>\n",
       "      <td>...</td>\n",
       "      <td>0.0005</td>\n",
       "      <td>intermmediate</td>\n",
       "      <td>1010</td>\n",
       "      <td>bilayer</td>\n",
       "      <td>H2O</td>\n",
       "      <td>AU</td>\n",
       "      <td>CTAB</td>\n",
       "      <td>997</td>\n",
       "      <td>random</td>\n",
       "      <td>298</td>\n",
       "    </tr>\n",
       "    <tr>\n",
       "      <th>1010_CTAB_on_AU_111_63x36x2_bilayer_with_counterion</th>\n",
       "      <td>[1.82e-08, 1.8000000000000002e-08, 1.800000000...</td>\n",
       "      <td>at_polar_head</td>\n",
       "      <td>BR</td>\n",
       "      <td>None</td>\n",
       "      <td>None</td>\n",
       "      <td>111</td>\n",
       "      <td>1</td>\n",
       "      <td>3.266715e-16</td>\n",
       "      <td>3.232998e-19</td>\n",
       "      <td>2.000000e-10</td>\n",
       "      <td>...</td>\n",
       "      <td>0.0005</td>\n",
       "      <td>intermmediate</td>\n",
       "      <td>1010</td>\n",
       "      <td>bilayer_with_counterion</td>\n",
       "      <td>H2O</td>\n",
       "      <td>AU</td>\n",
       "      <td>CTAB</td>\n",
       "      <td>997</td>\n",
       "      <td>random</td>\n",
       "      <td>298</td>\n",
       "    </tr>\n",
       "    <tr>\n",
       "      <th>1010_CTAB_on_AU_111_63x36x2_bilayer_with_counterion_50Ang_stepped</th>\n",
       "      <td>[1.82e-08, 1.8000000000000002e-08, 1.800000000...</td>\n",
       "      <td>at_polar_head</td>\n",
       "      <td>BR</td>\n",
       "      <td>50Ang_stepped</td>\n",
       "      <td>50Ang_stepped.pdb</td>\n",
       "      <td>111</td>\n",
       "      <td>1</td>\n",
       "      <td>3.266715e-16</td>\n",
       "      <td>3.232998e-19</td>\n",
       "      <td>2.000000e-10</td>\n",
       "      <td>...</td>\n",
       "      <td>0.0005</td>\n",
       "      <td>intermmediate</td>\n",
       "      <td>1010</td>\n",
       "      <td>bilayer_with_counterion</td>\n",
       "      <td>H2O</td>\n",
       "      <td>AU</td>\n",
       "      <td>CTAB</td>\n",
       "      <td>997</td>\n",
       "      <td>random</td>\n",
       "      <td>298</td>\n",
       "    </tr>\n",
       "    <tr>\n",
       "      <th>1010_CTAB_on_AU_111_63x36x2_cylinders_with_counterion</th>\n",
       "      <td>[1.82e-08, 1.8000000000000002e-08, 1.800000000...</td>\n",
       "      <td>at_polar_head</td>\n",
       "      <td>BR</td>\n",
       "      <td>None</td>\n",
       "      <td>None</td>\n",
       "      <td>111</td>\n",
       "      <td>1</td>\n",
       "      <td>3.266715e-16</td>\n",
       "      <td>3.232998e-19</td>\n",
       "      <td>2.000000e-10</td>\n",
       "      <td>...</td>\n",
       "      <td>0.0005</td>\n",
       "      <td>intermmediate</td>\n",
       "      <td>1010</td>\n",
       "      <td>cylinders_with_counterion</td>\n",
       "      <td>H2O</td>\n",
       "      <td>AU</td>\n",
       "      <td>CTAB</td>\n",
       "      <td>997</td>\n",
       "      <td>random</td>\n",
       "      <td>298</td>\n",
       "    </tr>\n",
       "    <tr>\n",
       "      <th>1010_CTAB_on_AU_111_63x36x2_cylinders_with_counterion_50Ang_stepped</th>\n",
       "      <td>[1.82e-08, 1.8000000000000002e-08, 1.800000000...</td>\n",
       "      <td>at_polar_head</td>\n",
       "      <td>BR</td>\n",
       "      <td>50Ang_stepped</td>\n",
       "      <td>50Ang_stepped.pdb</td>\n",
       "      <td>111</td>\n",
       "      <td>1</td>\n",
       "      <td>3.266715e-16</td>\n",
       "      <td>3.232998e-19</td>\n",
       "      <td>2.000000e-10</td>\n",
       "      <td>...</td>\n",
       "      <td>0.0005</td>\n",
       "      <td>intermmediate</td>\n",
       "      <td>1010</td>\n",
       "      <td>cylinders_with_counterion</td>\n",
       "      <td>H2O</td>\n",
       "      <td>AU</td>\n",
       "      <td>CTAB</td>\n",
       "      <td>997</td>\n",
       "      <td>random</td>\n",
       "      <td>298</td>\n",
       "    </tr>\n",
       "  </tbody>\n",
       "</table>\n",
       "<p>5 rows × 29 columns</p>\n",
       "</div>"
      ],
      "text/plain": [
       "                                                                                                  box  \\\n",
       "1010_CTAB_on_AU_111_63x36x2_bilayer                 [1.82e-08, 1.8000000000000002e-08, 1.800000000...   \n",
       "1010_CTAB_on_AU_111_63x36x2_bilayer_with_counte...  [1.82e-08, 1.8000000000000002e-08, 1.800000000...   \n",
       "1010_CTAB_on_AU_111_63x36x2_bilayer_with_counte...  [1.82e-08, 1.8000000000000002e-08, 1.800000000...   \n",
       "1010_CTAB_on_AU_111_63x36x2_cylinders_with_coun...  [1.82e-08, 1.8000000000000002e-08, 1.800000000...   \n",
       "1010_CTAB_on_AU_111_63x36x2_cylinders_with_coun...  [1.82e-08, 1.8000000000000002e-08, 1.800000000...   \n",
       "\n",
       "                                                   ci_initial_placement  \\\n",
       "1010_CTAB_on_AU_111_63x36x2_bilayer                              random   \n",
       "1010_CTAB_on_AU_111_63x36x2_bilayer_with_counte...        at_polar_head   \n",
       "1010_CTAB_on_AU_111_63x36x2_bilayer_with_counte...        at_polar_head   \n",
       "1010_CTAB_on_AU_111_63x36x2_cylinders_with_coun...        at_polar_head   \n",
       "1010_CTAB_on_AU_111_63x36x2_cylinders_with_coun...        at_polar_head   \n",
       "\n",
       "                                                   counterion       indenter  \\\n",
       "1010_CTAB_on_AU_111_63x36x2_bilayer                        BR           None   \n",
       "1010_CTAB_on_AU_111_63x36x2_bilayer_with_counte...         BR           None   \n",
       "1010_CTAB_on_AU_111_63x36x2_bilayer_with_counte...         BR  50Ang_stepped   \n",
       "1010_CTAB_on_AU_111_63x36x2_cylinders_with_coun...         BR           None   \n",
       "1010_CTAB_on_AU_111_63x36x2_cylinders_with_coun...         BR  50Ang_stepped   \n",
       "\n",
       "                                                         indenter_pdb  pbc  \\\n",
       "1010_CTAB_on_AU_111_63x36x2_bilayer                              None  111   \n",
       "1010_CTAB_on_AU_111_63x36x2_bilayer_with_counte...               None  111   \n",
       "1010_CTAB_on_AU_111_63x36x2_bilayer_with_counte...  50Ang_stepped.pdb  111   \n",
       "1010_CTAB_on_AU_111_63x36x2_cylinders_with_coun...               None  111   \n",
       "1010_CTAB_on_AU_111_63x36x2_cylinders_with_coun...  50Ang_stepped.pdb  111   \n",
       "\n",
       "                                                    pressure       sb_area  \\\n",
       "1010_CTAB_on_AU_111_63x36x2_bilayer                        1  3.266715e-16   \n",
       "1010_CTAB_on_AU_111_63x36x2_bilayer_with_counte...         1  3.266715e-16   \n",
       "1010_CTAB_on_AU_111_63x36x2_bilayer_with_counte...         1  3.266715e-16   \n",
       "1010_CTAB_on_AU_111_63x36x2_cylinders_with_coun...         1  3.266715e-16   \n",
       "1010_CTAB_on_AU_111_63x36x2_cylinders_with_coun...         1  3.266715e-16   \n",
       "\n",
       "                                                    sb_area_per_sf_molecule  \\\n",
       "1010_CTAB_on_AU_111_63x36x2_bilayer                            3.232998e-19   \n",
       "1010_CTAB_on_AU_111_63x36x2_bilayer_with_counte...             3.232998e-19   \n",
       "1010_CTAB_on_AU_111_63x36x2_bilayer_with_counte...             3.232998e-19   \n",
       "1010_CTAB_on_AU_111_63x36x2_cylinders_with_coun...             3.232998e-19   \n",
       "1010_CTAB_on_AU_111_63x36x2_cylinders_with_coun...             3.232998e-19   \n",
       "\n",
       "                                                    sb_circular_area_per_sf_molecule_radius  \\\n",
       "1010_CTAB_on_AU_111_63x36x2_bilayer                                            2.000000e-10   \n",
       "1010_CTAB_on_AU_111_63x36x2_bilayer_with_counte...                             2.000000e-10   \n",
       "1010_CTAB_on_AU_111_63x36x2_bilayer_with_counte...                             2.000000e-10   \n",
       "1010_CTAB_on_AU_111_63x36x2_cylinders_with_coun...                             2.000000e-10   \n",
       "1010_CTAB_on_AU_111_63x36x2_cylinders_with_coun...                             2.000000e-10   \n",
       "\n",
       "                                                       ...       \\\n",
       "1010_CTAB_on_AU_111_63x36x2_bilayer                    ...        \n",
       "1010_CTAB_on_AU_111_63x36x2_bilayer_with_counte...     ...        \n",
       "1010_CTAB_on_AU_111_63x36x2_bilayer_with_counte...     ...        \n",
       "1010_CTAB_on_AU_111_63x36x2_cylinders_with_coun...     ...        \n",
       "1010_CTAB_on_AU_111_63x36x2_cylinders_with_coun...     ...        \n",
       "\n",
       "                                                    sf_concentration  \\\n",
       "1010_CTAB_on_AU_111_63x36x2_bilayer                           0.0005   \n",
       "1010_CTAB_on_AU_111_63x36x2_bilayer_with_counte...            0.0005   \n",
       "1010_CTAB_on_AU_111_63x36x2_bilayer_with_counte...            0.0005   \n",
       "1010_CTAB_on_AU_111_63x36x2_cylinders_with_coun...            0.0005   \n",
       "1010_CTAB_on_AU_111_63x36x2_cylinders_with_coun...            0.0005   \n",
       "\n",
       "                                                   sf_expected_aggregates  \\\n",
       "1010_CTAB_on_AU_111_63x36x2_bilayer                         intermmediate   \n",
       "1010_CTAB_on_AU_111_63x36x2_bilayer_with_counte...          intermmediate   \n",
       "1010_CTAB_on_AU_111_63x36x2_bilayer_with_counte...          intermmediate   \n",
       "1010_CTAB_on_AU_111_63x36x2_cylinders_with_coun...          intermmediate   \n",
       "1010_CTAB_on_AU_111_63x36x2_cylinders_with_coun...          intermmediate   \n",
       "\n",
       "                                                   sf_nmolecules  \\\n",
       "1010_CTAB_on_AU_111_63x36x2_bilayer                         1010   \n",
       "1010_CTAB_on_AU_111_63x36x2_bilayer_with_counte...          1010   \n",
       "1010_CTAB_on_AU_111_63x36x2_bilayer_with_counte...          1010   \n",
       "1010_CTAB_on_AU_111_63x36x2_cylinders_with_coun...          1010   \n",
       "1010_CTAB_on_AU_111_63x36x2_cylinders_with_coun...          1010   \n",
       "\n",
       "                                                               sf_preassembly  \\\n",
       "1010_CTAB_on_AU_111_63x36x2_bilayer                                   bilayer   \n",
       "1010_CTAB_on_AU_111_63x36x2_bilayer_with_counte...    bilayer_with_counterion   \n",
       "1010_CTAB_on_AU_111_63x36x2_bilayer_with_counte...    bilayer_with_counterion   \n",
       "1010_CTAB_on_AU_111_63x36x2_cylinders_with_coun...  cylinders_with_counterion   \n",
       "1010_CTAB_on_AU_111_63x36x2_cylinders_with_coun...  cylinders_with_counterion   \n",
       "\n",
       "                                                    solvent  substrate  \\\n",
       "1010_CTAB_on_AU_111_63x36x2_bilayer                     H2O         AU   \n",
       "1010_CTAB_on_AU_111_63x36x2_bilayer_with_counte...      H2O         AU   \n",
       "1010_CTAB_on_AU_111_63x36x2_bilayer_with_counte...      H2O         AU   \n",
       "1010_CTAB_on_AU_111_63x36x2_cylinders_with_coun...      H2O         AU   \n",
       "1010_CTAB_on_AU_111_63x36x2_cylinders_with_coun...      H2O         AU   \n",
       "\n",
       "                                                    surfactant sv_density  \\\n",
       "1010_CTAB_on_AU_111_63x36x2_bilayer                       CTAB        997   \n",
       "1010_CTAB_on_AU_111_63x36x2_bilayer_with_counte...        CTAB        997   \n",
       "1010_CTAB_on_AU_111_63x36x2_bilayer_with_counte...        CTAB        997   \n",
       "1010_CTAB_on_AU_111_63x36x2_cylinders_with_coun...        CTAB        997   \n",
       "1010_CTAB_on_AU_111_63x36x2_cylinders_with_coun...        CTAB        997   \n",
       "\n",
       "                                                    sv_preassembly  \\\n",
       "1010_CTAB_on_AU_111_63x36x2_bilayer                         random   \n",
       "1010_CTAB_on_AU_111_63x36x2_bilayer_with_counte...          random   \n",
       "1010_CTAB_on_AU_111_63x36x2_bilayer_with_counte...          random   \n",
       "1010_CTAB_on_AU_111_63x36x2_cylinders_with_coun...          random   \n",
       "1010_CTAB_on_AU_111_63x36x2_cylinders_with_coun...          random   \n",
       "\n",
       "                                                    temperature  \n",
       "1010_CTAB_on_AU_111_63x36x2_bilayer                         298  \n",
       "1010_CTAB_on_AU_111_63x36x2_bilayer_with_counte...          298  \n",
       "1010_CTAB_on_AU_111_63x36x2_bilayer_with_counte...          298  \n",
       "1010_CTAB_on_AU_111_63x36x2_cylinders_with_coun...          298  \n",
       "1010_CTAB_on_AU_111_63x36x2_cylinders_with_coun...          298  \n",
       "\n",
       "[5 rows x 29 columns]"
      ]
     },
     "execution_count": 41,
     "metadata": {},
     "output_type": "execute_result"
    }
   ],
   "source": [
    "sim_df.head()"
   ]
  },
  {
   "cell_type": "code",
   "execution_count": 15,
   "metadata": {},
   "outputs": [
    {
     "data": {
      "text/plain": [
       "box                                        [1.4700000000000001e-08, 1.5000000000000002e-0...\n",
       "ci_initial_placement                                                           at_polar_head\n",
       "counterion                                                                                NA\n",
       "indenter                                                                       50Ang_stepped\n",
       "indenter_pdb                                                               50Ang_stepped.pdb\n",
       "pbc                                                                                      111\n",
       "pressure                                                                                   1\n",
       "sb_area                                                                          2.20374e-16\n",
       "sb_area_per_sf_molecule                                                          3.41007e-19\n",
       "sb_circular_area_per_sf_molecule_radius                                                2e-10\n",
       "sb_crystal_plane                                                                         111\n",
       "sb_measures                                [1.4700000000000001e-08, 1.5000000000000002e-0...\n",
       "sb_multiples                                                                     [51, 30, 2]\n",
       "sb_name                                                                       AU_111_51x30x2\n",
       "sb_normal                                                                                  2\n",
       "sb_square_area_per_sf_molecule_side                                                    6e-10\n",
       "sb_thickness                                                                         1.4e-09\n",
       "sb_unit_cell                                           [3e-10, 5e-10, 7.000000000000001e-10]\n",
       "sb_volume                                                                        3.11331e-25\n",
       "sf_concentration                                                                  0.00680627\n",
       "sf_expected_aggregates                                                                  None\n",
       "sf_nmolecules                                                                            646\n",
       "sf_preassembly                                                     monolayer_with_counterion\n",
       "solvent                                                                                  H2O\n",
       "substrate                                                                                 AU\n",
       "surfactant                                                                               SDS\n",
       "sv_density                                                                               997\n",
       "sv_preassembly                                                                        random\n",
       "temperature                                                                              298\n",
       "Name: 646_SDS_on_AU_111_51x30x2_monolayer_with_counterion_50Ang_stepped, dtype: object"
      ]
     },
     "execution_count": 15,
     "metadata": {},
     "output_type": "execute_result"
    }
   ],
   "source": [
    "sim_df.loc[\"646_SDS_on_AU_111_51x30x2_monolayer_with_counterion_50Ang_stepped\"]"
   ]
  },
  {
   "cell_type": "code",
   "execution_count": 20,
   "metadata": {},
   "outputs": [
    {
     "data": {
      "text/plain": [
       "[3e-10, 5e-10, 7.000000000000001e-10]"
      ]
     },
     "execution_count": 20,
     "metadata": {},
     "output_type": "execute_result"
    }
   ],
   "source": [
    "sim_df.loc[\"646_SDS_on_AU_111_51x30x2_monolayer_with_counterion_50Ang_stepped\"].sb_unit_cell"
   ]
  },
  {
   "cell_type": "code",
   "execution_count": 22,
   "metadata": {},
   "outputs": [
    {
     "data": {
      "text/html": [
       "<div>\n",
       "<style scoped>\n",
       "    .dataframe tbody tr th:only-of-type {\n",
       "        vertical-align: middle;\n",
       "    }\n",
       "\n",
       "    .dataframe tbody tr th {\n",
       "        vertical-align: top;\n",
       "    }\n",
       "\n",
       "    .dataframe thead th {\n",
       "        text-align: right;\n",
       "    }\n",
       "</style>\n",
       "<table border=\"1\" class=\"dataframe\">\n",
       "  <thead>\n",
       "    <tr style=\"text-align: right;\">\n",
       "      <th></th>\n",
       "      <th>box</th>\n",
       "      <th>ci_initial_placement</th>\n",
       "      <th>counterion</th>\n",
       "      <th>indenter</th>\n",
       "      <th>indenter_pdb</th>\n",
       "      <th>pbc</th>\n",
       "      <th>pressure</th>\n",
       "      <th>sb_area</th>\n",
       "      <th>sb_area_per_sf_molecule</th>\n",
       "      <th>sb_circular_area_per_sf_molecule_radius</th>\n",
       "      <th>...</th>\n",
       "      <th>sf_concentration</th>\n",
       "      <th>sf_expected_aggregates</th>\n",
       "      <th>sf_nmolecules</th>\n",
       "      <th>sf_preassembly</th>\n",
       "      <th>solvent</th>\n",
       "      <th>substrate</th>\n",
       "      <th>surfactant</th>\n",
       "      <th>sv_density</th>\n",
       "      <th>sv_preassembly</th>\n",
       "      <th>temperature</th>\n",
       "    </tr>\n",
       "  </thead>\n",
       "  <tbody>\n",
       "    <tr>\n",
       "      <th>646_SDS_on_AU_111_51x30x2_bilayer</th>\n",
       "      <td>[1.4700000000000001e-08, 1.5000000000000002e-0...</td>\n",
       "      <td>random</td>\n",
       "      <td>NA</td>\n",
       "      <td>None</td>\n",
       "      <td>None</td>\n",
       "      <td>111</td>\n",
       "      <td>1</td>\n",
       "      <td>2.203736e-16</td>\n",
       "      <td>3.410067e-19</td>\n",
       "      <td>2.000000e-10</td>\n",
       "      <td>...</td>\n",
       "      <td>0.006806</td>\n",
       "      <td>None</td>\n",
       "      <td>646</td>\n",
       "      <td>bilayer</td>\n",
       "      <td>H2O</td>\n",
       "      <td>AU</td>\n",
       "      <td>SDS</td>\n",
       "      <td>997</td>\n",
       "      <td>random</td>\n",
       "      <td>298</td>\n",
       "    </tr>\n",
       "    <tr>\n",
       "      <th>646_SDS_on_AU_111_51x30x2_bilayer_with_counterion</th>\n",
       "      <td>[1.4700000000000001e-08, 1.5000000000000002e-0...</td>\n",
       "      <td>at_polar_head</td>\n",
       "      <td>NA</td>\n",
       "      <td>None</td>\n",
       "      <td>None</td>\n",
       "      <td>111</td>\n",
       "      <td>1</td>\n",
       "      <td>2.203736e-16</td>\n",
       "      <td>3.410067e-19</td>\n",
       "      <td>2.000000e-10</td>\n",
       "      <td>...</td>\n",
       "      <td>0.006806</td>\n",
       "      <td>None</td>\n",
       "      <td>646</td>\n",
       "      <td>bilayer_with_counterion</td>\n",
       "      <td>H2O</td>\n",
       "      <td>AU</td>\n",
       "      <td>SDS</td>\n",
       "      <td>997</td>\n",
       "      <td>random</td>\n",
       "      <td>298</td>\n",
       "    </tr>\n",
       "    <tr>\n",
       "      <th>646_SDS_on_AU_111_51x30x2_bilayer_with_counterion_50Ang_stepped</th>\n",
       "      <td>[1.4700000000000001e-08, 1.5000000000000002e-0...</td>\n",
       "      <td>at_polar_head</td>\n",
       "      <td>NA</td>\n",
       "      <td>50Ang_stepped</td>\n",
       "      <td>50Ang_stepped.pdb</td>\n",
       "      <td>111</td>\n",
       "      <td>1</td>\n",
       "      <td>2.203736e-16</td>\n",
       "      <td>3.410067e-19</td>\n",
       "      <td>2.000000e-10</td>\n",
       "      <td>...</td>\n",
       "      <td>0.006806</td>\n",
       "      <td>None</td>\n",
       "      <td>646</td>\n",
       "      <td>bilayer_with_counterion</td>\n",
       "      <td>H2O</td>\n",
       "      <td>AU</td>\n",
       "      <td>SDS</td>\n",
       "      <td>997</td>\n",
       "      <td>random</td>\n",
       "      <td>298</td>\n",
       "    </tr>\n",
       "    <tr>\n",
       "      <th>646_SDS_on_AU_111_51x30x2_cylinders_with_counterion</th>\n",
       "      <td>[1.4700000000000001e-08, 1.5000000000000002e-0...</td>\n",
       "      <td>at_polar_head</td>\n",
       "      <td>NA</td>\n",
       "      <td>None</td>\n",
       "      <td>None</td>\n",
       "      <td>111</td>\n",
       "      <td>1</td>\n",
       "      <td>2.203736e-16</td>\n",
       "      <td>3.410067e-19</td>\n",
       "      <td>2.000000e-10</td>\n",
       "      <td>...</td>\n",
       "      <td>0.006806</td>\n",
       "      <td>None</td>\n",
       "      <td>646</td>\n",
       "      <td>cylinders_with_counterion</td>\n",
       "      <td>H2O</td>\n",
       "      <td>AU</td>\n",
       "      <td>SDS</td>\n",
       "      <td>997</td>\n",
       "      <td>random</td>\n",
       "      <td>298</td>\n",
       "    </tr>\n",
       "    <tr>\n",
       "      <th>646_SDS_on_AU_111_51x30x2_cylinders_with_counterion_50Ang_stepped</th>\n",
       "      <td>[1.4700000000000001e-08, 1.5000000000000002e-0...</td>\n",
       "      <td>at_polar_head</td>\n",
       "      <td>NA</td>\n",
       "      <td>50Ang_stepped</td>\n",
       "      <td>50Ang_stepped.pdb</td>\n",
       "      <td>111</td>\n",
       "      <td>1</td>\n",
       "      <td>2.203736e-16</td>\n",
       "      <td>3.410067e-19</td>\n",
       "      <td>2.000000e-10</td>\n",
       "      <td>...</td>\n",
       "      <td>0.006806</td>\n",
       "      <td>None</td>\n",
       "      <td>646</td>\n",
       "      <td>cylinders_with_counterion</td>\n",
       "      <td>H2O</td>\n",
       "      <td>AU</td>\n",
       "      <td>SDS</td>\n",
       "      <td>997</td>\n",
       "      <td>random</td>\n",
       "      <td>298</td>\n",
       "    </tr>\n",
       "    <tr>\n",
       "      <th>646_SDS_on_AU_111_51x30x2_hemicylinders_with_counterion</th>\n",
       "      <td>[1.4700000000000001e-08, 1.5000000000000002e-0...</td>\n",
       "      <td>at_polar_head</td>\n",
       "      <td>NA</td>\n",
       "      <td>None</td>\n",
       "      <td>None</td>\n",
       "      <td>111</td>\n",
       "      <td>1</td>\n",
       "      <td>2.203736e-16</td>\n",
       "      <td>3.410067e-19</td>\n",
       "      <td>2.000000e-10</td>\n",
       "      <td>...</td>\n",
       "      <td>0.006806</td>\n",
       "      <td>None</td>\n",
       "      <td>646</td>\n",
       "      <td>hemicylinders_with_counterion</td>\n",
       "      <td>H2O</td>\n",
       "      <td>AU</td>\n",
       "      <td>SDS</td>\n",
       "      <td>997</td>\n",
       "      <td>random</td>\n",
       "      <td>298</td>\n",
       "    </tr>\n",
       "    <tr>\n",
       "      <th>646_SDS_on_AU_111_51x30x2_hemicylinders_with_counterion_50Ang_stepped</th>\n",
       "      <td>[1.4700000000000001e-08, 1.5000000000000002e-0...</td>\n",
       "      <td>at_polar_head</td>\n",
       "      <td>NA</td>\n",
       "      <td>50Ang_stepped</td>\n",
       "      <td>50Ang_stepped.pdb</td>\n",
       "      <td>111</td>\n",
       "      <td>1</td>\n",
       "      <td>2.203736e-16</td>\n",
       "      <td>3.410067e-19</td>\n",
       "      <td>2.000000e-10</td>\n",
       "      <td>...</td>\n",
       "      <td>0.006806</td>\n",
       "      <td>None</td>\n",
       "      <td>646</td>\n",
       "      <td>hemicylinders_with_counterion</td>\n",
       "      <td>H2O</td>\n",
       "      <td>AU</td>\n",
       "      <td>SDS</td>\n",
       "      <td>997</td>\n",
       "      <td>random</td>\n",
       "      <td>298</td>\n",
       "    </tr>\n",
       "    <tr>\n",
       "      <th>646_SDS_on_AU_111_51x30x2_inverse_bilayer_with_counterion</th>\n",
       "      <td>[1.4700000000000001e-08, 1.5000000000000002e-0...</td>\n",
       "      <td>at_polar_head</td>\n",
       "      <td>NA</td>\n",
       "      <td>None</td>\n",
       "      <td>None</td>\n",
       "      <td>111</td>\n",
       "      <td>1</td>\n",
       "      <td>2.203736e-16</td>\n",
       "      <td>3.410067e-19</td>\n",
       "      <td>2.000000e-10</td>\n",
       "      <td>...</td>\n",
       "      <td>0.006806</td>\n",
       "      <td>None</td>\n",
       "      <td>646</td>\n",
       "      <td>inverse_bilayer_with_counterion</td>\n",
       "      <td>H2O</td>\n",
       "      <td>AU</td>\n",
       "      <td>SDS</td>\n",
       "      <td>997</td>\n",
       "      <td>random</td>\n",
       "      <td>298</td>\n",
       "    </tr>\n",
       "    <tr>\n",
       "      <th>646_SDS_on_AU_111_51x30x2_inverse_monolayer_with_counterion</th>\n",
       "      <td>[1.4700000000000001e-08, 1.5000000000000002e-0...</td>\n",
       "      <td>at_polar_head</td>\n",
       "      <td>NA</td>\n",
       "      <td>None</td>\n",
       "      <td>None</td>\n",
       "      <td>111</td>\n",
       "      <td>1</td>\n",
       "      <td>2.203736e-16</td>\n",
       "      <td>3.410067e-19</td>\n",
       "      <td>2.000000e-10</td>\n",
       "      <td>...</td>\n",
       "      <td>0.006806</td>\n",
       "      <td>None</td>\n",
       "      <td>646</td>\n",
       "      <td>inverse_monolayer_with_counterion</td>\n",
       "      <td>H2O</td>\n",
       "      <td>AU</td>\n",
       "      <td>SDS</td>\n",
       "      <td>997</td>\n",
       "      <td>random</td>\n",
       "      <td>298</td>\n",
       "    </tr>\n",
       "    <tr>\n",
       "      <th>646_SDS_on_AU_111_51x30x2_inverse_monolayer_with_counterion_50Ang_stepped</th>\n",
       "      <td>[1.4700000000000001e-08, 1.5000000000000002e-0...</td>\n",
       "      <td>at_polar_head</td>\n",
       "      <td>NA</td>\n",
       "      <td>50Ang_stepped</td>\n",
       "      <td>50Ang_stepped.pdb</td>\n",
       "      <td>111</td>\n",
       "      <td>1</td>\n",
       "      <td>2.203736e-16</td>\n",
       "      <td>3.410067e-19</td>\n",
       "      <td>2.000000e-10</td>\n",
       "      <td>...</td>\n",
       "      <td>0.006806</td>\n",
       "      <td>None</td>\n",
       "      <td>646</td>\n",
       "      <td>inverse_monolayer_with_counterion</td>\n",
       "      <td>H2O</td>\n",
       "      <td>AU</td>\n",
       "      <td>SDS</td>\n",
       "      <td>997</td>\n",
       "      <td>random</td>\n",
       "      <td>298</td>\n",
       "    </tr>\n",
       "    <tr>\n",
       "      <th>646_SDS_on_AU_111_51x30x2_monolayer_with_counterion</th>\n",
       "      <td>[1.4700000000000001e-08, 1.5000000000000002e-0...</td>\n",
       "      <td>at_polar_head</td>\n",
       "      <td>NA</td>\n",
       "      <td>None</td>\n",
       "      <td>None</td>\n",
       "      <td>111</td>\n",
       "      <td>1</td>\n",
       "      <td>2.203736e-16</td>\n",
       "      <td>3.410067e-19</td>\n",
       "      <td>2.000000e-10</td>\n",
       "      <td>...</td>\n",
       "      <td>0.006806</td>\n",
       "      <td>None</td>\n",
       "      <td>646</td>\n",
       "      <td>monolayer_with_counterion</td>\n",
       "      <td>H2O</td>\n",
       "      <td>AU</td>\n",
       "      <td>SDS</td>\n",
       "      <td>997</td>\n",
       "      <td>random</td>\n",
       "      <td>298</td>\n",
       "    </tr>\n",
       "    <tr>\n",
       "      <th>646_SDS_on_AU_111_51x30x2_monolayer_with_counterion_50Ang_stepped</th>\n",
       "      <td>[1.4700000000000001e-08, 1.5000000000000002e-0...</td>\n",
       "      <td>at_polar_head</td>\n",
       "      <td>NA</td>\n",
       "      <td>50Ang_stepped</td>\n",
       "      <td>50Ang_stepped.pdb</td>\n",
       "      <td>111</td>\n",
       "      <td>1</td>\n",
       "      <td>2.203736e-16</td>\n",
       "      <td>3.410067e-19</td>\n",
       "      <td>2.000000e-10</td>\n",
       "      <td>...</td>\n",
       "      <td>0.006806</td>\n",
       "      <td>None</td>\n",
       "      <td>646</td>\n",
       "      <td>monolayer_with_counterion</td>\n",
       "      <td>H2O</td>\n",
       "      <td>AU</td>\n",
       "      <td>SDS</td>\n",
       "      <td>997</td>\n",
       "      <td>random</td>\n",
       "      <td>298</td>\n",
       "    </tr>\n",
       "  </tbody>\n",
       "</table>\n",
       "<p>12 rows × 29 columns</p>\n",
       "</div>"
      ],
      "text/plain": [
       "                                                                                                  box  \\\n",
       "646_SDS_on_AU_111_51x30x2_bilayer                   [1.4700000000000001e-08, 1.5000000000000002e-0...   \n",
       "646_SDS_on_AU_111_51x30x2_bilayer_with_counterion   [1.4700000000000001e-08, 1.5000000000000002e-0...   \n",
       "646_SDS_on_AU_111_51x30x2_bilayer_with_counteri...  [1.4700000000000001e-08, 1.5000000000000002e-0...   \n",
       "646_SDS_on_AU_111_51x30x2_cylinders_with_counte...  [1.4700000000000001e-08, 1.5000000000000002e-0...   \n",
       "646_SDS_on_AU_111_51x30x2_cylinders_with_counte...  [1.4700000000000001e-08, 1.5000000000000002e-0...   \n",
       "646_SDS_on_AU_111_51x30x2_hemicylinders_with_co...  [1.4700000000000001e-08, 1.5000000000000002e-0...   \n",
       "646_SDS_on_AU_111_51x30x2_hemicylinders_with_co...  [1.4700000000000001e-08, 1.5000000000000002e-0...   \n",
       "646_SDS_on_AU_111_51x30x2_inverse_bilayer_with_...  [1.4700000000000001e-08, 1.5000000000000002e-0...   \n",
       "646_SDS_on_AU_111_51x30x2_inverse_monolayer_wit...  [1.4700000000000001e-08, 1.5000000000000002e-0...   \n",
       "646_SDS_on_AU_111_51x30x2_inverse_monolayer_wit...  [1.4700000000000001e-08, 1.5000000000000002e-0...   \n",
       "646_SDS_on_AU_111_51x30x2_monolayer_with_counte...  [1.4700000000000001e-08, 1.5000000000000002e-0...   \n",
       "646_SDS_on_AU_111_51x30x2_monolayer_with_counte...  [1.4700000000000001e-08, 1.5000000000000002e-0...   \n",
       "\n",
       "                                                   ci_initial_placement  \\\n",
       "646_SDS_on_AU_111_51x30x2_bilayer                                random   \n",
       "646_SDS_on_AU_111_51x30x2_bilayer_with_counterion         at_polar_head   \n",
       "646_SDS_on_AU_111_51x30x2_bilayer_with_counteri...        at_polar_head   \n",
       "646_SDS_on_AU_111_51x30x2_cylinders_with_counte...        at_polar_head   \n",
       "646_SDS_on_AU_111_51x30x2_cylinders_with_counte...        at_polar_head   \n",
       "646_SDS_on_AU_111_51x30x2_hemicylinders_with_co...        at_polar_head   \n",
       "646_SDS_on_AU_111_51x30x2_hemicylinders_with_co...        at_polar_head   \n",
       "646_SDS_on_AU_111_51x30x2_inverse_bilayer_with_...        at_polar_head   \n",
       "646_SDS_on_AU_111_51x30x2_inverse_monolayer_wit...        at_polar_head   \n",
       "646_SDS_on_AU_111_51x30x2_inverse_monolayer_wit...        at_polar_head   \n",
       "646_SDS_on_AU_111_51x30x2_monolayer_with_counte...        at_polar_head   \n",
       "646_SDS_on_AU_111_51x30x2_monolayer_with_counte...        at_polar_head   \n",
       "\n",
       "                                                   counterion       indenter  \\\n",
       "646_SDS_on_AU_111_51x30x2_bilayer                          NA           None   \n",
       "646_SDS_on_AU_111_51x30x2_bilayer_with_counterion          NA           None   \n",
       "646_SDS_on_AU_111_51x30x2_bilayer_with_counteri...         NA  50Ang_stepped   \n",
       "646_SDS_on_AU_111_51x30x2_cylinders_with_counte...         NA           None   \n",
       "646_SDS_on_AU_111_51x30x2_cylinders_with_counte...         NA  50Ang_stepped   \n",
       "646_SDS_on_AU_111_51x30x2_hemicylinders_with_co...         NA           None   \n",
       "646_SDS_on_AU_111_51x30x2_hemicylinders_with_co...         NA  50Ang_stepped   \n",
       "646_SDS_on_AU_111_51x30x2_inverse_bilayer_with_...         NA           None   \n",
       "646_SDS_on_AU_111_51x30x2_inverse_monolayer_wit...         NA           None   \n",
       "646_SDS_on_AU_111_51x30x2_inverse_monolayer_wit...         NA  50Ang_stepped   \n",
       "646_SDS_on_AU_111_51x30x2_monolayer_with_counte...         NA           None   \n",
       "646_SDS_on_AU_111_51x30x2_monolayer_with_counte...         NA  50Ang_stepped   \n",
       "\n",
       "                                                         indenter_pdb  pbc  \\\n",
       "646_SDS_on_AU_111_51x30x2_bilayer                                None  111   \n",
       "646_SDS_on_AU_111_51x30x2_bilayer_with_counterion                None  111   \n",
       "646_SDS_on_AU_111_51x30x2_bilayer_with_counteri...  50Ang_stepped.pdb  111   \n",
       "646_SDS_on_AU_111_51x30x2_cylinders_with_counte...               None  111   \n",
       "646_SDS_on_AU_111_51x30x2_cylinders_with_counte...  50Ang_stepped.pdb  111   \n",
       "646_SDS_on_AU_111_51x30x2_hemicylinders_with_co...               None  111   \n",
       "646_SDS_on_AU_111_51x30x2_hemicylinders_with_co...  50Ang_stepped.pdb  111   \n",
       "646_SDS_on_AU_111_51x30x2_inverse_bilayer_with_...               None  111   \n",
       "646_SDS_on_AU_111_51x30x2_inverse_monolayer_wit...               None  111   \n",
       "646_SDS_on_AU_111_51x30x2_inverse_monolayer_wit...  50Ang_stepped.pdb  111   \n",
       "646_SDS_on_AU_111_51x30x2_monolayer_with_counte...               None  111   \n",
       "646_SDS_on_AU_111_51x30x2_monolayer_with_counte...  50Ang_stepped.pdb  111   \n",
       "\n",
       "                                                    pressure       sb_area  \\\n",
       "646_SDS_on_AU_111_51x30x2_bilayer                          1  2.203736e-16   \n",
       "646_SDS_on_AU_111_51x30x2_bilayer_with_counterion          1  2.203736e-16   \n",
       "646_SDS_on_AU_111_51x30x2_bilayer_with_counteri...         1  2.203736e-16   \n",
       "646_SDS_on_AU_111_51x30x2_cylinders_with_counte...         1  2.203736e-16   \n",
       "646_SDS_on_AU_111_51x30x2_cylinders_with_counte...         1  2.203736e-16   \n",
       "646_SDS_on_AU_111_51x30x2_hemicylinders_with_co...         1  2.203736e-16   \n",
       "646_SDS_on_AU_111_51x30x2_hemicylinders_with_co...         1  2.203736e-16   \n",
       "646_SDS_on_AU_111_51x30x2_inverse_bilayer_with_...         1  2.203736e-16   \n",
       "646_SDS_on_AU_111_51x30x2_inverse_monolayer_wit...         1  2.203736e-16   \n",
       "646_SDS_on_AU_111_51x30x2_inverse_monolayer_wit...         1  2.203736e-16   \n",
       "646_SDS_on_AU_111_51x30x2_monolayer_with_counte...         1  2.203736e-16   \n",
       "646_SDS_on_AU_111_51x30x2_monolayer_with_counte...         1  2.203736e-16   \n",
       "\n",
       "                                                    sb_area_per_sf_molecule  \\\n",
       "646_SDS_on_AU_111_51x30x2_bilayer                              3.410067e-19   \n",
       "646_SDS_on_AU_111_51x30x2_bilayer_with_counterion              3.410067e-19   \n",
       "646_SDS_on_AU_111_51x30x2_bilayer_with_counteri...             3.410067e-19   \n",
       "646_SDS_on_AU_111_51x30x2_cylinders_with_counte...             3.410067e-19   \n",
       "646_SDS_on_AU_111_51x30x2_cylinders_with_counte...             3.410067e-19   \n",
       "646_SDS_on_AU_111_51x30x2_hemicylinders_with_co...             3.410067e-19   \n",
       "646_SDS_on_AU_111_51x30x2_hemicylinders_with_co...             3.410067e-19   \n",
       "646_SDS_on_AU_111_51x30x2_inverse_bilayer_with_...             3.410067e-19   \n",
       "646_SDS_on_AU_111_51x30x2_inverse_monolayer_wit...             3.410067e-19   \n",
       "646_SDS_on_AU_111_51x30x2_inverse_monolayer_wit...             3.410067e-19   \n",
       "646_SDS_on_AU_111_51x30x2_monolayer_with_counte...             3.410067e-19   \n",
       "646_SDS_on_AU_111_51x30x2_monolayer_with_counte...             3.410067e-19   \n",
       "\n",
       "                                                    sb_circular_area_per_sf_molecule_radius  \\\n",
       "646_SDS_on_AU_111_51x30x2_bilayer                                              2.000000e-10   \n",
       "646_SDS_on_AU_111_51x30x2_bilayer_with_counterion                              2.000000e-10   \n",
       "646_SDS_on_AU_111_51x30x2_bilayer_with_counteri...                             2.000000e-10   \n",
       "646_SDS_on_AU_111_51x30x2_cylinders_with_counte...                             2.000000e-10   \n",
       "646_SDS_on_AU_111_51x30x2_cylinders_with_counte...                             2.000000e-10   \n",
       "646_SDS_on_AU_111_51x30x2_hemicylinders_with_co...                             2.000000e-10   \n",
       "646_SDS_on_AU_111_51x30x2_hemicylinders_with_co...                             2.000000e-10   \n",
       "646_SDS_on_AU_111_51x30x2_inverse_bilayer_with_...                             2.000000e-10   \n",
       "646_SDS_on_AU_111_51x30x2_inverse_monolayer_wit...                             2.000000e-10   \n",
       "646_SDS_on_AU_111_51x30x2_inverse_monolayer_wit...                             2.000000e-10   \n",
       "646_SDS_on_AU_111_51x30x2_monolayer_with_counte...                             2.000000e-10   \n",
       "646_SDS_on_AU_111_51x30x2_monolayer_with_counte...                             2.000000e-10   \n",
       "\n",
       "                                                       ...       \\\n",
       "646_SDS_on_AU_111_51x30x2_bilayer                      ...        \n",
       "646_SDS_on_AU_111_51x30x2_bilayer_with_counterion      ...        \n",
       "646_SDS_on_AU_111_51x30x2_bilayer_with_counteri...     ...        \n",
       "646_SDS_on_AU_111_51x30x2_cylinders_with_counte...     ...        \n",
       "646_SDS_on_AU_111_51x30x2_cylinders_with_counte...     ...        \n",
       "646_SDS_on_AU_111_51x30x2_hemicylinders_with_co...     ...        \n",
       "646_SDS_on_AU_111_51x30x2_hemicylinders_with_co...     ...        \n",
       "646_SDS_on_AU_111_51x30x2_inverse_bilayer_with_...     ...        \n",
       "646_SDS_on_AU_111_51x30x2_inverse_monolayer_wit...     ...        \n",
       "646_SDS_on_AU_111_51x30x2_inverse_monolayer_wit...     ...        \n",
       "646_SDS_on_AU_111_51x30x2_monolayer_with_counte...     ...        \n",
       "646_SDS_on_AU_111_51x30x2_monolayer_with_counte...     ...        \n",
       "\n",
       "                                                    sf_concentration  \\\n",
       "646_SDS_on_AU_111_51x30x2_bilayer                           0.006806   \n",
       "646_SDS_on_AU_111_51x30x2_bilayer_with_counterion           0.006806   \n",
       "646_SDS_on_AU_111_51x30x2_bilayer_with_counteri...          0.006806   \n",
       "646_SDS_on_AU_111_51x30x2_cylinders_with_counte...          0.006806   \n",
       "646_SDS_on_AU_111_51x30x2_cylinders_with_counte...          0.006806   \n",
       "646_SDS_on_AU_111_51x30x2_hemicylinders_with_co...          0.006806   \n",
       "646_SDS_on_AU_111_51x30x2_hemicylinders_with_co...          0.006806   \n",
       "646_SDS_on_AU_111_51x30x2_inverse_bilayer_with_...          0.006806   \n",
       "646_SDS_on_AU_111_51x30x2_inverse_monolayer_wit...          0.006806   \n",
       "646_SDS_on_AU_111_51x30x2_inverse_monolayer_wit...          0.006806   \n",
       "646_SDS_on_AU_111_51x30x2_monolayer_with_counte...          0.006806   \n",
       "646_SDS_on_AU_111_51x30x2_monolayer_with_counte...          0.006806   \n",
       "\n",
       "                                                   sf_expected_aggregates  \\\n",
       "646_SDS_on_AU_111_51x30x2_bilayer                                    None   \n",
       "646_SDS_on_AU_111_51x30x2_bilayer_with_counterion                    None   \n",
       "646_SDS_on_AU_111_51x30x2_bilayer_with_counteri...                   None   \n",
       "646_SDS_on_AU_111_51x30x2_cylinders_with_counte...                   None   \n",
       "646_SDS_on_AU_111_51x30x2_cylinders_with_counte...                   None   \n",
       "646_SDS_on_AU_111_51x30x2_hemicylinders_with_co...                   None   \n",
       "646_SDS_on_AU_111_51x30x2_hemicylinders_with_co...                   None   \n",
       "646_SDS_on_AU_111_51x30x2_inverse_bilayer_with_...                   None   \n",
       "646_SDS_on_AU_111_51x30x2_inverse_monolayer_wit...                   None   \n",
       "646_SDS_on_AU_111_51x30x2_inverse_monolayer_wit...                   None   \n",
       "646_SDS_on_AU_111_51x30x2_monolayer_with_counte...                   None   \n",
       "646_SDS_on_AU_111_51x30x2_monolayer_with_counte...                   None   \n",
       "\n",
       "                                                   sf_nmolecules  \\\n",
       "646_SDS_on_AU_111_51x30x2_bilayer                            646   \n",
       "646_SDS_on_AU_111_51x30x2_bilayer_with_counterion            646   \n",
       "646_SDS_on_AU_111_51x30x2_bilayer_with_counteri...           646   \n",
       "646_SDS_on_AU_111_51x30x2_cylinders_with_counte...           646   \n",
       "646_SDS_on_AU_111_51x30x2_cylinders_with_counte...           646   \n",
       "646_SDS_on_AU_111_51x30x2_hemicylinders_with_co...           646   \n",
       "646_SDS_on_AU_111_51x30x2_hemicylinders_with_co...           646   \n",
       "646_SDS_on_AU_111_51x30x2_inverse_bilayer_with_...           646   \n",
       "646_SDS_on_AU_111_51x30x2_inverse_monolayer_wit...           646   \n",
       "646_SDS_on_AU_111_51x30x2_inverse_monolayer_wit...           646   \n",
       "646_SDS_on_AU_111_51x30x2_monolayer_with_counte...           646   \n",
       "646_SDS_on_AU_111_51x30x2_monolayer_with_counte...           646   \n",
       "\n",
       "                                                                       sf_preassembly  \\\n",
       "646_SDS_on_AU_111_51x30x2_bilayer                                             bilayer   \n",
       "646_SDS_on_AU_111_51x30x2_bilayer_with_counterion             bilayer_with_counterion   \n",
       "646_SDS_on_AU_111_51x30x2_bilayer_with_counteri...            bilayer_with_counterion   \n",
       "646_SDS_on_AU_111_51x30x2_cylinders_with_counte...          cylinders_with_counterion   \n",
       "646_SDS_on_AU_111_51x30x2_cylinders_with_counte...          cylinders_with_counterion   \n",
       "646_SDS_on_AU_111_51x30x2_hemicylinders_with_co...      hemicylinders_with_counterion   \n",
       "646_SDS_on_AU_111_51x30x2_hemicylinders_with_co...      hemicylinders_with_counterion   \n",
       "646_SDS_on_AU_111_51x30x2_inverse_bilayer_with_...    inverse_bilayer_with_counterion   \n",
       "646_SDS_on_AU_111_51x30x2_inverse_monolayer_wit...  inverse_monolayer_with_counterion   \n",
       "646_SDS_on_AU_111_51x30x2_inverse_monolayer_wit...  inverse_monolayer_with_counterion   \n",
       "646_SDS_on_AU_111_51x30x2_monolayer_with_counte...          monolayer_with_counterion   \n",
       "646_SDS_on_AU_111_51x30x2_monolayer_with_counte...          monolayer_with_counterion   \n",
       "\n",
       "                                                    solvent  substrate  \\\n",
       "646_SDS_on_AU_111_51x30x2_bilayer                       H2O         AU   \n",
       "646_SDS_on_AU_111_51x30x2_bilayer_with_counterion       H2O         AU   \n",
       "646_SDS_on_AU_111_51x30x2_bilayer_with_counteri...      H2O         AU   \n",
       "646_SDS_on_AU_111_51x30x2_cylinders_with_counte...      H2O         AU   \n",
       "646_SDS_on_AU_111_51x30x2_cylinders_with_counte...      H2O         AU   \n",
       "646_SDS_on_AU_111_51x30x2_hemicylinders_with_co...      H2O         AU   \n",
       "646_SDS_on_AU_111_51x30x2_hemicylinders_with_co...      H2O         AU   \n",
       "646_SDS_on_AU_111_51x30x2_inverse_bilayer_with_...      H2O         AU   \n",
       "646_SDS_on_AU_111_51x30x2_inverse_monolayer_wit...      H2O         AU   \n",
       "646_SDS_on_AU_111_51x30x2_inverse_monolayer_wit...      H2O         AU   \n",
       "646_SDS_on_AU_111_51x30x2_monolayer_with_counte...      H2O         AU   \n",
       "646_SDS_on_AU_111_51x30x2_monolayer_with_counte...      H2O         AU   \n",
       "\n",
       "                                                    surfactant sv_density  \\\n",
       "646_SDS_on_AU_111_51x30x2_bilayer                          SDS        997   \n",
       "646_SDS_on_AU_111_51x30x2_bilayer_with_counterion          SDS        997   \n",
       "646_SDS_on_AU_111_51x30x2_bilayer_with_counteri...         SDS        997   \n",
       "646_SDS_on_AU_111_51x30x2_cylinders_with_counte...         SDS        997   \n",
       "646_SDS_on_AU_111_51x30x2_cylinders_with_counte...         SDS        997   \n",
       "646_SDS_on_AU_111_51x30x2_hemicylinders_with_co...         SDS        997   \n",
       "646_SDS_on_AU_111_51x30x2_hemicylinders_with_co...         SDS        997   \n",
       "646_SDS_on_AU_111_51x30x2_inverse_bilayer_with_...         SDS        997   \n",
       "646_SDS_on_AU_111_51x30x2_inverse_monolayer_wit...         SDS        997   \n",
       "646_SDS_on_AU_111_51x30x2_inverse_monolayer_wit...         SDS        997   \n",
       "646_SDS_on_AU_111_51x30x2_monolayer_with_counte...         SDS        997   \n",
       "646_SDS_on_AU_111_51x30x2_monolayer_with_counte...         SDS        997   \n",
       "\n",
       "                                                    sv_preassembly  \\\n",
       "646_SDS_on_AU_111_51x30x2_bilayer                           random   \n",
       "646_SDS_on_AU_111_51x30x2_bilayer_with_counterion           random   \n",
       "646_SDS_on_AU_111_51x30x2_bilayer_with_counteri...          random   \n",
       "646_SDS_on_AU_111_51x30x2_cylinders_with_counte...          random   \n",
       "646_SDS_on_AU_111_51x30x2_cylinders_with_counte...          random   \n",
       "646_SDS_on_AU_111_51x30x2_hemicylinders_with_co...          random   \n",
       "646_SDS_on_AU_111_51x30x2_hemicylinders_with_co...          random   \n",
       "646_SDS_on_AU_111_51x30x2_inverse_bilayer_with_...          random   \n",
       "646_SDS_on_AU_111_51x30x2_inverse_monolayer_wit...          random   \n",
       "646_SDS_on_AU_111_51x30x2_inverse_monolayer_wit...          random   \n",
       "646_SDS_on_AU_111_51x30x2_monolayer_with_counte...          random   \n",
       "646_SDS_on_AU_111_51x30x2_monolayer_with_counte...          random   \n",
       "\n",
       "                                                    temperature  \n",
       "646_SDS_on_AU_111_51x30x2_bilayer                           298  \n",
       "646_SDS_on_AU_111_51x30x2_bilayer_with_counterion           298  \n",
       "646_SDS_on_AU_111_51x30x2_bilayer_with_counteri...          298  \n",
       "646_SDS_on_AU_111_51x30x2_cylinders_with_counte...          298  \n",
       "646_SDS_on_AU_111_51x30x2_cylinders_with_counte...          298  \n",
       "646_SDS_on_AU_111_51x30x2_hemicylinders_with_co...          298  \n",
       "646_SDS_on_AU_111_51x30x2_hemicylinders_with_co...          298  \n",
       "646_SDS_on_AU_111_51x30x2_inverse_bilayer_with_...          298  \n",
       "646_SDS_on_AU_111_51x30x2_inverse_monolayer_wit...          298  \n",
       "646_SDS_on_AU_111_51x30x2_inverse_monolayer_wit...          298  \n",
       "646_SDS_on_AU_111_51x30x2_monolayer_with_counte...          298  \n",
       "646_SDS_on_AU_111_51x30x2_monolayer_with_counte...          298  \n",
       "\n",
       "[12 rows x 29 columns]"
      ]
     },
     "execution_count": 22,
     "metadata": {},
     "output_type": "execute_result"
    }
   ],
   "source": [
    "sim_df[sim_df.sf_nmolecules == 646]"
   ]
  },
  {
   "cell_type": "code",
   "execution_count": 13,
   "metadata": {},
   "outputs": [
    {
     "data": {
      "text/plain": [
       "[1.4700000000000001e-08, 1.5000000000000002e-08, 1.4000000000000001e-09]"
      ]
     },
     "execution_count": 13,
     "metadata": {},
     "output_type": "execute_result"
    }
   ],
   "source": [
    "sim_df.loc[\"646_SDS_on_AU_111_51x30x2_hemicylinders_with_counterion\"][\"sb_measures\"]"
   ]
  },
  {
   "cell_type": "code",
   "execution_count": 43,
   "metadata": {},
   "outputs": [
    {
     "data": {
      "text/plain": [
       "6.022e+23"
      ]
     },
     "execution_count": 43,
     "metadata": {},
     "output_type": "execute_result"
    }
   ],
   "source": [
    "NA"
   ]
  },
  {
   "cell_type": "code",
   "execution_count": 44,
   "metadata": {},
   "outputs": [
    {
     "data": {
      "text/plain": [
       "6.022e+23"
      ]
     },
     "execution_count": 44,
     "metadata": {},
     "output_type": "execute_result"
    }
   ],
   "source": [
    "NA"
   ]
  },
  {
   "cell_type": "code",
   "execution_count": 35,
   "metadata": {},
   "outputs": [
    {
     "data": {
      "text/plain": [
       "2.9324911218831287"
      ]
     },
     "execution_count": 35,
     "metadata": {},
     "output_type": "execute_result"
    }
   ],
   "source": [
    "1/(3.41007e-19 * 1e18) # molecules per nm^2"
   ]
  },
  {
   "cell_type": "code",
   "execution_count": 38,
   "metadata": {},
   "outputs": [],
   "source": [
    "NA = 6.022e23"
   ]
  },
  {
   "cell_type": "code",
   "execution_count": 48,
   "metadata": {},
   "outputs": [
    {
     "data": {
      "text/plain": [
       "4.86962989352894"
      ]
     },
     "execution_count": 48,
     "metadata": {},
     "output_type": "execute_result"
    }
   ],
   "source": [
    "1/(3.41007e-19 * 1e4) / NA * 1e10# moles per cm^2"
   ]
  },
  {
   "cell_type": "code",
   "execution_count": 51,
   "metadata": {},
   "outputs": [
    {
     "data": {
      "text/plain": [
       "3.321155762205247"
      ]
     },
     "execution_count": 51,
     "metadata": {},
     "output_type": "execute_result"
    }
   ],
   "source": [
    "2*1e18 *1e-4 / NA *1e10"
   ]
  },
  {
   "cell_type": "code",
   "execution_count": null,
   "metadata": {},
   "outputs": [],
   "source": [
    "# get some lammps file"
   ]
  },
  {
   "cell_type": "code",
   "execution_count": 10,
   "metadata": {},
   "outputs": [],
   "source": [
    "data, meta = fp.get_file('646_SDS_on_AU_111_51x30x2_hemicylinders_with_counterion_50Ang_stepped_nptEquilibrated.lammps')"
   ]
  },
  {
   "cell_type": "code",
   "execution_count": 12,
   "metadata": {},
   "outputs": [
    {
     "data": {
      "text/plain": [
       "{'_id': ObjectId('5c6aaeae2512e1b7c25cc7c4'),\n",
       " 'compressed': True,\n",
       " 'gfs_id': '5c6aaea92512e1b7c25cc742',\n",
       " 'identifier': '646_SDS_on_AU_111_51x30x2_hemicylinders_with_counterion_50Ang_stepped_nptEquilibrated.lammps',\n",
       " 'metadata': [{'ci_preassembly': 'at polar heads',\n",
       "   'counterion': 'NA',\n",
       "   'indenter': 'AU',\n",
       "   'indenter_pdb': '50Ang_stepped',\n",
       "   'pressure': 1,\n",
       "   'sb_crystal_plane': 111,\n",
       "   'sb_multiples': [51, 30, 2],\n",
       "   'sb_name': 'AU_111_51x30x2',\n",
       "   'sf_nmolecules': 646,\n",
       "   'sf_preassembly': 'hemicylinders',\n",
       "   'solvent': 'H2O',\n",
       "   'state': 'NPT equilibrated',\n",
       "   'substrate': 'AU',\n",
       "   'surfactant': 'SDS',\n",
       "   'sv_density': 997,\n",
       "   'sv_preassembly': 'random',\n",
       "   'system_name': '646_SDS_on_AU_111_51x30x2_hemicylinders_with_counterion_50Ang_stepped',\n",
       "   'temperature': 298}],\n",
       " 'original_file_name': 'datafile.lammps',\n",
       " 'original_file_path': '/work/ws/nemo/fr_jh1130-fw_ws_20190202-0/launchpad/launcher_2019-02-18-13-09-59-341171/datafile.lammps'}"
      ]
     },
     "execution_count": 12,
     "metadata": {},
     "output_type": "execute_result"
    }
   ],
   "source": [
    "meta"
   ]
  },
  {
   "cell_type": "code",
   "execution_count": 13,
   "metadata": {},
   "outputs": [
    {
     "data": {
      "text/plain": [
       "84993602"
      ]
     },
     "execution_count": 13,
     "metadata": {},
     "output_type": "execute_result"
    }
   ],
   "source": [
    "len(data)"
   ]
  },
  {
   "cell_type": "code",
   "execution_count": 16,
   "metadata": {},
   "outputs": [
    {
     "name": "stdout",
     "output_type": "stream",
     "text": [
      "LAMMPS data file via write_data, version 16 Mar 2018, timestep = 10000\n",
      "\n",
      "377228 atoms\n",
      "11 atom types\n",
      "244852 bonds\n",
      "8 bond types\n",
      "160217 angles\n",
      "13 angle types\n",
      "85272 dihedrals\n",
      "18 dihedral types\n",
      "\n",
      "-2.1312674770773299e-01 1.4728655174770691e+02 xlo xhi\n",
      "1.0753900777508676e+00 1.5135958792224744e+02 ylo yhi\n",
      "8.1139241840736531e-01 1.7553756358159279e+02 zlo zhi\n",
      "\n",
      "Masses\n",
      "\n",
      "1 1.008\n",
      "2 1.008\n",
      "3 12.011\n",
      "4 12.011\n",
      "5 15.9994\n",
      "6 15.9994\n",
      "7 32.06\n",
      "8 1.008\n",
      "9 15.9994\n",
      "10 22.9898\n",
      "11 196.966\n",
      "\n",
      "Pair Coeffs # lj/charmmfsw/coul/long\n",
      "\n",
      "1 0.028 2.38761 0.028 2.38761\n",
      "2 0.024 2.38761 0.024 2.38761\n",
      "3 0.056 3.58141 0.01 3.38542\n",
      "4 0.078 3.63487 0.01 3.38542\n",
      "5 0.1 2.93997 0.1 2.93997\n",
      "6 0.12 3.02906 0.12 3.02906\n",
      "7 0.47 3.74177 0.47 3.74177\n",
      "8 0.046 0.400014 0.046 0.400014\n",
      "9 0.1521 3.15057 0.1521 3.15057\n",
      "10 0.0469 2.51367 0.0469 2.51367\n",
      "11 5.29 2.62904 5.29 2.62904\n",
      "\n",
      "Bond Coeffs # harmonic\n",
      "\n",
      "1 222.5 1.53\n",
      "2 222.5 1.528\n",
      "3 309 1.111\n",
      "4 340 1.43\n",
      "5 322 1.111\n",
      "6 450 0.9572\n",
      "7 540 1.448\n",
      "8 250 1.575\n",
      "\n",
      "Angle Coeffs # charmm\n",
      "\n",
      "1 58.35 113.6 11.16 2.56\n"
     ]
    }
   ],
   "source": [
    "print(data[:1000].decode())"
   ]
  },
  {
   "cell_type": "code",
   "execution_count": 8,
   "metadata": {},
   "outputs": [],
   "source": [
    "data,meta=fp.get_file('646_SDS_on_AU_111_51x30x2_hemicylinde_with_counterion_50Ang_stepped_nptEquilibrated.lammps')"
   ]
  },
  {
   "cell_type": "code",
   "execution_count": 9,
   "metadata": {},
   "outputs": [],
   "source": [
    "meta"
   ]
  },
  {
   "cell_type": "code",
   "execution_count": 13,
   "metadata": {},
   "outputs": [],
   "source": [
    "data,meta=fp.get_file('646_SDS_on_AU_111_51x30x2_hemicylinders_with_counterion_10ns.lammps')"
   ]
  },
  {
   "cell_type": "code",
   "execution_count": 15,
   "metadata": {},
   "outputs": [
    {
     "data": {
      "text/plain": [
       "{'_id': ObjectId('5ba0213884a79f69401d057e'),\n",
       " 'compressed': True,\n",
       " 'gfs_id': '5ba0212e84a79f69401d04f8',\n",
       " 'identifier': '646_SDS_on_AU_111_51x30x2_hemicylinders_with_counterion_10ns.lammps',\n",
       " 'metadata': {'system_name': '646_SDS_on_AU_111_51x30x2_hemicylinders_with_counterion'},\n",
       " 'original_file_name': '646_SDS_on_AU_111_51x30x2_hemicylinders_with_counterion_10ns.lammps',\n",
       " 'original_file_path': '/gpfs/work/hka18/hka184/fireworks/launcher_2018-09-17-21-48-28-500172/646_SDS_on_AU_111_51x30x2_hemicylinders_with_counterion_10ns.lammps'}"
      ]
     },
     "execution_count": 15,
     "metadata": {},
     "output_type": "execute_result"
    }
   ],
   "source": [
    "meta"
   ]
  },
  {
   "cell_type": "code",
   "execution_count": null,
   "metadata": {},
   "outputs": [],
   "source": []
  }
 ],
 "metadata": {
  "hide_input": false,
  "kernelspec": {
   "display_name": "Python 3 (jlh-bwCloud)",
   "language": "python",
   "name": "python3-jlh-bwcloud"
  },
  "language_info": {
   "codemirror_mode": {
    "name": "ipython",
    "version": 3
   },
   "file_extension": ".py",
   "mimetype": "text/x-python",
   "name": "python",
   "nbconvert_exporter": "python",
   "pygments_lexer": "ipython3",
   "version": "3.6.7"
  },
  "latex_envs": {
   "LaTeX_envs_menu_present": true,
   "autoclose": false,
   "autocomplete": true,
   "bibliofile": "biblio.bib",
   "cite_by": "apalike",
   "current_citInitial": 1,
   "eqLabelWithNumbers": true,
   "eqNumInitial": 1,
   "hotkeys": {
    "equation": "Ctrl-E",
    "itemize": "Ctrl-I"
   },
   "labels_anchors": false,
   "latex_user_defs": false,
   "report_style_numbering": false,
   "user_envs_cfg": false
  },
  "toc": {
   "base_numbering": 1,
   "nav_menu": {},
   "number_sections": true,
   "sideBar": true,
   "skip_h1_title": false,
   "title_cell": "Table of Contents",
   "title_sidebar": "Contents",
   "toc_cell": false,
   "toc_position": {},
   "toc_section_display": true,
   "toc_window_display": false
  },
  "varInspector": {
   "cols": {
    "lenName": 16,
    "lenType": 16,
    "lenVar": 40
   },
   "kernels_config": {
    "python": {
     "delete_cmd_postfix": "",
     "delete_cmd_prefix": "del ",
     "library": "var_list.py",
     "varRefreshCmd": "print(var_dic_list())"
    },
    "r": {
     "delete_cmd_postfix": ") ",
     "delete_cmd_prefix": "rm(",
     "library": "var_list.r",
     "varRefreshCmd": "cat(var_dic_list()) "
    }
   },
   "types_to_exclude": [
    "module",
    "function",
    "builtin_function_or_method",
    "instance",
    "_Feature"
   ],
   "window_display": false
  }
 },
 "nbformat": 4,
 "nbformat_minor": 2
}
