{
 "cells": [
  {
   "cell_type": "code",
   "execution_count": 7,
   "metadata": {},
   "outputs": [],
   "source": [
    "from fireworks.utilities.fw_serializers import load_object_from_file"
   ]
  },
  {
   "cell_type": "code",
   "execution_count": 8,
   "metadata": {},
   "outputs": [],
   "source": [
    "from fireworks import Firework"
   ]
  },
  {
   "cell_type": "code",
   "execution_count": 9,
   "metadata": {},
   "outputs": [],
   "source": [
    "import shutil"
   ]
  },
  {
   "cell_type": "code",
   "execution_count": 10,
   "metadata": {},
   "outputs": [],
   "source": [
    "import ruamel.yaml as yaml"
   ]
  },
  {
   "cell_type": "code",
   "execution_count": 11,
   "metadata": {},
   "outputs": [],
   "source": [
    "from fireworks.utilities.fw_serializers import reconstitute_dates"
   ]
  },
  {
   "cell_type": "code",
   "execution_count": 12,
   "metadata": {},
   "outputs": [],
   "source": [
    "with open('object.yaml','r',encoding='utf-8') as f:\n",
    "    yaml_obj = reconstitute_dates(yaml.safe_load(f))"
   ]
  },
  {
   "cell_type": "code",
   "execution_count": 13,
   "metadata": {},
   "outputs": [
    {
     "data": {
      "text/plain": [
       "{'name': 'NEMO LAMMPS restart run',\n",
       " 'spec': {'_category': 'nemo_queue',\n",
       "  '_files_in': {'restart_file': 'default.mpiio.restart'},\n",
       "  '_files_out': {'ave_file': 'thermo_ave.out',\n",
       "   'data_file': 'default.lammps',\n",
       "   'log_file': 'lammps.log',\n",
       "   'traj_file': 'default.nc'},\n",
       "  '_queueadapter': {'nodes': 8,\n",
       "   'ppn': 20,\n",
       "   'queue': '',\n",
       "   'walltime': '96:00:00'},\n",
       "  '_tasks': [{'_fw_name': 'GetFilesTask',\n",
       "    'identifiers': ['lmp_header.input',\n",
       "     'lmp_production.input',\n",
       "     'lmp_production_mixed.input']},\n",
       "   {'_fw_name': 'CmdTask',\n",
       "    'cmd': 'lmp',\n",
       "    'opt': ['-in lmp_production.input',\n",
       "     '-v surfactant_name SDS',\n",
       "     '-v has_indenter 1',\n",
       "     '-v constant_indenter_velocity -0.000001',\n",
       "     '-v productionSteps 37500000',\n",
       "     '-v pbc2d 0',\n",
       "     '-v reinitialize_velocities 0',\n",
       "     '-v use_colvars 0',\n",
       "     '-v mpiio 1',\n",
       "     '-v thermo_frequency 10000',\n",
       "     '-v thermo_average_frequency 10000',\n",
       "     '-v netcdf_frequency 100000',\n",
       "     '-v compute_interactions 1',\n",
       "     '-v store_forces 1',\n",
       "     '-v is_restart 1',\n",
       "     '-v restartFile default.mpiio.restart']}]}}"
      ]
     },
     "execution_count": 13,
     "metadata": {},
     "output_type": "execute_result"
    }
   ],
   "source": [
    "yaml_obj"
   ]
  },
  {
   "cell_type": "code",
   "execution_count": 15,
   "metadata": {},
   "outputs": [],
   "source": [
    "fw_from_dict = Firework.from_dict(yaml_obj)"
   ]
  },
  {
   "cell_type": "code",
   "execution_count": 16,
   "metadata": {},
   "outputs": [
    {
     "data": {
      "text/plain": [
       "{'created_on': '2019-02-27T15:35:55.564027',\n",
       " 'fw_id': -1,\n",
       " 'name': 'NEMO LAMMPS restart run',\n",
       " 'spec': {'_category': 'nemo_queue',\n",
       "  '_files_in': {'restart_file': 'default.mpiio.restart'},\n",
       "  '_files_out': {'ave_file': 'thermo_ave.out',\n",
       "   'data_file': 'default.lammps',\n",
       "   'log_file': 'lammps.log',\n",
       "   'traj_file': 'default.nc'},\n",
       "  '_queueadapter': {'nodes': 8,\n",
       "   'ppn': 20,\n",
       "   'queue': '',\n",
       "   'walltime': '96:00:00'},\n",
       "  '_tasks': [{'_fw_name': 'GetFilesTask',\n",
       "    'identifiers': ['lmp_header.input',\n",
       "     'lmp_production.input',\n",
       "     'lmp_production_mixed.input']},\n",
       "   {'_fw_name': 'CmdTask',\n",
       "    'cmd': 'lmp',\n",
       "    'opt': ['-in lmp_production.input',\n",
       "     '-v surfactant_name SDS',\n",
       "     '-v has_indenter 1',\n",
       "     '-v constant_indenter_velocity -0.000001',\n",
       "     '-v productionSteps 37500000',\n",
       "     '-v pbc2d 0',\n",
       "     '-v reinitialize_velocities 0',\n",
       "     '-v use_colvars 0',\n",
       "     '-v mpiio 1',\n",
       "     '-v thermo_frequency 10000',\n",
       "     '-v thermo_average_frequency 10000',\n",
       "     '-v netcdf_frequency 100000',\n",
       "     '-v compute_interactions 1',\n",
       "     '-v store_forces 1',\n",
       "     '-v is_restart 1',\n",
       "     '-v restartFile default.mpiio.restart']}]},\n",
       " 'updated_on': '2019-02-27T15:35:55.564033'}"
      ]
     },
     "execution_count": 16,
     "metadata": {},
     "output_type": "execute_result"
    }
   ],
   "source": [
    "fw_from_dict.as_dict()"
   ]
  },
  {
   "cell_type": "code",
   "execution_count": 22,
   "metadata": {},
   "outputs": [
    {
     "data": {
      "text/plain": [
       "True"
      ]
     },
     "execution_count": 22,
     "metadata": {},
     "output_type": "execute_result"
    }
   ],
   "source": [
    "type(fw_from_dict.spec[\"_files_in\"]) is dict"
   ]
  },
  {
   "cell_type": "code",
   "execution_count": 11,
   "metadata": {},
   "outputs": [],
   "source": [
    "fw_from_file = Firework.from_file('object.yaml')"
   ]
  },
  {
   "cell_type": "code",
   "execution_count": 17,
   "metadata": {},
   "outputs": [
    {
     "data": {
      "text/plain": [
       "{'created_on': '2019-02-27T08:59:45.908556',\n",
       " 'fw_id': -1,\n",
       " 'name': 'NEMO LAMMPS restart run',\n",
       " 'spec': {'_category': 'nemo_queue',\n",
       "  '_files_in': {'restart_file': 'default.mpiio.restart'},\n",
       "  '_files_out': {'ave_file': 'thermo_ave.out',\n",
       "   'data_file': 'default.lammps',\n",
       "   'log_file': 'lammps.log',\n",
       "   'traj_file': 'default.nc'},\n",
       "  '_queueadapter': {'nodes': 8,\n",
       "   'ppn': 20,\n",
       "   'queue': '',\n",
       "   'walltime': '96:00:00'},\n",
       "  '_tasks': [{'_fw_name': 'GetFilesTask',\n",
       "    'identifiers': ['lmp_header.input',\n",
       "     'lmp_production.input',\n",
       "     'lmp_production_mixed.input']},\n",
       "   {'_fw_name': 'CmdTask',\n",
       "    'cmd': 'lmp',\n",
       "    'opt': ['-in lmp_production.input',\n",
       "     '-v surfactant_name SDS',\n",
       "     '-v has_indenter 1',\n",
       "     '-v constant_indenter_velocity -0.000001',\n",
       "     '-v productionSteps 37500000',\n",
       "     '-v pbc2d 0',\n",
       "     '-v reinitialize_velocities 0',\n",
       "     '-v use_colvars 0',\n",
       "     '-v mpiio 1',\n",
       "     '-v thermo_frequency 10000',\n",
       "     '-v thermo_average_frequency 10000',\n",
       "     '-v netcdf_frequency 100000',\n",
       "     '-v compute_interactions 1',\n",
       "     '-v store_forces 1',\n",
       "     '-v is_restart 1',\n",
       "     '-v restartFile default.mpiio.restart']}]},\n",
       " 'updated_on': '2019-02-27T08:59:45.908561'}"
      ]
     },
     "execution_count": 17,
     "metadata": {},
     "output_type": "execute_result"
    }
   ],
   "source": [
    "fw_from_file.as_dict()"
   ]
  },
  {
   "cell_type": "code",
   "execution_count": 21,
   "metadata": {},
   "outputs": [
    {
     "data": {
      "text/plain": [
       "dict_keys(['restart_file'])"
      ]
     },
     "execution_count": 21,
     "metadata": {},
     "output_type": "execute_result"
    }
   ],
   "source": [
    "fw_from_file.spec[\"_files_in\"].keys()"
   ]
  },
  {
   "cell_type": "code",
   "execution_count": 13,
   "metadata": {},
   "outputs": [],
   "source": [
    "from fireworks import Workflow"
   ]
  },
  {
   "cell_type": "code",
   "execution_count": 14,
   "metadata": {},
   "outputs": [],
   "source": [
    "wf_from_file = Workflow.from_file('../N_surfactant_on_substrate_template/fw/lmp_production_constant_AFM_tip_velocity.nemo.yaml')"
   ]
  },
  {
   "cell_type": "code",
   "execution_count": 6,
   "metadata": {},
   "outputs": [
    {
     "ename": "NameError",
     "evalue": "name 'wf_from_file' is not defined",
     "output_type": "error",
     "traceback": [
      "\u001b[0;31m---------------------------------------------------------------------------\u001b[0m",
      "\u001b[0;31mNameError\u001b[0m                                 Traceback (most recent call last)",
      "\u001b[0;32m<ipython-input-6-96be02d715bb>\u001b[0m in \u001b[0;36m<module>\u001b[0;34m()\u001b[0m\n\u001b[0;32m----> 1\u001b[0;31m \u001b[0mwf_from_file\u001b[0m\u001b[0;34m.\u001b[0m\u001b[0mas_dict\u001b[0m\u001b[0;34m(\u001b[0m\u001b[0;34m)\u001b[0m\u001b[0;34m\u001b[0m\u001b[0;34m\u001b[0m\u001b[0m\n\u001b[0m",
      "\u001b[0;31mNameError\u001b[0m: name 'wf_from_file' is not defined"
     ]
    }
   ],
   "source": [
    "wf_from_file.as_dict()"
   ]
  },
  {
   "cell_type": "code",
   "execution_count": null,
   "metadata": {},
   "outputs": [],
   "source": [
    "fw_from_file = Firework.from_file('object.yaml')"
   ]
  },
  {
   "cell_type": "code",
   "execution_count": 43,
   "metadata": {},
   "outputs": [],
   "source": [
    "fw_from_file.spec[\"restart_count\"] = 2"
   ]
  },
  {
   "cell_type": "code",
   "execution_count": 5,
   "metadata": {},
   "outputs": [
    {
     "ename": "NameError",
     "evalue": "name 'fw_from_file' is not defined",
     "output_type": "error",
     "traceback": [
      "\u001b[0;31m---------------------------------------------------------------------------\u001b[0m",
      "\u001b[0;31mNameError\u001b[0m                                 Traceback (most recent call last)",
      "\u001b[0;32m<ipython-input-5-0a4c371a3f6f>\u001b[0m in \u001b[0;36m<module>\u001b[0;34m()\u001b[0m\n\u001b[0;32m----> 1\u001b[0;31m \u001b[0mfw_from_file\u001b[0m\u001b[0;34m.\u001b[0m\u001b[0mas_dict\u001b[0m\u001b[0;34m(\u001b[0m\u001b[0;34m)\u001b[0m\u001b[0;34m\u001b[0m\u001b[0;34m\u001b[0m\u001b[0m\n\u001b[0m",
      "\u001b[0;31mNameError\u001b[0m: name 'fw_from_file' is not defined"
     ]
    }
   ],
   "source": [
    "fw_from_file.as_dict()"
   ]
  },
  {
   "cell_type": "code",
   "execution_count": 46,
   "metadata": {},
   "outputs": [],
   "source": [
    "from fireworks.user_objects.firetasks.jlh_tasks import CmdTask"
   ]
  },
  {
   "cell_type": "code",
   "execution_count": 49,
   "metadata": {},
   "outputs": [],
   "source": [
    "from fireworks.user_objects.firetasks.filepad_tasks import GetFilesTask"
   ]
  },
  {
   "cell_type": "code",
   "execution_count": 71,
   "metadata": {},
   "outputs": [
    {
     "data": {
      "text/plain": [
       "[{'_fw_name': 'GetFilesTask',\n",
       "  'identifiers': ['lmp_header.input',\n",
       "   'lmp_production.input',\n",
       "   'lmp_production_mixed.input']},\n",
       " {'_fw_name': 'CmdTask',\n",
       "  'cmd': 'lmp',\n",
       "  'opt': ['-in lmp_production.input',\n",
       "   '-v surfactant_name SDS',\n",
       "   '-v has_indenter 1',\n",
       "   '-v constant_indenter_velocity -0.000001',\n",
       "   '-v productionSteps 37500000',\n",
       "   '-v pbc2d 0',\n",
       "   '-v reinitialize_velocities 0',\n",
       "   '-v use_colvars 0',\n",
       "   '-v mpiio 1',\n",
       "   '-v thermo_frequency 10000',\n",
       "   '-v thermo_average_frequency 10000',\n",
       "   '-v netcdf_frequency 100000',\n",
       "   '-v compute_interactions 1',\n",
       "   '-v store_forces 1',\n",
       "   '-v is_restart 1',\n",
       "   '-v restartFile default.mpiio.restart']}]"
      ]
     },
     "execution_count": 71,
     "metadata": {},
     "output_type": "execute_result"
    }
   ],
   "source": [
    "fw_from_file.spec[\"_tasks\"]"
   ]
  },
  {
   "cell_type": "code",
   "execution_count": null,
   "metadata": {},
   "outputs": [],
   "source": [
    "load_objec"
   ]
  },
  {
   "cell_type": "code",
   "execution_count": 73,
   "metadata": {},
   "outputs": [
    {
     "data": {
      "text/plain": [
       "GetFilesTask(None,\n",
       "             {'_fw_name': 'GetFilesTask',\n",
       "              'identifiers': ['lmp_header.input',\n",
       "               'lmp_production.input',\n",
       "               'lmp_production_mixed.input']})"
      ]
     },
     "execution_count": 73,
     "metadata": {},
     "output_type": "execute_result"
    }
   ],
   "source": [
    "load_object(fw_from_file.spec[\"_tasks\"][0])"
   ]
  },
  {
   "cell_type": "code",
   "execution_count": 56,
   "metadata": {},
   "outputs": [],
   "source": [
    "cmd_task_from_dict = CmdTask.from_dict(fw_from_file.spec[\"_tasks\"][-1])"
   ]
  },
  {
   "cell_type": "code",
   "execution_count": 59,
   "metadata": {},
   "outputs": [],
   "source": [
    "from fireworks.utilities.fw_serializers import load_object"
   ]
  },
  {
   "cell_type": "code",
   "execution_count": 68,
   "metadata": {},
   "outputs": [],
   "source": [
    "cmd_task_from_load_object = load_object(fw_from_file.spec[\"_tasks\"][-1])"
   ]
  },
  {
   "cell_type": "code",
   "execution_count": 69,
   "metadata": {},
   "outputs": [
    {
     "data": {
      "text/plain": [
       "CmdTask(None,\n",
       "        {'_fw_name': 'CmdTask',\n",
       "         'cmd': 'lmp',\n",
       "         'opt': ['-in lmp_production.input',\n",
       "          '-v surfactant_name SDS',\n",
       "          '-v has_indenter 1',\n",
       "          '-v constant_indenter_velocity -0.000001',\n",
       "          '-v productionSteps 37500000',\n",
       "          '-v pbc2d 0',\n",
       "          '-v reinitialize_velocities 0',\n",
       "          '-v use_colvars 0',\n",
       "          '-v mpiio 1',\n",
       "          '-v thermo_frequency 10000',\n",
       "          '-v thermo_average_frequency 10000',\n",
       "          '-v netcdf_frequency 100000',\n",
       "          '-v compute_interactions 1',\n",
       "          '-v store_forces 1',\n",
       "          '-v is_restart 1',\n",
       "          '-v restartFile default.mpiio.restart']})"
      ]
     },
     "execution_count": 69,
     "metadata": {},
     "output_type": "execute_result"
    }
   ],
   "source": [
    "cmd_task_from_load_object"
   ]
  },
  {
   "cell_type": "code",
   "execution_count": 74,
   "metadata": {},
   "outputs": [],
   "source": [
    "cmd_task_from_cmd_task = cmd_task_from_load_object"
   ]
  },
  {
   "cell_type": "code",
   "execution_count": 75,
   "metadata": {},
   "outputs": [
    {
     "data": {
      "text/plain": [
       "CmdTask(None,\n",
       "        {'_fw_name': 'CmdTask',\n",
       "         'cmd': 'lmp',\n",
       "         'opt': ['-in lmp_production.input',\n",
       "          '-v surfactant_name SDS',\n",
       "          '-v has_indenter 1',\n",
       "          '-v constant_indenter_velocity -0.000001',\n",
       "          '-v productionSteps 37500000',\n",
       "          '-v pbc2d 0',\n",
       "          '-v reinitialize_velocities 0',\n",
       "          '-v use_colvars 0',\n",
       "          '-v mpiio 1',\n",
       "          '-v thermo_frequency 10000',\n",
       "          '-v thermo_average_frequency 10000',\n",
       "          '-v netcdf_frequency 100000',\n",
       "          '-v compute_interactions 1',\n",
       "          '-v store_forces 1',\n",
       "          '-v is_restart 1',\n",
       "          '-v restartFile default.mpiio.restart']})"
      ]
     },
     "execution_count": 75,
     "metadata": {},
     "output_type": "execute_result"
    }
   ],
   "source": [
    "cmd_task_from_cmd_task"
   ]
  },
  {
   "cell_type": "code",
   "execution_count": 77,
   "metadata": {},
   "outputs": [],
   "source": [
    "cmd_task_from_load_object = None"
   ]
  },
  {
   "cell_type": "code",
   "execution_count": 78,
   "metadata": {},
   "outputs": [
    {
     "data": {
      "text/plain": [
       "CmdTask(None,\n",
       "        {'_fw_name': 'CmdTask',\n",
       "         'cmd': 'lmp',\n",
       "         'opt': ['-in lmp_production.input',\n",
       "          '-v surfactant_name SDS',\n",
       "          '-v has_indenter 1',\n",
       "          '-v constant_indenter_velocity -0.000001',\n",
       "          '-v productionSteps 37500000',\n",
       "          '-v pbc2d 0',\n",
       "          '-v reinitialize_velocities 0',\n",
       "          '-v use_colvars 0',\n",
       "          '-v mpiio 1',\n",
       "          '-v thermo_frequency 10000',\n",
       "          '-v thermo_average_frequency 10000',\n",
       "          '-v netcdf_frequency 100000',\n",
       "          '-v compute_interactions 1',\n",
       "          '-v store_forces 1',\n",
       "          '-v is_restart 1',\n",
       "          '-v restartFile default.mpiio.restart']})"
      ]
     },
     "execution_count": 78,
     "metadata": {},
     "output_type": "execute_result"
    }
   ],
   "source": [
    "cmd_task_from_cmd_task"
   ]
  },
  {
   "cell_type": "code",
   "execution_count": 58,
   "metadata": {},
   "outputs": [
    {
     "data": {
      "text/plain": [
       "{'_fw_name': 'CmdTask',\n",
       " 'cmd': 'lmp',\n",
       " 'opt': ['-in lmp_production.input',\n",
       "  '-v surfactant_name SDS',\n",
       "  '-v has_indenter 1',\n",
       "  '-v constant_indenter_velocity -0.000001',\n",
       "  '-v productionSteps 37500000',\n",
       "  '-v pbc2d 0',\n",
       "  '-v reinitialize_velocities 0',\n",
       "  '-v use_colvars 0',\n",
       "  '-v mpiio 1',\n",
       "  '-v thermo_frequency 10000',\n",
       "  '-v thermo_average_frequency 10000',\n",
       "  '-v netcdf_frequency 100000',\n",
       "  '-v compute_interactions 1',\n",
       "  '-v store_forces 1',\n",
       "  '-v is_restart 1',\n",
       "  '-v restartFile default.mpiio.restart']}"
      ]
     },
     "execution_count": 58,
     "metadata": {},
     "output_type": "execute_result"
    }
   ],
   "source": [
    "cmd_task_from_dict.as_dict()"
   ]
  },
  {
   "cell_type": "code",
   "execution_count": 79,
   "metadata": {},
   "outputs": [
    {
     "name": "stdout",
     "output_type": "stream",
     "text": [
      "a  b\n"
     ]
    }
   ],
   "source": [
    "print(\"a \", \"b\")"
   ]
  },
  {
   "cell_type": "code",
   "execution_count": 91,
   "metadata": {},
   "outputs": [],
   "source": [
    "tmp_dict = {\n",
    "    '_category': 'nemo_noqueue', '_allow_fizzled_parents': True, \n",
    "    '_files_out': {'restart_file': 'default.mpiio.restart'}, \n",
    "    '_tasks': [{'_fw_name': 'RecoverLammpsTask', 'recover': True, \n",
    "                'repeated_recover_fw_name': 'NEMO recover failed LAMMPS run, repeatedly', \n",
    "                'max_restarts': 5, 'restart_fw': \n",
    "                {'name': 'NEMO LAMMPS restart run', 'spec': \n",
    "                 {'_category': 'nemo_queue', '_queueadapter': \n",
    "                  {'nodes': 1, 'ppn': 20, 'queue': 'express', 'walltime': '00:02:00'}, \n",
    "                  '_files_in': {'restart_file': 'default.mpiio.restart'}, \n",
    "                  '_files_out': {'data_file': 'default.lammps', \n",
    "                                 'traj_file': 'default.nc', \n",
    "                                 'log_file': 'lammps.log', 'ave_file': 'thermo_ave.out'}, \n",
    "                  '_tasks': [{'_fw_name': 'GetFilesTask', \n",
    "                              'identifiers': ['lmp_header.input', \n",
    "                                              'lmp_production.input', \n",
    "                                              'lmp_production_mixed.input']}, \n",
    "                             {'_fw_name': 'CmdTask', 'cmd': 'lmp', \n",
    "                              'opt': ['-in lmp_production.input', \n",
    "                                      '-v surfactant_name SDS', '-v has_indenter 1', \n",
    "                                      '-v constant_indenter_velocity -0.0001', \n",
    "                                      '-v productionSteps 375000', '-v pbc2d 0', \n",
    "                                      '-v reinitialize_velocities 0', '-v use_colvars 0', \n",
    "                                      '-v mpiio 1', '-v thermo_frequency 1', \n",
    "                                      '-v thermo_average_frequency 10', '-v netcdf_frequency 5', \n",
    "                                      '-v restart_frequency 10', '-v compute_interactions 1', \n",
    "                                      '-v store_forces 1', '-v is_restart 1', \n",
    "                                      '-v restartFile default.mpiio.restart'], \n",
    "                              'stderr_file': 'std.err', 'stdout_file': 'std.out', \n",
    "                              'fizzle_bad_rc': True, 'use_shell': True}], \n",
    "                  '_trackers': [{'filename': 'log.lammps', 'nlines': 25}]}}}], \n",
    "    '_fizzled_parents': [\n",
    "        {'spec': {'_category': 'nemo_queue', '_queueadapter': {\n",
    "                    'nodes': 1, 'ppn': 20, 'queue': 'express', 'walltime': '00:05:00'}, \n",
    "                  '_files_out': {'data_file': 'default.lammps', 'traj_file': 'default.nc', \n",
    "                                 'log_file': 'log.lammps', 'ave_file': 'thermo_ave.out'}, \n",
    "                  '_tasks': [ \n",
    "                    {'_fw_name': 'GetFilesTask', 'identifiers': \n",
    "                                     ['lmp_header.input', 'lmp_production.input', \n",
    "                                      'lmp_production_mixed.input', \n",
    "                                      '646_SDS_on_AU_111_51x30x2_hemicylinders_with_counterion_50Ang_stepped_nptEquilibrated.lammps'], \n",
    "                                      'new_file_names': ['lmp_header.input', 'lmp_production.input', \n",
    "                                                         'lmp_production_mixed.input', 'datafile.lammps']}, \n",
    "                             {'_fw_name': 'CmdTask', 'fizzle_bad_rc': True, 'cmd': 'lmp', \n",
    "                              'opt': ['-in lmp_production.input', '-v surfactant_name SDS', '-v has_indenter 1', \n",
    "                                      '-v constant_indenter_velocity -0.0001', '-v productionSteps 375000', \n",
    "                                      '-v pbc2d 0', '-v reinitialize_velocities 0', '-v use_colvars 0', \n",
    "                                      '-v mpiio 1', '-v thermo_frequency 1', '-v thermo_average_frequency 10', \n",
    "                                      '-v netcdf_frequency 5', '-v restart_frequency 10', '-v compute_interactions 1', \n",
    "                                      '-v store_forces 1'], 'stderr_file': 'std.err', 'stdout_file': 'std.out', \n",
    "                              'use_shell': True}], '_trackers': [{'filename': 'log.lammps', 'nlines': 25}]}, \n",
    "         'fw_id': 11439, 'created_on': (2019, 2, 21, 17, 12, 46, 816422), \n",
    "         'updated_on': (2019, 2, 21, 17, 26, 53, 86090), \n",
    "         'launches': [{'fworker': {'name': 'nemo_queue_worker', \n",
    "                                   'category': ['nemo_queue'], \n",
    "                                   'query': '{}', 'env': \n",
    "                                   {'lmp': 'module purge; module use /work/ws/nemo/fr_lp1029-IMTEK_SIMULATION-0/modulefiles; module use ${HOME}/modulefiles; module load lammps/16Mar18-gnu-7.3-openmpi-3.1-colvars-09Feb19; mpirun ${MPIRUN_OPTIONS} lmp'}}, \n",
    "                       'fw_id': 11439, \n",
    "                       'launch_dir': '/work/ws/nemo/fr_jh1130-fw_ws_20190221-0/launchpad/block_2019-02-21-00-41-00-166976/launcher_2019-02-21-17-17-51-075160', \n",
    "                       'host': 'n3756.nemo.privat', 'ip': '10.16.37.56', \n",
    "                       'trackers': [{'filename': 'log.lammps', 'nlines': 25, 'allow_zipped': False}], \n",
    "                       'action': None, 'state': 'FIZZLED', 'state_history':\n",
    "                       [{'state': 'RESERVED', 'created_on': (2019, 2, 21, 17, 17, 51, 43954), \n",
    "                                   'updated_on': (2019, 2, 21, 17, 17, 51, 43962), 'reservation_id': '4935430'}, {'state': 'RUNNING', \n",
    "                                   'created_on': (2019, 2, 21, 17, 18, 57, 321669), \n",
    "                                      'updated_on': (2019, 2, 21, 17, 18, 59, 13634), \n",
    "                                      'checkpoint': {'_task_n': 1,\n",
    "                                      '_all_stored_data': {}, '_all_update_spec': {}, '_all_mod_spec': []}}, \n",
    "                                      {'state': 'FIZZLED', 'created_on': (2019, 2, 21, 17, 26, 52, 349867), \n",
    "                                      'checkpoint': {'_task_n': 1, \n",
    "                                                     '_all_stored_data': {}, '_all_update_spec': {}, \n",
    "                                      '_all_mod_spec': []}}], 'launch_id': 7948}], \n",
    "         'state': 'FIZZLED', 'name': 'NEMO Trial, online'}], '_fw_env': {}}\n"
   ]
  },
  {
   "cell_type": "code",
   "execution_count": 92,
   "metadata": {},
   "outputs": [
    {
     "data": {
      "text/plain": [
       "{'_allow_fizzled_parents': True,\n",
       " '_category': 'nemo_noqueue',\n",
       " '_files_out': {'restart_file': 'default.mpiio.restart'},\n",
       " '_fizzled_parents': [{'created_on': (2019, 2, 21, 17, 12, 46, 816422),\n",
       "   'fw_id': 11439,\n",
       "   'launches': [{'action': None,\n",
       "     'fw_id': 11439,\n",
       "     'fworker': {'category': ['nemo_queue'],\n",
       "      'env': {'lmp': 'module purge; module use /work/ws/nemo/fr_lp1029-IMTEK_SIMULATION-0/modulefiles; module use ${HOME}/modulefiles; module load lammps/16Mar18-gnu-7.3-openmpi-3.1-colvars-09Feb19; mpirun ${MPIRUN_OPTIONS} lmp'},\n",
       "      'name': 'nemo_queue_worker',\n",
       "      'query': '{}'},\n",
       "     'host': 'n3756.nemo.privat',\n",
       "     'ip': '10.16.37.56',\n",
       "     'launch_dir': '/work/ws/nemo/fr_jh1130-fw_ws_20190221-0/launchpad/block_2019-02-21-00-41-00-166976/launcher_2019-02-21-17-17-51-075160',\n",
       "     'launch_id': 7948,\n",
       "     'state': 'FIZZLED',\n",
       "     'state_history': [{'created_on': (2019, 2, 21, 17, 17, 51, 43954),\n",
       "       'reservation_id': '4935430',\n",
       "       'state': 'RESERVED',\n",
       "       'updated_on': (2019, 2, 21, 17, 17, 51, 43962)},\n",
       "      {'checkpoint': {'_all_mod_spec': [],\n",
       "        '_all_stored_data': {},\n",
       "        '_all_update_spec': {},\n",
       "        '_task_n': 1},\n",
       "       'created_on': (2019, 2, 21, 17, 18, 57, 321669),\n",
       "       'state': 'RUNNING',\n",
       "       'updated_on': (2019, 2, 21, 17, 18, 59, 13634)},\n",
       "      {'checkpoint': {'_all_mod_spec': [],\n",
       "        '_all_stored_data': {},\n",
       "        '_all_update_spec': {},\n",
       "        '_task_n': 1},\n",
       "       'created_on': (2019, 2, 21, 17, 26, 52, 349867),\n",
       "       'state': 'FIZZLED'}],\n",
       "     'trackers': [{'allow_zipped': False,\n",
       "       'filename': 'log.lammps',\n",
       "       'nlines': 25}]}],\n",
       "   'name': 'NEMO Trial, online',\n",
       "   'spec': {'_category': 'nemo_queue',\n",
       "    '_files_out': {'ave_file': 'thermo_ave.out',\n",
       "     'data_file': 'default.lammps',\n",
       "     'log_file': 'log.lammps',\n",
       "     'traj_file': 'default.nc'},\n",
       "    '_queueadapter': {'nodes': 1,\n",
       "     'ppn': 20,\n",
       "     'queue': 'express',\n",
       "     'walltime': '00:05:00'},\n",
       "    '_tasks': [{'_fw_name': 'GetFilesTask',\n",
       "      'identifiers': ['lmp_header.input',\n",
       "       'lmp_production.input',\n",
       "       'lmp_production_mixed.input',\n",
       "       '646_SDS_on_AU_111_51x30x2_hemicylinders_with_counterion_50Ang_stepped_nptEquilibrated.lammps'],\n",
       "      'new_file_names': ['lmp_header.input',\n",
       "       'lmp_production.input',\n",
       "       'lmp_production_mixed.input',\n",
       "       'datafile.lammps']},\n",
       "     {'_fw_name': 'CmdTask',\n",
       "      'cmd': 'lmp',\n",
       "      'fizzle_bad_rc': True,\n",
       "      'opt': ['-in lmp_production.input',\n",
       "       '-v surfactant_name SDS',\n",
       "       '-v has_indenter 1',\n",
       "       '-v constant_indenter_velocity -0.0001',\n",
       "       '-v productionSteps 375000',\n",
       "       '-v pbc2d 0',\n",
       "       '-v reinitialize_velocities 0',\n",
       "       '-v use_colvars 0',\n",
       "       '-v mpiio 1',\n",
       "       '-v thermo_frequency 1',\n",
       "       '-v thermo_average_frequency 10',\n",
       "       '-v netcdf_frequency 5',\n",
       "       '-v restart_frequency 10',\n",
       "       '-v compute_interactions 1',\n",
       "       '-v store_forces 1'],\n",
       "      'stderr_file': 'std.err',\n",
       "      'stdout_file': 'std.out',\n",
       "      'use_shell': True}],\n",
       "    '_trackers': [{'filename': 'log.lammps', 'nlines': 25}]},\n",
       "   'state': 'FIZZLED',\n",
       "   'updated_on': (2019, 2, 21, 17, 26, 53, 86090)}],\n",
       " '_fw_env': {},\n",
       " '_tasks': [{'_fw_name': 'RecoverLammpsTask',\n",
       "   'max_restarts': 5,\n",
       "   'recover': True,\n",
       "   'repeated_recover_fw_name': 'NEMO recover failed LAMMPS run, repeatedly',\n",
       "   'restart_fw': {'name': 'NEMO LAMMPS restart run',\n",
       "    'spec': {'_category': 'nemo_queue',\n",
       "     '_files_in': {'restart_file': 'default.mpiio.restart'},\n",
       "     '_files_out': {'ave_file': 'thermo_ave.out',\n",
       "      'data_file': 'default.lammps',\n",
       "      'log_file': 'lammps.log',\n",
       "      'traj_file': 'default.nc'},\n",
       "     '_queueadapter': {'nodes': 1,\n",
       "      'ppn': 20,\n",
       "      'queue': 'express',\n",
       "      'walltime': '00:02:00'},\n",
       "     '_tasks': [{'_fw_name': 'GetFilesTask',\n",
       "       'identifiers': ['lmp_header.input',\n",
       "        'lmp_production.input',\n",
       "        'lmp_production_mixed.input']},\n",
       "      {'_fw_name': 'CmdTask',\n",
       "       'cmd': 'lmp',\n",
       "       'fizzle_bad_rc': True,\n",
       "       'opt': ['-in lmp_production.input',\n",
       "        '-v surfactant_name SDS',\n",
       "        '-v has_indenter 1',\n",
       "        '-v constant_indenter_velocity -0.0001',\n",
       "        '-v productionSteps 375000',\n",
       "        '-v pbc2d 0',\n",
       "        '-v reinitialize_velocities 0',\n",
       "        '-v use_colvars 0',\n",
       "        '-v mpiio 1',\n",
       "        '-v thermo_frequency 1',\n",
       "        '-v thermo_average_frequency 10',\n",
       "        '-v netcdf_frequency 5',\n",
       "        '-v restart_frequency 10',\n",
       "        '-v compute_interactions 1',\n",
       "        '-v store_forces 1',\n",
       "        '-v is_restart 1',\n",
       "        '-v restartFile default.mpiio.restart'],\n",
       "       'stderr_file': 'std.err',\n",
       "       'stdout_file': 'std.out',\n",
       "       'use_shell': True}],\n",
       "     '_trackers': [{'filename': 'log.lammps', 'nlines': 25}]}}}]}"
      ]
     },
     "execution_count": 92,
     "metadata": {},
     "output_type": "execute_result"
    }
   ],
   "source": [
    "tmp_dict"
   ]
  },
  {
   "cell_type": "code",
   "execution_count": 94,
   "metadata": {},
   "outputs": [],
   "source": [
    "del tmp_dict[\"_fizzled_parents\"]"
   ]
  },
  {
   "cell_type": "code",
   "execution_count": 16,
   "metadata": {},
   "outputs": [
    {
     "ename": "NameError",
     "evalue": "name 'tmp_dict' is not defined",
     "output_type": "error",
     "traceback": [
      "\u001b[0;31m---------------------------------------------------------------------------\u001b[0m",
      "\u001b[0;31mNameError\u001b[0m                                 Traceback (most recent call last)",
      "\u001b[0;32m<ipython-input-16-0d293b7a195b>\u001b[0m in \u001b[0;36m<module>\u001b[0;34m()\u001b[0m\n\u001b[0;32m----> 1\u001b[0;31m \u001b[0mtmp_dict\u001b[0m\u001b[0;34m[\u001b[0m\u001b[0;34m\"_files_out\"\u001b[0m\u001b[0;34m]\u001b[0m\u001b[0;34m\u001b[0m\u001b[0;34m\u001b[0m\u001b[0m\n\u001b[0m",
      "\u001b[0;31mNameError\u001b[0m: name 'tmp_dict' is not defined"
     ]
    }
   ],
   "source": [
    "tmp_dict[\"_files_out\"]"
   ]
  },
  {
   "cell_type": "code",
   "execution_count": 97,
   "metadata": {},
   "outputs": [],
   "source": [
    "from pprint import pprint"
   ]
  },
  {
   "cell_type": "code",
   "execution_count": 98,
   "metadata": {},
   "outputs": [
    {
     "name": "stdout",
     "output_type": "stream",
     "text": [
      "{'_allow_fizzled_parents': True,\n",
      " '_category': 'nemo_noqueue',\n",
      " '_files_out': {'restart_file': 'default.mpiio.restart'},\n",
      " '_fw_env': {},\n",
      " '_tasks': [{'_fw_name': 'RecoverLammpsTask',\n",
      "             'max_restarts': 5,\n",
      "             'recover': True,\n",
      "             'repeated_recover_fw_name': 'NEMO recover failed LAMMPS run, '\n",
      "                                         'repeatedly',\n",
      "             'restart_fw': {'name': 'NEMO LAMMPS restart run',\n",
      "                            'spec': {'_category': 'nemo_queue',\n",
      "                                     '_files_in': {'restart_file': 'default.mpiio.restart'},\n",
      "                                     '_files_out': {'ave_file': 'thermo_ave.out',\n",
      "                                                    'data_file': 'default.lammps',\n",
      "                                                    'log_file': 'lammps.log',\n",
      "                                                    'traj_file': 'default.nc'},\n",
      "                                     '_queueadapter': {'nodes': 1,\n",
      "                                                       'ppn': 20,\n",
      "                                                       'queue': 'express',\n",
      "                                                       'walltime': '00:02:00'},\n",
      "                                     '_tasks': [{'_fw_name': 'GetFilesTask',\n",
      "                                                 'identifiers': ['lmp_header.input',\n",
      "                                                                 'lmp_production.input',\n",
      "                                                                 'lmp_production_mixed.input']},\n",
      "                                                {'_fw_name': 'CmdTask',\n",
      "                                                 'cmd': 'lmp',\n",
      "                                                 'fizzle_bad_rc': True,\n",
      "                                                 'opt': ['-in '\n",
      "                                                         'lmp_production.input',\n",
      "                                                         '-v surfactant_name '\n",
      "                                                         'SDS',\n",
      "                                                         '-v has_indenter 1',\n",
      "                                                         '-v '\n",
      "                                                         'constant_indenter_velocity '\n",
      "                                                         '-0.0001',\n",
      "                                                         '-v productionSteps '\n",
      "                                                         '375000',\n",
      "                                                         '-v pbc2d 0',\n",
      "                                                         '-v '\n",
      "                                                         'reinitialize_velocities '\n",
      "                                                         '0',\n",
      "                                                         '-v use_colvars 0',\n",
      "                                                         '-v mpiio 1',\n",
      "                                                         '-v thermo_frequency '\n",
      "                                                         '1',\n",
      "                                                         '-v '\n",
      "                                                         'thermo_average_frequency '\n",
      "                                                         '10',\n",
      "                                                         '-v netcdf_frequency '\n",
      "                                                         '5',\n",
      "                                                         '-v restart_frequency '\n",
      "                                                         '10',\n",
      "                                                         '-v '\n",
      "                                                         'compute_interactions '\n",
      "                                                         '1',\n",
      "                                                         '-v store_forces 1',\n",
      "                                                         '-v is_restart 1',\n",
      "                                                         '-v restartFile '\n",
      "                                                         'default.mpiio.restart'],\n",
      "                                                 'stderr_file': 'std.err',\n",
      "                                                 'stdout_file': 'std.out',\n",
      "                                                 'use_shell': True}],\n",
      "                                     '_trackers': [{'filename': 'log.lammps',\n",
      "                                                    'nlines': 25}]}}}]}\n"
     ]
    }
   ],
   "source": [
    "pprint(tmp_dict)"
   ]
  },
  {
   "cell_type": "code",
   "execution_count": 103,
   "metadata": {},
   "outputs": [
    {
     "ename": "SyntaxError",
     "evalue": "invalid syntax (<ipython-input-103-1df377444408>, line 1)",
     "output_type": "error",
     "traceback": [
      "\u001b[0;36m  File \u001b[0;32m\"<ipython-input-103-1df377444408>\"\u001b[0;36m, line \u001b[0;32m1\u001b[0m\n\u001b[0;31m    tmp_dict = {\"spec\": {\"_category\": \"nemo_queue\", \"_queueadapter\": {\"nodes\": 1, \"ppn\": 20, \"queue\": \"express\", \"walltime\": \"00:02:00\"}, \"_files_in\": {\"restart_file\": \"default.mpiio.restart\"}, \"_files_out\": {\"data_file\": \"default.lammps\", \"traj_file\": \"default.nc\", \"log_file\": \"lammps.log\", \"ave_file\": \"thermo_ave.out\"}, \"_tasks\": [{\"_fw_name\": \"GetFilesTask\", \"identifiers\": [\"lmp_header.input\", \"lmp_production.input\", \"lmp_production_mixed.input\"]}, {\"_fw_name\": \"CmdTask\", \"cmd\": \"lmp\", \"opt\": [\"-in lmp_production.input\", \"-v surfactant_name SDS\", \"-v has_indenter 1\", \"-v constant_indenter_velocity -0.0001\", \"-v productionSteps 375000\", \"-v pbc2d 0\", \"-v reinitialize_velocities 0\", \"-v use_colvars 0\", \"-v mpiio 1\", \"-v thermo_frequency 1\", \"-v thermo_average_frequency 10\", \"-v netcdf_frequency 5\", \"-v restart_frequency 10\", \"-v compute_interactions 1\", \"-v store_forces 1\", \"-v is_restart 1\", \"-v restartFile default.mpiio.restart\"], \"stderr_file\": \"std.err\", \"stdout_file\": \"std.out\", \"fizzle_bad_rc\": True, \"use_shell\": True}], \"_trackers\": [{\"filename\": \"log.lammps\", \"nlines\": 25}], \"restart_count\": 0}, \"fw_id\": -1, \"created_on\": \"2019-02-21T18:27:48.953078\", \"updated_on\": \"2019-02-21T18:27:48.953081\", \"name\": \"NEMO LAMMPS restart run\"}: {\"spec\": {\"_allow_fizzled_parents\": True, \"_category\": \"nemo_noqueue\", \"_files_out\": {\"restart_file\": \"default.mpiio.restart\"}, \"_tasks\": [{\"_fw_name\": \"RecoverLammpsTask\", \"recover\": True, \"repeated_recover_fw_name\": \"NEMO recover failed LAMMPS run, repeatedly\", \"max_restarts\": 5, \"restart_fw\": {\"name\": \"NEMO LAMMPS restart run\", \"spec\": {\"_category\": \"nemo_queue\", \"_queueadapter\": {\"nodes\": 1, \"ppn\": 20, \"queue\": \"express\", \"walltime\": \"00:02:00\"}, \"_files_in\": {\"restart_file\": \"default.mpiio.restart\"}, \"_files_out\": {\"data_file\": \"default.lammps\", \"traj_file\": \"default.nc\", \"log_file\": \"lammps.log\", \"ave_file\": \"thermo_ave.out\"}, \"_tasks\": [{\"_fw_name\": \"GetFilesTask\", \"identifiers\": [\"lmp_header.input\", \"lmp_production.input\", \"lmp_production_mixed.input\"]}, {\"_fw_name\": \"CmdTask\", \"cmd\": \"lmp\", \"opt\": [\"-in lmp_production.input\", \"-v surfactant_name SDS\", \"-v has_indenter 1\", \"-v constant_indenter_velocity -0.0001\", \"-v productionSteps 375000\", \"-v pbc2d 0\", \"-v reinitialize_velocities 0\", \"-v use_colvars 0\", \"-v mpiio 1\", \"-v thermo_frequency 1\", \"-v thermo_average_frequency 10\", \"-v netcdf_frequency 5\", \"-v restart_frequency 10\", \"-v compute_interactions 1\", \"-v store_forces 1\", \"-v is_restart 1\", \"-v restartFile default.mpiio.restart\"], \"stderr_file\": \"std.err\", \"stdout_file\": \"std.out\", \"fizzle_bad_rc\": True, \"use_shell\": True}], \"_trackers\": [{\"filename\": \"log.lammps\", \"nlines\": 25}]}}}]}, \"fw_id\": -1, \"created_on\": \"2019-02-21T18:27:48.953390\", \"updated_on\": \"2019-02-21T18:27:48.953391\", \"name\": \"NEMO recover failed LAMMPS run, repeatedly\"}}\u001b[0m\n\u001b[0m                                                                                                                                                                                                                                                                                                                                                                                                                                                                                                                                                                                                                                                                                                                                                                                                                                                                                                                                                                                                                                                                                                                                                                                                                                                                                                         ^\u001b[0m\n\u001b[0;31mSyntaxError\u001b[0m\u001b[0;31m:\u001b[0m invalid syntax\n"
     ]
    }
   ],
   "source": [
    "tmp_dict = {\"spec\": {\"_category\": \"nemo_queue\", \"_queueadapter\": {\"nodes\": 1, \"ppn\": 20, \"queue\": \"express\", \"walltime\": \"00:02:00\"}, \"_files_in\": {\"restart_file\": \"default.mpiio.restart\"}, \"_files_out\": {\"data_file\": \"default.lammps\", \"traj_file\": \"default.nc\", \"log_file\": \"lammps.log\", \"ave_file\": \"thermo_ave.out\"}, \"_tasks\": [{\"_fw_name\": \"GetFilesTask\", \"identifiers\": [\"lmp_header.input\", \"lmp_production.input\", \"lmp_production_mixed.input\"]}, {\"_fw_name\": \"CmdTask\", \"cmd\": \"lmp\", \"opt\": [\"-in lmp_production.input\", \"-v surfactant_name SDS\", \"-v has_indenter 1\", \"-v constant_indenter_velocity -0.0001\", \"-v productionSteps 375000\", \"-v pbc2d 0\", \"-v reinitialize_velocities 0\", \"-v use_colvars 0\", \"-v mpiio 1\", \"-v thermo_frequency 1\", \"-v thermo_average_frequency 10\", \"-v netcdf_frequency 5\", \"-v restart_frequency 10\", \"-v compute_interactions 1\", \"-v store_forces 1\", \"-v is_restart 1\", \"-v restartFile default.mpiio.restart\"], \"stderr_file\": \"std.err\", \"stdout_file\": \"std.out\", \"fizzle_bad_rc\": True, \"use_shell\": True}], \"_trackers\": [{\"filename\": \"log.lammps\", \"nlines\": 25}], \"restart_count\": 0}, \"fw_id\": -1, \"created_on\": \"2019-02-21T18:27:48.953078\", \"updated_on\": \"2019-02-21T18:27:48.953081\", \"name\": \"NEMO LAMMPS restart run\"}: {\"spec\": {\"_allow_fizzled_parents\": True, \"_category\": \"nemo_noqueue\", \"_files_out\": {\"restart_file\": \"default.mpiio.restart\"}, \"_tasks\": [{\"_fw_name\": \"RecoverLammpsTask\", \"recover\": True, \"repeated_recover_fw_name\": \"NEMO recover failed LAMMPS run, repeatedly\", \"max_restarts\": 5, \"restart_fw\": {\"name\": \"NEMO LAMMPS restart run\", \"spec\": {\"_category\": \"nemo_queue\", \"_queueadapter\": {\"nodes\": 1, \"ppn\": 20, \"queue\": \"express\", \"walltime\": \"00:02:00\"}, \"_files_in\": {\"restart_file\": \"default.mpiio.restart\"}, \"_files_out\": {\"data_file\": \"default.lammps\", \"traj_file\": \"default.nc\", \"log_file\": \"lammps.log\", \"ave_file\": \"thermo_ave.out\"}, \"_tasks\": [{\"_fw_name\": \"GetFilesTask\", \"identifiers\": [\"lmp_header.input\", \"lmp_production.input\", \"lmp_production_mixed.input\"]}, {\"_fw_name\": \"CmdTask\", \"cmd\": \"lmp\", \"opt\": [\"-in lmp_production.input\", \"-v surfactant_name SDS\", \"-v has_indenter 1\", \"-v constant_indenter_velocity -0.0001\", \"-v productionSteps 375000\", \"-v pbc2d 0\", \"-v reinitialize_velocities 0\", \"-v use_colvars 0\", \"-v mpiio 1\", \"-v thermo_frequency 1\", \"-v thermo_average_frequency 10\", \"-v netcdf_frequency 5\", \"-v restart_frequency 10\", \"-v compute_interactions 1\", \"-v store_forces 1\", \"-v is_restart 1\", \"-v restartFile default.mpiio.restart\"], \"stderr_file\": \"std.err\", \"stdout_file\": \"std.out\", \"fizzle_bad_rc\": True, \"use_shell\": True}], \"_trackers\": [{\"filename\": \"log.lammps\", \"nlines\": 25}]}}}]}, \"fw_id\": -1, \"created_on\": \"2019-02-21T18:27:48.953390\", \"updated_on\": \"2019-02-21T18:27:48.953391\", \"name\": \"NEMO recover failed LAMMPS run, repeatedly\"}}"
   ]
  },
  {
   "cell_type": "code",
   "execution_count": 4,
   "metadata": {},
   "outputs": [
    {
     "ename": "NameError",
     "evalue": "name 'fw_from_dict' is not defined",
     "output_type": "error",
     "traceback": [
      "\u001b[0;31m---------------------------------------------------------------------------\u001b[0m",
      "\u001b[0;31mNameError\u001b[0m                                 Traceback (most recent call last)",
      "\u001b[0;32m<ipython-input-4-8ed357a98563>\u001b[0m in \u001b[0;36m<module>\u001b[0;34m()\u001b[0m\n\u001b[0;32m----> 1\u001b[0;31m \u001b[0mfw_from_dict\u001b[0m\u001b[0;34m.\u001b[0m\u001b[0mfw_id\u001b[0m\u001b[0;34m\u001b[0m\u001b[0;34m\u001b[0m\u001b[0m\n\u001b[0m",
      "\u001b[0;31mNameError\u001b[0m: name 'fw_from_dict' is not defined"
     ]
    }
   ],
   "source": [
    "fw_from_dict.fw_id"
   ]
  },
  {
   "cell_type": "code",
   "execution_count": 105,
   "metadata": {},
   "outputs": [],
   "source": [
    "from fireworks.core.firework import FWAction"
   ]
  },
  {
   "cell_type": "code",
   "execution_count": 106,
   "metadata": {},
   "outputs": [],
   "source": [
    "import os"
   ]
  },
  {
   "cell_type": "code",
   "execution_count": 107,
   "metadata": {},
   "outputs": [
    {
     "data": {
      "text/plain": [
       "'/mnt/dat/work/testuser/adsorption/sandbox/thermo_ave.out'"
      ]
     },
     "execution_count": 107,
     "metadata": {},
     "output_type": "execute_result"
    }
   ],
   "source": [
    "os.path.abspath(\"./thermo_ave.out\")"
   ]
  },
  {
   "cell_type": "code",
   "execution_count": 108,
   "metadata": {},
   "outputs": [],
   "source": [
    "import glob"
   ]
  },
  {
   "cell_type": "code",
   "execution_count": 3,
   "metadata": {},
   "outputs": [
    {
     "name": "stdout",
     "output_type": "stream",
     "text": [
      "_stacktrace\": \"Traceback (most recent call last):\n",
      "  File \"/work/ws/nemo/fr_jh1130-fw_ws_20190225-0/venv/fireworks-python-3.6/lib/python3.6/site-packages/fireworks/core/launchpad.py\", line 1514, in _refresh_wf\n",
      "    updated_ids = wf.refresh(fw_id)\n",
      "  File \"/work/ws/nemo/fr_jh1130-fw_ws_20190225-0/venv/fireworks-python-3.6/lib/python3.6/site-packages/fireworks/core/firework.py\", line 1005, in refresh\n",
      "    updated_ids = updated_ids.union(self.apply_action(m_action, fw.fw_id))\n",
      "  File \"/work/ws/nemo/fr_jh1130-fw_ws_20190225-0/venv/fireworks-python-3.6/lib/python3.6/site-packages/fireworks/core/firework.py\", line 834, in apply_action\n",
      "    new_updates = self.append_wf(wf, [fw_id], detour=True, pull_spec_mods=False)\n",
      "  File \"/work/ws/nemo/fr_jh1130-fw_ws_20190225-0/venv/fireworks-python-3.6/lib/python3.6/site-packages/fireworks/core/firework.py\", line 947, in append_wf\n",
      "    updated_ids = self.refresh(new_fw.fw_id, set(updated_ids))\n",
      "  File \"/work/ws/nemo/fr_jh1130-fw_ws_20190225-0/venv/fireworks-python-3.6/lib/python3.6/site-packages/fireworks/core/firework.py\", line 979, in refresh\n",
      "    if self.fw_states[parent] not in completed_parent_states:\n",
      "KeyError: -2\n",
      "\n",
      "During handling of the above exception, another exception occurred:\n",
      "\n",
      "Traceback (most recent call last):\n",
      "  File \"/work/ws/nemo/fr_jh1130-fw_ws_20190225-0/venv/fireworks-python-3.6/lib/python3.6/site-packages/fireworks/core/rocket.py\", line 357, in run\n",
      "    lp.complete_launch(launch_id, m_action, final_state)\n",
      "  File \"/work/ws/nemo/fr_jh1130-fw_ws_20190225-0/venv/fireworks-python-3.6/lib/python3.6/site-packages/fireworks/core/launchpad.py\", line 1325, in complete_launch\n",
      "    self._refresh_wf(fw_id)\n",
      "  File \"/work/ws/nemo/fr_jh1130-fw_ws_20190225-0/venv/fireworks-python-3.6/lib/python3.6/site-packages/fireworks/core/launchpad.py\", line 1529, in _refresh_wf\n",
      "    raise RuntimeError(err_message)\n",
      "RuntimeError: Error refreshing workflow. The full stack trace is: Traceback (most recent call last):\n",
      "  File \"/work/ws/nemo/fr_jh1130-fw_ws_20190225-0/venv/fireworks-python-3.6/lib/python3.6/site-packages/fireworks/core/launchpad.py\", line 1514, in _refresh_wf\n",
      "    updated_ids = wf.refresh(fw_id)\n",
      "  File \"/work/ws/nemo/fr_jh1130-fw_ws_20190225-0/venv/fireworks-python-3.6/lib/python3.6/site-packages/fireworks/core/firework.py\", line 1005, in refresh\n",
      "    updated_ids = updated_ids.union(self.apply_action(m_action, fw.fw_id))\n",
      "  File \"/work/ws/nemo/fr_jh1130-fw_ws_20190225-0/venv/fireworks-python-3.6/lib/python3.6/site-packages/fireworks/core/firework.py\", line 834, in apply_action\n",
      "    new_updates = self.append_wf(wf, [fw_id], detour=True, pull_spec_mods=False)\n",
      "  File \"/work/ws/nemo/fr_jh1130-fw_ws_20190225-0/venv/fireworks-python-3.6/lib/python3.6/site-packages/fireworks/core/firework.py\", line 947, in append_wf\n",
      "    updated_ids = self.refresh(new_fw.fw_id, set(updated_ids))\n",
      "  File \"/work/ws/nemo/fr_jh1130-fw_ws_20190225-0/venv/fireworks-python-3.6/lib/python3.6/site-packages/fireworks/core/firework.py\", line 979, in refresh\n",
      "    if self.fw_states[parent] not in completed_parent_states:\n",
      "KeyError: -2\n",
      "\n",
      "\n"
     ]
    }
   ],
   "source": [
    "print(\"\"\"_stacktrace\": \"Traceback (most recent call last):\\n  File \\\"/work/ws/nemo/fr_jh1130-fw_ws_20190225-0/venv/fireworks-python-3.6/lib/python3.6/site-packages/fireworks/core/launchpad.py\\\", line 1514, in _refresh_wf\\n    updated_ids = wf.refresh(fw_id)\\n  File \\\"/work/ws/nemo/fr_jh1130-fw_ws_20190225-0/venv/fireworks-python-3.6/lib/python3.6/site-packages/fireworks/core/firework.py\\\", line 1005, in refresh\\n    updated_ids = updated_ids.union(self.apply_action(m_action, fw.fw_id))\\n  File \\\"/work/ws/nemo/fr_jh1130-fw_ws_20190225-0/venv/fireworks-python-3.6/lib/python3.6/site-packages/fireworks/core/firework.py\\\", line 834, in apply_action\\n    new_updates = self.append_wf(wf, [fw_id], detour=True, pull_spec_mods=False)\\n  File \\\"/work/ws/nemo/fr_jh1130-fw_ws_20190225-0/venv/fireworks-python-3.6/lib/python3.6/site-packages/fireworks/core/firework.py\\\", line 947, in append_wf\\n    updated_ids = self.refresh(new_fw.fw_id, set(updated_ids))\\n  File \\\"/work/ws/nemo/fr_jh1130-fw_ws_20190225-0/venv/fireworks-python-3.6/lib/python3.6/site-packages/fireworks/core/firework.py\\\", line 979, in refresh\\n    if self.fw_states[parent] not in completed_parent_states:\\nKeyError: -2\\n\\nDuring handling of the above exception, another exception occurred:\\n\\nTraceback (most recent call last):\\n  File \\\"/work/ws/nemo/fr_jh1130-fw_ws_20190225-0/venv/fireworks-python-3.6/lib/python3.6/site-packages/fireworks/core/rocket.py\\\", line 357, in run\\n    lp.complete_launch(launch_id, m_action, final_state)\\n  File \\\"/work/ws/nemo/fr_jh1130-fw_ws_20190225-0/venv/fireworks-python-3.6/lib/python3.6/site-packages/fireworks/core/launchpad.py\\\", line 1325, in complete_launch\\n    self._refresh_wf(fw_id)\\n  File \\\"/work/ws/nemo/fr_jh1130-fw_ws_20190225-0/venv/fireworks-python-3.6/lib/python3.6/site-packages/fireworks/core/launchpad.py\\\", line 1529, in _refresh_wf\\n    raise RuntimeError(err_message)\\nRuntimeError: Error refreshing workflow. The full stack trace is: Traceback (most recent call last):\\n  File \\\"/work/ws/nemo/fr_jh1130-fw_ws_20190225-0/venv/fireworks-python-3.6/lib/python3.6/site-packages/fireworks/core/launchpad.py\\\", line 1514, in _refresh_wf\\n    updated_ids = wf.refresh(fw_id)\\n  File \\\"/work/ws/nemo/fr_jh1130-fw_ws_20190225-0/venv/fireworks-python-3.6/lib/python3.6/site-packages/fireworks/core/firework.py\\\", line 1005, in refresh\\n    updated_ids = updated_ids.union(self.apply_action(m_action, fw.fw_id))\\n  File \\\"/work/ws/nemo/fr_jh1130-fw_ws_20190225-0/venv/fireworks-python-3.6/lib/python3.6/site-packages/fireworks/core/firework.py\\\", line 834, in apply_action\\n    new_updates = self.append_wf(wf, [fw_id], detour=True, pull_spec_mods=False)\\n  File \\\"/work/ws/nemo/fr_jh1130-fw_ws_20190225-0/venv/fireworks-python-3.6/lib/python3.6/site-packages/fireworks/core/firework.py\\\", line 947, in append_wf\\n    updated_ids = self.refresh(new_fw.fw_id, set(updated_ids))\\n  File \\\"/work/ws/nemo/fr_jh1130-fw_ws_20190225-0/venv/fireworks-python-3.6/lib/python3.6/site-packages/fireworks/core/firework.py\\\", line 979, in refresh\\n    if self.fw_states[parent] not in completed_parent_states:\\nKeyError: -2\\n\\n\"\"\")"
   ]
  },
  {
   "cell_type": "code",
   "execution_count": 23,
   "metadata": {},
   "outputs": [
    {
     "data": {
      "text/plain": [
       "'__main__'"
      ]
     },
     "execution_count": 23,
     "metadata": {},
     "output_type": "execute_result"
    }
   ],
   "source": [
    "__name__"
   ]
  },
  {
   "cell_type": "code",
   "execution_count": 28,
   "metadata": {},
   "outputs": [],
   "source": [
    "def testfunc():\n",
    "    print(__name__)"
   ]
  },
  {
   "cell_type": "code",
   "execution_count": 31,
   "metadata": {},
   "outputs": [
    {
     "ename": "AttributeError",
     "evalue": "'function' object has no attribute 'func_name'",
     "output_type": "error",
     "traceback": [
      "\u001b[0;31m---------------------------------------------------------------------------\u001b[0m",
      "\u001b[0;31mAttributeError\u001b[0m                            Traceback (most recent call last)",
      "\u001b[0;32m<ipython-input-31-d6cf629fab61>\u001b[0m in \u001b[0;36m<module>\u001b[0;34m()\u001b[0m\n\u001b[0;32m----> 1\u001b[0;31m \u001b[0mtestfunc\u001b[0m\u001b[0;34m.\u001b[0m\u001b[0mfunc_name\u001b[0m\u001b[0;34m\u001b[0m\u001b[0;34m\u001b[0m\u001b[0m\n\u001b[0m",
      "\u001b[0;31mAttributeError\u001b[0m: 'function' object has no attribute 'func_name'"
     ]
    }
   ],
   "source": [
    "testfunc.func_name"
   ]
  },
  {
   "cell_type": "code",
   "execution_count": 1,
   "metadata": {},
   "outputs": [],
   "source": [
    "import os"
   ]
  },
  {
   "cell_type": "code",
   "execution_count": 2,
   "metadata": {},
   "outputs": [],
   "source": [
    "cwd = os.getcwd()"
   ]
  },
  {
   "cell_type": "code",
   "execution_count": 3,
   "metadata": {},
   "outputs": [
    {
     "data": {
      "text/plain": [
       "'/mnt/dat/work/testuser/adsorption/sandbox'"
      ]
     },
     "execution_count": 3,
     "metadata": {},
     "output_type": "execute_result"
    }
   ],
   "source": [
    "cwd"
   ]
  },
  {
   "cell_type": "code",
   "execution_count": 4,
   "metadata": {},
   "outputs": [
    {
     "data": {
      "text/plain": [
       "['', 'mnt', 'dat', 'work', 'testuser', 'adsorption', 'sandbox']"
      ]
     },
     "execution_count": 4,
     "metadata": {},
     "output_type": "execute_result"
    }
   ],
   "source": [
    "cwd.split(os.sep)"
   ]
  },
  {
   "cell_type": "code",
   "execution_count": 11,
   "metadata": {},
   "outputs": [
    {
     "data": {
      "text/plain": [
       "('/mnt/dat/work/testuser/adsorption', 'sandbox')"
      ]
     },
     "execution_count": 11,
     "metadata": {},
     "output_type": "execute_result"
    }
   ],
   "source": [
    "os.path.split(cwd)"
   ]
  },
  {
   "cell_type": "code",
   "execution_count": 12,
   "metadata": {},
   "outputs": [
    {
     "data": {
      "text/plain": [
       "'/mnt/dat/work/testuser/adsorption/sandbox'"
      ]
     },
     "execution_count": 12,
     "metadata": {},
     "output_type": "execute_result"
    }
   ],
   "source": [
    "os.path.normpath(cwd)"
   ]
  },
  {
   "cell_type": "code",
   "execution_count": 15,
   "metadata": {},
   "outputs": [
    {
     "data": {
      "text/plain": [
       "'A/B'"
      ]
     },
     "execution_count": 15,
     "metadata": {},
     "output_type": "execute_result"
    }
   ],
   "source": [
    "os.path.join('','A','B')"
   ]
  },
  {
   "cell_type": "code",
   "execution_count": 18,
   "metadata": {},
   "outputs": [],
   "source": [
    "tmp = [i for i in range(5)]"
   ]
  },
  {
   "cell_type": "code",
   "execution_count": 20,
   "metadata": {},
   "outputs": [
    {
     "data": {
      "text/plain": [
       "4"
      ]
     },
     "execution_count": 20,
     "metadata": {},
     "output_type": "execute_result"
    }
   ],
   "source": [
    "tmp.pop()"
   ]
  },
  {
   "cell_type": "code",
   "execution_count": 21,
   "metadata": {},
   "outputs": [
    {
     "data": {
      "text/plain": [
       "[0, 1, 2, 3]"
      ]
     },
     "execution_count": 21,
     "metadata": {},
     "output_type": "execute_result"
    }
   ],
   "source": [
    "tmp"
   ]
  },
  {
   "cell_type": "code",
   "execution_count": 22,
   "metadata": {},
   "outputs": [
    {
     "data": {
      "text/plain": [
       "0"
      ]
     },
     "execution_count": 22,
     "metadata": {},
     "output_type": "execute_result"
    }
   ],
   "source": [
    "tmp.pop(0)"
   ]
  },
  {
   "cell_type": "code",
   "execution_count": 25,
   "metadata": {},
   "outputs": [],
   "source": [
    "tmp.append(8)"
   ]
  },
  {
   "cell_type": "code",
   "execution_count": 26,
   "metadata": {},
   "outputs": [
    {
     "data": {
      "text/plain": [
       "[1, 2, 3, 8]"
      ]
     },
     "execution_count": 26,
     "metadata": {},
     "output_type": "execute_result"
    }
   ],
   "source": [
    "tmp"
   ]
  },
  {
   "cell_type": "code",
   "execution_count": 27,
   "metadata": {},
   "outputs": [],
   "source": [
    "tmp.insert(0,9)"
   ]
  },
  {
   "cell_type": "code",
   "execution_count": 28,
   "metadata": {},
   "outputs": [
    {
     "data": {
      "text/plain": [
       "[9, 1, 2, 3, 8]"
      ]
     },
     "execution_count": 28,
     "metadata": {},
     "output_type": "execute_result"
    }
   ],
   "source": [
    "tmp"
   ]
  },
  {
   "cell_type": "code",
   "execution_count": 30,
   "metadata": {},
   "outputs": [
    {
     "data": {
      "text/plain": [
       "'A/B/C'"
      ]
     },
     "execution_count": 30,
     "metadata": {},
     "output_type": "execute_result"
    }
   ],
   "source": [
    "os.path.join('A','B','C')"
   ]
  },
  {
   "cell_type": "code",
   "execution_count": 3,
   "metadata": {},
   "outputs": [
    {
     "data": {
      "text/plain": [
       "9.1"
      ]
     },
     "execution_count": 3,
     "metadata": {},
     "output_type": "execute_result"
    }
   ],
   "source": [
    "0.1 * 91"
   ]
  },
  {
   "cell_type": "code",
   "execution_count": null,
   "metadata": {},
   "outputs": [],
   "source": []
  }
 ],
 "metadata": {
  "kernelspec": {
   "display_name": "Python 3 (jlh-bwCloud)",
   "language": "python",
   "name": "python3-jlh-bwcloud"
  },
  "language_info": {
   "codemirror_mode": {
    "name": "ipython",
    "version": 3
   },
   "file_extension": ".py",
   "mimetype": "text/x-python",
   "name": "python",
   "nbconvert_exporter": "python",
   "pygments_lexer": "ipython3",
   "version": "3.6.7"
  }
 },
 "nbformat": 4,
 "nbformat_minor": 2
}
