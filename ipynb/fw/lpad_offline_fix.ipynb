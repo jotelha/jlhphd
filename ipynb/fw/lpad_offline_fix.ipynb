{
 "cells": [
  {
   "cell_type": "markdown",
   "metadata": {},
   "source": [
    "# Fix offline run\n",
    "After the command `lpad detect_offline --fizzle`, fizzled FireWorks are "
   ]
  },
  {
   "cell_type": "code",
   "execution_count": 1,
   "metadata": {
    "ExecuteTime": {
     "end_time": "2019-08-25T14:26:32.237514Z",
     "start_time": "2019-08-25T14:26:32.191543Z"
    }
   },
   "outputs": [],
   "source": [
    "%load_ext autoreload\n",
    "%autoreload 2\n",
    "%config Application.log_level=\"WARN\""
   ]
  },
  {
   "cell_type": "code",
   "execution_count": 2,
   "metadata": {
    "ExecuteTime": {
     "end_time": "2019-08-25T14:26:32.320945Z",
     "start_time": "2019-08-25T14:26:32.307270Z"
    }
   },
   "outputs": [],
   "source": [
    "from pprint import pprint"
   ]
  },
  {
   "cell_type": "code",
   "execution_count": 3,
   "metadata": {
    "ExecuteTime": {
     "end_time": "2019-08-25T14:26:32.555150Z",
     "start_time": "2019-08-25T14:26:32.428715Z"
    }
   },
   "outputs": [],
   "source": [
    "from fireworks import LaunchPad"
   ]
  },
  {
   "cell_type": "code",
   "execution_count": 4,
   "metadata": {
    "ExecuteTime": {
     "end_time": "2019-08-25T14:26:32.590743Z",
     "start_time": "2019-08-25T14:26:32.575263Z"
    }
   },
   "outputs": [],
   "source": [
    "lp = LaunchPad( host='localhost',\n",
    "           port=27018,\n",
    "           name='fireworks-jhoermann',\n",
    "           username='fireworks',\n",
    "           password='fireworks' )"
   ]
  },
  {
   "cell_type": "code",
   "execution_count": 5,
   "metadata": {
    "ExecuteTime": {
     "end_time": "2019-08-25T14:26:37.739413Z",
     "start_time": "2019-08-25T14:26:37.714863Z"
    }
   },
   "outputs": [],
   "source": [
    "min_runtime = 2*24*60*60 # 4 days"
   ]
  },
  {
   "cell_type": "code",
   "execution_count": 6,
   "metadata": {
    "ExecuteTime": {
     "end_time": "2019-08-25T14:26:37.849728Z",
     "start_time": "2019-08-25T14:26:37.826628Z"
    }
   },
   "outputs": [],
   "source": [
    "min_runtime = 24*60*60 # 4 days"
   ]
  },
  {
   "cell_type": "code",
   "execution_count": 7,
   "metadata": {
    "ExecuteTime": {
     "end_time": "2019-08-25T14:26:37.964593Z",
     "start_time": "2019-08-25T14:26:37.947261Z"
    }
   },
   "outputs": [],
   "source": [
    "min_runtime = 10000"
   ]
  },
  {
   "cell_type": "code",
   "execution_count": 26,
   "metadata": {
    "ExecuteTime": {
     "end_time": "2019-08-25T14:29:44.016218Z",
     "start_time": "2019-08-25T14:29:43.991660Z"
    }
   },
   "outputs": [],
   "source": [
    "exp_time = 1 # 24*60*60"
   ]
  },
  {
   "cell_type": "code",
   "execution_count": 14,
   "metadata": {
    "ExecuteTime": {
     "end_time": "2019-08-25T14:27:06.391179Z",
     "start_time": "2019-08-25T14:27:06.376416Z"
    }
   },
   "outputs": [],
   "source": [
    "min_runtime = 96*60"
   ]
  },
  {
   "cell_type": "code",
   "execution_count": 27,
   "metadata": {
    "ExecuteTime": {
     "end_time": "2019-08-25T14:29:44.684182Z",
     "start_time": "2019-08-25T14:29:44.664492Z"
    }
   },
   "outputs": [],
   "source": [
    "min_runtime = 0"
   ]
  },
  {
   "cell_type": "code",
   "execution_count": 10,
   "metadata": {
    "ExecuteTime": {
     "end_time": "2019-08-25T14:26:39.649481Z",
     "start_time": "2019-08-25T14:26:39.576773Z"
    }
   },
   "outputs": [
    {
     "name": "stdout",
     "output_type": "stream",
     "text": [
      "lost launch ids:            [14660, 14672]\n",
      "lost fireworks ids:         [18826, 18838]\n",
      "inconsistent fireworks ids: []\n"
     ]
    }
   ],
   "source": [
    "lids, fwids, iids = lp.detect_lostruns(\n",
    "    expiration_secs = exp_time, \n",
    "    min_runtime = min_runtime, \n",
    "    query = {\n",
    "        'spec._category':'nemo_queue_offline' })\n",
    "# returns tuple of list of lost launch ids, lost firework ids \n",
    "# and inconsistent firework ids.\n",
    "print(\"lost launch ids:            {}\".format(lids))\n",
    "print(\"lost fireworks ids:         {}\".format(fwids))\n",
    "print(\"inconsistent fireworks ids: {}\".format(iids))"
   ]
  },
  {
   "cell_type": "code",
   "execution_count": 22,
   "metadata": {
    "ExecuteTime": {
     "end_time": "2019-07-24T14:27:48.200541Z",
     "start_time": "2019-07-24T14:27:48.180393Z"
    }
   },
   "outputs": [],
   "source": [
    "# select fireworks to mark as fizzled:\n",
    "fwid = fwids[0:2]"
   ]
  },
  {
   "cell_type": "code",
   "execution_count": 21,
   "metadata": {
    "ExecuteTime": {
     "end_time": "2019-07-31T22:31:08.802139Z",
     "start_time": "2019-07-31T22:31:08.760926Z"
    }
   },
   "outputs": [],
   "source": [
    "fwid = [14816, 14815, 16292, 16320, 16321, 16322, 16323, 16324]"
   ]
  },
  {
   "cell_type": "code",
   "execution_count": 25,
   "metadata": {
    "ExecuteTime": {
     "end_time": "2019-08-05T19:05:08.687772Z",
     "start_time": "2019-08-05T19:05:08.600922Z"
    }
   },
   "outputs": [],
   "source": [
    "fwid = [16337,16340,16343,16346]"
   ]
  },
  {
   "cell_type": "code",
   "execution_count": 28,
   "metadata": {
    "ExecuteTime": {
     "end_time": "2019-08-25T14:29:51.724790Z",
     "start_time": "2019-08-25T14:29:51.697491Z"
    }
   },
   "outputs": [
    {
     "name": "stdout",
     "output_type": "stream",
     "text": [
      "lost launch ids:            []\n",
      "lost fireworks ids:         []\n",
      "inconsistent fireworks ids: []\n"
     ]
    }
   ],
   "source": [
    "selected_lids, selected_fwids, selected_iids = lp.detect_lostruns(\n",
    "    expiration_secs = exp_time, \n",
    "    min_runtime = min_runtime, \n",
    "    fizzle = False,\n",
    "    query = {\n",
    "        'fw_id': { '$in': fwid } } )\n",
    "print(\"lost launch ids:            {}\".format(selected_lids))\n",
    "print(\"lost fireworks ids:         {}\".format(selected_fwids))\n",
    "print(\"inconsistent fireworks ids: {}\".format(selected_iids))"
   ]
  },
  {
   "cell_type": "code",
   "execution_count": 27,
   "metadata": {
    "ExecuteTime": {
     "end_time": "2019-08-05T19:05:31.987770Z",
     "start_time": "2019-08-05T19:05:31.136179Z"
    }
   },
   "outputs": [
    {
     "name": "stdout",
     "output_type": "stream",
     "text": [
      "lost launch ids:            [12461, 12463, 12464, 12465]\n",
      "lost fireworks ids:         [16337, 16340, 16343, 16346]\n",
      "inconsistent fireworks ids: []\n"
     ]
    }
   ],
   "source": [
    "selected_lids, selected_fwids, selected_iids = lp.detect_lostruns(\n",
    "    expiration_secs = exp_time, \n",
    "    min_runtime = min_runtime, \n",
    "    fizzle = True,\n",
    "    query = {\n",
    "        'fw_id': { '$in': fwid } } )\n",
    "print(\"lost launch ids:            {}\".format(selected_lids))\n",
    "print(\"lost fireworks ids:         {}\".format(selected_fwids))\n",
    "print(\"inconsistent fireworks ids: {}\".format(selected_iids))\n",
    "\n",
    "# um einen hartnäckigen Offline-Run zu entschärfen\n",
    "lp.forget_offline(fwid,launch_mode=False)"
   ]
  },
  {
   "cell_type": "code",
   "execution_count": 22,
   "metadata": {
    "ExecuteTime": {
     "end_time": "2019-07-31T22:31:31.286560Z",
     "start_time": "2019-07-31T22:31:31.254094Z"
    }
   },
   "outputs": [],
   "source": [
    "# um einen hartnäckigen Offline-Run zu entschärfen\n",
    "lp.forget_offline(fwid,launch_mode=False)"
   ]
  },
  {
   "cell_type": "code",
   "execution_count": null,
   "metadata": {},
   "outputs": [],
   "source": [
    "# use \n",
    "# lpad detect_lostruns --time 10 --query \"{'spec._category':'nemo_queue_offline'}\""
   ]
  },
  {
   "cell_type": "code",
   "execution_count": 29,
   "metadata": {
    "ExecuteTime": {
     "end_time": "2019-06-13T11:53:15.844560Z",
     "start_time": "2019-06-13T11:53:15.818388Z"
    }
   },
   "outputs": [],
   "source": [
    "# um einen hartnäckigen Offline-Run zu entschärfen\n",
    "lp.forget_offline(14224,launch_mode=False)"
   ]
  },
  {
   "cell_type": "code",
   "execution_count": 23,
   "metadata": {
    "ExecuteTime": {
     "end_time": "2019-06-25T09:11:27.814316Z",
     "start_time": "2019-06-25T09:11:27.771540Z"
    }
   },
   "outputs": [
    {
     "name": "stdout",
     "output_type": "stream",
     "text": [
      "{'action': None,\n",
      " 'fw_id': 14203,\n",
      " 'fworker': {'category': ['nemo_queue_offline'],\n",
      "             'env': {'exchange_substrate.py': 'module purge; module use '\n",
      "                                              '/work/ws/nemo/fr_lp1029-IMTEK_SIMULATION-0/modulefiles; '\n",
      "                                              'module load mdtools ovitos; '\n",
      "                                              'exchange_substrate.py',\n",
      "                     'extract_bb.py': 'module purge; module use '\n",
      "                                      '/work/ws/nemo/fr_lp1029-IMTEK_SIMULATION-0/modulefiles; '\n",
      "                                      'module load mdtools/12Mar19-python-2.7; '\n",
      "                                      'extract_bb.py',\n",
      "                     'extract_indenter_nonindenter_forces_from_netcdf.py': 'module '\n",
      "                                                                           'purge; '\n",
      "                                                                           'module '\n",
      "                                                                           'use '\n",
      "                                                                           '/work/ws/nemo/fr_lp1029-IMTEK_SIMULATION-0/modulefiles; '\n",
      "                                                                           'module '\n",
      "                                                                           'load '\n",
      "                                                                           'mdtools; '\n",
      "                                                                           'extract_indenter_nonindenter_forces_from_netcdf.py',\n",
      "                     'extract_property.py': 'module purge; module use '\n",
      "                                            '/work/ws/nemo/fr_lp1029-IMTEK_SIMULATION-0/modulefiles; '\n",
      "                                            'module load mdtools ovitos; '\n",
      "                                            'extract_property.py',\n",
      "                     'extract_thermo.sh': 'module purge; module use '\n",
      "                                          '/work/ws/nemo/fr_lp1029-IMTEK_SIMULATION-0/modulefiles; '\n",
      "                                          'module load mdtools; '\n",
      "                                          'extract_thermo.sh',\n",
      "                     'join_thermo.py': 'module purge; module use '\n",
      "                                       '/work/ws/nemo/fr_lp1029-IMTEK_SIMULATION-0/modulefiles; '\n",
      "                                       'module load mdtools; join_thermo.py',\n",
      "                     'lmp': 'module purge; module use '\n",
      "                            '/work/ws/nemo/fr_lp1029-IMTEK_SIMULATION-0/modulefiles; '\n",
      "                            'module load '\n",
      "                            'lammps/16Mar18-gnu-7.3-openmpi-3.1-colvars-09Feb19; '\n",
      "                            'mpirun ${MPIRUN_OPTIONS} lmp',\n",
      "                     'merge.py': 'module purge; module use '\n",
      "                                 '/work/ws/nemo/fr_lp1029-IMTEK_SIMULATION-0/modulefiles; '\n",
      "                                 'module load mdtools/12Mar19-python-2.7; '\n",
      "                                 'merge.py',\n",
      "                     'ncjoin.py': 'module purge; module use '\n",
      "                                  '/work/ws/nemo/fr_lp1029-IMTEK_SIMULATION-0/modulefiles; '\n",
      "                                  'module load mdtools; ncjoin.py',\n",
      "                     'pizza.py': 'module purge; module use '\n",
      "                                 '/work/ws/nemo/fr_lp1029-IMTEK_SIMULATION-0/modulefiles; '\n",
      "                                 'module load mdtools/12Mar19-python-2.7; '\n",
      "                                 'pizza.py',\n",
      "                     'smbsync.py': 'module purge; module use '\n",
      "                                   '/work/ws/nemo/fr_lp1029-IMTEK_SIMULATION-0/modulefiles; '\n",
      "                                   'module load mdtools; smbsync.py',\n",
      "                     'strip_comments.py': 'module purge; module use '\n",
      "                                          '/work/ws/nemo/fr_lp1029-IMTEK_SIMULATION-0/modulefiles; '\n",
      "                                          'module load '\n",
      "                                          'mdtools/12Mar19-python-2.7; '\n",
      "                                          'strip_comments.py',\n",
      "                     'to_hybrid.py': 'module purge; module use '\n",
      "                                     '/work/ws/nemo/fr_lp1029-IMTEK_SIMULATION-0/modulefiles; '\n",
      "                                     'module load mdtools; to_hybrid.py',\n",
      "                     'vmd': 'module use '\n",
      "                            '/work/ws/nemo/fr_lp1029-IMTEK_SIMULATION-0/modulefiles; '\n",
      "                            'module load vmd/1.9.3-text; vmd'},\n",
      "             'name': 'nemo_queue_worker',\n",
      "             'query': '{}'},\n",
      " 'host': 'login2.nemo.privat',\n",
      " 'ip': '10.16.44.2',\n",
      " 'launch_dir': '/work/ws/nemo/fr_jh1130-fw_ws_20190311-0/launchpad/block_2019-06-08-10-24-39-472025/launcher_2019-06-24-18-33-16-205546',\n",
      " 'launch_id': 10709,\n",
      " 'state': 'RUNNING',\n",
      " 'state_history': [{'created_on': '2019-06-24T18:33:16.175011',\n",
      "                    'reservation_id': '5790847',\n",
      "                    'state': 'RESERVED',\n",
      "                    'updated_on': '2019-06-24T18:33:16.175017'},\n",
      "                   {'checkpoint': {'_all_mod_spec': [],\n",
      "                                   '_all_stored_data': {},\n",
      "                                   '_all_update_spec': {},\n",
      "                                   '_task_n': 0},\n",
      "                    'created_on': '2019-06-24T18:34:49.675511',\n",
      "                    'state': 'RUNNING',\n",
      "                    'updated_on': '2019-06-25T09:02:00.930001'}],\n",
      " 'trackers': [{'allow_zipped': False, 'filename': 'log.lammps', 'nlines': 25}]}\n"
     ]
    }
   ],
   "source": [
    "pprint(lp.get_launch_by_id(lids[0]).as_dict())"
   ]
  },
  {
   "cell_type": "markdown",
   "metadata": {},
   "source": [
    "## Sandbox"
   ]
  },
  {
   "cell_type": "code",
   "execution_count": 30,
   "metadata": {
    "ExecuteTime": {
     "end_time": "2019-08-25T14:31:21.230767Z",
     "start_time": "2019-08-25T14:31:21.055244Z"
    }
   },
   "outputs": [],
   "source": [
    "wf_fwid = [19746,19747,19748,19749,19750,19751,19752,19753,19754,19755,19756,19757,19758,19759,19760,19761,19762,19763,19764,19765,19766,19767,19768,19769,19770,19771,19772,19773,19774,19775,19776,19777,19778,19779,19780,19781,19782,19783,19784,19785,19786,19787,19788,19789,19790,19791,19792,19793,19794,19795,19796,19797,19798,19799,19800,19801,19802,19803,19804,19805,19806,19807,19808,19809,19810,19811,19812,19813,19814,19815,19816,19817,19818,19819,19820,19821,19822,19823,19824,19825,19826,19827,19828,19829,19830,19831,19832,19833,19834,19835,19836,19837,19838,19839,19840,19841,19842,19843,19844,19845,19846,19847,19848,19849,19850,19851,19852,19853,19854,19855,19856,19857,19858,19859,19860,19861,19862,19863,19864,19865,19866,19867,19868,19869,19870,19871,19872,19873,19874,19875,19876,19877,19878,19879,19880,19881,19882,19883,19884,19885,19886,19887,19888,19889,19890,19891,19892,19893,19894,19895,19896,19897,19898,19899,19900,19901,19902,19903,19904,19905,19906,19907,19908,19909,19910,19911,19912,19913,19914,19915,19916,19917,19918,19919,19920,19921,19922,19923,19924,19925,19926,19927,19928,19929,19930,19931,19932,19933,19934,19935,19936,19937,19938,19939,19940,19941,19942,19943,19944,19945,19946,19947,19948,19949,19950,19951,19952,19953,19954,19955,19956,19957,19958,19959,19960,19961,19962,19963,19964,19965,19966,19967,19968,19969,19970,19971,19972,19973,19974,19975,19976,19977,19978,19979,19980,19981,19982,19983,19984,19985,19986,19987,19988,19989,19990,19991,19992,19993,19994,19995,19996,19997,19998,19999,20000,20001,20002,20003,20004,20005,20006,20007,20008,20009,20010,20011,20012,20013,20014,20015,20016,20017,20018,20019,20020,20021,20022,20023,20024,20025,20026,20027,20028,20029,20030,20031,20032,20033,20034,20035,20036,20037,20038,20039,20040,20041,20042,20043,20044,20045,20046,20047,20048,20049,20050,20051,20052,20053,20054,20055,20056,20057,20058,20059,20060,20061,20062,20063,20064,20065,20066,20067,20068,20069,20070,20071,20072,20073,20074,20075,20076,20077,20078,20079,20080,20081,20082,20083,20084,20085,20086,20087,20088,20092,20093,20094,20095,20096,20097,20098,20099,20100,20101,20102,20103,20104,20105,20106,20107,20108,20109,20110,20111,20112,20113,20114,20115,20116,20117,20118,20119,20120,20121,20122,20123,20124,20125,20126,20127,20128,20129,20130,20131,20132,20133,20134,20135,20136,20137,20138,20139,20140,20141,20142,20143,20144,20145,20146,20147,20148,20149,20150,20151,20152,20153,20154,20155,20156,20157,20158,20159,20160,20161,20162,20163,20164,20165,20166,20167,20168,20169,20170,20171,20172,20173,20174,20175,20176,20177,20178,20179,20180,20181,20182,20183,20184,20185,20186,20187,20188,20189,20190,20191,20192,20193,20194,20195,20196,20197,20198,20199,20200,20201,20202,20203,20204,20205,20206,20207,20208,20209,20210,20211,20212,20213,20214,20215,20216,20217,20218,20219,20220,20221,20222,20223,20224,20225,20226,20227,20228,20229,20230,20231,20232,20233,20234,20235,20236,20237,20238,20239,20240,20241]"
   ]
  },
  {
   "cell_type": "code",
   "execution_count": 31,
   "metadata": {
    "ExecuteTime": {
     "end_time": "2019-08-25T14:31:21.276078Z",
     "start_time": "2019-08-25T14:31:21.257212Z"
    }
   },
   "outputs": [],
   "source": [
    "off_fwid = [11685, 14864, 14863, 15856, 15854, 15853, 15852, 15851, 15850, 15849, 15848, 15847, 15846, 15845, 20216, 20219, 20222, 20225, 20228, 20234, 20237, 20240]"
   ]
  },
  {
   "cell_type": "code",
   "execution_count": 32,
   "metadata": {
    "ExecuteTime": {
     "end_time": "2019-08-25T14:31:21.320175Z",
     "start_time": "2019-08-25T14:31:21.306590Z"
    }
   },
   "outputs": [],
   "source": [
    "fwid = list( set(wf_fwid) & set(off_fwid) )"
   ]
  },
  {
   "cell_type": "code",
   "execution_count": 35,
   "metadata": {
    "ExecuteTime": {
     "end_time": "2019-08-25T14:32:43.583353Z",
     "start_time": "2019-08-25T14:32:43.530815Z"
    }
   },
   "outputs": [
    {
     "data": {
      "text/plain": [
       "[20225, 20228, 20234, 20237, 20240, 20216, 20219, 20222]"
      ]
     },
     "execution_count": 35,
     "metadata": {},
     "output_type": "execute_result"
    }
   ],
   "source": [
    "fwid"
   ]
  },
  {
   "cell_type": "code",
   "execution_count": 36,
   "metadata": {
    "ExecuteTime": {
     "end_time": "2019-08-25T14:32:45.749535Z",
     "start_time": "2019-08-25T14:32:45.720475Z"
    }
   },
   "outputs": [],
   "source": [
    "lp.forget_offline(fwid)"
   ]
  },
  {
   "cell_type": "code",
   "execution_count": null,
   "metadata": {},
   "outputs": [],
   "source": []
  },
  {
   "cell_type": "code",
   "execution_count": 233,
   "metadata": {
    "ExecuteTime": {
     "end_time": "2019-08-07T16:11:14.020403Z",
     "start_time": "2019-08-07T16:11:13.995001Z"
    }
   },
   "outputs": [],
   "source": [
    "offline_launches = lp.offline_runs.find(\n",
    "    {\"launch_id\": 12392, \"deprecated\": True}, {\"launch_id\": 1})"
   ]
  },
  {
   "cell_type": "code",
   "execution_count": 234,
   "metadata": {
    "ExecuteTime": {
     "end_time": "2019-08-07T16:11:14.463596Z",
     "start_time": "2019-08-07T16:11:14.431564Z"
    }
   },
   "outputs": [
    {
     "name": "stderr",
     "output_type": "stream",
     "text": [
      "/usr/local/lib/python3.6/dist-packages/ipykernel_launcher.py:1: DeprecationWarning: count is deprecated. Use Collection.count_documents instead.\n",
      "  \"\"\"Entry point for launching an IPython kernel.\n"
     ]
    },
    {
     "data": {
      "text/plain": [
       "0"
      ]
     },
     "execution_count": 234,
     "metadata": {},
     "output_type": "execute_result"
    }
   ],
   "source": [
    "offline_launches.count()"
   ]
  },
  {
   "cell_type": "code",
   "execution_count": 226,
   "metadata": {
    "ExecuteTime": {
     "end_time": "2019-08-07T16:02:15.335078Z",
     "start_time": "2019-08-07T16:02:15.311730Z"
    }
   },
   "outputs": [
    {
     "data": {
      "text/plain": [
       "<pymongo.cursor.Cursor at 0x7f41fb303f28>"
      ]
     },
     "execution_count": 226,
     "metadata": {},
     "output_type": "execute_result"
    }
   ],
   "source": [
    "offline_launches"
   ]
  },
  {
   "cell_type": "code",
   "execution_count": 235,
   "metadata": {
    "ExecuteTime": {
     "end_time": "2019-08-08T13:32:09.385105Z",
     "start_time": "2019-08-08T13:32:09.318247Z"
    }
   },
   "outputs": [],
   "source": [
    "query = \"{\\n\\\"metadata.mode\\\": \\\"PRODUCTION\\\",\\n\\\"metadata.type\\\": \\\"AFM\\\",\\n\\\"metadata.step\\\": \\\"equilibration_dpd\\\",\\n\\n\\\"metadata.counterion\\\":       NA,\\n\\\"metadata.surfactant\\\":       SDS,\\n\\\"metadata.sf_preassembly\\\":   monolayer,\\n\\\"metadata.sf_nmolecules\\\":    646,\\n\\\"metadata.solvent\\\":          H2O,\\n\\\"metadata.substrate\\\":        AU,\\n\\\"metadata.sb_crystal_plane\\\": 111,\\n\\\"metadata.sb_base_length\\\":   150,\\n\\\"metadata.sb_shape\\\":         cube,\\n\\\"metadata.sb_in_dist\\\":       30.0,\\n\\\"metadata.sb_in_dist_unit\\\":  Ang,\\n\\n\\\"metadata.indenter.substrate\\\":           AU,\\n\\\"metadata.indenter.initial_radius\\\":      25,\\n\\\"metadata.indenter.initial_radius_unit\\\": Ang\\n}\""
   ]
  },
  {
   "cell_type": "code",
   "execution_count": 236,
   "metadata": {
    "ExecuteTime": {
     "end_time": "2019-08-08T13:32:14.304802Z",
     "start_time": "2019-08-08T13:32:14.272490Z"
    }
   },
   "outputs": [
    {
     "name": "stdout",
     "output_type": "stream",
     "text": [
      "{\n",
      "\"metadata.mode\": \"PRODUCTION\",\n",
      "\"metadata.type\": \"AFM\",\n",
      "\"metadata.step\": \"equilibration_dpd\",\n",
      "\n",
      "\"metadata.counterion\":       NA,\n",
      "\"metadata.surfactant\":       SDS,\n",
      "\"metadata.sf_preassembly\":   monolayer,\n",
      "\"metadata.sf_nmolecules\":    646,\n",
      "\"metadata.solvent\":          H2O,\n",
      "\"metadata.substrate\":        AU,\n",
      "\"metadata.sb_crystal_plane\": 111,\n",
      "\"metadata.sb_base_length\":   150,\n",
      "\"metadata.sb_shape\":         cube,\n",
      "\"metadata.sb_in_dist\":       30.0,\n",
      "\"metadata.sb_in_dist_unit\":  Ang,\n",
      "\n",
      "\"metadata.indenter.substrate\":           AU,\n",
      "\"metadata.indenter.initial_radius\":      25,\n",
      "\"metadata.indenter.initial_radius_unit\": Ang\n",
      "}\n"
     ]
    }
   ],
   "source": [
    "print(query)"
   ]
  },
  {
   "cell_type": "code",
   "execution_count": 261,
   "metadata": {
    "ExecuteTime": {
     "end_time": "2019-08-08T13:51:51.266023Z",
     "start_time": "2019-08-08T13:51:51.217667Z"
    }
   },
   "outputs": [],
   "source": [
    "from bson.son import SON"
   ]
  },
  {
   "cell_type": "code",
   "execution_count": 263,
   "metadata": {
    "ExecuteTime": {
     "end_time": "2019-08-08T13:53:02.715785Z",
     "start_time": "2019-08-08T13:53:02.676149Z"
    }
   },
   "outputs": [],
   "source": [
    "from bson import json_util"
   ]
  },
  {
   "cell_type": "code",
   "execution_count": 238,
   "metadata": {
    "ExecuteTime": {
     "end_time": "2019-08-08T13:35:54.588047Z",
     "start_time": "2019-08-08T13:35:54.565617Z"
    }
   },
   "outputs": [],
   "source": [
    "from fireworks.utilities.filepad import FilePad "
   ]
  },
  {
   "cell_type": "code",
   "execution_count": 265,
   "metadata": {
    "ExecuteTime": {
     "end_time": "2019-08-08T13:54:03.530738Z",
     "start_time": "2019-08-08T13:54:03.482489Z"
    }
   },
   "outputs": [
    {
     "data": {
      "text/plain": [
       "'{\\n\"metadata.mode\": \"PRODUCTION\",\\n\"metadata.type\": \"AFM\",\\n\"metadata.step\": \"equilibration_dpd\",\\n\\n\"metadata.counterion\":       NA,\\n\"metadata.surfactant\":       SDS,\\n\"metadata.sf_preassembly\":   monolayer,\\n\"metadata.sf_nmolecules\":    646,\\n\"metadata.solvent\":          H2O,\\n\"metadata.substrate\":        AU,\\n\"metadata.sb_crystal_plane\": 111,\\n\"metadata.sb_base_length\":   150,\\n\"metadata.sb_shape\":         cube,\\n\"metadata.sb_in_dist\":       30.0,\\n\"metadata.sb_in_dist_unit\":  Ang,\\n\\n\"metadata.indenter.substrate\":           AU,\\n\"metadata.indenter.initial_radius\":      25,\\n\"metadata.indenter.initial_radius_unit\": Ang\\n}'"
      ]
     },
     "execution_count": 265,
     "metadata": {},
     "output_type": "execute_result"
    }
   ],
   "source": [
    "query"
   ]
  },
  {
   "cell_type": "code",
   "execution_count": 270,
   "metadata": {
    "ExecuteTime": {
     "end_time": "2019-08-08T13:57:34.167834Z",
     "start_time": "2019-08-08T13:57:34.149706Z"
    }
   },
   "outputs": [],
   "source": [
    "query_str = \"\"\"{\n",
    "    \"metadata.mode\": \"PRODUCTION\",\n",
    "    \"metadata.type\": \"AFM\",\n",
    "    \"metadata.step\": \"equilibration_dpd\",\n",
    "\n",
    "    \"metadata.counterion\":       \"NA\",\n",
    "    \"metadata.surfactant\":       \"SDS\",\n",
    "    \"metadata.sf_preassembly\":   \"monolayer\",\n",
    "    \"metadata.sf_nmolecules\":    646,\n",
    "    \"metadata.solvent\":          \"H2O\",\n",
    "    \"metadata.substrate\":        \"AU\",\n",
    "    \"metadata.sb_crystal_plane\": 111,\n",
    "    \"metadata.sb_base_length\":   150,\n",
    "    \"metadata.sb_shape\":         \"cube\",\n",
    "    \"metadata.sb_in_dist\":       30.0,\n",
    "    \"metadata.sb_in_dist_unit\":  \"Ang\",\n",
    "\n",
    "    \"metadata.indenter.substrate\":           \"AU\",\n",
    "    \"metadata.indenter.initial_radius\":      25,\n",
    "    \"metadata.indenter.initial_radius_unit\": \"Ang\"\n",
    "}\"\"\""
   ]
  },
  {
   "cell_type": "code",
   "execution_count": 272,
   "metadata": {
    "ExecuteTime": {
     "end_time": "2019-08-08T13:57:49.807780Z",
     "start_time": "2019-08-08T13:57:49.782025Z"
    }
   },
   "outputs": [],
   "source": [
    "query_dict = json_util.loads(query_str)"
   ]
  },
  {
   "cell_type": "code",
   "execution_count": 276,
   "metadata": {
    "ExecuteTime": {
     "end_time": "2019-08-08T16:31:40.351990Z",
     "start_time": "2019-08-08T16:31:40.305498Z"
    }
   },
   "outputs": [
    {
     "data": {
      "text/plain": [
       "dict"
      ]
     },
     "execution_count": 276,
     "metadata": {},
     "output_type": "execute_result"
    }
   ],
   "source": [
    "type(query_dict)"
   ]
  },
  {
   "cell_type": "code",
   "execution_count": 275,
   "metadata": {
    "ExecuteTime": {
     "end_time": "2019-08-08T13:58:09.745894Z",
     "start_time": "2019-08-08T13:58:09.712324Z"
    }
   },
   "outputs": [
    {
     "data": {
      "text/plain": [
       "dict_keys(['metadata.mode', 'metadata.type', 'metadata.step', 'metadata.counterion', 'metadata.surfactant', 'metadata.sf_preassembly', 'metadata.sf_nmolecules', 'metadata.solvent', 'metadata.substrate', 'metadata.sb_crystal_plane', 'metadata.sb_base_length', 'metadata.sb_shape', 'metadata.sb_in_dist', 'metadata.sb_in_dist_unit', 'metadata.indenter.substrate', 'metadata.indenter.initial_radius', 'metadata.indenter.initial_radius_unit'])"
      ]
     },
     "execution_count": 275,
     "metadata": {},
     "output_type": "execute_result"
    }
   ],
   "source": [
    "query_dict.keys()"
   ]
  },
  {
   "cell_type": "code",
   "execution_count": 239,
   "metadata": {
    "ExecuteTime": {
     "end_time": "2019-08-08T13:35:55.704871Z",
     "start_time": "2019-08-08T13:35:55.438806Z"
    }
   },
   "outputs": [],
   "source": [
    "fp = FilePad(\n",
    "    host='localhost',\n",
    "    port=27018,\n",
    "    database='fireworks-jhoermann',\n",
    "    username='fireworks',\n",
    "    password='fireworks')"
   ]
  },
  {
   "cell_type": "code",
   "execution_count": 241,
   "metadata": {
    "ExecuteTime": {
     "end_time": "2019-08-08T13:36:04.338283Z",
     "start_time": "2019-08-08T13:36:04.316699Z"
    }
   },
   "outputs": [
    {
     "data": {
      "text/plain": [
       "1548"
      ]
     },
     "execution_count": 241,
     "metadata": {},
     "output_type": "execute_result"
    }
   ],
   "source": [
    "fp.count()"
   ]
  },
  {
   "cell_type": "code",
   "execution_count": 297,
   "metadata": {
    "ExecuteTime": {
     "end_time": "2019-08-09T11:04:23.481177Z",
     "start_time": "2019-08-09T11:04:23.442510Z"
    }
   },
   "outputs": [],
   "source": [
    "query_dict = {\n",
    "    \"identifier\": {\"$regex\": \".*/thermo_ave.out\"},\n",
    "    \"metadata.mode\": \"PRODUCTION\",\n",
    "    \"metadata.type\": \"AFM\",\n",
    "    \"metadata.step\": \"equilibration_dpd\",\n",
    "\n",
    "    \"metadata.counterion\":       \"NA\",\n",
    "    \"metadata.surfactant\":       \"SDS\",\n",
    "    \"metadata.sf_preassembly\":   \"monolayer\",\n",
    "    \"metadata.sf_nmolecules\":    646,\n",
    "    \"metadata.solvent\":          \"H2O\",\n",
    "    \"metadata.substrate\":        \"AU\",\n",
    "    \"metadata.sb_crystal_plane\": 111,\n",
    "    \"metadata.sb_base_length\":   150,\n",
    "    \"metadata.sb_shape\":         \"cube\",\n",
    "    \"metadata.sb_in_dist\":       30.0,\n",
    "    \"metadata.sb_in_dist_unit\":  \"Ang\",\n",
    "\n",
    "    \"metadata.indenter.substrate\":           \"AU\",\n",
    "    \"metadata.indenter.initial_radius\":      25,\n",
    "    \"metadata.indenter.initial_radius_unit\": \"Ang\"\n",
    "}"
   ]
  },
  {
   "cell_type": "code",
   "execution_count": 298,
   "metadata": {
    "ExecuteTime": {
     "end_time": "2019-08-09T11:04:24.815560Z",
     "start_time": "2019-08-09T11:04:24.794132Z"
    }
   },
   "outputs": [
    {
     "data": {
      "text/plain": [
       "{'identifier': {'$regex': '.*/thermo_ave.out'},\n",
       " 'metadata.mode': 'PRODUCTION',\n",
       " 'metadata.type': 'AFM',\n",
       " 'metadata.step': 'equilibration_dpd',\n",
       " 'metadata.counterion': 'NA',\n",
       " 'metadata.surfactant': 'SDS',\n",
       " 'metadata.sf_preassembly': 'monolayer',\n",
       " 'metadata.sf_nmolecules': 646,\n",
       " 'metadata.solvent': 'H2O',\n",
       " 'metadata.substrate': 'AU',\n",
       " 'metadata.sb_crystal_plane': 111,\n",
       " 'metadata.sb_base_length': 150,\n",
       " 'metadata.sb_shape': 'cube',\n",
       " 'metadata.sb_in_dist': 30.0,\n",
       " 'metadata.sb_in_dist_unit': 'Ang',\n",
       " 'metadata.indenter.substrate': 'AU',\n",
       " 'metadata.indenter.initial_radius': 25,\n",
       " 'metadata.indenter.initial_radius_unit': 'Ang'}"
      ]
     },
     "execution_count": 298,
     "metadata": {},
     "output_type": "execute_result"
    }
   ],
   "source": [
    "query_dict"
   ]
  },
  {
   "cell_type": "code",
   "execution_count": 302,
   "metadata": {
    "ExecuteTime": {
     "end_time": "2019-08-09T11:14:26.606424Z",
     "start_time": "2019-08-09T11:14:26.563016Z"
    }
   },
   "outputs": [
    {
     "data": {
      "text/plain": [
       "\"{'identifier': {'$regex': '.*/thermo_ave.out'}, 'metadata.mode': 'PRODUCTION', 'metadata.type': 'AFM', 'metadata.step': 'equilibration_dpd', 'metadata.counterion': 'NA', 'metadata.surfactant': 'SDS', 'metadata.sf_preassembly': 'monolayer', 'metadata.sf_nmolecules': 646, 'metadata.solvent': 'H2O', 'metadata.substrate': 'AU', 'metadata.sb_crystal_plane': 111, 'metadata.sb_base_length': 150, 'metadata.sb_shape': 'cube', 'metadata.sb_in_dist': 30.0, 'metadata.sb_in_dist_unit': 'Ang', 'metadata.indenter.substrate': 'AU', 'metadata.indenter.initial_radius': 25, 'metadata.indenter.initial_radius_unit': 'Ang'}\""
      ]
     },
     "execution_count": 302,
     "metadata": {},
     "output_type": "execute_result"
    }
   ],
   "source": [
    "str(query_dict)"
   ]
  },
  {
   "cell_type": "code",
   "execution_count": 303,
   "metadata": {
    "ExecuteTime": {
     "end_time": "2019-08-09T11:15:24.863932Z",
     "start_time": "2019-08-09T11:15:24.813420Z"
    }
   },
   "outputs": [
    {
     "data": {
      "text/plain": [
       "'{\"identifier\": {\"$regex\": \".*/thermo_ave.out\"}, \"metadata.mode\": \"PRODUCTION\", \"metadata.type\": \"AFM\", \"metadata.step\": \"equilibration_dpd\", \"metadata.counterion\": \"NA\", \"metadata.surfactant\": \"SDS\", \"metadata.sf_preassembly\": \"monolayer\", \"metadata.sf_nmolecules\": 646, \"metadata.solvent\": \"H2O\", \"metadata.substrate\": \"AU\", \"metadata.sb_crystal_plane\": 111, \"metadata.sb_base_length\": 150, \"metadata.sb_shape\": \"cube\", \"metadata.sb_in_dist\": 30.0, \"metadata.sb_in_dist_unit\": \"Ang\", \"metadata.indenter.substrate\": \"AU\", \"metadata.indenter.initial_radius\": 25, \"metadata.indenter.initial_radius_unit\": \"Ang\"}'"
      ]
     },
     "execution_count": 303,
     "metadata": {},
     "output_type": "execute_result"
    }
   ],
   "source": [
    "json.dumps(query_dict)"
   ]
  },
  {
   "cell_type": "code",
   "execution_count": 278,
   "metadata": {
    "ExecuteTime": {
     "end_time": "2019-08-08T16:35:19.043763Z",
     "start_time": "2019-08-08T16:35:18.997135Z"
    }
   },
   "outputs": [],
   "source": [
    "from fireworks.utilities.dict_mods import get_nested_dict"
   ]
  },
  {
   "cell_type": "code",
   "execution_count": 299,
   "metadata": {
    "ExecuteTime": {
     "end_time": "2019-08-09T11:04:29.953058Z",
     "start_time": "2019-08-09T11:04:29.917924Z"
    }
   },
   "outputs": [],
   "source": [
    "ret = fp.get_file_by_query(query_dict)"
   ]
  },
  {
   "cell_type": "code",
   "execution_count": 300,
   "metadata": {
    "ExecuteTime": {
     "end_time": "2019-08-09T11:04:31.319125Z",
     "start_time": "2019-08-09T11:04:31.295639Z"
    }
   },
   "outputs": [
    {
     "data": {
      "text/plain": [
       "list"
      ]
     },
     "execution_count": 300,
     "metadata": {},
     "output_type": "execute_result"
    }
   ],
   "source": [
    "type(ret)"
   ]
  },
  {
   "cell_type": "code",
   "execution_count": 304,
   "metadata": {
    "ExecuteTime": {
     "end_time": "2019-08-09T11:21:47.437194Z",
     "start_time": "2019-08-09T11:21:47.383461Z"
    }
   },
   "outputs": [],
   "source": [
    "unique_file_names = set()"
   ]
  },
  {
   "cell_type": "code",
   "execution_count": 310,
   "metadata": {
    "ExecuteTime": {
     "end_time": "2019-08-09T11:33:21.849163Z",
     "start_time": "2019-08-09T11:33:21.790876Z"
    }
   },
   "outputs": [],
   "source": [
    "unique_file_names.add(\"test1\")"
   ]
  },
  {
   "cell_type": "code",
   "execution_count": 311,
   "metadata": {
    "ExecuteTime": {
     "end_time": "2019-08-09T11:33:22.623108Z",
     "start_time": "2019-08-09T11:33:22.601695Z"
    }
   },
   "outputs": [
    {
     "data": {
      "text/plain": [
       "True"
      ]
     },
     "execution_count": 311,
     "metadata": {},
     "output_type": "execute_result"
    }
   ],
   "source": [
    "\"test1\" in unique_file_names"
   ]
  },
  {
   "cell_type": "code",
   "execution_count": null,
   "metadata": {},
   "outputs": [],
   "source": []
  },
  {
   "cell_type": "code",
   "execution_count": 308,
   "metadata": {
    "ExecuteTime": {
     "end_time": "2019-08-09T11:22:07.738228Z",
     "start_time": "2019-08-09T11:22:07.715379Z"
    }
   },
   "outputs": [
    {
     "data": {
      "text/plain": [
       "1"
      ]
     },
     "execution_count": 308,
     "metadata": {},
     "output_type": "execute_result"
    }
   ],
   "source": [
    "len(ret)"
   ]
  },
  {
   "cell_type": "code",
   "execution_count": 296,
   "metadata": {
    "ExecuteTime": {
     "end_time": "2019-08-09T11:03:48.198888Z",
     "start_time": "2019-08-09T11:03:48.170982Z"
    }
   },
   "outputs": [
    {
     "data": {
      "text/plain": [
       "{'_id': ObjectId('5d329cdd9f9050293876cc9e'),\n",
       " 'identifier': 'AFM/AU/111/25Ang/100ns/AU/111/150Ang/cube/SDS/646/monolayer/equilibration_dpd/201907171302/thermo_ave.out',\n",
       " 'original_file_name': 'thermo_ave.out',\n",
       " 'original_file_path': '/work/ws/nemo/fr_jh1130-fw_ws_20190311-0/launchpad/launcher_2019-07-20-04-47-24-938796/thermo_ave.out',\n",
       " 'metadata': {'barostat_damping': 10000.0,\n",
       "  'ci_preassembly': 'at polar heads',\n",
       "  'compute_group_properties': 1,\n",
       "  'coulomb_cutoff': 8.0,\n",
       "  'coulomb_cutoff_unit': 'Ang',\n",
       "  'counterion': 'NA',\n",
       "  'dpd_equilibration_steps': 250000,\n",
       "  'ewald_accuracy': 0.0001,\n",
       "  'force_field': {'solution_solution': 'charmm36-jul2017',\n",
       "   'substrate_solution': 'interface_ff_1_5',\n",
       "   'substrate_substrate': 'Au-Grochola-JCP05-units-real.eam.alloy'},\n",
       "  'frozen_sb_layer_thickness': None,\n",
       "  'frozen_sb_layer_thickness_unit': None,\n",
       "  'indenter': {'crystal_plane': 111,\n",
       "   'equilibration_time_span': 50,\n",
       "   'equilibration_time_span_unit': 'ps',\n",
       "   'initial_radius': 25,\n",
       "   'initial_radius_unit': 'Ang',\n",
       "   'initial_shape': 'sphere',\n",
       "   'lammps_units': 'real',\n",
       "   'melting_final_temperature': 1800,\n",
       "   'melting_time_span': 10,\n",
       "   'melting_time_span_unit': 'ns',\n",
       "   'minimization_ftol': 1e-05,\n",
       "   'minimization_ftol_unit': 'kcal',\n",
       "   'natoms': 3873,\n",
       "   'orientation': '111 facet facing negative z',\n",
       "   'potential': 'Au-Grochola-JCP05-units-real.eam.alloy',\n",
       "   'quenching_time_span': 100,\n",
       "   'quenching_time_span_unit': 'ns',\n",
       "   'quenching_time_step': 5,\n",
       "   'quenching_time_step_unit': 'fs',\n",
       "   'substrate': 'AU',\n",
       "   'temperature': 298,\n",
       "   'temperature_unit': 'K',\n",
       "   'time_step': 2,\n",
       "   'time_step_unit': 'fs',\n",
       "   'type': 'AFM tip'},\n",
       "  'langevin_damping': 1000.0,\n",
       "  'machine': 'NEMO',\n",
       "  'minimization_ftol': 1e-06,\n",
       "  'minimization_ftol_unit': 'kcal',\n",
       "  'minimization_maxeval': 10000,\n",
       "  'minimization_maxiter': 10000,\n",
       "  'mode': 'PRODUCTION',\n",
       "  'mpiio': 1,\n",
       "  'neigh_check': 1,\n",
       "  'neigh_delay': 2,\n",
       "  'neigh_every': 1,\n",
       "  'netcdf_frequency': 1000,\n",
       "  'npt_equilibration_steps': 250000,\n",
       "  'nvt_equilibration_steps': 10000,\n",
       "  'pbc': 111,\n",
       "  'pressure': 1,\n",
       "  'pressure_unit': 'atm',\n",
       "  'restrained_sb_layer_thickness': 14.0,\n",
       "  'restrained_sb_layer_thickness_unit': 'Ang',\n",
       "  'sb_area': 2.25e-16,\n",
       "  'sb_area_unit': 'm^2',\n",
       "  'sb_base_length': 150,\n",
       "  'sb_base_length_unit': 'Ang',\n",
       "  'sb_crystal_plane': 111,\n",
       "  'sb_crystal_plane_multiples': [52, 90, 63],\n",
       "  'sb_in_dist': 30.0,\n",
       "  'sb_in_dist_unit': 'Ang',\n",
       "  'sb_lattice_constant': 4.075,\n",
       "  'sb_lattice_constant_unit': 'Ang',\n",
       "  'sb_measures': [1.49836e-08, 1.49725e-08, 1.47828e-08],\n",
       "  'sb_measures_unit': 'm',\n",
       "  'sb_multiples': [52, 30, 21],\n",
       "  'sb_name': 'AU_111_150Ang_cube',\n",
       "  'sb_natoms': 196560,\n",
       "  'sb_normal': 2,\n",
       "  'sb_shape': 'cube',\n",
       "  'sb_thickness': 1.5e-08,\n",
       "  'sb_thickness_unit': 'm',\n",
       "  'sb_volume': 3.375e-23,\n",
       "  'sb_volume_unit': 'm^3',\n",
       "  'sf_concentration': 0.0068,\n",
       "  'sf_concentration_unit': 'M',\n",
       "  'sf_nmolecules': 646,\n",
       "  'sf_preassembly': 'monolayer',\n",
       "  'skin_distance': 3.0,\n",
       "  'skin_distance_unit': 'Ang',\n",
       "  'solvent': 'H2O',\n",
       "  'state': 'minimized, nvt-, npt-, and dpd thermostat-equilibrated with eam potential after indenter inserion',\n",
       "  'step': 'equilibration_dpd',\n",
       "  'substrate': 'AU',\n",
       "  'surfactant': 'SDS',\n",
       "  'sv_density': 997,\n",
       "  'sv_density_unit': 'kg m^-3',\n",
       "  'sv_preassembly': 'random',\n",
       "  'system_name': '646_SDS_monolayer_on_AU_111_150Ang_cube_with_AU_111_r_25Ang_indenter',\n",
       "  'temperature': 298,\n",
       "  'temperature_unit': 'K',\n",
       "  'thermo_average_frequency': 1000,\n",
       "  'thermo_frequency': 1000,\n",
       "  'type': 'AFM',\n",
       "  'use_barostat': 0,\n",
       "  'use_dpd_tstat': 1,\n",
       "  'use_eam': 1,\n",
       "  'use_ewald': 1,\n",
       "  'workflow_creation_date': '2019-07-17-13:02'},\n",
       " 'compressed': True,\n",
       " 'gfs_id': '5d329cdd9f9050293876cc9c'}"
      ]
     },
     "execution_count": 296,
     "metadata": {},
     "output_type": "execute_result"
    }
   ],
   "source": [
    "ret[0][1]"
   ]
  },
  {
   "cell_type": "code",
   "execution_count": 312,
   "metadata": {
    "ExecuteTime": {
     "end_time": "2019-08-09T20:15:45.156680Z",
     "start_time": "2019-08-09T20:15:45.129931Z"
    }
   },
   "outputs": [],
   "source": [
    "test_dict= {\n",
    "    \"this->is->sample->key\": { \n",
    "        \"another\": \"sample\",\n",
    "        \"another->nested\": \"sample\" } }"
   ]
  },
  {
   "cell_type": "code",
   "execution_count": 313,
   "metadata": {
    "ExecuteTime": {
     "end_time": "2019-08-09T20:15:45.685149Z",
     "start_time": "2019-08-09T20:15:45.664603Z"
    }
   },
   "outputs": [
    {
     "data": {
      "text/plain": [
       "{'this->is->sample->key': {'another': 'sample', 'another->nested': 'sample'}}"
      ]
     },
     "execution_count": 313,
     "metadata": {},
     "output_type": "execute_result"
    }
   ],
   "source": [
    "test_dict"
   ]
  },
  {
   "cell_type": "code",
   "execution_count": 314,
   "metadata": {
    "ExecuteTime": {
     "end_time": "2019-08-09T20:16:01.117655Z",
     "start_time": "2019-08-09T20:16:01.088591Z"
    }
   },
   "outputs": [
    {
     "data": {
      "text/plain": [
       "'{\"this->is->sample->key\": {\"another\": \"sample\", \"another->nested\": \"sample\"}}'"
      ]
     },
     "execution_count": 314,
     "metadata": {},
     "output_type": "execute_result"
    }
   ],
   "source": [
    "json.dumps(test_dict)"
   ]
  },
  {
   "cell_type": "code",
   "execution_count": 288,
   "metadata": {
    "ExecuteTime": {
     "end_time": "2019-08-08T16:52:43.773574Z",
     "start_time": "2019-08-08T16:52:43.745430Z"
    }
   },
   "outputs": [
    {
     "data": {
      "text/plain": [
       "'this.is.sample.key'"
      ]
     },
     "execution_count": 288,
     "metadata": {},
     "output_type": "execute_result"
    }
   ],
   "source": [
    "list(test_dict.keys())[0].replace('->','.')"
   ]
  },
  {
   "cell_type": "code",
   "execution_count": 281,
   "metadata": {
    "ExecuteTime": {
     "end_time": "2019-08-08T16:41:31.952061Z",
     "start_time": "2019-08-08T16:41:31.908319Z"
    }
   },
   "outputs": [
    {
     "data": {
      "text/plain": [
       "True"
      ]
     },
     "execution_count": 281,
     "metadata": {},
     "output_type": "execute_result"
    }
   ],
   "source": [
    "isinstance(query_dict, dict)"
   ]
  },
  {
   "cell_type": "code",
   "execution_count": 252,
   "metadata": {
    "ExecuteTime": {
     "end_time": "2019-08-08T13:42:36.146523Z",
     "start_time": "2019-08-08T13:42:35.758351Z"
    }
   },
   "outputs": [
    {
     "data": {
      "text/plain": [
       "5"
      ]
     },
     "execution_count": 252,
     "metadata": {},
     "output_type": "execute_result"
    }
   ],
   "source": [
    "len(ret)"
   ]
  },
  {
   "cell_type": "code",
   "execution_count": 260,
   "metadata": {
    "ExecuteTime": {
     "end_time": "2019-08-08T13:43:30.963301Z",
     "start_time": "2019-08-08T13:43:30.928975Z"
    }
   },
   "outputs": [
    {
     "data": {
      "text/plain": [
       "{'_id': ObjectId('5d329ce59f9050293876cd89'),\n",
       " 'identifier': 'AFM/AU/111/25Ang/100ns/AU/111/150Ang/cube/SDS/646/monolayer/equilibration_dpd/201907171302/log.lammps',\n",
       " 'original_file_name': 'log.lammps',\n",
       " 'original_file_path': '/work/ws/nemo/fr_jh1130-fw_ws_20190311-0/launchpad/launcher_2019-07-20-04-47-24-938796/log.lammps',\n",
       " 'metadata': {'barostat_damping': 10000.0,\n",
       "  'ci_preassembly': 'at polar heads',\n",
       "  'compute_group_properties': 1,\n",
       "  'coulomb_cutoff': 8.0,\n",
       "  'coulomb_cutoff_unit': 'Ang',\n",
       "  'counterion': 'NA',\n",
       "  'dpd_equilibration_steps': 250000,\n",
       "  'ewald_accuracy': 0.0001,\n",
       "  'force_field': {'solution_solution': 'charmm36-jul2017',\n",
       "   'substrate_solution': 'interface_ff_1_5',\n",
       "   'substrate_substrate': 'Au-Grochola-JCP05-units-real.eam.alloy'},\n",
       "  'frozen_sb_layer_thickness': None,\n",
       "  'frozen_sb_layer_thickness_unit': None,\n",
       "  'indenter': {'crystal_plane': 111,\n",
       "   'equilibration_time_span': 50,\n",
       "   'equilibration_time_span_unit': 'ps',\n",
       "   'initial_radius': 25,\n",
       "   'initial_radius_unit': 'Ang',\n",
       "   'initial_shape': 'sphere',\n",
       "   'lammps_units': 'real',\n",
       "   'melting_final_temperature': 1800,\n",
       "   'melting_time_span': 10,\n",
       "   'melting_time_span_unit': 'ns',\n",
       "   'minimization_ftol': 1e-05,\n",
       "   'minimization_ftol_unit': 'kcal',\n",
       "   'natoms': 3873,\n",
       "   'orientation': '111 facet facing negative z',\n",
       "   'potential': 'Au-Grochola-JCP05-units-real.eam.alloy',\n",
       "   'quenching_time_span': 100,\n",
       "   'quenching_time_span_unit': 'ns',\n",
       "   'quenching_time_step': 5,\n",
       "   'quenching_time_step_unit': 'fs',\n",
       "   'substrate': 'AU',\n",
       "   'temperature': 298,\n",
       "   'temperature_unit': 'K',\n",
       "   'time_step': 2,\n",
       "   'time_step_unit': 'fs',\n",
       "   'type': 'AFM tip'},\n",
       "  'langevin_damping': 1000.0,\n",
       "  'machine': 'NEMO',\n",
       "  'minimization_ftol': 1e-06,\n",
       "  'minimization_ftol_unit': 'kcal',\n",
       "  'minimization_maxeval': 10000,\n",
       "  'minimization_maxiter': 10000,\n",
       "  'mode': 'PRODUCTION',\n",
       "  'mpiio': 1,\n",
       "  'neigh_check': 1,\n",
       "  'neigh_delay': 2,\n",
       "  'neigh_every': 1,\n",
       "  'netcdf_frequency': 1000,\n",
       "  'npt_equilibration_steps': 250000,\n",
       "  'nvt_equilibration_steps': 10000,\n",
       "  'pbc': 111,\n",
       "  'pressure': 1,\n",
       "  'pressure_unit': 'atm',\n",
       "  'restrained_sb_layer_thickness': 14.0,\n",
       "  'restrained_sb_layer_thickness_unit': 'Ang',\n",
       "  'sb_area': 2.25e-16,\n",
       "  'sb_area_unit': 'm^2',\n",
       "  'sb_base_length': 150,\n",
       "  'sb_base_length_unit': 'Ang',\n",
       "  'sb_crystal_plane': 111,\n",
       "  'sb_crystal_plane_multiples': [52, 90, 63],\n",
       "  'sb_in_dist': 30.0,\n",
       "  'sb_in_dist_unit': 'Ang',\n",
       "  'sb_lattice_constant': 4.075,\n",
       "  'sb_lattice_constant_unit': 'Ang',\n",
       "  'sb_measures': [1.49836e-08, 1.49725e-08, 1.47828e-08],\n",
       "  'sb_measures_unit': 'm',\n",
       "  'sb_multiples': [52, 30, 21],\n",
       "  'sb_name': 'AU_111_150Ang_cube',\n",
       "  'sb_natoms': 196560,\n",
       "  'sb_normal': 2,\n",
       "  'sb_shape': 'cube',\n",
       "  'sb_thickness': 1.5e-08,\n",
       "  'sb_thickness_unit': 'm',\n",
       "  'sb_volume': 3.375e-23,\n",
       "  'sb_volume_unit': 'm^3',\n",
       "  'sf_concentration': 0.0068,\n",
       "  'sf_concentration_unit': 'M',\n",
       "  'sf_nmolecules': 646,\n",
       "  'sf_preassembly': 'monolayer',\n",
       "  'skin_distance': 3.0,\n",
       "  'skin_distance_unit': 'Ang',\n",
       "  'solvent': 'H2O',\n",
       "  'state': 'minimized, nvt-, npt-, and dpd thermostat-equilibrated with eam potential after indenter inserion',\n",
       "  'step': 'equilibration_dpd',\n",
       "  'substrate': 'AU',\n",
       "  'surfactant': 'SDS',\n",
       "  'sv_density': 997,\n",
       "  'sv_density_unit': 'kg m^-3',\n",
       "  'sv_preassembly': 'random',\n",
       "  'system_name': '646_SDS_monolayer_on_AU_111_150Ang_cube_with_AU_111_r_25Ang_indenter',\n",
       "  'temperature': 298,\n",
       "  'temperature_unit': 'K',\n",
       "  'thermo_average_frequency': 1000,\n",
       "  'thermo_frequency': 1000,\n",
       "  'type': 'AFM',\n",
       "  'use_barostat': 0,\n",
       "  'use_dpd_tstat': 1,\n",
       "  'use_eam': 1,\n",
       "  'use_ewald': 1,\n",
       "  'workflow_creation_date': '2019-07-17-13:02'},\n",
       " 'compressed': True,\n",
       " 'gfs_id': '5d329ce59f9050293876cd87'}"
      ]
     },
     "execution_count": 260,
     "metadata": {},
     "output_type": "execute_result"
    }
   ],
   "source": [
    "ret[3][1]"
   ]
  },
  {
   "cell_type": "code",
   "execution_count": null,
   "metadata": {
    "ExecuteTime": {
     "start_time": "2019-08-26T22:58:15.668Z"
    }
   },
   "outputs": [],
   "source": [
    "ret = fp.get_file_by_query(query)"
   ]
  },
  {
   "cell_type": "code",
   "execution_count": 315,
   "metadata": {
    "ExecuteTime": {
     "end_time": "2019-08-10T11:22:26.536101Z",
     "start_time": "2019-08-10T11:22:26.047358Z"
    }
   },
   "outputs": [
    {
     "name": "stdout",
     "output_type": "stream",
     "text": [
      "{\"metadata.counterion\": \"BR\", \"metadata.sb_base_length\": 184, \"metadata.sb_crystal_plane\": 111, \"metadata.sb_shape\": \"cube\", \"metadata.sf_nmolecules\": 653, \"metadata.sf_preassembly\": \"cylinders\", \"metadata.solvent\": \"H2O\", \"metadata.step\": \"initial_config\", \"metadata.substrate\": \"AU\", \"metadata.surfactant\": \"CTAB\", \"metadata.type\": \"interface\"}\n"
     ]
    }
   ],
   "source": [
    "print(\"{\\\"metadata.counterion\\\": \\\"BR\\\", \\\"metadata.sb_base_length\\\": 184, \\\"metadata.sb_crystal_plane\\\": 111, \\\"metadata.sb_shape\\\": \\\"cube\\\", \\\"metadata.sf_nmolecules\\\": 653, \\\"metadata.sf_preassembly\\\": \\\"cylinders\\\", \\\"metadata.solvent\\\": \\\"H2O\\\", \\\"metadata.step\\\": \\\"initial_config\\\", \\\"metadata.substrate\\\": \\\"AU\\\", \\\"metadata.surfactant\\\": \\\"CTAB\\\", \\\"metadata.type\\\": \\\"interface\\\"}\")"
   ]
  },
  {
   "cell_type": "code",
   "execution_count": null,
   "metadata": {},
   "outputs": [],
   "source": []
  }
 ],
 "metadata": {
  "hide_input": false,
  "kernelspec": {
   "display_name": "Python 3 (jlh-bwCloud)",
   "language": "python",
   "name": "python3-jlh-bwcloud"
  },
  "language_info": {
   "codemirror_mode": {
    "name": "ipython",
    "version": 3
   },
   "file_extension": ".py",
   "mimetype": "text/x-python",
   "name": "python",
   "nbconvert_exporter": "python",
   "pygments_lexer": "ipython3",
   "version": "3.6.8"
  },
  "latex_envs": {
   "LaTeX_envs_menu_present": true,
   "autoclose": false,
   "autocomplete": true,
   "bibliofile": "biblio.bib",
   "cite_by": "apalike",
   "current_citInitial": 1,
   "eqLabelWithNumbers": true,
   "eqNumInitial": 1,
   "hotkeys": {
    "equation": "Ctrl-E",
    "itemize": "Ctrl-I"
   },
   "labels_anchors": false,
   "latex_user_defs": false,
   "report_style_numbering": false,
   "user_envs_cfg": false
  },
  "toc": {
   "base_numbering": 1,
   "nav_menu": {},
   "number_sections": true,
   "sideBar": true,
   "skip_h1_title": false,
   "title_cell": "Table of Contents",
   "title_sidebar": "Contents",
   "toc_cell": false,
   "toc_position": {},
   "toc_section_display": true,
   "toc_window_display": false
  },
  "varInspector": {
   "cols": {
    "lenName": 16,
    "lenType": 16,
    "lenVar": 40
   },
   "kernels_config": {
    "python": {
     "delete_cmd_postfix": "",
     "delete_cmd_prefix": "del ",
     "library": "var_list.py",
     "varRefreshCmd": "print(var_dic_list())"
    },
    "r": {
     "delete_cmd_postfix": ") ",
     "delete_cmd_prefix": "rm(",
     "library": "var_list.r",
     "varRefreshCmd": "cat(var_dic_list()) "
    }
   },
   "types_to_exclude": [
    "module",
    "function",
    "builtin_function_or_method",
    "instance",
    "_Feature"
   ],
   "window_display": false
  }
 },
 "nbformat": 4,
 "nbformat_minor": 2
}
