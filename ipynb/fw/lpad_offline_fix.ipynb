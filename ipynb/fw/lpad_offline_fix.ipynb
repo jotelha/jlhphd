{
 "cells": [
  {
   "cell_type": "markdown",
   "metadata": {},
   "source": [
    "# Fix offline run\n",
    "After the command `lpad detect_offline --fizzle`, fizzled FireWorks are "
   ]
  },
  {
   "cell_type": "code",
   "execution_count": 19,
   "metadata": {},
   "outputs": [
    {
     "name": "stdout",
     "output_type": "stream",
     "text": [
      "The autoreload extension is already loaded. To reload it, use:\n",
      "  %reload_ext autoreload\n"
     ]
    }
   ],
   "source": [
    "%load_ext autoreload\n",
    "%autoreload 2\n",
    "%config Application.log_level=\"WARN\""
   ]
  },
  {
   "cell_type": "code",
   "execution_count": 20,
   "metadata": {},
   "outputs": [],
   "source": [
    "from fireworks import LaunchPad"
   ]
  },
  {
   "cell_type": "code",
   "execution_count": 21,
   "metadata": {},
   "outputs": [],
   "source": [
    "lp = LaunchPad( host='localhost',\n",
    "           port=27018,\n",
    "           name='fireworks-jhoermann',\n",
    "           username='fireworks',\n",
    "           password='fireworks' )"
   ]
  },
  {
   "cell_type": "code",
   "execution_count": 34,
   "metadata": {},
   "outputs": [],
   "source": [
    "exp_time = 1 # 24*60*60"
   ]
  },
  {
   "cell_type": "code",
   "execution_count": 23,
   "metadata": {},
   "outputs": [],
   "source": [
    "min_runtime = 2*24*60*60 # 4 days"
   ]
  },
  {
   "cell_type": "code",
   "execution_count": 41,
   "metadata": {},
   "outputs": [],
   "source": [
    "min_runtime = 24*60*60 # 4 days"
   ]
  },
  {
   "cell_type": "code",
   "execution_count": 46,
   "metadata": {},
   "outputs": [],
   "source": [
    "min_runtime = 10000"
   ]
  },
  {
   "cell_type": "code",
   "execution_count": 51,
   "metadata": {},
   "outputs": [
    {
     "data": {
      "text/plain": [
       "([], [], [])"
      ]
     },
     "execution_count": 51,
     "metadata": {},
     "output_type": "execute_result"
    }
   ],
   "source": [
    "lp.detect_lostruns(expiration_secs=1, min_runtime = 1, query={'_category':'nemo_queue_offline'})"
   ]
  },
  {
   "cell_type": "code",
   "execution_count": 52,
   "metadata": {},
   "outputs": [
    {
     "data": {
      "text/plain": [
       "([], [], [])"
      ]
     },
     "execution_count": 52,
     "metadata": {},
     "output_type": "execute_result"
    }
   ],
   "source": [
    "lp.detect_lostruns(query={'_category':'nemo_queue_offline'})"
   ]
  },
  {
   "cell_type": "code",
   "execution_count": 53,
   "metadata": {},
   "outputs": [],
   "source": [
    "# um einen hartnäckigen Offline-Run zu entschärfen\n",
    "lp.forget_offline(12256,launch_mode=False)"
   ]
  },
  {
   "cell_type": "code",
   "execution_count": 16,
   "metadata": {},
   "outputs": [],
   "source": [
    "lp.cancel_reservation(8548)"
   ]
  },
  {
   "cell_type": "code",
   "execution_count": 10,
   "metadata": {},
   "outputs": [
    {
     "data": {
      "text/plain": [
       "{'action': {'additions': [],\n",
       "  'defuse_children': False,\n",
       "  'defuse_workflow': False,\n",
       "  'detours': [],\n",
       "  'exit': False,\n",
       "  'mod_spec': [{'_set': {'_files_prev->indenter_forces': '/work/ws/nemo/fr_jh1130-fw_ws_20190225-0/launchpad/launcher_2019-03-18-05-12-31-039184/indenter_z_forces.txt'}},\n",
       "   {'_set': {'_files_prev->nonindenter_forces': '/work/ws/nemo/fr_jh1130-fw_ws_20190225-0/launchpad/launcher_2019-03-18-05-12-31-039184/nonindenter_z_forces.txt'}}],\n",
       "  'stored_data': {'all_returncodes': [0], 'returncode': 0},\n",
       "  'update_spec': {}},\n",
       " 'fw_id': 11661,\n",
       " 'fworker': {'category': ['nemo_noqueue'],\n",
       "  'env': {'extract_indenter_nonindenter_forces_from_netcdf.py': 'module purge; module use /work/ws/nemo/fr_lp1029-IMTEK_SIMULATION-0/modulefiles; module load mdtools/12Mar19; extract_indenter_nonindenter_forces_from_netcdf.py',\n",
       "   'extract_thermo.sh': 'module purge; module use /work/ws/nemo/fr_lp1029-IMTEK_SIMULATION-0/modulefiles; module load mdtools/12Mar19; extract_thermo.sh',\n",
       "   'join_thermo.py': 'module purge; module use /work/ws/nemo/fr_lp1029-IMTEK_SIMULATION-0/modulefiles; module load mdtools/12Mar19; join_thermo.py',\n",
       "   'lmp': 'module purge; module use /work/ws/nemo/fr_lp1029-IMTEK_SIMULATION-0/modulefiles; module load lammps/16Mar18-gnu-7.3-openmpi-3.1-colvars-09Feb19; lmp',\n",
       "   'ncjoin.py': 'module purge; module use /work/ws/nemo/fr_lp1029-IMTEK_SIMULATION-0/modulefiles; module load mdtools/12Mar19; ncjoin.py',\n",
       "   'pizza.py': 'module purge; module use /work/ws/nemo/fr_lp1029-IMTEK_SIMULATION-0/modulefiles; module load mdtools/12Mar19-python-2.7; pizza.py',\n",
       "   'smbsync.py': 'module purge; module use /work/ws/nemo/fr_lp1029-IMTEK_SIMULATION-0/modulefiles; module load mdtools/12Mar19; smbsync.py'},\n",
       "  'name': 'nemo_noqueue_worker',\n",
       "  'query': '{}'},\n",
       " 'host': 'login1.nemo.privat',\n",
       " 'ip': '10.16.44.1',\n",
       " 'launch_dir': '/work/ws/nemo/fr_jh1130-fw_ws_20190225-0/launchpad/launcher_2019-03-18-05-12-31-039184',\n",
       " 'launch_id': 8313,\n",
       " 'state': 'COMPLETED',\n",
       " 'state_history': [{'created_on': '2019-03-18T05:12:31.051900',\n",
       "   'state': 'RUNNING',\n",
       "   'updated_on': '2019-03-18T06:21:35.006748'},\n",
       "  {'created_on': '2019-03-18T06:21:35.014409', 'state': 'COMPLETED'}],\n",
       " 'trackers': []}"
      ]
     },
     "execution_count": 10,
     "metadata": {},
     "output_type": "execute_result"
    }
   ],
   "source": [
    "lp.complete_launcah(8313)"
   ]
  },
  {
   "cell_type": "code",
   "execution_count": 11,
   "metadata": {},
   "outputs": [],
   "source": [
    "leaf_fw = lp.get_fw_by_id(11661)"
   ]
  },
  {
   "cell_type": "code",
   "execution_count": 14,
   "metadata": {},
   "outputs": [],
   "source": [
    "leaf_fw.state = 'COMPLETED'"
   ]
  },
  {
   "cell_type": "code",
   "execution_count": 15,
   "metadata": {},
   "outputs": [
    {
     "data": {
      "text/plain": [
       "{\"spec\": {\"_category\": \"nemo_noqueue\", \"_allow_fizzled_parents\": true, \"_files_in\": {\"joint_traj_file\": \"default.nc\", \"joint_thermo_file\": \"thermo.out\", \"joint_ave_file\": \"thermo_ave.out\"}, \"_files_out\": {\"indenter_forces\": \"indenter_z_forces.txt\", \"nonindenter_forces\": \"nonindenter_z_forces.txt\"}, \"_tasks\": [{\"_fw_name\": \"CmdTask\", \"cmd\": \"extract_indenter_nonindenter_forces_from_netcdf.py\", \"opt\": [\"--element Au\", \"--dim 2\", \"--plane 20.0\", \"--netcdf-output-interval 10000\", \"--output-formats txt\", \"--verbose\", \"default.nc\", \"indenter_z_forces\", \"nonindenter_z_forces\"], \"stderr_file\": \"std.err\", \"stdout_file\": \"std.out\", \"fizzle_bad_rc\": true, \"use_shell\": true}], \"_files_prev\": {\"traj_file\": \"/work/ws/nemo/fr_jh1130-fw_ws_20190225-0/launchpad/launcher_2019-03-18-04-48-51-813907/default.nc\", \"log_file\": \"/work/ws/nemo/fr_jh1130-fw_ws_20190225-0/launchpad/launcher_2019-03-15-14-32-18-126400/log.lammps\", \"ave_file\": \"/work/ws/nemo/fr_jh1130-fw_ws_20190225-0/launchpad/launcher_2019-03-18-04-48-51-813907/thermo_ave.out\", \"restart_file\": \"/work/ws/nemo/fr_jh1130-fw_ws_20190225-0/launchpad/launcher_2019-03-15-14-32-18-126400/default.mpiio.restart\", \"input_file_1\": \"/work/ws/nemo/fr_jh1130-fw_ws_20190225-0/launchpad/launcher_2019-03-15-14-32-18-126400/lmp_header.input\", \"input_file_2\": \"/work/ws/nemo/fr_jh1130-fw_ws_20190225-0/launchpad/launcher_2019-03-15-14-32-18-126400/lmp_production.input\", \"input_file_3\": \"/work/ws/nemo/fr_jh1130-fw_ws_20190225-0/launchpad/launcher_2019-03-15-14-32-18-126400/lmp_production_mixed.input\", \"data_file\": \"/work/ws/nemo/fr_jh1130-fw_ws_20190225-0/launchpad/launcher_2019-03-18-04-48-51-813907/default.lammps\", \"joint_traj_file\": \"/work/ws/nemo/fr_jh1130-fw_ws_20190225-0/launchpad/launcher_2019-03-18-04-51-35-920968/default.nc\", \"joint_thermo_file\": \"/work/ws/nemo/fr_jh1130-fw_ws_20190225-0/launchpad/launcher_2019-03-18-04-48-51-813907/joint.thermo.out\", \"joint_ave_file\": \"/work/ws/nemo/fr_jh1130-fw_ws_20190225-0/launchpad/launcher_2019-03-18-04-51-35-920968/thermo_ave.out\"}}, \"fw_id\": 11661, \"created_on\": \"2019-03-13T21:42:58.485068\", \"updated_on\": \"2019-03-18T12:06:54.591874\", \"archived_launches\": [{\"fworker\": {\"name\": \"nemo_noqueue_worker\", \"category\": [\"nemo_noqueue\"], \"query\": \"{}\", \"env\": {\"lmp\": \"module purge; module use /work/ws/nemo/fr_lp1029-IMTEK_SIMULATION-0/modulefiles; module load lammps/16Mar18-gnu-7.3-openmpi-3.1-colvars-09Feb19; lmp\", \"extract_thermo.sh\": \"module purge; module use /work/ws/nemo/fr_lp1029-IMTEK_SIMULATION-0/modulefiles; module load mdtools/12Mar19; extract_thermo.sh\", \"join_thermo.py\": \"module purge; module use /work/ws/nemo/fr_lp1029-IMTEK_SIMULATION-0/modulefiles; module load mdtools/12Mar19; join_thermo.py\", \"ncjoin.py\": \"module purge; module use /work/ws/nemo/fr_lp1029-IMTEK_SIMULATION-0/modulefiles; module load mdtools/12Mar19; ncjoin.py\", \"extract_indenter_nonindenter_forces_from_netcdf.py\": \"module purge; module use /work/ws/nemo/fr_lp1029-IMTEK_SIMULATION-0/modulefiles; module load mdtools/12Mar19; extract_indenter_nonindenter_forces_from_netcdf.py\", \"pizza.py\": \"module purge; module use /work/ws/nemo/fr_lp1029-IMTEK_SIMULATION-0/modulefiles; module load mdtools/12Mar19-python-2.7; pizza.py\", \"smbsync.py\": \"module purge; module use /work/ws/nemo/fr_lp1029-IMTEK_SIMULATION-0/modulefiles; module load mdtools/12Mar19; smbsync.py\"}}, \"fw_id\": 11661, \"launch_dir\": \"/work/ws/nemo/fr_jh1130-fw_ws_20190225-0/launchpad/launcher_2019-03-18-05-12-31-039184\", \"host\": \"login1.nemo.privat\", \"ip\": \"10.16.44.1\", \"trackers\": [], \"action\": {\"stored_data\": {\"returncode\": 0, \"all_returncodes\": [0]}, \"exit\": false, \"update_spec\": {}, \"mod_spec\": [{\"_set\": {\"_files_prev->indenter_forces\": \"/work/ws/nemo/fr_jh1130-fw_ws_20190225-0/launchpad/launcher_2019-03-18-05-12-31-039184/indenter_z_forces.txt\"}}, {\"_set\": {\"_files_prev->nonindenter_forces\": \"/work/ws/nemo/fr_jh1130-fw_ws_20190225-0/launchpad/launcher_2019-03-18-05-12-31-039184/nonindenter_z_forces.txt\"}}], \"additions\": [], \"detours\": [], \"defuse_children\": false, \"defuse_workflow\": false}, \"state\": \"COMPLETED\", \"state_history\": [{\"state\": \"RUNNING\", \"created_on\": \"2019-03-18T05:12:31.051900\", \"updated_on\": \"2019-03-18T06:21:35.006748\"}, {\"state\": \"COMPLETED\", \"created_on\": \"2019-03-18T06:21:35.014409\"}], \"launch_id\": 8313}], \"state\": \"COMPLETED\", \"name\": \"Extract forces from NetCDF\"}"
      ]
     },
     "execution_count": 15,
     "metadata": {},
     "output_type": "execute_result"
    }
   ],
   "source": [
    "leaf_fw"
   ]
  },
  {
   "cell_type": "code",
   "execution_count": null,
   "metadata": {},
   "outputs": [],
   "source": []
  }
 ],
 "metadata": {
  "kernelspec": {
   "display_name": "Python 3 (jlh-bwCloud)",
   "language": "python",
   "name": "python3-jlh-bwcloud"
  },
  "language_info": {
   "codemirror_mode": {
    "name": "ipython",
    "version": 3
   },
   "file_extension": ".py",
   "mimetype": "text/x-python",
   "name": "python",
   "nbconvert_exporter": "python",
   "pygments_lexer": "ipython3",
   "version": "3.6.7"
  }
 },
 "nbformat": 4,
 "nbformat_minor": 2
}
