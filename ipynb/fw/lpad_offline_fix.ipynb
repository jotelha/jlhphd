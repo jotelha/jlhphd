{
 "cells": [
  {
   "cell_type": "markdown",
   "metadata": {},
   "source": [
    "# Fix offline run\n",
    "After the command `lpad detect_offline --fizzle`, fizzled FireWorks are "
   ]
  },
  {
   "cell_type": "code",
   "execution_count": 1,
   "metadata": {
    "ExecuteTime": {
     "end_time": "2019-06-25T09:00:41.521073Z",
     "start_time": "2019-06-25T09:00:41.494036Z"
    }
   },
   "outputs": [],
   "source": [
    "%load_ext autoreload\n",
    "%autoreload 2\n",
    "%config Application.log_level=\"WARN\""
   ]
  },
  {
   "cell_type": "code",
   "execution_count": 18,
   "metadata": {
    "ExecuteTime": {
     "end_time": "2019-06-25T09:10:52.664247Z",
     "start_time": "2019-06-25T09:10:52.641872Z"
    }
   },
   "outputs": [],
   "source": [
    "from pprint import pprint"
   ]
  },
  {
   "cell_type": "code",
   "execution_count": 2,
   "metadata": {
    "ExecuteTime": {
     "end_time": "2019-06-25T09:00:42.409103Z",
     "start_time": "2019-06-25T09:00:42.285975Z"
    }
   },
   "outputs": [],
   "source": [
    "from fireworks import LaunchPad"
   ]
  },
  {
   "cell_type": "code",
   "execution_count": 3,
   "metadata": {
    "ExecuteTime": {
     "end_time": "2019-06-25T09:00:43.526666Z",
     "start_time": "2019-06-25T09:00:43.499311Z"
    }
   },
   "outputs": [],
   "source": [
    "lp = LaunchPad( host='localhost',\n",
    "           port=27018,\n",
    "           name='fireworks-jhoermann',\n",
    "           username='fireworks',\n",
    "           password='fireworks' )"
   ]
  },
  {
   "cell_type": "code",
   "execution_count": 5,
   "metadata": {
    "ExecuteTime": {
     "end_time": "2019-05-31T12:54:05.641923Z",
     "start_time": "2019-05-31T12:54:05.619593Z"
    }
   },
   "outputs": [],
   "source": [
    "min_runtime = 2*24*60*60 # 4 days"
   ]
  },
  {
   "cell_type": "code",
   "execution_count": 6,
   "metadata": {
    "ExecuteTime": {
     "end_time": "2019-05-31T12:54:06.021697Z",
     "start_time": "2019-05-31T12:54:05.999309Z"
    }
   },
   "outputs": [],
   "source": [
    "min_runtime = 24*60*60 # 4 days"
   ]
  },
  {
   "cell_type": "code",
   "execution_count": 7,
   "metadata": {
    "ExecuteTime": {
     "end_time": "2019-05-31T12:54:06.411367Z",
     "start_time": "2019-05-31T12:54:06.390721Z"
    }
   },
   "outputs": [],
   "source": [
    "min_runtime = 10000"
   ]
  },
  {
   "cell_type": "code",
   "execution_count": 26,
   "metadata": {
    "ExecuteTime": {
     "end_time": "2019-06-25T09:14:48.428569Z",
     "start_time": "2019-06-25T09:14:48.402364Z"
    }
   },
   "outputs": [],
   "source": [
    "exp_time = 1 # 24*60*60"
   ]
  },
  {
   "cell_type": "code",
   "execution_count": 27,
   "metadata": {
    "ExecuteTime": {
     "end_time": "2019-06-25T09:14:48.549221Z",
     "start_time": "2019-06-25T09:14:48.533294Z"
    }
   },
   "outputs": [],
   "source": [
    "min_runtime = 1"
   ]
  },
  {
   "cell_type": "code",
   "execution_count": 37,
   "metadata": {
    "ExecuteTime": {
     "end_time": "2019-06-25T09:18:09.108562Z",
     "start_time": "2019-06-25T09:18:09.060699Z"
    }
   },
   "outputs": [
    {
     "name": "stdout",
     "output_type": "stream",
     "text": [
      "lost launch ids:            [10709]\n",
      "lost fireworks ids:         []\n",
      "inconsistent fireworks ids: []\n"
     ]
    }
   ],
   "source": [
    "lids, fwids, iids = lp.detect_lostruns(\n",
    "    expiration_secs = exp_time, \n",
    "    min_runtime = min_runtime, \n",
    "    query = {\n",
    "        'spec._category':'nemo_queue_offline' })\n",
    "# returns tuple of list of lost launch ids, lost firework ids \n",
    "# and inconsistent firework ids.\n",
    "print(\"lost launch ids:            {}\".format(lids))\n",
    "print(\"lost fireworks ids:         {}\".format(fwids))\n",
    "print(\"inconsistent fireworks ids: {}\".format(iids))"
   ]
  },
  {
   "cell_type": "code",
   "execution_count": 34,
   "metadata": {
    "ExecuteTime": {
     "end_time": "2019-06-25T09:17:57.057354Z",
     "start_time": "2019-06-25T09:17:57.031589Z"
    }
   },
   "outputs": [],
   "source": [
    "# select fireworks to mark as fizzled:\n",
    "fwid = fwids[0]"
   ]
  },
  {
   "cell_type": "code",
   "execution_count": 35,
   "metadata": {
    "ExecuteTime": {
     "end_time": "2019-06-25T09:17:59.281240Z",
     "start_time": "2019-06-25T09:17:59.258041Z"
    }
   },
   "outputs": [
    {
     "data": {
      "text/plain": [
       "14224"
      ]
     },
     "execution_count": 35,
     "metadata": {},
     "output_type": "execute_result"
    }
   ],
   "source": [
    "fwid"
   ]
  },
  {
   "cell_type": "code",
   "execution_count": 36,
   "metadata": {
    "ExecuteTime": {
     "end_time": "2019-06-25T09:18:04.444585Z",
     "start_time": "2019-06-25T09:18:04.318386Z"
    }
   },
   "outputs": [
    {
     "name": "stdout",
     "output_type": "stream",
     "text": [
      "lost launch ids:            [10749]\n",
      "lost fireworks ids:         [14224]\n",
      "inconsistent fireworks ids: []\n"
     ]
    }
   ],
   "source": [
    "selected_lids, selected_fwids, selected_iids = lp.detect_lostruns(\n",
    "    expiration_secs = exp_time, \n",
    "    min_runtime = min_runtime, \n",
    "    fizzle = True,\n",
    "    query = {\n",
    "        'fw_id': fwid } )\n",
    "print(\"lost launch ids:            {}\".format(selected_lids))\n",
    "print(\"lost fireworks ids:         {}\".format(selected_fwids))\n",
    "print(\"inconsistent fireworks ids: {}\".format(selected_iids))\n",
    "\n",
    "# um einen hartnäckigen Offline-Run zu entschärfen\n",
    "lp.forget_offline(fwid,launch_mode=False)"
   ]
  },
  {
   "cell_type": "code",
   "execution_count": null,
   "metadata": {},
   "outputs": [],
   "source": [
    "# use \n",
    "# lpad detect_lostruns --time 10 --query \"{'spec._category':'nemo_queue_offline'}\""
   ]
  },
  {
   "cell_type": "code",
   "execution_count": 29,
   "metadata": {
    "ExecuteTime": {
     "end_time": "2019-06-13T11:53:15.844560Z",
     "start_time": "2019-06-13T11:53:15.818388Z"
    }
   },
   "outputs": [],
   "source": [
    "# um einen hartnäckigen Offline-Run zu entschärfen\n",
    "lp.forget_offline(14224,launch_mode=False)"
   ]
  },
  {
   "cell_type": "code",
   "execution_count": 23,
   "metadata": {
    "ExecuteTime": {
     "end_time": "2019-06-25T09:11:27.814316Z",
     "start_time": "2019-06-25T09:11:27.771540Z"
    }
   },
   "outputs": [
    {
     "name": "stdout",
     "output_type": "stream",
     "text": [
      "{'action': None,\n",
      " 'fw_id': 14203,\n",
      " 'fworker': {'category': ['nemo_queue_offline'],\n",
      "             'env': {'exchange_substrate.py': 'module purge; module use '\n",
      "                                              '/work/ws/nemo/fr_lp1029-IMTEK_SIMULATION-0/modulefiles; '\n",
      "                                              'module load mdtools ovitos; '\n",
      "                                              'exchange_substrate.py',\n",
      "                     'extract_bb.py': 'module purge; module use '\n",
      "                                      '/work/ws/nemo/fr_lp1029-IMTEK_SIMULATION-0/modulefiles; '\n",
      "                                      'module load mdtools/12Mar19-python-2.7; '\n",
      "                                      'extract_bb.py',\n",
      "                     'extract_indenter_nonindenter_forces_from_netcdf.py': 'module '\n",
      "                                                                           'purge; '\n",
      "                                                                           'module '\n",
      "                                                                           'use '\n",
      "                                                                           '/work/ws/nemo/fr_lp1029-IMTEK_SIMULATION-0/modulefiles; '\n",
      "                                                                           'module '\n",
      "                                                                           'load '\n",
      "                                                                           'mdtools; '\n",
      "                                                                           'extract_indenter_nonindenter_forces_from_netcdf.py',\n",
      "                     'extract_property.py': 'module purge; module use '\n",
      "                                            '/work/ws/nemo/fr_lp1029-IMTEK_SIMULATION-0/modulefiles; '\n",
      "                                            'module load mdtools ovitos; '\n",
      "                                            'extract_property.py',\n",
      "                     'extract_thermo.sh': 'module purge; module use '\n",
      "                                          '/work/ws/nemo/fr_lp1029-IMTEK_SIMULATION-0/modulefiles; '\n",
      "                                          'module load mdtools; '\n",
      "                                          'extract_thermo.sh',\n",
      "                     'join_thermo.py': 'module purge; module use '\n",
      "                                       '/work/ws/nemo/fr_lp1029-IMTEK_SIMULATION-0/modulefiles; '\n",
      "                                       'module load mdtools; join_thermo.py',\n",
      "                     'lmp': 'module purge; module use '\n",
      "                            '/work/ws/nemo/fr_lp1029-IMTEK_SIMULATION-0/modulefiles; '\n",
      "                            'module load '\n",
      "                            'lammps/16Mar18-gnu-7.3-openmpi-3.1-colvars-09Feb19; '\n",
      "                            'mpirun ${MPIRUN_OPTIONS} lmp',\n",
      "                     'merge.py': 'module purge; module use '\n",
      "                                 '/work/ws/nemo/fr_lp1029-IMTEK_SIMULATION-0/modulefiles; '\n",
      "                                 'module load mdtools/12Mar19-python-2.7; '\n",
      "                                 'merge.py',\n",
      "                     'ncjoin.py': 'module purge; module use '\n",
      "                                  '/work/ws/nemo/fr_lp1029-IMTEK_SIMULATION-0/modulefiles; '\n",
      "                                  'module load mdtools; ncjoin.py',\n",
      "                     'pizza.py': 'module purge; module use '\n",
      "                                 '/work/ws/nemo/fr_lp1029-IMTEK_SIMULATION-0/modulefiles; '\n",
      "                                 'module load mdtools/12Mar19-python-2.7; '\n",
      "                                 'pizza.py',\n",
      "                     'smbsync.py': 'module purge; module use '\n",
      "                                   '/work/ws/nemo/fr_lp1029-IMTEK_SIMULATION-0/modulefiles; '\n",
      "                                   'module load mdtools; smbsync.py',\n",
      "                     'strip_comments.py': 'module purge; module use '\n",
      "                                          '/work/ws/nemo/fr_lp1029-IMTEK_SIMULATION-0/modulefiles; '\n",
      "                                          'module load '\n",
      "                                          'mdtools/12Mar19-python-2.7; '\n",
      "                                          'strip_comments.py',\n",
      "                     'to_hybrid.py': 'module purge; module use '\n",
      "                                     '/work/ws/nemo/fr_lp1029-IMTEK_SIMULATION-0/modulefiles; '\n",
      "                                     'module load mdtools; to_hybrid.py',\n",
      "                     'vmd': 'module use '\n",
      "                            '/work/ws/nemo/fr_lp1029-IMTEK_SIMULATION-0/modulefiles; '\n",
      "                            'module load vmd/1.9.3-text; vmd'},\n",
      "             'name': 'nemo_queue_worker',\n",
      "             'query': '{}'},\n",
      " 'host': 'login2.nemo.privat',\n",
      " 'ip': '10.16.44.2',\n",
      " 'launch_dir': '/work/ws/nemo/fr_jh1130-fw_ws_20190311-0/launchpad/block_2019-06-08-10-24-39-472025/launcher_2019-06-24-18-33-16-205546',\n",
      " 'launch_id': 10709,\n",
      " 'state': 'RUNNING',\n",
      " 'state_history': [{'created_on': '2019-06-24T18:33:16.175011',\n",
      "                    'reservation_id': '5790847',\n",
      "                    'state': 'RESERVED',\n",
      "                    'updated_on': '2019-06-24T18:33:16.175017'},\n",
      "                   {'checkpoint': {'_all_mod_spec': [],\n",
      "                                   '_all_stored_data': {},\n",
      "                                   '_all_update_spec': {},\n",
      "                                   '_task_n': 0},\n",
      "                    'created_on': '2019-06-24T18:34:49.675511',\n",
      "                    'state': 'RUNNING',\n",
      "                    'updated_on': '2019-06-25T09:02:00.930001'}],\n",
      " 'trackers': [{'allow_zipped': False, 'filename': 'log.lammps', 'nlines': 25}]}\n"
     ]
    }
   ],
   "source": [
    "pprint(lp.get_launch_by_id(lids[0]).as_dict())"
   ]
  }
 ],
 "metadata": {
  "hide_input": false,
  "kernelspec": {
   "display_name": "Python 3 (jlh-bwCloud)",
   "language": "python",
   "name": "python3-jlh-bwcloud"
  },
  "language_info": {
   "codemirror_mode": {
    "name": "ipython",
    "version": 3
   },
   "file_extension": ".py",
   "mimetype": "text/x-python",
   "name": "python",
   "nbconvert_exporter": "python",
   "pygments_lexer": "ipython3",
   "version": "3.6.7"
  },
  "latex_envs": {
   "LaTeX_envs_menu_present": true,
   "autoclose": false,
   "autocomplete": true,
   "bibliofile": "biblio.bib",
   "cite_by": "apalike",
   "current_citInitial": 1,
   "eqLabelWithNumbers": true,
   "eqNumInitial": 1,
   "hotkeys": {
    "equation": "Ctrl-E",
    "itemize": "Ctrl-I"
   },
   "labels_anchors": false,
   "latex_user_defs": false,
   "report_style_numbering": false,
   "user_envs_cfg": false
  },
  "toc": {
   "base_numbering": 1,
   "nav_menu": {},
   "number_sections": true,
   "sideBar": true,
   "skip_h1_title": false,
   "title_cell": "Table of Contents",
   "title_sidebar": "Contents",
   "toc_cell": false,
   "toc_position": {},
   "toc_section_display": true,
   "toc_window_display": false
  },
  "varInspector": {
   "cols": {
    "lenName": 16,
    "lenType": 16,
    "lenVar": 40
   },
   "kernels_config": {
    "python": {
     "delete_cmd_postfix": "",
     "delete_cmd_prefix": "del ",
     "library": "var_list.py",
     "varRefreshCmd": "print(var_dic_list())"
    },
    "r": {
     "delete_cmd_postfix": ") ",
     "delete_cmd_prefix": "rm(",
     "library": "var_list.r",
     "varRefreshCmd": "cat(var_dic_list()) "
    }
   },
   "types_to_exclude": [
    "module",
    "function",
    "builtin_function_or_method",
    "instance",
    "_Feature"
   ],
   "window_display": false
  }
 },
 "nbformat": 4,
 "nbformat_minor": 2
}
