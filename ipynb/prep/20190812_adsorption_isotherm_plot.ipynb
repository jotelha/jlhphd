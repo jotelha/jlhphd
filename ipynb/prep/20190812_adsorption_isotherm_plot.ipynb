{
 "cells": [
  {
   "cell_type": "markdown",
   "metadata": {},
   "source": [
    "# Adsorption isotherms"
   ]
  },
  {
   "cell_type": "markdown",
   "metadata": {},
   "source": [
    "## Initialization"
   ]
  },
  {
   "cell_type": "code",
   "execution_count": 21,
   "metadata": {
    "ExecuteTime": {
     "end_time": "2019-08-25T15:43:23.382626Z",
     "start_time": "2019-08-25T15:43:23.361680Z"
    }
   },
   "outputs": [],
   "source": [
    "import pandas as pd\n",
    "import numpy as np\n",
    "import matplotlib.pyplot as plt\n",
    "import scipy as scp\n",
    "import scipy.interpolate\n",
    "import scipy.constants as C\n",
    "import ase.data\n",
    "import os\n",
    "%matplotlib inline  "
   ]
  },
  {
   "cell_type": "code",
   "execution_count": 22,
   "metadata": {
    "ExecuteTime": {
     "end_time": "2019-08-25T15:43:23.759565Z",
     "start_time": "2019-08-25T15:43:23.755167Z"
    }
   },
   "outputs": [],
   "source": [
    "ad = pd.DataFrame(data={\"symbol\": ase.data.chemical_symbols,\n",
    "                                \"name\"  : ase.data.atomic_names,\n",
    "                                \"mass\"  : ase.data.atomic_masses } ) # atomic data"
   ]
  },
  {
   "cell_type": "code",
   "execution_count": 23,
   "metadata": {
    "ExecuteTime": {
     "end_time": "2019-08-25T15:43:24.134551Z",
     "start_time": "2019-08-25T15:43:24.126841Z"
    }
   },
   "outputs": [],
   "source": [
    "str_DSm = {'C': 12, 'H': 25, 'S': 1, 'O': 4}\n",
    "M_DSm = 0\n",
    "for sym, n in str_DSm.items():\n",
    "    M_DSm += ad[ ad.symbol == sym ]['mass'].values[0] * n * C.gram"
   ]
  },
  {
   "cell_type": "code",
   "execution_count": 24,
   "metadata": {
    "ExecuteTime": {
     "end_time": "2019-08-25T15:43:24.484981Z",
     "start_time": "2019-08-25T15:43:24.482383Z"
    }
   },
   "outputs": [],
   "source": [
    "# set accordingly:\n",
    "prefix = '/mnt/dat/work/testuser/adsorption/N_surfactant_on_substrate_template'"
   ]
  },
  {
   "cell_type": "code",
   "execution_count": 25,
   "metadata": {
    "ExecuteTime": {
     "end_time": "2019-08-25T15:43:24.827135Z",
     "start_time": "2019-08-25T15:43:24.818201Z"
    }
   },
   "outputs": [],
   "source": [
    "qcm_results_raw = pd.read_csv(\n",
    "    os.path.join(prefix,'ref/dat/sklt2019unpublished.csv'),\n",
    "            delimiter=',',comment='#',header=None,names=[\"c\",\"GammaM\"])\n",
    "# cE      : bulk concenctration / mM \n",
    "# GammaM : surface mass density / ng cm^-2\n",
    "ctab_results_raw = pd.read_csv(\n",
    "    os.path.join(prefix,'ref/dat/kawasaki2007influence_fig1b.csv'),\n",
    "            delimiter=',',comment='#',header=None,names=[\"c\",\"GammaM\"])\n",
    "# cE      : bulk concenctration / mM \n",
    "# GammaM : surface mass density / ng cm^-2"
   ]
  },
  {
   "cell_type": "code",
   "execution_count": 26,
   "metadata": {
    "ExecuteTime": {
     "end_time": "2019-08-25T15:43:25.170478Z",
     "start_time": "2019-08-25T15:43:25.160413Z"
    }
   },
   "outputs": [],
   "source": [
    "qcm_results = pd.concat([    \n",
    "    qcm_results_raw[[\"c\"]]*C.milli, # mM --> M\n",
    "    qcm_results_raw[[\"GammaM\"]] * (C.nano * C.gram) / C.centi**2 # ng cm^-2 a--> kg m^-2\n",
    "    ], axis=1)\n",
    "ctab_results = pd.concat([    \n",
    "   ctab_results_raw[[\"c\"]]*C.milli, # mM --> M\n",
    "   ctab_results_raw[[\"GammaM\"]] * (C.nano * C.gram) / C.centi**2 # ng cm^-2 --> kg m^-2\n",
    "    ], axis=1)"
   ]
  },
  {
   "cell_type": "code",
   "execution_count": 27,
   "metadata": {
    "ExecuteTime": {
     "end_time": "2019-08-25T15:43:25.504720Z",
     "start_time": "2019-08-25T15:43:25.497995Z"
    }
   },
   "outputs": [],
   "source": [
    "# surface concentration, kg m^-2 * (mol/kg) = mol m^-2\n",
    "qcm_results[[\"GammaC\"]] = qcm_results[[\"GammaM\"]] / M_DSm\n",
    "ctab_results[[\"GammaC\"]] = ctab_results[[\"GammaM\"]] / M_DSm"
   ]
  },
  {
   "cell_type": "code",
   "execution_count": 28,
   "metadata": {
    "ExecuteTime": {
     "end_time": "2019-08-25T15:43:25.833729Z",
     "start_time": "2019-08-25T15:43:25.827111Z"
    }
   },
   "outputs": [],
   "source": [
    "# surface number density, mol m^-2 * (mol^-1) = m^-2\n",
    "qcm_results[[\"GammaN\"]] = qcm_results[[\"GammaC\"]] * C.Avogadro\n",
    "ctab_results[[\"GammaN\"]] =ctab_results[[\"GammaC\"]] * C.Avogadro"
   ]
  },
  {
   "cell_type": "code",
   "execution_count": 29,
   "metadata": {
    "ExecuteTime": {
     "end_time": "2019-08-25T15:43:26.167970Z",
     "start_time": "2019-08-25T15:43:26.161715Z"
    }
   },
   "outputs": [],
   "source": [
    "# area per molecule, m^2\n",
    "qcm_results[[\"A\"]] = 1 / qcm_results[[\"GammaN\"]]\n",
    "ctab_results[[\"A\"]] = 1 /ctab_results[[\"GammaN\"]]"
   ]
  },
  {
   "cell_type": "code",
   "execution_count": 30,
   "metadata": {
    "ExecuteTime": {
     "end_time": "2019-08-25T15:43:26.506309Z",
     "start_time": "2019-08-25T15:43:26.497943Z"
    }
   },
   "outputs": [],
   "source": [
    "pkl_file = os.path.join(prefix,\"dat\",\"sys\",\"SDS_on_AU_111.pkl\")\n",
    "sds_df = pd.read_pickle(pkl_file)\n",
    "pkl_file2 = os.path.join(prefix,\"dat\",\"sys\",\"CTAB_on_AU_111.pkl\")\n",
    "sds_df2 = pd.read_pickle(pkl_file2)"
   ]
  },
  {
   "cell_type": "code",
   "execution_count": 31,
   "metadata": {
    "ExecuteTime": {
     "end_time": "2019-08-25T15:43:26.847542Z",
     "start_time": "2019-08-25T15:43:26.839779Z"
    }
   },
   "outputs": [],
   "source": [
    "## Not used, all sb_multiples give the same sf\n",
    "lst=[]\n",
    "lst2=[]\n",
    "for i in range(sds_df.shape[0]):\n",
    "    if (np.array((sds_df[\"sb_multiples\"].values[i].tolist()))==np.array([51, 30, 2])).all():\n",
    "        lst.append(i)\n",
    "for i in range(sds_df2.shape[0]):\n",
    "    if (np.array((sds_df2[\"sb_multiples\"].values[i].tolist()))==np.array([51, 30, 2])).all():\n",
    "        lst2.append(i)"
   ]
  },
  {
   "cell_type": "code",
   "execution_count": 32,
   "metadata": {
    "ExecuteTime": {
     "end_time": "2019-08-25T15:43:27.187184Z",
     "start_time": "2019-08-25T15:43:27.181365Z"
    }
   },
   "outputs": [],
   "source": [
    "a=((1/sds_df.loc[:][\"sb_area_per_sf_molecule\"])*1e-18).sort_values()\n",
    "a2=((1/sds_df2.loc[:][\"sb_area_per_sf_molecule\"])*1e-18).sort_values()"
   ]
  },
  {
   "cell_type": "code",
   "execution_count": 33,
   "metadata": {
    "ExecuteTime": {
     "end_time": "2019-08-25T15:43:27.522830Z",
     "start_time": "2019-08-25T15:43:27.518859Z"
    }
   },
   "outputs": [],
   "source": [
    "b=sds_df.loc[:][\"sf_concentration\"].sort_values()\n",
    "b2=sds_df2.loc[:][\"sf_concentration\"].sort_values()"
   ]
  },
  {
   "cell_type": "code",
   "execution_count": 34,
   "metadata": {
    "ExecuteTime": {
     "end_time": "2019-08-25T15:43:27.877282Z",
     "start_time": "2019-08-25T15:43:27.864162Z"
    }
   },
   "outputs": [],
   "source": [
    "exp =scipy.interpolate.interp1d(np.array(qcm_results[[\"c\"]] / C.milli).reshape(len(np.array(qcm_results[[\"c\"]] ))), \n",
    "                                 np.array(qcm_results[[\"GammaN\"]] * C.nano**2).reshape(len(qcm_results[[\"GammaN\"]])),\n",
    "                                 axis=0, kind='linear', bounds_error=False,\n",
    "                                 fill_value=\"extrapolate\")\n",
    "exp2 =scipy.interpolate.interp1d(np.array(ctab_results[[\"c\"]] / C.milli).reshape(len(np.array(ctab_results[[\"c\"]] ))), \n",
    "                                 np.array(ctab_results[[\"GammaN\"]] * C.nano**2).reshape(len(ctab_results[[\"GammaN\"]])),\n",
    "                                 axis=0, kind='linear', bounds_error=False,\n",
    "                                 fill_value=\"extrapolate\")"
   ]
  },
  {
   "cell_type": "code",
   "execution_count": 35,
   "metadata": {
    "ExecuteTime": {
     "end_time": "2019-08-25T15:43:28.220725Z",
     "start_time": "2019-08-25T15:43:28.211839Z"
    }
   },
   "outputs": [],
   "source": [
    "bm=b.drop_duplicates()/ C.milli\n",
    "interpolated_sf = pd.DataFrame(exp(bm)).drop_duplicates()\n",
    "bm2=b2.drop_duplicates()/ C.milli\n",
    "interpolated_sf_2 = pd.DataFrame(exp2(bm2)).drop_duplicates()\n"
   ]
  },
  {
   "cell_type": "code",
   "execution_count": 36,
   "metadata": {
    "ExecuteTime": {
     "end_time": "2019-08-25T15:43:28.567868Z",
     "start_time": "2019-08-25T15:43:28.554855Z"
    }
   },
   "outputs": [],
   "source": [
    "exp =scipy.interpolate.interp1d(\n",
    "    np.array(qcm_results[[\"GammaN\"]] * C.nano**2).reshape(\n",
    "        len(qcm_results[[\"GammaN\"]])),\n",
    "    np.array(qcm_results[[\"c\"]] / C.milli).reshape(\n",
    "        len(np.array(qcm_results[[\"c\"]] ))), \n",
    "    axis=0, kind='linear', bounds_error=False,\n",
    "    fill_value=\"extrapolate\")\n",
    "exp2 =scipy.interpolate.interp1d(\n",
    "    np.array(ctab_results[[\"GammaN\"]] * C.nano**2).reshape(\n",
    "        len(ctab_results[[\"GammaN\"]])),\n",
    "    np.array(ctab_results[[\"c\"]] / C.milli).reshape(\n",
    "        len(np.array(ctab_results[[\"c\"]] ))), \n",
    "    axis=0, kind='linear', bounds_error=False,\n",
    "    fill_value=\"extrapolate\")"
   ]
  },
  {
   "cell_type": "code",
   "execution_count": 37,
   "metadata": {
    "ExecuteTime": {
     "end_time": "2019-08-25T15:43:28.904236Z",
     "start_time": "2019-08-25T15:43:28.898428Z"
    }
   },
   "outputs": [
    {
     "data": {
      "text/plain": [
       "90     0.340876\n",
       "68     0.583790\n",
       "18     0.999808\n",
       "80     1.712288\n",
       "9      2.932494\n",
       "1      5.022238\n",
       "84    10.044476\n",
       "Name: sb_area_per_sf_molecule, dtype: float64"
      ]
     },
     "execution_count": 37,
     "metadata": {},
     "output_type": "execute_result"
    }
   ],
   "source": [
    "a.drop_duplicates()"
   ]
  },
  {
   "cell_type": "code",
   "execution_count": 38,
   "metadata": {
    "ExecuteTime": {
     "end_time": "2019-08-25T15:43:29.440850Z",
     "start_time": "2019-08-25T15:43:29.435704Z"
    }
   },
   "outputs": [
    {
     "data": {
      "text/plain": [
       "90     0.340876\n",
       "68     0.583790\n",
       "18     0.999808\n",
       "80     1.712288\n",
       "9      2.932494\n",
       "1      5.022238\n",
       "84    10.044476\n",
       "Name: sb_area_per_sf_molecule, dtype: float64"
      ]
     },
     "execution_count": 38,
     "metadata": {},
     "output_type": "execute_result"
    }
   ],
   "source": [
    "am"
   ]
  },
  {
   "cell_type": "code",
   "execution_count": 39,
   "metadata": {
    "ExecuteTime": {
     "end_time": "2019-08-25T15:43:29.954508Z",
     "start_time": "2019-08-25T15:43:29.946229Z"
    }
   },
   "outputs": [],
   "source": [
    "bm=b.drop_duplicates()/ C.milli\n",
    "am=a.drop_duplicates()\n",
    "interpolated_sf = pd.DataFrame(exp(am))\n",
    "bm2=b2.drop_duplicates()/ C.milli\n",
    "am2=a2.drop_duplicates()\n",
    "interpolated_sf_2 = pd.DataFrame(exp2(am2))\n"
   ]
  },
  {
   "cell_type": "code",
   "execution_count": 40,
   "metadata": {
    "ExecuteTime": {
     "end_time": "2019-08-25T15:43:30.349638Z",
     "start_time": "2019-08-25T15:43:30.344389Z"
    }
   },
   "outputs": [
    {
     "data": {
      "text/plain": [
       "90     0.453091\n",
       "68     0.600078\n",
       "18     0.991438\n",
       "80     3.437186\n",
       "9      6.806274\n",
       "1     17.006986\n",
       "84    24.164207\n",
       "Name: sf_concentration, dtype: float64"
      ]
     },
     "execution_count": 40,
     "metadata": {},
     "output_type": "execute_result"
    }
   ],
   "source": [
    "bm"
   ]
  },
  {
   "cell_type": "code",
   "execution_count": 41,
   "metadata": {
    "ExecuteTime": {
     "end_time": "2019-08-25T15:43:30.769366Z",
     "start_time": "2019-08-25T15:43:30.764513Z"
    }
   },
   "outputs": [
    {
     "data": {
      "text/plain": [
       "0     0.007\n",
       "43    0.010\n",
       "62    0.030\n",
       "15    0.100\n",
       "58    0.500\n",
       "65    0.920\n",
       "Name: sf_concentration, dtype: float64"
      ]
     },
     "execution_count": 41,
     "metadata": {},
     "output_type": "execute_result"
    }
   ],
   "source": [
    "bm2"
   ]
  },
  {
   "cell_type": "code",
   "execution_count": 42,
   "metadata": {
    "ExecuteTime": {
     "end_time": "2019-08-25T15:43:31.128610Z",
     "start_time": "2019-08-25T15:43:31.123834Z"
    }
   },
   "outputs": [
    {
     "data": {
      "text/plain": [
       "90     0.340876\n",
       "68     0.583790\n",
       "18     0.999808\n",
       "80     1.712288\n",
       "9      2.932494\n",
       "1      5.022238\n",
       "84    10.044476\n",
       "Name: sb_area_per_sf_molecule, dtype: float64"
      ]
     },
     "execution_count": 42,
     "metadata": {},
     "output_type": "execute_result"
    }
   ],
   "source": [
    "am"
   ]
  },
  {
   "cell_type": "code",
   "execution_count": 43,
   "metadata": {
    "ExecuteTime": {
     "end_time": "2019-08-25T15:43:31.579736Z",
     "start_time": "2019-08-25T15:43:31.573350Z"
    }
   },
   "outputs": [
    {
     "data": {
      "text/plain": [
       "0     1.122857\n",
       "43    1.271241\n",
       "62    1.575532\n",
       "15    1.998578\n",
       "58    3.093105\n",
       "65    3.973320\n",
       "Name: sb_area_per_sf_molecule, dtype: float64"
      ]
     },
     "execution_count": 43,
     "metadata": {},
     "output_type": "execute_result"
    }
   ],
   "source": [
    "am2"
   ]
  },
  {
   "cell_type": "code",
   "execution_count": 44,
   "metadata": {
    "ExecuteTime": {
     "end_time": "2019-08-25T15:43:31.975911Z",
     "start_time": "2019-08-25T15:43:31.970334Z"
    }
   },
   "outputs": [
    {
     "data": {
      "text/plain": [
       "array([ 1.97961704e-02,  1.26697636e-01,  2.20217348e-01,  9.29248834e-01,\n",
       "        1.07081995e+00,  1.40115256e+00, -7.73934739e+03])"
      ]
     },
     "execution_count": 44,
     "metadata": {},
     "output_type": "execute_result"
    }
   ],
   "source": [
    "suggested_points=np.array([0.1,0.2,0.3,1.2,1.5,2.2,12 ])\n",
    "suggested_sf =exp(suggested_points)\n",
    "suggested_sf"
   ]
  },
  {
   "cell_type": "code",
   "execution_count": 45,
   "metadata": {
    "ExecuteTime": {
     "end_time": "2019-08-25T15:43:34.207969Z",
     "start_time": "2019-08-25T15:43:32.652137Z"
    }
   },
   "outputs": [
    {
     "data": {
      "image/png": "[encoded data removed]",
      "text/plain": [
       "<Figure size 720x504 with 1 Axes>"
      ]
     },
     "metadata": {
      "needs_background": "light"
     },
     "output_type": "display_data"
    }
   ],
   "source": [
    "plt.figure(figsize=(10,7))\n",
    "plt.plot( qcm_results[[\"c\"]] / C.milli ,qcm_results[[\"GammaN\"]] * C.nano**2)\n",
    "plt.plot(ctab_results[[\"c\"]] / C.milli ,ctab_results[[\"GammaN\"]] * C.nano**2)\n",
    "plt.plot( b / C.milli ,a, 'ro')\n",
    "plt.plot(bm / C.milli,interpolated_sf,'go')\n",
    "plt.plot( b2 / C.milli ,a2, 'ro')\n",
    "#plt.plot(bm2,interpolated_sf_2,'go')\n",
    "plt.xscale(\"log\")\n",
    "plt.legend([\"SDS\",\"CTAB\",\"Discrete subsets in focus\",'Data points of experiment'])\n",
    "plt.xlabel(r'bulk concentration $ c \\ / \\ \\mathrm{mM}$')\n",
    "plt.ylabel(r'surface number concentration $ n \\ / \\ {\\mathrm{nm}^{-2}}$')\n",
    "plt.ylim((0,4.9))\n",
    "plt.show()"
   ]
  },
  {
   "cell_type": "code",
   "execution_count": 46,
   "metadata": {
    "ExecuteTime": {
     "end_time": "2019-08-25T15:43:39.892201Z",
     "start_time": "2019-08-25T15:43:39.184660Z"
    }
   },
   "outputs": [
    {
     "data": {
      "image/png": "[encoded data removed]",
      "text/plain": [
       "<Figure size 720x504 with 1 Axes>"
      ]
     },
     "metadata": {
      "needs_background": "light"
     },
     "output_type": "display_data"
    }
   ],
   "source": [
    "plt.figure(figsize=(10,7))\n",
    "plt.plot( qcm_results[[\"c\"]] / C.milli ,qcm_results[[\"GammaN\"]] * C.nano**2)\n",
    "plt.plot(ctab_results[[\"c\"]] / C.milli ,ctab_results[[\"GammaN\"]] * C.nano**2)\n",
    "plt.plot( b / C.milli ,a, 'ro')\n",
    "plt.plot(bm[0:len(interpolated_sf)],interpolated_sf,'go')\n",
    "plt.plot(suggested_points,suggested_sf,'bo')\n",
    "plt.plot( b2 / C.milli ,a2, 'ro')\n",
    "plt.plot(bm2[0:len(interpolated_sf_2)],interpolated_sf_2,'go')\n",
    "plt.xscale(\"log\")\n",
    "plt.legend([\"SDS\",\"CTAB\",\"Discrete subsets in focus\",'Data points of experiment','Suggested data points'])\n",
    "plt.xlabel(r'bulk concentration $ c \\ / \\ \\mathrm{mM}$')\n",
    "plt.ylabel(r'surface number concentration $ n \\ / \\ {\\mathrm{nm}^{-2}}$')\n",
    "plt.ylim((0,4.9))\n",
    "plt.show()"
   ]
  },
  {
   "cell_type": "code",
   "execution_count": null,
   "metadata": {},
   "outputs": [],
   "source": []
  }
 ],
 "metadata": {
  "hide_input": false,
  "kernelspec": {
   "display_name": "Python 3 (jlh-bwCloud)",
   "language": "python",
   "name": "python3-jlh-bwcloud"
  },
  "language_info": {
   "codemirror_mode": {
    "name": "ipython",
    "version": 3
   },
   "file_extension": ".py",
   "mimetype": "text/x-python",
   "name": "python",
   "nbconvert_exporter": "python",
   "pygments_lexer": "ipython3",
   "version": "3.6.8"
  },
  "latex_envs": {
   "LaTeX_envs_menu_present": true,
   "autoclose": false,
   "autocomplete": true,
   "bibliofile": "biblio.bib",
   "cite_by": "apalike",
   "current_citInitial": 1,
   "eqLabelWithNumbers": true,
   "eqNumInitial": 1,
   "hotkeys": {
    "equation": "Ctrl-E",
    "itemize": "Ctrl-I"
   },
   "labels_anchors": false,
   "latex_user_defs": false,
   "report_style_numbering": false,
   "user_envs_cfg": false
  },
  "toc": {
   "base_numbering": 1,
   "nav_menu": {},
   "number_sections": true,
   "sideBar": true,
   "skip_h1_title": false,
   "title_cell": "Table of Contents",
   "title_sidebar": "Contents",
   "toc_cell": false,
   "toc_position": {},
   "toc_section_display": true,
   "toc_window_display": true
  },
  "varInspector": {
   "cols": {
    "lenName": 16,
    "lenType": 16,
    "lenVar": 40
   },
   "kernels_config": {
    "python": {
     "delete_cmd_postfix": "",
     "delete_cmd_prefix": "del ",
     "library": "var_list.py",
     "varRefreshCmd": "print(var_dic_list())"
    },
    "r": {
     "delete_cmd_postfix": ") ",
     "delete_cmd_prefix": "rm(",
     "library": "var_list.r",
     "varRefreshCmd": "cat(var_dic_list()) "
    }
   },
   "types_to_exclude": [
    "module",
    "function",
    "builtin_function_or_method",
    "instance",
    "_Feature"
   ],
   "window_display": false
  }
 },
 "nbformat": 4,
 "nbformat_minor": 2
}
