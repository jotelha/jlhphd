{
 "cells": [
  {
   "cell_type": "code",
   "execution_count": 3,
   "metadata": {},
   "outputs": [
    {
     "data": {
      "text/plain": [
       "{'BASH_FUNC_module()': '() {  eval $(/opt/bwhpc/common/admin/modules/module-wrapper/modulecmd bash $*)\\n}',\n",
       " 'CC': 'gcc',\n",
       " 'CFLAGS': '-O3 -fPIC',\n",
       " 'CLICOLOR': '1',\n",
       " 'CMAKE_BIN_DIR': '/opt/bwhpc/common/devel/cmake/3.9.0/bin',\n",
       " 'CMAKE_DOC_DIR': '/opt/bwhpc/common/devel/cmake/3.9.0/doc',\n",
       " 'CMAKE_HOME': '/opt/bwhpc/common/devel/cmake/3.9.0',\n",
       " 'CMAKE_MAN_DIR': '/opt/bwhpc/common/devel/cmake/3.9.0/man',\n",
       " 'CMAKE_VERSION': '3.9.0',\n",
       " 'CPATH': '/work/ws/nemo/fr_lp1029-IMTEK_SIMULATION-0/local_modules/lammps/16Mar18-gnu-5.2-openmpi-2.1/include',\n",
       " 'CPPFLAGS': '-I/work/ws/nemo/fr_lp1029-IMTEK_SIMULATION-0/local_modules/lammps/16Mar18-gnu-5.2-openmpi-2.1/include',\n",
       " 'CXX': 'g++',\n",
       " 'CXXFLAGS': '-O3 -fPIC',\n",
       " 'DISPLAY': 'localhost:15.0',\n",
       " 'ENV': '/work/ws/nemo/fr_lp1029-IMTEK_SIMULATION-0/local_Nov17',\n",
       " 'F77': 'gfortran',\n",
       " 'F90': 'gfortran',\n",
       " 'FC': 'gfortran',\n",
       " 'FCFLAGS': '-O3 -fPIC',\n",
       " 'GIT_PAGER': 'cat',\n",
       " 'GMXBIN': '/work/ws/nemo/fr_lp1029-IMTEK_SIMULATION-0/local_modules/gromacs/2018.1-gnu-5.2/bin',\n",
       " 'GMXDATA': '/work/ws/nemo/fr_lp1029-IMTEK_SIMULATION-0/local_modules/gromacs/2018.1-gnu-5.2/share/gromacs',\n",
       " 'GMXLDLIB': '/work/ws/nemo/fr_lp1029-IMTEK_SIMULATION-0/local_modules/gromacs/2018.1-gnu-5.2/lib64',\n",
       " 'GMXLIB': '/home/fr/fr_fr/fr_jh1130/gromacs/2018.1/share/gromacs/top',\n",
       " 'GMXMAN': '/work/ws/nemo/fr_lp1029-IMTEK_SIMULATION-0/local_modules/gromacs/2018.1-gnu-5.2/share/man',\n",
       " 'GMX_WS': '/work/ws/nemo/fr_jh1130-201708-0/jobs/gmxlab',\n",
       " 'GNU_BIN_DIR': '/opt/bwhpc/common/compiler/gnu/5.2.0/bin',\n",
       " 'GNU_HOME': '/opt/bwhpc/common/compiler/gnu/5.2.0',\n",
       " 'GNU_LIB_DIR': '/opt/bwhpc/common/compiler/gnu/5.2.0/lib64',\n",
       " 'GNU_MAN_DIR': '/opt/bwhpc/common/compiler/gnu/5.2.0/man',\n",
       " 'GNU_VERSION': '5.2.0',\n",
       " 'GROMACS_BIN_DIR': '/work/ws/nemo/fr_lp1029-IMTEK_SIMULATION-0/local_modules/gromacs/2018.1-gnu-5.2/bin',\n",
       " 'GROMACS_HOME': '/work/ws/nemo/fr_lp1029-IMTEK_SIMULATION-0/local_modules/gromacs/2018.1-gnu-5.2',\n",
       " 'GROMACS_LIB_DIR': '/work/ws/nemo/fr_lp1029-IMTEK_SIMULATION-0/local_modules/gromacs/2018.1-gnu-5.2/lib64',\n",
       " 'GROMACS_MAN_DIR': '/work/ws/nemo/fr_lp1029-IMTEK_SIMULATION-0/local_modules/gromacs/2018.1-gnu-5.2/share/man',\n",
       " 'GROMACS_VERSION': '2018.1',\n",
       " 'GROUP_WS': '/work/ws/nemo/fr_lp1029-IMTEK_SIMULATION-0',\n",
       " 'HISTCONTROL': 'ignoredups',\n",
       " 'HISTSIZE': '1000',\n",
       " 'HOME': '/home/fr/fr_fr/fr_jh1130',\n",
       " 'HOSTNAME': 'login1.nemo.privat',\n",
       " 'HWLOC_HIDE_ERRORS': '1',\n",
       " 'JPY_PARENT_PID': '120425',\n",
       " 'LANG': 'en_US.UTF-8',\n",
       " 'LC_ADDRESS': 'de_DE.UTF-8',\n",
       " 'LC_IDENTIFICATION': 'de_DE.UTF-8',\n",
       " 'LC_MEASUREMENT': 'de_DE.UTF-8',\n",
       " 'LC_MONETARY': 'de_DE.UTF-8',\n",
       " 'LC_NAME': 'de_DE.UTF-8',\n",
       " 'LC_NUMERIC': 'de_DE.UTF-8',\n",
       " 'LC_PAPER': 'de_DE.UTF-8',\n",
       " 'LC_TELEPHONE': 'de_DE.UTF-8',\n",
       " 'LC_TIME': 'de_DE.UTF-8',\n",
       " 'LDFLAGS': '-L/work/ws/nemo/fr_lp1029-IMTEK_SIMULATION-0/local_modules/lammps/16Mar18-gnu-5.2-openmpi-2.1/lib',\n",
       " 'LD_INCLUDE_PATH': '/work/ws/nemo/fr_lp1029-IMTEK_SIMULATION-0/local_modules/lammps/16Mar18-gnu-5.2-openmpi-2.1/include',\n",
       " 'LD_LIBRARY_PATH': '/work/ws/nemo/fr_lp1029-IMTEK_SIMULATION-0/local_modules/lammps/16Mar18-gnu-5.2-openmpi-2.1/lib:/opt/bwhpc/common/mpi/openmpi/2.1.3-gnu-5.2/lib:/opt/bwhpc/common/compiler/gnu/5.2.0/lib64:/work/ws/nemo/fr_lp1029-IMTEK_SIMULATION-0/local_modules/gromacs/2018.1-gnu-5.2/lib64:/opt/bwhpc/common/devel/python/3.6.3.20171114/lib',\n",
       " 'LESSOPEN': '||/usr/bin/lesspipe.sh %s',\n",
       " 'LIBRARY_PATH': '/work/ws/nemo/fr_lp1029-IMTEK_SIMULATION-0/local_modules/lammps/16Mar18-gnu-5.2-openmpi-2.1/lib',\n",
       " 'LMPBIN': '/work/ws/nemo/fr_lp1029-IMTEK_SIMULATION-0/local_modules/lammps/16Mar18-gnu-5.2-openmpi-2.1/bin',\n",
       " 'LOADEDMODULES': 'devel/python/3.6.3:compiler/gnu/5.2:mpi/openmpi/2.1-gnu-5.2:gromacs/2018.1-gnu-5.2:devel/cmake/3.9:lammps/16Mar18-gnu-5.2-openmpi-2.1',\n",
       " 'LOGNAME': 'fr_jh1130',\n",
       " 'LS_COLORS': 'rs=0:di=01;34:ln=01;36:mh=00:pi=40;33:so=01;35:do=01;35:bd=40;33;01:cd=40;33;01:or=40;31;01:mi=01;05;37;41:su=37;41:sg=30;43:ca=30;41:tw=30;42:ow=34;42:st=37;44:ex=01;32:*.tar=01;31:*.tgz=01;31:*.arc=01;31:*.arj=01;31:*.taz=01;31:*.lha=01;31:*.lz4=01;31:*.lzh=01;31:*.lzma=01;31:*.tlz=01;31:*.txz=01;31:*.tzo=01;31:*.t7z=01;31:*.zip=01;31:*.z=01;31:*.Z=01;31:*.dz=01;31:*.gz=01;31:*.lrz=01;31:*.lz=01;31:*.lzo=01;31:*.xz=01;31:*.bz2=01;31:*.bz=01;31:*.tbz=01;31:*.tbz2=01;31:*.tz=01;31:*.deb=01;31:*.rpm=01;31:*.jar=01;31:*.war=01;31:*.ear=01;31:*.sar=01;31:*.rar=01;31:*.alz=01;31:*.ace=01;31:*.zoo=01;31:*.cpio=01;31:*.7z=01;31:*.rz=01;31:*.cab=01;31:*.jpg=01;35:*.jpeg=01;35:*.gif=01;35:*.bmp=01;35:*.pbm=01;35:*.pgm=01;35:*.ppm=01;35:*.tga=01;35:*.xbm=01;35:*.xpm=01;35:*.tif=01;35:*.tiff=01;35:*.png=01;35:*.svg=01;35:*.svgz=01;35:*.mng=01;35:*.pcx=01;35:*.mov=01;35:*.mpg=01;35:*.mpeg=01;35:*.m2v=01;35:*.mkv=01;35:*.webm=01;35:*.ogm=01;35:*.mp4=01;35:*.m4v=01;35:*.mp4v=01;35:*.vob=01;35:*.qt=01;35:*.nuv=01;35:*.wmv=01;35:*.asf=01;35:*.rm=01;35:*.rmvb=01;35:*.flc=01;35:*.avi=01;35:*.fli=01;35:*.flv=01;35:*.gl=01;35:*.dl=01;35:*.xcf=01;35:*.xwd=01;35:*.yuv=01;35:*.cgm=01;35:*.emf=01;35:*.axv=01;35:*.anx=01;35:*.ogv=01;35:*.ogx=01;35:*.aac=01;36:*.au=01;36:*.flac=01;36:*.mid=01;36:*.midi=01;36:*.mka=01;36:*.mp3=01;36:*.mpc=01;36:*.ogg=01;36:*.ra=01;36:*.wav=01;36:*.axa=01;36:*.oga=01;36:*.spx=01;36:*.xspf=01;36:',\n",
       " 'MAIL': '/var/spool/mail/fr_jh1130',\n",
       " 'MANPATH': '/opt/bwhpc/common/devel/cmake/3.9.0/man:/opt/bwhpc/common/mpi/openmpi/2.1.3-gnu-5.2/share/man:/opt/bwhpc/common/compiler/gnu/5.2.0/man:/work/ws/nemo/fr_lp1029-IMTEK_SIMULATION-0/local_modules/gromacs/2018.1-gnu-5.2/share/man:/opt/bwhpc/common/devel/python/3.6.3.20171114/share/man:/usr/share/man:/usr/local/share/man',\n",
       " 'MATHEMATICA_HOME': '/opt/bwhpc/fr/math/mathematica/10.0.1',\n",
       " 'MOABHOMEDIR': '/opt/moab',\n",
       " 'MODULEPATH': '/home/fr/fr_fr/fr_jh1130/modulefiles:/work/ws/nemo/fr_lp1029-IMTEK_SIMULATION-0/modulefiles:/opt/bwhpc/modulefiles/applications/info:/opt/bwhpc/modulefiles/applications/fr:/opt/bwhpc/modulefiles/applications/common:/opt/bwhpc/modulefiles/libraries/info:/opt/bwhpc/modulefiles/libraries/fr:/opt/bwhpc/modulefiles/libraries/common:/opt/bwhpc/modulefiles/development/info:/opt/bwhpc/modulefiles/development/fr:/opt/bwhpc/modulefiles/development/common:/opt/bwhpc/modulefiles/obsolete/info:/opt/bwhpc/modulefiles/obsolete/fr:/opt/bwhpc/modulefiles/obsolete/common',\n",
       " 'MODULERCFILE': '/opt/bwhpc/common/etc/modulerc',\n",
       " 'MODULESHOME': '/usr/share/Modules',\n",
       " 'MPIDIR': '/opt/bwhpc/common/mpi/openmpi/2.1.3-gnu-5.2',\n",
       " 'MPI_BIN_DIR': '/opt/bwhpc/common/mpi/openmpi/2.1.3-gnu-5.2/bin',\n",
       " 'MPI_EXA_DIR': '/opt/bwhpc/common/mpi/openmpi/2.1.3-gnu-5.2/examples',\n",
       " 'MPI_HOME': '/opt/bwhpc/common/mpi/openmpi/2.1.3-gnu-5.2',\n",
       " 'MPI_INC_DIR': '/opt/bwhpc/common/mpi/openmpi/2.1.3-gnu-5.2/include',\n",
       " 'MPI_LIB_DIR': '/opt/bwhpc/common/mpi/openmpi/2.1.3-gnu-5.2/lib',\n",
       " 'MPI_MAN_DIR': '/opt/bwhpc/common/mpi/openmpi/2.1.3-gnu-5.2/share/man',\n",
       " 'MPI_VERSION': '2.1.3-gnu-5.2',\n",
       " 'MPLBACKEND': 'module://ipykernel.pylab.backend_inline',\n",
       " 'PAGER': 'cat',\n",
       " 'PATH': '/opt/bwhpc/common/devel/python/3.6.3.20171114/bin:/work/ws/nemo/fr_lp1029-IMTEK_SIMULATION-0/local_modules/lammps/16Mar18-gnu-5.2-openmpi-2.1/bin:/opt/bwhpc/common/devel/cmake/3.9.0/bin:/opt/bwhpc/common/mpi/openmpi/2.1.3-gnu-5.2/bin:/opt/bwhpc/common/compiler/gnu/5.2.0/bin:/work/ws/nemo/fr_lp1029-IMTEK_SIMULATION-0/local_modules/gromacs/2018.1-gnu-5.2/bin:/opt/bwhpc/common/devel/python/3.6.3.20171114/bin:/home/fr/fr_fr/fr_jh1130/bin:/opt/VirtualGL/bin:/usr/lib64/qt-3.3/bin:/opt/moab/bin:/usr/local/bin:/usr/bin:/usr/local/sbin:/usr/sbin:/usr/local/bin',\n",
       " 'PERL5LIB': '/opt/moab/lib/perl5',\n",
       " 'PKG_CONFIG_PATH': '/work/ws/nemo/fr_lp1029-IMTEK_SIMULATION-0/local_modules/gromacs/2018.1-gnu-5.2/lib64/pkgconfig',\n",
       " 'PREFIX': '/work/ws/nemo/fr_lp1029-IMTEK_SIMULATION-0/local_modules/lammps/16Mar18-gnu-5.2-openmpi-2.1',\n",
       " 'PWD': '/work/ws/nemo/fr_jh1130-201708-0',\n",
       " 'PYTHONPATH': '/work/ws/nemo/fr_lp1029-IMTEK_SIMULATION-0/local_modules/lammps/16Mar18-gnu-5.2-openmpi-2.1/lib/python3.6/site-packages:/opt/bwhpc/common/devel/python/3.6.3.20171114/lib/python3.6',\n",
       " 'QTDIR': '/usr/lib64/qt-3.3',\n",
       " 'QTINC': '/usr/lib64/qt-3.3/include',\n",
       " 'QTLIB': '/usr/lib64/qt-3.3/lib',\n",
       " 'QT_GRAPHICSSYSTEM_CHECKED': '1',\n",
       " 'SHELL': '/bin/bash',\n",
       " 'SHLVL': '2',\n",
       " 'SSH_CLIENT': '10.5.168.47 51306 22',\n",
       " 'SSH_CONNECTION': '10.5.168.47 51306 132.230.222.12 22',\n",
       " 'SSH_TTY': '/dev/pts/14',\n",
       " 'TERM': 'xterm-color',\n",
       " 'USER': 'fr_jh1130',\n",
       " 'WS': '/work/ws/nemo/fr_jh1130-201708-0',\n",
       " 'XDG_RUNTIME_DIR': '/run/user/901576',\n",
       " 'XDG_SESSION_ID': '569',\n",
       " '_': '/opt/bwhpc/common/devel/python/3.6.3.20171114/bin/jupyter',\n",
       " '_LMFILES_': '/opt/bwhpc/modulefiles/development/common/devel/python/3.6.3:/opt/bwhpc/modulefiles/development/common/compiler/gnu/5.2:/opt/bwhpc/modulefiles/libraries/common/mpi/openmpi/2.1-gnu-5.2:/work/ws/nemo/fr_lp1029-IMTEK_SIMULATION-0/modulefiles/gromacs/2018.1-gnu-5.2:/opt/bwhpc/modulefiles/development/common/devel/cmake/3.9:/work/ws/nemo/fr_lp1029-IMTEK_SIMULATION-0/modulefiles/lammps/16Mar18-gnu-5.2-openmpi-2.1',\n",
       " 'python_BIN_DIR': '/opt/bwhpc/common/devel/python/3.6.3.20171114/bin',\n",
       " 'python_HOME': '/opt/bwhpc/common/devel/python/3.6.3.20171114',\n",
       " 'python_LDLIB_DIR': '/opt/bwhpc/common/devel/python/3.6.3.20171114/lib',\n",
       " 'python_LIB_DIR': '/opt/bwhpc/common/devel/python/3.6.3.20171114/lib',\n",
       " 'python_MAN_DIR': '/opt/bwhpc/common/devel/python/3.6.3.20171114/share/man',\n",
       " 'python_VERSION': '3.6.3'}"
      ]
     },
     "execution_count": 3,
     "metadata": {},
     "output_type": "execute_result"
    }
   ],
   "source": [
    "%env"
   ]
  },
  {
   "cell_type": "code",
   "execution_count": 1,
   "metadata": {},
   "outputs": [],
   "source": [
    "# data analysis \n",
    "import pandas as pd \n",
    "import numpy as np\n",
    "import ase\n",
    "#from asap3.analysis.rdf import RadialDistributionFunction\n",
    "\n",
    "# file formats, input - output\n",
    "import ase.io\n",
    "from ase.io import read\n",
    "#import parmed as pmd\n",
    "\n",
    "# visualization\n",
    "from ase.visualize import view\n",
    "import nglview as nv\n",
    "import matplotlib.pyplot as plt\n",
    "import ipywidgets # just for jupyter notebooks"
   ]
  },
  {
   "cell_type": "code",
   "execution_count": 2,
   "metadata": {},
   "outputs": [],
   "source": [
    "%matplotlib inline"
   ]
  },
  {
   "cell_type": "code",
   "execution_count": 3,
   "metadata": {},
   "outputs": [],
   "source": [
    "# matplotlib settings\n",
    "\n",
    "# expecially for presentation, larger font settings for plotting are recommendable\n",
    "SMALL_SIZE = 14\n",
    "MEDIUM_SIZE = 16\n",
    "BIGGER_SIZE = 18\n",
    "\n",
    "plt.rc('font', size=SMALL_SIZE)          # controls default text sizes\n",
    "plt.rc('axes', titlesize=SMALL_SIZE)     # fontsize of the axes title\n",
    "plt.rc('axes', labelsize=MEDIUM_SIZE)    # fontsize of the x and y labels\n",
    "plt.rc('xtick', labelsize=SMALL_SIZE)    # fontsize of the tick labels\n",
    "plt.rc('ytick', labelsize=SMALL_SIZE)    # fontsize of the tick labels\n",
    "plt.rc('legend', fontsize=SMALL_SIZE)    # legend fontsize\n",
    "plt.rc('figure', titlesize=BIGGER_SIZE)  # fontsize of the figure titlex\n",
    "\n",
    "plt.rcParams[\"figure.figsize\"] = (11,7) # the standard figure size"
   ]
  },
  {
   "cell_type": "code",
   "execution_count": 4,
   "metadata": {},
   "outputs": [],
   "source": [
    "test = read('./15Ang_amorph.cfg')"
   ]
  },
  {
   "cell_type": "code",
   "execution_count": 5,
   "metadata": {},
   "outputs": [
    {
     "data": {
      "text/plain": [
       "Atoms(symbols='He268', pbc=True, cell=[178.36391, 178.36391, 63.061166], masses=...)"
      ]
     },
     "execution_count": 5,
     "metadata": {},
     "output_type": "execute_result"
    }
   ],
   "source": [
    "test"
   ]
  },
  {
   "cell_type": "code",
   "execution_count": 6,
   "metadata": {},
   "outputs": [
    {
     "data": {
      "text/plain": [
       "Atoms(symbols='He268', pbc=True, cell=[178.36391, 178.36391, 63.061166], masses=...)"
      ]
     },
     "execution_count": 6,
     "metadata": {},
     "output_type": "execute_result"
    }
   ],
   "source": [
    "test"
   ]
  },
  {
   "cell_type": "code",
   "execution_count": 8,
   "metadata": {},
   "outputs": [],
   "source": [
    "indenter100AngAmorph = read(\"100Ang_amorph.lammps\", format=\"lammps-data\")"
   ]
  },
  {
   "cell_type": "code",
   "execution_count": 10,
   "metadata": {},
   "outputs": [
    {
     "data": {
      "application/vnd.jupyter.widget-view+json": {
       "model_id": "60bafeb3f0b94081a08a633afe24a461",
       "version_major": 2,
       "version_minor": 0
      },
      "text/html": [
       "<p>Failed to display Jupyter Widget of type <code>HBox</code>.</p>\n",
       "<p>\n",
       "  If you're reading this message in Jupyter Notebook or JupyterLab, it may mean\n",
       "  that the widgets JavaScript is still loading. If this message persists, it\n",
       "  likely means that the widgets JavaScript library is either not installed or\n",
       "  not enabled. See the <a href=\"https://ipywidgets.readthedocs.io/en/stable/user_install.html\">Jupyter\n",
       "  Widgets Documentation</a> for setup instructions.\n",
       "</p>\n",
       "<p>\n",
       "  If you're reading this message in another notebook frontend (for example, a static\n",
       "  rendering on GitHub or <a href=\"https://nbviewer.jupyter.org/\">NBViewer</a>),\n",
       "  it may mean that your frontend doesn't currently support widgets.\n",
       "</p>\n"
      ],
      "text/plain": [
       "HBox(children=(NGLWidget(), VBox(children=(Dropdown(description='Show', options=('All', 'H'), value='All'), FloatSlider(value=0.8, description='Ball size', max=1.5, step=0.01)))))"
      ]
     },
     "metadata": {},
     "output_type": "display_data"
    }
   ],
   "source": [
    "view(indenter100AngAmorph,viewer='ngl')"
   ]
  },
  {
   "cell_type": "code",
   "execution_count": 11,
   "metadata": {},
   "outputs": [],
   "source": [
    "indenter100AngBend = read(\"100Ang_bend.lammps\", format=\"lammps-data\")"
   ]
  },
  {
   "cell_type": "code",
   "execution_count": 12,
   "metadata": {},
   "outputs": [
    {
     "data": {
      "application/vnd.jupyter.widget-view+json": {
       "model_id": "cf22c97b103b4fe387facdcc5198df2d",
       "version_major": 2,
       "version_minor": 0
      },
      "text/html": [
       "<p>Failed to display Jupyter Widget of type <code>HBox</code>.</p>\n",
       "<p>\n",
       "  If you're reading this message in Jupyter Notebook or JupyterLab, it may mean\n",
       "  that the widgets JavaScript is still loading. If this message persists, it\n",
       "  likely means that the widgets JavaScript library is either not installed or\n",
       "  not enabled. See the <a href=\"https://ipywidgets.readthedocs.io/en/stable/user_install.html\">Jupyter\n",
       "  Widgets Documentation</a> for setup instructions.\n",
       "</p>\n",
       "<p>\n",
       "  If you're reading this message in another notebook frontend (for example, a static\n",
       "  rendering on GitHub or <a href=\"https://nbviewer.jupyter.org/\">NBViewer</a>),\n",
       "  it may mean that your frontend doesn't currently support widgets.\n",
       "</p>\n"
      ],
      "text/plain": [
       "HBox(children=(NGLWidget(), VBox(children=(Dropdown(description='Show', options=('All', 'H'), value='All'), FloatSlider(value=0.8, description='Ball size', max=1.5, step=0.01)))))"
      ]
     },
     "metadata": {},
     "output_type": "display_data"
    }
   ],
   "source": [
    "view(indenter100AngBend,viewer=\"ngl\")"
   ]
  },
  {
   "cell_type": "code",
   "execution_count": 13,
   "metadata": {},
   "outputs": [],
   "source": [
    "indenter100AngStepped = read(\"100Ang_stepped.lammps\", format=\"lammps-data\")"
   ]
  },
  {
   "cell_type": "code",
   "execution_count": 14,
   "metadata": {},
   "outputs": [
    {
     "data": {
      "application/vnd.jupyter.widget-view+json": {
       "model_id": "421ddf178bf74359b857a9b6b459d3f8",
       "version_major": 2,
       "version_minor": 0
      },
      "text/html": [
       "<p>Failed to display Jupyter Widget of type <code>HBox</code>.</p>\n",
       "<p>\n",
       "  If you're reading this message in Jupyter Notebook or JupyterLab, it may mean\n",
       "  that the widgets JavaScript is still loading. If this message persists, it\n",
       "  likely means that the widgets JavaScript library is either not installed or\n",
       "  not enabled. See the <a href=\"https://ipywidgets.readthedocs.io/en/stable/user_install.html\">Jupyter\n",
       "  Widgets Documentation</a> for setup instructions.\n",
       "</p>\n",
       "<p>\n",
       "  If you're reading this message in another notebook frontend (for example, a static\n",
       "  rendering on GitHub or <a href=\"https://nbviewer.jupyter.org/\">NBViewer</a>),\n",
       "  it may mean that your frontend doesn't currently support widgets.\n",
       "</p>\n"
      ],
      "text/plain": [
       "HBox(children=(NGLWidget(), VBox(children=(Dropdown(description='Show', options=('All', 'H'), value='All'), FloatSlider(value=0.8, description='Ball size', max=1.5, step=0.01)))))"
      ]
     },
     "metadata": {},
     "output_type": "display_data"
    }
   ],
   "source": [
    "view(indenter100AngStepped,viewer=\"ngl\")"
   ]
  },
  {
   "cell_type": "code",
   "execution_count": null,
   "metadata": {},
   "outputs": [],
   "source": []
  }
 ],
 "metadata": {
  "kernelspec": {
   "display_name": "Python 3",
   "language": "python",
   "name": "python3"
  },
  "language_info": {
   "codemirror_mode": {
    "name": "ipython",
    "version": 3
   },
   "file_extension": ".py",
   "mimetype": "text/x-python",
   "name": "python",
   "nbconvert_exporter": "python",
   "pygments_lexer": "ipython3",
   "version": "3.6.7"
  }
 },
 "nbformat": 4,
 "nbformat_minor": 2
}
