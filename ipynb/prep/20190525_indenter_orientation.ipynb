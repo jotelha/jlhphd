{
 "cells": [
  {
   "cell_type": "code",
   "execution_count": 1,
   "metadata": {
    "ExecuteTime": {
     "end_time": "2019-05-25T11:30:34.145739Z",
     "start_time": "2019-05-25T11:30:34.112427Z"
    }
   },
   "outputs": [],
   "source": [
    "%load_ext autoreload\n",
    "%autoreload 2"
   ]
  },
  {
   "cell_type": "code",
   "execution_count": 3,
   "metadata": {
    "ExecuteTime": {
     "end_time": "2019-05-25T11:31:27.007203Z",
     "start_time": "2019-05-25T11:31:26.980619Z"
    }
   },
   "outputs": [],
   "source": [
    "import numpy as np\n",
    "import matplotlib.pyplot as plt\n",
    "%matplotlib inline"
   ]
  },
  {
   "cell_type": "code",
   "execution_count": 4,
   "metadata": {
    "ExecuteTime": {
     "end_time": "2019-05-25T11:31:28.458915Z",
     "start_time": "2019-05-25T11:31:28.430191Z"
    }
   },
   "outputs": [],
   "source": [
    "# matplotlib settings\n",
    "\n",
    "# expecially for presentation, larger font settings for plotting are recommendable\n",
    "SMALL_SIZE = 20\n",
    "MEDIUM_SIZE = 22\n",
    "BIGGER_SIZE = 26\n",
    "\n",
    "plt.rc(\"font\", size=MEDIUM_SIZE)          # controls default text sizes\n",
    "plt.rc(\"axes\", titlesize=MEDIUM_SIZE)     # fontsize of the axes title\n",
    "plt.rc(\"axes\", labelsize=MEDIUM_SIZE)    # fontsize of the x and y labels\n",
    "plt.rc(\"xtick\", labelsize=SMALL_SIZE)    # fontsize of the tick labels\n",
    "plt.rc(\"ytick\", labelsize=SMALL_SIZE)    # fontsize of the tick labels\n",
    "plt.rc(\"legend\", fontsize=MEDIUM_SIZE)    # legend fontsize\n",
    "plt.rc(\"figure\", titlesize=BIGGER_SIZE)  # fontsize of the figure title\n",
    "\n",
    "plt.rcParams[\"figure.figsize\"] = (8,5) # the standard figure size\n",
    "\n",
    "plt.rcParams[\"lines.linewidth\"] = 4\n",
    "plt.rcParams[\"lines.markersize\"] = 14\n",
    "plt.rcParams[\"lines.markeredgewidth\"]=1"
   ]
  },
  {
   "cell_type": "markdown",
   "metadata": {},
   "source": [
    "## 1st try"
   ]
  },
  {
   "cell_type": "code",
   "execution_count": 11,
   "metadata": {
    "ExecuteTime": {
     "end_time": "2019-05-25T11:42:53.454524Z",
     "start_time": "2019-05-25T11:42:53.432570Z"
    }
   },
   "outputs": [],
   "source": [
    "a = np.array([ 0.45790415, -0.71493305, -0.5277788 ])"
   ]
  },
  {
   "cell_type": "code",
   "execution_count": 13,
   "metadata": {
    "ExecuteTime": {
     "end_time": "2019-05-25T11:43:39.858478Z",
     "start_time": "2019-05-25T11:43:39.827318Z"
    }
   },
   "outputs": [],
   "source": [
    "b = np.array([1,0,0])"
   ]
  },
  {
   "cell_type": "code",
   "execution_count": 14,
   "metadata": {
    "ExecuteTime": {
     "end_time": "2019-05-25T11:43:42.241363Z",
     "start_time": "2019-05-25T11:43:42.216539Z"
    }
   },
   "outputs": [
    {
     "data": {
      "text/plain": [
       "array([ 0.        , -0.5277788 ,  0.71493305])"
      ]
     },
     "execution_count": 14,
     "metadata": {},
     "output_type": "execute_result"
    }
   ],
   "source": [
    "np.cross(a,b)"
   ]
  },
  {
   "cell_type": "code",
   "execution_count": 18,
   "metadata": {
    "ExecuteTime": {
     "end_time": "2019-05-25T11:45:33.746268Z",
     "start_time": "2019-05-25T11:45:33.716836Z"
    }
   },
   "outputs": [],
   "source": [
    "calpha = np.dot(a,b)/(np.linalg.norm(a)*np.linalg.norm(b))"
   ]
  },
  {
   "cell_type": "code",
   "execution_count": 19,
   "metadata": {
    "ExecuteTime": {
     "end_time": "2019-05-25T11:45:36.164134Z",
     "start_time": "2019-05-25T11:45:36.131751Z"
    }
   },
   "outputs": [
    {
     "data": {
      "text/plain": [
       "0.45805168053077955"
      ]
     },
     "execution_count": 19,
     "metadata": {},
     "output_type": "execute_result"
    }
   ],
   "source": [
    "calpha"
   ]
  },
  {
   "cell_type": "code",
   "execution_count": 21,
   "metadata": {
    "ExecuteTime": {
     "end_time": "2019-05-25T11:46:51.222458Z",
     "start_time": "2019-05-25T11:46:51.198396Z"
    }
   },
   "outputs": [],
   "source": [
    "alpha = np.arccos(calpha)"
   ]
  },
  {
   "cell_type": "code",
   "execution_count": 22,
   "metadata": {
    "ExecuteTime": {
     "end_time": "2019-05-25T11:46:53.542676Z",
     "start_time": "2019-05-25T11:46:53.516870Z"
    }
   },
   "outputs": [
    {
     "data": {
      "text/plain": [
       "1.0949941380878898"
      ]
     },
     "execution_count": 22,
     "metadata": {},
     "output_type": "execute_result"
    }
   ],
   "source": [
    "alpha"
   ]
  },
  {
   "cell_type": "code",
   "execution_count": 24,
   "metadata": {
    "ExecuteTime": {
     "end_time": "2019-05-25T11:47:31.607459Z",
     "start_time": "2019-05-25T11:47:31.585718Z"
    }
   },
   "outputs": [
    {
     "data": {
      "text/plain": [
       "62.738542704001354"
      ]
     },
     "execution_count": 24,
     "metadata": {},
     "output_type": "execute_result"
    }
   ],
   "source": [
    "alpha*180/np.pi"
   ]
  },
  {
   "cell_type": "markdown",
   "metadata": {
    "ExecuteTime": {
     "end_time": "2019-05-25T15:19:41.790357Z",
     "start_time": "2019-05-25T15:19:41.755288Z"
    }
   },
   "source": [
    "## 2nd Try"
   ]
  },
  {
   "cell_type": "code",
   "execution_count": 26,
   "metadata": {
    "ExecuteTime": {
     "end_time": "2019-05-25T15:20:07.211507Z",
     "start_time": "2019-05-25T15:20:07.181623Z"
    }
   },
   "outputs": [],
   "source": [
    "a = np.array([-0.17045593, -0.75755037, 0.62502691])"
   ]
  },
  {
   "cell_type": "code",
   "execution_count": 27,
   "metadata": {
    "ExecuteTime": {
     "end_time": "2019-05-25T15:20:12.685703Z",
     "start_time": "2019-05-25T15:20:12.661624Z"
    }
   },
   "outputs": [],
   "source": [
    "b = np.array([0,0,1])"
   ]
  },
  {
   "cell_type": "code",
   "execution_count": 28,
   "metadata": {
    "ExecuteTime": {
     "end_time": "2019-05-25T15:20:14.798823Z",
     "start_time": "2019-05-25T15:20:14.767574Z"
    }
   },
   "outputs": [
    {
     "data": {
      "text/plain": [
       "array([-0.75755037,  0.17045593,  0.        ])"
      ]
     },
     "execution_count": 28,
     "metadata": {},
     "output_type": "execute_result"
    }
   ],
   "source": [
    "np.cross(a,b)"
   ]
  },
  {
   "cell_type": "code",
   "execution_count": 29,
   "metadata": {
    "ExecuteTime": {
     "end_time": "2019-05-25T15:20:36.926064Z",
     "start_time": "2019-05-25T15:20:36.896851Z"
    }
   },
   "outputs": [],
   "source": [
    "calpha = np.dot(a,b)/(np.linalg.norm(a)*np.linalg.norm(b))"
   ]
  },
  {
   "cell_type": "code",
   "execution_count": 30,
   "metadata": {
    "ExecuteTime": {
     "end_time": "2019-05-25T15:20:37.718497Z",
     "start_time": "2019-05-25T15:20:37.688433Z"
    }
   },
   "outputs": [
    {
     "data": {
      "text/plain": [
       "0.6270377759454986"
      ]
     },
     "execution_count": 30,
     "metadata": {},
     "output_type": "execute_result"
    }
   ],
   "source": [
    "calpha"
   ]
  },
  {
   "cell_type": "code",
   "execution_count": 31,
   "metadata": {
    "ExecuteTime": {
     "end_time": "2019-05-25T15:20:38.188684Z",
     "start_time": "2019-05-25T15:20:38.163511Z"
    }
   },
   "outputs": [],
   "source": [
    "alpha = np.arccos(calpha)"
   ]
  },
  {
   "cell_type": "code",
   "execution_count": 32,
   "metadata": {
    "ExecuteTime": {
     "end_time": "2019-05-25T15:20:38.681274Z",
     "start_time": "2019-05-25T15:20:38.654418Z"
    }
   },
   "outputs": [
    {
     "data": {
      "text/plain": [
       "0.8930516148154538"
      ]
     },
     "execution_count": 32,
     "metadata": {},
     "output_type": "execute_result"
    }
   ],
   "source": [
    "alpha"
   ]
  },
  {
   "cell_type": "code",
   "execution_count": 33,
   "metadata": {
    "ExecuteTime": {
     "end_time": "2019-05-25T15:20:39.151961Z",
     "start_time": "2019-05-25T15:20:39.129257Z"
    }
   },
   "outputs": [
    {
     "data": {
      "text/plain": [
       "51.16808841626837"
      ]
     },
     "execution_count": 33,
     "metadata": {},
     "output_type": "execute_result"
    }
   ],
   "source": [
    "alpha*180/np.pi"
   ]
  },
  {
   "cell_type": "code",
   "execution_count": null,
   "metadata": {},
   "outputs": [],
   "source": []
  },
  {
   "cell_type": "markdown",
   "metadata": {
    "ExecuteTime": {
     "end_time": "2019-05-25T15:19:41.790357Z",
     "start_time": "2019-05-25T15:19:41.755288Z"
    }
   },
   "source": [
    "## 2nd try, 2nd step"
   ]
  },
  {
   "cell_type": "code",
   "execution_count": 50,
   "metadata": {
    "ExecuteTime": {
     "end_time": "2019-05-25T15:44:02.085516Z",
     "start_time": "2019-05-25T15:44:02.056654Z"
    }
   },
   "outputs": [],
   "source": [
    "a = np.array([30, 22, -66])"
   ]
  },
  {
   "cell_type": "code",
   "execution_count": 51,
   "metadata": {
    "ExecuteTime": {
     "end_time": "2019-05-25T15:44:02.609792Z",
     "start_time": "2019-05-25T15:44:02.588453Z"
    }
   },
   "outputs": [],
   "source": [
    "b = np.array([0,0,-1])"
   ]
  },
  {
   "cell_type": "code",
   "execution_count": 52,
   "metadata": {
    "ExecuteTime": {
     "end_time": "2019-05-25T15:44:03.677329Z",
     "start_time": "2019-05-25T15:44:03.647580Z"
    }
   },
   "outputs": [
    {
     "data": {
      "text/plain": [
       "array([-22,  30,   0])"
      ]
     },
     "execution_count": 52,
     "metadata": {},
     "output_type": "execute_result"
    }
   ],
   "source": [
    "np.cross(a,b)"
   ]
  },
  {
   "cell_type": "code",
   "execution_count": 53,
   "metadata": {
    "ExecuteTime": {
     "end_time": "2019-05-25T15:44:04.315890Z",
     "start_time": "2019-05-25T15:44:04.294677Z"
    }
   },
   "outputs": [],
   "source": [
    "calpha = np.dot(a,b)/(np.linalg.norm(a)*np.linalg.norm(b))"
   ]
  },
  {
   "cell_type": "code",
   "execution_count": 54,
   "metadata": {
    "ExecuteTime": {
     "end_time": "2019-05-25T15:44:07.243945Z",
     "start_time": "2019-05-25T15:44:07.214599Z"
    }
   },
   "outputs": [
    {
     "data": {
      "text/plain": [
       "0.8711400676249501"
      ]
     },
     "execution_count": 54,
     "metadata": {},
     "output_type": "execute_result"
    }
   ],
   "source": [
    "calpha"
   ]
  },
  {
   "cell_type": "code",
   "execution_count": 55,
   "metadata": {
    "ExecuteTime": {
     "end_time": "2019-05-25T15:44:07.814524Z",
     "start_time": "2019-05-25T15:44:07.799610Z"
    }
   },
   "outputs": [],
   "source": [
    "alpha = np.arccos(calpha)"
   ]
  },
  {
   "cell_type": "code",
   "execution_count": 56,
   "metadata": {
    "ExecuteTime": {
     "end_time": "2019-05-25T15:44:08.242291Z",
     "start_time": "2019-05-25T15:44:08.220525Z"
    }
   },
   "outputs": [
    {
     "data": {
      "text/plain": [
       "0.5132769999324015"
      ]
     },
     "execution_count": 56,
     "metadata": {},
     "output_type": "execute_result"
    }
   ],
   "source": [
    "alpha"
   ]
  },
  {
   "cell_type": "code",
   "execution_count": 57,
   "metadata": {
    "ExecuteTime": {
     "end_time": "2019-05-25T15:44:08.629315Z",
     "start_time": "2019-05-25T15:44:08.600284Z"
    }
   },
   "outputs": [
    {
     "data": {
      "text/plain": [
       "29.408605817263247"
      ]
     },
     "execution_count": 57,
     "metadata": {},
     "output_type": "execute_result"
    }
   ],
   "source": [
    "alpha*180/np.pi"
   ]
  },
  {
   "cell_type": "code",
   "execution_count": null,
   "metadata": {},
   "outputs": [],
   "source": []
  }
 ],
 "metadata": {
  "hide_input": false,
  "kernelspec": {
   "display_name": "Python 3 (ovitos)",
   "language": "python",
   "name": "python3-ovitos"
  },
  "language_info": {
   "codemirror_mode": {
    "name": "ipython",
    "version": 3
   },
   "file_extension": ".py",
   "mimetype": "text/x-python",
   "name": "python",
   "nbconvert_exporter": "python",
   "pygments_lexer": "ipython3",
   "version": "3.6.7"
  },
  "latex_envs": {
   "LaTeX_envs_menu_present": true,
   "autoclose": false,
   "autocomplete": true,
   "bibliofile": "biblio.bib",
   "cite_by": "apalike",
   "current_citInitial": 1,
   "eqLabelWithNumbers": true,
   "eqNumInitial": 1,
   "hotkeys": {
    "equation": "Ctrl-E",
    "itemize": "Ctrl-I"
   },
   "labels_anchors": false,
   "latex_user_defs": false,
   "report_style_numbering": false,
   "user_envs_cfg": false
  },
  "toc": {
   "base_numbering": 1,
   "nav_menu": {},
   "number_sections": true,
   "sideBar": true,
   "skip_h1_title": false,
   "title_cell": "Table of Contents",
   "title_sidebar": "Contents",
   "toc_cell": false,
   "toc_position": {},
   "toc_section_display": true,
   "toc_window_display": false
  },
  "varInspector": {
   "cols": {
    "lenName": 16,
    "lenType": 16,
    "lenVar": 40
   },
   "kernels_config": {
    "python": {
     "delete_cmd_postfix": "",
     "delete_cmd_prefix": "del ",
     "library": "var_list.py",
     "varRefreshCmd": "print(var_dic_list())"
    },
    "r": {
     "delete_cmd_postfix": ") ",
     "delete_cmd_prefix": "rm(",
     "library": "var_list.r",
     "varRefreshCmd": "cat(var_dic_list()) "
    }
   },
   "types_to_exclude": [
    "module",
    "function",
    "builtin_function_or_method",
    "instance",
    "_Feature"
   ],
   "window_display": false
  }
 },
 "nbformat": 4,
 "nbformat_minor": 2
}
