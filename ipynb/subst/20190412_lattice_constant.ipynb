{
 "cells": [
  {
   "cell_type": "markdown",
   "metadata": {},
   "source": [
    "# EAM substrate lattice constants\n",
    "probed for substrate block of crystal plane orientation [[1,-1,0],[1,1,-2],[1,1,1]] cell constant mutliples (51,30,8)  measures in xyz directions. Initial configuration created with\n",
    "```python\n",
    "FaceCenteredCubic('Au', directions=[[1,-1,0],[1,1,-2],[1,1,1]], size=(51,30,8), pbc=(1,1,0) )\n",
    "```"
   ]
  },
  {
   "cell_type": "code",
   "execution_count": 18,
   "metadata": {
    "ExecuteTime": {
     "end_time": "2019-04-25T05:09:00.478700Z",
     "start_time": "2019-04-25T05:09:00.446281Z"
    }
   },
   "outputs": [
    {
     "name": "stdout",
     "output_type": "stream",
     "text": [
      "The autoreload extension is already loaded. To reload it, use:\n",
      "  %reload_ext autoreload\n"
     ]
    },
    {
     "data": {
      "text/html": [
       "<style>.container { width:100% !important; }</style>"
      ],
      "text/plain": [
       "<IPython.core.display.HTML object>"
      ]
     },
     "metadata": {},
     "output_type": "display_data"
    }
   ],
   "source": [
    "%load_ext autoreload\n",
    "%autoreload 2\n",
    "from IPython.core.display import display, HTML\n",
    "display(HTML(\"<style>.container { width:100% !important; }</style>\"))"
   ]
  },
  {
   "cell_type": "code",
   "execution_count": 19,
   "metadata": {
    "ExecuteTime": {
     "end_time": "2019-04-25T05:09:08.610947Z",
     "start_time": "2019-04-25T05:09:08.578874Z"
    }
   },
   "outputs": [],
   "source": [
    "import os.path\n",
    "import numpy as np\n",
    "import pandas as pd\n",
    "import matplotlib.pyplot as plt\n",
    "from tabulate import tabulate\n",
    "import logging\n",
    "from postprocessing import analyze_rdf, logger"
   ]
  },
  {
   "cell_type": "code",
   "execution_count": 20,
   "metadata": {
    "ExecuteTime": {
     "end_time": "2019-04-25T05:09:08.743603Z",
     "start_time": "2019-04-25T05:09:08.706886Z"
    }
   },
   "outputs": [],
   "source": [
    "# matplotlib settings\n",
    "\n",
    "# expecially for presentation, larger font settings for plotting are recommendable\n",
    "SMALL_SIZE = 20\n",
    "MEDIUM_SIZE = 22\n",
    "BIGGER_SIZE = 26\n",
    "\n",
    "plt.rc('font', size=MEDIUM_SIZE)          # controls default text sizes\n",
    "plt.rc('axes', titlesize=MEDIUM_SIZE)     # fontsize of the axes title\n",
    "plt.rc('axes', labelsize=MEDIUM_SIZE)    # fontsize of the x and y labels\n",
    "plt.rc('xtick', labelsize=SMALL_SIZE)    # fontsize of the tick labels\n",
    "plt.rc('ytick', labelsize=SMALL_SIZE)    # fontsize of the tick labels\n",
    "plt.rc('legend', fontsize=MEDIUM_SIZE)    # legend fontsize\n",
    "plt.rc('figure', titlesize=BIGGER_SIZE)  # fontsize of the figure titlex\n",
    "\n",
    "plt.rcParams[\"figure.figsize\"] = (8,5) # the standard figure size\n",
    "\n",
    "plt.rcParams[\"lines.linewidth\"] = 4\n",
    "plt.rcParams[\"lines.markersize\"] = 14\n",
    "plt.rcParams[\"lines.markeredgewidth\"]=1 "
   ]
  },
  {
   "cell_type": "markdown",
   "metadata": {},
   "source": [
    "## by RDF"
   ]
  },
  {
   "cell_type": "markdown",
   "metadata": {},
   "source": [
    "### 200 ps NPT, 51x30x8 bulk, 298 K, 0 atm"
   ]
  },
  {
   "cell_type": "code",
   "execution_count": 21,
   "metadata": {
    "ExecuteTime": {
     "end_time": "2019-04-25T05:09:09.872782Z",
     "start_time": "2019-04-25T05:09:09.842174Z"
    }
   },
   "outputs": [],
   "source": [
    "peak_positions = {}"
   ]
  },
  {
   "cell_type": "code",
   "execution_count": 22,
   "metadata": {
    "ExecuteTime": {
     "end_time": "2019-04-25T05:09:11.731507Z",
     "start_time": "2019-04-25T05:09:11.697243Z"
    }
   },
   "outputs": [],
   "source": [
    "prefix = '/mnt/dat/work/testuser/adsorption/N_surfactant_on_substrate_template/dat/subst/eam/20190412_series_8'"
   ]
  },
  {
   "cell_type": "code",
   "execution_count": 23,
   "metadata": {
    "ExecuteTime": {
     "end_time": "2019-04-25T05:09:17.817132Z",
     "start_time": "2019-04-25T05:09:11.823692Z"
    }
   },
   "outputs": [
    {
     "data": {
      "image/png": "[encoded data removed]",
      "text/plain": [
       "<Figure size 576x360 with 1 Axes>"
      ]
     },
     "metadata": {
      "needs_background": "light"
     },
     "output_type": "display_data"
    }
   ],
   "source": [
    "peak_positions[\n",
    "    \"NPT 200ps bulk, 1000 frames average, zero pressure\"] = \\\n",
    "    analyze_rdf(\n",
    "        os.path.join(prefix, '010_equilibration_npt_bulk_0_atm_rdf.txt'),\n",
    "        format='plain', interval=(3.5, 4.5))"
   ]
  },
  {
   "cell_type": "markdown",
   "metadata": {},
   "source": [
    "### 200 ps NPT, 51x30x8 bulk, 298 K, 0 atm, FCC only"
   ]
  },
  {
   "cell_type": "code",
   "execution_count": 24,
   "metadata": {
    "ExecuteTime": {
     "end_time": "2019-04-25T05:09:23.424705Z",
     "start_time": "2019-04-25T05:09:17.840858Z"
    }
   },
   "outputs": [
    {
     "data": {
      "image/png": "[encoded data removed]",
      "text/plain": [
       "<Figure size 576x360 with 1 Axes>"
      ]
     },
     "metadata": {
      "needs_background": "light"
     },
     "output_type": "display_data"
    }
   ],
   "source": [
    "peak_positions[\n",
    "    \"NPT 200ps bulk, 1000 frames average, zero pressure, fcc only\"] = analyze_rdf(\n",
    "        os.path.join(prefix, '010_equilibration_npt_bulk_0_atm_fcc_rdf.txt'),\n",
    "        format='plain',\n",
    "        interval=(3.5, 4.5))"
   ]
  },
  {
   "cell_type": "markdown",
   "metadata": {},
   "source": [
    "## 200 ps NPT, 51x30x8 bulk, 298 K, 1 atm"
   ]
  },
  {
   "cell_type": "code",
   "execution_count": 25,
   "metadata": {
    "ExecuteTime": {
     "end_time": "2019-04-25T05:09:28.763458Z",
     "start_time": "2019-04-25T05:09:23.448581Z"
    }
   },
   "outputs": [
    {
     "data": {
      "image/png": "[encoded data removed]",
      "text/plain": [
       "<Figure size 576x360 with 1 Axes>"
      ]
     },
     "metadata": {
      "needs_background": "light"
     },
     "output_type": "display_data"
    }
   ],
   "source": [
    "peak_positions[\"NPT 200ps bulk, 1000 frames average, 1 atm\"] = analyze_rdf(\n",
    "    os.path.join(prefix,'020_equilibration_npt_bulk_1_atm_rdf.txt'),\n",
    "    format='plain',\n",
    "    interval=(3.5, 4.5))"
   ]
  },
  {
   "cell_type": "markdown",
   "metadata": {},
   "source": [
    "### 200 ps NPT, 51x30x8 bulk, 298 K, 1 atm, FCC only"
   ]
  },
  {
   "cell_type": "code",
   "execution_count": 26,
   "metadata": {
    "ExecuteTime": {
     "end_time": "2019-04-25T05:09:34.332440Z",
     "start_time": "2019-04-25T05:09:28.787632Z"
    }
   },
   "outputs": [
    {
     "data": {
      "image/png": "[encoded data removed]",
      "text/plain": [
       "<Figure size 576x360 with 1 Axes>"
      ]
     },
     "metadata": {
      "needs_background": "light"
     },
     "output_type": "display_data"
    }
   ],
   "source": [
    "peak_positions[\n",
    "    \"NPT 200ps bulk, 1000 frames average, 1 atm, fcc only\"] = analyze_rdf(\n",
    "        os.path.join(prefix,'020_equilibration_npt_bulk_1_atm_fcc_rdf.txt'),\n",
    "        format='plain',\n",
    "        interval=(3.5, 4.5))"
   ]
  },
  {
   "cell_type": "markdown",
   "metadata": {},
   "source": [
    "### 200 ps NPT, 51x30x8 slab, 298 K, 0 atm"
   ]
  },
  {
   "cell_type": "code",
   "execution_count": 27,
   "metadata": {
    "ExecuteTime": {
     "end_time": "2019-04-25T05:09:39.644034Z",
     "start_time": "2019-04-25T05:09:34.354133Z"
    }
   },
   "outputs": [
    {
     "data": {
      "image/png": "[encoded data removed]",
      "text/plain": [
       "<Figure size 576x360 with 1 Axes>"
      ]
     },
     "metadata": {
      "needs_background": "light"
     },
     "output_type": "display_data"
    }
   ],
   "source": [
    "peak_positions[\n",
    "    \"NPT 200ps slab, 1000 frames average, zero pressure\"] = analyze_rdf(\n",
    "        os.path.join(prefix,'030_equilibration_npt_slab_0_atm_rdf.txt'),\n",
    "        format='plain',\n",
    "        interval=(3.5, 4.5))"
   ]
  },
  {
   "cell_type": "markdown",
   "metadata": {},
   "source": [
    "### 200 ps NPT, 51x30x8 slab, 298 K, 0 atm, FCC only"
   ]
  },
  {
   "cell_type": "code",
   "execution_count": 28,
   "metadata": {
    "ExecuteTime": {
     "end_time": "2019-04-25T05:09:45.181137Z",
     "start_time": "2019-04-25T05:09:39.664759Z"
    }
   },
   "outputs": [
    {
     "data": {
      "image/png": "[encoded data removed]",
      "text/plain": [
       "<Figure size 576x360 with 1 Axes>"
      ]
     },
     "metadata": {
      "needs_background": "light"
     },
     "output_type": "display_data"
    }
   ],
   "source": [
    "peak_positions[\n",
    "    \"NPT 200ps slab, 1000 frames average, zero pressure, fcc only\"] = analyze_rdf(\n",
    "        os.path.join(prefix,'030_equilibration_npt_slab_0_atm_fcc_rdf.txt'),\n",
    "        format='plain',\n",
    "        interval=(3.5, 4.5))"
   ]
  },
  {
   "cell_type": "markdown",
   "metadata": {},
   "source": [
    "### 200 ps NPT, 51x30x8 slab, 298 K, 1 atm"
   ]
  },
  {
   "cell_type": "code",
   "execution_count": 29,
   "metadata": {
    "ExecuteTime": {
     "end_time": "2019-04-25T05:09:50.780963Z",
     "start_time": "2019-04-25T05:09:45.201760Z"
    }
   },
   "outputs": [
    {
     "data": {
      "image/png": "[encoded data removed]",
      "text/plain": [
       "<Figure size 576x360 with 1 Axes>"
      ]
     },
     "metadata": {
      "needs_background": "light"
     },
     "output_type": "display_data"
    }
   ],
   "source": [
    "peak_positions[\"NPT 200ps slab, 1000 frames average, 1 atm\"] = analyze_rdf(\n",
    "    os.path.join(prefix,'040_equilibration_npt_slab_1_atm_rdf.txt'),\n",
    "    format='plain',\n",
    "    interval=(3.5, 4.5))"
   ]
  },
  {
   "cell_type": "markdown",
   "metadata": {},
   "source": [
    "### 200 ps NPT, 51x30x8 slab, 298 K, 1 atm， FCC only"
   ]
  },
  {
   "cell_type": "code",
   "execution_count": 30,
   "metadata": {
    "ExecuteTime": {
     "end_time": "2019-04-25T05:09:56.374716Z",
     "start_time": "2019-04-25T05:09:50.801945Z"
    }
   },
   "outputs": [
    {
     "data": {
      "image/png": "[encoded data removed]",
      "text/plain": [
       "<Figure size 576x360 with 1 Axes>"
      ]
     },
     "metadata": {
      "needs_background": "light"
     },
     "output_type": "display_data"
    }
   ],
   "source": [
    "peak_positions[\n",
    "    \"NPT 200ps slab, 1000 frames average, 1 atm, fcc only\"] = analyze_rdf(\n",
    "        os.path.join(prefix,'040_equilibration_npt_slab_1_atm_fcc_rdf.txt'),\n",
    "        format='plain',\n",
    "        interval=(3.5, 4.5))"
   ]
  },
  {
   "cell_type": "markdown",
   "metadata": {},
   "source": [
    "### 200 ps NPT, 51x30x21 bulk, 298 K, 1 atm"
   ]
  },
  {
   "cell_type": "code",
   "execution_count": 31,
   "metadata": {
    "ExecuteTime": {
     "end_time": "2019-04-25T05:09:56.409322Z",
     "start_time": "2019-04-25T05:09:56.395775Z"
    }
   },
   "outputs": [],
   "source": [
    "prefix = '/mnt/dat/work/testuser/adsorption/N_surfactant_on_substrate_template/dat/subst/eam/20190424_series_9'"
   ]
  },
  {
   "cell_type": "code",
   "execution_count": 32,
   "metadata": {
    "ExecuteTime": {
     "end_time": "2019-04-25T05:10:02.110691Z",
     "start_time": "2019-04-25T05:09:56.410932Z"
    }
   },
   "outputs": [
    {
     "data": {
      "image/png": "[encoded data removed]",
      "text/plain": [
       "<Figure size 576x360 with 1 Axes>"
      ]
     },
     "metadata": {
      "needs_background": "light"
     },
     "output_type": "display_data"
    }
   ],
   "source": [
    "peak_positions[\n",
    "    \"NPT 200ps cube bulk, 1000 frames average, 1 atm\"] = analyze_rdf(\n",
    "        os.path.join(prefix,'substrate_AU_111_51x30x21_rdf.txt'),\n",
    "        format='plain',\n",
    "        interval=(3.5, 4.5))"
   ]
  },
  {
   "cell_type": "markdown",
   "metadata": {},
   "source": [
    "### 200 ps NPT, 51x30x21 bulk, 298 K, 1 atm， FCC only"
   ]
  },
  {
   "cell_type": "code",
   "execution_count": 33,
   "metadata": {
    "ExecuteTime": {
     "end_time": "2019-04-25T05:10:07.796691Z",
     "start_time": "2019-04-25T05:10:02.134745Z"
    }
   },
   "outputs": [
    {
     "data": {
      "image/png": "[encoded data removed]",
      "text/plain": [
       "<Figure size 576x360 with 1 Axes>"
      ]
     },
     "metadata": {
      "needs_background": "light"
     },
     "output_type": "display_data"
    }
   ],
   "source": [
    "peak_positions[\n",
    "    \"NPT 200ps cube bulk, 1000 frames average, 1 atm, fcc only\"] = analyze_rdf(\n",
    "        os.path.join(prefix,'substrate_AU_111_51x30x21_fcc_rdf.txt'),\n",
    "        format='plain',\n",
    "        interval=(3.5, 4.5))"
   ]
  },
  {
   "cell_type": "markdown",
   "metadata": {},
   "source": [
    "## Summary"
   ]
  },
  {
   "cell_type": "code",
   "execution_count": 34,
   "metadata": {
    "ExecuteTime": {
     "end_time": "2019-04-25T05:10:07.856773Z",
     "start_time": "2019-04-25T05:10:07.842024Z"
    }
   },
   "outputs": [],
   "source": [
    "header = 'mean lattice constant (Angstrom)'"
   ]
  },
  {
   "cell_type": "code",
   "execution_count": 35,
   "metadata": {
    "ExecuteTime": {
     "end_time": "2019-04-25T05:10:07.894836Z",
     "start_time": "2019-04-25T05:10:07.875854Z"
    }
   },
   "outputs": [
    {
     "name": "stdout",
     "output_type": "stream",
     "text": [
      "╒══════════════════════════════════════════════════════════════╤════════════════════════════════════╕\n",
      "│                                                              │   mean lattice constant (Angstrom) │\n",
      "╞══════════════════════════════════════════════════════════════╪════════════════════════════════════╡\n",
      "│ NPT 200ps bulk, 1000 frames average, zero pressure           │                            4.07075 │\n",
      "├──────────────────────────────────────────────────────────────┼────────────────────────────────────┤\n",
      "│ NPT 200ps bulk, 1000 frames average, zero pressure, fcc only │                            4.07075 │\n",
      "├──────────────────────────────────────────────────────────────┼────────────────────────────────────┤\n",
      "│ NPT 200ps bulk, 1000 frames average, 1 atm                   │                            4.07075 │\n",
      "├──────────────────────────────────────────────────────────────┼────────────────────────────────────┤\n",
      "│ NPT 200ps bulk, 1000 frames average, 1 atm, fcc only         │                            4.07075 │\n",
      "├──────────────────────────────────────────────────────────────┼────────────────────────────────────┤\n",
      "│ NPT 200ps slab, 1000 frames average, zero pressure           │                            4.06015 │\n",
      "├──────────────────────────────────────────────────────────────┼────────────────────────────────────┤\n",
      "│ NPT 200ps slab, 1000 frames average, zero pressure, fcc only │                            4.06605 │\n",
      "├──────────────────────────────────────────────────────────────┼────────────────────────────────────┤\n",
      "│ NPT 200ps slab, 1000 frames average, 1 atm                   │                            4.06015 │\n",
      "├──────────────────────────────────────────────────────────────┼────────────────────────────────────┤\n",
      "│ NPT 200ps slab, 1000 frames average, 1 atm, fcc only         │                            4.06605 │\n",
      "├──────────────────────────────────────────────────────────────┼────────────────────────────────────┤\n",
      "│ NPT 200ps cube bulk, 1000 frames average, 1 atm              │                            4.07076 │\n",
      "├──────────────────────────────────────────────────────────────┼────────────────────────────────────┤\n",
      "│ NPT 200ps cube bulk, 1000 frames average, 1 atm, fcc only    │                            4.07076 │\n",
      "╘══════════════════════════════════════════════════════════════╧════════════════════════════════════╛\n"
     ]
    }
   ],
   "source": [
    "print(\n",
    "    tabulate( zip(peak_positions.keys(), peak_positions.values()),\n",
    "            headers  = ('',header),\n",
    "            tablefmt = 'fancy_grid'))"
   ]
  },
  {
   "cell_type": "markdown",
   "metadata": {},
   "source": [
    "## by box measures:"
   ]
  },
  {
   "cell_type": "code",
   "execution_count": 81,
   "metadata": {
    "ExecuteTime": {
     "end_time": "2019-04-25T05:20:31.078961Z",
     "start_time": "2019-04-25T05:20:31.041782Z"
    }
   },
   "outputs": [],
   "source": [
    "prefix = '/mnt/dat/work/testuser/adsorption/N_surfactant_on_substrate_template/dat/subst/eam/20190412_series_8'"
   ]
  },
  {
   "cell_type": "code",
   "execution_count": 82,
   "metadata": {
    "ExecuteTime": {
     "end_time": "2019-04-25T05:20:31.248274Z",
     "start_time": "2019-04-25T05:20:31.222070Z"
    }
   },
   "outputs": [],
   "source": [
    "cell_measures = {}"
   ]
  },
  {
   "cell_type": "code",
   "execution_count": 83,
   "metadata": {
    "ExecuteTime": {
     "end_time": "2019-04-25T05:20:31.384190Z",
     "start_time": "2019-04-25T05:20:31.349028Z"
    }
   },
   "outputs": [],
   "source": [
    "cell_measures['bulk_0_atm'] = np.loadtxt(\n",
    "    os.path.join(prefix,'010_equilibration_npt_bulk_0_atm_box.txt'))"
   ]
  },
  {
   "cell_type": "code",
   "execution_count": 84,
   "metadata": {
    "ExecuteTime": {
     "end_time": "2019-04-25T05:20:31.512940Z",
     "start_time": "2019-04-25T05:20:31.481829Z"
    }
   },
   "outputs": [],
   "source": [
    "cell_measures['bulk_1_atm'] = np.loadtxt(\n",
    "    os.path.join(prefix,'020_equilibration_npt_bulk_1_atm_box.txt'))"
   ]
  },
  {
   "cell_type": "code",
   "execution_count": 85,
   "metadata": {
    "ExecuteTime": {
     "end_time": "2019-04-25T05:20:32.069627Z",
     "start_time": "2019-04-25T05:20:32.033709Z"
    }
   },
   "outputs": [],
   "source": [
    "cell_measures['slab_0_atm'] = np.loadtxt(\n",
    "    os.path.join(prefix,'030_equilibration_npt_slab_0_atm_box.txt'))\n",
    "cell_measures['slab_0_atm'][:,2] -= 60 # correction for 60 Ang vacuum"
   ]
  },
  {
   "cell_type": "code",
   "execution_count": 86,
   "metadata": {
    "ExecuteTime": {
     "end_time": "2019-04-25T05:20:42.520919Z",
     "start_time": "2019-04-25T05:20:42.486214Z"
    }
   },
   "outputs": [],
   "source": [
    "cell_measures['slab_1_atm'] = np.loadtxt(\n",
    "    os.path.join(prefix,'040_equilibration_npt_slab_1_atm_box.txt'))\n",
    "cell_measures['slab_1_atm'][:,2] -= 60 # correction for 60 Ang vacuum"
   ]
  },
  {
   "cell_type": "code",
   "execution_count": 87,
   "metadata": {
    "ExecuteTime": {
     "end_time": "2019-04-25T05:20:43.460320Z",
     "start_time": "2019-04-25T05:20:43.426696Z"
    }
   },
   "outputs": [],
   "source": [
    "prefix = '/mnt/dat/work/testuser/adsorption/N_surfactant_on_substrate_template/dat/subst/eam/20190424_series_9'"
   ]
  },
  {
   "cell_type": "code",
   "execution_count": 88,
   "metadata": {
    "ExecuteTime": {
     "end_time": "2019-04-25T05:20:43.667621Z",
     "start_time": "2019-04-25T05:20:43.633744Z"
    }
   },
   "outputs": [],
   "source": [
    "cell_measures['cube_bulk_1_atm'] = np.loadtxt(\n",
    "    os.path.join(prefix,'substrate_AU_111_51x30x21_box.txt'))"
   ]
  },
  {
   "cell_type": "code",
   "execution_count": 89,
   "metadata": {
    "ExecuteTime": {
     "end_time": "2019-04-25T05:20:44.314236Z",
     "start_time": "2019-04-25T05:20:44.278747Z"
    }
   },
   "outputs": [],
   "source": [
    "t = np.linspace(0,200.0,len(cell_measures['bulk_0_atm']))"
   ]
  },
  {
   "cell_type": "markdown",
   "metadata": {},
   "source": [
    "### NPT 200 ps, 51x30x8 bulk, 0 atm: box measures"
   ]
  },
  {
   "cell_type": "code",
   "execution_count": 90,
   "metadata": {
    "ExecuteTime": {
     "end_time": "2019-04-25T05:20:46.503376Z",
     "start_time": "2019-04-25T05:20:45.482101Z"
    }
   },
   "outputs": [
    {
     "data": {
      "text/plain": [
       "Text(0, 0.5, 'd ($\\\\AA$)')"
      ]
     },
     "execution_count": 90,
     "metadata": {},
     "output_type": "execute_result"
    },
    {
     "data": {
      "image/png": "[encoded data removed]",
      "text/plain": [
       "<Figure size 576x360 with 3 Axes>"
      ]
     },
     "metadata": {
      "needs_background": "light"
     },
     "output_type": "display_data"
    }
   ],
   "source": [
    "plt.subplot(131)\n",
    "plt.plot(t, cell_measures['bulk_0_atm'][:,0], label='x' )\n",
    "plt.title('x')\n",
    "plt.xlabel(\"t (ps)\")\n",
    "plt.ylabel(\"d ($\\AA$)\")\n",
    "plt.subplot(132)\n",
    "plt.plot(t, cell_measures['bulk_0_atm'][:,1], label='y' )\n",
    "plt.title('y')\n",
    "plt.xlabel(\"t (ps)\")\n",
    "plt.ylabel(\"d ($\\AA$)\")\n",
    "plt.subplot(133)\n",
    "plt.plot(t, cell_measures['bulk_0_atm'][:,2], label='z' )\n",
    "plt.title('z')\n",
    "#plt.legend()\n",
    "plt.xlabel(\"t (ps)\")\n",
    "plt.ylabel(\"d ($\\AA$)\")"
   ]
  },
  {
   "cell_type": "markdown",
   "metadata": {},
   "source": [
    "### NPT 200 ps, 51x30x8 bulk, 1 atm: box measures"
   ]
  },
  {
   "cell_type": "code",
   "execution_count": 91,
   "metadata": {
    "ExecuteTime": {
     "end_time": "2019-04-25T05:20:48.815680Z",
     "start_time": "2019-04-25T05:20:48.277740Z"
    }
   },
   "outputs": [
    {
     "data": {
      "text/plain": [
       "Text(0, 0.5, 'd ($\\\\AA$)')"
      ]
     },
     "execution_count": 91,
     "metadata": {},
     "output_type": "execute_result"
    },
    {
     "data": {
      "image/png": "[encoded data removed]",
      "text/plain": [
       "<Figure size 576x360 with 3 Axes>"
      ]
     },
     "metadata": {
      "needs_background": "light"
     },
     "output_type": "display_data"
    }
   ],
   "source": [
    "plt.subplot(131)\n",
    "plt.plot(t, cell_measures['bulk_1_atm'][:,0], label='x' )\n",
    "plt.title('x')\n",
    "plt.xlabel(\"t (ps)\")\n",
    "plt.ylabel(\"d ($\\AA$)\")\n",
    "plt.subplot(132)\n",
    "plt.plot(t, cell_measures['bulk_1_atm'][:,1], label='y' )\n",
    "plt.title('y')\n",
    "plt.xlabel(\"t (ps)\")\n",
    "plt.ylabel(\"d ($\\AA$)\")\n",
    "plt.subplot(133)\n",
    "plt.plot(t, cell_measures['bulk_1_atm'][:,2], label='z' )\n",
    "plt.title('z')\n",
    "#plt.legend()\n",
    "plt.xlabel(\"t (ps)\")\n",
    "plt.ylabel(\"d ($\\AA$)\")"
   ]
  },
  {
   "cell_type": "markdown",
   "metadata": {},
   "source": [
    "### NPT 200 ps, 51x30x24 bulk: box measures"
   ]
  },
  {
   "cell_type": "code",
   "execution_count": 92,
   "metadata": {
    "ExecuteTime": {
     "end_time": "2019-04-25T05:20:49.744725Z",
     "start_time": "2019-04-25T05:20:49.204570Z"
    }
   },
   "outputs": [
    {
     "data": {
      "text/plain": [
       "Text(0, 0.5, 'd ($\\\\AA$)')"
      ]
     },
     "execution_count": 92,
     "metadata": {},
     "output_type": "execute_result"
    },
    {
     "data": {
      "image/png": "[encoded data removed]",
      "text/plain": [
       "<Figure size 576x360 with 3 Axes>"
      ]
     },
     "metadata": {
      "needs_background": "light"
     },
     "output_type": "display_data"
    }
   ],
   "source": [
    "plt.subplot(131)\n",
    "plt.plot(t, cell_measures['cube_bulk_1_atm'][:,0], label='x' )\n",
    "plt.title('x')\n",
    "plt.xlabel(\"t (ps)\")\n",
    "plt.ylabel(\"d ($\\AA$)\")\n",
    "plt.subplot(132)\n",
    "plt.plot(t, cell_measures['cube_bulk_1_atm'][:,1], label='y' )\n",
    "plt.title('y')\n",
    "plt.xlabel(\"t (ps)\")\n",
    "plt.ylabel(\"d ($\\AA$)\")\n",
    "plt.subplot(133)\n",
    "plt.plot(t, cell_measures['cube_bulk_1_atm'][:,2], label='z' )\n",
    "plt.title('z')\n",
    "#plt.legend()\n",
    "plt.xlabel(\"t (ps)\")\n",
    "plt.ylabel(\"d ($\\AA$)\")"
   ]
  },
  {
   "cell_type": "markdown",
   "metadata": {},
   "source": [
    "### NPT 200 ps, slab, 0 atm: box measures"
   ]
  },
  {
   "cell_type": "code",
   "execution_count": 93,
   "metadata": {
    "ExecuteTime": {
     "end_time": "2019-04-25T05:20:54.187006Z",
     "start_time": "2019-04-25T05:20:53.862645Z"
    }
   },
   "outputs": [
    {
     "data": {
      "text/plain": [
       "Text(0, 0.5, 'd ($\\\\AA$)')"
      ]
     },
     "execution_count": 93,
     "metadata": {},
     "output_type": "execute_result"
    },
    {
     "data": {
      "image/png": "[encoded data removed]",
      "text/plain": [
       "<Figure size 576x360 with 1 Axes>"
      ]
     },
     "metadata": {
      "needs_background": "light"
     },
     "output_type": "display_data"
    }
   ],
   "source": [
    "plt.plot(t, cell_measures['slab_0_atm'][:,0], label='x' )\n",
    "plt.plot(t, cell_measures['slab_0_atm'][:,1], label='y' )\n",
    "plt.legend()\n",
    "plt.xlabel(\"t (ps)\")\n",
    "plt.ylabel(\"d ($\\AA$)\")"
   ]
  },
  {
   "cell_type": "markdown",
   "metadata": {},
   "source": [
    "### NPT 200 ps, slab, 1 atm: box measures"
   ]
  },
  {
   "cell_type": "code",
   "execution_count": 94,
   "metadata": {
    "ExecuteTime": {
     "end_time": "2019-04-25T05:20:57.834187Z",
     "start_time": "2019-04-25T05:20:57.493442Z"
    }
   },
   "outputs": [
    {
     "data": {
      "text/plain": [
       "Text(0, 0.5, 'd ($\\\\AA$)')"
      ]
     },
     "execution_count": 94,
     "metadata": {},
     "output_type": "execute_result"
    },
    {
     "data": {
      "image/png": "[encoded data removed]",
      "text/plain": [
       "<Figure size 576x360 with 1 Axes>"
      ]
     },
     "metadata": {
      "needs_background": "light"
     },
     "output_type": "display_data"
    }
   ],
   "source": [
    "plt.plot(t, cell_measures['slab_1_atm'][:,0], label='x' )\n",
    "plt.plot(t, cell_measures['slab_1_atm'][:,1], label='y' )\n",
    "plt.legend()\n",
    "plt.xlabel(\"t (ps)\")\n",
    "plt.ylabel(\"d ($\\AA$)\")"
   ]
  },
  {
   "cell_type": "code",
   "execution_count": 95,
   "metadata": {
    "ExecuteTime": {
     "end_time": "2019-04-25T05:20:59.837117Z",
     "start_time": "2019-04-25T05:20:59.804113Z"
    }
   },
   "outputs": [],
   "source": [
    "# cut off initial relaxation:"
   ]
  },
  {
   "cell_type": "code",
   "execution_count": 96,
   "metadata": {
    "ExecuteTime": {
     "end_time": "2019-04-25T05:20:59.910773Z",
     "start_time": "2019-04-25T05:20:59.883970Z"
    }
   },
   "outputs": [],
   "source": [
    "mean_measures = {}\n",
    "for k, m in cell_measures.items():\n",
    "    mean_measures[k] = np.mean(m[100:,:],axis=0)"
   ]
  },
  {
   "cell_type": "code",
   "execution_count": 97,
   "metadata": {
    "ExecuteTime": {
     "end_time": "2019-04-25T05:21:07.301048Z",
     "start_time": "2019-04-25T05:21:07.260868Z"
    }
   },
   "outputs": [
    {
     "data": {
      "text/plain": [
       "{'bulk_0_atm': array([146.95136872, 149.72031187,  56.46562207]),\n",
       " 'bulk_1_atm': array([146.95134191, 149.72028456,  56.46561176]),\n",
       " 'slab_0_atm': array([146.29127787, 149.06665272,  56.39710389]),\n",
       " 'slab_1_atm': array([146.29114111, 149.06651301,  56.39710389]),\n",
       " 'cube_bulk_1_atm': array([146.94940315, 149.72490067, 148.21584995])}"
      ]
     },
     "execution_count": 97,
     "metadata": {},
     "output_type": "execute_result"
    }
   ],
   "source": [
    "mean_measures"
   ]
  },
  {
   "cell_type": "code",
   "execution_count": 98,
   "metadata": {
    "ExecuteTime": {
     "end_time": "2019-04-25T05:21:13.491855Z",
     "start_time": "2019-04-25T05:21:13.454780Z"
    }
   },
   "outputs": [],
   "source": [
    "# crystal orientation orient = [[1,-1,0], [1,1,-2], [1,1,1]]"
   ]
  },
  {
   "cell_type": "code",
   "execution_count": 99,
   "metadata": {
    "ExecuteTime": {
     "end_time": "2019-04-25T05:21:13.885008Z",
     "start_time": "2019-04-25T05:21:13.855922Z"
    }
   },
   "outputs": [],
   "source": [
    "# relation between plane_spacings in this oreintation and lattice constant:\n",
    "plane_spacing_to_lattice_constant = np.array(\n",
    "    [np.sqrt(2), np.sqrt(6), np.sqrt(3)] )"
   ]
  },
  {
   "cell_type": "code",
   "execution_count": 100,
   "metadata": {
    "ExecuteTime": {
     "end_time": "2019-04-25T05:21:14.272835Z",
     "start_time": "2019-04-25T05:21:14.242988Z"
    }
   },
   "outputs": [
    {
     "data": {
      "text/plain": [
       "array([1.41421356, 2.44948974, 1.73205081])"
      ]
     },
     "execution_count": 100,
     "metadata": {},
     "output_type": "execute_result"
    }
   ],
   "source": [
    "plane_spacing_to_lattice_constant"
   ]
  },
  {
   "cell_type": "code",
   "execution_count": 101,
   "metadata": {
    "ExecuteTime": {
     "end_time": "2019-04-25T05:21:15.903041Z",
     "start_time": "2019-04-25T05:21:15.875165Z"
    }
   },
   "outputs": [],
   "source": [
    "# 4.0702 is the bulk lattice constant minimized at 0 K\n",
    "approximate_crystal_plane_spacing = 4.0702 / plane_spacing_to_lattice_constant"
   ]
  },
  {
   "cell_type": "code",
   "execution_count": 102,
   "metadata": {
    "ExecuteTime": {
     "end_time": "2019-04-25T05:21:16.188445Z",
     "start_time": "2019-04-25T05:21:16.158355Z"
    }
   },
   "outputs": [
    {
     "data": {
      "text/plain": [
       "array([2.87806602, 1.66165219, 2.34993107])"
      ]
     },
     "execution_count": 102,
     "metadata": {},
     "output_type": "execute_result"
    }
   ],
   "source": [
    "approximate_crystal_plane_spacing"
   ]
  },
  {
   "cell_type": "code",
   "execution_count": 103,
   "metadata": {
    "ExecuteTime": {
     "end_time": "2019-04-25T05:21:18.144531Z",
     "start_time": "2019-04-25T05:21:18.117236Z"
    }
   },
   "outputs": [],
   "source": [
    "# expected number of crystal planes:"
   ]
  },
  {
   "cell_type": "code",
   "execution_count": 104,
   "metadata": {
    "ExecuteTime": {
     "end_time": "2019-04-25T05:21:24.393898Z",
     "start_time": "2019-04-25T05:21:24.362879Z"
    }
   },
   "outputs": [],
   "source": [
    "crystal_plane_count = { k: np.round(v / approximate_crystal_plane_spacing) for k,v in mean_measures.items() }"
   ]
  },
  {
   "cell_type": "code",
   "execution_count": 105,
   "metadata": {
    "ExecuteTime": {
     "end_time": "2019-04-25T05:21:25.625799Z",
     "start_time": "2019-04-25T05:21:25.595032Z"
    }
   },
   "outputs": [
    {
     "data": {
      "text/plain": [
       "{'bulk_0_atm': array([51., 90., 24.]),\n",
       " 'bulk_1_atm': array([51., 90., 24.]),\n",
       " 'slab_0_atm': array([51., 90., 24.]),\n",
       " 'slab_1_atm': array([51., 90., 24.]),\n",
       " 'cube_bulk_1_atm': array([51., 90., 63.])}"
      ]
     },
     "execution_count": 105,
     "metadata": {},
     "output_type": "execute_result"
    }
   ],
   "source": [
    "crystal_plane_count"
   ]
  },
  {
   "cell_type": "code",
   "execution_count": 106,
   "metadata": {
    "ExecuteTime": {
     "end_time": "2019-04-25T05:21:47.059458Z",
     "start_time": "2019-04-25T05:21:47.030115Z"
    }
   },
   "outputs": [],
   "source": [
    "exact_crystal_plane_spacing = {}\n",
    "for k, m in mean_measures.items():\n",
    "    exact_crystal_plane_spacing[k] = m / crystal_plane_count[k]"
   ]
  },
  {
   "cell_type": "code",
   "execution_count": 107,
   "metadata": {
    "ExecuteTime": {
     "end_time": "2019-04-25T05:21:47.900283Z",
     "start_time": "2019-04-25T05:21:47.869304Z"
    }
   },
   "outputs": [
    {
     "data": {
      "text/plain": [
       "{'bulk_0_atm': array([2.88139939, 1.66355902, 2.35273425]),\n",
       " 'bulk_1_atm': array([2.88139886, 1.66355872, 2.35273382]),\n",
       " 'slab_0_atm': array([2.86845643, 1.65629614, 2.34987933]),\n",
       " 'slab_1_atm': array([2.86845375, 1.65629459, 2.34987933]),\n",
       " 'cube_bulk_1_atm': array([2.88136085, 1.66361001, 2.35263254])}"
      ]
     },
     "execution_count": 107,
     "metadata": {},
     "output_type": "execute_result"
    }
   ],
   "source": [
    "exact_crystal_plane_spacing"
   ]
  },
  {
   "cell_type": "code",
   "execution_count": 108,
   "metadata": {
    "ExecuteTime": {
     "end_time": "2019-04-25T05:51:08.369964Z",
     "start_time": "2019-04-25T05:51:08.330602Z"
    }
   },
   "outputs": [
    {
     "name": "stdout",
     "output_type": "stream",
     "text": [
      "bulk_0_atm : [0.11581965 0.114755   0.11928806]\n",
      "bulk_1_atm : [0.11580138 0.11473673 0.11926978]\n",
      "slab_0_atm : [-0.3338906  -0.32233283 -0.00220163]\n",
      "slab_1_atm : [-0.33398378 -0.32242625 -0.00220163]\n",
      "cube_bulk_1_atm : [0.11448053 0.11782343 0.11495968]\n"
     ]
    }
   ],
   "source": [
    "# deviation from ideal crystal plane spacing \n",
    "for k, v in exact_crystal_plane_spacing.items():\n",
    "    print(k,':',100.0*( v - approximate_crystal_plane_spacing) / approximate_crystal_plane_spacing)"
   ]
  },
  {
   "cell_type": "code",
   "execution_count": 109,
   "metadata": {
    "ExecuteTime": {
     "end_time": "2019-04-25T05:51:19.010500Z",
     "start_time": "2019-04-25T05:51:18.977041Z"
    }
   },
   "outputs": [],
   "source": [
    "# deviation from ideal crystal plane spacing \n",
    "anisotropic_lattice_spacing = {}\n",
    "for k, v in exact_crystal_plane_spacing.items():\n",
    "    anisotropic_lattice_spacing[k] = v*plane_spacing_to_lattice_constant"
   ]
  },
  {
   "cell_type": "code",
   "execution_count": 110,
   "metadata": {
    "ExecuteTime": {
     "end_time": "2019-04-25T05:51:20.335558Z",
     "start_time": "2019-04-25T05:51:20.301695Z"
    }
   },
   "outputs": [
    {
     "data": {
      "text/plain": [
       "{'bulk_0_atm': array([4.07491409, 4.07487076, 4.07505526]),\n",
       " 'bulk_1_atm': array([4.07491335, 4.07487001, 4.07505452]),\n",
       " 'slab_0_atm': array([4.05660998, 4.05708041, 4.07011039]),\n",
       " 'slab_1_atm': array([4.05660619, 4.05707661, 4.07011039]),\n",
       " 'cube_bulk_1_atm': array([4.07485959, 4.07499565, 4.07487909])}"
      ]
     },
     "execution_count": 110,
     "metadata": {},
     "output_type": "execute_result"
    }
   ],
   "source": [
    "anisotropic_lattice_spacing"
   ]
  },
  {
   "cell_type": "code",
   "execution_count": 111,
   "metadata": {
    "ExecuteTime": {
     "end_time": "2019-04-25T05:51:26.981515Z",
     "start_time": "2019-04-25T05:51:26.948596Z"
    }
   },
   "outputs": [
    {
     "name": "stdout",
     "output_type": "stream",
     "text": [
      "╒══════════════════════════════════════╤═════════╤═════════╤═════════╕\n",
      "│ mean anisotropic lattice constants   │       x │       y │       z │\n",
      "╞══════════════════════════════════════╪═════════╪═════════╪═════════╡\n",
      "│ bulk_0_atm                           │ 4.07491 │ 4.07487 │ 4.07506 │\n",
      "├──────────────────────────────────────┼─────────┼─────────┼─────────┤\n",
      "│ bulk_1_atm                           │ 4.07491 │ 4.07487 │ 4.07505 │\n",
      "├──────────────────────────────────────┼─────────┼─────────┼─────────┤\n",
      "│ slab_0_atm                           │ 4.05661 │ 4.05708 │ 4.07011 │\n",
      "├──────────────────────────────────────┼─────────┼─────────┼─────────┤\n",
      "│ slab_1_atm                           │ 4.05661 │ 4.05708 │ 4.07011 │\n",
      "├──────────────────────────────────────┼─────────┼─────────┼─────────┤\n",
      "│ cube_bulk_1_atm                      │ 4.07486 │ 4.075   │ 4.07488 │\n",
      "╘══════════════════════════════════════╧═════════╧═════════╧═════════╛\n"
     ]
    }
   ],
   "source": [
    "print(\n",
    "    tabulate( [ [k, *v] for k,v in anisotropic_lattice_spacing.items() ],\n",
    "    headers  = ('mean anisotropic lattice constants','x','y','z'),\n",
    "    tablefmt = 'fancy_grid'))"
   ]
  },
  {
   "cell_type": "markdown",
   "metadata": {},
   "source": [
    "\n",
    "## Cube measures"
   ]
  },
  {
   "cell_type": "code",
   "execution_count": 73,
   "metadata": {
    "ExecuteTime": {
     "end_time": "2019-04-23T09:08:51.173205Z",
     "start_time": "2019-04-23T09:08:51.140343Z"
    }
   },
   "outputs": [],
   "source": [
    "number_of_atoms_in_slab = 73440"
   ]
  },
  {
   "cell_type": "code",
   "execution_count": 85,
   "metadata": {
    "ExecuteTime": {
     "end_time": "2019-04-23T09:25:25.820620Z",
     "start_time": "2019-04-23T09:25:25.798724Z"
    }
   },
   "outputs": [
    {
     "data": {
      "text/plain": [
       "73440.0"
      ]
     },
     "execution_count": 85,
     "metadata": {},
     "output_type": "execute_result"
    }
   ],
   "source": [
    "# reconstructing number of atoms from unit cell count\n",
    "np.prod(crystal_plane_count / [1,3,3])*6"
   ]
  },
  {
   "cell_type": "code",
   "execution_count": 87,
   "metadata": {
    "ExecuteTime": {
     "end_time": "2019-04-23T09:25:37.799875Z",
     "start_time": "2019-04-23T09:25:37.761186Z"
    }
   },
   "outputs": [
    {
     "data": {
      "text/plain": [
       "{'bulk_0_atm': array([4.07491409, 4.07487076, 4.07505526]),\n",
       " 'bulk_1_atm': array([4.07491335, 4.07487001, 4.07505452]),\n",
       " 'slab_0_atm': array([4.05660998, 4.05708041, 4.07011039]),\n",
       " 'slab_1_atm': array([4.05660619, 4.05707661, 4.07011039])}"
      ]
     },
     "execution_count": 87,
     "metadata": {},
     "output_type": "execute_result"
    }
   ],
   "source": [
    "anisotropic_lattice_spacing"
   ]
  },
  {
   "cell_type": "code",
   "execution_count": 94,
   "metadata": {
    "ExecuteTime": {
     "end_time": "2019-04-23T09:27:57.753000Z",
     "start_time": "2019-04-23T09:27:57.715566Z"
    }
   },
   "outputs": [
    {
     "data": {
      "text/plain": [
       "array([51., 90., 24.])"
      ]
     },
     "execution_count": 94,
     "metadata": {},
     "output_type": "execute_result"
    }
   ],
   "source": [
    "crystal_plane_count"
   ]
  },
  {
   "cell_type": "code",
   "execution_count": 95,
   "metadata": {
    "ExecuteTime": {
     "end_time": "2019-04-23T09:28:04.921827Z",
     "start_time": "2019-04-23T09:28:04.893323Z"
    }
   },
   "outputs": [
    {
     "data": {
      "text/plain": [
       "{'bulk_0_atm': array([146.95136872, 149.72031187,  56.46562207]),\n",
       " 'bulk_1_atm': array([146.95134191, 149.72028456,  56.46561176]),\n",
       " 'slab_0_atm': array([146.29127787, 149.06665272,  56.39710389]),\n",
       " 'slab_1_atm': array([146.29114111, 149.06651301,  56.39710389])}"
      ]
     },
     "execution_count": 95,
     "metadata": {},
     "output_type": "execute_result"
    }
   ],
   "source": [
    "mean_measures"
   ]
  },
  {
   "cell_type": "code",
   "execution_count": 96,
   "metadata": {
    "ExecuteTime": {
     "end_time": "2019-04-23T09:28:06.854999Z",
     "start_time": "2019-04-23T09:28:06.813084Z"
    }
   },
   "outputs": [],
   "source": [
    "mean_base_length = (mean_measures['bulk_1_atm'][0] + mean_measures['bulk_1_atm'][1])/2.0"
   ]
  },
  {
   "cell_type": "code",
   "execution_count": 97,
   "metadata": {
    "ExecuteTime": {
     "end_time": "2019-04-23T09:28:07.207754Z",
     "start_time": "2019-04-23T09:28:07.179161Z"
    }
   },
   "outputs": [
    {
     "data": {
      "text/plain": [
       "148.33581323446694"
      ]
     },
     "execution_count": 97,
     "metadata": {},
     "output_type": "execute_result"
    }
   ],
   "source": [
    "mean_base_length"
   ]
  },
  {
   "cell_type": "code",
   "execution_count": 98,
   "metadata": {
    "ExecuteTime": {
     "end_time": "2019-04-23T09:28:11.391094Z",
     "start_time": "2019-04-23T09:28:11.357080Z"
    }
   },
   "outputs": [],
   "source": [
    "scale_factor = mean_base_length / mean_measures['bulk_1_atm'][2]"
   ]
  },
  {
   "cell_type": "code",
   "execution_count": 99,
   "metadata": {
    "ExecuteTime": {
     "end_time": "2019-04-23T09:28:12.006219Z",
     "start_time": "2019-04-23T09:28:11.972927Z"
    }
   },
   "outputs": [
    {
     "data": {
      "text/plain": [
       "2.6270115316404463"
      ]
     },
     "execution_count": 99,
     "metadata": {},
     "output_type": "execute_result"
    }
   ],
   "source": [
    "scale_factor"
   ]
  },
  {
   "cell_type": "code",
   "execution_count": 116,
   "metadata": {
    "ExecuteTime": {
     "end_time": "2019-04-23T09:32:01.361053Z",
     "start_time": "2019-04-23T09:32:01.319387Z"
    }
   },
   "outputs": [
    {
     "data": {
      "text/plain": [
       "63.04827675937071"
      ]
     },
     "execution_count": 116,
     "metadata": {},
     "output_type": "execute_result"
    }
   ],
   "source": [
    "scale_factor * crystal_plane_count[2]"
   ]
  },
  {
   "cell_type": "code",
   "execution_count": 113,
   "metadata": {
    "ExecuteTime": {
     "end_time": "2019-04-23T09:31:28.794857Z",
     "start_time": "2019-04-23T09:31:28.760823Z"
    }
   },
   "outputs": [],
   "source": [
    "cube_crystal_plane_count = np.round(\n",
    "    crystal_plane_count * [1,1,scale_factor] )"
   ]
  },
  {
   "cell_type": "code",
   "execution_count": 115,
   "metadata": {
    "ExecuteTime": {
     "end_time": "2019-04-23T09:31:35.014705Z",
     "start_time": "2019-04-23T09:31:34.977204Z"
    }
   },
   "outputs": [
    {
     "data": {
      "text/plain": [
       "array([51., 90., 63.])"
      ]
     },
     "execution_count": 115,
     "metadata": {},
     "output_type": "execute_result"
    }
   ],
   "source": [
    "cube_crystal_plane_count"
   ]
  },
  {
   "cell_type": "code",
   "execution_count": 117,
   "metadata": {
    "ExecuteTime": {
     "end_time": "2019-04-23T09:32:56.884698Z",
     "start_time": "2019-04-23T09:32:56.846925Z"
    }
   },
   "outputs": [
    {
     "data": {
      "text/plain": [
       "192780.0"
      ]
     },
     "execution_count": 117,
     "metadata": {},
     "output_type": "execute_result"
    }
   ],
   "source": [
    "# reconstructing number of atoms in cube from unit cell count\n",
    "np.prod(cube_crystal_plane_count / [1,3,3])*6"
   ]
  }
 ],
 "metadata": {
  "hide_input": false,
  "kernelspec": {
   "display_name": "Python 3",
   "language": "python",
   "name": "python3"
  },
  "language_info": {
   "codemirror_mode": {
    "name": "ipython",
    "version": 3
   },
   "file_extension": ".py",
   "mimetype": "text/x-python",
   "name": "python",
   "nbconvert_exporter": "python",
   "pygments_lexer": "ipython3",
   "version": "3.6.3"
  },
  "latex_envs": {
   "LaTeX_envs_menu_present": true,
   "autoclose": false,
   "autocomplete": true,
   "bibliofile": "biblio.bib",
   "cite_by": "apalike",
   "current_citInitial": 1,
   "eqLabelWithNumbers": true,
   "eqNumInitial": 1,
   "hotkeys": {
    "equation": "Ctrl-E",
    "itemize": "Ctrl-I"
   },
   "labels_anchors": false,
   "latex_user_defs": false,
   "report_style_numbering": false,
   "user_envs_cfg": false
  },
  "notify_time": "30",
  "toc": {
   "base_numbering": 1,
   "nav_menu": {},
   "number_sections": true,
   "sideBar": true,
   "skip_h1_title": false,
   "title_cell": "Table of Contents",
   "title_sidebar": "Contents",
   "toc_cell": false,
   "toc_position": {},
   "toc_section_display": true,
   "toc_window_display": false
  },
  "varInspector": {
   "cols": {
    "lenName": 16,
    "lenType": 16,
    "lenVar": 40
   },
   "kernels_config": {
    "python": {
     "delete_cmd_postfix": "",
     "delete_cmd_prefix": "del ",
     "library": "var_list.py",
     "varRefreshCmd": "print(var_dic_list())"
    },
    "r": {
     "delete_cmd_postfix": ") ",
     "delete_cmd_prefix": "rm(",
     "library": "var_list.r",
     "varRefreshCmd": "cat(var_dic_list()) "
    }
   },
   "types_to_exclude": [
    "module",
    "function",
    "builtin_function_or_method",
    "instance",
    "_Feature"
   ],
   "window_display": false
  }
 },
 "nbformat": 4,
 "nbformat_minor": 2
}
