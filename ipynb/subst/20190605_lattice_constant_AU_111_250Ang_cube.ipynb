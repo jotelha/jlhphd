{
 "cells": [
  {
   "cell_type": "markdown",
   "metadata": {},
   "source": [
    "# EAM substrate lattice constants\n",
    "probed for substrate block of crystal plane orientation [[1,-1,0],[1,1,-2],[1,1,1]] cell constant mutliples (51,30,8)  measures in xyz directions. Initial configuration created with\n",
    "```python\n",
    "FaceCenteredCubic('Au', directions=[[1,-1,0],[1,1,-2],[1,1,1]], size=(51,30,8), pbc=(1,1,0) )\n",
    "```"
   ]
  },
  {
   "cell_type": "code",
   "execution_count": 3,
   "metadata": {
    "ExecuteTime": {
     "end_time": "2019-06-05T12:19:10.818119Z",
     "start_time": "2019-06-05T12:19:10.797298Z"
    }
   },
   "outputs": [
    {
     "name": "stdout",
     "output_type": "stream",
     "text": [
      "The autoreload extension is already loaded. To reload it, use:\n",
      "  %reload_ext autoreload\n"
     ]
    },
    {
     "data": {
      "text/html": [
       "<style>.container { width:100% !important; }</style>"
      ],
      "text/plain": [
       "<IPython.core.display.HTML object>"
      ]
     },
     "metadata": {},
     "output_type": "display_data"
    }
   ],
   "source": [
    "%load_ext autoreload\n",
    "%autoreload 2\n",
    "from IPython.core.display import display, HTML\n",
    "display(HTML(\"<style>.container { width:100% !important; }</style>\"))"
   ]
  },
  {
   "cell_type": "code",
   "execution_count": 4,
   "metadata": {
    "ExecuteTime": {
     "end_time": "2019-06-05T12:19:11.976546Z",
     "start_time": "2019-06-05T12:19:11.222850Z"
    }
   },
   "outputs": [],
   "source": [
    "import os.path\n",
    "import numpy as np\n",
    "import pandas as pd\n",
    "import matplotlib.pyplot as plt\n",
    "from tabulate import tabulate\n",
    "import logging\n",
    "from postprocessing import analyze_rdf, logger"
   ]
  },
  {
   "cell_type": "code",
   "execution_count": 5,
   "metadata": {
    "ExecuteTime": {
     "end_time": "2019-06-05T12:19:12.621937Z",
     "start_time": "2019-06-05T12:19:12.589983Z"
    }
   },
   "outputs": [],
   "source": [
    "# matplotlib settings\n",
    "\n",
    "# expecially for presentation, larger font settings for plotting are recommendable\n",
    "SMALL_SIZE = 20\n",
    "MEDIUM_SIZE = 22\n",
    "BIGGER_SIZE = 26\n",
    "\n",
    "plt.rc('font', size=MEDIUM_SIZE)          # controls default text sizes\n",
    "plt.rc('axes', titlesize=MEDIUM_SIZE)     # fontsize of the axes title\n",
    "plt.rc('axes', labelsize=MEDIUM_SIZE)    # fontsize of the x and y labels\n",
    "plt.rc('xtick', labelsize=SMALL_SIZE)    # fontsize of the tick labels\n",
    "plt.rc('ytick', labelsize=SMALL_SIZE)    # fontsize of the tick labels\n",
    "plt.rc('legend', fontsize=MEDIUM_SIZE)    # legend fontsize\n",
    "plt.rc('figure', titlesize=BIGGER_SIZE)  # fontsize of the figure titlex\n",
    "\n",
    "plt.rcParams[\"figure.figsize\"] = (8,5) # the standard figure size\n",
    "\n",
    "plt.rcParams[\"lines.linewidth\"] = 4\n",
    "plt.rcParams[\"lines.markersize\"] = 14\n",
    "plt.rcParams[\"lines.markeredgewidth\"]=1 "
   ]
  },
  {
   "cell_type": "markdown",
   "metadata": {},
   "source": [
    "## by RDF"
   ]
  },
  {
   "cell_type": "code",
   "execution_count": 14,
   "metadata": {
    "ExecuteTime": {
     "end_time": "2019-06-05T12:24:35.250657Z",
     "start_time": "2019-06-05T12:24:35.225548Z"
    }
   },
   "outputs": [],
   "source": [
    "peak_positions = {}"
   ]
  },
  {
   "cell_type": "code",
   "execution_count": 15,
   "metadata": {
    "ExecuteTime": {
     "end_time": "2019-06-05T12:24:35.390064Z",
     "start_time": "2019-06-05T12:24:35.376398Z"
    }
   },
   "outputs": [],
   "source": [
    "prefix = '/mnt/dat/work/testuser/substrate/AU_111_250Ang_cube/series1'"
   ]
  },
  {
   "cell_type": "markdown",
   "metadata": {},
   "source": [
    "### 200 ps NPT, 250 Ang cube bulk, 100 K, 1 atm"
   ]
  },
  {
   "cell_type": "code",
   "execution_count": 16,
   "metadata": {
    "ExecuteTime": {
     "end_time": "2019-06-05T12:24:42.788153Z",
     "start_time": "2019-06-05T12:24:35.608103Z"
    }
   },
   "outputs": [
    {
     "data": {
      "image/png": "[encoded data removed]",
      "text/plain": [
       "<Figure size 576x360 with 1 Axes>"
      ]
     },
     "metadata": {
      "needs_background": "light"
     },
     "output_type": "display_data"
    }
   ],
   "source": [
    "peak_positions[\"NPT 200ps bulk, 1000 frames average, 1 atm\"] = analyze_rdf(\n",
    "    os.path.join(prefix,'substrate_AU_111_250Ang_cube_rdf.txt'),\n",
    "    format='plain',\n",
    "    interval=(3.5, 4.5))"
   ]
  },
  {
   "cell_type": "markdown",
   "metadata": {},
   "source": [
    "### 200 ps NPT, 250 Ang cube bulk, 100 K, 1 atm, FCC only"
   ]
  },
  {
   "cell_type": "code",
   "execution_count": 17,
   "metadata": {
    "ExecuteTime": {
     "end_time": "2019-06-05T12:24:49.547916Z",
     "start_time": "2019-06-05T12:24:42.880883Z"
    }
   },
   "outputs": [
    {
     "data": {
      "image/png": "[encoded data removed]",
      "text/plain": [
       "<Figure size 576x360 with 1 Axes>"
      ]
     },
     "metadata": {
      "needs_background": "light"
     },
     "output_type": "display_data"
    }
   ],
   "source": [
    "peak_positions[\n",
    "    \"NPT 200ps bulk, 1000 frames average, 1 atm, fcc only\"] = analyze_rdf(\n",
    "        os.path.join(prefix,'substrate_AU_111_250Ang_cube_fcc_rdf.txt'),\n",
    "        format='plain',\n",
    "        interval=(3.5, 4.5))"
   ]
  },
  {
   "cell_type": "markdown",
   "metadata": {},
   "source": [
    "## Summary"
   ]
  },
  {
   "cell_type": "code",
   "execution_count": 18,
   "metadata": {
    "ExecuteTime": {
     "end_time": "2019-06-05T12:24:49.638044Z",
     "start_time": "2019-06-05T12:24:49.626055Z"
    }
   },
   "outputs": [],
   "source": [
    "header = 'mean lattice constant (Angstrom)'"
   ]
  },
  {
   "cell_type": "code",
   "execution_count": 19,
   "metadata": {
    "ExecuteTime": {
     "end_time": "2019-06-05T12:24:49.725622Z",
     "start_time": "2019-06-05T12:24:49.711933Z"
    }
   },
   "outputs": [
    {
     "name": "stdout",
     "output_type": "stream",
     "text": [
      "╒══════════════════════════════════════════════════════╤════════════════════════════════════╕\n",
      "│                                                      │   mean lattice constant (Angstrom) │\n",
      "╞══════════════════════════════════════════════════════╪════════════════════════════════════╡\n",
      "│ NPT 200ps bulk, 1000 frames average, 1 atm           │                            4.06897 │\n",
      "├──────────────────────────────────────────────────────┼────────────────────────────────────┤\n",
      "│ NPT 200ps bulk, 1000 frames average, 1 atm, fcc only │                            4.06899 │\n",
      "╘══════════════════════════════════════════════════════╧════════════════════════════════════╛\n"
     ]
    }
   ],
   "source": [
    "print(\n",
    "    tabulate( zip(peak_positions.keys(), peak_positions.values()),\n",
    "            headers  = ('',header),\n",
    "            tablefmt = 'fancy_grid'))"
   ]
  },
  {
   "cell_type": "markdown",
   "metadata": {},
   "source": [
    "## by box measures:"
   ]
  },
  {
   "cell_type": "code",
   "execution_count": 20,
   "metadata": {
    "ExecuteTime": {
     "end_time": "2019-06-05T12:25:15.446639Z",
     "start_time": "2019-06-05T12:25:15.424565Z"
    }
   },
   "outputs": [],
   "source": [
    "cell_measures = {}"
   ]
  },
  {
   "cell_type": "code",
   "execution_count": 21,
   "metadata": {
    "ExecuteTime": {
     "end_time": "2019-06-05T12:25:28.009309Z",
     "start_time": "2019-06-05T12:25:27.984375Z"
    }
   },
   "outputs": [],
   "source": [
    "cell_measures['bulk_1_atm'] = np.loadtxt(\n",
    "    os.path.join(prefix,'substrate_AU_111_250Ang_cube_box.txt'))"
   ]
  },
  {
   "cell_type": "code",
   "execution_count": 22,
   "metadata": {
    "ExecuteTime": {
     "end_time": "2019-06-05T12:25:46.002023Z",
     "start_time": "2019-06-05T12:25:45.977273Z"
    }
   },
   "outputs": [],
   "source": [
    "t = np.linspace(0,200.0,len(cell_measures['bulk_1_atm']))"
   ]
  },
  {
   "cell_type": "markdown",
   "metadata": {},
   "source": [
    "### NPT 200 ps, 250 Ang bulk: box measures"
   ]
  },
  {
   "cell_type": "code",
   "execution_count": 24,
   "metadata": {
    "ExecuteTime": {
     "end_time": "2019-06-05T15:41:09.088147Z",
     "start_time": "2019-06-05T15:41:08.580145Z"
    }
   },
   "outputs": [
    {
     "data": {
      "text/plain": [
       "Text(0, 0.5, 'd ($\\\\AA$)')"
      ]
     },
     "execution_count": 24,
     "metadata": {},
     "output_type": "execute_result"
    },
    {
     "data": {
      "image/png": "[encoded data removed]",
      "text/plain": [
       "<Figure size 576x360 with 3 Axes>"
      ]
     },
     "metadata": {
      "needs_background": "light"
     },
     "output_type": "display_data"
    }
   ],
   "source": [
    "plt.subplot(131)\n",
    "plt.plot(t, cell_measures['bulk_1_atm'][:,0], label='x' )\n",
    "plt.title('x')\n",
    "plt.xlabel(\"t (ps)\")\n",
    "plt.ylabel(\"d ($\\AA$)\")\n",
    "plt.subplot(132)\n",
    "plt.plot(t, cell_measures['bulk_1_atm'][:,1], label='y' )\n",
    "plt.title('y')\n",
    "plt.xlabel(\"t (ps)\")\n",
    "plt.ylabel(\"d ($\\AA$)\")\n",
    "plt.subplot(133)\n",
    "plt.plot(t, cell_measures['bulk_1_atm'][:,2], label='z' )\n",
    "plt.title('z')\n",
    "#plt.legend()\n",
    "plt.xlabel(\"t (ps)\")\n",
    "plt.ylabel(\"d ($\\AA$)\")"
   ]
  },
  {
   "cell_type": "code",
   "execution_count": 25,
   "metadata": {
    "ExecuteTime": {
     "end_time": "2019-06-05T15:41:19.290579Z",
     "start_time": "2019-06-05T15:41:19.271410Z"
    }
   },
   "outputs": [],
   "source": [
    "# cut off initial relaxation:"
   ]
  },
  {
   "cell_type": "code",
   "execution_count": 26,
   "metadata": {
    "ExecuteTime": {
     "end_time": "2019-06-05T15:41:20.440984Z",
     "start_time": "2019-06-05T15:41:20.423503Z"
    }
   },
   "outputs": [],
   "source": [
    "mean_measures = {}\n",
    "for k, m in cell_measures.items():\n",
    "    mean_measures[k] = np.mean(m[100:,:],axis=0)"
   ]
  },
  {
   "cell_type": "code",
   "execution_count": 27,
   "metadata": {
    "ExecuteTime": {
     "end_time": "2019-06-05T15:41:20.901612Z",
     "start_time": "2019-06-05T15:41:20.885295Z"
    }
   },
   "outputs": [
    {
     "data": {
      "text/plain": [
       "{'bulk_1_atm': array([250.39489937, 249.2498094 , 251.44313927])}"
      ]
     },
     "execution_count": 27,
     "metadata": {},
     "output_type": "execute_result"
    }
   ],
   "source": [
    "mean_measures"
   ]
  },
  {
   "cell_type": "code",
   "execution_count": 28,
   "metadata": {
    "ExecuteTime": {
     "end_time": "2019-06-05T15:41:26.514443Z",
     "start_time": "2019-06-05T15:41:26.493139Z"
    }
   },
   "outputs": [],
   "source": [
    "# crystal orientation orient = [[1,-1,0], [1,1,-2], [1,1,1]]"
   ]
  },
  {
   "cell_type": "code",
   "execution_count": 29,
   "metadata": {
    "ExecuteTime": {
     "end_time": "2019-06-05T15:41:26.659819Z",
     "start_time": "2019-06-05T15:41:26.646179Z"
    }
   },
   "outputs": [],
   "source": [
    "# relation between plane_spacings in this oreintation and lattice constant:\n",
    "plane_spacing_to_lattice_constant = np.array(\n",
    "    [np.sqrt(2), np.sqrt(6), np.sqrt(3)] )"
   ]
  },
  {
   "cell_type": "code",
   "execution_count": 30,
   "metadata": {
    "ExecuteTime": {
     "end_time": "2019-06-05T15:41:27.490612Z",
     "start_time": "2019-06-05T15:41:27.469131Z"
    }
   },
   "outputs": [
    {
     "data": {
      "text/plain": [
       "array([1.41421356, 2.44948974, 1.73205081])"
      ]
     },
     "execution_count": 30,
     "metadata": {},
     "output_type": "execute_result"
    }
   ],
   "source": [
    "plane_spacing_to_lattice_constant"
   ]
  },
  {
   "cell_type": "code",
   "execution_count": 31,
   "metadata": {
    "ExecuteTime": {
     "end_time": "2019-06-05T15:41:31.180544Z",
     "start_time": "2019-06-05T15:41:31.157182Z"
    }
   },
   "outputs": [],
   "source": [
    "# 4.0702 is the bulk lattice constant minimized at 0 K\n",
    "approximate_crystal_plane_spacing = 4.0702 / plane_spacing_to_lattice_constant"
   ]
  },
  {
   "cell_type": "code",
   "execution_count": 32,
   "metadata": {
    "ExecuteTime": {
     "end_time": "2019-06-05T15:41:31.610854Z",
     "start_time": "2019-06-05T15:41:31.588128Z"
    }
   },
   "outputs": [
    {
     "data": {
      "text/plain": [
       "array([2.87806602, 1.66165219, 2.34993107])"
      ]
     },
     "execution_count": 32,
     "metadata": {},
     "output_type": "execute_result"
    }
   ],
   "source": [
    "approximate_crystal_plane_spacing"
   ]
  },
  {
   "cell_type": "code",
   "execution_count": 33,
   "metadata": {
    "ExecuteTime": {
     "end_time": "2019-06-05T15:41:33.333599Z",
     "start_time": "2019-06-05T15:41:33.310316Z"
    }
   },
   "outputs": [],
   "source": [
    "# expected number of crystal planes:"
   ]
  },
  {
   "cell_type": "code",
   "execution_count": 34,
   "metadata": {
    "ExecuteTime": {
     "end_time": "2019-06-05T15:41:33.465702Z",
     "start_time": "2019-06-05T15:41:33.452376Z"
    }
   },
   "outputs": [],
   "source": [
    "crystal_plane_count = { k: np.round(v / approximate_crystal_plane_spacing) for k,v in mean_measures.items() }"
   ]
  },
  {
   "cell_type": "code",
   "execution_count": 35,
   "metadata": {
    "ExecuteTime": {
     "end_time": "2019-06-05T15:41:34.017454Z",
     "start_time": "2019-06-05T15:41:33.996929Z"
    }
   },
   "outputs": [
    {
     "data": {
      "text/plain": [
       "{'bulk_1_atm': array([ 87., 150., 107.])}"
      ]
     },
     "execution_count": 35,
     "metadata": {},
     "output_type": "execute_result"
    }
   ],
   "source": [
    "crystal_plane_count"
   ]
  },
  {
   "cell_type": "code",
   "execution_count": 36,
   "metadata": {
    "ExecuteTime": {
     "end_time": "2019-06-05T15:41:40.338292Z",
     "start_time": "2019-06-05T15:41:40.308956Z"
    }
   },
   "outputs": [],
   "source": [
    "exact_crystal_plane_spacing = {}\n",
    "for k, m in mean_measures.items():\n",
    "    exact_crystal_plane_spacing[k] = m / crystal_plane_count[k]"
   ]
  },
  {
   "cell_type": "code",
   "execution_count": 37,
   "metadata": {
    "ExecuteTime": {
     "end_time": "2019-06-05T15:41:40.501453Z",
     "start_time": "2019-06-05T15:41:40.481404Z"
    }
   },
   "outputs": [
    {
     "data": {
      "text/plain": [
       "{'bulk_1_atm': array([2.87810229, 1.6616654 , 2.34993588])}"
      ]
     },
     "execution_count": 37,
     "metadata": {},
     "output_type": "execute_result"
    }
   ],
   "source": [
    "exact_crystal_plane_spacing"
   ]
  },
  {
   "cell_type": "code",
   "execution_count": 38,
   "metadata": {
    "ExecuteTime": {
     "end_time": "2019-06-05T15:41:43.871305Z",
     "start_time": "2019-06-05T15:41:43.844814Z"
    }
   },
   "outputs": [
    {
     "name": "stdout",
     "output_type": "stream",
     "text": [
      "bulk_1_atm : [0.00126025 0.00079464 0.00020491]\n"
     ]
    }
   ],
   "source": [
    "# deviation from ideal crystal plane spacing \n",
    "for k, v in exact_crystal_plane_spacing.items():\n",
    "    print(k,':',100.0*( v - approximate_crystal_plane_spacing) / approximate_crystal_plane_spacing)"
   ]
  },
  {
   "cell_type": "code",
   "execution_count": 39,
   "metadata": {
    "ExecuteTime": {
     "end_time": "2019-06-05T15:41:54.165092Z",
     "start_time": "2019-06-05T15:41:54.142093Z"
    }
   },
   "outputs": [],
   "source": [
    "# deviation from ideal crystal plane spacing \n",
    "anisotropic_lattice_spacing = {}\n",
    "for k, v in exact_crystal_plane_spacing.items():\n",
    "    anisotropic_lattice_spacing[k] = v*plane_spacing_to_lattice_constant"
   ]
  },
  {
   "cell_type": "code",
   "execution_count": 40,
   "metadata": {
    "ExecuteTime": {
     "end_time": "2019-06-05T15:41:54.294467Z",
     "start_time": "2019-06-05T15:41:54.280234Z"
    }
   },
   "outputs": [
    {
     "data": {
      "text/plain": [
       "{'bulk_1_atm': array([4.07025129, 4.07023234, 4.07020834])}"
      ]
     },
     "execution_count": 40,
     "metadata": {},
     "output_type": "execute_result"
    }
   ],
   "source": [
    "anisotropic_lattice_spacing"
   ]
  },
  {
   "cell_type": "code",
   "execution_count": 41,
   "metadata": {
    "ExecuteTime": {
     "end_time": "2019-06-05T15:42:06.639864Z",
     "start_time": "2019-06-05T15:42:06.613547Z"
    }
   },
   "outputs": [
    {
     "name": "stdout",
     "output_type": "stream",
     "text": [
      "╒══════════════════════════════════════╤═════════╤═════════╤═════════╕\n",
      "│ mean anisotropic lattice constants   │       x │       y │       z │\n",
      "╞══════════════════════════════════════╪═════════╪═════════╪═════════╡\n",
      "│ bulk_1_atm                           │ 4.07025 │ 4.07023 │ 4.07021 │\n",
      "╘══════════════════════════════════════╧═════════╧═════════╧═════════╛\n"
     ]
    }
   ],
   "source": [
    "print(\n",
    "    tabulate( [ [k, *v] for k,v in anisotropic_lattice_spacing.items() ],\n",
    "    headers  = ('mean anisotropic lattice constants','x','y','z'),\n",
    "    tablefmt = 'fancy_grid'))"
   ]
  },
  {
   "cell_type": "markdown",
   "metadata": {},
   "source": [
    "\n",
    "## Cube measures"
   ]
  },
  {
   "cell_type": "code",
   "execution_count": 73,
   "metadata": {
    "ExecuteTime": {
     "end_time": "2019-04-23T09:08:51.173205Z",
     "start_time": "2019-04-23T09:08:51.140343Z"
    }
   },
   "outputs": [],
   "source": [
    "number_of_atoms_in_slab = 73440"
   ]
  },
  {
   "cell_type": "code",
   "execution_count": 85,
   "metadata": {
    "ExecuteTime": {
     "end_time": "2019-04-23T09:25:25.820620Z",
     "start_time": "2019-04-23T09:25:25.798724Z"
    }
   },
   "outputs": [
    {
     "data": {
      "text/plain": [
       "73440.0"
      ]
     },
     "execution_count": 85,
     "metadata": {},
     "output_type": "execute_result"
    }
   ],
   "source": [
    "# reconstructing number of atoms from unit cell count\n",
    "np.prod(crystal_plane_count / [1,3,3])*6"
   ]
  },
  {
   "cell_type": "code",
   "execution_count": 87,
   "metadata": {
    "ExecuteTime": {
     "end_time": "2019-04-23T09:25:37.799875Z",
     "start_time": "2019-04-23T09:25:37.761186Z"
    }
   },
   "outputs": [
    {
     "data": {
      "text/plain": [
       "{'bulk_0_atm': array([4.07491409, 4.07487076, 4.07505526]),\n",
       " 'bulk_1_atm': array([4.07491335, 4.07487001, 4.07505452]),\n",
       " 'slab_0_atm': array([4.05660998, 4.05708041, 4.07011039]),\n",
       " 'slab_1_atm': array([4.05660619, 4.05707661, 4.07011039])}"
      ]
     },
     "execution_count": 87,
     "metadata": {},
     "output_type": "execute_result"
    }
   ],
   "source": [
    "anisotropic_lattice_spacing"
   ]
  },
  {
   "cell_type": "code",
   "execution_count": 94,
   "metadata": {
    "ExecuteTime": {
     "end_time": "2019-04-23T09:27:57.753000Z",
     "start_time": "2019-04-23T09:27:57.715566Z"
    }
   },
   "outputs": [
    {
     "data": {
      "text/plain": [
       "array([51., 90., 24.])"
      ]
     },
     "execution_count": 94,
     "metadata": {},
     "output_type": "execute_result"
    }
   ],
   "source": [
    "crystal_plane_count"
   ]
  },
  {
   "cell_type": "code",
   "execution_count": 95,
   "metadata": {
    "ExecuteTime": {
     "end_time": "2019-04-23T09:28:04.921827Z",
     "start_time": "2019-04-23T09:28:04.893323Z"
    }
   },
   "outputs": [
    {
     "data": {
      "text/plain": [
       "{'bulk_0_atm': array([146.95136872, 149.72031187,  56.46562207]),\n",
       " 'bulk_1_atm': array([146.95134191, 149.72028456,  56.46561176]),\n",
       " 'slab_0_atm': array([146.29127787, 149.06665272,  56.39710389]),\n",
       " 'slab_1_atm': array([146.29114111, 149.06651301,  56.39710389])}"
      ]
     },
     "execution_count": 95,
     "metadata": {},
     "output_type": "execute_result"
    }
   ],
   "source": [
    "mean_measures"
   ]
  },
  {
   "cell_type": "code",
   "execution_count": 96,
   "metadata": {
    "ExecuteTime": {
     "end_time": "2019-04-23T09:28:06.854999Z",
     "start_time": "2019-04-23T09:28:06.813084Z"
    }
   },
   "outputs": [],
   "source": [
    "mean_base_length = (mean_measures['bulk_1_atm'][0] + mean_measures['bulk_1_atm'][1])/2.0"
   ]
  },
  {
   "cell_type": "code",
   "execution_count": 97,
   "metadata": {
    "ExecuteTime": {
     "end_time": "2019-04-23T09:28:07.207754Z",
     "start_time": "2019-04-23T09:28:07.179161Z"
    }
   },
   "outputs": [
    {
     "data": {
      "text/plain": [
       "148.33581323446694"
      ]
     },
     "execution_count": 97,
     "metadata": {},
     "output_type": "execute_result"
    }
   ],
   "source": [
    "mean_base_length"
   ]
  },
  {
   "cell_type": "code",
   "execution_count": 98,
   "metadata": {
    "ExecuteTime": {
     "end_time": "2019-04-23T09:28:11.391094Z",
     "start_time": "2019-04-23T09:28:11.357080Z"
    }
   },
   "outputs": [],
   "source": [
    "scale_factor = mean_base_length / mean_measures['bulk_1_atm'][2]"
   ]
  },
  {
   "cell_type": "code",
   "execution_count": 99,
   "metadata": {
    "ExecuteTime": {
     "end_time": "2019-04-23T09:28:12.006219Z",
     "start_time": "2019-04-23T09:28:11.972927Z"
    }
   },
   "outputs": [
    {
     "data": {
      "text/plain": [
       "2.6270115316404463"
      ]
     },
     "execution_count": 99,
     "metadata": {},
     "output_type": "execute_result"
    }
   ],
   "source": [
    "scale_factor"
   ]
  },
  {
   "cell_type": "code",
   "execution_count": 116,
   "metadata": {
    "ExecuteTime": {
     "end_time": "2019-04-23T09:32:01.361053Z",
     "start_time": "2019-04-23T09:32:01.319387Z"
    }
   },
   "outputs": [
    {
     "data": {
      "text/plain": [
       "63.04827675937071"
      ]
     },
     "execution_count": 116,
     "metadata": {},
     "output_type": "execute_result"
    }
   ],
   "source": [
    "scale_factor * crystal_plane_count[2]"
   ]
  },
  {
   "cell_type": "code",
   "execution_count": 113,
   "metadata": {
    "ExecuteTime": {
     "end_time": "2019-04-23T09:31:28.794857Z",
     "start_time": "2019-04-23T09:31:28.760823Z"
    }
   },
   "outputs": [],
   "source": [
    "cube_crystal_plane_count = np.round(\n",
    "    crystal_plane_count * [1,1,scale_factor] )"
   ]
  },
  {
   "cell_type": "code",
   "execution_count": 115,
   "metadata": {
    "ExecuteTime": {
     "end_time": "2019-04-23T09:31:35.014705Z",
     "start_time": "2019-04-23T09:31:34.977204Z"
    }
   },
   "outputs": [
    {
     "data": {
      "text/plain": [
       "array([51., 90., 63.])"
      ]
     },
     "execution_count": 115,
     "metadata": {},
     "output_type": "execute_result"
    }
   ],
   "source": [
    "cube_crystal_plane_count"
   ]
  },
  {
   "cell_type": "code",
   "execution_count": 117,
   "metadata": {
    "ExecuteTime": {
     "end_time": "2019-04-23T09:32:56.884698Z",
     "start_time": "2019-04-23T09:32:56.846925Z"
    }
   },
   "outputs": [
    {
     "data": {
      "text/plain": [
       "192780.0"
      ]
     },
     "execution_count": 117,
     "metadata": {},
     "output_type": "execute_result"
    }
   ],
   "source": [
    "# reconstructing number of atoms in cube from unit cell count\n",
    "np.prod(cube_crystal_plane_count / [1,3,3])*6"
   ]
  }
 ],
 "metadata": {
  "hide_input": false,
  "kernelspec": {
   "display_name": "Python 3 (mdtools)",
   "language": "python",
   "name": "python3-mdtools"
  },
  "language_info": {
   "codemirror_mode": {
    "name": "ipython",
    "version": 3
   },
   "file_extension": ".py",
   "mimetype": "text/x-python",
   "name": "python",
   "nbconvert_exporter": "python",
   "pygments_lexer": "ipython3",
   "version": "3.6.7"
  },
  "latex_envs": {
   "LaTeX_envs_menu_present": true,
   "autoclose": false,
   "autocomplete": true,
   "bibliofile": "biblio.bib",
   "cite_by": "apalike",
   "current_citInitial": 1,
   "eqLabelWithNumbers": true,
   "eqNumInitial": 1,
   "hotkeys": {
    "equation": "Ctrl-E",
    "itemize": "Ctrl-I"
   },
   "labels_anchors": false,
   "latex_user_defs": false,
   "report_style_numbering": false,
   "user_envs_cfg": false
  },
  "notify_time": "30",
  "toc": {
   "base_numbering": 1,
   "nav_menu": {},
   "number_sections": true,
   "sideBar": true,
   "skip_h1_title": false,
   "title_cell": "Table of Contents",
   "title_sidebar": "Contents",
   "toc_cell": false,
   "toc_position": {},
   "toc_section_display": true,
   "toc_window_display": false
  },
  "varInspector": {
   "cols": {
    "lenName": 16,
    "lenType": 16,
    "lenVar": 40
   },
   "kernels_config": {
    "python": {
     "delete_cmd_postfix": "",
     "delete_cmd_prefix": "del ",
     "library": "var_list.py",
     "varRefreshCmd": "print(var_dic_list())"
    },
    "r": {
     "delete_cmd_postfix": ") ",
     "delete_cmd_prefix": "rm(",
     "library": "var_list.r",
     "varRefreshCmd": "cat(var_dic_list()) "
    }
   },
   "types_to_exclude": [
    "module",
    "function",
    "builtin_function_or_method",
    "instance",
    "_Feature"
   ],
   "window_display": false
  }
 },
 "nbformat": 4,
 "nbformat_minor": 2
}
