{
 "cells": [
  {
   "cell_type": "markdown",
   "metadata": {},
   "source": [
    "# Substrate replacement\n",
    "Replace existing substrate by new substrate of different width"
   ]
  },
  {
   "cell_type": "code",
   "execution_count": 1,
   "metadata": {
    "ExecuteTime": {
     "end_time": "2019-06-04T14:38:47.421244Z",
     "start_time": "2019-06-04T14:38:47.416515Z"
    }
   },
   "outputs": [],
   "source": [
    "import os, sys"
   ]
  },
  {
   "cell_type": "code",
   "execution_count": 2,
   "metadata": {
    "ExecuteTime": {
     "end_time": "2019-06-04T14:38:48.453417Z",
     "start_time": "2019-06-04T14:38:48.447261Z"
    }
   },
   "outputs": [],
   "source": [
    "import numpy as np"
   ]
  },
  {
   "cell_type": "code",
   "execution_count": 3,
   "metadata": {
    "ExecuteTime": {
     "end_time": "2019-06-04T14:38:48.715056Z",
     "start_time": "2019-06-04T14:38:48.625076Z"
    }
   },
   "outputs": [],
   "source": [
    "import ase"
   ]
  },
  {
   "cell_type": "code",
   "execution_count": 4,
   "metadata": {
    "ExecuteTime": {
     "end_time": "2019-06-04T14:38:49.006235Z",
     "start_time": "2019-06-04T14:38:48.742043Z"
    }
   },
   "outputs": [],
   "source": [
    "from ase.visualize import view\n",
    "import nglview as nv"
   ]
  },
  {
   "cell_type": "code",
   "execution_count": 5,
   "metadata": {
    "ExecuteTime": {
     "end_time": "2019-06-04T14:38:56.076868Z",
     "start_time": "2019-06-04T14:38:49.026087Z"
    }
   },
   "outputs": [],
   "source": [
    "import ovito"
   ]
  },
  {
   "cell_type": "code",
   "execution_count": 6,
   "metadata": {},
   "outputs": [
    {
     "data": {
      "text/plain": [
       "'/mnt/dat/work/testuser/substrate'"
      ]
     },
     "execution_count": 6,
     "metadata": {},
     "output_type": "execute_result"
    }
   ],
   "source": [
    "os.getcwd()"
   ]
  },
  {
   "cell_type": "code",
   "execution_count": 7,
   "metadata": {},
   "outputs": [],
   "source": [
    "py_prefix = os.path.split( os.getcwd() )[0] \\\n",
    "    + os.path.sep + 'adsorption' \\\n",
    "    + os.path.sep + 'N_surfactant_on_substrate_template' \\\n",
    "    + os.path.sep + 'py'"
   ]
  },
  {
   "cell_type": "code",
   "execution_count": 8,
   "metadata": {},
   "outputs": [
    {
     "data": {
      "text/plain": [
       "'/mnt/dat/work/testuser/adsorption/N_surfactant_on_substrate_template/py'"
      ]
     },
     "execution_count": 8,
     "metadata": {},
     "output_type": "execute_result"
    }
   ],
   "source": [
    "py_prefix"
   ]
  },
  {
   "cell_type": "code",
   "execution_count": 9,
   "metadata": {},
   "outputs": [],
   "source": [
    "sys.path.append(py_prefix)"
   ]
  },
  {
   "cell_type": "code",
   "execution_count": 10,
   "metadata": {},
   "outputs": [],
   "source": [
    "import postprocessing"
   ]
  },
  {
   "cell_type": "code",
   "execution_count": 11,
   "metadata": {},
   "outputs": [
    {
     "data": {
      "text/plain": [
       "array([ 0,  1,  1,  6,  6,  8,  8, 16,  1,  8, 11, 79], dtype=uint64)"
      ]
     },
     "execution_count": 11,
     "metadata": {},
     "output_type": "execute_result"
    }
   ],
   "source": [
    "postprocessing.sds_t2n_array"
   ]
  },
  {
   "cell_type": "code",
   "execution_count": 12,
   "metadata": {},
   "outputs": [],
   "source": [
    "# Read full lammps datafile\n",
    "f = ase.io.read('datafile_full.lammps',format='lammps-data')"
   ]
  },
  {
   "cell_type": "code",
   "execution_count": 14,
   "metadata": {},
   "outputs": [],
   "source": [
    "f.set_cell(np.eye(3)*(np.max(f.get_positions(),axis=0) - np.min(f.get_positions(),axis=0)))"
   ]
  },
  {
   "cell_type": "code",
   "execution_count": 15,
   "metadata": {},
   "outputs": [
    {
     "data": {
      "text/plain": [
       "array([[147.5786759 ,   0.        ,   0.        ],\n",
       "       [  0.        , 150.37585691,   0.        ],\n",
       "       [  0.        ,   0.        , 174.1076026 ]])"
      ]
     },
     "execution_count": 15,
     "metadata": {},
     "output_type": "execute_result"
    }
   ],
   "source": [
    "f.get_cell()"
   ]
  },
  {
   "cell_type": "code",
   "execution_count": 17,
   "metadata": {},
   "outputs": [
    {
     "data": {
      "text/plain": [
       "array([147.5786759 , 150.37585691, 174.1076026 ])"
      ]
     },
     "execution_count": 17,
     "metadata": {},
     "output_type": "execute_result"
    }
   ],
   "source": [
    "f.get_cell_lengths_and_angles()[:3]"
   ]
  },
  {
   "cell_type": "code",
   "execution_count": null,
   "metadata": {},
   "outputs": [],
   "source": [
    "f_reference = f.copy()"
   ]
  },
  {
   "cell_type": "code",
   "execution_count": null,
   "metadata": {},
   "outputs": [],
   "source": [
    "# do not alter atomic numbers:\n",
    "f_reference.set_atomic_numbers(\n",
    "   postprocessing.sds_t2n_array[f.get_atomic_numbers() ] )"
   ]
  },
  {
   "cell_type": "code",
   "execution_count": null,
   "metadata": {},
   "outputs": [],
   "source": [
    "import parmed"
   ]
  },
  {
   "cell_type": "code",
   "execution_count": null,
   "metadata": {},
   "outputs": [],
   "source": [
    "parmed.load_file()"
   ]
  },
  {
   "cell_type": "code",
   "execution_count": null,
   "metadata": {},
   "outputs": [],
   "source": [
    "f_reference.get_chemical_formula()"
   ]
  },
  {
   "cell_type": "code",
   "execution_count": null,
   "metadata": {},
   "outputs": [],
   "source": [
    "# remove water for display purposes\n",
    "g = f_reference[ \n",
    "    (np.array(f_reference.get_chemical_symbols()) != 'O') & (\n",
    "        np.array(f_reference.get_chemical_symbols()) != 'H')]\n",
    "f_reference_dry = g.copy()"
   ]
  },
  {
   "cell_type": "code",
   "execution_count": null,
   "metadata": {},
   "outputs": [],
   "source": [
    "import logging\n"
   ]
  },
  {
   "cell_type": "code",
   "execution_count": null,
   "metadata": {},
   "outputs": [],
   "source": [
    "os.getenv(\"PATH\").split( '|' )"
   ]
  },
  {
   "cell_type": "code",
   "execution_count": null,
   "metadata": {},
   "outputs": [],
   "source": [
    "os.pathsep"
   ]
  },
  {
   "cell_type": "code",
   "execution_count": null,
   "metadata": {},
   "outputs": [],
   "source": [
    "logging.root.level"
   ]
  },
  {
   "cell_type": "code",
   "execution_count": null,
   "metadata": {},
   "outputs": [],
   "source": [
    "logging.WARNING"
   ]
  },
  {
   "cell_type": "code",
   "execution_count": null,
   "metadata": {},
   "outputs": [],
   "source": [
    "logging.getLevelName( logging.root.level )"
   ]
  },
  {
   "cell_type": "code",
   "execution_count": null,
   "metadata": {},
   "outputs": [],
   "source": [
    "    logger = logging.getLogger('exchange_substrate.exchangeSubstrate')\n"
   ]
  },
  {
   "cell_type": "code",
   "execution_count": null,
   "metadata": {},
   "outputs": [],
   "source": [
    "logger.level"
   ]
  },
  {
   "cell_type": "code",
   "execution_count": null,
   "metadata": {},
   "outputs": [],
   "source": [
    "f_reference_dry"
   ]
  },
  {
   "cell_type": "code",
   "execution_count": null,
   "metadata": {},
   "outputs": [],
   "source": [
    "staticView = nv.show_ase(f_reference_dry)\n",
    "\n",
    "staticView.remove_ball_and_stick()\n",
    "staticView.add_spacefill()\n",
    "\n",
    "staticView.download_image(filename='test.png')"
   ]
  },
  {
   "cell_type": "code",
   "execution_count": null,
   "metadata": {},
   "outputs": [],
   "source": [
    "# assume only substrate is Au and extract\n",
    "substrate = f[ (np.array(f_reference.get_chemical_symbols()) == 'Au') ]"
   ]
  },
  {
   "cell_type": "code",
   "execution_count": null,
   "metadata": {},
   "outputs": [],
   "source": [
    "len(substrate)"
   ]
  },
  {
   "cell_type": "code",
   "execution_count": null,
   "metadata": {},
   "outputs": [],
   "source": [
    "staticView = nv.show_ase(substrate)\n",
    "staticView.remove_ball_and_stick()\n",
    "staticView.add_spacefill()\n",
    "staticView"
   ]
  },
  {
   "cell_type": "code",
   "execution_count": null,
   "metadata": {},
   "outputs": [],
   "source": [
    "# simulation box as defined in data file\n",
    "print(f.get_cell())"
   ]
  },
  {
   "cell_type": "code",
   "execution_count": null,
   "metadata": {},
   "outputs": [],
   "source": [
    "# mininimum and maximum coordinates defined by substrate\n",
    "substrate_box = np.array([np.min(substrate.get_positions(),axis=0),np.max(substrate.get_positions(),axis=0)])"
   ]
  },
  {
   "cell_type": "code",
   "execution_count": null,
   "metadata": {},
   "outputs": [],
   "source": [
    "substrate_box"
   ]
  },
  {
   "cell_type": "code",
   "execution_count": null,
   "metadata": {},
   "outputs": [],
   "source": [
    "substrate_measures = substrate_box[1] - substrate_box[0]"
   ]
  },
  {
   "cell_type": "code",
   "execution_count": null,
   "metadata": {},
   "outputs": [],
   "source": [
    "substrate_measures"
   ]
  },
  {
   "cell_type": "code",
   "execution_count": null,
   "metadata": {},
   "outputs": [],
   "source": [
    "# cellX = substrate.get_cell()[0,0]\n",
    "# cellY = substrate.get_cell()[1,1]\n",
    "cellZ = substrate.get_cell()[2,2]"
   ]
  },
  {
   "cell_type": "code",
   "execution_count": null,
   "metadata": {},
   "outputs": [],
   "source": [
    "# shift substrate back into unit box\n",
    "# make minimum x and y coordinates align with 0,0\n",
    "shiftX = - np.min(substrate.get_positions(),axis=0)[0] \n",
    "shiftY = - np.min(substrate.get_positions(),axis=0)[1] \n",
    "# shift whole system in such a way that coordinateas of substrate\n",
    "# wrapped at periodic boundary to the \"upper\" half of the box\n",
    "# lie outside of the box now\n",
    "shiftZ = cellZ - np.min(\n",
    "    substrate.get_positions()[\n",
    "        substrate.get_positions()[:,2] > cellZ/2],axis=0)[2] \n",
    "\n",
    "# wrap these coordinates back to lower half\n",
    "# new_positions = ase.geometry.wrap_positions(\n",
    "#    f.get_positions() + [shiftX,shiftY,shiftZ], f.get_cell(), pbc=(0,0,1),\n",
    "#    eps=1e-3)\n",
    "\n",
    "new_positions_pbc3 = ase.geometry.wrap_positions(\n",
    "    f.get_positions() + [shiftX,shiftY,shiftZ], f.get_cell(), pbc=(1,1,1),\n",
    "    eps=1e-3)"
   ]
  },
  {
   "cell_type": "code",
   "execution_count": null,
   "metadata": {},
   "outputs": [],
   "source": [
    "np.min(new_positions_pbc3,axis=0)"
   ]
  },
  {
   "cell_type": "code",
   "execution_count": null,
   "metadata": {},
   "outputs": [],
   "source": [
    "# np.max(new_positions,axis=0)"
   ]
  },
  {
   "cell_type": "code",
   "execution_count": null,
   "metadata": {},
   "outputs": [],
   "source": [
    "np.max(new_positions_pbc3,axis=0)"
   ]
  },
  {
   "cell_type": "code",
   "execution_count": null,
   "metadata": {},
   "outputs": [],
   "source": [
    "# f_pbc1 = f.copy()"
   ]
  },
  {
   "cell_type": "code",
   "execution_count": null,
   "metadata": {},
   "outputs": [],
   "source": [
    "# f_pbc1.set_positions(new_positions)"
   ]
  },
  {
   "cell_type": "code",
   "execution_count": null,
   "metadata": {},
   "outputs": [],
   "source": [
    "f_pbc3 = f.copy()"
   ]
  },
  {
   "cell_type": "code",
   "execution_count": null,
   "metadata": {},
   "outputs": [],
   "source": [
    "f_pbc3.set_positions(new_positions_pbc3)"
   ]
  },
  {
   "cell_type": "code",
   "execution_count": null,
   "metadata": {},
   "outputs": [],
   "source": [
    "# wrapped_substrate = f_pbc1[ \n",
    "#    (np.array(f_pbc1.get_chemical_symbols()) == 'Au') ]\n"
   ]
  },
  {
   "cell_type": "code",
   "execution_count": null,
   "metadata": {},
   "outputs": [],
   "source": [
    "# extract \"wrapped\" substrate from now neatly aligned system\n",
    "wrapped_substrate_pbc3 = f_pbc3[ \n",
    "    (np.array(f_reference.get_chemical_symbols()) == 'Au') ]\n"
   ]
  },
  {
   "cell_type": "code",
   "execution_count": null,
   "metadata": {},
   "outputs": [],
   "source": [
    "# g = f_pbc1[ \n",
    "#    (np.array(f_pbc1.get_chemical_symbols()) != 'O') & (\n",
    "#        np.array(f_pbc1.get_chemical_symbols()) != 'H')]\n",
    "# f_pbc1_dry = g.copy()"
   ]
  },
  {
   "cell_type": "code",
   "execution_count": null,
   "metadata": {},
   "outputs": [],
   "source": [
    "g = f_pbc3[ \n",
    "    (np.array(f_reference.get_chemical_symbols()) != 'O') & (\n",
    "        np.array(f_reference.get_chemical_symbols()) != 'H')]\n",
    "f_pbc3_dry = g.copy()"
   ]
  },
  {
   "cell_type": "code",
   "execution_count": null,
   "metadata": {},
   "outputs": [],
   "source": [
    "staticView = nv.show_ase(f_pbc3_dry)\n",
    "staticView.remove_ball_and_stick()\n",
    "staticView.add_spacefill()\n",
    "staticView"
   ]
  },
  {
   "cell_type": "code",
   "execution_count": null,
   "metadata": {},
   "outputs": [],
   "source": [
    "from ase.lattice.cubic import FaceCenteredCubic"
   ]
  },
  {
   "cell_type": "code",
   "execution_count": null,
   "metadata": {},
   "outputs": [],
   "source": [
    "# create a \"perfect\" crystaline reference substrate\n",
    "# of same measures as currently used substrate\n",
    "reference_substrate = FaceCenteredCubic(\n",
    "    'Au', directions=[[1,-1,0],[1,1,-2],[1,1,1]], size=(51,30,2), pbc=(1,1,0))"
   ]
  },
  {
   "cell_type": "code",
   "execution_count": null,
   "metadata": {},
   "outputs": [],
   "source": [
    "staticView = nv.show_ase(reference_substrate)\n",
    "staticView.remove_ball_and_stick()\n",
    "staticView.add_spacefill()\n",
    "staticView"
   ]
  },
  {
   "cell_type": "code",
   "execution_count": null,
   "metadata": {},
   "outputs": [],
   "source": [
    "len(reference_substrate)"
   ]
  },
  {
   "cell_type": "code",
   "execution_count": null,
   "metadata": {},
   "outputs": [],
   "source": [
    "len(wrapped_substrate_pbc3)"
   ]
  },
  {
   "cell_type": "code",
   "execution_count": null,
   "metadata": {},
   "outputs": [],
   "source": [
    "reference_substrate.get_center_of_mass()"
   ]
  },
  {
   "cell_type": "code",
   "execution_count": null,
   "metadata": {},
   "outputs": [],
   "source": [
    "wrapped_substrate_pbc3.get_center_of_mass()"
   ]
  },
  {
   "cell_type": "code",
   "execution_count": null,
   "metadata": {},
   "outputs": [],
   "source": [
    "# compare the two substrates' center of mass\n",
    "# they still might be slightly disaligned\n",
    "# especially in z-direction, if lattice exhibits defects"
   ]
  },
  {
   "cell_type": "code",
   "execution_count": null,
   "metadata": {},
   "outputs": [],
   "source": [
    "reference_substrate_shift = wrapped_substrate_pbc3.get_center_of_mass() - reference_substrate.get_center_of_mass()"
   ]
  },
  {
   "cell_type": "code",
   "execution_count": null,
   "metadata": {},
   "outputs": [],
   "source": [
    "aligned_reference_substrate = reference_substrate.copy()"
   ]
  },
  {
   "cell_type": "code",
   "execution_count": null,
   "metadata": {},
   "outputs": [],
   "source": [
    "aligned_reference_substrate.positions = reference_substrate.positions + reference_substrate_shift"
   ]
  },
  {
   "cell_type": "code",
   "execution_count": null,
   "metadata": {},
   "outputs": [],
   "source": [
    "# compare again after shift"
   ]
  },
  {
   "cell_type": "code",
   "execution_count": null,
   "metadata": {},
   "outputs": [],
   "source": [
    "aligned_reference_substrate.get_center_of_mass()"
   ]
  },
  {
   "cell_type": "code",
   "execution_count": null,
   "metadata": {},
   "outputs": [],
   "source": [
    "wrapped_substrate_pbc3.get_center_of_mass()"
   ]
  },
  {
   "cell_type": "code",
   "execution_count": null,
   "metadata": {},
   "outputs": [],
   "source": [
    "# create new substrate of different thickness"
   ]
  },
  {
   "cell_type": "code",
   "execution_count": null,
   "metadata": {},
   "outputs": [],
   "source": [
    "new_substrate_16 = FaceCenteredCubic(\n",
    "    'Au', directions=[[1,-1,0],[1,1,-2],[1,1,1]], size=(51,30,16), pbc=(1,1,0))a"
   ]
  },
  {
   "cell_type": "code",
   "execution_count": null,
   "metadata": {},
   "outputs": [],
   "source": [
    "new_substrate = new_substrate_16.copy()"
   ]
  },
  {
   "cell_type": "code",
   "execution_count": null,
   "metadata": {},
   "outputs": [],
   "source": [
    "# reference substrate and new substrate should by x-y-aligned\n",
    "# but still have to be \"upper surface\" - aligned"
   ]
  },
  {
   "cell_type": "code",
   "execution_count": null,
   "metadata": {},
   "outputs": [],
   "source": [
    "new_substrate.positions = new_substrate.positions + reference_substrate_shift"
   ]
  },
  {
   "cell_type": "code",
   "execution_count": null,
   "metadata": {},
   "outputs": [],
   "source": [
    "np.max(aligned_reference_substrate.positions,axis=0)"
   ]
  },
  {
   "cell_type": "code",
   "execution_count": null,
   "metadata": {},
   "outputs": [],
   "source": [
    "np.max(new_substrate.positions,axis=0)"
   ]
  },
  {
   "cell_type": "code",
   "execution_count": null,
   "metadata": {},
   "outputs": [],
   "source": [
    "# ATTENTION: alignment based on maximum coordinates is \n",
    "# prone to errors int the case of defetcs (protrusions)\n",
    "shiftZ = (\n",
    "    np.max(aligned_reference_substrate.positions,axis=0) \\\n",
    "    - np.max(new_substrate.positions,axis=0))[2]"
   ]
  },
  {
   "cell_type": "code",
   "execution_count": null,
   "metadata": {},
   "outputs": [],
   "source": [
    "shiftZ"
   ]
  },
  {
   "cell_type": "code",
   "execution_count": null,
   "metadata": {},
   "outputs": [],
   "source": [
    "aligned_new_substrate = new_substrate.copy()"
   ]
  },
  {
   "cell_type": "code",
   "execution_count": null,
   "metadata": {},
   "outputs": [],
   "source": [
    "aligned_new_substrate.positions = new_substrate.positions + [0,0,shiftZ]"
   ]
  },
  {
   "cell_type": "code",
   "execution_count": null,
   "metadata": {},
   "outputs": [],
   "source": [
    "np.max(aligned_reference_substrate.positions,axis=0)"
   ]
  },
  {
   "cell_type": "code",
   "execution_count": null,
   "metadata": {},
   "outputs": [],
   "source": [
    "np.max(aligned_new_substrate.positions,axis=0)"
   ]
  },
  {
   "cell_type": "code",
   "execution_count": null,
   "metadata": {},
   "outputs": [],
   "source": [
    "# remove old substrate from original system\n",
    "nonSubstrate = f_pbc3[ (np.array(f_reference.get_chemical_symbols()) != 'Au') ]"
   ]
  },
  {
   "cell_type": "code",
   "execution_count": null,
   "metadata": {},
   "outputs": [],
   "source": [
    "# find lammps data file rtype for Au\n",
    "substrate_type = np.where(\n",
    "    postprocessing.sds_t2n_array == ase.data.atomic_numbers['Au'])[0][0]"
   ]
  },
  {
   "cell_type": "code",
   "execution_count": null,
   "metadata": {},
   "outputs": [],
   "source": [
    "substrate_type"
   ]
  },
  {
   "cell_type": "code",
   "execution_count": null,
   "metadata": {},
   "outputs": [],
   "source": [
    "substrate.arrays['numbers']"
   ]
  },
  {
   "cell_type": "code",
   "execution_count": null,
   "metadata": {},
   "outputs": [],
   "source": [
    "[substrate_type]*9"
   ]
  },
  {
   "cell_type": "code",
   "execution_count": null,
   "metadata": {},
   "outputs": [],
   "source": [
    "aligned_new_substrate.set_atomic_numbers(\n",
    "    [substrate_type]*len(aligned_new_substrate))"
   ]
  },
  {
   "cell_type": "code",
   "execution_count": null,
   "metadata": {},
   "outputs": [],
   "source": [
    "aligned_new_substrate"
   ]
  },
  {
   "cell_type": "code",
   "execution_count": null,
   "metadata": {},
   "outputs": [],
   "source": [
    "postprocessing.sds_t2e_array[10]"
   ]
  },
  {
   "cell_type": "code",
   "execution_count": null,
   "metadata": {},
   "outputs": [],
   "source": [
    "np.where(f_reference.arrays['type'] == 11)"
   ]
  },
  {
   "cell_type": "code",
   "execution_count": null,
   "metadata": {},
   "outputs": [],
   "source": [
    "# combine new substrtae and old system without old substrate\n",
    "f_new = nonSubstrate + aligned_new_substrate"
   ]
  },
  {
   "cell_type": "code",
   "execution_count": null,
   "metadata": {},
   "outputs": [],
   "source": [
    "g = f_new[ \n",
    "    (np.array(f_reference.get_chemical_symbols()) != 'O') & (\n",
    "        np.array(f_reference.get_chemical_symbols()) != 'H')]\n",
    "f_new_dry = g.copy()"
   ]
  },
  {
   "cell_type": "code",
   "execution_count": null,
   "metadata": {},
   "outputs": [],
   "source": [
    "staticView = nv.show_ase(f_new_dry)\n",
    "staticView.remove_ball_and_stick()\n",
    "staticView.add_spacefill()\n",
    "staticView"
   ]
  },
  {
   "cell_type": "code",
   "execution_count": null,
   "metadata": {},
   "outputs": [],
   "source": [
    "# ase cannot write LAMMPS data files, thus use ovito"
   ]
  },
  {
   "cell_type": "code",
   "execution_count": null,
   "metadata": {},
   "outputs": [],
   "source": [
    "from ovito.io import import_file, export_file"
   ]
  },
  {
   "cell_type": "code",
   "execution_count": null,
   "metadata": {},
   "outputs": [],
   "source": [
    "from ovito.data import DataCollection"
   ]
  },
  {
   "cell_type": "code",
   "execution_count": null,
   "metadata": {},
   "outputs": [],
   "source": [
    "from ovito.pipeline import StaticSource, Pipeline"
   ]
  },
  {
   "cell_type": "code",
   "execution_count": 128,
   "metadata": {},
   "outputs": [
    {
     "data": {
      "text/plain": [
       "{'angles': array(['619-781(6)'], dtype='<U107'),\n",
       " 'bonds': array(['781(4)'], dtype='<U39'),\n",
       " 'dihedrals': array(['781-288408-288384(16),781-288408-288407(16),781-288408-288410(10)'],\n",
       "       dtype='<U143'),\n",
       " 'id': array([359055]),\n",
       " 'masses': array([15.9994]),\n",
       " 'mmcharge': array([-0.28]),\n",
       " 'mol-id': array([131433]),\n",
       " 'momenta': array([[-7.42867644e-05,  2.91276495e-04, -5.71881485e-04]]),\n",
       " 'numbers': array([5]),\n",
       " 'positions': array([[ 0.69747473,  6.38270636, 17.01742627]]),\n",
       " 'travel': array([[1, 0, 0]]),\n",
       " 'type': array([5])}"
      ]
     },
     "execution_count": 128,
     "metadata": {},
     "output_type": "execute_result"
    }
   ],
   "source": [
    "f_new[:1].arrays"
   ]
  },
  {
   "cell_type": "code",
   "execution_count": 129,
   "metadata": {},
   "outputs": [],
   "source": [
    "f_ovito = f_new.copy()"
   ]
  },
  {
   "cell_type": "code",
   "execution_count": 130,
   "metadata": {},
   "outputs": [],
   "source": [
    "# ovito does not process any string type attributes\n",
    "del f_ovito.arrays['angles']\n",
    "del f_ovito.arrays['bonds']\n",
    "del f_ovito.arrays['dihedrals']"
   ]
  },
  {
   "cell_type": "code",
   "execution_count": 80,
   "metadata": {},
   "outputs": [],
   "source": [
    "# based on previous data file\n",
    "pipeline = import_file('datafile_full.lammps',atom_style='full')"
   ]
  },
  {
   "cell_type": "code",
   "execution_count": 88,
   "metadata": {},
   "outputs": [],
   "source": [
    "from ovito.modifiers import SelectTypeModifier, DeleteSelectedModifier"
   ]
  },
  {
   "cell_type": "code",
   "execution_count": 83,
   "metadata": {},
   "outputs": [],
   "source": [
    "pipeline.modifiers.append( SelectTypeModifier(\n",
    "    operate_on = \"particles\",\n",
    "    property=\"Particle Type\",\n",
    "    types = {11} ))"
   ]
  },
  {
   "cell_type": "code",
   "execution_count": 90,
   "metadata": {},
   "outputs": [],
   "source": [
    "pipeline.modifiers.append( DeleteSelectedModifier())"
   ]
  },
  {
   "cell_type": "code",
   "execution_count": 91,
   "metadata": {},
   "outputs": [],
   "source": [
    "dc = pipeline.compute()"
   ]
  },
  {
   "cell_type": "code",
   "execution_count": 92,
   "metadata": {},
   "outputs": [
    {
     "data": {
      "text/plain": [
       "364843"
      ]
     },
     "execution_count": 92,
     "metadata": {},
     "output_type": "execute_result"
    }
   ],
   "source": [
    "dc.number_of_particles"
   ]
  },
  {
   "cell_type": "code",
   "execution_count": 94,
   "metadata": {},
   "outputs": [
    {
     "data": {
      "text/plain": [
       "DataCollection()"
      ]
     },
     "execution_count": 94,
     "metadata": {},
     "output_type": "execute_result"
    }
   ],
   "source": [
    "dc."
   ]
  },
  {
   "cell_type": "code",
   "execution_count": null,
   "metadata": {},
   "outputs": [],
   "source": [
    "# based on ase-processed system"
   ]
  },
  {
   "cell_type": "code",
   "execution_count": 131,
   "metadata": {},
   "outputs": [],
   "source": [
    "data = DataCollection.create_from_ase_atoms(f_ovito)"
   ]
  },
  {
   "cell_type": "code",
   "execution_count": 132,
   "metadata": {},
   "outputs": [
    {
     "data": {
      "text/plain": [
       "ovito.plugins.PyScript.DataCollection"
      ]
     },
     "execution_count": 132,
     "metadata": {},
     "output_type": "execute_result"
    }
   ],
   "source": [
    "type(data)"
   ]
  },
  {
   "cell_type": "code",
   "execution_count": 133,
   "metadata": {},
   "outputs": [],
   "source": [
    "pipeline = Pipeline(source = StaticSource(data = data))"
   ]
  },
  {
   "cell_type": "code",
   "execution_count": 134,
   "metadata": {},
   "outputs": [],
   "source": [
    "export_file(\n",
    "    pipeline, \"processed.lammps\", \"lammps_data\", atom_style = 'full')"
   ]
  },
  {
   "cell_type": "code",
   "execution_count": null,
   "metadata": {},
   "outputs": [],
   "source": []
  },
  {
   "cell_type": "code",
   "execution_count": 217,
   "metadata": {},
   "outputs": [],
   "source": [
    "# Read full lammps datafile\n",
    "f_processed = ase.io.read('processed.lammps',format='lammps-data')\n",
    "#f_processed.set_atomic_numbers(\n",
    "#    postprocessing.sds_t2n_array[f_processed.get_atomic_numbers() ] )"
   ]
  },
  {
   "cell_type": "code",
   "execution_count": 223,
   "metadata": {},
   "outputs": [
    {
     "data": {
      "text/plain": [
       "Atoms(symbols='C7752H240860Au146880Na646O114939S646', pbc=True, cell=[147.57919219824882, 150.37603810005166, 175.62047155578213], angles=..., bonds=..., dihedrals=..., id=..., masses=..., mmcharge=..., mol-id=..., momenta=..., travel=..., type=...)"
      ]
     },
     "execution_count": 223,
     "metadata": {},
     "output_type": "execute_result"
    }
   ],
   "source": [
    "f_new"
   ]
  },
  {
   "cell_type": "code",
   "execution_count": 219,
   "metadata": {},
   "outputs": [
    {
     "data": {
      "text/plain": [
       "Atoms(symbols='C646H646B114939Be146880He7752Li240860', pbc=True, cell=[147.5791921982, 150.3760381001, 175.6204715558], id=..., mmcharge=..., mol-id=..., type=...)"
      ]
     },
     "execution_count": 219,
     "metadata": {},
     "output_type": "execute_result"
    }
   ],
   "source": [
    "f_processed"
   ]
  },
  {
   "cell_type": "code",
   "execution_count": 224,
   "metadata": {},
   "outputs": [],
   "source": [
    "# remove stuff for display purposes\n",
    "g = f_processed[ (np.array(f_processed.get_chemical_symbols()) == 'Be') ]\n",
    "f_disp = g.copy()"
   ]
  },
  {
   "cell_type": "code",
   "execution_count": 225,
   "metadata": {},
   "outputs": [
    {
     "data": {
      "text/plain": [
       "Atoms(symbols='Be146880', pbc=True, cell=[147.5791921982, 150.3760381001, 175.6204715558], id=..., mmcharge=..., mol-id=..., type=...)"
      ]
     },
     "execution_count": 225,
     "metadata": {},
     "output_type": "execute_result"
    }
   ],
   "source": [
    "f_disp"
   ]
  },
  {
   "cell_type": "code",
   "execution_count": 226,
   "metadata": {},
   "outputs": [
    {
     "data": {
      "application/vnd.jupyter.widget-view+json": {
       "model_id": "ed98bfe7716340858e9c50e95799ce1c",
       "version_major": 2,
       "version_minor": 0
      },
      "text/plain": [
       "NGLWidget()"
      ]
     },
     "metadata": {},
     "output_type": "display_data"
    }
   ],
   "source": [
    "staticView = nv.show_ase(f_disp)\n",
    "\n",
    "staticView.remove_ball_and_stick()\n",
    "staticView.add_spacefill()\n",
    "\n",
    "staticView"
   ]
  },
  {
   "cell_type": "code",
   "execution_count": 187,
   "metadata": {},
   "outputs": [
    {
     "data": {
      "text/plain": [
       "array([ 0,  1,  1,  6,  6,  8,  8, 16,  1,  8, 11, 79], dtype=uint64)"
      ]
     },
     "execution_count": 187,
     "metadata": {},
     "output_type": "execute_result"
    }
   ],
   "source": [
    "postprocessing.sds_t2n_array"
   ]
  },
  {
   "cell_type": "code",
   "execution_count": null,
   "metadata": {},
   "outputs": [],
   "source": []
  }
 ],
 "metadata": {
  "hide_input": false,
  "kernelspec": {
   "display_name": "Python 3",
   "language": "python",
   "name": "python3"
  },
  "language_info": {
   "codemirror_mode": {
    "name": "ipython",
    "version": 3
   },
   "file_extension": ".py",
   "mimetype": "text/x-python",
   "name": "python",
   "nbconvert_exporter": "python",
   "pygments_lexer": "ipython3",
   "version": "3.8.2"
  },
  "latex_envs": {
   "LaTeX_envs_menu_present": true,
   "autoclose": false,
   "autocomplete": true,
   "bibliofile": "biblio.bib",
   "cite_by": "apalike",
   "current_citInitial": 1,
   "eqLabelWithNumbers": true,
   "eqNumInitial": 1,
   "hotkeys": {
    "equation": "Ctrl-E",
    "itemize": "Ctrl-I"
   },
   "labels_anchors": false,
   "latex_user_defs": false,
   "report_style_numbering": false,
   "user_envs_cfg": false
  },
  "toc": {
   "base_numbering": 1,
   "nav_menu": {},
   "number_sections": true,
   "sideBar": true,
   "skip_h1_title": false,
   "title_cell": "Table of Contents",
   "title_sidebar": "Contents",
   "toc_cell": false,
   "toc_position": {},
   "toc_section_display": true,
   "toc_window_display": false
  },
  "varInspector": {
   "cols": {
    "lenName": 16,
    "lenType": 16,
    "lenVar": 40
   },
   "kernels_config": {
    "python": {
     "delete_cmd_postfix": "",
     "delete_cmd_prefix": "del ",
     "library": "var_list.py",
     "varRefreshCmd": "print(var_dic_list())"
    },
    "r": {
     "delete_cmd_postfix": ") ",
     "delete_cmd_prefix": "rm(",
     "library": "var_list.r",
     "varRefreshCmd": "cat(var_dic_list()) "
    }
   },
   "types_to_exclude": [
    "module",
    "function",
    "builtin_function_or_method",
    "instance",
    "_Feature"
   ],
   "window_display": false
  }
 },
 "nbformat": 4,
 "nbformat_minor": 2
}
