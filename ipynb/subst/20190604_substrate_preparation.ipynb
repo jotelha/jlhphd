{
 "cells": [
  {
   "cell_type": "markdown",
   "metadata": {},
   "source": [
    "# Prepare 25nm x 25nm x 25 nm substrate block"
   ]
  },
  {
   "cell_type": "code",
   "execution_count": 55,
   "metadata": {
    "ExecuteTime": {
     "end_time": "2020-07-21T15:34:26.848060Z",
     "start_time": "2020-07-21T15:34:26.785282Z"
    }
   },
   "outputs": [
    {
     "name": "stdout",
     "output_type": "stream",
     "text": [
      "The autoreload extension is already loaded. To reload it, use:\n",
      "  %reload_ext autoreload\n"
     ]
    }
   ],
   "source": [
    "%load_ext autoreload\n",
    "%autoreload 2"
   ]
  },
  {
   "cell_type": "code",
   "execution_count": 56,
   "metadata": {
    "ExecuteTime": {
     "end_time": "2020-07-21T15:34:28.339500Z",
     "start_time": "2020-07-21T15:34:28.315492Z"
    }
   },
   "outputs": [
    {
     "data": {
      "text/html": [
       "<style>.container { width:100% !important; }</style>"
      ],
      "text/plain": [
       "<IPython.core.display.HTML object>"
      ]
     },
     "metadata": {},
     "output_type": "display_data"
    }
   ],
   "source": [
    "from IPython.core.display import display, HTML\n",
    "display(HTML(\"<style>.container { width:100% !important; }</style>\"))"
   ]
  },
  {
   "cell_type": "code",
   "execution_count": 57,
   "metadata": {
    "ExecuteTime": {
     "end_time": "2020-07-21T15:34:30.122286Z",
     "start_time": "2020-07-21T15:34:30.095877Z"
    }
   },
   "outputs": [],
   "source": [
    "import os, sys\n",
    "\n",
    "import numpy as np\n",
    "#import ase\n",
    "\n",
    "# import ovito"
   ]
  },
  {
   "cell_type": "code",
   "execution_count": 58,
   "metadata": {
    "ExecuteTime": {
     "end_time": "2020-07-21T15:34:31.454893Z",
     "start_time": "2020-07-21T15:34:31.433887Z"
    }
   },
   "outputs": [],
   "source": [
    "# file formats, input - output\n",
    "import ase.io\n",
    "from ase.io import read, write\n",
    "#import parmed as pmd\n",
    "\n",
    "# visualization\n",
    "from ase.visualize import view\n",
    "from ase.visualize.plot import plot_atoms\n",
    "\n",
    "import nglview as nv\n",
    "import matplotlib.pyplot as plt\n",
    "import ipywidgets # just for jupyter notebooks"
   ]
  },
  {
   "cell_type": "code",
   "execution_count": 7,
   "metadata": {
    "ExecuteTime": {
     "end_time": "2020-07-21T15:20:17.433842Z",
     "start_time": "2020-07-21T15:20:17.358025Z"
    }
   },
   "outputs": [],
   "source": [
    "from IPython.display import Image"
   ]
  },
  {
   "cell_type": "code",
   "execution_count": 8,
   "metadata": {
    "ExecuteTime": {
     "end_time": "2020-07-21T15:20:17.839061Z",
     "start_time": "2020-07-21T15:20:17.798209Z"
    }
   },
   "outputs": [],
   "source": [
    "%matplotlib inline"
   ]
  },
  {
   "cell_type": "code",
   "execution_count": 9,
   "metadata": {
    "ExecuteTime": {
     "end_time": "2020-07-21T15:20:18.294546Z",
     "start_time": "2020-07-21T15:20:18.270149Z"
    }
   },
   "outputs": [],
   "source": [
    "# matplotlib settings\n",
    "\n",
    "# expecially for presentation, larger font settings for plotting are recommendable\n",
    "SMALL_SIZE = 20\n",
    "MEDIUM_SIZE = 22\n",
    "BIGGER_SIZE = 26\n",
    "\n",
    "plt.rc(\"font\", size=MEDIUM_SIZE)          # controls default text sizes\n",
    "plt.rc(\"axes\", titlesize=MEDIUM_SIZE)     # fontsize of the axes title\n",
    "plt.rc(\"axes\", labelsize=MEDIUM_SIZE)    # fontsize of the x and y labels\n",
    "plt.rc(\"xtick\", labelsize=SMALL_SIZE)    # fontsize of the tick labels\n",
    "plt.rc(\"ytick\", labelsize=SMALL_SIZE)    # fontsize of the tick labels\n",
    "plt.rc(\"legend\", fontsize=MEDIUM_SIZE)    # legend fontsize\n",
    "plt.rc(\"figure\", titlesize=BIGGER_SIZE)  # fontsize of the figure title\n",
    "\n",
    "plt.rcParams[\"figure.figsize\"] = (8,5) # the standard figure size\n",
    "\n",
    "plt.rcParams[\"lines.linewidth\"] = 4\n",
    "plt.rcParams[\"lines.markersize\"] = 14\n",
    "plt.rcParams[\"lines.markeredgewidth\"]=1"
   ]
  },
  {
   "cell_type": "code",
   "execution_count": 10,
   "metadata": {
    "ExecuteTime": {
     "end_time": "2020-07-21T15:20:19.814746Z",
     "start_time": "2020-07-21T15:20:19.652442Z"
    }
   },
   "outputs": [],
   "source": [
    "from ase.lattice.cubic import FaceCenteredCubic\n",
    "from ase.build import fcc111"
   ]
  },
  {
   "cell_type": "code",
   "execution_count": 11,
   "metadata": {
    "ExecuteTime": {
     "end_time": "2020-07-21T15:20:21.740181Z",
     "start_time": "2020-07-21T15:20:20.973865Z"
    }
   },
   "outputs": [],
   "source": [
    "substrate_ref_ortho = fcc111('Au',size=(87,100,106),a=4.075,periodic=True,orthogonal=True)"
   ]
  },
  {
   "cell_type": "code",
   "execution_count": 18,
   "metadata": {
    "ExecuteTime": {
     "end_time": "2020-07-21T15:23:01.747498Z",
     "start_time": "2020-07-21T15:23:01.688154Z"
    }
   },
   "outputs": [],
   "source": [
    "substrate_ref_ortho = fcc111('Au',size=(2,2,2),a=4.075,periodic=True,orthogonal=True)"
   ]
  },
  {
   "cell_type": "code",
   "execution_count": 54,
   "metadata": {
    "ExecuteTime": {
     "end_time": "2020-07-21T15:34:23.844106Z",
     "start_time": "2020-07-21T15:34:22.742261Z"
    }
   },
   "outputs": [
    {
     "data": {
      "text/plain": [
       "Atoms(symbols='Au922200', pbc=True, cell=[250.68703160016082, 249.54176754603625, 249.3864487764589], tags=...)"
      ]
     },
     "execution_count": 54,
     "metadata": {},
     "output_type": "execute_result"
    }
   ],
   "source": [
    "substrate_ref_ortho"
   ]
  },
  {
   "cell_type": "code",
   "execution_count": 60,
   "metadata": {
    "ExecuteTime": {
     "end_time": "2020-07-21T15:48:22.333049Z",
     "start_time": "2020-07-21T15:48:22.271984Z"
    }
   },
   "outputs": [],
   "source": [
    "unit_cell = fcc111('Au',size=(1,2,1),a=4.075,periodic=True,orthogonal=True)"
   ]
  },
  {
   "cell_type": "code",
   "execution_count": 49,
   "metadata": {
    "ExecuteTime": {
     "end_time": "2020-07-21T15:33:38.624632Z",
     "start_time": "2020-07-21T15:33:38.580660Z"
    }
   },
   "outputs": [],
   "source": [
    "size = np.round(np.array((250.0,250.0,250.0))/unit_cell.cell.lengths()*np.array([1.,2.,1.])).astype(int)"
   ]
  },
  {
   "cell_type": "code",
   "execution_count": 52,
   "metadata": {
    "ExecuteTime": {
     "end_time": "2020-07-21T15:34:18.372685Z",
     "start_time": "2020-07-21T15:34:18.306760Z"
    }
   },
   "outputs": [
    {
     "data": {
      "text/plain": [
       "array([ 87, 100, 106])"
      ]
     },
     "execution_count": 52,
     "metadata": {},
     "output_type": "execute_result"
    }
   ],
   "source": [
    "size"
   ]
  },
  {
   "cell_type": "code",
   "execution_count": 51,
   "metadata": {
    "ExecuteTime": {
     "end_time": "2020-07-21T15:33:48.359907Z",
     "start_time": "2020-07-21T15:33:47.666602Z"
    }
   },
   "outputs": [],
   "source": [
    "substrate_ref_ortho = fcc111('Au',size=size,a=4.075,periodic=True,orthogonal=True)"
   ]
  },
  {
   "cell_type": "code",
   "execution_count": 53,
   "metadata": {
    "ExecuteTime": {
     "end_time": "2020-07-21T15:34:19.815628Z",
     "start_time": "2020-07-21T15:34:19.776442Z"
    }
   },
   "outputs": [
    {
     "ename": "SyntaxError",
     "evalue": "invalid syntax (<ipython-input-53-3795b5d281cb>, line 1)",
     "output_type": "error",
     "traceback": [
      "\u001b[0;36m  File \u001b[0;32m\"<ipython-input-53-3795b5d281cb>\"\u001b[0;36m, line \u001b[0;32m1\u001b[0m\n\u001b[0;31m    np.array((250.0,250.0,250.0))/\u001b[0m\n\u001b[0m                                  ^\u001b[0m\n\u001b[0;31mSyntaxError\u001b[0m\u001b[0;31m:\u001b[0m invalid syntax\n"
     ]
    }
   ],
   "source": [
    "np.array((250.0,250.0,250.0))/"
   ]
  },
  {
   "cell_type": "code",
   "execution_count": 25,
   "metadata": {
    "ExecuteTime": {
     "end_time": "2020-07-21T15:27:44.034337Z",
     "start_time": "2020-07-21T15:27:43.963552Z"
    }
   },
   "outputs": [
    {
     "name": "stderr",
     "output_type": "stream",
     "text": [
      "<ipython-input-25-b005cb41e760>:1: RuntimeWarning: divide by zero encountered in true_divide\n",
      "  np.array((250.0,250.0,250.0))/unit_cell.cell\n"
     ]
    },
    {
     "data": {
      "text/plain": [
       "array([[43.38078412,         inf,         inf],\n",
       "       [        inf, 50.09181478,         inf],\n",
       "       [        inf,         inf, 53.13039287]])"
      ]
     },
     "execution_count": 25,
     "metadata": {},
     "output_type": "execute_result"
    }
   ],
   "source": [
    "np.array((250.0,250.0,250.0))/unit_cell.cea\n"
   ]
  },
  {
   "cell_type": "code",
   "execution_count": 15,
   "metadata": {
    "ExecuteTime": {
     "end_time": "2020-07-21T15:21:16.500524Z",
     "start_time": "2020-07-21T15:21:16.416614Z"
    }
   },
   "outputs": [
    {
     "data": {
      "text/plain": [
       "array([2.87356322, 2.5       , 2.35849057])"
      ]
     },
     "execution_count": 15,
     "metadata": {},
     "output_type": "execute_result"
    }
   ],
   "source": [
    "250.0/np.array((87,100,106))"
   ]
  },
  {
   "cell_type": "code",
   "execution_count": 12,
   "metadata": {
    "ExecuteTime": {
     "end_time": "2020-07-21T15:20:23.178226Z",
     "start_time": "2020-07-21T15:20:23.145919Z"
    }
   },
   "outputs": [
    {
     "data": {
      "text/plain": [
       "Cell([250.68703160016082, 249.54176754603625, 249.3864487764589])"
      ]
     },
     "execution_count": 12,
     "metadata": {},
     "output_type": "execute_result"
    }
   ],
   "source": [
    "substrate_ref_ortho.cell"
   ]
  },
  {
   "cell_type": "code",
   "execution_count": 29,
   "metadata": {
    "ExecuteTime": {
     "end_time": "2020-07-21T15:28:21.670774Z",
     "start_time": "2020-07-21T15:28:21.487779Z"
    }
   },
   "outputs": [
    {
     "data": {
      "application/vnd.jupyter.widget-view+json": {
       "model_id": "4c34346f69574c3f93ff9b4beafe4b44",
       "version_major": 2,
       "version_minor": 0
      },
      "text/plain": [
       "NGLWidget()"
      ]
     },
     "metadata": {},
     "output_type": "display_data"
    }
   ],
   "source": [
    "staticView = nv.show_ase(unit_cell)\n",
    "staticView.remove_ball_and_stick()\n",
    "staticView.add_spacefill()\n",
    "staticView"
   ]
  },
  {
   "cell_type": "code",
   "execution_count": 12,
   "metadata": {
    "ExecuteTime": {
     "end_time": "2019-06-04T16:35:10.286627Z",
     "start_time": "2019-06-04T16:35:10.256921Z"
    }
   },
   "outputs": [],
   "source": [
    "prefix = '/mnt/dat/work/testuser/adsorption/N_surfactant_on_substrate_template/dat/subst/coord/AU_111_250Ang_cube'"
   ]
  },
  {
   "cell_type": "code",
   "execution_count": 13,
   "metadata": {
    "ExecuteTime": {
     "end_time": "2019-06-04T16:36:04.120218Z",
     "start_time": "2019-06-04T16:35:57.758506Z"
    }
   },
   "outputs": [],
   "source": [
    "write(os.path.join(prefix,'AU_111_250Ang_cube.xyz'),substrate_ref_ortho)"
   ]
  },
  {
   "cell_type": "code",
   "execution_count": 14,
   "metadata": {
    "ExecuteTime": {
     "end_time": "2019-06-04T16:36:35.965015Z",
     "start_time": "2019-06-04T16:36:31.528544Z"
    }
   },
   "outputs": [],
   "source": [
    "write(os.path.join(prefix,'AU_111_250Ang_cube.pdb'),substrate_ref_ortho)"
   ]
  },
  {
   "cell_type": "code",
   "execution_count": 15,
   "metadata": {
    "ExecuteTime": {
     "end_time": "2019-06-04T16:36:37.231371Z",
     "start_time": "2019-06-04T16:36:37.183675Z"
    }
   },
   "outputs": [
    {
     "data": {
      "text/plain": [
       "array([249.24630153, 248.70996165, 247.03374643])"
      ]
     },
     "execution_count": 15,
     "metadata": {},
     "output_type": "execute_result"
    }
   ],
   "source": [
    "np.max(substrate_ref_ortho.positions,axis=0)"
   ]
  },
  {
   "cell_type": "code",
   "execution_count": null,
   "metadata": {},
   "outputs": [],
   "source": []
  }
 ],
 "metadata": {
  "hide_input": false,
  "kernelspec": {
   "display_name": "Python 3",
   "language": "python",
   "name": "python3"
  },
  "language_info": {
   "codemirror_mode": {
    "name": "ipython",
    "version": 3
   },
   "file_extension": ".py",
   "mimetype": "text/x-python",
   "name": "python",
   "nbconvert_exporter": "python",
   "pygments_lexer": "ipython3",
   "version": "3.8.2"
  },
  "latex_envs": {
   "LaTeX_envs_menu_present": true,
   "autoclose": false,
   "autocomplete": true,
   "bibliofile": "biblio.bib",
   "cite_by": "apalike",
   "current_citInitial": 1,
   "eqLabelWithNumbers": true,
   "eqNumInitial": 1,
   "hotkeys": {
    "equation": "Ctrl-E",
    "itemize": "Ctrl-I"
   },
   "labels_anchors": false,
   "latex_user_defs": false,
   "report_style_numbering": false,
   "user_envs_cfg": false
  },
  "toc": {
   "base_numbering": 1,
   "nav_menu": {},
   "number_sections": true,
   "sideBar": true,
   "skip_h1_title": false,
   "title_cell": "Table of Contents",
   "title_sidebar": "Contents",
   "toc_cell": false,
   "toc_position": {},
   "toc_section_display": true,
   "toc_window_display": false
  },
  "varInspector": {
   "cols": {
    "lenName": 16,
    "lenType": 16,
    "lenVar": 40
   },
   "kernels_config": {
    "python": {
     "delete_cmd_postfix": "",
     "delete_cmd_prefix": "del ",
     "library": "var_list.py",
     "varRefreshCmd": "print(var_dic_list())"
    },
    "r": {
     "delete_cmd_postfix": ") ",
     "delete_cmd_prefix": "rm(",
     "library": "var_list.r",
     "varRefreshCmd": "cat(var_dic_list()) "
    }
   },
   "types_to_exclude": [
    "module",
    "function",
    "builtin_function_or_method",
    "instance",
    "_Feature"
   ],
   "window_display": false
  }
 },
 "nbformat": 4,
 "nbformat_minor": 2
}
