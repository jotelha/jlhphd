{
 "cells": [
  {
   "cell_type": "code",
   "execution_count": 1,
   "metadata": {
    "ExecuteTime": {
     "end_time": "2019-05-23T16:06:05.476972Z",
     "start_time": "2019-05-23T16:06:05.446768Z"
    }
   },
   "outputs": [],
   "source": [
    "%load_ext autoreload\n",
    "%autoreload 2"
   ]
  },
  {
   "cell_type": "code",
   "execution_count": 2,
   "metadata": {
    "ExecuteTime": {
     "end_time": "2019-05-23T16:06:13.424326Z",
     "start_time": "2019-05-23T16:06:13.390271Z"
    }
   },
   "outputs": [
    {
     "data": {
      "text/html": [
       "<style>.container { width:100% !important; }</style>"
      ],
      "text/plain": [
       "<IPython.core.display.HTML object>"
      ]
     },
     "metadata": {},
     "output_type": "display_data"
    }
   ],
   "source": [
    "from IPython.core.display import display, HTML\n",
    "display(HTML(\"<style>.container { width:100% !important; }</style>\"))"
   ]
  },
  {
   "cell_type": "code",
   "execution_count": 6,
   "metadata": {
    "ExecuteTime": {
     "end_time": "2019-05-23T16:08:15.485385Z",
     "start_time": "2019-05-23T16:08:15.457703Z"
    }
   },
   "outputs": [],
   "source": [
    "import os, sys\n",
    "\n",
    "import numpy as np\n",
    "#import ase\n",
    "\n",
    "import ovito"
   ]
  },
  {
   "cell_type": "code",
   "execution_count": 7,
   "metadata": {
    "ExecuteTime": {
     "end_time": "2019-05-23T16:08:15.887973Z",
     "start_time": "2019-05-23T16:08:15.840314Z"
    }
   },
   "outputs": [],
   "source": [
    "# file formats, input - output\n",
    "import ase.io\n",
    "from ase.io import read, write\n",
    "#import parmed as pmd\n",
    "\n",
    "# visualization\n",
    "from ase.visualize import view\n",
    "from ase.visualize.plot import plot_atoms\n",
    "\n",
    "import nglview as nv\n",
    "import matplotlib.pyplot as plt\n",
    "import ipywidgets # just for jupyter notebooks"
   ]
  },
  {
   "cell_type": "code",
   "execution_count": 8,
   "metadata": {
    "ExecuteTime": {
     "end_time": "2019-05-23T16:08:33.892101Z",
     "start_time": "2019-05-23T16:08:33.868157Z"
    }
   },
   "outputs": [],
   "source": [
    "from IPython.display import Image"
   ]
  },
  {
   "cell_type": "code",
   "execution_count": 9,
   "metadata": {
    "ExecuteTime": {
     "end_time": "2019-05-23T16:08:50.345343Z",
     "start_time": "2019-05-23T16:08:50.316167Z"
    }
   },
   "outputs": [],
   "source": [
    "%matplotlib inline"
   ]
  },
  {
   "cell_type": "code",
   "execution_count": 5,
   "metadata": {
    "ExecuteTime": {
     "end_time": "2019-05-23T16:07:09.016238Z",
     "start_time": "2019-05-23T16:07:08.985887Z"
    }
   },
   "outputs": [],
   "source": [
    "# matplotlib settings\n",
    "\n",
    "# expecially for presentation, larger font settings for plotting are recommendable\n",
    "SMALL_SIZE = 20\n",
    "MEDIUM_SIZE = 22\n",
    "BIGGER_SIZE = 26\n",
    "\n",
    "plt.rc(\"font\", size=MEDIUM_SIZE)          # controls default text sizes\n",
    "plt.rc(\"axes\", titlesize=MEDIUM_SIZE)     # fontsize of the axes title\n",
    "plt.rc(\"axes\", labelsize=MEDIUM_SIZE)    # fontsize of the x and y labels\n",
    "plt.rc(\"xtick\", labelsize=SMALL_SIZE)    # fontsize of the tick labels\n",
    "plt.rc(\"ytick\", labelsize=SMALL_SIZE)    # fontsize of the tick labels\n",
    "plt.rc(\"legend\", fontsize=MEDIUM_SIZE)    # legend fontsize\n",
    "plt.rc(\"figure\", titlesize=BIGGER_SIZE)  # fontsize of the figure title\n",
    "\n",
    "plt.rcParams[\"figure.figsize\"] = (8,5) # the standard figure size\n",
    "\n",
    "plt.rcParams[\"lines.linewidth\"] = 4\n",
    "plt.rcParams[\"lines.markersize\"] = 14\n",
    "plt.rcParams[\"lines.markeredgewidth\"]=1"
   ]
  },
  {
   "cell_type": "code",
   "execution_count": 11,
   "metadata": {
    "ExecuteTime": {
     "end_time": "2019-05-23T16:09:05.541764Z",
     "start_time": "2019-05-23T16:09:05.516751Z"
    }
   },
   "outputs": [],
   "source": [
    "from ase.lattice.cubic import FaceCenteredCubic\n",
    "from ase.build import fcc111"
   ]
  },
  {
   "cell_type": "code",
   "execution_count": 31,
   "metadata": {
    "ExecuteTime": {
     "end_time": "2019-05-23T16:13:11.700717Z",
     "start_time": "2019-05-23T16:13:11.669373Z"
    }
   },
   "outputs": [],
   "source": [
    "substrate_ref_ortho = fcc111('Au',size=(12,14,6),a=4.075,periodic=True,orthogonal=True)"
   ]
  },
  {
   "cell_type": "code",
   "execution_count": 32,
   "metadata": {
    "ExecuteTime": {
     "end_time": "2019-05-23T16:13:11.991759Z",
     "start_time": "2019-05-23T16:13:11.960138Z"
    }
   },
   "outputs": [
    {
     "data": {
      "text/plain": [
       "array([[34.5775216 ,  0.        ,  0.        ],\n",
       "       [ 0.        , 34.93584746,  0.        ],\n",
       "       [ 0.        ,  0.        , 14.11621408]])"
      ]
     },
     "execution_count": 32,
     "metadata": {},
     "output_type": "execute_result"
    }
   ],
   "source": [
    "substrate_ref_ortho.cell"
   ]
  },
  {
   "cell_type": "code",
   "execution_count": 33,
   "metadata": {
    "ExecuteTime": {
     "end_time": "2019-05-23T16:13:15.406722Z",
     "start_time": "2019-05-23T16:13:15.347261Z"
    }
   },
   "outputs": [
    {
     "data": {
      "application/vnd.jupyter.widget-view+json": {
       "model_id": "ef6ae62378c94d0796e2760f0dcaf5d0",
       "version_major": 2,
       "version_minor": 0
      },
      "text/plain": [
       "NGLWidget()"
      ]
     },
     "metadata": {},
     "output_type": "display_data"
    }
   ],
   "source": [
    "staticView = nv.show_ase(substrate_ref_ortho)\n",
    "staticView.remove_ball_and_stick()\n",
    "staticView.add_spacefill()\n",
    "staticView"
   ]
  },
  {
   "cell_type": "code",
   "execution_count": 35,
   "metadata": {
    "ExecuteTime": {
     "end_time": "2019-05-23T16:15:10.133029Z",
     "start_time": "2019-05-23T16:15:10.093599Z"
    }
   },
   "outputs": [],
   "source": [
    "write('AU_111_12x7x2.xyz',substrate_ref_ortho)"
   ]
  },
  {
   "cell_type": "code",
   "execution_count": 36,
   "metadata": {
    "ExecuteTime": {
     "end_time": "2019-05-23T16:33:35.768223Z",
     "start_time": "2019-05-23T16:33:35.729924Z"
    }
   },
   "outputs": [],
   "source": [
    "write('AU_111_12x7x2.pdb',substrate_ref_ortho)"
   ]
  },
  {
   "cell_type": "code",
   "execution_count": 43,
   "metadata": {
    "ExecuteTime": {
     "end_time": "2019-05-23T16:46:46.386448Z",
     "start_time": "2019-05-23T16:46:46.358555Z"
    }
   },
   "outputs": [
    {
     "data": {
      "text/plain": [
       "array([33.13679153, 34.10404156, 11.76351173])"
      ]
     },
     "execution_count": 43,
     "metadata": {},
     "output_type": "execute_result"
    }
   ],
   "source": [
    "np.max(substrate_ref_ortho.positions,axis=0)"
   ]
  },
  {
   "cell_type": "code",
   "execution_count": 47,
   "metadata": {
    "ExecuteTime": {
     "end_time": "2019-05-23T17:22:17.208948Z",
     "start_time": "2019-05-23T17:22:17.176875Z"
    }
   },
   "outputs": [
    {
     "data": {
      "text/plain": [
       "array([2.88  , 2.3695, 7.54  ])"
      ]
     },
     "execution_count": 47,
     "metadata": {},
     "output_type": "execute_result"
    }
   ],
   "source": [
    "np.array([5.76, 4.739, 15.08], dtype=float)/2"
   ]
  },
  {
   "cell_type": "code",
   "execution_count": 48,
   "metadata": {
    "ExecuteTime": {
     "end_time": "2019-05-23T17:25:56.646002Z",
     "start_time": "2019-05-23T17:25:56.616420Z"
    }
   },
   "outputs": [
    {
     "data": {
      "text/plain": [
       "3.141592653589793"
      ]
     },
     "execution_count": 48,
     "metadata": {},
     "output_type": "execute_result"
    }
   ],
   "source": [
    "np.pi"
   ]
  },
  {
   "cell_type": "code",
   "execution_count": null,
   "metadata": {},
   "outputs": [],
   "source": []
  }
 ],
 "metadata": {
  "hide_input": false,
  "kernelspec": {
   "display_name": "Python 3",
   "language": "python",
   "name": "python3"
  },
  "language_info": {
   "codemirror_mode": {
    "name": "ipython",
    "version": 3
   },
   "file_extension": ".py",
   "mimetype": "text/x-python",
   "name": "python",
   "nbconvert_exporter": "python",
   "pygments_lexer": "ipython3",
   "version": "3.8.2"
  },
  "latex_envs": {
   "LaTeX_envs_menu_present": true,
   "autoclose": false,
   "autocomplete": true,
   "bibliofile": "biblio.bib",
   "cite_by": "apalike",
   "current_citInitial": 1,
   "eqLabelWithNumbers": true,
   "eqNumInitial": 1,
   "hotkeys": {
    "equation": "Ctrl-E",
    "itemize": "Ctrl-I"
   },
   "labels_anchors": false,
   "latex_user_defs": false,
   "report_style_numbering": false,
   "user_envs_cfg": false
  },
  "toc": {
   "base_numbering": 1,
   "nav_menu": {},
   "number_sections": true,
   "sideBar": true,
   "skip_h1_title": false,
   "title_cell": "Table of Contents",
   "title_sidebar": "Contents",
   "toc_cell": false,
   "toc_position": {},
   "toc_section_display": true,
   "toc_window_display": false
  },
  "varInspector": {
   "cols": {
    "lenName": 16,
    "lenType": 16,
    "lenVar": 40
   },
   "kernels_config": {
    "python": {
     "delete_cmd_postfix": "",
     "delete_cmd_prefix": "del ",
     "library": "var_list.py",
     "varRefreshCmd": "print(var_dic_list())"
    },
    "r": {
     "delete_cmd_postfix": ") ",
     "delete_cmd_prefix": "rm(",
     "library": "var_list.r",
     "varRefreshCmd": "cat(var_dic_list()) "
    }
   },
   "types_to_exclude": [
    "module",
    "function",
    "builtin_function_or_method",
    "instance",
    "_Feature"
   ],
   "window_display": false
  }
 },
 "nbformat": 4,
 "nbformat_minor": 2
}
