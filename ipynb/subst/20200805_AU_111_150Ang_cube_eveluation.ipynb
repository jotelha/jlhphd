{
 "cells": [
  {
   "cell_type": "markdown",
   "metadata": {},
   "source": [
    "# AU 111 150 Ang cube gold substrate evaluation"
   ]
  },
  {
   "cell_type": "markdown",
   "metadata": {},
   "source": [
    "## Initialization"
   ]
  },
  {
   "cell_type": "code",
   "execution_count": 285,
   "metadata": {
    "ExecuteTime": {
     "end_time": "2020-08-26T11:08:29.296120Z",
     "start_time": "2020-08-26T11:08:28.692454Z"
    },
    "init_cell": true
   },
   "outputs": [
    {
     "name": "stdout",
     "output_type": "stream",
     "text": [
      "The autoreload extension is already loaded. To reload it, use:\n",
      "  %reload_ext autoreload\n"
     ]
    }
   ],
   "source": [
    "%load_ext autoreload\n",
    "%autoreload 2"
   ]
  },
  {
   "cell_type": "code",
   "execution_count": 286,
   "metadata": {
    "ExecuteTime": {
     "end_time": "2020-08-26T11:08:29.413157Z",
     "start_time": "2020-08-26T11:08:29.313141Z"
    },
    "init_cell": true
   },
   "outputs": [],
   "source": [
    "import datetime, io, os, shutil, sys, tarfile\n",
    "import os.path\n",
    "from glob import glob\n",
    "from pprint import pprint\n",
    "from tabulate import tabulate\n",
    "import numpy as np\n",
    "import pandas as pd\n",
    "import ruamel.yaml as yaml\n",
    "import ase, ase.io\n",
    "from ase.io import read, write\n",
    "from ase.io import NetCDFTrajectory\n",
    "#from asap3.analysis.rdf import RadialDistributionFunction"
   ]
  },
  {
   "cell_type": "code",
   "execution_count": 287,
   "metadata": {
    "ExecuteTime": {
     "end_time": "2020-08-26T11:08:29.510075Z",
     "start_time": "2020-08-26T11:08:29.422111Z"
    },
    "init_cell": true
   },
   "outputs": [],
   "source": [
    "import matplotlib.pyplot as plt\n",
    "from ase.visualize import view\n",
    "from ase.visualize.plot import plot_atoms\n",
    "import nglview as nv\n",
    "import ipywidgets # just for jupyter notebooks\n",
    "from IPython.display import Image, FileLink"
   ]
  },
  {
   "cell_type": "code",
   "execution_count": 288,
   "metadata": {
    "ExecuteTime": {
     "end_time": "2020-08-26T11:08:29.604753Z",
     "start_time": "2020-08-26T11:08:29.520831Z"
    },
    "init_cell": true
   },
   "outputs": [],
   "source": [
    "from fireworks import Firework, Workflow\n",
    "from fireworks import LaunchPad\n",
    "from fireworks.utilities.filepad import FilePad \n",
    "\n",
    "import pymongo"
   ]
  },
  {
   "cell_type": "code",
   "execution_count": 5,
   "metadata": {
    "ExecuteTime": {
     "end_time": "2020-08-25T14:15:16.241648Z",
     "start_time": "2020-08-25T14:15:15.783817Z"
    }
   },
   "outputs": [],
   "source": [
    "fp = FilePad.auto_load()"
   ]
  },
  {
   "cell_type": "code",
   "execution_count": 6,
   "metadata": {
    "ExecuteTime": {
     "end_time": "2020-08-25T14:15:20.333206Z",
     "start_time": "2020-08-25T14:15:16.244043Z"
    }
   },
   "outputs": [],
   "source": [
    " from sympy.ntheory.factor_ import factorint"
   ]
  },
  {
   "cell_type": "code",
   "execution_count": 289,
   "metadata": {
    "ExecuteTime": {
     "end_time": "2020-08-26T11:08:29.774126Z",
     "start_time": "2020-08-26T11:08:29.611979Z"
    },
    "init_cell": true
   },
   "outputs": [],
   "source": [
    "# matplotlib settings\n",
    "\n",
    "# expecially for presentation, larger font settings for plotting are recommendable\n",
    "SMALL_SIZE = 20\n",
    "MEDIUM_SIZE = 22\n",
    "BIGGER_SIZE = 26\n",
    "\n",
    "plt.rc(\"font\", size=MEDIUM_SIZE)          # controls default text sizes\n",
    "plt.rc(\"axes\", titlesize=MEDIUM_SIZE)     # fontsize of the axes title\n",
    "plt.rc(\"axes\", labelsize=MEDIUM_SIZE)    # fontsize of the x and y labels\n",
    "plt.rc(\"xtick\", labelsize=SMALL_SIZE)    # fontsize of the tick labels\n",
    "plt.rc(\"ytick\", labelsize=SMALL_SIZE)    # fontsize of the tick labels\n",
    "plt.rc(\"legend\", fontsize=MEDIUM_SIZE)    # legend fontsize\n",
    "plt.rc(\"figure\", titlesize=BIGGER_SIZE)  # fontsize of the figure title\n",
    "\n",
    "plt.rcParams[\"figure.figsize\"] = (8,5) # the standard figure size\n",
    "\n",
    "plt.rcParams[\"lines.linewidth\"] = 2\n",
    "plt.rcParams[\"lines.markersize\"] = 14\n",
    "plt.rcParams[\"lines.markeredgewidth\"]=1"
   ]
  },
  {
   "cell_type": "code",
   "execution_count": 150,
   "metadata": {
    "ExecuteTime": {
     "end_time": "2020-08-25T15:40:59.722899Z",
     "start_time": "2020-08-25T15:40:59.348107Z"
    }
   },
   "outputs": [],
   "source": [
    "from itertools import cycle\n",
    "LINE_STYLES = [\"-\",\"--\",\"-.\",\":\"]"
   ]
  },
  {
   "cell_type": "markdown",
   "metadata": {},
   "source": [
    "## Definitions"
   ]
  },
  {
   "cell_type": "code",
   "execution_count": 192,
   "metadata": {
    "ExecuteTime": {
     "end_time": "2020-08-25T16:47:28.760574Z",
     "start_time": "2020-08-25T16:47:28.144095Z"
    }
   },
   "outputs": [],
   "source": [
    "def download(content, mode='w+b', suffix='.lammps'):\n",
    "    with tempfile.NamedTemporaryFile(mode=mode, suffix=suffix, dir=os.curdir) as fp:\n",
    "        fp.write(content)\n",
    "        full_name = fp.name\n",
    "        prefix = os.getcwd()\n",
    "        relative_name = os.path.relpath(full_name, prefix)\n",
    "        display(FileLink(relative_name))\n",
    "        input('Press enter to delete the file after you have downloaded it.')"
   ]
  },
  {
   "cell_type": "code",
   "execution_count": 32,
   "metadata": {
    "ExecuteTime": {
     "end_time": "2020-08-25T14:17:49.060326Z",
     "start_time": "2020-08-25T14:17:48.918207Z"
    }
   },
   "outputs": [],
   "source": [
    "def read_rdf(rdf_data, format='ovito', interval=None):\n",
    "  \"\"\"Reads rdf from input string into pandas.DataFrame\n",
    "\n",
    "  Parameters\n",
    "  ----------\n",
    "  rdf_data: str\n",
    "      input\n",
    "  format: str\n",
    "      'ovito' or 'plain'\n",
    "  interval:\n",
    "      overrides distances in file\n",
    "\n",
    "  Returns\n",
    "  -------\n",
    "  pandas.Dataframe\n",
    "      Data in 3-columns: bin index, corresponding distance and count\n",
    "  \"\"\"\n",
    "  rdf_file = io.StringIO(rdf_data.decode())\n",
    "  if format == 'ovito':\n",
    "    # format is ovito 3.0.0-dev234 coordination analysis text output\n",
    "    df = pd.read_csv(rdf_file,\n",
    "      delim_whitespace=True,header=None,skiprows=3,index_col=0,\n",
    "      names=['bin','distance','weight'])\n",
    "  elif format == 'plain':\n",
    "    df = pd.read_csv(rdf_file,\n",
    "      delim_whitespace=True,header=None,skiprows=0,\n",
    "      names=['distance','weight'])\n",
    "    df.index.name = 'bin'\n",
    "\n",
    "  if interval is not None:\n",
    "    try:\n",
    "      df.distance = np.linspace(interval[0],interval[1],df.shape[0]+1)[:-1]\n",
    "    except:\n",
    "      logger.exception(\n",
    "        \"Could not create grid points from specified interval {}\".format(\n",
    "          interval))\n",
    "      raise ValueError()\n",
    "\n",
    "  return df\n"
   ]
  },
  {
   "cell_type": "code",
   "execution_count": 33,
   "metadata": {
    "ExecuteTime": {
     "end_time": "2020-08-25T14:17:49.693551Z",
     "start_time": "2020-08-25T14:17:49.616699Z"
    }
   },
   "outputs": [],
   "source": [
    "# Creates four polar axes, and accesses them through the returned array\n",
    "#fig, axes = plt.subplots(2, 2, subplot_kw=dict(polar=True))\n",
    "def plotThermo(thermo, axes=None, legend=None, title=None):\n",
    "    global line_list, label_list\n",
    "    if axes is None:\n",
    "        fig, axes = plt.subplots(5, 3, figsize=(20,20)) # constrained_layout=True)\n",
    "        line_list = []\n",
    "        label_list = []\n",
    "    else:\n",
    "        fig = axes[0,0].get_figure()\n",
    "        \n",
    "    l = axes[0, 0].plot(thermo[\"Step\"], thermo[\"TotEng\"])[0]\n",
    "    axes[0, 1].plot(thermo[\"Step\"], thermo[\"PotEng\"])\n",
    "    axes[0, 2].plot(thermo[\"Step\"], thermo[\"KinEng\"])\n",
    "\n",
    "    axes[1, 0].plot(thermo[\"Step\"], thermo[\"Temp\"])\n",
    "    axes[1, 1].plot(thermo[\"Step\"], thermo[\"Press\"])\n",
    "    axes[1, 2].plot(thermo[\"Step\"], thermo[\"Enthalpy\"])\n",
    "\n",
    "    axes[2, 0].plot(thermo[\"Step\"], thermo[\"E_bond\"])\n",
    "    axes[2, 1].plot(thermo[\"Step\"], thermo[\"E_angle\"])\n",
    "    axes[2, 2].plot(thermo[\"Step\"], thermo[\"E_dihed\"])\n",
    "\n",
    "    axes[3, 0].plot(thermo[\"Step\"], thermo[\"E_pair\"])\n",
    "    axes[3, 1].plot(thermo[\"Step\"], thermo[\"E_vdwl\"])\n",
    "    axes[3, 2].plot(thermo[\"Step\"], thermo[\"E_coul\"])\n",
    "    \n",
    "    axes[4, 0].plot(thermo[\"Step\"], thermo[\"E_long\"])\n",
    "    axes[4, 1].plot(thermo[\"Step\"], thermo[\"Volume\"])\n",
    "\n",
    "    axes[0,0].set_title(\"Total Energy\")\n",
    "    axes[0,1].set_title(\"Potential Energy\")\n",
    "    axes[0,2].set_title(\"Kinetic Energy\")\n",
    "\n",
    "    axes[1,0].set_title(\"Temperature\")\n",
    "    axes[1,1].set_title(\"Pressure\")\n",
    "    axes[1,2].set_title(\"Enthalpy\")\n",
    "\n",
    "    axes[2, 0].set_title(\"E_bond\")\n",
    "    axes[2, 1].set_title(\"E_angle\")\n",
    "    axes[2, 2].set_title(\"E_dihed\")\n",
    "\n",
    "    axes[3, 0].set_title(\"E_pair\")\n",
    "    axes[3, 1].set_title(\"E_vdwl\")\n",
    "    axes[3, 2].set_title(\"E_coul\")\n",
    "    \n",
    "    axes[4, 0].set_title(\"E_long\")\n",
    "    axes[4, 1].set_title(\"Volume\")\n",
    "    #axes[1, 1].scatter(x, y)\n",
    "\n",
    "    axes[0,0].set_ylabel(\"$E$ [ $ \\mathrm{kcal} \\ \\mathrm{mol}^{-1}$]\")\n",
    "    axes[0,1].set_ylabel(\"$V$ [ $ \\mathrm{kcal} \\ \\mathrm{mol}^{-1}$]\")\n",
    "    axes[0,2].set_ylabel(\"$K$ [ $ \\mathrm{kcal} \\ \\mathrm{mol}^{-1}$]\")\n",
    "\n",
    "    axes[1,0].set_ylabel(\"$T$ [ K ]\")\n",
    "    axes[1,1].set_ylabel(\"$P$ [ atm ]\")\n",
    "    axes[1,2].set_ylabel(\"$E$ [ $ \\mathrm{kcal} \\ \\mathrm{mol}^{-1}$]\")\n",
    "\n",
    "    axes[2,0].set_ylabel(\"$E$ [ $ \\mathrm{kcal} \\ \\mathrm{mol}^{-1}$]\")\n",
    "    axes[2,1].set_ylabel(\"$E$ [ $ \\mathrm{kcal} \\ \\mathrm{mol}^{-1}$]\")\n",
    "    axes[2,2].set_ylabel(\"$E$ [ $ \\mathrm{kcal} \\ \\mathrm{mol}^{-1}$]\")\n",
    "\n",
    "    axes[3,0].set_ylabel(\"$E$ [ $ \\mathrm{kcal} \\ \\mathrm{mol}^{-1}$]\")\n",
    "    axes[3,1].set_ylabel(\"$E$ [ $ \\mathrm{kcal} \\ \\mathrm{mol}^{-1}$]\")\n",
    "    axes[3,2].set_ylabel(\"$E$ [ $ \\mathrm{kcal} \\ \\mathrm{mol}^{-1}$]\")\n",
    "    \n",
    "    axes[4,0].set_ylabel(\"$E$ [ $ \\mathrm{kcal} \\ \\mathrm{mol}^{-1}$]\")\n",
    "    axes[4,1].set_ylabel(\"$V$ [ $ \\mathrm{\\AA^3} $ ]\")\n",
    "    #axes[4,1].set_visible(False)\n",
    "    axes[4,2].set_visible(False)\n",
    "    \n",
    "    fig.tight_layout(rect=[0, 0.03, 1, 0.95])\n",
    "    \n",
    "    if legend is not None:\n",
    "        line_list.append(l)\n",
    "        label_list.append(legend)\n",
    "        fig.legend(line_list,label_list,loc=\"lower right\", framealpha=1)\n",
    "        \n",
    "    if title is not None:\n",
    "        fig.suptitle(title)\n",
    "    \n",
    "    return fig, axes\n",
    "\n",
    "line_list = []\n",
    "label_list = []"
   ]
  },
  {
   "cell_type": "code",
   "execution_count": 34,
   "metadata": {
    "ExecuteTime": {
     "end_time": "2020-08-25T14:17:49.746398Z",
     "start_time": "2020-08-25T14:17:49.697146Z"
    }
   },
   "outputs": [],
   "source": [
    "# plot function for \n",
    "# 'Step', 'TotEng', 'KinEng', 'PotEng', 'Temp', 'Press', 'Enthalpy',\n",
    "#       'E_bond', 'E_angle', 'E_dihed', 'E_impro', 'E_pair', 'E_vdwl', 'E_coul',\n",
    "#       'E_long', 'E_tail', 'Volume', 'Pxx', 'Pyy', 'Pzz', 'Pxy', 'Pxz', 'Pyz'\n",
    "def plotThermoWithPressureTensor(thermo, axes=None, legend=None, title=None):\n",
    "    global line_list, label_list\n",
    "    if axes is None:\n",
    "        fig, axes = plt.subplots(7, 3, figsize=(20,40)) # constrained_layout=True)\n",
    "        line_list = []\n",
    "        label_list = []\n",
    "    else:\n",
    "        fig = axes[0,0].get_figure()\n",
    "    \n",
    "    fig, axes = plotThermo(thermo, axes, legend, title)\n",
    "    \n",
    "    axes[5, 0].plot(thermo[\"Step\"], thermo[\"Pxx\"])\n",
    "    axes[5, 1].plot(thermo[\"Step\"], thermo[\"Pyy\"])\n",
    "    axes[5, 2].plot(thermo[\"Step\"], thermo[\"Pzz\"])\n",
    "    \n",
    "    axes[6, 0].plot(thermo[\"Step\"], thermo[\"Pxy\"])\n",
    "    axes[6, 1].plot(thermo[\"Step\"], thermo[\"Pyz\"])\n",
    "    axes[6, 2].plot(thermo[\"Step\"], thermo[\"Pyz\"])\n",
    "    \n",
    "    axes[5, 0].set_title(\"Pressure tensor component xx\")\n",
    "    axes[5, 1].set_title(\"Pressure tensor component yy\")\n",
    "    axes[5, 2].set_title(\"Pressure tensor component zz\")\n",
    "\n",
    "    axes[6, 0].set_title(\"Pressure tensor component xy\")\n",
    "    axes[6, 1].set_title(\"Pressure tensor component xz\")\n",
    "    axes[6, 2].set_title(\"Pressure tensor component yz\")\n",
    "    \n",
    "    axes[5, 0].set_ylabel(\"$P_{xx}$ [ atm ]\")\n",
    "    axes[5, 1].set_ylabel(\"$P_{yy}$ [ atm ]\")\n",
    "    axes[5, 2].set_ylabel(\"$P_{zz}$ [ atm ]\")\n",
    "    \n",
    "    axes[6, 0].set_ylabel(\"$P_{xy}$ [ atm ]\")\n",
    "    axes[6, 1].set_ylabel(\"$P_{xz}$ [ atm ]\")\n",
    "    axes[6, 2].set_ylabel(\"$P_{yz}$ [ atm ]\")\n",
    "    \n",
    "    fig.tight_layout(rect=[0, 0.03, 1, 0.95])\n",
    "    \n",
    "    if legend is not None:\n",
    "        fig.legend(line_list,label_list,loc=\"lower right\", framealpha=1)\n",
    "        \n",
    "    if title is not None:\n",
    "        fig.suptitle(title)\n",
    "    \n",
    "    return fig, axes\n",
    "\n",
    "line_list = []\n",
    "label_list = []"
   ]
  },
  {
   "cell_type": "markdown",
   "metadata": {},
   "source": [
    "## Evaluation"
   ]
  },
  {
   "cell_type": "markdown",
   "metadata": {},
   "source": [
    "### All system-related files"
   ]
  },
  {
   "cell_type": "code",
   "execution_count": 36,
   "metadata": {
    "ExecuteTime": {
     "end_time": "2020-08-25T14:18:15.653878Z",
     "start_time": "2020-08-25T14:18:15.475086Z"
    }
   },
   "outputs": [],
   "source": [
    "project_id = '2020-08-24-au-111-fcc-substrate-creation-trial'"
   ]
  },
  {
   "cell_type": "code",
   "execution_count": 37,
   "metadata": {
    "ExecuteTime": {
     "end_time": "2020-08-25T14:18:16.031874Z",
     "start_time": "2020-08-25T14:18:15.996625Z"
    }
   },
   "outputs": [],
   "source": [
    "# queries to the data base are simple dictionaries\n",
    "query = {\n",
    "    'metadata.project': project_id,\n",
    "}"
   ]
  },
  {
   "cell_type": "code",
   "execution_count": 38,
   "metadata": {
    "ExecuteTime": {
     "end_time": "2020-08-25T14:18:16.302673Z",
     "start_time": "2020-08-25T14:18:16.270395Z"
    }
   },
   "outputs": [
    {
     "data": {
      "text/plain": [
       "85"
      ]
     },
     "execution_count": 38,
     "metadata": {},
     "output_type": "execute_result"
    }
   ],
   "source": [
    "# use underlying MongoDB functionality to check total number of documents matching query\n",
    "fp.filepad.count_documents(query)"
   ]
  },
  {
   "cell_type": "code",
   "execution_count": 39,
   "metadata": {
    "ExecuteTime": {
     "end_time": "2020-08-25T14:18:16.683117Z",
     "start_time": "2020-08-25T14:18:16.488683Z"
    }
   },
   "outputs": [],
   "source": [
    "# check files degenerate by 'metadata.type' ad 'metadata.name'\n",
    "aggregation_pipeline = [\n",
    "    {\n",
    "        \"$match\": query\n",
    "    },\n",
    "    {  # group by unique project id\n",
    "        \"$group\": { \n",
    "            \"_id\": { \n",
    "                'type': '$metadata.type',\n",
    "                'name': '$metadata.name',\n",
    "                'step': '$metadata.step',\n",
    "            },\n",
    "            \"object_count\": {\"$sum\": 1}, # count matching data sets\n",
    "            \"earliest\":  {'$min': '$metadata.datetime' },\n",
    "            \"latest\":  {'$max': '$metadata.datetime' },\n",
    "        },\n",
    "    },\n",
    "    {  # sort by earliest date, descending\n",
    "        \"$sort\": { \n",
    "            \"earliest\": pymongo.DESCENDING,\n",
    "        }\n",
    "    }\n",
    "]\n",
    "\n",
    "cursor = fp.filepad.aggregate(aggregation_pipeline)\n",
    "\n",
    "res = [ {**c['_id'], **c} for c in cursor]\n",
    "columns = ['type', 'step', 'name', 'earliest', 'latest', 'object_count', '_id']\n",
    "res_df = pd.DataFrame(data=res, columns=columns) # pandas Dataframe is just nice for printing in notebook\n",
    "del res_df[\"_id\"]"
   ]
  },
  {
   "cell_type": "code",
   "execution_count": 40,
   "metadata": {
    "ExecuteTime": {
     "end_time": "2020-08-25T14:18:16.958491Z",
     "start_time": "2020-08-25T14:18:16.891105Z"
    }
   },
   "outputs": [
    {
     "data": {
      "text/html": [
       "<div>\n",
       "<style scoped>\n",
       "    .dataframe tbody tr th:only-of-type {\n",
       "        vertical-align: middle;\n",
       "    }\n",
       "\n",
       "    .dataframe tbody tr th {\n",
       "        vertical-align: top;\n",
       "    }\n",
       "\n",
       "    .dataframe thead th {\n",
       "        text-align: right;\n",
       "    }\n",
       "</style>\n",
       "<table border=\"1\" class=\"dataframe\">\n",
       "  <thead>\n",
       "    <tr style=\"text-align: right;\">\n",
       "      <th></th>\n",
       "      <th>type</th>\n",
       "      <th>step</th>\n",
       "      <th>name</th>\n",
       "      <th>earliest</th>\n",
       "      <th>latest</th>\n",
       "      <th>object_count</th>\n",
       "    </tr>\n",
       "  </thead>\n",
       "  <tbody>\n",
       "    <tr>\n",
       "      <th>0</th>\n",
       "      <td>thermo_file</td>\n",
       "      <td>LAMMPSEquilibrationNPT:ProcessAnalyzeAndVisual...</td>\n",
       "      <td>NaN</td>\n",
       "      <td>2020-08-24 20:24:33.489028</td>\n",
       "      <td>2020-08-24 20:24:33.489028</td>\n",
       "      <td>1</td>\n",
       "    </tr>\n",
       "    <tr>\n",
       "      <th>1</th>\n",
       "      <td>fcc_rdf_file</td>\n",
       "      <td>LAMMPSEquilibrationNPT:ProcessAnalyzeAndVisual...</td>\n",
       "      <td>NaN</td>\n",
       "      <td>2020-08-24 20:24:33.489024</td>\n",
       "      <td>2020-08-24 20:24:33.489024</td>\n",
       "      <td>1</td>\n",
       "    </tr>\n",
       "    <tr>\n",
       "      <th>2</th>\n",
       "      <td>rdf_file</td>\n",
       "      <td>LAMMPSEquilibrationNPT:ProcessAnalyzeAndVisual...</td>\n",
       "      <td>NaN</td>\n",
       "      <td>2020-08-24 20:24:33.489020</td>\n",
       "      <td>2020-08-24 20:24:33.489020</td>\n",
       "      <td>1</td>\n",
       "    </tr>\n",
       "    <tr>\n",
       "      <th>3</th>\n",
       "      <td>box_measures_file</td>\n",
       "      <td>LAMMPSEquilibrationNPT:ProcessAnalyzeAndVisual...</td>\n",
       "      <td>NaN</td>\n",
       "      <td>2020-08-24 20:24:33.489016</td>\n",
       "      <td>2020-08-24 20:24:33.489016</td>\n",
       "      <td>1</td>\n",
       "    </tr>\n",
       "    <tr>\n",
       "      <th>4</th>\n",
       "      <td>trajectory_file</td>\n",
       "      <td>LAMMPSEquilibrationNPT:ProcessAnalyzeAndVisual...</td>\n",
       "      <td>NaN</td>\n",
       "      <td>2020-08-24 20:24:33.489012</td>\n",
       "      <td>2020-08-24 20:24:33.489012</td>\n",
       "      <td>1</td>\n",
       "    </tr>\n",
       "    <tr>\n",
       "      <th>5</th>\n",
       "      <td>thermo_ave_file</td>\n",
       "      <td>LAMMPSEquilibrationNPT:ProcessAnalyzeAndVisual...</td>\n",
       "      <td>NaN</td>\n",
       "      <td>2020-08-24 20:24:33.489009</td>\n",
       "      <td>2020-08-24 20:24:33.489009</td>\n",
       "      <td>1</td>\n",
       "    </tr>\n",
       "    <tr>\n",
       "      <th>6</th>\n",
       "      <td>mass_file</td>\n",
       "      <td>LAMMPSEquilibrationNPT:ProcessAnalyzeAndVisual...</td>\n",
       "      <td>NaN</td>\n",
       "      <td>2020-08-24 20:24:33.489005</td>\n",
       "      <td>2020-08-24 20:24:33.489005</td>\n",
       "      <td>1</td>\n",
       "    </tr>\n",
       "    <tr>\n",
       "      <th>7</th>\n",
       "      <td>log_file</td>\n",
       "      <td>LAMMPSEquilibrationNPT:ProcessAnalyzeAndVisual...</td>\n",
       "      <td>NaN</td>\n",
       "      <td>2020-08-24 20:24:33.489001</td>\n",
       "      <td>2020-08-24 20:24:33.489001</td>\n",
       "      <td>1</td>\n",
       "    </tr>\n",
       "    <tr>\n",
       "      <th>8</th>\n",
       "      <td>input_file</td>\n",
       "      <td>LAMMPSEquilibrationNPT:ProcessAnalyzeAndVisual...</td>\n",
       "      <td>NaN</td>\n",
       "      <td>2020-08-24 20:24:33.488997</td>\n",
       "      <td>2020-08-24 20:24:33.488997</td>\n",
       "      <td>1</td>\n",
       "    </tr>\n",
       "    <tr>\n",
       "      <th>9</th>\n",
       "      <td>index_file</td>\n",
       "      <td>LAMMPSEquilibrationNPT:ProcessAnalyzeAndVisual...</td>\n",
       "      <td>NaN</td>\n",
       "      <td>2020-08-24 20:24:33.488993</td>\n",
       "      <td>2020-08-24 20:24:33.488993</td>\n",
       "      <td>1</td>\n",
       "    </tr>\n",
       "    <tr>\n",
       "      <th>10</th>\n",
       "      <td>eam_file</td>\n",
       "      <td>LAMMPSEquilibrationNPT:ProcessAnalyzeAndVisual...</td>\n",
       "      <td>NaN</td>\n",
       "      <td>2020-08-24 20:24:33.488989</td>\n",
       "      <td>2020-08-24 20:24:33.488989</td>\n",
       "      <td>1</td>\n",
       "    </tr>\n",
       "    <tr>\n",
       "      <th>11</th>\n",
       "      <td>data_file</td>\n",
       "      <td>LAMMPSEquilibrationNPT:ProcessAnalyzeAndVisual...</td>\n",
       "      <td>NaN</td>\n",
       "      <td>2020-08-24 20:24:33.488985</td>\n",
       "      <td>2020-08-24 20:24:33.488985</td>\n",
       "      <td>1</td>\n",
       "    </tr>\n",
       "    <tr>\n",
       "      <th>12</th>\n",
       "      <td>coeff_file</td>\n",
       "      <td>LAMMPSEquilibrationNPT:ProcessAnalyzeAndVisual...</td>\n",
       "      <td>NaN</td>\n",
       "      <td>2020-08-24 20:24:33.488980</td>\n",
       "      <td>2020-08-24 20:24:33.488980</td>\n",
       "      <td>1</td>\n",
       "    </tr>\n",
       "    <tr>\n",
       "      <th>13</th>\n",
       "      <td>thermo_file</td>\n",
       "      <td>LAMMPSEquilibrationNVT:ProcessAnalyzeAndVisual...</td>\n",
       "      <td>NaN</td>\n",
       "      <td>2020-08-24 20:24:33.488392</td>\n",
       "      <td>2020-08-24 20:24:33.488392</td>\n",
       "      <td>1</td>\n",
       "    </tr>\n",
       "    <tr>\n",
       "      <th>14</th>\n",
       "      <td>fcc_rdf_file</td>\n",
       "      <td>LAMMPSEquilibrationNVT:ProcessAnalyzeAndVisual...</td>\n",
       "      <td>NaN</td>\n",
       "      <td>2020-08-24 20:24:33.488387</td>\n",
       "      <td>2020-08-24 20:24:33.488387</td>\n",
       "      <td>1</td>\n",
       "    </tr>\n",
       "    <tr>\n",
       "      <th>15</th>\n",
       "      <td>rdf_file</td>\n",
       "      <td>LAMMPSEquilibrationNVT:ProcessAnalyzeAndVisual...</td>\n",
       "      <td>NaN</td>\n",
       "      <td>2020-08-24 20:24:33.488383</td>\n",
       "      <td>2020-08-24 20:24:33.488383</td>\n",
       "      <td>1</td>\n",
       "    </tr>\n",
       "    <tr>\n",
       "      <th>16</th>\n",
       "      <td>box_measures_file</td>\n",
       "      <td>LAMMPSEquilibrationNVT:ProcessAnalyzeAndVisual...</td>\n",
       "      <td>NaN</td>\n",
       "      <td>2020-08-24 20:24:33.488379</td>\n",
       "      <td>2020-08-24 20:24:33.488379</td>\n",
       "      <td>1</td>\n",
       "    </tr>\n",
       "    <tr>\n",
       "      <th>17</th>\n",
       "      <td>trajectory_file</td>\n",
       "      <td>LAMMPSEquilibrationNVT:ProcessAnalyzeAndVisual...</td>\n",
       "      <td>NaN</td>\n",
       "      <td>2020-08-24 20:24:33.488375</td>\n",
       "      <td>2020-08-24 20:24:33.488375</td>\n",
       "      <td>1</td>\n",
       "    </tr>\n",
       "    <tr>\n",
       "      <th>18</th>\n",
       "      <td>thermo_ave_file</td>\n",
       "      <td>LAMMPSEquilibrationNVT:ProcessAnalyzeAndVisual...</td>\n",
       "      <td>NaN</td>\n",
       "      <td>2020-08-24 20:24:33.488371</td>\n",
       "      <td>2020-08-24 20:24:33.488371</td>\n",
       "      <td>1</td>\n",
       "    </tr>\n",
       "    <tr>\n",
       "      <th>19</th>\n",
       "      <td>mass_file</td>\n",
       "      <td>LAMMPSEquilibrationNVT:ProcessAnalyzeAndVisual...</td>\n",
       "      <td>NaN</td>\n",
       "      <td>2020-08-24 20:24:33.488367</td>\n",
       "      <td>2020-08-24 20:24:33.488367</td>\n",
       "      <td>1</td>\n",
       "    </tr>\n",
       "    <tr>\n",
       "      <th>20</th>\n",
       "      <td>log_file</td>\n",
       "      <td>LAMMPSEquilibrationNVT:ProcessAnalyzeAndVisual...</td>\n",
       "      <td>NaN</td>\n",
       "      <td>2020-08-24 20:24:33.488363</td>\n",
       "      <td>2020-08-24 20:24:33.488363</td>\n",
       "      <td>1</td>\n",
       "    </tr>\n",
       "    <tr>\n",
       "      <th>21</th>\n",
       "      <td>input_file</td>\n",
       "      <td>LAMMPSEquilibrationNVT:ProcessAnalyzeAndVisual...</td>\n",
       "      <td>NaN</td>\n",
       "      <td>2020-08-24 20:24:33.488359</td>\n",
       "      <td>2020-08-24 20:24:33.488359</td>\n",
       "      <td>1</td>\n",
       "    </tr>\n",
       "    <tr>\n",
       "      <th>22</th>\n",
       "      <td>index_file</td>\n",
       "      <td>LAMMPSEquilibrationNVT:ProcessAnalyzeAndVisual...</td>\n",
       "      <td>NaN</td>\n",
       "      <td>2020-08-24 20:24:33.488355</td>\n",
       "      <td>2020-08-24 20:24:33.488355</td>\n",
       "      <td>1</td>\n",
       "    </tr>\n",
       "    <tr>\n",
       "      <th>23</th>\n",
       "      <td>eam_file</td>\n",
       "      <td>LAMMPSEquilibrationNVT:ProcessAnalyzeAndVisual...</td>\n",
       "      <td>NaN</td>\n",
       "      <td>2020-08-24 20:24:33.488351</td>\n",
       "      <td>2020-08-24 20:24:33.488351</td>\n",
       "      <td>1</td>\n",
       "    </tr>\n",
       "    <tr>\n",
       "      <th>24</th>\n",
       "      <td>data_file</td>\n",
       "      <td>LAMMPSEquilibrationNVT:ProcessAnalyzeAndVisual...</td>\n",
       "      <td>NaN</td>\n",
       "      <td>2020-08-24 20:24:33.488347</td>\n",
       "      <td>2020-08-24 20:24:33.488347</td>\n",
       "      <td>1</td>\n",
       "    </tr>\n",
       "    <tr>\n",
       "      <th>25</th>\n",
       "      <td>coeff_file</td>\n",
       "      <td>LAMMPSEquilibrationNVT:ProcessAnalyzeAndVisual...</td>\n",
       "      <td>NaN</td>\n",
       "      <td>2020-08-24 20:24:33.488341</td>\n",
       "      <td>2020-08-24 20:24:33.488341</td>\n",
       "      <td>1</td>\n",
       "    </tr>\n",
       "    <tr>\n",
       "      <th>26</th>\n",
       "      <td>thermo_file</td>\n",
       "      <td>LAMMPSRelaxedBoxMinimization:ProcessAnalyzeAnd...</td>\n",
       "      <td>NaN</td>\n",
       "      <td>2020-08-24 17:48:58.998653</td>\n",
       "      <td>2020-08-24 20:24:33.487742</td>\n",
       "      <td>2</td>\n",
       "    </tr>\n",
       "    <tr>\n",
       "      <th>27</th>\n",
       "      <td>fcc_rdf_file</td>\n",
       "      <td>LAMMPSRelaxedBoxMinimization:ProcessAnalyzeAnd...</td>\n",
       "      <td>NaN</td>\n",
       "      <td>2020-08-24 17:48:58.998650</td>\n",
       "      <td>2020-08-24 20:24:33.487738</td>\n",
       "      <td>2</td>\n",
       "    </tr>\n",
       "    <tr>\n",
       "      <th>28</th>\n",
       "      <td>rdf_file</td>\n",
       "      <td>LAMMPSRelaxedBoxMinimization:ProcessAnalyzeAnd...</td>\n",
       "      <td>NaN</td>\n",
       "      <td>2020-08-24 17:48:58.998646</td>\n",
       "      <td>2020-08-24 20:24:33.487734</td>\n",
       "      <td>2</td>\n",
       "    </tr>\n",
       "    <tr>\n",
       "      <th>29</th>\n",
       "      <td>box_measures_file</td>\n",
       "      <td>LAMMPSRelaxedBoxMinimization:ProcessAnalyzeAnd...</td>\n",
       "      <td>NaN</td>\n",
       "      <td>2020-08-24 17:48:58.998640</td>\n",
       "      <td>2020-08-24 20:24:33.487730</td>\n",
       "      <td>2</td>\n",
       "    </tr>\n",
       "    <tr>\n",
       "      <th>30</th>\n",
       "      <td>eam_file</td>\n",
       "      <td>LAMMPSRelaxedBoxMinimization:ProcessAnalyzeAnd...</td>\n",
       "      <td>NaN</td>\n",
       "      <td>2020-08-24 17:48:58.998636</td>\n",
       "      <td>2020-08-24 20:24:33.487726</td>\n",
       "      <td>2</td>\n",
       "    </tr>\n",
       "    <tr>\n",
       "      <th>31</th>\n",
       "      <td>coeff_file</td>\n",
       "      <td>LAMMPSRelaxedBoxMinimization:ProcessAnalyzeAnd...</td>\n",
       "      <td>NaN</td>\n",
       "      <td>2020-08-24 17:48:58.998633</td>\n",
       "      <td>2020-08-24 20:24:33.487722</td>\n",
       "      <td>2</td>\n",
       "    </tr>\n",
       "    <tr>\n",
       "      <th>32</th>\n",
       "      <td>log_file</td>\n",
       "      <td>LAMMPSRelaxedBoxMinimization:ProcessAnalyzeAnd...</td>\n",
       "      <td>NaN</td>\n",
       "      <td>2020-08-24 17:48:58.998630</td>\n",
       "      <td>2020-08-24 20:24:33.487718</td>\n",
       "      <td>2</td>\n",
       "    </tr>\n",
       "    <tr>\n",
       "      <th>33</th>\n",
       "      <td>mass_file</td>\n",
       "      <td>LAMMPSRelaxedBoxMinimization:ProcessAnalyzeAnd...</td>\n",
       "      <td>NaN</td>\n",
       "      <td>2020-08-24 17:48:58.998627</td>\n",
       "      <td>2020-08-24 20:24:33.487714</td>\n",
       "      <td>2</td>\n",
       "    </tr>\n",
       "    <tr>\n",
       "      <th>34</th>\n",
       "      <td>input_file</td>\n",
       "      <td>LAMMPSRelaxedBoxMinimization:ProcessAnalyzeAnd...</td>\n",
       "      <td>NaN</td>\n",
       "      <td>2020-08-24 17:48:58.998623</td>\n",
       "      <td>2020-08-24 20:24:33.487710</td>\n",
       "      <td>2</td>\n",
       "    </tr>\n",
       "    <tr>\n",
       "      <th>35</th>\n",
       "      <td>index_file</td>\n",
       "      <td>LAMMPSRelaxedBoxMinimization:ProcessAnalyzeAnd...</td>\n",
       "      <td>NaN</td>\n",
       "      <td>2020-08-24 17:48:58.998620</td>\n",
       "      <td>2020-08-24 20:24:33.487707</td>\n",
       "      <td>2</td>\n",
       "    </tr>\n",
       "    <tr>\n",
       "      <th>36</th>\n",
       "      <td>trajectory_file</td>\n",
       "      <td>LAMMPSRelaxedBoxMinimization:ProcessAnalyzeAnd...</td>\n",
       "      <td>NaN</td>\n",
       "      <td>2020-08-24 17:48:58.998616</td>\n",
       "      <td>2020-08-24 20:24:33.487702</td>\n",
       "      <td>2</td>\n",
       "    </tr>\n",
       "    <tr>\n",
       "      <th>37</th>\n",
       "      <td>data_file</td>\n",
       "      <td>LAMMPSRelaxedBoxMinimization:ProcessAnalyzeAnd...</td>\n",
       "      <td>NaN</td>\n",
       "      <td>2020-08-24 17:48:58.998611</td>\n",
       "      <td>2020-08-24 20:24:33.487696</td>\n",
       "      <td>2</td>\n",
       "    </tr>\n",
       "    <tr>\n",
       "      <th>38</th>\n",
       "      <td>thermo_file</td>\n",
       "      <td>LAMMPSFixedBoxMinimization:ProcessAnalyzeAndVi...</td>\n",
       "      <td>NaN</td>\n",
       "      <td>2020-08-24 17:48:58.998020</td>\n",
       "      <td>2020-08-24 20:24:33.487054</td>\n",
       "      <td>2</td>\n",
       "    </tr>\n",
       "    <tr>\n",
       "      <th>39</th>\n",
       "      <td>fcc_rdf_file</td>\n",
       "      <td>LAMMPSFixedBoxMinimization:ProcessAnalyzeAndVi...</td>\n",
       "      <td>NaN</td>\n",
       "      <td>2020-08-24 17:48:58.998016</td>\n",
       "      <td>2020-08-24 20:24:33.487050</td>\n",
       "      <td>2</td>\n",
       "    </tr>\n",
       "    <tr>\n",
       "      <th>40</th>\n",
       "      <td>rdf_file</td>\n",
       "      <td>LAMMPSFixedBoxMinimization:ProcessAnalyzeAndVi...</td>\n",
       "      <td>NaN</td>\n",
       "      <td>2020-08-24 17:48:58.998012</td>\n",
       "      <td>2020-08-24 20:24:33.487046</td>\n",
       "      <td>2</td>\n",
       "    </tr>\n",
       "    <tr>\n",
       "      <th>41</th>\n",
       "      <td>box_measures_file</td>\n",
       "      <td>LAMMPSFixedBoxMinimization:ProcessAnalyzeAndVi...</td>\n",
       "      <td>NaN</td>\n",
       "      <td>2020-08-24 17:48:58.998007</td>\n",
       "      <td>2020-08-24 20:24:33.487042</td>\n",
       "      <td>2</td>\n",
       "    </tr>\n",
       "    <tr>\n",
       "      <th>42</th>\n",
       "      <td>eam_file</td>\n",
       "      <td>LAMMPSFixedBoxMinimization:ProcessAnalyzeAndVi...</td>\n",
       "      <td>NaN</td>\n",
       "      <td>2020-08-24 17:48:58.998003</td>\n",
       "      <td>2020-08-24 20:24:33.487038</td>\n",
       "      <td>2</td>\n",
       "    </tr>\n",
       "    <tr>\n",
       "      <th>43</th>\n",
       "      <td>coeff_file</td>\n",
       "      <td>LAMMPSFixedBoxMinimization:ProcessAnalyzeAndVi...</td>\n",
       "      <td>NaN</td>\n",
       "      <td>2020-08-24 17:48:58.998000</td>\n",
       "      <td>2020-08-24 20:24:33.487035</td>\n",
       "      <td>2</td>\n",
       "    </tr>\n",
       "    <tr>\n",
       "      <th>44</th>\n",
       "      <td>log_file</td>\n",
       "      <td>LAMMPSFixedBoxMinimization:ProcessAnalyzeAndVi...</td>\n",
       "      <td>NaN</td>\n",
       "      <td>2020-08-24 17:48:58.997996</td>\n",
       "      <td>2020-08-24 20:24:33.487031</td>\n",
       "      <td>2</td>\n",
       "    </tr>\n",
       "    <tr>\n",
       "      <th>45</th>\n",
       "      <td>mass_file</td>\n",
       "      <td>LAMMPSFixedBoxMinimization:ProcessAnalyzeAndVi...</td>\n",
       "      <td>NaN</td>\n",
       "      <td>2020-08-24 17:48:58.997991</td>\n",
       "      <td>2020-08-24 20:24:33.487027</td>\n",
       "      <td>2</td>\n",
       "    </tr>\n",
       "    <tr>\n",
       "      <th>46</th>\n",
       "      <td>input_file</td>\n",
       "      <td>LAMMPSFixedBoxMinimization:ProcessAnalyzeAndVi...</td>\n",
       "      <td>NaN</td>\n",
       "      <td>2020-08-24 17:48:58.997987</td>\n",
       "      <td>2020-08-24 20:24:33.487023</td>\n",
       "      <td>2</td>\n",
       "    </tr>\n",
       "    <tr>\n",
       "      <th>47</th>\n",
       "      <td>index_file</td>\n",
       "      <td>LAMMPSFixedBoxMinimization:ProcessAnalyzeAndVi...</td>\n",
       "      <td>NaN</td>\n",
       "      <td>2020-08-24 17:48:58.997983</td>\n",
       "      <td>2020-08-24 20:24:33.487019</td>\n",
       "      <td>2</td>\n",
       "    </tr>\n",
       "    <tr>\n",
       "      <th>48</th>\n",
       "      <td>trajectory_file</td>\n",
       "      <td>LAMMPSFixedBoxMinimization:ProcessAnalyzeAndVi...</td>\n",
       "      <td>NaN</td>\n",
       "      <td>2020-08-24 17:48:58.997979</td>\n",
       "      <td>2020-08-24 20:24:33.487015</td>\n",
       "      <td>2</td>\n",
       "    </tr>\n",
       "    <tr>\n",
       "      <th>49</th>\n",
       "      <td>data_file</td>\n",
       "      <td>LAMMPSFixedBoxMinimization:ProcessAnalyzeAndVi...</td>\n",
       "      <td>NaN</td>\n",
       "      <td>2020-08-24 17:48:58.997973</td>\n",
       "      <td>2020-08-24 20:24:33.487009</td>\n",
       "      <td>2</td>\n",
       "    </tr>\n",
       "    <tr>\n",
       "      <th>50</th>\n",
       "      <td>mass_file</td>\n",
       "      <td>CreateSubstrate:ProcessAnalyzeAndVisualize:pus...</td>\n",
       "      <td>NaN</td>\n",
       "      <td>2020-08-24 17:48:58.997224</td>\n",
       "      <td>2020-08-24 20:24:33.486266</td>\n",
       "      <td>2</td>\n",
       "    </tr>\n",
       "    <tr>\n",
       "      <th>51</th>\n",
       "      <td>input_file</td>\n",
       "      <td>CreateSubstrate:ProcessAnalyzeAndVisualize:pus...</td>\n",
       "      <td>NaN</td>\n",
       "      <td>2020-08-24 17:48:58.997219</td>\n",
       "      <td>2020-08-24 20:24:33.486256</td>\n",
       "      <td>2</td>\n",
       "    </tr>\n",
       "    <tr>\n",
       "      <th>52</th>\n",
       "      <td>data_file</td>\n",
       "      <td>CreateSubstrate:ProcessAnalyzeAndVisualize:pus...</td>\n",
       "      <td>NaN</td>\n",
       "      <td>2020-08-24 17:48:58.997210</td>\n",
       "      <td>2020-08-24 20:24:33.486227</td>\n",
       "      <td>2</td>\n",
       "    </tr>\n",
       "    <tr>\n",
       "      <th>53</th>\n",
       "      <td>input</td>\n",
       "      <td>LAMMPSFixedBoxMinimization:LAMMPSFixedBoxMinim...</td>\n",
       "      <td>SDS_in_H2O_on_AU_coeff_hybrid_lj_charmmfsw_cou...</td>\n",
       "      <td>None</td>\n",
       "      <td>None</td>\n",
       "      <td>1</td>\n",
       "    </tr>\n",
       "    <tr>\n",
       "      <th>54</th>\n",
       "      <td>input</td>\n",
       "      <td>CreateSubstrate:CreateSubstrateMain:push_infiles</td>\n",
       "      <td>SDS_in_H2O_on_AU_masses.input</td>\n",
       "      <td>None</td>\n",
       "      <td>None</td>\n",
       "      <td>1</td>\n",
       "    </tr>\n",
       "    <tr>\n",
       "      <th>55</th>\n",
       "      <td>input</td>\n",
       "      <td>LAMMPSFixedBoxMinimization:LAMMPSFixedBoxMinim...</td>\n",
       "      <td>lmp.input.template</td>\n",
       "      <td>None</td>\n",
       "      <td>None</td>\n",
       "      <td>1</td>\n",
       "    </tr>\n",
       "    <tr>\n",
       "      <th>56</th>\n",
       "      <td>input</td>\n",
       "      <td>LAMMPSFixedBoxMinimization:LAMMPSFixedBoxMinim...</td>\n",
       "      <td>Au-Grochola-JCP05-units-real.eam.alloy</td>\n",
       "      <td>None</td>\n",
       "      <td>None</td>\n",
       "      <td>1</td>\n",
       "    </tr>\n",
       "    <tr>\n",
       "      <th>57</th>\n",
       "      <td>template</td>\n",
       "      <td>CreateSubstrate:CreateSubstrateMain:push_infiles</td>\n",
       "      <td>lmp_convert_xyz.input.template</td>\n",
       "      <td>None</td>\n",
       "      <td>None</td>\n",
       "      <td>1</td>\n",
       "    </tr>\n",
       "  </tbody>\n",
       "</table>\n",
       "</div>"
      ],
      "text/plain": [
       "                 type                                               step  \\\n",
       "0         thermo_file  LAMMPSEquilibrationNPT:ProcessAnalyzeAndVisual...   \n",
       "1        fcc_rdf_file  LAMMPSEquilibrationNPT:ProcessAnalyzeAndVisual...   \n",
       "2            rdf_file  LAMMPSEquilibrationNPT:ProcessAnalyzeAndVisual...   \n",
       "3   box_measures_file  LAMMPSEquilibrationNPT:ProcessAnalyzeAndVisual...   \n",
       "4     trajectory_file  LAMMPSEquilibrationNPT:ProcessAnalyzeAndVisual...   \n",
       "5     thermo_ave_file  LAMMPSEquilibrationNPT:ProcessAnalyzeAndVisual...   \n",
       "6           mass_file  LAMMPSEquilibrationNPT:ProcessAnalyzeAndVisual...   \n",
       "7            log_file  LAMMPSEquilibrationNPT:ProcessAnalyzeAndVisual...   \n",
       "8          input_file  LAMMPSEquilibrationNPT:ProcessAnalyzeAndVisual...   \n",
       "9          index_file  LAMMPSEquilibrationNPT:ProcessAnalyzeAndVisual...   \n",
       "10           eam_file  LAMMPSEquilibrationNPT:ProcessAnalyzeAndVisual...   \n",
       "11          data_file  LAMMPSEquilibrationNPT:ProcessAnalyzeAndVisual...   \n",
       "12         coeff_file  LAMMPSEquilibrationNPT:ProcessAnalyzeAndVisual...   \n",
       "13        thermo_file  LAMMPSEquilibrationNVT:ProcessAnalyzeAndVisual...   \n",
       "14       fcc_rdf_file  LAMMPSEquilibrationNVT:ProcessAnalyzeAndVisual...   \n",
       "15           rdf_file  LAMMPSEquilibrationNVT:ProcessAnalyzeAndVisual...   \n",
       "16  box_measures_file  LAMMPSEquilibrationNVT:ProcessAnalyzeAndVisual...   \n",
       "17    trajectory_file  LAMMPSEquilibrationNVT:ProcessAnalyzeAndVisual...   \n",
       "18    thermo_ave_file  LAMMPSEquilibrationNVT:ProcessAnalyzeAndVisual...   \n",
       "19          mass_file  LAMMPSEquilibrationNVT:ProcessAnalyzeAndVisual...   \n",
       "20           log_file  LAMMPSEquilibrationNVT:ProcessAnalyzeAndVisual...   \n",
       "21         input_file  LAMMPSEquilibrationNVT:ProcessAnalyzeAndVisual...   \n",
       "22         index_file  LAMMPSEquilibrationNVT:ProcessAnalyzeAndVisual...   \n",
       "23           eam_file  LAMMPSEquilibrationNVT:ProcessAnalyzeAndVisual...   \n",
       "24          data_file  LAMMPSEquilibrationNVT:ProcessAnalyzeAndVisual...   \n",
       "25         coeff_file  LAMMPSEquilibrationNVT:ProcessAnalyzeAndVisual...   \n",
       "26        thermo_file  LAMMPSRelaxedBoxMinimization:ProcessAnalyzeAnd...   \n",
       "27       fcc_rdf_file  LAMMPSRelaxedBoxMinimization:ProcessAnalyzeAnd...   \n",
       "28           rdf_file  LAMMPSRelaxedBoxMinimization:ProcessAnalyzeAnd...   \n",
       "29  box_measures_file  LAMMPSRelaxedBoxMinimization:ProcessAnalyzeAnd...   \n",
       "30           eam_file  LAMMPSRelaxedBoxMinimization:ProcessAnalyzeAnd...   \n",
       "31         coeff_file  LAMMPSRelaxedBoxMinimization:ProcessAnalyzeAnd...   \n",
       "32           log_file  LAMMPSRelaxedBoxMinimization:ProcessAnalyzeAnd...   \n",
       "33          mass_file  LAMMPSRelaxedBoxMinimization:ProcessAnalyzeAnd...   \n",
       "34         input_file  LAMMPSRelaxedBoxMinimization:ProcessAnalyzeAnd...   \n",
       "35         index_file  LAMMPSRelaxedBoxMinimization:ProcessAnalyzeAnd...   \n",
       "36    trajectory_file  LAMMPSRelaxedBoxMinimization:ProcessAnalyzeAnd...   \n",
       "37          data_file  LAMMPSRelaxedBoxMinimization:ProcessAnalyzeAnd...   \n",
       "38        thermo_file  LAMMPSFixedBoxMinimization:ProcessAnalyzeAndVi...   \n",
       "39       fcc_rdf_file  LAMMPSFixedBoxMinimization:ProcessAnalyzeAndVi...   \n",
       "40           rdf_file  LAMMPSFixedBoxMinimization:ProcessAnalyzeAndVi...   \n",
       "41  box_measures_file  LAMMPSFixedBoxMinimization:ProcessAnalyzeAndVi...   \n",
       "42           eam_file  LAMMPSFixedBoxMinimization:ProcessAnalyzeAndVi...   \n",
       "43         coeff_file  LAMMPSFixedBoxMinimization:ProcessAnalyzeAndVi...   \n",
       "44           log_file  LAMMPSFixedBoxMinimization:ProcessAnalyzeAndVi...   \n",
       "45          mass_file  LAMMPSFixedBoxMinimization:ProcessAnalyzeAndVi...   \n",
       "46         input_file  LAMMPSFixedBoxMinimization:ProcessAnalyzeAndVi...   \n",
       "47         index_file  LAMMPSFixedBoxMinimization:ProcessAnalyzeAndVi...   \n",
       "48    trajectory_file  LAMMPSFixedBoxMinimization:ProcessAnalyzeAndVi...   \n",
       "49          data_file  LAMMPSFixedBoxMinimization:ProcessAnalyzeAndVi...   \n",
       "50          mass_file  CreateSubstrate:ProcessAnalyzeAndVisualize:pus...   \n",
       "51         input_file  CreateSubstrate:ProcessAnalyzeAndVisualize:pus...   \n",
       "52          data_file  CreateSubstrate:ProcessAnalyzeAndVisualize:pus...   \n",
       "53              input  LAMMPSFixedBoxMinimization:LAMMPSFixedBoxMinim...   \n",
       "54              input   CreateSubstrate:CreateSubstrateMain:push_infiles   \n",
       "55              input  LAMMPSFixedBoxMinimization:LAMMPSFixedBoxMinim...   \n",
       "56              input  LAMMPSFixedBoxMinimization:LAMMPSFixedBoxMinim...   \n",
       "57           template   CreateSubstrate:CreateSubstrateMain:push_infiles   \n",
       "\n",
       "                                                 name  \\\n",
       "0                                                 NaN   \n",
       "1                                                 NaN   \n",
       "2                                                 NaN   \n",
       "3                                                 NaN   \n",
       "4                                                 NaN   \n",
       "5                                                 NaN   \n",
       "6                                                 NaN   \n",
       "7                                                 NaN   \n",
       "8                                                 NaN   \n",
       "9                                                 NaN   \n",
       "10                                                NaN   \n",
       "11                                                NaN   \n",
       "12                                                NaN   \n",
       "13                                                NaN   \n",
       "14                                                NaN   \n",
       "15                                                NaN   \n",
       "16                                                NaN   \n",
       "17                                                NaN   \n",
       "18                                                NaN   \n",
       "19                                                NaN   \n",
       "20                                                NaN   \n",
       "21                                                NaN   \n",
       "22                                                NaN   \n",
       "23                                                NaN   \n",
       "24                                                NaN   \n",
       "25                                                NaN   \n",
       "26                                                NaN   \n",
       "27                                                NaN   \n",
       "28                                                NaN   \n",
       "29                                                NaN   \n",
       "30                                                NaN   \n",
       "31                                                NaN   \n",
       "32                                                NaN   \n",
       "33                                                NaN   \n",
       "34                                                NaN   \n",
       "35                                                NaN   \n",
       "36                                                NaN   \n",
       "37                                                NaN   \n",
       "38                                                NaN   \n",
       "39                                                NaN   \n",
       "40                                                NaN   \n",
       "41                                                NaN   \n",
       "42                                                NaN   \n",
       "43                                                NaN   \n",
       "44                                                NaN   \n",
       "45                                                NaN   \n",
       "46                                                NaN   \n",
       "47                                                NaN   \n",
       "48                                                NaN   \n",
       "49                                                NaN   \n",
       "50                                                NaN   \n",
       "51                                                NaN   \n",
       "52                                                NaN   \n",
       "53  SDS_in_H2O_on_AU_coeff_hybrid_lj_charmmfsw_cou...   \n",
       "54                      SDS_in_H2O_on_AU_masses.input   \n",
       "55                                 lmp.input.template   \n",
       "56             Au-Grochola-JCP05-units-real.eam.alloy   \n",
       "57                     lmp_convert_xyz.input.template   \n",
       "\n",
       "                      earliest                      latest  object_count  \n",
       "0   2020-08-24 20:24:33.489028  2020-08-24 20:24:33.489028             1  \n",
       "1   2020-08-24 20:24:33.489024  2020-08-24 20:24:33.489024             1  \n",
       "2   2020-08-24 20:24:33.489020  2020-08-24 20:24:33.489020             1  \n",
       "3   2020-08-24 20:24:33.489016  2020-08-24 20:24:33.489016             1  \n",
       "4   2020-08-24 20:24:33.489012  2020-08-24 20:24:33.489012             1  \n",
       "5   2020-08-24 20:24:33.489009  2020-08-24 20:24:33.489009             1  \n",
       "6   2020-08-24 20:24:33.489005  2020-08-24 20:24:33.489005             1  \n",
       "7   2020-08-24 20:24:33.489001  2020-08-24 20:24:33.489001             1  \n",
       "8   2020-08-24 20:24:33.488997  2020-08-24 20:24:33.488997             1  \n",
       "9   2020-08-24 20:24:33.488993  2020-08-24 20:24:33.488993             1  \n",
       "10  2020-08-24 20:24:33.488989  2020-08-24 20:24:33.488989             1  \n",
       "11  2020-08-24 20:24:33.488985  2020-08-24 20:24:33.488985             1  \n",
       "12  2020-08-24 20:24:33.488980  2020-08-24 20:24:33.488980             1  \n",
       "13  2020-08-24 20:24:33.488392  2020-08-24 20:24:33.488392             1  \n",
       "14  2020-08-24 20:24:33.488387  2020-08-24 20:24:33.488387             1  \n",
       "15  2020-08-24 20:24:33.488383  2020-08-24 20:24:33.488383             1  \n",
       "16  2020-08-24 20:24:33.488379  2020-08-24 20:24:33.488379             1  \n",
       "17  2020-08-24 20:24:33.488375  2020-08-24 20:24:33.488375             1  \n",
       "18  2020-08-24 20:24:33.488371  2020-08-24 20:24:33.488371             1  \n",
       "19  2020-08-24 20:24:33.488367  2020-08-24 20:24:33.488367             1  \n",
       "20  2020-08-24 20:24:33.488363  2020-08-24 20:24:33.488363             1  \n",
       "21  2020-08-24 20:24:33.488359  2020-08-24 20:24:33.488359             1  \n",
       "22  2020-08-24 20:24:33.488355  2020-08-24 20:24:33.488355             1  \n",
       "23  2020-08-24 20:24:33.488351  2020-08-24 20:24:33.488351             1  \n",
       "24  2020-08-24 20:24:33.488347  2020-08-24 20:24:33.488347             1  \n",
       "25  2020-08-24 20:24:33.488341  2020-08-24 20:24:33.488341             1  \n",
       "26  2020-08-24 17:48:58.998653  2020-08-24 20:24:33.487742             2  \n",
       "27  2020-08-24 17:48:58.998650  2020-08-24 20:24:33.487738             2  \n",
       "28  2020-08-24 17:48:58.998646  2020-08-24 20:24:33.487734             2  \n",
       "29  2020-08-24 17:48:58.998640  2020-08-24 20:24:33.487730             2  \n",
       "30  2020-08-24 17:48:58.998636  2020-08-24 20:24:33.487726             2  \n",
       "31  2020-08-24 17:48:58.998633  2020-08-24 20:24:33.487722             2  \n",
       "32  2020-08-24 17:48:58.998630  2020-08-24 20:24:33.487718             2  \n",
       "33  2020-08-24 17:48:58.998627  2020-08-24 20:24:33.487714             2  \n",
       "34  2020-08-24 17:48:58.998623  2020-08-24 20:24:33.487710             2  \n",
       "35  2020-08-24 17:48:58.998620  2020-08-24 20:24:33.487707             2  \n",
       "36  2020-08-24 17:48:58.998616  2020-08-24 20:24:33.487702             2  \n",
       "37  2020-08-24 17:48:58.998611  2020-08-24 20:24:33.487696             2  \n",
       "38  2020-08-24 17:48:58.998020  2020-08-24 20:24:33.487054             2  \n",
       "39  2020-08-24 17:48:58.998016  2020-08-24 20:24:33.487050             2  \n",
       "40  2020-08-24 17:48:58.998012  2020-08-24 20:24:33.487046             2  \n",
       "41  2020-08-24 17:48:58.998007  2020-08-24 20:24:33.487042             2  \n",
       "42  2020-08-24 17:48:58.998003  2020-08-24 20:24:33.487038             2  \n",
       "43  2020-08-24 17:48:58.998000  2020-08-24 20:24:33.487035             2  \n",
       "44  2020-08-24 17:48:58.997996  2020-08-24 20:24:33.487031             2  \n",
       "45  2020-08-24 17:48:58.997991  2020-08-24 20:24:33.487027             2  \n",
       "46  2020-08-24 17:48:58.997987  2020-08-24 20:24:33.487023             2  \n",
       "47  2020-08-24 17:48:58.997983  2020-08-24 20:24:33.487019             2  \n",
       "48  2020-08-24 17:48:58.997979  2020-08-24 20:24:33.487015             2  \n",
       "49  2020-08-24 17:48:58.997973  2020-08-24 20:24:33.487009             2  \n",
       "50  2020-08-24 17:48:58.997224  2020-08-24 20:24:33.486266             2  \n",
       "51  2020-08-24 17:48:58.997219  2020-08-24 20:24:33.486256             2  \n",
       "52  2020-08-24 17:48:58.997210  2020-08-24 20:24:33.486227             2  \n",
       "53                        None                        None             1  \n",
       "54                        None                        None             1  \n",
       "55                        None                        None             1  \n",
       "56                        None                        None             1  \n",
       "57                        None                        None             1  "
      ]
     },
     "execution_count": 40,
     "metadata": {},
     "output_type": "execute_result"
    }
   ],
   "source": [
    "res_df"
   ]
  },
  {
   "cell_type": "markdown",
   "metadata": {},
   "source": [
    "### Thermo .out files overview"
   ]
  },
  {
   "cell_type": "code",
   "execution_count": 117,
   "metadata": {
    "ExecuteTime": {
     "end_time": "2020-08-25T15:22:09.242005Z",
     "start_time": "2020-08-25T15:22:08.981431Z"
    }
   },
   "outputs": [],
   "source": [
    "query = {\n",
    "    'metadata.project': project_id,\n",
    "    'metadata.type': 'thermo_file',\n",
    "}"
   ]
  },
  {
   "cell_type": "code",
   "execution_count": 118,
   "metadata": {
    "ExecuteTime": {
     "end_time": "2020-08-25T15:22:11.866153Z",
     "start_time": "2020-08-25T15:22:11.770809Z"
    }
   },
   "outputs": [],
   "source": [
    "# check files degenerate by 'metadata.type', 'metadata.name', 'metadata.step'\n",
    "aggregation_pipeline = [\n",
    "    {\n",
    "        \"$match\": query\n",
    "    },\n",
    "    {  # group by unique project id\n",
    "        \"$group\": { \n",
    "            \"_id\": { \n",
    "                'type': '$metadata.type',\n",
    "                #'name': '$metadata.name',\n",
    "                'step': '$metadata.step',\n",
    "            },\n",
    "            \"object_count\": {\"$sum\": 1}, # count matching data sets\n",
    "            \"earliest\":  {'$min': '$metadata.datetime' },\n",
    "            \"latest\":  {'$max': '$metadata.datetime' },\n",
    "        },\n",
    "    },\n",
    "    {  # sort by earliest date, descending\n",
    "        \"$sort\": { \n",
    "            \"earliest\": pymongo.DESCENDING,\n",
    "        }\n",
    "    }\n",
    "]\n",
    "\n",
    "cursor = fp.filepad.aggregate(aggregation_pipeline)\n",
    "\n",
    "res = [ {**c['_id'], **c} for c in cursor]\n",
    "columns = ['type', 'step', 'earliest', 'latest', 'object_count', '_id']\n",
    "res_df = pd.DataFrame(data=res, columns=columns) # pandas Dataframe is just nice for printing in notebook\n",
    "del res_df[\"_id\"]"
   ]
  },
  {
   "cell_type": "code",
   "execution_count": 119,
   "metadata": {
    "ExecuteTime": {
     "end_time": "2020-08-25T15:22:12.321301Z",
     "start_time": "2020-08-25T15:22:12.248493Z"
    }
   },
   "outputs": [
    {
     "data": {
      "text/html": [
       "<div>\n",
       "<style scoped>\n",
       "    .dataframe tbody tr th:only-of-type {\n",
       "        vertical-align: middle;\n",
       "    }\n",
       "\n",
       "    .dataframe tbody tr th {\n",
       "        vertical-align: top;\n",
       "    }\n",
       "\n",
       "    .dataframe thead th {\n",
       "        text-align: right;\n",
       "    }\n",
       "</style>\n",
       "<table border=\"1\" class=\"dataframe\">\n",
       "  <thead>\n",
       "    <tr style=\"text-align: right;\">\n",
       "      <th></th>\n",
       "      <th>type</th>\n",
       "      <th>step</th>\n",
       "      <th>earliest</th>\n",
       "      <th>latest</th>\n",
       "      <th>object_count</th>\n",
       "    </tr>\n",
       "  </thead>\n",
       "  <tbody>\n",
       "    <tr>\n",
       "      <th>0</th>\n",
       "      <td>thermo_file</td>\n",
       "      <td>LAMMPSEquilibrationNPT:ProcessAnalyzeAndVisual...</td>\n",
       "      <td>2020-08-24 20:24:33.489028</td>\n",
       "      <td>2020-08-24 20:24:33.489028</td>\n",
       "      <td>1</td>\n",
       "    </tr>\n",
       "    <tr>\n",
       "      <th>1</th>\n",
       "      <td>thermo_file</td>\n",
       "      <td>LAMMPSEquilibrationNVT:ProcessAnalyzeAndVisual...</td>\n",
       "      <td>2020-08-24 20:24:33.488392</td>\n",
       "      <td>2020-08-24 20:24:33.488392</td>\n",
       "      <td>1</td>\n",
       "    </tr>\n",
       "    <tr>\n",
       "      <th>2</th>\n",
       "      <td>thermo_file</td>\n",
       "      <td>LAMMPSRelaxedBoxMinimization:ProcessAnalyzeAnd...</td>\n",
       "      <td>2020-08-24 17:48:58.998653</td>\n",
       "      <td>2020-08-24 20:24:33.487742</td>\n",
       "      <td>2</td>\n",
       "    </tr>\n",
       "    <tr>\n",
       "      <th>3</th>\n",
       "      <td>thermo_file</td>\n",
       "      <td>LAMMPSFixedBoxMinimization:ProcessAnalyzeAndVi...</td>\n",
       "      <td>2020-08-24 17:48:58.998020</td>\n",
       "      <td>2020-08-24 20:24:33.487054</td>\n",
       "      <td>2</td>\n",
       "    </tr>\n",
       "  </tbody>\n",
       "</table>\n",
       "</div>"
      ],
      "text/plain": [
       "          type                                               step  \\\n",
       "0  thermo_file  LAMMPSEquilibrationNPT:ProcessAnalyzeAndVisual...   \n",
       "1  thermo_file  LAMMPSEquilibrationNVT:ProcessAnalyzeAndVisual...   \n",
       "2  thermo_file  LAMMPSRelaxedBoxMinimization:ProcessAnalyzeAnd...   \n",
       "3  thermo_file  LAMMPSFixedBoxMinimization:ProcessAnalyzeAndVi...   \n",
       "\n",
       "                     earliest                      latest  object_count  \n",
       "0  2020-08-24 20:24:33.489028  2020-08-24 20:24:33.489028             1  \n",
       "1  2020-08-24 20:24:33.488392  2020-08-24 20:24:33.488392             1  \n",
       "2  2020-08-24 17:48:58.998653  2020-08-24 20:24:33.487742             2  \n",
       "3  2020-08-24 17:48:58.998020  2020-08-24 20:24:33.487054             2  "
      ]
     },
     "execution_count": 119,
     "metadata": {},
     "output_type": "execute_result"
    }
   ],
   "source": [
    "res_df"
   ]
  },
  {
   "cell_type": "code",
   "execution_count": 120,
   "metadata": {
    "ExecuteTime": {
     "end_time": "2020-08-25T15:22:12.868656Z",
     "start_time": "2020-08-25T15:22:12.804978Z"
    }
   },
   "outputs": [
    {
     "name": "stdout",
     "output_type": "stream",
     "text": [
      "['LAMMPSEquilibrationNPT:ProcessAnalyzeAndVisualize:push_filepad'\n",
      " 'LAMMPSEquilibrationNVT:ProcessAnalyzeAndVisualize:push_filepad'\n",
      " 'LAMMPSRelaxedBoxMinimization:ProcessAnalyzeAndVisualize:push_filepad'\n",
      " 'LAMMPSFixedBoxMinimization:ProcessAnalyzeAndVisualize:push_filepad']\n"
     ]
    }
   ],
   "source": [
    "print(res_df[\"step\"].values)"
   ]
  },
  {
   "cell_type": "markdown",
   "metadata": {},
   "source": [
    "### Thermo files evaluation"
   ]
  },
  {
   "cell_type": "code",
   "execution_count": 121,
   "metadata": {
    "ExecuteTime": {
     "end_time": "2020-08-25T15:22:15.822270Z",
     "start_time": "2020-08-25T15:22:15.788573Z"
    }
   },
   "outputs": [],
   "source": [
    "query = {\n",
    "    'metadata.project': project_id,\n",
    "    'metadata.type': 'thermo_file',\n",
    "    #'metadata.step': {'$regex':'LAMMPSFixedBoxMinimization'}\n",
    "}"
   ]
  },
  {
   "cell_type": "code",
   "execution_count": 122,
   "metadata": {
    "ExecuteTime": {
     "end_time": "2020-08-25T15:22:16.663498Z",
     "start_time": "2020-08-25T15:22:16.479353Z"
    }
   },
   "outputs": [
    {
     "name": "stdout",
     "output_type": "stream",
     "text": [
      "....\n"
     ]
    }
   ],
   "source": [
    "res_list = []\n",
    "\n",
    "aggregation_pipeline = [\n",
    "    {\n",
    "        \"$match\": query\n",
    "    },\n",
    "    {\n",
    "        \"$sort\": { \n",
    "            \"metadata.datetime\": pymongo.DESCENDING,\n",
    "        }\n",
    "    },\n",
    "    { \n",
    "        \"$group\": { \n",
    "            \"_id\": { \n",
    "                'type': '$metadata.type',\n",
    "                'step': '$metadata.step',\n",
    "            },\n",
    "            \"degeneracy\": {\"$sum\": 1}, # number matching data sets\n",
    "            \"latest\":     {\"$first\": \"$gfs_id\"} # unique gridfs id of file\n",
    "        }\n",
    "    },\n",
    "]\n",
    "\n",
    "cursor = fp.filepad.aggregate(aggregation_pipeline)\n",
    "\n",
    "thermoData = []\n",
    "legend_pattern = \"{step:s}\"\n",
    "\n",
    "for i, c in enumerate(cursor): \n",
    "    content, metadata = fp.get_file_by_id(c[\"latest\"])\n",
    "    legend = legend_pattern.format(step=metadata[\"metadata\"][\"step\"])\n",
    "    contStream = io.StringIO(content.decode())\n",
    "    df = pd.read_csv(contStream,delim_whitespace=True)\n",
    "    thermoData.append({'legend': legend, 'data': df})\n",
    "    print('.',end='')\n",
    "print('')"
   ]
  },
  {
   "cell_type": "code",
   "execution_count": 123,
   "metadata": {
    "ExecuteTime": {
     "end_time": "2020-08-25T15:22:17.627011Z",
     "start_time": "2020-08-25T15:22:17.566084Z"
    }
   },
   "outputs": [],
   "source": [
    "res_df = pd.concat([d[\"data\"] for d in thermoData], keys=[d[\"legend\"] for d in thermoData])"
   ]
  },
  {
   "cell_type": "code",
   "execution_count": 124,
   "metadata": {
    "ExecuteTime": {
     "end_time": "2020-08-25T15:22:17.878977Z",
     "start_time": "2020-08-25T15:22:17.749382Z"
    }
   },
   "outputs": [
    {
     "data": {
      "text/html": [
       "<div>\n",
       "<style scoped>\n",
       "    .dataframe tbody tr th:only-of-type {\n",
       "        vertical-align: middle;\n",
       "    }\n",
       "\n",
       "    .dataframe tbody tr th {\n",
       "        vertical-align: top;\n",
       "    }\n",
       "\n",
       "    .dataframe thead th {\n",
       "        text-align: right;\n",
       "    }\n",
       "</style>\n",
       "<table border=\"1\" class=\"dataframe\">\n",
       "  <thead>\n",
       "    <tr style=\"text-align: right;\">\n",
       "      <th></th>\n",
       "      <th></th>\n",
       "      <th>Step</th>\n",
       "      <th>TotEng</th>\n",
       "      <th>KinEng</th>\n",
       "      <th>PotEng</th>\n",
       "      <th>Temp</th>\n",
       "      <th>Press</th>\n",
       "      <th>Enthalpy</th>\n",
       "      <th>E_bond</th>\n",
       "      <th>E_angle</th>\n",
       "      <th>E_dihed</th>\n",
       "      <th>...</th>\n",
       "      <th>c_solvent_stress[3]</th>\n",
       "      <th>c_substrate_stress[1]</th>\n",
       "      <th>c_substrate_stress[2]</th>\n",
       "      <th>c_substrate_stress[3]</th>\n",
       "      <th>c_surfactant_stress[1]</th>\n",
       "      <th>c_surfactant_stress[2]</th>\n",
       "      <th>c_surfactant_stress[3]</th>\n",
       "      <th>c_total_stress[1]</th>\n",
       "      <th>c_total_stress[2]</th>\n",
       "      <th>c_total_stress[3]</th>\n",
       "    </tr>\n",
       "  </thead>\n",
       "  <tbody>\n",
       "    <tr>\n",
       "      <th rowspan=\"2\" valign=\"top\">LAMMPSRelaxedBoxMinimization:ProcessAnalyzeAndVisualize:push_filepad</th>\n",
       "      <th>0</th>\n",
       "      <td>0</td>\n",
       "      <td>-17787064</td>\n",
       "      <td>0.00</td>\n",
       "      <td>-17787064</td>\n",
       "      <td>0.00000</td>\n",
       "      <td>-6381.756000</td>\n",
       "      <td>-18096545</td>\n",
       "      <td>0</td>\n",
       "      <td>0</td>\n",
       "      <td>0</td>\n",
       "      <td>...</td>\n",
       "      <td>NaN</td>\n",
       "      <td>NaN</td>\n",
       "      <td>NaN</td>\n",
       "      <td>NaN</td>\n",
       "      <td>NaN</td>\n",
       "      <td>NaN</td>\n",
       "      <td>NaN</td>\n",
       "      <td>NaN</td>\n",
       "      <td>NaN</td>\n",
       "      <td>NaN</td>\n",
       "    </tr>\n",
       "    <tr>\n",
       "      <th>1</th>\n",
       "      <td>15</td>\n",
       "      <td>-17787622</td>\n",
       "      <td>0.00</td>\n",
       "      <td>-17787622</td>\n",
       "      <td>0.00000</td>\n",
       "      <td>0.995953</td>\n",
       "      <td>-17787573</td>\n",
       "      <td>0</td>\n",
       "      <td>0</td>\n",
       "      <td>0</td>\n",
       "      <td>...</td>\n",
       "      <td>NaN</td>\n",
       "      <td>NaN</td>\n",
       "      <td>NaN</td>\n",
       "      <td>NaN</td>\n",
       "      <td>NaN</td>\n",
       "      <td>NaN</td>\n",
       "      <td>NaN</td>\n",
       "      <td>NaN</td>\n",
       "      <td>NaN</td>\n",
       "      <td>NaN</td>\n",
       "    </tr>\n",
       "    <tr>\n",
       "      <th rowspan=\"3\" valign=\"top\">LAMMPSEquilibrationNPT:ProcessAnalyzeAndVisualize:push_filepad</th>\n",
       "      <th>0</th>\n",
       "      <td>0</td>\n",
       "      <td>-17437499</td>\n",
       "      <td>174259.64</td>\n",
       "      <td>-17611759</td>\n",
       "      <td>297.41960</td>\n",
       "      <td>6488.960200</td>\n",
       "      <td>-17123951</td>\n",
       "      <td>0</td>\n",
       "      <td>0</td>\n",
       "      <td>0</td>\n",
       "      <td>...</td>\n",
       "      <td>0.0</td>\n",
       "      <td>-2.160180e+10</td>\n",
       "      <td>-2.145748e+10</td>\n",
       "      <td>-2.143925e+10</td>\n",
       "      <td>0.0</td>\n",
       "      <td>0.0</td>\n",
       "      <td>0.0</td>\n",
       "      <td>-2.160180e+10</td>\n",
       "      <td>-2.145748e+10</td>\n",
       "      <td>-2.143925e+10</td>\n",
       "    </tr>\n",
       "    <tr>\n",
       "      <th>1</th>\n",
       "      <td>100</td>\n",
       "      <td>-17436892</td>\n",
       "      <td>173919.15</td>\n",
       "      <td>-17610811</td>\n",
       "      <td>296.83846</td>\n",
       "      <td>-1265.552800</td>\n",
       "      <td>-17498299</td>\n",
       "      <td>0</td>\n",
       "      <td>0</td>\n",
       "      <td>0</td>\n",
       "      <td>...</td>\n",
       "      <td>0.0</td>\n",
       "      <td>4.166760e+09</td>\n",
       "      <td>4.252177e+09</td>\n",
       "      <td>4.212696e+09</td>\n",
       "      <td>0.0</td>\n",
       "      <td>0.0</td>\n",
       "      <td>0.0</td>\n",
       "      <td>4.166760e+09</td>\n",
       "      <td>4.252177e+09</td>\n",
       "      <td>4.212696e+09</td>\n",
       "    </tr>\n",
       "    <tr>\n",
       "      <th>2</th>\n",
       "      <td>200</td>\n",
       "      <td>-17435881</td>\n",
       "      <td>174104.65</td>\n",
       "      <td>-17609986</td>\n",
       "      <td>297.15506</td>\n",
       "      <td>407.047810</td>\n",
       "      <td>-17416147</td>\n",
       "      <td>0</td>\n",
       "      <td>0</td>\n",
       "      <td>0</td>\n",
       "      <td>...</td>\n",
       "      <td>0.0</td>\n",
       "      <td>-1.140366e+09</td>\n",
       "      <td>-1.540987e+09</td>\n",
       "      <td>-1.378000e+09</td>\n",
       "      <td>0.0</td>\n",
       "      <td>0.0</td>\n",
       "      <td>0.0</td>\n",
       "      <td>-1.140366e+09</td>\n",
       "      <td>-1.540987e+09</td>\n",
       "      <td>-1.378000e+09</td>\n",
       "    </tr>\n",
       "    <tr>\n",
       "      <th>...</th>\n",
       "      <th>...</th>\n",
       "      <td>...</td>\n",
       "      <td>...</td>\n",
       "      <td>...</td>\n",
       "      <td>...</td>\n",
       "      <td>...</td>\n",
       "      <td>...</td>\n",
       "      <td>...</td>\n",
       "      <td>...</td>\n",
       "      <td>...</td>\n",
       "      <td>...</td>\n",
       "      <td>...</td>\n",
       "      <td>...</td>\n",
       "      <td>...</td>\n",
       "      <td>...</td>\n",
       "      <td>...</td>\n",
       "      <td>...</td>\n",
       "      <td>...</td>\n",
       "      <td>...</td>\n",
       "      <td>...</td>\n",
       "      <td>...</td>\n",
       "      <td>...</td>\n",
       "    </tr>\n",
       "    <tr>\n",
       "      <th rowspan=\"5\" valign=\"top\">LAMMPSEquilibrationNVT:ProcessAnalyzeAndVisualize:push_filepad</th>\n",
       "      <th>96</th>\n",
       "      <td>9600</td>\n",
       "      <td>-17436604</td>\n",
       "      <td>174611.25</td>\n",
       "      <td>-17611215</td>\n",
       "      <td>298.01971</td>\n",
       "      <td>6535.097000</td>\n",
       "      <td>-17120826</td>\n",
       "      <td>0</td>\n",
       "      <td>0</td>\n",
       "      <td>0</td>\n",
       "      <td>...</td>\n",
       "      <td>0.0</td>\n",
       "      <td>-2.154547e+10</td>\n",
       "      <td>-2.168218e+10</td>\n",
       "      <td>-2.172947e+10</td>\n",
       "      <td>0.0</td>\n",
       "      <td>0.0</td>\n",
       "      <td>0.0</td>\n",
       "      <td>-2.154547e+10</td>\n",
       "      <td>-2.168218e+10</td>\n",
       "      <td>-2.172947e+10</td>\n",
       "    </tr>\n",
       "    <tr>\n",
       "      <th>97</th>\n",
       "      <td>9700</td>\n",
       "      <td>-17436206</td>\n",
       "      <td>175294.01</td>\n",
       "      <td>-17611500</td>\n",
       "      <td>299.18502</td>\n",
       "      <td>6533.172500</td>\n",
       "      <td>-17120521</td>\n",
       "      <td>0</td>\n",
       "      <td>0</td>\n",
       "      <td>0</td>\n",
       "      <td>...</td>\n",
       "      <td>0.0</td>\n",
       "      <td>-2.154790e+10</td>\n",
       "      <td>-2.173132e+10</td>\n",
       "      <td>-2.165878e+10</td>\n",
       "      <td>0.0</td>\n",
       "      <td>0.0</td>\n",
       "      <td>0.0</td>\n",
       "      <td>-2.154790e+10</td>\n",
       "      <td>-2.173132e+10</td>\n",
       "      <td>-2.165878e+10</td>\n",
       "    </tr>\n",
       "    <tr>\n",
       "      <th>98</th>\n",
       "      <td>9800</td>\n",
       "      <td>-17436807</td>\n",
       "      <td>174626.83</td>\n",
       "      <td>-17611434</td>\n",
       "      <td>298.04630</td>\n",
       "      <td>6549.790300</td>\n",
       "      <td>-17120319</td>\n",
       "      <td>0</td>\n",
       "      <td>0</td>\n",
       "      <td>0</td>\n",
       "      <td>...</td>\n",
       "      <td>0.0</td>\n",
       "      <td>-2.165078e+10</td>\n",
       "      <td>-2.174104e+10</td>\n",
       "      <td>-2.171135e+10</td>\n",
       "      <td>0.0</td>\n",
       "      <td>0.0</td>\n",
       "      <td>0.0</td>\n",
       "      <td>-2.165078e+10</td>\n",
       "      <td>-2.174104e+10</td>\n",
       "      <td>-2.171135e+10</td>\n",
       "    </tr>\n",
       "    <tr>\n",
       "      <th>99</th>\n",
       "      <td>9900</td>\n",
       "      <td>-17436250</td>\n",
       "      <td>175241.34</td>\n",
       "      <td>-17611491</td>\n",
       "      <td>299.09513</td>\n",
       "      <td>6524.146600</td>\n",
       "      <td>-17121001</td>\n",
       "      <td>0</td>\n",
       "      <td>0</td>\n",
       "      <td>0</td>\n",
       "      <td>...</td>\n",
       "      <td>0.0</td>\n",
       "      <td>-2.164734e+10</td>\n",
       "      <td>-2.158387e+10</td>\n",
       "      <td>-2.161707e+10</td>\n",
       "      <td>0.0</td>\n",
       "      <td>0.0</td>\n",
       "      <td>0.0</td>\n",
       "      <td>-2.164734e+10</td>\n",
       "      <td>-2.158387e+10</td>\n",
       "      <td>-2.161707e+10</td>\n",
       "    </tr>\n",
       "    <tr>\n",
       "      <th>100</th>\n",
       "      <td>10000</td>\n",
       "      <td>-17437499</td>\n",
       "      <td>174259.64</td>\n",
       "      <td>-17611759</td>\n",
       "      <td>297.41960</td>\n",
       "      <td>6488.960200</td>\n",
       "      <td>-17123951</td>\n",
       "      <td>0</td>\n",
       "      <td>0</td>\n",
       "      <td>0</td>\n",
       "      <td>...</td>\n",
       "      <td>0.0</td>\n",
       "      <td>-2.160180e+10</td>\n",
       "      <td>-2.145748e+10</td>\n",
       "      <td>-2.143925e+10</td>\n",
       "      <td>0.0</td>\n",
       "      <td>0.0</td>\n",
       "      <td>0.0</td>\n",
       "      <td>-2.160180e+10</td>\n",
       "      <td>-2.145748e+10</td>\n",
       "      <td>-2.143925e+10</td>\n",
       "    </tr>\n",
       "  </tbody>\n",
       "</table>\n",
       "<p>206 rows × 47 columns</p>\n",
       "</div>"
      ],
      "text/plain": [
       "                                                         Step    TotEng  \\\n",
       "LAMMPSRelaxedBoxMinimization:ProcessAnalyzeAndV... 0        0 -17787064   \n",
       "                                                   1       15 -17787622   \n",
       "LAMMPSEquilibrationNPT:ProcessAnalyzeAndVisuali... 0        0 -17437499   \n",
       "                                                   1      100 -17436892   \n",
       "                                                   2      200 -17435881   \n",
       "...                                                       ...       ...   \n",
       "LAMMPSEquilibrationNVT:ProcessAnalyzeAndVisuali... 96    9600 -17436604   \n",
       "                                                   97    9700 -17436206   \n",
       "                                                   98    9800 -17436807   \n",
       "                                                   99    9900 -17436250   \n",
       "                                                   100  10000 -17437499   \n",
       "\n",
       "                                                           KinEng    PotEng  \\\n",
       "LAMMPSRelaxedBoxMinimization:ProcessAnalyzeAndV... 0         0.00 -17787064   \n",
       "                                                   1         0.00 -17787622   \n",
       "LAMMPSEquilibrationNPT:ProcessAnalyzeAndVisuali... 0    174259.64 -17611759   \n",
       "                                                   1    173919.15 -17610811   \n",
       "                                                   2    174104.65 -17609986   \n",
       "...                                                           ...       ...   \n",
       "LAMMPSEquilibrationNVT:ProcessAnalyzeAndVisuali... 96   174611.25 -17611215   \n",
       "                                                   97   175294.01 -17611500   \n",
       "                                                   98   174626.83 -17611434   \n",
       "                                                   99   175241.34 -17611491   \n",
       "                                                   100  174259.64 -17611759   \n",
       "\n",
       "                                                             Temp  \\\n",
       "LAMMPSRelaxedBoxMinimization:ProcessAnalyzeAndV... 0      0.00000   \n",
       "                                                   1      0.00000   \n",
       "LAMMPSEquilibrationNPT:ProcessAnalyzeAndVisuali... 0    297.41960   \n",
       "                                                   1    296.83846   \n",
       "                                                   2    297.15506   \n",
       "...                                                           ...   \n",
       "LAMMPSEquilibrationNVT:ProcessAnalyzeAndVisuali... 96   298.01971   \n",
       "                                                   97   299.18502   \n",
       "                                                   98   298.04630   \n",
       "                                                   99   299.09513   \n",
       "                                                   100  297.41960   \n",
       "\n",
       "                                                              Press  Enthalpy  \\\n",
       "LAMMPSRelaxedBoxMinimization:ProcessAnalyzeAndV... 0   -6381.756000 -18096545   \n",
       "                                                   1       0.995953 -17787573   \n",
       "LAMMPSEquilibrationNPT:ProcessAnalyzeAndVisuali... 0    6488.960200 -17123951   \n",
       "                                                   1   -1265.552800 -17498299   \n",
       "                                                   2     407.047810 -17416147   \n",
       "...                                                             ...       ...   \n",
       "LAMMPSEquilibrationNVT:ProcessAnalyzeAndVisuali... 96   6535.097000 -17120826   \n",
       "                                                   97   6533.172500 -17120521   \n",
       "                                                   98   6549.790300 -17120319   \n",
       "                                                   99   6524.146600 -17121001   \n",
       "                                                   100  6488.960200 -17123951   \n",
       "\n",
       "                                                        E_bond  E_angle  \\\n",
       "LAMMPSRelaxedBoxMinimization:ProcessAnalyzeAndV... 0         0        0   \n",
       "                                                   1         0        0   \n",
       "LAMMPSEquilibrationNPT:ProcessAnalyzeAndVisuali... 0         0        0   \n",
       "                                                   1         0        0   \n",
       "                                                   2         0        0   \n",
       "...                                                        ...      ...   \n",
       "LAMMPSEquilibrationNVT:ProcessAnalyzeAndVisuali... 96        0        0   \n",
       "                                                   97        0        0   \n",
       "                                                   98        0        0   \n",
       "                                                   99        0        0   \n",
       "                                                   100       0        0   \n",
       "\n",
       "                                                        E_dihed  ...  \\\n",
       "LAMMPSRelaxedBoxMinimization:ProcessAnalyzeAndV... 0          0  ...   \n",
       "                                                   1          0  ...   \n",
       "LAMMPSEquilibrationNPT:ProcessAnalyzeAndVisuali... 0          0  ...   \n",
       "                                                   1          0  ...   \n",
       "                                                   2          0  ...   \n",
       "...                                                         ...  ...   \n",
       "LAMMPSEquilibrationNVT:ProcessAnalyzeAndVisuali... 96         0  ...   \n",
       "                                                   97         0  ...   \n",
       "                                                   98         0  ...   \n",
       "                                                   99         0  ...   \n",
       "                                                   100        0  ...   \n",
       "\n",
       "                                                        c_solvent_stress[3]  \\\n",
       "LAMMPSRelaxedBoxMinimization:ProcessAnalyzeAndV... 0                    NaN   \n",
       "                                                   1                    NaN   \n",
       "LAMMPSEquilibrationNPT:ProcessAnalyzeAndVisuali... 0                    0.0   \n",
       "                                                   1                    0.0   \n",
       "                                                   2                    0.0   \n",
       "...                                                                     ...   \n",
       "LAMMPSEquilibrationNVT:ProcessAnalyzeAndVisuali... 96                   0.0   \n",
       "                                                   97                   0.0   \n",
       "                                                   98                   0.0   \n",
       "                                                   99                   0.0   \n",
       "                                                   100                  0.0   \n",
       "\n",
       "                                                        c_substrate_stress[1]  \\\n",
       "LAMMPSRelaxedBoxMinimization:ProcessAnalyzeAndV... 0                      NaN   \n",
       "                                                   1                      NaN   \n",
       "LAMMPSEquilibrationNPT:ProcessAnalyzeAndVisuali... 0            -2.160180e+10   \n",
       "                                                   1             4.166760e+09   \n",
       "                                                   2            -1.140366e+09   \n",
       "...                                                                       ...   \n",
       "LAMMPSEquilibrationNVT:ProcessAnalyzeAndVisuali... 96           -2.154547e+10   \n",
       "                                                   97           -2.154790e+10   \n",
       "                                                   98           -2.165078e+10   \n",
       "                                                   99           -2.164734e+10   \n",
       "                                                   100          -2.160180e+10   \n",
       "\n",
       "                                                        c_substrate_stress[2]  \\\n",
       "LAMMPSRelaxedBoxMinimization:ProcessAnalyzeAndV... 0                      NaN   \n",
       "                                                   1                      NaN   \n",
       "LAMMPSEquilibrationNPT:ProcessAnalyzeAndVisuali... 0            -2.145748e+10   \n",
       "                                                   1             4.252177e+09   \n",
       "                                                   2            -1.540987e+09   \n",
       "...                                                                       ...   \n",
       "LAMMPSEquilibrationNVT:ProcessAnalyzeAndVisuali... 96           -2.168218e+10   \n",
       "                                                   97           -2.173132e+10   \n",
       "                                                   98           -2.174104e+10   \n",
       "                                                   99           -2.158387e+10   \n",
       "                                                   100          -2.145748e+10   \n",
       "\n",
       "                                                        c_substrate_stress[3]  \\\n",
       "LAMMPSRelaxedBoxMinimization:ProcessAnalyzeAndV... 0                      NaN   \n",
       "                                                   1                      NaN   \n",
       "LAMMPSEquilibrationNPT:ProcessAnalyzeAndVisuali... 0            -2.143925e+10   \n",
       "                                                   1             4.212696e+09   \n",
       "                                                   2            -1.378000e+09   \n",
       "...                                                                       ...   \n",
       "LAMMPSEquilibrationNVT:ProcessAnalyzeAndVisuali... 96           -2.172947e+10   \n",
       "                                                   97           -2.165878e+10   \n",
       "                                                   98           -2.171135e+10   \n",
       "                                                   99           -2.161707e+10   \n",
       "                                                   100          -2.143925e+10   \n",
       "\n",
       "                                                        c_surfactant_stress[1]  \\\n",
       "LAMMPSRelaxedBoxMinimization:ProcessAnalyzeAndV... 0                       NaN   \n",
       "                                                   1                       NaN   \n",
       "LAMMPSEquilibrationNPT:ProcessAnalyzeAndVisuali... 0                       0.0   \n",
       "                                                   1                       0.0   \n",
       "                                                   2                       0.0   \n",
       "...                                                                        ...   \n",
       "LAMMPSEquilibrationNVT:ProcessAnalyzeAndVisuali... 96                      0.0   \n",
       "                                                   97                      0.0   \n",
       "                                                   98                      0.0   \n",
       "                                                   99                      0.0   \n",
       "                                                   100                     0.0   \n",
       "\n",
       "                                                        c_surfactant_stress[2]  \\\n",
       "LAMMPSRelaxedBoxMinimization:ProcessAnalyzeAndV... 0                       NaN   \n",
       "                                                   1                       NaN   \n",
       "LAMMPSEquilibrationNPT:ProcessAnalyzeAndVisuali... 0                       0.0   \n",
       "                                                   1                       0.0   \n",
       "                                                   2                       0.0   \n",
       "...                                                                        ...   \n",
       "LAMMPSEquilibrationNVT:ProcessAnalyzeAndVisuali... 96                      0.0   \n",
       "                                                   97                      0.0   \n",
       "                                                   98                      0.0   \n",
       "                                                   99                      0.0   \n",
       "                                                   100                     0.0   \n",
       "\n",
       "                                                        c_surfactant_stress[3]  \\\n",
       "LAMMPSRelaxedBoxMinimization:ProcessAnalyzeAndV... 0                       NaN   \n",
       "                                                   1                       NaN   \n",
       "LAMMPSEquilibrationNPT:ProcessAnalyzeAndVisuali... 0                       0.0   \n",
       "                                                   1                       0.0   \n",
       "                                                   2                       0.0   \n",
       "...                                                                        ...   \n",
       "LAMMPSEquilibrationNVT:ProcessAnalyzeAndVisuali... 96                      0.0   \n",
       "                                                   97                      0.0   \n",
       "                                                   98                      0.0   \n",
       "                                                   99                      0.0   \n",
       "                                                   100                     0.0   \n",
       "\n",
       "                                                        c_total_stress[1]  \\\n",
       "LAMMPSRelaxedBoxMinimization:ProcessAnalyzeAndV... 0                  NaN   \n",
       "                                                   1                  NaN   \n",
       "LAMMPSEquilibrationNPT:ProcessAnalyzeAndVisuali... 0        -2.160180e+10   \n",
       "                                                   1         4.166760e+09   \n",
       "                                                   2        -1.140366e+09   \n",
       "...                                                                   ...   \n",
       "LAMMPSEquilibrationNVT:ProcessAnalyzeAndVisuali... 96       -2.154547e+10   \n",
       "                                                   97       -2.154790e+10   \n",
       "                                                   98       -2.165078e+10   \n",
       "                                                   99       -2.164734e+10   \n",
       "                                                   100      -2.160180e+10   \n",
       "\n",
       "                                                        c_total_stress[2]  \\\n",
       "LAMMPSRelaxedBoxMinimization:ProcessAnalyzeAndV... 0                  NaN   \n",
       "                                                   1                  NaN   \n",
       "LAMMPSEquilibrationNPT:ProcessAnalyzeAndVisuali... 0        -2.145748e+10   \n",
       "                                                   1         4.252177e+09   \n",
       "                                                   2        -1.540987e+09   \n",
       "...                                                                   ...   \n",
       "LAMMPSEquilibrationNVT:ProcessAnalyzeAndVisuali... 96       -2.168218e+10   \n",
       "                                                   97       -2.173132e+10   \n",
       "                                                   98       -2.174104e+10   \n",
       "                                                   99       -2.158387e+10   \n",
       "                                                   100      -2.145748e+10   \n",
       "\n",
       "                                                        c_total_stress[3]  \n",
       "LAMMPSRelaxedBoxMinimization:ProcessAnalyzeAndV... 0                  NaN  \n",
       "                                                   1                  NaN  \n",
       "LAMMPSEquilibrationNPT:ProcessAnalyzeAndVisuali... 0        -2.143925e+10  \n",
       "                                                   1         4.212696e+09  \n",
       "                                                   2        -1.378000e+09  \n",
       "...                                                                   ...  \n",
       "LAMMPSEquilibrationNVT:ProcessAnalyzeAndVisuali... 96       -2.172947e+10  \n",
       "                                                   97       -2.165878e+10  \n",
       "                                                   98       -2.171135e+10  \n",
       "                                                   99       -2.161707e+10  \n",
       "                                                   100      -2.143925e+10  \n",
       "\n",
       "[206 rows x 47 columns]"
      ]
     },
     "execution_count": 124,
     "metadata": {},
     "output_type": "execute_result"
    }
   ],
   "source": [
    "res_df"
   ]
  },
  {
   "cell_type": "code",
   "execution_count": 125,
   "metadata": {
    "ExecuteTime": {
     "end_time": "2020-08-25T15:22:29.485378Z",
     "start_time": "2020-08-25T15:22:29.128275Z"
    }
   },
   "outputs": [],
   "source": [
    "eq_df = res_df.loc[\n",
    "    [\n",
    "        \"LAMMPSEquilibrationNPT:ProcessAnalyzeAndVisualize:push_filepad\", \n",
    "        \"LAMMPSEquilibrationNVT:ProcessAnalyzeAndVisualize:push_filepad\"]]"
   ]
  },
  {
   "cell_type": "code",
   "execution_count": 126,
   "metadata": {
    "ExecuteTime": {
     "end_time": "2020-08-25T15:22:35.714294Z",
     "start_time": "2020-08-25T15:22:29.991954Z"
    }
   },
   "outputs": [
    {
     "data": {
      "image/png": "[encoded data removed]",
      "text/plain": [
       "<Figure size 1440x1440 with 15 Axes>"
      ]
     },
     "metadata": {
      "needs_background": "light"
     },
     "output_type": "display_data"
    }
   ],
   "source": [
    "for i, step in enumerate(set(eq_df.index.get_level_values(0))):\n",
    "    if i == 0:\n",
    "        fig, ax = plotThermo(eq_df.loc[step], legend=step)\n",
    "    else:\n",
    "        fig, ax = plotThermo(eq_df.loc[step], axes=ax, legend=step)"
   ]
  },
  {
   "cell_type": "markdown",
   "metadata": {},
   "source": [
    "### RDFs"
   ]
  },
  {
   "cell_type": "code",
   "execution_count": 127,
   "metadata": {
    "ExecuteTime": {
     "end_time": "2020-08-25T15:24:13.082705Z",
     "start_time": "2020-08-25T15:24:12.955480Z"
    }
   },
   "outputs": [],
   "source": [
    "query = {\n",
    "    'metadata.project': project_id,\n",
    "    'metadata.type': 'rdf_file',\n",
    "    'metadata.step': {'$regex':'Equilibration'}\n",
    "}"
   ]
  },
  {
   "cell_type": "code",
   "execution_count": 142,
   "metadata": {
    "ExecuteTime": {
     "end_time": "2020-08-25T15:34:24.807091Z",
     "start_time": "2020-08-25T15:34:23.209011Z"
    }
   },
   "outputs": [
    {
     "name": "stdout",
     "output_type": "stream",
     "text": [
      "..\n"
     ]
    }
   ],
   "source": [
    "res_list = []\n",
    "\n",
    "aggregation_pipeline = [\n",
    "    {\n",
    "        \"$match\": query\n",
    "    },\n",
    "    {\n",
    "        \"$sort\": { \n",
    "            \"metadata.datetime\": pymongo.DESCENDING,\n",
    "        }\n",
    "    },\n",
    "    { \n",
    "        \"$group\": { \n",
    "            \"_id\": { \n",
    "                'type': '$metadata.type',\n",
    "                'step': '$metadata.step',\n",
    "            },\n",
    "            \"degeneracy\": {\"$sum\": 1}, # number matching data sets\n",
    "            \"latest\":     {\"$first\": \"$gfs_id\"} # unique gridfs id of file\n",
    "        }\n",
    "    },\n",
    "]\n",
    "\n",
    "cursor = fp.filepad.aggregate(aggregation_pipeline)\n",
    "\n",
    "legends = []\n",
    "rdf_data = []\n",
    "legend_pattern = \"{step:s}\"\n",
    "\n",
    "for i, c in enumerate(cursor): \n",
    "    content, metadata = fp.get_file_by_id(c[\"latest\"])\n",
    "    legends.append(legend_pattern.format(step=metadata[\"metadata\"][\"step\"]))\n",
    "    contStream = io.StringIO(content.decode())\n",
    "    rdf_data.append(np.loadtxt(contStream).T)\n",
    "    print('.',end='')\n",
    "print('')"
   ]
  },
  {
   "cell_type": "code",
   "execution_count": 154,
   "metadata": {
    "ExecuteTime": {
     "end_time": "2020-08-25T15:42:39.897832Z",
     "start_time": "2020-08-25T15:42:38.406656Z"
    }
   },
   "outputs": [
    {
     "data": {
      "text/plain": [
       "<matplotlib.legend.Legend at 0x7f5ec1e9a6a0>"
      ]
     },
     "execution_count": 154,
     "metadata": {},
     "output_type": "execute_result"
    },
    {
     "data": {
      "image/png": "[encoded data removed]",
      "text/plain": [
       "<Figure size 576x360 with 1 Axes>"
      ]
     },
     "metadata": {
      "needs_background": "light"
     },
     "output_type": "display_data"
    }
   ],
   "source": [
    "fig, ax = plt.subplots(1,1)\n",
    "linecycler = cycle(LINE_STYLES)\n",
    "for l, d in zip(legends, rdf_data):\n",
    "    ax.plot(d[0], d[1], next(linecycler), label=l)\n",
    "ax.legend()"
   ]
  },
  {
   "cell_type": "markdown",
   "metadata": {},
   "source": [
    "### Datafile"
   ]
  },
  {
   "cell_type": "code",
   "execution_count": 159,
   "metadata": {
    "ExecuteTime": {
     "end_time": "2020-08-25T16:15:02.056077Z",
     "start_time": "2020-08-25T16:15:01.986834Z"
    }
   },
   "outputs": [],
   "source": [
    "query = {\n",
    "    'metadata.project': project_id,\n",
    "    'metadata.type': 'data_file',\n",
    "    'metadata.step': {'$regex':'EquilibrationNPT'}\n",
    "}"
   ]
  },
  {
   "cell_type": "code",
   "execution_count": 170,
   "metadata": {
    "ExecuteTime": {
     "end_time": "2020-08-25T16:23:16.180502Z",
     "start_time": "2020-08-25T16:23:16.084206Z"
    }
   },
   "outputs": [
    {
     "name": "stdout",
     "output_type": "stream",
     "text": [
      "#files: 1\n"
     ]
    }
   ],
   "source": [
    "res_list = []\n",
    "\n",
    "aggregation_pipeline = [\n",
    "    {\n",
    "        \"$match\": query\n",
    "    },\n",
    "    {\n",
    "        \"$sort\": { \n",
    "            \"metadata.datetime\": pymongo.DESCENDING,\n",
    "        }\n",
    "    },\n",
    "    { \n",
    "        \"$group\": { \n",
    "            \"_id\": { \n",
    "                'type': '$metadata.type',\n",
    "                'step': '$metadata.step',\n",
    "            },\n",
    "            \"degeneracy\": {\"$sum\": 1}, # number matching data sets\n",
    "            \"latest\":     {\"$first\": \"$gfs_id\"} # unique gridfs id of file\n",
    "        }\n",
    "    },\n",
    "]\n",
    "\n",
    "cursor = fp.filepad.aggregate(aggregation_pipeline)\n",
    "dat = list(cursor)\n",
    "print(\"#files: {}\".format(len(dat)))"
   ]
  },
  {
   "cell_type": "code",
   "execution_count": 173,
   "metadata": {
    "ExecuteTime": {
     "end_time": "2020-08-25T16:23:53.696174Z",
     "start_time": "2020-08-25T16:23:53.653095Z"
    }
   },
   "outputs": [
    {
     "data": {
      "text/plain": [
       "[{'_id': {'type': 'data_file',\n",
       "   'step': 'LAMMPSEquilibrationNPT:ProcessAnalyzeAndVisualize:push_filepad'},\n",
       "  'degeneracy': 1,\n",
       "  'latest': '5f443e5737559b23a31fbdfc'}]"
      ]
     },
     "execution_count": 173,
     "metadata": {},
     "output_type": "execute_result"
    }
   ],
   "source": [
    "dat"
   ]
  },
  {
   "cell_type": "code",
   "execution_count": 174,
   "metadata": {
    "ExecuteTime": {
     "end_time": "2020-08-25T16:24:05.719023Z",
     "start_time": "2020-08-25T16:24:01.627160Z"
    }
   },
   "outputs": [],
   "source": [
    "content, metadata = fp.get_file_by_id(dat[0][\"latest\"])"
   ]
  },
  {
   "cell_type": "code",
   "execution_count": 191,
   "metadata": {
    "ExecuteTime": {
     "end_time": "2020-08-25T16:44:57.942889Z",
     "start_time": "2020-08-25T16:42:03.019386Z"
    }
   },
   "outputs": [
    {
     "name": "stdout",
     "output_type": "stream",
     "text": [
      "/mnt/dat/work/git/N_surfactant_on_substrate_template/ipynb/subst/tmpq_3rn4to.lammps\n",
      "/mnt/dat/work/git/N_surfactant_on_substrate_template/ipynb/subst\n",
      "tmpq_3rn4to.lammps\n"
     ]
    },
    {
     "data": {
      "text/html": [
       "<a href='tmpq_3rn4to.lammps' target='_blank'>tmpq_3rn4to.lammps</a><br>"
      ],
      "text/plain": [
       "/mnt/dat/work/git/N_surfactant_on_substrate_template/ipynb/subst/tmpq_3rn4to.lammps"
      ]
     },
     "metadata": {},
     "output_type": "display_data"
    },
    {
     "name": "stdout",
     "output_type": "stream",
     "text": [
      "Press enter to delete the file after you have downloaded it.\n"
     ]
    }
   ],
   "source": [
    "with tempfile.NamedTemporaryFile(mode='w+b', suffix='.lammps', dir=os.curdir) as fp:\n",
    "    fp.write(content)\n",
    "    full_name = fp.name\n",
    "    prefix = os.getcwd()\n",
    "    relative_name = os.path.relpath(full_name, prefix)\n",
    "    display(FileLink(relative_name))\n",
    "    input('Press enter to delete the file after you have downloaded it.')"
   ]
  },
  {
   "cell_type": "code",
   "execution_count": 193,
   "metadata": {
    "ExecuteTime": {
     "end_time": "2020-08-25T16:48:03.076181Z",
     "start_time": "2020-08-25T16:48:02.995122Z"
    }
   },
   "outputs": [],
   "source": [
    "import ase.io"
   ]
  },
  {
   "cell_type": "code",
   "execution_count": 205,
   "metadata": {
    "ExecuteTime": {
     "end_time": "2020-08-25T16:53:07.185569Z",
     "start_time": "2020-08-25T16:53:06.727713Z"
    }
   },
   "outputs": [],
   "source": [
    "stream = io.StringIO(content.decode())"
   ]
  },
  {
   "cell_type": "code",
   "execution_count": 202,
   "metadata": {
    "ExecuteTime": {
     "end_time": "2020-08-25T16:52:26.915270Z",
     "start_time": "2020-08-25T16:52:19.629911Z"
    }
   },
   "outputs": [],
   "source": [
    "lmp_data = ase.io.read(stream, format='lammps-data', )"
   ]
  },
  {
   "cell_type": "code",
   "execution_count": 204,
   "metadata": {
    "ExecuteTime": {
     "end_time": "2020-08-25T16:52:43.326664Z",
     "start_time": "2020-08-25T16:52:43.017585Z"
    }
   },
   "outputs": [
    {
     "data": {
      "text/plain": [
       "Atoms(symbols='Na196560', pbc=True, cell=[149.8554557643805, 149.698841578054, 148.2229580276152], id=..., initial_charges=..., masses=..., mmcharges=..., mol-id=..., momenta=..., travel=..., type=...)"
      ]
     },
     "execution_count": 204,
     "metadata": {},
     "output_type": "execute_result"
    }
   ],
   "source": [
    "lmp_data"
   ]
  },
  {
   "cell_type": "code",
   "execution_count": 212,
   "metadata": {
    "ExecuteTime": {
     "end_time": "2020-08-25T16:58:09.505570Z",
     "start_time": "2020-08-25T16:58:09.424010Z"
    }
   },
   "outputs": [],
   "source": [
    "type_mapping = {11: ase.data.atomic_numbers['Au']}"
   ]
  },
  {
   "cell_type": "code",
   "execution_count": 213,
   "metadata": {
    "ExecuteTime": {
     "end_time": "2020-08-25T16:58:32.555239Z",
     "start_time": "2020-08-25T16:58:26.009758Z"
    }
   },
   "outputs": [],
   "source": [
    " lmp_data = ase.io.lammpsdata.read_lammps_data(stream, Z_of_type=type_mapping, style='full', sort_by_id=False, units='real')"
   ]
  },
  {
   "cell_type": "code",
   "execution_count": 214,
   "metadata": {
    "ExecuteTime": {
     "end_time": "2020-08-25T16:58:48.851371Z",
     "start_time": "2020-08-25T16:58:48.495706Z"
    }
   },
   "outputs": [
    {
     "data": {
      "text/plain": [
       "Atoms(symbols='Au196560', pbc=True, cell=[149.8554557643805, 149.698841578054, 148.2229580276152], id=..., initial_charges=..., masses=..., mmcharges=..., mol-id=..., momenta=..., travel=..., type=...)"
      ]
     },
     "execution_count": 214,
     "metadata": {},
     "output_type": "execute_result"
    }
   ],
   "source": [
    "lmp_data"
   ]
  },
  {
   "cell_type": "code",
   "execution_count": 218,
   "metadata": {
    "ExecuteTime": {
     "end_time": "2020-08-25T16:59:42.963583Z",
     "start_time": "2020-08-25T16:59:36.659692Z"
    }
   },
   "outputs": [],
   "source": [
    "ase.visualize.view(lmp_data)"
   ]
  },
  {
   "cell_type": "code",
   "execution_count": 224,
   "metadata": {
    "ExecuteTime": {
     "end_time": "2020-08-25T17:03:47.379839Z",
     "start_time": "2020-08-25T17:03:47.183293Z"
    }
   },
   "outputs": [
    {
     "data": {
      "text/plain": [
       "array([149.85545576, 149.69884158, 148.22295803])"
      ]
     },
     "execution_count": 224,
     "metadata": {},
     "output_type": "execute_result"
    }
   ],
   "source": [
    "lmp_data.cell.lengths()"
   ]
  },
  {
   "cell_type": "code",
   "execution_count": 229,
   "metadata": {
    "ExecuteTime": {
     "end_time": "2020-08-25T17:17:00.961331Z",
     "start_time": "2020-08-25T17:17:00.906424Z"
    }
   },
   "outputs": [
    {
     "data": {
      "text/plain": [
       "array([0., 0., 0.])"
      ]
     },
     "execution_count": 229,
     "metadata": {},
     "output_type": "execute_result"
    }
   ],
   "source": [
    "lmp_data.cell.min(axis=1)"
   ]
  },
  {
   "cell_type": "code",
   "execution_count": 231,
   "metadata": {
    "ExecuteTime": {
     "end_time": "2020-08-25T17:44:56.197980Z",
     "start_time": "2020-08-25T17:42:08.669270Z"
    }
   },
   "outputs": [
    {
     "data": {
      "text/html": [
       "<a href='tmpe_maj3t2.pdb' target='_blank'>tmpe_maj3t2.pdb</a><br>"
      ],
      "text/plain": [
       "/mnt/dat/work/git/N_surfactant_on_substrate_template/ipynb/subst/tmpe_maj3t2.pdb"
      ]
     },
     "metadata": {},
     "output_type": "display_data"
    },
    {
     "name": "stdout",
     "output_type": "stream",
     "text": [
      "Press enter to delete the file after you have downloaded it.\n"
     ]
    }
   ],
   "source": [
    "with tempfile.NamedTemporaryFile(mode='w+b', suffix='.pdb', dir=os.path.curdir) as fp:\n",
    "    full_name = fp.name\n",
    "    ase.io.write(full_name, lmp_data, format=\"proteindatabank\")\n",
    "    prefix = os.getcwd()\n",
    "    relative_name = os.path.relpath(full_name, prefix)\n",
    "    display(FileLink(relative_name))\n",
    "    input('Press enter to delete the file after you have downloaded it.')\n",
    "# not ideal, looks like this:\n",
    "# CRYST1  149.855  149.699  148.223  90.00  90.00  90.00 P 1\n",
    "# MODEL     1\n",
    "# ATOM      1   Au MOL     1     -71.122 -72.732 -70.656  1.00  0.00          AU  \n",
    "# ATOM      2   Au MOL     1     -68.356 -72.732 -70.404  1.00  0.00          AU  \n",
    "# ATOM      3   Au MOL     1     -72.567 -70.102 -70.545  1.00  0.00          AU  \n",
    "# ATOM      4   Au MOL     1     -69.726 -70.198 -70.536  1.00  0.00          AU  "
   ]
  },
  {
   "cell_type": "code",
   "execution_count": 232,
   "metadata": {
    "ExecuteTime": {
     "end_time": "2020-08-25T17:46:00.161617Z",
     "start_time": "2020-08-25T17:45:53.671412Z"
    }
   },
   "outputs": [],
   "source": [
    "import parmed as pmd"
   ]
  },
  {
   "cell_type": "code",
   "execution_count": 233,
   "metadata": {
    "ExecuteTime": {
     "end_time": "2020-08-25T17:54:55.653408Z",
     "start_time": "2020-08-25T17:48:30.025597Z"
    }
   },
   "outputs": [
    {
     "data": {
      "text/html": [
       "<a href='tmp29tc83rg.xyz' target='_blank'>tmp29tc83rg.xyz</a><br>"
      ],
      "text/plain": [
       "/mnt/dat/work/git/N_surfactant_on_substrate_template/ipynb/subst/tmp29tc83rg.xyz"
      ]
     },
     "metadata": {},
     "output_type": "display_data"
    },
    {
     "name": "stdout",
     "output_type": "stream",
     "text": [
      "Press enter to delete the file after you have downloaded it.\n"
     ]
    }
   ],
   "source": [
    "with tempfile.NamedTemporaryFile(mode='w+b', suffix='.xyz', dir=os.path.curdir) as fp:\n",
    "    full_name = fp.name\n",
    "    ase.io.write(full_name, lmp_data, format=\"xyz\")\n",
    "    prefix = os.getcwd()\n",
    "    relative_name = os.path.relpath(full_name, prefix)\n",
    "    display(FileLink(relative_name))\n",
    "    input('Press enter to delete the file after you have downloaded it.')"
   ]
  },
  {
   "cell_type": "code",
   "execution_count": 235,
   "metadata": {
    "ExecuteTime": {
     "end_time": "2020-08-25T17:55:20.512774Z",
     "start_time": "2020-08-25T17:55:20.400451Z"
    }
   },
   "outputs": [],
   "source": [
    "import MDAnalysis\n",
    "import MDAnalysis.coordinates"
   ]
  },
  {
   "cell_type": "code",
   "execution_count": 231,
   "metadata": {
    "ExecuteTime": {
     "end_time": "2020-08-25T17:44:56.197980Z",
     "start_time": "2020-08-25T17:42:08.669270Z"
    }
   },
   "outputs": [
    {
     "data": {
      "text/html": [
       "<a href='tmpe_maj3t2.pdb' target='_blank'>tmpe_maj3t2.pdb</a><br>"
      ],
      "text/plain": [
       "/mnt/dat/work/git/N_surfactant_on_substrate_template/ipynb/subst/tmpe_maj3t2.pdb"
      ]
     },
     "metadata": {},
     "output_type": "display_data"
    },
    {
     "name": "stdout",
     "output_type": "stream",
     "text": [
      "Press enter to delete the file after you have downloaded it.\n"
     ]
    }
   ],
   "source": [
    "with tempfile.NamedTemporaryFile(mode='w+b', suffix='.pdb', dir=os.path.curdir) as fp:\n",
    "    full_name = fp.name\n",
    "    ase.io.write(full_name, lmp_data, format=\"proteindatabank\")\n",
    "    prefix = os.getcwd()\n",
    "    relative_name = os.path.relpath(full_name, prefix)\n",
    "    display(FileLink(relative_name))\n",
    "    input('Press enter to delete the file after you have downloaded it.')\n",
    "# not ideal, looks like this:\n",
    "# CRYST1  149.855  149.699  148.223  90.00  90.00  90.00 P 1\n",
    "# MODEL     1\n",
    "# ATOM      1   Au MOL     1     -71.122 -72.732 -70.656  1.00  0.00          AU  \n",
    "# ATOM      2   Au MOL     1     -68.356 -72.732 -70.404  1.00  0.00          AU  \n",
    "# ATOM      3   Au MOL     1     -72.567 -70.102 -70.545  1.00  0.00          AU  \n",
    "# ATOM      4   Au MOL     1     -69.726 -70.198 -70.536  1.00  0.00          AU  "
   ]
  },
  {
   "cell_type": "code",
   "execution_count": 239,
   "metadata": {
    "ExecuteTime": {
     "end_time": "2020-08-25T18:02:19.469621Z",
     "start_time": "2020-08-25T18:02:19.026784Z"
    }
   },
   "outputs": [],
   "source": [
    "n_atoms = len(lmp_data)"
   ]
  },
  {
   "cell_type": "code",
   "execution_count": 244,
   "metadata": {
    "ExecuteTime": {
     "end_time": "2020-08-25T18:04:22.988509Z",
     "start_time": "2020-08-25T18:04:22.723818Z"
    }
   },
   "outputs": [
    {
     "data": {
      "text/plain": [
       "36927074"
      ]
     },
     "execution_count": 244,
     "metadata": {},
     "output_type": "execute_result"
    }
   ],
   "source": [
    "len(content)"
   ]
  },
  {
   "cell_type": "code",
   "execution_count": 240,
   "metadata": {
    "ExecuteTime": {
     "end_time": "2020-08-25T18:02:22.210065Z",
     "start_time": "2020-08-25T18:02:22.155527Z"
    }
   },
   "outputs": [
    {
     "data": {
      "text/plain": [
       "196560"
      ]
     },
     "execution_count": 240,
     "metadata": {},
     "output_type": "execute_result"
    }
   ],
   "source": [
    "n_atoms"
   ]
  },
  {
   "cell_type": "code",
   "execution_count": 248,
   "metadata": {
    "ExecuteTime": {
     "end_time": "2020-08-25T18:06:52.626454Z",
     "start_time": "2020-08-25T18:06:51.434554Z"
    }
   },
   "outputs": [
    {
     "name": "stderr",
     "output_type": "stream",
     "text": [
      "/usr/local/lib/python3.8/dist-packages/MDAnalysis/core/universe.py:467: UserWarning: Residues specified but no atom_resindex given.  All atoms will be placed in first Residue.\n",
      "  warnings.warn(\n",
      "/usr/local/lib/python3.8/dist-packages/MDAnalysis/core/universe.py:473: UserWarning: Segments specified but no segment_resindex given.  All residues will be placed in first Segment\n",
      "  warnings.warn(\n"
     ]
    }
   ],
   "source": [
    "mda_data = MDAnalysis.Universe.empty(n_atoms)"
   ]
  },
  {
   "cell_type": "code",
   "execution_count": 249,
   "metadata": {
    "ExecuteTime": {
     "end_time": "2020-08-25T18:07:04.051899Z",
     "start_time": "2020-08-25T18:07:03.889861Z"
    }
   },
   "outputs": [
    {
     "data": {
      "text/plain": [
       "<Universe with 196560 atoms>"
      ]
     },
     "execution_count": 249,
     "metadata": {},
     "output_type": "execute_result"
    }
   ],
   "source": [
    "mda_data."
   ]
  },
  {
   "cell_type": "code",
   "execution_count": 267,
   "metadata": {
    "ExecuteTime": {
     "end_time": "2020-08-25T18:18:28.656012Z",
     "start_time": "2020-08-25T18:18:24.885864Z"
    }
   },
   "outputs": [
    {
     "ename": "NotImplementedError",
     "evalue": "Sorry, there is no Writer for this format in MDAnalysis. Please file an enhancement request at https://github.com/MDAnalysis/mdanalysis/issues",
     "output_type": "error",
     "traceback": [
      "\u001b[0;31m---------------------------------------------------------------------------\u001b[0m",
      "\u001b[0;31mNotImplementedError\u001b[0m                       Traceback (most recent call last)",
      "\u001b[0;32m<ipython-input-267-a67a05bd1c6a>\u001b[0m in \u001b[0;36m<module>\u001b[0;34m\u001b[0m\n\u001b[1;32m      5\u001b[0m     \u001b[0mlmp_data_reader\u001b[0m \u001b[0;34m=\u001b[0m \u001b[0mMDAnalysis\u001b[0m\u001b[0;34m.\u001b[0m\u001b[0mcoordinates\u001b[0m\u001b[0;34m.\u001b[0m\u001b[0mLAMMPS\u001b[0m\u001b[0;34m.\u001b[0m\u001b[0mDATAReader\u001b[0m\u001b[0;34m(\u001b[0m\u001b[0mfull_name\u001b[0m\u001b[0;34m,\u001b[0m \u001b[0mn_atoms\u001b[0m\u001b[0;34m=\u001b[0m\u001b[0mn_atoms\u001b[0m\u001b[0;34m)\u001b[0m\u001b[0;34m\u001b[0m\u001b[0;34m\u001b[0m\u001b[0m\n\u001b[1;32m      6\u001b[0m     \u001b[0;31m#print(lmp_data_reader.atom_style)\u001b[0m\u001b[0;34m\u001b[0m\u001b[0;34m\u001b[0m\u001b[0;34m\u001b[0m\u001b[0m\n\u001b[0;32m----> 7\u001b[0;31m     \u001b[0mlmp_data_writer\u001b[0m \u001b[0;34m=\u001b[0m \u001b[0mlmp_data_reader\u001b[0m\u001b[0;34m.\u001b[0m\u001b[0mWriter\u001b[0m\u001b[0;34m(\u001b[0m\u001b[0mfout\u001b[0m\u001b[0;34m.\u001b[0m\u001b[0mname\u001b[0m\u001b[0;34m)\u001b[0m\u001b[0;34m\u001b[0m\u001b[0;34m\u001b[0m\u001b[0m\n\u001b[0m",
      "\u001b[0;32m/usr/local/lib/python3.8/dist-packages/MDAnalysis/coordinates/base.py\u001b[0m in \u001b[0;36mWriter\u001b[0;34m(self, filename, **kwargs)\u001b[0m\n\u001b[1;32m   1509\u001b[0m     \u001b[0;32mdef\u001b[0m \u001b[0mWriter\u001b[0m\u001b[0;34m(\u001b[0m\u001b[0mself\u001b[0m\u001b[0;34m,\u001b[0m \u001b[0mfilename\u001b[0m\u001b[0;34m,\u001b[0m \u001b[0;34m**\u001b[0m\u001b[0mkwargs\u001b[0m\u001b[0;34m)\u001b[0m\u001b[0;34m:\u001b[0m\u001b[0;34m\u001b[0m\u001b[0;34m\u001b[0m\u001b[0m\n\u001b[1;32m   1510\u001b[0m         \u001b[0;34m\"\"\"A trajectory writer with the same properties as this trajectory.\"\"\"\u001b[0m\u001b[0;34m\u001b[0m\u001b[0;34m\u001b[0m\u001b[0m\n\u001b[0;32m-> 1511\u001b[0;31m         raise NotImplementedError(\n\u001b[0m\u001b[1;32m   1512\u001b[0m             \u001b[0;34m\"Sorry, there is no Writer for this format in MDAnalysis. \"\u001b[0m\u001b[0;34m\u001b[0m\u001b[0;34m\u001b[0m\u001b[0m\n\u001b[1;32m   1513\u001b[0m             \u001b[0;34m\"Please file an enhancement request at \"\u001b[0m\u001b[0;34m\u001b[0m\u001b[0;34m\u001b[0m\u001b[0m\n",
      "\u001b[0;31mNotImplementedError\u001b[0m: Sorry, there is no Writer for this format in MDAnalysis. Please file an enhancement request at https://github.com/MDAnalysis/mdanalysis/issues"
     ]
    }
   ],
   "source": [
    "with tempfile.NamedTemporaryFile(mode='w+b', suffix='.lammps', dir=os.curdir) as fin, \\\n",
    "        tempfile.NamedTemporaryFile(mode='w+b', suffix='.pdb', dir=os.curdir) as fout:\n",
    "    fin.write(content)\n",
    "    full_name = fin.name\n",
    "    lmp_data_reader = MDAnalysis.coordinates.LAMMPS.DATAReader(full_name, n_atoms=n_atoms)\n",
    "    #print(lmp_data_reader.atom_style)\n",
    "    lmp_data_writer = lmp_data_reader.Writer(fout.name, format='XYZ')"
   ]
  },
  {
   "cell_type": "code",
   "execution_count": 255,
   "metadata": {
    "ExecuteTime": {
     "end_time": "2020-08-25T18:10:38.221851Z",
     "start_time": "2020-08-25T18:10:38.087180Z"
    }
   },
   "outputs": [
    {
     "data": {
      "text/plain": [
       "MDAnalysis.coordinates.LAMMPS.DATAReader"
      ]
     },
     "execution_count": 255,
     "metadata": {},
     "output_type": "execute_result"
    }
   ],
   "source": [
    "type(lmp_data_reader)"
   ]
  },
  {
   "cell_type": "code",
   "execution_count": 270,
   "metadata": {
    "ExecuteTime": {
     "end_time": "2020-08-25T18:26:06.736260Z",
     "start_time": "2020-08-25T18:26:06.635795Z"
    }
   },
   "outputs": [],
   "source": []
  },
  {
   "cell_type": "code",
   "execution_count": 280,
   "metadata": {
    "ExecuteTime": {
     "end_time": "2020-08-25T18:37:15.231811Z",
     "start_time": "2020-08-25T18:36:57.207344Z"
    }
   },
   "outputs": [],
   "source": [
    "pmd_data = pmd.Structure()\n",
    "for i in range(n_atoms):\n",
    "    atom = pmd.Atom(atomic_number=ase.data.atomic_numbers['Au'], name='AU')\n",
    "    pmd_data.add_atom(atom,'AUM', i)"
   ]
  },
  {
   "cell_type": "code",
   "execution_count": 301,
   "metadata": {
    "ExecuteTime": {
     "end_time": "2020-08-26T12:15:15.450458Z",
     "start_time": "2020-08-26T12:15:15.312946Z"
    }
   },
   "outputs": [
    {
     "data": {
      "text/plain": [
       "Atom('Au', [-64.06077773842748, 4.617942696840693, 70.61066619257792], momentum=[-1.4526608723606844, -1.1238911487038927, -1.3004274639222653], mass=196.96700005066864, charge=0.0, index=24504)"
      ]
     },
     "execution_count": 301,
     "metadata": {},
     "output_type": "execute_result"
    }
   ],
   "source": [
    "a"
   ]
  },
  {
   "cell_type": "code",
   "execution_count": 281,
   "metadata": {
    "ExecuteTime": {
     "end_time": "2020-08-25T18:37:18.680259Z",
     "start_time": "2020-08-25T18:37:17.676467Z"
    }
   },
   "outputs": [],
   "source": [
    "pmd_data.coordinates = lmp_data.get_positions()"
   ]
  },
  {
   "cell_type": "code",
   "execution_count": null,
   "metadata": {
    "ExecuteTime": {
     "start_time": "2020-08-25T18:39:16.372Z"
    }
   },
   "outputs": [
    {
     "data": {
      "text/html": [
       "<a href='tmp1zllvr3m.pdb' target='_blank'>tmp1zllvr3m.pdb</a><br>"
      ],
      "text/plain": [
       "/mnt/dat/work/git/N_surfactant_on_substrate_template/ipynb/subst/tmp1zllvr3m.pdb"
      ]
     },
     "metadata": {},
     "output_type": "display_data"
    },
    {
     "name": "stdout",
     "output_type": "stream",
     "text": [
      "Press enter to delete the file after you have downloaded it.\n"
     ]
    }
   ],
   "source": [
    "with tempfile.NamedTemporaryFile(mode='w+b', suffix='.pdb', dir=os.path.curdir) as fp:\n",
    "    full_name = fp.name\n",
    "    pmd_data.write_pdb(full_name)\n",
    "    prefix = os.getcwd()\n",
    "    relative_name = os.path.relpath(full_name, prefix)\n",
    "    display(FileLink(relative_name))\n",
    "    input('Press enter to delete the file after you have downloaded it.')"
   ]
  },
  {
   "cell_type": "code",
   "execution_count": null,
   "metadata": {},
   "outputs": [],
   "source": []
  }
 ],
 "metadata": {
  "hide_input": false,
  "kernelspec": {
   "display_name": "Python 3",
   "language": "python",
   "name": "python3"
  },
  "language_info": {
   "codemirror_mode": {
    "name": "ipython",
    "version": 3
   },
   "file_extension": ".py",
   "mimetype": "text/x-python",
   "name": "python",
   "nbconvert_exporter": "python",
   "pygments_lexer": "ipython3",
   "version": "3.8.2"
  },
  "latex_envs": {
   "LaTeX_envs_menu_present": true,
   "autoclose": false,
   "autocomplete": true,
   "bibliofile": "biblio.bib",
   "cite_by": "apalike",
   "current_citInitial": 1,
   "eqLabelWithNumbers": true,
   "eqNumInitial": 1,
   "hotkeys": {
    "equation": "Ctrl-E",
    "itemize": "Ctrl-I"
   },
   "labels_anchors": false,
   "latex_user_defs": false,
   "report_style_numbering": false,
   "user_envs_cfg": false
  },
  "toc": {
   "base_numbering": 1,
   "nav_menu": {},
   "number_sections": true,
   "sideBar": true,
   "skip_h1_title": false,
   "title_cell": "Table of Contents",
   "title_sidebar": "Contents",
   "toc_cell": false,
   "toc_position": {
    "height": "calc(100% - 180px)",
    "left": "10px",
    "top": "150px",
    "width": "307.2px"
   },
   "toc_section_display": true,
   "toc_window_display": false
  },
  "varInspector": {
   "cols": {
    "lenName": 16,
    "lenType": 16,
    "lenVar": 40
   },
   "kernels_config": {
    "python": {
     "delete_cmd_postfix": "",
     "delete_cmd_prefix": "del ",
     "library": "var_list.py",
     "varRefreshCmd": "print(var_dic_list())"
    },
    "r": {
     "delete_cmd_postfix": ") ",
     "delete_cmd_prefix": "rm(",
     "library": "var_list.r",
     "varRefreshCmd": "cat(var_dic_list()) "
    }
   },
   "types_to_exclude": [
    "module",
    "function",
    "builtin_function_or_method",
    "instance",
    "_Feature"
   ],
   "window_display": false
  }
 },
 "nbformat": 4,
 "nbformat_minor": 2
}
